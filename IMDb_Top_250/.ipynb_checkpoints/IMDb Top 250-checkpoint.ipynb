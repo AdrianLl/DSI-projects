{
 "cells": [
  {
   "cell_type": "markdown",
   "metadata": {},
   "source": [
    "# IMDb: Top 250 Movies"
   ]
  },
  {
   "cell_type": "code",
   "execution_count": 1,
   "metadata": {
    "collapsed": false
   },
   "outputs": [],
   "source": [
    "from IPython.core.display import Image\n",
    "#from matplotlib.patches import Polygon\n",
    "from imdbpie import Imdb\n",
    "import pandas as pd\n",
    "from matplotlib import pyplot as plt\n",
    "from matplotlib import cm\n",
    "from matplotlib.colors import ColorConverter\n",
    "import matplotlib.patheffects as path_effects\n",
    "from scipy.stats import gaussian_kde\n",
    "import numpy as np\n",
    "import time\n",
    "import requests\n",
    "from bs4 import BeautifulSoup\n",
    "import cPickle\n",
    "import seaborn as sns\n",
    "import re\n",
    "from sklearn.feature_extraction.text import CountVectorizer\n",
    "from sklearn import preprocessing\n",
    "from sklearn.tree import DecisionTreeRegressor, DecisionTreeClassifier\n",
    "from sklearn.model_selection import KFold, cross_val_score, train_test_split\n",
    "from sklearn.ensemble import AdaBoostClassifier, GradientBoostingClassifier, \\\n",
    "    BaggingRegressor, ExtraTreesClassifier, ExtraTreesRegressor, AdaBoostRegressor, \\\n",
    "    GradientBoostingRegressor, RandomForestClassifier, RandomForestRegressor\n",
    "from sklearn.preprocessing import LabelEncoder, MinMaxScaler\n",
    "from sklearn.metrics import confusion_matrix, roc_curve, roc_auc_score, accuracy_score, \\\n",
    "    precision_score, recall_score\n",
    "import matplotlib.pyplot as plt\n",
    "from mpl_toolkits.axes_grid1 import make_axes_locatable\n",
    "\n",
    "% matplotlib inline"
   ]
  },
  {
   "cell_type": "code",
   "execution_count": 2,
   "metadata": {
    "collapsed": false
   },
   "outputs": [
    {
     "data": {
      "text/html": [
       "<img src=\"http://bit.ly/29OUgDA\" width=\"650\"/>"
      ],
      "text/plain": [
       "<IPython.core.display.Image object>"
      ]
     },
     "execution_count": 2,
     "metadata": {},
     "output_type": "execute_result"
    }
   ],
   "source": [
    "Image(url='http://bit.ly/29OUgDA', width = 650)"
   ]
  },
  {
   "cell_type": "markdown",
   "metadata": {},
   "source": [
    "In this notebook, we'll investigate which features are significant in predicting user rating of the top 250 movies on IMDb.  Any commented-out cells do not need to be run; any file pertaining to them will load in a subsequent cell."
   ]
  },
  {
   "cell_type": "markdown",
   "metadata": {},
   "source": [
    "Get Top 250 movies, save to file:"
   ]
  },
  {
   "cell_type": "code",
   "execution_count": 3,
   "metadata": {
    "collapsed": false
   },
   "outputs": [],
   "source": [
    "imdb = Imdb(anonymize = True, cache = True)\n",
    "# top = pd.DataFrame(imdb.top_250())\n",
    "# top.to_csv('../IMDb_Top_250/assets/top2.csv', index = False, encoding = 'utf-8')"
   ]
  },
  {
   "cell_type": "markdown",
   "metadata": {},
   "source": [
    "Load Top 250 movie data from file:"
   ]
  },
  {
   "cell_type": "code",
   "execution_count": 4,
   "metadata": {
    "collapsed": false
   },
   "outputs": [
    {
     "data": {
      "text/html": [
       "<div>\n",
       "<table border=\"1\" class=\"dataframe\">\n",
       "  <thead>\n",
       "    <tr style=\"text-align: right;\">\n",
       "      <th></th>\n",
       "      <th>can_rate</th>\n",
       "      <th>image</th>\n",
       "      <th>num_votes</th>\n",
       "      <th>rating</th>\n",
       "      <th>tconst</th>\n",
       "      <th>title</th>\n",
       "      <th>type</th>\n",
       "      <th>year</th>\n",
       "    </tr>\n",
       "  </thead>\n",
       "  <tbody>\n",
       "    <tr>\n",
       "      <th>0</th>\n",
       "      <td>True</td>\n",
       "      <td>{u'url': u'https://images-na.ssl-images-amazon...</td>\n",
       "      <td>1784975</td>\n",
       "      <td>9.3</td>\n",
       "      <td>tt0111161</td>\n",
       "      <td>The Shawshank Redemption</td>\n",
       "      <td>feature</td>\n",
       "      <td>1994</td>\n",
       "    </tr>\n",
       "  </tbody>\n",
       "</table>\n",
       "</div>"
      ],
      "text/plain": [
       "  can_rate                                              image  num_votes  \\\n",
       "0     True  {u'url': u'https://images-na.ssl-images-amazon...    1784975   \n",
       "\n",
       "   rating     tconst                     title     type  year  \n",
       "0     9.3  tt0111161  The Shawshank Redemption  feature  1994  "
      ]
     },
     "execution_count": 4,
     "metadata": {},
     "output_type": "execute_result"
    }
   ],
   "source": [
    "top = pd.read_csv('../IMDb_Top_250/assets/top2.csv')\n",
    "top.head(1)"
   ]
  },
  {
   "cell_type": "code",
   "execution_count": 5,
   "metadata": {
    "collapsed": false
   },
   "outputs": [
    {
     "data": {
      "text/plain": [
       "can_rate        bool\n",
       "image         object\n",
       "num_votes      int64\n",
       "rating       float64\n",
       "tconst        object\n",
       "title         object\n",
       "type          object\n",
       "year           int64\n",
       "dtype: object"
      ]
     },
     "execution_count": 5,
     "metadata": {},
     "output_type": "execute_result"
    }
   ],
   "source": [
    "top.dtypes"
   ]
  },
  {
   "cell_type": "code",
   "execution_count": 6,
   "metadata": {
    "collapsed": false
   },
   "outputs": [
    {
     "data": {
      "text/plain": [
       "True    250\n",
       "Name: can_rate, dtype: int64"
      ]
     },
     "execution_count": 6,
     "metadata": {},
     "output_type": "execute_result"
    }
   ],
   "source": [
    "top['can_rate'].value_counts()"
   ]
  },
  {
   "cell_type": "code",
   "execution_count": 7,
   "metadata": {
    "collapsed": true
   },
   "outputs": [],
   "source": [
    "top.drop('can_rate', axis = 1, inplace = True)"
   ]
  },
  {
   "cell_type": "code",
   "execution_count": 8,
   "metadata": {
    "collapsed": false
   },
   "outputs": [
    {
     "data": {
      "text/plain": [
       "\"{u'url': u'https://images-na.ssl-images-amazon.com/images/M/MV5BODU4MjU4NjIwNl5BMl5BanBnXkFtZTgwMDU2MjEyMDE@._V1_.jpg', u'width': 933, u'height': 1388}\""
      ]
     },
     "execution_count": 8,
     "metadata": {},
     "output_type": "execute_result"
    }
   ],
   "source": [
    "top['image'][0]"
   ]
  },
  {
   "cell_type": "code",
   "execution_count": 9,
   "metadata": {
    "collapsed": false
   },
   "outputs": [],
   "source": [
    "top.drop('image', axis = 1, inplace = True)"
   ]
  },
  {
   "cell_type": "code",
   "execution_count": 10,
   "metadata": {
    "collapsed": false
   },
   "outputs": [
    {
     "data": {
      "text/plain": [
       "feature    250\n",
       "Name: type, dtype: int64"
      ]
     },
     "execution_count": 10,
     "metadata": {},
     "output_type": "execute_result"
    }
   ],
   "source": [
    "top['type'].value_counts()"
   ]
  },
  {
   "cell_type": "code",
   "execution_count": 11,
   "metadata": {
    "collapsed": false
   },
   "outputs": [],
   "source": [
    "top.drop('type', axis = 1, inplace = True)"
   ]
  },
  {
   "cell_type": "code",
   "execution_count": 12,
   "metadata": {
    "collapsed": true
   },
   "outputs": [],
   "source": [
    "top['year'] = top['year'].astype('float')"
   ]
  },
  {
   "cell_type": "markdown",
   "metadata": {},
   "source": [
    "We need to keep 'tconst' for now in order to do further scraping."
   ]
  },
  {
   "cell_type": "markdown",
   "metadata": {},
   "source": [
    "Let's take a look at a histogram of year:"
   ]
  },
  {
   "cell_type": "code",
   "execution_count": 14,
   "metadata": {
    "collapsed": false
   },
   "outputs": [
    {
     "data": {
      "image/png": "[encoded data removed]",
      "text/plain": [
       "<matplotlib.figure.Figure at 0x11869a150>"
      ]
     },
     "metadata": {},
     "output_type": "display_data"
    }
   ],
   "source": [
    "plt.figure(figsize=(12,8))\n",
    "plt.style.use('fivethirtyeight')\n",
    "\n",
    "df_hist = plt.hist(top['year'], color = 'yellowgreen', alpha = 0.5, bins = 95)\n",
    "plt.axvline(top['year'].mean(), color='g', linestyle='dashed', linewidth = 2, label = 'mean')\n",
    "plt.axvline(top['year'].median(), color='dodgerblue', linestyle='dashed', linewidth = 2, \\\n",
    "            label = 'median')\n",
    "plt.axvline(2017, color='black', linestyle = ':', linewidth = 2, label = '2017')\n",
    "plt.axhline(0, color='black')\n",
    "plt.title('IMDb Top 250: Release Year', fontsize = 24, y = 1.03)\n",
    "\n",
    "# y label\n",
    "plt.ylabel('Frequency', fontsize = 18)\n",
    "plt.yticks(range(0, 11, 1), fontsize = 13)\n",
    "\n",
    "# x label\n",
    "plt.xlabel('Year', fontsize = 18)\n",
    "plt.xticks(range(1920, 2017, 5), fontsize = 13, rotation = -90)\n",
    "\n",
    "plt.xlim([min(top['year']) - 1.3, max(top['year']) + 1])\n",
    "plt.ylim([0, 10.04])\n",
    "\n",
    "density = gaussian_kde(top.loc[top['year'] <= 2016, 'year'])\n",
    "xs = np.linspace(top['year'].min(), top['year'].max(), 1000)\n",
    "density.covariance_factor = lambda : 0.25\n",
    "density._compute_covariance()\n",
    "plt.plot(xs, density(xs)*1000/4, linewidth = 2.5, label = 'Gaussian KDE', \\\n",
    "         color = 'darkgreen', alpha = 0.6)\n",
    "\n",
    "plt.legend(loc='best', fontsize = 14)\n",
    "\n",
    "plt.grid(which = 'major', axis = 'x')\n",
    "\n",
    "plt.show()"
   ]
  },
  {
   "cell_type": "code",
   "execution_count": 18,
   "metadata": {
    "collapsed": false
   },
   "outputs": [
    {
     "data": {
      "image/png": "[encoded data removed]",
      "text/plain": [
       "<matplotlib.figure.Figure at 0x1192b9bd0>"
      ]
     },
     "metadata": {},
     "output_type": "display_data"
    }
   ],
   "source": [
    "plt.figure(figsize=(12,8))\n",
    "plt.style.use('fivethirtyeight')\n",
    "\n",
    "df_hist = plt.hist(top['num_votes']/100000, color = 'thistle', alpha = 0.5, bins = 20)\n",
    "plt.axvline(top['num_votes'].median()/100000, color='b', linestyle='dashed', linewidth = 2, \\\n",
    "            label = 'median')\n",
    "plt.axvline(top['num_votes'].mean()/100000, color='g', linestyle='dashed', linewidth = 2, \\\n",
    "            label = 'mean')\n",
    "plt.axhline(0, color='black')\n",
    "plt.title('IMDb Top 250: Number of Votes', fontsize = 24, y = 1.03)\n",
    "\n",
    "# y label\n",
    "plt.ylabel('Count', fontsize = 18)\n",
    "plt.yticks(range(0, 65, 5), fontsize = 13)\n",
    "plt.ylim([0, 60.5])\n",
    "\n",
    "# x label\n",
    "plt.xlabel('Number of Votes (x100,000)', fontsize = 18)\n",
    "plt.xticks(range(0, 22, 2), fontsize = 13)\n",
    "\n",
    "plt.xlim([min(top['num_votes']/100000), max(top['num_votes']/100000) + 4])\n",
    "\n",
    "\n",
    "density = gaussian_kde(top['num_votes']/100000)\n",
    "xs = np.linspace(top['num_votes'].min()/100000, top['num_votes'].max()/100000 + 10, 1000)\n",
    "density.covariance_factor = lambda : 0.25\n",
    "density._compute_covariance()\n",
    "plt.plot(xs, density(xs)*1000/4.5, linewidth = 2.5, label = 'Gaussian KDE', \\\n",
    "         color = 'purple', alpha = 0.6)\n",
    "\n",
    "plt.legend(loc='best', fontsize = 14)\n",
    "\n",
    "plt.grid(which = 'major', axis = 'x')\n",
    "\n",
    "plt.show()"
   ]
  },
  {
   "cell_type": "markdown",
   "metadata": {},
   "source": [
    "Looks like there are four peaks, increasingly smaller to the right; something like movies that made the list, strong movies, exceptional movies, blockbuster hits?"
   ]
  },
  {
   "cell_type": "markdown",
   "metadata": {},
   "source": [
    "Which movies have more than a million votes?  Hmmmm, seems unlikely the movie with the most votes would be index 0 in the list by accident..."
   ]
  },
  {
   "cell_type": "code",
   "execution_count": 23,
   "metadata": {
    "collapsed": false
   },
   "outputs": [
    {
     "data": {
      "text/html": [
       "<div>\n",
       "<table border=\"1\" class=\"dataframe\">\n",
       "  <thead>\n",
       "    <tr style=\"text-align: right;\">\n",
       "      <th></th>\n",
       "      <th>title</th>\n",
       "      <th>year</th>\n",
       "      <th>num_votes</th>\n",
       "    </tr>\n",
       "  </thead>\n",
       "  <tbody>\n",
       "    <tr>\n",
       "      <th>31</th>\n",
       "      <td>Interstellar</td>\n",
       "      <td>2014.0</td>\n",
       "      <td>1022434</td>\n",
       "    </tr>\n",
       "    <tr>\n",
       "      <th>63</th>\n",
       "      <td>The Dark Knight Rises</td>\n",
       "      <td>2012.0</td>\n",
       "      <td>1205523</td>\n",
       "    </tr>\n",
       "    <tr>\n",
       "      <th>59</th>\n",
       "      <td>Django Unchained</td>\n",
       "      <td>2012.0</td>\n",
       "      <td>1020732</td>\n",
       "    </tr>\n",
       "    <tr>\n",
       "      <th>13</th>\n",
       "      <td>Inception</td>\n",
       "      <td>2010.0</td>\n",
       "      <td>1557774</td>\n",
       "    </tr>\n",
       "    <tr>\n",
       "      <th>3</th>\n",
       "      <td>The Dark Knight</td>\n",
       "      <td>2008.0</td>\n",
       "      <td>1765858</td>\n",
       "    </tr>\n",
       "    <tr>\n",
       "      <th>114</th>\n",
       "      <td>Batman Begins</td>\n",
       "      <td>2005.0</td>\n",
       "      <td>1033875</td>\n",
       "    </tr>\n",
       "    <tr>\n",
       "      <th>7</th>\n",
       "      <td>The Lord of the Rings: The Return of the King</td>\n",
       "      <td>2003.0</td>\n",
       "      <td>1280900</td>\n",
       "    </tr>\n",
       "    <tr>\n",
       "      <th>14</th>\n",
       "      <td>The Lord of the Rings: The Two Towers</td>\n",
       "      <td>2002.0</td>\n",
       "      <td>1160627</td>\n",
       "    </tr>\n",
       "    <tr>\n",
       "      <th>10</th>\n",
       "      <td>The Lord of the Rings: The Fellowship of the Ring</td>\n",
       "      <td>2001.0</td>\n",
       "      <td>1302549</td>\n",
       "    </tr>\n",
       "    <tr>\n",
       "      <th>45</th>\n",
       "      <td>Gladiator</td>\n",
       "      <td>2000.0</td>\n",
       "      <td>1037920</td>\n",
       "    </tr>\n",
       "    <tr>\n",
       "      <th>17</th>\n",
       "      <td>The Matrix</td>\n",
       "      <td>1999.0</td>\n",
       "      <td>1284913</td>\n",
       "    </tr>\n",
       "    <tr>\n",
       "      <th>9</th>\n",
       "      <td>Fight Club</td>\n",
       "      <td>1999.0</td>\n",
       "      <td>1427582</td>\n",
       "    </tr>\n",
       "    <tr>\n",
       "      <th>21</th>\n",
       "      <td>Se7en</td>\n",
       "      <td>1995.0</td>\n",
       "      <td>1085435</td>\n",
       "    </tr>\n",
       "    <tr>\n",
       "      <th>12</th>\n",
       "      <td>Forrest Gump</td>\n",
       "      <td>1994.0</td>\n",
       "      <td>1334976</td>\n",
       "    </tr>\n",
       "    <tr>\n",
       "      <th>6</th>\n",
       "      <td>Pulp Fiction</td>\n",
       "      <td>1994.0</td>\n",
       "      <td>1397084</td>\n",
       "    </tr>\n",
       "    <tr>\n",
       "      <th>0</th>\n",
       "      <td>The Shawshank Redemption</td>\n",
       "      <td>1994.0</td>\n",
       "      <td>1784975</td>\n",
       "    </tr>\n",
       "    <tr>\n",
       "      <th>1</th>\n",
       "      <td>The Godfather</td>\n",
       "      <td>1972.0</td>\n",
       "      <td>1218434</td>\n",
       "    </tr>\n",
       "  </tbody>\n",
       "</table>\n",
       "</div>"
      ],
      "text/plain": [
       "                                                 title    year  num_votes\n",
       "31                                        Interstellar  2014.0    1022434\n",
       "63                               The Dark Knight Rises  2012.0    1205523\n",
       "59                                    Django Unchained  2012.0    1020732\n",
       "13                                           Inception  2010.0    1557774\n",
       "3                                      The Dark Knight  2008.0    1765858\n",
       "114                                      Batman Begins  2005.0    1033875\n",
       "7        The Lord of the Rings: The Return of the King  2003.0    1280900\n",
       "14               The Lord of the Rings: The Two Towers  2002.0    1160627\n",
       "10   The Lord of the Rings: The Fellowship of the Ring  2001.0    1302549\n",
       "45                                           Gladiator  2000.0    1037920\n",
       "17                                          The Matrix  1999.0    1284913\n",
       "9                                           Fight Club  1999.0    1427582\n",
       "21                                               Se7en  1995.0    1085435\n",
       "12                                        Forrest Gump  1994.0    1334976\n",
       "6                                         Pulp Fiction  1994.0    1397084\n",
       "0                             The Shawshank Redemption  1994.0    1784975\n",
       "1                                        The Godfather  1972.0    1218434"
      ]
     },
     "execution_count": 23,
     "metadata": {},
     "output_type": "execute_result"
    }
   ],
   "source": [
    "top[top['num_votes'] > 1000000][['title', 'year', 'num_votes']].\\\n",
    "sort_values(by = 'year', ascending = False)"
   ]
  },
  {
   "cell_type": "code",
   "execution_count": 24,
   "metadata": {
    "collapsed": false
   },
   "outputs": [
    {
     "data": {
      "image/png": "[encoded data removed]",
      "text/plain": [
       "<matplotlib.figure.Figure at 0x117cfe690>"
      ]
     },
     "metadata": {},
     "output_type": "display_data"
    }
   ],
   "source": [
    "plt.figure(figsize=(12,8))\n",
    "plt.style.use('fivethirtyeight')\n",
    "\n",
    "ratings = pd.DataFrame(top['rating'].value_counts())\n",
    "ratings.sort_index(inplace = True)\n",
    "ratings['rating'].plot.bar(color = 'dodgerblue', alpha = 0.8)\n",
    "\n",
    "plt.axhline(0, color='black', alpha = 0.6, linewidth = 1)\n",
    "plt.title('IMDb Top 250: User Rating', fontsize = 24, y = 1.03)\n",
    "\n",
    "# y label\n",
    "plt.yticks(range(0, 85, 10), fontsize = 13)\n",
    "plt.ylabel('Frequency', fontsize = 18)\n",
    "\n",
    "# x label\n",
    "plt.xticks(rotation = 0, fontsize = 13)\n",
    "plt.xlabel('Rating (out of 10)', fontsize = 18)\n",
    "\n",
    "#plt.xlim([min(top['rating']), 10])\n",
    "plt.ylim([-1, 61])\n",
    "\n",
    "plt.grid(which = 'major', axis = 'x')\n",
    "\n",
    "plt.show()"
   ]
  },
  {
   "cell_type": "markdown",
   "metadata": {},
   "source": [
    "This looks like a normal distribution cut off near the mean; the 8.0-rated movies are likely underrepresented with respect to overall distribution because they are filling out the bottom of the list."
   ]
  },
  {
   "cell_type": "markdown",
   "metadata": {},
   "source": [
    "Is index number random?  Very clearly not, from this plot of index number vs. user rating: "
   ]
  },
  {
   "cell_type": "code",
   "execution_count": 25,
   "metadata": {
    "collapsed": true
   },
   "outputs": [],
   "source": [
    "def rand_jitter(arr):\n",
    "    displacement = .003*(max(arr)-min(arr))\n",
    "    return arr + np.random.randn(len(arr)) * displacement"
   ]
  },
  {
   "cell_type": "markdown",
   "metadata": {},
   "source": [
    "(jitter assistance from [here](http://stackoverflow.com/questions/8671808/matplotlib-avoiding-overlapping-datapoints-in-a-scatter-dot-beeswarm-plot))"
   ]
  },
  {
   "cell_type": "code",
   "execution_count": 26,
   "metadata": {
    "collapsed": false
   },
   "outputs": [
    {
     "data": {
      "image/png": "[encoded data removed]",
      "text/plain": [
       "<matplotlib.figure.Figure at 0x119227110>"
      ]
     },
     "metadata": {},
     "output_type": "display_data"
    }
   ],
   "source": [
    "plt.figure(figsize=(12,8))\n",
    "plt.style.use('fivethirtyeight')\n",
    "\n",
    "ax = plt.subplot(111)\n",
    "im = plt.scatter(rand_jitter(top.index), rand_jitter(top['rating']), \\\n",
    "                c = top['year'], cmap = 'seismic', s = 40, alpha = 0.8)\n",
    "\n",
    "plt.title('IMDb Top 250: User Rating vs Movie Index Number', fontsize = 24, y = 1.03)\n",
    "\n",
    "# y label\n",
    "plt.ylabel('User Rating (out of 10)', fontsize = 20)\n",
    "plt.yticks(np.arange(8.0, 9.4, 0.1), fontsize = 12)\n",
    "plt.ylim([7.95, 9.35])\n",
    "\n",
    "# x label\n",
    "plt.xlabel('Index', fontsize = 20)\n",
    "plt.xticks(range(0, 275, 25), fontsize = 12)\n",
    "plt.xlim([-2, 251])\n",
    "\n",
    "divider = make_axes_locatable(ax)\n",
    "cax = divider.append_axes(\"right\", size=\"3.5%\", pad=0.25, alpha = 0.8)\n",
    "plt.colorbar(im, cax=cax)\n",
    "\n",
    "plt.show()"
   ]
  },
  {
   "cell_type": "markdown",
   "metadata": {},
   "source": [
    "What's up with those outliers?  Looks like it should be slightly-overlapping steps moving downward in negative direction from index 0 to 249.  We'll consider taking these out of the data set because they are clearly exceptions to the general trend of user rating being negatively correlated with index number.  Let's look at some boxplots:"
   ]
  },
  {
   "cell_type": "code",
   "execution_count": 27,
   "metadata": {
    "collapsed": false
   },
   "outputs": [
    {
     "data": {
      "image/png": "[encoded data removed]",
      "text/plain": [
       "<matplotlib.figure.Figure at 0x1198bb150>"
      ]
     },
     "metadata": {},
     "output_type": "display_data"
    }
   ],
   "source": [
    "data = []\n",
    "for i in np.arange(8.0, 9.4, 0.1):\n",
    "    m = round(i, 2)\n",
    "    data.append(top[top['rating'] == m].index)\n",
    "    \n",
    "plt.style.use('fivethirtyeight')\n",
    "fig, ax1 = plt.subplots(figsize=(12, 8))\n",
    "\n",
    "plt.boxplot(data, 0, 'gD')\n",
    "\n",
    "ax1.yaxis.grid(True, linestyle='-', which='major', color='lightgrey',\n",
    "               alpha=0.5)\n",
    "\n",
    "ax1.set_axisbelow(True)\n",
    "ax1.set_title('IMDb Top 250: Movie Index by User Rating', y =1.03, fontsize = 24)\n",
    "ax1.set_xlabel('User Rating', fontsize = 20)\n",
    "ax1.set_ylabel('Index Number', fontsize = 20)\n",
    "\n",
    "# Set the axes ranges and axes labels\n",
    "numBoxes = len(np.arange(8.0, 9.4, 0.1))\n",
    "ax1.set_xlim(0.5, numBoxes + 0.5)\n",
    "ax1.set_ylim(0, 251)\n",
    "xtickNames = plt.setp(ax1, xticklabels = np.arange(8.0, 9.3, 0.1))\n",
    "plt.setp(xtickNames, fontsize=16)\n",
    "ytickNames = plt.setp(ax1, yticklabels=range(0, 300, 50))\n",
    "plt.setp(ytickNames, fontsize=12)\n",
    "\n",
    "plt.axhline(0, color='black', alpha = 0.5)\n",
    "plt.axhline(250, color='black', alpha = 0.5, linewidth = 1)\n",
    "\n",
    "plt.show()"
   ]
  },
  {
   "cell_type": "markdown",
   "metadata": {},
   "source": [
    "Which movies are the outliers? "
   ]
  },
  {
   "cell_type": "code",
   "execution_count": 28,
   "metadata": {
    "collapsed": false
   },
   "outputs": [
    {
     "data": {
      "text/html": [
       "<div>\n",
       "<table border=\"1\" class=\"dataframe\">\n",
       "  <thead>\n",
       "    <tr style=\"text-align: right;\">\n",
       "      <th></th>\n",
       "      <th>title</th>\n",
       "      <th>rating</th>\n",
       "      <th>num_votes</th>\n",
       "      <th>year</th>\n",
       "    </tr>\n",
       "  </thead>\n",
       "  <tbody>\n",
       "    <tr>\n",
       "      <th>90</th>\n",
       "      <td>Dangal</td>\n",
       "      <td>8.9</td>\n",
       "      <td>39153</td>\n",
       "      <td>2016.0</td>\n",
       "    </tr>\n",
       "  </tbody>\n",
       "</table>\n",
       "</div>"
      ],
      "text/plain": [
       "     title  rating  num_votes    year\n",
       "90  Dangal     8.9      39153  2016.0"
      ]
     },
     "execution_count": 28,
     "metadata": {},
     "output_type": "execute_result"
    }
   ],
   "source": [
    "top[(top['rating'] == 8.9) & (top.index > 50)][['title', 'rating', 'num_votes', 'year']]"
   ]
  },
  {
   "cell_type": "code",
   "execution_count": 29,
   "metadata": {
    "collapsed": false
   },
   "outputs": [
    {
     "data": {
      "text/html": [
       "<div>\n",
       "<table border=\"1\" class=\"dataframe\">\n",
       "  <thead>\n",
       "    <tr style=\"text-align: right;\">\n",
       "      <th></th>\n",
       "      <th>title</th>\n",
       "      <th>rating</th>\n",
       "      <th>num_votes</th>\n",
       "      <th>year</th>\n",
       "    </tr>\n",
       "  </thead>\n",
       "  <tbody>\n",
       "    <tr>\n",
       "      <th>49</th>\n",
       "      <td>Logan</td>\n",
       "      <td>8.6</td>\n",
       "      <td>143530</td>\n",
       "      <td>2017.0</td>\n",
       "    </tr>\n",
       "    <tr>\n",
       "      <th>96</th>\n",
       "      <td>My Father and My Son</td>\n",
       "      <td>8.6</td>\n",
       "      <td>43654</td>\n",
       "      <td>2005.0</td>\n",
       "    </tr>\n",
       "  </tbody>\n",
       "</table>\n",
       "</div>"
      ],
      "text/plain": [
       "                   title  rating  num_votes    year\n",
       "49                 Logan     8.6     143530  2017.0\n",
       "96  My Father and My Son     8.6      43654  2005.0"
      ]
     },
     "execution_count": 29,
     "metadata": {},
     "output_type": "execute_result"
    }
   ],
   "source": [
    "top[(top['rating'] == 8.6) & (top.index > 45)][['title', 'rating', 'num_votes', 'year']]"
   ]
  },
  {
   "cell_type": "code",
   "execution_count": 30,
   "metadata": {
    "collapsed": false
   },
   "outputs": [
    {
     "data": {
      "text/html": [
       "<div>\n",
       "<table border=\"1\" class=\"dataframe\">\n",
       "  <thead>\n",
       "    <tr style=\"text-align: right;\">\n",
       "      <th></th>\n",
       "      <th>title</th>\n",
       "      <th>rating</th>\n",
       "      <th>num_votes</th>\n",
       "      <th>year</th>\n",
       "    </tr>\n",
       "  </thead>\n",
       "  <tbody>\n",
       "    <tr>\n",
       "      <th>150</th>\n",
       "      <td>The Bandit</td>\n",
       "      <td>8.5</td>\n",
       "      <td>39401</td>\n",
       "      <td>1996.0</td>\n",
       "    </tr>\n",
       "  </tbody>\n",
       "</table>\n",
       "</div>"
      ],
      "text/plain": [
       "          title  rating  num_votes    year\n",
       "150  The Bandit     8.5      39401  1996.0"
      ]
     },
     "execution_count": 30,
     "metadata": {},
     "output_type": "execute_result"
    }
   ],
   "source": [
    "top[(top['rating'] == 8.5) & (top.index > 100)][['title', 'rating', 'num_votes', 'year']]"
   ]
  },
  {
   "cell_type": "code",
   "execution_count": 31,
   "metadata": {
    "collapsed": false
   },
   "outputs": [
    {
     "data": {
      "text/html": [
       "<div>\n",
       "<table border=\"1\" class=\"dataframe\">\n",
       "  <thead>\n",
       "    <tr style=\"text-align: right;\">\n",
       "      <th></th>\n",
       "      <th>title</th>\n",
       "      <th>year</th>\n",
       "      <th>rating</th>\n",
       "    </tr>\n",
       "  </thead>\n",
       "  <tbody>\n",
       "    <tr>\n",
       "      <th>156</th>\n",
       "      <td>A Wednesday</td>\n",
       "      <td>2008.0</td>\n",
       "      <td>8.4</td>\n",
       "    </tr>\n",
       "    <tr>\n",
       "      <th>188</th>\n",
       "      <td>Sholay</td>\n",
       "      <td>1975.0</td>\n",
       "      <td>8.4</td>\n",
       "    </tr>\n",
       "    <tr>\n",
       "      <th>205</th>\n",
       "      <td>Andaz Apna Apna</td>\n",
       "      <td>1994.0</td>\n",
       "      <td>8.4</td>\n",
       "    </tr>\n",
       "    <tr>\n",
       "      <th>234</th>\n",
       "      <td>Drishyam</td>\n",
       "      <td>2015.0</td>\n",
       "      <td>8.4</td>\n",
       "    </tr>\n",
       "  </tbody>\n",
       "</table>\n",
       "</div>"
      ],
      "text/plain": [
       "               title    year  rating\n",
       "156      A Wednesday  2008.0     8.4\n",
       "188           Sholay  1975.0     8.4\n",
       "205  Andaz Apna Apna  1994.0     8.4\n",
       "234         Drishyam  2015.0     8.4"
      ]
     },
     "execution_count": 31,
     "metadata": {},
     "output_type": "execute_result"
    }
   ],
   "source": [
    "top[(top['rating'] == 8.4) & (top.index > 150)][['title', 'year', 'rating']] "
   ]
  },
  {
   "cell_type": "code",
   "execution_count": 32,
   "metadata": {
    "collapsed": false
   },
   "outputs": [
    {
     "data": {
      "text/html": [
       "<div>\n",
       "<table border=\"1\" class=\"dataframe\">\n",
       "  <thead>\n",
       "    <tr style=\"text-align: right;\">\n",
       "      <th></th>\n",
       "      <th>title</th>\n",
       "      <th>year</th>\n",
       "      <th>rating</th>\n",
       "    </tr>\n",
       "  </thead>\n",
       "  <tbody>\n",
       "    <tr>\n",
       "      <th>179</th>\n",
       "      <td>Come and See</td>\n",
       "      <td>1985.0</td>\n",
       "      <td>8.3</td>\n",
       "    </tr>\n",
       "    <tr>\n",
       "      <th>182</th>\n",
       "      <td>Munna Bhai M.B.B.S.</td>\n",
       "      <td>2003.0</td>\n",
       "      <td>8.3</td>\n",
       "    </tr>\n",
       "    <tr>\n",
       "      <th>191</th>\n",
       "      <td>Hera Pheri</td>\n",
       "      <td>2000.0</td>\n",
       "      <td>8.3</td>\n",
       "    </tr>\n",
       "    <tr>\n",
       "      <th>238</th>\n",
       "      <td>The Message</td>\n",
       "      <td>1976.0</td>\n",
       "      <td>8.3</td>\n",
       "    </tr>\n",
       "    <tr>\n",
       "      <th>244</th>\n",
       "      <td>Gangs of Wasseypur</td>\n",
       "      <td>2012.0</td>\n",
       "      <td>8.3</td>\n",
       "    </tr>\n",
       "  </tbody>\n",
       "</table>\n",
       "</div>"
      ],
      "text/plain": [
       "                   title    year  rating\n",
       "179         Come and See  1985.0     8.3\n",
       "182  Munna Bhai M.B.B.S.  2003.0     8.3\n",
       "191           Hera Pheri  2000.0     8.3\n",
       "238          The Message  1976.0     8.3\n",
       "244   Gangs of Wasseypur  2012.0     8.3"
      ]
     },
     "execution_count": 32,
     "metadata": {},
     "output_type": "execute_result"
    }
   ],
   "source": [
    "top[(top['rating'] == 8.3) & (top.index > 170)][['title', 'year', 'rating']]"
   ]
  },
  {
   "cell_type": "code",
   "execution_count": 33,
   "metadata": {
    "collapsed": false
   },
   "outputs": [
    {
     "data": {
      "text/html": [
       "<div>\n",
       "<table border=\"1\" class=\"dataframe\">\n",
       "  <thead>\n",
       "    <tr style=\"text-align: right;\">\n",
       "      <th></th>\n",
       "      <th>title</th>\n",
       "      <th>year</th>\n",
       "      <th>rating</th>\n",
       "    </tr>\n",
       "  </thead>\n",
       "  <tbody>\n",
       "    <tr>\n",
       "      <th>248</th>\n",
       "      <td>Lagaan: Once Upon a Time in India</td>\n",
       "      <td>2001.0</td>\n",
       "      <td>8.2</td>\n",
       "    </tr>\n",
       "  </tbody>\n",
       "</table>\n",
       "</div>"
      ],
      "text/plain": [
       "                                 title    year  rating\n",
       "248  Lagaan: Once Upon a Time in India  2001.0     8.2"
      ]
     },
     "execution_count": 33,
     "metadata": {},
     "output_type": "execute_result"
    }
   ],
   "source": [
    "top[(top['rating'] == 8.2) & (top.index > 200)][['title', 'year', 'rating']].tail(1)"
   ]
  },
  {
   "cell_type": "markdown",
   "metadata": {
    "collapsed": false
   },
   "source": [
    "Just eyeballing, these seem to be mostly foreign.  For each rating, we'll remove any that are more than 1.5 standard deviations away from their respective mean.  "
   ]
  },
  {
   "cell_type": "code",
   "execution_count": 40,
   "metadata": {
    "collapsed": false
   },
   "outputs": [],
   "source": [
    "data = []\n",
    "clean_top = pd.DataFrame(columns = top.columns)\n",
    "for i in np.arange(8.0, 9.4, 0.1):\n",
    "    m = round(i, 2)\n",
    "    numbers = top[top['rating'] == m].index\n",
    "    if len(numbers) == 0:\n",
    "        pass\n",
    "    else:\n",
    "        mean = np.mean(numbers)\n",
    "        std = np.std(numbers)\n",
    "        lil_datum = [x for x in numbers if (abs(x - mean) <= 1.5*std)]\n",
    "        data.append(lil_datum)\n",
    "        clean_top = pd.concat([clean_top, top.ix[lil_datum, :]], axis = 0)"
   ]
  },
  {
   "cell_type": "code",
   "execution_count": 44,
   "metadata": {
    "collapsed": false
   },
   "outputs": [
    {
     "data": {
      "text/plain": [
       "0.908"
      ]
     },
     "execution_count": 44,
     "metadata": {},
     "output_type": "execute_result"
    }
   ],
   "source": [
    "len(clean_top)/float(len(top))"
   ]
  },
  {
   "cell_type": "markdown",
   "metadata": {},
   "source": [
    "We still have about 91% of observations left after cleaning outliers."
   ]
  },
  {
   "cell_type": "code",
   "execution_count": 45,
   "metadata": {
    "collapsed": false
   },
   "outputs": [
    {
     "data": {
      "image/png": "[encoded data removed]",
      "text/plain": [
       "<matplotlib.figure.Figure at 0x119a13fd0>"
      ]
     },
     "metadata": {},
     "output_type": "display_data"
    }
   ],
   "source": [
    "data = []\n",
    "for i in np.arange(8.0, 9.4, 0.1):\n",
    "    m = round(i, 2)\n",
    "    data.append(clean_top[clean_top['rating'] == m].index)\n",
    "    \n",
    "plt.style.use('fivethirtyeight')\n",
    "fig, ax1 = plt.subplots(figsize=(12, 8))\n",
    "\n",
    "plt.boxplot(data, 0, 'gD')\n",
    "\n",
    "ax1.yaxis.grid(True, linestyle='-', which='major', color='lightgrey',\n",
    "               alpha=0.5)\n",
    "\n",
    "ax1.set_axisbelow(True)\n",
    "ax1.set_title('IMDb Top 250: Movie Index by User Rating', y =1.03, fontsize = 24)\n",
    "ax1.set_xlabel('User Rating', fontsize = 20)\n",
    "ax1.set_ylabel('Index Number', fontsize = 20)\n",
    "\n",
    "# Set the axes ranges and axes labels\n",
    "numBoxes = len(np.arange(8.0, 9.4, 0.1))\n",
    "ax1.set_xlim(0.5, numBoxes + 0.5)\n",
    "ax1.set_ylim(0, 251)\n",
    "xtickNames = plt.setp(ax1, xticklabels = np.arange(8.0, 9.3, 0.1))\n",
    "plt.setp(xtickNames, fontsize=16)\n",
    "ytickNames = plt.setp(ax1, yticklabels=range(0, 300, 50))\n",
    "plt.setp(ytickNames, fontsize=12)\n",
    "\n",
    "plt.axhline(0, color='black', alpha = 0.5)\n",
    "plt.axhline(250, color='black', alpha = 0.5, linewidth = 1)\n",
    "\n",
    "plt.show()"
   ]
  },
  {
   "cell_type": "markdown",
   "metadata": {},
   "source": [
    "#### Create list of areas proportionate to each movie's user rating:"
   ]
  },
  {
   "cell_type": "code",
   "execution_count": 85,
   "metadata": {
    "collapsed": false
   },
   "outputs": [],
   "source": [
    "clean_top['rating_area'] = MinMaxScaler([30, 300]).fit_transform(clean_top['rating'].reshape(-1,1))"
   ]
  },
  {
   "cell_type": "markdown",
   "metadata": {
    "collapsed": false
   },
   "source": [
    "#### Create list of areas proportionate to each movie's year of release:"
   ]
  },
  {
   "cell_type": "code",
   "execution_count": 98,
   "metadata": {
    "collapsed": false
   },
   "outputs": [],
   "source": [
    "clean_top['year_area'] = MinMaxScaler([30, 300]).fit_transform(clean_top['year'].reshape(-1,1))"
   ]
  },
  {
   "cell_type": "code",
   "execution_count": null,
   "metadata": {
    "collapsed": true
   },
   "outputs": [],
   "source": []
  },
  {
   "cell_type": "markdown",
   "metadata": {},
   "source": [
    "The plot below suggests that the more votes a movie has, the higher its rating will be.  We see that older movies tend to have fewer votes.  Also, the spread in older movies' ratings is smaller and the average rating appears lower. "
   ]
  },
  {
   "cell_type": "code",
   "execution_count": 59,
   "metadata": {
    "collapsed": false
   },
   "outputs": [
    {
     "data": {
      "image/png": "[encoded data removed]",
      "text/plain": [
       "<matplotlib.figure.Figure at 0x117ba5d90>"
      ]
     },
     "metadata": {},
     "output_type": "display_data"
    }
   ],
   "source": [
    "plt.figure(figsize=(12,8))\n",
    "plt.style.use('fivethirtyeight')\n",
    "\n",
    "plt.scatter(clean_top['num_votes']/1000000, rand_jitter(clean_top['rating']), \\\n",
    "            c = clean_top['year'], cmap = 'seismic', alpha = 0.8, s = 60)\n",
    "\n",
    "\n",
    "plt.title('IMDb Top 250: User Rating by Number of Votes', fontsize = 24, y = 1.03)\n",
    "plt.axhline(0, color='darkblue', alpha = 0.5)\n",
    "# y label\n",
    "plt.ylabel('Rating (out of 10)', fontsize = 18)\n",
    "plt.yticks(np.arange(7.9, 9.5, 0.1), fontsize = 13)\n",
    "\n",
    "# x label\n",
    "plt.xlabel('Number of Votes (x1 million)', fontsize = 18)\n",
    "plt.xticks(np.arange(0.0, 1.61, 0.1), fontsize = 13)\n",
    "\n",
    "# set the figure boundaries\n",
    "plt.xlim([-0.05, 1.61])\n",
    "plt.ylim([7.89, 9.407])\n",
    "plt.grid(True)\n",
    "\n",
    "plt.annotate('*points are jittered', (1,0), (-100, -25), \\\n",
    "             xycoords='axes fraction', textcoords='offset points', va='top', fontsize = 12)\n",
    "\n",
    "img = plt.imshow(np.array([[1920,2017]]), cmap=\"seismic\", alpha = 0.8)\n",
    "img.set_visible(False)\n",
    "plt.colorbar()\n",
    "\n",
    "plt.show()"
   ]
  },
  {
   "cell_type": "markdown",
   "metadata": {},
   "source": [
    "Let's use an API to get whatever else we can:"
   ]
  },
  {
   "cell_type": "code",
   "execution_count": 65,
   "metadata": {
    "collapsed": false
   },
   "outputs": [
    {
     "name": "stdout",
     "output_type": "stream",
     "text": [
      " . . . . . . . . . . . . . . . . . . . . . . .\n"
     ]
    }
   ],
   "source": [
    "certification = []\n",
    "count = 0\n",
    "for movie in clean_top['tconst']:\n",
    "    #time.sleep(0.25)\n",
    "    try:\n",
    "        title = imdb.get_title_by_id(movie)\n",
    "        cert = title.certification\n",
    "        certification.append(cert)\n",
    "    except:\n",
    "        certification.append(None)\n",
    "    if count%10 == 0:\n",
    "        print '.',\n",
    "    count += 1\n",
    "\n",
    "clean_top['cert'] = certification\n",
    "clean_top.to_csv('../IMDb_Top_250/assets/with_cert.csv', index = False, encoding = 'utf-8')"
   ]
  },
  {
   "cell_type": "code",
   "execution_count": 66,
   "metadata": {
    "collapsed": false
   },
   "outputs": [
    {
     "data": {
      "text/plain": [
       "R            85\n",
       "PG           29\n",
       "PG-13        25\n",
       "Not Rated    23\n",
       "Approved     20\n",
       "Unrated      11\n",
       "TV-PG         9\n",
       "G             8\n",
       "TV-14         6\n",
       "TV-MA         4\n",
       "Passed        4\n",
       "M             1\n",
       "TV-G          1\n",
       "E             1\n",
       "Name: cert, dtype: int64"
      ]
     },
     "execution_count": 66,
     "metadata": {},
     "output_type": "execute_result"
    }
   ],
   "source": [
    "clean_top = pd.read_csv('../IMDb_Top_250/assets/with_cert.csv')\n",
    "\n",
    "clean_top['cert'].value_counts()"
   ]
  },
  {
   "cell_type": "markdown",
   "metadata": {
    "collapsed": true
   },
   "source": [
    "Let's consolidate. "
   ]
  },
  {
   "cell_type": "code",
   "execution_count": 76,
   "metadata": {
    "collapsed": false
   },
   "outputs": [],
   "source": [
    "cert_dict = {\n",
    "    'Casablanca' : 'PG',\n",
    "    'All About Eve' : 'Approved',\n",
    "    'The Treasure of the Sierra Madre' : 'Not Rated',\n",
    "    'Howl\\'s Moving Castle' : 'PG',\n",
    "    'Gone with the Wind' : 'G',\n",
    "    'Ben-Hur' : 'G',\n",
    "    'The Maltese Falcon' : 'Approved',\n",
    "    'Monsters, Inc.' : 'G',\n",
    "    'Strangers on a Train' : 'PG',\n",
    "    'American History X' : 'R',\n",
    "    'Terminator 2: Judgment Day' : 'R',\n",
    "    'Alien' : 'R',\n",
    "    'Princess Mononoke' : 'PG-13',\n",
    "    'Scarface' : 'R',\n",
    "    'Judgment at Nuremberg' : 'Not Rated',\n",
    "    'City Lights' : 'G',\n",
    "    'The Wizard of Oz' : 'G',\n",
    "    'Fight Club' : 'R',\n",
    "    'Saving Private Ryan' : 'R',\n",
    "    'Reservoir Dogs' : 'R',\n",
    "    'L.A. Confidential' : 'R',\n",
    "    'The Bandit' : 'R', ## guessed\n",
    "    'My Father and My Son' : 'PG',\n",
    "    'Once Upon a Time in the West' : 'PG-13',\n",
    "    'Toy Story' : 'G',\n",
    "    'Indiana Jones and the Last Crusade' : 'PG-13',\n",
    "    'Double Indemnity' : 'PG-13',\n",
    "    'Sunset Blvd.' : 'PG-13'\n",
    "}\n",
    "\n",
    "for i in range(len(clean_top)):\n",
    "    if clean_top.loc[i, 'cert'] in ['TV-PG', 'TV-14', 'TV-MA', '16', '6', 'M', 'TV-G', 'E', 'Passed']: \n",
    "        clean_top.loc[i, 'cert'] = cert_dict[clean_top.loc[i, 'title']]"
   ]
  },
  {
   "cell_type": "markdown",
   "metadata": {},
   "source": [
    "Much nicer:"
   ]
  },
  {
   "cell_type": "code",
   "execution_count": 77,
   "metadata": {
    "collapsed": false
   },
   "outputs": [
    {
     "data": {
      "text/plain": [
       "R            93\n",
       "PG           32\n",
       "PG-13        30\n",
       "Not Rated    25\n",
       "Approved     22\n",
       "G            14\n",
       "Unrated      11\n",
       "Name: cert, dtype: int64"
      ]
     },
     "execution_count": 77,
     "metadata": {},
     "output_type": "execute_result"
    }
   ],
   "source": [
    "clean_top['cert'].value_counts()"
   ]
  },
  {
   "cell_type": "code",
   "execution_count": 94,
   "metadata": {
    "collapsed": false
   },
   "outputs": [
    {
     "data": {
      "image/png": "[encoded data removed]",
      "text/plain": [
       "<matplotlib.figure.Figure at 0x119c21950>"
      ]
     },
     "metadata": {},
     "output_type": "display_data"
    }
   ],
   "source": [
    "plt.figure(figsize=(12,8))\n",
    "plt.style.use('fivethirtyeight')\n",
    "\n",
    "# assign colors to ranked certifications\n",
    "cert = ['G', 'PG', 'PG-13', 'R']\n",
    "cert_colors = []\n",
    "for i in range(0, 256, 256/3):\n",
    "    cert_colors.append(cm.coolwarm(i))\n",
    "cert_dict = dict(zip(cert, cert_colors))\n",
    "del cert\n",
    "\n",
    "cert_dict['Unrated'] = 'c'\n",
    "cert_dict['Not Rated'] = 'black'\n",
    "cert_dict['Approved'] = 'darkgreen'\n",
    "\n",
    "plot_order = ['G', 'PG', 'PG-13', 'R', 'Not Rated', 'Unrated', 'Approved']\n",
    "\n",
    "for i in plot_order:\n",
    "    y = clean_top.loc[clean_top['cert'] == i, :]\n",
    "    plt.scatter(y['year'], y['num_votes']/1000000, color = cert_dict[i], alpha = 0.5, \\\n",
    "                s = y['rating_area'], label = i)\n",
    "\n",
    "plt.title('IMDb Top 250: Number of Votes by Release Year', fontsize = 24, y = 1.03)\n",
    "\n",
    "# add x-axis line and a line to show current year\n",
    "plt.axhline(0, color='black', alpha = 0.6)\n",
    "plt.axvline(2017, color='black', linestyle='dashed', linewidth=0.8, \\\n",
    "            label = 'current year (2017)')\n",
    "\n",
    "# y label\n",
    "plt.ylabel('Number of Votes (x 1 million)', fontsize = 18)\n",
    "plt.yticks(np.arange(0, 2.2, 0.2), fontsize = 13)\n",
    "\n",
    "# x label\n",
    "plt.xlabel('Year', fontsize = 18)\n",
    "plt.xticks(range(1920, 2020, 10), fontsize = 13)\n",
    "\n",
    "# set the figure boundaries\n",
    "plt.xlim([1919, 2020])\n",
    "plt.ylim([0, 1.91])\n",
    "\n",
    "plt.grid(True)\n",
    "plt.legend(loc='upper left', fontsize = 13)\n",
    "plt.annotate('*point size proportional IMDb user rating', (1,0), (-275, -25), \\\n",
    "             xycoords='axes fraction', textcoords='offset points', va='top', fontsize = 12)\n",
    "\n",
    "\n",
    "plt.show()"
   ]
  },
  {
   "cell_type": "code",
   "execution_count": 95,
   "metadata": {
    "collapsed": false
   },
   "outputs": [
    {
     "data": {
      "text/html": [
       "<div>\n",
       "<table border=\"1\" class=\"dataframe\">\n",
       "  <thead>\n",
       "    <tr style=\"text-align: right;\">\n",
       "      <th></th>\n",
       "      <th>title</th>\n",
       "      <th>rating</th>\n",
       "      <th>year</th>\n",
       "      <th>num_votes</th>\n",
       "    </tr>\n",
       "  </thead>\n",
       "  <tbody>\n",
       "    <tr>\n",
       "      <th>1</th>\n",
       "      <td>The Godfather</td>\n",
       "      <td>9.2</td>\n",
       "      <td>1972.0</td>\n",
       "      <td>1218434</td>\n",
       "    </tr>\n",
       "  </tbody>\n",
       "</table>\n",
       "</div>"
      ],
      "text/plain": [
       "           title  rating    year  num_votes\n",
       "1  The Godfather     9.2  1972.0    1218434"
      ]
     },
     "execution_count": 95,
     "metadata": {},
     "output_type": "execute_result"
    }
   ],
   "source": [
    "top[(top['year'] < 1980) & (top['num_votes'] > 1000000)][['title', 'rating', 'year', \\\n",
    "                                                          'num_votes']]"
   ]
  },
  {
   "cell_type": "markdown",
   "metadata": {},
   "source": [
    "What's the red dot outlier in the 1970s up high?  The Godfather!  From the 1990s onward, there does seem to be a drastic increase in the number of votes; this probably has to do with the invention of the internet, popularity increase of IMDb, and other factors not inherently related to movie quality.  \n",
    "\n",
    "There is no evidence here that average movie quality is itself increasing over time.  Accelerated increase in number of votes begins in the 1970s; this was a turning point in American movies as the MPAA changed its audience viewing codes.  From Wikipedia:  \"In 1968, after several years of minimal enforcement, the outdated Production Code was replaced by the [MPAA film rating system](https://en.wikipedia.org/wiki/Motion_Picture_Production_Code).\" "
   ]
  },
  {
   "cell_type": "code",
   "execution_count": 107,
   "metadata": {
    "collapsed": false
   },
   "outputs": [
    {
     "data": {
      "image/png": "[encoded data removed]",
      "text/plain": [
       "<matplotlib.figure.Figure at 0x11b65b390>"
      ]
     },
     "metadata": {},
     "output_type": "display_data"
    }
   ],
   "source": [
    "plt.figure(figsize=(12,8))\n",
    "plt.style.use('fivethirtyeight')\n",
    "\n",
    "for i in plot_order:\n",
    "    y = clean_top[clean_top['cert'] == i]\n",
    "    plt.scatter(y.index, y['num_votes']/1000000, color = cert_dict[i], alpha = 0.5, \\\n",
    "                s = y['rating_area'], label = i)\n",
    "\n",
    "plt.title('IMDb Top 250: Number of Votes by Descending Rank', fontsize = 24, y = 1.03)\n",
    "\n",
    "plt.axhline(0, color='black', alpha = 0.6)\n",
    "\n",
    "# y label\n",
    "plt.ylabel('Number of Votes (x 1 million)', fontsize = 18)\n",
    "plt.yticks(np.arange(0, 2.75, 0.25), fontsize = 12)\n",
    "plt.ylim([0, 2.51])\n",
    "\n",
    "# x label\n",
    "plt.xlabel('Top 250 Position', fontsize = 18)\n",
    "plt.xticks(np.arange(0, 275, 25), fontsize = 12)\n",
    "plt.xlim(-5, 255)\n",
    "\n",
    "plt.grid(True)\n",
    "plt.legend(loc='upper center', fontsize = 12)\n",
    "plt.annotate('*point size proportional to IMDb user rating', (1,0), (-275, -25), \\\n",
    "             xycoords='axes fraction', textcoords='offset points', va='top', fontsize = 12)\n",
    "plt.show()"
   ]
  },
  {
   "cell_type": "markdown",
   "metadata": {},
   "source": [
    "Again, from this plot it is clear that the index contains information (i.e., it is the site's rank of the movie).  We also see that: higher-ranked movies tend to have more votes; MPAA certifications are pretty uniformly distributed across the ranking; 'R' and 'PG-13' tend to get more votes than 'G' and 'PG', and certainly more than 'Not Rated' and 'Approved' (the latter of which was only given in the USA and no longer exists).  There also appears to be a positive correlation between lower index number (higher ranking) and number of votes."
   ]
  },
  {
   "cell_type": "markdown",
   "metadata": {},
   "source": [
    "OK!  Now let's scrape some more data (last scraped March 14, 2017):"
   ]
  },
  {
   "cell_type": "code",
   "execution_count": 108,
   "metadata": {
    "collapsed": false
   },
   "outputs": [
    {
     "name": "stdout",
     "output_type": "stream",
     "text": [
      ". . . . . . . . . . . . . . . . . . . . . . . done.\n"
     ]
    }
   ],
   "source": [
    "# URL = 'http://www.imdb.com/title/'\n",
    "# paths = clean_top['tconst']\n",
    "# soup = []\n",
    "# count = 0\n",
    "# for i in paths:\n",
    "#     time.sleep(0.5)\n",
    "#     request = requests.get(URL + i + '/')\n",
    "#     if str(request) != '<Response [200]>':\n",
    "#         print URL + i + '/'\n",
    "#     tiny_soup = BeautifulSoup(request.content, \"lxml\")\n",
    "#     soup.append(tiny_soup)\n",
    "#     if count%10 == 0:\n",
    "#         print '.',\n",
    "#     count += 1\n",
    "\n",
    "# print 'done.'\n",
    "# cPickle.dump(soup, open('../IMDb_Top_250/assets/movie_soup.p', 'wb')) "
   ]
  },
  {
   "cell_type": "code",
   "execution_count": null,
   "metadata": {
    "collapsed": false
   },
   "outputs": [],
   "source": [
    "# soup = cPickle.load(open('../IMDb_Top_250/assets/movie_soup.p', 'rb'))"
   ]
  },
  {
   "cell_type": "code",
   "execution_count": 139,
   "metadata": {
    "collapsed": false
   },
   "outputs": [],
   "source": [
    "running_time = []\n",
    "genres = []\n",
    "director = []\n",
    "\n",
    "for i in range(len(soup)):\n",
    "    all_times = []\n",
    "    for j in soup[i].find('time', itemprop = 'duration'):\n",
    "        lil_time = j.encode('utf8')\n",
    "        split_time = lil_time.lstrip().rstrip().replace('h', '').replace('min', '').split()\n",
    "        if len(split_time) == 1:\n",
    "            minutes = float(split_time[0]) * 60\n",
    "            running_time.append(int(minutes))\n",
    "        elif len(split_time) == 2:\n",
    "            minutes = float(split_time[0]) * 60 + float(split_time[1])\n",
    "            running_time.append(int(minutes))\n",
    "        else:\n",
    "            print split_time\n",
    "    \n",
    "    genre_list = []\n",
    "    for j in soup[i].find_all('span', itemprop = 'genre'):\n",
    "        lil_genre = j.text.encode('utf8')\n",
    "        genre_list.append(lil_genre)\n",
    "    genres.append(genre_list)\n",
    "    \n",
    "    for i in range(len(soup)):\n",
    "        dirs = []\n",
    "        for j in soup[i].find_all('span', itemprop = 'director'):\n",
    "            for k in j.find_all('span', itemprop = 'name'):\n",
    "                dirs.append(k.text.encode('utf8'))\n",
    "        if len(dirs) > 1:\n",
    "            mini_list = []\n",
    "            mini_list.append(dirs[0])\n",
    "            director.append(mini_list)\n",
    "        else:\n",
    "            director.append(dirs)\n",
    "\n",
    "clean_top['director'] = director\n",
    "clean_top['genre'] = genres\n",
    "clean_top['run_time'] = running_time\n",
    "clean_top.to_csv('../IMDb_Top_250/assets/final_df.csv', index = False)"
   ]
  },
  {
   "cell_type": "code",
   "execution_count": 140,
   "metadata": {
    "collapsed": false
   },
   "outputs": [],
   "source": [
    "clean_top = pd.read_csv('../IMDb_Top_250/assets/with_runtime.csv')"
   ]
  },
  {
   "cell_type": "code",
   "execution_count": 145,
   "metadata": {
    "collapsed": false
   },
   "outputs": [
    {
     "data": {
      "image/png": "[encoded data removed]",
      "text/plain": [
       "<matplotlib.figure.Figure at 0x1a4adb350>"
      ]
     },
     "metadata": {},
     "output_type": "display_data"
    }
   ],
   "source": [
    "data = clean_top['run_time']\n",
    "plt.style.use('fivethirtyeight')\n",
    "fig, ax1 = plt.subplots(figsize=(4, 8))\n",
    "fig.canvas.set_window_title('')\n",
    "\n",
    "\n",
    "plt.boxplot(data, 0, 'gD')\n",
    "\n",
    "ax1.yaxis.grid(True, linestyle='-', which='major', color='lightgrey', alpha=0.5)\n",
    "\n",
    "ax1.set_axisbelow(True)\n",
    "ax1.set_title('IMDb Top 250: Runtime', y =1.03)\n",
    "ax1.set_xlabel('Top 250 Movies', fontsize = 16)\n",
    "ax1.set_ylabel('Runtime (min)', fontsize = 16)\n",
    "\n",
    "# Set the axes ranges and axes labels\n",
    "numBoxes = 1\n",
    "ax1.set_xlim(0.5, numBoxes + 0.5)\n",
    "ax1.set_ylim(-5, clean_top['run_time'].max() + 10)\n",
    "xtickNames = plt.setp(ax1, xticklabels = '')\n",
    "plt.setp(xtickNames, fontsize=14)\n",
    "\n",
    "plt.show()"
   ]
  },
  {
   "cell_type": "code",
   "execution_count": 165,
   "metadata": {
    "collapsed": false
   },
   "outputs": [
    {
     "data": {
      "image/png": "[encoded data removed]",
      "text/plain": [
       "<matplotlib.figure.Figure at 0x172ebf690>"
      ]
     },
     "metadata": {},
     "output_type": "display_data"
    }
   ],
   "source": [
    "plt.figure(figsize=(12,8))\n",
    "plt.style.use('fivethirtyeight')\n",
    "\n",
    "df_hist = plt.hist(clean_top['run_time'], color = 'yellowgreen', alpha = 0.5, bins = 20)\n",
    "plt.axvline(clean_top['run_time'].mean(), color='g', linestyle='dashed', linewidth = 2, label = 'mean')\n",
    "plt.axvline(clean_top['run_time'].median(), color='dodgerblue', linestyle='dashed', linewidth = 2, \\\n",
    "            label = 'median')\n",
    "plt.axhline(0, color='black')\n",
    "plt.title('IMDb Top 250: Runtime', fontsize = 24, y = 1.03)\n",
    "\n",
    "plt.ylabel('Count', fontsize = 18)\n",
    "\n",
    "plt.xlabel('Runtime (min)', fontsize = 18)\n",
    "plt.xticks(range(0, 280, 20), fontsize = 13)\n",
    "plt.xlim([0, 261])\n",
    "\n",
    "density = gaussian_kde(clean_top.loc[:, 'run_time'])\n",
    "xs = np.linspace(clean_top['run_time'].min(), clean_top['run_time'].max(), 1000)\n",
    "density.covariance_factor = lambda : 0.25\n",
    "density._compute_covariance()\n",
    "plt.plot(xs, density(xs)*10000/5.5, linewidth = 2.5, label = 'Gaussian KDE', \\\n",
    "         color = 'darkgreen', alpha = 0.6)\n",
    "\n",
    "plt.legend(loc='best', fontsize = 14)\n",
    "\n",
    "plt.grid(which = 'major', axis = 'x')\n",
    "\n",
    "plt.show()"
   ]
  },
  {
   "cell_type": "markdown",
   "metadata": {},
   "source": [
    "Here are the movies whose runtimes are more than three standard deviations above the mean; let's get rid of them."
   ]
  },
  {
   "cell_type": "code",
   "execution_count": 173,
   "metadata": {
    "collapsed": false
   },
   "outputs": [
    {
     "data": {
      "text/html": [
       "<div>\n",
       "<table border=\"1\" class=\"dataframe\">\n",
       "  <thead>\n",
       "    <tr style=\"text-align: right;\">\n",
       "      <th></th>\n",
       "      <th>title</th>\n",
       "      <th>year</th>\n",
       "      <th>rating</th>\n",
       "      <th>run_time</th>\n",
       "    </tr>\n",
       "  </thead>\n",
       "  <tbody>\n",
       "    <tr>\n",
       "      <th>91</th>\n",
       "      <td>Gone with the Wind</td>\n",
       "      <td>1939.0</td>\n",
       "      <td>8.2</td>\n",
       "      <td>238</td>\n",
       "    </tr>\n",
       "    <tr>\n",
       "      <th>148</th>\n",
       "      <td>Once Upon a Time in America</td>\n",
       "      <td>1984.0</td>\n",
       "      <td>8.4</td>\n",
       "      <td>229</td>\n",
       "    </tr>\n",
       "  </tbody>\n",
       "</table>\n",
       "</div>"
      ],
      "text/plain": [
       "                           title    year  rating  run_time\n",
       "91            Gone with the Wind  1939.0     8.2       238\n",
       "148  Once Upon a Time in America  1984.0     8.4       229"
      ]
     },
     "execution_count": 173,
     "metadata": {},
     "output_type": "execute_result"
    }
   ],
   "source": [
    "clean_top[clean_top['run_time'] > (clean_top['run_time'].mean() + 3.0 * np.std(clean_top['run_time']))]\\\n",
    "[['title', 'year', 'rating','run_time']].sort_values(by = 'run_time', ascending = False)"
   ]
  },
  {
   "cell_type": "code",
   "execution_count": 185,
   "metadata": {
    "collapsed": false
   },
   "outputs": [],
   "source": [
    "clean_top = clean_top.loc[clean_top['title'] != 'Gone with the Wind', :]\n",
    "clean_top = clean_top.loc[clean_top['title'] != 'Once Upon a Time in America', :]"
   ]
  },
  {
   "cell_type": "code",
   "execution_count": 181,
   "metadata": {
    "collapsed": false
   },
   "outputs": [
    {
     "data": {
      "text/plain": [
       "227"
      ]
     },
     "execution_count": 181,
     "metadata": {},
     "output_type": "execute_result"
    }
   ],
   "source": [
    "\n",
    "clean_top['genre'] = genre\n",
    "clean_top.to_csv('../IMDb_Top_250/assets/with_genre.csv', index = False)"
   ]
  },
  {
   "cell_type": "code",
   "execution_count": 182,
   "metadata": {
    "collapsed": false
   },
   "outputs": [
    {
     "data": {
      "text/plain": [
       "225"
      ]
     },
     "execution_count": 182,
     "metadata": {},
     "output_type": "execute_result"
    }
   ],
   "source": [
    "len(clean_top)"
   ]
  },
  {
   "cell_type": "markdown",
   "metadata": {},
   "source": [
    "Load genre file and add as column to data frame:"
   ]
  },
  {
   "cell_type": "code",
   "execution_count": null,
   "metadata": {
    "collapsed": false
   },
   "outputs": [],
   "source": [
    "genre = pd.read_csv('../IMDb_Top_250/assets/genre.csv')\n",
    "genre.columns = ['genre']\n",
    "top['genre'] = genre"
   ]
  },
  {
   "cell_type": "code",
   "execution_count": null,
   "metadata": {
    "collapsed": false
   },
   "outputs": [],
   "source": [
    "# release_info = []\n",
    "# for i in range(len(soup)):\n",
    "#     info = []\n",
    "#     for j in soup[i].find_all('a', title = 'See more release dates'):\n",
    "#         info.append(j.text.encode('utf8'))\n",
    "#     release_info.append(info)\n",
    "\n",
    "# month = []\n",
    "# country = []\n",
    "# for i in range(len(release_info)):\n",
    "#     month_country = []\n",
    "#     release_info[i] = str(release_info[i])\n",
    "#     clean = release_info[i].replace(')\\\\n\\\\n\\']', '')\n",
    "#     split = clean.split(' ')\n",
    "#     if len(split) == 4:\n",
    "#         month.append(split[1])\n",
    "#         split[3] = split[3].replace('(', '')\n",
    "#         country.append(split[3])\n",
    "#     else:\n",
    "#         month.append(split)\n",
    "#         country.append(split)\n",
    "\n",
    "# all_months = ['January', 'February', 'March', 'April', 'May', 'June', 'July', \\\n",
    "# 'August', 'September', 'October', \\\n",
    "#              'November', 'December']\n",
    "\n",
    "# top['month'] = month\n",
    "# top['country'] = country\n",
    "# for i in range(len(top)):\n",
    "#     if top['month'][i] in all_months:\n",
    "#         print '.',\n",
    "#     else:\n",
    "#         print '\\n'\n",
    "#         print top.loc[i][['title', 'month', 'country']]\n",
    "#         print '\\n'"
   ]
  },
  {
   "cell_type": "markdown",
   "metadata": {},
   "source": [
    "Correct the ones that came through in different format and look up month for 'The Gold Rush' (thanks, Wikipedia!):"
   ]
  },
  {
   "cell_type": "code",
   "execution_count": null,
   "metadata": {
    "collapsed": false
   },
   "outputs": [],
   "source": [
    "# top['month'][5] = 'April'\n",
    "# top['country'][5] = 'USA'\n",
    "# top['month'][56] = 'October'\n",
    "# top['country'][56] = 'West Germany'\n",
    "# top['month'][65] = 'November'\n",
    "# top['country'][65] = 'South Korea'\n",
    "# top['month'][129] = 'June'\n",
    "# top['country'][129] = 'Germany'\n",
    "# top['month'][209] = 'May'\n",
    "# top['country'][209] = 'South Korea'\n",
    "# top['month'][224] = 'December'\n",
    "# top['country'][224] = 'Hong Kong'"
   ]
  },
  {
   "cell_type": "code",
   "execution_count": null,
   "metadata": {
    "collapsed": true
   },
   "outputs": [],
   "source": [
    "# month = pd.DataFrame(top['month'], columns = ['month'])\n",
    "# country = pd.DataFrame(top['country'], columns = ['country'])\n",
    "# month.to_csv('../IMDb Top 250/assets/month.csv', \\\n",
    "# index = False, encoding = 'utf-8')\n",
    "# country.to_csv('../IMDb Top 250/assets/country.csv', \\\n",
    "# index = False, encoding = 'utf-8')"
   ]
  },
  {
   "cell_type": "markdown",
   "metadata": {},
   "source": [
    "Load month and country files and add as columns to data frame:"
   ]
  },
  {
   "cell_type": "code",
   "execution_count": null,
   "metadata": {
    "collapsed": false
   },
   "outputs": [],
   "source": [
    "month = pd.read_csv('../IMDb_Top_250/assets/month.csv')\n",
    "country = pd.read_csv('../IMDb_Top_250/assets/country.csv')\n",
    "top['month'] = month\n",
    "top['country'] = country\n",
    "top['month'].value_counts()"
   ]
  },
  {
   "cell_type": "markdown",
   "metadata": {},
   "source": [
    "Now, let's make a bar chart of month of release:"
   ]
  },
  {
   "cell_type": "code",
   "execution_count": null,
   "metadata": {
    "collapsed": false
   },
   "outputs": [],
   "source": [
    "y = pd.DataFrame(top['month'].value_counts())\n",
    "y.columns = ['count']\n",
    "y['month'] = y.index\n",
    "y = y.reset_index(drop = True)\n",
    "order = range(12)\n",
    "all_months = ['January', 'February', 'March', 'April', 'May', 'June', 'July', 'August', \\\n",
    "              'September', 'October', 'November', 'December']\n",
    "month_dict = dict(zip(all_months, order))\n",
    "y['order'] = y['month'].apply(lambda x: month_dict[x])\n",
    "y = y.sort_values(by = 'order')\n",
    "del y['order']\n",
    "y = y.set_index(y['month'], drop = False)\n",
    "del y['month']"
   ]
  },
  {
   "cell_type": "code",
   "execution_count": null,
   "metadata": {
    "collapsed": false
   },
   "outputs": [],
   "source": [
    "plt.figure(figsize=(12,8))\n",
    "plt.style.use('fivethirtyeight')\n",
    "\n",
    "y['count'].plot.bar(color = 'thistle')\n",
    "\n",
    "plt.title('IMDb Top 250: Month of Release', fontsize = 24, y = 1.03)\n",
    "\n",
    "# y label\n",
    "plt.ylabel('Number of Movies', fontsize = 18)\n",
    "plt.yticks(range(0, 35, 5), fontsize = 13)\n",
    "plt.ylim([0, 31])\n",
    "\n",
    "# x label\n",
    "plt.xlabel('Month', fontsize = 18)\n",
    "plt.axhline(0, color='black', alpha = 0.6)\n",
    "plt.xticks(rotation=70, fontsize = 13)\n",
    "\n",
    "plt.grid(which = 'major', axis = 'x')\n",
    "\n",
    "plt.show()"
   ]
  },
  {
   "cell_type": "markdown",
   "metadata": {},
   "source": [
    "Nothing terribly non-intuive here; there are summer movies, there are winter/holiday movies, not a lot coming out in April and September."
   ]
  },
  {
   "cell_type": "markdown",
   "metadata": {},
   "source": [
    "Let's check out where non-USA, non-UK movies are from:"
   ]
  },
  {
   "cell_type": "code",
   "execution_count": null,
   "metadata": {
    "collapsed": false
   },
   "outputs": [],
   "source": [
    "top[(top['country'] != 'USA') & (top['country'] != 'UK')][['title', 'country']]"
   ]
  },
  {
   "cell_type": "markdown",
   "metadata": {},
   "source": [
    "A lot of these look weird... Hitchcock in Japan and Brazil?  Reservoir Dogs in France?  Maybe they're release locations?  Let's try to scrape country of origin separately and keep this as-is for now."
   ]
  },
  {
   "cell_type": "code",
   "execution_count": null,
   "metadata": {
    "collapsed": false
   },
   "outputs": [],
   "source": [
    "# origin = []\n",
    "# for i in range(len(soup)):\n",
    "#     country = []\n",
    "#     for j in soup[i].find_all('a', href = re.compile('/country/')):\n",
    "#         country.append(j.text.encode('utf8'))\n",
    "#     if len(country) > 1:\n",
    "#         mini_list = []\n",
    "#         mini_list.append(country[0])\n",
    "#         origin.append(mini_list)\n",
    "#     else:\n",
    "#         origin.append(country)\n",
    "\n",
    "# origin = pd.DataFrame(origin)\n",
    "# origin.to_csv('../IMDb Top 250/assets/origin.csv', index = False)"
   ]
  },
  {
   "cell_type": "markdown",
   "metadata": {},
   "source": [
    "Load country of origin (we hope!) file and add as column to the data frame:"
   ]
  },
  {
   "cell_type": "code",
   "execution_count": null,
   "metadata": {
    "collapsed": false
   },
   "outputs": [],
   "source": [
    "origin = pd.read_csv('../IMDb_Top_250/assets/origin.csv')\n",
    "top['origin'] = origin"
   ]
  },
  {
   "cell_type": "markdown",
   "metadata": {},
   "source": [
    "Let's print all observations where 'country' does not match 'origin': (commented out, too long)"
   ]
  },
  {
   "cell_type": "code",
   "execution_count": null,
   "metadata": {
    "collapsed": false,
    "scrolled": true
   },
   "outputs": [],
   "source": [
    "# for i in range(len(top)):\n",
    "#     if top['country'][i] != top['origin'][i]:\n",
    "#         print top.loc[i][['title', 'country', 'origin']]\n",
    "#         print '\\n'"
   ]
  },
  {
   "cell_type": "markdown",
   "metadata": {},
   "source": [
    "Neither list is correct on every observation, so let's change 'country' to be the one we keep:"
   ]
  },
  {
   "cell_type": "code",
   "execution_count": null,
   "metadata": {
    "collapsed": false
   },
   "outputs": [],
   "source": [
    "# top['country'][206] = 'UK'\n",
    "# top['country'][214] = 'Italy'\n",
    "# top['country'][220] = 'USA'\n",
    "# top['country'][225] = 'UK'\n",
    "# top['country'][227] = 'France'\n",
    "# top['country'][229] = 'USA'\n",
    "# top['country'][230] = 'Italy'\n",
    "# top['country'][234] = 'Hong Kong'\n",
    "# top['country'][241] = 'Italy'\n",
    "# top['country'][243] = 'UK'\n",
    "# top['country'][245] = 'Japan'\n",
    "# top['country'][247] = 'India'\n",
    "# top['country'][249] = 'Hong Kong'\n",
    "# top['country'][139] = 'USA'\n",
    "# top['country'][140] = 'Sweden'\n",
    "# top['country'][145] = 'USA'\n",
    "# top['country'][147] = 'Japan'\n",
    "# top['country'][149] = 'Canada'\n",
    "# top['country'][152] = 'Lebanon'\n",
    "# top['country'][154] = 'UK'\n",
    "# top['country'][164] = 'Russia' # SOVIET UNION!\n",
    "# top['country'][172] = 'UK'\n",
    "# top['country'][181] = 'France' # and italy!\n",
    "# top['country'][186] = 'France'\n",
    "# top['country'][188] = 'Ireland'\n",
    "# top['country'][190] = 'Sweden'\n",
    "# top['country'][192] = 'Mexico'\n",
    "# top['country'][196] = 'USA'\n",
    "# top['country'][197] = 'USA'\n",
    "# top['country'][204] = 'Russia' # SOVIET UNION!\n",
    "# top['country'][104] = 'USA'\n",
    "# top['country'][106] = 'Japan'\n",
    "# top['country'][111] = 'USA'\n",
    "# top['country'][115] = 'Iran'\n",
    "# top['country'][117] = 'Germany'\n",
    "# top['country'][123] = 'Ireland'\n",
    "# top['country'][124] = 'Spanish'\n",
    "# top['country'][127] = 'Japan'\n",
    "# top['country'][129] = 'USA'\n",
    "# top['country'][134] = 'Sweden'\n",
    "# top['country'][137] = 'Japan'\n",
    "# top['country'][70] = 'USA'\n",
    "# top['country'][73] = 'Germany'\n",
    "# top['country'][74] = 'USA'\n",
    "# top['country'][76] = 'France'\n",
    "# top['country'][87] = 'USA'\n",
    "# top['country'][89] = 'Italy'\n",
    "# top['country'][92] = 'UK'\n",
    "# top['country'][97] = 'Italy'\n",
    "# top['country'][98] = 'USA'\n",
    "# top['country'][99] = 'Japan'\n",
    "# top['country'][103] = 'Germany'\n",
    "# top['country'][8] = 'Italy'\n",
    "# top['country'][18] = 'Japan'\n",
    "# top['country'][20] = 'Brazil'\n",
    "# top['country'][25] = 'Italy'\n",
    "# top['country'][26] = 'France'\n",
    "# top['country'][27] = 'Italy'\n",
    "# top['country'][28] = 'Japan'\n",
    "# top['country'][39] = 'USA'\n",
    "# top['country'][42] = 'France'\n",
    "# top['country'][44] = 'USA'\n",
    "# top['country'][51] = 'USA'\n",
    "# top['country'][54] = 'Germany'\n",
    "# top['country'][55] = 'Italy'\n",
    "# top['country'][56] = 'USA'\n",
    "# top['country'][68] = 'USA'\n",
    "# top['country'][69] = 'Germany' # WEST Germany!"
   ]
  },
  {
   "cell_type": "code",
   "execution_count": null,
   "metadata": {
    "collapsed": true
   },
   "outputs": [],
   "source": [
    "# country = pd.DataFrame(top['country'])\n",
    "# country.to_csv('../IMDb Top 250/assets/country2.csv', index = False, \\\n",
    "#                encoding = 'utf-8')"
   ]
  },
  {
   "cell_type": "code",
   "execution_count": null,
   "metadata": {
    "collapsed": true
   },
   "outputs": [],
   "source": [
    "country = pd.read_csv('../IMDb_Top_250/assets/country2.csv')\n",
    "top['country'] = country"
   ]
  },
  {
   "cell_type": "code",
   "execution_count": null,
   "metadata": {
    "collapsed": false
   },
   "outputs": [],
   "source": [
    "del top['origin']"
   ]
  },
  {
   "cell_type": "markdown",
   "metadata": {},
   "source": [
    "Get director name (only take first if more than one):"
   ]
  },
  {
   "cell_type": "code",
   "execution_count": null,
   "metadata": {
    "collapsed": false
   },
   "outputs": [],
   "source": []
  },
  {
   "cell_type": "code",
   "execution_count": null,
   "metadata": {
    "collapsed": false
   },
   "outputs": [],
   "source": [
    "# director = pd.DataFrame(director)\n",
    "# director.to_csv('../IMDb Top 250/assets/director.csv', index = False)"
   ]
  },
  {
   "cell_type": "markdown",
   "metadata": {},
   "source": [
    "Note: some director observations had two names listed; only the first one was kept for the data set.  The second names tended to say \"uncredited\" after them and were never the main director."
   ]
  },
  {
   "cell_type": "code",
   "execution_count": null,
   "metadata": {
    "collapsed": false
   },
   "outputs": [],
   "source": [
    "director = pd.read_csv('../IMDb_Top_250/assets/director.csv')\n",
    "top['director'] = director"
   ]
  },
  {
   "cell_type": "markdown",
   "metadata": {},
   "source": [
    "Surprise!  There are no female directors with more than two movies in the Top 250 list:"
   ]
  },
  {
   "cell_type": "code",
   "execution_count": null,
   "metadata": {
    "collapsed": false
   },
   "outputs": [],
   "source": [
    "dir_count = pd.DataFrame(top['director'].value_counts())\n",
    "dir_count.columns = ['count']\n",
    "dir_count = dir_count[dir_count['count'] > 2]\n",
    "dir_count"
   ]
  },
  {
   "cell_type": "markdown",
   "metadata": {},
   "source": [
    "We'll make dummy variables for these prolific directors later."
   ]
  },
  {
   "cell_type": "markdown",
   "metadata": {
    "collapsed": true
   },
   "source": [
    "### Foreign vs Domestic:"
   ]
  },
  {
   "cell_type": "markdown",
   "metadata": {},
   "source": [
    "From the MPAA certification-colored scatter plot, we can tell there is definitely something going on with 'Not Rated' and 'Approved' MPAA certifications with respect to year of release.  Let's investigate."
   ]
  },
  {
   "cell_type": "code",
   "execution_count": null,
   "metadata": {
    "collapsed": false
   },
   "outputs": [],
   "source": [
    "foreign_notNR = top[(top['cert'] != 'Not Rated') & (top['country'] != 'USA')]\n",
    "\n",
    "foreign_NR = top[(top['cert'] == 'Not Rated') & (top['country'] != 'USA')]\n",
    "\n",
    "domestic_notNR = top[(top['cert'] != 'Not Rated') & (top['country'] == 'USA')]\n",
    "\n",
    "domestic_NR = top[(top['cert'] == 'Not Rated') & (top['country'] == 'USA')]"
   ]
  },
  {
   "cell_type": "markdown",
   "metadata": {},
   "source": [
    "Most 'Not Rated' and 'Approved' movies in the list are pre-1970; after 1970, almost all of the 'Not Rated' movies are non-USA.  "
   ]
  },
  {
   "cell_type": "code",
   "execution_count": null,
   "metadata": {
    "collapsed": false
   },
   "outputs": [],
   "source": [
    "x = float(len(foreign_notNR))/ (len(foreign_notNR) + len(foreign_NR))\n",
    "\n",
    "print 'Proportion of non-\\'Not Rated\\' foreign films to \\'Not Rated\\' foreign films \\\n",
    "post-1970: %s' %round(x, 3)"
   ]
  },
  {
   "cell_type": "markdown",
   "metadata": {},
   "source": [
    "Additionally, all domestic films since 1970 are non-'Not Rated':"
   ]
  },
  {
   "cell_type": "code",
   "execution_count": null,
   "metadata": {
    "collapsed": false
   },
   "outputs": [],
   "source": [
    "y = float(len(domestic_notNR[domestic_notNR['year'] > 1970]))/len(top[(top['country'] == \\\n",
    "                                                            'USA') & (top['year'] > 1970)])\n",
    "\n",
    "print 'Proportion of non-\\'Not Rated\\' domestic films to \\'Not Rated\\' domestic films \\\n",
    "post-1970: %s' %round(y, 3)"
   ]
  },
  {
   "cell_type": "code",
   "execution_count": null,
   "metadata": {
    "collapsed": false,
    "scrolled": false
   },
   "outputs": [],
   "source": [
    "plt.figure(figsize=(12,8))\n",
    "plt.style.use('fivethirtyeight')\n",
    "\n",
    "\n",
    "# set area of dot proportional-ish to rating\n",
    "area = rating_area\n",
    "\n",
    "# plot number of votes by year of release\n",
    "plt.scatter(foreign_notNR['year'], foreign_notNR['num_votes']/1000000, \\\n",
    "            color = 'GoldenRod', marker = 'o', alpha = 0.8, s = area, \\\n",
    "            label = 'foreign, MPAA-cert.')\n",
    "plt.scatter(foreign_NR['year'], foreign_NR['num_votes']/1000000, \\\n",
    "            color = 'GoldenRod', marker = 'x', alpha = 0.8, s = area, \\\n",
    "            label = 'foreign, not MPAA-cert.')\n",
    "plt.scatter(domestic_notNR['year'], domestic_notNR['num_votes']/1000000, \\\n",
    "            color = 'darkgreen', marker = 'o', alpha = 0.5, s = area, \\\n",
    "            label = 'domestic, MPAA-cert.')\n",
    "plt.scatter(domestic_NR['year'], domestic_NR['num_votes']/1000000, \\\n",
    "            color = 'darkgreen', marker = 'x', alpha = 0.5, s = area, \\\n",
    "            label = 'domestic, not MPAA-cert.')\n",
    "\n",
    "plt.title('IMDb Top 250: Number of Votes by Release Year', fontsize = 22, y = 1.03)\n",
    "\n",
    "# add x-axis line and a line to show current year\n",
    "plt.axhline(0, color='black', alpha = 0.6)\n",
    "plt.axvline(2016, color='black', linestyle='dashed', linewidth=0.8, alpha = 0.7, \\\n",
    "            label = 'current year (2016)')\n",
    "\n",
    "# y label\n",
    "plt.ylabel('Number of Votes (x 1 million)')\n",
    "\n",
    "# x label\n",
    "plt.xlabel('Year of Release')\n",
    "plt.xticks(range(1920, 2020, 10), fontsize = 12)\n",
    "\n",
    "# set the figure boundaries\n",
    "plt.xlim([min(top['year']) - 5, 2020])\n",
    "plt.ylim([0, 1.75])\n",
    "\n",
    "plt.grid(True)\n",
    "plt.legend(loc='upper left', fontsize = 12)\n",
    "plt.annotate('(note: size of plot symbol proportional to user rating)', (1,0), \\\n",
    "             (-275, -25), xycoords='axes fraction', textcoords='offset points', \\\n",
    "             va='top', fontsize = 12)\n",
    "plt.show()"
   ]
  },
  {
   "cell_type": "markdown",
   "metadata": {
    "collapsed": true
   },
   "source": [
    "What is the most recently released USA movie that had no MPAA rating ('cert')?"
   ]
  },
  {
   "cell_type": "code",
   "execution_count": null,
   "metadata": {
    "collapsed": false
   },
   "outputs": [],
   "source": [
    "domestic_NR[['title', 'year']].head(1)"
   ]
  },
  {
   "cell_type": "markdown",
   "metadata": {},
   "source": [
    "What's the highest-rated foreign movie?"
   ]
  },
  {
   "cell_type": "code",
   "execution_count": null,
   "metadata": {
    "collapsed": false,
    "scrolled": true
   },
   "outputs": [],
   "source": [
    "top[top['country'] != 'USA'].head(1)[['title', 'year', 'country']]"
   ]
  },
  {
   "cell_type": "markdown",
   "metadata": {},
   "source": [
    "Since the most recent 'Not Rated' domestic movie was 1962, let's check which one there have been since then:"
   ]
  },
  {
   "cell_type": "code",
   "execution_count": null,
   "metadata": {
    "collapsed": false
   },
   "outputs": [],
   "source": [
    "top[(top['country'] != 'USA') & (top['cert'] == 'Not Rated') & (top['year'] > 1962)]\\\n",
    "[['title', 'year', 'country']]"
   ]
  },
  {
   "cell_type": "markdown",
   "metadata": {},
   "source": [
    "### Time to make dummies!"
   ]
  },
  {
   "cell_type": "code",
   "execution_count": null,
   "metadata": {
    "collapsed": false
   },
   "outputs": [],
   "source": [
    "cv = CountVectorizer()\n",
    "data = cv.fit_transform(top['genre']).todense()\n",
    "columns = [c for c in cv.get_feature_names()]\n",
    "dumbgenre = pd.DataFrame(data, columns=columns)"
   ]
  },
  {
   "cell_type": "code",
   "execution_count": null,
   "metadata": {
    "collapsed": false
   },
   "outputs": [],
   "source": [
    "dumbgenre.columns"
   ]
  },
  {
   "cell_type": "markdown",
   "metadata": {},
   "source": [
    "Looks like strings 'sci fi' and 'film noir' got split up into separate dummy columns; let's delete one from each word pair so as not to be redundant in our columns:"
   ]
  },
  {
   "cell_type": "code",
   "execution_count": null,
   "metadata": {
    "collapsed": false
   },
   "outputs": [],
   "source": [
    "del dumbgenre['fi']\n",
    "del dumbgenre['film']\n",
    "dumbgenre['scifi'] = dumbgenre['sci']\n",
    "del dumbgenre['sci']"
   ]
  },
  {
   "cell_type": "code",
   "execution_count": null,
   "metadata": {
    "collapsed": false
   },
   "outputs": [],
   "source": [
    "for column in dumbgenre.columns:\n",
    "    x = dumbgenre[column].sum()\n",
    "    print column, x"
   ]
  },
  {
   "cell_type": "markdown",
   "metadata": {},
   "source": [
    "Should we consolidate music genre with musical genre?  There is only one movie in each of those genres here, so maybe we can..."
   ]
  },
  {
   "cell_type": "code",
   "execution_count": null,
   "metadata": {
    "collapsed": false
   },
   "outputs": [],
   "source": [
    "top.loc[dumbgenre[dumbgenre['music'] == 1].index][['title', 'year']]"
   ]
  },
  {
   "cell_type": "code",
   "execution_count": null,
   "metadata": {
    "collapsed": false
   },
   "outputs": [],
   "source": [
    "top.loc[dumbgenre[dumbgenre['musical'] == 1].index][['title', 'year']]"
   ]
  },
  {
   "cell_type": "markdown",
   "metadata": {},
   "source": [
    "Welp, looks like we won't consolidate those two.  On to more dummies!"
   ]
  },
  {
   "cell_type": "code",
   "execution_count": null,
   "metadata": {
    "collapsed": false
   },
   "outputs": [],
   "source": [
    "dumbmonth = top[['month']]\n",
    "dumbmonth = pd.get_dummies(dumbmonth)\n",
    "dumbmonth.head(1)"
   ]
  },
  {
   "cell_type": "code",
   "execution_count": null,
   "metadata": {
    "collapsed": false
   },
   "outputs": [],
   "source": [
    "big_directors = dir_count.index\n",
    "big_dir = []\n",
    "for director in top['director']:\n",
    "    if director in big_directors:\n",
    "        big_dir.append(director)\n",
    "    else:\n",
    "        big_dir.append(0)\n",
    "        \n",
    "big_dir = pd.DataFrame(big_dir)\n",
    "top['big_dir'] = big_dir"
   ]
  },
  {
   "cell_type": "code",
   "execution_count": null,
   "metadata": {
    "collapsed": false
   },
   "outputs": [],
   "source": [
    "dumbdir = top[['big_dir']]\n",
    "dumbdir = pd.get_dummies(dumbdir)\n",
    "dumbdir.head(1)"
   ]
  },
  {
   "cell_type": "code",
   "execution_count": null,
   "metadata": {
    "collapsed": true
   },
   "outputs": [],
   "source": [
    "del dumbdir['big_dir_0']\n",
    "del top['big_dir']"
   ]
  },
  {
   "cell_type": "code",
   "execution_count": null,
   "metadata": {
    "collapsed": false
   },
   "outputs": [],
   "source": [
    "country_count = pd.DataFrame(top['country'].value_counts())\n",
    "country_count.columns = ['count']\n",
    "country_count = country_count[country_count['count'] >= 2]\n",
    "country_count"
   ]
  },
  {
   "cell_type": "code",
   "execution_count": null,
   "metadata": {
    "collapsed": false
   },
   "outputs": [],
   "source": [
    "big_country = country_count.index\n",
    "big_countries = []\n",
    "for country in top['country']:\n",
    "    if country in big_country:\n",
    "        big_countries.append(country)\n",
    "    else:\n",
    "        big_countries.append(0)\n",
    "        \n",
    "big_countries = pd.DataFrame(big_countries)\n",
    "top['big_countries'] = big_countries"
   ]
  },
  {
   "cell_type": "code",
   "execution_count": null,
   "metadata": {
    "collapsed": false
   },
   "outputs": [],
   "source": [
    "dumbcountry = top[['big_countries']]\n",
    "dumbcountry = pd.get_dummies(dumbcountry)\n",
    "dumbcountry.head(1)"
   ]
  },
  {
   "cell_type": "code",
   "execution_count": null,
   "metadata": {
    "collapsed": false
   },
   "outputs": [],
   "source": [
    "del dumbcountry['big_countries_0']"
   ]
  },
  {
   "cell_type": "code",
   "execution_count": null,
   "metadata": {
    "collapsed": false
   },
   "outputs": [],
   "source": [
    "dumbcert = top[['cert']]\n",
    "dumbcert = pd.get_dummies(dumbcert)\n",
    "dumbcert.head(1)"
   ]
  },
  {
   "cell_type": "code",
   "execution_count": null,
   "metadata": {
    "collapsed": false
   },
   "outputs": [],
   "source": [
    "big_top = pd.concat([top, dumbgenre, dumbmonth, dumbdir, dumbcountry, dumbcert], axis = 1)\n",
    "big_top.tail(1)"
   ]
  },
  {
   "cell_type": "code",
   "execution_count": null,
   "metadata": {
    "collapsed": true
   },
   "outputs": [],
   "source": [
    "del big_top['tconst']\n",
    "del big_top['title']\n",
    "del big_top['top_year_color']\n",
    "del big_top['cert']\n",
    "del big_top['month']\n",
    "del big_top['country']\n",
    "del big_top['genre']\n",
    "del big_top['director']\n",
    "del big_top['big_countries']"
   ]
  },
  {
   "cell_type": "code",
   "execution_count": null,
   "metadata": {
    "collapsed": false
   },
   "outputs": [],
   "source": [
    "big_top.head(1)"
   ]
  },
  {
   "cell_type": "markdown",
   "metadata": {},
   "source": [
    "Let's take out those index outliers from the beginning of this notebook:"
   ]
  },
  {
   "cell_type": "code",
   "execution_count": null,
   "metadata": {
    "collapsed": false
   },
   "outputs": [],
   "source": [
    "big_top = big_top.drop(big_top.index[[115, 152, 102, 105, 164, 174, 247, 225]])"
   ]
  },
  {
   "cell_type": "markdown",
   "metadata": {},
   "source": [
    "Check if any columns sum to zero:"
   ]
  },
  {
   "cell_type": "code",
   "execution_count": null,
   "metadata": {
    "collapsed": false
   },
   "outputs": [],
   "source": [
    "for i in big_top.columns:\n",
    "    if big_top[i].sum() == 0:\n",
    "        print '\\n'\n",
    "        print i\n",
    "        print big_top[i].sum() \n",
    "    else:\n",
    "        print '.',\n",
    "        continue"
   ]
  },
  {
   "cell_type": "code",
   "execution_count": null,
   "metadata": {
    "collapsed": true
   },
   "outputs": [],
   "source": [
    "del big_top['big_countries_India'], big_top['big_countries_Iran']"
   ]
  },
  {
   "cell_type": "markdown",
   "metadata": {},
   "source": [
    "## Let's plot!"
   ]
  },
  {
   "cell_type": "code",
   "execution_count": null,
   "metadata": {
    "collapsed": false
   },
   "outputs": [],
   "source": [
    "len(big_top.columns)"
   ]
  },
  {
   "cell_type": "code",
   "execution_count": null,
   "metadata": {
    "collapsed": false
   },
   "outputs": [],
   "source": [
    "np.any(np.isnan(big_top))"
   ]
  },
  {
   "cell_type": "code",
   "execution_count": null,
   "metadata": {
    "collapsed": false
   },
   "outputs": [],
   "source": [
    "X = pd.DataFrame(big_top.ix[:, 1:len(big_top.columns)], columns = big_top\\\n",
    "                 .columns[1:len(big_top.columns)])\n",
    "X_scaled = MinMaxScaler().fit_transform(X.astype(float))\n",
    "X_scaled = pd.DataFrame(X_scaled, columns = X.columns[0:len(big_top.columns)])\n",
    "len(X_scaled.columns)"
   ]
  },
  {
   "cell_type": "code",
   "execution_count": null,
   "metadata": {
    "collapsed": false
   },
   "outputs": [],
   "source": [
    "y = big_top.ix[:, 0]"
   ]
  },
  {
   "cell_type": "code",
   "execution_count": null,
   "metadata": {
    "collapsed": false
   },
   "outputs": [],
   "source": [
    "plt.figure(figsize=(12,12))\n",
    "sns.set(font_scale=1.0)\n",
    "ax = sns.heatmap(X_scaled.ix[:, 1:len(X_scaled.columns)].corr(), \\\n",
    "                 cmap = \"seismic\", alpha = 0.9)\n",
    "\n",
    "ax.axes.set_title(\"Correlation of IMDb Top 250 Selected Features\", size = 15)\n",
    "\n",
    "plt.show()"
   ]
  },
  {
   "cell_type": "markdown",
   "metadata": {},
   "source": [
    "A couple interesting observations from this plot are that animations are big in Japan, Docter and Miyazaki are probably best-known for their animated features, and Westerns are big in Italy!"
   ]
  },
  {
   "cell_type": "markdown",
   "metadata": {},
   "source": [
    "Set up plot parameters:"
   ]
  },
  {
   "cell_type": "code",
   "execution_count": null,
   "metadata": {
    "collapsed": false
   },
   "outputs": [],
   "source": [
    "n = 242\n",
    "plot_colors = []\n",
    "for i in range(0, 256, 256/n):\n",
    "    plot_colors.append(cm.Accent(i))\n",
    "\n",
    "cv = KFold(len(X), n_folds = n, shuffle=False)\n",
    "\n",
    "\n",
    "def do_plot(model, m=1):\n",
    "    for fold, color in zip(cv, plot_colors):\n",
    "        X_train = X.iloc[fold[0]]\n",
    "        X_test  = X.iloc[fold[1]]\n",
    "        y_train = y.iloc[fold[0]]\n",
    "        y_test  = y.iloc[fold[1]]\n",
    "        model.fit(X_train, y_train)\n",
    "        y_pred = model.predict(X_test)\n",
    "                \n",
    "        plt.scatter(y_pred, y_test, color=color)\n",
    "        plt.plot([8.0,9.5],[8.0,9.5], linewidth = 0.3)\n",
    "        plt.text(9,9.5, \"R^2: \"+str(m), fontsize=20)\n",
    "    return   "
   ]
  },
  {
   "cell_type": "code",
   "execution_count": null,
   "metadata": {
    "collapsed": false
   },
   "outputs": [],
   "source": [
    "dt = DecisionTreeRegressor()\n",
    "\n",
    "scores = cross_val_score(dt, X_scaled, y, cv=cv)\n",
    "scores.mean()"
   ]
  },
  {
   "cell_type": "code",
   "execution_count": null,
   "metadata": {
    "collapsed": false
   },
   "outputs": [],
   "source": [
    "plt.figure(figsize=(12,8))\n",
    "plt.xlabel('Predicted')\n",
    "plt.ylabel('Actual')\n",
    "plt.title('Decision Tree Regressor: Actual vs Predicted', fontsize = 20, y = 1.05)\n",
    "plt.style.use('fivethirtyeight')\n",
    "\n",
    "\n",
    "do_plot(dt, scores.mean().round(2))"
   ]
  },
  {
   "cell_type": "code",
   "execution_count": null,
   "metadata": {
    "collapsed": false
   },
   "outputs": [],
   "source": [
    "dt.fit(X_scaled, y)\n",
    "features = sorted(zip(map(lambda x: round(x, 4), dt.feature_importances_), \\\n",
    "                      X_scaled.columns), reverse=True)\n",
    "features_dt = pd.DataFrame(features, columns = ['importance', 'feature'])\n",
    "features_dt = features_dt.sort_values(by = 'importance', ascending = False)\n",
    "features_dt = features_dt.set_index('feature', drop = True)\n",
    "\n",
    "plt.figure(figsize=(12,8))\n",
    "plt.style.use('fivethirtyeight')\n",
    "\n",
    "features_dt[0:19].plot.bar(color = 'lightgreen')\n",
    "\n",
    "plt.title('Decision Tree Regressor: Feature Importances', fontsize = 20, y = 1.03)\n",
    "\n",
    "# y label\n",
    "plt.ylabel('Coefficient', fontsize = 18)\n",
    "\n",
    "# x label\n",
    "plt.xlabel('Feature', fontsize = 18)\n",
    "plt.axhline(0, color='black', alpha = 0.6)\n",
    "plt.xticks(rotation = 90, fontsize = 12)\n",
    "\n",
    "plt.grid(which = 'major', axis = 'x')\n",
    "\n",
    "plt.show()"
   ]
  },
  {
   "cell_type": "code",
   "execution_count": null,
   "metadata": {
    "collapsed": false
   },
   "outputs": [],
   "source": [
    "rf = RandomForestRegressor(n_jobs = -1, n_estimators = 100)\n",
    "\n",
    "scores = cross_val_score(rf, X_scaled, y, cv=cv)\n",
    "scores.mean()"
   ]
  },
  {
   "cell_type": "code",
   "execution_count": null,
   "metadata": {
    "collapsed": false
   },
   "outputs": [],
   "source": [
    "plt.figure(figsize=(12,8))\n",
    "plt.xlabel('Predicted')\n",
    "plt.ylabel('Actual')\n",
    "plt.title('Random Forest Regressor: Actual vs Predicted', fontsize = 20, y = 1.05)\n",
    "plt.style.use('fivethirtyeight')\n",
    "\n",
    "do_plot(rf, scores.mean().round(2))"
   ]
  },
  {
   "cell_type": "code",
   "execution_count": null,
   "metadata": {
    "collapsed": false
   },
   "outputs": [],
   "source": [
    "rf.fit(X_scaled, y)\n",
    "features = sorted(zip(map(lambda x: round(x, 4), rf.feature_importances_), X_scaled.columns), \n",
    "             reverse=True)\n",
    "features_rf = pd.DataFrame(features, columns = ['importance', 'feature'])\n",
    "features_rf = features_rf.sort_values(by = 'importance', ascending = False)\n",
    "features_rf = features_rf.set_index('feature', drop = True)\n",
    "\n",
    "plt.figure(figsize=(12,8))\n",
    "plt.style.use('fivethirtyeight')\n",
    "\n",
    "features_rf[0:19].plot.bar(color = 'lightgreen')\n",
    "\n",
    "plt.title('Random Forest Regressor: Feature Importances', fontsize = 20, y = 1.03)\n",
    "\n",
    "# y label\n",
    "plt.ylabel('Coefficient', fontsize = 18)\n",
    "\n",
    "# x label\n",
    "plt.xlabel('Feature', fontsize = 12)\n",
    "plt.axhline(0, color='black', alpha = 0.6)\n",
    "plt.xticks(rotation = 90, fontsize = 12)\n",
    "\n",
    "plt.grid(which = 'major', axis = 'x')\n",
    "\n",
    "plt.show()"
   ]
  },
  {
   "cell_type": "code",
   "execution_count": null,
   "metadata": {
    "collapsed": false
   },
   "outputs": [],
   "source": [
    "ab = AdaBoostRegressor(n_estimators = 100)\n",
    "\n",
    "scores = cross_val_score(ab, X_scaled, y, cv=cv)\n",
    "scores.mean()"
   ]
  },
  {
   "cell_type": "code",
   "execution_count": null,
   "metadata": {
    "collapsed": false
   },
   "outputs": [],
   "source": [
    "plt.figure(figsize=(12,8))\n",
    "plt.xlabel('Predicted')\n",
    "plt.ylabel('Actual')\n",
    "plt.title('ADA Boost Regressor: Actual vs Predicted', fontsize = 20, y = 1.05)\n",
    "plt.style.use('fivethirtyeight')\n",
    "\n",
    "do_plot(ab, scores.mean().round(3))"
   ]
  },
  {
   "cell_type": "code",
   "execution_count": null,
   "metadata": {
    "collapsed": false
   },
   "outputs": [],
   "source": [
    "ab.fit(X_scaled, y)\n",
    "features = sorted(zip(map(lambda x: round(x, 4), ab.feature_importances_), X_scaled.columns), \n",
    "             reverse=True)\n",
    "features_ab = pd.DataFrame(features, columns = ['importance', 'feature'])\n",
    "features_ab = features_ab.sort_values(by = 'importance', ascending = False)\n",
    "features_ab = features_ab.set_index('feature', drop = True)\n",
    "\n",
    "plt.figure(figsize=(12,8))\n",
    "plt.style.use('fivethirtyeight')\n",
    "\n",
    "features_ab[0:19].plot.bar(color = 'lightgreen')\n",
    "\n",
    "plt.title('Ada Boost Regressor: Feature Importances', fontsize = 20, y = 1.03)\n",
    "\n",
    "# y label\n",
    "plt.ylabel('Coefficient', fontsize = 18)\n",
    "\n",
    "# x label\n",
    "plt.xlabel('Feature', fontsize = 12)\n",
    "plt.axhline(0, color='black', alpha = 0.6)\n",
    "plt.xticks(rotation = 90, fontsize = 12)\n",
    "\n",
    "plt.grid(which = 'major', axis = 'x')\n",
    "\n",
    "plt.show()"
   ]
  },
  {
   "cell_type": "code",
   "execution_count": null,
   "metadata": {
    "collapsed": false
   },
   "outputs": [],
   "source": [
    "gb = GradientBoostingRegressor(n_estimators = 100)\n",
    "\n",
    "scores = cross_val_score(gb, X_scaled, y, cv=cv)\n",
    "scores.mean()"
   ]
  },
  {
   "cell_type": "code",
   "execution_count": null,
   "metadata": {
    "collapsed": false
   },
   "outputs": [],
   "source": [
    "plt.figure(figsize=(12,8))\n",
    "plt.xlabel('Predicted')\n",
    "plt.ylabel('Actual')\n",
    "plt.title('Gradient Boost Regressor: Actual vs Predicted', fontsize = 20, y = 1.05)\n",
    "plt.style.use('fivethirtyeight')\n",
    "\n",
    "do_plot(gb, scores.mean().round(2))"
   ]
  },
  {
   "cell_type": "code",
   "execution_count": null,
   "metadata": {
    "collapsed": false
   },
   "outputs": [],
   "source": [
    "gb.fit(X_scaled, y)\n",
    "features = sorted(zip(map(lambda x: round(x, 4), gb.feature_importances_), X_scaled.columns), \n",
    "             reverse=True)\n",
    "features_gb = pd.DataFrame(features, columns = ['importance', 'feature'])\n",
    "features_gb = features_gb.sort_values(by = 'importance', ascending = False)\n",
    "features_gb = features_gb.set_index('feature', drop = True)\n",
    "\n",
    "plt.figure(figsize=(12,8))\n",
    "plt.style.use('fivethirtyeight')\n",
    "\n",
    "features_gb[0:19].plot.bar(color = 'lightgreen')\n",
    "\n",
    "plt.title('Gradient Boost Regressor: Feature Importances', fontsize = 20, y = 1.03)\n",
    "\n",
    "# y label\n",
    "plt.ylabel('Coefficient', fontsize = 18)\n",
    "\n",
    "# x label\n",
    "plt.xlabel('Feature', fontsize = 12)\n",
    "plt.axhline(0, color='black', alpha = 0.6)\n",
    "plt.xticks(rotation = 90, fontsize = 12)\n",
    "\n",
    "plt.grid(which = 'major', axis = 'x')\n",
    "\n",
    "plt.show()"
   ]
  },
  {
   "cell_type": "code",
   "execution_count": null,
   "metadata": {
    "collapsed": false
   },
   "outputs": [],
   "source": [
    "et = ExtraTreesRegressor(n_jobs = -1, n_estimators = 100)\n",
    "\n",
    "scores = cross_val_score(et, X_scaled, y, cv=cv)\n",
    "scores.mean()"
   ]
  },
  {
   "cell_type": "code",
   "execution_count": null,
   "metadata": {
    "collapsed": false
   },
   "outputs": [],
   "source": [
    "plt.figure(figsize=(12,8))\n",
    "plt.xlabel('Predicted')\n",
    "plt.ylabel('Actual')\n",
    "plt.title('Extra Regressor: Actual vs Predicted', fontsize = 20, y = 1.05)\n",
    "plt.style.use('fivethirtyeight')\n",
    "\n",
    "do_plot(et, scores.mean().round(2))"
   ]
  },
  {
   "cell_type": "code",
   "execution_count": null,
   "metadata": {
    "collapsed": false
   },
   "outputs": [],
   "source": [
    "et.fit(X_scaled, y)\n",
    "features = sorted(zip(map(lambda x: round(x, 4), et.feature_importances_), X_scaled.columns), \n",
    "             reverse=True)\n",
    "features_et = pd.DataFrame(features, columns = ['importance', 'feature'])\n",
    "features_et = features_et.sort_values(by = 'importance', ascending = False)\n",
    "features_et = features_et.set_index('feature', drop = True)\n",
    "\n",
    "plt.figure(figsize=(12,8))\n",
    "plt.style.use('fivethirtyeight')\n",
    "\n",
    "features_et[0:19].plot.bar(color = 'lightgreen')\n",
    "\n",
    "plt.title('Extra Trees Regressor: Feature Importances', fontsize = 20, y = 1.03)\n",
    "\n",
    "# y label\n",
    "plt.ylabel('Coefficient', fontsize = 18)\n",
    "\n",
    "# x label\n",
    "plt.xlabel('Feature', fontsize = 12)\n",
    "plt.axhline(0, color='black', alpha = 0.6)\n",
    "plt.xticks(rotation = 90, fontsize = 12)\n",
    "\n",
    "plt.grid(which = 'major', axis = 'x')\n",
    "\n",
    "plt.show()"
   ]
  },
  {
   "cell_type": "code",
   "execution_count": null,
   "metadata": {
    "collapsed": false
   },
   "outputs": [],
   "source": [
    "bagger = BaggingRegressor(DecisionTreeRegressor())\n",
    "\n",
    "scores = cross_val_score(bagger, X_scaled, y, cv=cv)\n",
    "scores.mean()"
   ]
  },
  {
   "cell_type": "code",
   "execution_count": null,
   "metadata": {
    "collapsed": false
   },
   "outputs": [],
   "source": [
    "plt.figure(figsize=(12,8))\n",
    "plt.xlabel('Predicted')\n",
    "plt.ylabel('Actual')\n",
    "plt.title('Bagging Regressor: Actual vs Predicted', fontsize = 20, y = 1.05)\n",
    "plt.style.use('fivethirtyeight')\n",
    "\n",
    "do_plot(bagger, scores.mean().round(2))"
   ]
  },
  {
   "cell_type": "code",
   "execution_count": null,
   "metadata": {
    "collapsed": false
   },
   "outputs": [],
   "source": [
    "def get_score(model, name):\n",
    "    score = cross_val_score(model, X_scaled, y, cv = cv, n_jobs = -1)\n",
    "    print('{} Score:\\t{:0.3} ± {:0.3}'.format(name, score.mean().round(3), \\\n",
    "                                              score.std().round(3)))\n",
    "    \n",
    "pairs = {\n",
    "    'Decision Tree' : dt,\n",
    "    'Bagging' : bagger,\n",
    "    'Random Forest' : rf,\n",
    "    'Extra Trees' : et,\n",
    "    'Ada Booster' : ab,\n",
    "    'Gradient Booster' : gb\n",
    "}\n",
    "\n",
    "for key in list(pairs.keys()):\n",
    "    get_score(pairs[key], key)"
   ]
  },
  {
   "cell_type": "code",
   "execution_count": null,
   "metadata": {
    "collapsed": false
   },
   "outputs": [],
   "source": [
    "def TheAccumulator(df):\n",
    "    cumulative = []\n",
    "    total = 0\n",
    "    for i in range(len(df)):\n",
    "        cumulative.append(total)\n",
    "        total += df['importance'][i]\n",
    "    df['sum'] = cumulative\n",
    "    df = df.reset_index(drop = True)\n",
    "    return df\n",
    "\n",
    "features_dt = TheAccumulator(features_dt)\n",
    "features_et = TheAccumulator(features_et)\n",
    "features_gb = TheAccumulator(features_gb)\n",
    "features_ab = TheAccumulator(features_ab)\n",
    "features_rf = TheAccumulator(features_rf)\n",
    "\n",
    "plt.figure(figsize=(12,8))\n",
    "plt.style.use('fivethirtyeight')\n",
    "\n",
    "plt.plot(features_dt.index, features_dt['sum'], color = 'Crimson', linewidth = 0.8, \\\n",
    "         label = 'Decision Tree')\n",
    "plt.plot(features_rf.index, features_rf['sum'], color = 'Orange', linewidth = 0.8, \\\n",
    "         label = 'Random Forest')\n",
    "plt.plot(features_et.index, features_et['sum'], color = 'DarkOliveGreen', linewidth = 0.8, \\\n",
    "         label = 'Extra Trees')\n",
    "plt.plot(features_ab.index, features_ab['sum'], color = 'blue', linewidth = 0.4, \\\n",
    "         label = 'Ada Boost')\n",
    "plt.plot(features_gb.index, features_gb['sum'], color = 'purple', linewidth = 0.8, \\\n",
    "         label = 'Gradient Boost')\n",
    "plt.axhline(0, color='black', alpha = 0.6)\n",
    "plt.title('IMDb Top 250: Variance Explained in Tree-based Models', fontsize = 24, y = 1.05)\n",
    "\n",
    "# y label\n",
    "plt.ylabel('Cumulative Variance Explained', fontsize = 18)\n",
    "plt.yticks([0.6, 0.65, 0.7, 0.75, 0.8, 0.85, 0.9, 0.95, 1.0, 1.05], fontsize = 12)\n",
    "\n",
    "# x label\n",
    "plt.xlabel('Index Number', y = 0.1, fontsize = 18)\n",
    "plt.xticks(range(0, 65, 5), fontsize = 12)\n",
    "\n",
    "plt.xlim([-1, 60])\n",
    "plt.ylim([0.6, 1.02])\n",
    "plt.legend(loc='center right', fontsize = 14)\n",
    "\n",
    "plt.show()"
   ]
  },
  {
   "cell_type": "markdown",
   "metadata": {},
   "source": [
    "Looks like ADA Boost Regressor is the way to go with this data set!  Let's dig deeper..."
   ]
  },
  {
   "cell_type": "markdown",
   "metadata": {},
   "source": [
    "Now let's only consider movies post-1962, since right around then seems to have been a turning point in terms of user rating behavior on IMDb:"
   ]
  },
  {
   "cell_type": "code",
   "execution_count": null,
   "metadata": {
    "collapsed": true
   },
   "outputs": [],
   "source": [
    "new_top = big_top[big_top['year'] > 1962]"
   ]
  },
  {
   "cell_type": "markdown",
   "metadata": {},
   "source": [
    "Let's check out a scatterplot of runtime vs number of votes since we only looked at a box and whisker plot before:"
   ]
  },
  {
   "cell_type": "code",
   "execution_count": null,
   "metadata": {
    "collapsed": false
   },
   "outputs": [],
   "source": [
    "plt.figure(figsize=(12,8))\n",
    "plt.style.use('fivethirtyeight')\n",
    "\n",
    "top_year_color = []\n",
    "count = 0\n",
    "for i in new_top['year']:\n",
    "    lil_color = cm.seismic((i-1920)*256/(2017-1920))\n",
    "    top_year_color.append(lil_color)\n",
    "    \n",
    "new_top['top_year_color'] = top_year_color\n",
    "\n",
    "plt.scatter(new_top['run_time'], new_top['num_votes']/1000000, \\\n",
    "            color = new_top['top_year_color'], alpha = 0.5, s = area)\n",
    "\n",
    "plt.title('Number of Votes by Run Time (IMDb Top 250, post_1962 only)', fontsize = 22, y = 1.03)\n",
    "plt.axhline(0, color='black', alpha = 0.5)\n",
    "\n",
    "# y label\n",
    "plt.ylabel('Number of Votes (x 1 million)')\n",
    "\n",
    "# x label\n",
    "plt.xlabel('Run Time (minutes)')\n",
    "\n",
    "# set the figure boundaries\n",
    "plt.xlim([min(new_top['run_time'])-5, max(new_top['run_time'])+5])\n",
    "plt.ylim([0, 1.75])\n",
    "plt.grid(True)\n",
    "plt.annotate('*color gradient evenly distributed across year \\nrange, from earlier (cooler) to more recent (warmer)\\\n",
    "                 \\n **area of point proportional to rating', (1,0), (-200, -20), \\\n",
    "                     xycoords='axes fraction', textcoords='offset points', va='top', fontsize = 12)\n",
    "\n",
    "m, b = np.polyfit(new_top['run_time'], new_top['num_votes']/1000000, 1)\n",
    "\n",
    "plt.plot(new_top['run_time'], m*new_top['run_time'] + b, '-', linewidth = 0.7)\n",
    "\n",
    "plt.show()"
   ]
  },
  {
   "cell_type": "markdown",
   "metadata": {},
   "source": [
    "Check if any columns sum to zero since we took out 1962.  If so, remove them:"
   ]
  },
  {
   "cell_type": "code",
   "execution_count": null,
   "metadata": {
    "collapsed": false
   },
   "outputs": [],
   "source": [
    "for i in new_top.columns:\n",
    "    if new_top[i].sum() == 0:\n",
    "        print '\\n'\n",
    "        print i\n",
    "    else:\n",
    "        print '.',"
   ]
  },
  {
   "cell_type": "code",
   "execution_count": null,
   "metadata": {
    "collapsed": false
   },
   "outputs": [],
   "source": [
    "del new_top['musical']\n",
    "del new_top['noir']\n",
    "del new_top['big_dir_Alfred Hitchcock']\n",
    "del new_top['big_dir_Billy Wilder']\n",
    "del new_top['big_dir_Charles Chaplin']\n",
    "del new_top['big_dir_Frank Capra']\n",
    "del new_top['big_dir_William Wyler']\n",
    "del new_top['top_year_color']"
   ]
  },
  {
   "cell_type": "code",
   "execution_count": null,
   "metadata": {
    "collapsed": false
   },
   "outputs": [],
   "source": [
    "X_post62 = pd.DataFrame(new_top.ix[:, 1:len(new_top.columns)], \\\n",
    "                        columns = new_top.columns[1:len(new_top.columns)])\n",
    "Xs = MinMaxScaler().fit_transform(X_post62.astype(float))\n",
    "Xs = pd.DataFrame(Xs, columns = X_post62.columns[0:len(new_top.columns)])\n",
    "y_new = new_top.ix[:,0]\n",
    "len(Xs.columns)"
   ]
  },
  {
   "cell_type": "code",
   "execution_count": null,
   "metadata": {
    "collapsed": false
   },
   "outputs": [],
   "source": [
    "Xs.head(1)"
   ]
  },
  {
   "cell_type": "code",
   "execution_count": null,
   "metadata": {
    "collapsed": false
   },
   "outputs": [],
   "source": [
    "n = len(Xs)\n",
    "plot_colors = []\n",
    "for i in range(0, 256, 256/n):\n",
    "    plot_colors.append(cm.Accent(i))\n",
    "\n",
    "cv = KFold(len(X_post62), n_folds = n, shuffle=False)\n",
    "\n",
    "\n",
    "def do_plot(model, m=1):\n",
    "    for fold, color in zip(cv, plot_colors):\n",
    "        X_train = X.iloc[fold[0]]\n",
    "        X_test  = X.iloc[fold[1]]\n",
    "        y_train = y.iloc[fold[0]]\n",
    "        y_test  = y.iloc[fold[1]]\n",
    "        model.fit(X_train, y_train)\n",
    "        y_pred = model.predict(X_test)\n",
    "                \n",
    "        plt.scatter(y_pred, y_test, color=color)\n",
    "        plt.plot([8.0,9.5],[8.0,9.5], linewidth = 0.3)\n",
    "        plt.text(9,9.5, \"R^2: \"+str(m), fontsize=20)\n",
    "    return  "
   ]
  },
  {
   "cell_type": "code",
   "execution_count": null,
   "metadata": {
    "collapsed": false
   },
   "outputs": [],
   "source": [
    "dt = DecisionTreeRegressor()\n",
    "\n",
    "scores = cross_val_score(dt, Xs, y_new, cv=cv)\n",
    "scores.mean()"
   ]
  },
  {
   "cell_type": "code",
   "execution_count": null,
   "metadata": {
    "collapsed": false
   },
   "outputs": [],
   "source": [
    "plt.figure(figsize=(12,8))\n",
    "plt.xlabel('Predicted')\n",
    "plt.ylabel('Actual')\n",
    "plt.title('Decision Tree Regressor: Actual vs Predicted (post-1962)', fontsize = 20, y = 1.05)\n",
    "plt.style.use('fivethirtyeight')\n",
    "\n",
    "do_plot(dt, scores.mean().round(2))"
   ]
  },
  {
   "cell_type": "code",
   "execution_count": null,
   "metadata": {
    "collapsed": false
   },
   "outputs": [],
   "source": [
    "dt.fit(Xs, y_new)\n",
    "features = sorted(zip(map(lambda x: round(x, 4), dt.feature_importances_), Xs.columns), \n",
    "             reverse=True)\n",
    "features_dt = pd.DataFrame(features, columns = ['importance', 'feature'])\n",
    "features_dt = features_dt.sort('importance', ascending = False)\n",
    "features_dt = features_dt.set_index('feature', drop = True)"
   ]
  },
  {
   "cell_type": "code",
   "execution_count": null,
   "metadata": {
    "collapsed": false
   },
   "outputs": [],
   "source": [
    "plt.figure(figsize=(12,8))\n",
    "plt.style.use('fivethirtyeight')\n",
    "\n",
    "features_dt[0:19].plot.bar(color = 'lightgreen')\n",
    "\n",
    "plt.title('Decision Tree Regressor: Feature Importances post-1962', fontsize = 20, y = 1.03)\n",
    "\n",
    "# y label\n",
    "plt.ylabel('Coefficient', fontsize = 18)\n",
    "\n",
    "# x label\n",
    "plt.xlabel('Feature', fontsize = 18)\n",
    "plt.axhline(0, color='black', alpha = 0.6)\n",
    "plt.xticks(rotation = 90, fontsize = 13)\n",
    "plt.show()"
   ]
  },
  {
   "cell_type": "code",
   "execution_count": null,
   "metadata": {
    "collapsed": false
   },
   "outputs": [],
   "source": [
    "rf = RandomForestRegressor(n_jobs = -1, n_estimators = 100)\n",
    "\n",
    "scores = cross_val_score(rf, Xs, y_new, cv=cv)\n",
    "scores.mean()"
   ]
  },
  {
   "cell_type": "code",
   "execution_count": null,
   "metadata": {
    "collapsed": false
   },
   "outputs": [],
   "source": [
    "plt.figure(figsize=(12,8))\n",
    "plt.xlabel('Predicted')\n",
    "plt.ylabel('Actual')\n",
    "plt.title('Random Forest Regressor: Actual vs Predicted (post-1962)', fontsize = 20, y = 1.05)\n",
    "plt.style.use('fivethirtyeight')\n",
    "\n",
    "do_plot(rf, scores.mean().round(2))"
   ]
  },
  {
   "cell_type": "code",
   "execution_count": null,
   "metadata": {
    "collapsed": false
   },
   "outputs": [],
   "source": [
    "rf.fit(Xs, y_new)\n",
    "features = sorted(zip(map(lambda x: round(x, 4), rf.feature_importances_), Xs.columns), \n",
    "             reverse=True)\n",
    "features_rf = pd.DataFrame(features, columns = ['importance', 'feature'])\n",
    "features_rf = features_rf.sort('importance', ascending = False)\n",
    "features_rf = features_rf.set_index('feature', drop = True)\n",
    "\n",
    "plt.figure(figsize=(12,8))\n",
    "plt.style.use('fivethirtyeight')\n",
    "\n",
    "features_rf[0:19].plot.bar(color = 'lightgreen')\n",
    "\n",
    "plt.title('Random Forest Regressor: Feature Importances post-1962', fontsize = 20, y = 1.03)\n",
    "\n",
    "# y label\n",
    "plt.ylabel('Coefficient', fontsize = 18)\n",
    "\n",
    "# x label\n",
    "plt.xlabel('Feature', fontsize = 18)\n",
    "plt.axhline(0, color='black', alpha = 0.6)\n",
    "plt.xticks(rotation=90, fontsize = 13)\n",
    "plt.show()"
   ]
  },
  {
   "cell_type": "code",
   "execution_count": null,
   "metadata": {
    "collapsed": false
   },
   "outputs": [],
   "source": [
    "et = ExtraTreesRegressor(n_jobs = -1, n_estimators = 100)\n",
    "\n",
    "scores = cross_val_score(et, Xs, y_new, cv=cv)\n",
    "scores.mean()"
   ]
  },
  {
   "cell_type": "code",
   "execution_count": null,
   "metadata": {
    "collapsed": false,
    "scrolled": true
   },
   "outputs": [],
   "source": [
    "plt.figure(figsize=(12,8))\n",
    "plt.xlabel('Predicted')\n",
    "plt.ylabel('Actual')\n",
    "plt.title('Extra Trees Regressor: Actual vs Predicted (post-1962)', fontsize = 20, y = 1.05)\n",
    "plt.style.use('fivethirtyeight')\n",
    "\n",
    "do_plot(et, scores.mean().round(2))"
   ]
  },
  {
   "cell_type": "code",
   "execution_count": null,
   "metadata": {
    "collapsed": false
   },
   "outputs": [],
   "source": [
    "et.fit(Xs, y_new)\n",
    "features = sorted(zip(map(lambda x: round(x, 4), et.feature_importances_), Xs.columns), \n",
    "             reverse=True)\n",
    "features_et = pd.DataFrame(features, columns = ['importance', 'feature'])\n",
    "features_et = features_et.sort('importance', ascending = False)\n",
    "features_et = features_et.set_index('feature', drop = True)\n",
    "\n",
    "\n",
    "plt.figure(figsize=(12,8))\n",
    "plt.style.use('fivethirtyeight')\n",
    "\n",
    "features_et[0:19].plot.bar(color = 'lightgreen')\n",
    "\n",
    "plt.title('Extra Trees Regressor: Feature Importances post-1962', fontsize = 20, y = 1.03)\n",
    "\n",
    "# y label\n",
    "plt.ylabel('Coefficient', fontsize = 18)\n",
    "\n",
    "# x label\n",
    "plt.xlabel('Feature', fontsize = 18)\n",
    "plt.axhline(0, color='black', alpha = 0.6)\n",
    "plt.xticks(rotation=90, fontsize = 13)\n",
    "plt.show()"
   ]
  },
  {
   "cell_type": "code",
   "execution_count": null,
   "metadata": {
    "collapsed": false
   },
   "outputs": [],
   "source": [
    "ab = AdaBoostRegressor(n_estimators = 100)\n",
    "\n",
    "scores = cross_val_score(ab, Xs, y_new, cv=cv)\n",
    "scores.mean()"
   ]
  },
  {
   "cell_type": "code",
   "execution_count": null,
   "metadata": {
    "collapsed": false
   },
   "outputs": [],
   "source": [
    "plt.figure(figsize=(12,8))\n",
    "plt.xlabel('Predicted')\n",
    "plt.ylabel('Actual')\n",
    "plt.title('Ada Boost Regressor: Actual vs Predicted (post-1962)', fontsize = 20, y = 1.05)\n",
    "plt.style.use('fivethirtyeight')\n",
    "\n",
    "do_plot(ab, scores.mean().round(2))"
   ]
  },
  {
   "cell_type": "code",
   "execution_count": null,
   "metadata": {
    "collapsed": false
   },
   "outputs": [],
   "source": [
    "ab.fit(Xs, y_new)\n",
    "features = sorted(zip(map(lambda x: round(x, 4), ab.feature_importances_), Xs.columns), \n",
    "             reverse=True)\n",
    "features_ab = pd.DataFrame(features, columns = ['importance', 'feature'])\n",
    "features_ab = features_ab.sort('importance', ascending = False)\n",
    "features_ab = features_ab.set_index('feature', drop = True)\n",
    "\n",
    "\n",
    "plt.figure(figsize=(12,8))\n",
    "plt.style.use('fivethirtyeight')\n",
    "\n",
    "features_ab[0:19].plot.bar(color = 'lightgreen')\n",
    "\n",
    "plt.title('ADA Boost Regressor: Feature Importances post-1962', fontsize = 20, y = 1.03)\n",
    "\n",
    "# y label\n",
    "plt.ylabel('Coefficient', fontsize = 18)\n",
    "\n",
    "# x label\n",
    "plt.xlabel('Feature', fontsize = 18)\n",
    "plt.axhline(0, color='black', alpha = 0.6)\n",
    "plt.xticks(rotation=90, fontsize = 13)\n",
    "plt.show()"
   ]
  },
  {
   "cell_type": "code",
   "execution_count": null,
   "metadata": {
    "collapsed": false
   },
   "outputs": [],
   "source": [
    "gb = GradientBoostingRegressor(n_estimators = 100)\n",
    "\n",
    "scores = cross_val_score(gb, Xs, y_new, cv=cv)\n",
    "scores.mean()"
   ]
  },
  {
   "cell_type": "code",
   "execution_count": null,
   "metadata": {
    "collapsed": false
   },
   "outputs": [],
   "source": [
    "plt.figure(figsize=(12,8))\n",
    "plt.xlabel('Predicted')\n",
    "plt.ylabel('Actual')\n",
    "plt.title('Gradient Boost Regressor: Actual vs Predicted (post-1962)', fontsize = 20, y = 1.05)\n",
    "plt.style.use('fivethirtyeight')\n",
    "\n",
    "do_plot(gb, scores.mean().round(2))"
   ]
  },
  {
   "cell_type": "code",
   "execution_count": null,
   "metadata": {
    "collapsed": false
   },
   "outputs": [],
   "source": [
    "gb.fit(Xs, y_new)\n",
    "features = sorted(zip(map(lambda x: round(x, 4), gb.feature_importances_), Xs.columns), \n",
    "             reverse=True)\n",
    "features_gb = pd.DataFrame(features, columns = ['importance', 'feature'])\n",
    "features_gb = features_gb.sort('importance', ascending = False)\n",
    "features_gb = features_gb.set_index('feature', drop = True)\n",
    "\n",
    "\n",
    "plt.figure(figsize=(12,8))\n",
    "plt.style.use('fivethirtyeight')\n",
    "\n",
    "features_gb[0:19].plot.bar(color = 'lightgreen')\n",
    "\n",
    "plt.title('Gradient Boost Regressor: Feature Importances post-1962', fontsize = 20, y = 1.03)\n",
    "\n",
    "# y label\n",
    "plt.ylabel('Coefficient', fontsize = 18)\n",
    "\n",
    "# x label\n",
    "plt.xlabel('Feature', fontsize = 18)\n",
    "plt.axhline(0, color='black', alpha = 0.6)\n",
    "plt.xticks(rotation=90, fontsize = 13)\n",
    "plt.show()"
   ]
  },
  {
   "cell_type": "code",
   "execution_count": null,
   "metadata": {
    "collapsed": false
   },
   "outputs": [],
   "source": [
    "bagger = BaggingRegressor(DecisionTreeRegressor())\n",
    "\n",
    "scores = cross_val_score(bagger, Xs, y_new, cv=cv)\n",
    "scores.mean()"
   ]
  },
  {
   "cell_type": "code",
   "execution_count": null,
   "metadata": {
    "collapsed": false
   },
   "outputs": [],
   "source": [
    "plt.figure(figsize=(12,8))\n",
    "plt.xlabel('Predicted')\n",
    "plt.ylabel('Actual')\n",
    "plt.title('Bagged Tree Regressor: Actual vs Predicted (post-1962)', fontsize = 20, y = 1.05)\n",
    "plt.style.use('fivethirtyeight')\n",
    "\n",
    "do_plot(bagger, scores.mean().round(2))"
   ]
  },
  {
   "cell_type": "code",
   "execution_count": null,
   "metadata": {
    "collapsed": false
   },
   "outputs": [],
   "source": [
    "def get_score(model, name):\n",
    "    score = cross_val_score(model, Xs, y_new, cv = cv, n_jobs = -1)\n",
    "    print('{} Score:\\t{:0.3} ± {:0.3}'.format(name, score.mean().round(3), score.std().round(3)))\n",
    "    \n",
    "pairs = {\n",
    "    'Decision Tree' : dt,\n",
    "    'Bagging' : bagger,\n",
    "    'Random Forest' : rf,\n",
    "    'Extra Trees' : et,\n",
    "    'Ada Booster' : ab,\n",
    "    'Gradient Booster' : gb\n",
    "}\n",
    "\n",
    "for key in list(pairs.keys()):\n",
    "    get_score(pairs[key], key)"
   ]
  },
  {
   "cell_type": "code",
   "execution_count": null,
   "metadata": {
    "collapsed": false
   },
   "outputs": [],
   "source": [
    "def TheAccumulator(df):\n",
    "    cumulative = []\n",
    "    total = 0\n",
    "    for i in range(len(df)):\n",
    "        cumulative.append(total)\n",
    "        total += df['importance'][i]\n",
    "    df['sum'] = cumulative\n",
    "    df = df.reset_index(drop = True)\n",
    "    return df\n",
    "\n",
    "features_dt = TheAccumulator(features_dt)\n",
    "features_et = TheAccumulator(features_et)\n",
    "features_gb = TheAccumulator(features_gb)\n",
    "features_ab = TheAccumulator(features_ab)\n",
    "features_rf = TheAccumulator(features_rf)"
   ]
  },
  {
   "cell_type": "code",
   "execution_count": null,
   "metadata": {
    "collapsed": false
   },
   "outputs": [],
   "source": [
    "plt.figure(figsize=(12,8))\n",
    "plt.style.use('fivethirtyeight')\n",
    "\n",
    "plt.plot(features_dt.index, features_dt['sum'], color = 'Crimson', linewidth = 0.8, label = 'Decision Tree')\n",
    "plt.plot(features_rf.index, features_rf['sum'], color = 'Orange', linewidth = 0.8, label = 'Random Forest')\n",
    "plt.plot(features_et.index, features_et['sum'], color = 'DarkOliveGreen', linewidth = 0.8, label = 'Extra Trees')\n",
    "plt.plot(features_ab.index, features_ab['sum'], color = 'blue', linewidth = 0.4, label = 'Ada Boost')\n",
    "plt.plot(features_gb.index, features_gb['sum'], color = 'purple', linewidth = 0.8, label = 'Gradient Boost')\n",
    "plt.axhline(0, color='black', alpha = 0.6)\n",
    "plt.title('Tree-based Models for IMDb Top 250 post-1962', fontsize = 20, y = 1.05)\n",
    "\n",
    "# y label\n",
    "plt.ylabel('Variance Explained, cumulative')\n",
    "\n",
    "# x label\n",
    "plt.xlabel('Index Number', y = 0.1)\n",
    "\n",
    "plt.xlim([-1, 60])\n",
    "plt.ylim([0.6, 1.02])\n",
    "plt.legend(loc='center right')\n",
    "\n",
    "plt.show()"
   ]
  },
  {
   "cell_type": "markdown",
   "metadata": {},
   "source": [
    "As we can see from changes in the histograms of feature importance, once we remove pre-1962 movies from the data set, vote count becomes more important, while year becomes less so.  This makes sense intuitively, since we know that older movies have fewer votes on average and the number of votes for newer movies is increasingly spread out.  Refer to the Rating vs Number of Votes plot (blue-to-red dots, by year) to illustrate this point; if you take out all the blue points, the variance in remaining dots becomes larger (i.e., number of votes is an even more significant predictive feature).  Along these same lines, once the older movies are removed, year of release is a less significant feature."
   ]
  },
  {
   "cell_type": "markdown",
   "metadata": {},
   "source": [
    "Let's do a classifier now; classifications will be encoded by tenths place from 8.0 to 9.3:"
   ]
  },
  {
   "cell_type": "code",
   "execution_count": null,
   "metadata": {
    "collapsed": false
   },
   "outputs": [],
   "source": [
    "encoder = LabelEncoder()\n",
    "fit = encoder.fit(y_new)\n",
    "y_cats = encoder.transform(y_new)"
   ]
  },
  {
   "cell_type": "markdown",
   "metadata": {},
   "source": [
    "Here are some functions we will need shortly:"
   ]
  },
  {
   "cell_type": "code",
   "execution_count": null,
   "metadata": {
    "collapsed": false
   },
   "outputs": [],
   "source": [
    "def plot_confusion_matrix(cm, title='Confusion matrix', cmap=plt.cm.Blues, labels = ['8.1', '8.2', '8.3', '8.4',\\\n",
    "                                                    '8.5', '8.6', '8.7', '8.8', '8.9', '9.0', '9.1', '9.2', '9.3']):\n",
    "    \n",
    "    plt.figure(figsize=(12,8))\n",
    "    plt.imshow(cm, interpolation='nearest', cmap=cmap)\n",
    "    \n",
    "    tick_marks = np.arange(len(labels))\n",
    "    plt.xticks(tick_marks, labels)\n",
    "    plt.yticks(tick_marks, labels)\n",
    "        \n",
    "    plt.title(title)\n",
    "    plt.ylabel('True label')\n",
    "    plt.xlabel('Predicted label')\n",
    "    plt.tight_layout()\n",
    "    \n",
    "    width, height = cm.shape\n",
    "    \n",
    "    for x in xrange(width):\n",
    "        for y in xrange(height):\n",
    "            plt.annotate(str(cm[x][y]), xy=(y, x), \n",
    "                        horizontalalignment='center',\n",
    "                        verticalalignment='center',\n",
    "                        color = 'white',\n",
    "                        fontsize=18).set_path_effects([path_effects.Stroke(linewidth=1, foreground='black'),\n",
    "                                                       path_effects.Normal()]) #The last line here adds a text outline\n",
    "    return\n",
    "\n",
    "def getROCcurve(roc, title='ROC Curve', xlabel ='% of False Positives', ylabel = '% of True Positives'):\n",
    "    fpr, tpr, thresholds = roc\n",
    "    \n",
    "    fig,ax = plt.subplots()\n",
    "    ax.plot(fpr, tpr, label='ROC Curve')\n",
    "\n",
    "    fig.set_size_inches(7, 6, forward=True)\n",
    "    plt.xlabel(xlabel)\n",
    "    plt.ylabel(ylabel)\n",
    "    plt.title(title)\n",
    "    plt.legend(loc='best')\n",
    "    plt.plot([0, 1], [0, 1], 'k--', linewidth = 0.4, color = 'magenta')\n",
    "    return"
   ]
  },
  {
   "cell_type": "markdown",
   "metadata": {},
   "source": [
    "Here are our train/test splits:"
   ]
  },
  {
   "cell_type": "code",
   "execution_count": null,
   "metadata": {
    "collapsed": true
   },
   "outputs": [],
   "source": [
    "X_train, X_test, y_train, y_test = train_test_split(Xs, y_cats, test_size=0.33, random_state=42)"
   ]
  },
  {
   "cell_type": "markdown",
   "metadata": {},
   "source": [
    "Let's test the classifier models in the same order as corresponding regression models above:"
   ]
  },
  {
   "cell_type": "code",
   "execution_count": null,
   "metadata": {
    "collapsed": false
   },
   "outputs": [],
   "source": [
    "dtc = DecisionTreeClassifier()\n",
    "\n",
    "y_pred = dtc.fit(X_train, y_train).predict(X_test)\n",
    "\n",
    "pred1 = dtc.predict_proba(X_train).T[1]\n",
    "\n",
    "cm = confusion_matrix(y_test, y_pred)\n",
    "\n",
    "plot_confusion_matrix(cm, title='Decision Tree Classifier Confusion Matrix, IMDb Top 250 post-1962')"
   ]
  },
  {
   "cell_type": "code",
   "execution_count": null,
   "metadata": {
    "collapsed": false
   },
   "outputs": [],
   "source": [
    "print 'Decision Tree Classifier:'\n",
    "print 'accuracy: %s' %accuracy_score(y_test, y_pred) # (TP + TN) / (P + N)\n",
    "print 'precision: %s' %precision_score(y_test, y_pred) # TP / P\n",
    "print 'recall: %s' %recall_score(y_test, y_pred) # TP / (TP + FN)"
   ]
  },
  {
   "cell_type": "code",
   "execution_count": null,
   "metadata": {
    "collapsed": false
   },
   "outputs": [],
   "source": [
    "rfc = RandomForestClassifier()\n",
    "\n",
    "y_pred = rfc.fit(X_train, y_train).predict(X_test)\n",
    "\n",
    "pred1 = rfc.predict_proba(X_train).T[1]\n",
    "\n",
    "cm = confusion_matrix(y_test, y_pred)\n",
    "\n",
    "plot_confusion_matrix(cm, title='Random Forest Classifier Confusion Matrix, IMDb Top 250 post-1962')"
   ]
  },
  {
   "cell_type": "code",
   "execution_count": null,
   "metadata": {
    "collapsed": false
   },
   "outputs": [],
   "source": [
    "print 'Random Forest Classifier:'\n",
    "print 'accuracy: %s' %accuracy_score(y_test, y_pred) # (TP + TN) / (P + N)\n",
    "print 'precision: %s' %precision_score(y_test, y_pred) # TP / P\n",
    "print 'recall: %s' %recall_score(y_test, y_pred) # TP / (TP + FN)"
   ]
  },
  {
   "cell_type": "code",
   "execution_count": null,
   "metadata": {
    "collapsed": false
   },
   "outputs": [],
   "source": [
    "etc = ExtraTreesClassifier()\n",
    "\n",
    "y_pred = etc.fit(X_train, y_train).predict(X_test)\n",
    "\n",
    "pred1 = etc.predict_proba(X_train).T[1]\n",
    "\n",
    "cm = confusion_matrix(y_test, y_pred)\n",
    "\n",
    "plot_confusion_matrix(cm, title='Extra Trees Classifier Confusion Matrix, IMDb Top 250 post-1962')"
   ]
  },
  {
   "cell_type": "code",
   "execution_count": null,
   "metadata": {
    "collapsed": false
   },
   "outputs": [],
   "source": [
    "print 'Extra Trees Classifier:'\n",
    "print 'accuracy: %s' %accuracy_score(y_test, y_pred) # (TP + TN) / (P + N)\n",
    "print 'precision: %s' %precision_score(y_test, y_pred) # TP / P\n",
    "print 'recall: %s' %recall_score(y_test, y_pred) # TP / (TP + FN)"
   ]
  },
  {
   "cell_type": "code",
   "execution_count": null,
   "metadata": {
    "collapsed": false
   },
   "outputs": [],
   "source": [
    "gbc = GradientBoostingClassifier()\n",
    "\n",
    "y_pred = gbc.fit(X_train, y_train).predict(X_test)\n",
    "\n",
    "pred1 = gbc.predict_proba(X_train).T[1]\n",
    "\n",
    "cm = confusion_matrix(y_test, y_pred)\n",
    "\n",
    "plot_confusion_matrix(cm, title='Gradient Boosting Classifier Confusion Matrix, IMDb Top 250 post-1962')"
   ]
  },
  {
   "cell_type": "code",
   "execution_count": null,
   "metadata": {
    "collapsed": false
   },
   "outputs": [],
   "source": [
    "print 'Gradient Boosting Classifier:'\n",
    "print 'accuracy: %s' %accuracy_score(y_test, y_pred) # (TP + TN) / (P + N)\n",
    "print 'precision: %s' %precision_score(y_test, y_pred) # TP / P\n",
    "print 'recall: %s' %recall_score(y_test, y_pred) # TP / (TP + FN)"
   ]
  },
  {
   "cell_type": "markdown",
   "metadata": {
    "collapsed": true
   },
   "source": [
    "Extra Trees Classifier looks like our best option, here!  Not perfect, obviously, but it's getting a lot of 8.2 ratings correct and slightly overrating some of them.  We can pick a model based on what our preferences are for accuracy/recall/precision but that looks like the best one overall."
   ]
  },
  {
   "cell_type": "markdown",
   "metadata": {},
   "source": [
    "As it stands, number of votes, runtime, and year of release are the most important features in predicting user rating using these tree-based models.  In terms of further analysis, we could consider taking into account leading actors (and supporting ones!), language of release, cost of acquisition to Netflix, etc.  To pick which model to use for prediction we should further discuss the cost to the company of misclassifying a movie's rating."
   ]
  },
  {
   "cell_type": "code",
   "execution_count": null,
   "metadata": {
    "collapsed": true
   },
   "outputs": [],
   "source": [
    "for this in soup_list:        \n",
    "    try:\n",
    "        c = this.find('a', href=re.compile('/search/title?country')).text: \n",
    "        if c:\n",
    "            countries.append(c)\n",
    "    except:\n",
    "        countries.append(None)    \n",
    "\n",
    "    try:\n",
    "        lol_keyword=[]\n",
    "        for b in this.findAll('div', class_ = 'see-more inline canwrap'):\n",
    "            for c in b.find_All('a',href=('/keyword/')):\n",
    "                for d in c.find_All('span',class_=re.compile('itemprop')):\n",
    "                    lol_keyword.append(d.text)\n",
    "        key_words.append(lol_keyword)\n",
    "    except:\n",
    "        key_words.append(None)\n",
    "\n",
    "    try:\n",
    "        for a in this.find_All('div',class_='subtext'):\n",
    "            for b in a.find_All('time',itemprop='duration'):\n",
    "                runtimes.append(b.text)\n",
    "    except:\n",
    "        runtimes.append(None)\n",
    "    try:\n",
    "        release_date=a.find('a', href='/title/tt0167260/releaseinfo?ref_=tt_ov_inf') \n",
    "        Release_Dates.append(release_date)\n",
    "    except:\n",
    "        Release_Dates.append(None)\n",
    "    try:\n",
    "        MPA=a.find('meta',itemrop='contentRating').text\n",
    "        MPAA_Rate.append(MPA)"
   ]
  }
 ],
 "metadata": {
  "kernelspec": {
   "display_name": "Python 2",
   "language": "python",
   "name": "python2"
  },
  "language_info": {
   "codemirror_mode": {
    "name": "ipython",
    "version": 2
   },
   "file_extension": ".py",
   "mimetype": "text/x-python",
   "name": "python",
   "nbconvert_exporter": "python",
   "pygments_lexer": "ipython2",
   "version": "2.7.12"
  }
 },
 "nbformat": 4,
 "nbformat_minor": 0
}
