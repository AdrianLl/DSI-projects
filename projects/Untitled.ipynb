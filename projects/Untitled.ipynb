{
 "cells": [
  {
   "cell_type": "code",
   "execution_count": 6,
   "metadata": {
    "collapsed": false
   },
   "outputs": [
    {
     "name": "stdout",
     "output_type": "stream",
     "text": [
      "[1.0, 1.4142135623730951, 1.7320508075688772, 2.0, 2.23606797749979, 1.0, 1.4142135623730951, 1.7320508075688772, 2.0, 2.23606797749979]\n"
     ]
    }
   ],
   "source": [
    "nums = [1,2,3,4,5]\n",
    "roots = []\n",
    "for n in nums:\n",
    "    roots.append(n**(0.5))\n",
    "    \n",
    "[roots.append(n**(0.5)) for n in nums]\n",
    "\n",
    "print roots"
   ]
  },
  {
   "cell_type": "code",
   "execution_count": 17,
   "metadata": {
    "collapsed": false
   },
   "outputs": [
    {
     "name": "stdout",
     "output_type": "stream",
     "text": [
      "[1, 1]\n",
      "[[2, 2], [3, 3], [4, 4]]\n"
     ]
    }
   ],
   "source": [
    "matrix = [[1,1], [2,2], [3,3]]\n",
    "new_matrix = []\n",
    "#for t in matrix:\n",
    "#    new_t = []\n",
    "#    for i in t:\n",
    "#        new_t.append(i + 1)\n",
    "#    new_matrix.append(new_t)\n",
    "\n",
    "print matrix[0]\n",
    "\n",
    "[new_matrix.append([matrix[t][0]+1, matrix[t][1]+1]) for t in range(len(matrix))]\n",
    "\n",
    "\n",
    "print new_matrix"
   ]
  },
  {
   "cell_type": "code",
   "execution_count": 11,
   "metadata": {
    "collapsed": false
   },
   "outputs": [
    {
     "name": "stdout",
     "output_type": "stream",
     "text": [
      "['Dan', 'Alex', 'Winston']\n"
     ]
    }
   ],
   "source": [
    "names = [\"Dan Y\", \"Alex C\", \"Winston FB\"]\n",
    "first_names = []\n",
    "#for n in names:\n",
    "#    first = n.split(' ')[0]\n",
    "#    first_names.append(first)\n",
    "    \n",
    "[first_names.append(n.split(' ')[0]) for n in names]\n",
    "\n",
    "print first_names"
   ]
  },
  {
   "cell_type": "code",
   "execution_count": null,
   "metadata": {
    "collapsed": true
   },
   "outputs": [],
   "source": []
  }
 ],
 "metadata": {
  "kernelspec": {
   "display_name": "Python 2",
   "language": "python",
   "name": "python2"
  },
  "language_info": {
   "codemirror_mode": {
    "name": "ipython",
    "version": 2
   },
   "file_extension": ".py",
   "mimetype": "text/x-python",
   "name": "python",
   "nbconvert_exporter": "python",
   "pygments_lexer": "ipython2",
   "version": "2.7.11"
  }
 },
 "nbformat": 4,
 "nbformat_minor": 0
}
