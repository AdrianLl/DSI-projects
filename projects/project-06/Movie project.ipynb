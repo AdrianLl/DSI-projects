{
 "cells": [
  {
   "cell_type": "code",
   "execution_count": 3,
   "metadata": {
    "collapsed": false
   },
   "outputs": [],
   "source": [
    "from IPython.core.display import Image\n",
    "from imdbpie import Imdb\n",
    "import pandas as pd\n",
    "import plotly as pt\n",
    "from matplotlib import pyplot as plt\n",
    "import numpy as np\n",
    "from sklearn import cross_validation, preprocessing\n",
    "import time\n",
    "import requests\n",
    "import bs4\n",
    "from bs4 import BeautifulSoup\n",
    "import cPickle\n",
    "import seaborn as sns\n",
    "import re\n",
    "from matplotlib import cm\n",
    "from matplotlib.colors import ColorConverter\n",
    "\n",
    "% matplotlib inline"
   ]
  },
  {
   "cell_type": "code",
   "execution_count": 4,
   "metadata": {
    "collapsed": true
   },
   "outputs": [],
   "source": [
    "\n",
    "\n",
    "\n",
    "# import statsmodels.api as st\n",
    "# import sklearn\n",
    "# from sklearn import linear_model as lm\n",
    "# from sklearn import cross_validation, preprocessing\n",
    "# import matplotlib.cm as cm\n",
    "# from sklearn.metrics import confusion_matrix\n",
    "# from sklearn.metrics import roc_curve\n",
    "# from sklearn.metrics import roc_auc_score\n",
    "# from sklearn.cross_validation import train_test_split\n",
    "# from sklearn.metrics import accuracy_score\n",
    "# from sklearn.metrics import precision_score\n",
    "# from sklearn.metrics import recall_score\n",
    "# from sklearn.cross_validation import train_test_split\n",
    "# from sklearn.cross_validation import cross_val_predict\n",
    "# from sklearn.cross_validation import cross_val_score\n",
    "# import matplotlib.patheffects as path_effects\n",
    "# from sklearn.metrics import mean_squared_error"
   ]
  },
  {
   "cell_type": "code",
   "execution_count": 5,
   "metadata": {
    "collapsed": true
   },
   "outputs": [],
   "source": [
    "imdb = Imdb()\n",
    "imdb = Imdb(anonymize=True)\n",
    "imdb = Imdb(cache=True)"
   ]
  },
  {
   "cell_type": "code",
   "execution_count": 6,
   "metadata": {
    "collapsed": false
   },
   "outputs": [],
   "source": [
    "top = imdb.top_250()"
   ]
  },
  {
   "cell_type": "code",
   "execution_count": 7,
   "metadata": {
    "collapsed": false
   },
   "outputs": [],
   "source": [
    "top = pd.DataFrame(top)"
   ]
  },
  {
   "cell_type": "code",
   "execution_count": 8,
   "metadata": {
    "collapsed": false
   },
   "outputs": [
    {
     "data": {
      "text/plain": [
       "250"
      ]
     },
     "execution_count": 8,
     "metadata": {},
     "output_type": "execute_result"
    }
   ],
   "source": [
    "len(top)"
   ]
  },
  {
   "cell_type": "code",
   "execution_count": 9,
   "metadata": {
    "collapsed": false
   },
   "outputs": [
    {
     "data": {
      "text/html": [
       "<div>\n",
       "<table border=\"1\" class=\"dataframe\">\n",
       "  <thead>\n",
       "    <tr style=\"text-align: right;\">\n",
       "      <th></th>\n",
       "      <th>can_rate</th>\n",
       "      <th>image</th>\n",
       "      <th>num_votes</th>\n",
       "      <th>rating</th>\n",
       "      <th>tconst</th>\n",
       "      <th>title</th>\n",
       "      <th>type</th>\n",
       "      <th>year</th>\n",
       "    </tr>\n",
       "  </thead>\n",
       "  <tbody>\n",
       "    <tr>\n",
       "      <th>0</th>\n",
       "      <td>True</td>\n",
       "      <td>{u'url': u'http://ia.media-imdb.com/images/M/M...</td>\n",
       "      <td>1679913</td>\n",
       "      <td>9.3</td>\n",
       "      <td>tt0111161</td>\n",
       "      <td>The Shawshank Redemption</td>\n",
       "      <td>feature</td>\n",
       "      <td>1994</td>\n",
       "    </tr>\n",
       "    <tr>\n",
       "      <th>1</th>\n",
       "      <td>True</td>\n",
       "      <td>{u'url': u'http://ia.media-imdb.com/images/M/M...</td>\n",
       "      <td>1149354</td>\n",
       "      <td>9.2</td>\n",
       "      <td>tt0068646</td>\n",
       "      <td>The Godfather</td>\n",
       "      <td>feature</td>\n",
       "      <td>1972</td>\n",
       "    </tr>\n",
       "    <tr>\n",
       "      <th>2</th>\n",
       "      <td>True</td>\n",
       "      <td>{u'url': u'http://ia.media-imdb.com/images/M/M...</td>\n",
       "      <td>786040</td>\n",
       "      <td>9.0</td>\n",
       "      <td>tt0071562</td>\n",
       "      <td>The Godfather: Part II</td>\n",
       "      <td>feature</td>\n",
       "      <td>1974</td>\n",
       "    </tr>\n",
       "    <tr>\n",
       "      <th>3</th>\n",
       "      <td>True</td>\n",
       "      <td>{u'url': u'http://ia.media-imdb.com/images/M/M...</td>\n",
       "      <td>1664956</td>\n",
       "      <td>9.0</td>\n",
       "      <td>tt0468569</td>\n",
       "      <td>The Dark Knight</td>\n",
       "      <td>feature</td>\n",
       "      <td>2008</td>\n",
       "    </tr>\n",
       "    <tr>\n",
       "      <th>4</th>\n",
       "      <td>True</td>\n",
       "      <td>{u'url': u'http://ia.media-imdb.com/images/M/M...</td>\n",
       "      <td>859779</td>\n",
       "      <td>8.9</td>\n",
       "      <td>tt0108052</td>\n",
       "      <td>Schindler's List</td>\n",
       "      <td>feature</td>\n",
       "      <td>1993</td>\n",
       "    </tr>\n",
       "  </tbody>\n",
       "</table>\n",
       "</div>"
      ],
      "text/plain": [
       "  can_rate                                              image  num_votes  \\\n",
       "0     True  {u'url': u'http://ia.media-imdb.com/images/M/M...    1679913   \n",
       "1     True  {u'url': u'http://ia.media-imdb.com/images/M/M...    1149354   \n",
       "2     True  {u'url': u'http://ia.media-imdb.com/images/M/M...     786040   \n",
       "3     True  {u'url': u'http://ia.media-imdb.com/images/M/M...    1664956   \n",
       "4     True  {u'url': u'http://ia.media-imdb.com/images/M/M...     859779   \n",
       "\n",
       "   rating     tconst                     title     type  year  \n",
       "0     9.3  tt0111161  The Shawshank Redemption  feature  1994  \n",
       "1     9.2  tt0068646             The Godfather  feature  1972  \n",
       "2     9.0  tt0071562    The Godfather: Part II  feature  1974  \n",
       "3     9.0  tt0468569           The Dark Knight  feature  2008  \n",
       "4     8.9  tt0108052          Schindler's List  feature  1993  "
      ]
     },
     "execution_count": 9,
     "metadata": {},
     "output_type": "execute_result"
    }
   ],
   "source": [
    "top.head()"
   ]
  },
  {
   "cell_type": "code",
   "execution_count": 10,
   "metadata": {
    "collapsed": false
   },
   "outputs": [
    {
     "data": {
      "text/plain": [
       "{u'height': 1388,\n",
       " u'url': u'http://ia.media-imdb.com/images/M/MV5BODU4MjU4NjIwNl5BMl5BanBnXkFtZTgwMDU2MjEyMDE@._V1_.jpg',\n",
       " u'width': 933}"
      ]
     },
     "execution_count": 10,
     "metadata": {},
     "output_type": "execute_result"
    }
   ],
   "source": [
    "top['image'][0]"
   ]
  },
  {
   "cell_type": "code",
   "execution_count": 11,
   "metadata": {
    "collapsed": true
   },
   "outputs": [],
   "source": [
    "del top['image']"
   ]
  },
  {
   "cell_type": "code",
   "execution_count": 12,
   "metadata": {
    "collapsed": false
   },
   "outputs": [
    {
     "data": {
      "text/plain": [
       "can_rate        bool\n",
       "num_votes      int64\n",
       "rating       float64\n",
       "tconst        object\n",
       "title         object\n",
       "type          object\n",
       "year          object\n",
       "dtype: object"
      ]
     },
     "execution_count": 12,
     "metadata": {},
     "output_type": "execute_result"
    }
   ],
   "source": [
    "top.dtypes"
   ]
  },
  {
   "cell_type": "code",
   "execution_count": 13,
   "metadata": {
    "collapsed": false
   },
   "outputs": [
    {
     "data": {
      "text/plain": [
       "True    250\n",
       "Name: can_rate, dtype: int64"
      ]
     },
     "execution_count": 13,
     "metadata": {},
     "output_type": "execute_result"
    }
   ],
   "source": [
    "top['can_rate'].value_counts()"
   ]
  },
  {
   "cell_type": "code",
   "execution_count": 14,
   "metadata": {
    "collapsed": true
   },
   "outputs": [],
   "source": [
    "del top['can_rate']"
   ]
  },
  {
   "cell_type": "code",
   "execution_count": 15,
   "metadata": {
    "collapsed": false
   },
   "outputs": [
    {
     "data": {
      "text/plain": [
       "feature    250\n",
       "Name: type, dtype: int64"
      ]
     },
     "execution_count": 15,
     "metadata": {},
     "output_type": "execute_result"
    }
   ],
   "source": [
    "top['type'].value_counts()"
   ]
  },
  {
   "cell_type": "code",
   "execution_count": 16,
   "metadata": {
    "collapsed": true
   },
   "outputs": [],
   "source": [
    "del top['type']"
   ]
  },
  {
   "cell_type": "code",
   "execution_count": 17,
   "metadata": {
    "collapsed": true
   },
   "outputs": [],
   "source": [
    "top['year'] = top['year'].apply(lambda x: int(x))"
   ]
  },
  {
   "cell_type": "code",
   "execution_count": 18,
   "metadata": {
    "collapsed": false
   },
   "outputs": [
    {
     "data": {
      "text/plain": [
       "count    2.500000e+02\n",
       "mean     4.033579e+05\n",
       "std      3.310560e+05\n",
       "min      2.508900e+04\n",
       "25%      1.229030e+05\n",
       "50%      3.235895e+05\n",
       "75%      5.947830e+05\n",
       "max      1.679913e+06\n",
       "Name: num_votes, dtype: float64"
      ]
     },
     "execution_count": 18,
     "metadata": {},
     "output_type": "execute_result"
    }
   ],
   "source": [
    "top['num_votes'].describe()"
   ]
  },
  {
   "cell_type": "code",
   "execution_count": 19,
   "metadata": {
    "collapsed": false
   },
   "outputs": [
    {
     "data": {
      "image/png": "[encoded data removed]",
      "text/plain": [
       "<matplotlib.figure.Figure at 0x112cc4350>"
      ]
     },
     "metadata": {},
     "output_type": "display_data"
    }
   ],
   "source": [
    "plt.figure(figsize=(12,8))\n",
    "plt.style.use('fivethirtyeight')\n",
    "\n",
    "df_hist = plt.hist(top['num_votes']/1000, color = 'darkred', bins = 30, alpha = 0.7)\n",
    "plt.axvline(top['num_votes'].median()/1000, color='b', linestyle='dashed', linewidth=1.3, label = 'median')\n",
    "plt.axvline(top['num_votes'].mean()/1000, color='g', linestyle='dashed', linewidth=1.3, label = 'mean')\n",
    "plt.axhline(0, color='black')\n",
    "plt.title('Histogram of Votes per Top 250 Movie', fontsize = 20, y = 1.05)\n",
    "\n",
    "# y label\n",
    "plt.ylabel('Frequency')\n",
    "\n",
    "# x label\n",
    "plt.xlabel('Number of Votes (x 1000)')\n",
    "\n",
    "plt.xlim([0, max(top['num_votes']/1000)])\n",
    "plt.ylim([0, 40])\n",
    "\n",
    "plt.legend(loc='upper right', fontsize = 15)\n",
    "\n",
    "plt.show()"
   ]
  },
  {
   "cell_type": "markdown",
   "metadata": {},
   "source": [
    "Which movies have more than a million votes?"
   ]
  },
  {
   "cell_type": "code",
   "execution_count": 20,
   "metadata": {
    "collapsed": false
   },
   "outputs": [
    {
     "name": "stderr",
     "output_type": "stream",
     "text": [
      "/Users/Rebecca/anaconda/lib/python2.7/site-packages/ipykernel/__main__.py:1: FutureWarning:\n",
      "\n",
      "sort(columns=....) is deprecated, use sort_values(by=.....)\n",
      "\n"
     ]
    },
    {
     "data": {
      "text/html": [
       "<div>\n",
       "<table border=\"1\" class=\"dataframe\">\n",
       "  <thead>\n",
       "    <tr style=\"text-align: right;\">\n",
       "      <th></th>\n",
       "      <th>title</th>\n",
       "      <th>year</th>\n",
       "    </tr>\n",
       "  </thead>\n",
       "  <tbody>\n",
       "    <tr>\n",
       "      <th>1</th>\n",
       "      <td>The Godfather</td>\n",
       "      <td>1972</td>\n",
       "    </tr>\n",
       "    <tr>\n",
       "      <th>0</th>\n",
       "      <td>The Shawshank Redemption</td>\n",
       "      <td>1994</td>\n",
       "    </tr>\n",
       "    <tr>\n",
       "      <th>6</th>\n",
       "      <td>Pulp Fiction</td>\n",
       "      <td>1994</td>\n",
       "    </tr>\n",
       "    <tr>\n",
       "      <th>12</th>\n",
       "      <td>Forrest Gump</td>\n",
       "      <td>1994</td>\n",
       "    </tr>\n",
       "    <tr>\n",
       "      <th>21</th>\n",
       "      <td>Se7en</td>\n",
       "      <td>1995</td>\n",
       "    </tr>\n",
       "    <tr>\n",
       "      <th>9</th>\n",
       "      <td>Fight Club</td>\n",
       "      <td>1999</td>\n",
       "    </tr>\n",
       "    <tr>\n",
       "      <th>17</th>\n",
       "      <td>The Matrix</td>\n",
       "      <td>1999</td>\n",
       "    </tr>\n",
       "    <tr>\n",
       "      <th>10</th>\n",
       "      <td>The Lord of the Rings: The Fellowship of the Ring</td>\n",
       "      <td>2001</td>\n",
       "    </tr>\n",
       "    <tr>\n",
       "      <th>14</th>\n",
       "      <td>The Lord of the Rings: The Two Towers</td>\n",
       "      <td>2002</td>\n",
       "    </tr>\n",
       "    <tr>\n",
       "      <th>7</th>\n",
       "      <td>The Lord of the Rings: The Return of the King</td>\n",
       "      <td>2003</td>\n",
       "    </tr>\n",
       "    <tr>\n",
       "      <th>3</th>\n",
       "      <td>The Dark Knight</td>\n",
       "      <td>2008</td>\n",
       "    </tr>\n",
       "    <tr>\n",
       "      <th>13</th>\n",
       "      <td>Inception</td>\n",
       "      <td>2010</td>\n",
       "    </tr>\n",
       "    <tr>\n",
       "      <th>61</th>\n",
       "      <td>The Dark Knight Rises</td>\n",
       "      <td>2012</td>\n",
       "    </tr>\n",
       "  </tbody>\n",
       "</table>\n",
       "</div>"
      ],
      "text/plain": [
       "                                                title  year\n",
       "1                                       The Godfather  1972\n",
       "0                            The Shawshank Redemption  1994\n",
       "6                                        Pulp Fiction  1994\n",
       "12                                       Forrest Gump  1994\n",
       "21                                              Se7en  1995\n",
       "9                                          Fight Club  1999\n",
       "17                                         The Matrix  1999\n",
       "10  The Lord of the Rings: The Fellowship of the Ring  2001\n",
       "14              The Lord of the Rings: The Two Towers  2002\n",
       "7       The Lord of the Rings: The Return of the King  2003\n",
       "3                                     The Dark Knight  2008\n",
       "13                                          Inception  2010\n",
       "61                              The Dark Knight Rises  2012"
      ]
     },
     "execution_count": 20,
     "metadata": {},
     "output_type": "execute_result"
    }
   ],
   "source": [
    "top[top['num_votes'] > 1000000][['title', 'year']].sort('year')"
   ]
  },
  {
   "cell_type": "code",
   "execution_count": 21,
   "metadata": {
    "collapsed": false
   },
   "outputs": [
    {
     "data": {
      "text/plain": [
       "count    250.000000\n",
       "mean       8.315200\n",
       "std        0.231133\n",
       "min        8.000000\n",
       "25%        8.100000\n",
       "50%        8.300000\n",
       "75%        8.400000\n",
       "max        9.300000\n",
       "Name: rating, dtype: float64"
      ]
     },
     "execution_count": 21,
     "metadata": {},
     "output_type": "execute_result"
    }
   ],
   "source": [
    "top['rating'].describe()"
   ]
  },
  {
   "cell_type": "markdown",
   "metadata": {},
   "source": [
    "Remember: minimum rating is so high because we're only looking at top 250 movies!"
   ]
  },
  {
   "cell_type": "code",
   "execution_count": 22,
   "metadata": {
    "collapsed": false
   },
   "outputs": [
    {
     "data": {
      "image/png": "[encoded data removed]",
      "text/plain": [
       "<matplotlib.figure.Figure at 0x113662f50>"
      ]
     },
     "metadata": {},
     "output_type": "display_data"
    }
   ],
   "source": [
    "plt.figure(figsize=(12,8))\n",
    "plt.style.use('fivethirtyeight')\n",
    "\n",
    "df_hist = plt.hist(top['rating'], color = 'dodgerblue', alpha = 0.5, bins = 30)\n",
    "plt.axvline(top['rating'].median(), color='b', linestyle='dashed', linewidth=1.3, label = 'median')\n",
    "plt.axvline(top['rating'].mean(), color='g', linestyle='dashed', linewidth=1.3, label = 'mean')\n",
    "plt.axhline(0, color='black', alpha = 0.6)\n",
    "plt.title('Histogram of Movie Rating (Top 250)', fontsize = 20, y = 1.05)\n",
    "\n",
    "# y label\n",
    "plt.ylabel('Frequency')\n",
    "\n",
    "# x label\n",
    "plt.xlabel('Rating')\n",
    "\n",
    "plt.xlim([min(top['rating']), 10])\n",
    "#plt.ylim([-10, 85])\n",
    "\n",
    "plt.legend(loc='upper right', fontsize = 15)\n",
    "\n",
    "plt.show()"
   ]
  },
  {
   "cell_type": "code",
   "execution_count": 23,
   "metadata": {
    "collapsed": false
   },
   "outputs": [
    {
     "data": {
      "text/plain": [
       "count     250.000000\n",
       "mean     1984.028000\n",
       "std        24.152361\n",
       "min      1921.000000\n",
       "25%      1964.000000\n",
       "50%      1991.000000\n",
       "75%      2003.750000\n",
       "max      2016.000000\n",
       "Name: year, dtype: float64"
      ]
     },
     "execution_count": 23,
     "metadata": {},
     "output_type": "execute_result"
    }
   ],
   "source": [
    "top['year'].describe()"
   ]
  },
  {
   "cell_type": "markdown",
   "metadata": {},
   "source": [
    "In the histogram below, each bar slot represents one year:"
   ]
  },
  {
   "cell_type": "code",
   "execution_count": 24,
   "metadata": {
    "collapsed": false
   },
   "outputs": [
    {
     "data": {
      "image/png": "[encoded data removed]",
      "text/plain": [
       "<matplotlib.figure.Figure at 0x119c72490>"
      ]
     },
     "metadata": {},
     "output_type": "display_data"
    }
   ],
   "source": [
    "plt.figure(figsize=(12,8))\n",
    "plt.style.use('fivethirtyeight')\n",
    "\n",
    "df_hist = plt.hist(top['year'], color = 'burlywood', alpha = 0.8, bins = 95)\n",
    "plt.axvline(top['year'].median(), color='b', linestyle='dashed', linewidth=1.3, label = 'median')\n",
    "plt.axvline(top['year'].mean(), color='g', linestyle='dashed', linewidth=1.3, label = 'mean')\n",
    "plt.axhline(0, color='black')\n",
    "plt.title('Histogram of Movie Release Year (Top 250)', fontsize = 20)\n",
    "\n",
    "# y label\n",
    "plt.ylabel('Frequency')\n",
    "\n",
    "# x label\n",
    "plt.xlabel('Year')\n",
    "\n",
    "plt.xlim([min(top['year']), max(top['year'])])\n",
    "plt.ylim([0, 11.5])\n",
    "\n",
    "plt.legend(loc='upper right', fontsize = 15)\n",
    "\n",
    "plt.show()"
   ]
  },
  {
   "cell_type": "markdown",
   "metadata": {},
   "source": [
    "1957 was a good year:"
   ]
  },
  {
   "cell_type": "code",
   "execution_count": 25,
   "metadata": {
    "collapsed": false
   },
   "outputs": [
    {
     "data": {
      "text/html": [
       "<div>\n",
       "<table border=\"1\" class=\"dataframe\">\n",
       "  <thead>\n",
       "    <tr style=\"text-align: right;\">\n",
       "      <th></th>\n",
       "      <th>title</th>\n",
       "      <th>year</th>\n",
       "    </tr>\n",
       "  </thead>\n",
       "  <tbody>\n",
       "    <tr>\n",
       "      <th>5</th>\n",
       "      <td>12 Angry Men</td>\n",
       "      <td>1957</td>\n",
       "    </tr>\n",
       "    <tr>\n",
       "      <th>56</th>\n",
       "      <td>Paths of Glory</td>\n",
       "      <td>1957</td>\n",
       "    </tr>\n",
       "    <tr>\n",
       "      <th>71</th>\n",
       "      <td>Witness for the Prosecution</td>\n",
       "      <td>1957</td>\n",
       "    </tr>\n",
       "    <tr>\n",
       "      <th>131</th>\n",
       "      <td>The Bridge on the River Kwai</td>\n",
       "      <td>1957</td>\n",
       "    </tr>\n",
       "    <tr>\n",
       "      <th>134</th>\n",
       "      <td>The Seventh Seal</td>\n",
       "      <td>1957</td>\n",
       "    </tr>\n",
       "    <tr>\n",
       "      <th>140</th>\n",
       "      <td>Wild Strawberries</td>\n",
       "      <td>1957</td>\n",
       "    </tr>\n",
       "    <tr>\n",
       "      <th>174</th>\n",
       "      <td>Nights of Cabiria</td>\n",
       "      <td>1957</td>\n",
       "    </tr>\n",
       "    <tr>\n",
       "      <th>245</th>\n",
       "      <td>Throne of Blood</td>\n",
       "      <td>1957</td>\n",
       "    </tr>\n",
       "  </tbody>\n",
       "</table>\n",
       "</div>"
      ],
      "text/plain": [
       "                            title  year\n",
       "5                    12 Angry Men  1957\n",
       "56                 Paths of Glory  1957\n",
       "71    Witness for the Prosecution  1957\n",
       "131  The Bridge on the River Kwai  1957\n",
       "134              The Seventh Seal  1957\n",
       "140             Wild Strawberries  1957\n",
       "174             Nights of Cabiria  1957\n",
       "245               Throne of Blood  1957"
      ]
     },
     "execution_count": 25,
     "metadata": {},
     "output_type": "execute_result"
    }
   ],
   "source": [
    "top[top['year'] == 1957][['title', 'year']]"
   ]
  },
  {
   "cell_type": "markdown",
   "metadata": {},
   "source": [
    "As was 1995:"
   ]
  },
  {
   "cell_type": "code",
   "execution_count": 26,
   "metadata": {
    "collapsed": false
   },
   "outputs": [
    {
     "data": {
      "text/html": [
       "<div>\n",
       "<table border=\"1\" class=\"dataframe\">\n",
       "  <thead>\n",
       "    <tr style=\"text-align: right;\">\n",
       "      <th></th>\n",
       "      <th>title</th>\n",
       "      <th>year</th>\n",
       "    </tr>\n",
       "  </thead>\n",
       "  <tbody>\n",
       "    <tr>\n",
       "      <th>21</th>\n",
       "      <td>Se7en</td>\n",
       "      <td>1995</td>\n",
       "    </tr>\n",
       "    <tr>\n",
       "      <th>24</th>\n",
       "      <td>The Usual Suspects</td>\n",
       "      <td>1995</td>\n",
       "    </tr>\n",
       "    <tr>\n",
       "      <th>75</th>\n",
       "      <td>Braveheart</td>\n",
       "      <td>1995</td>\n",
       "    </tr>\n",
       "    <tr>\n",
       "      <th>91</th>\n",
       "      <td>Toy Story</td>\n",
       "      <td>1995</td>\n",
       "    </tr>\n",
       "    <tr>\n",
       "      <th>122</th>\n",
       "      <td>Heat</td>\n",
       "      <td>1995</td>\n",
       "    </tr>\n",
       "    <tr>\n",
       "      <th>138</th>\n",
       "      <td>Casino</td>\n",
       "      <td>1995</td>\n",
       "    </tr>\n",
       "    <tr>\n",
       "      <th>205</th>\n",
       "      <td>Before Sunrise</td>\n",
       "      <td>1995</td>\n",
       "    </tr>\n",
       "    <tr>\n",
       "      <th>219</th>\n",
       "      <td>Twelve Monkeys</td>\n",
       "      <td>1995</td>\n",
       "    </tr>\n",
       "    <tr>\n",
       "      <th>227</th>\n",
       "      <td>La Haine</td>\n",
       "      <td>1995</td>\n",
       "    </tr>\n",
       "  </tbody>\n",
       "</table>\n",
       "</div>"
      ],
      "text/plain": [
       "                  title  year\n",
       "21                Se7en  1995\n",
       "24   The Usual Suspects  1995\n",
       "75           Braveheart  1995\n",
       "91            Toy Story  1995\n",
       "122                Heat  1995\n",
       "138              Casino  1995\n",
       "205      Before Sunrise  1995\n",
       "219      Twelve Monkeys  1995\n",
       "227            La Haine  1995"
      ]
     },
     "execution_count": 26,
     "metadata": {},
     "output_type": "execute_result"
    }
   ],
   "source": [
    "top[top['year'] == 1995][['title', 'year']]"
   ]
  },
  {
   "cell_type": "markdown",
   "metadata": {},
   "source": [
    "The spike farthest to the right on the histogram is combined 2015 and 2016-to-date:"
   ]
  },
  {
   "cell_type": "code",
   "execution_count": 27,
   "metadata": {
    "collapsed": false
   },
   "outputs": [
    {
     "name": "stderr",
     "output_type": "stream",
     "text": [
      "/Users/Rebecca/anaconda/lib/python2.7/site-packages/ipykernel/__main__.py:1: FutureWarning:\n",
      "\n",
      "sort(columns=....) is deprecated, use sort_values(by=.....)\n",
      "\n"
     ]
    },
    {
     "data": {
      "text/html": [
       "<div>\n",
       "<table border=\"1\" class=\"dataframe\">\n",
       "  <thead>\n",
       "    <tr style=\"text-align: right;\">\n",
       "      <th></th>\n",
       "      <th>title</th>\n",
       "      <th>year</th>\n",
       "    </tr>\n",
       "  </thead>\n",
       "  <tbody>\n",
       "    <tr>\n",
       "      <th>118</th>\n",
       "      <td>Inside Out</td>\n",
       "      <td>2015</td>\n",
       "    </tr>\n",
       "    <tr>\n",
       "      <th>123</th>\n",
       "      <td>Room</td>\n",
       "      <td>2015</td>\n",
       "    </tr>\n",
       "    <tr>\n",
       "      <th>141</th>\n",
       "      <td>Star Wars: The Force Awakens</td>\n",
       "      <td>2015</td>\n",
       "    </tr>\n",
       "    <tr>\n",
       "      <th>180</th>\n",
       "      <td>Spotlight</td>\n",
       "      <td>2015</td>\n",
       "    </tr>\n",
       "    <tr>\n",
       "      <th>183</th>\n",
       "      <td>Mad Max: Fury Road</td>\n",
       "      <td>2015</td>\n",
       "    </tr>\n",
       "    <tr>\n",
       "      <th>213</th>\n",
       "      <td>The Revenant</td>\n",
       "      <td>2015</td>\n",
       "    </tr>\n",
       "    <tr>\n",
       "      <th>232</th>\n",
       "      <td>The Martian</td>\n",
       "      <td>2015</td>\n",
       "    </tr>\n",
       "    <tr>\n",
       "      <th>159</th>\n",
       "      <td>Captain America: Civil War</td>\n",
       "      <td>2016</td>\n",
       "    </tr>\n",
       "    <tr>\n",
       "      <th>178</th>\n",
       "      <td>Zootopia</td>\n",
       "      <td>2016</td>\n",
       "    </tr>\n",
       "    <tr>\n",
       "      <th>203</th>\n",
       "      <td>Deadpool</td>\n",
       "      <td>2016</td>\n",
       "    </tr>\n",
       "  </tbody>\n",
       "</table>\n",
       "</div>"
      ],
      "text/plain": [
       "                            title  year\n",
       "118                    Inside Out  2015\n",
       "123                          Room  2015\n",
       "141  Star Wars: The Force Awakens  2015\n",
       "180                     Spotlight  2015\n",
       "183            Mad Max: Fury Road  2015\n",
       "213                  The Revenant  2015\n",
       "232                   The Martian  2015\n",
       "159    Captain America: Civil War  2016\n",
       "178                      Zootopia  2016\n",
       "203                      Deadpool  2016"
      ]
     },
     "execution_count": 27,
     "metadata": {},
     "output_type": "execute_result"
    }
   ],
   "source": [
    "top[(top['year'] == 2015) | (top['year'] == 2016)][['title', 'year']].sort('year')"
   ]
  },
  {
   "cell_type": "code",
   "execution_count": 28,
   "metadata": {
    "collapsed": false
   },
   "outputs": [],
   "source": [
    "top_scaled = preprocessing.scale(top[['num_votes', 'rating', 'year']])\n",
    "top_scaled = pd.DataFrame(top_scaled, columns = ['num_votes', 'rating', 'year'])"
   ]
  },
  {
   "cell_type": "code",
   "execution_count": 29,
   "metadata": {
    "collapsed": false
   },
   "outputs": [
    {
     "data": {
      "text/plain": [
       "<seaborn.axisgrid.PairGrid at 0x11b0ede50>"
      ]
     },
     "execution_count": 29,
     "metadata": {},
     "output_type": "execute_result"
    },
    {
     "data": {
      "image/png": "[encoded data removed]",
      "text/plain": [
       "<matplotlib.figure.Figure at 0x11b0fc510>"
      ]
     },
     "metadata": {},
     "output_type": "display_data"
    }
   ],
   "source": [
    "sns.pairplot(top_scaled)"
   ]
  },
  {
   "cell_type": "markdown",
   "metadata": {},
   "source": [
    "Let's dig a little deeper into these plots...  \n",
    "\n",
    "We'll use 'rating' to assign the area of points on a scatterplot of number of votes vs. year of movie release.  If we just try dividing by a constant, the difference in size is not readily apparent, so let's try normalizing!"
   ]
  },
  {
   "cell_type": "code",
   "execution_count": 30,
   "metadata": {
    "collapsed": false
   },
   "outputs": [
    {
     "data": {
      "text/plain": [
       "count    2.500000e+02\n",
       "mean     3.674838e-15\n",
       "std      1.002006e+00\n",
       "min     -1.366450e+00\n",
       "25%     -9.329318e-01\n",
       "50%     -6.589481e-02\n",
       "75%      3.676237e-01\n",
       "max      4.269290e+00\n",
       "Name: rating, dtype: float64"
      ]
     },
     "execution_count": 30,
     "metadata": {},
     "output_type": "execute_result"
    }
   ],
   "source": [
    "top_scaled['rating'].describe()"
   ]
  },
  {
   "cell_type": "code",
   "execution_count": 31,
   "metadata": {
    "collapsed": false
   },
   "outputs": [
    {
     "data": {
      "image/png": "[encoded data removed]",
      "text/plain": [
       "<matplotlib.figure.Figure at 0x11b7f2c10>"
      ]
     },
     "metadata": {},
     "output_type": "display_data"
    }
   ],
   "source": [
    "plt.figure(figsize=(12,8))\n",
    "plt.style.use('fivethirtyeight')\n",
    "\n",
    "df_hist = plt.hist(top_scaled['rating'], color = 'dodgerblue', alpha = 0.5, bins = 30)\n",
    "plt.axvline(top_scaled['rating'].median(), color='b', linestyle='dashed', linewidth=1.3, label = 'median')\n",
    "plt.axvline(top_scaled['rating'].mean(), color='g', linestyle='dashed', linewidth=1.3, label = 'mean')\n",
    "plt.axhline(0, color='black')\n",
    "plt.title('Histogram of Standardized Movie Ratings (Top 250)', fontsize = 20)\n",
    "\n",
    "# y label\n",
    "plt.ylabel('Frequency')\n",
    "\n",
    "# x label\n",
    "plt.xlabel('Standardized Rating')\n",
    "\n",
    "plt.xlim([min(top_scaled['rating']), max(top_scaled['rating'])])\n",
    "#plt.ylim([-10, 85])\n",
    "\n",
    "plt.legend(loc='upper right', fontsize = 15)\n",
    "\n",
    "plt.show()"
   ]
  },
  {
   "cell_type": "markdown",
   "metadata": {},
   "source": [
    "If we use the standardized ratings multiplied by a constant, though, we'll have a negative area assigned to everything under the mean!  Can't have that.  Let's add a little more than the minimum value to every standardized rating and then multiply by a constant:"
   ]
  },
  {
   "cell_type": "code",
   "execution_count": 32,
   "metadata": {
    "collapsed": false
   },
   "outputs": [
    {
     "data": {
      "image/png": "[encoded data removed]",
      "text/plain": [
       "<matplotlib.figure.Figure at 0x11bdad150>"
      ]
     },
     "metadata": {},
     "output_type": "display_data"
    }
   ],
   "source": [
    "plt.figure(figsize=(12,8))\n",
    "plt.style.use('fivethirtyeight')\n",
    "\n",
    "area = (top_scaled['rating'] + 1.4)*30\n",
    "\n",
    "plt.scatter(top['year'], top['num_votes']/1000000, color = 'darkgreen', alpha = 0.5, s = area, \\\n",
    "            label = 'number of votes')\n",
    "\n",
    "plt.title('Number of Votes by Year of Movie Release (Top 250)', fontsize = 22)\n",
    "plt.axhline(0, color='black', alpha = 0.5)\n",
    "plt.axvline(2016, color='b', linestyle='dashed', alpha = 0.7, linewidth=0.8, label = 'current year (2016)')\n",
    "\n",
    "# y label\n",
    "plt.ylabel('Number of Votes (x 1 million)')\n",
    "\n",
    "# x label\n",
    "plt.xlabel('Year of Release')\n",
    "\n",
    "# set the figure boundaries\n",
    "plt.xlim([min(top['year'])-5, 2020])\n",
    "plt.ylim([0, 2.2])\n",
    "plt.grid(True)\n",
    "plt.legend(loc='upper right', fontsize = 12)\n",
    "plt.annotate('**area of points is proportional to rating', (1,0), (-200, -20), \\\n",
    "             xycoords='axes fraction', textcoords='offset points', va='top', fontsize = 12)\n",
    "plt.show()"
   ]
  },
  {
   "cell_type": "code",
   "execution_count": 33,
   "metadata": {
    "collapsed": false
   },
   "outputs": [
    {
     "data": {
      "text/plain": [
       "count    2.500000e+02\n",
       "mean    -8.291146e-16\n",
       "std      1.002006e+00\n",
       "min     -2.614835e+00\n",
       "25%     -8.308991e-01\n",
       "50%      2.892465e-01\n",
       "75%      8.182042e-01\n",
       "max      1.326418e+00\n",
       "Name: year, dtype: float64"
      ]
     },
     "execution_count": 33,
     "metadata": {},
     "output_type": "execute_result"
    }
   ],
   "source": [
    "top_scaled['year'].describe()"
   ]
  },
  {
   "cell_type": "markdown",
   "metadata": {},
   "source": [
    "The plot below is not as 'nice-looking' as the previous one; let's scrape imdb.com to find some more variables!"
   ]
  },
  {
   "cell_type": "code",
   "execution_count": 37,
   "metadata": {
    "collapsed": false
   },
   "outputs": [
    {
     "data": {
      "image/png": "[encoded data removed]",
      "text/plain": [
       "<matplotlib.figure.Figure at 0x11d0b4590>"
      ]
     },
     "metadata": {},
     "output_type": "display_data"
    }
   ],
   "source": [
    "plt.figure(figsize=(12,8))\n",
    "plt.style.use('fivethirtyeight')\n",
    "\n",
    "# def rand_jitter(arr):\n",
    "#     stdev = .005*(max(arr)-min(arr))\n",
    "#     return arr + np.random.randn(len(arr)) * stdev\n",
    "\n",
    "# def jitter(x, y, s=10, marker='o', cmap=None, norm=None, vmin=None, vmax=None, alpha=None, linewidths=None, \\\n",
    "#            verts=None, hold=None, **kwargs):\n",
    "#     return plt.scatter(rand_jitter(x), rand_jitter(y), s=s, marker=marker, cmap=cmap, norm=norm, vmin=vmin, \\\n",
    "#                        vmax=vmax, alpha=alpha, linewidths=linewidths, verts=verts, hold=hold, **kwargs)\n",
    "#jitter(top['num_votes']/1000000, top['rating'], color = 'purple', alpha = 0.5, s = area)\n",
    "\n",
    "area = (top_scaled['year'] + 3)*15\n",
    "\n",
    "plt.scatter(top['num_votes']/1000000, top['rating'], color = 'purple', alpha = 0.5, s = area)\n",
    "\n",
    "plt.title('Number of Votes by Year of Movie Release (Top 250)', fontsize = 22)\n",
    "plt.axhline(0, color='darkblue', alpha = 0.5)\n",
    "# y label\n",
    "plt.ylabel('Rating (/10)')\n",
    "\n",
    "# x label\n",
    "plt.xlabel('Number of Votes (x 1 million)')\n",
    "\n",
    "# set the figure boundaries\n",
    "plt.xlim([-0.05, 2])\n",
    "plt.ylim([7.9, 9.5])\n",
    "plt.grid(True)\n",
    "\n",
    "m, b = np.polyfit(top['num_votes']/1000000, top['rating'], 1)\n",
    "\n",
    "plt.plot(top['num_votes']/1000000, m*top['num_votes']/1000000 + b, '-', linewidth = 0.7)\n",
    "\n",
    "plt.annotate('**area of points is proportional to year of release', (1,0), (-200, -20), \\\n",
    "             xycoords='axes fraction', textcoords='offset points', va='top', fontsize = 12)\n",
    "plt.show()\n",
    "\n",
    "## jitter assistance from:\n",
    "## http://stackoverflow.com/questions/8671808/matplotlib-avoiding-overlapping-datapoints-in-a-scatter-dot-beeswarm-plot"
   ]
  },
  {
   "cell_type": "markdown",
   "metadata": {},
   "source": [
    "Let's use an API to get what we can:"
   ]
  },
  {
   "cell_type": "code",
   "execution_count": 38,
   "metadata": {
    "collapsed": false
   },
   "outputs": [],
   "source": [
    "# certification = []\n",
    "# for movie in top['tconst']:\n",
    "#     time.sleep(1)\n",
    "#     title = imdb.get_title_by_id(movie)\n",
    "#     cert = title.certification\n",
    "#     certification.append(cert)\n",
    "    \n",
    "# if len(certification) == 250:\n",
    "#     certification = pd.DataFrame(certification, columns = ['cert'])\n",
    "#     certification.to_csv('/Users/Rebecca/DSI-projects/projects/project-06/assets/certification.csv', index = False)\n",
    "#     top['cert'] = certification\n",
    "# else:\n",
    "#     print 'Uh oh!  We didn\\'t get 250 observations!  There are %s instead :(' %len(certification)"
   ]
  },
  {
   "cell_type": "code",
   "execution_count": 39,
   "metadata": {
    "collapsed": false
   },
   "outputs": [],
   "source": [
    "certification = pd.read_csv('/Users/Rebecca/DSI-projects/projects/project-06/assets/certification.csv')\n",
    "certification.columns = ['cert']\n",
    "top['cert'] = certification"
   ]
  },
  {
   "cell_type": "code",
   "execution_count": 40,
   "metadata": {
    "collapsed": false
   },
   "outputs": [
    {
     "data": {
      "text/plain": [
       "R            92\n",
       "Not Rated    33\n",
       "PG           32\n",
       "PG-13        30\n",
       "Approved     14\n",
       "Unrated      12\n",
       "G            10\n",
       "TV-PG         9\n",
       "TV-14         6\n",
       "TV-MA         4\n",
       "Passed        3\n",
       "M             2\n",
       "X             1\n",
       "TV-G          1\n",
       "E             1\n",
       "Name: cert, dtype: int64"
      ]
     },
     "execution_count": 40,
     "metadata": {},
     "output_type": "execute_result"
    }
   ],
   "source": [
    "top['cert'].value_counts()"
   ]
  },
  {
   "cell_type": "markdown",
   "metadata": {},
   "source": [
    "Let's consolidate these as much as possible.  Examine (imdb.com, wikipedia) each certification except 'R', 'PG', 'PG-13', 'G'.  We'll assume those have been categorized properly.  Update if necessary. "
   ]
  },
  {
   "cell_type": "code",
   "execution_count": 41,
   "metadata": {
    "collapsed": false
   },
   "outputs": [
    {
     "name": "stderr",
     "output_type": "stream",
     "text": [
      "/Users/Rebecca/anaconda/lib/python2.7/site-packages/ipykernel/__main__.py:1: SettingWithCopyWarning:\n",
      "\n",
      "\n",
      "A value is trying to be set on a copy of a slice from a DataFrame\n",
      "\n",
      "See the caveats in the documentation: http://pandas.pydata.org/pandas-docs/stable/indexing.html#indexing-view-versus-copy\n",
      "\n",
      "/Users/Rebecca/anaconda/lib/python2.7/site-packages/ipykernel/__main__.py:2: SettingWithCopyWarning:\n",
      "\n",
      "\n",
      "A value is trying to be set on a copy of a slice from a DataFrame\n",
      "\n",
      "See the caveats in the documentation: http://pandas.pydata.org/pandas-docs/stable/indexing.html#indexing-view-versus-copy\n",
      "\n",
      "/Users/Rebecca/anaconda/lib/python2.7/site-packages/ipykernel/__main__.py:3: SettingWithCopyWarning:\n",
      "\n",
      "\n",
      "A value is trying to be set on a copy of a slice from a DataFrame\n",
      "\n",
      "See the caveats in the documentation: http://pandas.pydata.org/pandas-docs/stable/indexing.html#indexing-view-versus-copy\n",
      "\n",
      "/Users/Rebecca/anaconda/lib/python2.7/site-packages/ipykernel/__main__.py:4: SettingWithCopyWarning:\n",
      "\n",
      "\n",
      "A value is trying to be set on a copy of a slice from a DataFrame\n",
      "\n",
      "See the caveats in the documentation: http://pandas.pydata.org/pandas-docs/stable/indexing.html#indexing-view-versus-copy\n",
      "\n",
      "/Users/Rebecca/anaconda/lib/python2.7/site-packages/ipykernel/__main__.py:5: SettingWithCopyWarning:\n",
      "\n",
      "\n",
      "A value is trying to be set on a copy of a slice from a DataFrame\n",
      "\n",
      "See the caveats in the documentation: http://pandas.pydata.org/pandas-docs/stable/indexing.html#indexing-view-versus-copy\n",
      "\n",
      "/Users/Rebecca/anaconda/lib/python2.7/site-packages/ipykernel/__main__.py:6: SettingWithCopyWarning:\n",
      "\n",
      "\n",
      "A value is trying to be set on a copy of a slice from a DataFrame\n",
      "\n",
      "See the caveats in the documentation: http://pandas.pydata.org/pandas-docs/stable/indexing.html#indexing-view-versus-copy\n",
      "\n",
      "/Users/Rebecca/anaconda/lib/python2.7/site-packages/ipykernel/__main__.py:7: SettingWithCopyWarning:\n",
      "\n",
      "\n",
      "A value is trying to be set on a copy of a slice from a DataFrame\n",
      "\n",
      "See the caveats in the documentation: http://pandas.pydata.org/pandas-docs/stable/indexing.html#indexing-view-versus-copy\n",
      "\n",
      "/Users/Rebecca/anaconda/lib/python2.7/site-packages/ipykernel/__main__.py:8: SettingWithCopyWarning:\n",
      "\n",
      "\n",
      "A value is trying to be set on a copy of a slice from a DataFrame\n",
      "\n",
      "See the caveats in the documentation: http://pandas.pydata.org/pandas-docs/stable/indexing.html#indexing-view-versus-copy\n",
      "\n",
      "/Users/Rebecca/anaconda/lib/python2.7/site-packages/ipykernel/__main__.py:9: SettingWithCopyWarning:\n",
      "\n",
      "\n",
      "A value is trying to be set on a copy of a slice from a DataFrame\n",
      "\n",
      "See the caveats in the documentation: http://pandas.pydata.org/pandas-docs/stable/indexing.html#indexing-view-versus-copy\n",
      "\n",
      "/Users/Rebecca/anaconda/lib/python2.7/site-packages/ipykernel/__main__.py:10: SettingWithCopyWarning:\n",
      "\n",
      "\n",
      "A value is trying to be set on a copy of a slice from a DataFrame\n",
      "\n",
      "See the caveats in the documentation: http://pandas.pydata.org/pandas-docs/stable/indexing.html#indexing-view-versus-copy\n",
      "\n",
      "/Users/Rebecca/anaconda/lib/python2.7/site-packages/ipykernel/__main__.py:11: SettingWithCopyWarning:\n",
      "\n",
      "\n",
      "A value is trying to be set on a copy of a slice from a DataFrame\n",
      "\n",
      "See the caveats in the documentation: http://pandas.pydata.org/pandas-docs/stable/indexing.html#indexing-view-versus-copy\n",
      "\n",
      "/Users/Rebecca/anaconda/lib/python2.7/site-packages/ipykernel/__main__.py:12: SettingWithCopyWarning:\n",
      "\n",
      "\n",
      "A value is trying to be set on a copy of a slice from a DataFrame\n",
      "\n",
      "See the caveats in the documentation: http://pandas.pydata.org/pandas-docs/stable/indexing.html#indexing-view-versus-copy\n",
      "\n",
      "/Users/Rebecca/anaconda/lib/python2.7/site-packages/ipykernel/__main__.py:13: SettingWithCopyWarning:\n",
      "\n",
      "\n",
      "A value is trying to be set on a copy of a slice from a DataFrame\n",
      "\n",
      "See the caveats in the documentation: http://pandas.pydata.org/pandas-docs/stable/indexing.html#indexing-view-versus-copy\n",
      "\n",
      "/Users/Rebecca/anaconda/lib/python2.7/site-packages/ipykernel/__main__.py:14: SettingWithCopyWarning:\n",
      "\n",
      "\n",
      "A value is trying to be set on a copy of a slice from a DataFrame\n",
      "\n",
      "See the caveats in the documentation: http://pandas.pydata.org/pandas-docs/stable/indexing.html#indexing-view-versus-copy\n",
      "\n",
      "/Users/Rebecca/anaconda/lib/python2.7/site-packages/ipykernel/__main__.py:15: SettingWithCopyWarning:\n",
      "\n",
      "\n",
      "A value is trying to be set on a copy of a slice from a DataFrame\n",
      "\n",
      "See the caveats in the documentation: http://pandas.pydata.org/pandas-docs/stable/indexing.html#indexing-view-versus-copy\n",
      "\n",
      "/Users/Rebecca/anaconda/lib/python2.7/site-packages/ipykernel/__main__.py:16: SettingWithCopyWarning:\n",
      "\n",
      "\n",
      "A value is trying to be set on a copy of a slice from a DataFrame\n",
      "\n",
      "See the caveats in the documentation: http://pandas.pydata.org/pandas-docs/stable/indexing.html#indexing-view-versus-copy\n",
      "\n",
      "/Users/Rebecca/anaconda/lib/python2.7/site-packages/ipykernel/__main__.py:17: SettingWithCopyWarning:\n",
      "\n",
      "\n",
      "A value is trying to be set on a copy of a slice from a DataFrame\n",
      "\n",
      "See the caveats in the documentation: http://pandas.pydata.org/pandas-docs/stable/indexing.html#indexing-view-versus-copy\n",
      "\n",
      "/Users/Rebecca/anaconda/lib/python2.7/site-packages/ipykernel/__main__.py:18: SettingWithCopyWarning:\n",
      "\n",
      "\n",
      "A value is trying to be set on a copy of a slice from a DataFrame\n",
      "\n",
      "See the caveats in the documentation: http://pandas.pydata.org/pandas-docs/stable/indexing.html#indexing-view-versus-copy\n",
      "\n",
      "/Users/Rebecca/anaconda/lib/python2.7/site-packages/ipykernel/__main__.py:19: SettingWithCopyWarning:\n",
      "\n",
      "\n",
      "A value is trying to be set on a copy of a slice from a DataFrame\n",
      "\n",
      "See the caveats in the documentation: http://pandas.pydata.org/pandas-docs/stable/indexing.html#indexing-view-versus-copy\n",
      "\n",
      "/Users/Rebecca/anaconda/lib/python2.7/site-packages/ipykernel/__main__.py:20: SettingWithCopyWarning:\n",
      "\n",
      "\n",
      "A value is trying to be set on a copy of a slice from a DataFrame\n",
      "\n",
      "See the caveats in the documentation: http://pandas.pydata.org/pandas-docs/stable/indexing.html#indexing-view-versus-copy\n",
      "\n",
      "/Users/Rebecca/anaconda/lib/python2.7/site-packages/ipykernel/__main__.py:21: SettingWithCopyWarning:\n",
      "\n",
      "\n",
      "A value is trying to be set on a copy of a slice from a DataFrame\n",
      "\n",
      "See the caveats in the documentation: http://pandas.pydata.org/pandas-docs/stable/indexing.html#indexing-view-versus-copy\n",
      "\n",
      "/Users/Rebecca/anaconda/lib/python2.7/site-packages/ipykernel/__main__.py:22: SettingWithCopyWarning:\n",
      "\n",
      "\n",
      "A value is trying to be set on a copy of a slice from a DataFrame\n",
      "\n",
      "See the caveats in the documentation: http://pandas.pydata.org/pandas-docs/stable/indexing.html#indexing-view-versus-copy\n",
      "\n",
      "/Users/Rebecca/anaconda/lib/python2.7/site-packages/ipykernel/__main__.py:23: SettingWithCopyWarning:\n",
      "\n",
      "\n",
      "A value is trying to be set on a copy of a slice from a DataFrame\n",
      "\n",
      "See the caveats in the documentation: http://pandas.pydata.org/pandas-docs/stable/indexing.html#indexing-view-versus-copy\n",
      "\n",
      "/Users/Rebecca/anaconda/lib/python2.7/site-packages/ipykernel/__main__.py:24: SettingWithCopyWarning:\n",
      "\n",
      "\n",
      "A value is trying to be set on a copy of a slice from a DataFrame\n",
      "\n",
      "See the caveats in the documentation: http://pandas.pydata.org/pandas-docs/stable/indexing.html#indexing-view-versus-copy\n",
      "\n",
      "/Users/Rebecca/anaconda/lib/python2.7/site-packages/ipykernel/__main__.py:25: SettingWithCopyWarning:\n",
      "\n",
      "\n",
      "A value is trying to be set on a copy of a slice from a DataFrame\n",
      "\n",
      "See the caveats in the documentation: http://pandas.pydata.org/pandas-docs/stable/indexing.html#indexing-view-versus-copy\n",
      "\n",
      "/Users/Rebecca/anaconda/lib/python2.7/site-packages/ipykernel/__main__.py:26: SettingWithCopyWarning:\n",
      "\n",
      "\n",
      "A value is trying to be set on a copy of a slice from a DataFrame\n",
      "\n",
      "See the caveats in the documentation: http://pandas.pydata.org/pandas-docs/stable/indexing.html#indexing-view-versus-copy\n",
      "\n",
      "/Users/Rebecca/anaconda/lib/python2.7/site-packages/ipykernel/__main__.py:27: SettingWithCopyWarning:\n",
      "\n",
      "\n",
      "A value is trying to be set on a copy of a slice from a DataFrame\n",
      "\n",
      "See the caveats in the documentation: http://pandas.pydata.org/pandas-docs/stable/indexing.html#indexing-view-versus-copy\n",
      "\n",
      "/Users/Rebecca/anaconda/lib/python2.7/site-packages/ipykernel/__main__.py:28: SettingWithCopyWarning:\n",
      "\n",
      "\n",
      "A value is trying to be set on a copy of a slice from a DataFrame\n",
      "\n",
      "See the caveats in the documentation: http://pandas.pydata.org/pandas-docs/stable/indexing.html#indexing-view-versus-copy\n",
      "\n",
      "/Users/Rebecca/anaconda/lib/python2.7/site-packages/ipykernel/__main__.py:29: SettingWithCopyWarning:\n",
      "\n",
      "\n",
      "A value is trying to be set on a copy of a slice from a DataFrame\n",
      "\n",
      "See the caveats in the documentation: http://pandas.pydata.org/pandas-docs/stable/indexing.html#indexing-view-versus-copy\n",
      "\n",
      "/Users/Rebecca/anaconda/lib/python2.7/site-packages/ipykernel/__main__.py:30: SettingWithCopyWarning:\n",
      "\n",
      "\n",
      "A value is trying to be set on a copy of a slice from a DataFrame\n",
      "\n",
      "See the caveats in the documentation: http://pandas.pydata.org/pandas-docs/stable/indexing.html#indexing-view-versus-copy\n",
      "\n",
      "/Users/Rebecca/anaconda/lib/python2.7/site-packages/ipykernel/__main__.py:31: SettingWithCopyWarning:\n",
      "\n",
      "\n",
      "A value is trying to be set on a copy of a slice from a DataFrame\n",
      "\n",
      "See the caveats in the documentation: http://pandas.pydata.org/pandas-docs/stable/indexing.html#indexing-view-versus-copy\n",
      "\n",
      "/Users/Rebecca/anaconda/lib/python2.7/site-packages/ipykernel/__main__.py:32: SettingWithCopyWarning:\n",
      "\n",
      "\n",
      "A value is trying to be set on a copy of a slice from a DataFrame\n",
      "\n",
      "See the caveats in the documentation: http://pandas.pydata.org/pandas-docs/stable/indexing.html#indexing-view-versus-copy\n",
      "\n",
      "/Users/Rebecca/anaconda/lib/python2.7/site-packages/ipykernel/__main__.py:33: SettingWithCopyWarning:\n",
      "\n",
      "\n",
      "A value is trying to be set on a copy of a slice from a DataFrame\n",
      "\n",
      "See the caveats in the documentation: http://pandas.pydata.org/pandas-docs/stable/indexing.html#indexing-view-versus-copy\n",
      "\n",
      "/Users/Rebecca/anaconda/lib/python2.7/site-packages/ipykernel/__main__.py:34: SettingWithCopyWarning:\n",
      "\n",
      "\n",
      "A value is trying to be set on a copy of a slice from a DataFrame\n",
      "\n",
      "See the caveats in the documentation: http://pandas.pydata.org/pandas-docs/stable/indexing.html#indexing-view-versus-copy\n",
      "\n",
      "/Users/Rebecca/anaconda/lib/python2.7/site-packages/ipykernel/__main__.py:35: SettingWithCopyWarning:\n",
      "\n",
      "\n",
      "A value is trying to be set on a copy of a slice from a DataFrame\n",
      "\n",
      "See the caveats in the documentation: http://pandas.pydata.org/pandas-docs/stable/indexing.html#indexing-view-versus-copy\n",
      "\n",
      "/Users/Rebecca/anaconda/lib/python2.7/site-packages/ipykernel/__main__.py:36: SettingWithCopyWarning:\n",
      "\n",
      "\n",
      "A value is trying to be set on a copy of a slice from a DataFrame\n",
      "\n",
      "See the caveats in the documentation: http://pandas.pydata.org/pandas-docs/stable/indexing.html#indexing-view-versus-copy\n",
      "\n",
      "/Users/Rebecca/anaconda/lib/python2.7/site-packages/ipykernel/__main__.py:37: SettingWithCopyWarning:\n",
      "\n",
      "\n",
      "A value is trying to be set on a copy of a slice from a DataFrame\n",
      "\n",
      "See the caveats in the documentation: http://pandas.pydata.org/pandas-docs/stable/indexing.html#indexing-view-versus-copy\n",
      "\n",
      "/Users/Rebecca/anaconda/lib/python2.7/site-packages/ipykernel/__main__.py:38: SettingWithCopyWarning:\n",
      "\n",
      "\n",
      "A value is trying to be set on a copy of a slice from a DataFrame\n",
      "\n",
      "See the caveats in the documentation: http://pandas.pydata.org/pandas-docs/stable/indexing.html#indexing-view-versus-copy\n",
      "\n",
      "/Users/Rebecca/anaconda/lib/python2.7/site-packages/ipykernel/__main__.py:39: SettingWithCopyWarning:\n",
      "\n",
      "\n",
      "A value is trying to be set on a copy of a slice from a DataFrame\n",
      "\n",
      "See the caveats in the documentation: http://pandas.pydata.org/pandas-docs/stable/indexing.html#indexing-view-versus-copy\n",
      "\n",
      "/Users/Rebecca/anaconda/lib/python2.7/site-packages/ipykernel/__main__.py:40: SettingWithCopyWarning:\n",
      "\n",
      "\n",
      "A value is trying to be set on a copy of a slice from a DataFrame\n",
      "\n",
      "See the caveats in the documentation: http://pandas.pydata.org/pandas-docs/stable/indexing.html#indexing-view-versus-copy\n",
      "\n",
      "/Users/Rebecca/anaconda/lib/python2.7/site-packages/ipykernel/__main__.py:41: SettingWithCopyWarning:\n",
      "\n",
      "\n",
      "A value is trying to be set on a copy of a slice from a DataFrame\n",
      "\n",
      "See the caveats in the documentation: http://pandas.pydata.org/pandas-docs/stable/indexing.html#indexing-view-versus-copy\n",
      "\n",
      "/Users/Rebecca/anaconda/lib/python2.7/site-packages/ipykernel/__main__.py:42: SettingWithCopyWarning:\n",
      "\n",
      "\n",
      "A value is trying to be set on a copy of a slice from a DataFrame\n",
      "\n",
      "See the caveats in the documentation: http://pandas.pydata.org/pandas-docs/stable/indexing.html#indexing-view-versus-copy\n",
      "\n",
      "/Users/Rebecca/anaconda/lib/python2.7/site-packages/ipykernel/__main__.py:43: SettingWithCopyWarning:\n",
      "\n",
      "\n",
      "A value is trying to be set on a copy of a slice from a DataFrame\n",
      "\n",
      "See the caveats in the documentation: http://pandas.pydata.org/pandas-docs/stable/indexing.html#indexing-view-versus-copy\n",
      "\n",
      "/Users/Rebecca/anaconda/lib/python2.7/site-packages/ipykernel/__main__.py:44: SettingWithCopyWarning:\n",
      "\n",
      "\n",
      "A value is trying to be set on a copy of a slice from a DataFrame\n",
      "\n",
      "See the caveats in the documentation: http://pandas.pydata.org/pandas-docs/stable/indexing.html#indexing-view-versus-copy\n",
      "\n",
      "/Users/Rebecca/anaconda/lib/python2.7/site-packages/ipykernel/__main__.py:45: SettingWithCopyWarning:\n",
      "\n",
      "\n",
      "A value is trying to be set on a copy of a slice from a DataFrame\n",
      "\n",
      "See the caveats in the documentation: http://pandas.pydata.org/pandas-docs/stable/indexing.html#indexing-view-versus-copy\n",
      "\n"
     ]
    }
   ],
   "source": [
    "top['cert'][101] = 'PG-13' # Indiana Jones and the Last Crusade\n",
    "top['cert'][91] = 'G' # Toy Story\n",
    "top['cert'][78] = 'R' # A Clockwork Orange\n",
    "top['cert'][34] = 'G' # City Lights\n",
    "top['cert'][80] = 'Not Rated' # Double Indemnity\n",
    "top['cert'][215] = 'G' # Wizard of Oz \n",
    "top['cert'][27] = 'PG-13' # Once Upon a Time in the West\n",
    "top['cert'][241] = 'R' # A Fistful of Dollars\n",
    "top['cert'][9] = 'R' # Fight Club\n",
    "top['cert'][29] = 'R' # Saving Private Ryan\n",
    "top['cert'][74] = 'R' # Reservoir Dogs\n",
    "top['cert'][96] = 'R' # L.A. Confidential\n",
    "top['cert'][30] = 'R' # American History X\n",
    "top['cert'][40] = 'R' # Terminator 2: Judgment Day\n",
    "top['cert'][52] = 'R' # Alien\n",
    "top['cert'][64] = 'PG-13' # Princess Mononoke\n",
    "top['cert'][100] = 'R' # Scarface\n",
    "top['cert'][145] = 'Not Rated' # Judgment at Nuremberg\n",
    "top['cert'][18] = 'Not Rated' # Seven Samurai\n",
    "top['cert'][26] = 'R' # Léon: The Professional\n",
    "top['cert'][59] = 'Not Rated' # Grave of the Fireflies\n",
    "top['cert'][77] = 'R' # Requiem for a Dream\n",
    "top['cert'][99] = 'Not Rated' # Rashomon\n",
    "top['cert'][106] = 'Not Rated' # Yojimbo\n",
    "top['cert'][139] = 'Not Rated' # The General\n",
    "top['cert'][140] = 'Not Rated' # Wild Strawberries\n",
    "top['cert'][171] = 'Not Rated' # It Happened One Night\n",
    "top['cert'][209] = 'Not Rated' # Diabolique\n",
    "top['cert'][210] = 'Not Rated' # Memories of Murder\n",
    "top['cert'][245] = 'Not Rated' # Throne of Blood\n",
    "top['cert'][32] = 'PG' # Casablanca\n",
    "top['cert'][104] = 'Approved' # All About Eve\n",
    "top['cert'][109] = 'Not Rated' # The Treasure of the Sierra Madre\n",
    "top['cert'][137] = 'PG' # Howl's Moving Castle\n",
    "top['cert'][158] = 'G' # Gone With the Wind\n",
    "top['cert'][196] = 'G' # Ben-Hur\n",
    "top['cert'][216] = 'G' # Monsters, Inc.\n",
    "top['cert'][223] = 'PG' # Strangers on a Train\n",
    "top['cert'][242] = 'PG' # Castle in the Sky\n",
    "top['cert'][23] = 'PG' # It's a Wonderful Life\n",
    "top['cert'][33] = 'R' # Psycho\n",
    "top['cert'][39] = 'PG' # Rear Window\n",
    "top['cert'][50] = 'PG' # Dr. Strangelove\n",
    "top['cert'][70] = 'PG' # Vertigo\n",
    "top['cert'][131] = 'PG' # Bridge on the River Kwai"
   ]
  },
  {
   "cell_type": "markdown",
   "metadata": {},
   "source": [
    "Muuuuuch nicer:"
   ]
  },
  {
   "cell_type": "code",
   "execution_count": 42,
   "metadata": {
    "collapsed": false
   },
   "outputs": [
    {
     "data": {
      "text/plain": [
       "R            105\n",
       "Not Rated     46\n",
       "PG            41\n",
       "PG-13         33\n",
       "G             16\n",
       "Approved       9\n",
       "Name: cert, dtype: int64"
      ]
     },
     "execution_count": 42,
     "metadata": {},
     "output_type": "execute_result"
    }
   ],
   "source": [
    "top['cert'].value_counts()"
   ]
  },
  {
   "cell_type": "code",
   "execution_count": 43,
   "metadata": {
    "collapsed": false
   },
   "outputs": [
    {
     "data": {
      "image/png": "[encoded data removed]",
      "text/plain": [
       "<matplotlib.figure.Figure at 0x11d361390>"
      ]
     },
     "metadata": {},
     "output_type": "display_data"
    }
   ],
   "source": [
    "plt.figure(figsize=(12,8))\n",
    "plt.style.use('fivethirtyeight')\n",
    "\n",
    "# subset dataframe by certification\n",
    "top_R = top[top['cert'] == 'R']\n",
    "top_NR = top[top['cert'] == 'Not Rated']\n",
    "top_PG = top[top['cert'] == 'PG']\n",
    "top_PG13 = top[top['cert'] == 'PG-13']\n",
    "top_G = top[top['cert'] == 'G']\n",
    "top_Approved = top[top['cert'] == 'Approved']\n",
    "\n",
    "# assign colors to ranked certifications\n",
    "cert = ['G', 'PG', 'PG-13', 'R']\n",
    "cert_colors = []\n",
    "for i in range(0, 256, 256/3):\n",
    "    cert_colors.append(cm.coolwarm(i))\n",
    "cert_dict = dict(zip(cert, cert_colors))\n",
    "\n",
    "# set area of dot proportional-ish to rating\n",
    "area = (top_scaled['rating'] + 1.4)*30\n",
    "\n",
    "# plot number of votes by year of release\n",
    "plt.scatter(top_R['year'], top_R['num_votes']/1000000, color = cert_dict['R'], alpha = 0.5, s = area, label = 'R')\n",
    "plt.scatter(top_PG13['year'], top_PG13['num_votes']/1000000, color = cert_dict['PG-13'], alpha = 0.5, s = area, \\\n",
    "            label = 'PG-13')\n",
    "plt.scatter(top_PG['year'], top_PG['num_votes']/1000000, color = cert_dict['PG'], alpha = 0.5, s = area, label = 'PG')\n",
    "plt.scatter(top_G['year'], top_G['num_votes']/1000000, color = cert_dict['G'], alpha = 0.5, s = area, label = 'G')\n",
    "plt.scatter(top_Approved['year'], top_Approved['num_votes']/1000000, color = 'darkgreen', alpha = 0.5, s = area, \\\n",
    "            label = 'Approved')\n",
    "plt.scatter(top_NR['year'], top_NR['num_votes']/1000000, color = 'black', alpha = 0.3, s = area, label = 'No Rating')\n",
    "\n",
    "plt.title('Number of Votes by Year of Movie Release (Top 250)', fontsize = 22)\n",
    "\n",
    "# add x-axis line and a line to show current year\n",
    "plt.axhline(0, color='black', alpha = 0.6)\n",
    "plt.axvline(2016, color='black', linestyle='dashed', linewidth=0.8, label = 'current year (2016)')\n",
    "\n",
    "# y label\n",
    "plt.ylabel('Number of Votes (x 1 million)')\n",
    "\n",
    "# x label\n",
    "plt.xlabel('Year of Release')\n",
    "\n",
    "# set the figure boundaries\n",
    "plt.xlim([min(top['year'])-5, 2020])\n",
    "plt.ylim([0, 2.5])\n",
    "\n",
    "plt.grid(True)\n",
    "plt.legend(loc='upper right', fontsize = 12)\n",
    "plt.annotate('**area of points is proportional to rating', (1,0), (-200, -20), \\\n",
    "             xycoords='axes fraction', textcoords='offset points', va='top', fontsize = 12)\n",
    "plt.show()"
   ]
  },
  {
   "cell_type": "code",
   "execution_count": 44,
   "metadata": {
    "collapsed": false
   },
   "outputs": [
    {
     "data": {
      "text/html": [
       "<div>\n",
       "<table border=\"1\" class=\"dataframe\">\n",
       "  <thead>\n",
       "    <tr style=\"text-align: right;\">\n",
       "      <th></th>\n",
       "      <th>num_votes</th>\n",
       "      <th>rating</th>\n",
       "      <th>tconst</th>\n",
       "      <th>title</th>\n",
       "      <th>year</th>\n",
       "      <th>cert</th>\n",
       "    </tr>\n",
       "  </thead>\n",
       "  <tbody>\n",
       "    <tr>\n",
       "      <th>0</th>\n",
       "      <td>1679913</td>\n",
       "      <td>9.3</td>\n",
       "      <td>tt0111161</td>\n",
       "      <td>The Shawshank Redemption</td>\n",
       "      <td>1994</td>\n",
       "      <td>R</td>\n",
       "    </tr>\n",
       "  </tbody>\n",
       "</table>\n",
       "</div>"
      ],
      "text/plain": [
       "   num_votes  rating     tconst                     title  year cert\n",
       "0    1679913     9.3  tt0111161  The Shawshank Redemption  1994    R"
      ]
     },
     "execution_count": 44,
     "metadata": {},
     "output_type": "execute_result"
    }
   ],
   "source": [
    "top.head(1)"
   ]
  },
  {
   "cell_type": "code",
   "execution_count": 45,
   "metadata": {
    "collapsed": false
   },
   "outputs": [],
   "source": [
    "top = top[['tconst', 'title', 'year', 'cert', 'rating', 'num_votes']]"
   ]
  },
  {
   "cell_type": "markdown",
   "metadata": {},
   "source": [
    "Do we want to consider actors?  Not for now.  Do not run the following two cells."
   ]
  },
  {
   "cell_type": "code",
   "execution_count": 48,
   "metadata": {
    "collapsed": false
   },
   "outputs": [],
   "source": [
    "# cast = []\n",
    "# for movie in top['tconst']:\n",
    "#     lil_cast = []\n",
    "#     time.sleep(2)\n",
    "#     title = imdb.get_title_by_id(movie)\n",
    "#     creds = title.credits\n",
    "#     for i in [0, 1, 2]:\n",
    "#         lil_cast.append(creds[i])\n",
    "#     cast.append(lil_cast)\n",
    "\n",
    "# len(cast)"
   ]
  },
  {
   "cell_type": "code",
   "execution_count": 49,
   "metadata": {
    "collapsed": false
   },
   "outputs": [],
   "source": [
    "# cast = pd.DataFrame(cast)\n",
    "# cast.to_csv('/Users/Rebecca/DSI-projects/projects/project-06/assets/cast.csv', index = False)\n",
    "# top['cast'] = cast"
   ]
  },
  {
   "cell_type": "markdown",
   "metadata": {},
   "source": [
    "OK!  Enough of that... now let's use scraped data.  To perform the scrape, uncomment and run cell below; otherwise, load from file in the following cell:"
   ]
  },
  {
   "cell_type": "code",
   "execution_count": 50,
   "metadata": {
    "collapsed": false
   },
   "outputs": [],
   "source": [
    "# URL = 'http://www.imdb.com/title/'\n",
    "# paths = top['tconst']\n",
    "# soup = []\n",
    "# for i in paths:\n",
    "#     time.sleep(1)\n",
    "#     request = requests.get(URL + i + '/')\n",
    "#     if str(request) != '<Response [200]>':\n",
    "#         print URL + i + '/'\n",
    "#     tiny_soup = BeautifulSoup(request.content, \"lxml\")\n",
    "#     soup.append(tiny_soup)\n",
    "\n",
    "# cPickle.dump(soup, open('movie_soup.p', 'wb')) "
   ]
  },
  {
   "cell_type": "markdown",
   "metadata": {},
   "source": [
    "HERE IS THE SOUP:"
   ]
  },
  {
   "cell_type": "code",
   "execution_count": 51,
   "metadata": {
    "collapsed": false
   },
   "outputs": [],
   "source": [
    "# soup = cPickle.load(open('/Users/Rebecca/DSI-projects/projects/project-06/assets/movie_soup.p', 'rb'))"
   ]
  },
  {
   "cell_type": "code",
   "execution_count": 52,
   "metadata": {
    "collapsed": false
   },
   "outputs": [],
   "source": [
    "# running_time = []\n",
    "# for i in range(len(soup)):\n",
    "#     times = []\n",
    "#     for j in soup[i].find_all('time', itemprop = 'duration'):\n",
    "#         times.append(j.text.encode('utf8'))\n",
    "#     running_time.append(times[0])\n",
    "#\n",
    "# for i in range(len(running_time)):\n",
    "#     split_time = []\n",
    "#     clean_time = running_time[i].replace('\\n                        ', '')\n",
    "#     clean_time = clean_time.replace('min\\n                    ', '')\n",
    "#     split_time = clean_time.split('h ')\n",
    "#     split_time[0] = split_time[0].replace('h\\n                    ', '')\n",
    "#     if len(split_time) == 1:\n",
    "#         minutes = float(split_time[0]) * 60\n",
    "#         running_time[i] = int(minutes) \n",
    "#     else:\n",
    "#         minutes = float(split_time[0]) * 60 + float(split_time[1])\n",
    "#         running_time[i] = int(minutes)\n",
    "        \n",
    "# run_time = pd.DataFrame(running_time, columns = ['run_time'])\n",
    "# run_time.to_csv('/Users/Rebecca/DSI-projects/projects/project-06/assets/run_time.csv', index = False)"
   ]
  },
  {
   "cell_type": "code",
   "execution_count": 53,
   "metadata": {
    "collapsed": false
   },
   "outputs": [],
   "source": [
    "run_time = pd.read_csv('/Users/Rebecca/DSI-projects/projects/project-06/assets/run_time.csv')\n",
    "top['run_time'] = run_time"
   ]
  },
  {
   "cell_type": "code",
   "execution_count": 117,
   "metadata": {
    "collapsed": false
   },
   "outputs": [],
   "source": [
    "# genre = []\n",
    "# for i in range(len(soup)):\n",
    "#     genres = []\n",
    "#     for j in soup[i].find_all('span', itemprop = 'genre'):\n",
    "#         genres.append(j.text.encode('utf8'))\n",
    "#     genre.append(genres)\n",
    "\n",
    "# for i in range(len(genre)):\n",
    "#     genre[i] = str(genre[i])\n",
    "    \n",
    "# genre = pd.DataFrame(genre, columns = ['genre])\n",
    "# genre.to_csv('/Users/Rebecca/DSI-projects/projects/project-06/assets/genre.csv', index = False)"
   ]
  },
  {
   "cell_type": "code",
   "execution_count": 55,
   "metadata": {
    "collapsed": false
   },
   "outputs": [],
   "source": [
    "genre = pd.read_csv('/Users/Rebecca/DSI-projects/projects/project-06/assets/genre.csv')\n",
    "genre.columns = ['genre']\n",
    "top['genre'] = genre"
   ]
  },
  {
   "cell_type": "code",
   "execution_count": 69,
   "metadata": {
    "collapsed": false
   },
   "outputs": [],
   "source": [
    "# release_info = []\n",
    "# for i in range(len(soup)):\n",
    "#     info = []\n",
    "#     for j in soup[i].find_all('a', title = 'See more release dates'):\n",
    "#         info.append(j.text.encode('utf8'))\n",
    "#     release_info.append(info)\n",
    "\n",
    "# month = []\n",
    "# country = []\n",
    "# for i in range(len(release_info)):\n",
    "#     month_country = []\n",
    "#     release_info[i] = str(release_info[i])\n",
    "#     clean = release_info[i].replace(')\\\\n\\\\n\\']', '')\n",
    "#     split = clean.split(' ')\n",
    "#     if len(split) == 4:\n",
    "#         month.append(split[1])\n",
    "#         split[3] = split[3].replace('(', '')\n",
    "#         country.append(split[3])\n",
    "#     else:\n",
    "#         month.append(split)\n",
    "#         country.append(split)\n",
    "\n",
    "# all_months = ['January', 'February', 'March', 'April', 'May', 'June', 'July', 'August', 'September', 'October', \\\n",
    "#              'November', 'December']\n",
    "\n",
    "# for i in range(len(top)):\n",
    "#     if top['month'][i] in all_months:\n",
    "#         continue\n",
    "#     else:\n",
    "#         print top.loc[i]\n",
    "#         print '\\n'"
   ]
  },
  {
   "cell_type": "markdown",
   "metadata": {},
   "source": [
    "Correct the ones that came through in different format and look up month for 'The Gold Rush' (thanks, Wikipedia!):"
   ]
  },
  {
   "cell_type": "code",
   "execution_count": 70,
   "metadata": {
    "collapsed": false
   },
   "outputs": [],
   "source": [
    "# top['month'][5] = 'April'\n",
    "# top['country'][5] = 'USA'\n",
    "# top['month'][56] = 'October'\n",
    "# top['country'][56] = 'West Germany'\n",
    "# top['month'][65] = 'November'\n",
    "# top['country'][65] = 'South Korea'\n",
    "# top['month'][129] = 'June'\n",
    "# top['country'][129] = 'Germany'\n",
    "# top['month'][210] = 'May'\n",
    "# top['country'][210] = 'South Korea'\n",
    "# top['month'][224] = 'December'\n",
    "# top['country'][224] = 'Hong Kong'"
   ]
  },
  {
   "cell_type": "code",
   "execution_count": 68,
   "metadata": {
    "collapsed": false
   },
   "outputs": [
    {
     "data": {
      "text/plain": [
       "USA             203\n",
       "UK               10\n",
       "Japan             8\n",
       "France            6\n",
       "Sweden            4\n",
       "Australia         2\n",
       "Argentina         2\n",
       "South Korea       2\n",
       "Hong Kong         1\n",
       "Singapore         1\n",
       "China             1\n",
       "Iran              1\n",
       "Netherlands       1\n",
       "India             1\n",
       "West Germany      1\n",
       "Philippines       1\n",
       "Denmark           1\n",
       "Hungary           1\n",
       "Germany           1\n",
       "Italy             1\n",
       "Brazil            1\n",
       "Name: country, dtype: int64"
      ]
     },
     "execution_count": 68,
     "metadata": {},
     "output_type": "execute_result"
    }
   ],
   "source": [
    "# top['country'].value_counts()"
   ]
  },
  {
   "cell_type": "code",
   "execution_count": 73,
   "metadata": {
    "collapsed": true
   },
   "outputs": [],
   "source": [
    "# month = pd.DataFrame(top['month'], columns = ['month'])\n",
    "# country = pd.DataFrame(top['country'], columns = ['country'])\n",
    "# month.to_csv('/Users/Rebecca/DSI-projects/projects/project-06/assets/month.csv', index = False)\n",
    "# country.to_csv('/Users/Rebecca/DSI-projects/projects/project-06/assets/country.csv', index = False)"
   ]
  },
  {
   "cell_type": "code",
   "execution_count": 56,
   "metadata": {
    "collapsed": true
   },
   "outputs": [],
   "source": [
    "month = pd.read_csv('/Users/Rebecca/DSI-projects/projects/project-06/assets/month.csv')\n",
    "country = pd.read_csv('/Users/Rebecca/DSI-projects/projects/project-06/assets/country.csv')\n",
    "top['month'] = month\n",
    "top['country'] = country"
   ]
  },
  {
   "cell_type": "markdown",
   "metadata": {},
   "source": [
    "Hey, I know!  Let's practice using dictionaries.  We'll make a bar plot of movie counts by month and put the bars in order of month (not in order of count):"
   ]
  },
  {
   "cell_type": "code",
   "execution_count": 57,
   "metadata": {
    "collapsed": false
   },
   "outputs": [
    {
     "name": "stderr",
     "output_type": "stream",
     "text": [
      "/Users/Rebecca/anaconda/lib/python2.7/site-packages/ipykernel/__main__.py:9: FutureWarning:\n",
      "\n",
      "sort(columns=....) is deprecated, use sort_values(by=.....)\n",
      "\n"
     ]
    }
   ],
   "source": [
    "y = pd.DataFrame(top['month'].value_counts())\n",
    "y.columns = ['count']\n",
    "y['month'] = y.index\n",
    "y = y.reset_index(drop = True)\n",
    "order = range(12)\n",
    "all_months = ['January', 'February', 'March', 'April', 'May', 'June', 'July', 'August', 'September', 'October', \\\n",
    "              'November', 'December']\n",
    "month_dict = dict(zip(all_months, order))\n",
    "y['order'] = y['month'].apply(lambda x: month_dict[x])\n",
    "y = y.sort('order')\n",
    "del y['order']\n",
    "y = y.set_index(y['month'], drop = False)\n",
    "del y['month']"
   ]
  },
  {
   "cell_type": "code",
   "execution_count": 58,
   "metadata": {
    "collapsed": false
   },
   "outputs": [
    {
     "data": {
      "image/png": "[encoded data removed]",
      "text/plain": [
       "<matplotlib.figure.Figure at 0x124c66f10>"
      ]
     },
     "metadata": {},
     "output_type": "display_data"
    }
   ],
   "source": [
    "plt.figure(figsize=(12,8))\n",
    "plt.style.use('fivethirtyeight')\n",
    "\n",
    "y['count'].plot.bar(color = 'thistle')\n",
    "\n",
    "plt.title('Top 250 Movies by Month of Release', fontsize = 20)\n",
    "\n",
    "# y label\n",
    "plt.ylabel('Number of Movies', fontsize = 18)\n",
    "\n",
    "# x label\n",
    "plt.xlabel('Month', fontsize = 18)\n",
    "plt.axhline(0, color='black', alpha = 0.6)\n",
    "plt.xticks(rotation=70, fontsize = 13)\n",
    "plt.show()"
   ]
  },
  {
   "cell_type": "markdown",
   "metadata": {},
   "source": [
    "Let's check out where non-USA, non-UK movies are from:"
   ]
  },
  {
   "cell_type": "code",
   "execution_count": 60,
   "metadata": {
    "collapsed": false
   },
   "outputs": [
    {
     "name": "stderr",
     "output_type": "stream",
     "text": [
      "/Users/Rebecca/anaconda/lib/python2.7/site-packages/ipykernel/__main__.py:1: FutureWarning:\n",
      "\n",
      "sort(columns=....) is deprecated, use sort_values(by=.....)\n",
      "\n"
     ]
    },
    {
     "data": {
      "text/html": [
       "<div>\n",
       "<table border=\"1\" class=\"dataframe\">\n",
       "  <thead>\n",
       "    <tr style=\"text-align: right;\">\n",
       "      <th></th>\n",
       "      <th>title</th>\n",
       "      <th>country</th>\n",
       "    </tr>\n",
       "  </thead>\n",
       "  <tbody>\n",
       "    <tr>\n",
       "      <th>220</th>\n",
       "      <td>The Best Years of Our Lives</td>\n",
       "      <td>Argentina</td>\n",
       "    </tr>\n",
       "    <tr>\n",
       "      <th>195</th>\n",
       "      <td>Wild Tales</td>\n",
       "      <td>Argentina</td>\n",
       "    </tr>\n",
       "    <tr>\n",
       "      <th>168</th>\n",
       "      <td>Mary and Max</td>\n",
       "      <td>Australia</td>\n",
       "    </tr>\n",
       "    <tr>\n",
       "      <th>51</th>\n",
       "      <td>Sunset Blvd.</td>\n",
       "      <td>Australia</td>\n",
       "    </tr>\n",
       "    <tr>\n",
       "      <th>70</th>\n",
       "      <td>Vertigo</td>\n",
       "      <td>Brazil</td>\n",
       "    </tr>\n",
       "    <tr>\n",
       "      <th>234</th>\n",
       "      <td>Ip Man</td>\n",
       "      <td>China</td>\n",
       "    </tr>\n",
       "    <tr>\n",
       "      <th>107</th>\n",
       "      <td>The Hunt</td>\n",
       "      <td>Denmark</td>\n",
       "    </tr>\n",
       "    <tr>\n",
       "      <th>149</th>\n",
       "      <td>Incendies</td>\n",
       "      <td>France</td>\n",
       "    </tr>\n",
       "    <tr>\n",
       "      <th>152</th>\n",
       "      <td>The Message</td>\n",
       "      <td>France</td>\n",
       "    </tr>\n",
       "    <tr>\n",
       "      <th>99</th>\n",
       "      <td>Rashomon</td>\n",
       "      <td>France</td>\n",
       "    </tr>\n",
       "    <tr>\n",
       "      <th>36</th>\n",
       "      <td>The Intouchables</td>\n",
       "      <td>France</td>\n",
       "    </tr>\n",
       "    <tr>\n",
       "      <th>139</th>\n",
       "      <td>The General</td>\n",
       "      <td>France</td>\n",
       "    </tr>\n",
       "    <tr>\n",
       "      <th>74</th>\n",
       "      <td>Reservoir Dogs</td>\n",
       "      <td>France</td>\n",
       "    </tr>\n",
       "    <tr>\n",
       "      <th>129</th>\n",
       "      <td>The Gold Rush</td>\n",
       "      <td>Germany</td>\n",
       "    </tr>\n",
       "    <tr>\n",
       "      <th>224</th>\n",
       "      <td>Infernal Affairs</td>\n",
       "      <td>Hong Kong</td>\n",
       "    </tr>\n",
       "    <tr>\n",
       "      <th>164</th>\n",
       "      <td>Come and See</td>\n",
       "      <td>Hungary</td>\n",
       "    </tr>\n",
       "    <tr>\n",
       "      <th>105</th>\n",
       "      <td>3 Idiots</td>\n",
       "      <td>India</td>\n",
       "    </tr>\n",
       "    <tr>\n",
       "      <th>102</th>\n",
       "      <td>A Separation</td>\n",
       "      <td>Iran</td>\n",
       "    </tr>\n",
       "    <tr>\n",
       "      <th>173</th>\n",
       "      <td>Rush</td>\n",
       "      <td>Italy</td>\n",
       "    </tr>\n",
       "    <tr>\n",
       "      <th>200</th>\n",
       "      <td>Nausicaä of the Valley of the Wind</td>\n",
       "      <td>Japan</td>\n",
       "    </tr>\n",
       "    <tr>\n",
       "      <th>128</th>\n",
       "      <td>Ran</td>\n",
       "      <td>Japan</td>\n",
       "    </tr>\n",
       "    <tr>\n",
       "      <th>126</th>\n",
       "      <td>My Neighbor Totoro</td>\n",
       "      <td>Japan</td>\n",
       "    </tr>\n",
       "    <tr>\n",
       "      <th>111</th>\n",
       "      <td>Some Like It Hot</td>\n",
       "      <td>Japan</td>\n",
       "    </tr>\n",
       "    <tr>\n",
       "      <th>68</th>\n",
       "      <td>North by Northwest</td>\n",
       "      <td>Japan</td>\n",
       "    </tr>\n",
       "    <tr>\n",
       "      <th>64</th>\n",
       "      <td>Princess Mononoke</td>\n",
       "      <td>Japan</td>\n",
       "    </tr>\n",
       "    <tr>\n",
       "      <th>59</th>\n",
       "      <td>Grave of the Fireflies</td>\n",
       "      <td>Japan</td>\n",
       "    </tr>\n",
       "    <tr>\n",
       "      <th>242</th>\n",
       "      <td>Castle in the Sky</td>\n",
       "      <td>Japan</td>\n",
       "    </tr>\n",
       "    <tr>\n",
       "      <th>204</th>\n",
       "      <td>Stalker</td>\n",
       "      <td>Netherlands</td>\n",
       "    </tr>\n",
       "    <tr>\n",
       "      <th>44</th>\n",
       "      <td>Whiplash</td>\n",
       "      <td>Philippines</td>\n",
       "    </tr>\n",
       "    <tr>\n",
       "      <th>247</th>\n",
       "      <td>Gangs of Wasseypur</td>\n",
       "      <td>Singapore</td>\n",
       "    </tr>\n",
       "    <tr>\n",
       "      <th>65</th>\n",
       "      <td>Oldboy</td>\n",
       "      <td>South Korea</td>\n",
       "    </tr>\n",
       "    <tr>\n",
       "      <th>210</th>\n",
       "      <td>Memories of Murder</td>\n",
       "      <td>South Korea</td>\n",
       "    </tr>\n",
       "    <tr>\n",
       "      <th>145</th>\n",
       "      <td>Judgment at Nuremberg</td>\n",
       "      <td>Sweden</td>\n",
       "    </tr>\n",
       "    <tr>\n",
       "      <th>104</th>\n",
       "      <td>All About Eve</td>\n",
       "      <td>Sweden</td>\n",
       "    </tr>\n",
       "    <tr>\n",
       "      <th>73</th>\n",
       "      <td>M</td>\n",
       "      <td>Sweden</td>\n",
       "    </tr>\n",
       "    <tr>\n",
       "      <th>238</th>\n",
       "      <td>Fanny and Alexander</td>\n",
       "      <td>Sweden</td>\n",
       "    </tr>\n",
       "    <tr>\n",
       "      <th>56</th>\n",
       "      <td>Paths of Glory</td>\n",
       "      <td>West Germany</td>\n",
       "    </tr>\n",
       "  </tbody>\n",
       "</table>\n",
       "</div>"
      ],
      "text/plain": [
       "                                  title       country\n",
       "220         The Best Years of Our Lives     Argentina\n",
       "195                          Wild Tales     Argentina\n",
       "168                        Mary and Max     Australia\n",
       "51                         Sunset Blvd.     Australia\n",
       "70                              Vertigo        Brazil\n",
       "234                              Ip Man         China\n",
       "107                            The Hunt       Denmark\n",
       "149                           Incendies        France\n",
       "152                         The Message        France\n",
       "99                             Rashomon        France\n",
       "36                     The Intouchables        France\n",
       "139                         The General        France\n",
       "74                       Reservoir Dogs        France\n",
       "129                       The Gold Rush       Germany\n",
       "224                    Infernal Affairs     Hong Kong\n",
       "164                        Come and See       Hungary\n",
       "105                            3 Idiots         India\n",
       "102                        A Separation          Iran\n",
       "173                                Rush         Italy\n",
       "200  Nausicaä of the Valley of the Wind         Japan\n",
       "128                                 Ran         Japan\n",
       "126                  My Neighbor Totoro         Japan\n",
       "111                    Some Like It Hot         Japan\n",
       "68                   North by Northwest         Japan\n",
       "64                    Princess Mononoke         Japan\n",
       "59               Grave of the Fireflies         Japan\n",
       "242                   Castle in the Sky         Japan\n",
       "204                             Stalker   Netherlands\n",
       "44                             Whiplash   Philippines\n",
       "247                  Gangs of Wasseypur     Singapore\n",
       "65                               Oldboy   South Korea\n",
       "210                  Memories of Murder   South Korea\n",
       "145               Judgment at Nuremberg        Sweden\n",
       "104                       All About Eve        Sweden\n",
       "73                                    M        Sweden\n",
       "238                 Fanny and Alexander        Sweden\n",
       "56                       Paths of Glory  West Germany"
      ]
     },
     "execution_count": 60,
     "metadata": {},
     "output_type": "execute_result"
    }
   ],
   "source": [
    "top[(top['country'] != 'USA') & (top['country'] != 'UK')][['title', 'country']].sort('country')"
   ]
  },
  {
   "cell_type": "markdown",
   "metadata": {},
   "source": [
    "A lot of these look weird... Hitchcock in Japan and Brazil?  Reservoir Dogs in France?  They must be the release locations.  Let's scrape country of origin separately and keep this as-is for now."
   ]
  },
  {
   "cell_type": "code",
   "execution_count": 61,
   "metadata": {
    "collapsed": false
   },
   "outputs": [],
   "source": [
    "# origin = []\n",
    "# for i in range(len(soup)):\n",
    "#     country = []\n",
    "#     for j in soup[i].find_all('a', href = re.compile('/country/')):\n",
    "#         country.append(j.text.encode('utf8'))\n",
    "#     if len(country) > 1:\n",
    "#         mini_list = []\n",
    "#         mini_list.append(country[0])\n",
    "#         origin.append(mini_list)\n",
    "#     else:\n",
    "#         origin.append(country)\n",
    "\n",
    "# origin = pd.DataFrame(origin)\n",
    "# origin.to_csv('/Users/Rebecca/DSI-projects/projects/project-06/assets/origin.csv', index = False)"
   ]
  },
  {
   "cell_type": "code",
   "execution_count": 62,
   "metadata": {
    "collapsed": false
   },
   "outputs": [],
   "source": [
    "origin = pd.read_csv('/Users/Rebecca/DSI-projects/projects/project-06/assets/origin.csv')\n",
    "top['origin'] = origin"
   ]
  },
  {
   "cell_type": "markdown",
   "metadata": {},
   "source": [
    "Let's print first five examples where 'country' does not match 'origin':"
   ]
  },
  {
   "cell_type": "code",
   "execution_count": 83,
   "metadata": {
    "collapsed": false,
    "scrolled": true
   },
   "outputs": [
    {
     "name": "stdout",
     "output_type": "stream",
     "text": [
      "title      The Good, the Bad and the Ugly\n",
      "country                               USA\n",
      "origin                              Italy\n",
      "Name: 8, dtype: object\n",
      "\n",
      "\n",
      "title      The Lord of the Rings: The Fellowship of the Ring\n",
      "country                                                  USA\n",
      "origin                                           New Zealand\n",
      "Name: 10, dtype: object\n",
      "\n",
      "\n",
      "title      Seven Samurai\n",
      "country              USA\n",
      "origin             Japan\n",
      "Name: 18, dtype: object\n",
      "\n",
      "\n",
      "title      City of God\n",
      "country            USA\n",
      "origin          Brazil\n",
      "Name: 20, dtype: object\n",
      "\n",
      "\n",
      "title      Life Is Beautiful\n",
      "country                  USA\n",
      "origin                 Italy\n",
      "Name: 25, dtype: object\n",
      "\n",
      "\n"
     ]
    }
   ],
   "source": [
    "count = 0\n",
    "for i in range(len(top)):\n",
    "    if top['country'][i] != top['origin'][i]:\n",
    "        print top.loc[i][['title', 'country', 'origin']]\n",
    "        print '\\n'\n",
    "        count += 1\n",
    "        if count == 5:\n",
    "            break"
   ]
  },
  {
   "cell_type": "code",
   "execution_count": 120,
   "metadata": {
    "collapsed": false
   },
   "outputs": [
    {
     "name": "stderr",
     "output_type": "stream",
     "text": [
      "/Users/Rebecca/anaconda/lib/python2.7/site-packages/ipykernel/__main__.py:14: FutureWarning:\n",
      "\n",
      "sort(columns=....) is deprecated, use sort_values(by=.....)\n",
      "\n"
     ]
    }
   ],
   "source": [
    "comparison = []\n",
    "country_compare = []\n",
    "origin_compare = []\n",
    "title_compare = []\n",
    "year_compare = []\n",
    "for i in range(len(top)):\n",
    "    if top['country'][i] != top['origin'][i]:\n",
    "        comparison.append(str(top['origin'][i] + ', ' + top['country'][i]))\n",
    "        country_compare.append(top['country'][i])\n",
    "        origin_compare.append(top['origin'][i])\n",
    "        title_compare.append(top['title'][i])\n",
    "        year_compare.append(top['year'][i])\n",
    "\n",
    "df_compare = pd.DataFrame(zip(title_compare, origin_compare, country_compare, comparison, year_compare), \\\n",
    "                          columns = ['title', 'origin', 'country', 'origin, country', 'year']).sort('year')"
   ]
  },
  {
   "cell_type": "markdown",
   "metadata": {},
   "source": [
    "For movies with 'origin' and 'country' not matching, what are value counts for country of origin?"
   ]
  },
  {
   "cell_type": "code",
   "execution_count": 136,
   "metadata": {
    "collapsed": false
   },
   "outputs": [
    {
     "data": {
      "text/plain": [
       "USA             18\n",
       "UK              16\n",
       "Italy           10\n",
       "Japan            8\n",
       "France           7\n",
       "Germany          4\n",
       "Sweden           3\n",
       "Hong Kong        2\n",
       "Soviet Union     2\n",
       "Ireland          2\n",
       "India            1\n",
       "Spain            1\n",
       "New Zealand      1\n",
       "Argentina        1\n",
       "Lebanon          1\n",
       "West Germany     1\n",
       "Mexico           1\n",
       "Iran             1\n",
       "Australia        1\n",
       "Canada           1\n",
       "Brazil           1\n",
       "Name: origin, dtype: int64"
      ]
     },
     "execution_count": 136,
     "metadata": {},
     "output_type": "execute_result"
    }
   ],
   "source": [
    "df_compare['origin'].value_counts()"
   ]
  },
  {
   "cell_type": "markdown",
   "metadata": {},
   "source": [
    "For movies with 'origin' and 'country' not matching, what are value counts for country of release?"
   ]
  },
  {
   "cell_type": "code",
   "execution_count": 137,
   "metadata": {
    "collapsed": false
   },
   "outputs": [
    {
     "data": {
      "text/plain": [
       "USA             58\n",
       "UK               5\n",
       "France           5\n",
       "Sweden           3\n",
       "Japan            2\n",
       "Argentina        1\n",
       "Germany          1\n",
       "Hungary          1\n",
       "China            1\n",
       "Philippines      1\n",
       "West Germany     1\n",
       "Singapore        1\n",
       "Netherlands      1\n",
       "Australia        1\n",
       "Brazil           1\n",
       "Name: country, dtype: int64"
      ]
     },
     "execution_count": 137,
     "metadata": {},
     "output_type": "execute_result"
    }
   ],
   "source": [
    "df_compare['country'].value_counts()"
   ]
  },
  {
   "cell_type": "markdown",
   "metadata": {},
   "source": [
    "For movies with 'origin' and 'country' not matching, what are the most common 'origin'-to-'country' transitions?"
   ]
  },
  {
   "cell_type": "code",
   "execution_count": 138,
   "metadata": {
    "collapsed": false
   },
   "outputs": [
    {
     "data": {
      "text/plain": [
       "UK, USA                      16\n",
       "Italy, USA                   10\n",
       "Japan, USA                    8\n",
       "France, USA                   7\n",
       "USA, UK                       5\n",
       "Sweden, USA                   3\n",
       "Germany, USA                  3\n",
       "USA, France                   3\n",
       "USA, Sweden                   2\n",
       "USA, Japan                    2\n",
       "Ireland, USA                  2\n",
       "Germany, Sweden               1\n",
       "West Germany, USA             1\n",
       "Spain, USA                    1\n",
       "Mexico, USA                   1\n",
       "Canada, France                1\n",
       "USA, Argentina                1\n",
       "Brazil, USA                   1\n",
       "New Zealand, USA              1\n",
       "Argentina, USA                1\n",
       "USA, West Germany             1\n",
       "Soviet Union, Hungary         1\n",
       "Hong Kong, USA                1\n",
       "USA, Philippines              1\n",
       "Hong Kong, China              1\n",
       "Australia, USA                1\n",
       "India, Singapore              1\n",
       "Soviet Union, Netherlands     1\n",
       "USA, Australia                1\n",
       "USA, Brazil                   1\n",
       "USA, Germany                  1\n",
       "Lebanon, France               1\n",
       "Iran, USA                     1\n",
       "Name: origin, country, dtype: int64"
      ]
     },
     "execution_count": 138,
     "metadata": {},
     "output_type": "execute_result"
    }
   ],
   "source": [
    "df_compare['origin, country'].value_counts()"
   ]
  },
  {
   "cell_type": "markdown",
   "metadata": {},
   "source": [
    "Which USA movies were released in another country? "
   ]
  },
  {
   "cell_type": "code",
   "execution_count": 126,
   "metadata": {
    "collapsed": false
   },
   "outputs": [
    {
     "data": {
      "text/html": [
       "<div>\n",
       "<table border=\"1\" class=\"dataframe\">\n",
       "  <thead>\n",
       "    <tr style=\"text-align: right;\">\n",
       "      <th></th>\n",
       "      <th>title</th>\n",
       "      <th>origin</th>\n",
       "      <th>country</th>\n",
       "      <th>year</th>\n",
       "    </tr>\n",
       "  </thead>\n",
       "  <tbody>\n",
       "    <tr>\n",
       "      <th>39</th>\n",
       "      <td>The Gold Rush</td>\n",
       "      <td>USA</td>\n",
       "      <td>Germany</td>\n",
       "      <td>1925</td>\n",
       "    </tr>\n",
       "    <tr>\n",
       "      <th>44</th>\n",
       "      <td>The General</td>\n",
       "      <td>USA</td>\n",
       "      <td>France</td>\n",
       "      <td>1926</td>\n",
       "    </tr>\n",
       "    <tr>\n",
       "      <th>71</th>\n",
       "      <td>The Best Years of Our Lives</td>\n",
       "      <td>USA</td>\n",
       "      <td>Argentina</td>\n",
       "      <td>1946</td>\n",
       "    </tr>\n",
       "    <tr>\n",
       "      <th>31</th>\n",
       "      <td>All About Eve</td>\n",
       "      <td>USA</td>\n",
       "      <td>Sweden</td>\n",
       "      <td>1950</td>\n",
       "    </tr>\n",
       "    <tr>\n",
       "      <th>29</th>\n",
       "      <td>Rashomon</td>\n",
       "      <td>USA</td>\n",
       "      <td>France</td>\n",
       "      <td>1950</td>\n",
       "    </tr>\n",
       "    <tr>\n",
       "      <th>11</th>\n",
       "      <td>Sunset Blvd.</td>\n",
       "      <td>USA</td>\n",
       "      <td>Australia</td>\n",
       "      <td>1950</td>\n",
       "    </tr>\n",
       "    <tr>\n",
       "      <th>8</th>\n",
       "      <td>Rear Window</td>\n",
       "      <td>USA</td>\n",
       "      <td>UK</td>\n",
       "      <td>1954</td>\n",
       "    </tr>\n",
       "    <tr>\n",
       "      <th>14</th>\n",
       "      <td>Paths of Glory</td>\n",
       "      <td>USA</td>\n",
       "      <td>West Germany</td>\n",
       "      <td>1957</td>\n",
       "    </tr>\n",
       "    <tr>\n",
       "      <th>64</th>\n",
       "      <td>Touch of Evil</td>\n",
       "      <td>USA</td>\n",
       "      <td>UK</td>\n",
       "      <td>1958</td>\n",
       "    </tr>\n",
       "    <tr>\n",
       "      <th>18</th>\n",
       "      <td>Vertigo</td>\n",
       "      <td>USA</td>\n",
       "      <td>Brazil</td>\n",
       "      <td>1958</td>\n",
       "    </tr>\n",
       "    <tr>\n",
       "      <th>33</th>\n",
       "      <td>Some Like It Hot</td>\n",
       "      <td>USA</td>\n",
       "      <td>Japan</td>\n",
       "      <td>1959</td>\n",
       "    </tr>\n",
       "    <tr>\n",
       "      <th>16</th>\n",
       "      <td>North by Northwest</td>\n",
       "      <td>USA</td>\n",
       "      <td>Japan</td>\n",
       "      <td>1959</td>\n",
       "    </tr>\n",
       "    <tr>\n",
       "      <th>63</th>\n",
       "      <td>Ben-Hur</td>\n",
       "      <td>USA</td>\n",
       "      <td>UK</td>\n",
       "      <td>1959</td>\n",
       "    </tr>\n",
       "    <tr>\n",
       "      <th>46</th>\n",
       "      <td>Judgment at Nuremberg</td>\n",
       "      <td>USA</td>\n",
       "      <td>Sweden</td>\n",
       "      <td>1961</td>\n",
       "    </tr>\n",
       "    <tr>\n",
       "      <th>24</th>\n",
       "      <td>The Sting</td>\n",
       "      <td>USA</td>\n",
       "      <td>UK</td>\n",
       "      <td>1973</td>\n",
       "    </tr>\n",
       "    <tr>\n",
       "      <th>20</th>\n",
       "      <td>Reservoir Dogs</td>\n",
       "      <td>USA</td>\n",
       "      <td>France</td>\n",
       "      <td>1992</td>\n",
       "    </tr>\n",
       "    <tr>\n",
       "      <th>65</th>\n",
       "      <td>Hachi: A Dog's Tale</td>\n",
       "      <td>USA</td>\n",
       "      <td>UK</td>\n",
       "      <td>2009</td>\n",
       "    </tr>\n",
       "    <tr>\n",
       "      <th>10</th>\n",
       "      <td>Whiplash</td>\n",
       "      <td>USA</td>\n",
       "      <td>Philippines</td>\n",
       "      <td>2014</td>\n",
       "    </tr>\n",
       "  </tbody>\n",
       "</table>\n",
       "</div>"
      ],
      "text/plain": [
       "                          title origin       country  year\n",
       "39                The Gold Rush    USA       Germany  1925\n",
       "44                  The General    USA        France  1926\n",
       "71  The Best Years of Our Lives    USA     Argentina  1946\n",
       "31                All About Eve    USA        Sweden  1950\n",
       "29                     Rashomon    USA        France  1950\n",
       "11                 Sunset Blvd.    USA     Australia  1950\n",
       "8                   Rear Window    USA            UK  1954\n",
       "14               Paths of Glory    USA  West Germany  1957\n",
       "64                Touch of Evil    USA            UK  1958\n",
       "18                      Vertigo    USA        Brazil  1958\n",
       "33             Some Like It Hot    USA         Japan  1959\n",
       "16           North by Northwest    USA         Japan  1959\n",
       "63                      Ben-Hur    USA            UK  1959\n",
       "46        Judgment at Nuremberg    USA        Sweden  1961\n",
       "24                    The Sting    USA            UK  1973\n",
       "20               Reservoir Dogs    USA        France  1992\n",
       "65          Hachi: A Dog's Tale    USA            UK  2009\n",
       "10                     Whiplash    USA   Philippines  2014"
      ]
     },
     "execution_count": 126,
     "metadata": {},
     "output_type": "execute_result"
    }
   ],
   "source": [
    "df_compare[df_compare['origin'] == 'USA'][['title', 'origin', 'country', 'year']]"
   ]
  },
  {
   "cell_type": "code",
   "execution_count": 133,
   "metadata": {
    "collapsed": false
   },
   "outputs": [
    {
     "data": {
      "text/html": [
       "<div>\n",
       "<table border=\"1\" class=\"dataframe\">\n",
       "  <thead>\n",
       "    <tr style=\"text-align: right;\">\n",
       "      <th></th>\n",
       "      <th>title</th>\n",
       "      <th>origin</th>\n",
       "      <th>country</th>\n",
       "      <th>year</th>\n",
       "    </tr>\n",
       "  </thead>\n",
       "  <tbody>\n",
       "    <tr>\n",
       "      <th>19</th>\n",
       "      <td>M</td>\n",
       "      <td>Germany</td>\n",
       "      <td>Sweden</td>\n",
       "      <td>1931</td>\n",
       "    </tr>\n",
       "    <tr>\n",
       "      <th>49</th>\n",
       "      <td>The Message</td>\n",
       "      <td>Lebanon</td>\n",
       "      <td>France</td>\n",
       "      <td>1976</td>\n",
       "    </tr>\n",
       "    <tr>\n",
       "      <th>66</th>\n",
       "      <td>Stalker</td>\n",
       "      <td>Soviet Union</td>\n",
       "      <td>Netherlands</td>\n",
       "      <td>1979</td>\n",
       "    </tr>\n",
       "    <tr>\n",
       "      <th>52</th>\n",
       "      <td>Come and See</td>\n",
       "      <td>Soviet Union</td>\n",
       "      <td>Hungary</td>\n",
       "      <td>1985</td>\n",
       "    </tr>\n",
       "    <tr>\n",
       "      <th>76</th>\n",
       "      <td>Ip Man</td>\n",
       "      <td>Hong Kong</td>\n",
       "      <td>China</td>\n",
       "      <td>2008</td>\n",
       "    </tr>\n",
       "    <tr>\n",
       "      <th>48</th>\n",
       "      <td>Incendies</td>\n",
       "      <td>Canada</td>\n",
       "      <td>France</td>\n",
       "      <td>2010</td>\n",
       "    </tr>\n",
       "    <tr>\n",
       "      <th>81</th>\n",
       "      <td>Gangs of Wasseypur</td>\n",
       "      <td>India</td>\n",
       "      <td>Singapore</td>\n",
       "      <td>2012</td>\n",
       "    </tr>\n",
       "  </tbody>\n",
       "</table>\n",
       "</div>"
      ],
      "text/plain": [
       "                 title        origin      country  year\n",
       "19                   M       Germany       Sweden  1931\n",
       "49         The Message       Lebanon       France  1976\n",
       "66             Stalker  Soviet Union  Netherlands  1979\n",
       "52        Come and See  Soviet Union      Hungary  1985\n",
       "76              Ip Man     Hong Kong        China  2008\n",
       "48           Incendies        Canada       France  2010\n",
       "81  Gangs of Wasseypur         India    Singapore  2012"
      ]
     },
     "execution_count": 133,
     "metadata": {},
     "output_type": "execute_result"
    }
   ],
   "source": [
    "df_compare[(df_compare['origin'] != 'USA') & (df_compare['country'] != 'USA')][['title', 'origin', 'country', 'year']]"
   ]
  },
  {
   "cell_type": "markdown",
   "metadata": {},
   "source": [
    "Get director name (only take first if more than one):"
   ]
  },
  {
   "cell_type": "code",
   "execution_count": 245,
   "metadata": {
    "collapsed": false
   },
   "outputs": [
    {
     "data": {
      "text/plain": [
       "250"
      ]
     },
     "execution_count": 245,
     "metadata": {},
     "output_type": "execute_result"
    }
   ],
   "source": [
    "# director = []\n",
    "# for i in range(len(soup)):\n",
    "#     dirs = []\n",
    "#     for j in soup[i].find_all('span', itemprop = 'director'):\n",
    "#         for k in j.find_all('span', itemprop = 'name'):\n",
    "#             dirs.append(k.text.encode('utf8'))\n",
    "# # these two lines will print all directors' names for movies with more than one director listed\n",
    "# #            if len(dirs) != 1:\n",
    "# #                print dirs\n",
    "#     if len(dirs) > 1:\n",
    "#         mini_list = []\n",
    "#         mini_list.append(dirs[0])\n",
    "#         director.append(mini_list)\n",
    "#     else:\n",
    "#         director.append(dirs)\n",
    "        \n",
    "# len(director)"
   ]
  },
  {
   "cell_type": "code",
   "execution_count": 246,
   "metadata": {
    "collapsed": false
   },
   "outputs": [],
   "source": [
    "# director = pd.DataFrame(director)\n",
    "# director.to_csv('/Users/Rebecca/DSI-projects/projects/project-06/assets/director.csv', index = False)"
   ]
  },
  {
   "cell_type": "code",
   "execution_count": 140,
   "metadata": {
    "collapsed": false
   },
   "outputs": [],
   "source": [
    "director = pd.read_csv('/Users/Rebecca/DSI-projects/projects/project-06/assets/director.csv')\n",
    "top['director'] = director"
   ]
  },
  {
   "cell_type": "markdown",
   "metadata": {},
   "source": [
    "Who directed the Italian movies?"
   ]
  },
  {
   "cell_type": "code",
   "execution_count": 141,
   "metadata": {
    "collapsed": false
   },
   "outputs": [
    {
     "name": "stderr",
     "output_type": "stream",
     "text": [
      "/Users/Rebecca/anaconda/lib/python2.7/site-packages/ipykernel/__main__.py:1: FutureWarning:\n",
      "\n",
      "sort(columns=....) is deprecated, use sort_values(by=.....)\n",
      "\n"
     ]
    },
    {
     "data": {
      "text/html": [
       "<div>\n",
       "<table border=\"1\" class=\"dataframe\">\n",
       "  <thead>\n",
       "    <tr style=\"text-align: right;\">\n",
       "      <th></th>\n",
       "      <th>title</th>\n",
       "      <th>year</th>\n",
       "      <th>director</th>\n",
       "    </tr>\n",
       "  </thead>\n",
       "  <tbody>\n",
       "    <tr>\n",
       "      <th>173</th>\n",
       "      <td>Rush</td>\n",
       "      <td>2013</td>\n",
       "      <td>Federico Fellini</td>\n",
       "    </tr>\n",
       "    <tr>\n",
       "      <th>25</th>\n",
       "      <td>Life Is Beautiful</td>\n",
       "      <td>1997</td>\n",
       "      <td>Roberto Benigni</td>\n",
       "    </tr>\n",
       "    <tr>\n",
       "      <th>55</th>\n",
       "      <td>Cinema Paradiso</td>\n",
       "      <td>1988</td>\n",
       "      <td>Giuseppe Tornatore</td>\n",
       "    </tr>\n",
       "    <tr>\n",
       "      <th>67</th>\n",
       "      <td>Once Upon a Time in America</td>\n",
       "      <td>1984</td>\n",
       "      <td>Sergio Leone</td>\n",
       "    </tr>\n",
       "    <tr>\n",
       "      <th>27</th>\n",
       "      <td>Once Upon a Time in the West</td>\n",
       "      <td>1968</td>\n",
       "      <td>Sergio Leone</td>\n",
       "    </tr>\n",
       "    <tr>\n",
       "      <th>8</th>\n",
       "      <td>The Good, the Bad and the Ugly</td>\n",
       "      <td>1966</td>\n",
       "      <td>Sergio Leone</td>\n",
       "    </tr>\n",
       "    <tr>\n",
       "      <th>230</th>\n",
       "      <td>The Battle of Algiers</td>\n",
       "      <td>1966</td>\n",
       "      <td>Gillo Pontecorvo</td>\n",
       "    </tr>\n",
       "    <tr>\n",
       "      <th>97</th>\n",
       "      <td>For a Few Dollars More</td>\n",
       "      <td>1965</td>\n",
       "      <td>Sergio Leone</td>\n",
       "    </tr>\n",
       "    <tr>\n",
       "      <th>241</th>\n",
       "      <td>A Fistful of Dollars</td>\n",
       "      <td>1964</td>\n",
       "      <td>Sergio Leone</td>\n",
       "    </tr>\n",
       "    <tr>\n",
       "      <th>214</th>\n",
       "      <td>8½</td>\n",
       "      <td>1963</td>\n",
       "      <td>Federico Fellini</td>\n",
       "    </tr>\n",
       "    <tr>\n",
       "      <th>89</th>\n",
       "      <td>Bicycle Thieves</td>\n",
       "      <td>1948</td>\n",
       "      <td>Vittorio De Sica</td>\n",
       "    </tr>\n",
       "  </tbody>\n",
       "</table>\n",
       "</div>"
      ],
      "text/plain": [
       "                              title  year            director\n",
       "173                            Rush  2013    Federico Fellini\n",
       "25                Life Is Beautiful  1997     Roberto Benigni\n",
       "55                  Cinema Paradiso  1988  Giuseppe Tornatore\n",
       "67      Once Upon a Time in America  1984        Sergio Leone\n",
       "27     Once Upon a Time in the West  1968        Sergio Leone\n",
       "8    The Good, the Bad and the Ugly  1966        Sergio Leone\n",
       "230           The Battle of Algiers  1966    Gillo Pontecorvo\n",
       "97           For a Few Dollars More  1965        Sergio Leone\n",
       "241            A Fistful of Dollars  1964        Sergio Leone\n",
       "214                              8½  1963    Federico Fellini\n",
       "89                  Bicycle Thieves  1948    Vittorio De Sica"
      ]
     },
     "execution_count": 141,
     "metadata": {},
     "output_type": "execute_result"
    }
   ],
   "source": [
    "top[top['origin'] == 'Italy'][['title', 'year', 'director']].sort('year', ascending = False)"
   ]
  },
  {
   "cell_type": "markdown",
   "metadata": {},
   "source": [
    "Surprise!  There are no female directors with more than two movies in the Top 250 list:"
   ]
  },
  {
   "cell_type": "code",
   "execution_count": 144,
   "metadata": {
    "collapsed": false
   },
   "outputs": [
    {
     "data": {
      "text/html": [
       "<div>\n",
       "<table border=\"1\" class=\"dataframe\">\n",
       "  <thead>\n",
       "    <tr style=\"text-align: right;\">\n",
       "      <th></th>\n",
       "      <th>count</th>\n",
       "    </tr>\n",
       "  </thead>\n",
       "  <tbody>\n",
       "    <tr>\n",
       "      <th>Stanley Kubrick</th>\n",
       "      <td>7</td>\n",
       "    </tr>\n",
       "    <tr>\n",
       "      <th>Steven Spielberg</th>\n",
       "      <td>7</td>\n",
       "    </tr>\n",
       "    <tr>\n",
       "      <th>Alfred Hitchcock</th>\n",
       "      <td>7</td>\n",
       "    </tr>\n",
       "    <tr>\n",
       "      <th>Christopher Nolan</th>\n",
       "      <td>7</td>\n",
       "    </tr>\n",
       "    <tr>\n",
       "      <th>Martin Scorsese</th>\n",
       "      <td>7</td>\n",
       "    </tr>\n",
       "    <tr>\n",
       "      <th>Akira Kurosawa</th>\n",
       "      <td>6</td>\n",
       "    </tr>\n",
       "    <tr>\n",
       "      <th>Hayao Miyazaki</th>\n",
       "      <td>6</td>\n",
       "    </tr>\n",
       "    <tr>\n",
       "      <th>Sergio Leone</th>\n",
       "      <td>5</td>\n",
       "    </tr>\n",
       "    <tr>\n",
       "      <th>Charles Chaplin</th>\n",
       "      <td>5</td>\n",
       "    </tr>\n",
       "    <tr>\n",
       "      <th>Billy Wilder</th>\n",
       "      <td>5</td>\n",
       "    </tr>\n",
       "    <tr>\n",
       "      <th>Quentin Tarantino</th>\n",
       "      <td>5</td>\n",
       "    </tr>\n",
       "    <tr>\n",
       "      <th>Ridley Scott</th>\n",
       "      <td>4</td>\n",
       "    </tr>\n",
       "    <tr>\n",
       "      <th>Ingmar Bergman</th>\n",
       "      <td>4</td>\n",
       "    </tr>\n",
       "    <tr>\n",
       "      <th>Sidney Lumet</th>\n",
       "      <td>3</td>\n",
       "    </tr>\n",
       "    <tr>\n",
       "      <th>Pete Docter</th>\n",
       "      <td>3</td>\n",
       "    </tr>\n",
       "    <tr>\n",
       "      <th>William Wyler</th>\n",
       "      <td>3</td>\n",
       "    </tr>\n",
       "    <tr>\n",
       "      <th>Frank Capra</th>\n",
       "      <td>3</td>\n",
       "    </tr>\n",
       "    <tr>\n",
       "      <th>David Fincher</th>\n",
       "      <td>3</td>\n",
       "    </tr>\n",
       "    <tr>\n",
       "      <th>Clint Eastwood</th>\n",
       "      <td>3</td>\n",
       "    </tr>\n",
       "    <tr>\n",
       "      <th>James Cameron</th>\n",
       "      <td>3</td>\n",
       "    </tr>\n",
       "    <tr>\n",
       "      <th>Francis Ford Coppola</th>\n",
       "      <td>3</td>\n",
       "    </tr>\n",
       "    <tr>\n",
       "      <th>Peter Jackson</th>\n",
       "      <td>3</td>\n",
       "    </tr>\n",
       "  </tbody>\n",
       "</table>\n",
       "</div>"
      ],
      "text/plain": [
       "                      count\n",
       "Stanley Kubrick           7\n",
       "Steven Spielberg          7\n",
       "Alfred Hitchcock          7\n",
       "Christopher Nolan         7\n",
       "Martin Scorsese           7\n",
       "Akira Kurosawa            6\n",
       "Hayao Miyazaki            6\n",
       "Sergio Leone              5\n",
       "Charles Chaplin           5\n",
       "Billy Wilder              5\n",
       "Quentin Tarantino         5\n",
       "Ridley Scott              4\n",
       "Ingmar Bergman            4\n",
       "Sidney Lumet              3\n",
       "Pete Docter               3\n",
       "William Wyler             3\n",
       "Frank Capra               3\n",
       "David Fincher             3\n",
       "Clint Eastwood            3\n",
       "James Cameron             3\n",
       "Francis Ford Coppola      3\n",
       "Peter Jackson             3"
      ]
     },
     "execution_count": 144,
     "metadata": {},
     "output_type": "execute_result"
    }
   ],
   "source": [
    "dir_count = pd.DataFrame(top['director'].value_counts())\n",
    "dir_count.columns = ['count']\n",
    "dir_count[dir_count['count'] > 2]"
   ]
  },
  {
   "cell_type": "code",
   "execution_count": 218,
   "metadata": {
    "collapsed": false
   },
   "outputs": [],
   "source": [
    "years_no_gross = []\n",
    "country_no_gross = []\n",
    "def get_gross(entry):\n",
    "    count = 0\n",
    "    response = requests.get('http://www.imdb.com/title/'+entry)\n",
    "    html = response.text\n",
    "    try:\n",
    "        count += 1\n",
    "        gross_list = re.findall(\"Gross:</h4>[ ]*\\$([^ ]*)\", html)\n",
    "        gross = int(gross_list[0].replace(',', ''))\n",
    "        return gross\n",
    "    except Exception as ex:\n",
    "        print '\\n'\n",
    "        print count\n",
    "        print 'http://www.imdb.com/title/'+entry\n",
    "        print top[top['tconst'] == entry][['title', 'year']]\n",
    "        print '\\n'\n",
    "        try:\n",
    "            a = years_no_gross.append(top[top['tconst'] == entry]['year'][0])\n",
    "            return a\n",
    "        except Exception:\n",
    "            return None\n",
    "        try:\n",
    "            b = country_no_gross.append(top[top['tconst'] == entry]['origin'][0])\n",
    "            return b\n",
    "        except Exception:\n",
    "            return None\n",
    "        return None"
   ]
  },
  {
   "cell_type": "code",
   "execution_count": 219,
   "metadata": {
    "collapsed": false
   },
   "outputs": [
    {
     "name": "stdout",
     "output_type": "stream",
     "text": [
      "\n",
      "\n",
      "1\n",
      "http://www.imdb.com/title/tt0050083\n",
      "          title  year\n",
      "5  12 Angry Men  1957\n",
      "\n",
      "\n",
      "\n",
      "\n",
      "1\n",
      "http://www.imdb.com/title/tt0038650\n",
      "                    title  year\n",
      "23  It's a Wonderful Life  1946\n",
      "\n",
      "\n",
      "\n",
      "\n",
      "1\n",
      "http://www.imdb.com/title/tt0064116\n",
      "                           title  year\n",
      "27  Once Upon a Time in the West  1968\n",
      "\n",
      "\n",
      "\n",
      "\n",
      "1\n",
      "http://www.imdb.com/title/tt0034583\n",
      "         title  year\n",
      "32  Casablanca  1942\n",
      "\n",
      "\n",
      "\n",
      "\n",
      "1\n",
      "http://www.imdb.com/title/tt0021749\n",
      "          title  year\n",
      "34  City Lights  1931\n",
      "\n",
      "\n",
      "\n",
      "\n",
      "1\n",
      "http://www.imdb.com/title/tt0057012\n",
      "                                                title  year\n",
      "50  Dr. Strangelove or: How I Learned to Stop Worr...  1964\n",
      "\n",
      "\n",
      "\n",
      "\n",
      "1\n",
      "http://www.imdb.com/title/tt0043014\n",
      "           title  year\n",
      "51  Sunset Blvd.  1950\n",
      "\n",
      "\n",
      "\n",
      "\n",
      "1\n",
      "http://www.imdb.com/title/tt0032553\n",
      "                 title  year\n",
      "53  The Great Dictator  1940\n",
      "\n",
      "\n",
      "\n",
      "\n",
      "1\n",
      "http://www.imdb.com/title/tt0050825\n",
      "             title  year\n",
      "56  Paths of Glory  1957\n",
      "\n",
      "\n",
      "\n",
      "\n",
      "1\n",
      "http://www.imdb.com/title/tt0081505\n",
      "          title  year\n",
      "58  The Shining  1980\n",
      "\n",
      "\n",
      "\n",
      "\n",
      "1\n",
      "http://www.imdb.com/title/tt0095327\n",
      "                     title  year\n",
      "59  Grave of the Fireflies  1988\n",
      "\n",
      "\n",
      "\n",
      "\n",
      "1\n",
      "http://www.imdb.com/title/tt0033467\n",
      "           title  year\n",
      "66  Citizen Kane  1941\n",
      "\n",
      "\n",
      "\n",
      "\n",
      "1\n",
      "http://www.imdb.com/title/tt0053125\n",
      "                 title  year\n",
      "68  North by Northwest  1959\n",
      "\n",
      "\n",
      "\n",
      "\n",
      "1\n",
      "http://www.imdb.com/title/tt0051201\n",
      "                          title  year\n",
      "71  Witness for the Prosecution  1957\n",
      "\n",
      "\n",
      "\n",
      "\n",
      "1\n",
      "http://www.imdb.com/title/tt0066921\n",
      "                 title  year\n",
      "78  A Clockwork Orange  1971\n",
      "\n",
      "\n",
      "\n",
      "\n",
      "1\n",
      "http://www.imdb.com/title/tt0075314\n",
      "          title  year\n",
      "79  Taxi Driver  1976\n",
      "\n",
      "\n",
      "\n",
      "\n",
      "1\n",
      "http://www.imdb.com/title/tt0036775\n",
      "               title  year\n",
      "80  Double Indemnity  1944\n",
      "\n",
      "\n",
      "\n",
      "\n",
      "1\n",
      "http://www.imdb.com/title/tt0056592\n",
      "                    title  year\n",
      "83  To Kill a Mockingbird  1962\n",
      "\n",
      "\n",
      "\n",
      "\n",
      "1\n",
      "http://www.imdb.com/title/tt0045152\n",
      "                  title  year\n",
      "90  Singin' in the Rain  1952\n",
      "\n",
      "\n",
      "\n",
      "\n",
      "1\n",
      "http://www.imdb.com/title/tt0059578\n",
      "                     title  year\n",
      "97  For a Few Dollars More  1965\n",
      "\n",
      "\n",
      "\n",
      "\n",
      "1\n",
      "http://www.imdb.com/title/tt0053604\n",
      "            title  year\n",
      "98  The Apartment  1960\n",
      "\n",
      "\n",
      "\n",
      "\n",
      "1\n",
      "http://www.imdb.com/title/tt0042876\n",
      "       title  year\n",
      "99  Rashomon  1950\n",
      "\n",
      "\n",
      "\n",
      "\n",
      "1\n",
      "http://www.imdb.com/title/tt0055630\n",
      "       title  year\n",
      "106  Yojimbo  1961\n",
      "\n",
      "\n",
      "\n",
      "\n",
      "1\n",
      "http://www.imdb.com/title/tt0040897\n",
      "                                title  year\n",
      "109  The Treasure of the Sierra Madre  1948\n",
      "\n",
      "\n",
      "\n",
      "\n",
      "1\n",
      "http://www.imdb.com/title/tt0057115\n",
      "                title  year\n",
      "120  The Great Escape  1963\n",
      "\n",
      "\n",
      "\n",
      "\n",
      "1\n",
      "http://www.imdb.com/title/tt0071315\n",
      "         title  year\n",
      "121  Chinatown  1974\n",
      "\n",
      "\n",
      "\n",
      "\n",
      "1\n",
      "http://www.imdb.com/title/tt0096283\n",
      "                  title  year\n",
      "126  My Neighbor Totoro  1988\n",
      "\n",
      "\n",
      "\n",
      "\n",
      "1\n",
      "http://www.imdb.com/title/tt0015864\n",
      "             title  year\n",
      "129  The Gold Rush  1925\n",
      "\n",
      "\n",
      "\n",
      "\n",
      "1\n",
      "http://www.imdb.com/title/tt0031679\n",
      "                            title  year\n",
      "130  Mr. Smith Goes to Washington  1939\n",
      "\n",
      "\n",
      "\n",
      "\n",
      "1\n",
      "http://www.imdb.com/title/tt0050976\n",
      "                title  year\n",
      "134  The Seventh Seal  1957\n",
      "\n",
      "\n",
      "\n",
      "\n",
      "1\n",
      "http://www.imdb.com/title/tt0018455\n",
      "       title  year\n",
      "136  Sunrise  1927\n",
      "\n",
      "\n",
      "\n",
      "\n",
      "1\n",
      "http://www.imdb.com/title/tt0017925\n",
      "           title  year\n",
      "139  The General  1926\n",
      "\n",
      "\n",
      "\n",
      "\n",
      "1\n",
      "http://www.imdb.com/title/tt0050986\n",
      "                 title  year\n",
      "140  Wild Strawberries  1957\n",
      "\n",
      "\n",
      "\n",
      "\n",
      "1\n",
      "http://www.imdb.com/title/tt0080678\n",
      "                title  year\n",
      "142  The Elephant Man  1980\n",
      "\n",
      "\n",
      "\n",
      "\n",
      "1\n",
      "http://www.imdb.com/title/tt0055031\n",
      "                     title  year\n",
      "145  Judgment at Nuremberg  1961\n",
      "\n",
      "\n",
      "\n",
      "\n",
      "1\n",
      "http://www.imdb.com/title/tt0046438\n",
      "           title  year\n",
      "147  Tokyo Story  1953\n",
      "\n",
      "\n",
      "\n",
      "\n",
      "1\n",
      "http://www.imdb.com/title/tt0074896\n",
      "           title  year\n",
      "152  The Message  1976\n",
      "\n",
      "\n",
      "\n",
      "\n",
      "1\n",
      "http://www.imdb.com/title/tt0077416\n",
      "               title  year\n",
      "153  The Deer Hunter  1978\n",
      "\n",
      "\n",
      "\n",
      "\n",
      "1\n",
      "http://www.imdb.com/title/tt0032976\n",
      "       title  year\n",
      "155  Rebecca  1940\n",
      "\n",
      "\n",
      "\n",
      "\n",
      "1\n",
      "http://www.imdb.com/title/tt0061512\n",
      "              title  year\n",
      "160  Cool Hand Luke  1967\n",
      "\n",
      "\n",
      "\n",
      "\n",
      "1\n",
      "http://www.imdb.com/title/tt0091251\n",
      "            title  year\n",
      "164  Come and See  1985\n",
      "\n",
      "\n",
      "\n",
      "\n",
      "1\n",
      "http://www.imdb.com/title/tt0978762\n",
      "            title  year\n",
      "168  Mary and Max  2009\n",
      "\n",
      "\n",
      "\n",
      "\n",
      "1\n",
      "http://www.imdb.com/title/tt0025316\n",
      "                     title  year\n",
      "171  It Happened One Night  1934\n",
      "\n",
      "\n",
      "\n",
      "\n",
      "1\n",
      "http://www.imdb.com/title/tt0033870\n",
      "                  title  year\n",
      "179  The Maltese Falcon  1941\n",
      "\n",
      "\n",
      "\n",
      "\n",
      "1\n",
      "http://www.imdb.com/title/tt0046268\n",
      "                 title  year\n",
      "181  The Wages of Fear  1953\n",
      "\n",
      "\n",
      "\n",
      "\n",
      "1\n",
      "http://www.imdb.com/title/tt0074958\n",
      "       title  year\n",
      "182  Network  1976\n",
      "\n",
      "\n",
      "\n",
      "\n",
      "1\n",
      "http://www.imdb.com/title/tt0053198\n",
      "             title  year\n",
      "186  The 400 Blows  1959\n",
      "\n",
      "\n",
      "\n",
      "\n",
      "1\n",
      "http://www.imdb.com/title/tt0060827\n",
      "       title  year\n",
      "190  Persona  1966\n",
      "\n",
      "\n",
      "\n",
      "\n",
      "1\n",
      "http://www.imdb.com/title/tt1028532\n",
      "                   title  year\n",
      "198  Hachi: A Dog's Tale  2009\n",
      "\n",
      "\n",
      "\n",
      "\n",
      "1\n",
      "http://www.imdb.com/title/tt0087544\n",
      "                                  title  year\n",
      "200  Nausicaä of the Valley of the Wind  1984\n",
      "\n",
      "\n",
      "\n",
      "\n",
      "1\n",
      "http://www.imdb.com/title/tt0032551\n",
      "                   title  year\n",
      "201  The Grapes of Wrath  1940\n",
      "\n",
      "\n",
      "\n",
      "\n",
      "1\n",
      "http://www.imdb.com/title/tt0079944\n",
      "       title  year\n",
      "204  Stalker  1979\n",
      "\n",
      "\n",
      "\n",
      "\n",
      "1\n",
      "http://www.imdb.com/title/tt0083987\n",
      "      title  year\n",
      "206  Gandhi  1982\n",
      "\n",
      "\n",
      "\n",
      "\n",
      "1\n",
      "http://www.imdb.com/title/tt0046911\n",
      "          title  year\n",
      "209  Diabolique  1955\n",
      "\n",
      "\n",
      "\n",
      "\n",
      "1\n",
      "http://www.imdb.com/title/tt0044079\n",
      "                    title  year\n",
      "223  Strangers on a Train  1951\n",
      "\n",
      "\n",
      "\n",
      "\n",
      "1\n",
      "http://www.imdb.com/title/tt0041546\n",
      "                        title  year\n",
      "225  Kind Hearts and Coronets  1949\n",
      "\n",
      "\n",
      "\n",
      "\n",
      "1\n",
      "http://www.imdb.com/title/tt0072684\n",
      "            title  year\n",
      "229  Barry Lyndon  1975\n",
      "\n",
      "\n",
      "\n",
      "\n",
      "1\n",
      "http://www.imdb.com/title/tt0072890\n",
      "                 title  year\n",
      "231  Dog Day Afternoon  1975\n",
      "\n",
      "\n",
      "\n",
      "\n",
      "1\n",
      "http://www.imdb.com/title/tt1220719\n",
      "      title  year\n",
      "234  Ip Man  2008\n",
      "\n",
      "\n",
      "\n",
      "\n",
      "1\n",
      "http://www.imdb.com/title/tt0083922\n",
      "                   title  year\n",
      "238  Fanny and Alexander  1982\n",
      "\n",
      "\n",
      "\n",
      "\n",
      "1\n",
      "http://www.imdb.com/title/tt0092067\n",
      "                 title  year\n",
      "242  Castle in the Sky  1986\n",
      "\n",
      "\n",
      "\n",
      "\n",
      "1\n",
      "http://www.imdb.com/title/tt0046250\n",
      "             title  year\n",
      "244  Roman Holiday  1953\n",
      "\n",
      "\n",
      "\n",
      "\n",
      "1\n",
      "http://www.imdb.com/title/tt0050613\n",
      "               title  year\n",
      "245  Throne of Blood  1957\n",
      "\n",
      "\n",
      "\n",
      "\n",
      "1\n",
      "http://www.imdb.com/title/tt0044706\n",
      "         title  year\n",
      "246  High Noon  1952\n",
      "\n",
      "\n",
      "\n",
      "\n",
      "1\n",
      "http://www.imdb.com/title/tt1954470\n",
      "                  title  year\n",
      "247  Gangs of Wasseypur  2012\n",
      "\n",
      "\n"
     ]
    }
   ],
   "source": [
    "gross = []\n",
    "for extension in top['tconst']:\n",
    "    gross.append(get_gross(extension))"
   ]
  },
  {
   "cell_type": "markdown",
   "metadata": {},
   "source": [
    "That is not a useful counter, is it?  Not sure what's wrong."
   ]
  },
  {
   "cell_type": "code",
   "execution_count": 196,
   "metadata": {
    "collapsed": false
   },
   "outputs": [
    {
     "ename": "AttributeError",
     "evalue": "'Series' object has no attribute 'split'",
     "output_type": "error",
     "traceback": [
      "\u001b[0;31m---------------------------------------------------------------------------\u001b[0m",
      "\u001b[0;31mAttributeError\u001b[0m                            Traceback (most recent call last)",
      "\u001b[0;32m<ipython-input-196-70ed12b2f939>\u001b[0m in \u001b[0;36m<module>\u001b[0;34m()\u001b[0m\n\u001b[1;32m      2\u001b[0m \u001b[0mno_gross\u001b[0m\u001b[0;34m[\u001b[0m\u001b[0;34m'country'\u001b[0m\u001b[0;34m]\u001b[0m \u001b[0;34m=\u001b[0m \u001b[0mno_gross\u001b[0m\u001b[0;34m[\u001b[0m\u001b[0;34m'country'\u001b[0m\u001b[0;34m]\u001b[0m\u001b[0;34m.\u001b[0m\u001b[0mapply\u001b[0m\u001b[0;34m(\u001b[0m\u001b[0;32mlambda\u001b[0m \u001b[0mx\u001b[0m\u001b[0;34m:\u001b[0m \u001b[0mstr\u001b[0m\u001b[0;34m(\u001b[0m\u001b[0mx\u001b[0m\u001b[0;34m)\u001b[0m\u001b[0;34m)\u001b[0m\u001b[0;34m\u001b[0m\u001b[0m\n\u001b[1;32m      3\u001b[0m \u001b[0mno_gross\u001b[0m\u001b[0;34m[\u001b[0m\u001b[0;34m'year'\u001b[0m\u001b[0;34m]\u001b[0m \u001b[0;34m=\u001b[0m \u001b[0mno_gross\u001b[0m\u001b[0;34m[\u001b[0m\u001b[0;34m'year'\u001b[0m\u001b[0;34m]\u001b[0m\u001b[0;34m.\u001b[0m\u001b[0mapply\u001b[0m\u001b[0;34m(\u001b[0m\u001b[0;32mlambda\u001b[0m \u001b[0mx\u001b[0m\u001b[0;34m:\u001b[0m \u001b[0mstr\u001b[0m\u001b[0;34m(\u001b[0m\u001b[0mx\u001b[0m\u001b[0;34m)\u001b[0m\u001b[0;34m)\u001b[0m\u001b[0;34m\u001b[0m\u001b[0m\n\u001b[0;32m----> 4\u001b[0;31m \u001b[0mno_gross\u001b[0m\u001b[0;34m[\u001b[0m\u001b[0;34m'country'\u001b[0m\u001b[0;34m]\u001b[0m \u001b[0;34m=\u001b[0m \u001b[0mno_gross\u001b[0m\u001b[0;34m[\u001b[0m\u001b[0;34m'country'\u001b[0m\u001b[0;34m]\u001b[0m\u001b[0;34m.\u001b[0m\u001b[0msplit\u001b[0m\u001b[0;34m(\u001b[0m\u001b[0;34m' '\u001b[0m\u001b[0;34m)\u001b[0m\u001b[0;34m\u001b[0m\u001b[0m\n\u001b[0m\u001b[1;32m      5\u001b[0m \u001b[0mno_gross\u001b[0m\u001b[0;34m[\u001b[0m\u001b[0;34m'year'\u001b[0m\u001b[0;34m]\u001b[0m \u001b[0;34m=\u001b[0m \u001b[0mno_gross\u001b[0m\u001b[0;34m[\u001b[0m\u001b[0;34m'year'\u001b[0m\u001b[0;34m]\u001b[0m\u001b[0;34m.\u001b[0m\u001b[0msplit\u001b[0m\u001b[0;34m(\u001b[0m\u001b[0;34m' '\u001b[0m\u001b[0;34m)\u001b[0m\u001b[0;34m\u001b[0m\u001b[0m\n\u001b[1;32m      6\u001b[0m \u001b[0;32mfor\u001b[0m \u001b[0mi\u001b[0m \u001b[0;32min\u001b[0m \u001b[0mrange\u001b[0m\u001b[0;34m(\u001b[0m\u001b[0mlen\u001b[0m\u001b[0;34m(\u001b[0m\u001b[0mno_gross\u001b[0m\u001b[0;34m)\u001b[0m\u001b[0;34m)\u001b[0m\u001b[0;34m:\u001b[0m\u001b[0;34m\u001b[0m\u001b[0m\n",
      "\u001b[0;32m/Users/Rebecca/anaconda/lib/python2.7/site-packages/pandas/core/generic.pyc\u001b[0m in \u001b[0;36m__getattr__\u001b[0;34m(self, name)\u001b[0m\n\u001b[1;32m   2667\u001b[0m             \u001b[0;32mif\u001b[0m \u001b[0mname\u001b[0m \u001b[0;32min\u001b[0m \u001b[0mself\u001b[0m\u001b[0;34m.\u001b[0m\u001b[0m_info_axis\u001b[0m\u001b[0;34m:\u001b[0m\u001b[0;34m\u001b[0m\u001b[0m\n\u001b[1;32m   2668\u001b[0m                 \u001b[0;32mreturn\u001b[0m \u001b[0mself\u001b[0m\u001b[0;34m[\u001b[0m\u001b[0mname\u001b[0m\u001b[0;34m]\u001b[0m\u001b[0;34m\u001b[0m\u001b[0m\n\u001b[0;32m-> 2669\u001b[0;31m             \u001b[0;32mreturn\u001b[0m \u001b[0mobject\u001b[0m\u001b[0;34m.\u001b[0m\u001b[0m__getattribute__\u001b[0m\u001b[0;34m(\u001b[0m\u001b[0mself\u001b[0m\u001b[0;34m,\u001b[0m \u001b[0mname\u001b[0m\u001b[0;34m)\u001b[0m\u001b[0;34m\u001b[0m\u001b[0m\n\u001b[0m\u001b[1;32m   2670\u001b[0m \u001b[0;34m\u001b[0m\u001b[0m\n\u001b[1;32m   2671\u001b[0m     \u001b[0;32mdef\u001b[0m \u001b[0m__setattr__\u001b[0m\u001b[0;34m(\u001b[0m\u001b[0mself\u001b[0m\u001b[0;34m,\u001b[0m \u001b[0mname\u001b[0m\u001b[0;34m,\u001b[0m \u001b[0mvalue\u001b[0m\u001b[0;34m)\u001b[0m\u001b[0;34m:\u001b[0m\u001b[0;34m\u001b[0m\u001b[0m\n",
      "\u001b[0;31mAttributeError\u001b[0m: 'Series' object has no attribute 'split'"
     ]
    }
   ],
   "source": [
    "no_gross = pd.DataFrame(zip(country_no_gross, years_no_gross), \\\n",
    "                        columns = ['country', 'year'])\n",
    "no_gross['country'] = no_gross['country'].apply(lambda x: str(x))\n",
    "no_gross['year'] = no_gross['year'].apply(lambda x: str(x))\n",
    "no_gross['country'] = no_gross['country'].split(' ')\n",
    "no_gross['year'] = no_gross['year'].split(' ')\n",
    "for i in range(len(no_gross)):\n",
    "    no_gross['country'][i] == no_gross['country'][i][1]\n",
    "    no_gross['year'][i] == no_gross['year'][i][1]\n",
    "no_gross"
   ]
  },
  {
   "cell_type": "code",
   "execution_count": 159,
   "metadata": {
    "collapsed": false
   },
   "outputs": [],
   "source": [
    "foreign_notNR = top[(top['cert'] != 'Not Rated') & (top['origin'] != 'USA')]\n",
    "\n",
    "foreign_NR = top[(top['cert'] == 'Not Rated') & (top['origin'] != 'USA')]\n",
    "\n",
    "domestic_notNR = top[(top['cert'] != 'Not Rated') & (top['origin'] == 'USA')]\n",
    "\n",
    "domestic_NR = top[(top['cert'] == 'Not Rated') & (top['origin'] == 'USA')]"
   ]
  },
  {
   "cell_type": "markdown",
   "metadata": {},
   "source": [
    "Most 'Not Rated' and 'Approved' movies in the list are pre-1970; after 1970, almost all of the 'Not Rated' movies are non-USA.  "
   ]
  },
  {
   "cell_type": "code",
   "execution_count": 160,
   "metadata": {
    "collapsed": false
   },
   "outputs": [],
   "source": [
    "# x = float(len(foreign_notNR_post1970))/ (len(foreign_notNR_post1970) + len(foreign_NR_post1970))\n",
    "\n",
    "# print 'Proportion of non-\\'Not Rated\\' foreign films to \\'Not Rated\\' foreign films post-1970: %s' %x"
   ]
  },
  {
   "cell_type": "markdown",
   "metadata": {},
   "source": [
    "And, as we see below, all domestic films since 1970 are non-'Not Rated':"
   ]
  },
  {
   "cell_type": "code",
   "execution_count": 161,
   "metadata": {
    "collapsed": false
   },
   "outputs": [],
   "source": [
    "# y = float(len(domestic_notNR_post1970))/ (len(domestic_notNR_post1970) + len(domestic_NR_post1970))\n",
    "\n",
    "# print 'Proportion of non-\\'Not Rated\\' domestic films to \\'Not Rated\\' domestic films post-1970: %s' %y"
   ]
  },
  {
   "cell_type": "code",
   "execution_count": 162,
   "metadata": {
    "collapsed": false
   },
   "outputs": [
    {
     "data": {
      "image/png": "[encoded data removed]",
      "text/plain": [
       "<matplotlib.figure.Figure at 0x155fe0710>"
      ]
     },
     "metadata": {},
     "output_type": "display_data"
    }
   ],
   "source": [
    "plt.figure(figsize=(12,8))\n",
    "plt.style.use('fivethirtyeight')\n",
    "\n",
    "\n",
    "# set area of dot proportional-ish to rating\n",
    "area = (top_scaled['rating'] + 1.4)*30\n",
    "\n",
    "# plot number of votes by year of release\n",
    "plt.scatter(foreign_notNR['year'], foreign_notNR['num_votes']/1000000, color = 'GoldenRod', \\\n",
    "            marker = 'o', alpha = 0.8, \\\n",
    "            s = area, \\\n",
    "            label = 'foreign, certified')\n",
    "plt.scatter(foreign_NR['year'], foreign_NR['num_votes']/1000000, color = 'GoldenRod', \\\n",
    "            marker = 'x', alpha = 0.8, \\\n",
    "            s = area, \\\n",
    "            label = 'foreign, not certified')\n",
    "plt.scatter(domestic_notNR['year'], domestic_notNR['num_votes']/1000000, color = 'IndianRed', \\\n",
    "            marker = 'o', alpha = 0.8, \\\n",
    "            s = area, \\\n",
    "            label = 'domestic, certified')\n",
    "plt.scatter(domestic_NR['year'], domestic_NR['num_votes']/1000000, color = 'IndianRed', \\\n",
    "            marker = 'x', alpha = 0.8, \\\n",
    "            s = area, \\\n",
    "            label = 'domestic, not certified')\n",
    "\n",
    "plt.title('Number of Votes by Year of Release Post-1970 (Top 250)', fontsize = 22)\n",
    "\n",
    "# add x-axis line and a line to show current year\n",
    "plt.axhline(0, color='black', alpha = 0.6)\n",
    "plt.axvline(2016, color='black', linestyle='dashed', linewidth=0.8, label = 'current year (2016)')\n",
    "\n",
    "# y label\n",
    "plt.ylabel('Number of Votes (x 1 million)')\n",
    "\n",
    "# x label\n",
    "plt.xlabel('Year of Release')\n",
    "\n",
    "# set the figure boundaries\n",
    "plt.xlim([min(top['year'])-5, 2020])\n",
    "plt.ylim([0, 2.5])\n",
    "\n",
    "plt.grid(True)\n",
    "plt.legend(loc='upper right', fontsize = 12)\n",
    "plt.annotate('**area of points is proportional to rating', (1,0), (-200, -20), \\\n",
    "             xycoords='axes fraction', textcoords='offset points', va='top', fontsize = 12)\n",
    "plt.show()"
   ]
  },
  {
   "cell_type": "markdown",
   "metadata": {
    "collapsed": true
   },
   "source": [
    "What was the last year a USA movie had no MPAA rating (certification)?"
   ]
  },
  {
   "cell_type": "code",
   "execution_count": null,
   "metadata": {
    "collapsed": true
   },
   "outputs": [],
   "source": []
  }
 ],
 "metadata": {
  "kernelspec": {
   "display_name": "Python 2",
   "language": "python",
   "name": "python2"
  },
  "language_info": {
   "codemirror_mode": {
    "name": "ipython",
    "version": 2
   },
   "file_extension": ".py",
   "mimetype": "text/x-python",
   "name": "python",
   "nbconvert_exporter": "python",
   "pygments_lexer": "ipython2",
   "version": "2.7.12"
  }
 },
 "nbformat": 4,
 "nbformat_minor": 0
}
