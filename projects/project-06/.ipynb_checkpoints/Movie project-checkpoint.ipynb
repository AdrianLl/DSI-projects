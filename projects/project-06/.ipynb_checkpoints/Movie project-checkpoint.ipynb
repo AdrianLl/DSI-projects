{
 "cells": [
  {
   "cell_type": "code",
   "execution_count": 98,
   "metadata": {
    "collapsed": false
   },
   "outputs": [],
   "source": [
    "from IPython.core.display import Image\n",
    "from imdbpie import Imdb\n",
    "import pandas as pd\n",
    "import plotly as pt\n",
    "from matplotlib import pyplot as plt\n",
    "import numpy as np\n",
    "from sklearn import cross_validation, preprocessing\n",
    "import time\n",
    "import requests\n",
    "import bs4\n",
    "from bs4 import BeautifulSoup\n",
    "import cPickle\n",
    "import seaborn as sns\n",
    "import re\n",
    "from matplotlib import cm\n",
    "from matplotlib.colors import ColorConverter\n",
    "from sklearn.feature_extraction.text import CountVectorizer, HashingVectorizer, TfidfVectorizer\n",
    "\n",
    "% matplotlib inline"
   ]
  },
  {
   "cell_type": "code",
   "execution_count": 4,
   "metadata": {
    "collapsed": true
   },
   "outputs": [],
   "source": [
    "# import statsmodels.api as st\n",
    "# import sklearn\n",
    "# from sklearn import linear_model as lm\n",
    "# from sklearn import cross_validation, preprocessing\n",
    "# import matplotlib.cm as cm\n",
    "# from sklearn.metrics import confusion_matrix\n",
    "# from sklearn.metrics import roc_curve\n",
    "# from sklearn.metrics import roc_auc_score\n",
    "# from sklearn.cross_validation import train_test_split\n",
    "# from sklearn.metrics import accuracy_score\n",
    "# from sklearn.metrics import precision_score\n",
    "# from sklearn.metrics import recall_score\n",
    "# from sklearn.cross_validation import train_test_split\n",
    "# from sklearn.cross_validation import cross_val_predict\n",
    "# from sklearn.cross_validation import cross_val_score\n",
    "# import matplotlib.patheffects as path_effects\n",
    "# from sklearn.metrics import mean_squared_error"
   ]
  },
  {
   "cell_type": "markdown",
   "metadata": {},
   "source": [
    "Get Top 250 movies, save to file:"
   ]
  },
  {
   "cell_type": "code",
   "execution_count": 5,
   "metadata": {
    "collapsed": true
   },
   "outputs": [],
   "source": [
    "# imdb = Imdb()\n",
    "# imdb = Imdb(anonymize=True)\n",
    "# imdb = Imdb(cache=True)\n",
    "# top = imdb.top_250()"
   ]
  },
  {
   "cell_type": "code",
   "execution_count": 6,
   "metadata": {
    "collapsed": false
   },
   "outputs": [],
   "source": [
    "# top = pd.DataFrame(top)\n",
    "# top.to_csv('/Users/Rebecca/DSI-projects/projects/project-06/assets/top.csv', index = False, encoding = 'utf-8')\n",
    "# len(top)"
   ]
  },
  {
   "cell_type": "markdown",
   "metadata": {},
   "source": [
    "Load Top 250 movie data from file:"
   ]
  },
  {
   "cell_type": "code",
   "execution_count": 7,
   "metadata": {
    "collapsed": false
   },
   "outputs": [],
   "source": [
    "top = pd.read_csv('/Users/Rebecca/DSI-projects/projects/project-06/assets/top.csv')"
   ]
  },
  {
   "cell_type": "code",
   "execution_count": 8,
   "metadata": {
    "collapsed": false
   },
   "outputs": [
    {
     "data": {
      "text/html": [
       "<div>\n",
       "<table border=\"1\" class=\"dataframe\">\n",
       "  <thead>\n",
       "    <tr style=\"text-align: right;\">\n",
       "      <th></th>\n",
       "      <th>can_rate</th>\n",
       "      <th>image</th>\n",
       "      <th>num_votes</th>\n",
       "      <th>rating</th>\n",
       "      <th>tconst</th>\n",
       "      <th>title</th>\n",
       "      <th>type</th>\n",
       "      <th>year</th>\n",
       "    </tr>\n",
       "  </thead>\n",
       "  <tbody>\n",
       "    <tr>\n",
       "      <th>0</th>\n",
       "      <td>True</td>\n",
       "      <td>{u'url': u'http://ia.media-imdb.com/images/M/M...</td>\n",
       "      <td>1680129</td>\n",
       "      <td>9.3</td>\n",
       "      <td>tt0111161</td>\n",
       "      <td>The Shawshank Redemption</td>\n",
       "      <td>feature</td>\n",
       "      <td>1994</td>\n",
       "    </tr>\n",
       "    <tr>\n",
       "      <th>1</th>\n",
       "      <td>True</td>\n",
       "      <td>{u'url': u'http://ia.media-imdb.com/images/M/M...</td>\n",
       "      <td>1149482</td>\n",
       "      <td>9.2</td>\n",
       "      <td>tt0068646</td>\n",
       "      <td>The Godfather</td>\n",
       "      <td>feature</td>\n",
       "      <td>1972</td>\n",
       "    </tr>\n",
       "    <tr>\n",
       "      <th>2</th>\n",
       "      <td>True</td>\n",
       "      <td>{u'url': u'http://ia.media-imdb.com/images/M/M...</td>\n",
       "      <td>786145</td>\n",
       "      <td>9.0</td>\n",
       "      <td>tt0071562</td>\n",
       "      <td>The Godfather: Part II</td>\n",
       "      <td>feature</td>\n",
       "      <td>1974</td>\n",
       "    </tr>\n",
       "    <tr>\n",
       "      <th>3</th>\n",
       "      <td>True</td>\n",
       "      <td>{u'url': u'http://ia.media-imdb.com/images/M/M...</td>\n",
       "      <td>1665144</td>\n",
       "      <td>9.0</td>\n",
       "      <td>tt0468569</td>\n",
       "      <td>The Dark Knight</td>\n",
       "      <td>feature</td>\n",
       "      <td>2008</td>\n",
       "    </tr>\n",
       "    <tr>\n",
       "      <th>4</th>\n",
       "      <td>True</td>\n",
       "      <td>{u'url': u'http://ia.media-imdb.com/images/M/M...</td>\n",
       "      <td>859879</td>\n",
       "      <td>8.9</td>\n",
       "      <td>tt0108052</td>\n",
       "      <td>Schindler's List</td>\n",
       "      <td>feature</td>\n",
       "      <td>1993</td>\n",
       "    </tr>\n",
       "  </tbody>\n",
       "</table>\n",
       "</div>"
      ],
      "text/plain": [
       "  can_rate                                              image  num_votes  \\\n",
       "0     True  {u'url': u'http://ia.media-imdb.com/images/M/M...    1680129   \n",
       "1     True  {u'url': u'http://ia.media-imdb.com/images/M/M...    1149482   \n",
       "2     True  {u'url': u'http://ia.media-imdb.com/images/M/M...     786145   \n",
       "3     True  {u'url': u'http://ia.media-imdb.com/images/M/M...    1665144   \n",
       "4     True  {u'url': u'http://ia.media-imdb.com/images/M/M...     859879   \n",
       "\n",
       "   rating     tconst                     title     type  year  \n",
       "0     9.3  tt0111161  The Shawshank Redemption  feature  1994  \n",
       "1     9.2  tt0068646             The Godfather  feature  1972  \n",
       "2     9.0  tt0071562    The Godfather: Part II  feature  1974  \n",
       "3     9.0  tt0468569           The Dark Knight  feature  2008  \n",
       "4     8.9  tt0108052          Schindler's List  feature  1993  "
      ]
     },
     "execution_count": 8,
     "metadata": {},
     "output_type": "execute_result"
    }
   ],
   "source": [
    "top.head()"
   ]
  },
  {
   "cell_type": "code",
   "execution_count": 9,
   "metadata": {
    "collapsed": false
   },
   "outputs": [
    {
     "data": {
      "text/plain": [
       "can_rate        bool\n",
       "image         object\n",
       "num_votes      int64\n",
       "rating       float64\n",
       "tconst        object\n",
       "title         object\n",
       "type          object\n",
       "year           int64\n",
       "dtype: object"
      ]
     },
     "execution_count": 9,
     "metadata": {},
     "output_type": "execute_result"
    }
   ],
   "source": [
    "top.dtypes"
   ]
  },
  {
   "cell_type": "code",
   "execution_count": 10,
   "metadata": {
    "collapsed": false
   },
   "outputs": [
    {
     "data": {
      "text/plain": [
       "\"{u'url': u'http://ia.media-imdb.com/images/M/MV5BODU4MjU4NjIwNl5BMl5BanBnXkFtZTgwMDU2MjEyMDE@._V1_.jpg', u'width': 933, u'height': 1388}\""
      ]
     },
     "execution_count": 10,
     "metadata": {},
     "output_type": "execute_result"
    }
   ],
   "source": [
    "top['image'][0]"
   ]
  },
  {
   "cell_type": "code",
   "execution_count": 11,
   "metadata": {
    "collapsed": true
   },
   "outputs": [],
   "source": [
    "del top['image']"
   ]
  },
  {
   "cell_type": "code",
   "execution_count": 12,
   "metadata": {
    "collapsed": false
   },
   "outputs": [
    {
     "data": {
      "text/plain": [
       "True    250\n",
       "Name: can_rate, dtype: int64"
      ]
     },
     "execution_count": 12,
     "metadata": {},
     "output_type": "execute_result"
    }
   ],
   "source": [
    "top['can_rate'].value_counts()"
   ]
  },
  {
   "cell_type": "code",
   "execution_count": 13,
   "metadata": {
    "collapsed": true
   },
   "outputs": [],
   "source": [
    "del top['can_rate']"
   ]
  },
  {
   "cell_type": "code",
   "execution_count": 14,
   "metadata": {
    "collapsed": false
   },
   "outputs": [
    {
     "data": {
      "text/plain": [
       "feature    250\n",
       "Name: type, dtype: int64"
      ]
     },
     "execution_count": 14,
     "metadata": {},
     "output_type": "execute_result"
    }
   ],
   "source": [
    "top['type'].value_counts()"
   ]
  },
  {
   "cell_type": "code",
   "execution_count": 15,
   "metadata": {
    "collapsed": true
   },
   "outputs": [],
   "source": [
    "del top['type']"
   ]
  },
  {
   "cell_type": "code",
   "execution_count": 16,
   "metadata": {
    "collapsed": true
   },
   "outputs": [],
   "source": [
    "top = top[['tconst', 'title', 'rating', 'num_votes', 'year']]"
   ]
  },
  {
   "cell_type": "code",
   "execution_count": 17,
   "metadata": {
    "collapsed": true
   },
   "outputs": [],
   "source": [
    "top['year'] = top['year'].apply(lambda x: int(x))"
   ]
  },
  {
   "cell_type": "code",
   "execution_count": 18,
   "metadata": {
    "collapsed": false
   },
   "outputs": [
    {
     "data": {
      "text/plain": [
       "count    2.500000e+02\n",
       "mean     4.034077e+05\n",
       "std      3.310935e+05\n",
       "min      2.509900e+04\n",
       "25%      1.229165e+05\n",
       "50%      3.236250e+05\n",
       "75%      5.948370e+05\n",
       "max      1.680129e+06\n",
       "Name: num_votes, dtype: float64"
      ]
     },
     "execution_count": 18,
     "metadata": {},
     "output_type": "execute_result"
    }
   ],
   "source": [
    "top['num_votes'].describe()"
   ]
  },
  {
   "cell_type": "code",
   "execution_count": 19,
   "metadata": {
    "collapsed": false
   },
   "outputs": [
    {
     "data": {
      "image/png": "[encoded data removed]",
      "text/plain": [
       "<matplotlib.figure.Figure at 0x119d6f3d0>"
      ]
     },
     "metadata": {},
     "output_type": "display_data"
    }
   ],
   "source": [
    "plt.figure(figsize=(12,8))\n",
    "plt.style.use('fivethirtyeight')\n",
    "\n",
    "df_hist = plt.hist(top['num_votes']/1000, color = 'darkred', bins = 30, alpha = 0.7)\n",
    "plt.axvline(top['num_votes'].median()/1000, color='b', linestyle='dashed', linewidth=1.3, label = 'median')\n",
    "plt.axvline(top['num_votes'].mean()/1000, color='g', linestyle='dashed', linewidth=1.3, label = 'mean')\n",
    "plt.axhline(0, color='black')\n",
    "plt.title('Histogram of Votes per Top 250 Movie', fontsize = 20, y = 1.05)\n",
    "\n",
    "# y label\n",
    "plt.ylabel('Frequency')\n",
    "\n",
    "# x label\n",
    "plt.xlabel('Number of Votes (x 1000)')\n",
    "\n",
    "plt.xlim([0, max(top['num_votes']/1000)])\n",
    "plt.ylim([0, 40])\n",
    "\n",
    "plt.legend(loc='upper right', fontsize = 15)\n",
    "\n",
    "plt.show()"
   ]
  },
  {
   "cell_type": "markdown",
   "metadata": {},
   "source": [
    "Which movies have more than a million votes?"
   ]
  },
  {
   "cell_type": "code",
   "execution_count": 20,
   "metadata": {
    "collapsed": false
   },
   "outputs": [
    {
     "name": "stderr",
     "output_type": "stream",
     "text": [
      "/Users/Rebecca/anaconda/lib/python2.7/site-packages/ipykernel/__main__.py:1: FutureWarning:\n",
      "\n",
      "sort(columns=....) is deprecated, use sort_values(by=.....)\n",
      "\n"
     ]
    },
    {
     "data": {
      "text/html": [
       "<div>\n",
       "<table border=\"1\" class=\"dataframe\">\n",
       "  <thead>\n",
       "    <tr style=\"text-align: right;\">\n",
       "      <th></th>\n",
       "      <th>title</th>\n",
       "      <th>year</th>\n",
       "    </tr>\n",
       "  </thead>\n",
       "  <tbody>\n",
       "    <tr>\n",
       "      <th>1</th>\n",
       "      <td>The Godfather</td>\n",
       "      <td>1972</td>\n",
       "    </tr>\n",
       "    <tr>\n",
       "      <th>0</th>\n",
       "      <td>The Shawshank Redemption</td>\n",
       "      <td>1994</td>\n",
       "    </tr>\n",
       "    <tr>\n",
       "      <th>6</th>\n",
       "      <td>Pulp Fiction</td>\n",
       "      <td>1994</td>\n",
       "    </tr>\n",
       "    <tr>\n",
       "      <th>12</th>\n",
       "      <td>Forrest Gump</td>\n",
       "      <td>1994</td>\n",
       "    </tr>\n",
       "    <tr>\n",
       "      <th>21</th>\n",
       "      <td>Se7en</td>\n",
       "      <td>1995</td>\n",
       "    </tr>\n",
       "    <tr>\n",
       "      <th>9</th>\n",
       "      <td>Fight Club</td>\n",
       "      <td>1999</td>\n",
       "    </tr>\n",
       "    <tr>\n",
       "      <th>17</th>\n",
       "      <td>The Matrix</td>\n",
       "      <td>1999</td>\n",
       "    </tr>\n",
       "    <tr>\n",
       "      <th>10</th>\n",
       "      <td>The Lord of the Rings: The Fellowship of the Ring</td>\n",
       "      <td>2001</td>\n",
       "    </tr>\n",
       "    <tr>\n",
       "      <th>14</th>\n",
       "      <td>The Lord of the Rings: The Two Towers</td>\n",
       "      <td>2002</td>\n",
       "    </tr>\n",
       "    <tr>\n",
       "      <th>7</th>\n",
       "      <td>The Lord of the Rings: The Return of the King</td>\n",
       "      <td>2003</td>\n",
       "    </tr>\n",
       "    <tr>\n",
       "      <th>3</th>\n",
       "      <td>The Dark Knight</td>\n",
       "      <td>2008</td>\n",
       "    </tr>\n",
       "    <tr>\n",
       "      <th>13</th>\n",
       "      <td>Inception</td>\n",
       "      <td>2010</td>\n",
       "    </tr>\n",
       "    <tr>\n",
       "      <th>61</th>\n",
       "      <td>The Dark Knight Rises</td>\n",
       "      <td>2012</td>\n",
       "    </tr>\n",
       "  </tbody>\n",
       "</table>\n",
       "</div>"
      ],
      "text/plain": [
       "                                                title  year\n",
       "1                                       The Godfather  1972\n",
       "0                            The Shawshank Redemption  1994\n",
       "6                                        Pulp Fiction  1994\n",
       "12                                       Forrest Gump  1994\n",
       "21                                              Se7en  1995\n",
       "9                                          Fight Club  1999\n",
       "17                                         The Matrix  1999\n",
       "10  The Lord of the Rings: The Fellowship of the Ring  2001\n",
       "14              The Lord of the Rings: The Two Towers  2002\n",
       "7       The Lord of the Rings: The Return of the King  2003\n",
       "3                                     The Dark Knight  2008\n",
       "13                                          Inception  2010\n",
       "61                              The Dark Knight Rises  2012"
      ]
     },
     "execution_count": 20,
     "metadata": {},
     "output_type": "execute_result"
    }
   ],
   "source": [
    "top[top['num_votes'] > 1000000][['title', 'year']].sort('year')"
   ]
  },
  {
   "cell_type": "code",
   "execution_count": 21,
   "metadata": {
    "collapsed": false
   },
   "outputs": [
    {
     "data": {
      "text/plain": [
       "count    250.000000\n",
       "mean       8.315200\n",
       "std        0.231133\n",
       "min        8.000000\n",
       "25%        8.100000\n",
       "50%        8.300000\n",
       "75%        8.400000\n",
       "max        9.300000\n",
       "Name: rating, dtype: float64"
      ]
     },
     "execution_count": 21,
     "metadata": {},
     "output_type": "execute_result"
    }
   ],
   "source": [
    "top['rating'].describe()"
   ]
  },
  {
   "cell_type": "markdown",
   "metadata": {},
   "source": [
    "Remember: minimum rating is so high because we're only looking at top 250 movies!"
   ]
  },
  {
   "cell_type": "code",
   "execution_count": 22,
   "metadata": {
    "collapsed": false
   },
   "outputs": [
    {
     "data": {
      "image/png": "[encoded data removed]",
      "text/plain": [
       "<matplotlib.figure.Figure at 0x11a009cd0>"
      ]
     },
     "metadata": {},
     "output_type": "display_data"
    }
   ],
   "source": [
    "plt.figure(figsize=(12,8))\n",
    "plt.style.use('fivethirtyeight')\n",
    "\n",
    "df_hist = plt.hist(top['rating'], color = 'dodgerblue', alpha = 0.5, bins = 30)\n",
    "plt.axvline(top['rating'].median(), color='b', linestyle='dashed', linewidth=1.3, label = 'median')\n",
    "plt.axvline(top['rating'].mean(), color='g', linestyle='dashed', linewidth=1.3, label = 'mean')\n",
    "plt.axhline(0, color='black', alpha = 0.6)\n",
    "plt.title('Histogram of Movie Rating (Top 250)', fontsize = 20, y = 1.05)\n",
    "\n",
    "# y label\n",
    "plt.ylabel('Frequency')\n",
    "\n",
    "# x label\n",
    "plt.xlabel('Rating')\n",
    "\n",
    "plt.xlim([min(top['rating']), 10])\n",
    "#plt.ylim([-10, 85])\n",
    "\n",
    "plt.legend(loc='upper right', fontsize = 15)\n",
    "\n",
    "plt.show()"
   ]
  },
  {
   "cell_type": "code",
   "execution_count": 23,
   "metadata": {
    "collapsed": false
   },
   "outputs": [
    {
     "data": {
      "text/plain": [
       "count     250.000000\n",
       "mean     1984.028000\n",
       "std        24.152361\n",
       "min      1921.000000\n",
       "25%      1964.000000\n",
       "50%      1991.000000\n",
       "75%      2003.750000\n",
       "max      2016.000000\n",
       "Name: year, dtype: float64"
      ]
     },
     "execution_count": 23,
     "metadata": {},
     "output_type": "execute_result"
    }
   ],
   "source": [
    "top['year'].describe()"
   ]
  },
  {
   "cell_type": "markdown",
   "metadata": {},
   "source": [
    "In the histogram below, each bar slot represents one year:"
   ]
  },
  {
   "cell_type": "code",
   "execution_count": 24,
   "metadata": {
    "collapsed": false
   },
   "outputs": [
    {
     "data": {
      "image/png": "[encoded data removed]",
      "text/plain": [
       "<matplotlib.figure.Figure at 0x119d32a10>"
      ]
     },
     "metadata": {},
     "output_type": "display_data"
    }
   ],
   "source": [
    "plt.figure(figsize=(12,8))\n",
    "plt.style.use('fivethirtyeight')\n",
    "\n",
    "df_hist = plt.hist(top['year'], color = 'burlywood', alpha = 0.8, bins = 95)\n",
    "plt.axvline(top['year'].median(), color='b', linestyle='dashed', linewidth=1.3, label = 'median')\n",
    "plt.axvline(top['year'].mean(), color='g', linestyle='dashed', linewidth=1.3, label = 'mean')\n",
    "plt.axhline(0, color='black')\n",
    "plt.title('Histogram of Movie Release Year (Top 250)', fontsize = 20)\n",
    "\n",
    "# y label\n",
    "plt.ylabel('Frequency')\n",
    "\n",
    "# x label\n",
    "plt.xlabel('Year')\n",
    "\n",
    "plt.xlim([min(top['year']), max(top['year'])])\n",
    "plt.ylim([0, 11.5])\n",
    "\n",
    "plt.legend(loc='upper right', fontsize = 15)\n",
    "\n",
    "plt.show()"
   ]
  },
  {
   "cell_type": "markdown",
   "metadata": {},
   "source": [
    "1957 was a good year:"
   ]
  },
  {
   "cell_type": "code",
   "execution_count": 25,
   "metadata": {
    "collapsed": false
   },
   "outputs": [
    {
     "data": {
      "text/html": [
       "<div>\n",
       "<table border=\"1\" class=\"dataframe\">\n",
       "  <thead>\n",
       "    <tr style=\"text-align: right;\">\n",
       "      <th></th>\n",
       "      <th>title</th>\n",
       "      <th>year</th>\n",
       "    </tr>\n",
       "  </thead>\n",
       "  <tbody>\n",
       "    <tr>\n",
       "      <th>5</th>\n",
       "      <td>12 Angry Men</td>\n",
       "      <td>1957</td>\n",
       "    </tr>\n",
       "    <tr>\n",
       "      <th>56</th>\n",
       "      <td>Paths of Glory</td>\n",
       "      <td>1957</td>\n",
       "    </tr>\n",
       "    <tr>\n",
       "      <th>71</th>\n",
       "      <td>Witness for the Prosecution</td>\n",
       "      <td>1957</td>\n",
       "    </tr>\n",
       "    <tr>\n",
       "      <th>131</th>\n",
       "      <td>The Bridge on the River Kwai</td>\n",
       "      <td>1957</td>\n",
       "    </tr>\n",
       "    <tr>\n",
       "      <th>134</th>\n",
       "      <td>The Seventh Seal</td>\n",
       "      <td>1957</td>\n",
       "    </tr>\n",
       "    <tr>\n",
       "      <th>140</th>\n",
       "      <td>Wild Strawberries</td>\n",
       "      <td>1957</td>\n",
       "    </tr>\n",
       "    <tr>\n",
       "      <th>174</th>\n",
       "      <td>Nights of Cabiria</td>\n",
       "      <td>1957</td>\n",
       "    </tr>\n",
       "    <tr>\n",
       "      <th>245</th>\n",
       "      <td>Throne of Blood</td>\n",
       "      <td>1957</td>\n",
       "    </tr>\n",
       "  </tbody>\n",
       "</table>\n",
       "</div>"
      ],
      "text/plain": [
       "                            title  year\n",
       "5                    12 Angry Men  1957\n",
       "56                 Paths of Glory  1957\n",
       "71    Witness for the Prosecution  1957\n",
       "131  The Bridge on the River Kwai  1957\n",
       "134              The Seventh Seal  1957\n",
       "140             Wild Strawberries  1957\n",
       "174             Nights of Cabiria  1957\n",
       "245               Throne of Blood  1957"
      ]
     },
     "execution_count": 25,
     "metadata": {},
     "output_type": "execute_result"
    }
   ],
   "source": [
    "top[top['year'] == 1957][['title', 'year']]"
   ]
  },
  {
   "cell_type": "markdown",
   "metadata": {},
   "source": [
    "As was 1995:"
   ]
  },
  {
   "cell_type": "code",
   "execution_count": 26,
   "metadata": {
    "collapsed": false
   },
   "outputs": [
    {
     "data": {
      "text/html": [
       "<div>\n",
       "<table border=\"1\" class=\"dataframe\">\n",
       "  <thead>\n",
       "    <tr style=\"text-align: right;\">\n",
       "      <th></th>\n",
       "      <th>title</th>\n",
       "      <th>year</th>\n",
       "    </tr>\n",
       "  </thead>\n",
       "  <tbody>\n",
       "    <tr>\n",
       "      <th>21</th>\n",
       "      <td>Se7en</td>\n",
       "      <td>1995</td>\n",
       "    </tr>\n",
       "    <tr>\n",
       "      <th>24</th>\n",
       "      <td>The Usual Suspects</td>\n",
       "      <td>1995</td>\n",
       "    </tr>\n",
       "    <tr>\n",
       "      <th>75</th>\n",
       "      <td>Braveheart</td>\n",
       "      <td>1995</td>\n",
       "    </tr>\n",
       "    <tr>\n",
       "      <th>91</th>\n",
       "      <td>Toy Story</td>\n",
       "      <td>1995</td>\n",
       "    </tr>\n",
       "    <tr>\n",
       "      <th>122</th>\n",
       "      <td>Heat</td>\n",
       "      <td>1995</td>\n",
       "    </tr>\n",
       "    <tr>\n",
       "      <th>138</th>\n",
       "      <td>Casino</td>\n",
       "      <td>1995</td>\n",
       "    </tr>\n",
       "    <tr>\n",
       "      <th>205</th>\n",
       "      <td>Before Sunrise</td>\n",
       "      <td>1995</td>\n",
       "    </tr>\n",
       "    <tr>\n",
       "      <th>219</th>\n",
       "      <td>Twelve Monkeys</td>\n",
       "      <td>1995</td>\n",
       "    </tr>\n",
       "    <tr>\n",
       "      <th>227</th>\n",
       "      <td>La Haine</td>\n",
       "      <td>1995</td>\n",
       "    </tr>\n",
       "  </tbody>\n",
       "</table>\n",
       "</div>"
      ],
      "text/plain": [
       "                  title  year\n",
       "21                Se7en  1995\n",
       "24   The Usual Suspects  1995\n",
       "75           Braveheart  1995\n",
       "91            Toy Story  1995\n",
       "122                Heat  1995\n",
       "138              Casino  1995\n",
       "205      Before Sunrise  1995\n",
       "219      Twelve Monkeys  1995\n",
       "227            La Haine  1995"
      ]
     },
     "execution_count": 26,
     "metadata": {},
     "output_type": "execute_result"
    }
   ],
   "source": [
    "top[top['year'] == 1995][['title', 'year']]"
   ]
  },
  {
   "cell_type": "markdown",
   "metadata": {},
   "source": [
    "The spike farthest to the right on the histogram is combined 2015 and 2016-to-date:"
   ]
  },
  {
   "cell_type": "code",
   "execution_count": 27,
   "metadata": {
    "collapsed": false
   },
   "outputs": [
    {
     "name": "stderr",
     "output_type": "stream",
     "text": [
      "/Users/Rebecca/anaconda/lib/python2.7/site-packages/ipykernel/__main__.py:1: FutureWarning:\n",
      "\n",
      "sort(columns=....) is deprecated, use sort_values(by=.....)\n",
      "\n"
     ]
    },
    {
     "data": {
      "text/html": [
       "<div>\n",
       "<table border=\"1\" class=\"dataframe\">\n",
       "  <thead>\n",
       "    <tr style=\"text-align: right;\">\n",
       "      <th></th>\n",
       "      <th>title</th>\n",
       "      <th>year</th>\n",
       "    </tr>\n",
       "  </thead>\n",
       "  <tbody>\n",
       "    <tr>\n",
       "      <th>118</th>\n",
       "      <td>Inside Out</td>\n",
       "      <td>2015</td>\n",
       "    </tr>\n",
       "    <tr>\n",
       "      <th>123</th>\n",
       "      <td>Room</td>\n",
       "      <td>2015</td>\n",
       "    </tr>\n",
       "    <tr>\n",
       "      <th>141</th>\n",
       "      <td>Star Wars: The Force Awakens</td>\n",
       "      <td>2015</td>\n",
       "    </tr>\n",
       "    <tr>\n",
       "      <th>180</th>\n",
       "      <td>Spotlight</td>\n",
       "      <td>2015</td>\n",
       "    </tr>\n",
       "    <tr>\n",
       "      <th>183</th>\n",
       "      <td>Mad Max: Fury Road</td>\n",
       "      <td>2015</td>\n",
       "    </tr>\n",
       "    <tr>\n",
       "      <th>213</th>\n",
       "      <td>The Revenant</td>\n",
       "      <td>2015</td>\n",
       "    </tr>\n",
       "    <tr>\n",
       "      <th>232</th>\n",
       "      <td>The Martian</td>\n",
       "      <td>2015</td>\n",
       "    </tr>\n",
       "    <tr>\n",
       "      <th>160</th>\n",
       "      <td>Captain America: Civil War</td>\n",
       "      <td>2016</td>\n",
       "    </tr>\n",
       "    <tr>\n",
       "      <th>178</th>\n",
       "      <td>Zootopia</td>\n",
       "      <td>2016</td>\n",
       "    </tr>\n",
       "    <tr>\n",
       "      <th>203</th>\n",
       "      <td>Deadpool</td>\n",
       "      <td>2016</td>\n",
       "    </tr>\n",
       "  </tbody>\n",
       "</table>\n",
       "</div>"
      ],
      "text/plain": [
       "                            title  year\n",
       "118                    Inside Out  2015\n",
       "123                          Room  2015\n",
       "141  Star Wars: The Force Awakens  2015\n",
       "180                     Spotlight  2015\n",
       "183            Mad Max: Fury Road  2015\n",
       "213                  The Revenant  2015\n",
       "232                   The Martian  2015\n",
       "160    Captain America: Civil War  2016\n",
       "178                      Zootopia  2016\n",
       "203                      Deadpool  2016"
      ]
     },
     "execution_count": 27,
     "metadata": {},
     "output_type": "execute_result"
    }
   ],
   "source": [
    "top[(top['year'] == 2015) | (top['year'] == 2016)][['title', 'year']].sort('year')"
   ]
  },
  {
   "cell_type": "code",
   "execution_count": 28,
   "metadata": {
    "collapsed": false
   },
   "outputs": [],
   "source": [
    "top_scaled = preprocessing.scale(top[['num_votes', 'rating', 'year']])\n",
    "top_scaled = pd.DataFrame(top_scaled, columns = ['num_votes', 'rating', 'year'])"
   ]
  },
  {
   "cell_type": "code",
   "execution_count": 29,
   "metadata": {
    "collapsed": false
   },
   "outputs": [
    {
     "data": {
      "text/plain": [
       "<seaborn.axisgrid.PairGrid at 0x11a22cd90>"
      ]
     },
     "execution_count": 29,
     "metadata": {},
     "output_type": "execute_result"
    },
    {
     "data": {
      "image/png": "[encoded data removed]",
      "text/plain": [
       "<matplotlib.figure.Figure at 0x11a238290>"
      ]
     },
     "metadata": {},
     "output_type": "display_data"
    }
   ],
   "source": [
    "sns.pairplot(top_scaled)"
   ]
  },
  {
   "cell_type": "markdown",
   "metadata": {},
   "source": [
    "Let's dig a little deeper into these plots...  \n",
    "\n",
    "We'll use 'rating' to assign the area of points on a scatterplot of number of votes vs. year of movie release.  If we just try dividing by a constant, the difference in size is not readily apparent, so let's try normalizing!"
   ]
  },
  {
   "cell_type": "code",
   "execution_count": 30,
   "metadata": {
    "collapsed": false
   },
   "outputs": [
    {
     "data": {
      "text/plain": [
       "count    2.500000e+02\n",
       "mean     3.674838e-15\n",
       "std      1.002006e+00\n",
       "min     -1.366450e+00\n",
       "25%     -9.329318e-01\n",
       "50%     -6.589481e-02\n",
       "75%      3.676237e-01\n",
       "max      4.269290e+00\n",
       "Name: rating, dtype: float64"
      ]
     },
     "execution_count": 30,
     "metadata": {},
     "output_type": "execute_result"
    }
   ],
   "source": [
    "top_scaled['rating'].describe()"
   ]
  },
  {
   "cell_type": "code",
   "execution_count": 31,
   "metadata": {
    "collapsed": false
   },
   "outputs": [
    {
     "data": {
      "image/png": "[encoded data removed]",
      "text/plain": [
       "<matplotlib.figure.Figure at 0x11bb3e290>"
      ]
     },
     "metadata": {},
     "output_type": "display_data"
    }
   ],
   "source": [
    "plt.figure(figsize=(12,8))\n",
    "plt.style.use('fivethirtyeight')\n",
    "\n",
    "df_hist = plt.hist(top_scaled['rating'], color = 'dodgerblue', alpha = 0.5, bins = 30)\n",
    "plt.axvline(top_scaled['rating'].median(), color='b', linestyle='dashed', linewidth=1.3, label = 'median')\n",
    "plt.axvline(top_scaled['rating'].mean(), color='g', linestyle='dashed', linewidth=1.3, label = 'mean')\n",
    "plt.axhline(0, color='black')\n",
    "plt.title('Histogram of Standardized Movie Ratings (Top 250)', fontsize = 20)\n",
    "\n",
    "# y label\n",
    "plt.ylabel('Frequency')\n",
    "\n",
    "# x label\n",
    "plt.xlabel('Standardized Rating')\n",
    "\n",
    "plt.xlim([min(top_scaled['rating']), max(top_scaled['rating'])])\n",
    "#plt.ylim([-10, 85])\n",
    "\n",
    "plt.legend(loc='upper right', fontsize = 15)\n",
    "\n",
    "plt.show()"
   ]
  },
  {
   "cell_type": "markdown",
   "metadata": {},
   "source": [
    "If we use the standardized ratings multiplied by a constant, though, we'll have a negative area assigned to everything under the mean!  Can't have that.  Let's add a little more than the minimum value to every standardized rating and then multiply by a constant:"
   ]
  },
  {
   "cell_type": "code",
   "execution_count": 32,
   "metadata": {
    "collapsed": false
   },
   "outputs": [
    {
     "data": {
      "image/png": "[encoded data removed]",
      "text/plain": [
       "<matplotlib.figure.Figure at 0x11be43890>"
      ]
     },
     "metadata": {},
     "output_type": "display_data"
    }
   ],
   "source": [
    "plt.figure(figsize=(12,8))\n",
    "plt.style.use('fivethirtyeight')\n",
    "\n",
    "area = (top_scaled['rating'] + 1.4)*30\n",
    "\n",
    "plt.scatter(top['year'], top['num_votes']/1000000, color = 'darkgreen', alpha = 0.5, s = area, \\\n",
    "            label = 'number of votes')\n",
    "\n",
    "plt.title('Number of Votes by Year of Movie Release (Top 250)', fontsize = 22)\n",
    "plt.axhline(0, color='black', alpha = 0.5)\n",
    "plt.axvline(2016, color='b', linestyle='dashed', alpha = 0.7, linewidth=0.8, label = 'current year (2016)')\n",
    "\n",
    "# y label\n",
    "plt.ylabel('Number of Votes (x 1 million)')\n",
    "\n",
    "# x label\n",
    "plt.xlabel('Year of Release')\n",
    "\n",
    "# set the figure boundaries\n",
    "plt.xlim([min(top['year'])-5, 2020])\n",
    "plt.ylim([0, 2.2])\n",
    "plt.grid(True)\n",
    "plt.legend(loc='upper right', fontsize = 12)\n",
    "plt.annotate('**area of points is proportional to rating', (1,0), (-200, -20), \\\n",
    "             xycoords='axes fraction', textcoords='offset points', va='top', fontsize = 12)\n",
    "plt.show()"
   ]
  },
  {
   "cell_type": "code",
   "execution_count": 33,
   "metadata": {
    "collapsed": false
   },
   "outputs": [
    {
     "data": {
      "text/plain": [
       "count    2.500000e+02\n",
       "mean    -8.291146e-16\n",
       "std      1.002006e+00\n",
       "min     -2.614835e+00\n",
       "25%     -8.308991e-01\n",
       "50%      2.892465e-01\n",
       "75%      8.182042e-01\n",
       "max      1.326418e+00\n",
       "Name: year, dtype: float64"
      ]
     },
     "execution_count": 33,
     "metadata": {},
     "output_type": "execute_result"
    }
   ],
   "source": [
    "top_scaled['year'].describe()"
   ]
  },
  {
   "cell_type": "markdown",
   "metadata": {},
   "source": [
    "The plot below is not as 'nice-looking' as the previous one; let's scrape imdb.com to find some more variables!"
   ]
  },
  {
   "cell_type": "code",
   "execution_count": 34,
   "metadata": {
    "collapsed": false
   },
   "outputs": [
    {
     "data": {
      "image/png": "[encoded data removed]",
      "text/plain": [
       "<matplotlib.figure.Figure at 0x11beb1190>"
      ]
     },
     "metadata": {},
     "output_type": "display_data"
    }
   ],
   "source": [
    "plt.figure(figsize=(12,8))\n",
    "plt.style.use('fivethirtyeight')\n",
    "\n",
    "# def rand_jitter(arr):\n",
    "#     stdev = .005*(max(arr)-min(arr))\n",
    "#     return arr + np.random.randn(len(arr)) * stdev\n",
    "\n",
    "# def jitter(x, y, s=10, marker='o', cmap=None, norm=None, vmin=None, vmax=None, alpha=None, linewidths=None, \\\n",
    "#            verts=None, hold=None, **kwargs):\n",
    "#     return plt.scatter(rand_jitter(x), rand_jitter(y), s=s, marker=marker, cmap=cmap, norm=norm, vmin=vmin, \\\n",
    "#                        vmax=vmax, alpha=alpha, linewidths=linewidths, verts=verts, hold=hold, **kwargs)\n",
    "#jitter(top['num_votes']/1000000, top['rating'], color = 'purple', alpha = 0.5, s = area)\n",
    "\n",
    "area = (top_scaled['year'] + 3)*15\n",
    "\n",
    "plt.scatter(top['num_votes']/1000000, top['rating'], color = 'purple', alpha = 0.5, s = area)\n",
    "\n",
    "plt.title('Number of Votes by Year of Movie Release (Top 250)', fontsize = 22)\n",
    "plt.axhline(0, color='darkblue', alpha = 0.5)\n",
    "# y label\n",
    "plt.ylabel('Rating (/10)')\n",
    "\n",
    "# x label\n",
    "plt.xlabel('Number of Votes (x 1 million)')\n",
    "\n",
    "# set the figure boundaries\n",
    "plt.xlim([-0.05, 2])\n",
    "plt.ylim([7.9, 9.5])\n",
    "plt.grid(True)\n",
    "\n",
    "m, b = np.polyfit(top['num_votes']/1000000, top['rating'], 1)\n",
    "\n",
    "plt.plot(top['num_votes']/1000000, m*top['num_votes']/1000000 + b, '-', linewidth = 0.7)\n",
    "\n",
    "plt.annotate('**area of points is proportional to year of release', (1,0), (-200, -20), \\\n",
    "             xycoords='axes fraction', textcoords='offset points', va='top', fontsize = 12)\n",
    "plt.show()\n",
    "\n",
    "## jitter assistance from:\n",
    "## http://stackoverflow.com/questions/8671808/matplotlib-avoiding-overlapping-datapoints-in-a-scatter-dot-beeswarm-plot"
   ]
  },
  {
   "cell_type": "markdown",
   "metadata": {},
   "source": [
    "Let's use an API to get what we can:"
   ]
  },
  {
   "cell_type": "code",
   "execution_count": 35,
   "metadata": {
    "collapsed": false
   },
   "outputs": [],
   "source": [
    "# certification = []\n",
    "# for movie in top['tconst']:\n",
    "#     time.sleep(0.25)\n",
    "#     title = imdb.get_title_by_id(movie)\n",
    "#     cert = title.certification\n",
    "#     certification.append(cert)\n",
    "# print 'done collecting!'\n",
    "# certification = pd.DataFrame(certification)\n",
    "# certification.to_csv('/Users/Rebecca/DSI-projects/projects/project-06/assets/certification.csv', index = False, \\\n",
    "# encoding = 'utf-8')"
   ]
  },
  {
   "cell_type": "code",
   "execution_count": 37,
   "metadata": {
    "collapsed": false
   },
   "outputs": [
    {
     "data": {
      "text/plain": [
       "R            92\n",
       "Not Rated    33\n",
       "PG           32\n",
       "PG-13        30\n",
       "Approved     14\n",
       "Unrated      12\n",
       "G            10\n",
       "TV-PG         9\n",
       "TV-14         6\n",
       "TV-MA         4\n",
       "Passed        3\n",
       "M             2\n",
       "X             1\n",
       "TV-G          1\n",
       "E             1\n",
       "Name: cert, dtype: int64"
      ]
     },
     "execution_count": 37,
     "metadata": {},
     "output_type": "execute_result"
    }
   ],
   "source": [
    "# certification = pd.read_csv('/Users/Rebecca/DSI-projects/projects/project-06/assets/certification.csv')\n",
    "# certification.columns = ['cert']\n",
    "# top['cert'] = certification\n",
    "# top['cert'].value_counts()"
   ]
  },
  {
   "cell_type": "markdown",
   "metadata": {
    "collapsed": true
   },
   "source": [
    "There are too many unique values!  Let's consolidate.  This cell prints all movies not having 'R', 'PG-13', 'PG', or 'G' as a certification:"
   ]
  },
  {
   "cell_type": "code",
   "execution_count": 78,
   "metadata": {
    "collapsed": false,
    "scrolled": true
   },
   "outputs": [
    {
     "name": "stdout",
     "output_type": "stream",
     "text": [
      ". . . . . \n",
      "\n",
      "title    12 Angry Men\n",
      "cert        Not Rated\n",
      "Name: 5, dtype: object\n",
      ". . \n",
      "\n",
      "title    The Good, the Bad and the Ugly\n",
      "cert                          Not Rated\n",
      "Name: 8, dtype: object\n",
      "\n",
      "\n",
      "title    Fight Club\n",
      "cert          TV-MA\n",
      "Name: 9, dtype: object\n",
      ". . . . . . . . \n",
      "\n",
      "title    Seven Samurai\n",
      "cert           Unrated\n",
      "Name: 18, dtype: object\n",
      ". . . . \n",
      "\n",
      "title    It's a Wonderful Life\n",
      "cert                  Approved\n",
      "Name: 23, dtype: object\n",
      ". . \n",
      "\n",
      "title    Léon: The Professional\n",
      "cert                    Unrated\n",
      "Name: 26, dtype: object\n",
      "\n",
      "\n",
      "title    Once Upon a Time in the West\n",
      "cert                                M\n",
      "Name: 27, dtype: object\n",
      ". \n",
      "\n",
      "title    Saving Private Ryan\n",
      "cert                   TV-MA\n",
      "Name: 29, dtype: object\n",
      "\n",
      "\n",
      "title    American History X\n",
      "cert                  TV-14\n",
      "Name: 30, dtype: object\n",
      ". \n",
      "\n",
      "title    Casablanca\n",
      "cert          TV-PG\n",
      "Name: 32, dtype: object\n",
      "\n",
      "\n",
      "title      Psycho\n",
      "cert     Approved\n",
      "Name: 33, dtype: object\n",
      "\n",
      "\n",
      "title    City Lights\n",
      "cert          Passed\n",
      "Name: 34, dtype: object\n",
      ". . . . \n",
      "\n",
      "title    Rear Window\n",
      "cert        Approved\n",
      "Name: 39, dtype: object\n",
      "\n",
      "\n",
      "title    Terminator 2: Judgment Day\n",
      "cert                          TV-14\n",
      "Name: 40, dtype: object\n",
      ". . . . . . . . . \n",
      "\n",
      "title    Dr. Strangelove or: How I Learned to Stop Worr...\n",
      "cert                                              Approved\n",
      "Name: 50, dtype: object\n",
      "\n",
      "\n",
      "title    Sunset Blvd.\n",
      "cert        Not Rated\n",
      "Name: 51, dtype: object\n",
      "\n",
      "\n",
      "title    Alien\n",
      "cert     TV-14\n",
      "Name: 52, dtype: object\n",
      "\n",
      "\n",
      "title    The Great Dictator\n",
      "cert               Approved\n",
      "Name: 53, dtype: object\n",
      ". . \n",
      "\n",
      "title    Paths of Glory\n",
      "cert           Approved\n",
      "Name: 56, dtype: object\n",
      ". . \n",
      "\n",
      "title    Grave of the Fireflies\n",
      "cert                    Unrated\n",
      "Name: 59, dtype: object\n",
      ". . . . \n",
      "\n",
      "title    Princess Mononoke\n",
      "cert                 TV-14\n",
      "Name: 64, dtype: object\n",
      ". \n",
      "\n",
      "title    Citizen Kane\n",
      "cert         Approved\n",
      "Name: 66, dtype: object\n",
      ". \n",
      "\n",
      "title    North by Northwest\n",
      "cert               Approved\n",
      "Name: 68, dtype: object\n",
      ". \n",
      "\n",
      "title     Vertigo\n",
      "cert     Approved\n",
      "Name: 70, dtype: object\n",
      "\n",
      "\n",
      "title    Witness for the Prosecution\n",
      "cert                        Approved\n",
      "Name: 71, dtype: object\n",
      ". \n",
      "\n",
      "title            M\n",
      "cert     Not Rated\n",
      "Name: 73, dtype: object\n",
      "\n",
      "\n",
      "title    Reservoir Dogs\n",
      "cert              TV-MA\n",
      "Name: 74, dtype: object\n",
      ". . \n",
      "\n",
      "title    Requiem for a Dream\n",
      "cert                 Unrated\n",
      "Name: 77, dtype: object\n",
      "\n",
      "\n",
      "title    A Clockwork Orange\n",
      "cert                      X\n",
      "Name: 78, dtype: object\n",
      ". \n",
      "\n",
      "title    Double Indemnity\n",
      "cert               Passed\n",
      "Name: 80, dtype: object\n",
      ". . \n",
      "\n",
      "title    To Kill a Mockingbird\n",
      "cert                 Not Rated\n",
      "Name: 83, dtype: object\n",
      ". . . . . \n",
      "\n",
      "title    Bicycle Thieves\n",
      "cert           Not Rated\n",
      "Name: 89, dtype: object\n",
      ". \n",
      "\n",
      "title    Toy Story\n",
      "cert          TV-G\n",
      "Name: 91, dtype: object\n",
      ". . . \n",
      "\n",
      "title      The Kid\n",
      "cert     Not Rated\n",
      "Name: 95, dtype: object\n",
      "\n",
      "\n",
      "title    L.A. Confidential\n",
      "cert                 TV-MA\n",
      "Name: 96, dtype: object\n",
      "\n",
      "\n",
      "title    For a Few Dollars More\n",
      "cert                   Approved\n",
      "Name: 97, dtype: object\n",
      "\n",
      "\n",
      "title    The Apartment\n",
      "cert          Approved\n",
      "Name: 98, dtype: object\n",
      "\n",
      "\n",
      "title    Rashomon\n",
      "cert      Unrated\n",
      "Name: 99, dtype: object\n",
      "\n",
      "\n",
      "title    Scarface\n",
      "cert        TV-14\n",
      "Name: 100, dtype: object\n",
      "\n",
      "\n",
      "title    Indiana Jones and the Last Crusade\n",
      "cert                                      E\n",
      "Name: 101, dtype: object\n",
      ". \n",
      "\n",
      "title    Metropolis\n",
      "cert      Not Rated\n",
      "Name: 103, dtype: object\n",
      "\n",
      "\n",
      "title    All About Eve\n",
      "cert             TV-PG\n",
      "Name: 104, dtype: object\n",
      ". \n",
      "\n",
      "title    Yojimbo\n",
      "cert     Unrated\n",
      "Name: 106, dtype: object\n",
      ". . \n",
      "\n",
      "title    The Treasure of the Sierra Madre\n",
      "cert                                TV-PG\n",
      "Name: 109, dtype: object\n",
      ". \n",
      "\n",
      "title    Some Like It Hot\n",
      "cert            Not Rated\n",
      "Name: 111, dtype: object\n",
      ". . \n",
      "\n",
      "title    The Third Man\n",
      "cert         Not Rated\n",
      "Name: 114, dtype: object\n",
      ". . . . . . \n",
      "\n",
      "title    The Great Escape\n",
      "cert             Approved\n",
      "Name: 121, dtype: object\n",
      ". . . \n",
      "\n",
      "title    On the Waterfront\n",
      "cert             Not Rated\n",
      "Name: 125, dtype: object\n",
      ". \n",
      "\n",
      "title        Ikiru\n",
      "cert     Not Rated\n",
      "Name: 127, dtype: object\n",
      ". \n",
      "\n",
      "title    The Gold Rush\n",
      "cert         Not Rated\n",
      "Name: 129, dtype: object\n",
      "\n",
      "\n",
      "title    Mr. Smith Goes to Washington\n",
      "cert                        Not Rated\n",
      "Name: 130, dtype: object\n",
      "\n",
      "\n",
      "title    The Bridge on the River Kwai\n",
      "cert                         Approved\n",
      "Name: 131, dtype: object\n",
      ". . \n",
      "\n",
      "title    The Seventh Seal\n",
      "cert            Not Rated\n",
      "Name: 134, dtype: object\n",
      ". \n",
      "\n",
      "title      Sunrise\n",
      "cert     Not Rated\n",
      "Name: 136, dtype: object\n",
      "\n",
      "\n",
      "title    Howl's Moving Castle\n",
      "cert                    TV-PG\n",
      "Name: 137, dtype: object\n",
      ". \n",
      "\n",
      "title    The General\n",
      "cert         Unrated\n",
      "Name: 139, dtype: object\n",
      "\n",
      "\n",
      "title    Wild Strawberries\n",
      "cert               Unrated\n",
      "Name: 140, dtype: object\n",
      ". . . . \n",
      "\n",
      "title    Judgment at Nuremberg\n",
      "cert                     TV-14\n",
      "Name: 145, dtype: object\n",
      ". \n",
      "\n",
      "title    Tokyo Story\n",
      "cert       Not Rated\n",
      "Name: 147, dtype: object\n",
      ". . . . . . . \n",
      "\n",
      "title      Rebecca\n",
      "cert     Not Rated\n",
      "Name: 155, dtype: object\n",
      ". . \n",
      "\n",
      "title    Gone with the Wind\n",
      "cert                  TV-PG\n",
      "Name: 158, dtype: object\n",
      ". . . . . \n",
      "\n",
      "title    Come and See\n",
      "cert        Not Rated\n",
      "Name: 164, dtype: object\n",
      ". . . \n",
      "\n",
      "title    Mary and Max\n",
      "cert        Not Rated\n",
      "Name: 168, dtype: object\n",
      ". . \n",
      "\n",
      "title    It Happened One Night\n",
      "cert                   Unrated\n",
      "Name: 171, dtype: object\n",
      ". . \n",
      "\n",
      "title    Nights of Cabiria\n",
      "cert             Not Rated\n",
      "Name: 174, dtype: object\n",
      ". . . . \n",
      "\n",
      "title    The Maltese Falcon\n",
      "cert              Not Rated\n",
      "Name: 179, dtype: object\n",
      ". \n",
      "\n",
      "title    The Wages of Fear\n",
      "cert             Not Rated\n",
      "Name: 181, dtype: object\n",
      ". . . . \n",
      "\n",
      "title    The 400 Blows\n",
      "cert         Not Rated\n",
      "Name: 186, dtype: object\n",
      ". . . \n",
      "\n",
      "title      Persona\n",
      "cert     Not Rated\n",
      "Name: 190, dtype: object\n",
      ". . . . . \n",
      "\n",
      "title    Ben-Hur\n",
      "cert       TV-PG\n",
      "Name: 196, dtype: object\n",
      ". . . . \n",
      "\n",
      "title    The Grapes of Wrath\n",
      "cert               Not Rated\n",
      "Name: 201, dtype: object\n",
      ". . \n",
      "\n",
      "title      Stalker\n",
      "cert     Not Rated\n",
      "Name: 204, dtype: object\n",
      ". . . . \n",
      "\n",
      "title    Memories of Murder\n",
      "cert                Unrated\n",
      "Name: 209, dtype: object\n",
      "\n",
      "\n",
      "title    Diabolique\n",
      "cert        Unrated\n",
      "Name: 210, dtype: object\n",
      ". . . \n",
      "\n",
      "title           8½\n",
      "cert     Not Rated\n",
      "Name: 214, dtype: object\n",
      "\n",
      "\n",
      "title    The Wizard of Oz\n",
      "cert               Passed\n",
      "Name: 215, dtype: object\n",
      "\n",
      "\n",
      "title    Monsters, Inc.\n",
      "cert              TV-PG\n",
      "Name: 216, dtype: object\n",
      ". . . \n",
      "\n",
      "title    The Best Years of Our Lives\n",
      "cert                       Not Rated\n",
      "Name: 220, dtype: object\n",
      ". . \n",
      "\n",
      "title    Strangers on a Train\n",
      "cert                    TV-PG\n",
      "Name: 223, dtype: object\n",
      ". \n",
      "\n",
      "title    Kind Hearts and Coronets\n",
      "cert                    Not Rated\n",
      "Name: 225, dtype: object\n",
      ". \n",
      "\n",
      "title     La Haine\n",
      "cert     Not Rated\n",
      "Name: 227, dtype: object\n",
      ". . \n",
      "\n",
      "title    The Battle of Algiers\n",
      "cert                 Not Rated\n",
      "Name: 230, dtype: object\n",
      ". . . . . . . . . . \n",
      "\n",
      "title    A Fistful of Dollars\n",
      "cert                        M\n",
      "Name: 241, dtype: object\n",
      "\n",
      "\n",
      "title    Castle in the Sky\n",
      "cert                 TV-PG\n",
      "Name: 242, dtype: object\n",
      ". \n",
      "\n",
      "title    Roman Holiday\n",
      "cert         Not Rated\n",
      "Name: 244, dtype: object\n",
      "\n",
      "\n",
      "title    Throne of Blood\n",
      "cert             Unrated\n",
      "Name: 245, dtype: object\n",
      ". . . .\n"
     ]
    }
   ],
   "source": [
    "# cert_OK = ['R', 'PG-13', 'PG', 'G']\n",
    "# for i in range(len(top['cert'])):\n",
    "#     if top['cert'][i] in cert_OK:\n",
    "#         print '.',\n",
    "#     else:\n",
    "#         print '\\n'\n",
    "#         print top.loc[i][['title', 'cert']]"
   ]
  },
  {
   "cell_type": "markdown",
   "metadata": {},
   "source": [
    "Let's consolidate these as much as possible.  Examine (imdb.com, wikipedia) each certification except 'R', 'PG', 'PG-13', 'G'.  We'll assume those have been categorized properly.  Update if necessary. "
   ]
  },
  {
   "cell_type": "code",
   "execution_count": 81,
   "metadata": {
    "collapsed": false
   },
   "outputs": [],
   "source": [
    "# top['cert'][101] = 'PG-13' # Indiana Jones and the Last Crusade\n",
    "# top['cert'][91] = 'G' # Toy Story\n",
    "# top['cert'][78] = 'R' # A Clockwork Orange\n",
    "# top['cert'][34] = 'G' # City Lights\n",
    "# top['cert'][80] = 'Not Rated' # Double Indemnity\n",
    "# top['cert'][215] = 'G' # Wizard of Oz \n",
    "# top['cert'][27] = 'PG-13' # Once Upon a Time in the West\n",
    "# top['cert'][241] = 'R' # A Fistful of Dollars\n",
    "# top['cert'][9] = 'R' # Fight Club\n",
    "# top['cert'][29] = 'R' # Saving Private Ryan\n",
    "# top['cert'][74] = 'R' # Reservoir Dogs\n",
    "# top['cert'][96] = 'R' # L.A. Confidential\n",
    "# top['cert'][30] = 'R' # American History X\n",
    "# top['cert'][40] = 'R' # Terminator 2: Judgment Day\n",
    "# top['cert'][52] = 'R' # Alien\n",
    "# top['cert'][64] = 'PG-13' # Princess Mononoke\n",
    "# top['cert'][100] = 'R' # Scarface\n",
    "# top['cert'][145] = 'Not Rated' # Judgment at Nuremberg\n",
    "# top['cert'][18] = 'Not Rated' # Seven Samurai\n",
    "# top['cert'][26] = 'R' # Léon: The Professional\n",
    "# top['cert'][59] = 'Not Rated' # Grave of the Fireflies\n",
    "# top['cert'][77] = 'R' # Requiem for a Dream\n",
    "# top['cert'][99] = 'Not Rated' # Rashomon\n",
    "# top['cert'][106] = 'Not Rated' # Yojimbo\n",
    "# top['cert'][139] = 'Not Rated' # The General\n",
    "# top['cert'][140] = 'Not Rated' # Wild Strawberries\n",
    "# top['cert'][171] = 'Not Rated' # It Happened One Night\n",
    "# top['cert'][209] = 'Not Rated' # Diabolique\n",
    "# top['cert'][210] = 'Not Rated' # Memories of Murder\n",
    "# top['cert'][245] = 'Not Rated' # Throne of Blood\n",
    "# top['cert'][32] = 'PG' # Casablanca\n",
    "# top['cert'][104] = 'Approved' # All About Eve\n",
    "# top['cert'][109] = 'Not Rated' # The Treasure of the Sierra Madre\n",
    "# top['cert'][137] = 'PG' # Howl's Moving Castle\n",
    "# top['cert'][158] = 'G' # Gone With the Wind\n",
    "# top['cert'][196] = 'G' # Ben-Hur\n",
    "# top['cert'][216] = 'G' # Monsters, Inc.\n",
    "# top['cert'][223] = 'PG' # Strangers on a Train\n",
    "# top['cert'][242] = 'PG' # Castle in the Sky\n",
    "# top['cert'][23] = 'PG' # It's a Wonderful Life\n",
    "# top['cert'][33] = 'R' # Psycho\n",
    "# top['cert'][39] = 'PG' # Rear Window\n",
    "# top['cert'][50] = 'PG' # Dr. Strangelove\n",
    "# top['cert'][70] = 'PG' # Vertigo\n",
    "# top['cert'][131] = 'PG' # Bridge on the River Kwai"
   ]
  },
  {
   "cell_type": "markdown",
   "metadata": {},
   "source": [
    "Much nicer:"
   ]
  },
  {
   "cell_type": "code",
   "execution_count": 80,
   "metadata": {
    "collapsed": false
   },
   "outputs": [
    {
     "data": {
      "text/plain": [
       "R            105\n",
       "Not Rated     46\n",
       "PG            41\n",
       "PG-13         33\n",
       "G             16\n",
       "Approved       9\n",
       "Name: cert, dtype: int64"
      ]
     },
     "execution_count": 80,
     "metadata": {},
     "output_type": "execute_result"
    }
   ],
   "source": [
    "# top['cert'].value_counts()"
   ]
  },
  {
   "cell_type": "code",
   "execution_count": 82,
   "metadata": {
    "collapsed": false
   },
   "outputs": [],
   "source": [
    "# certification = pd.DataFrame(top['cert'])\n",
    "# certification.to_csv('/Users/Rebecca/DSI-projects/projects/project-06/assets/certification2.csv', index = False, \\\n",
    "#     encoding = 'utf-8')"
   ]
  },
  {
   "cell_type": "code",
   "execution_count": 38,
   "metadata": {
    "collapsed": true
   },
   "outputs": [],
   "source": [
    "certification = pd.read_csv('/Users/Rebecca/DSI-projects/projects/project-06/assets/certification2.csv')\n",
    "certification.columns = ['cert']\n",
    "top['cert'] = certification"
   ]
  },
  {
   "cell_type": "code",
   "execution_count": 39,
   "metadata": {
    "collapsed": false
   },
   "outputs": [
    {
     "data": {
      "text/plain": [
       "R            105\n",
       "Not Rated     46\n",
       "PG            41\n",
       "PG-13         33\n",
       "G             16\n",
       "Approved       9\n",
       "Name: cert, dtype: int64"
      ]
     },
     "execution_count": 39,
     "metadata": {},
     "output_type": "execute_result"
    }
   ],
   "source": [
    "top['cert'].value_counts()"
   ]
  },
  {
   "cell_type": "code",
   "execution_count": 40,
   "metadata": {
    "collapsed": false
   },
   "outputs": [
    {
     "data": {
      "image/png": "[encoded data removed]",
      "text/plain": [
       "<matplotlib.figure.Figure at 0x11c9358d0>"
      ]
     },
     "metadata": {},
     "output_type": "display_data"
    }
   ],
   "source": [
    "plt.figure(figsize=(12,8))\n",
    "plt.style.use('fivethirtyeight')\n",
    "\n",
    "# subset dataframe by certification\n",
    "top_R = top[top['cert'] == 'R']\n",
    "top_NR = top[top['cert'] == 'Not Rated']\n",
    "top_PG = top[top['cert'] == 'PG']\n",
    "top_PG13 = top[top['cert'] == 'PG-13']\n",
    "top_G = top[top['cert'] == 'G']\n",
    "top_Approved = top[top['cert'] == 'Approved']\n",
    "\n",
    "# assign colors to ranked certifications\n",
    "cert = ['G', 'PG', 'PG-13', 'R']\n",
    "cert_colors = []\n",
    "for i in range(0, 256, 256/3):\n",
    "    cert_colors.append(cm.coolwarm(i))\n",
    "cert_dict = dict(zip(cert, cert_colors))\n",
    "\n",
    "# set area of dot proportional-ish to rating\n",
    "area = (top_scaled['rating'] + 1.4)*30\n",
    "\n",
    "# plot number of votes by year of release\n",
    "plt.scatter(top_R['year'], top_R['num_votes']/1000000, color = cert_dict['R'], alpha = 0.5, s = area, label = 'R')\n",
    "plt.scatter(top_PG13['year'], top_PG13['num_votes']/1000000, color = cert_dict['PG-13'], alpha = 0.5, s = area, \\\n",
    "            label = 'PG-13')\n",
    "plt.scatter(top_PG['year'], top_PG['num_votes']/1000000, color = cert_dict['PG'], alpha = 0.5, s = area, label = 'PG')\n",
    "plt.scatter(top_G['year'], top_G['num_votes']/1000000, color = cert_dict['G'], alpha = 0.5, s = area, label = 'G')\n",
    "plt.scatter(top_Approved['year'], top_Approved['num_votes']/1000000, color = 'darkgreen', alpha = 0.5, s = area, \\\n",
    "            label = 'Approved')\n",
    "plt.scatter(top_NR['year'], top_NR['num_votes']/1000000, color = 'black', alpha = 0.3, s = area, label = 'No Rating')\n",
    "\n",
    "plt.title('Number of Votes by Year of Movie Release (Top 250)', fontsize = 22)\n",
    "\n",
    "# add x-axis line and a line to show current year\n",
    "plt.axhline(0, color='black', alpha = 0.6)\n",
    "plt.axvline(2016, color='black', linestyle='dashed', linewidth=0.8, label = 'current year (2016)')\n",
    "\n",
    "# y label\n",
    "plt.ylabel('Number of Votes (x 1 million)')\n",
    "\n",
    "# x label\n",
    "plt.xlabel('Year of Release')\n",
    "\n",
    "# set the figure boundaries\n",
    "plt.xlim([min(top['year'])-5, 2020])\n",
    "plt.ylim([0, 2.5])\n",
    "\n",
    "plt.grid(True)\n",
    "plt.legend(loc='upper right', fontsize = 12)\n",
    "plt.annotate('**area of points is proportional to rating', (1,0), (-200, -20), \\\n",
    "             xycoords='axes fraction', textcoords='offset points', va='top', fontsize = 12)\n",
    "plt.show()"
   ]
  },
  {
   "cell_type": "markdown",
   "metadata": {},
   "source": [
    "OK!  Now let's scrape some additional data:"
   ]
  },
  {
   "cell_type": "code",
   "execution_count": 41,
   "metadata": {
    "collapsed": false
   },
   "outputs": [],
   "source": [
    "# URL = 'http://www.imdb.com/title/'\n",
    "# paths = top['tconst']\n",
    "# soup = []\n",
    "# for i in paths:\n",
    "#     time.sleep(1)\n",
    "#     request = requests.get(URL + i + '/')\n",
    "#     if str(request) != '<Response [200]>':\n",
    "#         print URL + i + '/'\n",
    "#     tiny_soup = BeautifulSoup(request.content, \"lxml\")\n",
    "#     soup.append(tiny_soup)\n",
    "\n",
    "# print 'done scraping!  pickle time.'\n",
    "# cPickle.dump(soup, open('movie_soup2.p', 'wb')) "
   ]
  },
  {
   "cell_type": "markdown",
   "metadata": {},
   "source": [
    "HERE IS THE SOUP!  Can load it, but individual files can also be loaded in cells below."
   ]
  },
  {
   "cell_type": "code",
   "execution_count": 42,
   "metadata": {
    "collapsed": false
   },
   "outputs": [],
   "source": [
    "# soup = cPickle.load(open('/Users/Rebecca/DSI-projects/projects/project-06/assets/movie_soup2.p', 'rb'))"
   ]
  },
  {
   "cell_type": "code",
   "execution_count": 43,
   "metadata": {
    "collapsed": false
   },
   "outputs": [],
   "source": [
    "# running_time = []\n",
    "# for i in range(len(soup)):\n",
    "#     times = []\n",
    "#     for j in soup[i].find_all('time', itemprop = 'duration'):\n",
    "#         times.append(j.text.encode('utf8'))\n",
    "#     running_time.append(times[0])\n",
    "\n",
    "# for i in range(len(running_time)):\n",
    "#     split_time = []\n",
    "#     clean_time = running_time[i].replace('\\n                        ', '')\n",
    "#     clean_time = clean_time.replace('min\\n                    ', '')\n",
    "#     split_time = clean_time.split('h ')\n",
    "#     split_time[0] = split_time[0].replace('h\\n                    ', '')\n",
    "#     if len(split_time) == 1:\n",
    "#         minutes = float(split_time[0]) * 60\n",
    "#         running_time[i] = int(minutes) \n",
    "#     else:\n",
    "#         minutes = float(split_time[0]) * 60 + float(split_time[1])\n",
    "#         running_time[i] = int(minutes)\n",
    "        \n",
    "# run_time = pd.DataFrame(running_time, columns = ['run_time'])\n",
    "# run_time.to_csv('/Users/Rebecca/DSI-projects/projects/project-06/assets/run_time2.csv', index = False)"
   ]
  },
  {
   "cell_type": "markdown",
   "metadata": {},
   "source": [
    "Load running time file and add as column to data frame:"
   ]
  },
  {
   "cell_type": "code",
   "execution_count": 44,
   "metadata": {
    "collapsed": false
   },
   "outputs": [],
   "source": [
    "run_time = pd.read_csv('/Users/Rebecca/DSI-projects/projects/project-06/assets/run_time2.csv')\n",
    "top['run_time'] = run_time"
   ]
  },
  {
   "cell_type": "code",
   "execution_count": 45,
   "metadata": {
    "collapsed": false
   },
   "outputs": [],
   "source": [
    "# genre = []\n",
    "# for i in range(len(soup)):\n",
    "#     genres = []\n",
    "#     for j in soup[i].find_all('span', itemprop = 'genre'):\n",
    "#         genres.append(j.text.encode('utf8'))\n",
    "#     genre.append(genres)\n",
    "\n",
    "# for i in range(len(genre)):\n",
    "#     genre[i] = str(genre[i])\n",
    "    \n",
    "# genre = pd.DataFrame(genre, columns = ['genre'])\n",
    "# genre.to_csv('/Users/Rebecca/DSI-projects/projects/project-06/assets/genre2.csv', index = False)"
   ]
  },
  {
   "cell_type": "markdown",
   "metadata": {},
   "source": [
    "Load genre file and add as column to data frame:"
   ]
  },
  {
   "cell_type": "code",
   "execution_count": 128,
   "metadata": {
    "collapsed": false
   },
   "outputs": [],
   "source": [
    "genre = pd.read_csv('/Users/Rebecca/DSI-projects/projects/project-06/assets/genre2.csv')\n",
    "genre.columns = ['genre']\n",
    "top['genre'] = genre"
   ]
  },
  {
   "cell_type": "code",
   "execution_count": 47,
   "metadata": {
    "collapsed": false
   },
   "outputs": [],
   "source": [
    "# release_info = []\n",
    "# for i in range(len(soup)):\n",
    "#     info = []\n",
    "#     for j in soup[i].find_all('a', title = 'See more release dates'):\n",
    "#         info.append(j.text.encode('utf8'))\n",
    "#     release_info.append(info)\n",
    "\n",
    "# month = []\n",
    "# country = []\n",
    "# for i in range(len(release_info)):\n",
    "#     month_country = []\n",
    "#     release_info[i] = str(release_info[i])\n",
    "#     clean = release_info[i].replace(')\\\\n\\\\n\\']', '')\n",
    "#     split = clean.split(' ')\n",
    "#     if len(split) == 4:\n",
    "#         month.append(split[1])\n",
    "#         split[3] = split[3].replace('(', '')\n",
    "#         country.append(split[3])\n",
    "#     else:\n",
    "#         month.append(split)\n",
    "#         country.append(split)\n",
    "\n",
    "# all_months = ['January', 'February', 'March', 'April', 'May', 'June', 'July', 'August', 'September', 'October', \\\n",
    "#              'November', 'December']\n",
    "\n",
    "# top['month'] = month\n",
    "# top['country'] = country\n",
    "# for i in range(len(top)):\n",
    "#     if top['month'][i] in all_months:\n",
    "#         print '.',\n",
    "#     else:\n",
    "#         print '\\n'\n",
    "#         print top.loc[i][['title', 'month', 'country']]\n",
    "#         print '\\n'"
   ]
  },
  {
   "cell_type": "markdown",
   "metadata": {},
   "source": [
    "Correct the ones that came through in different format and look up month for 'The Gold Rush' (thanks, Wikipedia!):"
   ]
  },
  {
   "cell_type": "code",
   "execution_count": 48,
   "metadata": {
    "collapsed": false
   },
   "outputs": [],
   "source": [
    "# top['month'][5] = 'April'\n",
    "# top['country'][5] = 'USA'\n",
    "# top['month'][56] = 'October'\n",
    "# top['country'][56] = 'West Germany'\n",
    "# top['month'][65] = 'November'\n",
    "# top['country'][65] = 'South Korea'\n",
    "# top['month'][129] = 'June'\n",
    "# top['country'][129] = 'Germany'\n",
    "# top['month'][209] = 'May'\n",
    "# top['country'][209] = 'South Korea'\n",
    "# top['month'][224] = 'December'\n",
    "# top['country'][224] = 'Hong Kong'"
   ]
  },
  {
   "cell_type": "code",
   "execution_count": 49,
   "metadata": {
    "collapsed": true
   },
   "outputs": [],
   "source": [
    "# month = pd.DataFrame(top['month'], columns = ['month'])\n",
    "# country = pd.DataFrame(top['country'], columns = ['country'])\n",
    "# month.to_csv('/Users/Rebecca/DSI-projects/projects/project-06/assets/month2.csv', index = False, encoding = 'utf-8')\n",
    "# country.to_csv('/Users/Rebecca/DSI-projects/projects/project-06/assets/country2.csv', index = False, encoding = 'utf-8')"
   ]
  },
  {
   "cell_type": "markdown",
   "metadata": {},
   "source": [
    "Load month and country files and add as columns to data frame:"
   ]
  },
  {
   "cell_type": "code",
   "execution_count": 54,
   "metadata": {
    "collapsed": false
   },
   "outputs": [
    {
     "data": {
      "text/plain": [
       "December     29\n",
       "February     24\n",
       "June         23\n",
       "March        23\n",
       "January      21\n",
       "October      21\n",
       "May          20\n",
       "November     20\n",
       "August       19\n",
       "July         18\n",
       "September    17\n",
       "April        15\n",
       "Name: month, dtype: int64"
      ]
     },
     "execution_count": 54,
     "metadata": {},
     "output_type": "execute_result"
    }
   ],
   "source": [
    "month = pd.read_csv('/Users/Rebecca/DSI-projects/projects/project-06/assets/month2.csv')\n",
    "country = pd.read_csv('/Users/Rebecca/DSI-projects/projects/project-06/assets/country2.csv')\n",
    "top['month'] = month\n",
    "top['country'] = country\n",
    "top['month'].value_counts()"
   ]
  },
  {
   "cell_type": "markdown",
   "metadata": {},
   "source": [
    "Hey, I know!  Let's practice using dictionaries.  We'll make a bar plot of movie counts by month and put the bars in order of month (not in order of count):"
   ]
  },
  {
   "cell_type": "code",
   "execution_count": 55,
   "metadata": {
    "collapsed": false
   },
   "outputs": [
    {
     "name": "stderr",
     "output_type": "stream",
     "text": [
      "/Users/Rebecca/anaconda/lib/python2.7/site-packages/ipykernel/__main__.py:9: FutureWarning:\n",
      "\n",
      "sort(columns=....) is deprecated, use sort_values(by=.....)\n",
      "\n"
     ]
    }
   ],
   "source": [
    "y = pd.DataFrame(top['month'].value_counts())\n",
    "y.columns = ['count']\n",
    "y['month'] = y.index\n",
    "y = y.reset_index(drop = True)\n",
    "order = range(12)\n",
    "all_months = ['January', 'February', 'March', 'April', 'May', 'June', 'July', 'August', 'September', 'October', \\\n",
    "              'November', 'December']\n",
    "month_dict = dict(zip(all_months, order))\n",
    "y['order'] = y['month'].apply(lambda x: month_dict[x])\n",
    "y = y.sort('order')\n",
    "del y['order']\n",
    "y = y.set_index(y['month'], drop = False)\n",
    "del y['month']"
   ]
  },
  {
   "cell_type": "code",
   "execution_count": 56,
   "metadata": {
    "collapsed": false
   },
   "outputs": [
    {
     "data": {
      "image/png": "[encoded data removed]",
      "text/plain": [
       "<matplotlib.figure.Figure at 0x119e0ded0>"
      ]
     },
     "metadata": {},
     "output_type": "display_data"
    }
   ],
   "source": [
    "plt.figure(figsize=(12,8))\n",
    "plt.style.use('fivethirtyeight')\n",
    "\n",
    "y['count'].plot.bar(color = 'thistle')\n",
    "\n",
    "plt.title('Top 250 Movies by Month of Release', fontsize = 20)\n",
    "\n",
    "# y label\n",
    "plt.ylabel('Number of Movies', fontsize = 18)\n",
    "\n",
    "# x label\n",
    "plt.xlabel('Month', fontsize = 18)\n",
    "plt.axhline(0, color='black', alpha = 0.6)\n",
    "plt.xticks(rotation=70, fontsize = 13)\n",
    "plt.show()"
   ]
  },
  {
   "cell_type": "markdown",
   "metadata": {},
   "source": [
    "Let's check out where non-USA, non-UK movies are from:"
   ]
  },
  {
   "cell_type": "code",
   "execution_count": 57,
   "metadata": {
    "collapsed": false
   },
   "outputs": [
    {
     "name": "stderr",
     "output_type": "stream",
     "text": [
      "/Users/Rebecca/anaconda/lib/python2.7/site-packages/ipykernel/__main__.py:1: FutureWarning:\n",
      "\n",
      "sort(columns=....) is deprecated, use sort_values(by=.....)\n",
      "\n"
     ]
    },
    {
     "data": {
      "text/html": [
       "<div>\n",
       "<table border=\"1\" class=\"dataframe\">\n",
       "  <thead>\n",
       "    <tr style=\"text-align: right;\">\n",
       "      <th></th>\n",
       "      <th>title</th>\n",
       "      <th>country</th>\n",
       "    </tr>\n",
       "  </thead>\n",
       "  <tbody>\n",
       "    <tr>\n",
       "      <th>220</th>\n",
       "      <td>The Best Years of Our Lives</td>\n",
       "      <td>Argentina</td>\n",
       "    </tr>\n",
       "    <tr>\n",
       "      <th>195</th>\n",
       "      <td>Wild Tales</td>\n",
       "      <td>Argentina</td>\n",
       "    </tr>\n",
       "    <tr>\n",
       "      <th>168</th>\n",
       "      <td>Mary and Max</td>\n",
       "      <td>Australia</td>\n",
       "    </tr>\n",
       "    <tr>\n",
       "      <th>51</th>\n",
       "      <td>Sunset Blvd.</td>\n",
       "      <td>Australia</td>\n",
       "    </tr>\n",
       "    <tr>\n",
       "      <th>70</th>\n",
       "      <td>Vertigo</td>\n",
       "      <td>Brazil</td>\n",
       "    </tr>\n",
       "    <tr>\n",
       "      <th>234</th>\n",
       "      <td>Ip Man</td>\n",
       "      <td>China</td>\n",
       "    </tr>\n",
       "    <tr>\n",
       "      <th>107</th>\n",
       "      <td>The Hunt</td>\n",
       "      <td>Denmark</td>\n",
       "    </tr>\n",
       "    <tr>\n",
       "      <th>149</th>\n",
       "      <td>Incendies</td>\n",
       "      <td>France</td>\n",
       "    </tr>\n",
       "    <tr>\n",
       "      <th>152</th>\n",
       "      <td>The Message</td>\n",
       "      <td>France</td>\n",
       "    </tr>\n",
       "    <tr>\n",
       "      <th>98</th>\n",
       "      <td>The Apartment</td>\n",
       "      <td>France</td>\n",
       "    </tr>\n",
       "    <tr>\n",
       "      <th>36</th>\n",
       "      <td>The Intouchables</td>\n",
       "      <td>France</td>\n",
       "    </tr>\n",
       "    <tr>\n",
       "      <th>139</th>\n",
       "      <td>The General</td>\n",
       "      <td>France</td>\n",
       "    </tr>\n",
       "    <tr>\n",
       "      <th>74</th>\n",
       "      <td>Reservoir Dogs</td>\n",
       "      <td>France</td>\n",
       "    </tr>\n",
       "    <tr>\n",
       "      <th>129</th>\n",
       "      <td>The Gold Rush</td>\n",
       "      <td>Germany</td>\n",
       "    </tr>\n",
       "    <tr>\n",
       "      <th>224</th>\n",
       "      <td>Infernal Affairs</td>\n",
       "      <td>Hong Kong</td>\n",
       "    </tr>\n",
       "    <tr>\n",
       "      <th>164</th>\n",
       "      <td>Come and See</td>\n",
       "      <td>Hungary</td>\n",
       "    </tr>\n",
       "    <tr>\n",
       "      <th>105</th>\n",
       "      <td>3 Idiots</td>\n",
       "      <td>India</td>\n",
       "    </tr>\n",
       "    <tr>\n",
       "      <th>102</th>\n",
       "      <td>A Separation</td>\n",
       "      <td>Iran</td>\n",
       "    </tr>\n",
       "    <tr>\n",
       "      <th>174</th>\n",
       "      <td>Nights of Cabiria</td>\n",
       "      <td>Italy</td>\n",
       "    </tr>\n",
       "    <tr>\n",
       "      <th>200</th>\n",
       "      <td>Nausicaä of the Valley of the Wind</td>\n",
       "      <td>Japan</td>\n",
       "    </tr>\n",
       "    <tr>\n",
       "      <th>128</th>\n",
       "      <td>Ran</td>\n",
       "      <td>Japan</td>\n",
       "    </tr>\n",
       "    <tr>\n",
       "      <th>126</th>\n",
       "      <td>My Neighbor Totoro</td>\n",
       "      <td>Japan</td>\n",
       "    </tr>\n",
       "    <tr>\n",
       "      <th>111</th>\n",
       "      <td>Some Like It Hot</td>\n",
       "      <td>Japan</td>\n",
       "    </tr>\n",
       "    <tr>\n",
       "      <th>68</th>\n",
       "      <td>North by Northwest</td>\n",
       "      <td>Japan</td>\n",
       "    </tr>\n",
       "    <tr>\n",
       "      <th>64</th>\n",
       "      <td>Princess Mononoke</td>\n",
       "      <td>Japan</td>\n",
       "    </tr>\n",
       "    <tr>\n",
       "      <th>59</th>\n",
       "      <td>Grave of the Fireflies</td>\n",
       "      <td>Japan</td>\n",
       "    </tr>\n",
       "    <tr>\n",
       "      <th>242</th>\n",
       "      <td>Castle in the Sky</td>\n",
       "      <td>Japan</td>\n",
       "    </tr>\n",
       "    <tr>\n",
       "      <th>204</th>\n",
       "      <td>Stalker</td>\n",
       "      <td>Netherlands</td>\n",
       "    </tr>\n",
       "    <tr>\n",
       "      <th>44</th>\n",
       "      <td>Whiplash</td>\n",
       "      <td>Philippines</td>\n",
       "    </tr>\n",
       "    <tr>\n",
       "      <th>247</th>\n",
       "      <td>Gangs of Wasseypur</td>\n",
       "      <td>Singapore</td>\n",
       "    </tr>\n",
       "    <tr>\n",
       "      <th>65</th>\n",
       "      <td>Oldboy</td>\n",
       "      <td>South Korea</td>\n",
       "    </tr>\n",
       "    <tr>\n",
       "      <th>209</th>\n",
       "      <td>Memories of Murder</td>\n",
       "      <td>South Korea</td>\n",
       "    </tr>\n",
       "    <tr>\n",
       "      <th>145</th>\n",
       "      <td>Judgment at Nuremberg</td>\n",
       "      <td>Sweden</td>\n",
       "    </tr>\n",
       "    <tr>\n",
       "      <th>104</th>\n",
       "      <td>All About Eve</td>\n",
       "      <td>Sweden</td>\n",
       "    </tr>\n",
       "    <tr>\n",
       "      <th>73</th>\n",
       "      <td>M</td>\n",
       "      <td>Sweden</td>\n",
       "    </tr>\n",
       "    <tr>\n",
       "      <th>238</th>\n",
       "      <td>Fanny and Alexander</td>\n",
       "      <td>Sweden</td>\n",
       "    </tr>\n",
       "    <tr>\n",
       "      <th>56</th>\n",
       "      <td>Paths of Glory</td>\n",
       "      <td>West Germany</td>\n",
       "    </tr>\n",
       "  </tbody>\n",
       "</table>\n",
       "</div>"
      ],
      "text/plain": [
       "                                  title       country\n",
       "220         The Best Years of Our Lives     Argentina\n",
       "195                          Wild Tales     Argentina\n",
       "168                        Mary and Max     Australia\n",
       "51                         Sunset Blvd.     Australia\n",
       "70                              Vertigo        Brazil\n",
       "234                              Ip Man         China\n",
       "107                            The Hunt       Denmark\n",
       "149                           Incendies        France\n",
       "152                         The Message        France\n",
       "98                        The Apartment        France\n",
       "36                     The Intouchables        France\n",
       "139                         The General        France\n",
       "74                       Reservoir Dogs        France\n",
       "129                       The Gold Rush       Germany\n",
       "224                    Infernal Affairs     Hong Kong\n",
       "164                        Come and See       Hungary\n",
       "105                            3 Idiots         India\n",
       "102                        A Separation          Iran\n",
       "174                   Nights of Cabiria         Italy\n",
       "200  Nausicaä of the Valley of the Wind         Japan\n",
       "128                                 Ran         Japan\n",
       "126                  My Neighbor Totoro         Japan\n",
       "111                    Some Like It Hot         Japan\n",
       "68                   North by Northwest         Japan\n",
       "64                    Princess Mononoke         Japan\n",
       "59               Grave of the Fireflies         Japan\n",
       "242                   Castle in the Sky         Japan\n",
       "204                             Stalker   Netherlands\n",
       "44                             Whiplash   Philippines\n",
       "247                  Gangs of Wasseypur     Singapore\n",
       "65                               Oldboy   South Korea\n",
       "209                  Memories of Murder   South Korea\n",
       "145               Judgment at Nuremberg        Sweden\n",
       "104                       All About Eve        Sweden\n",
       "73                                    M        Sweden\n",
       "238                 Fanny and Alexander        Sweden\n",
       "56                       Paths of Glory  West Germany"
      ]
     },
     "execution_count": 57,
     "metadata": {},
     "output_type": "execute_result"
    }
   ],
   "source": [
    "top[(top['country'] != 'USA') & (top['country'] != 'UK')][['title', 'country']].sort('country')"
   ]
  },
  {
   "cell_type": "code",
   "execution_count": 58,
   "metadata": {
    "collapsed": false
   },
   "outputs": [
    {
     "data": {
      "text/html": [
       "<div>\n",
       "<table border=\"1\" class=\"dataframe\">\n",
       "  <thead>\n",
       "    <tr style=\"text-align: right;\">\n",
       "      <th></th>\n",
       "      <th>tconst</th>\n",
       "      <th>title</th>\n",
       "      <th>rating</th>\n",
       "      <th>num_votes</th>\n",
       "      <th>year</th>\n",
       "      <th>cert</th>\n",
       "      <th>run_time</th>\n",
       "      <th>genre</th>\n",
       "      <th>month</th>\n",
       "      <th>country</th>\n",
       "    </tr>\n",
       "  </thead>\n",
       "  <tbody>\n",
       "    <tr>\n",
       "      <th>190</th>\n",
       "      <td>tt0060827</td>\n",
       "      <td>Persona</td>\n",
       "      <td>8.1</td>\n",
       "      <td>61168</td>\n",
       "      <td>1966</td>\n",
       "      <td>Not Rated</td>\n",
       "      <td>83</td>\n",
       "      <td>['Drama', 'Thriller']</td>\n",
       "      <td>March</td>\n",
       "      <td>USA</td>\n",
       "    </tr>\n",
       "  </tbody>\n",
       "</table>\n",
       "</div>"
      ],
      "text/plain": [
       "        tconst    title  rating  num_votes  year       cert  run_time  \\\n",
       "190  tt0060827  Persona     8.1      61168  1966  Not Rated        83   \n",
       "\n",
       "                     genre  month country  \n",
       "190  ['Drama', 'Thriller']  March     USA  "
      ]
     },
     "execution_count": 58,
     "metadata": {},
     "output_type": "execute_result"
    }
   ],
   "source": [
    "top[top['title'] == 'Persona']"
   ]
  },
  {
   "cell_type": "markdown",
   "metadata": {},
   "source": [
    "A lot of these look weird... Hitchcock in Japan and Brazil?  Reservoir Dogs in France?  Maybe they're release locations?  Let's try to scrape country of origin separately and keep this as-is for now."
   ]
  },
  {
   "cell_type": "code",
   "execution_count": 59,
   "metadata": {
    "collapsed": false
   },
   "outputs": [],
   "source": [
    "# origin = []\n",
    "# for i in range(len(soup)):\n",
    "#     country = []\n",
    "#     for j in soup[i].find_all('a', href = re.compile('/country/')):\n",
    "#         country.append(j.text.encode('utf8'))\n",
    "#     if len(country) > 1:\n",
    "#         mini_list = []\n",
    "#         mini_list.append(country[0])\n",
    "#         origin.append(mini_list)\n",
    "#     else:\n",
    "#         origin.append(country)\n",
    "\n",
    "# origin = pd.DataFrame(origin)\n",
    "# origin.to_csv('/Users/Rebecca/DSI-projects/projects/project-06/assets/origin2.csv', index = False)"
   ]
  },
  {
   "cell_type": "markdown",
   "metadata": {},
   "source": [
    "Load country of origin (we hope?) file and add as column to the data frame:"
   ]
  },
  {
   "cell_type": "code",
   "execution_count": 60,
   "metadata": {
    "collapsed": false
   },
   "outputs": [],
   "source": [
    "origin = pd.read_csv('/Users/Rebecca/DSI-projects/projects/project-06/assets/origin2.csv')\n",
    "top['origin'] = origin"
   ]
  },
  {
   "cell_type": "markdown",
   "metadata": {},
   "source": [
    "Let's print all observations where 'country' does not match 'origin':"
   ]
  },
  {
   "cell_type": "code",
   "execution_count": 61,
   "metadata": {
    "collapsed": false,
    "scrolled": true
   },
   "outputs": [
    {
     "name": "stdout",
     "output_type": "stream",
     "text": [
      "title      The Good, the Bad and the Ugly\n",
      "country                               USA\n",
      "origin                              Italy\n",
      "Name: 8, dtype: object\n",
      "\n",
      "\n",
      "title      The Lord of the Rings: The Fellowship of the Ring\n",
      "country                                                  USA\n",
      "origin                                           New Zealand\n",
      "Name: 10, dtype: object\n",
      "\n",
      "\n",
      "title      Seven Samurai\n",
      "country              USA\n",
      "origin             Japan\n",
      "Name: 18, dtype: object\n",
      "\n",
      "\n",
      "title      City of God\n",
      "country            USA\n",
      "origin          Brazil\n",
      "Name: 20, dtype: object\n",
      "\n",
      "\n",
      "title      Life Is Beautiful\n",
      "country                  USA\n",
      "origin                 Italy\n",
      "Name: 25, dtype: object\n",
      "\n",
      "\n",
      "title      Léon: The Professional\n",
      "country                       USA\n",
      "origin                     France\n",
      "Name: 26, dtype: object\n",
      "\n",
      "\n",
      "title      Once Upon a Time in the West\n",
      "country                             USA\n",
      "origin                            Italy\n",
      "Name: 27, dtype: object\n",
      "\n",
      "\n",
      "title      Spirited Away\n",
      "country              USA\n",
      "origin             Japan\n",
      "Name: 28, dtype: object\n",
      "\n",
      "\n",
      "title      Rear Window\n",
      "country             UK\n",
      "origin             USA\n",
      "Name: 39, dtype: object\n",
      "\n",
      "\n",
      "title      The Pianist\n",
      "country            USA\n",
      "origin          France\n",
      "Name: 42, dtype: object\n",
      "\n",
      "\n",
      "title         Whiplash\n",
      "country    Philippines\n",
      "origin             USA\n",
      "Name: 44, dtype: object\n",
      "\n",
      "\n",
      "title      Sunset Blvd.\n",
      "country       Australia\n",
      "origin              USA\n",
      "Name: 51, dtype: object\n",
      "\n",
      "\n",
      "title      The Lives of Others\n",
      "country                    USA\n",
      "origin                 Germany\n",
      "Name: 54, dtype: object\n",
      "\n",
      "\n",
      "title      Cinema Paradiso\n",
      "country                USA\n",
      "origin               Italy\n",
      "Name: 55, dtype: object\n",
      "\n",
      "\n",
      "title      Paths of Glory\n",
      "country      West Germany\n",
      "origin                USA\n",
      "Name: 56, dtype: object\n",
      "\n",
      "\n",
      "title      Once Upon a Time in America\n",
      "country                            USA\n",
      "origin                           Italy\n",
      "Name: 67, dtype: object\n",
      "\n",
      "\n",
      "title      North by Northwest\n",
      "country                 Japan\n",
      "origin                    USA\n",
      "Name: 68, dtype: object\n",
      "\n",
      "\n",
      "title          Das Boot\n",
      "country             USA\n",
      "origin     West Germany\n",
      "Name: 69, dtype: object\n",
      "\n",
      "\n",
      "title      Vertigo\n",
      "country     Brazil\n",
      "origin         USA\n",
      "Name: 70, dtype: object\n",
      "\n",
      "\n",
      "title            M\n",
      "country     Sweden\n",
      "origin     Germany\n",
      "Name: 73, dtype: object\n",
      "\n",
      "\n",
      "title      Reservoir Dogs\n",
      "country            France\n",
      "origin                USA\n",
      "Name: 74, dtype: object\n",
      "\n",
      "\n",
      "title      Amélie\n",
      "country       USA\n",
      "origin     France\n",
      "Name: 76, dtype: object\n",
      "\n",
      "\n",
      "title      A Clockwork Orange\n",
      "country                   USA\n",
      "origin                     UK\n",
      "Name: 78, dtype: object\n",
      "\n",
      "\n",
      "title      Full Metal Jacket\n",
      "country                  USA\n",
      "origin                    UK\n",
      "Name: 86, dtype: object\n",
      "\n",
      "\n",
      "title      The Sting\n",
      "country           UK\n",
      "origin           USA\n",
      "Name: 87, dtype: object\n",
      "\n",
      "\n",
      "title      Bicycle Thieves\n",
      "country                USA\n",
      "origin               Italy\n",
      "Name: 89, dtype: object\n",
      "\n",
      "\n",
      "title      Snatch\n",
      "country       USA\n",
      "origin         UK\n",
      "Name: 92, dtype: object\n",
      "\n",
      "\n",
      "title      For a Few Dollars More\n",
      "country                       USA\n",
      "origin                      Italy\n",
      "Name: 97, dtype: object\n",
      "\n",
      "\n",
      "title      The Apartment\n",
      "country           France\n",
      "origin               USA\n",
      "Name: 98, dtype: object\n",
      "\n",
      "\n",
      "title      Rashomon\n",
      "country         USA\n",
      "origin        Japan\n",
      "Name: 99, dtype: object\n",
      "\n",
      "\n",
      "title      Metropolis\n",
      "country           USA\n",
      "origin        Germany\n",
      "Name: 103, dtype: object\n",
      "\n",
      "\n",
      "title      All About Eve\n",
      "country           Sweden\n",
      "origin               USA\n",
      "Name: 104, dtype: object\n",
      "\n",
      "\n",
      "title      Yojimbo\n",
      "country        USA\n",
      "origin       Japan\n",
      "Name: 106, dtype: object\n",
      "\n",
      "\n",
      "title      Some Like It Hot\n",
      "country               Japan\n",
      "origin                  USA\n",
      "Name: 111, dtype: object\n",
      "\n",
      "\n",
      "title      Children of Heaven\n",
      "country                   USA\n",
      "origin                   Iran\n",
      "Name: 115, dtype: object\n",
      "\n",
      "\n",
      "title      Downfall\n",
      "country         USA\n",
      "origin      Germany\n",
      "Name: 117, dtype: object\n",
      "\n",
      "\n",
      "title         Room\n",
      "country        USA\n",
      "origin     Ireland\n",
      "Name: 123, dtype: object\n",
      "\n",
      "\n",
      "title      Pan's Labyrinth\n",
      "country                USA\n",
      "origin               Spain\n",
      "Name: 124, dtype: object\n",
      "\n",
      "\n",
      "title      Ikiru\n",
      "country      USA\n",
      "origin     Japan\n",
      "Name: 127, dtype: object\n",
      "\n",
      "\n",
      "title      The Gold Rush\n",
      "country          Germany\n",
      "origin               USA\n",
      "Name: 129, dtype: object\n",
      "\n",
      "\n",
      "title      The Bridge on the River Kwai\n",
      "country                             USA\n",
      "origin                               UK\n",
      "Name: 131, dtype: object\n",
      "\n",
      "\n",
      "title      The Secret in Their Eyes\n",
      "country                         USA\n",
      "origin                    Argentina\n",
      "Name: 132, dtype: object\n",
      "\n",
      "\n",
      "title      The Seventh Seal\n",
      "country                 USA\n",
      "origin               Sweden\n",
      "Name: 134, dtype: object\n",
      "\n",
      "\n",
      "title      Howl's Moving Castle\n",
      "country                     USA\n",
      "origin                    Japan\n",
      "Name: 137, dtype: object\n",
      "\n",
      "\n",
      "title      The General\n",
      "country         France\n",
      "origin             USA\n",
      "Name: 139, dtype: object\n",
      "\n",
      "\n",
      "title      Wild Strawberries\n",
      "country                  USA\n",
      "origin                Sweden\n",
      "Name: 140, dtype: object\n",
      "\n",
      "\n",
      "title      Judgment at Nuremberg\n",
      "country                   Sweden\n",
      "origin                       USA\n",
      "Name: 145, dtype: object\n",
      "\n",
      "\n",
      "title      Tokyo Story\n",
      "country            USA\n",
      "origin           Japan\n",
      "Name: 147, dtype: object\n",
      "\n",
      "\n",
      "title      Incendies\n",
      "country       France\n",
      "origin        Canada\n",
      "Name: 149, dtype: object\n",
      "\n",
      "\n",
      "title      The Message\n",
      "country         France\n",
      "origin         Lebanon\n",
      "Name: 152, dtype: object\n",
      "\n",
      "\n",
      "title      The Deer Hunter\n",
      "country                USA\n",
      "origin                  UK\n",
      "Name: 153, dtype: object\n",
      "\n",
      "\n",
      "title      Trainspotting\n",
      "country              USA\n",
      "origin                UK\n",
      "Name: 154, dtype: object\n",
      "\n",
      "\n",
      "title      Come and See\n",
      "country         Hungary\n",
      "origin     Soviet Union\n",
      "Name: 164, dtype: object\n",
      "\n",
      "\n",
      "title      Life of Brian\n",
      "country              USA\n",
      "origin                UK\n",
      "Name: 172, dtype: object\n",
      "\n",
      "\n",
      "title      Rush\n",
      "country     USA\n",
      "origin       UK\n",
      "Name: 173, dtype: object\n",
      "\n",
      "\n",
      "title      Hotel Rwanda\n",
      "country             USA\n",
      "origin               UK\n",
      "Name: 176, dtype: object\n",
      "\n",
      "\n",
      "title      Platoon\n",
      "country        USA\n",
      "origin          UK\n",
      "Name: 177, dtype: object\n",
      "\n",
      "\n",
      "title      The Wages of Fear\n",
      "country                  USA\n",
      "origin                France\n",
      "Name: 181, dtype: object\n",
      "\n",
      "\n",
      "title      Mad Max: Fury Road\n",
      "country                   USA\n",
      "origin              Australia\n",
      "Name: 183, dtype: object\n",
      "\n",
      "\n",
      "title      The 400 Blows\n",
      "country              USA\n",
      "origin            France\n",
      "Name: 186, dtype: object\n",
      "\n",
      "\n",
      "title      In the Name of the Father\n",
      "country                          USA\n",
      "origin                       Ireland\n",
      "Name: 188, dtype: object\n",
      "\n",
      "\n",
      "title      Persona\n",
      "country        USA\n",
      "origin      Sweden\n",
      "Name: 190, dtype: object\n",
      "\n",
      "\n",
      "title      Amores Perros\n",
      "country              USA\n",
      "origin            Mexico\n",
      "Name: 192, dtype: object\n",
      "\n",
      "\n",
      "title      Ben-Hur\n",
      "country         UK\n",
      "origin         USA\n",
      "Name: 196, dtype: object\n",
      "\n",
      "\n",
      "title      Touch of Evil\n",
      "country               UK\n",
      "origin               USA\n",
      "Name: 197, dtype: object\n",
      "\n",
      "\n",
      "title      Hachi: A Dog's Tale\n",
      "country                     UK\n",
      "origin                     USA\n",
      "Name: 198, dtype: object\n",
      "\n",
      "\n",
      "title           Stalker\n",
      "country     Netherlands\n",
      "origin     Soviet Union\n",
      "Name: 204, dtype: object\n",
      "\n",
      "\n",
      "title      Gandhi\n",
      "country       USA\n",
      "origin         UK\n",
      "Name: 206, dtype: object\n",
      "\n",
      "\n",
      "title      Diabolique\n",
      "country           USA\n",
      "origin         France\n",
      "Name: 210, dtype: object\n",
      "\n",
      "\n",
      "title         8½\n",
      "country      USA\n",
      "origin     Italy\n",
      "Name: 214, dtype: object\n",
      "\n",
      "\n",
      "title      The Terminator\n",
      "country               USA\n",
      "origin                 UK\n",
      "Name: 218, dtype: object\n",
      "\n",
      "\n",
      "title      The Best Years of Our Lives\n",
      "country                      Argentina\n",
      "origin                             USA\n",
      "Name: 220, dtype: object\n",
      "\n",
      "\n",
      "title      Kind Hearts and Coronets\n",
      "country                         USA\n",
      "origin                           UK\n",
      "Name: 225, dtype: object\n",
      "\n",
      "\n",
      "title      La Haine\n",
      "country         USA\n",
      "origin       France\n",
      "Name: 227, dtype: object\n",
      "\n",
      "\n",
      "title      Barry Lyndon\n",
      "country             USA\n",
      "origin               UK\n",
      "Name: 229, dtype: object\n",
      "\n",
      "\n",
      "title      The Battle of Algiers\n",
      "country                      USA\n",
      "origin                     Italy\n",
      "Name: 230, dtype: object\n",
      "\n",
      "\n",
      "title         Ip Man\n",
      "country        China\n",
      "origin     Hong Kong\n",
      "Name: 234, dtype: object\n",
      "\n",
      "\n",
      "title      The Imitation Game\n",
      "country                   USA\n",
      "origin                     UK\n",
      "Name: 235, dtype: object\n",
      "\n",
      "\n",
      "title      A Fistful of Dollars\n",
      "country                     USA\n",
      "origin                    Italy\n",
      "Name: 241, dtype: object\n",
      "\n",
      "\n",
      "title      The King's Speech\n",
      "country                  USA\n",
      "origin                    UK\n",
      "Name: 243, dtype: object\n",
      "\n",
      "\n",
      "title      Throne of Blood\n",
      "country                USA\n",
      "origin               Japan\n",
      "Name: 245, dtype: object\n",
      "\n",
      "\n",
      "title      Gangs of Wasseypur\n",
      "country             Singapore\n",
      "origin                  India\n",
      "Name: 247, dtype: object\n",
      "\n",
      "\n",
      "title      In the Mood for Love\n",
      "country                     USA\n",
      "origin                Hong Kong\n",
      "Name: 249, dtype: object\n",
      "\n",
      "\n"
     ]
    }
   ],
   "source": [
    "for i in range(len(top)):\n",
    "    if top['country'][i] != top['origin'][i]:\n",
    "        print top.loc[i][['title', 'country', 'origin']]\n",
    "        print '\\n'"
   ]
  },
  {
   "cell_type": "markdown",
   "metadata": {},
   "source": [
    "Correct these manually (annoying, but at least we don't have to check all of them):"
   ]
  },
  {
   "cell_type": "code",
   "execution_count": 63,
   "metadata": {
    "collapsed": false
   },
   "outputs": [],
   "source": [
    "# top['country'][206] = 'UK'\n",
    "# top['country'][214] = 'Italy'\n",
    "# top['country'][220] = 'USA'\n",
    "# top['country'][225] = 'UK'\n",
    "# top['country'][227] = 'France'\n",
    "# top['country'][229] = 'USA'\n",
    "# top['country'][230] = 'Italy'\n",
    "# top['country'][234] = 'Hong Kong'\n",
    "# top['country'][241] = 'Italy'\n",
    "# top['country'][243] = 'UK'\n",
    "# top['country'][245] = 'Japan'\n",
    "# top['country'][247] = 'India'\n",
    "# top['country'][249] = 'Hong Kong'\n",
    "# top['country'][139] = 'USA'\n",
    "# top['country'][140] = 'Sweden'\n",
    "# top['country'][145] = 'USA'\n",
    "# top['country'][147] = 'Japan'\n",
    "# top['country'][149] = 'Canada'\n",
    "# top['country'][152] = 'Lebanon'\n",
    "# top['country'][154] = 'UK'\n",
    "# top['country'][164] = 'Russia' # SOVIET UNION!\n",
    "# top['country'][172] = 'UK'\n",
    "# top['country'][181] = 'France' # and italy!\n",
    "# top['country'][186] = 'France'\n",
    "# top['country'][188] = 'Ireland'\n",
    "# top['country'][190] = 'Sweden'\n",
    "# top['country'][192] = 'Mexico'\n",
    "# top['country'][196] = 'USA'\n",
    "# top['country'][197] = 'USA'\n",
    "# top['country'][204] = 'Russia' # SOVIET UNION!\n",
    "# top['country'][104] = 'USA'\n",
    "# top['country'][106] = 'Japan'\n",
    "# top['country'][111] = 'USA'\n",
    "# top['country'][115] = 'Iran'\n",
    "# top['country'][117] = 'Germany'\n",
    "# top['country'][123] = 'Ireland'\n",
    "# top['country'][124] = 'Spanish'\n",
    "# top['country'][127] = 'Japan'\n",
    "# top['country'][129] = 'USA'\n",
    "# top['country'][134] = 'Sweden'\n",
    "# top['country'][137] = 'Japan'\n",
    "# top['country'][70] = 'USA'\n",
    "# top['country'][73] = 'Germany'\n",
    "# top['country'][74] = 'USA'\n",
    "# top['country'][76] = 'France'\n",
    "# top['country'][87] = 'USA'\n",
    "# top['country'][89] = 'Italy'\n",
    "# top['country'][92] = 'UK'\n",
    "# top['country'][97] = 'Italy'\n",
    "# top['country'][98] = 'USA'\n",
    "# top['country'][99] = 'Japan'\n",
    "# top['country'][103] = 'Germany'\n",
    "# top['country'][8] = 'Italy'\n",
    "# top['country'][18] = 'Japan'\n",
    "# top['country'][20] = 'Brazil'\n",
    "# top['country'][25] = 'Italy'\n",
    "# top['country'][26] = 'France'\n",
    "# top['country'][27] = 'Italy'\n",
    "# top['country'][28] = 'Japan'\n",
    "# top['country'][39] = 'USA'\n",
    "# top['country'][42] = 'France'\n",
    "# top['country'][44] = 'USA'\n",
    "# top['country'][51] = 'USA'\n",
    "# top['country'][54] = 'Germany'\n",
    "# top['country'][55] = 'Italy'\n",
    "# top['country'][56] = 'USA'\n",
    "# top['country'][68] = 'USA'\n",
    "# top['country'][69] = 'Germany' # WEST Germany!"
   ]
  },
  {
   "cell_type": "markdown",
   "metadata": {},
   "source": [
    "Rewrite the old file for 'country' since we obviously have made some changes:"
   ]
  },
  {
   "cell_type": "code",
   "execution_count": 64,
   "metadata": {
    "collapsed": true
   },
   "outputs": [],
   "source": [
    "# country = pd.DataFrame(top['country'])\n",
    "# country.to_csv('/Users/Rebecca/DSI-projects/projects/project-06/assets/country3.csv', index = False, \\\n",
    "#                encoding = 'utf-8')"
   ]
  },
  {
   "cell_type": "code",
   "execution_count": 67,
   "metadata": {
    "collapsed": true
   },
   "outputs": [],
   "source": [
    "country = pd.read_csv('/Users/Rebecca/DSI-projects/projects/project-06/assets/country3.csv')\n",
    "top['country'] = country"
   ]
  },
  {
   "cell_type": "code",
   "execution_count": 66,
   "metadata": {
    "collapsed": false
   },
   "outputs": [],
   "source": [
    "del top['origin']"
   ]
  },
  {
   "cell_type": "markdown",
   "metadata": {},
   "source": [
    "Get director name (only take first if more than one):"
   ]
  },
  {
   "cell_type": "code",
   "execution_count": 68,
   "metadata": {
    "collapsed": false
   },
   "outputs": [],
   "source": [
    "# director = []\n",
    "# for i in range(len(soup)):\n",
    "#     dirs = []\n",
    "#     for j in soup[i].find_all('span', itemprop = 'director'):\n",
    "#         for k in j.find_all('span', itemprop = 'name'):\n",
    "#             dirs.append(k.text.encode('utf8'))\n",
    "# # these two lines will print all directors' names for movies with more than one director listed\n",
    "# #            if len(dirs) != 1:\n",
    "# #                print dirs\n",
    "#     if len(dirs) > 1:\n",
    "#         mini_list = []\n",
    "#         mini_list.append(dirs[0])\n",
    "#         director.append(mini_list)\n",
    "#     else:\n",
    "#         director.append(dirs)\n",
    "        \n",
    "# len(director)"
   ]
  },
  {
   "cell_type": "code",
   "execution_count": 69,
   "metadata": {
    "collapsed": false
   },
   "outputs": [],
   "source": [
    "# director = pd.DataFrame(director)\n",
    "# director.to_csv('/Users/Rebecca/DSI-projects/projects/project-06/assets/director2.csv', index = False)"
   ]
  },
  {
   "cell_type": "code",
   "execution_count": 70,
   "metadata": {
    "collapsed": false
   },
   "outputs": [],
   "source": [
    "director = pd.read_csv('/Users/Rebecca/DSI-projects/projects/project-06/assets/director2.csv')\n",
    "top['director'] = director"
   ]
  },
  {
   "cell_type": "markdown",
   "metadata": {},
   "source": [
    "Who directed the Italian movies?"
   ]
  },
  {
   "cell_type": "code",
   "execution_count": 71,
   "metadata": {
    "collapsed": false
   },
   "outputs": [
    {
     "name": "stderr",
     "output_type": "stream",
     "text": [
      "/Users/Rebecca/anaconda/lib/python2.7/site-packages/ipykernel/__main__.py:1: FutureWarning:\n",
      "\n",
      "sort(columns=....) is deprecated, use sort_values(by=.....)\n",
      "\n"
     ]
    },
    {
     "data": {
      "text/html": [
       "<div>\n",
       "<table border=\"1\" class=\"dataframe\">\n",
       "  <thead>\n",
       "    <tr style=\"text-align: right;\">\n",
       "      <th></th>\n",
       "      <th>title</th>\n",
       "      <th>year</th>\n",
       "      <th>director</th>\n",
       "    </tr>\n",
       "  </thead>\n",
       "  <tbody>\n",
       "    <tr>\n",
       "      <th>25</th>\n",
       "      <td>Life Is Beautiful</td>\n",
       "      <td>1997</td>\n",
       "      <td>Roberto Benigni</td>\n",
       "    </tr>\n",
       "    <tr>\n",
       "      <th>55</th>\n",
       "      <td>Cinema Paradiso</td>\n",
       "      <td>1988</td>\n",
       "      <td>Giuseppe Tornatore</td>\n",
       "    </tr>\n",
       "    <tr>\n",
       "      <th>27</th>\n",
       "      <td>Once Upon a Time in the West</td>\n",
       "      <td>1968</td>\n",
       "      <td>Sergio Leone</td>\n",
       "    </tr>\n",
       "    <tr>\n",
       "      <th>8</th>\n",
       "      <td>The Good, the Bad and the Ugly</td>\n",
       "      <td>1966</td>\n",
       "      <td>Sergio Leone</td>\n",
       "    </tr>\n",
       "    <tr>\n",
       "      <th>230</th>\n",
       "      <td>The Battle of Algiers</td>\n",
       "      <td>1966</td>\n",
       "      <td>Gillo Pontecorvo</td>\n",
       "    </tr>\n",
       "    <tr>\n",
       "      <th>97</th>\n",
       "      <td>For a Few Dollars More</td>\n",
       "      <td>1965</td>\n",
       "      <td>Sergio Leone</td>\n",
       "    </tr>\n",
       "    <tr>\n",
       "      <th>241</th>\n",
       "      <td>A Fistful of Dollars</td>\n",
       "      <td>1964</td>\n",
       "      <td>Sergio Leone</td>\n",
       "    </tr>\n",
       "    <tr>\n",
       "      <th>214</th>\n",
       "      <td>8½</td>\n",
       "      <td>1963</td>\n",
       "      <td>Federico Fellini</td>\n",
       "    </tr>\n",
       "    <tr>\n",
       "      <th>174</th>\n",
       "      <td>Nights of Cabiria</td>\n",
       "      <td>1957</td>\n",
       "      <td>Federico Fellini</td>\n",
       "    </tr>\n",
       "    <tr>\n",
       "      <th>89</th>\n",
       "      <td>Bicycle Thieves</td>\n",
       "      <td>1948</td>\n",
       "      <td>Vittorio De Sica</td>\n",
       "    </tr>\n",
       "  </tbody>\n",
       "</table>\n",
       "</div>"
      ],
      "text/plain": [
       "                              title  year            director\n",
       "25                Life Is Beautiful  1997     Roberto Benigni\n",
       "55                  Cinema Paradiso  1988  Giuseppe Tornatore\n",
       "27     Once Upon a Time in the West  1968        Sergio Leone\n",
       "8    The Good, the Bad and the Ugly  1966        Sergio Leone\n",
       "230           The Battle of Algiers  1966    Gillo Pontecorvo\n",
       "97           For a Few Dollars More  1965        Sergio Leone\n",
       "241            A Fistful of Dollars  1964        Sergio Leone\n",
       "214                              8½  1963    Federico Fellini\n",
       "174               Nights of Cabiria  1957    Federico Fellini\n",
       "89                  Bicycle Thieves  1948    Vittorio De Sica"
      ]
     },
     "execution_count": 71,
     "metadata": {},
     "output_type": "execute_result"
    }
   ],
   "source": [
    "top[top['country'] == 'Italy'][['title', 'year', 'director']].sort('year', ascending = False)"
   ]
  },
  {
   "cell_type": "markdown",
   "metadata": {},
   "source": [
    "Surprise!  There are no female directors with more than two movies in the Top 250 list:"
   ]
  },
  {
   "cell_type": "code",
   "execution_count": 158,
   "metadata": {
    "collapsed": false
   },
   "outputs": [
    {
     "data": {
      "text/html": [
       "<div>\n",
       "<table border=\"1\" class=\"dataframe\">\n",
       "  <thead>\n",
       "    <tr style=\"text-align: right;\">\n",
       "      <th></th>\n",
       "      <th>count</th>\n",
       "    </tr>\n",
       "  </thead>\n",
       "  <tbody>\n",
       "    <tr>\n",
       "      <th>Stanley Kubrick</th>\n",
       "      <td>7</td>\n",
       "    </tr>\n",
       "    <tr>\n",
       "      <th>Steven Spielberg</th>\n",
       "      <td>7</td>\n",
       "    </tr>\n",
       "    <tr>\n",
       "      <th>Alfred Hitchcock</th>\n",
       "      <td>7</td>\n",
       "    </tr>\n",
       "    <tr>\n",
       "      <th>Christopher Nolan</th>\n",
       "      <td>7</td>\n",
       "    </tr>\n",
       "    <tr>\n",
       "      <th>Martin Scorsese</th>\n",
       "      <td>7</td>\n",
       "    </tr>\n",
       "    <tr>\n",
       "      <th>Akira Kurosawa</th>\n",
       "      <td>6</td>\n",
       "    </tr>\n",
       "    <tr>\n",
       "      <th>Hayao Miyazaki</th>\n",
       "      <td>6</td>\n",
       "    </tr>\n",
       "    <tr>\n",
       "      <th>Sergio Leone</th>\n",
       "      <td>5</td>\n",
       "    </tr>\n",
       "    <tr>\n",
       "      <th>Charles Chaplin</th>\n",
       "      <td>5</td>\n",
       "    </tr>\n",
       "    <tr>\n",
       "      <th>Billy Wilder</th>\n",
       "      <td>5</td>\n",
       "    </tr>\n",
       "    <tr>\n",
       "      <th>Quentin Tarantino</th>\n",
       "      <td>5</td>\n",
       "    </tr>\n",
       "    <tr>\n",
       "      <th>Ridley Scott</th>\n",
       "      <td>4</td>\n",
       "    </tr>\n",
       "    <tr>\n",
       "      <th>Ingmar Bergman</th>\n",
       "      <td>4</td>\n",
       "    </tr>\n",
       "    <tr>\n",
       "      <th>Sidney Lumet</th>\n",
       "      <td>3</td>\n",
       "    </tr>\n",
       "    <tr>\n",
       "      <th>Pete Docter</th>\n",
       "      <td>3</td>\n",
       "    </tr>\n",
       "    <tr>\n",
       "      <th>William Wyler</th>\n",
       "      <td>3</td>\n",
       "    </tr>\n",
       "    <tr>\n",
       "      <th>Frank Capra</th>\n",
       "      <td>3</td>\n",
       "    </tr>\n",
       "    <tr>\n",
       "      <th>David Fincher</th>\n",
       "      <td>3</td>\n",
       "    </tr>\n",
       "    <tr>\n",
       "      <th>Clint Eastwood</th>\n",
       "      <td>3</td>\n",
       "    </tr>\n",
       "    <tr>\n",
       "      <th>James Cameron</th>\n",
       "      <td>3</td>\n",
       "    </tr>\n",
       "    <tr>\n",
       "      <th>Francis Ford Coppola</th>\n",
       "      <td>3</td>\n",
       "    </tr>\n",
       "    <tr>\n",
       "      <th>Peter Jackson</th>\n",
       "      <td>3</td>\n",
       "    </tr>\n",
       "  </tbody>\n",
       "</table>\n",
       "</div>"
      ],
      "text/plain": [
       "                      count\n",
       "Stanley Kubrick           7\n",
       "Steven Spielberg          7\n",
       "Alfred Hitchcock          7\n",
       "Christopher Nolan         7\n",
       "Martin Scorsese           7\n",
       "Akira Kurosawa            6\n",
       "Hayao Miyazaki            6\n",
       "Sergio Leone              5\n",
       "Charles Chaplin           5\n",
       "Billy Wilder              5\n",
       "Quentin Tarantino         5\n",
       "Ridley Scott              4\n",
       "Ingmar Bergman            4\n",
       "Sidney Lumet              3\n",
       "Pete Docter               3\n",
       "William Wyler             3\n",
       "Frank Capra               3\n",
       "David Fincher             3\n",
       "Clint Eastwood            3\n",
       "James Cameron             3\n",
       "Francis Ford Coppola      3\n",
       "Peter Jackson             3"
      ]
     },
     "execution_count": 158,
     "metadata": {},
     "output_type": "execute_result"
    }
   ],
   "source": [
    "dir_count = pd.DataFrame(top['director'].value_counts())\n",
    "dir_count.columns = ['count']\n",
    "dir_count = dir_count[dir_count['count'] > 2]\n",
    "dir_count"
   ]
  },
  {
   "cell_type": "markdown",
   "metadata": {},
   "source": [
    "We'll make dummy variables for these prolific directors later."
   ]
  },
  {
   "cell_type": "code",
   "execution_count": null,
   "metadata": {
    "collapsed": true
   },
   "outputs": [],
   "source": []
  },
  {
   "cell_type": "code",
   "execution_count": null,
   "metadata": {
    "collapsed": true
   },
   "outputs": [],
   "source": []
  },
  {
   "cell_type": "code",
   "execution_count": null,
   "metadata": {
    "collapsed": true
   },
   "outputs": [],
   "source": []
  },
  {
   "cell_type": "code",
   "execution_count": null,
   "metadata": {
    "collapsed": true
   },
   "outputs": [],
   "source": []
  },
  {
   "cell_type": "code",
   "execution_count": 74,
   "metadata": {
    "collapsed": false
   },
   "outputs": [],
   "source": [
    "foreign_notNR = top[(top['cert'] != 'Not Rated') & (top['country'] != 'USA')]\n",
    "\n",
    "foreign_NR = top[(top['cert'] == 'Not Rated') & (top['country'] != 'USA')]\n",
    "\n",
    "domestic_notNR = top[(top['cert'] != 'Not Rated') & (top['country'] == 'USA')]\n",
    "\n",
    "domestic_NR = top[(top['cert'] == 'Not Rated') & (top['country'] == 'USA')]"
   ]
  },
  {
   "cell_type": "markdown",
   "metadata": {},
   "source": [
    "Most 'Not Rated' and 'Approved' movies in the list are pre-1970; after 1970, almost all of the 'Not Rated' movies are non-USA.  "
   ]
  },
  {
   "cell_type": "code",
   "execution_count": 76,
   "metadata": {
    "collapsed": false
   },
   "outputs": [
    {
     "name": "stdout",
     "output_type": "stream",
     "text": [
      "Proportion of non-'Not Rated' foreign films to 'Not Rated' foreign films post-1970: 0.643835616438\n"
     ]
    }
   ],
   "source": [
    "x = float(len(foreign_notNR))/ (len(foreign_notNR) + len(foreign_NR))\n",
    "\n",
    "print 'Proportion of non-\\'Not Rated\\' foreign films to \\'Not Rated\\' foreign films post-1970: %s' %x"
   ]
  },
  {
   "cell_type": "markdown",
   "metadata": {},
   "source": [
    "Additionally, all domestic films since 1970 are non-'Not Rated':"
   ]
  },
  {
   "cell_type": "code",
   "execution_count": 81,
   "metadata": {
    "collapsed": false
   },
   "outputs": [
    {
     "name": "stdout",
     "output_type": "stream",
     "text": [
      "Proportion of non-'Not Rated' domestic films to 'Not Rated' domestic films post-1970: 1.0\n"
     ]
    }
   ],
   "source": [
    "y = float(len(domestic_notNR[domestic_notNR['year'] > 1970]))/len(top[(top['country'] == 'USA') & (top['year'] > 1970)])\n",
    "\n",
    "print 'Proportion of non-\\'Not Rated\\' domestic films to \\'Not Rated\\' domestic films post-1970: %s' %y"
   ]
  },
  {
   "cell_type": "code",
   "execution_count": 83,
   "metadata": {
    "collapsed": false,
    "scrolled": false
   },
   "outputs": [
    {
     "data": {
      "image/png": "[encoded data removed]",
      "text/plain": [
       "<matplotlib.figure.Figure at 0x11be95c90>"
      ]
     },
     "metadata": {},
     "output_type": "display_data"
    }
   ],
   "source": [
    "plt.figure(figsize=(12,8))\n",
    "plt.style.use('fivethirtyeight')\n",
    "\n",
    "\n",
    "# set area of dot proportional-ish to rating\n",
    "area = (top_scaled['rating'] + 1.4)*30\n",
    "\n",
    "# plot number of votes by year of release\n",
    "plt.scatter(foreign_notNR['year'], foreign_notNR['num_votes']/1000000, color = 'GoldenRod', \\\n",
    "            marker = 'o', alpha = 0.8, \\\n",
    "            s = area, \\\n",
    "            label = 'foreign, certified')\n",
    "plt.scatter(foreign_NR['year'], foreign_NR['num_votes']/1000000, color = 'GoldenRod', \\\n",
    "            marker = 'x', alpha = 0.8, \\\n",
    "            s = area, \\\n",
    "            label = 'foreign, not certified')\n",
    "plt.scatter(domestic_notNR['year'], domestic_notNR['num_votes']/1000000, color = 'IndianRed', \\\n",
    "            marker = 'o', alpha = 0.8, \\\n",
    "            s = area, \\\n",
    "            label = 'domestic, certified')\n",
    "plt.scatter(domestic_NR['year'], domestic_NR['num_votes']/1000000, color = 'IndianRed', \\\n",
    "            marker = 'x', alpha = 0.8, \\\n",
    "            s = area, \\\n",
    "            label = 'domestic, not certified')\n",
    "\n",
    "plt.title('Number of Votes by Year of Release Post-1970 (Top 250)', fontsize = 22)\n",
    "\n",
    "# add x-axis line and a line to show current year\n",
    "plt.axhline(0, color='black', alpha = 0.6)\n",
    "plt.axvline(2016, color='black', linestyle='dashed', linewidth=0.8, label = 'current year (2016)')\n",
    "\n",
    "# y label\n",
    "plt.ylabel('Number of Votes (x 1 million)')\n",
    "\n",
    "# x label\n",
    "plt.xlabel('Year of Release')\n",
    "\n",
    "# set the figure boundaries\n",
    "plt.xlim([min(top['year'])-5, 2020])\n",
    "plt.ylim([0, 2.5])\n",
    "\n",
    "plt.grid(True)\n",
    "plt.legend(loc='upper right', fontsize = 12)\n",
    "plt.annotate('**area of points is proportional to rating', (1,0), (-200, -20), \\\n",
    "             xycoords='axes fraction', textcoords='offset points', va='top', fontsize = 12)\n",
    "plt.show()"
   ]
  },
  {
   "cell_type": "markdown",
   "metadata": {
    "collapsed": true
   },
   "source": [
    "What is the most recent year a USA movie had no MPAA rating ('cert')?"
   ]
  },
  {
   "cell_type": "code",
   "execution_count": 84,
   "metadata": {
    "collapsed": false
   },
   "outputs": [
    {
     "name": "stderr",
     "output_type": "stream",
     "text": [
      "/Users/Rebecca/anaconda/lib/python2.7/site-packages/ipykernel/__main__.py:1: FutureWarning:\n",
      "\n",
      "sort(columns=....) is deprecated, use sort_values(by=.....)\n",
      "\n"
     ]
    },
    {
     "data": {
      "text/html": [
       "<div>\n",
       "<table border=\"1\" class=\"dataframe\">\n",
       "  <thead>\n",
       "    <tr style=\"text-align: right;\">\n",
       "      <th></th>\n",
       "      <th>tconst</th>\n",
       "      <th>title</th>\n",
       "      <th>rating</th>\n",
       "      <th>num_votes</th>\n",
       "      <th>year</th>\n",
       "      <th>cert</th>\n",
       "      <th>run_time</th>\n",
       "      <th>genre</th>\n",
       "      <th>month</th>\n",
       "      <th>country</th>\n",
       "      <th>director</th>\n",
       "    </tr>\n",
       "  </thead>\n",
       "  <tbody>\n",
       "    <tr>\n",
       "      <th>83</th>\n",
       "      <td>tt0056592</td>\n",
       "      <td>To Kill a Mockingbird</td>\n",
       "      <td>8.4</td>\n",
       "      <td>213686</td>\n",
       "      <td>1962</td>\n",
       "      <td>Not Rated</td>\n",
       "      <td>129</td>\n",
       "      <td>['Crime', 'Drama']</td>\n",
       "      <td>March</td>\n",
       "      <td>USA</td>\n",
       "      <td>Robert Mulligan</td>\n",
       "    </tr>\n",
       "  </tbody>\n",
       "</table>\n",
       "</div>"
      ],
      "text/plain": [
       "       tconst                  title  rating  num_votes  year       cert  \\\n",
       "83  tt0056592  To Kill a Mockingbird     8.4     213686  1962  Not Rated   \n",
       "\n",
       "    run_time               genre  month country         director  \n",
       "83       129  ['Crime', 'Drama']  March     USA  Robert Mulligan  "
      ]
     },
     "execution_count": 84,
     "metadata": {},
     "output_type": "execute_result"
    }
   ],
   "source": [
    "domestic_NR.sort('year', ascending = False).head(1)"
   ]
  },
  {
   "cell_type": "markdown",
   "metadata": {},
   "source": [
    "What's the highest-rated foreign movie?"
   ]
  },
  {
   "cell_type": "code",
   "execution_count": 87,
   "metadata": {
    "collapsed": false,
    "scrolled": true
   },
   "outputs": [
    {
     "name": "stderr",
     "output_type": "stream",
     "text": [
      "/Users/Rebecca/anaconda/lib/python2.7/site-packages/ipykernel/__main__.py:1: FutureWarning:\n",
      "\n",
      "sort(columns=....) is deprecated, use sort_values(by=.....)\n",
      "\n"
     ]
    },
    {
     "data": {
      "text/html": [
       "<div>\n",
       "<table border=\"1\" class=\"dataframe\">\n",
       "  <thead>\n",
       "    <tr style=\"text-align: right;\">\n",
       "      <th></th>\n",
       "      <th>tconst</th>\n",
       "      <th>title</th>\n",
       "      <th>rating</th>\n",
       "      <th>num_votes</th>\n",
       "      <th>year</th>\n",
       "      <th>cert</th>\n",
       "      <th>run_time</th>\n",
       "      <th>genre</th>\n",
       "      <th>month</th>\n",
       "      <th>country</th>\n",
       "      <th>director</th>\n",
       "    </tr>\n",
       "  </thead>\n",
       "  <tbody>\n",
       "    <tr>\n",
       "      <th>26</th>\n",
       "      <td>tt0110413</td>\n",
       "      <td>Léon: The Professional</td>\n",
       "      <td>8.6</td>\n",
       "      <td>721191</td>\n",
       "      <td>1994</td>\n",
       "      <td>R</td>\n",
       "      <td>110</td>\n",
       "      <td>['Crime', 'Drama', 'Thriller']</td>\n",
       "      <td>November</td>\n",
       "      <td>France</td>\n",
       "      <td>Luc Besson</td>\n",
       "    </tr>\n",
       "  </tbody>\n",
       "</table>\n",
       "</div>"
      ],
      "text/plain": [
       "       tconst                   title  rating  num_votes  year cert  run_time  \\\n",
       "26  tt0110413  Léon: The Professional     8.6     721191  1994    R       110   \n",
       "\n",
       "                             genre     month country    director  \n",
       "26  ['Crime', 'Drama', 'Thriller']  November  France  Luc Besson  "
      ]
     },
     "execution_count": 87,
     "metadata": {},
     "output_type": "execute_result"
    }
   ],
   "source": [
    "top[top['country'] != 'USA'].sort('num_votes', ascending = False).head(1)"
   ]
  },
  {
   "cell_type": "markdown",
   "metadata": {},
   "source": [
    "Since the most recent 'Not Rated' domestic movie was 1962, let's see which foreign movies have been 'Not Rated' since then:"
   ]
  },
  {
   "cell_type": "code",
   "execution_count": 96,
   "metadata": {
    "collapsed": false
   },
   "outputs": [
    {
     "name": "stderr",
     "output_type": "stream",
     "text": [
      "/Users/Rebecca/anaconda/lib/python2.7/site-packages/ipykernel/__main__.py:1: FutureWarning:\n",
      "\n",
      "sort(columns=....) is deprecated, use sort_values(by=.....)\n",
      "\n"
     ]
    },
    {
     "data": {
      "text/html": [
       "<div>\n",
       "<table border=\"1\" class=\"dataframe\">\n",
       "  <thead>\n",
       "    <tr style=\"text-align: right;\">\n",
       "      <th></th>\n",
       "      <th>tconst</th>\n",
       "      <th>title</th>\n",
       "      <th>rating</th>\n",
       "      <th>num_votes</th>\n",
       "      <th>year</th>\n",
       "      <th>cert</th>\n",
       "      <th>run_time</th>\n",
       "      <th>genre</th>\n",
       "      <th>month</th>\n",
       "      <th>country</th>\n",
       "      <th>director</th>\n",
       "    </tr>\n",
       "  </thead>\n",
       "  <tbody>\n",
       "    <tr>\n",
       "      <th>168</th>\n",
       "      <td>tt0978762</td>\n",
       "      <td>Mary and Max</td>\n",
       "      <td>8.2</td>\n",
       "      <td>118420</td>\n",
       "      <td>2009</td>\n",
       "      <td>Not Rated</td>\n",
       "      <td>92</td>\n",
       "      <td>['Animation', 'Comedy', 'Drama']</td>\n",
       "      <td>April</td>\n",
       "      <td>Australia</td>\n",
       "      <td>Adam Elliot</td>\n",
       "    </tr>\n",
       "    <tr>\n",
       "      <th>209</th>\n",
       "      <td>tt0353969</td>\n",
       "      <td>Memories of Murder</td>\n",
       "      <td>8.1</td>\n",
       "      <td>66197</td>\n",
       "      <td>2003</td>\n",
       "      <td>Not Rated</td>\n",
       "      <td>132</td>\n",
       "      <td>['Crime', 'Drama', 'Mystery']</td>\n",
       "      <td>May</td>\n",
       "      <td>South Korea</td>\n",
       "      <td>Joon-ho Bong</td>\n",
       "    </tr>\n",
       "    <tr>\n",
       "      <th>227</th>\n",
       "      <td>tt0113247</td>\n",
       "      <td>La Haine</td>\n",
       "      <td>8.1</td>\n",
       "      <td>102825</td>\n",
       "      <td>1995</td>\n",
       "      <td>Not Rated</td>\n",
       "      <td>98</td>\n",
       "      <td>['Crime', 'Drama']</td>\n",
       "      <td>February</td>\n",
       "      <td>France</td>\n",
       "      <td>Mathieu Kassovitz</td>\n",
       "    </tr>\n",
       "    <tr>\n",
       "      <th>59</th>\n",
       "      <td>tt0095327</td>\n",
       "      <td>Grave of the Fireflies</td>\n",
       "      <td>8.5</td>\n",
       "      <td>137176</td>\n",
       "      <td>1988</td>\n",
       "      <td>Not Rated</td>\n",
       "      <td>89</td>\n",
       "      <td>['Animation', 'Drama', 'War']</td>\n",
       "      <td>April</td>\n",
       "      <td>Japan</td>\n",
       "      <td>Isao Takahata</td>\n",
       "    </tr>\n",
       "    <tr>\n",
       "      <th>164</th>\n",
       "      <td>tt0091251</td>\n",
       "      <td>Come and See</td>\n",
       "      <td>8.3</td>\n",
       "      <td>25099</td>\n",
       "      <td>1985</td>\n",
       "      <td>Not Rated</td>\n",
       "      <td>140</td>\n",
       "      <td>['Drama', 'War']</td>\n",
       "      <td>October</td>\n",
       "      <td>Russia</td>\n",
       "      <td>Elem Klimov</td>\n",
       "    </tr>\n",
       "    <tr>\n",
       "      <th>204</th>\n",
       "      <td>tt0079944</td>\n",
       "      <td>Stalker</td>\n",
       "      <td>8.1</td>\n",
       "      <td>67948</td>\n",
       "      <td>1979</td>\n",
       "      <td>Not Rated</td>\n",
       "      <td>163</td>\n",
       "      <td>['Drama', 'Mystery', 'Sci-Fi']</td>\n",
       "      <td>April</td>\n",
       "      <td>Russia</td>\n",
       "      <td>Andrei Tarkovsky</td>\n",
       "    </tr>\n",
       "    <tr>\n",
       "      <th>8</th>\n",
       "      <td>tt0060196</td>\n",
       "      <td>The Good, the Bad and the Ugly</td>\n",
       "      <td>8.9</td>\n",
       "      <td>500638</td>\n",
       "      <td>1966</td>\n",
       "      <td>Not Rated</td>\n",
       "      <td>161</td>\n",
       "      <td>['Western']</td>\n",
       "      <td>December</td>\n",
       "      <td>Italy</td>\n",
       "      <td>Sergio Leone</td>\n",
       "    </tr>\n",
       "    <tr>\n",
       "      <th>190</th>\n",
       "      <td>tt0060827</td>\n",
       "      <td>Persona</td>\n",
       "      <td>8.1</td>\n",
       "      <td>61168</td>\n",
       "      <td>1966</td>\n",
       "      <td>Not Rated</td>\n",
       "      <td>83</td>\n",
       "      <td>['Drama', 'Thriller']</td>\n",
       "      <td>March</td>\n",
       "      <td>Sweden</td>\n",
       "      <td>Ingmar Bergman</td>\n",
       "    </tr>\n",
       "    <tr>\n",
       "      <th>230</th>\n",
       "      <td>tt0058946</td>\n",
       "      <td>The Battle of Algiers</td>\n",
       "      <td>8.1</td>\n",
       "      <td>36969</td>\n",
       "      <td>1966</td>\n",
       "      <td>Not Rated</td>\n",
       "      <td>121</td>\n",
       "      <td>['Drama', 'War']</td>\n",
       "      <td>September</td>\n",
       "      <td>Italy</td>\n",
       "      <td>Gillo Pontecorvo</td>\n",
       "    </tr>\n",
       "    <tr>\n",
       "      <th>214</th>\n",
       "      <td>tt0056801</td>\n",
       "      <td>8½</td>\n",
       "      <td>8.1</td>\n",
       "      <td>78138</td>\n",
       "      <td>1963</td>\n",
       "      <td>Not Rated</td>\n",
       "      <td>138</td>\n",
       "      <td>['Drama', 'Fantasy']</td>\n",
       "      <td>June</td>\n",
       "      <td>Italy</td>\n",
       "      <td>Federico Fellini</td>\n",
       "    </tr>\n",
       "  </tbody>\n",
       "</table>\n",
       "</div>"
      ],
      "text/plain": [
       "        tconst                           title  rating  num_votes  year  \\\n",
       "168  tt0978762                    Mary and Max     8.2     118420  2009   \n",
       "209  tt0353969              Memories of Murder     8.1      66197  2003   \n",
       "227  tt0113247                        La Haine     8.1     102825  1995   \n",
       "59   tt0095327          Grave of the Fireflies     8.5     137176  1988   \n",
       "164  tt0091251                    Come and See     8.3      25099  1985   \n",
       "204  tt0079944                         Stalker     8.1      67948  1979   \n",
       "8    tt0060196  The Good, the Bad and the Ugly     8.9     500638  1966   \n",
       "190  tt0060827                         Persona     8.1      61168  1966   \n",
       "230  tt0058946           The Battle of Algiers     8.1      36969  1966   \n",
       "214  tt0056801                              8½     8.1      78138  1963   \n",
       "\n",
       "          cert  run_time                             genre      month  \\\n",
       "168  Not Rated        92  ['Animation', 'Comedy', 'Drama']      April   \n",
       "209  Not Rated       132     ['Crime', 'Drama', 'Mystery']        May   \n",
       "227  Not Rated        98                ['Crime', 'Drama']   February   \n",
       "59   Not Rated        89     ['Animation', 'Drama', 'War']      April   \n",
       "164  Not Rated       140                  ['Drama', 'War']    October   \n",
       "204  Not Rated       163    ['Drama', 'Mystery', 'Sci-Fi']      April   \n",
       "8    Not Rated       161                       ['Western']   December   \n",
       "190  Not Rated        83             ['Drama', 'Thriller']      March   \n",
       "230  Not Rated       121                  ['Drama', 'War']  September   \n",
       "214  Not Rated       138              ['Drama', 'Fantasy']       June   \n",
       "\n",
       "         country           director  \n",
       "168    Australia        Adam Elliot  \n",
       "209  South Korea       Joon-ho Bong  \n",
       "227       France  Mathieu Kassovitz  \n",
       "59         Japan      Isao Takahata  \n",
       "164       Russia        Elem Klimov  \n",
       "204       Russia   Andrei Tarkovsky  \n",
       "8          Italy       Sergio Leone  \n",
       "190       Sweden     Ingmar Bergman  \n",
       "230        Italy   Gillo Pontecorvo  \n",
       "214        Italy   Federico Fellini  "
      ]
     },
     "execution_count": 96,
     "metadata": {},
     "output_type": "execute_result"
    }
   ],
   "source": [
    "top[(top['country'] != 'USA') & (top['cert'] == 'Not Rated') & (top['year'] > 1962)].sort('year', \\\n",
    "                                                    ascending = False).sort('year', ascending = False)"
   ]
  },
  {
   "cell_type": "code",
   "execution_count": 91,
   "metadata": {
    "collapsed": false
   },
   "outputs": [
    {
     "data": {
      "text/html": [
       "<div>\n",
       "<table border=\"1\" class=\"dataframe\">\n",
       "  <thead>\n",
       "    <tr style=\"text-align: right;\">\n",
       "      <th></th>\n",
       "      <th>tconst</th>\n",
       "      <th>title</th>\n",
       "      <th>rating</th>\n",
       "      <th>num_votes</th>\n",
       "      <th>year</th>\n",
       "      <th>cert</th>\n",
       "      <th>run_time</th>\n",
       "      <th>genre</th>\n",
       "      <th>month</th>\n",
       "      <th>country</th>\n",
       "      <th>director</th>\n",
       "    </tr>\n",
       "  </thead>\n",
       "  <tbody>\n",
       "    <tr>\n",
       "      <th>0</th>\n",
       "      <td>tt0111161</td>\n",
       "      <td>The Shawshank Redemption</td>\n",
       "      <td>9.3</td>\n",
       "      <td>1680129</td>\n",
       "      <td>1994</td>\n",
       "      <td>R</td>\n",
       "      <td>142</td>\n",
       "      <td>['Crime', 'Drama']</td>\n",
       "      <td>October</td>\n",
       "      <td>USA</td>\n",
       "      <td>Frank Darabont</td>\n",
       "    </tr>\n",
       "    <tr>\n",
       "      <th>1</th>\n",
       "      <td>tt0068646</td>\n",
       "      <td>The Godfather</td>\n",
       "      <td>9.2</td>\n",
       "      <td>1149482</td>\n",
       "      <td>1972</td>\n",
       "      <td>R</td>\n",
       "      <td>175</td>\n",
       "      <td>['Crime', 'Drama']</td>\n",
       "      <td>March</td>\n",
       "      <td>USA</td>\n",
       "      <td>Francis Ford Coppola</td>\n",
       "    </tr>\n",
       "    <tr>\n",
       "      <th>2</th>\n",
       "      <td>tt0071562</td>\n",
       "      <td>The Godfather: Part II</td>\n",
       "      <td>9.0</td>\n",
       "      <td>786145</td>\n",
       "      <td>1974</td>\n",
       "      <td>R</td>\n",
       "      <td>202</td>\n",
       "      <td>['Crime', 'Drama']</td>\n",
       "      <td>December</td>\n",
       "      <td>USA</td>\n",
       "      <td>Francis Ford Coppola</td>\n",
       "    </tr>\n",
       "    <tr>\n",
       "      <th>3</th>\n",
       "      <td>tt0468569</td>\n",
       "      <td>The Dark Knight</td>\n",
       "      <td>9.0</td>\n",
       "      <td>1665144</td>\n",
       "      <td>2008</td>\n",
       "      <td>PG-13</td>\n",
       "      <td>152</td>\n",
       "      <td>['Action', 'Adventure', 'Crime']</td>\n",
       "      <td>July</td>\n",
       "      <td>USA</td>\n",
       "      <td>Christopher Nolan</td>\n",
       "    </tr>\n",
       "    <tr>\n",
       "      <th>4</th>\n",
       "      <td>tt0108052</td>\n",
       "      <td>Schindler's List</td>\n",
       "      <td>8.9</td>\n",
       "      <td>859879</td>\n",
       "      <td>1993</td>\n",
       "      <td>R</td>\n",
       "      <td>195</td>\n",
       "      <td>['Biography', 'Drama', 'History']</td>\n",
       "      <td>February</td>\n",
       "      <td>USA</td>\n",
       "      <td>Steven Spielberg</td>\n",
       "    </tr>\n",
       "  </tbody>\n",
       "</table>\n",
       "</div>"
      ],
      "text/plain": [
       "      tconst                     title  rating  num_votes  year   cert  \\\n",
       "0  tt0111161  The Shawshank Redemption     9.3    1680129  1994      R   \n",
       "1  tt0068646             The Godfather     9.2    1149482  1972      R   \n",
       "2  tt0071562    The Godfather: Part II     9.0     786145  1974      R   \n",
       "3  tt0468569           The Dark Knight     9.0    1665144  2008  PG-13   \n",
       "4  tt0108052          Schindler's List     8.9     859879  1993      R   \n",
       "\n",
       "   run_time                              genre     month country  \\\n",
       "0       142                 ['Crime', 'Drama']   October     USA   \n",
       "1       175                 ['Crime', 'Drama']     March     USA   \n",
       "2       202                 ['Crime', 'Drama']  December     USA   \n",
       "3       152   ['Action', 'Adventure', 'Crime']      July     USA   \n",
       "4       195  ['Biography', 'Drama', 'History']  February     USA   \n",
       "\n",
       "               director  \n",
       "0        Frank Darabont  \n",
       "1  Francis Ford Coppola  \n",
       "2  Francis Ford Coppola  \n",
       "3     Christopher Nolan  \n",
       "4      Steven Spielberg  "
      ]
     },
     "execution_count": 91,
     "metadata": {},
     "output_type": "execute_result"
    }
   ],
   "source": [
    "top.head()"
   ]
  },
  {
   "cell_type": "markdown",
   "metadata": {},
   "source": [
    "Dummify genre:"
   ]
  },
  {
   "cell_type": "code",
   "execution_count": 129,
   "metadata": {
    "collapsed": false
   },
   "outputs": [],
   "source": [
    "cv = CountVectorizer()\n",
    "data = cv.fit_transform(top['genre']).todense()\n",
    "columns = ['genre_'+c for c in cv.get_feature_names()]\n",
    "dumbgenre = pd.DataFrame(data, columns=columns)"
   ]
  },
  {
   "cell_type": "code",
   "execution_count": 131,
   "metadata": {
    "collapsed": false
   },
   "outputs": [
    {
     "data": {
      "text/plain": [
       "Index([u'genre_action', u'genre_adventure', u'genre_animation',\n",
       "       u'genre_biography', u'genre_comedy', u'genre_crime', u'genre_drama',\n",
       "       u'genre_family', u'genre_fantasy', u'genre_fi', u'genre_film',\n",
       "       u'genre_history', u'genre_horror', u'genre_music', u'genre_musical',\n",
       "       u'genre_mystery', u'genre_noir', u'genre_romance', u'genre_sci',\n",
       "       u'genre_sport', u'genre_thriller', u'genre_war', u'genre_western'],\n",
       "      dtype='object')"
      ]
     },
     "execution_count": 131,
     "metadata": {},
     "output_type": "execute_result"
    }
   ],
   "source": [
    "dumbgenre.columns"
   ]
  },
  {
   "cell_type": "code",
   "execution_count": 132,
   "metadata": {
    "collapsed": true
   },
   "outputs": [],
   "source": [
    "del dumbgenre['genre_fi']\n",
    "del dumbgenre['genre_film']"
   ]
  },
  {
   "cell_type": "code",
   "execution_count": 133,
   "metadata": {
    "collapsed": false
   },
   "outputs": [
    {
     "name": "stdout",
     "output_type": "stream",
     "text": [
      "genre_action 39\n",
      "genre_adventure 64\n",
      "genre_animation 19\n",
      "genre_biography 25\n",
      "genre_comedy 40\n",
      "genre_crime 55\n",
      "genre_drama 171\n",
      "genre_family 13\n",
      "genre_fantasy 20\n",
      "genre_history 14\n",
      "genre_horror 6\n",
      "genre_music 1\n",
      "genre_musical 1\n",
      "genre_mystery 30\n",
      "genre_noir 8\n",
      "genre_romance 21\n",
      "genre_sci 25\n",
      "genre_sport 4\n",
      "genre_thriller 37\n",
      "genre_war 19\n",
      "genre_western 8\n"
     ]
    }
   ],
   "source": [
    "for column in dumbgenre.columns:\n",
    "    x = dumbgenre[column].sum()\n",
    "    print column, x"
   ]
  },
  {
   "cell_type": "code",
   "execution_count": 134,
   "metadata": {
    "collapsed": false
   },
   "outputs": [
    {
     "data": {
      "text/html": [
       "<div>\n",
       "<table border=\"1\" class=\"dataframe\">\n",
       "  <thead>\n",
       "    <tr style=\"text-align: right;\">\n",
       "      <th></th>\n",
       "      <th>genre_action</th>\n",
       "      <th>genre_adventure</th>\n",
       "      <th>genre_animation</th>\n",
       "      <th>genre_biography</th>\n",
       "      <th>genre_comedy</th>\n",
       "      <th>genre_crime</th>\n",
       "      <th>genre_drama</th>\n",
       "      <th>genre_family</th>\n",
       "      <th>genre_fantasy</th>\n",
       "      <th>genre_history</th>\n",
       "      <th>...</th>\n",
       "      <th>genre_music</th>\n",
       "      <th>genre_musical</th>\n",
       "      <th>genre_mystery</th>\n",
       "      <th>genre_noir</th>\n",
       "      <th>genre_romance</th>\n",
       "      <th>genre_sci</th>\n",
       "      <th>genre_sport</th>\n",
       "      <th>genre_thriller</th>\n",
       "      <th>genre_war</th>\n",
       "      <th>genre_western</th>\n",
       "    </tr>\n",
       "  </thead>\n",
       "  <tbody>\n",
       "    <tr>\n",
       "      <th>44</th>\n",
       "      <td>0</td>\n",
       "      <td>0</td>\n",
       "      <td>0</td>\n",
       "      <td>0</td>\n",
       "      <td>0</td>\n",
       "      <td>0</td>\n",
       "      <td>1</td>\n",
       "      <td>0</td>\n",
       "      <td>0</td>\n",
       "      <td>0</td>\n",
       "      <td>...</td>\n",
       "      <td>1</td>\n",
       "      <td>0</td>\n",
       "      <td>0</td>\n",
       "      <td>0</td>\n",
       "      <td>0</td>\n",
       "      <td>0</td>\n",
       "      <td>0</td>\n",
       "      <td>0</td>\n",
       "      <td>0</td>\n",
       "      <td>0</td>\n",
       "    </tr>\n",
       "  </tbody>\n",
       "</table>\n",
       "<p>1 rows × 21 columns</p>\n",
       "</div>"
      ],
      "text/plain": [
       "    genre_action  genre_adventure  genre_animation  genre_biography  \\\n",
       "44             0                0                0                0   \n",
       "\n",
       "    genre_comedy  genre_crime  genre_drama  genre_family  genre_fantasy  \\\n",
       "44             0            0            1             0              0   \n",
       "\n",
       "    genre_history      ...        genre_music  genre_musical  genre_mystery  \\\n",
       "44              0      ...                  1              0              0   \n",
       "\n",
       "    genre_noir  genre_romance  genre_sci  genre_sport  genre_thriller  \\\n",
       "44           0              0          0            0               0   \n",
       "\n",
       "    genre_war  genre_western  \n",
       "44          0              0  \n",
       "\n",
       "[1 rows x 21 columns]"
      ]
     },
     "execution_count": 134,
     "metadata": {},
     "output_type": "execute_result"
    }
   ],
   "source": [
    "dumbgenre[dumbgenre['genre_music'] == 1]"
   ]
  },
  {
   "cell_type": "code",
   "execution_count": 135,
   "metadata": {
    "collapsed": false
   },
   "outputs": [
    {
     "data": {
      "text/plain": [
       "'Whiplash'"
      ]
     },
     "execution_count": 135,
     "metadata": {},
     "output_type": "execute_result"
    }
   ],
   "source": [
    "top.loc[44]['title']"
   ]
  },
  {
   "cell_type": "code",
   "execution_count": 136,
   "metadata": {
    "collapsed": false
   },
   "outputs": [
    {
     "data": {
      "text/html": [
       "<div>\n",
       "<table border=\"1\" class=\"dataframe\">\n",
       "  <thead>\n",
       "    <tr style=\"text-align: right;\">\n",
       "      <th></th>\n",
       "      <th>genre_action</th>\n",
       "      <th>genre_adventure</th>\n",
       "      <th>genre_animation</th>\n",
       "      <th>genre_biography</th>\n",
       "      <th>genre_comedy</th>\n",
       "      <th>genre_crime</th>\n",
       "      <th>genre_drama</th>\n",
       "      <th>genre_family</th>\n",
       "      <th>genre_fantasy</th>\n",
       "      <th>genre_history</th>\n",
       "      <th>...</th>\n",
       "      <th>genre_music</th>\n",
       "      <th>genre_musical</th>\n",
       "      <th>genre_mystery</th>\n",
       "      <th>genre_noir</th>\n",
       "      <th>genre_romance</th>\n",
       "      <th>genre_sci</th>\n",
       "      <th>genre_sport</th>\n",
       "      <th>genre_thriller</th>\n",
       "      <th>genre_war</th>\n",
       "      <th>genre_western</th>\n",
       "    </tr>\n",
       "  </thead>\n",
       "  <tbody>\n",
       "    <tr>\n",
       "      <th>90</th>\n",
       "      <td>0</td>\n",
       "      <td>0</td>\n",
       "      <td>0</td>\n",
       "      <td>0</td>\n",
       "      <td>1</td>\n",
       "      <td>0</td>\n",
       "      <td>0</td>\n",
       "      <td>0</td>\n",
       "      <td>0</td>\n",
       "      <td>0</td>\n",
       "      <td>...</td>\n",
       "      <td>0</td>\n",
       "      <td>1</td>\n",
       "      <td>0</td>\n",
       "      <td>0</td>\n",
       "      <td>1</td>\n",
       "      <td>0</td>\n",
       "      <td>0</td>\n",
       "      <td>0</td>\n",
       "      <td>0</td>\n",
       "      <td>0</td>\n",
       "    </tr>\n",
       "  </tbody>\n",
       "</table>\n",
       "<p>1 rows × 21 columns</p>\n",
       "</div>"
      ],
      "text/plain": [
       "    genre_action  genre_adventure  genre_animation  genre_biography  \\\n",
       "90             0                0                0                0   \n",
       "\n",
       "    genre_comedy  genre_crime  genre_drama  genre_family  genre_fantasy  \\\n",
       "90             1            0            0             0              0   \n",
       "\n",
       "    genre_history      ...        genre_music  genre_musical  genre_mystery  \\\n",
       "90              0      ...                  0              1              0   \n",
       "\n",
       "    genre_noir  genre_romance  genre_sci  genre_sport  genre_thriller  \\\n",
       "90           0              1          0            0               0   \n",
       "\n",
       "    genre_war  genre_western  \n",
       "90          0              0  \n",
       "\n",
       "[1 rows x 21 columns]"
      ]
     },
     "execution_count": 136,
     "metadata": {},
     "output_type": "execute_result"
    }
   ],
   "source": [
    "dumbgenre[dumbgenre['genre_musical'] == 1]"
   ]
  },
  {
   "cell_type": "code",
   "execution_count": 137,
   "metadata": {
    "collapsed": false
   },
   "outputs": [
    {
     "data": {
      "text/plain": [
       "\"Singin' in the Rain\""
      ]
     },
     "execution_count": 137,
     "metadata": {},
     "output_type": "execute_result"
    }
   ],
   "source": [
    "top.loc[90]['title']"
   ]
  },
  {
   "cell_type": "markdown",
   "metadata": {},
   "source": [
    "Yeah, maybe we won't combine genres 'music' and 'musical' after all... on to more dummies."
   ]
  },
  {
   "cell_type": "code",
   "execution_count": 138,
   "metadata": {
    "collapsed": false
   },
   "outputs": [
    {
     "data": {
      "text/html": [
       "<div>\n",
       "<table border=\"1\" class=\"dataframe\">\n",
       "  <thead>\n",
       "    <tr style=\"text-align: right;\">\n",
       "      <th></th>\n",
       "      <th>month_April</th>\n",
       "      <th>month_August</th>\n",
       "      <th>month_December</th>\n",
       "      <th>month_February</th>\n",
       "      <th>month_January</th>\n",
       "      <th>month_July</th>\n",
       "      <th>month_June</th>\n",
       "      <th>month_March</th>\n",
       "      <th>month_May</th>\n",
       "      <th>month_November</th>\n",
       "      <th>month_October</th>\n",
       "      <th>month_September</th>\n",
       "    </tr>\n",
       "  </thead>\n",
       "  <tbody>\n",
       "    <tr>\n",
       "      <th>0</th>\n",
       "      <td>0.0</td>\n",
       "      <td>0.0</td>\n",
       "      <td>0.0</td>\n",
       "      <td>0.0</td>\n",
       "      <td>0.0</td>\n",
       "      <td>0.0</td>\n",
       "      <td>0.0</td>\n",
       "      <td>0.0</td>\n",
       "      <td>0.0</td>\n",
       "      <td>0.0</td>\n",
       "      <td>1.0</td>\n",
       "      <td>0.0</td>\n",
       "    </tr>\n",
       "  </tbody>\n",
       "</table>\n",
       "</div>"
      ],
      "text/plain": [
       "   month_April  month_August  month_December  month_February  month_January  \\\n",
       "0          0.0           0.0             0.0             0.0            0.0   \n",
       "\n",
       "   month_July  month_June  month_March  month_May  month_November  \\\n",
       "0         0.0         0.0          0.0        0.0             0.0   \n",
       "\n",
       "   month_October  month_September  \n",
       "0            1.0              0.0  "
      ]
     },
     "execution_count": 138,
     "metadata": {},
     "output_type": "execute_result"
    }
   ],
   "source": [
    "dumbmonth = top[['month']]\n",
    "dumbmonth = pd.get_dummies(dumbmonth)\n",
    "dumbmonth.head(1)"
   ]
  },
  {
   "cell_type": "code",
   "execution_count": null,
   "metadata": {
    "collapsed": false
   },
   "outputs": [],
   "source": [
    "dumbmonth = top[['month']]\n",
    "dumbmonth = pd.get_dummies(dumbmonth)\n",
    "dumbmonth.head(1)"
   ]
  },
  {
   "cell_type": "code",
   "execution_count": 163,
   "metadata": {
    "collapsed": false
   },
   "outputs": [],
   "source": [
    "big_directors = dir_count.index\n",
    "big_dir = []\n",
    "for i in range(len(top['director'])):\n",
    "    if top['director'][i] in big_directors:\n",
    "        big_dir.append(top['director'][i])\n",
    "    else:\n",
    "        big_dir.append(0)\n",
    "        \n",
    "big_dir = pd.DataFrame(big_dir)\n",
    "top['big_dir'] = big_dir"
   ]
  },
  {
   "cell_type": "code",
   "execution_count": 164,
   "metadata": {
    "collapsed": false
   },
   "outputs": [
    {
     "data": {
      "text/html": [
       "<div>\n",
       "<table border=\"1\" class=\"dataframe\">\n",
       "  <thead>\n",
       "    <tr style=\"text-align: right;\">\n",
       "      <th></th>\n",
       "      <th>big_dir_0</th>\n",
       "      <th>big_dir_Akira Kurosawa</th>\n",
       "      <th>big_dir_Alfred Hitchcock</th>\n",
       "      <th>big_dir_Billy Wilder</th>\n",
       "      <th>big_dir_Charles Chaplin</th>\n",
       "      <th>big_dir_Christopher Nolan</th>\n",
       "      <th>big_dir_Clint Eastwood</th>\n",
       "      <th>big_dir_David Fincher</th>\n",
       "      <th>big_dir_Francis Ford Coppola</th>\n",
       "      <th>big_dir_Frank Capra</th>\n",
       "      <th>...</th>\n",
       "      <th>big_dir_Martin Scorsese</th>\n",
       "      <th>big_dir_Pete Docter</th>\n",
       "      <th>big_dir_Peter Jackson</th>\n",
       "      <th>big_dir_Quentin Tarantino</th>\n",
       "      <th>big_dir_Ridley Scott</th>\n",
       "      <th>big_dir_Sergio Leone</th>\n",
       "      <th>big_dir_Sidney Lumet</th>\n",
       "      <th>big_dir_Stanley Kubrick</th>\n",
       "      <th>big_dir_Steven Spielberg</th>\n",
       "      <th>big_dir_William Wyler</th>\n",
       "    </tr>\n",
       "  </thead>\n",
       "  <tbody>\n",
       "    <tr>\n",
       "      <th>0</th>\n",
       "      <td>1.0</td>\n",
       "      <td>0.0</td>\n",
       "      <td>0.0</td>\n",
       "      <td>0.0</td>\n",
       "      <td>0.0</td>\n",
       "      <td>0.0</td>\n",
       "      <td>0.0</td>\n",
       "      <td>0.0</td>\n",
       "      <td>0.0</td>\n",
       "      <td>0.0</td>\n",
       "      <td>...</td>\n",
       "      <td>0.0</td>\n",
       "      <td>0.0</td>\n",
       "      <td>0.0</td>\n",
       "      <td>0.0</td>\n",
       "      <td>0.0</td>\n",
       "      <td>0.0</td>\n",
       "      <td>0.0</td>\n",
       "      <td>0.0</td>\n",
       "      <td>0.0</td>\n",
       "      <td>0.0</td>\n",
       "    </tr>\n",
       "  </tbody>\n",
       "</table>\n",
       "<p>1 rows × 23 columns</p>\n",
       "</div>"
      ],
      "text/plain": [
       "   big_dir_0  big_dir_Akira Kurosawa  big_dir_Alfred Hitchcock  \\\n",
       "0        1.0                     0.0                       0.0   \n",
       "\n",
       "   big_dir_Billy Wilder  big_dir_Charles Chaplin  big_dir_Christopher Nolan  \\\n",
       "0                   0.0                      0.0                        0.0   \n",
       "\n",
       "   big_dir_Clint Eastwood  big_dir_David Fincher  \\\n",
       "0                     0.0                    0.0   \n",
       "\n",
       "   big_dir_Francis Ford Coppola  big_dir_Frank Capra          ...            \\\n",
       "0                           0.0                  0.0          ...             \n",
       "\n",
       "   big_dir_Martin Scorsese  big_dir_Pete Docter  big_dir_Peter Jackson  \\\n",
       "0                      0.0                  0.0                    0.0   \n",
       "\n",
       "   big_dir_Quentin Tarantino  big_dir_Ridley Scott  big_dir_Sergio Leone  \\\n",
       "0                        0.0                   0.0                   0.0   \n",
       "\n",
       "   big_dir_Sidney Lumet  big_dir_Stanley Kubrick  big_dir_Steven Spielberg  \\\n",
       "0                   0.0                      0.0                       0.0   \n",
       "\n",
       "   big_dir_William Wyler  \n",
       "0                    0.0  \n",
       "\n",
       "[1 rows x 23 columns]"
      ]
     },
     "execution_count": 164,
     "metadata": {},
     "output_type": "execute_result"
    }
   ],
   "source": [
    "dumbdir = top[['big_dir']]\n",
    "dumbdir = pd.get_dummies(dumbdir)\n",
    "dumbdir.head(1)"
   ]
  },
  {
   "cell_type": "code",
   "execution_count": 167,
   "metadata": {
    "collapsed": true
   },
   "outputs": [],
   "source": [
    "del dumbdir['big_dir_0']\n",
    "del top['big_dir']"
   ]
  },
  {
   "cell_type": "code",
   "execution_count": 172,
   "metadata": {
    "collapsed": false
   },
   "outputs": [
    {
     "data": {
      "text/html": [
       "<div>\n",
       "<table border=\"1\" class=\"dataframe\">\n",
       "  <thead>\n",
       "    <tr style=\"text-align: right;\">\n",
       "      <th></th>\n",
       "      <th>count</th>\n",
       "    </tr>\n",
       "  </thead>\n",
       "  <tbody>\n",
       "    <tr>\n",
       "      <th>USA</th>\n",
       "      <td>177</td>\n",
       "    </tr>\n",
       "    <tr>\n",
       "      <th>Japan</th>\n",
       "      <td>14</td>\n",
       "    </tr>\n",
       "    <tr>\n",
       "      <th>UK</th>\n",
       "      <td>12</td>\n",
       "    </tr>\n",
       "    <tr>\n",
       "      <th>Italy</th>\n",
       "      <td>10</td>\n",
       "    </tr>\n",
       "    <tr>\n",
       "      <th>France</th>\n",
       "      <td>7</td>\n",
       "    </tr>\n",
       "    <tr>\n",
       "      <th>Germany</th>\n",
       "      <td>5</td>\n",
       "    </tr>\n",
       "    <tr>\n",
       "      <th>Sweden</th>\n",
       "      <td>4</td>\n",
       "    </tr>\n",
       "    <tr>\n",
       "      <th>Hong Kong</th>\n",
       "      <td>3</td>\n",
       "    </tr>\n",
       "  </tbody>\n",
       "</table>\n",
       "</div>"
      ],
      "text/plain": [
       "           count\n",
       "USA          177\n",
       "Japan         14\n",
       "UK            12\n",
       "Italy         10\n",
       "France         7\n",
       "Germany        5\n",
       "Sweden         4\n",
       "Hong Kong      3"
      ]
     },
     "execution_count": 172,
     "metadata": {},
     "output_type": "execute_result"
    }
   ],
   "source": [
    "country_count = pd.DataFrame(top['country'].value_counts())\n",
    "country_count.columns = ['count']\n",
    "country_count = country_count[country_count['count'] > 2]\n",
    "country_count"
   ]
  },
  {
   "cell_type": "code",
   "execution_count": 173,
   "metadata": {
    "collapsed": true
   },
   "outputs": [],
   "source": [
    "big_country = country_count.index\n",
    "big_countries = []\n",
    "for i in range(len(top['country'])):\n",
    "    if top['country'][i] in big_country:\n",
    "        big_countries.append(top['country'][i])\n",
    "    else:\n",
    "        big_countries.append(0)\n",
    "        \n",
    "big_countries = pd.DataFrame(big_countries)\n",
    "top['big_countries'] = big_countries"
   ]
  },
  {
   "cell_type": "code",
   "execution_count": 175,
   "metadata": {
    "collapsed": false
   },
   "outputs": [
    {
     "data": {
      "text/html": [
       "<div>\n",
       "<table border=\"1\" class=\"dataframe\">\n",
       "  <thead>\n",
       "    <tr style=\"text-align: right;\">\n",
       "      <th></th>\n",
       "      <th>big_countries_0</th>\n",
       "      <th>big_countries_France</th>\n",
       "      <th>big_countries_Germany</th>\n",
       "      <th>big_countries_Hong Kong</th>\n",
       "      <th>big_countries_Italy</th>\n",
       "      <th>big_countries_Japan</th>\n",
       "      <th>big_countries_Sweden</th>\n",
       "      <th>big_countries_UK</th>\n",
       "      <th>big_countries_USA</th>\n",
       "    </tr>\n",
       "  </thead>\n",
       "  <tbody>\n",
       "    <tr>\n",
       "      <th>0</th>\n",
       "      <td>0.0</td>\n",
       "      <td>0.0</td>\n",
       "      <td>0.0</td>\n",
       "      <td>0.0</td>\n",
       "      <td>0.0</td>\n",
       "      <td>0.0</td>\n",
       "      <td>0.0</td>\n",
       "      <td>0.0</td>\n",
       "      <td>1.0</td>\n",
       "    </tr>\n",
       "  </tbody>\n",
       "</table>\n",
       "</div>"
      ],
      "text/plain": [
       "   big_countries_0  big_countries_France  big_countries_Germany  \\\n",
       "0              0.0                   0.0                    0.0   \n",
       "\n",
       "   big_countries_Hong Kong  big_countries_Italy  big_countries_Japan  \\\n",
       "0                      0.0                  0.0                  0.0   \n",
       "\n",
       "   big_countries_Sweden  big_countries_UK  big_countries_USA  \n",
       "0                   0.0               0.0                1.0  "
      ]
     },
     "execution_count": 175,
     "metadata": {},
     "output_type": "execute_result"
    }
   ],
   "source": [
    "dumbcountry = top[['big_countries']]\n",
    "dumbcountry = pd.get_dummies(dumbcountry)\n",
    "dumbcountry.head(1)"
   ]
  },
  {
   "cell_type": "code",
   "execution_count": 176,
   "metadata": {
    "collapsed": true
   },
   "outputs": [],
   "source": [
    "del dumbcountry['big_countries_0']"
   ]
  },
  {
   "cell_type": "code",
   "execution_count": 177,
   "metadata": {
    "collapsed": false
   },
   "outputs": [
    {
     "data": {
      "text/html": [
       "<div>\n",
       "<table border=\"1\" class=\"dataframe\">\n",
       "  <thead>\n",
       "    <tr style=\"text-align: right;\">\n",
       "      <th></th>\n",
       "      <th>cert_Approved</th>\n",
       "      <th>cert_G</th>\n",
       "      <th>cert_Not Rated</th>\n",
       "      <th>cert_PG</th>\n",
       "      <th>cert_PG-13</th>\n",
       "      <th>cert_R</th>\n",
       "    </tr>\n",
       "  </thead>\n",
       "  <tbody>\n",
       "    <tr>\n",
       "      <th>0</th>\n",
       "      <td>0.0</td>\n",
       "      <td>0.0</td>\n",
       "      <td>0.0</td>\n",
       "      <td>0.0</td>\n",
       "      <td>0.0</td>\n",
       "      <td>1.0</td>\n",
       "    </tr>\n",
       "  </tbody>\n",
       "</table>\n",
       "</div>"
      ],
      "text/plain": [
       "   cert_Approved  cert_G  cert_Not Rated  cert_PG  cert_PG-13  cert_R\n",
       "0            0.0     0.0             0.0      0.0         0.0     1.0"
      ]
     },
     "execution_count": 177,
     "metadata": {},
     "output_type": "execute_result"
    }
   ],
   "source": [
    "dumbcert = top[['cert']]\n",
    "dumbcert = pd.get_dummies(dumbcert)\n",
    "dumbcert.head(1)"
   ]
  },
  {
   "cell_type": "code",
   "execution_count": 178,
   "metadata": {
    "collapsed": true
   },
   "outputs": [],
   "source": [
    "big_top = pd.concat([top, dumbgenre, dumbmonth, dumbdir, dumbcountry, dumbcert], axis = 1)"
   ]
  },
  {
   "cell_type": "code",
   "execution_count": 180,
   "metadata": {
    "collapsed": false
   },
   "outputs": [],
   "source": [
    "del big_top['genre']\n",
    "del big_top['tconst']\n",
    "del big_top['month']\n",
    "del big_top['big_dir']\n",
    "del big_top['country']\n",
    "del big_top['cert']"
   ]
  },
  {
   "cell_type": "code",
   "execution_count": 182,
   "metadata": {
    "collapsed": false
   },
   "outputs": [
    {
     "data": {
      "text/html": [
       "<div>\n",
       "<table border=\"1\" class=\"dataframe\">\n",
       "  <thead>\n",
       "    <tr style=\"text-align: right;\">\n",
       "      <th></th>\n",
       "      <th>tconst</th>\n",
       "      <th>title</th>\n",
       "      <th>rating</th>\n",
       "      <th>num_votes</th>\n",
       "      <th>year</th>\n",
       "      <th>cert</th>\n",
       "      <th>run_time</th>\n",
       "      <th>month</th>\n",
       "      <th>country</th>\n",
       "      <th>director</th>\n",
       "      <th>genre</th>\n",
       "      <th>big_countries</th>\n",
       "    </tr>\n",
       "  </thead>\n",
       "  <tbody>\n",
       "    <tr>\n",
       "      <th>0</th>\n",
       "      <td>tt0111161</td>\n",
       "      <td>The Shawshank Redemption</td>\n",
       "      <td>9.3</td>\n",
       "      <td>1680129</td>\n",
       "      <td>1994</td>\n",
       "      <td>R</td>\n",
       "      <td>142</td>\n",
       "      <td>October</td>\n",
       "      <td>USA</td>\n",
       "      <td>Frank Darabont</td>\n",
       "      <td>['Crime', 'Drama']</td>\n",
       "      <td>USA</td>\n",
       "    </tr>\n",
       "  </tbody>\n",
       "</table>\n",
       "</div>"
      ],
      "text/plain": [
       "      tconst                     title  rating  num_votes  year cert  \\\n",
       "0  tt0111161  The Shawshank Redemption     9.3    1680129  1994    R   \n",
       "\n",
       "   run_time    month country        director               genre big_countries  \n",
       "0       142  October     USA  Frank Darabont  ['Crime', 'Drama']           USA  "
      ]
     },
     "execution_count": 182,
     "metadata": {},
     "output_type": "execute_result"
    }
   ],
   "source": [
    "top.head(1)"
   ]
  },
  {
   "cell_type": "code",
   "execution_count": 184,
   "metadata": {
    "collapsed": false
   },
   "outputs": [
    {
     "data": {
      "text/html": [
       "<div>\n",
       "<table border=\"1\" class=\"dataframe\">\n",
       "  <thead>\n",
       "    <tr style=\"text-align: right;\">\n",
       "      <th></th>\n",
       "      <th>title</th>\n",
       "      <th>rating</th>\n",
       "      <th>num_votes</th>\n",
       "      <th>year</th>\n",
       "      <th>run_time</th>\n",
       "      <th>director</th>\n",
       "      <th>big_countries</th>\n",
       "      <th>genre_action</th>\n",
       "      <th>genre_adventure</th>\n",
       "      <th>genre_animation</th>\n",
       "      <th>...</th>\n",
       "      <th>big_countries_Japan</th>\n",
       "      <th>big_countries_Sweden</th>\n",
       "      <th>big_countries_UK</th>\n",
       "      <th>big_countries_USA</th>\n",
       "      <th>cert_Approved</th>\n",
       "      <th>cert_G</th>\n",
       "      <th>cert_Not Rated</th>\n",
       "      <th>cert_PG</th>\n",
       "      <th>cert_PG-13</th>\n",
       "      <th>cert_R</th>\n",
       "    </tr>\n",
       "  </thead>\n",
       "  <tbody>\n",
       "    <tr>\n",
       "      <th>0</th>\n",
       "      <td>The Shawshank Redemption</td>\n",
       "      <td>9.3</td>\n",
       "      <td>1680129</td>\n",
       "      <td>1994</td>\n",
       "      <td>142</td>\n",
       "      <td>Frank Darabont</td>\n",
       "      <td>USA</td>\n",
       "      <td>0</td>\n",
       "      <td>0</td>\n",
       "      <td>0</td>\n",
       "      <td>...</td>\n",
       "      <td>0.0</td>\n",
       "      <td>0.0</td>\n",
       "      <td>0.0</td>\n",
       "      <td>1.0</td>\n",
       "      <td>0.0</td>\n",
       "      <td>0.0</td>\n",
       "      <td>0.0</td>\n",
       "      <td>0.0</td>\n",
       "      <td>0.0</td>\n",
       "      <td>1.0</td>\n",
       "    </tr>\n",
       "  </tbody>\n",
       "</table>\n",
       "<p>1 rows × 76 columns</p>\n",
       "</div>"
      ],
      "text/plain": [
       "                      title  rating  num_votes  year  run_time  \\\n",
       "0  The Shawshank Redemption     9.3    1680129  1994       142   \n",
       "\n",
       "         director big_countries  genre_action  genre_adventure  \\\n",
       "0  Frank Darabont           USA             0                0   \n",
       "\n",
       "   genre_animation   ...    big_countries_Japan  big_countries_Sweden  \\\n",
       "0                0   ...                    0.0                   0.0   \n",
       "\n",
       "   big_countries_UK  big_countries_USA  cert_Approved  cert_G  cert_Not Rated  \\\n",
       "0               0.0                1.0            0.0     0.0             0.0   \n",
       "\n",
       "   cert_PG  cert_PG-13  cert_R  \n",
       "0      0.0         0.0     1.0  \n",
       "\n",
       "[1 rows x 76 columns]"
      ]
     },
     "execution_count": 184,
     "metadata": {},
     "output_type": "execute_result"
    }
   ],
   "source": [
    "big_top.head(1)"
   ]
  },
  {
   "cell_type": "code",
   "execution_count": 185,
   "metadata": {
    "collapsed": true
   },
   "outputs": [],
   "source": [
    "del big_top['title']\n",
    "del big_top['director']\n",
    "del big_top['big_countries']"
   ]
  },
  {
   "cell_type": "code",
   "execution_count": 186,
   "metadata": {
    "collapsed": false
   },
   "outputs": [
    {
     "data": {
      "text/html": [
       "<div>\n",
       "<table border=\"1\" class=\"dataframe\">\n",
       "  <thead>\n",
       "    <tr style=\"text-align: right;\">\n",
       "      <th></th>\n",
       "      <th>rating</th>\n",
       "      <th>num_votes</th>\n",
       "      <th>year</th>\n",
       "      <th>run_time</th>\n",
       "      <th>genre_action</th>\n",
       "      <th>genre_adventure</th>\n",
       "      <th>genre_animation</th>\n",
       "      <th>genre_biography</th>\n",
       "      <th>genre_comedy</th>\n",
       "      <th>genre_crime</th>\n",
       "      <th>...</th>\n",
       "      <th>big_countries_Japan</th>\n",
       "      <th>big_countries_Sweden</th>\n",
       "      <th>big_countries_UK</th>\n",
       "      <th>big_countries_USA</th>\n",
       "      <th>cert_Approved</th>\n",
       "      <th>cert_G</th>\n",
       "      <th>cert_Not Rated</th>\n",
       "      <th>cert_PG</th>\n",
       "      <th>cert_PG-13</th>\n",
       "      <th>cert_R</th>\n",
       "    </tr>\n",
       "  </thead>\n",
       "  <tbody>\n",
       "    <tr>\n",
       "      <th>0</th>\n",
       "      <td>9.3</td>\n",
       "      <td>1680129</td>\n",
       "      <td>1994</td>\n",
       "      <td>142</td>\n",
       "      <td>0</td>\n",
       "      <td>0</td>\n",
       "      <td>0</td>\n",
       "      <td>0</td>\n",
       "      <td>0</td>\n",
       "      <td>1</td>\n",
       "      <td>...</td>\n",
       "      <td>0.0</td>\n",
       "      <td>0.0</td>\n",
       "      <td>0.0</td>\n",
       "      <td>1.0</td>\n",
       "      <td>0.0</td>\n",
       "      <td>0.0</td>\n",
       "      <td>0.0</td>\n",
       "      <td>0.0</td>\n",
       "      <td>0.0</td>\n",
       "      <td>1.0</td>\n",
       "    </tr>\n",
       "    <tr>\n",
       "      <th>1</th>\n",
       "      <td>9.2</td>\n",
       "      <td>1149482</td>\n",
       "      <td>1972</td>\n",
       "      <td>175</td>\n",
       "      <td>0</td>\n",
       "      <td>0</td>\n",
       "      <td>0</td>\n",
       "      <td>0</td>\n",
       "      <td>0</td>\n",
       "      <td>1</td>\n",
       "      <td>...</td>\n",
       "      <td>0.0</td>\n",
       "      <td>0.0</td>\n",
       "      <td>0.0</td>\n",
       "      <td>1.0</td>\n",
       "      <td>0.0</td>\n",
       "      <td>0.0</td>\n",
       "      <td>0.0</td>\n",
       "      <td>0.0</td>\n",
       "      <td>0.0</td>\n",
       "      <td>1.0</td>\n",
       "    </tr>\n",
       "    <tr>\n",
       "      <th>2</th>\n",
       "      <td>9.0</td>\n",
       "      <td>786145</td>\n",
       "      <td>1974</td>\n",
       "      <td>202</td>\n",
       "      <td>0</td>\n",
       "      <td>0</td>\n",
       "      <td>0</td>\n",
       "      <td>0</td>\n",
       "      <td>0</td>\n",
       "      <td>1</td>\n",
       "      <td>...</td>\n",
       "      <td>0.0</td>\n",
       "      <td>0.0</td>\n",
       "      <td>0.0</td>\n",
       "      <td>1.0</td>\n",
       "      <td>0.0</td>\n",
       "      <td>0.0</td>\n",
       "      <td>0.0</td>\n",
       "      <td>0.0</td>\n",
       "      <td>0.0</td>\n",
       "      <td>1.0</td>\n",
       "    </tr>\n",
       "    <tr>\n",
       "      <th>3</th>\n",
       "      <td>9.0</td>\n",
       "      <td>1665144</td>\n",
       "      <td>2008</td>\n",
       "      <td>152</td>\n",
       "      <td>1</td>\n",
       "      <td>1</td>\n",
       "      <td>0</td>\n",
       "      <td>0</td>\n",
       "      <td>0</td>\n",
       "      <td>1</td>\n",
       "      <td>...</td>\n",
       "      <td>0.0</td>\n",
       "      <td>0.0</td>\n",
       "      <td>0.0</td>\n",
       "      <td>1.0</td>\n",
       "      <td>0.0</td>\n",
       "      <td>0.0</td>\n",
       "      <td>0.0</td>\n",
       "      <td>0.0</td>\n",
       "      <td>1.0</td>\n",
       "      <td>0.0</td>\n",
       "    </tr>\n",
       "    <tr>\n",
       "      <th>4</th>\n",
       "      <td>8.9</td>\n",
       "      <td>859879</td>\n",
       "      <td>1993</td>\n",
       "      <td>195</td>\n",
       "      <td>0</td>\n",
       "      <td>0</td>\n",
       "      <td>0</td>\n",
       "      <td>1</td>\n",
       "      <td>0</td>\n",
       "      <td>0</td>\n",
       "      <td>...</td>\n",
       "      <td>0.0</td>\n",
       "      <td>0.0</td>\n",
       "      <td>0.0</td>\n",
       "      <td>1.0</td>\n",
       "      <td>0.0</td>\n",
       "      <td>0.0</td>\n",
       "      <td>0.0</td>\n",
       "      <td>0.0</td>\n",
       "      <td>0.0</td>\n",
       "      <td>1.0</td>\n",
       "    </tr>\n",
       "  </tbody>\n",
       "</table>\n",
       "<p>5 rows × 73 columns</p>\n",
       "</div>"
      ],
      "text/plain": [
       "   rating  num_votes  year  run_time  genre_action  genre_adventure  \\\n",
       "0     9.3    1680129  1994       142             0                0   \n",
       "1     9.2    1149482  1972       175             0                0   \n",
       "2     9.0     786145  1974       202             0                0   \n",
       "3     9.0    1665144  2008       152             1                1   \n",
       "4     8.9     859879  1993       195             0                0   \n",
       "\n",
       "   genre_animation  genre_biography  genre_comedy  genre_crime   ...    \\\n",
       "0                0                0             0            1   ...     \n",
       "1                0                0             0            1   ...     \n",
       "2                0                0             0            1   ...     \n",
       "3                0                0             0            1   ...     \n",
       "4                0                1             0            0   ...     \n",
       "\n",
       "   big_countries_Japan  big_countries_Sweden  big_countries_UK  \\\n",
       "0                  0.0                   0.0               0.0   \n",
       "1                  0.0                   0.0               0.0   \n",
       "2                  0.0                   0.0               0.0   \n",
       "3                  0.0                   0.0               0.0   \n",
       "4                  0.0                   0.0               0.0   \n",
       "\n",
       "   big_countries_USA  cert_Approved  cert_G  cert_Not Rated  cert_PG  \\\n",
       "0                1.0            0.0     0.0             0.0      0.0   \n",
       "1                1.0            0.0     0.0             0.0      0.0   \n",
       "2                1.0            0.0     0.0             0.0      0.0   \n",
       "3                1.0            0.0     0.0             0.0      0.0   \n",
       "4                1.0            0.0     0.0             0.0      0.0   \n",
       "\n",
       "   cert_PG-13  cert_R  \n",
       "0         0.0     1.0  \n",
       "1         0.0     1.0  \n",
       "2         0.0     1.0  \n",
       "3         1.0     0.0  \n",
       "4         0.0     1.0  \n",
       "\n",
       "[5 rows x 73 columns]"
      ]
     },
     "execution_count": 186,
     "metadata": {},
     "output_type": "execute_result"
    }
   ],
   "source": [
    "big_top.head()"
   ]
  },
  {
   "cell_type": "code",
   "execution_count": null,
   "metadata": {
    "collapsed": true
   },
   "outputs": [],
   "source": []
  }
 ],
 "metadata": {
  "kernelspec": {
   "display_name": "Python 2",
   "language": "python",
   "name": "python2"
  },
  "language_info": {
   "codemirror_mode": {
    "name": "ipython",
    "version": 2
   },
   "file_extension": ".py",
   "mimetype": "text/x-python",
   "name": "python",
   "nbconvert_exporter": "python",
   "pygments_lexer": "ipython2",
   "version": "2.7.12"
  }
 },
 "nbformat": 4,
 "nbformat_minor": 0
}
