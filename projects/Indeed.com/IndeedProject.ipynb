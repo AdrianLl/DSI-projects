{
 "cells": [
  {
   "cell_type": "markdown",
   "metadata": {
    "focus": false,
    "id": "69b9a648-bcc7-490d-9f9b-ea244d156bd6"
   },
   "source": [
    "# Web Scraping for Indeed.com & Predicting Salaries"
   ]
  },
  {
   "cell_type": "markdown",
   "metadata": {
    "focus": false,
    "id": "34681254-c802-462f-829d-8894d0772d08"
   },
   "source": [
    "In this project, we will practice two major skills: collecting data by scraping a website and then building a binary predictor with Logistic Regression.\n",
    "\n",
    "We are going to collect salary information on data science jobs in a variety of markets. Then using the location, title and summary of the job we will attempt to predict the salary of the job. For job posting sites, this would be extraordinarily useful. While most listings DO NOT come with salary information (as you will see in this exercise), being to able extrapolate or predict the expected salaries from other listings can help guide negotiations.\n",
    "\n",
    "Normally, we could use regression for this task; however, we will convert this problem into classification and use Logistic Regression.\n",
    "\n",
    "- Question: Why would we want this to be a classification problem?\n",
    "- Answer: While more precision may be better, there is a fair amount of natural variance in job salaries - predicting a range be may be useful.\n",
    "\n",
    "Therefore, the first part of the assignment will be focused on scraping Indeed.com. In the second, we'll focus on using listings with salary information to build a model and predict additional salaries."
   ]
  },
  {
   "cell_type": "markdown",
   "metadata": {
    "focus": false,
    "id": "a948d79c-5527-4c0d-ab23-f5d43ce72056"
   },
   "source": [
    "### Scraping job listings from Indeed.com"
   ]
  },
  {
   "cell_type": "markdown",
   "metadata": {
    "focus": true,
    "id": "7203e0c9-e437-4802-a6ad-7dc464f94436"
   },
   "source": [
    "We will be scraping job listings from Indeed.com using BeautifulSoup. Luckily, Indeed.com is a simple text page where we can easily find relevant entries.\n",
    "\n",
    "First, look at the source of an Indeed.com page: (http://www.indeed.com/jobs?q=data+scientist+%2420%2C000&l=New+York&start=10\")\n",
    "\n",
    "Notice, each job listing is underneath a `div` tag with a class name of `result`. We can use BeautifulSoup to extract those. "
   ]
  },
  {
   "cell_type": "markdown",
   "metadata": {
    "focus": false,
    "id": "9732c901-ae26-4160-8376-42e22dd327df"
   },
   "source": [
    "#### Setup a request (using `requests`) to the URL below. Use BeautifulSoup to parse the page and extract all results (HINT: Look for div tags with class name result)"
   ]
  },
  {
   "cell_type": "code",
   "execution_count": 1,
   "metadata": {
    "collapsed": false,
    "focus": false,
    "id": "e915023e-6b0d-4982-af2a-b1e0355f4927"
   },
   "outputs": [],
   "source": [
    "pre_URL = \"http://www.indeed.com/jobs?q=data+scientist+%2420%2C000&l=New+York\""
   ]
  },
  {
   "cell_type": "code",
   "execution_count": 2,
   "metadata": {
    "collapsed": true,
    "focus": false,
    "id": "2efefc73-064a-482d-b3b5-ddf5508cb4ec"
   },
   "outputs": [],
   "source": [
    "import requests\n",
    "import bs4\n",
    "from bs4 import BeautifulSoup\n",
    "import pandas as pd\n",
    "\n",
    "from sklearn.svm import LinearSVC\n",
    "from sklearn.feature_selection import SelectFromModel"
   ]
  },
  {
   "cell_type": "code",
   "execution_count": 3,
   "metadata": {
    "collapsed": false
   },
   "outputs": [],
   "source": [
    "pre_indeed = requests.get(pre_URL)"
   ]
  },
  {
   "cell_type": "code",
   "execution_count": 4,
   "metadata": {
    "collapsed": false
   },
   "outputs": [],
   "source": [
    "pre_soup = BeautifulSoup(pre_indeed.content, \"lxml\")"
   ]
  },
  {
   "cell_type": "markdown",
   "metadata": {},
   "source": [
    "Run cell below to see what text-only results look like (in markdown; switch to code first):"
   ]
  },
  {
   "cell_type": "markdown",
   "metadata": {
    "collapsed": false
   },
   "source": [
    "pre_count = 0\n",
    "for i in pre_soup.findAll('div', class_ = '  row result'):\n",
    "    print pre_count, i.text\n",
    "    print '\\n'\n",
    "    pre_count += 1"
   ]
  },
  {
   "cell_type": "markdown",
   "metadata": {
    "focus": false,
    "id": "f1eddb90-4ba8-483c-a229-77e93aa53119"
   },
   "source": [
    "### Write 4 functions to extract each item: location, company, job, and salary.\n",
    "\n",
    "example: \n",
    "```python\n",
    "def extract_location_from_result(result):\n",
    "    return result.find ...\n",
    "```\n",
    "\n",
    "\n",
    "- Make sure these functions are robust and can handle cases where the data/field may not be available.\n",
    "- Test the functions on the results above"
   ]
  },
  {
   "cell_type": "code",
   "execution_count": 6,
   "metadata": {
    "collapsed": false
   },
   "outputs": [],
   "source": [
    "def get_jobtitle(result):\n",
    "    '''This function constructs a list containing each job title.'''\n",
    "    jobtitle_list = []\n",
    "    for i in result.findAll('a', class_ = 'jobtitle turnstileLink'): \n",
    "        jobtitle_list.append(str(i.text.encode('utf8')))\n",
    "    return jobtitle_list\n",
    "\n",
    "def get_location(result):\n",
    "    '''This function constructs a list containing each job location.'''\n",
    "    location_list = []\n",
    "    for i in result.findAll('span', class_ = 'location'):\n",
    "        location_list.append(str(i.text.encode('utf8')))\n",
    "    return location_list\n",
    "\n",
    "def get_company(result):   \n",
    "    '''This function constructs a list containing each job company.'''\n",
    "    company_list = []\n",
    "    for i in result.findAll('span', class_ = 'company'):\n",
    "        company = str(i.text.encode('utf8'))\n",
    "        company = company.replace('\\n', '')\n",
    "        company = company.replace('    ', '')\n",
    "        company_list.append(company)\n",
    "    return company_list\n",
    "    \n",
    "def get_salary(result):\n",
    "    '''This function constructs a list containing each job salary.'''\n",
    "    salary_list = []\n",
    "    for i in result.findAll('td', class_ = 'snip'):\n",
    "        if i.find('nobr') != None:\n",
    "            salary_list.append(i.find('nobr').text)\n",
    "        else:\n",
    "            salary_list.append('NaN')\n",
    "    return salary_list\n",
    "\n",
    "def putitalltogether(result):\n",
    "    '''This function creates a dataframe whose columns are the lists produced by the functions it contains.'''\n",
    "    jobs = get_jobtitle(result)\n",
    "    locations = get_location(result)\n",
    "    companies = get_company(result)\n",
    "    salaries = get_salary(result)\n",
    "    return pd.DataFrame(zip(jobs, locations, companies, salaries),\\\n",
    "                        columns = ['title', 'location', 'company', 'salary']) "
   ]
  },
  {
   "cell_type": "markdown",
   "metadata": {},
   "source": [
    "Let's see what putitalltogether does with pre_soup:"
   ]
  },
  {
   "cell_type": "code",
   "execution_count": 7,
   "metadata": {
    "collapsed": false
   },
   "outputs": [
    {
     "data": {
      "text/html": [
       "<div>\n",
       "<table border=\"1\" class=\"dataframe\">\n",
       "  <thead>\n",
       "    <tr style=\"text-align: right;\">\n",
       "      <th></th>\n",
       "      <th>title</th>\n",
       "      <th>location</th>\n",
       "      <th>company</th>\n",
       "      <th>salary</th>\n",
       "    </tr>\n",
       "  </thead>\n",
       "  <tbody>\n",
       "    <tr>\n",
       "      <th>0</th>\n",
       "      <td>Data Scientist</td>\n",
       "      <td>New York, NY</td>\n",
       "      <td>AbilTo, Inc</td>\n",
       "      <td>NaN</td>\n",
       "    </tr>\n",
       "    <tr>\n",
       "      <th>1</th>\n",
       "      <td>Data Scientist – Predictive Analytics</td>\n",
       "      <td>New York, NY</td>\n",
       "      <td>Gallup</td>\n",
       "      <td>NaN</td>\n",
       "    </tr>\n",
       "    <tr>\n",
       "      <th>2</th>\n",
       "      <td>Sr. Data Scientist, Learning Services</td>\n",
       "      <td>New York, NY</td>\n",
       "      <td>Chegg</td>\n",
       "      <td>NaN</td>\n",
       "    </tr>\n",
       "    <tr>\n",
       "      <th>3</th>\n",
       "      <td>Research Data Analyst</td>\n",
       "      <td>New York, NY</td>\n",
       "      <td>Brilliant Leap</td>\n",
       "      <td>$800 a day</td>\n",
       "    </tr>\n",
       "    <tr>\n",
       "      <th>4</th>\n",
       "      <td>Junior Data Scientist</td>\n",
       "      <td>New York, NY</td>\n",
       "      <td>DEPT OF ENVIRONMENT PROTECTION</td>\n",
       "      <td>$47,839 - $70,058 a year</td>\n",
       "    </tr>\n",
       "  </tbody>\n",
       "</table>\n",
       "</div>"
      ],
      "text/plain": [
       "                                   title      location  \\\n",
       "0                         Data Scientist  New York, NY   \n",
       "1  Data Scientist – Predictive Analytics  New York, NY   \n",
       "2  Sr. Data Scientist, Learning Services  New York, NY   \n",
       "3                  Research Data Analyst  New York, NY   \n",
       "4                  Junior Data Scientist  New York, NY   \n",
       "\n",
       "                          company                    salary  \n",
       "0                     AbilTo, Inc                       NaN  \n",
       "1                          Gallup                       NaN  \n",
       "2                           Chegg                       NaN  \n",
       "3                  Brilliant Leap                $800 a day  \n",
       "4  DEPT OF ENVIRONMENT PROTECTION  $47,839 - $70,058 a year  "
      ]
     },
     "execution_count": 7,
     "metadata": {},
     "output_type": "execute_result"
    }
   ],
   "source": [
    "putitalltogether(pre_soup)"
   ]
  },
  {
   "cell_type": "markdown",
   "metadata": {
    "focus": false,
    "id": "34070e89-9521-4b45-90c8-57a6599aac68"
   },
   "source": [
    "Now, to scale up our scraping, we need to accumulate more results. We can do this by examining the URL above.\n",
    "\n",
    "- \"http://www.indeed.com/jobs?q=data+scientist+%2420%2C000&l=New+York&start=10\"\n",
    "\n",
    "There are two query parameters here we can alter to collect more results, the `l=New+York` and the `start=10`. The first controls the location of the results (so we can try a different city). The second controls where in the results to start and gives 10 results (thus, we can keep incrementing by 10 to go further in the list)."
   ]
  },
  {
   "cell_type": "markdown",
   "metadata": {
    "focus": false,
    "id": "e8beed7c-3e42-40c0-810f-5f67f8f885a0"
   },
   "source": [
    "#### Complete the following code to collect results from multiple cities and starting points. \n",
    "- Enter your city below to add it to the search\n",
    "- Remember to convert your salary to U.S. Dollars to match the other cities if the currency is different"
   ]
  },
  {
   "cell_type": "markdown",
   "metadata": {
    "collapsed": true,
    "focus": false,
    "id": "a9aa87ec-3575-4a01-a986-eb684f2c47d0"
   },
   "source": [
    "Let's scrape Indeed.com 'Data Scientist' job listings in the top 25 most populous cities in the United States (https://en.wikipedia.org/wiki/List_of_United_States_cities_by_population).  Let's also increase maximum number of search results per city to 1000."
   ]
  },
  {
   "cell_type": "code",
   "execution_count": null,
   "metadata": {
    "collapsed": true,
    "focus": false,
    "id": "04b0f9af-540e-402f-8292-81748707c676"
   },
   "outputs": [],
   "source": [
    "url_template = ['http://www.indeed.com/jobs?q=data+scientist&l=', '&start=']\n",
    "\n",
    "max_results_per_city = 1000\n",
    "\n",
    "##### Create empty dataframe with the columns we want; concatenate to it the new one generated for each city\n",
    "df = pd.DataFrame(columns=['title', 'location', 'company', 'salary', 'city', 'state'])\n",
    "\n",
    "for city in set(['New+York,+NY', 'Los+Angeles,+CA', 'Chicago,+IL', 'Houston,+TX', 'Philadelphia,+PA', 'Phoenix,+AZ', \\\n",
    "'San+Antonio,+TX', 'San+Diego,+CA', 'Dallas,+TX', 'San+Jose,+CA', 'Austin,+TX', 'Jacksonville,+FL', 'San+Francisco,+CA',\\\n",
    "'Indianapolis,+IN', 'Columbus,+OH', 'Fort+Worth,+TX', 'Charlotte,+NC', 'Seattle,+WA', 'Denver,+CO', 'El+Paso,+TX', \\\n",
    "'Detroit,+MI', 'Washington,+DC', 'Boston,+MA', 'Memphis,+TN', 'Nashville,+TN']):\n",
    "    for start in range(0, max_results_per_city, 10):\n",
    "        # Grab the results from the request (as above)\n",
    "        URL = url_template[0] + city + url_template[1] + str(start)\n",
    "        indeed = requests.get(URL)\n",
    "        soup = BeautifulSoup(indeed.content, \"lxml\")\n",
    "        # Append to the full set of results and \n",
    "        x = putitalltogether(soup)\n",
    "        nice_city = city.split(',')\n",
    "        state = nice_city[1]\n",
    "        state = state.replace('+', '')\n",
    "        nice_city = nice_city[0]\n",
    "        nice_city = nice_city.replace('+', ' ')\n",
    "        x['city'] = nice_city\n",
    "        x['state'] = state\n",
    "        df = pd.concat([x, df], axis = 0)          "
   ]
  },
  {
   "cell_type": "markdown",
   "metadata": {},
   "source": [
    "The cell below loads .csv file of a scrape done using code above ^"
   ]
  },
  {
   "cell_type": "code",
   "execution_count": 9,
   "metadata": {
    "collapsed": false
   },
   "outputs": [],
   "source": [
    "df = pd.read_csv('/Users/Rebecca/DSI-projects/projects/project-04/starter-code/IndeedSalaryData2_rough.csv')"
   ]
  },
  {
   "cell_type": "code",
   "execution_count": 10,
   "metadata": {
    "collapsed": false
   },
   "outputs": [
    {
     "data": {
      "text/html": [
       "<div>\n",
       "<table border=\"1\" class=\"dataframe\">\n",
       "  <thead>\n",
       "    <tr style=\"text-align: right;\">\n",
       "      <th></th>\n",
       "      <th>Unnamed: 0</th>\n",
       "      <th>title</th>\n",
       "      <th>location</th>\n",
       "      <th>company</th>\n",
       "      <th>salary</th>\n",
       "      <th>city</th>\n",
       "      <th>state</th>\n",
       "    </tr>\n",
       "  </thead>\n",
       "  <tbody>\n",
       "    <tr>\n",
       "      <th>0</th>\n",
       "      <td>0</td>\n",
       "      <td>Automated Driving Research Scientist – Real-ti...</td>\n",
       "      <td>Dearborn, MI</td>\n",
       "      <td>Ford Motor Company</td>\n",
       "      <td>NaN</td>\n",
       "      <td>Detroit</td>\n",
       "      <td>MI</td>\n",
       "    </tr>\n",
       "  </tbody>\n",
       "</table>\n",
       "</div>"
      ],
      "text/plain": [
       "   Unnamed: 0                                              title  \\\n",
       "0           0  Automated Driving Research Scientist – Real-ti...   \n",
       "\n",
       "       location             company salary     city state  \n",
       "0  Dearborn, MI  Ford Motor Company    NaN  Detroit    MI  "
      ]
     },
     "execution_count": 10,
     "metadata": {},
     "output_type": "execute_result"
    }
   ],
   "source": [
    "df.head(1)"
   ]
  },
  {
   "cell_type": "code",
   "execution_count": 11,
   "metadata": {
    "collapsed": false
   },
   "outputs": [],
   "source": [
    "df['salary'] = df['salary'].apply(lambda x: str(x))\n",
    "df['salary'] = df['salary'].apply(lambda x: str(x.replace('nan', 'NaN')))\n",
    "df = df[['title', 'location', 'company', 'salary', 'city', 'state']]"
   ]
  },
  {
   "cell_type": "markdown",
   "metadata": {},
   "source": [
    "Each city's dataframe has its own index which remains unchanged following concatenation, so let's reset the main index now:"
   ]
  },
  {
   "cell_type": "code",
   "execution_count": 12,
   "metadata": {
    "collapsed": false
   },
   "outputs": [
    {
     "data": {
      "text/html": [
       "<div>\n",
       "<table border=\"1\" class=\"dataframe\">\n",
       "  <thead>\n",
       "    <tr style=\"text-align: right;\">\n",
       "      <th></th>\n",
       "      <th>title</th>\n",
       "      <th>location</th>\n",
       "      <th>company</th>\n",
       "      <th>salary</th>\n",
       "      <th>city</th>\n",
       "      <th>state</th>\n",
       "    </tr>\n",
       "  </thead>\n",
       "  <tbody>\n",
       "    <tr>\n",
       "      <th>0</th>\n",
       "      <td>Automated Driving Research Scientist – Real-ti...</td>\n",
       "      <td>Dearborn, MI</td>\n",
       "      <td>Ford Motor Company</td>\n",
       "      <td>NaN</td>\n",
       "      <td>Detroit</td>\n",
       "      <td>MI</td>\n",
       "    </tr>\n",
       "  </tbody>\n",
       "</table>\n",
       "</div>"
      ],
      "text/plain": [
       "                                               title      location  \\\n",
       "0  Automated Driving Research Scientist – Real-ti...  Dearborn, MI   \n",
       "\n",
       "              company salary     city state  \n",
       "0  Ford Motor Company    NaN  Detroit    MI  "
      ]
     },
     "execution_count": 12,
     "metadata": {},
     "output_type": "execute_result"
    }
   ],
   "source": [
    "df = df.reset_index(drop = True)\n",
    "df.head(1)"
   ]
  },
  {
   "cell_type": "markdown",
   "metadata": {},
   "source": [
    "Of the maximum number of observations we could have received from this scrape, what percentage did we actually get?"
   ]
  },
  {
   "cell_type": "code",
   "execution_count": 13,
   "metadata": {
    "collapsed": false
   },
   "outputs": [
    {
     "data": {
      "text/plain": [
       "0.4159151441521424"
      ]
     },
     "execution_count": 13,
     "metadata": {},
     "output_type": "execute_result"
    }
   ],
   "source": [
    "float(len(df)) / (25*1000 + len(df))"
   ]
  },
  {
   "cell_type": "code",
   "execution_count": 14,
   "metadata": {
    "collapsed": false
   },
   "outputs": [
    {
     "data": {
      "text/plain": [
       "title       object\n",
       "location    object\n",
       "company     object\n",
       "salary      object\n",
       "city        object\n",
       "state       object\n",
       "dtype: object"
      ]
     },
     "execution_count": 14,
     "metadata": {},
     "output_type": "execute_result"
    }
   ],
   "source": [
    "df.dtypes"
   ]
  },
  {
   "cell_type": "code",
   "execution_count": 15,
   "metadata": {
    "collapsed": true
   },
   "outputs": [],
   "source": [
    "df.to_csv('IndeedSalaryData2_rough.csv', encoding='utf-8')"
   ]
  },
  {
   "cell_type": "markdown",
   "metadata": {
    "focus": false,
    "id": "ff98ce64-78a7-441f-a675-63464e32c834"
   },
   "source": [
    "Lastly, we need to clean up salary data. \n",
    "1. Some of the salaries are not yearly but hourly, these will be useful to us for now\n",
    "2. The salaries are given as text and usually with ranges.\n",
    "\n",
    "#### Filter out the salaries that are not yearly (filter those that refer to hour)"
   ]
  },
  {
   "cell_type": "code",
   "execution_count": 16,
   "metadata": {
    "collapsed": false,
    "scrolled": true
   },
   "outputs": [
    {
     "name": "stdout",
     "output_type": "stream",
     "text": [
      "Total number of listings: 17802\n",
      "Listings with non-'NaN' salary entries: 492\n",
      "Percentage with non-'NaN' salary entries: 0.0276373441186\n"
     ]
    }
   ],
   "source": [
    "print 'Total number of listings: %s' %len(df) \n",
    "print 'Listings with non-\\'NaN\\' salary entries: %s' %len(df[df['salary'] != 'NaN'])\n",
    "print 'Percentage with non-\\'NaN\\' salary entries: %s' %(float(len(df[df['salary'] != 'NaN']))/len(df))"
   ]
  },
  {
   "cell_type": "code",
   "execution_count": 17,
   "metadata": {
    "collapsed": false
   },
   "outputs": [
    {
     "name": "stdout",
     "output_type": "stream",
     "text": [
      "Of all salary entries:\n",
      "\n",
      "\n",
      "264 are per month;\n",
      "2 are per week;\n",
      "19 are per hour;\n",
      "3 are per day.\n",
      "\n",
      "\n",
      "Delete all of these.\n"
     ]
    }
   ],
   "source": [
    "print 'Of all salary entries:'\n",
    "print '\\n'\n",
    "print '%s are per month;' %len(df[df['salary'].str.contains('month')]) \n",
    "print '%s are per week;' %len(df[df['salary'].str.contains('week')])\n",
    "print '%s are per hour;' %len(df[df['salary'].str.contains('hour')])\n",
    "print '%s are per day.' %len(df[df['salary'].str.contains('day')])\n",
    "print '\\n'\n",
    "print 'Delete all of these.'"
   ]
  },
  {
   "cell_type": "code",
   "execution_count": 18,
   "metadata": {
    "collapsed": false
   },
   "outputs": [],
   "source": [
    "df = df[df['salary'].str.contains('month') == False]\n",
    "df = df[df['salary'].str.contains('week') == False]\n",
    "df = df[df['salary'].str.contains('hour') == False]\n",
    "df = df[df['salary'].str.contains('day') == False]"
   ]
  },
  {
   "cell_type": "code",
   "execution_count": 19,
   "metadata": {
    "collapsed": false
   },
   "outputs": [
    {
     "name": "stdout",
     "output_type": "stream",
     "text": [
      "Of 204 non-'NaN' salary entries, 204 are explicitly labeled as yearly.\n"
     ]
    }
   ],
   "source": [
    "print 'Of %s' %len(df[df['salary'] != 'NaN']) +' non-\\'NaN\\' salary entries, %s' \\\n",
    "%len(df[df['salary'].str.contains('year')]) +' are explicitly labeled as yearly.'"
   ]
  },
  {
   "cell_type": "markdown",
   "metadata": {},
   "source": [
    "This cell prints any remaining non-'NaN' salary entries which are not explicitly labeled as yearly:"
   ]
  },
  {
   "cell_type": "code",
   "execution_count": 20,
   "metadata": {
    "collapsed": false
   },
   "outputs": [
    {
     "name": "stdout",
     "output_type": "stream",
     "text": [
      "(None)\n"
     ]
    }
   ],
   "source": [
    "if (-len(df[df['salary'].str.contains('year')]) + (len(df[df['salary'] != 'NaN']))) != 0:\n",
    "    print 'The %s' %(-len(df[df['salary'].str.contains('year')]) + (len(df[df['salary'] != 'NaN']))) +' which are not \\\n",
    "explicitly labeled as yearly salaries are the following:'\n",
    "    print df[(df['salary'] != 'NaN') & (df['salary'].str.contains('year') == False)]\n",
    "else:\n",
    "    print '(None)'"
   ]
  },
  {
   "cell_type": "markdown",
   "metadata": {},
   "source": [
    "How many data types are represented in the column entries for df['salary']?  These will need to get parsed and changed to float type."
   ]
  },
  {
   "cell_type": "code",
   "execution_count": 21,
   "metadata": {
    "collapsed": false
   },
   "outputs": [],
   "source": [
    "def num_cat(x):\n",
    "    '''This function returns a set containing all data types contained in the argument provided.'''\n",
    "    cat_list = []\n",
    "    for i in x:\n",
    "        cat_list.append(type(i))\n",
    "    return set(cat_list)"
   ]
  },
  {
   "cell_type": "code",
   "execution_count": 22,
   "metadata": {
    "collapsed": false
   },
   "outputs": [
    {
     "data": {
      "text/plain": [
       "{str}"
      ]
     },
     "execution_count": 22,
     "metadata": {},
     "output_type": "execute_result"
    }
   ],
   "source": [
    "num_cat(df['salary'])"
   ]
  },
  {
   "cell_type": "markdown",
   "metadata": {
    "focus": false,
    "id": "7d4bc860-b214-4f75-9cd0-b234830b1ec2"
   },
   "source": [
    "#### Write a function that takes a salary string and converts it to a number, averaging a salary range if necessary"
   ]
  },
  {
   "cell_type": "code",
   "execution_count": 23,
   "metadata": {
    "collapsed": true,
    "focus": false,
    "id": "a0f701e0-80bd-40ba-9101-4535860c0968"
   },
   "outputs": [],
   "source": [
    "def parse_salary(df):\n",
    "    '''This function takes a dataframe argument containing a column 'salary' and creates a new column, \\\n",
    "    'parsed_salary', with corresponding float entries (which are the average of a range, if and when provided).'''\n",
    "    parsed_salary = []\n",
    "    for i in df['salary']:\n",
    "        if i == 'NaN':\n",
    "            parsed_salary.append(i)\n",
    "        elif i != 'NaN':\n",
    "            x = str(i)\n",
    "            if '-' in x:\n",
    "                x = x.split('-')\n",
    "                x[0] = x[0].replace('$', '')\n",
    "                x[0] = x[0].replace(',', '')\n",
    "                x[0] = x[0].replace(' ', '')\n",
    "                x[1] = x[1].replace('$', '')\n",
    "                x[1] = x[1].replace(',', '')\n",
    "                x2 = x[1].split(' ')\n",
    "                x[1] = x2[1]\n",
    "                new_x = (float(x[0]) + float(x[1]))/2\n",
    "                parsed_salary.append(new_x)   \n",
    "            elif '$' in x:\n",
    "                z = x.split(' ')\n",
    "                z = z[0]\n",
    "                z = z.replace('$', '')\n",
    "                z = z.replace(',', '')\n",
    "                parsed_salary.append(float(z))\n",
    "            else:\n",
    "                parsed_salary.append('delete_me')\n",
    "    df['parsed_salary'] = parsed_salary\n",
    "    df = df[df['parsed_salary'].str.contains('delete_me') == False]\n",
    "    return "
   ]
  },
  {
   "cell_type": "markdown",
   "metadata": {},
   "source": [
    "Examine modified dataframe to ensure 'city', 'state', and 'parsed_salary' columns appear:"
   ]
  },
  {
   "cell_type": "code",
   "execution_count": 24,
   "metadata": {
    "collapsed": false
   },
   "outputs": [
    {
     "data": {
      "text/html": [
       "<div>\n",
       "<table border=\"1\" class=\"dataframe\">\n",
       "  <thead>\n",
       "    <tr style=\"text-align: right;\">\n",
       "      <th></th>\n",
       "      <th>title</th>\n",
       "      <th>location</th>\n",
       "      <th>company</th>\n",
       "      <th>salary</th>\n",
       "      <th>city</th>\n",
       "      <th>state</th>\n",
       "      <th>parsed_salary</th>\n",
       "    </tr>\n",
       "  </thead>\n",
       "  <tbody>\n",
       "    <tr>\n",
       "      <th>0</th>\n",
       "      <td>Automated Driving Research Scientist – Real-ti...</td>\n",
       "      <td>Dearborn, MI</td>\n",
       "      <td>Ford Motor Company</td>\n",
       "      <td>NaN</td>\n",
       "      <td>Detroit</td>\n",
       "      <td>MI</td>\n",
       "      <td>NaN</td>\n",
       "    </tr>\n",
       "    <tr>\n",
       "      <th>1</th>\n",
       "      <td>Data Scientist</td>\n",
       "      <td>Dearborn, MI</td>\n",
       "      <td>Ciber</td>\n",
       "      <td>NaN</td>\n",
       "      <td>Detroit</td>\n",
       "      <td>MI</td>\n",
       "      <td>NaN</td>\n",
       "    </tr>\n",
       "    <tr>\n",
       "      <th>2</th>\n",
       "      <td>Data Scientist Engineer</td>\n",
       "      <td>Farmington Hills, MI</td>\n",
       "      <td>Mango Languages</td>\n",
       "      <td>NaN</td>\n",
       "      <td>Detroit</td>\n",
       "      <td>MI</td>\n",
       "      <td>NaN</td>\n",
       "    </tr>\n",
       "    <tr>\n",
       "      <th>3</th>\n",
       "      <td>Data Analytical Scientist</td>\n",
       "      <td>Detroit, MI</td>\n",
       "      <td>St John Hospital &amp; Medical Center</td>\n",
       "      <td>NaN</td>\n",
       "      <td>Detroit</td>\n",
       "      <td>MI</td>\n",
       "      <td>NaN</td>\n",
       "    </tr>\n",
       "    <tr>\n",
       "      <th>4</th>\n",
       "      <td>Descriptive Analytics - Data Scientist</td>\n",
       "      <td>Detroit, MI</td>\n",
       "      <td>St John Hospital &amp; Medical Center</td>\n",
       "      <td>NaN</td>\n",
       "      <td>Detroit</td>\n",
       "      <td>MI</td>\n",
       "      <td>NaN</td>\n",
       "    </tr>\n",
       "  </tbody>\n",
       "</table>\n",
       "</div>"
      ],
      "text/plain": [
       "                                               title              location  \\\n",
       "0  Automated Driving Research Scientist – Real-ti...          Dearborn, MI   \n",
       "1                                     Data Scientist          Dearborn, MI   \n",
       "2                            Data Scientist Engineer  Farmington Hills, MI   \n",
       "3                          Data Analytical Scientist           Detroit, MI   \n",
       "4             Descriptive Analytics - Data Scientist           Detroit, MI   \n",
       "\n",
       "                             company salary     city state parsed_salary  \n",
       "0                 Ford Motor Company    NaN  Detroit    MI           NaN  \n",
       "1                              Ciber    NaN  Detroit    MI           NaN  \n",
       "2                    Mango Languages    NaN  Detroit    MI           NaN  \n",
       "3  St John Hospital & Medical Center    NaN  Detroit    MI           NaN  \n",
       "4  St John Hospital & Medical Center    NaN  Detroit    MI           NaN  "
      ]
     },
     "execution_count": 24,
     "metadata": {},
     "output_type": "execute_result"
    }
   ],
   "source": [
    "parse_salary(df)\n",
    "df.head()"
   ]
  },
  {
   "cell_type": "markdown",
   "metadata": {},
   "source": [
    "See what non-'NaN' 'parsed_salary' entries look like:"
   ]
  },
  {
   "cell_type": "code",
   "execution_count": 25,
   "metadata": {
    "collapsed": false,
    "scrolled": true
   },
   "outputs": [
    {
     "data": {
      "text/html": [
       "<div>\n",
       "<table border=\"1\" class=\"dataframe\">\n",
       "  <thead>\n",
       "    <tr style=\"text-align: right;\">\n",
       "      <th></th>\n",
       "      <th>title</th>\n",
       "      <th>location</th>\n",
       "      <th>company</th>\n",
       "      <th>salary</th>\n",
       "      <th>city</th>\n",
       "      <th>state</th>\n",
       "      <th>parsed_salary</th>\n",
       "    </tr>\n",
       "  </thead>\n",
       "  <tbody>\n",
       "    <tr>\n",
       "      <th>612</th>\n",
       "      <td>Data Scientist – Predictive Analytics</td>\n",
       "      <td>Waltham, MA</td>\n",
       "      <td>Jobspring Partners</td>\n",
       "      <td>$120,000 - $150,000 a year</td>\n",
       "      <td>Boston</td>\n",
       "      <td>MA</td>\n",
       "      <td>135000</td>\n",
       "    </tr>\n",
       "    <tr>\n",
       "      <th>637</th>\n",
       "      <td>Data Scientist, Machine Learning Engineer</td>\n",
       "      <td>Cambridge, MA 02141 (East Cambridge area)</td>\n",
       "      <td>Bivium Group</td>\n",
       "      <td>$100,000 - $150,000 a year</td>\n",
       "      <td>Boston</td>\n",
       "      <td>MA</td>\n",
       "      <td>125000</td>\n",
       "    </tr>\n",
       "    <tr>\n",
       "      <th>642</th>\n",
       "      <td>Data Scientist, Machine Learning Engineer</td>\n",
       "      <td>Boston, MA 02116 (South End area)</td>\n",
       "      <td>Fanning Personnel</td>\n",
       "      <td>$80,000 - $125,000 a year</td>\n",
       "      <td>Boston</td>\n",
       "      <td>MA</td>\n",
       "      <td>102500</td>\n",
       "    </tr>\n",
       "    <tr>\n",
       "      <th>690</th>\n",
       "      <td>Data Scientist – Predictive Analytics</td>\n",
       "      <td>Burlington, MA</td>\n",
       "      <td>Workbridge Associates</td>\n",
       "      <td>$100,000 - $145,000 a year</td>\n",
       "      <td>Boston</td>\n",
       "      <td>MA</td>\n",
       "      <td>122500</td>\n",
       "    </tr>\n",
       "    <tr>\n",
       "      <th>724</th>\n",
       "      <td>Data Scientist – Predictive Analytics</td>\n",
       "      <td>Boston, MA</td>\n",
       "      <td>Workbridge Associates</td>\n",
       "      <td>$65,000 - $85,000 a year</td>\n",
       "      <td>Boston</td>\n",
       "      <td>MA</td>\n",
       "      <td>75000</td>\n",
       "    </tr>\n",
       "  </tbody>\n",
       "</table>\n",
       "</div>"
      ],
      "text/plain": [
       "                                         title  \\\n",
       "612      Data Scientist – Predictive Analytics   \n",
       "637  Data Scientist, Machine Learning Engineer   \n",
       "642  Data Scientist, Machine Learning Engineer   \n",
       "690      Data Scientist – Predictive Analytics   \n",
       "724      Data Scientist – Predictive Analytics   \n",
       "\n",
       "                                      location                company  \\\n",
       "612                                Waltham, MA     Jobspring Partners   \n",
       "637  Cambridge, MA 02141 (East Cambridge area)           Bivium Group   \n",
       "642          Boston, MA 02116 (South End area)      Fanning Personnel   \n",
       "690                             Burlington, MA  Workbridge Associates   \n",
       "724                                 Boston, MA  Workbridge Associates   \n",
       "\n",
       "                         salary    city state parsed_salary  \n",
       "612  $120,000 - $150,000 a year  Boston    MA        135000  \n",
       "637  $100,000 - $150,000 a year  Boston    MA        125000  \n",
       "642   $80,000 - $125,000 a year  Boston    MA        102500  \n",
       "690  $100,000 - $145,000 a year  Boston    MA        122500  \n",
       "724    $65,000 - $85,000 a year  Boston    MA         75000  "
      ]
     },
     "execution_count": 25,
     "metadata": {},
     "output_type": "execute_result"
    }
   ],
   "source": [
    "df[df['parsed_salary'] != 'NaN'].head()"
   ]
  },
  {
   "cell_type": "code",
   "execution_count": 26,
   "metadata": {
    "collapsed": true,
    "focus": false,
    "id": "783fd153-28ac-47ab-bfca-27e7c1de95b4"
   },
   "outputs": [],
   "source": [
    "df.to_csv('IndeedSalaryData2.csv', encoding='utf-8')"
   ]
  },
  {
   "cell_type": "markdown",
   "metadata": {
    "focus": false,
    "id": "04563b69-f7b6-466f-9d65-fc62c9ddee6a"
   },
   "source": [
    "## Predicting salaries using Logistic Regression"
   ]
  },
  {
   "cell_type": "markdown",
   "metadata": {
    "focus": false,
    "id": "243e949e-2742-40af-872e-fec475fd306c"
   },
   "source": [
    "#### Load in the data of scraped salaries"
   ]
  },
  {
   "cell_type": "code",
   "execution_count": 27,
   "metadata": {
    "collapsed": true
   },
   "outputs": [],
   "source": [
    "from matplotlib import pyplot as plt\n",
    "import numpy as np\n",
    "import statsmodels.api as st\n",
    "import re\n",
    "import sklearn\n",
    "from sklearn import linear_model as lm\n",
    "from sklearn import cross_validation, preprocessing\n",
    "import matplotlib.cm as cm\n",
    "from sklearn.metrics import confusion_matrix\n",
    "from sklearn.metrics import roc_curve\n",
    "from sklearn.metrics import roc_auc_score\n",
    "from sklearn.cross_validation import train_test_split\n",
    "from sklearn.metrics import accuracy_score\n",
    "from sklearn.metrics import precision_score\n",
    "from sklearn.metrics import recall_score\n",
    "from sklearn.cross_validation import train_test_split\n",
    "from sklearn.cross_validation import cross_val_predict\n",
    "from sklearn.cross_validation import cross_val_score\n",
    "import matplotlib.patheffects as path_effects\n",
    "from sklearn.metrics import mean_squared_error\n",
    "\n",
    "% matplotlib inline"
   ]
  },
  {
   "cell_type": "code",
   "execution_count": 28,
   "metadata": {
    "collapsed": false,
    "focus": false,
    "id": "588f9845-6143-4bcc-bfd1-85d45b79303d"
   },
   "outputs": [
    {
     "data": {
      "text/html": [
       "<div>\n",
       "<table border=\"1\" class=\"dataframe\">\n",
       "  <thead>\n",
       "    <tr style=\"text-align: right;\">\n",
       "      <th></th>\n",
       "      <th>title</th>\n",
       "      <th>location</th>\n",
       "      <th>company</th>\n",
       "      <th>city</th>\n",
       "      <th>state</th>\n",
       "      <th>parsed_salary</th>\n",
       "    </tr>\n",
       "  </thead>\n",
       "  <tbody>\n",
       "    <tr>\n",
       "      <th>0</th>\n",
       "      <td>Automated Driving Research Scientist – Real-ti...</td>\n",
       "      <td>Dearborn, MI</td>\n",
       "      <td>Ford Motor Company</td>\n",
       "      <td>Detroit</td>\n",
       "      <td>MI</td>\n",
       "      <td>NaN</td>\n",
       "    </tr>\n",
       "  </tbody>\n",
       "</table>\n",
       "</div>"
      ],
      "text/plain": [
       "                                               title      location  \\\n",
       "0  Automated Driving Research Scientist – Real-ti...  Dearborn, MI   \n",
       "\n",
       "              company     city state  parsed_salary  \n",
       "0  Ford Motor Company  Detroit    MI            NaN  "
      ]
     },
     "execution_count": 28,
     "metadata": {},
     "output_type": "execute_result"
    }
   ],
   "source": [
    "df_new = pd.read_csv('/Users/Rebecca/DSI-projects/projects/project-04/starter-code/IndeedSalaryData2.csv')\n",
    "df_new = df_new[['title', 'location', 'company', 'city', 'state', 'parsed_salary']]\n",
    "df_new.head(1)"
   ]
  },
  {
   "cell_type": "code",
   "execution_count": 29,
   "metadata": {
    "collapsed": false
   },
   "outputs": [
    {
     "data": {
      "text/plain": [
       "title             object\n",
       "location          object\n",
       "company           object\n",
       "city              object\n",
       "state             object\n",
       "parsed_salary    float64\n",
       "dtype: object"
      ]
     },
     "execution_count": 29,
     "metadata": {},
     "output_type": "execute_result"
    }
   ],
   "source": [
    "df_new.dtypes"
   ]
  },
  {
   "cell_type": "markdown",
   "metadata": {},
   "source": [
    "Create a new dataframe which contains only observations whose 'parsed_salary' entries are numerical:"
   ]
  },
  {
   "cell_type": "code",
   "execution_count": 30,
   "metadata": {
    "collapsed": false
   },
   "outputs": [
    {
     "name": "stdout",
     "output_type": "stream",
     "text": [
      "204\n"
     ]
    },
    {
     "data": {
      "text/html": [
       "<div>\n",
       "<table border=\"1\" class=\"dataframe\">\n",
       "  <thead>\n",
       "    <tr style=\"text-align: right;\">\n",
       "      <th></th>\n",
       "      <th>title</th>\n",
       "      <th>location</th>\n",
       "      <th>company</th>\n",
       "      <th>city</th>\n",
       "      <th>state</th>\n",
       "      <th>parsed_salary</th>\n",
       "    </tr>\n",
       "  </thead>\n",
       "  <tbody>\n",
       "    <tr>\n",
       "      <th>0</th>\n",
       "      <td>Data Scientist – Predictive Analytics</td>\n",
       "      <td>Waltham, MA</td>\n",
       "      <td>Jobspring Partners</td>\n",
       "      <td>Boston</td>\n",
       "      <td>MA</td>\n",
       "      <td>135000.0</td>\n",
       "    </tr>\n",
       "  </tbody>\n",
       "</table>\n",
       "</div>"
      ],
      "text/plain": [
       "                                   title     location             company  \\\n",
       "0  Data Scientist – Predictive Analytics  Waltham, MA  Jobspring Partners   \n",
       "\n",
       "     city state  parsed_salary  \n",
       "0  Boston    MA       135000.0  "
      ]
     },
     "execution_count": 30,
     "metadata": {},
     "output_type": "execute_result"
    }
   ],
   "source": [
    "#sal_df = df_new[df_new['parsed_salary'] != 'NaN']\n",
    "sal_df = df_new[df_new['parsed_salary'] >= 0]\n",
    "sal_df = sal_df.reset_index(drop = True)\n",
    "print len(sal_df)\n",
    "sal_df.head(1)"
   ]
  },
  {
   "cell_type": "code",
   "execution_count": 31,
   "metadata": {
    "collapsed": false
   },
   "outputs": [
    {
     "data": {
      "image/png": "[encoded data removed]",
      "text/plain": [
       "<matplotlib.figure.Figure at 0x11b46d150>"
      ]
     },
     "metadata": {},
     "output_type": "display_data"
    }
   ],
   "source": [
    "plt.figure(figsize=(12,8))\n",
    "plt.style.use('fivethirtyeight')\n",
    "\n",
    "states = sal_df['state'].value_counts()\n",
    "\n",
    "states.plot.bar()\n",
    "\n",
    "plt.axhline(0, color='darkblue')\n",
    "\n",
    "plt.title('Indeed.com \\'Data Scientist\\' Salary Listings by State', fontsize = 22)\n",
    "\n",
    "# y label\n",
    "plt.ylabel('Number of Listings')\n",
    "\n",
    "#ax.get_xaxis().get_major_formatter().set_useOffset(False)\n",
    "# x label\n",
    "plt.xlabel('State')\n",
    "\n",
    "#plt.legend(loc='upper right', fontsize = 15)\n",
    "\n",
    "plt.show()"
   ]
  },
  {
   "cell_type": "code",
   "execution_count": 32,
   "metadata": {
    "collapsed": false
   },
   "outputs": [
    {
     "data": {
      "image/png": "[encoded data removed]",
      "text/plain": [
       "<matplotlib.figure.Figure at 0x11b46d690>"
      ]
     },
     "metadata": {},
     "output_type": "display_data"
    }
   ],
   "source": [
    "plt.figure(figsize=(12,8))\n",
    "plt.style.use('fivethirtyeight')\n",
    "\n",
    "cities = sal_df['city'].value_counts()\n",
    "\n",
    "cities.plot.bar()\n",
    "\n",
    "plt.axhline(0, color='darkblue')\n",
    "\n",
    "plt.title('Indeed.com \\'Data Scientist\\' Salary Listings by City', fontsize = 22)\n",
    "\n",
    "# y label\n",
    "plt.ylabel('Number of Listings')\n",
    "\n",
    "#ax.get_xaxis().get_major_formatter().set_useOffset(False)\n",
    "# x label\n",
    "plt.xlabel('City')\n",
    "\n",
    "#plt.legend(loc='upper right', fontsize = 15)\n",
    "\n",
    "plt.show()"
   ]
  },
  {
   "cell_type": "markdown",
   "metadata": {},
   "source": [
    "Wow!  What's going on in Houston?  Let's see:"
   ]
  },
  {
   "cell_type": "code",
   "execution_count": 33,
   "metadata": {
    "collapsed": false
   },
   "outputs": [
    {
     "data": {
      "text/html": [
       "<div>\n",
       "<table border=\"1\" class=\"dataframe\">\n",
       "  <thead>\n",
       "    <tr style=\"text-align: right;\">\n",
       "      <th></th>\n",
       "      <th>title</th>\n",
       "      <th>location</th>\n",
       "      <th>company</th>\n",
       "      <th>city</th>\n",
       "      <th>state</th>\n",
       "      <th>parsed_salary</th>\n",
       "    </tr>\n",
       "  </thead>\n",
       "  <tbody>\n",
       "    <tr>\n",
       "      <th>69</th>\n",
       "      <td>Software Development Engineer – New AWS Machin...</td>\n",
       "      <td>Houston, TX 77042 (West Houston area)</td>\n",
       "      <td>Burnett Specialists</td>\n",
       "      <td>Houston</td>\n",
       "      <td>TX</td>\n",
       "      <td>77500.0</td>\n",
       "    </tr>\n",
       "    <tr>\n",
       "      <th>70</th>\n",
       "      <td>Project Associate</td>\n",
       "      <td>Houston, TX 77042 (West Houston area)</td>\n",
       "      <td>Burnett Specialists</td>\n",
       "      <td>Houston</td>\n",
       "      <td>TX</td>\n",
       "      <td>77500.0</td>\n",
       "    </tr>\n",
       "    <tr>\n",
       "      <th>71</th>\n",
       "      <td>Software Development Engineer – New AWS Machin...</td>\n",
       "      <td>Houston, TX 77042 (West Houston area)</td>\n",
       "      <td>Burnett Specialists</td>\n",
       "      <td>Houston</td>\n",
       "      <td>TX</td>\n",
       "      <td>77500.0</td>\n",
       "    </tr>\n",
       "    <tr>\n",
       "      <th>72</th>\n",
       "      <td>Software Development Engineer – New AWS Machin...</td>\n",
       "      <td>Houston, TX 77042 (West Houston area)</td>\n",
       "      <td>Burnett Specialists</td>\n",
       "      <td>Houston</td>\n",
       "      <td>TX</td>\n",
       "      <td>77500.0</td>\n",
       "    </tr>\n",
       "    <tr>\n",
       "      <th>73</th>\n",
       "      <td>Software Development Engineer – New AWS Machin...</td>\n",
       "      <td>Houston, TX 77042 (West Houston area)</td>\n",
       "      <td>Burnett Specialists</td>\n",
       "      <td>Houston</td>\n",
       "      <td>TX</td>\n",
       "      <td>77500.0</td>\n",
       "    </tr>\n",
       "  </tbody>\n",
       "</table>\n",
       "</div>"
      ],
      "text/plain": [
       "                                                title  \\\n",
       "69  Software Development Engineer – New AWS Machin...   \n",
       "70                                  Project Associate   \n",
       "71  Software Development Engineer – New AWS Machin...   \n",
       "72  Software Development Engineer – New AWS Machin...   \n",
       "73  Software Development Engineer – New AWS Machin...   \n",
       "\n",
       "                                 location              company     city state  \\\n",
       "69  Houston, TX 77042 (West Houston area)  Burnett Specialists  Houston    TX   \n",
       "70  Houston, TX 77042 (West Houston area)  Burnett Specialists  Houston    TX   \n",
       "71  Houston, TX 77042 (West Houston area)  Burnett Specialists  Houston    TX   \n",
       "72  Houston, TX 77042 (West Houston area)  Burnett Specialists  Houston    TX   \n",
       "73  Houston, TX 77042 (West Houston area)  Burnett Specialists  Houston    TX   \n",
       "\n",
       "    parsed_salary  \n",
       "69        77500.0  \n",
       "70        77500.0  \n",
       "71        77500.0  \n",
       "72        77500.0  \n",
       "73        77500.0  "
      ]
     },
     "execution_count": 33,
     "metadata": {},
     "output_type": "execute_result"
    }
   ],
   "source": [
    "sal_df[sal_df['city'] == 'Houston'].head()"
   ]
  },
  {
   "cell_type": "code",
   "execution_count": 34,
   "metadata": {
    "collapsed": false
   },
   "outputs": [
    {
     "data": {
      "text/plain": [
       "74"
      ]
     },
     "execution_count": 34,
     "metadata": {},
     "output_type": "execute_result"
    }
   ],
   "source": [
    "len(sal_df[sal_df['company'] == 'Burnett Specialists'])"
   ]
  },
  {
   "cell_type": "markdown",
   "metadata": {},
   "source": [
    "Looks like 'Burnett Specialists' is a recruiting agency; let's get rid of those observations since salary data is the same for all 74 of them and is obviously going to skew our median salary.  Then, let's investigate what the parsed salaries look like:"
   ]
  },
  {
   "cell_type": "code",
   "execution_count": 35,
   "metadata": {
    "collapsed": true
   },
   "outputs": [],
   "source": [
    "sal_df = sal_df[sal_df['company'] != 'Burnett Specialists']"
   ]
  },
  {
   "cell_type": "code",
   "execution_count": 36,
   "metadata": {
    "collapsed": false
   },
   "outputs": [
    {
     "name": "stdout",
     "output_type": "stream",
     "text": [
      "The minimum salary listed is 15000.0\n"
     ]
    },
    {
     "data": {
      "text/html": [
       "<div>\n",
       "<table border=\"1\" class=\"dataframe\">\n",
       "  <thead>\n",
       "    <tr style=\"text-align: right;\">\n",
       "      <th></th>\n",
       "      <th>title</th>\n",
       "      <th>location</th>\n",
       "      <th>company</th>\n",
       "      <th>city</th>\n",
       "      <th>state</th>\n",
       "      <th>parsed_salary</th>\n",
       "    </tr>\n",
       "  </thead>\n",
       "  <tbody>\n",
       "    <tr>\n",
       "      <th>183</th>\n",
       "      <td>Data Scientist – Predictive Analytics</td>\n",
       "      <td>Falls Church, VA</td>\n",
       "      <td>Smith Arnold Partners</td>\n",
       "      <td>Washington</td>\n",
       "      <td>DC</td>\n",
       "      <td>15000.0</td>\n",
       "    </tr>\n",
       "  </tbody>\n",
       "</table>\n",
       "</div>"
      ],
      "text/plain": [
       "                                     title          location  \\\n",
       "183  Data Scientist – Predictive Analytics  Falls Church, VA   \n",
       "\n",
       "                   company        city state  parsed_salary  \n",
       "183  Smith Arnold Partners  Washington    DC        15000.0  "
      ]
     },
     "execution_count": 36,
     "metadata": {},
     "output_type": "execute_result"
    }
   ],
   "source": [
    "print 'The minimum salary listed is %s' %min(sal_df['parsed_salary'])\n",
    "sal_df[sal_df['parsed_salary'] == min(sal_df['parsed_salary'])]"
   ]
  },
  {
   "cell_type": "code",
   "execution_count": 37,
   "metadata": {
    "collapsed": false
   },
   "outputs": [
    {
     "name": "stdout",
     "output_type": "stream",
     "text": [
      "The maximum salary listed is 250000.0\n"
     ]
    },
    {
     "data": {
      "text/html": [
       "<div>\n",
       "<table border=\"1\" class=\"dataframe\">\n",
       "  <thead>\n",
       "    <tr style=\"text-align: right;\">\n",
       "      <th></th>\n",
       "      <th>title</th>\n",
       "      <th>location</th>\n",
       "      <th>company</th>\n",
       "      <th>city</th>\n",
       "      <th>state</th>\n",
       "      <th>parsed_salary</th>\n",
       "    </tr>\n",
       "  </thead>\n",
       "  <tbody>\n",
       "    <tr>\n",
       "      <th>148</th>\n",
       "      <td>Software Development Engineer, Big Data- Reloc...</td>\n",
       "      <td>Philadelphia, PA</td>\n",
       "      <td>Averity</td>\n",
       "      <td>Philadelphia</td>\n",
       "      <td>PA</td>\n",
       "      <td>250000.0</td>\n",
       "    </tr>\n",
       "  </tbody>\n",
       "</table>\n",
       "</div>"
      ],
      "text/plain": [
       "                                                 title          location  \\\n",
       "148  Software Development Engineer, Big Data- Reloc...  Philadelphia, PA   \n",
       "\n",
       "     company          city state  parsed_salary  \n",
       "148  Averity  Philadelphia    PA       250000.0  "
      ]
     },
     "execution_count": 37,
     "metadata": {},
     "output_type": "execute_result"
    }
   ],
   "source": [
    "print 'The maximum salary listed is %s' %max(sal_df['parsed_salary'])\n",
    "sal_df[sal_df['parsed_salary'] == max(sal_df['parsed_salary'])]"
   ]
  },
  {
   "cell_type": "code",
   "execution_count": 38,
   "metadata": {
    "collapsed": false
   },
   "outputs": [
    {
     "data": {
      "image/png": "[encoded data removed]",
      "text/plain": [
       "<matplotlib.figure.Figure at 0x11dac0850>"
      ]
     },
     "metadata": {},
     "output_type": "display_data"
    }
   ],
   "source": [
    "plt.figure(figsize=(12,8))\n",
    "plt.style.use('fivethirtyeight')\n",
    "\n",
    "df_hist = plt.hist(sal_df['parsed_salary'], color = 'darkred', bins = 20)\n",
    "plt.axvline(sal_df['parsed_salary'].median(), color='b', linestyle='dashed', linewidth=1.5, label = 'median')\n",
    "plt.axvline(sal_df['parsed_salary'].mean(), color='g', linestyle='dashed', linewidth=1.5, label = 'mean')\n",
    "\n",
    "plt.title('Histogram of \\'Data Scientist\\' Salaries, 25 Most-Populous U.S. Cities', fontsize = 20)\n",
    "\n",
    "# y label\n",
    "plt.ylabel('Number of Listings')\n",
    "\n",
    "# x label\n",
    "plt.xlabel('Yearly Salary (USD)')\n",
    "\n",
    "plt.xlim([0, max(sal_df['parsed_salary'])])\n",
    "#plt.ylim([-10, 85])\n",
    "\n",
    "plt.legend(loc='upper right', fontsize = 15)\n",
    "\n",
    "plt.show()"
   ]
  },
  {
   "cell_type": "code",
   "execution_count": 39,
   "metadata": {
    "collapsed": false
   },
   "outputs": [
    {
     "data": {
      "text/plain": [
       "<matplotlib.text.Text at 0x11da8dad0>"
      ]
     },
     "execution_count": 39,
     "metadata": {},
     "output_type": "execute_result"
    },
    {
     "data": {
      "image/png": "[encoded data removed]",
      "text/plain": [
       "<matplotlib.figure.Figure at 0x11da962d0>"
      ]
     },
     "metadata": {},
     "output_type": "display_data"
    }
   ],
   "source": [
    "plt.figure(figsize=(12,8))\n",
    "plt.style.use('fivethirtyeight')\n",
    "\n",
    "states = sal_df['state'].value_counts()\n",
    "\n",
    "states.plot.bar()\n",
    "\n",
    "plt.axhline(0, color='darkblue')\n",
    "\n",
    "plt.title('Indeed.com \\'Data Scientist\\' Salary Listings by State', fontsize = 22)\n",
    "\n",
    "# y label\n",
    "plt.ylabel('Number of Listings')\n",
    "\n",
    "#ax.get_xaxis().get_major_formatter().set_useOffset(False)\n",
    "# x label\n",
    "plt.xlabel('State')\n",
    "\n",
    "#plt.legend(loc='upper right', fontsize = 15)\n",
    "\n",
    "#plt.show()"
   ]
  },
  {
   "cell_type": "code",
   "execution_count": 40,
   "metadata": {
    "collapsed": false
   },
   "outputs": [
    {
     "data": {
      "image/png": "[encoded data removed]",
      "text/plain": [
       "<matplotlib.figure.Figure at 0x11da96f50>"
      ]
     },
     "metadata": {},
     "output_type": "display_data"
    }
   ],
   "source": [
    "plt.figure(figsize=(12,8))\n",
    "plt.style.use('fivethirtyeight')\n",
    "\n",
    "cities = sal_df['city'].value_counts()\n",
    "\n",
    "cities.plot.bar()\n",
    "\n",
    "plt.axhline(0, color='darkblue')\n",
    "\n",
    "plt.title('Indeed.com \\'Data Scientist\\' Salary Listings by City', fontsize = 22)\n",
    "\n",
    "# y label\n",
    "plt.ylabel('Number of Listings')\n",
    "\n",
    "#ax.get_xaxis().get_major_formatter().set_useOffset(False)\n",
    "# x label\n",
    "plt.xlabel('City')\n",
    "\n",
    "#plt.legend(loc='upper right', fontsize = 15)\n",
    "\n",
    "plt.show()"
   ]
  },
  {
   "cell_type": "markdown",
   "metadata": {
    "focus": false,
    "id": "c7631f51-07f2-4c79-a093-3e9bc7849a48"
   },
   "source": [
    "#### We want to predict a binary variable - whether the salary was low or high. Compute the median salary and create a new binary variable that is true when the salary is high (above the median)"
   ]
  },
  {
   "cell_type": "code",
   "execution_count": 41,
   "metadata": {
    "collapsed": false
   },
   "outputs": [
    {
     "data": {
      "text/plain": [
       "title             object\n",
       "location          object\n",
       "company           object\n",
       "city              object\n",
       "state             object\n",
       "parsed_salary    float64\n",
       "dtype: object"
      ]
     },
     "execution_count": 41,
     "metadata": {},
     "output_type": "execute_result"
    }
   ],
   "source": [
    "sal_df.dtypes"
   ]
  },
  {
   "cell_type": "markdown",
   "metadata": {},
   "source": [
    "(If cell below throws an error, uncomment first line and run again.)"
   ]
  },
  {
   "cell_type": "code",
   "execution_count": 42,
   "metadata": {
    "collapsed": false
   },
   "outputs": [
    {
     "data": {
      "text/plain": [
       "count       130.000000\n",
       "mean     118325.550000\n",
       "std       42916.225347\n",
       "min       15000.000000\n",
       "25%       85578.375000\n",
       "50%      120000.000000\n",
       "75%      145000.000000\n",
       "max      250000.000000\n",
       "Name: parsed_salary, dtype: float64"
      ]
     },
     "execution_count": 42,
     "metadata": {},
     "output_type": "execute_result"
    }
   ],
   "source": [
    "#sal_df['parsed_salary'] = sal_df['parsed_salary'].apply(lambda x: float(x))\n",
    "sal_df['parsed_salary'].describe()"
   ]
  },
  {
   "cell_type": "code",
   "execution_count": 43,
   "metadata": {
    "collapsed": false,
    "focus": false,
    "id": "c20d2498-151c-44c3-a453-3a333c79a0ac"
   },
   "outputs": [
    {
     "name": "stdout",
     "output_type": "stream",
     "text": [
      "The median salary is 120000.0.\n"
     ]
    }
   ],
   "source": [
    "median = float(sal_df['parsed_salary'].describe().loc['50%'])\n",
    "print 'The median salary is %s.' %median"
   ]
  },
  {
   "cell_type": "markdown",
   "metadata": {},
   "source": [
    "Create new column of salary dummy variable where 1 is above median and 0 is below median salary:"
   ]
  },
  {
   "cell_type": "code",
   "execution_count": 44,
   "metadata": {
    "collapsed": true
   },
   "outputs": [],
   "source": [
    "def sal_dummify(x):\n",
    "    sal_dummy = []\n",
    "    for i in sal_df['parsed_salary']:\n",
    "        if i > median:\n",
    "            sal_dummy.append(1)\n",
    "        elif i <= median:\n",
    "            sal_dummy.append(0)\n",
    "        # This shouldn't happen, but just in case...\n",
    "        else:\n",
    "            sal_dummy.append('NaN')\n",
    "    x['sal_dummy'] = sal_dummy\n",
    "    return x"
   ]
  },
  {
   "cell_type": "code",
   "execution_count": 45,
   "metadata": {
    "collapsed": false
   },
   "outputs": [
    {
     "data": {
      "text/plain": [
       "0    66\n",
       "1    64\n",
       "Name: sal_dummy, dtype: int64"
      ]
     },
     "execution_count": 45,
     "metadata": {},
     "output_type": "execute_result"
    }
   ],
   "source": [
    "sal_dummify(sal_df)\n",
    "sal_df['sal_dummy'].value_counts()"
   ]
  },
  {
   "cell_type": "code",
   "execution_count": 46,
   "metadata": {
    "collapsed": false
   },
   "outputs": [
    {
     "data": {
      "text/html": [
       "<div>\n",
       "<table border=\"1\" class=\"dataframe\">\n",
       "  <thead>\n",
       "    <tr style=\"text-align: right;\">\n",
       "      <th></th>\n",
       "      <th>title</th>\n",
       "      <th>location</th>\n",
       "      <th>company</th>\n",
       "      <th>city</th>\n",
       "      <th>state</th>\n",
       "      <th>parsed_salary</th>\n",
       "      <th>sal_dummy</th>\n",
       "    </tr>\n",
       "  </thead>\n",
       "  <tbody>\n",
       "    <tr>\n",
       "      <th>0</th>\n",
       "      <td>Data Scientist – Predictive Analytics</td>\n",
       "      <td>Waltham, MA</td>\n",
       "      <td>Jobspring Partners</td>\n",
       "      <td>Boston</td>\n",
       "      <td>MA</td>\n",
       "      <td>135000.0</td>\n",
       "      <td>1</td>\n",
       "    </tr>\n",
       "    <tr>\n",
       "      <th>1</th>\n",
       "      <td>Data Scientist, Machine Learning Engineer</td>\n",
       "      <td>Cambridge, MA 02141 (East Cambridge area)</td>\n",
       "      <td>Bivium Group</td>\n",
       "      <td>Boston</td>\n",
       "      <td>MA</td>\n",
       "      <td>125000.0</td>\n",
       "      <td>1</td>\n",
       "    </tr>\n",
       "  </tbody>\n",
       "</table>\n",
       "</div>"
      ],
      "text/plain": [
       "                                       title  \\\n",
       "0      Data Scientist – Predictive Analytics   \n",
       "1  Data Scientist, Machine Learning Engineer   \n",
       "\n",
       "                                    location             company    city  \\\n",
       "0                                Waltham, MA  Jobspring Partners  Boston   \n",
       "1  Cambridge, MA 02141 (East Cambridge area)        Bivium Group  Boston   \n",
       "\n",
       "  state  parsed_salary  sal_dummy  \n",
       "0    MA       135000.0          1  \n",
       "1    MA       125000.0          1  "
      ]
     },
     "execution_count": 46,
     "metadata": {},
     "output_type": "execute_result"
    }
   ],
   "source": [
    "sal_df.head(2)"
   ]
  },
  {
   "cell_type": "code",
   "execution_count": 47,
   "metadata": {
    "collapsed": false
   },
   "outputs": [
    {
     "name": "stdout",
     "output_type": "stream",
     "text": [
      "There are 20 cities and 14 states represented in the dataframe.\n",
      "\n",
      "\n",
      "There are 25 cities and 16 states represented in the original, scraped data.\n"
     ]
    }
   ],
   "source": [
    "print 'There are %s cities' %len(sal_df['city'].unique()) + ' and %s states represented in the dataframe.'\\\n",
    "%len(sal_df['state'].unique())\n",
    "print '\\n'\n",
    "print 'There are %s cities' %len(df['city'].unique()) + ' and %s states represented in the original, scraped data.'\\\n",
    "%len(df['state'].unique())"
   ]
  },
  {
   "cell_type": "code",
   "execution_count": 48,
   "metadata": {
    "collapsed": false
   },
   "outputs": [
    {
     "data": {
      "text/plain": [
       "CA    32\n",
       "DC    24\n",
       "NY    23\n",
       "TX    13\n",
       "MA    12\n",
       "IL    10\n",
       "WA     5\n",
       "PA     3\n",
       "AZ     2\n",
       "CO     2\n",
       "IN     1\n",
       "TN     1\n",
       "NC     1\n",
       "OH     1\n",
       "Name: state, dtype: int64"
      ]
     },
     "execution_count": 48,
     "metadata": {},
     "output_type": "execute_result"
    }
   ],
   "source": [
    "sal_df['state'].value_counts()"
   ]
  },
  {
   "cell_type": "markdown",
   "metadata": {},
   "source": [
    "Let's add a column for state income tax rate (http://taxfoundation.org/article/state-individual-income-tax-rates-and-brackets-2016):"
   ]
  },
  {
   "cell_type": "code",
   "execution_count": 49,
   "metadata": {
    "collapsed": false
   },
   "outputs": [],
   "source": [
    "tax_dict = {\n",
    "    'TX':0,\n",
    "    'CA':13.3,\n",
    "    'DC':8.95,\n",
    "    'NY':8.82,\n",
    "    'MA':5.1,\n",
    "    'IL':3.75,\n",
    "    'WA':0,\n",
    "    'PA':3.07,\n",
    "    'AZ':4.54,\n",
    "    'CO':4.63,\n",
    "    'IN':3.3,\n",
    "    'TN':6.0,\n",
    "    'NC':5.75,\n",
    "    'OH':4.997\n",
    "}"
   ]
  },
  {
   "cell_type": "code",
   "execution_count": 50,
   "metadata": {
    "collapsed": true
   },
   "outputs": [],
   "source": [
    "sal_df['inc_tax_rate'] = sal_df['state'].map(tax_dict)"
   ]
  },
  {
   "cell_type": "code",
   "execution_count": 51,
   "metadata": {
    "collapsed": false
   },
   "outputs": [
    {
     "data": {
      "text/html": [
       "<div>\n",
       "<table border=\"1\" class=\"dataframe\">\n",
       "  <thead>\n",
       "    <tr style=\"text-align: right;\">\n",
       "      <th></th>\n",
       "      <th>title</th>\n",
       "      <th>location</th>\n",
       "      <th>company</th>\n",
       "      <th>city</th>\n",
       "      <th>state</th>\n",
       "      <th>parsed_salary</th>\n",
       "      <th>sal_dummy</th>\n",
       "      <th>inc_tax_rate</th>\n",
       "    </tr>\n",
       "  </thead>\n",
       "  <tbody>\n",
       "    <tr>\n",
       "      <th>0</th>\n",
       "      <td>Data Scientist – Predictive Analytics</td>\n",
       "      <td>Waltham, MA</td>\n",
       "      <td>Jobspring Partners</td>\n",
       "      <td>Boston</td>\n",
       "      <td>MA</td>\n",
       "      <td>135000.0</td>\n",
       "      <td>1</td>\n",
       "      <td>5.1</td>\n",
       "    </tr>\n",
       "  </tbody>\n",
       "</table>\n",
       "</div>"
      ],
      "text/plain": [
       "                                   title     location             company  \\\n",
       "0  Data Scientist – Predictive Analytics  Waltham, MA  Jobspring Partners   \n",
       "\n",
       "     city state  parsed_salary  sal_dummy  inc_tax_rate  \n",
       "0  Boston    MA       135000.0          1           5.1  "
      ]
     },
     "execution_count": 51,
     "metadata": {},
     "output_type": "execute_result"
    }
   ],
   "source": [
    "sal_df.head(1)"
   ]
  },
  {
   "cell_type": "markdown",
   "metadata": {
    "focus": false,
    "id": "4fb29de2-5b98-474c-a4ad-5170b72b9aea"
   },
   "source": [
    "#### Create a Logistic Regression model to predict High/Low salary using statsmodel. Start by ONLY using the location as a feature. Display the coefficients and write a short summary of what they mean."
   ]
  },
  {
   "cell_type": "markdown",
   "metadata": {},
   "source": [
    "First, do a logistic regression with dummy variables according to cities:"
   ]
  },
  {
   "cell_type": "code",
   "execution_count": 52,
   "metadata": {
    "collapsed": false
   },
   "outputs": [
    {
     "data": {
      "text/plain": [
       "Washington       24\n",
       "New York         23\n",
       "Boston           12\n",
       "Los Angeles      10\n",
       "Chicago          10\n",
       "San Diego         9\n",
       "San Jose          9\n",
       "Dallas            5\n",
       "Seattle           5\n",
       "San Francisco     4\n",
       "Austin            4\n",
       "Houston           3\n",
       "Philadelphia      3\n",
       "Denver            2\n",
       "Phoenix           2\n",
       "Nashville         1\n",
       "Charlotte         1\n",
       "Indianapolis      1\n",
       "Columbus          1\n",
       "San Antonio       1\n",
       "Name: city, dtype: int64"
      ]
     },
     "execution_count": 52,
     "metadata": {},
     "output_type": "execute_result"
    }
   ],
   "source": [
    "sal_df['city'].value_counts()"
   ]
  },
  {
   "cell_type": "code",
   "execution_count": 53,
   "metadata": {
    "collapsed": false,
    "focus": false,
    "id": "ddbc6159-6854-4ca7-857f-bfecdaf6d9c2"
   },
   "outputs": [],
   "source": [
    "X_city = pd.DataFrame(sal_df['city'])\n",
    "X_city['intercept'] = 1\n",
    "X_city = pd.concat([X_city.drop('city',axis=1), pd.get_dummies(X_city['city'])], axis = 1)\n",
    "y = sal_df['sal_dummy']"
   ]
  },
  {
   "cell_type": "markdown",
   "metadata": {},
   "source": [
    "Drop one of the dummy variables (just pick first one on the left):"
   ]
  },
  {
   "cell_type": "code",
   "execution_count": 54,
   "metadata": {
    "collapsed": false
   },
   "outputs": [
    {
     "data": {
      "text/html": [
       "<div>\n",
       "<table border=\"1\" class=\"dataframe\">\n",
       "  <thead>\n",
       "    <tr style=\"text-align: right;\">\n",
       "      <th></th>\n",
       "      <th>intercept</th>\n",
       "      <th>Boston</th>\n",
       "      <th>Charlotte</th>\n",
       "      <th>Chicago</th>\n",
       "      <th>Columbus</th>\n",
       "      <th>Dallas</th>\n",
       "      <th>Denver</th>\n",
       "      <th>Houston</th>\n",
       "      <th>Indianapolis</th>\n",
       "      <th>Los Angeles</th>\n",
       "      <th>Nashville</th>\n",
       "      <th>New York</th>\n",
       "      <th>Philadelphia</th>\n",
       "      <th>Phoenix</th>\n",
       "      <th>San Antonio</th>\n",
       "      <th>San Diego</th>\n",
       "      <th>San Francisco</th>\n",
       "      <th>San Jose</th>\n",
       "      <th>Seattle</th>\n",
       "      <th>Washington</th>\n",
       "    </tr>\n",
       "  </thead>\n",
       "  <tbody>\n",
       "    <tr>\n",
       "      <th>0</th>\n",
       "      <td>1</td>\n",
       "      <td>1.0</td>\n",
       "      <td>0.0</td>\n",
       "      <td>0.0</td>\n",
       "      <td>0.0</td>\n",
       "      <td>0.0</td>\n",
       "      <td>0.0</td>\n",
       "      <td>0.0</td>\n",
       "      <td>0.0</td>\n",
       "      <td>0.0</td>\n",
       "      <td>0.0</td>\n",
       "      <td>0.0</td>\n",
       "      <td>0.0</td>\n",
       "      <td>0.0</td>\n",
       "      <td>0.0</td>\n",
       "      <td>0.0</td>\n",
       "      <td>0.0</td>\n",
       "      <td>0.0</td>\n",
       "      <td>0.0</td>\n",
       "      <td>0.0</td>\n",
       "    </tr>\n",
       "  </tbody>\n",
       "</table>\n",
       "</div>"
      ],
      "text/plain": [
       "   intercept  Boston  Charlotte  Chicago  Columbus  Dallas  Denver  Houston  \\\n",
       "0          1     1.0        0.0      0.0       0.0     0.0     0.0      0.0   \n",
       "\n",
       "   Indianapolis  Los Angeles  Nashville  New York  Philadelphia  Phoenix  \\\n",
       "0           0.0          0.0        0.0       0.0           0.0      0.0   \n",
       "\n",
       "   San Antonio  San Diego  San Francisco  San Jose  Seattle  Washington  \n",
       "0          0.0        0.0            0.0       0.0      0.0         0.0  "
      ]
     },
     "execution_count": 54,
     "metadata": {},
     "output_type": "execute_result"
    }
   ],
   "source": [
    "X_city.drop('Austin', axis=1, inplace=True)\n",
    "X_city.head(1)"
   ]
  },
  {
   "cell_type": "code",
   "execution_count": 55,
   "metadata": {
    "collapsed": false
   },
   "outputs": [],
   "source": [
    "model_city = st.MNLogit(y, X_city)"
   ]
  },
  {
   "cell_type": "code",
   "execution_count": 56,
   "metadata": {
    "collapsed": false
   },
   "outputs": [
    {
     "name": "stdout",
     "output_type": "stream",
     "text": [
      "Warning: Maximum number of iterations has been exceeded.\n",
      "         Current function value: 0.618502\n",
      "         Iterations: 35\n",
      "         Function evaluations: 37\n",
      "         Gradient evaluations: 37\n"
     ]
    },
    {
     "name": "stderr",
     "output_type": "stream",
     "text": [
      "/Users/Rebecca/anaconda/lib/python2.7/site-packages/statsmodels/base/model.py:466: ConvergenceWarning: Maximum Likelihood optimization failed to converge. Check mle_retvals\n",
      "  \"Check mle_retvals\", ConvergenceWarning)\n"
     ]
    }
   ],
   "source": [
    "model_city_fit = model_city.fit(method = 'bfgs')"
   ]
  },
  {
   "cell_type": "code",
   "execution_count": 57,
   "metadata": {
    "collapsed": false
   },
   "outputs": [
    {
     "data": {
      "text/html": [
       "<table class=\"simpletable\">\n",
       "<caption>MNLogit Regression Results</caption>\n",
       "<tr>\n",
       "  <th>Dep. Variable:</th>     <td>sal_dummy</td>    <th>  No. Observations:  </th>  <td>   130</td> \n",
       "</tr>\n",
       "<tr>\n",
       "  <th>Model:</th>              <td>MNLogit</td>     <th>  Df Residuals:      </th>  <td>   110</td> \n",
       "</tr>\n",
       "<tr>\n",
       "  <th>Method:</th>               <td>MLE</td>       <th>  Df Model:          </th>  <td>    19</td> \n",
       "</tr>\n",
       "<tr>\n",
       "  <th>Date:</th>          <td>Mon, 11 Jul 2016</td> <th>  Pseudo R-squ.:     </th>  <td>0.1075</td> \n",
       "</tr>\n",
       "<tr>\n",
       "  <th>Time:</th>              <td>12:02:51</td>     <th>  Log-Likelihood:    </th> <td> -80.405</td>\n",
       "</tr>\n",
       "<tr>\n",
       "  <th>converged:</th>           <td>False</td>      <th>  LL-Null:           </th> <td> -90.094</td>\n",
       "</tr>\n",
       "<tr>\n",
       "  <th> </th>                      <td> </td>        <th>  LLR p-value:       </th>  <td>0.4329</td> \n",
       "</tr>\n",
       "</table>\n",
       "<table class=\"simpletable\">\n",
       "<tr>\n",
       "   <th>sal_dummy=1</th>     <th>coef</th>     <th>std err</th>      <th>z</th>      <th>P>|z|</th> <th>[95.0% Conf. Int.]</th> \n",
       "</tr>\n",
       "<tr>\n",
       "  <th>intercept</th>     <td>   -0.3467</td> <td>    1.015</td> <td>   -0.342</td> <td> 0.733</td> <td>   -2.336     1.643</td>\n",
       "</tr>\n",
       "<tr>\n",
       "  <th>Boston</th>        <td>   -0.1484</td> <td>    1.177</td> <td>   -0.126</td> <td> 0.900</td> <td>   -2.455     2.158</td>\n",
       "</tr>\n",
       "<tr>\n",
       "  <th>Charlotte</th>     <td>    2.8394</td> <td>    3.900</td> <td>    0.728</td> <td> 0.467</td> <td>   -4.804    10.482</td>\n",
       "</tr>\n",
       "<tr>\n",
       "  <th>Chicago</th>       <td>    1.2030</td> <td>    1.228</td> <td>    0.980</td> <td> 0.327</td> <td>   -1.204     3.610</td>\n",
       "</tr>\n",
       "<tr>\n",
       "  <th>Columbus</th>      <td>   -2.5873</td> <td>    4.678</td> <td>   -0.553</td> <td> 0.580</td> <td>  -11.757     6.582</td>\n",
       "</tr>\n",
       "<tr>\n",
       "  <th>Dallas</th>        <td>    0.0518</td> <td>    1.359</td> <td>    0.038</td> <td> 0.970</td> <td>   -2.613     2.716</td>\n",
       "</tr>\n",
       "<tr>\n",
       "  <th>Denver</th>        <td>    0.2852</td> <td>    1.741</td> <td>    0.164</td> <td> 0.870</td> <td>   -3.128     3.698</td>\n",
       "</tr>\n",
       "<tr>\n",
       "  <th>Houston</th>       <td>   -0.7396</td> <td>    1.673</td> <td>   -0.442</td> <td> 0.658</td> <td>   -4.018     2.538</td>\n",
       "</tr>\n",
       "<tr>\n",
       "  <th>Indianapolis</th>  <td>   -2.5873</td> <td>    4.678</td> <td>   -0.553</td> <td> 0.580</td> <td>  -11.757     6.582</td>\n",
       "</tr>\n",
       "<tr>\n",
       "  <th>Los Angeles</th>   <td>   -0.0439</td> <td>    1.202</td> <td>   -0.037</td> <td> 0.971</td> <td>   -2.401     2.313</td>\n",
       "</tr>\n",
       "<tr>\n",
       "  <th>Nashville</th>     <td>    2.8394</td> <td>    3.900</td> <td>    0.728</td> <td> 0.467</td> <td>   -4.804    10.482</td>\n",
       "</tr>\n",
       "<tr>\n",
       "  <th>New York</th>      <td>    0.3276</td> <td>    1.097</td> <td>    0.299</td> <td> 0.765</td> <td>   -1.823     2.478</td>\n",
       "</tr>\n",
       "<tr>\n",
       "  <th>Philadelphia</th>  <td>   -0.7396</td> <td>    1.673</td> <td>   -0.442</td> <td> 0.658</td> <td>   -4.018     2.538</td>\n",
       "</tr>\n",
       "<tr>\n",
       "  <th>Phoenix</th>       <td>   -3.9444</td> <td>    6.210</td> <td>   -0.635</td> <td> 0.525</td> <td>  -16.115     8.226</td>\n",
       "</tr>\n",
       "<tr>\n",
       "  <th>San Antonio</th>   <td>   -2.5873</td> <td>    4.678</td> <td>   -0.553</td> <td> 0.580</td> <td>  -11.757     6.582</td>\n",
       "</tr>\n",
       "<tr>\n",
       "  <th>San Diego</th>     <td>    2.3940</td> <td>    1.459</td> <td>    1.641</td> <td> 0.101</td> <td>   -0.465     5.253</td>\n",
       "</tr>\n",
       "<tr>\n",
       "  <th>San Francisco</th> <td>    1.9136</td> <td>    1.667</td> <td>    1.148</td> <td> 0.251</td> <td>   -1.355     5.182</td>\n",
       "</tr>\n",
       "<tr>\n",
       "  <th>San Jose</th>      <td>    0.2134</td> <td>    1.215</td> <td>    0.176</td> <td> 0.861</td> <td>   -2.168     2.595</td>\n",
       "</tr>\n",
       "<tr>\n",
       "  <th>Seattle</th>       <td>    0.0518</td> <td>    1.359</td> <td>    0.038</td> <td> 0.970</td> <td>   -2.613     2.716</td>\n",
       "</tr>\n",
       "<tr>\n",
       "  <th>Washington</th>    <td>    0.1122</td> <td>    1.095</td> <td>    0.102</td> <td> 0.918</td> <td>   -2.034     2.259</td>\n",
       "</tr>\n",
       "</table>"
      ],
      "text/plain": [
       "<class 'statsmodels.iolib.summary.Summary'>\n",
       "\"\"\"\n",
       "                          MNLogit Regression Results                          \n",
       "==============================================================================\n",
       "Dep. Variable:              sal_dummy   No. Observations:                  130\n",
       "Model:                        MNLogit   Df Residuals:                      110\n",
       "Method:                           MLE   Df Model:                           19\n",
       "Date:                Mon, 11 Jul 2016   Pseudo R-squ.:                  0.1075\n",
       "Time:                        12:02:51   Log-Likelihood:                -80.405\n",
       "converged:                      False   LL-Null:                       -90.094\n",
       "                                        LLR p-value:                    0.4329\n",
       "=================================================================================\n",
       "  sal_dummy=1       coef    std err          z      P>|z|      [95.0% Conf. Int.]\n",
       "---------------------------------------------------------------------------------\n",
       "intercept        -0.3467      1.015     -0.342      0.733        -2.336     1.643\n",
       "Boston           -0.1484      1.177     -0.126      0.900        -2.455     2.158\n",
       "Charlotte         2.8394      3.900      0.728      0.467        -4.804    10.482\n",
       "Chicago           1.2030      1.228      0.980      0.327        -1.204     3.610\n",
       "Columbus         -2.5873      4.678     -0.553      0.580       -11.757     6.582\n",
       "Dallas            0.0518      1.359      0.038      0.970        -2.613     2.716\n",
       "Denver            0.2852      1.741      0.164      0.870        -3.128     3.698\n",
       "Houston          -0.7396      1.673     -0.442      0.658        -4.018     2.538\n",
       "Indianapolis     -2.5873      4.678     -0.553      0.580       -11.757     6.582\n",
       "Los Angeles      -0.0439      1.202     -0.037      0.971        -2.401     2.313\n",
       "Nashville         2.8394      3.900      0.728      0.467        -4.804    10.482\n",
       "New York          0.3276      1.097      0.299      0.765        -1.823     2.478\n",
       "Philadelphia     -0.7396      1.673     -0.442      0.658        -4.018     2.538\n",
       "Phoenix          -3.9444      6.210     -0.635      0.525       -16.115     8.226\n",
       "San Antonio      -2.5873      4.678     -0.553      0.580       -11.757     6.582\n",
       "San Diego         2.3940      1.459      1.641      0.101        -0.465     5.253\n",
       "San Francisco     1.9136      1.667      1.148      0.251        -1.355     5.182\n",
       "San Jose          0.2134      1.215      0.176      0.861        -2.168     2.595\n",
       "Seattle           0.0518      1.359      0.038      0.970        -2.613     2.716\n",
       "Washington        0.1122      1.095      0.102      0.918        -2.034     2.259\n",
       "=================================================================================\n",
       "\"\"\""
      ]
     },
     "execution_count": 57,
     "metadata": {},
     "output_type": "execute_result"
    }
   ],
   "source": [
    "model_city_fit.summary()"
   ]
  },
  {
   "cell_type": "code",
   "execution_count": 58,
   "metadata": {
    "collapsed": false
   },
   "outputs": [
    {
     "name": "stdout",
     "output_type": "stream",
     "text": [
      "AIC: 200.810414044\n",
      "BIC: 258.161103053\n"
     ]
    }
   ],
   "source": [
    "### aic and bic ###\n",
    "print 'AIC: %s' %model_city_fit.aic\n",
    "print 'BIC: %s' %model_city_fit.bic"
   ]
  },
  {
   "cell_type": "code",
   "execution_count": 59,
   "metadata": {
    "collapsed": false
   },
   "outputs": [
    {
     "data": {
      "text/plain": [
       "array(['Boston', 'Los Angeles', 'Charlotte', 'San Diego', 'San Jose',\n",
       "       'Nashville', 'Austin', 'New York', 'Houston', 'Philadelphia',\n",
       "       'Chicago', 'Denver', 'Seattle', 'Indianapolis', 'Phoenix', 'Dallas',\n",
       "       'San Francisco', 'San Antonio', 'Columbus', 'Washington'], dtype=object)"
      ]
     },
     "execution_count": 59,
     "metadata": {},
     "output_type": "execute_result"
    }
   ],
   "source": [
    "lsvc = LinearSVC(C=0.12, penalty=\"l1\", dual=False).fit(X_city, y)\n",
    "model = SelectFromModel(lsvc, prefit=True)\n",
    "X_new = model.transform(X_city)\n",
    "sal_df[X_new == 1]['city'].unique()"
   ]
  },
  {
   "cell_type": "code",
   "execution_count": 60,
   "metadata": {
    "collapsed": false
   },
   "outputs": [
    {
     "data": {
      "text/plain": [
       "array(['San Diego'], dtype=object)"
      ]
     },
     "execution_count": 60,
     "metadata": {},
     "output_type": "execute_result"
    }
   ],
   "source": [
    "lsvc = LinearSVC(C=0.1, penalty=\"l1\", dual=False).fit(X_city, y)\n",
    "model = SelectFromModel(lsvc, prefit=True)\n",
    "X_new = model.transform(X_city)\n",
    "sal_df[X_new == 1]['city'].unique()"
   ]
  },
  {
   "cell_type": "code",
   "execution_count": 61,
   "metadata": {
    "collapsed": false
   },
   "outputs": [
    {
     "data": {
      "text/plain": [
       "10.957235343292794"
      ]
     },
     "execution_count": 61,
     "metadata": {},
     "output_type": "execute_result"
    }
   ],
   "source": [
    "np.exp(2.394)"
   ]
  },
  {
   "cell_type": "markdown",
   "metadata": {},
   "source": [
    "Performing L1-based feature selection on the model cities model, we see that San Diego is the most significant in determining salary status in relation to median salary.  The odds of a salary in San Diego being above median over the odds of a salary in Austin being above median is nearly 11."
   ]
  },
  {
   "cell_type": "code",
   "execution_count": 62,
   "metadata": {
    "collapsed": false
   },
   "outputs": [
    {
     "name": "stdout",
     "output_type": "stream",
     "text": [
      "Optimization terminated successfully.\n",
      "         Current function value: 0.669310\n",
      "         Iterations: 6\n",
      "         Function evaluations: 9\n",
      "         Gradient evaluations: 9\n"
     ]
    },
    {
     "data": {
      "text/html": [
       "<table class=\"simpletable\">\n",
       "<caption>MNLogit Regression Results</caption>\n",
       "<tr>\n",
       "  <th>Dep. Variable:</th>     <td>sal_dummy</td>    <th>  No. Observations:  </th>  <td>   130</td> \n",
       "</tr>\n",
       "<tr>\n",
       "  <th>Model:</th>              <td>MNLogit</td>     <th>  Df Residuals:      </th>  <td>   129</td> \n",
       "</tr>\n",
       "<tr>\n",
       "  <th>Method:</th>               <td>MLE</td>       <th>  Df Model:          </th>  <td>     0</td> \n",
       "</tr>\n",
       "<tr>\n",
       "  <th>Date:</th>          <td>Mon, 11 Jul 2016</td> <th>  Pseudo R-squ.:     </th>  <td>0.03422</td>\n",
       "</tr>\n",
       "<tr>\n",
       "  <th>Time:</th>              <td>12:02:52</td>     <th>  Log-Likelihood:    </th> <td> -87.010</td>\n",
       "</tr>\n",
       "<tr>\n",
       "  <th>converged:</th>           <td>True</td>       <th>  LL-Null:           </th> <td> -90.094</td>\n",
       "</tr>\n",
       "<tr>\n",
       "  <th> </th>                      <td> </td>        <th>  LLR p-value:       </th>  <td>   nan</td> \n",
       "</tr>\n",
       "</table>\n",
       "<table class=\"simpletable\">\n",
       "<tr>\n",
       "  <th>sal_dummy=1</th>    <th>coef</th>     <th>std err</th>      <th>z</th>      <th>P>|z|</th> <th>[95.0% Conf. Int.]</th> \n",
       "</tr>\n",
       "<tr>\n",
       "  <th>San Diego</th>   <td>    2.0794</td> <td>    1.061</td> <td>    1.961</td> <td> 0.050</td> <td>    0.001     4.158</td>\n",
       "</tr>\n",
       "</table>"
      ],
      "text/plain": [
       "<class 'statsmodels.iolib.summary.Summary'>\n",
       "\"\"\"\n",
       "                          MNLogit Regression Results                          \n",
       "==============================================================================\n",
       "Dep. Variable:              sal_dummy   No. Observations:                  130\n",
       "Model:                        MNLogit   Df Residuals:                      129\n",
       "Method:                           MLE   Df Model:                            0\n",
       "Date:                Mon, 11 Jul 2016   Pseudo R-squ.:                 0.03422\n",
       "Time:                        12:02:52   Log-Likelihood:                -87.010\n",
       "converged:                       True   LL-Null:                       -90.094\n",
       "                                        LLR p-value:                       nan\n",
       "===============================================================================\n",
       "sal_dummy=1       coef    std err          z      P>|z|      [95.0% Conf. Int.]\n",
       "-------------------------------------------------------------------------------\n",
       "San Diego       2.0794      1.061      1.961      0.050         0.001     4.158\n",
       "===============================================================================\n",
       "\"\"\""
      ]
     },
     "execution_count": 62,
     "metadata": {},
     "output_type": "execute_result"
    }
   ],
   "source": [
    "X_SanDiego = X_city['San Diego']\n",
    "y = sal_df['sal_dummy']\n",
    "model_SanDiego = st.MNLogit(y, X_SanDiego)\n",
    "model_SanDiego_fit = model_SanDiego.fit(method = 'bfgs')\n",
    "model_SanDiego_fit.summary()"
   ]
  },
  {
   "cell_type": "code",
   "execution_count": 63,
   "metadata": {
    "collapsed": false
   },
   "outputs": [
    {
     "data": {
      "text/plain": [
       "7.9996676734640628"
      ]
     },
     "execution_count": 63,
     "metadata": {},
     "output_type": "execute_result"
    }
   ],
   "source": [
    "np.exp(2.0794)"
   ]
  },
  {
   "cell_type": "markdown",
   "metadata": {},
   "source": [
    "As the sole feature, we see that San Diego appears to be a significant predictor at the 0.05 level; the odds of a San Diego job's salary being above median over the odds of a non-San Diego job's salary being above median is roughly 8.  "
   ]
  },
  {
   "cell_type": "code",
   "execution_count": 64,
   "metadata": {
    "collapsed": false
   },
   "outputs": [
    {
     "name": "stdout",
     "output_type": "stream",
     "text": [
      "AIC: 176.020595421\n",
      "BIC: 178.888129872\n"
     ]
    }
   ],
   "source": [
    "### aic and bic ###\n",
    "print 'AIC: %s' %model_SanDiego_fit.aic\n",
    "print 'BIC: %s' %model_SanDiego_fit.bic"
   ]
  },
  {
   "cell_type": "markdown",
   "metadata": {},
   "source": [
    "Now, do a logistic regression with state dummy variables:"
   ]
  },
  {
   "cell_type": "code",
   "execution_count": 65,
   "metadata": {
    "collapsed": false
   },
   "outputs": [
    {
     "data": {
      "text/plain": [
       "CA    32\n",
       "DC    24\n",
       "NY    23\n",
       "TX    13\n",
       "MA    12\n",
       "IL    10\n",
       "WA     5\n",
       "PA     3\n",
       "AZ     2\n",
       "CO     2\n",
       "IN     1\n",
       "TN     1\n",
       "NC     1\n",
       "OH     1\n",
       "Name: state, dtype: int64"
      ]
     },
     "execution_count": 65,
     "metadata": {},
     "output_type": "execute_result"
    }
   ],
   "source": [
    "sal_df['state'].value_counts()"
   ]
  },
  {
   "cell_type": "code",
   "execution_count": 66,
   "metadata": {
    "collapsed": true
   },
   "outputs": [],
   "source": [
    "X_state = pd.DataFrame(sal_df['state'])\n",
    "X_state['intercept'] = 1\n",
    "X_state = pd.concat([X_state.drop('state',axis=1), pd.get_dummies(X_state['state'])], axis = 1)\n",
    "y = sal_df['sal_dummy'] #same target"
   ]
  },
  {
   "cell_type": "code",
   "execution_count": 67,
   "metadata": {
    "collapsed": false
   },
   "outputs": [
    {
     "data": {
      "text/html": [
       "<div>\n",
       "<table border=\"1\" class=\"dataframe\">\n",
       "  <thead>\n",
       "    <tr style=\"text-align: right;\">\n",
       "      <th></th>\n",
       "      <th>intercept</th>\n",
       "      <th>AZ</th>\n",
       "      <th>CA</th>\n",
       "      <th>CO</th>\n",
       "      <th>DC</th>\n",
       "      <th>IL</th>\n",
       "      <th>IN</th>\n",
       "      <th>MA</th>\n",
       "      <th>NC</th>\n",
       "      <th>NY</th>\n",
       "      <th>OH</th>\n",
       "      <th>PA</th>\n",
       "      <th>TN</th>\n",
       "      <th>TX</th>\n",
       "      <th>WA</th>\n",
       "    </tr>\n",
       "  </thead>\n",
       "  <tbody>\n",
       "    <tr>\n",
       "      <th>0</th>\n",
       "      <td>1</td>\n",
       "      <td>0.0</td>\n",
       "      <td>0.0</td>\n",
       "      <td>0.0</td>\n",
       "      <td>0.0</td>\n",
       "      <td>0.0</td>\n",
       "      <td>0.0</td>\n",
       "      <td>1.0</td>\n",
       "      <td>0.0</td>\n",
       "      <td>0.0</td>\n",
       "      <td>0.0</td>\n",
       "      <td>0.0</td>\n",
       "      <td>0.0</td>\n",
       "      <td>0.0</td>\n",
       "      <td>0.0</td>\n",
       "    </tr>\n",
       "  </tbody>\n",
       "</table>\n",
       "</div>"
      ],
      "text/plain": [
       "   intercept   AZ   CA   CO   DC   IL   IN   MA   NC   NY   OH   PA   TN   TX  \\\n",
       "0          1  0.0  0.0  0.0  0.0  0.0  0.0  1.0  0.0  0.0  0.0  0.0  0.0  0.0   \n",
       "\n",
       "    WA  \n",
       "0  0.0  "
      ]
     },
     "execution_count": 67,
     "metadata": {},
     "output_type": "execute_result"
    }
   ],
   "source": [
    "X_state.head(1)"
   ]
  },
  {
   "cell_type": "markdown",
   "metadata": {},
   "source": [
    "Drop one of the dummy variables (just pick first one on the left):"
   ]
  },
  {
   "cell_type": "code",
   "execution_count": 68,
   "metadata": {
    "collapsed": false
   },
   "outputs": [
    {
     "data": {
      "text/html": [
       "<div>\n",
       "<table border=\"1\" class=\"dataframe\">\n",
       "  <thead>\n",
       "    <tr style=\"text-align: right;\">\n",
       "      <th></th>\n",
       "      <th>intercept</th>\n",
       "      <th>CA</th>\n",
       "      <th>CO</th>\n",
       "      <th>DC</th>\n",
       "      <th>IL</th>\n",
       "      <th>IN</th>\n",
       "      <th>MA</th>\n",
       "      <th>NC</th>\n",
       "      <th>NY</th>\n",
       "      <th>OH</th>\n",
       "      <th>PA</th>\n",
       "      <th>TN</th>\n",
       "      <th>TX</th>\n",
       "      <th>WA</th>\n",
       "    </tr>\n",
       "  </thead>\n",
       "  <tbody>\n",
       "    <tr>\n",
       "      <th>0</th>\n",
       "      <td>1</td>\n",
       "      <td>0.0</td>\n",
       "      <td>0.0</td>\n",
       "      <td>0.0</td>\n",
       "      <td>0.0</td>\n",
       "      <td>0.0</td>\n",
       "      <td>1.0</td>\n",
       "      <td>0.0</td>\n",
       "      <td>0.0</td>\n",
       "      <td>0.0</td>\n",
       "      <td>0.0</td>\n",
       "      <td>0.0</td>\n",
       "      <td>0.0</td>\n",
       "      <td>0.0</td>\n",
       "    </tr>\n",
       "  </tbody>\n",
       "</table>\n",
       "</div>"
      ],
      "text/plain": [
       "   intercept   CA   CO   DC   IL   IN   MA   NC   NY   OH   PA   TN   TX   WA\n",
       "0          1  0.0  0.0  0.0  0.0  0.0  1.0  0.0  0.0  0.0  0.0  0.0  0.0  0.0"
      ]
     },
     "execution_count": 68,
     "metadata": {},
     "output_type": "execute_result"
    }
   ],
   "source": [
    "X_state.drop('AZ', axis=1, inplace=True)\n",
    "X_state.head(1)"
   ]
  },
  {
   "cell_type": "code",
   "execution_count": 69,
   "metadata": {
    "collapsed": true
   },
   "outputs": [],
   "source": [
    "model_state = st.MNLogit(y, X_state)"
   ]
  },
  {
   "cell_type": "code",
   "execution_count": 70,
   "metadata": {
    "collapsed": false
   },
   "outputs": [
    {
     "name": "stdout",
     "output_type": "stream",
     "text": [
      "Warning: Maximum number of iterations has been exceeded.\n",
      "         Current function value: 0.652062\n",
      "         Iterations: 35\n",
      "         Function evaluations: 37\n",
      "         Gradient evaluations: 37\n"
     ]
    },
    {
     "name": "stderr",
     "output_type": "stream",
     "text": [
      "/Users/Rebecca/anaconda/lib/python2.7/site-packages/statsmodels/base/model.py:466: ConvergenceWarning: Maximum Likelihood optimization failed to converge. Check mle_retvals\n",
      "  \"Check mle_retvals\", ConvergenceWarning)\n"
     ]
    }
   ],
   "source": [
    "model_state_fit = model_state.fit(method = 'bfgs')"
   ]
  },
  {
   "cell_type": "code",
   "execution_count": 71,
   "metadata": {
    "collapsed": false
   },
   "outputs": [
    {
     "data": {
      "text/html": [
       "<table class=\"simpletable\">\n",
       "<caption>MNLogit Regression Results</caption>\n",
       "<tr>\n",
       "  <th>Dep. Variable:</th>     <td>sal_dummy</td>    <th>  No. Observations:  </th>  <td>   130</td> \n",
       "</tr>\n",
       "<tr>\n",
       "  <th>Model:</th>              <td>MNLogit</td>     <th>  Df Residuals:      </th>  <td>   116</td> \n",
       "</tr>\n",
       "<tr>\n",
       "  <th>Method:</th>               <td>MLE</td>       <th>  Df Model:          </th>  <td>    13</td> \n",
       "</tr>\n",
       "<tr>\n",
       "  <th>Date:</th>          <td>Mon, 11 Jul 2016</td> <th>  Pseudo R-squ.:     </th>  <td>0.05911</td>\n",
       "</tr>\n",
       "<tr>\n",
       "  <th>Time:</th>              <td>12:02:54</td>     <th>  Log-Likelihood:    </th> <td> -84.768</td>\n",
       "</tr>\n",
       "<tr>\n",
       "  <th>converged:</th>           <td>False</td>      <th>  LL-Null:           </th> <td> -90.094</td>\n",
       "</tr>\n",
       "<tr>\n",
       "  <th> </th>                      <td> </td>        <th>  LLR p-value:       </th>  <td>0.6400</td> \n",
       "</tr>\n",
       "</table>\n",
       "<table class=\"simpletable\">\n",
       "<tr>\n",
       "  <th>sal_dummy=1</th>    <th>coef</th>     <th>std err</th>      <th>z</th>      <th>P>|z|</th> <th>[95.0% Conf. Int.]</th> \n",
       "</tr>\n",
       "<tr>\n",
       "  <th>intercept</th>   <td>   -0.9992</td> <td>    1.594</td> <td>   -0.627</td> <td> 0.531</td> <td>   -4.124     2.126</td>\n",
       "</tr>\n",
       "<tr>\n",
       "  <th>CA</th>          <td>    1.3869</td> <td>    1.635</td> <td>    0.848</td> <td> 0.396</td> <td>   -1.817     4.591</td>\n",
       "</tr>\n",
       "<tr>\n",
       "  <th>CO</th>          <td>    0.8833</td> <td>    2.133</td> <td>    0.414</td> <td> 0.679</td> <td>   -3.297     5.064</td>\n",
       "</tr>\n",
       "<tr>\n",
       "  <th>DC</th>          <td>    0.9009</td> <td>    1.646</td> <td>    0.547</td> <td> 0.584</td> <td>   -2.325     4.127</td>\n",
       "</tr>\n",
       "<tr>\n",
       "  <th>IL</th>          <td>    1.8462</td> <td>    1.737</td> <td>    1.063</td> <td> 0.288</td> <td>   -1.559     5.251</td>\n",
       "</tr>\n",
       "<tr>\n",
       "  <th>IN</th>          <td>   -3.5051</td> <td>    9.745</td> <td>   -0.360</td> <td> 0.719</td> <td>  -22.605    15.595</td>\n",
       "</tr>\n",
       "<tr>\n",
       "  <th>MA</th>          <td>    0.7096</td> <td>    1.698</td> <td>    0.418</td> <td> 0.676</td> <td>   -2.618     4.037</td>\n",
       "</tr>\n",
       "<tr>\n",
       "  <th>NC</th>          <td>    4.3094</td> <td>    5.654</td> <td>    0.762</td> <td> 0.446</td> <td>   -6.772    15.391</td>\n",
       "</tr>\n",
       "<tr>\n",
       "  <th>NY</th>          <td>    0.7225</td> <td>    1.649</td> <td>    0.438</td> <td> 0.661</td> <td>   -2.510     3.955</td>\n",
       "</tr>\n",
       "<tr>\n",
       "  <th>OH</th>          <td>   -3.5051</td> <td>    9.745</td> <td>   -0.360</td> <td> 0.719</td> <td>  -22.605    15.595</td>\n",
       "</tr>\n",
       "<tr>\n",
       "  <th>PA</th>          <td>   -0.6221</td> <td>    2.227</td> <td>   -0.279</td> <td> 0.780</td> <td>   -4.988     3.744</td>\n",
       "</tr>\n",
       "<tr>\n",
       "  <th>TN</th>          <td>    4.3094</td> <td>    5.654</td> <td>    0.762</td> <td> 0.446</td> <td>   -6.772    15.391</td>\n",
       "</tr>\n",
       "<tr>\n",
       "  <th>TX</th>          <td>    0.5190</td> <td>    1.694</td> <td>    0.306</td> <td> 0.759</td> <td>   -2.800     3.838</td>\n",
       "</tr>\n",
       "<tr>\n",
       "  <th>WA</th>          <td>    0.6445</td> <td>    1.835</td> <td>    0.351</td> <td> 0.725</td> <td>   -2.952     4.241</td>\n",
       "</tr>\n",
       "</table>"
      ],
      "text/plain": [
       "<class 'statsmodels.iolib.summary.Summary'>\n",
       "\"\"\"\n",
       "                          MNLogit Regression Results                          \n",
       "==============================================================================\n",
       "Dep. Variable:              sal_dummy   No. Observations:                  130\n",
       "Model:                        MNLogit   Df Residuals:                      116\n",
       "Method:                           MLE   Df Model:                           13\n",
       "Date:                Mon, 11 Jul 2016   Pseudo R-squ.:                 0.05911\n",
       "Time:                        12:02:54   Log-Likelihood:                -84.768\n",
       "converged:                      False   LL-Null:                       -90.094\n",
       "                                        LLR p-value:                    0.6400\n",
       "===============================================================================\n",
       "sal_dummy=1       coef    std err          z      P>|z|      [95.0% Conf. Int.]\n",
       "-------------------------------------------------------------------------------\n",
       "intercept      -0.9992      1.594     -0.627      0.531        -4.124     2.126\n",
       "CA              1.3869      1.635      0.848      0.396        -1.817     4.591\n",
       "CO              0.8833      2.133      0.414      0.679        -3.297     5.064\n",
       "DC              0.9009      1.646      0.547      0.584        -2.325     4.127\n",
       "IL              1.8462      1.737      1.063      0.288        -1.559     5.251\n",
       "IN             -3.5051      9.745     -0.360      0.719       -22.605    15.595\n",
       "MA              0.7096      1.698      0.418      0.676        -2.618     4.037\n",
       "NC              4.3094      5.654      0.762      0.446        -6.772    15.391\n",
       "NY              0.7225      1.649      0.438      0.661        -2.510     3.955\n",
       "OH             -3.5051      9.745     -0.360      0.719       -22.605    15.595\n",
       "PA             -0.6221      2.227     -0.279      0.780        -4.988     3.744\n",
       "TN              4.3094      5.654      0.762      0.446        -6.772    15.391\n",
       "TX              0.5190      1.694      0.306      0.759        -2.800     3.838\n",
       "WA              0.6445      1.835      0.351      0.725        -2.952     4.241\n",
       "===============================================================================\n",
       "\"\"\""
      ]
     },
     "execution_count": 71,
     "metadata": {},
     "output_type": "execute_result"
    }
   ],
   "source": [
    "model_state_fit.summary()"
   ]
  },
  {
   "cell_type": "code",
   "execution_count": 72,
   "metadata": {
    "collapsed": false
   },
   "outputs": [
    {
     "name": "stdout",
     "output_type": "stream",
     "text": [
      "AIC: 197.53623387\n",
      "BIC: 237.681716176\n"
     ]
    }
   ],
   "source": [
    "### aic and bic ###\n",
    "print 'AIC: %s' %model_state_fit.aic\n",
    "print 'BIC: %s' %model_state_fit.bic"
   ]
  },
  {
   "cell_type": "markdown",
   "metadata": {},
   "source": [
    "In this model, no state seems to be a significant predictor of salary status in relation to median at a 0.05 level; let's see what L1-based feature selection comes up with:"
   ]
  },
  {
   "cell_type": "code",
   "execution_count": 73,
   "metadata": {
    "collapsed": false
   },
   "outputs": [
    {
     "data": {
      "text/plain": [
       "array(['MA', 'CA', 'NC', 'TN', 'TX', 'NY', 'PA', 'IL', 'CO', 'WA', 'IN',\n",
       "       'AZ', 'OH', 'DC'], dtype=object)"
      ]
     },
     "execution_count": 73,
     "metadata": {},
     "output_type": "execute_result"
    }
   ],
   "source": [
    "lsvc = LinearSVC(C=0.13, penalty=\"l1\", dual=False).fit(X_state, y)\n",
    "model = SelectFromModel(lsvc, prefit=True)\n",
    "X_new = model.transform(X_state)\n",
    "sal_df[X_new == 1]['state'].unique()"
   ]
  },
  {
   "cell_type": "code",
   "execution_count": 74,
   "metadata": {
    "collapsed": false
   },
   "outputs": [
    {
     "data": {
      "text/plain": [
       "array(['CA'], dtype=object)"
      ]
     },
     "execution_count": 74,
     "metadata": {},
     "output_type": "execute_result"
    }
   ],
   "source": [
    "lsvc = LinearSVC(C=0.1, penalty=\"l1\", dual=False).fit(X_state, y)\n",
    "model = SelectFromModel(lsvc, prefit=True)\n",
    "X_new = model.transform(X_state)\n",
    "sal_df[X_new == 1]['state'].unique()"
   ]
  },
  {
   "cell_type": "code",
   "execution_count": 75,
   "metadata": {
    "collapsed": false
   },
   "outputs": [
    {
     "name": "stdout",
     "output_type": "stream",
     "text": [
      "Optimization terminated successfully.\n",
      "         Current function value: 0.686280\n",
      "         Iterations 4\n"
     ]
    },
    {
     "data": {
      "text/html": [
       "<table class=\"simpletable\">\n",
       "<caption>MNLogit Regression Results</caption>\n",
       "<tr>\n",
       "  <th>Dep. Variable:</th>     <td>sal_dummy</td>    <th>  No. Observations:  </th>  <td>   130</td> \n",
       "</tr>\n",
       "<tr>\n",
       "  <th>Model:</th>              <td>MNLogit</td>     <th>  Df Residuals:      </th>  <td>   128</td> \n",
       "</tr>\n",
       "<tr>\n",
       "  <th>Method:</th>               <td>MLE</td>       <th>  Df Model:          </th>  <td>     1</td> \n",
       "</tr>\n",
       "<tr>\n",
       "  <th>Date:</th>          <td>Mon, 11 Jul 2016</td> <th>  Pseudo R-squ.:     </th> <td>0.009738</td>\n",
       "</tr>\n",
       "<tr>\n",
       "  <th>Time:</th>              <td>12:02:56</td>     <th>  Log-Likelihood:    </th> <td> -89.216</td>\n",
       "</tr>\n",
       "<tr>\n",
       "  <th>converged:</th>           <td>True</td>       <th>  LL-Null:           </th> <td> -90.094</td>\n",
       "</tr>\n",
       "<tr>\n",
       "  <th> </th>                      <td> </td>        <th>  LLR p-value:       </th>  <td>0.1853</td> \n",
       "</tr>\n",
       "</table>\n",
       "<table class=\"simpletable\">\n",
       "<tr>\n",
       "  <th>sal_dummy=1</th>    <th>coef</th>     <th>std err</th>      <th>z</th>      <th>P>|z|</th> <th>[95.0% Conf. Int.]</th> \n",
       "</tr>\n",
       "<tr>\n",
       "  <th>intercept</th>   <td>   -0.1636</td> <td>    0.203</td> <td>   -0.807</td> <td> 0.420</td> <td>   -0.561     0.234</td>\n",
       "</tr>\n",
       "<tr>\n",
       "  <th>CA</th>          <td>    0.5431</td> <td>    0.413</td> <td>    1.315</td> <td> 0.189</td> <td>   -0.267     1.353</td>\n",
       "</tr>\n",
       "</table>"
      ],
      "text/plain": [
       "<class 'statsmodels.iolib.summary.Summary'>\n",
       "\"\"\"\n",
       "                          MNLogit Regression Results                          \n",
       "==============================================================================\n",
       "Dep. Variable:              sal_dummy   No. Observations:                  130\n",
       "Model:                        MNLogit   Df Residuals:                      128\n",
       "Method:                           MLE   Df Model:                            1\n",
       "Date:                Mon, 11 Jul 2016   Pseudo R-squ.:                0.009738\n",
       "Time:                        12:02:56   Log-Likelihood:                -89.216\n",
       "converged:                       True   LL-Null:                       -90.094\n",
       "                                        LLR p-value:                    0.1853\n",
       "===============================================================================\n",
       "sal_dummy=1       coef    std err          z      P>|z|      [95.0% Conf. Int.]\n",
       "-------------------------------------------------------------------------------\n",
       "intercept      -0.1636      0.203     -0.807      0.420        -0.561     0.234\n",
       "CA              0.5431      0.413      1.315      0.189        -0.267     1.353\n",
       "===============================================================================\n",
       "\"\"\""
      ]
     },
     "execution_count": 75,
     "metadata": {},
     "output_type": "execute_result"
    }
   ],
   "source": [
    "X_CA = X_state[['intercept', 'CA']]\n",
    "y = sal_df['sal_dummy']\n",
    "\n",
    "model_CA = st.MNLogit(y, X_CA)\n",
    "\n",
    "model_CA_fit = model_CA.fit()\n",
    "\n",
    "model_CA_fit.summary()"
   ]
  },
  {
   "cell_type": "code",
   "execution_count": 76,
   "metadata": {
    "collapsed": false
   },
   "outputs": [
    {
     "name": "stdout",
     "output_type": "stream",
     "text": [
      "AIC: 182.43279218\n",
      "BIC: 188.167861081\n"
     ]
    }
   ],
   "source": [
    "### aic and bic ###\n",
    "print 'AIC: %s' %model_CA_fit.aic\n",
    "print 'BIC: %s' %model_CA_fit.bic"
   ]
  },
  {
   "cell_type": "markdown",
   "metadata": {},
   "source": [
    "California was the best candidate for state dummy variable as significant predictor of salary status with respect to median salary, but it does not appear to be significant even as a sole model feature. "
   ]
  },
  {
   "cell_type": "markdown",
   "metadata": {},
   "source": [
    "Now, let's do a logistic regression on the salary dummy variable using the state income tax rate as the only feature:"
   ]
  },
  {
   "cell_type": "code",
   "execution_count": 77,
   "metadata": {
    "collapsed": false
   },
   "outputs": [
    {
     "name": "stdout",
     "output_type": "stream",
     "text": [
      "Optimization terminated successfully.\n",
      "         Current function value: 0.686640\n",
      "         Iterations 4\n"
     ]
    },
    {
     "data": {
      "text/html": [
       "<table class=\"simpletable\">\n",
       "<caption>MNLogit Regression Results</caption>\n",
       "<tr>\n",
       "  <th>Dep. Variable:</th>     <td>sal_dummy</td>    <th>  No. Observations:  </th>  <td>   130</td> \n",
       "</tr>\n",
       "<tr>\n",
       "  <th>Model:</th>              <td>MNLogit</td>     <th>  Df Residuals:      </th>  <td>   128</td> \n",
       "</tr>\n",
       "<tr>\n",
       "  <th>Method:</th>               <td>MLE</td>       <th>  Df Model:          </th>  <td>     1</td> \n",
       "</tr>\n",
       "<tr>\n",
       "  <th>Date:</th>          <td>Mon, 11 Jul 2016</td> <th>  Pseudo R-squ.:     </th> <td>0.009218</td>\n",
       "</tr>\n",
       "<tr>\n",
       "  <th>Time:</th>              <td>12:02:56</td>     <th>  Log-Likelihood:    </th> <td> -89.263</td>\n",
       "</tr>\n",
       "<tr>\n",
       "  <th>converged:</th>           <td>True</td>       <th>  LL-Null:           </th> <td> -90.094</td>\n",
       "</tr>\n",
       "<tr>\n",
       "  <th> </th>                      <td> </td>        <th>  LLR p-value:       </th>  <td>0.1975</td> \n",
       "</tr>\n",
       "</table>\n",
       "<table class=\"simpletable\">\n",
       "<tr>\n",
       "   <th>sal_dummy=1</th>    <th>coef</th>     <th>std err</th>      <th>z</th>      <th>P>|z|</th> <th>[95.0% Conf. Int.]</th> \n",
       "</tr>\n",
       "<tr>\n",
       "  <th>inc_tax_rate</th> <td>    0.0518</td> <td>    0.040</td> <td>    1.280</td> <td> 0.200</td> <td>   -0.028     0.131</td>\n",
       "</tr>\n",
       "<tr>\n",
       "  <th>intercept</th>    <td>   -0.4259</td> <td>    0.356</td> <td>   -1.196</td> <td> 0.232</td> <td>   -1.124     0.272</td>\n",
       "</tr>\n",
       "</table>"
      ],
      "text/plain": [
       "<class 'statsmodels.iolib.summary.Summary'>\n",
       "\"\"\"\n",
       "                          MNLogit Regression Results                          \n",
       "==============================================================================\n",
       "Dep. Variable:              sal_dummy   No. Observations:                  130\n",
       "Model:                        MNLogit   Df Residuals:                      128\n",
       "Method:                           MLE   Df Model:                            1\n",
       "Date:                Mon, 11 Jul 2016   Pseudo R-squ.:                0.009218\n",
       "Time:                        12:02:56   Log-Likelihood:                -89.263\n",
       "converged:                       True   LL-Null:                       -90.094\n",
       "                                        LLR p-value:                    0.1975\n",
       "================================================================================\n",
       " sal_dummy=1       coef    std err          z      P>|z|      [95.0% Conf. Int.]\n",
       "--------------------------------------------------------------------------------\n",
       "inc_tax_rate     0.0518      0.040      1.280      0.200        -0.028     0.131\n",
       "intercept       -0.4259      0.356     -1.196      0.232        -1.124     0.272\n",
       "================================================================================\n",
       "\"\"\""
      ]
     },
     "execution_count": 77,
     "metadata": {},
     "output_type": "execute_result"
    }
   ],
   "source": [
    "X_tax = pd.DataFrame(sal_df['inc_tax_rate'])\n",
    "X_tax['intercept'] = 1\n",
    "y = sal_df['sal_dummy']\n",
    "\n",
    "model_tax = st.MNLogit(y, X_tax)\n",
    "\n",
    "model_tax_fit = model_tax.fit()\n",
    "\n",
    "model_tax_fit.summary()"
   ]
  },
  {
   "cell_type": "code",
   "execution_count": 78,
   "metadata": {
    "collapsed": false
   },
   "outputs": [
    {
     "name": "stdout",
     "output_type": "stream",
     "text": [
      "AIC: 182.526448141\n",
      "BIC: 188.261517042\n"
     ]
    }
   ],
   "source": [
    "### aic and bic ###\n",
    "print 'AIC: %s' %model_tax_fit.aic\n",
    "print 'BIC: %s' %model_tax_fit.bic"
   ]
  },
  {
   "cell_type": "markdown",
   "metadata": {},
   "source": [
    "State income tax rate does not appear to be a significant predictor of salary status with respect to median salary at a 0.05 significance level."
   ]
  },
  {
   "cell_type": "code",
   "execution_count": 79,
   "metadata": {
    "collapsed": false,
    "focus": false,
    "id": "068dc1cf-7fd7-4f27-a1f1-7f0a5a221d29"
   },
   "outputs": [
    {
     "data": {
      "text/html": [
       "<div>\n",
       "<table border=\"1\" class=\"dataframe\">\n",
       "  <thead>\n",
       "    <tr style=\"text-align: right;\">\n",
       "      <th></th>\n",
       "      <th>title</th>\n",
       "      <th>location</th>\n",
       "      <th>company</th>\n",
       "      <th>city</th>\n",
       "      <th>state</th>\n",
       "      <th>parsed_salary</th>\n",
       "      <th>sal_dummy</th>\n",
       "      <th>inc_tax_rate</th>\n",
       "    </tr>\n",
       "  </thead>\n",
       "  <tbody>\n",
       "    <tr>\n",
       "      <th>0</th>\n",
       "      <td>Data Scientist – Predictive Analytics</td>\n",
       "      <td>Waltham, MA</td>\n",
       "      <td>Jobspring Partners</td>\n",
       "      <td>Boston</td>\n",
       "      <td>MA</td>\n",
       "      <td>135000.0</td>\n",
       "      <td>1</td>\n",
       "      <td>5.1</td>\n",
       "    </tr>\n",
       "    <tr>\n",
       "      <th>1</th>\n",
       "      <td>Data Scientist, Machine Learning Engineer</td>\n",
       "      <td>Cambridge, MA 02141 (East Cambridge area)</td>\n",
       "      <td>Bivium Group</td>\n",
       "      <td>Boston</td>\n",
       "      <td>MA</td>\n",
       "      <td>125000.0</td>\n",
       "      <td>1</td>\n",
       "      <td>5.1</td>\n",
       "    </tr>\n",
       "    <tr>\n",
       "      <th>2</th>\n",
       "      <td>Data Scientist, Machine Learning Engineer</td>\n",
       "      <td>Boston, MA 02116 (South End area)</td>\n",
       "      <td>Fanning Personnel</td>\n",
       "      <td>Boston</td>\n",
       "      <td>MA</td>\n",
       "      <td>102500.0</td>\n",
       "      <td>0</td>\n",
       "      <td>5.1</td>\n",
       "    </tr>\n",
       "    <tr>\n",
       "      <th>3</th>\n",
       "      <td>Data Scientist – Predictive Analytics</td>\n",
       "      <td>Burlington, MA</td>\n",
       "      <td>Workbridge Associates</td>\n",
       "      <td>Boston</td>\n",
       "      <td>MA</td>\n",
       "      <td>122500.0</td>\n",
       "      <td>1</td>\n",
       "      <td>5.1</td>\n",
       "    </tr>\n",
       "    <tr>\n",
       "      <th>4</th>\n",
       "      <td>Data Scientist – Predictive Analytics</td>\n",
       "      <td>Boston, MA</td>\n",
       "      <td>Workbridge Associates</td>\n",
       "      <td>Boston</td>\n",
       "      <td>MA</td>\n",
       "      <td>75000.0</td>\n",
       "      <td>0</td>\n",
       "      <td>5.1</td>\n",
       "    </tr>\n",
       "  </tbody>\n",
       "</table>\n",
       "</div>"
      ],
      "text/plain": [
       "                                       title  \\\n",
       "0      Data Scientist – Predictive Analytics   \n",
       "1  Data Scientist, Machine Learning Engineer   \n",
       "2  Data Scientist, Machine Learning Engineer   \n",
       "3      Data Scientist – Predictive Analytics   \n",
       "4      Data Scientist – Predictive Analytics   \n",
       "\n",
       "                                    location                company    city  \\\n",
       "0                                Waltham, MA     Jobspring Partners  Boston   \n",
       "1  Cambridge, MA 02141 (East Cambridge area)           Bivium Group  Boston   \n",
       "2          Boston, MA 02116 (South End area)      Fanning Personnel  Boston   \n",
       "3                             Burlington, MA  Workbridge Associates  Boston   \n",
       "4                                 Boston, MA  Workbridge Associates  Boston   \n",
       "\n",
       "  state  parsed_salary  sal_dummy  inc_tax_rate  \n",
       "0    MA       135000.0          1           5.1  \n",
       "1    MA       125000.0          1           5.1  \n",
       "2    MA       102500.0          0           5.1  \n",
       "3    MA       122500.0          1           5.1  \n",
       "4    MA        75000.0          0           5.1  "
      ]
     },
     "execution_count": 79,
     "metadata": {},
     "output_type": "execute_result"
    }
   ],
   "source": [
    "# uncomment line below if need to reset sal_df:\n",
    "#sal_df = sal_df[['title', 'location', 'company', 'city', 'state', 'parsed_salary', 'inc_tax_rate', 'sal_dummy']]\n",
    "\n",
    "sal_df.head()"
   ]
  },
  {
   "cell_type": "markdown",
   "metadata": {},
   "source": [
    "Make a list of (non-unique) terms found in 'title' entries; ignore case and symbols."
   ]
  },
  {
   "cell_type": "code",
   "execution_count": 80,
   "metadata": {
    "collapsed": false
   },
   "outputs": [],
   "source": [
    "def termify(column):\n",
    "    '''This function takes a list/series argument and returns a dataframe with two columns; one containing each \\\n",
    "    unique term found in argument column entries and the second containing a count for that term.'''\n",
    "    all_terms = []\n",
    "    for i in sal_df['title']:\n",
    "        x = i.lower()\n",
    "        x = re.sub(r'[^\\w]', ' ', x)\n",
    "        x = x.split(' ')\n",
    "        all_terms = all_terms + x\n",
    "    unique_terms = list(set(all_terms))\n",
    "    term_counts = []\n",
    "    for i in unique_terms:\n",
    "        count = all_terms.count(i)\n",
    "        term_counts.append(count)\n",
    "    count_df = pd.DataFrame([unique_terms, term_counts]).T\n",
    "    count_df.columns = ['term', 'count']\n",
    "    return count_df"
   ]
  },
  {
   "cell_type": "code",
   "execution_count": 81,
   "metadata": {
    "collapsed": false
   },
   "outputs": [
    {
     "name": "stderr",
     "output_type": "stream",
     "text": [
      "/Users/Rebecca/anaconda/lib/python2.7/site-packages/ipykernel/__main__.py:2: FutureWarning: sort(columns=....) is deprecated, use sort_values(by=.....)\n",
      "  from ipykernel import kernelapp as app\n"
     ]
    },
    {
     "data": {
      "text/html": [
       "<div>\n",
       "<table border=\"1\" class=\"dataframe\">\n",
       "  <thead>\n",
       "    <tr style=\"text-align: right;\">\n",
       "      <th></th>\n",
       "      <th>term</th>\n",
       "      <th>count</th>\n",
       "    </tr>\n",
       "  </thead>\n",
       "  <tbody>\n",
       "    <tr>\n",
       "      <th>0</th>\n",
       "      <td></td>\n",
       "      <td>166</td>\n",
       "    </tr>\n",
       "    <tr>\n",
       "      <th>52</th>\n",
       "      <td>data</td>\n",
       "      <td>120</td>\n",
       "    </tr>\n",
       "    <tr>\n",
       "      <th>13</th>\n",
       "      <td>scientist</td>\n",
       "      <td>91</td>\n",
       "    </tr>\n",
       "    <tr>\n",
       "      <th>20</th>\n",
       "      <td>engineer</td>\n",
       "      <td>36</td>\n",
       "    </tr>\n",
       "    <tr>\n",
       "      <th>11</th>\n",
       "      <td>analytics</td>\n",
       "      <td>27</td>\n",
       "    </tr>\n",
       "  </tbody>\n",
       "</table>\n",
       "</div>"
      ],
      "text/plain": [
       "         term count\n",
       "0               166\n",
       "52       data   120\n",
       "13  scientist    91\n",
       "20   engineer    36\n",
       "11  analytics    27"
      ]
     },
     "execution_count": 81,
     "metadata": {},
     "output_type": "execute_result"
    }
   ],
   "source": [
    "title_terms = termify(sal_df['title'])\n",
    "title_terms.sort('count', ascending = False).head()"
   ]
  },
  {
   "cell_type": "markdown",
   "metadata": {},
   "source": [
    "Consolidate like terms (manually) and figure out which appear most frequently in the dataframe:"
   ]
  },
  {
   "cell_type": "code",
   "execution_count": 82,
   "metadata": {
    "collapsed": false
   },
   "outputs": [],
   "source": [
    "def titleify(df, col_name):\n",
    "    '''This function adds a column containing a list of cleaned title terms to dataframe argument.'''\n",
    "    titles = []\n",
    "    for i in df['title']:\n",
    "        x = i.lower()\n",
    "        x = re.sub(r'[^\\w]', ' ', x)\n",
    "        titles.append(x)\n",
    "    df[col_name] = titles \n",
    "    df[col_name] = df[col_name].apply(lambda x: x.replace('sr', 'senior'))\n",
    "    df[col_name] = df[col_name].apply(lambda x: x.replace('analytics', 'anal.'))\n",
    "    df[col_name] = df[col_name].apply(lambda x: x.replace('analysis', 'anal.'))\n",
    "    df[col_name] = df[col_name].apply(lambda x: x.replace('analyst', 'anal.'))\n",
    "    df[col_name] = df[col_name].apply(lambda x: x.replace('statistical', 'stat.'))\n",
    "    df[col_name] = df[col_name].apply(lambda x: x.replace('statistician', 'stat.'))\n",
    "    df[col_name] = df[col_name].apply(lambda x: x.replace('scientist', 'sci.'))\n",
    "    df[col_name] = df[col_name].apply(lambda x: x.replace('science', 'sci.'))\n",
    "    return "
   ]
  },
  {
   "cell_type": "code",
   "execution_count": 83,
   "metadata": {
    "collapsed": false
   },
   "outputs": [],
   "source": [
    "titleify(sal_df, 'nice_title')"
   ]
  },
  {
   "cell_type": "code",
   "execution_count": 84,
   "metadata": {
    "collapsed": true
   },
   "outputs": [],
   "source": [
    "terms = ['senior', 'anal.', 'principal', 'expert', 'manager', 'relocation', 'engineer', 'machine', \\\n",
    "        'associate', 'stat.', 'financial', 'lead', 'quantitative', 'predictive', 'visualization', 'sci.', 'developer']"
   ]
  },
  {
   "cell_type": "code",
   "execution_count": 85,
   "metadata": {
    "collapsed": false
   },
   "outputs": [],
   "source": [
    "def term_dummify(df, column_name, terms):\n",
    "    '''This function creates a dummy variable column in a dataframe df according to whether each element in the list\\\n",
    "    found in the column whose name is provided.'''\n",
    "    for i in terms:\n",
    "        y = '(' + i + ')'\n",
    "        df[i] = df[column_name].str.extract(y) \n",
    "        df[i] = df[i].replace(i, 1)\n",
    "        df[i] = df[i].replace('NaN', 0)\n",
    "        df[i] = df[i].apply(lambda x: int(x))\n",
    "    return "
   ]
  },
  {
   "cell_type": "code",
   "execution_count": 86,
   "metadata": {
    "collapsed": false
   },
   "outputs": [
    {
     "name": "stderr",
     "output_type": "stream",
     "text": [
      "/Users/Rebecca/anaconda/lib/python2.7/site-packages/ipykernel/__main__.py:5: FutureWarning: currently extract(expand=None) means expand=False (return Index/Series/DataFrame) but in a future version of pandas this will be changed to expand=True (return DataFrame)\n"
     ]
    }
   ],
   "source": [
    "term_dummify(sal_df, 'nice_title', terms)"
   ]
  },
  {
   "cell_type": "code",
   "execution_count": 87,
   "metadata": {
    "collapsed": false
   },
   "outputs": [
    {
     "data": {
      "text/html": [
       "<div>\n",
       "<table border=\"1\" class=\"dataframe\">\n",
       "  <thead>\n",
       "    <tr style=\"text-align: right;\">\n",
       "      <th></th>\n",
       "      <th>title</th>\n",
       "      <th>location</th>\n",
       "      <th>company</th>\n",
       "      <th>city</th>\n",
       "      <th>state</th>\n",
       "      <th>parsed_salary</th>\n",
       "      <th>sal_dummy</th>\n",
       "      <th>inc_tax_rate</th>\n",
       "      <th>nice_title</th>\n",
       "      <th>senior</th>\n",
       "      <th>...</th>\n",
       "      <th>machine</th>\n",
       "      <th>associate</th>\n",
       "      <th>stat.</th>\n",
       "      <th>financial</th>\n",
       "      <th>lead</th>\n",
       "      <th>quantitative</th>\n",
       "      <th>predictive</th>\n",
       "      <th>visualization</th>\n",
       "      <th>sci.</th>\n",
       "      <th>developer</th>\n",
       "    </tr>\n",
       "  </thead>\n",
       "  <tbody>\n",
       "    <tr>\n",
       "      <th>0</th>\n",
       "      <td>Data Scientist – Predictive Analytics</td>\n",
       "      <td>Waltham, MA</td>\n",
       "      <td>Jobspring Partners</td>\n",
       "      <td>Boston</td>\n",
       "      <td>MA</td>\n",
       "      <td>135000.0</td>\n",
       "      <td>1</td>\n",
       "      <td>5.1</td>\n",
       "      <td>data sci.     predictive anal.</td>\n",
       "      <td>0</td>\n",
       "      <td>...</td>\n",
       "      <td>0</td>\n",
       "      <td>0</td>\n",
       "      <td>0</td>\n",
       "      <td>0</td>\n",
       "      <td>0</td>\n",
       "      <td>0</td>\n",
       "      <td>1</td>\n",
       "      <td>0</td>\n",
       "      <td>1</td>\n",
       "      <td>0</td>\n",
       "    </tr>\n",
       "    <tr>\n",
       "      <th>1</th>\n",
       "      <td>Data Scientist, Machine Learning Engineer</td>\n",
       "      <td>Cambridge, MA 02141 (East Cambridge area)</td>\n",
       "      <td>Bivium Group</td>\n",
       "      <td>Boston</td>\n",
       "      <td>MA</td>\n",
       "      <td>125000.0</td>\n",
       "      <td>1</td>\n",
       "      <td>5.1</td>\n",
       "      <td>data sci.  machine learning engineer</td>\n",
       "      <td>0</td>\n",
       "      <td>...</td>\n",
       "      <td>1</td>\n",
       "      <td>0</td>\n",
       "      <td>0</td>\n",
       "      <td>0</td>\n",
       "      <td>0</td>\n",
       "      <td>0</td>\n",
       "      <td>0</td>\n",
       "      <td>0</td>\n",
       "      <td>1</td>\n",
       "      <td>0</td>\n",
       "    </tr>\n",
       "  </tbody>\n",
       "</table>\n",
       "<p>2 rows × 26 columns</p>\n",
       "</div>"
      ],
      "text/plain": [
       "                                       title  \\\n",
       "0      Data Scientist – Predictive Analytics   \n",
       "1  Data Scientist, Machine Learning Engineer   \n",
       "\n",
       "                                    location             company    city  \\\n",
       "0                                Waltham, MA  Jobspring Partners  Boston   \n",
       "1  Cambridge, MA 02141 (East Cambridge area)        Bivium Group  Boston   \n",
       "\n",
       "  state  parsed_salary  sal_dummy  inc_tax_rate  \\\n",
       "0    MA       135000.0          1           5.1   \n",
       "1    MA       125000.0          1           5.1   \n",
       "\n",
       "                             nice_title  senior    ...      machine  \\\n",
       "0        data sci.     predictive anal.       0    ...            0   \n",
       "1  data sci.  machine learning engineer       0    ...            1   \n",
       "\n",
       "   associate  stat.  financial  lead  quantitative  predictive  visualization  \\\n",
       "0          0      0          0     0             0           1              0   \n",
       "1          0      0          0     0             0           0              0   \n",
       "\n",
       "   sci.  developer  \n",
       "0     1          0  \n",
       "1     1          0  \n",
       "\n",
       "[2 rows x 26 columns]"
      ]
     },
     "execution_count": 87,
     "metadata": {},
     "output_type": "execute_result"
    }
   ],
   "source": [
    "sal_df.head(2)"
   ]
  },
  {
   "cell_type": "markdown",
   "metadata": {},
   "source": [
    "Perform a logistic regression on the salary dummy column using the term dummy columns as model features:"
   ]
  },
  {
   "cell_type": "code",
   "execution_count": 88,
   "metadata": {
    "collapsed": false
   },
   "outputs": [],
   "source": [
    "X_title = pd.DataFrame(sal_df[terms])\n",
    "X_title['intercept'] = 1\n",
    "y = sal_df['sal_dummy'] # same target"
   ]
  },
  {
   "cell_type": "code",
   "execution_count": 89,
   "metadata": {
    "collapsed": false
   },
   "outputs": [
    {
     "data": {
      "text/html": [
       "<div>\n",
       "<table border=\"1\" class=\"dataframe\">\n",
       "  <thead>\n",
       "    <tr style=\"text-align: right;\">\n",
       "      <th></th>\n",
       "      <th>senior</th>\n",
       "      <th>anal.</th>\n",
       "      <th>principal</th>\n",
       "      <th>expert</th>\n",
       "      <th>manager</th>\n",
       "      <th>relocation</th>\n",
       "      <th>engineer</th>\n",
       "      <th>machine</th>\n",
       "      <th>associate</th>\n",
       "      <th>stat.</th>\n",
       "      <th>financial</th>\n",
       "      <th>lead</th>\n",
       "      <th>quantitative</th>\n",
       "      <th>predictive</th>\n",
       "      <th>visualization</th>\n",
       "      <th>sci.</th>\n",
       "      <th>developer</th>\n",
       "      <th>intercept</th>\n",
       "    </tr>\n",
       "  </thead>\n",
       "  <tbody>\n",
       "    <tr>\n",
       "      <th>0</th>\n",
       "      <td>0</td>\n",
       "      <td>1</td>\n",
       "      <td>0</td>\n",
       "      <td>0</td>\n",
       "      <td>0</td>\n",
       "      <td>0</td>\n",
       "      <td>0</td>\n",
       "      <td>0</td>\n",
       "      <td>0</td>\n",
       "      <td>0</td>\n",
       "      <td>0</td>\n",
       "      <td>0</td>\n",
       "      <td>0</td>\n",
       "      <td>1</td>\n",
       "      <td>0</td>\n",
       "      <td>1</td>\n",
       "      <td>0</td>\n",
       "      <td>1</td>\n",
       "    </tr>\n",
       "  </tbody>\n",
       "</table>\n",
       "</div>"
      ],
      "text/plain": [
       "   senior  anal.  principal  expert  manager  relocation  engineer  machine  \\\n",
       "0       0      1          0       0        0           0         0        0   \n",
       "\n",
       "   associate  stat.  financial  lead  quantitative  predictive  visualization  \\\n",
       "0          0      0          0     0             0           1              0   \n",
       "\n",
       "   sci.  developer  intercept  \n",
       "0     1          0          1  "
      ]
     },
     "execution_count": 89,
     "metadata": {},
     "output_type": "execute_result"
    }
   ],
   "source": [
    "X_title.head(1)"
   ]
  },
  {
   "cell_type": "code",
   "execution_count": 90,
   "metadata": {
    "collapsed": false
   },
   "outputs": [
    {
     "data": {
      "text/html": [
       "<div>\n",
       "<table border=\"1\" class=\"dataframe\">\n",
       "  <thead>\n",
       "    <tr style=\"text-align: right;\">\n",
       "      <th></th>\n",
       "      <th>senior</th>\n",
       "      <th>anal.</th>\n",
       "      <th>principal</th>\n",
       "      <th>expert</th>\n",
       "      <th>manager</th>\n",
       "      <th>relocation</th>\n",
       "      <th>engineer</th>\n",
       "      <th>machine</th>\n",
       "      <th>associate</th>\n",
       "      <th>stat.</th>\n",
       "      <th>financial</th>\n",
       "      <th>lead</th>\n",
       "      <th>quantitative</th>\n",
       "      <th>predictive</th>\n",
       "      <th>visualization</th>\n",
       "      <th>sci.</th>\n",
       "      <th>developer</th>\n",
       "      <th>intercept</th>\n",
       "    </tr>\n",
       "  </thead>\n",
       "  <tbody>\n",
       "    <tr>\n",
       "      <th>senior</th>\n",
       "      <td>0.120215</td>\n",
       "      <td>-0.037329</td>\n",
       "      <td>-0.003220</td>\n",
       "      <td>0.0</td>\n",
       "      <td>-0.002147</td>\n",
       "      <td>-0.002147</td>\n",
       "      <td>0.023375</td>\n",
       "      <td>0.045915</td>\n",
       "      <td>0.0</td>\n",
       "      <td>-0.008587</td>\n",
       "      <td>0.0</td>\n",
       "      <td>-0.007513</td>\n",
       "      <td>-0.002147</td>\n",
       "      <td>-0.020394</td>\n",
       "      <td>-0.005367</td>\n",
       "      <td>-0.024448</td>\n",
       "      <td>-0.004293</td>\n",
       "      <td>0.0</td>\n",
       "    </tr>\n",
       "    <tr>\n",
       "      <th>anal.</th>\n",
       "      <td>-0.037329</td>\n",
       "      <td>0.220394</td>\n",
       "      <td>-0.007513</td>\n",
       "      <td>0.0</td>\n",
       "      <td>0.002743</td>\n",
       "      <td>-0.005009</td>\n",
       "      <td>-0.051401</td>\n",
       "      <td>-0.037567</td>\n",
       "      <td>0.0</td>\n",
       "      <td>0.018724</td>\n",
       "      <td>0.0</td>\n",
       "      <td>-0.009779</td>\n",
       "      <td>0.010495</td>\n",
       "      <td>0.099702</td>\n",
       "      <td>0.026237</td>\n",
       "      <td>-0.028623</td>\n",
       "      <td>0.020990</td>\n",
       "      <td>0.0</td>\n",
       "    </tr>\n",
       "    <tr>\n",
       "      <th>principal</th>\n",
       "      <td>-0.003220</td>\n",
       "      <td>-0.007513</td>\n",
       "      <td>0.022719</td>\n",
       "      <td>0.0</td>\n",
       "      <td>-0.000358</td>\n",
       "      <td>-0.000358</td>\n",
       "      <td>-0.006440</td>\n",
       "      <td>-0.002683</td>\n",
       "      <td>0.0</td>\n",
       "      <td>-0.001431</td>\n",
       "      <td>0.0</td>\n",
       "      <td>-0.001252</td>\n",
       "      <td>-0.000358</td>\n",
       "      <td>-0.003399</td>\n",
       "      <td>-0.000894</td>\n",
       "      <td>0.006261</td>\n",
       "      <td>-0.000716</td>\n",
       "      <td>0.0</td>\n",
       "    </tr>\n",
       "    <tr>\n",
       "      <th>expert</th>\n",
       "      <td>0.000000</td>\n",
       "      <td>0.000000</td>\n",
       "      <td>0.000000</td>\n",
       "      <td>0.0</td>\n",
       "      <td>0.000000</td>\n",
       "      <td>0.000000</td>\n",
       "      <td>0.000000</td>\n",
       "      <td>0.000000</td>\n",
       "      <td>0.0</td>\n",
       "      <td>0.000000</td>\n",
       "      <td>0.0</td>\n",
       "      <td>0.000000</td>\n",
       "      <td>0.000000</td>\n",
       "      <td>0.000000</td>\n",
       "      <td>0.000000</td>\n",
       "      <td>0.000000</td>\n",
       "      <td>0.000000</td>\n",
       "      <td>0.0</td>\n",
       "    </tr>\n",
       "    <tr>\n",
       "      <th>manager</th>\n",
       "      <td>-0.002147</td>\n",
       "      <td>0.002743</td>\n",
       "      <td>-0.000358</td>\n",
       "      <td>0.0</td>\n",
       "      <td>0.015265</td>\n",
       "      <td>-0.000239</td>\n",
       "      <td>-0.004293</td>\n",
       "      <td>-0.001789</td>\n",
       "      <td>0.0</td>\n",
       "      <td>-0.000954</td>\n",
       "      <td>0.0</td>\n",
       "      <td>-0.000835</td>\n",
       "      <td>-0.000239</td>\n",
       "      <td>-0.002266</td>\n",
       "      <td>-0.000596</td>\n",
       "      <td>-0.003578</td>\n",
       "      <td>-0.000477</td>\n",
       "      <td>0.0</td>\n",
       "    </tr>\n",
       "    <tr>\n",
       "      <th>relocation</th>\n",
       "      <td>-0.002147</td>\n",
       "      <td>-0.005009</td>\n",
       "      <td>-0.000358</td>\n",
       "      <td>0.0</td>\n",
       "      <td>-0.000239</td>\n",
       "      <td>0.015265</td>\n",
       "      <td>0.011210</td>\n",
       "      <td>-0.001789</td>\n",
       "      <td>0.0</td>\n",
       "      <td>-0.000954</td>\n",
       "      <td>0.0</td>\n",
       "      <td>-0.000835</td>\n",
       "      <td>-0.000239</td>\n",
       "      <td>-0.002266</td>\n",
       "      <td>-0.000596</td>\n",
       "      <td>-0.011330</td>\n",
       "      <td>-0.000477</td>\n",
       "      <td>0.0</td>\n",
       "    </tr>\n",
       "    <tr>\n",
       "      <th>engineer</th>\n",
       "      <td>0.023375</td>\n",
       "      <td>-0.051401</td>\n",
       "      <td>-0.006440</td>\n",
       "      <td>0.0</td>\n",
       "      <td>-0.004293</td>\n",
       "      <td>0.011210</td>\n",
       "      <td>0.201789</td>\n",
       "      <td>0.084079</td>\n",
       "      <td>0.0</td>\n",
       "      <td>-0.017174</td>\n",
       "      <td>0.0</td>\n",
       "      <td>-0.015027</td>\n",
       "      <td>-0.004293</td>\n",
       "      <td>-0.040787</td>\n",
       "      <td>0.028026</td>\n",
       "      <td>-0.072153</td>\n",
       "      <td>-0.008587</td>\n",
       "      <td>0.0</td>\n",
       "    </tr>\n",
       "    <tr>\n",
       "      <th>machine</th>\n",
       "      <td>0.045915</td>\n",
       "      <td>-0.037567</td>\n",
       "      <td>-0.002683</td>\n",
       "      <td>0.0</td>\n",
       "      <td>-0.001789</td>\n",
       "      <td>-0.001789</td>\n",
       "      <td>0.084079</td>\n",
       "      <td>0.102862</td>\n",
       "      <td>0.0</td>\n",
       "      <td>-0.007156</td>\n",
       "      <td>0.0</td>\n",
       "      <td>-0.006261</td>\n",
       "      <td>-0.001789</td>\n",
       "      <td>-0.016995</td>\n",
       "      <td>-0.004472</td>\n",
       "      <td>-0.038462</td>\n",
       "      <td>-0.003578</td>\n",
       "      <td>0.0</td>\n",
       "    </tr>\n",
       "    <tr>\n",
       "      <th>associate</th>\n",
       "      <td>0.000000</td>\n",
       "      <td>0.000000</td>\n",
       "      <td>0.000000</td>\n",
       "      <td>0.0</td>\n",
       "      <td>0.000000</td>\n",
       "      <td>0.000000</td>\n",
       "      <td>0.000000</td>\n",
       "      <td>0.000000</td>\n",
       "      <td>0.0</td>\n",
       "      <td>0.000000</td>\n",
       "      <td>0.0</td>\n",
       "      <td>0.000000</td>\n",
       "      <td>0.000000</td>\n",
       "      <td>0.000000</td>\n",
       "      <td>0.000000</td>\n",
       "      <td>0.000000</td>\n",
       "      <td>0.000000</td>\n",
       "      <td>0.0</td>\n",
       "    </tr>\n",
       "    <tr>\n",
       "      <th>stat.</th>\n",
       "      <td>-0.008587</td>\n",
       "      <td>0.018724</td>\n",
       "      <td>-0.001431</td>\n",
       "      <td>0.0</td>\n",
       "      <td>-0.000954</td>\n",
       "      <td>-0.000954</td>\n",
       "      <td>-0.017174</td>\n",
       "      <td>-0.007156</td>\n",
       "      <td>0.0</td>\n",
       "      <td>0.058199</td>\n",
       "      <td>0.0</td>\n",
       "      <td>-0.003339</td>\n",
       "      <td>-0.000954</td>\n",
       "      <td>-0.009064</td>\n",
       "      <td>-0.002385</td>\n",
       "      <td>-0.045319</td>\n",
       "      <td>-0.001908</td>\n",
       "      <td>0.0</td>\n",
       "    </tr>\n",
       "    <tr>\n",
       "      <th>financial</th>\n",
       "      <td>0.000000</td>\n",
       "      <td>0.000000</td>\n",
       "      <td>0.000000</td>\n",
       "      <td>0.0</td>\n",
       "      <td>0.000000</td>\n",
       "      <td>0.000000</td>\n",
       "      <td>0.000000</td>\n",
       "      <td>0.000000</td>\n",
       "      <td>0.0</td>\n",
       "      <td>0.000000</td>\n",
       "      <td>0.0</td>\n",
       "      <td>0.000000</td>\n",
       "      <td>0.000000</td>\n",
       "      <td>0.000000</td>\n",
       "      <td>0.000000</td>\n",
       "      <td>0.000000</td>\n",
       "      <td>0.000000</td>\n",
       "      <td>0.0</td>\n",
       "    </tr>\n",
       "    <tr>\n",
       "      <th>lead</th>\n",
       "      <td>-0.007513</td>\n",
       "      <td>-0.009779</td>\n",
       "      <td>-0.001252</td>\n",
       "      <td>0.0</td>\n",
       "      <td>-0.000835</td>\n",
       "      <td>-0.000835</td>\n",
       "      <td>-0.015027</td>\n",
       "      <td>-0.006261</td>\n",
       "      <td>0.0</td>\n",
       "      <td>-0.003339</td>\n",
       "      <td>0.0</td>\n",
       "      <td>0.051342</td>\n",
       "      <td>-0.000835</td>\n",
       "      <td>-0.007931</td>\n",
       "      <td>-0.002087</td>\n",
       "      <td>-0.000894</td>\n",
       "      <td>-0.001670</td>\n",
       "      <td>0.0</td>\n",
       "    </tr>\n",
       "    <tr>\n",
       "      <th>quantitative</th>\n",
       "      <td>-0.002147</td>\n",
       "      <td>0.010495</td>\n",
       "      <td>-0.000358</td>\n",
       "      <td>0.0</td>\n",
       "      <td>-0.000239</td>\n",
       "      <td>-0.000239</td>\n",
       "      <td>-0.004293</td>\n",
       "      <td>-0.001789</td>\n",
       "      <td>0.0</td>\n",
       "      <td>-0.000954</td>\n",
       "      <td>0.0</td>\n",
       "      <td>-0.000835</td>\n",
       "      <td>0.015265</td>\n",
       "      <td>-0.002266</td>\n",
       "      <td>-0.000596</td>\n",
       "      <td>-0.011330</td>\n",
       "      <td>-0.000477</td>\n",
       "      <td>0.0</td>\n",
       "    </tr>\n",
       "    <tr>\n",
       "      <th>predictive</th>\n",
       "      <td>-0.020394</td>\n",
       "      <td>0.099702</td>\n",
       "      <td>-0.003399</td>\n",
       "      <td>0.0</td>\n",
       "      <td>-0.002266</td>\n",
       "      <td>-0.002266</td>\n",
       "      <td>-0.040787</td>\n",
       "      <td>-0.016995</td>\n",
       "      <td>0.0</td>\n",
       "      <td>-0.009064</td>\n",
       "      <td>0.0</td>\n",
       "      <td>-0.007931</td>\n",
       "      <td>-0.002266</td>\n",
       "      <td>0.125760</td>\n",
       "      <td>-0.005665</td>\n",
       "      <td>0.039654</td>\n",
       "      <td>-0.004532</td>\n",
       "      <td>0.0</td>\n",
       "    </tr>\n",
       "    <tr>\n",
       "      <th>visualization</th>\n",
       "      <td>-0.005367</td>\n",
       "      <td>0.026237</td>\n",
       "      <td>-0.000894</td>\n",
       "      <td>0.0</td>\n",
       "      <td>-0.000596</td>\n",
       "      <td>-0.000596</td>\n",
       "      <td>0.028026</td>\n",
       "      <td>-0.004472</td>\n",
       "      <td>0.0</td>\n",
       "      <td>-0.002385</td>\n",
       "      <td>0.0</td>\n",
       "      <td>-0.002087</td>\n",
       "      <td>-0.000596</td>\n",
       "      <td>-0.005665</td>\n",
       "      <td>0.037269</td>\n",
       "      <td>-0.028324</td>\n",
       "      <td>-0.001193</td>\n",
       "      <td>0.0</td>\n",
       "    </tr>\n",
       "    <tr>\n",
       "      <th>sci.</th>\n",
       "      <td>-0.024448</td>\n",
       "      <td>-0.028623</td>\n",
       "      <td>0.006261</td>\n",
       "      <td>0.0</td>\n",
       "      <td>-0.003578</td>\n",
       "      <td>-0.011330</td>\n",
       "      <td>-0.072153</td>\n",
       "      <td>-0.038462</td>\n",
       "      <td>0.0</td>\n",
       "      <td>-0.045319</td>\n",
       "      <td>0.0</td>\n",
       "      <td>-0.000894</td>\n",
       "      <td>-0.011330</td>\n",
       "      <td>0.039654</td>\n",
       "      <td>-0.028324</td>\n",
       "      <td>0.198271</td>\n",
       "      <td>0.008348</td>\n",
       "      <td>0.0</td>\n",
       "    </tr>\n",
       "    <tr>\n",
       "      <th>developer</th>\n",
       "      <td>-0.004293</td>\n",
       "      <td>0.020990</td>\n",
       "      <td>-0.000716</td>\n",
       "      <td>0.0</td>\n",
       "      <td>-0.000477</td>\n",
       "      <td>-0.000477</td>\n",
       "      <td>-0.008587</td>\n",
       "      <td>-0.003578</td>\n",
       "      <td>0.0</td>\n",
       "      <td>-0.001908</td>\n",
       "      <td>0.0</td>\n",
       "      <td>-0.001670</td>\n",
       "      <td>-0.000477</td>\n",
       "      <td>-0.004532</td>\n",
       "      <td>-0.001193</td>\n",
       "      <td>0.008348</td>\n",
       "      <td>0.030054</td>\n",
       "      <td>0.0</td>\n",
       "    </tr>\n",
       "    <tr>\n",
       "      <th>intercept</th>\n",
       "      <td>0.000000</td>\n",
       "      <td>0.000000</td>\n",
       "      <td>0.000000</td>\n",
       "      <td>0.0</td>\n",
       "      <td>0.000000</td>\n",
       "      <td>0.000000</td>\n",
       "      <td>0.000000</td>\n",
       "      <td>0.000000</td>\n",
       "      <td>0.0</td>\n",
       "      <td>0.000000</td>\n",
       "      <td>0.0</td>\n",
       "      <td>0.000000</td>\n",
       "      <td>0.000000</td>\n",
       "      <td>0.000000</td>\n",
       "      <td>0.000000</td>\n",
       "      <td>0.000000</td>\n",
       "      <td>0.000000</td>\n",
       "      <td>0.0</td>\n",
       "    </tr>\n",
       "  </tbody>\n",
       "</table>\n",
       "</div>"
      ],
      "text/plain": [
       "                 senior     anal.  principal  expert   manager  relocation  \\\n",
       "senior         0.120215 -0.037329  -0.003220     0.0 -0.002147   -0.002147   \n",
       "anal.         -0.037329  0.220394  -0.007513     0.0  0.002743   -0.005009   \n",
       "principal     -0.003220 -0.007513   0.022719     0.0 -0.000358   -0.000358   \n",
       "expert         0.000000  0.000000   0.000000     0.0  0.000000    0.000000   \n",
       "manager       -0.002147  0.002743  -0.000358     0.0  0.015265   -0.000239   \n",
       "relocation    -0.002147 -0.005009  -0.000358     0.0 -0.000239    0.015265   \n",
       "engineer       0.023375 -0.051401  -0.006440     0.0 -0.004293    0.011210   \n",
       "machine        0.045915 -0.037567  -0.002683     0.0 -0.001789   -0.001789   \n",
       "associate      0.000000  0.000000   0.000000     0.0  0.000000    0.000000   \n",
       "stat.         -0.008587  0.018724  -0.001431     0.0 -0.000954   -0.000954   \n",
       "financial      0.000000  0.000000   0.000000     0.0  0.000000    0.000000   \n",
       "lead          -0.007513 -0.009779  -0.001252     0.0 -0.000835   -0.000835   \n",
       "quantitative  -0.002147  0.010495  -0.000358     0.0 -0.000239   -0.000239   \n",
       "predictive    -0.020394  0.099702  -0.003399     0.0 -0.002266   -0.002266   \n",
       "visualization -0.005367  0.026237  -0.000894     0.0 -0.000596   -0.000596   \n",
       "sci.          -0.024448 -0.028623   0.006261     0.0 -0.003578   -0.011330   \n",
       "developer     -0.004293  0.020990  -0.000716     0.0 -0.000477   -0.000477   \n",
       "intercept      0.000000  0.000000   0.000000     0.0  0.000000    0.000000   \n",
       "\n",
       "               engineer   machine  associate     stat.  financial      lead  \\\n",
       "senior         0.023375  0.045915        0.0 -0.008587        0.0 -0.007513   \n",
       "anal.         -0.051401 -0.037567        0.0  0.018724        0.0 -0.009779   \n",
       "principal     -0.006440 -0.002683        0.0 -0.001431        0.0 -0.001252   \n",
       "expert         0.000000  0.000000        0.0  0.000000        0.0  0.000000   \n",
       "manager       -0.004293 -0.001789        0.0 -0.000954        0.0 -0.000835   \n",
       "relocation     0.011210 -0.001789        0.0 -0.000954        0.0 -0.000835   \n",
       "engineer       0.201789  0.084079        0.0 -0.017174        0.0 -0.015027   \n",
       "machine        0.084079  0.102862        0.0 -0.007156        0.0 -0.006261   \n",
       "associate      0.000000  0.000000        0.0  0.000000        0.0  0.000000   \n",
       "stat.         -0.017174 -0.007156        0.0  0.058199        0.0 -0.003339   \n",
       "financial      0.000000  0.000000        0.0  0.000000        0.0  0.000000   \n",
       "lead          -0.015027 -0.006261        0.0 -0.003339        0.0  0.051342   \n",
       "quantitative  -0.004293 -0.001789        0.0 -0.000954        0.0 -0.000835   \n",
       "predictive    -0.040787 -0.016995        0.0 -0.009064        0.0 -0.007931   \n",
       "visualization  0.028026 -0.004472        0.0 -0.002385        0.0 -0.002087   \n",
       "sci.          -0.072153 -0.038462        0.0 -0.045319        0.0 -0.000894   \n",
       "developer     -0.008587 -0.003578        0.0 -0.001908        0.0 -0.001670   \n",
       "intercept      0.000000  0.000000        0.0  0.000000        0.0  0.000000   \n",
       "\n",
       "               quantitative  predictive  visualization      sci.  developer  \\\n",
       "senior            -0.002147   -0.020394      -0.005367 -0.024448  -0.004293   \n",
       "anal.              0.010495    0.099702       0.026237 -0.028623   0.020990   \n",
       "principal         -0.000358   -0.003399      -0.000894  0.006261  -0.000716   \n",
       "expert             0.000000    0.000000       0.000000  0.000000   0.000000   \n",
       "manager           -0.000239   -0.002266      -0.000596 -0.003578  -0.000477   \n",
       "relocation        -0.000239   -0.002266      -0.000596 -0.011330  -0.000477   \n",
       "engineer          -0.004293   -0.040787       0.028026 -0.072153  -0.008587   \n",
       "machine           -0.001789   -0.016995      -0.004472 -0.038462  -0.003578   \n",
       "associate          0.000000    0.000000       0.000000  0.000000   0.000000   \n",
       "stat.             -0.000954   -0.009064      -0.002385 -0.045319  -0.001908   \n",
       "financial          0.000000    0.000000       0.000000  0.000000   0.000000   \n",
       "lead              -0.000835   -0.007931      -0.002087 -0.000894  -0.001670   \n",
       "quantitative       0.015265   -0.002266      -0.000596 -0.011330  -0.000477   \n",
       "predictive        -0.002266    0.125760      -0.005665  0.039654  -0.004532   \n",
       "visualization     -0.000596   -0.005665       0.037269 -0.028324  -0.001193   \n",
       "sci.              -0.011330    0.039654      -0.028324  0.198271   0.008348   \n",
       "developer         -0.000477   -0.004532      -0.001193  0.008348   0.030054   \n",
       "intercept          0.000000    0.000000       0.000000  0.000000   0.000000   \n",
       "\n",
       "               intercept  \n",
       "senior               0.0  \n",
       "anal.                0.0  \n",
       "principal            0.0  \n",
       "expert               0.0  \n",
       "manager              0.0  \n",
       "relocation           0.0  \n",
       "engineer             0.0  \n",
       "machine              0.0  \n",
       "associate            0.0  \n",
       "stat.                0.0  \n",
       "financial            0.0  \n",
       "lead                 0.0  \n",
       "quantitative         0.0  \n",
       "predictive           0.0  \n",
       "visualization        0.0  \n",
       "sci.                 0.0  \n",
       "developer            0.0  \n",
       "intercept            0.0  "
      ]
     },
     "execution_count": 90,
     "metadata": {},
     "output_type": "execute_result"
    }
   ],
   "source": [
    "X_title.cov()"
   ]
  },
  {
   "cell_type": "code",
   "execution_count": 91,
   "metadata": {
    "collapsed": false
   },
   "outputs": [],
   "source": [
    "del X_title['expert']\n",
    "del X_title['associate']\n",
    "del X_title['financial']"
   ]
  },
  {
   "cell_type": "code",
   "execution_count": 92,
   "metadata": {
    "collapsed": true
   },
   "outputs": [],
   "source": [
    "model_title = st.MNLogit(y, X_title)"
   ]
  },
  {
   "cell_type": "code",
   "execution_count": 93,
   "metadata": {
    "collapsed": false
   },
   "outputs": [
    {
     "name": "stdout",
     "output_type": "stream",
     "text": [
      "Warning: Maximum number of iterations has been exceeded.\n",
      "         Current function value: 0.614781\n",
      "         Iterations: 35\n",
      "         Function evaluations: 37\n",
      "         Gradient evaluations: 37\n"
     ]
    },
    {
     "name": "stderr",
     "output_type": "stream",
     "text": [
      "/Users/Rebecca/anaconda/lib/python2.7/site-packages/statsmodels/base/model.py:466: ConvergenceWarning: Maximum Likelihood optimization failed to converge. Check mle_retvals\n",
      "  \"Check mle_retvals\", ConvergenceWarning)\n"
     ]
    }
   ],
   "source": [
    "model_title_fit = model_title.fit(method = 'bfgs')"
   ]
  },
  {
   "cell_type": "code",
   "execution_count": 94,
   "metadata": {
    "collapsed": false
   },
   "outputs": [
    {
     "data": {
      "text/html": [
       "<table class=\"simpletable\">\n",
       "<caption>MNLogit Regression Results</caption>\n",
       "<tr>\n",
       "  <th>Dep. Variable:</th>     <td>sal_dummy</td>    <th>  No. Observations:  </th>  <td>   130</td> \n",
       "</tr>\n",
       "<tr>\n",
       "  <th>Model:</th>              <td>MNLogit</td>     <th>  Df Residuals:      </th>  <td>   115</td> \n",
       "</tr>\n",
       "<tr>\n",
       "  <th>Method:</th>               <td>MLE</td>       <th>  Df Model:          </th>  <td>    14</td> \n",
       "</tr>\n",
       "<tr>\n",
       "  <th>Date:</th>          <td>Mon, 11 Jul 2016</td> <th>  Pseudo R-squ.:     </th>  <td>0.1129</td> \n",
       "</tr>\n",
       "<tr>\n",
       "  <th>Time:</th>              <td>02:31:32</td>     <th>  Log-Likelihood:    </th> <td> -79.922</td>\n",
       "</tr>\n",
       "<tr>\n",
       "  <th>converged:</th>           <td>False</td>      <th>  LL-Null:           </th> <td> -90.094</td>\n",
       "</tr>\n",
       "<tr>\n",
       "  <th> </th>                      <td> </td>        <th>  LLR p-value:       </th>  <td>0.1197</td> \n",
       "</tr>\n",
       "</table>\n",
       "<table class=\"simpletable\">\n",
       "<tr>\n",
       "   <th>sal_dummy=1</th>     <th>coef</th>     <th>std err</th>      <th>z</th>      <th>P>|z|</th> <th>[95.0% Conf. Int.]</th> \n",
       "</tr>\n",
       "<tr>\n",
       "  <th>senior</th>        <td>    0.4791</td> <td>    0.619</td> <td>    0.774</td> <td> 0.439</td> <td>   -0.734     1.692</td>\n",
       "</tr>\n",
       "<tr>\n",
       "  <th>anal.</th>         <td>    0.7279</td> <td>    0.821</td> <td>    0.887</td> <td> 0.375</td> <td>   -0.881     2.337</td>\n",
       "</tr>\n",
       "<tr>\n",
       "  <th>principal</th>     <td>   -0.0903</td> <td>    1.291</td> <td>   -0.070</td> <td> 0.944</td> <td>   -2.620     2.439</td>\n",
       "</tr>\n",
       "<tr>\n",
       "  <th>manager</th>       <td>    0.5851</td> <td>    1.515</td> <td>    0.386</td> <td> 0.699</td> <td>   -2.383     3.554</td>\n",
       "</tr>\n",
       "<tr>\n",
       "  <th>relocation</th>    <td>    2.2661</td> <td>    2.337</td> <td>    0.970</td> <td> 0.332</td> <td>   -2.314     6.846</td>\n",
       "</tr>\n",
       "<tr>\n",
       "  <th>engineer</th>      <td>    1.3217</td> <td>    0.678</td> <td>    1.948</td> <td> 0.051</td> <td>   -0.008     2.651</td>\n",
       "</tr>\n",
       "<tr>\n",
       "  <th>machine</th>       <td>   -0.4663</td> <td>    0.842</td> <td>   -0.554</td> <td> 0.580</td> <td>   -2.116     1.183</td>\n",
       "</tr>\n",
       "<tr>\n",
       "  <th>stat.</th>         <td>    3.3096</td> <td>    1.394</td> <td>    2.374</td> <td> 0.018</td> <td>    0.577     6.042</td>\n",
       "</tr>\n",
       "<tr>\n",
       "  <th>lead</th>          <td>    0.5902</td> <td>    0.856</td> <td>    0.689</td> <td> 0.491</td> <td>   -1.088     2.268</td>\n",
       "</tr>\n",
       "<tr>\n",
       "  <th>quantitative</th>  <td>   -2.4488</td> <td>    3.897</td> <td>   -0.628</td> <td> 0.530</td> <td>  -10.088     5.190</td>\n",
       "</tr>\n",
       "<tr>\n",
       "  <th>predictive</th>    <td>    0.5053</td> <td>    0.930</td> <td>    0.543</td> <td> 0.587</td> <td>   -1.318     2.328</td>\n",
       "</tr>\n",
       "<tr>\n",
       "  <th>visualization</th> <td>    0.8983</td> <td>    1.517</td> <td>    0.592</td> <td> 0.554</td> <td>   -2.074     3.871</td>\n",
       "</tr>\n",
       "<tr>\n",
       "  <th>sci.</th>          <td>    0.8660</td> <td>    0.693</td> <td>    1.249</td> <td> 0.212</td> <td>   -0.493     2.225</td>\n",
       "</tr>\n",
       "<tr>\n",
       "  <th>developer</th>     <td>   -1.1515</td> <td>    1.409</td> <td>   -0.817</td> <td> 0.414</td> <td>   -3.913     1.610</td>\n",
       "</tr>\n",
       "<tr>\n",
       "  <th>intercept</th>     <td>   -1.5597</td> <td>    0.799</td> <td>   -1.953</td> <td> 0.051</td> <td>   -3.125     0.006</td>\n",
       "</tr>\n",
       "</table>"
      ],
      "text/plain": [
       "<class 'statsmodels.iolib.summary.Summary'>\n",
       "\"\"\"\n",
       "                          MNLogit Regression Results                          \n",
       "==============================================================================\n",
       "Dep. Variable:              sal_dummy   No. Observations:                  130\n",
       "Model:                        MNLogit   Df Residuals:                      115\n",
       "Method:                           MLE   Df Model:                           14\n",
       "Date:                Mon, 11 Jul 2016   Pseudo R-squ.:                  0.1129\n",
       "Time:                        02:31:32   Log-Likelihood:                -79.922\n",
       "converged:                      False   LL-Null:                       -90.094\n",
       "                                        LLR p-value:                    0.1197\n",
       "=================================================================================\n",
       "  sal_dummy=1       coef    std err          z      P>|z|      [95.0% Conf. Int.]\n",
       "---------------------------------------------------------------------------------\n",
       "senior            0.4791      0.619      0.774      0.439        -0.734     1.692\n",
       "anal.             0.7279      0.821      0.887      0.375        -0.881     2.337\n",
       "principal        -0.0903      1.291     -0.070      0.944        -2.620     2.439\n",
       "manager           0.5851      1.515      0.386      0.699        -2.383     3.554\n",
       "relocation        2.2661      2.337      0.970      0.332        -2.314     6.846\n",
       "engineer          1.3217      0.678      1.948      0.051        -0.008     2.651\n",
       "machine          -0.4663      0.842     -0.554      0.580        -2.116     1.183\n",
       "stat.             3.3096      1.394      2.374      0.018         0.577     6.042\n",
       "lead              0.5902      0.856      0.689      0.491        -1.088     2.268\n",
       "quantitative     -2.4488      3.897     -0.628      0.530       -10.088     5.190\n",
       "predictive        0.5053      0.930      0.543      0.587        -1.318     2.328\n",
       "visualization     0.8983      1.517      0.592      0.554        -2.074     3.871\n",
       "sci.              0.8660      0.693      1.249      0.212        -0.493     2.225\n",
       "developer        -1.1515      1.409     -0.817      0.414        -3.913     1.610\n",
       "intercept        -1.5597      0.799     -1.953      0.051        -3.125     0.006\n",
       "=================================================================================\n",
       "\"\"\""
      ]
     },
     "execution_count": 94,
     "metadata": {},
     "output_type": "execute_result"
    }
   ],
   "source": [
    "model_title_fit.summary()"
   ]
  },
  {
   "cell_type": "code",
   "execution_count": 95,
   "metadata": {
    "collapsed": false
   },
   "outputs": [
    {
     "name": "stdout",
     "output_type": "stream",
     "text": [
      "AIC: 189.843176244\n",
      "BIC: 232.856193001\n"
     ]
    }
   ],
   "source": [
    "### aic and bic ###\n",
    "print 'AIC: %s' %model_title_fit.aic\n",
    "print 'BIC: %s' %model_title_fit.bic"
   ]
  },
  {
   "cell_type": "markdown",
   "metadata": {},
   "source": [
    "Looks like 'stat.' and 'engineer' are significant predictors in this model.  Let's set them as the only two features:"
   ]
  },
  {
   "cell_type": "code",
   "execution_count": 96,
   "metadata": {
    "collapsed": false
   },
   "outputs": [
    {
     "name": "stdout",
     "output_type": "stream",
     "text": [
      "Optimization terminated successfully.\n",
      "         Current function value: 0.661009\n",
      "         Iterations 6\n"
     ]
    },
    {
     "name": "stderr",
     "output_type": "stream",
     "text": [
      "/Users/Rebecca/anaconda/lib/python2.7/site-packages/ipykernel/__main__.py:3: SettingWithCopyWarning: \n",
      "A value is trying to be set on a copy of a slice from a DataFrame.\n",
      "Try using .loc[row_indexer,col_indexer] = value instead\n",
      "\n",
      "See the caveats in the documentation: http://pandas.pydata.org/pandas-docs/stable/indexing.html#indexing-view-versus-copy\n",
      "  app.launch_new_instance()\n"
     ]
    },
    {
     "data": {
      "text/html": [
       "<table class=\"simpletable\">\n",
       "<caption>MNLogit Regression Results</caption>\n",
       "<tr>\n",
       "  <th>Dep. Variable:</th>     <td>sal_dummy</td>    <th>  No. Observations:  </th>  <td>   130</td> \n",
       "</tr>\n",
       "<tr>\n",
       "  <th>Model:</th>              <td>MNLogit</td>     <th>  Df Residuals:      </th>  <td>   127</td> \n",
       "</tr>\n",
       "<tr>\n",
       "  <th>Method:</th>               <td>MLE</td>       <th>  Df Model:          </th>  <td>     2</td> \n",
       "</tr>\n",
       "<tr>\n",
       "  <th>Date:</th>          <td>Mon, 11 Jul 2016</td> <th>  Pseudo R-squ.:     </th>  <td>0.04620</td>\n",
       "</tr>\n",
       "<tr>\n",
       "  <th>Time:</th>              <td>02:31:33</td>     <th>  Log-Likelihood:    </th> <td> -85.931</td>\n",
       "</tr>\n",
       "<tr>\n",
       "  <th>converged:</th>           <td>True</td>       <th>  LL-Null:           </th> <td> -90.094</td>\n",
       "</tr>\n",
       "<tr>\n",
       "  <th> </th>                      <td> </td>        <th>  LLR p-value:       </th>  <td>0.01557</td>\n",
       "</tr>\n",
       "</table>\n",
       "<table class=\"simpletable\">\n",
       "<tr>\n",
       "  <th>sal_dummy=1</th>    <th>coef</th>     <th>std err</th>      <th>z</th>      <th>P>|z|</th> <th>[95.0% Conf. Int.]</th> \n",
       "</tr>\n",
       "<tr>\n",
       "  <th>stat.</th>       <td>    2.2744</td> <td>    1.091</td> <td>    2.084</td> <td> 0.037</td> <td>    0.136     4.413</td>\n",
       "</tr>\n",
       "<tr>\n",
       "  <th>engineer</th>    <td>    0.6650</td> <td>    0.403</td> <td>    1.652</td> <td> 0.099</td> <td>   -0.124     1.454</td>\n",
       "</tr>\n",
       "<tr>\n",
       "  <th>intercept</th>   <td>   -0.3285</td> <td>    0.219</td> <td>   -1.503</td> <td> 0.133</td> <td>   -0.757     0.100</td>\n",
       "</tr>\n",
       "</table>"
      ],
      "text/plain": [
       "<class 'statsmodels.iolib.summary.Summary'>\n",
       "\"\"\"\n",
       "                          MNLogit Regression Results                          \n",
       "==============================================================================\n",
       "Dep. Variable:              sal_dummy   No. Observations:                  130\n",
       "Model:                        MNLogit   Df Residuals:                      127\n",
       "Method:                           MLE   Df Model:                            2\n",
       "Date:                Mon, 11 Jul 2016   Pseudo R-squ.:                 0.04620\n",
       "Time:                        02:31:33   Log-Likelihood:                -85.931\n",
       "converged:                       True   LL-Null:                       -90.094\n",
       "                                        LLR p-value:                   0.01557\n",
       "===============================================================================\n",
       "sal_dummy=1       coef    std err          z      P>|z|      [95.0% Conf. Int.]\n",
       "-------------------------------------------------------------------------------\n",
       "stat.           2.2744      1.091      2.084      0.037         0.136     4.413\n",
       "engineer        0.6650      0.403      1.652      0.099        -0.124     1.454\n",
       "intercept      -0.3285      0.219     -1.503      0.133        -0.757     0.100\n",
       "===============================================================================\n",
       "\"\"\""
      ]
     },
     "execution_count": 96,
     "metadata": {},
     "output_type": "execute_result"
    }
   ],
   "source": [
    "nice_titles = ['stat.', 'engineer']\n",
    "X_nicetitle = X_title[nice_titles]\n",
    "X_nicetitle['intercept'] = 1\n",
    "model_nicetitle = st.MNLogit(y, X_nicetitle)\n",
    "model_nicetitle_fit = model_nicetitle.fit()\n",
    "model_nicetitle_fit.summary()"
   ]
  },
  {
   "cell_type": "code",
   "execution_count": 97,
   "metadata": {
    "collapsed": false
   },
   "outputs": [
    {
     "name": "stdout",
     "output_type": "stream",
     "text": [
      "AIC: 177.862308575\n",
      "BIC: 186.464911927\n"
     ]
    }
   ],
   "source": [
    "### aic and bic ###\n",
    "print 'AIC: %s' %model_nicetitle_fit.aic\n",
    "print 'BIC: %s' %model_nicetitle_fit.bic"
   ]
  },
  {
   "cell_type": "markdown",
   "metadata": {},
   "source": [
    "That's quite a drop in AIC and BIC!  But it looks like 'engineer' is not significant at a 0.05 level in predicting salary relationship to median salary, so let's see what the model is like when we drop it:"
   ]
  },
  {
   "cell_type": "code",
   "execution_count": 98,
   "metadata": {
    "collapsed": false
   },
   "outputs": [
    {
     "name": "stdout",
     "output_type": "stream",
     "text": [
      "Optimization terminated successfully.\n",
      "         Current function value: 0.671659\n",
      "         Iterations 6\n"
     ]
    },
    {
     "name": "stderr",
     "output_type": "stream",
     "text": [
      "/Users/Rebecca/anaconda/lib/python2.7/site-packages/ipykernel/__main__.py:2: SettingWithCopyWarning: \n",
      "A value is trying to be set on a copy of a slice from a DataFrame.\n",
      "Try using .loc[row_indexer,col_indexer] = value instead\n",
      "\n",
      "See the caveats in the documentation: http://pandas.pydata.org/pandas-docs/stable/indexing.html#indexing-view-versus-copy\n",
      "  from ipykernel import kernelapp as app\n"
     ]
    },
    {
     "data": {
      "text/html": [
       "<table class=\"simpletable\">\n",
       "<caption>MNLogit Regression Results</caption>\n",
       "<tr>\n",
       "  <th>Dep. Variable:</th>     <td>sal_dummy</td>    <th>  No. Observations:  </th>  <td>   130</td> \n",
       "</tr>\n",
       "<tr>\n",
       "  <th>Model:</th>              <td>MNLogit</td>     <th>  Df Residuals:      </th>  <td>   128</td> \n",
       "</tr>\n",
       "<tr>\n",
       "  <th>Method:</th>               <td>MLE</td>       <th>  Df Model:          </th>  <td>     1</td> \n",
       "</tr>\n",
       "<tr>\n",
       "  <th>Date:</th>          <td>Mon, 11 Jul 2016</td> <th>  Pseudo R-squ.:     </th>  <td>0.03084</td>\n",
       "</tr>\n",
       "<tr>\n",
       "  <th>Time:</th>              <td>02:31:33</td>     <th>  Log-Likelihood:    </th> <td> -87.316</td>\n",
       "</tr>\n",
       "<tr>\n",
       "  <th>converged:</th>           <td>True</td>       <th>  LL-Null:           </th> <td> -90.094</td>\n",
       "</tr>\n",
       "<tr>\n",
       "  <th> </th>                      <td> </td>        <th>  LLR p-value:       </th>  <td>0.01842</td>\n",
       "</tr>\n",
       "</table>\n",
       "<table class=\"simpletable\">\n",
       "<tr>\n",
       "  <th>sal_dummy=1</th>    <th>coef</th>     <th>std err</th>      <th>z</th>      <th>P>|z|</th> <th>[95.0% Conf. Int.]</th> \n",
       "</tr>\n",
       "<tr>\n",
       "  <th>stat.</th>       <td>    2.0772</td> <td>    1.084</td> <td>    1.916</td> <td> 0.055</td> <td>   -0.048     4.203</td>\n",
       "</tr>\n",
       "<tr>\n",
       "  <th>intercept</th>   <td>   -0.1313</td> <td>    0.181</td> <td>   -0.724</td> <td> 0.469</td> <td>   -0.487     0.224</td>\n",
       "</tr>\n",
       "</table>"
      ],
      "text/plain": [
       "<class 'statsmodels.iolib.summary.Summary'>\n",
       "\"\"\"\n",
       "                          MNLogit Regression Results                          \n",
       "==============================================================================\n",
       "Dep. Variable:              sal_dummy   No. Observations:                  130\n",
       "Model:                        MNLogit   Df Residuals:                      128\n",
       "Method:                           MLE   Df Model:                            1\n",
       "Date:                Mon, 11 Jul 2016   Pseudo R-squ.:                 0.03084\n",
       "Time:                        02:31:33   Log-Likelihood:                -87.316\n",
       "converged:                       True   LL-Null:                       -90.094\n",
       "                                        LLR p-value:                   0.01842\n",
       "===============================================================================\n",
       "sal_dummy=1       coef    std err          z      P>|z|      [95.0% Conf. Int.]\n",
       "-------------------------------------------------------------------------------\n",
       "stat.           2.0772      1.084      1.916      0.055        -0.048     4.203\n",
       "intercept      -0.1313      0.181     -0.724      0.469        -0.487     0.224\n",
       "===============================================================================\n",
       "\"\"\""
      ]
     },
     "execution_count": 98,
     "metadata": {},
     "output_type": "execute_result"
    }
   ],
   "source": [
    "X_nicertitles = X_title[['stat.']]\n",
    "X_nicertitles['intercept'] = 1\n",
    "y = sal_df['sal_dummy']\n",
    "\n",
    "model_nicertitles = st.MNLogit(y, X_nicertitles)\n",
    "\n",
    "model_nicertitles_fit = model_nicertitles.fit()\n",
    "\n",
    "model_nicertitles_fit.summary()"
   ]
  },
  {
   "cell_type": "code",
   "execution_count": 99,
   "metadata": {
    "collapsed": false
   },
   "outputs": [
    {
     "name": "stdout",
     "output_type": "stream",
     "text": [
      "AIC: 178.631267875\n",
      "BIC: 184.366336776\n"
     ]
    }
   ],
   "source": [
    "### aic and bic ###\n",
    "print 'AIC: %s' %model_nicertitles_fit.aic\n",
    "print 'BIC: %s' %model_nicertitles_fit.bic"
   ]
  },
  {
   "cell_type": "markdown",
   "metadata": {},
   "source": [
    "Looks like 'stat.' on its own is not a good predictor of salary status with respect to the median at a 0.05 significance level.  Let's try putting all of our promising and quasi-promising features together in a model and choose from there:"
   ]
  },
  {
   "cell_type": "code",
   "execution_count": 100,
   "metadata": {
    "collapsed": false
   },
   "outputs": [],
   "source": [
    "#col_list = [X_title['stat.'], X_title['engineer'], X_city['San Diego'], X_state['CA'], X_tax['inc_tax_rate']]\n",
    "#for i in col_list:\n",
    "#    print num_cat(i)\n",
    "#col_list = [X_big['stat.'], X_big['engineer'], X_big['San Diego'], X_big['CA'], X_big['inc_tax_rate']]\n",
    "#for i in col_list:\n",
    "#    print num_cat(i)"
   ]
  },
  {
   "cell_type": "code",
   "execution_count": 101,
   "metadata": {
    "collapsed": false
   },
   "outputs": [],
   "source": [
    "X_big = pd.DataFrame(zip(X_title['stat.'], X_title['engineer'], X_city['San Diego'], X_state['CA'], X_tax['inc_tax_rate']))\n",
    "X_big = X_big.applymap(lambda x: float(x))\n",
    "X_big.columns = ['stat.', 'engineer', 'San Diego', 'CA', 'inc_tax_rate']\n",
    "X_big['intercept'] = 1\n",
    "X_big = X_big.reset_index(drop = True)\n",
    "y = sal_df['sal_dummy']\n",
    "y = y.reset_index(drop = True)"
   ]
  },
  {
   "cell_type": "code",
   "execution_count": 102,
   "metadata": {
    "collapsed": false
   },
   "outputs": [
    {
     "data": {
      "text/html": [
       "<div>\n",
       "<table border=\"1\" class=\"dataframe\">\n",
       "  <thead>\n",
       "    <tr style=\"text-align: right;\">\n",
       "      <th></th>\n",
       "      <th>stat.</th>\n",
       "      <th>engineer</th>\n",
       "      <th>San Diego</th>\n",
       "      <th>CA</th>\n",
       "      <th>inc_tax_rate</th>\n",
       "      <th>intercept</th>\n",
       "    </tr>\n",
       "  </thead>\n",
       "  <tbody>\n",
       "    <tr>\n",
       "      <th>0</th>\n",
       "      <td>0.0</td>\n",
       "      <td>0.0</td>\n",
       "      <td>0.0</td>\n",
       "      <td>0.0</td>\n",
       "      <td>5.1</td>\n",
       "      <td>1</td>\n",
       "    </tr>\n",
       "  </tbody>\n",
       "</table>\n",
       "</div>"
      ],
      "text/plain": [
       "   stat.  engineer  San Diego   CA  inc_tax_rate  intercept\n",
       "0    0.0       0.0        0.0  0.0           5.1          1"
      ]
     },
     "execution_count": 102,
     "metadata": {},
     "output_type": "execute_result"
    }
   ],
   "source": [
    "X_big.head(1)"
   ]
  },
  {
   "cell_type": "code",
   "execution_count": 103,
   "metadata": {
    "collapsed": false
   },
   "outputs": [
    {
     "name": "stdout",
     "output_type": "stream",
     "text": [
      "Warning: Maximum number of iterations has been exceeded.\n",
      "         Current function value: 0.650517\n",
      "         Iterations: 35\n",
      "         Function evaluations: 38\n",
      "         Gradient evaluations: 38\n"
     ]
    },
    {
     "name": "stderr",
     "output_type": "stream",
     "text": [
      "/Users/Rebecca/anaconda/lib/python2.7/site-packages/statsmodels/base/model.py:466: ConvergenceWarning: Maximum Likelihood optimization failed to converge. Check mle_retvals\n",
      "  \"Check mle_retvals\", ConvergenceWarning)\n"
     ]
    },
    {
     "data": {
      "text/html": [
       "<table class=\"simpletable\">\n",
       "<caption>MNLogit Regression Results</caption>\n",
       "<tr>\n",
       "  <th>Dep. Variable:</th>     <td>sal_dummy</td>    <th>  No. Observations:  </th>  <td>   130</td> \n",
       "</tr>\n",
       "<tr>\n",
       "  <th>Model:</th>              <td>MNLogit</td>     <th>  Df Residuals:      </th>  <td>   124</td> \n",
       "</tr>\n",
       "<tr>\n",
       "  <th>Method:</th>               <td>MLE</td>       <th>  Df Model:          </th>  <td>     5</td> \n",
       "</tr>\n",
       "<tr>\n",
       "  <th>Date:</th>          <td>Mon, 11 Jul 2016</td> <th>  Pseudo R-squ.:     </th>  <td>0.06134</td>\n",
       "</tr>\n",
       "<tr>\n",
       "  <th>Time:</th>              <td>02:31:34</td>     <th>  Log-Likelihood:    </th> <td> -84.567</td>\n",
       "</tr>\n",
       "<tr>\n",
       "  <th>converged:</th>           <td>False</td>      <th>  LL-Null:           </th> <td> -90.094</td>\n",
       "</tr>\n",
       "<tr>\n",
       "  <th> </th>                      <td> </td>        <th>  LLR p-value:       </th>  <td>0.05034</td>\n",
       "</tr>\n",
       "</table>\n",
       "<table class=\"simpletable\">\n",
       "<tr>\n",
       "   <th>sal_dummy=1</th>    <th>coef</th>     <th>std err</th>      <th>z</th>      <th>P>|z|</th> <th>[95.0% Conf. Int.]</th> \n",
       "</tr>\n",
       "<tr>\n",
       "  <th>stat.</th>        <td>    1.2548</td> <td>    1.270</td> <td>    0.988</td> <td> 0.323</td> <td>   -1.235     3.744</td>\n",
       "</tr>\n",
       "<tr>\n",
       "  <th>engineer</th>     <td>    0.7189</td> <td>    0.410</td> <td>    1.755</td> <td> 0.079</td> <td>   -0.084     1.522</td>\n",
       "</tr>\n",
       "<tr>\n",
       "  <th>San Diego</th>    <td>    1.7879</td> <td>    1.297</td> <td>    1.379</td> <td> 0.168</td> <td>   -0.754     4.330</td>\n",
       "</tr>\n",
       "<tr>\n",
       "  <th>CA</th>           <td>   -0.2176</td> <td>    0.658</td> <td>   -0.331</td> <td> 0.741</td> <td>   -1.507     1.072</td>\n",
       "</tr>\n",
       "<tr>\n",
       "  <th>inc_tax_rate</th> <td>    0.0262</td> <td>    0.061</td> <td>    0.431</td> <td> 0.666</td> <td>   -0.093     0.145</td>\n",
       "</tr>\n",
       "<tr>\n",
       "  <th>intercept</th>    <td>   -0.5322</td> <td>    0.421</td> <td>   -1.263</td> <td> 0.207</td> <td>   -1.358     0.294</td>\n",
       "</tr>\n",
       "</table>"
      ],
      "text/plain": [
       "<class 'statsmodels.iolib.summary.Summary'>\n",
       "\"\"\"\n",
       "                          MNLogit Regression Results                          \n",
       "==============================================================================\n",
       "Dep. Variable:              sal_dummy   No. Observations:                  130\n",
       "Model:                        MNLogit   Df Residuals:                      124\n",
       "Method:                           MLE   Df Model:                            5\n",
       "Date:                Mon, 11 Jul 2016   Pseudo R-squ.:                 0.06134\n",
       "Time:                        02:31:34   Log-Likelihood:                -84.567\n",
       "converged:                      False   LL-Null:                       -90.094\n",
       "                                        LLR p-value:                   0.05034\n",
       "================================================================================\n",
       " sal_dummy=1       coef    std err          z      P>|z|      [95.0% Conf. Int.]\n",
       "--------------------------------------------------------------------------------\n",
       "stat.            1.2548      1.270      0.988      0.323        -1.235     3.744\n",
       "engineer         0.7189      0.410      1.755      0.079        -0.084     1.522\n",
       "San Diego        1.7879      1.297      1.379      0.168        -0.754     4.330\n",
       "CA              -0.2176      0.658     -0.331      0.741        -1.507     1.072\n",
       "inc_tax_rate     0.0262      0.061      0.431      0.666        -0.093     0.145\n",
       "intercept       -0.5322      0.421     -1.263      0.207        -1.358     0.294\n",
       "================================================================================\n",
       "\"\"\""
      ]
     },
     "execution_count": 103,
     "metadata": {},
     "output_type": "execute_result"
    }
   ],
   "source": [
    "model_big = st.MNLogit(y, X_big)\n",
    "\n",
    "model_big_fit = model_big.fit(method = 'bfgs')\n",
    "\n",
    "model_big_fit.summary()"
   ]
  },
  {
   "cell_type": "code",
   "execution_count": 104,
   "metadata": {
    "collapsed": false
   },
   "outputs": [
    {
     "name": "stdout",
     "output_type": "stream",
     "text": [
      "AIC: 181.134340712\n",
      "BIC: 198.339547415\n"
     ]
    }
   ],
   "source": [
    "### aic and bic ###\n",
    "print 'AIC: %s' %model_big_fit.aic\n",
    "print 'BIC: %s' %model_big_fit.bic"
   ]
  },
  {
   "cell_type": "code",
   "execution_count": 105,
   "metadata": {
    "collapsed": false
   },
   "outputs": [
    {
     "data": {
      "text/html": [
       "<div>\n",
       "<table border=\"1\" class=\"dataframe\">\n",
       "  <thead>\n",
       "    <tr style=\"text-align: right;\">\n",
       "      <th></th>\n",
       "      <th>stat.</th>\n",
       "      <th>engineer</th>\n",
       "      <th>San Diego</th>\n",
       "      <th>CA</th>\n",
       "      <th>inc_tax_rate</th>\n",
       "      <th>intercept</th>\n",
       "    </tr>\n",
       "  </thead>\n",
       "  <tbody>\n",
       "  </tbody>\n",
       "</table>\n",
       "</div>"
      ],
      "text/plain": [
       "Empty DataFrame\n",
       "Columns: [stat., engineer, San Diego, CA, inc_tax_rate, intercept]\n",
       "Index: []"
      ]
     },
     "execution_count": 105,
     "metadata": {},
     "output_type": "execute_result"
    }
   ],
   "source": [
    "lsvc = LinearSVC(C=0.07, penalty=\"l1\", dual=False).fit(X_big, y)\n",
    "model = SelectFromModel(lsvc, prefit=True)\n",
    "X_new = model.transform(X_big)\n",
    "X_big[X_new == 1]"
   ]
  },
  {
   "cell_type": "code",
   "execution_count": 106,
   "metadata": {
    "collapsed": false
   },
   "outputs": [
    {
     "data": {
      "text/plain": [
       "0"
      ]
     },
     "execution_count": 106,
     "metadata": {},
     "output_type": "execute_result"
    }
   ],
   "source": [
    "len(X_big[X_new == 1])"
   ]
  },
  {
   "cell_type": "code",
   "execution_count": 107,
   "metadata": {
    "collapsed": false
   },
   "outputs": [
    {
     "data": {
      "text/html": [
       "<div>\n",
       "<table border=\"1\" class=\"dataframe\">\n",
       "  <thead>\n",
       "    <tr style=\"text-align: right;\">\n",
       "      <th></th>\n",
       "      <th>stat.</th>\n",
       "      <th>engineer</th>\n",
       "      <th>San Diego</th>\n",
       "      <th>CA</th>\n",
       "      <th>inc_tax_rate</th>\n",
       "      <th>intercept</th>\n",
       "    </tr>\n",
       "  </thead>\n",
       "  <tbody>\n",
       "    <tr>\n",
       "      <th>23</th>\n",
       "      <td>1.0</td>\n",
       "      <td>0.0</td>\n",
       "      <td>1.0</td>\n",
       "      <td>1.0</td>\n",
       "      <td>13.3</td>\n",
       "      <td>1</td>\n",
       "    </tr>\n",
       "    <tr>\n",
       "      <th>24</th>\n",
       "      <td>1.0</td>\n",
       "      <td>0.0</td>\n",
       "      <td>1.0</td>\n",
       "      <td>1.0</td>\n",
       "      <td>13.3</td>\n",
       "      <td>1</td>\n",
       "    </tr>\n",
       "    <tr>\n",
       "      <th>25</th>\n",
       "      <td>1.0</td>\n",
       "      <td>0.0</td>\n",
       "      <td>1.0</td>\n",
       "      <td>1.0</td>\n",
       "      <td>13.3</td>\n",
       "      <td>1</td>\n",
       "    </tr>\n",
       "    <tr>\n",
       "      <th>26</th>\n",
       "      <td>1.0</td>\n",
       "      <td>0.0</td>\n",
       "      <td>1.0</td>\n",
       "      <td>1.0</td>\n",
       "      <td>13.3</td>\n",
       "      <td>1</td>\n",
       "    </tr>\n",
       "    <tr>\n",
       "      <th>27</th>\n",
       "      <td>1.0</td>\n",
       "      <td>0.0</td>\n",
       "      <td>1.0</td>\n",
       "      <td>1.0</td>\n",
       "      <td>13.3</td>\n",
       "      <td>1</td>\n",
       "    </tr>\n",
       "    <tr>\n",
       "      <th>28</th>\n",
       "      <td>1.0</td>\n",
       "      <td>0.0</td>\n",
       "      <td>1.0</td>\n",
       "      <td>1.0</td>\n",
       "      <td>13.3</td>\n",
       "      <td>1</td>\n",
       "    </tr>\n",
       "    <tr>\n",
       "      <th>29</th>\n",
       "      <td>0.0</td>\n",
       "      <td>0.0</td>\n",
       "      <td>1.0</td>\n",
       "      <td>1.0</td>\n",
       "      <td>13.3</td>\n",
       "      <td>1</td>\n",
       "    </tr>\n",
       "    <tr>\n",
       "      <th>30</th>\n",
       "      <td>0.0</td>\n",
       "      <td>0.0</td>\n",
       "      <td>1.0</td>\n",
       "      <td>1.0</td>\n",
       "      <td>13.3</td>\n",
       "      <td>1</td>\n",
       "    </tr>\n",
       "    <tr>\n",
       "      <th>31</th>\n",
       "      <td>0.0</td>\n",
       "      <td>0.0</td>\n",
       "      <td>1.0</td>\n",
       "      <td>1.0</td>\n",
       "      <td>13.3</td>\n",
       "      <td>1</td>\n",
       "    </tr>\n",
       "  </tbody>\n",
       "</table>\n",
       "</div>"
      ],
      "text/plain": [
       "    stat.  engineer  San Diego   CA  inc_tax_rate  intercept\n",
       "23    1.0       0.0        1.0  1.0          13.3          1\n",
       "24    1.0       0.0        1.0  1.0          13.3          1\n",
       "25    1.0       0.0        1.0  1.0          13.3          1\n",
       "26    1.0       0.0        1.0  1.0          13.3          1\n",
       "27    1.0       0.0        1.0  1.0          13.3          1\n",
       "28    1.0       0.0        1.0  1.0          13.3          1\n",
       "29    0.0       0.0        1.0  1.0          13.3          1\n",
       "30    0.0       0.0        1.0  1.0          13.3          1\n",
       "31    0.0       0.0        1.0  1.0          13.3          1"
      ]
     },
     "execution_count": 107,
     "metadata": {},
     "output_type": "execute_result"
    }
   ],
   "source": [
    "lsvc = LinearSVC(C=0.079, penalty=\"l1\", dual=False).fit(X_big, y)\n",
    "model = SelectFromModel(lsvc, prefit=True)\n",
    "X_new = model.transform(X_big)\n",
    "X_big[X_new == 1]"
   ]
  },
  {
   "cell_type": "code",
   "execution_count": 108,
   "metadata": {
    "collapsed": false
   },
   "outputs": [
    {
     "data": {
      "text/plain": [
       "9"
      ]
     },
     "execution_count": 108,
     "metadata": {},
     "output_type": "execute_result"
    }
   ],
   "source": [
    "lsvc = LinearSVC(C=0.0877476, penalty=\"l1\", dual=False).fit(X_big, y)\n",
    "model = SelectFromModel(lsvc, prefit=True)\n",
    "X_new = model.transform(X_big)\n",
    "len(X_big[X_new == 1])"
   ]
  },
  {
   "cell_type": "markdown",
   "metadata": {
    "collapsed": true
   },
   "source": [
    "Let's drop 'CA' and 'inc_tax_rate' since they are collinear with 'San Diego' in our observations of interest here:"
   ]
  },
  {
   "cell_type": "code",
   "execution_count": 109,
   "metadata": {
    "collapsed": false,
    "scrolled": true
   },
   "outputs": [
    {
     "name": "stdout",
     "output_type": "stream",
     "text": [
      "Optimization terminated successfully.\n",
      "         Current function value: 0.651243\n",
      "         Iterations: 24\n",
      "         Function evaluations: 26\n",
      "         Gradient evaluations: 26\n"
     ]
    },
    {
     "name": "stderr",
     "output_type": "stream",
     "text": [
      "/Users/Rebecca/anaconda/lib/python2.7/site-packages/ipykernel/__main__.py:2: SettingWithCopyWarning: \n",
      "A value is trying to be set on a copy of a slice from a DataFrame.\n",
      "Try using .loc[row_indexer,col_indexer] = value instead\n",
      "\n",
      "See the caveats in the documentation: http://pandas.pydata.org/pandas-docs/stable/indexing.html#indexing-view-versus-copy\n",
      "  from ipykernel import kernelapp as app\n"
     ]
    },
    {
     "data": {
      "text/html": [
       "<table class=\"simpletable\">\n",
       "<caption>MNLogit Regression Results</caption>\n",
       "<tr>\n",
       "  <th>Dep. Variable:</th>     <td>sal_dummy</td>    <th>  No. Observations:  </th>  <td>   130</td> \n",
       "</tr>\n",
       "<tr>\n",
       "  <th>Model:</th>              <td>MNLogit</td>     <th>  Df Residuals:      </th>  <td>   126</td> \n",
       "</tr>\n",
       "<tr>\n",
       "  <th>Method:</th>               <td>MLE</td>       <th>  Df Model:          </th>  <td>     3</td> \n",
       "</tr>\n",
       "<tr>\n",
       "  <th>Date:</th>          <td>Mon, 11 Jul 2016</td> <th>  Pseudo R-squ.:     </th>  <td>0.06029</td>\n",
       "</tr>\n",
       "<tr>\n",
       "  <th>Time:</th>              <td>02:31:36</td>     <th>  Log-Likelihood:    </th> <td> -84.662</td>\n",
       "</tr>\n",
       "<tr>\n",
       "  <th>converged:</th>           <td>True</td>       <th>  LL-Null:           </th> <td> -90.094</td>\n",
       "</tr>\n",
       "<tr>\n",
       "  <th> </th>                      <td> </td>        <th>  LLR p-value:       </th>  <td>0.01248</td>\n",
       "</tr>\n",
       "</table>\n",
       "<table class=\"simpletable\">\n",
       "<tr>\n",
       "  <th>sal_dummy=1</th>    <th>coef</th>     <th>std err</th>      <th>z</th>      <th>P>|z|</th> <th>[95.0% Conf. Int.]</th> \n",
       "</tr>\n",
       "<tr>\n",
       "  <th>stat.</th>       <td>    1.2379</td> <td>    1.269</td> <td>    0.975</td> <td> 0.329</td> <td>   -1.249     3.725</td>\n",
       "</tr>\n",
       "<tr>\n",
       "  <th>engineer</th>    <td>    0.7220</td> <td>    0.405</td> <td>    1.783</td> <td> 0.075</td> <td>   -0.072     1.516</td>\n",
       "</tr>\n",
       "<tr>\n",
       "  <th>San Diego</th>   <td>    1.7794</td> <td>    1.226</td> <td>    1.451</td> <td> 0.147</td> <td>   -0.624     4.183</td>\n",
       "</tr>\n",
       "<tr>\n",
       "  <th>intercept</th>   <td>   -0.3856</td> <td>    0.223</td> <td>   -1.730</td> <td> 0.084</td> <td>   -0.822     0.051</td>\n",
       "</tr>\n",
       "</table>"
      ],
      "text/plain": [
       "<class 'statsmodels.iolib.summary.Summary'>\n",
       "\"\"\"\n",
       "                          MNLogit Regression Results                          \n",
       "==============================================================================\n",
       "Dep. Variable:              sal_dummy   No. Observations:                  130\n",
       "Model:                        MNLogit   Df Residuals:                      126\n",
       "Method:                           MLE   Df Model:                            3\n",
       "Date:                Mon, 11 Jul 2016   Pseudo R-squ.:                 0.06029\n",
       "Time:                        02:31:36   Log-Likelihood:                -84.662\n",
       "converged:                       True   LL-Null:                       -90.094\n",
       "                                        LLR p-value:                   0.01248\n",
       "===============================================================================\n",
       "sal_dummy=1       coef    std err          z      P>|z|      [95.0% Conf. Int.]\n",
       "-------------------------------------------------------------------------------\n",
       "stat.           1.2379      1.269      0.975      0.329        -1.249     3.725\n",
       "engineer        0.7220      0.405      1.783      0.075        -0.072     1.516\n",
       "San Diego       1.7794      1.226      1.451      0.147        -0.624     4.183\n",
       "intercept      -0.3856      0.223     -1.730      0.084        -0.822     0.051\n",
       "===============================================================================\n",
       "\"\"\""
      ]
     },
     "execution_count": 109,
     "metadata": {},
     "output_type": "execute_result"
    }
   ],
   "source": [
    "X_lessbig = X_big[['stat.', 'engineer', 'San Diego']]\n",
    "X_lessbig['intercept'] = 1\n",
    "\n",
    "model_lessbig = st.MNLogit(y, X_lessbig)\n",
    "\n",
    "model_lessbig_fit = model_lessbig.fit(method = 'bfgs')\n",
    "\n",
    "model_lessbig_fit.summary()"
   ]
  },
  {
   "cell_type": "code",
   "execution_count": 110,
   "metadata": {
    "collapsed": false
   },
   "outputs": [
    {
     "name": "stdout",
     "output_type": "stream",
     "text": [
      "AIC: 177.323292834\n",
      "BIC: 188.793430635\n"
     ]
    }
   ],
   "source": [
    "### aic and bic ###\n",
    "print 'AIC: %s' %model_lessbig_fit.aic\n",
    "print 'BIC: %s' %model_lessbig_fit.bic"
   ]
  },
  {
   "cell_type": "code",
   "execution_count": 111,
   "metadata": {
    "collapsed": false
   },
   "outputs": [
    {
     "name": "stdout",
     "output_type": "stream",
     "text": [
      "AIC scores for various models tested:\n",
      "City model:                200.810414044\n",
      "San Diego only:            176.020595421\n",
      "State model:               197.53623387\n",
      "California only:           182.43279218\n",
      "Income tax model:          182.526448141\n",
      "Title term model:          189.843176244\n",
      "Modified title term model: 177.862308575\n",
      "Big model:                 181.134340712\n",
      "Less big model:            177.323292834\n"
     ]
    }
   ],
   "source": [
    "print 'AIC scores for various models tested:'\n",
    "print 'City model:                %s' %model_city_fit.aic\n",
    "print 'San Diego only:            %s' %model_SanDiego_fit.aic\n",
    "print 'State model:               %s' %model_state_fit.aic\n",
    "print 'California only:           %s' %model_CA_fit.aic\n",
    "print 'Income tax model:          %s' %model_tax_fit.aic\n",
    "print 'Title term model:          %s' %model_title_fit.aic\n",
    "print 'Modified title term model: %s' %model_nicetitle_fit.aic\n",
    "print 'Big model:                 %s' %model_big_fit.aic\n",
    "print 'Less big model:            %s' %model_lessbig_fit.aic"
   ]
  },
  {
   "cell_type": "markdown",
   "metadata": {},
   "source": [
    "Let's go with the last model in the list since its AIC is second-best and it has a couple more features than San Diego-only."
   ]
  },
  {
   "cell_type": "markdown",
   "metadata": {
    "focus": false,
    "id": "9c9274ef-c9f5-4d56-b286-ecc8709eff9f"
   },
   "source": [
    "#### Rebuild this model with scikit-learn.\n",
    "- You can either create the dummy features manually or use the `dmatrix` function from `patsy`\n",
    "- Remember to scale the feature variables as well!\n"
   ]
  },
  {
   "cell_type": "code",
   "execution_count": 112,
   "metadata": {
    "collapsed": false
   },
   "outputs": [
    {
     "data": {
      "text/plain": [
       "LogisticRegression(C=1.0, class_weight=None, dual=False, fit_intercept=True,\n",
       "          intercept_scaling=1, max_iter=100, multi_class='ovr', n_jobs=1,\n",
       "          penalty='l2', random_state=None, solver='liblinear', tol=0.0001,\n",
       "          verbose=0, warm_start=False)"
      ]
     },
     "execution_count": 112,
     "metadata": {},
     "output_type": "execute_result"
    }
   ],
   "source": [
    "skl_model = lm.LogisticRegression()\n",
    "X = pd.DataFrame(zip(X_title['stat.'], X_title['engineer'], X_city['San Diego']))\n",
    "X_scaled = preprocessing.scale(X)\n",
    "X_scaled = pd.DataFrame(X_scaled)\n",
    "X_scaled['intercept'] = 1\n",
    "X_scaled = X_scaled.reset_index(drop = True)\n",
    "y = sal_df['sal_dummy']\n",
    "y = y.reset_index(drop = True)\n",
    "\n",
    "skl_model.fit(X_scaled, y)"
   ]
  },
  {
   "cell_type": "code",
   "execution_count": 113,
   "metadata": {
    "collapsed": false
   },
   "outputs": [],
   "source": [
    "X_scaled['probability'] = skl_model.predict_proba(X_scaled).T[1]"
   ]
  },
  {
   "cell_type": "code",
   "execution_count": 114,
   "metadata": {
    "collapsed": false
   },
   "outputs": [
    {
     "data": {
      "text/html": [
       "<div>\n",
       "<table border=\"1\" class=\"dataframe\">\n",
       "  <thead>\n",
       "    <tr style=\"text-align: right;\">\n",
       "      <th></th>\n",
       "      <th>0</th>\n",
       "      <th>1</th>\n",
       "      <th>2</th>\n",
       "      <th>intercept</th>\n",
       "      <th>probability</th>\n",
       "    </tr>\n",
       "  </thead>\n",
       "  <tbody>\n",
       "    <tr>\n",
       "      <th>0</th>\n",
       "      <td>-0.256074</td>\n",
       "      <td>-0.618853</td>\n",
       "      <td>-0.272727</td>\n",
       "      <td>1</td>\n",
       "      <td>0.407864</td>\n",
       "    </tr>\n",
       "    <tr>\n",
       "      <th>1</th>\n",
       "      <td>-0.256074</td>\n",
       "      <td>1.615893</td>\n",
       "      <td>-0.272727</td>\n",
       "      <td>1</td>\n",
       "      <td>0.579446</td>\n",
       "    </tr>\n",
       "    <tr>\n",
       "      <th>2</th>\n",
       "      <td>-0.256074</td>\n",
       "      <td>1.615893</td>\n",
       "      <td>-0.272727</td>\n",
       "      <td>1</td>\n",
       "      <td>0.579446</td>\n",
       "    </tr>\n",
       "    <tr>\n",
       "      <th>3</th>\n",
       "      <td>-0.256074</td>\n",
       "      <td>-0.618853</td>\n",
       "      <td>-0.272727</td>\n",
       "      <td>1</td>\n",
       "      <td>0.407864</td>\n",
       "    </tr>\n",
       "    <tr>\n",
       "      <th>4</th>\n",
       "      <td>-0.256074</td>\n",
       "      <td>-0.618853</td>\n",
       "      <td>-0.272727</td>\n",
       "      <td>1</td>\n",
       "      <td>0.407864</td>\n",
       "    </tr>\n",
       "  </tbody>\n",
       "</table>\n",
       "</div>"
      ],
      "text/plain": [
       "          0         1         2  intercept  probability\n",
       "0 -0.256074 -0.618853 -0.272727          1     0.407864\n",
       "1 -0.256074  1.615893 -0.272727          1     0.579446\n",
       "2 -0.256074  1.615893 -0.272727          1     0.579446\n",
       "3 -0.256074 -0.618853 -0.272727          1     0.407864\n",
       "4 -0.256074 -0.618853 -0.272727          1     0.407864"
      ]
     },
     "execution_count": 114,
     "metadata": {},
     "output_type": "execute_result"
    }
   ],
   "source": [
    "X_scaled.head()"
   ]
  },
  {
   "cell_type": "code",
   "execution_count": 115,
   "metadata": {
    "collapsed": false
   },
   "outputs": [],
   "source": [
    "X_scaled.columns = ['stat.', 'engineer', 'San Diego', 'intercept', 'probability']"
   ]
  },
  {
   "cell_type": "code",
   "execution_count": 116,
   "metadata": {
    "collapsed": false
   },
   "outputs": [
    {
     "data": {
      "text/plain": [
       "array([[50, 16],\n",
       "       [36, 28]])"
      ]
     },
     "execution_count": 116,
     "metadata": {},
     "output_type": "execute_result"
    }
   ],
   "source": [
    "predictions = skl_model.predict(X_scaled[['intercept', 'stat.', 'engineer', 'San Diego']])\n",
    "\n",
    "cm = confusion_matrix(y, predictions)\n",
    "cm"
   ]
  },
  {
   "cell_type": "code",
   "execution_count": 117,
   "metadata": {
    "collapsed": false
   },
   "outputs": [
    {
     "data": {
      "text/plain": [
       "44"
      ]
     },
     "execution_count": 117,
     "metadata": {},
     "output_type": "execute_result"
    }
   ],
   "source": [
    "sum(predictions)"
   ]
  },
  {
   "cell_type": "markdown",
   "metadata": {},
   "source": [
    "Therefore, the right-hand entries in the confusion matrix represent the true and false positives (since they add to the total number of 'positive' predictions)."
   ]
  },
  {
   "cell_type": "code",
   "execution_count": 118,
   "metadata": {
    "collapsed": true
   },
   "outputs": [],
   "source": [
    "def plot_confusion_matrix(cm, title='Confusion matrix', labels=['Positive','Negative'], cmap=plt.cm.Blues):\n",
    "    \n",
    "    plt.figure(figsize=(12,8))\n",
    "    plt.imshow(cm, interpolation='nearest', cmap=cmap)\n",
    "    \n",
    "    tick_marks = np.arange(2)\n",
    "    plt.xticks(tick_marks, labels)\n",
    "    plt.yticks(tick_marks, labels)\n",
    "        \n",
    "    plt.title(title)\n",
    "    plt.ylabel('True label')\n",
    "    plt.xlabel('Predicted label')\n",
    "    plt.tight_layout()\n",
    "    \n",
    "    width, height = cm.shape\n",
    "    \n",
    "    for x in xrange(width):\n",
    "        for y in xrange(height):\n",
    "            plt.annotate(str(cm[x][y]), xy=(y, x), \n",
    "                        horizontalalignment='center',\n",
    "                        verticalalignment='center',\n",
    "                        color = 'white',\n",
    "                        fontsize=18).set_path_effects([path_effects.Stroke(linewidth=1, foreground='black'),\n",
    "                                                       path_effects.Normal()]) #The last line here adds a text outline\n",
    "    return"
   ]
  },
  {
   "cell_type": "code",
   "execution_count": 119,
   "metadata": {
    "collapsed": false
   },
   "outputs": [
    {
     "data": {
      "image/png": "[encoded data removed]",
      "text/plain": [
       "<matplotlib.figure.Figure at 0x11796e1d0>"
      ]
     },
     "metadata": {},
     "output_type": "display_data"
    }
   ],
   "source": [
    "plot_confusion_matrix(cm, title='Confusion matrix - Data Science Salaries (L2 penalty)', labels=['Under Median',\\\n",
    "                                'Over Median'], cmap=plt.cm.Greens)"
   ]
  },
  {
   "cell_type": "code",
   "execution_count": 120,
   "metadata": {
    "collapsed": false
   },
   "outputs": [
    {
     "data": {
      "text/plain": [
       "(array([ 0.        ,  0.24242424,  1.        ]),\n",
       " array([ 0.    ,  0.4375,  1.    ]),\n",
       " array([2, 1, 0]))"
      ]
     },
     "execution_count": 120,
     "metadata": {},
     "output_type": "execute_result"
    }
   ],
   "source": [
    "roc = roc_curve(y, predictions)\n",
    "roc"
   ]
  },
  {
   "cell_type": "code",
   "execution_count": 121,
   "metadata": {
    "collapsed": true
   },
   "outputs": [],
   "source": [
    "pred1 = skl_model.predict_proba(X_scaled[['intercept', 'stat.', 'engineer', 'San Diego']]).T[1]\n",
    "roc = roc_curve(y, pred1)"
   ]
  },
  {
   "cell_type": "code",
   "execution_count": 122,
   "metadata": {
    "collapsed": false
   },
   "outputs": [],
   "source": [
    "def getROCcurve(roc, title='ROC Curve', xlabel ='% of False Positives', ylabel = '% of True Positives'):\n",
    "    fpr, tpr, thresholds = roc\n",
    "    \n",
    "    fig,ax = plt.subplots()\n",
    "    ax.plot(fpr, tpr, label='ROC Curve')\n",
    "\n",
    "    fig.set_size_inches(7, 6, forward=True)\n",
    "    plt.xlabel(xlabel)\n",
    "    plt.ylabel(ylabel)\n",
    "    plt.title(title)\n",
    "    plt.legend(loc='best')\n",
    "    plt.plot([0, 1], [0, 1], 'k--', linewidth = 0.4, color = 'magenta')\n",
    "    return"
   ]
  },
  {
   "cell_type": "code",
   "execution_count": 123,
   "metadata": {
    "collapsed": false
   },
   "outputs": [
    {
     "data": {
      "image/png": "[encoded data removed]",
      "text/plain": [
       "<matplotlib.figure.Figure at 0x117982f10>"
      ]
     },
     "metadata": {},
     "output_type": "display_data"
    }
   ],
   "source": [
    "getROCcurve(roc, title='ROC Curve (L2 penalty)', xlabel ='% of False Positives', ylabel = '% of True Positives')"
   ]
  },
  {
   "cell_type": "markdown",
   "metadata": {
    "focus": false,
    "id": "9367beff-72ba-4768-a0ba-a50b335de61d"
   },
   "source": [
    "#### Use cross-validation in scikit-learn to evaluate the model above. \n",
    "- Evaluate the accuracy, AUC, precision and recall of the model. \n",
    "- Discuss the differences and explain when you want a high-recall or a high-precision model in this scenario."
   ]
  },
  {
   "cell_type": "code",
   "execution_count": 124,
   "metadata": {
    "collapsed": false
   },
   "outputs": [
    {
     "data": {
      "text/plain": [
       "array([ 0.66666667,  0.73076923,  0.53846154,  0.46153846,  0.64      ])"
      ]
     },
     "execution_count": 124,
     "metadata": {},
     "output_type": "execute_result"
    }
   ],
   "source": [
    "cross_val_score(skl_model, X_scaled[['intercept', 'stat.', 'engineer', 'San Diego']], y, n_jobs=1, cv=5)"
   ]
  },
  {
   "cell_type": "code",
   "execution_count": 125,
   "metadata": {
    "collapsed": false
   },
   "outputs": [
    {
     "name": "stdout",
     "output_type": "stream",
     "text": [
      "R^2: 0.607487179487\n"
     ]
    }
   ],
   "source": [
    "score = cross_val_score(skl_model, X_scaled[['intercept', 'stat.', 'engineer', 'San Diego']], y, n_jobs=1, cv=5).mean()\n",
    "\n",
    "print 'R^2: %s' %score"
   ]
  },
  {
   "cell_type": "code",
   "execution_count": 126,
   "metadata": {
    "collapsed": false
   },
   "outputs": [
    {
     "name": "stdout",
     "output_type": "stream",
     "text": [
      "accuracy: 0.6\n",
      "precision: 0.636363636364\n",
      "recall: 0.4375\n",
      "area under curve: 0.597537878788\n"
     ]
    }
   ],
   "source": [
    "print 'accuracy: %s' %accuracy_score(y, predictions) # (TP + TN) / (P + N)\n",
    "print 'precision: %s' %precision_score(y, predictions) # TP / P\n",
    "print 'recall: %s' %recall_score(y, predictions) # TP / (TP + FN)\n",
    "print 'area under curve: %s' %roc_auc_score(y, predictions)"
   ]
  },
  {
   "cell_type": "markdown",
   "metadata": {},
   "source": [
    "This model gives us slightly better-than-random predictions about whether a given salary from our list of cities on Indeed.com will fall above or below the threshhold (median) salary.  The model's accuracy -- the rate at which it identies positives and negatives correctly -- is 0.60, or 10% better than random guessing.  Its precision -- the proportion of positives it classifies that are true positives -- is slightly higher, meaning that more of its mistakes must be made in misidentifying the negatives.  Its recall -- the probability that a true positive will be correctly classified -- is pretty low. \n",
    "\n",
    "We would want a high-recall model if we needed to be sure of correctly classifying all above-median salaries as such (e.g., misclassifying more geese as planes in order to correctly identify as many planes as possible).  If we didn't need to relocate for a move, for example, we might want to find any jobs that are likely to be over the salary threshhold while at the same time be willing to misclassify some that are below it.  A high-precision model would be useful in this salary scenario if, for example, we were considering relocating for a job and in order to focus our attention needed to be pretty sure that the salary would be over the threshhold."
   ]
  },
  {
   "cell_type": "markdown",
   "metadata": {
    "focus": false,
    "id": "8c22664b-92e4-4fc2-b7ac-fbac865845d3"
   },
   "source": [
    "#### Compare L1 and L2 regularization for this logistic regression model. What effect does this have on the coefficients learned?"
   ]
  },
  {
   "cell_type": "markdown",
   "metadata": {},
   "source": [
    "The previous model used L2 penalty (default); here we will use L1:"
   ]
  },
  {
   "cell_type": "code",
   "execution_count": 127,
   "metadata": {
    "collapsed": false
   },
   "outputs": [
    {
     "data": {
      "text/html": [
       "<div>\n",
       "<table border=\"1\" class=\"dataframe\">\n",
       "  <thead>\n",
       "    <tr style=\"text-align: right;\">\n",
       "      <th></th>\n",
       "      <th>stat.</th>\n",
       "      <th>engineer</th>\n",
       "      <th>San Diego</th>\n",
       "      <th>intercept</th>\n",
       "      <th>probability</th>\n",
       "    </tr>\n",
       "  </thead>\n",
       "  <tbody>\n",
       "    <tr>\n",
       "      <th>0</th>\n",
       "      <td>-0.256074</td>\n",
       "      <td>-0.618853</td>\n",
       "      <td>-0.272727</td>\n",
       "      <td>1</td>\n",
       "      <td>0.407864</td>\n",
       "    </tr>\n",
       "    <tr>\n",
       "      <th>1</th>\n",
       "      <td>-0.256074</td>\n",
       "      <td>1.615893</td>\n",
       "      <td>-0.272727</td>\n",
       "      <td>1</td>\n",
       "      <td>0.579446</td>\n",
       "    </tr>\n",
       "    <tr>\n",
       "      <th>2</th>\n",
       "      <td>-0.256074</td>\n",
       "      <td>1.615893</td>\n",
       "      <td>-0.272727</td>\n",
       "      <td>1</td>\n",
       "      <td>0.579446</td>\n",
       "    </tr>\n",
       "    <tr>\n",
       "      <th>3</th>\n",
       "      <td>-0.256074</td>\n",
       "      <td>-0.618853</td>\n",
       "      <td>-0.272727</td>\n",
       "      <td>1</td>\n",
       "      <td>0.407864</td>\n",
       "    </tr>\n",
       "    <tr>\n",
       "      <th>4</th>\n",
       "      <td>-0.256074</td>\n",
       "      <td>-0.618853</td>\n",
       "      <td>-0.272727</td>\n",
       "      <td>1</td>\n",
       "      <td>0.407864</td>\n",
       "    </tr>\n",
       "  </tbody>\n",
       "</table>\n",
       "</div>"
      ],
      "text/plain": [
       "      stat.  engineer  San Diego  intercept  probability\n",
       "0 -0.256074 -0.618853  -0.272727          1     0.407864\n",
       "1 -0.256074  1.615893  -0.272727          1     0.579446\n",
       "2 -0.256074  1.615893  -0.272727          1     0.579446\n",
       "3 -0.256074 -0.618853  -0.272727          1     0.407864\n",
       "4 -0.256074 -0.618853  -0.272727          1     0.407864"
      ]
     },
     "execution_count": 127,
     "metadata": {},
     "output_type": "execute_result"
    }
   ],
   "source": [
    "X_scaled.head()"
   ]
  },
  {
   "cell_type": "code",
   "execution_count": 128,
   "metadata": {
    "collapsed": true
   },
   "outputs": [],
   "source": [
    "del X_scaled['probability']"
   ]
  },
  {
   "cell_type": "code",
   "execution_count": 129,
   "metadata": {
    "collapsed": false,
    "focus": false,
    "id": "172fd952-5012-4630-81f4-1206da6eb820"
   },
   "outputs": [
    {
     "name": "stderr",
     "output_type": "stream",
     "text": [
      "/Users/Rebecca/anaconda/lib/python2.7/site-packages/sklearn/svm/base.py:874: DeprecationWarning: penalty='L1' has been deprecated in favor of penalty='l1' as of 0.16. Backward compatibility for the uppercase notation will be removed in 0.18\n",
      "  DeprecationWarning)\n"
     ]
    },
    {
     "data": {
      "text/plain": [
       "LogisticRegression(C=1.0, class_weight=None, dual=False, fit_intercept=True,\n",
       "          intercept_scaling=1, max_iter=100, multi_class='ovr', n_jobs=1,\n",
       "          penalty='L1', random_state=None, solver='liblinear', tol=0.0001,\n",
       "          verbose=0, warm_start=False)"
      ]
     },
     "execution_count": 129,
     "metadata": {},
     "output_type": "execute_result"
    }
   ],
   "source": [
    "skl_model_l1 = lm.LogisticRegression(penalty = 'L1')\n",
    "\n",
    "skl_model_l1.fit(X_scaled, y)"
   ]
  },
  {
   "cell_type": "code",
   "execution_count": 130,
   "metadata": {
    "collapsed": false,
    "focus": false,
    "id": "56cc8854-d722-411d-a6c7-e86310710f67"
   },
   "outputs": [],
   "source": [
    "X_scaled['probability'] = skl_model_l1.predict_proba(X_scaled[['intercept', 'stat.', 'engineer', 'San Diego']]).T[1]"
   ]
  },
  {
   "cell_type": "code",
   "execution_count": 131,
   "metadata": {
    "collapsed": false
   },
   "outputs": [
    {
     "data": {
      "text/plain": [
       "array([[50, 16],\n",
       "       [36, 28]])"
      ]
     },
     "execution_count": 131,
     "metadata": {},
     "output_type": "execute_result"
    }
   ],
   "source": [
    "predictions = skl_model_l1.predict(X_scaled[['intercept', 'stat.', 'engineer', 'San Diego']])\n",
    "\n",
    "cm = confusion_matrix(y, predictions)\n",
    "cm"
   ]
  },
  {
   "cell_type": "code",
   "execution_count": 132,
   "metadata": {
    "collapsed": false
   },
   "outputs": [
    {
     "data": {
      "image/png": "[encoded data removed]",
      "text/plain": [
       "<matplotlib.figure.Figure at 0x11e8fe8d0>"
      ]
     },
     "metadata": {},
     "output_type": "display_data"
    }
   ],
   "source": [
    "plot_confusion_matrix(cm, title='Confusion matrix - Data Science Salaries (L1 penalty)', labels=['Under Median',\\\n",
    "                                                                'Over Median'], cmap=plt.cm.Reds)"
   ]
  },
  {
   "cell_type": "code",
   "execution_count": 133,
   "metadata": {
    "collapsed": false
   },
   "outputs": [
    {
     "data": {
      "image/png": "[encoded data removed]",
      "text/plain": [
       "<matplotlib.figure.Figure at 0x11796e150>"
      ]
     },
     "metadata": {},
     "output_type": "display_data"
    }
   ],
   "source": [
    "roc = roc_curve(y, predictions)\n",
    "roc\n",
    "pred1 = skl_model_l1.predict_proba(X_scaled[['intercept', 'stat.', 'engineer', 'San Diego']]).T[1]\n",
    "roc = roc_curve(y, pred1)\n",
    "\n",
    "def getROCcurve(roc, title='ROC Curve', xlabel ='% of False Positives', ylabel = '% of True Positives'):\n",
    "    fpr, tpr, thresholds = roc\n",
    "    \n",
    "    fig,ax = plt.subplots()\n",
    "    ax.plot(fpr, tpr, label='ROC Curve')\n",
    "\n",
    "    fig.set_size_inches(7, 6, forward=True)\n",
    "    plt.xlabel(xlabel)\n",
    "    plt.ylabel(ylabel)\n",
    "    plt.title(title)\n",
    "    plt.legend(loc='best')\n",
    "    plt.plot([0, 1], [0, 1], 'k--', linewidth = 0.4, color = 'magenta')\n",
    "    return\n",
    "getROCcurve(roc, title='ROC Curve (L1 penalty)', xlabel ='% of False Positives', ylabel = '% of True Positives')"
   ]
  },
  {
   "cell_type": "code",
   "execution_count": 134,
   "metadata": {
    "collapsed": false
   },
   "outputs": [
    {
     "name": "stderr",
     "output_type": "stream",
     "text": [
      "/Users/Rebecca/anaconda/lib/python2.7/site-packages/sklearn/svm/base.py:874: DeprecationWarning: penalty='L1' has been deprecated in favor of penalty='l1' as of 0.16. Backward compatibility for the uppercase notation will be removed in 0.18\n",
      "  DeprecationWarning)\n",
      "/Users/Rebecca/anaconda/lib/python2.7/site-packages/sklearn/svm/base.py:874: DeprecationWarning: penalty='L1' has been deprecated in favor of penalty='l1' as of 0.16. Backward compatibility for the uppercase notation will be removed in 0.18\n",
      "  DeprecationWarning)\n",
      "/Users/Rebecca/anaconda/lib/python2.7/site-packages/sklearn/svm/base.py:874: DeprecationWarning: penalty='L1' has been deprecated in favor of penalty='l1' as of 0.16. Backward compatibility for the uppercase notation will be removed in 0.18\n",
      "  DeprecationWarning)\n",
      "/Users/Rebecca/anaconda/lib/python2.7/site-packages/sklearn/svm/base.py:874: DeprecationWarning: penalty='L1' has been deprecated in favor of penalty='l1' as of 0.16. Backward compatibility for the uppercase notation will be removed in 0.18\n",
      "  DeprecationWarning)\n",
      "/Users/Rebecca/anaconda/lib/python2.7/site-packages/sklearn/svm/base.py:874: DeprecationWarning: penalty='L1' has been deprecated in favor of penalty='l1' as of 0.16. Backward compatibility for the uppercase notation will be removed in 0.18\n",
      "  DeprecationWarning)\n"
     ]
    },
    {
     "data": {
      "text/plain": [
       "array([ 0.66666667,  0.73076923,  0.53846154,  0.46153846,  0.64      ])"
      ]
     },
     "execution_count": 134,
     "metadata": {},
     "output_type": "execute_result"
    }
   ],
   "source": [
    "cross_val_score(skl_model_l1, X_scaled[['intercept', 'stat.', 'engineer', 'San Diego']], y, n_jobs=1, cv=5)"
   ]
  },
  {
   "cell_type": "code",
   "execution_count": 135,
   "metadata": {
    "collapsed": false
   },
   "outputs": [
    {
     "name": "stdout",
     "output_type": "stream",
     "text": [
      "R^2: 0.607487179487\n"
     ]
    },
    {
     "name": "stderr",
     "output_type": "stream",
     "text": [
      "/Users/Rebecca/anaconda/lib/python2.7/site-packages/sklearn/svm/base.py:874: DeprecationWarning: penalty='L1' has been deprecated in favor of penalty='l1' as of 0.16. Backward compatibility for the uppercase notation will be removed in 0.18\n",
      "  DeprecationWarning)\n",
      "/Users/Rebecca/anaconda/lib/python2.7/site-packages/sklearn/svm/base.py:874: DeprecationWarning: penalty='L1' has been deprecated in favor of penalty='l1' as of 0.16. Backward compatibility for the uppercase notation will be removed in 0.18\n",
      "  DeprecationWarning)\n",
      "/Users/Rebecca/anaconda/lib/python2.7/site-packages/sklearn/svm/base.py:874: DeprecationWarning: penalty='L1' has been deprecated in favor of penalty='l1' as of 0.16. Backward compatibility for the uppercase notation will be removed in 0.18\n",
      "  DeprecationWarning)\n",
      "/Users/Rebecca/anaconda/lib/python2.7/site-packages/sklearn/svm/base.py:874: DeprecationWarning: penalty='L1' has been deprecated in favor of penalty='l1' as of 0.16. Backward compatibility for the uppercase notation will be removed in 0.18\n",
      "  DeprecationWarning)\n",
      "/Users/Rebecca/anaconda/lib/python2.7/site-packages/sklearn/svm/base.py:874: DeprecationWarning: penalty='L1' has been deprecated in favor of penalty='l1' as of 0.16. Backward compatibility for the uppercase notation will be removed in 0.18\n",
      "  DeprecationWarning)\n"
     ]
    }
   ],
   "source": [
    "score = cross_val_score(skl_model_l1, X_scaled[['intercept', 'stat.', 'engineer', 'San Diego']], y, n_jobs=1, cv=5).mean()\n",
    "\n",
    "print 'R^2: %s' %score"
   ]
  },
  {
   "cell_type": "code",
   "execution_count": 136,
   "metadata": {
    "collapsed": false
   },
   "outputs": [
    {
     "name": "stdout",
     "output_type": "stream",
     "text": [
      "accuracy: 0.6\n",
      "precision: 0.636363636364\n",
      "recall: 0.4375\n",
      "area under curve: 0.597537878788\n"
     ]
    }
   ],
   "source": [
    "print 'accuracy: %s' %accuracy_score(y, predictions) # (TP + TN) / (P + N)\n",
    "print 'precision: %s' %precision_score(y, predictions) # TP / P\n",
    "print 'recall: %s' %recall_score(y, predictions) # TP / (TP + FN)\n",
    "print 'area under curve: %s' %roc_auc_score(y, predictions)"
   ]
  },
  {
   "cell_type": "markdown",
   "metadata": {},
   "source": [
    "L1 vs L2 penalty does not seem to make a difference in the predictions of these models."
   ]
  },
  {
   "cell_type": "code",
   "execution_count": null,
   "metadata": {
    "collapsed": true
   },
   "outputs": [],
   "source": []
  }
 ],
 "metadata": {
  "kernelspec": {
   "display_name": "Python 2",
   "language": "python",
   "name": "python2"
  },
  "language_info": {
   "codemirror_mode": {
    "name": "ipython",
    "version": 2
   },
   "file_extension": ".py",
   "mimetype": "text/x-python",
   "name": "python",
   "nbconvert_exporter": "python",
   "pygments_lexer": "ipython2",
   "version": "2.7.12"
  }
 },
 "nbformat": 4,
 "nbformat_minor": 0
}
