{
 "cells": [
  {
   "cell_type": "code",
   "execution_count": 1,
   "metadata": {
    "collapsed": true
   },
   "outputs": [],
   "source": [
    "import requests\n",
    "import bs4\n",
    "from bs4 import BeautifulSoup\n",
    "import pandas as pd\n",
    "\n",
    "from sklearn.svm import LinearSVC\n",
    "from sklearn.feature_selection import SelectFromModel"
   ]
  },
  {
   "cell_type": "code",
   "execution_count": 2,
   "metadata": {
    "collapsed": true
   },
   "outputs": [],
   "source": [
    "def get_jobtitle(result):\n",
    "    '''This function constructs a list containing each job title.'''\n",
    "    jobtitle_list = []\n",
    "    for i in result.findAll('a', class_ = 'jobtitle turnstileLink'): \n",
    "        jobtitle_list.append(str(i.text.encode('utf8')))\n",
    "    return jobtitle_list\n",
    "\n",
    "def get_location(result):\n",
    "    '''This function constructs a list containing each job location.'''\n",
    "    location_list = []\n",
    "    for i in result.findAll('span', class_ = 'location'):\n",
    "        location_list.append(str(i.text.encode('utf8')))\n",
    "    return location_list\n",
    "\n",
    "def get_company(result):   \n",
    "    '''This function constructs a list containing each job company.'''\n",
    "    company_list = []\n",
    "    for i in result.findAll('span', class_ = 'company'):\n",
    "        company = str(i.text.encode('utf8'))\n",
    "        company = company.replace('\\n', '')\n",
    "        company = company.replace('    ', '')\n",
    "        company_list.append(company)\n",
    "    return company_list\n",
    "    \n",
    "def get_salary(result):\n",
    "    '''This function constructs a list containing each job salary.'''\n",
    "    salary_list = []\n",
    "    for i in result.findAll('td', class_ = 'snip'):\n",
    "        if i.find('nobr') != None:\n",
    "            salary_list.append(i.find('nobr').text)\n",
    "        else:\n",
    "            salary_list.append('NaN')\n",
    "    return salary_list\n",
    "\n",
    "def putitalltogether(result):\n",
    "    '''This function creates a dataframe whose columns are the lists produced by the functions it contains.'''\n",
    "    jobs = get_jobtitle(result)\n",
    "    locations = get_location(result)\n",
    "    companies = get_company(result)\n",
    "    salaries = get_salary(result)\n",
    "    return pd.DataFrame(zip(jobs, locations, companies, salaries),\\\n",
    "                        columns = ['title', 'location', 'company', 'salary']) "
   ]
  },
  {
   "cell_type": "code",
   "execution_count": 3,
   "metadata": {
    "collapsed": true
   },
   "outputs": [],
   "source": [
    "url_template = ['http://www.indeed.com/jobs?q=data+scientist&l=', '&start=']\n",
    "\n",
    "max_results_per_city = 1000\n",
    "\n",
    "##### Create empty dataframe with the columns we want; concatenate to it the new one generated for each city\n",
    "df = pd.DataFrame(columns=['title', 'location', 'company', 'salary', 'city', 'state'])\n",
    "\n",
    "for city in set(['New+York,+NY', 'Los+Angeles,+CA', 'Chicago,+IL', 'Houston,+TX', 'Philadelphia,+PA', 'Phoenix,+AZ', \\\n",
    "'San+Antonio,+TX', 'San+Diego,+CA', 'Dallas,+TX', 'San+Jose,+CA', 'Austin,+TX', 'Jacksonville,+FL', 'San+Francisco,+CA',\\\n",
    "'Indianapolis,+IN', 'Columbus,+OH', 'Fort+Worth,+TX', 'Charlotte,+NC', 'Seattle,+WA', 'Denver,+CO', 'El+Paso,+TX', \\\n",
    "'Detroit,+MI', 'Washington,+DC', 'Boston,+MA', 'Memphis,+TN', 'Nashville,+TN']):\n",
    "    for start in range(0, max_results_per_city, 10):\n",
    "        # Grab the results from the request (as above)\n",
    "        URL = url_template[0] + city + url_template[1] + str(start)\n",
    "        indeed = requests.get(URL)\n",
    "        soup = BeautifulSoup(indeed.content, \"lxml\")\n",
    "        # Append to the full set of results and \n",
    "        x = putitalltogether(soup)\n",
    "        nice_city = city.split(',')\n",
    "        state = nice_city[1]\n",
    "        state = state.replace('+', '')\n",
    "        nice_city = nice_city[0]\n",
    "        nice_city = nice_city.replace('+', ' ')\n",
    "        x['city'] = nice_city\n",
    "        x['state'] = state\n",
    "        df = pd.concat([x, df], axis = 0)   "
   ]
  },
  {
   "cell_type": "code",
   "execution_count": 4,
   "metadata": {
    "collapsed": true
   },
   "outputs": [],
   "source": [
    "df['salary'] = df['salary'].apply(lambda x: str(x))\n",
    "df['salary'] = df['salary'].apply(lambda x: str(x.replace('nan', 'NaN')))\n",
    "df = df[['title', 'location', 'company', 'salary', 'city', 'state']]"
   ]
  },
  {
   "cell_type": "code",
   "execution_count": 5,
   "metadata": {
    "collapsed": true
   },
   "outputs": [],
   "source": [
    "df = df.reset_index(drop = True)"
   ]
  },
  {
   "cell_type": "code",
   "execution_count": 6,
   "metadata": {
    "collapsed": false
   },
   "outputs": [
    {
     "name": "stdout",
     "output_type": "stream",
     "text": [
      "Total number of listings: 17195\n",
      "Listings with non-'NaN' salary entries: 562\n",
      "Percentage with non-'NaN' salary entries: 0.0326839197441\n"
     ]
    }
   ],
   "source": [
    "print 'Total number of listings: %s' %len(df) \n",
    "print 'Listings with non-\\'NaN\\' salary entries: %s' %len(df[df['salary'] != 'NaN'])\n",
    "print 'Percentage with non-\\'NaN\\' salary entries: %s' %(float(len(df[df['salary'] != 'NaN']))/len(df))"
   ]
  },
  {
   "cell_type": "code",
   "execution_count": 7,
   "metadata": {
    "collapsed": false
   },
   "outputs": [
    {
     "name": "stdout",
     "output_type": "stream",
     "text": [
      "Of all salary entries:\n",
      "\n",
      "\n",
      "66 are per month;\n",
      "1 are per week;\n",
      "203 are per hour;\n",
      "3 are per day.\n",
      "\n",
      "\n",
      "Delete all of these.\n"
     ]
    }
   ],
   "source": [
    "print 'Of all salary entries:'\n",
    "print '\\n'\n",
    "print '%s are per month;' %len(df[df['salary'].str.contains('month')]) \n",
    "print '%s are per week;' %len(df[df['salary'].str.contains('week')])\n",
    "print '%s are per hour;' %len(df[df['salary'].str.contains('hour')])\n",
    "print '%s are per day.' %len(df[df['salary'].str.contains('day')])\n",
    "print '\\n'\n",
    "print 'Delete all of these.'"
   ]
  },
  {
   "cell_type": "code",
   "execution_count": 8,
   "metadata": {
    "collapsed": true
   },
   "outputs": [],
   "source": [
    "df = df[df['salary'].str.contains('month') == False]\n",
    "df = df[df['salary'].str.contains('week') == False]\n",
    "df = df[df['salary'].str.contains('hour') == False]\n",
    "df = df[df['salary'].str.contains('day') == False]"
   ]
  },
  {
   "cell_type": "code",
   "execution_count": 9,
   "metadata": {
    "collapsed": false
   },
   "outputs": [
    {
     "name": "stdout",
     "output_type": "stream",
     "text": [
      "Of 289 non-'NaN' salary entries, 289 are explicitly labeled as yearly.\n"
     ]
    }
   ],
   "source": [
    "print 'Of %s' %len(df[df['salary'] != 'NaN']) +' non-\\'NaN\\' salary entries, %s' \\\n",
    "%len(df[df['salary'].str.contains('year')]) +' are explicitly labeled as yearly.'"
   ]
  },
  {
   "cell_type": "code",
   "execution_count": 10,
   "metadata": {
    "collapsed": false
   },
   "outputs": [
    {
     "name": "stdout",
     "output_type": "stream",
     "text": [
      "(None)\n"
     ]
    }
   ],
   "source": [
    "if (-len(df[df['salary'].str.contains('year')]) + (len(df[df['salary'] != 'NaN']))) != 0:\n",
    "    print 'The %s' %(-len(df[df['salary'].str.contains('year')]) + (len(df[df['salary'] != 'NaN']))) +' which are not \\\n",
    "explicitly labeled as yearly salaries are the following:'\n",
    "    print df[(df['salary'] != 'NaN') & (df['salary'].str.contains('year') == False)]\n",
    "else:\n",
    "    print '(None)'"
   ]
  },
  {
   "cell_type": "code",
   "execution_count": 11,
   "metadata": {
    "collapsed": true
   },
   "outputs": [],
   "source": [
    "def num_cat(x):\n",
    "    '''This function returns a set containing all data types contained in the argument provided.'''\n",
    "    cat_list = []\n",
    "    for i in x:\n",
    "        cat_list.append(type(i))\n",
    "    return set(cat_list)"
   ]
  },
  {
   "cell_type": "code",
   "execution_count": 12,
   "metadata": {
    "collapsed": false
   },
   "outputs": [
    {
     "data": {
      "text/plain": [
       "{str}"
      ]
     },
     "execution_count": 12,
     "metadata": {},
     "output_type": "execute_result"
    }
   ],
   "source": [
    "num_cat(df['salary'])"
   ]
  },
  {
   "cell_type": "code",
   "execution_count": 13,
   "metadata": {
    "collapsed": true
   },
   "outputs": [],
   "source": [
    "def parse_salary(df):\n",
    "    '''This function takes a dataframe argument containing a column 'salary' and creates a new column, \\\n",
    "    'parsed_salary', with corresponding float entries (which are the average of a range, if and when provided).'''\n",
    "    parsed_salary = []\n",
    "    for i in df['salary']:\n",
    "        if i == 'NaN':\n",
    "            parsed_salary.append(i)\n",
    "        elif i != 'NaN':\n",
    "            x = str(i)\n",
    "            if '-' in x:\n",
    "                x = x.split('-')\n",
    "                x[0] = x[0].replace('$', '')\n",
    "                x[0] = x[0].replace(',', '')\n",
    "                x[0] = x[0].replace(' ', '')\n",
    "                x[1] = x[1].replace('$', '')\n",
    "                x[1] = x[1].replace(',', '')\n",
    "                x2 = x[1].split(' ')\n",
    "                x[1] = x2[1]\n",
    "                new_x = (float(x[0]) + float(x[1]))/2\n",
    "                parsed_salary.append(new_x)   \n",
    "            elif '$' in x:\n",
    "                z = x.split(' ')\n",
    "                z = z[0]\n",
    "                z = z.replace('$', '')\n",
    "                z = z.replace(',', '')\n",
    "                parsed_salary.append(float(z))\n",
    "            else:\n",
    "                parsed_salary.append('delete_me')\n",
    "    df['parsed_salary'] = parsed_salary\n",
    "    df = df[df['parsed_salary'].str.contains('delete_me') == False]\n",
    "    return "
   ]
  },
  {
   "cell_type": "code",
   "execution_count": 14,
   "metadata": {
    "collapsed": true
   },
   "outputs": [],
   "source": [
    "parse_salary(df)"
   ]
  },
  {
   "cell_type": "code",
   "execution_count": 15,
   "metadata": {
    "collapsed": false
   },
   "outputs": [
    {
     "data": {
      "text/html": [
       "<div>\n",
       "<table border=\"1\" class=\"dataframe\">\n",
       "  <thead>\n",
       "    <tr style=\"text-align: right;\">\n",
       "      <th></th>\n",
       "      <th>title</th>\n",
       "      <th>location</th>\n",
       "      <th>company</th>\n",
       "      <th>salary</th>\n",
       "      <th>city</th>\n",
       "      <th>state</th>\n",
       "      <th>parsed_salary</th>\n",
       "    </tr>\n",
       "  </thead>\n",
       "  <tbody>\n",
       "    <tr>\n",
       "      <th>631</th>\n",
       "      <td>Associate Consultant- Biotech/Pharma Market Re...</td>\n",
       "      <td>Boston, MA</td>\n",
       "      <td>Workbridge Associates</td>\n",
       "      <td>$65,000 - $85,000 a year</td>\n",
       "      <td>Boston</td>\n",
       "      <td>MA</td>\n",
       "      <td>75000</td>\n",
       "    </tr>\n",
       "    <tr>\n",
       "      <th>646</th>\n",
       "      <td>Quantitative Data Analyst</td>\n",
       "      <td>Boston, MA</td>\n",
       "      <td>The Bivium Group</td>\n",
       "      <td>$80,000 - $130,000 a year</td>\n",
       "      <td>Boston</td>\n",
       "      <td>MA</td>\n",
       "      <td>105000</td>\n",
       "    </tr>\n",
       "    <tr>\n",
       "      <th>666</th>\n",
       "      <td>Data Scientist, Machine Learning Engineer</td>\n",
       "      <td>Boston, MA</td>\n",
       "      <td>Princeton Consulting</td>\n",
       "      <td>$140,000 - $220,000 a year</td>\n",
       "      <td>Boston</td>\n",
       "      <td>MA</td>\n",
       "      <td>180000</td>\n",
       "    </tr>\n",
       "    <tr>\n",
       "      <th>765</th>\n",
       "      <td>Data Scientist, Machine Learning Engineer</td>\n",
       "      <td>Boston, MA</td>\n",
       "      <td>Execu | Search</td>\n",
       "      <td>$110,000 - $150,000 a year</td>\n",
       "      <td>Boston</td>\n",
       "      <td>MA</td>\n",
       "      <td>130000</td>\n",
       "    </tr>\n",
       "    <tr>\n",
       "      <th>780</th>\n",
       "      <td>Data Analyst/Engineer</td>\n",
       "      <td>Boston, MA</td>\n",
       "      <td>Smith Hanley Associates</td>\n",
       "      <td>$145,000 - $160,000 a year</td>\n",
       "      <td>Boston</td>\n",
       "      <td>MA</td>\n",
       "      <td>152500</td>\n",
       "    </tr>\n",
       "  </tbody>\n",
       "</table>\n",
       "</div>"
      ],
      "text/plain": [
       "                                                 title    location  \\\n",
       "631  Associate Consultant- Biotech/Pharma Market Re...  Boston, MA   \n",
       "646                          Quantitative Data Analyst  Boston, MA   \n",
       "666          Data Scientist, Machine Learning Engineer  Boston, MA   \n",
       "765          Data Scientist, Machine Learning Engineer  Boston, MA   \n",
       "780                              Data Analyst/Engineer  Boston, MA   \n",
       "\n",
       "                     company                      salary    city state  \\\n",
       "631    Workbridge Associates    $65,000 - $85,000 a year  Boston    MA   \n",
       "646         The Bivium Group   $80,000 - $130,000 a year  Boston    MA   \n",
       "666     Princeton Consulting  $140,000 - $220,000 a year  Boston    MA   \n",
       "765           Execu | Search  $110,000 - $150,000 a year  Boston    MA   \n",
       "780  Smith Hanley Associates  $145,000 - $160,000 a year  Boston    MA   \n",
       "\n",
       "    parsed_salary  \n",
       "631         75000  \n",
       "646        105000  \n",
       "666        180000  \n",
       "765        130000  \n",
       "780        152500  "
      ]
     },
     "execution_count": 15,
     "metadata": {},
     "output_type": "execute_result"
    }
   ],
   "source": [
    "df[df['parsed_salary'] != 'NaN'].head()"
   ]
  },
  {
   "cell_type": "code",
   "execution_count": 16,
   "metadata": {
    "collapsed": true
   },
   "outputs": [],
   "source": [
    "df.to_csv('IndeedSalaryData3.csv', encoding='utf-8')"
   ]
  },
  {
   "cell_type": "code",
   "execution_count": 17,
   "metadata": {
    "collapsed": true
   },
   "outputs": [],
   "source": [
    "from matplotlib import pyplot as plt\n",
    "import numpy as np\n",
    "import statsmodels.api as st\n",
    "import re\n",
    "import sklearn\n",
    "from sklearn import linear_model as lm\n",
    "from sklearn import cross_validation, preprocessing\n",
    "import matplotlib.cm as cm\n",
    "from sklearn.metrics import confusion_matrix\n",
    "from sklearn.metrics import roc_curve\n",
    "from sklearn.metrics import roc_auc_score\n",
    "from sklearn.cross_validation import train_test_split\n",
    "from sklearn.metrics import accuracy_score\n",
    "from sklearn.metrics import precision_score\n",
    "from sklearn.metrics import recall_score\n",
    "from sklearn.cross_validation import train_test_split\n",
    "from sklearn.cross_validation import cross_val_predict\n",
    "from sklearn.cross_validation import cross_val_score\n",
    "import matplotlib.patheffects as path_effects\n",
    "from sklearn.metrics import mean_squared_error\n",
    "\n",
    "% matplotlib inline"
   ]
  },
  {
   "cell_type": "code",
   "execution_count": 18,
   "metadata": {
    "collapsed": true
   },
   "outputs": [],
   "source": [
    "df_new = pd.read_csv('/Users/Rebecca/DSI-projects/projects/project-04/starter-code/IndeedSalaryData3.csv')\n",
    "df_new = df_new[['title', 'location', 'company', 'city', 'state', 'parsed_salary']]"
   ]
  },
  {
   "cell_type": "code",
   "execution_count": 19,
   "metadata": {
    "collapsed": false
   },
   "outputs": [
    {
     "name": "stdout",
     "output_type": "stream",
     "text": [
      "289\n"
     ]
    },
    {
     "data": {
      "text/html": [
       "<div>\n",
       "<table border=\"1\" class=\"dataframe\">\n",
       "  <thead>\n",
       "    <tr style=\"text-align: right;\">\n",
       "      <th></th>\n",
       "      <th>title</th>\n",
       "      <th>location</th>\n",
       "      <th>company</th>\n",
       "      <th>city</th>\n",
       "      <th>state</th>\n",
       "      <th>parsed_salary</th>\n",
       "    </tr>\n",
       "  </thead>\n",
       "  <tbody>\n",
       "    <tr>\n",
       "      <th>0</th>\n",
       "      <td>Associate Consultant- Biotech/Pharma Market Re...</td>\n",
       "      <td>Boston, MA</td>\n",
       "      <td>Workbridge Associates</td>\n",
       "      <td>Boston</td>\n",
       "      <td>MA</td>\n",
       "      <td>75000.0</td>\n",
       "    </tr>\n",
       "  </tbody>\n",
       "</table>\n",
       "</div>"
      ],
      "text/plain": [
       "                                               title    location  \\\n",
       "0  Associate Consultant- Biotech/Pharma Market Re...  Boston, MA   \n",
       "\n",
       "                 company    city state  parsed_salary  \n",
       "0  Workbridge Associates  Boston    MA        75000.0  "
      ]
     },
     "execution_count": 19,
     "metadata": {},
     "output_type": "execute_result"
    }
   ],
   "source": [
    "#sal_df = df_new[df_new['parsed_salary'] != 'NaN']\n",
    "sal_df = df_new[df_new['parsed_salary'] >= 0]\n",
    "sal_df = sal_df.reset_index(drop = True)\n",
    "print len(sal_df)\n",
    "sal_df.head(1)"
   ]
  },
  {
   "cell_type": "code",
   "execution_count": 34,
   "metadata": {
    "collapsed": false
   },
   "outputs": [],
   "source": [
    "sal_df = sal_df[sal_df['company'] != 'Department of the Army']"
   ]
  },
  {
   "cell_type": "code",
   "execution_count": 40,
   "metadata": {
    "collapsed": true
   },
   "outputs": [],
   "source": [
    "sal_df = sal_df[sal_df['company'] != 'Jobspring Partners']"
   ]
  },
  {
   "cell_type": "code",
   "execution_count": 41,
   "metadata": {
    "collapsed": false
   },
   "outputs": [
    {
     "data": {
      "image/png": "[encoded data removed]",
      "text/plain": [
       "<matplotlib.figure.Figure at 0x11735a390>"
      ]
     },
     "metadata": {},
     "output_type": "display_data"
    }
   ],
   "source": [
    "plt.figure(figsize=(12,8))\n",
    "plt.style.use('fivethirtyeight')\n",
    "\n",
    "states = sal_df['state'].value_counts()\n",
    "\n",
    "states.plot.bar()\n",
    "\n",
    "plt.axhline(0, color='darkblue')\n",
    "\n",
    "plt.title('Histogram of Indeed.com \\'Data Scientist\\' Salary Listings by State', fontsize = 22)\n",
    "\n",
    "# y label\n",
    "plt.ylabel('Number of Listings')\n",
    "\n",
    "#ax.get_xaxis().get_major_formatter().set_useOffset(False)\n",
    "# x label\n",
    "plt.xlabel('State')\n",
    "\n",
    "#plt.legend(loc='upper right', fontsize = 15)\n",
    "\n",
    "plt.show()"
   ]
  },
  {
   "cell_type": "code",
   "execution_count": 42,
   "metadata": {
    "collapsed": false
   },
   "outputs": [
    {
     "data": {
      "image/png": "[encoded data removed]",
      "text/plain": [
       "<matplotlib.figure.Figure at 0x119968bd0>"
      ]
     },
     "metadata": {},
     "output_type": "display_data"
    }
   ],
   "source": [
    "plt.figure(figsize=(12,8))\n",
    "plt.style.use('fivethirtyeight')\n",
    "\n",
    "cities = sal_df['city'].value_counts()\n",
    "\n",
    "cities.plot.bar()\n",
    "\n",
    "plt.axhline(0, color='darkblue')\n",
    "\n",
    "plt.title('Histogram of Indeed.com \\'Data Scientist\\' Salary Listings by City', fontsize = 22)\n",
    "\n",
    "# y label\n",
    "plt.ylabel('Number of Listings')\n",
    "\n",
    "#ax.get_xaxis().get_major_formatter().set_useOffset(False)\n",
    "# x label\n",
    "plt.xlabel('City')\n",
    "\n",
    "#plt.legend(loc='upper right', fontsize = 15)\n",
    "\n",
    "plt.show()"
   ]
  },
  {
   "cell_type": "code",
   "execution_count": 22,
   "metadata": {
    "collapsed": false
   },
   "outputs": [
    {
     "name": "stdout",
     "output_type": "stream",
     "text": [
      "The minimum salary listed is 21294.5\n"
     ]
    },
    {
     "data": {
      "text/html": [
       "<div>\n",
       "<table border=\"1\" class=\"dataframe\">\n",
       "  <thead>\n",
       "    <tr style=\"text-align: right;\">\n",
       "      <th></th>\n",
       "      <th>title</th>\n",
       "      <th>location</th>\n",
       "      <th>company</th>\n",
       "      <th>city</th>\n",
       "      <th>state</th>\n",
       "      <th>parsed_salary</th>\n",
       "    </tr>\n",
       "  </thead>\n",
       "  <tbody>\n",
       "    <tr>\n",
       "      <th>155</th>\n",
       "      <td>Data Scientist / Engineer</td>\n",
       "      <td>San Francisco, CA</td>\n",
       "      <td>San Francisco State University</td>\n",
       "      <td>San Francisco</td>\n",
       "      <td>CA</td>\n",
       "      <td>21294.5</td>\n",
       "    </tr>\n",
       "  </tbody>\n",
       "</table>\n",
       "</div>"
      ],
      "text/plain": [
       "                         title           location  \\\n",
       "155  Data Scientist / Engineer  San Francisco, CA   \n",
       "\n",
       "                            company           city state  parsed_salary  \n",
       "155  San Francisco State University  San Francisco    CA        21294.5  "
      ]
     },
     "execution_count": 22,
     "metadata": {},
     "output_type": "execute_result"
    }
   ],
   "source": [
    "print 'The minimum salary listed is %s' %min(sal_df['parsed_salary'])\n",
    "sal_df[sal_df['parsed_salary'] == min(sal_df['parsed_salary'])]"
   ]
  },
  {
   "cell_type": "code",
   "execution_count": 23,
   "metadata": {
    "collapsed": false
   },
   "outputs": [
    {
     "name": "stdout",
     "output_type": "stream",
     "text": [
      "The maximum salary listed is 250000.0\n"
     ]
    },
    {
     "data": {
      "text/html": [
       "<div>\n",
       "<table border=\"1\" class=\"dataframe\">\n",
       "  <thead>\n",
       "    <tr style=\"text-align: right;\">\n",
       "      <th></th>\n",
       "      <th>title</th>\n",
       "      <th>location</th>\n",
       "      <th>company</th>\n",
       "      <th>city</th>\n",
       "      <th>state</th>\n",
       "      <th>parsed_salary</th>\n",
       "    </tr>\n",
       "  </thead>\n",
       "  <tbody>\n",
       "    <tr>\n",
       "      <th>114</th>\n",
       "      <td>Sr. Data Scientist, Learning Services</td>\n",
       "      <td>New York, NY 10016 (Gramercy area)</td>\n",
       "      <td>Averity</td>\n",
       "      <td>New York</td>\n",
       "      <td>NY</td>\n",
       "      <td>250000.0</td>\n",
       "    </tr>\n",
       "  </tbody>\n",
       "</table>\n",
       "</div>"
      ],
      "text/plain": [
       "                                     title  \\\n",
       "114  Sr. Data Scientist, Learning Services   \n",
       "\n",
       "                               location  company      city state  \\\n",
       "114  New York, NY 10016 (Gramercy area)  Averity  New York    NY   \n",
       "\n",
       "     parsed_salary  \n",
       "114       250000.0  "
      ]
     },
     "execution_count": 23,
     "metadata": {},
     "output_type": "execute_result"
    }
   ],
   "source": [
    "print 'The maximum salary listed is %s' %max(sal_df['parsed_salary'])\n",
    "sal_df[sal_df['parsed_salary'] == max(sal_df['parsed_salary'])]"
   ]
  },
  {
   "cell_type": "code",
   "execution_count": 24,
   "metadata": {
    "collapsed": false
   },
   "outputs": [
    {
     "data": {
      "image/png": "[encoded data removed]",
      "text/plain": [
       "<matplotlib.figure.Figure at 0x1173d0d10>"
      ]
     },
     "metadata": {},
     "output_type": "display_data"
    }
   ],
   "source": [
    "plt.figure(figsize=(12,8))\n",
    "plt.style.use('fivethirtyeight')\n",
    "\n",
    "df_hist = plt.hist(sal_df['parsed_salary'], color = 'darkred', bins = 20)\n",
    "plt.axvline(sal_df['parsed_salary'].median(), color='b', linestyle='dashed', linewidth=1.5, label = 'median')\n",
    "plt.axvline(sal_df['parsed_salary'].mean(), color='g', linestyle='dashed', linewidth=1.5, label = 'mean')\n",
    "\n",
    "plt.title('Histogram of \\'Data Scientist\\' Salaries, 25 Most-Populous U.S. Cities', fontsize = 20)\n",
    "\n",
    "# y label\n",
    "plt.ylabel('Number of Listings')\n",
    "\n",
    "# x label\n",
    "plt.xlabel('Yearly Salary (USD)')\n",
    "\n",
    "plt.xlim([0, max(sal_df['parsed_salary'])])\n",
    "#plt.ylim([-10, 85])\n",
    "\n",
    "plt.legend(loc='upper right', fontsize = 15)\n",
    "\n",
    "plt.show()"
   ]
  },
  {
   "cell_type": "code",
   "execution_count": 44,
   "metadata": {
    "collapsed": false
   },
   "outputs": [
    {
     "name": "stdout",
     "output_type": "stream",
     "text": [
      "The median salary is 110000.0.\n"
     ]
    }
   ],
   "source": [
    "median = float(sal_df['parsed_salary'].describe().loc['50%'])\n",
    "print 'The median salary is %s.' %median"
   ]
  },
  {
   "cell_type": "code",
   "execution_count": 45,
   "metadata": {
    "collapsed": false
   },
   "outputs": [],
   "source": [
    "def sal_dummify(x):\n",
    "    sal_dummy = []\n",
    "    for i in sal_df['parsed_salary']:\n",
    "        if i > median:\n",
    "            sal_dummy.append(1)\n",
    "        elif i <= median:\n",
    "            sal_dummy.append(0)\n",
    "        # This shouldn't happen, but just in case...\n",
    "        else:\n",
    "            sal_dummy.append('NaN')\n",
    "    x['sal_dummy'] = sal_dummy\n",
    "    return x"
   ]
  },
  {
   "cell_type": "code",
   "execution_count": 46,
   "metadata": {
    "collapsed": false
   },
   "outputs": [
    {
     "data": {
      "text/plain": [
       "0    64\n",
       "1    58\n",
       "Name: sal_dummy, dtype: int64"
      ]
     },
     "execution_count": 46,
     "metadata": {},
     "output_type": "execute_result"
    }
   ],
   "source": [
    "sal_dummify(sal_df)\n",
    "sal_df['sal_dummy'].value_counts()"
   ]
  },
  {
   "cell_type": "code",
   "execution_count": 47,
   "metadata": {
    "collapsed": false
   },
   "outputs": [
    {
     "name": "stdout",
     "output_type": "stream",
     "text": [
      "There are 19 cities and 12 states represented in the dataframe.\n",
      "\n",
      "\n",
      "There are 25 cities and 16 states represented in the original, scraped data.\n"
     ]
    }
   ],
   "source": [
    "print 'There are %s cities' %len(sal_df['city'].unique()) + ' and %s states represented in the dataframe.'\\\n",
    "%len(sal_df['state'].unique())\n",
    "print '\\n'\n",
    "print 'There are %s cities' %len(df['city'].unique()) + ' and %s states represented in the original, scraped data.'\\\n",
    "%len(df['state'].unique())"
   ]
  },
  {
   "cell_type": "code",
   "execution_count": 48,
   "metadata": {
    "collapsed": true
   },
   "outputs": [],
   "source": [
    "tax_dict = {\n",
    "    'TX':0,\n",
    "    'CA':13.3,\n",
    "    'DC':8.95,\n",
    "    'NY':8.82,\n",
    "    'MA':5.1,\n",
    "    'IL':3.75,\n",
    "    'WA':0,\n",
    "    'PA':3.07,\n",
    "    'AZ':4.54,\n",
    "    'CO':4.63,\n",
    "    'IN':3.3,\n",
    "    'TN':6.0,\n",
    "    'NC':5.75,\n",
    "    'OH':4.997\n",
    "}"
   ]
  },
  {
   "cell_type": "code",
   "execution_count": 49,
   "metadata": {
    "collapsed": true
   },
   "outputs": [],
   "source": [
    "sal_df['inc_tax_rate'] = sal_df['state'].map(tax_dict)"
   ]
  },
  {
   "cell_type": "code",
   "execution_count": 52,
   "metadata": {
    "collapsed": false
   },
   "outputs": [
    {
     "data": {
      "text/html": [
       "<div>\n",
       "<table border=\"1\" class=\"dataframe\">\n",
       "  <thead>\n",
       "    <tr style=\"text-align: right;\">\n",
       "      <th></th>\n",
       "      <th>intercept</th>\n",
       "      <th>Austin</th>\n",
       "      <th>Boston</th>\n",
       "      <th>Charlotte</th>\n",
       "      <th>Chicago</th>\n",
       "      <th>Columbus</th>\n",
       "      <th>Dallas</th>\n",
       "      <th>Denver</th>\n",
       "      <th>Fort Worth</th>\n",
       "      <th>Houston</th>\n",
       "      <th>Los Angeles</th>\n",
       "      <th>New York</th>\n",
       "      <th>Philadelphia</th>\n",
       "      <th>Phoenix</th>\n",
       "      <th>San Antonio</th>\n",
       "      <th>San Diego</th>\n",
       "      <th>San Francisco</th>\n",
       "      <th>San Jose</th>\n",
       "      <th>Seattle</th>\n",
       "      <th>Washington</th>\n",
       "    </tr>\n",
       "  </thead>\n",
       "  <tbody>\n",
       "    <tr>\n",
       "      <th>0</th>\n",
       "      <td>1</td>\n",
       "      <td>0.0</td>\n",
       "      <td>1.0</td>\n",
       "      <td>0.0</td>\n",
       "      <td>0.0</td>\n",
       "      <td>0.0</td>\n",
       "      <td>0.0</td>\n",
       "      <td>0.0</td>\n",
       "      <td>0.0</td>\n",
       "      <td>0.0</td>\n",
       "      <td>0.0</td>\n",
       "      <td>0.0</td>\n",
       "      <td>0.0</td>\n",
       "      <td>0.0</td>\n",
       "      <td>0.0</td>\n",
       "      <td>0.0</td>\n",
       "      <td>0.0</td>\n",
       "      <td>0.0</td>\n",
       "      <td>0.0</td>\n",
       "      <td>0.0</td>\n",
       "    </tr>\n",
       "  </tbody>\n",
       "</table>\n",
       "</div>"
      ],
      "text/plain": [
       "   intercept  Austin  Boston  Charlotte  Chicago  Columbus  Dallas  Denver  \\\n",
       "0          1     0.0     1.0        0.0      0.0       0.0     0.0     0.0   \n",
       "\n",
       "   Fort Worth  Houston  Los Angeles  New York  Philadelphia  Phoenix  \\\n",
       "0         0.0      0.0          0.0       0.0           0.0      0.0   \n",
       "\n",
       "   San Antonio  San Diego  San Francisco  San Jose  Seattle  Washington  \n",
       "0          0.0        0.0            0.0       0.0      0.0         0.0  "
      ]
     },
     "execution_count": 52,
     "metadata": {},
     "output_type": "execute_result"
    }
   ],
   "source": [
    "X_city = pd.DataFrame(sal_df['city'])\n",
    "X_city['intercept'] = 1\n",
    "X_city = pd.concat([X_city.drop('city',axis=1), pd.get_dummies(X_city['city'])], axis = 1)\n",
    "y = sal_df['sal_dummy']\n",
    "X_city.head(1)"
   ]
  },
  {
   "cell_type": "code",
   "execution_count": 53,
   "metadata": {
    "collapsed": true
   },
   "outputs": [],
   "source": [
    "del X_city['Austin']"
   ]
  },
  {
   "cell_type": "code",
   "execution_count": 54,
   "metadata": {
    "collapsed": false
   },
   "outputs": [
    {
     "name": "stdout",
     "output_type": "stream",
     "text": [
      "Warning: Maximum number of iterations has been exceeded.\n",
      "         Current function value: 0.608938\n",
      "         Iterations: 35\n",
      "         Function evaluations: 37\n",
      "         Gradient evaluations: 37\n"
     ]
    },
    {
     "name": "stderr",
     "output_type": "stream",
     "text": [
      "/Users/Rebecca/anaconda/lib/python2.7/site-packages/statsmodels/base/model.py:466: ConvergenceWarning: Maximum Likelihood optimization failed to converge. Check mle_retvals\n",
      "  \"Check mle_retvals\", ConvergenceWarning)\n"
     ]
    },
    {
     "data": {
      "text/html": [
       "<table class=\"simpletable\">\n",
       "<caption>MNLogit Regression Results</caption>\n",
       "<tr>\n",
       "  <th>Dep. Variable:</th>     <td>sal_dummy</td>    <th>  No. Observations:  </th>  <td>   122</td> \n",
       "</tr>\n",
       "<tr>\n",
       "  <th>Model:</th>              <td>MNLogit</td>     <th>  Df Residuals:      </th>  <td>   103</td> \n",
       "</tr>\n",
       "<tr>\n",
       "  <th>Method:</th>               <td>MLE</td>       <th>  Df Model:          </th>  <td>    18</td> \n",
       "</tr>\n",
       "<tr>\n",
       "  <th>Date:</th>          <td>Mon, 11 Jul 2016</td> <th>  Pseudo R-squ.:     </th>  <td>0.1200</td> \n",
       "</tr>\n",
       "<tr>\n",
       "  <th>Time:</th>              <td>11:16:57</td>     <th>  Log-Likelihood:    </th> <td> -74.290</td>\n",
       "</tr>\n",
       "<tr>\n",
       "  <th>converged:</th>           <td>False</td>      <th>  LL-Null:           </th> <td> -84.416</td>\n",
       "</tr>\n",
       "<tr>\n",
       "  <th> </th>                      <td> </td>        <th>  LLR p-value:       </th>  <td>0.3188</td> \n",
       "</tr>\n",
       "</table>\n",
       "<table class=\"simpletable\">\n",
       "<tr>\n",
       "   <th>sal_dummy=1</th>     <th>coef</th>     <th>std err</th>      <th>z</th>      <th>P>|z|</th> <th>[95.0% Conf. Int.]</th> \n",
       "</tr>\n",
       "<tr>\n",
       "  <th>intercept</th>     <td>   -0.6548</td> <td>    1.217</td> <td>   -0.538</td> <td> 0.591</td> <td>   -3.040     1.731</td>\n",
       "</tr>\n",
       "<tr>\n",
       "  <th>Boston</th>        <td>    0.5014</td> <td>    1.338</td> <td>    0.375</td> <td> 0.708</td> <td>   -2.121     3.124</td>\n",
       "</tr>\n",
       "<tr>\n",
       "  <th>Charlotte</th>     <td>    6.4070</td> <td>   10.350</td> <td>    0.619</td> <td> 0.536</td> <td>  -13.878    26.692</td>\n",
       "</tr>\n",
       "<tr>\n",
       "  <th>Chicago</th>       <td>    1.0506</td> <td>    1.441</td> <td>    0.729</td> <td> 0.466</td> <td>   -1.773     3.874</td>\n",
       "</tr>\n",
       "<tr>\n",
       "  <th>Columbus</th>      <td>   -3.8545</td> <td>    6.922</td> <td>   -0.557</td> <td> 0.578</td> <td>  -17.421     9.712</td>\n",
       "</tr>\n",
       "<tr>\n",
       "  <th>Dallas</th>        <td>   -2.4312</td> <td>    5.041</td> <td>   -0.482</td> <td> 0.630</td> <td>  -12.312     7.450</td>\n",
       "</tr>\n",
       "<tr>\n",
       "  <th>Denver</th>        <td>    0.2645</td> <td>    1.474</td> <td>    0.179</td> <td> 0.858</td> <td>   -2.625     3.154</td>\n",
       "</tr>\n",
       "<tr>\n",
       "  <th>Fort Worth</th>    <td>   -2.4312</td> <td>    5.041</td> <td>   -0.482</td> <td> 0.630</td> <td>  -12.312     7.450</td>\n",
       "</tr>\n",
       "<tr>\n",
       "  <th>Houston</th>       <td>   -4.8971</td> <td>    9.384</td> <td>   -0.522</td> <td> 0.602</td> <td>  -23.289    13.495</td>\n",
       "</tr>\n",
       "<tr>\n",
       "  <th>Los Angeles</th>   <td>    0.8690</td> <td>    1.468</td> <td>    0.592</td> <td> 0.554</td> <td>   -2.009     3.747</td>\n",
       "</tr>\n",
       "<tr>\n",
       "  <th>New York</th>      <td>    0.9003</td> <td>    1.288</td> <td>    0.699</td> <td> 0.484</td> <td>   -1.623     3.424</td>\n",
       "</tr>\n",
       "<tr>\n",
       "  <th>Philadelphia</th>  <td>   -0.7296</td> <td>    1.744</td> <td>   -0.418</td> <td> 0.676</td> <td>   -4.148     2.689</td>\n",
       "</tr>\n",
       "<tr>\n",
       "  <th>Phoenix</th>       <td>   -3.8545</td> <td>    6.922</td> <td>   -0.557</td> <td> 0.578</td> <td>  -17.421     9.712</td>\n",
       "</tr>\n",
       "<tr>\n",
       "  <th>San Antonio</th>   <td>   -2.4312</td> <td>    5.041</td> <td>   -0.482</td> <td> 0.630</td> <td>  -12.312     7.450</td>\n",
       "</tr>\n",
       "<tr>\n",
       "  <th>San Diego</th>     <td>    0.9423</td> <td>    1.877</td> <td>    0.502</td> <td> 0.616</td> <td>   -2.736     4.621</td>\n",
       "</tr>\n",
       "<tr>\n",
       "  <th>San Francisco</th> <td>    1.2216</td> <td>    1.384</td> <td>    0.883</td> <td> 0.377</td> <td>   -1.490     3.933</td>\n",
       "</tr>\n",
       "<tr>\n",
       "  <th>San Jose</th>      <td>   -0.7296</td> <td>    1.744</td> <td>   -0.418</td> <td> 0.676</td> <td>   -4.148     2.689</td>\n",
       "</tr>\n",
       "<tr>\n",
       "  <th>Seattle</th>       <td>    1.2238</td> <td>    1.422</td> <td>    0.860</td> <td> 0.390</td> <td>   -1.564     4.011</td>\n",
       "</tr>\n",
       "<tr>\n",
       "  <th>Washington</th>    <td>    0.5563</td> <td>    1.287</td> <td>    0.432</td> <td> 0.665</td> <td>   -1.966     3.078</td>\n",
       "</tr>\n",
       "</table>"
      ],
      "text/plain": [
       "<class 'statsmodels.iolib.summary.Summary'>\n",
       "\"\"\"\n",
       "                          MNLogit Regression Results                          \n",
       "==============================================================================\n",
       "Dep. Variable:              sal_dummy   No. Observations:                  122\n",
       "Model:                        MNLogit   Df Residuals:                      103\n",
       "Method:                           MLE   Df Model:                           18\n",
       "Date:                Mon, 11 Jul 2016   Pseudo R-squ.:                  0.1200\n",
       "Time:                        11:16:57   Log-Likelihood:                -74.290\n",
       "converged:                      False   LL-Null:                       -84.416\n",
       "                                        LLR p-value:                    0.3188\n",
       "=================================================================================\n",
       "  sal_dummy=1       coef    std err          z      P>|z|      [95.0% Conf. Int.]\n",
       "---------------------------------------------------------------------------------\n",
       "intercept        -0.6548      1.217     -0.538      0.591        -3.040     1.731\n",
       "Boston            0.5014      1.338      0.375      0.708        -2.121     3.124\n",
       "Charlotte         6.4070     10.350      0.619      0.536       -13.878    26.692\n",
       "Chicago           1.0506      1.441      0.729      0.466        -1.773     3.874\n",
       "Columbus         -3.8545      6.922     -0.557      0.578       -17.421     9.712\n",
       "Dallas           -2.4312      5.041     -0.482      0.630       -12.312     7.450\n",
       "Denver            0.2645      1.474      0.179      0.858        -2.625     3.154\n",
       "Fort Worth       -2.4312      5.041     -0.482      0.630       -12.312     7.450\n",
       "Houston          -4.8971      9.384     -0.522      0.602       -23.289    13.495\n",
       "Los Angeles       0.8690      1.468      0.592      0.554        -2.009     3.747\n",
       "New York          0.9003      1.288      0.699      0.484        -1.623     3.424\n",
       "Philadelphia     -0.7296      1.744     -0.418      0.676        -4.148     2.689\n",
       "Phoenix          -3.8545      6.922     -0.557      0.578       -17.421     9.712\n",
       "San Antonio      -2.4312      5.041     -0.482      0.630       -12.312     7.450\n",
       "San Diego         0.9423      1.877      0.502      0.616        -2.736     4.621\n",
       "San Francisco     1.2216      1.384      0.883      0.377        -1.490     3.933\n",
       "San Jose         -0.7296      1.744     -0.418      0.676        -4.148     2.689\n",
       "Seattle           1.2238      1.422      0.860      0.390        -1.564     4.011\n",
       "Washington        0.5563      1.287      0.432      0.665        -1.966     3.078\n",
       "=================================================================================\n",
       "\"\"\""
      ]
     },
     "execution_count": 54,
     "metadata": {},
     "output_type": "execute_result"
    }
   ],
   "source": [
    "model_city = st.MNLogit(y, X_city)\n",
    "model_city_fit = model_city.fit(method = 'bfgs')\n",
    "model_city_fit.summary()"
   ]
  },
  {
   "cell_type": "code",
   "execution_count": 55,
   "metadata": {
    "collapsed": false
   },
   "outputs": [
    {
     "name": "stdout",
     "output_type": "stream",
     "text": [
      "AIC: 186.580779502\n",
      "BIC: 239.857179352\n"
     ]
    }
   ],
   "source": [
    "### aic and bic ###\n",
    "print 'AIC: %s' %model_city_fit.aic\n",
    "print 'BIC: %s' %model_city_fit.bic"
   ]
  },
  {
   "cell_type": "code",
   "execution_count": 64,
   "metadata": {
    "collapsed": false
   },
   "outputs": [
    {
     "data": {
      "text/plain": [
       "19"
      ]
     },
     "execution_count": 64,
     "metadata": {},
     "output_type": "execute_result"
    }
   ],
   "source": [
    "lsvc = LinearSVC(C=0.121, penalty=\"l1\", dual=False).fit(X_city, y)\n",
    "model = SelectFromModel(lsvc, prefit=True)\n",
    "X_new = model.transform(X_city)\n",
    "len(sal_df[X_new == 1]['city'].unique())"
   ]
  },
  {
   "cell_type": "code",
   "execution_count": null,
   "metadata": {
    "collapsed": false
   },
   "outputs": [],
   "source": []
  },
  {
   "cell_type": "code",
   "execution_count": null,
   "metadata": {
    "collapsed": true
   },
   "outputs": [],
   "source": []
  }
 ],
 "metadata": {
  "kernelspec": {
   "display_name": "Python 2",
   "language": "python",
   "name": "python2"
  },
  "language_info": {
   "codemirror_mode": {
    "name": "ipython",
    "version": 2
   },
   "file_extension": ".py",
   "mimetype": "text/x-python",
   "name": "python",
   "nbconvert_exporter": "python",
   "pygments_lexer": "ipython2",
   "version": "2.7.12"
  }
 },
 "nbformat": 4,
 "nbformat_minor": 0
}
