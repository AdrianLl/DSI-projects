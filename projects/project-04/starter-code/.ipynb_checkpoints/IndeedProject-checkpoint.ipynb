{
 "cells": [
  {
   "cell_type": "markdown",
   "metadata": {
    "focus": false,
    "id": "69b9a648-bcc7-490d-9f9b-ea244d156bd6"
   },
   "source": [
    "# Web Scraping for Indeed.com & Predicting Salaries"
   ]
  },
  {
   "cell_type": "markdown",
   "metadata": {
    "focus": false,
    "id": "34681254-c802-462f-829d-8894d0772d08"
   },
   "source": [
    "In this project, we will practice two major skills: collecting data by scraping a website and then building a binary predictor with Logistic Regression.\n",
    "\n",
    "We are going to collect salary information on data science jobs in a variety of markets. Then using the location, title and summary of the job we will attempt to predict the salary of the job. For job posting sites, this would be extraordinarily useful. While most listings DO NOT come with salary information (as you will see in this exercise), being to able extrapolate or predict the expected salaries from other listings can help guide negotiations.\n",
    "\n",
    "Normally, we could use regression for this task; however, we will convert this problem into classification and use Logistic Regression.\n",
    "\n",
    "- Question: Why would we want this to be a classification problem?\n",
    "- Answer: While more precision may be better, there is a fair amount of natural variance in job salaries - predicting a range be may be useful.\n",
    "\n",
    "Therefore, the first part of the assignment will be focused on scraping Indeed.com. In the second, we'll focus on using listings with salary information to build a model and predict additional salaries."
   ]
  },
  {
   "cell_type": "markdown",
   "metadata": {
    "focus": false,
    "id": "a948d79c-5527-4c0d-ab23-f5d43ce72056"
   },
   "source": [
    "### Scraping job listings from Indeed.com"
   ]
  },
  {
   "cell_type": "markdown",
   "metadata": {
    "focus": true,
    "id": "7203e0c9-e437-4802-a6ad-7dc464f94436"
   },
   "source": [
    "We will be scraping job listings from Indeed.com using BeautifulSoup. Luckily, Indeed.com is a simple text page where we can easily find relevant entries.\n",
    "\n",
    "First, look at the source of an Indeed.com page: (http://www.indeed.com/jobs?q=data+scientist+%2420%2C000&l=New+York&start=10\")\n",
    "\n",
    "Notice, each job listing is underneath a `div` tag with a class name of `result`. We can use BeautifulSoup to extract those. "
   ]
  },
  {
   "cell_type": "markdown",
   "metadata": {
    "focus": false,
    "id": "9732c901-ae26-4160-8376-42e22dd327df"
   },
   "source": [
    "#### Setup a request (using `requests`) to the URL below. Use BeautifulSoup to parse the page and extract all results (HINT: Look for div tags with class name result)"
   ]
  },
  {
   "cell_type": "code",
   "execution_count": 1,
   "metadata": {
    "collapsed": false,
    "focus": false,
    "id": "e915023e-6b0d-4982-af2a-b1e0355f4927"
   },
   "outputs": [],
   "source": [
    "pre_URL = \"http://www.indeed.com/jobs?q=data+scientist+%2420%2C000&l=New+York\""
   ]
  },
  {
   "cell_type": "code",
   "execution_count": 2,
   "metadata": {
    "collapsed": true,
    "focus": false,
    "id": "2efefc73-064a-482d-b3b5-ddf5508cb4ec"
   },
   "outputs": [],
   "source": [
    "import requests\n",
    "import bs4\n",
    "from bs4 import BeautifulSoup\n",
    "import pandas as pd"
   ]
  },
  {
   "cell_type": "code",
   "execution_count": 3,
   "metadata": {
    "collapsed": false
   },
   "outputs": [],
   "source": [
    "pre_indeed = requests.get(pre_URL)"
   ]
  },
  {
   "cell_type": "code",
   "execution_count": 4,
   "metadata": {
    "collapsed": false
   },
   "outputs": [],
   "source": [
    "pre_soup = BeautifulSoup(pre_indeed.content, \"lxml\")"
   ]
  },
  {
   "cell_type": "markdown",
   "metadata": {},
   "source": [
    "Run cell below to see what text-only results look like:"
   ]
  },
  {
   "cell_type": "code",
   "execution_count": 137,
   "metadata": {
    "collapsed": false
   },
   "outputs": [],
   "source": [
    "#pre_count = 0\n",
    "#for i in pre_soup.findAll('div', class_ = '  row result'):\n",
    "#    print pre_count, i.text\n",
    "#    print '\\n'\n",
    "#    pre_count += 1"
   ]
  },
  {
   "cell_type": "markdown",
   "metadata": {
    "focus": false,
    "id": "f1eddb90-4ba8-483c-a229-77e93aa53119"
   },
   "source": [
    "### Write 4 functions to extract each item: location, company, job, and salary.\n",
    "\n",
    "example: \n",
    "```python\n",
    "def extract_location_from_result(result):\n",
    "    return result.find ...\n",
    "```\n",
    "\n",
    "\n",
    "- Make sure these functions are robust and can handle cases where the data/field may not be available.\n",
    "- Test the functions on the results above"
   ]
  },
  {
   "cell_type": "code",
   "execution_count": 6,
   "metadata": {
    "collapsed": false
   },
   "outputs": [],
   "source": [
    "def get_jobtitle(result):\n",
    "    '''This function constructs a list containing each job title.'''\n",
    "    jobtitle_list = []\n",
    "    for i in result.findAll('a', class_ = 'jobtitle turnstileLink'): \n",
    "        jobtitle_list.append(str(i.text.encode('utf8')))\n",
    "    return jobtitle_list\n",
    "\n",
    "def get_location(result):\n",
    "    '''This function constructs a list containing each job location.'''\n",
    "    location_list = []\n",
    "    for i in result.findAll('span', class_ = 'location'):\n",
    "        location_list.append(str(i.text.encode('utf8')))\n",
    "    return location_list\n",
    "\n",
    "def get_company(result):   \n",
    "    '''This function constructs a list containing each job company.'''\n",
    "    company_list = []\n",
    "    for i in result.findAll('span', class_ = 'company'):\n",
    "        company = str(i.text.encode('utf8'))\n",
    "        company = company.replace('\\n', '')\n",
    "        company = company.replace('    ', '')\n",
    "        company_list.append(company)\n",
    "    return company_list\n",
    "    \n",
    "def get_salary(result):\n",
    "    '''This function constructs a list containing each job salary.'''\n",
    "    salary_list = []\n",
    "    for i in result.findAll('td', class_ = 'snip'):\n",
    "        if i.find('nobr') != None:\n",
    "            salary_list.append(i.find('nobr').text)\n",
    "        else:\n",
    "            salary_list.append('NaN')\n",
    "    return salary_list\n",
    "\n",
    "def putitalltogether(result):\n",
    "    '''This function creates a dataframe whose columns are the lists produced by the functions it contains.'''\n",
    "    jobs = get_jobtitle(result)\n",
    "    locations = get_location(result)\n",
    "    companies = get_company(result)\n",
    "    salaries = get_salary(result)\n",
    "    return pd.DataFrame(zip(jobs, locations, companies, salaries),\\\n",
    "                        columns = ['title', 'location', 'company', 'salary']) "
   ]
  },
  {
   "cell_type": "markdown",
   "metadata": {},
   "source": [
    "Let's see what putitalltogether does with pre_soup:"
   ]
  },
  {
   "cell_type": "code",
   "execution_count": 7,
   "metadata": {
    "collapsed": false
   },
   "outputs": [
    {
     "data": {
      "text/html": [
       "<div>\n",
       "<table border=\"1\" class=\"dataframe\">\n",
       "  <thead>\n",
       "    <tr style=\"text-align: right;\">\n",
       "      <th></th>\n",
       "      <th>title</th>\n",
       "      <th>location</th>\n",
       "      <th>company</th>\n",
       "      <th>salary</th>\n",
       "    </tr>\n",
       "  </thead>\n",
       "  <tbody>\n",
       "    <tr>\n",
       "      <th>0</th>\n",
       "      <td>Junior Data Scientist</td>\n",
       "      <td>New York, NY</td>\n",
       "      <td>UncommonGoods</td>\n",
       "      <td>NaN</td>\n",
       "    </tr>\n",
       "    <tr>\n",
       "      <th>1</th>\n",
       "      <td>Data Scientist &amp; Analytics Developer</td>\n",
       "      <td>Long Beach, NY</td>\n",
       "      <td>Lancer Insurance Company</td>\n",
       "      <td>NaN</td>\n",
       "    </tr>\n",
       "    <tr>\n",
       "      <th>2</th>\n",
       "      <td>Data Scientist – Predictive Analytics</td>\n",
       "      <td>New York, NY</td>\n",
       "      <td>Gallup</td>\n",
       "      <td>NaN</td>\n",
       "    </tr>\n",
       "    <tr>\n",
       "      <th>3</th>\n",
       "      <td>Sr. Data Scientist, Learning Services</td>\n",
       "      <td>New York, NY</td>\n",
       "      <td>Brilliant Leap</td>\n",
       "      <td>$800 a day</td>\n",
       "    </tr>\n",
       "    <tr>\n",
       "      <th>4</th>\n",
       "      <td>Data Scientist</td>\n",
       "      <td>New York, NY</td>\n",
       "      <td>Komodo Health</td>\n",
       "      <td>NaN</td>\n",
       "    </tr>\n",
       "  </tbody>\n",
       "</table>\n",
       "</div>"
      ],
      "text/plain": [
       "                                   title        location  \\\n",
       "0                  Junior Data Scientist    New York, NY   \n",
       "1   Data Scientist & Analytics Developer  Long Beach, NY   \n",
       "2  Data Scientist – Predictive Analytics    New York, NY   \n",
       "3  Sr. Data Scientist, Learning Services    New York, NY   \n",
       "4                         Data Scientist    New York, NY   \n",
       "\n",
       "                    company      salary  \n",
       "0             UncommonGoods         NaN  \n",
       "1  Lancer Insurance Company         NaN  \n",
       "2                    Gallup         NaN  \n",
       "3            Brilliant Leap  $800 a day  \n",
       "4             Komodo Health         NaN  "
      ]
     },
     "execution_count": 7,
     "metadata": {},
     "output_type": "execute_result"
    }
   ],
   "source": [
    "putitalltogether(pre_soup)"
   ]
  },
  {
   "cell_type": "markdown",
   "metadata": {
    "focus": false,
    "id": "34070e89-9521-4b45-90c8-57a6599aac68"
   },
   "source": [
    "Now, to scale up our scraping, we need to accumulate more results. We can do this by examining the URL above.\n",
    "\n",
    "- \"http://www.indeed.com/jobs?q=data+scientist+%2420%2C000&l=New+York&start=10\"\n",
    "\n",
    "There are two query parameters here we can alter to collect more results, the `l=New+York` and the `start=10`. The first controls the location of the results (so we can try a different city). The second controls where in the results to start and gives 10 results (thus, we can keep incrementing by 10 to go further in the list)."
   ]
  },
  {
   "cell_type": "markdown",
   "metadata": {
    "focus": false,
    "id": "e8beed7c-3e42-40c0-810f-5f67f8f885a0"
   },
   "source": [
    "#### Complete the following code to collect results from multiple cities and starting points. \n",
    "- Enter your city below to add it to the search\n",
    "- Remember to convert your salary to U.S. Dollars to match the other cities if the currency is different"
   ]
  },
  {
   "cell_type": "markdown",
   "metadata": {
    "collapsed": true,
    "focus": false,
    "id": "a9aa87ec-3575-4a01-a986-eb684f2c47d0"
   },
   "source": [
    "Let's scrape Indeed.com 'Data Science' job listings in the top 25 most populous cities in the United States (https://en.wikipedia.org/wiki/List_of_United_States_cities_by_population) and further narrow the search to full-time jobs.  Let's also increase maximum number of search results per city to 500."
   ]
  },
  {
   "cell_type": "code",
   "execution_count": 8,
   "metadata": {
    "collapsed": false,
    "focus": false,
    "id": "04b0f9af-540e-402f-8292-81748707c676"
   },
   "outputs": [],
   "source": [
    "url_template = ['http://www.indeed.com/jobs?q=data+scientist&l=', '&jt=fulltime&start=']\n",
    "\n",
    "max_results_per_city = 1000\n",
    "\n",
    "# Create empty dataframe with the columns we want; concatenate to it the new one generated for each city\n",
    "df = pd.DataFrame(columns=['title', 'location', 'company', 'salary', 'city', 'state'])\n",
    "\n",
    "for city in set(['New+York,+NY', 'Los+Angeles,+CA', 'Chicago,+IL', 'Houston,+TX', 'Philadelphia,+PA', 'Phoenix,+AZ', \\\n",
    "'San+Antonio,+TX', 'San+Diego,+CA', 'Dallas,+TX', 'San+Jose,+CA', 'Austin,+TX', 'Jacksonville,+FL', 'San+Francisco,+CA',\\\n",
    "'Indianapolis,+IN', 'Columbus,+OH', 'Fort+Worth,+TX', 'Charlotte,+NC', 'Seattle,+WA', 'Denver,+CO', 'El+Paso,+TX', \\\n",
    "'Detroit,+MI', 'Washington,+DC', 'Boston,+MA', 'Memphis,+TN', 'Nashville,+TN']):\n",
    "    for start in range(0, max_results_per_city, 10):\n",
    "        # Grab the results from the request (as above)\n",
    "        URL = url_template[0] + city + url_template[1] + str(start)\n",
    "        indeed = requests.get(URL)\n",
    "        soup = BeautifulSoup(indeed.content, \"lxml\")\n",
    "        # Append to the full set of results and \n",
    "        x = putitalltogether(soup)\n",
    "        nice_city = city.split(',')\n",
    "        state = nice_city[1]\n",
    "        state = state.replace('+', '')\n",
    "        nice_city = nice_city[0]\n",
    "        nice_city = nice_city.replace('+', ' ')\n",
    "        x['city'] = nice_city\n",
    "        x['state'] = state\n",
    "        df = pd.concat([x, df], axis = 0)          "
   ]
  },
  {
   "cell_type": "markdown",
   "metadata": {},
   "source": [
    "Each city's dataframe has its own index which remains unchanged following concatenation, so let's reset the main index now:"
   ]
  },
  {
   "cell_type": "code",
   "execution_count": 9,
   "metadata": {
    "collapsed": true
   },
   "outputs": [],
   "source": [
    "df = df.reset_index(drop = True)"
   ]
  },
  {
   "cell_type": "markdown",
   "metadata": {},
   "source": [
    "Make sure the dataframe appears to be what we're expecting..."
   ]
  },
  {
   "cell_type": "code",
   "execution_count": 10,
   "metadata": {
    "collapsed": false
   },
   "outputs": [
    {
     "data": {
      "text/plain": [
       "18151"
      ]
     },
     "execution_count": 10,
     "metadata": {},
     "output_type": "execute_result"
    }
   ],
   "source": [
    "len(df)"
   ]
  },
  {
   "cell_type": "code",
   "execution_count": 11,
   "metadata": {
    "collapsed": false,
    "scrolled": true
   },
   "outputs": [
    {
     "data": {
      "text/html": [
       "<div>\n",
       "<table border=\"1\" class=\"dataframe\">\n",
       "  <thead>\n",
       "    <tr style=\"text-align: right;\">\n",
       "      <th></th>\n",
       "      <th>title</th>\n",
       "      <th>location</th>\n",
       "      <th>company</th>\n",
       "      <th>salary</th>\n",
       "      <th>city</th>\n",
       "      <th>state</th>\n",
       "    </tr>\n",
       "  </thead>\n",
       "  <tbody>\n",
       "    <tr>\n",
       "      <th>0</th>\n",
       "      <td>Principal Technology Product Manager</td>\n",
       "      <td>Detroit, MI</td>\n",
       "      <td>Amazon</td>\n",
       "      <td>NaN</td>\n",
       "      <td>Detroit</td>\n",
       "      <td>MI</td>\n",
       "    </tr>\n",
       "    <tr>\n",
       "      <th>1</th>\n",
       "      <td>Product Development Chemist</td>\n",
       "      <td>Auburn Hills, MI</td>\n",
       "      <td>Huntsman</td>\n",
       "      <td>NaN</td>\n",
       "      <td>Detroit</td>\n",
       "      <td>MI</td>\n",
       "    </tr>\n",
       "    <tr>\n",
       "      <th>2</th>\n",
       "      <td>Senior NEPA Environmental Scientist (Omaha / L...</td>\n",
       "      <td>Troy, MI</td>\n",
       "      <td>Altair Engineering</td>\n",
       "      <td>NaN</td>\n",
       "      <td>Detroit</td>\n",
       "      <td>MI</td>\n",
       "    </tr>\n",
       "    <tr>\n",
       "      <th>3</th>\n",
       "      <td>Data Scientist/Analyst</td>\n",
       "      <td>Detroit, MI</td>\n",
       "      <td>St John Hospital &amp; Medical Center</td>\n",
       "      <td>NaN</td>\n",
       "      <td>Detroit</td>\n",
       "      <td>MI</td>\n",
       "    </tr>\n",
       "    <tr>\n",
       "      <th>4</th>\n",
       "      <td>Radar Exploitation Scientist</td>\n",
       "      <td>Novi, MI 48375</td>\n",
       "      <td>Antea®Group</td>\n",
       "      <td>NaN</td>\n",
       "      <td>Detroit</td>\n",
       "      <td>MI</td>\n",
       "    </tr>\n",
       "  </tbody>\n",
       "</table>\n",
       "</div>"
      ],
      "text/plain": [
       "                                               title          location  \\\n",
       "0               Principal Technology Product Manager       Detroit, MI   \n",
       "1                        Product Development Chemist  Auburn Hills, MI   \n",
       "2  Senior NEPA Environmental Scientist (Omaha / L...          Troy, MI   \n",
       "3                             Data Scientist/Analyst       Detroit, MI   \n",
       "4                       Radar Exploitation Scientist    Novi, MI 48375   \n",
       "\n",
       "                             company salary     city state  \n",
       "0                             Amazon    NaN  Detroit    MI  \n",
       "1                           Huntsman    NaN  Detroit    MI  \n",
       "2                 Altair Engineering    NaN  Detroit    MI  \n",
       "3  St John Hospital & Medical Center    NaN  Detroit    MI  \n",
       "4                        Antea®Group    NaN  Detroit    MI  "
      ]
     },
     "execution_count": 11,
     "metadata": {},
     "output_type": "execute_result"
    }
   ],
   "source": [
    "df.head()"
   ]
  },
  {
   "cell_type": "code",
   "execution_count": 12,
   "metadata": {
    "collapsed": false
   },
   "outputs": [
    {
     "data": {
      "text/plain": [
       "title       object\n",
       "location    object\n",
       "company     object\n",
       "salary      object\n",
       "city        object\n",
       "state       object\n",
       "dtype: object"
      ]
     },
     "execution_count": 12,
     "metadata": {},
     "output_type": "execute_result"
    }
   ],
   "source": [
    "df.dtypes"
   ]
  },
  {
   "cell_type": "markdown",
   "metadata": {},
   "source": [
    "Keep a copy before we change anything, just in case!  Then we won't have to rescrape for most fixes."
   ]
  },
  {
   "cell_type": "code",
   "execution_count": 13,
   "metadata": {
    "collapsed": false
   },
   "outputs": [],
   "source": [
    "df_copy = df.copy()"
   ]
  },
  {
   "cell_type": "markdown",
   "metadata": {
    "focus": false,
    "id": "20339c09-5032-4e27-91be-286e9b46cd13"
   },
   "source": [
    "#### Use the functions you wrote above to parse out the 4 fields - location, title, company and salary. Create a dataframe from the results with those 4 columns."
   ]
  },
  {
   "cell_type": "markdown",
   "metadata": {
    "collapsed": false
   },
   "source": [
    "Already done above by putitalltogether()!"
   ]
  },
  {
   "cell_type": "markdown",
   "metadata": {
    "focus": false,
    "id": "ff98ce64-78a7-441f-a675-63464e32c834"
   },
   "source": [
    "Lastly, we need to clean up salary data. \n",
    "1. Some of the salaries are not yearly but hourly, these will be useful to us for now\n",
    "2. The salaries are given as text and usually with ranges.\n",
    "\n",
    "#### Filter out the salaries that are not yearly (filter those that refer to hour)"
   ]
  },
  {
   "cell_type": "markdown",
   "metadata": {},
   "source": [
    "What do the non-'NaN' entries look like?"
   ]
  },
  {
   "cell_type": "code",
   "execution_count": 14,
   "metadata": {
    "collapsed": false,
    "scrolled": true
   },
   "outputs": [
    {
     "name": "stdout",
     "output_type": "stream",
     "text": [
      "Of 18151 listings, 595 have non-'NaN' salary entries (3.27805630544 percent.)\n"
     ]
    }
   ],
   "source": [
    "print 'Of %s' %len(df) +' listings, %s' %len(df[df['salary'] != 'NaN']) +' have non-\\'NaN\\' salary entries \\\n",
    "(%s percent.)' %(100*float(len(df[df['salary'] != 'NaN']))/len(df))"
   ]
  },
  {
   "cell_type": "code",
   "execution_count": 15,
   "metadata": {
    "collapsed": false
   },
   "outputs": [
    {
     "name": "stdout",
     "output_type": "stream",
     "text": [
      "Of those: \n",
      "\n",
      "97 are per month; \n",
      "99 are per hour;\n",
      "1 are per day. \n",
      "\n",
      "Delete these.\n"
     ]
    }
   ],
   "source": [
    "print 'Of those: \\n\\n%s' %len(df[df['salary'].str.contains('month')]) +' are per month; \\n%s are per hour;'\\\n",
    "%len(df[df['salary'].str.contains('hour')]) +'\\n%s are per day. \\n\\nDelete these.' \\\n",
    "%len(df[df['salary'].str.contains('day')])\n"
   ]
  },
  {
   "cell_type": "code",
   "execution_count": 16,
   "metadata": {
    "collapsed": false
   },
   "outputs": [],
   "source": [
    "df = df[df['salary'].str.contains('month') == False]\n",
    "df = df[df['salary'].str.contains('hour') == False]\n",
    "df = df[df['salary'].str.contains('day') == False]"
   ]
  },
  {
   "cell_type": "code",
   "execution_count": 17,
   "metadata": {
    "collapsed": false
   },
   "outputs": [
    {
     "name": "stdout",
     "output_type": "stream",
     "text": [
      "Of 398 non-'NaN' salary entries, 398 are explicitly labeled as yearly.\n"
     ]
    }
   ],
   "source": [
    "print 'Of %s' %len(df[df['salary'] != 'NaN']) +' non-\\'NaN\\' salary entries, %s' \\\n",
    "%len(df[df['salary'].str.contains('year')]) +' are explicitly labeled as yearly.'"
   ]
  },
  {
   "cell_type": "markdown",
   "metadata": {},
   "source": [
    "The following cell notifies whether any remaining non-'NaN' salary entries are not explicitly labeled as yearly (otherwise we can assume that they are):"
   ]
  },
  {
   "cell_type": "code",
   "execution_count": 18,
   "metadata": {
    "collapsed": false
   },
   "outputs": [
    {
     "name": "stdout",
     "output_type": "stream",
     "text": [
      "All remaining non-'Nan' salary entries are explicitly labeled as yearly.\n"
     ]
    }
   ],
   "source": [
    "if (-len(df[df['salary'].str.contains('year')]) + (len(df[df['salary'] != 'NaN']))) != 0:\n",
    "    print 'The %s' %(-len(df[df['salary'].str.contains('year')]) + (len(df[df['salary'] != 'NaN']))) +' which are not \\\n",
    "explicitly labeled as yearly salaries are the following:'\n",
    "    df[(df['salary'] != 'NaN') & (df['salary'].str.contains('year') == False)]\n",
    "else:\n",
    "    print 'All remaining non-\\'Nan\\' salary entries are explicitly labeled as yearly.'"
   ]
  },
  {
   "cell_type": "code",
   "execution_count": 19,
   "metadata": {
    "collapsed": false
   },
   "outputs": [
    {
     "data": {
      "text/plain": [
       "pandas.core.series.Series"
      ]
     },
     "execution_count": 19,
     "metadata": {},
     "output_type": "execute_result"
    }
   ],
   "source": [
    "type(df[df['salary'] != 'NaN']['salary'])"
   ]
  },
  {
   "cell_type": "code",
   "execution_count": 20,
   "metadata": {
    "collapsed": false
   },
   "outputs": [],
   "source": [
    "def num_cat(x):\n",
    "    cat_list = []\n",
    "    for i in x:\n",
    "        cat_list.append(type(i))\n",
    "    return set(cat_list)"
   ]
  },
  {
   "cell_type": "code",
   "execution_count": 21,
   "metadata": {
    "collapsed": false
   },
   "outputs": [
    {
     "data": {
      "text/plain": [
       "{str, unicode}"
      ]
     },
     "execution_count": 21,
     "metadata": {},
     "output_type": "execute_result"
    }
   ],
   "source": [
    "num_cat(df['salary'])"
   ]
  },
  {
   "cell_type": "markdown",
   "metadata": {
    "focus": false,
    "id": "7d4bc860-b214-4f75-9cd0-b234830b1ec2"
   },
   "source": [
    "#### Write a function that takes a salary string and converts it to a number, averaging a salary range if necessary"
   ]
  },
  {
   "cell_type": "code",
   "execution_count": 22,
   "metadata": {
    "collapsed": true,
    "focus": false,
    "id": "a0f701e0-80bd-40ba-9101-4535860c0968"
   },
   "outputs": [],
   "source": [
    "def parse_salary(df):\n",
    "    '''This function takes a dataframe argument containing a column 'salary' and creates a new column, \\\n",
    "    'parsed_salary', with corresponding float entries (which are the average of a range, if and when provided).'''\n",
    "    parsed_salary = []\n",
    "    for i in df['salary']:\n",
    "        if i == 'NaN':\n",
    "            parsed_salary.append(i)\n",
    "        elif i != 'NaN':\n",
    "            x = str(i)\n",
    "            if '-' in x:\n",
    "                x = x.split('-')\n",
    "                x[0] = x[0].replace('$', '')\n",
    "                x[0] = x[0].replace(',', '')\n",
    "                x[0] = x[0].replace(' ', '')\n",
    "                x[1] = x[1].replace('$', '')\n",
    "                x[1] = x[1].replace(',', '')\n",
    "                x2 = x[1].split(' ')\n",
    "                x[1] = x2[1]\n",
    "                new_x = (float(x[0]) + float(x[1]))/2\n",
    "                parsed_salary.append(new_x)   \n",
    "            elif '$' in x:\n",
    "                z = x.split(' ')\n",
    "                z = z[0]\n",
    "                z = z.replace('$', '')\n",
    "                z = z.replace(',', '')\n",
    "                parsed_salary.append(float(z))\n",
    "            else:\n",
    "                parsed_salary.append('delete_me')\n",
    "    df['parsed_salary'] = parsed_salary\n",
    "    df = df[df['parsed_salary'].str.contains('delete_me') == False]\n",
    "    return "
   ]
  },
  {
   "cell_type": "markdown",
   "metadata": {},
   "source": [
    "Examine modified dataframe to ensure 'city', 'state', and 'parsed_salary' columns appear:"
   ]
  },
  {
   "cell_type": "code",
   "execution_count": 23,
   "metadata": {
    "collapsed": false
   },
   "outputs": [
    {
     "data": {
      "text/html": [
       "<div>\n",
       "<table border=\"1\" class=\"dataframe\">\n",
       "  <thead>\n",
       "    <tr style=\"text-align: right;\">\n",
       "      <th></th>\n",
       "      <th>title</th>\n",
       "      <th>location</th>\n",
       "      <th>company</th>\n",
       "      <th>salary</th>\n",
       "      <th>city</th>\n",
       "      <th>state</th>\n",
       "      <th>parsed_salary</th>\n",
       "    </tr>\n",
       "  </thead>\n",
       "  <tbody>\n",
       "    <tr>\n",
       "      <th>0</th>\n",
       "      <td>Principal Technology Product Manager</td>\n",
       "      <td>Detroit, MI</td>\n",
       "      <td>Amazon</td>\n",
       "      <td>NaN</td>\n",
       "      <td>Detroit</td>\n",
       "      <td>MI</td>\n",
       "      <td>NaN</td>\n",
       "    </tr>\n",
       "    <tr>\n",
       "      <th>1</th>\n",
       "      <td>Product Development Chemist</td>\n",
       "      <td>Auburn Hills, MI</td>\n",
       "      <td>Huntsman</td>\n",
       "      <td>NaN</td>\n",
       "      <td>Detroit</td>\n",
       "      <td>MI</td>\n",
       "      <td>NaN</td>\n",
       "    </tr>\n",
       "    <tr>\n",
       "      <th>2</th>\n",
       "      <td>Senior NEPA Environmental Scientist (Omaha / L...</td>\n",
       "      <td>Troy, MI</td>\n",
       "      <td>Altair Engineering</td>\n",
       "      <td>NaN</td>\n",
       "      <td>Detroit</td>\n",
       "      <td>MI</td>\n",
       "      <td>NaN</td>\n",
       "    </tr>\n",
       "    <tr>\n",
       "      <th>3</th>\n",
       "      <td>Data Scientist/Analyst</td>\n",
       "      <td>Detroit, MI</td>\n",
       "      <td>St John Hospital &amp; Medical Center</td>\n",
       "      <td>NaN</td>\n",
       "      <td>Detroit</td>\n",
       "      <td>MI</td>\n",
       "      <td>NaN</td>\n",
       "    </tr>\n",
       "    <tr>\n",
       "      <th>4</th>\n",
       "      <td>Radar Exploitation Scientist</td>\n",
       "      <td>Novi, MI 48375</td>\n",
       "      <td>Antea®Group</td>\n",
       "      <td>NaN</td>\n",
       "      <td>Detroit</td>\n",
       "      <td>MI</td>\n",
       "      <td>NaN</td>\n",
       "    </tr>\n",
       "  </tbody>\n",
       "</table>\n",
       "</div>"
      ],
      "text/plain": [
       "                                               title          location  \\\n",
       "0               Principal Technology Product Manager       Detroit, MI   \n",
       "1                        Product Development Chemist  Auburn Hills, MI   \n",
       "2  Senior NEPA Environmental Scientist (Omaha / L...          Troy, MI   \n",
       "3                             Data Scientist/Analyst       Detroit, MI   \n",
       "4                       Radar Exploitation Scientist    Novi, MI 48375   \n",
       "\n",
       "                             company salary     city state parsed_salary  \n",
       "0                             Amazon    NaN  Detroit    MI           NaN  \n",
       "1                           Huntsman    NaN  Detroit    MI           NaN  \n",
       "2                 Altair Engineering    NaN  Detroit    MI           NaN  \n",
       "3  St John Hospital & Medical Center    NaN  Detroit    MI           NaN  \n",
       "4                        Antea®Group    NaN  Detroit    MI           NaN  "
      ]
     },
     "execution_count": 23,
     "metadata": {},
     "output_type": "execute_result"
    }
   ],
   "source": [
    "parse_salary(df)\n",
    "df.head()"
   ]
  },
  {
   "cell_type": "markdown",
   "metadata": {},
   "source": [
    "See what non-'NaN' 'parsed_salary' entries look like:"
   ]
  },
  {
   "cell_type": "code",
   "execution_count": 24,
   "metadata": {
    "collapsed": false
   },
   "outputs": [
    {
     "data": {
      "text/html": [
       "<div>\n",
       "<table border=\"1\" class=\"dataframe\">\n",
       "  <thead>\n",
       "    <tr style=\"text-align: right;\">\n",
       "      <th></th>\n",
       "      <th>title</th>\n",
       "      <th>location</th>\n",
       "      <th>company</th>\n",
       "      <th>salary</th>\n",
       "      <th>city</th>\n",
       "      <th>state</th>\n",
       "      <th>parsed_salary</th>\n",
       "    </tr>\n",
       "  </thead>\n",
       "  <tbody>\n",
       "    <tr>\n",
       "      <th>571</th>\n",
       "      <td>Data Scientist – Predictive Analytics</td>\n",
       "      <td>Cambridge, MA</td>\n",
       "      <td>U.S. Federal Government</td>\n",
       "      <td>$92,448 - $142,021 a year</td>\n",
       "      <td>Boston</td>\n",
       "      <td>MA</td>\n",
       "      <td>117234</td>\n",
       "    </tr>\n",
       "    <tr>\n",
       "      <th>615</th>\n",
       "      <td>Data Scientist – Predictive Analytics</td>\n",
       "      <td>Burlington, MA</td>\n",
       "      <td>Workbridge Associates</td>\n",
       "      <td>$100,000 - $145,000 a year</td>\n",
       "      <td>Boston</td>\n",
       "      <td>MA</td>\n",
       "      <td>122500</td>\n",
       "    </tr>\n",
       "    <tr>\n",
       "      <th>631</th>\n",
       "      <td>Quantitative Data Analyst</td>\n",
       "      <td>Natick, MA</td>\n",
       "      <td>Execu | Search</td>\n",
       "      <td>$140,000 - $160,000 a year</td>\n",
       "      <td>Boston</td>\n",
       "      <td>MA</td>\n",
       "      <td>150000</td>\n",
       "    </tr>\n",
       "    <tr>\n",
       "      <th>645</th>\n",
       "      <td>Engineer III/Sr Assoc Scientist, Protein Formu...</td>\n",
       "      <td>Waltham, MA</td>\n",
       "      <td>Strategic Employment Partners</td>\n",
       "      <td>$50,000 - $65,000 a year</td>\n",
       "      <td>Boston</td>\n",
       "      <td>MA</td>\n",
       "      <td>57500</td>\n",
       "    </tr>\n",
       "    <tr>\n",
       "      <th>651</th>\n",
       "      <td>Data Scientist – Predictive Analytics</td>\n",
       "      <td>Cambridge, MA</td>\n",
       "      <td>Penfield Search Partners</td>\n",
       "      <td>$150,000 a year</td>\n",
       "      <td>Boston</td>\n",
       "      <td>MA</td>\n",
       "      <td>150000</td>\n",
       "    </tr>\n",
       "  </tbody>\n",
       "</table>\n",
       "</div>"
      ],
      "text/plain": [
       "                                                 title        location  \\\n",
       "571              Data Scientist – Predictive Analytics   Cambridge, MA   \n",
       "615              Data Scientist – Predictive Analytics  Burlington, MA   \n",
       "631                          Quantitative Data Analyst      Natick, MA   \n",
       "645  Engineer III/Sr Assoc Scientist, Protein Formu...     Waltham, MA   \n",
       "651              Data Scientist – Predictive Analytics   Cambridge, MA   \n",
       "\n",
       "                           company                      salary    city state  \\\n",
       "571        U.S. Federal Government   $92,448 - $142,021 a year  Boston    MA   \n",
       "615          Workbridge Associates  $100,000 - $145,000 a year  Boston    MA   \n",
       "631                 Execu | Search  $140,000 - $160,000 a year  Boston    MA   \n",
       "645  Strategic Employment Partners    $50,000 - $65,000 a year  Boston    MA   \n",
       "651       Penfield Search Partners             $150,000 a year  Boston    MA   \n",
       "\n",
       "    parsed_salary  \n",
       "571        117234  \n",
       "615        122500  \n",
       "631        150000  \n",
       "645         57500  \n",
       "651        150000  "
      ]
     },
     "execution_count": 24,
     "metadata": {},
     "output_type": "execute_result"
    }
   ],
   "source": [
    "df[df['parsed_salary'] != 'NaN'].head()"
   ]
  },
  {
   "cell_type": "markdown",
   "metadata": {
    "collapsed": false,
    "focus": false,
    "id": "43e71edd-210e-42b1-9336-70a931f048af"
   },
   "source": [
    "### Save your results as a CSV"
   ]
  },
  {
   "cell_type": "code",
   "execution_count": 26,
   "metadata": {
    "collapsed": true,
    "focus": false,
    "id": "783fd153-28ac-47ab-bfca-27e7c1de95b4"
   },
   "outputs": [],
   "source": [
    "df.to_csv('IndeedSalaryData.csv', encoding='utf-8')"
   ]
  },
  {
   "cell_type": "markdown",
   "metadata": {
    "focus": false,
    "id": "04563b69-f7b6-466f-9d65-fc62c9ddee6a"
   },
   "source": [
    "## Predicting salaries using Logistic Regression"
   ]
  },
  {
   "cell_type": "markdown",
   "metadata": {
    "focus": false,
    "id": "243e949e-2742-40af-872e-fec475fd306c"
   },
   "source": [
    "#### Load in the data of scraped salaries"
   ]
  },
  {
   "cell_type": "code",
   "execution_count": 74,
   "metadata": {
    "collapsed": false
   },
   "outputs": [],
   "source": [
    "import pandas as pd\n",
    "from matplotlib import pyplot as plt\n",
    "import matplotlib.cm as cm\n",
    "import plotly as py\n",
    "from collections import Counter\n",
    "import re\n",
    "% matplotlib inline\n",
    "\n",
    "# Make the plots bigger\n",
    "plt.rcParams['figure.figsize'] = 10, 10\n",
    "import seaborn as sns\n",
    "\n",
    "import numpy as np\n",
    "import statsmodels.api as st\n",
    "import sklearn\n",
    "from sklearn import linear_model as lm\n",
    "from sklearn import datasets, cross_validation, pipeline, preprocessing, metrics\n",
    "from sklearn.linear_model import LinearRegression\n",
    "from sklearn.linear_model import Ridge\n",
    "from sklearn.linear_model import Lasso\n",
    "from sklearn.cross_validation import train_test_split\n",
    "from sklearn.cross_validation import cross_val_predict\n",
    "from sklearn.cross_validation import cross_val_score\n",
    "from sklearn.pipeline import Pipeline\n",
    "from sklearn.preprocessing import PolynomialFeatures\n",
    "from sklearn.metrics import mean_squared_error\n",
    "from sklearn.metrics import r2_score\n",
    "from sklearn.metrics import confusion_matrix"
   ]
  },
  {
   "cell_type": "code",
   "execution_count": 2,
   "metadata": {
    "collapsed": false,
    "focus": false,
    "id": "588f9845-6143-4bcc-bfd1-85d45b79303d"
   },
   "outputs": [
    {
     "data": {
      "text/html": [
       "<div>\n",
       "<table border=\"1\" class=\"dataframe\">\n",
       "  <thead>\n",
       "    <tr style=\"text-align: right;\">\n",
       "      <th></th>\n",
       "      <th>title</th>\n",
       "      <th>location</th>\n",
       "      <th>company</th>\n",
       "      <th>city</th>\n",
       "      <th>state</th>\n",
       "      <th>parsed_salary</th>\n",
       "    </tr>\n",
       "  </thead>\n",
       "  <tbody>\n",
       "    <tr>\n",
       "      <th>0</th>\n",
       "      <td>Principal Technology Product Manager</td>\n",
       "      <td>Detroit, MI</td>\n",
       "      <td>Amazon</td>\n",
       "      <td>Detroit</td>\n",
       "      <td>MI</td>\n",
       "      <td>NaN</td>\n",
       "    </tr>\n",
       "    <tr>\n",
       "      <th>1</th>\n",
       "      <td>Product Development Chemist</td>\n",
       "      <td>Auburn Hills, MI</td>\n",
       "      <td>Huntsman</td>\n",
       "      <td>Detroit</td>\n",
       "      <td>MI</td>\n",
       "      <td>NaN</td>\n",
       "    </tr>\n",
       "    <tr>\n",
       "      <th>2</th>\n",
       "      <td>Senior NEPA Environmental Scientist (Omaha / L...</td>\n",
       "      <td>Troy, MI</td>\n",
       "      <td>Altair Engineering</td>\n",
       "      <td>Detroit</td>\n",
       "      <td>MI</td>\n",
       "      <td>NaN</td>\n",
       "    </tr>\n",
       "    <tr>\n",
       "      <th>3</th>\n",
       "      <td>Data Scientist/Analyst</td>\n",
       "      <td>Detroit, MI</td>\n",
       "      <td>St John Hospital &amp; Medical Center</td>\n",
       "      <td>Detroit</td>\n",
       "      <td>MI</td>\n",
       "      <td>NaN</td>\n",
       "    </tr>\n",
       "    <tr>\n",
       "      <th>4</th>\n",
       "      <td>Radar Exploitation Scientist</td>\n",
       "      <td>Novi, MI 48375</td>\n",
       "      <td>Antea®Group</td>\n",
       "      <td>Detroit</td>\n",
       "      <td>MI</td>\n",
       "      <td>NaN</td>\n",
       "    </tr>\n",
       "  </tbody>\n",
       "</table>\n",
       "</div>"
      ],
      "text/plain": [
       "                                               title          location  \\\n",
       "0               Principal Technology Product Manager       Detroit, MI   \n",
       "1                        Product Development Chemist  Auburn Hills, MI   \n",
       "2  Senior NEPA Environmental Scientist (Omaha / L...          Troy, MI   \n",
       "3                             Data Scientist/Analyst       Detroit, MI   \n",
       "4                       Radar Exploitation Scientist    Novi, MI 48375   \n",
       "\n",
       "                             company     city state  parsed_salary  \n",
       "0                             Amazon  Detroit    MI            NaN  \n",
       "1                           Huntsman  Detroit    MI            NaN  \n",
       "2                 Altair Engineering  Detroit    MI            NaN  \n",
       "3  St John Hospital & Medical Center  Detroit    MI            NaN  \n",
       "4                        Antea®Group  Detroit    MI            NaN  "
      ]
     },
     "execution_count": 2,
     "metadata": {},
     "output_type": "execute_result"
    }
   ],
   "source": [
    "df_new = pd.read_csv('/Users/Rebecca/DSI-projects/projects/project-04/starter-code/IndeedSalaryData.csv')\n",
    "df_new = df_new[['title', 'location', 'company', 'city', 'state', 'parsed_salary']]\n",
    "df_new.head()"
   ]
  },
  {
   "cell_type": "markdown",
   "metadata": {},
   "source": [
    "Create a new dataframe which contains only observations whose 'parsed_salary' entries are numerical:"
   ]
  },
  {
   "cell_type": "code",
   "execution_count": 3,
   "metadata": {
    "collapsed": true
   },
   "outputs": [],
   "source": [
    "sal_df = df_new[df_new['parsed_salary'] >= 0]"
   ]
  },
  {
   "cell_type": "code",
   "execution_count": 4,
   "metadata": {
    "collapsed": false
   },
   "outputs": [
    {
     "name": "stdout",
     "output_type": "stream",
     "text": [
      "The minimum listed salary is 35000.0\n"
     ]
    },
    {
     "data": {
      "text/html": [
       "<div>\n",
       "<table border=\"1\" class=\"dataframe\">\n",
       "  <thead>\n",
       "    <tr style=\"text-align: right;\">\n",
       "      <th></th>\n",
       "      <th>title</th>\n",
       "      <th>location</th>\n",
       "      <th>company</th>\n",
       "      <th>city</th>\n",
       "      <th>state</th>\n",
       "      <th>parsed_salary</th>\n",
       "    </tr>\n",
       "  </thead>\n",
       "  <tbody>\n",
       "    <tr>\n",
       "      <th>6318</th>\n",
       "      <td>Data Scientist</td>\n",
       "      <td>Austin, TX 78746</td>\n",
       "      <td>Myriad Development</td>\n",
       "      <td>Austin</td>\n",
       "      <td>TX</td>\n",
       "      <td>35000.0</td>\n",
       "    </tr>\n",
       "  </tbody>\n",
       "</table>\n",
       "</div>"
      ],
      "text/plain": [
       "               title          location             company    city state  \\\n",
       "6318  Data Scientist  Austin, TX 78746  Myriad Development  Austin    TX   \n",
       "\n",
       "      parsed_salary  \n",
       "6318        35000.0  "
      ]
     },
     "execution_count": 4,
     "metadata": {},
     "output_type": "execute_result"
    }
   ],
   "source": [
    "print 'The minimum listed salary is %s' %min(sal_df['parsed_salary'])\n",
    "sal_df[sal_df['parsed_salary'] == min(sal_df['parsed_salary'])]"
   ]
  },
  {
   "cell_type": "code",
   "execution_count": 5,
   "metadata": {
    "collapsed": false
   },
   "outputs": [
    {
     "name": "stdout",
     "output_type": "stream",
     "text": [
      "The maximum listed salary is 250000.0\n"
     ]
    },
    {
     "data": {
      "text/html": [
       "<div>\n",
       "<table border=\"1\" class=\"dataframe\">\n",
       "  <thead>\n",
       "    <tr style=\"text-align: right;\">\n",
       "      <th></th>\n",
       "      <th>title</th>\n",
       "      <th>location</th>\n",
       "      <th>company</th>\n",
       "      <th>city</th>\n",
       "      <th>state</th>\n",
       "      <th>parsed_salary</th>\n",
       "    </tr>\n",
       "  </thead>\n",
       "  <tbody>\n",
       "    <tr>\n",
       "      <th>8361</th>\n",
       "      <td>Software Development Engineer – New AWS Machin...</td>\n",
       "      <td>Philadelphia, PA</td>\n",
       "      <td>Averity</td>\n",
       "      <td>Philadelphia</td>\n",
       "      <td>PA</td>\n",
       "      <td>250000.0</td>\n",
       "    </tr>\n",
       "  </tbody>\n",
       "</table>\n",
       "</div>"
      ],
      "text/plain": [
       "                                                  title          location  \\\n",
       "8361  Software Development Engineer – New AWS Machin...  Philadelphia, PA   \n",
       "\n",
       "      company          city state  parsed_salary  \n",
       "8361  Averity  Philadelphia    PA       250000.0  "
      ]
     },
     "execution_count": 5,
     "metadata": {},
     "output_type": "execute_result"
    }
   ],
   "source": [
    "print 'The maximum listed salary is %s' %max(sal_df['parsed_salary'])\n",
    "sal_df[sal_df['parsed_salary'] == max(sal_df['parsed_salary'])]"
   ]
  },
  {
   "cell_type": "code",
   "execution_count": 6,
   "metadata": {
    "collapsed": false
   },
   "outputs": [
    {
     "data": {
      "image/png": "[encoded data removed]",
      "text/plain": [
       "<matplotlib.figure.Figure at 0x104c742d0>"
      ]
     },
     "metadata": {},
     "output_type": "display_data"
    }
   ],
   "source": [
    "plt.figure(figsize=(12,8))\n",
    "plt.style.use('fivethirtyeight')\n",
    "\n",
    "df_hist = plt.hist(sal_df['parsed_salary'], color = 'darkred', bins = 25)\n",
    "plt.axvline(sal_df['parsed_salary'].median(), color='b', linestyle='dashed', linewidth=1.5, label = 'median')\n",
    "plt.axvline(sal_df['parsed_salary'].mean(), color='g', linestyle='dashed', linewidth=1.5, label = 'mean')\n",
    "\n",
    "plt.title('Histogram of Data Scientist Salary, 25 Most-Populous U.S. Cities', fontsize = 24)\n",
    "\n",
    "# y label\n",
    "plt.ylabel('Number of Jobs (max 500/city)')\n",
    "\n",
    "# x label\n",
    "plt.xlabel('Salary (USD/year)')\n",
    "\n",
    "plt.xlim([0, max(sal_df['parsed_salary'])])\n",
    "plt.ylim([-10, 225])\n",
    "\n",
    "plt.legend(loc='upper right', fontsize = 15)\n",
    "\n",
    "plt.show()"
   ]
  },
  {
   "cell_type": "markdown",
   "metadata": {
    "focus": false,
    "id": "c7631f51-07f2-4c79-a093-3e9bc7849a48"
   },
   "source": [
    "#### We want to predict a binary variable - whether the salary was low or high. Compute the median salary and create a new binary variable that is true when the salary is high (above the median)"
   ]
  },
  {
   "cell_type": "code",
   "execution_count": 7,
   "metadata": {
    "collapsed": false,
    "focus": false,
    "id": "c20d2498-151c-44c3-a453-3a333c79a0ac"
   },
   "outputs": [
    {
     "name": "stdout",
     "output_type": "stream",
     "text": [
      "The median salary is 77500.0.\n"
     ]
    }
   ],
   "source": [
    "median = float(sal_df['parsed_salary'].describe().loc['50%'])\n",
    "print 'The median salary is %s.' %median"
   ]
  },
  {
   "cell_type": "code",
   "execution_count": 8,
   "metadata": {
    "collapsed": true
   },
   "outputs": [],
   "source": [
    "def sal_dummify(x):\n",
    "    sal_dummy = []\n",
    "    for i in sal_df['parsed_salary']:\n",
    "        if i > median:\n",
    "            sal_dummy.append(1)\n",
    "        elif i <= median:\n",
    "            sal_dummy.append(0)\n",
    "        # This shouldn't happen\n",
    "        else:\n",
    "            sal_dummy.append('NaN')\n",
    "    x['sal_dummy'] = sal_dummy\n",
    "    return x"
   ]
  },
  {
   "cell_type": "code",
   "execution_count": 9,
   "metadata": {
    "collapsed": false
   },
   "outputs": [
    {
     "name": "stderr",
     "output_type": "stream",
     "text": [
      "/anaconda/lib/python2.7/site-packages/ipykernel/__main__.py:11: SettingWithCopyWarning:\n",
      "\n",
      "\n",
      "A value is trying to be set on a copy of a slice from a DataFrame.\n",
      "Try using .loc[row_indexer,col_indexer] = value instead\n",
      "\n",
      "See the caveats in the documentation: http://pandas.pydata.org/pandas-docs/stable/indexing.html#indexing-view-versus-copy\n",
      "\n"
     ]
    },
    {
     "data": {
      "text/plain": [
       "0    215\n",
       "1    183\n",
       "Name: sal_dummy, dtype: int64"
      ]
     },
     "execution_count": 9,
     "metadata": {},
     "output_type": "execute_result"
    }
   ],
   "source": [
    "sal_dummify(sal_df)\n",
    "sal_df['sal_dummy'].value_counts()"
   ]
  },
  {
   "cell_type": "code",
   "execution_count": 10,
   "metadata": {
    "collapsed": false
   },
   "outputs": [
    {
     "data": {
      "text/plain": [
       "<matplotlib.figure.Figure at 0x119fab550>"
      ]
     },
     "metadata": {},
     "output_type": "display_data"
    },
    {
     "data": {
      "image/png": "[encoded data removed]",
      "text/plain": [
       "<matplotlib.figure.Figure at 0x11adfb3d0>"
      ]
     },
     "metadata": {},
     "output_type": "display_data"
    }
   ],
   "source": [
    "plt.figure(figsize=(12,8))\n",
    "plt.style.use('fivethirtyeight')\n",
    "\n",
    "new = sal_df.groupby(['state','sal_dummy']).sum().unstack()\n",
    "\n",
    "new.plot.bar()\n",
    "\n",
    "plt.title('Histogram of Data Scientist Salary, 25 Most-Populous U.S. Cities', fontsize = 24)\n",
    "\n",
    "# y label\n",
    "plt.ylabel('Number of Jobs')\n",
    "\n",
    "# x label\n",
    "plt.xlabel('State')\n",
    "\n",
    "plt.legend(loc='upper right', fontsize = 15)\n",
    "\n",
    "plt.show()"
   ]
  },
  {
   "cell_type": "markdown",
   "metadata": {
    "focus": false,
    "id": "4fb29de2-5b98-474c-a4ad-5170b72b9aea"
   },
   "source": [
    "#### Create a Logistic Regression model to predict High/Low salary using statsmodel. Start by ONLY using the location as a feature. Display the coefficients and write a short summary of what they mean."
   ]
  },
  {
   "cell_type": "markdown",
   "metadata": {},
   "source": [
    "First, do a logistic regression with dummy variables according to cities:"
   ]
  },
  {
   "cell_type": "code",
   "execution_count": 11,
   "metadata": {
    "collapsed": false
   },
   "outputs": [
    {
     "name": "stdout",
     "output_type": "stream",
     "text": [
      "There are 21 distinct cities represented in the dataframe.\n"
     ]
    },
    {
     "data": {
      "text/plain": [
       "Jacksonville     98\n",
       "Memphis          97\n",
       "Houston          88\n",
       "Washington       25\n",
       "New York         19\n",
       "Boston           18\n",
       "Chicago          10\n",
       "San Francisco     9\n",
       "San Jose          6\n",
       "Dallas            4\n",
       "Denver            4\n",
       "Philadelphia      4\n",
       "Los Angeles       3\n",
       "San Antonio       3\n",
       "San Diego         2\n",
       "Seattle           2\n",
       "Austin            2\n",
       "Phoenix           1\n",
       "Columbus          1\n",
       "Nashville         1\n",
       "Indianapolis      1\n",
       "Name: city, dtype: int64"
      ]
     },
     "execution_count": 11,
     "metadata": {},
     "output_type": "execute_result"
    }
   ],
   "source": [
    "print 'There are %s distinct cities represented in the dataframe.' %len(sal_df['city'].unique())\n",
    "sal_df['city'].value_counts()"
   ]
  },
  {
   "cell_type": "code",
   "execution_count": 12,
   "metadata": {
    "collapsed": false,
    "focus": false,
    "id": "ddbc6159-6854-4ca7-857f-bfecdaf6d9c2"
   },
   "outputs": [],
   "source": [
    "X_city = pd.DataFrame(sal_df['city'])\n",
    "X_city['intercept'] = 1\n",
    "X_city = pd.concat([X_city.drop('city',axis=1), pd.get_dummies(X_city['city'])], axis = 1)\n",
    "y = sal_df['sal_dummy']"
   ]
  },
  {
   "cell_type": "code",
   "execution_count": 13,
   "metadata": {
    "collapsed": false
   },
   "outputs": [
    {
     "data": {
      "text/html": [
       "<div>\n",
       "<table border=\"1\" class=\"dataframe\">\n",
       "  <thead>\n",
       "    <tr style=\"text-align: right;\">\n",
       "      <th></th>\n",
       "      <th>intercept</th>\n",
       "      <th>Austin</th>\n",
       "      <th>Boston</th>\n",
       "      <th>Chicago</th>\n",
       "      <th>Columbus</th>\n",
       "      <th>Dallas</th>\n",
       "      <th>Denver</th>\n",
       "      <th>Houston</th>\n",
       "      <th>Indianapolis</th>\n",
       "      <th>Jacksonville</th>\n",
       "      <th>...</th>\n",
       "      <th>Nashville</th>\n",
       "      <th>New York</th>\n",
       "      <th>Philadelphia</th>\n",
       "      <th>Phoenix</th>\n",
       "      <th>San Antonio</th>\n",
       "      <th>San Diego</th>\n",
       "      <th>San Francisco</th>\n",
       "      <th>San Jose</th>\n",
       "      <th>Seattle</th>\n",
       "      <th>Washington</th>\n",
       "    </tr>\n",
       "  </thead>\n",
       "  <tbody>\n",
       "    <tr>\n",
       "      <th>571</th>\n",
       "      <td>1</td>\n",
       "      <td>0.0</td>\n",
       "      <td>1.0</td>\n",
       "      <td>0.0</td>\n",
       "      <td>0.0</td>\n",
       "      <td>0.0</td>\n",
       "      <td>0.0</td>\n",
       "      <td>0.0</td>\n",
       "      <td>0.0</td>\n",
       "      <td>0.0</td>\n",
       "      <td>...</td>\n",
       "      <td>0.0</td>\n",
       "      <td>0.0</td>\n",
       "      <td>0.0</td>\n",
       "      <td>0.0</td>\n",
       "      <td>0.0</td>\n",
       "      <td>0.0</td>\n",
       "      <td>0.0</td>\n",
       "      <td>0.0</td>\n",
       "      <td>0.0</td>\n",
       "      <td>0.0</td>\n",
       "    </tr>\n",
       "  </tbody>\n",
       "</table>\n",
       "<p>1 rows × 22 columns</p>\n",
       "</div>"
      ],
      "text/plain": [
       "     intercept  Austin  Boston  Chicago  Columbus  Dallas  Denver  Houston  \\\n",
       "571          1     0.0     1.0      0.0       0.0     0.0     0.0      0.0   \n",
       "\n",
       "     Indianapolis  Jacksonville     ...      Nashville  New York  \\\n",
       "571           0.0           0.0     ...            0.0       0.0   \n",
       "\n",
       "     Philadelphia  Phoenix  San Antonio  San Diego  San Francisco  San Jose  \\\n",
       "571           0.0      0.0          0.0        0.0            0.0       0.0   \n",
       "\n",
       "     Seattle  Washington  \n",
       "571      0.0         0.0  \n",
       "\n",
       "[1 rows x 22 columns]"
      ]
     },
     "execution_count": 13,
     "metadata": {},
     "output_type": "execute_result"
    }
   ],
   "source": [
    "X_city.head(1)"
   ]
  },
  {
   "cell_type": "markdown",
   "metadata": {},
   "source": [
    "Drop one of the dummy variables (just pick first one on the left):"
   ]
  },
  {
   "cell_type": "code",
   "execution_count": 14,
   "metadata": {
    "collapsed": true
   },
   "outputs": [],
   "source": [
    "X_city.drop('Austin', axis=1, inplace=True)"
   ]
  },
  {
   "cell_type": "code",
   "execution_count": 15,
   "metadata": {
    "collapsed": true
   },
   "outputs": [],
   "source": [
    "model_city = st.MNLogit(y, X_city)"
   ]
  },
  {
   "cell_type": "code",
   "execution_count": 16,
   "metadata": {
    "collapsed": false
   },
   "outputs": [
    {
     "name": "stdout",
     "output_type": "stream",
     "text": [
      "Warning: Maximum number of iterations has been exceeded.\n",
      "         Current function value: 0.147749\n",
      "         Iterations: 35\n",
      "         Function evaluations: 37\n",
      "         Gradient evaluations: 37\n"
     ]
    },
    {
     "name": "stderr",
     "output_type": "stream",
     "text": [
      "//anaconda/lib/python2.7/site-packages/statsmodels/base/model.py:466: ConvergenceWarning:\n",
      "\n",
      "Maximum Likelihood optimization failed to converge. Check mle_retvals\n",
      "\n"
     ]
    }
   ],
   "source": [
    "model_city_fit = model_city.fit(method = 'bfgs')"
   ]
  },
  {
   "cell_type": "code",
   "execution_count": 17,
   "metadata": {
    "collapsed": false
   },
   "outputs": [
    {
     "data": {
      "text/html": [
       "<table class=\"simpletable\">\n",
       "<caption>MNLogit Regression Results</caption>\n",
       "<tr>\n",
       "  <th>Dep. Variable:</th>     <td>sal_dummy</td>    <th>  No. Observations:  </th>  <td>   398</td>  \n",
       "</tr>\n",
       "<tr>\n",
       "  <th>Model:</th>              <td>MNLogit</td>     <th>  Df Residuals:      </th>  <td>   377</td>  \n",
       "</tr>\n",
       "<tr>\n",
       "  <th>Method:</th>               <td>MLE</td>       <th>  Df Model:          </th>  <td>    20</td>  \n",
       "</tr>\n",
       "<tr>\n",
       "  <th>Date:</th>          <td>Thu, 07 Jul 2016</td> <th>  Pseudo R-squ.:     </th>  <td>0.7858</td>  \n",
       "</tr>\n",
       "<tr>\n",
       "  <th>Time:</th>              <td>06:32:32</td>     <th>  Log-Likelihood:    </th> <td> -58.804</td> \n",
       "</tr>\n",
       "<tr>\n",
       "  <th>converged:</th>           <td>False</td>      <th>  LL-Null:           </th> <td> -274.58</td> \n",
       "</tr>\n",
       "<tr>\n",
       "  <th> </th>                      <td> </td>        <th>  LLR p-value:       </th> <td>5.655e-79</td>\n",
       "</tr>\n",
       "</table>\n",
       "<table class=\"simpletable\">\n",
       "<tr>\n",
       "   <th>sal_dummy=1</th>     <th>coef</th>     <th>std err</th>      <th>z</th>      <th>P>|z|</th> <th>[95.0% Conf. Int.]</th> \n",
       "</tr>\n",
       "<tr>\n",
       "  <th>intercept</th>     <td>    0.5190</td> <td>    1.462</td> <td>    0.355</td> <td> 0.723</td> <td>   -2.347     3.385</td>\n",
       "</tr>\n",
       "<tr>\n",
       "  <th>Boston</th>        <td>    1.8201</td> <td>    1.682</td> <td>    1.082</td> <td> 0.279</td> <td>   -1.477     5.117</td>\n",
       "</tr>\n",
       "<tr>\n",
       "  <th>Chicago</th>       <td>    1.1423</td> <td>    1.698</td> <td>    0.673</td> <td> 0.501</td> <td>   -2.186     4.470</td>\n",
       "</tr>\n",
       "<tr>\n",
       "  <th>Columbus</th>      <td>   -1.1944</td> <td>    2.571</td> <td>   -0.465</td> <td> 0.642</td> <td>   -6.234     3.845</td>\n",
       "</tr>\n",
       "<tr>\n",
       "  <th>Dallas</th>        <td>   -0.6612</td> <td>    1.773</td> <td>   -0.373</td> <td> 0.709</td> <td>   -4.136     2.813</td>\n",
       "</tr>\n",
       "<tr>\n",
       "  <th>Denver</th>        <td>   -2.0133</td> <td>    1.951</td> <td>   -1.032</td> <td> 0.302</td> <td>   -5.838     1.811</td>\n",
       "</tr>\n",
       "<tr>\n",
       "  <th>Houston</th>       <td>   -5.1862</td> <td>    1.836</td> <td>   -2.825</td> <td> 0.005</td> <td>   -8.784    -1.588</td>\n",
       "</tr>\n",
       "<tr>\n",
       "  <th>Indianapolis</th>  <td>    0.8114</td> <td>    2.861</td> <td>    0.284</td> <td> 0.777</td> <td>   -4.796     6.418</td>\n",
       "</tr>\n",
       "<tr>\n",
       "  <th>Jacksonville</th>  <td>    7.6482</td> <td>    6.173</td> <td>    1.239</td> <td> 0.215</td> <td>   -4.451    19.748</td>\n",
       "</tr>\n",
       "<tr>\n",
       "  <th>Los Angeles</th>   <td>    1.9531</td> <td>    2.604</td> <td>    0.750</td> <td> 0.453</td> <td>   -3.151     7.057</td>\n",
       "</tr>\n",
       "<tr>\n",
       "  <th>Memphis</th>       <td>   -7.3532</td> <td>    3.426</td> <td>   -2.146</td> <td> 0.032</td> <td>  -14.068    -0.639</td>\n",
       "</tr>\n",
       "<tr>\n",
       "  <th>Nashville</th>     <td>    0.8114</td> <td>    2.861</td> <td>    0.284</td> <td> 0.777</td> <td>   -4.796     6.418</td>\n",
       "</tr>\n",
       "<tr>\n",
       "  <th>New York</th>      <td>   -0.3420</td> <td>    1.533</td> <td>   -0.223</td> <td> 0.823</td> <td>   -3.346     2.663</td>\n",
       "</tr>\n",
       "<tr>\n",
       "  <th>Philadelphia</th>  <td>    2.3675</td> <td>    2.671</td> <td>    0.886</td> <td> 0.375</td> <td>   -2.868     7.602</td>\n",
       "</tr>\n",
       "<tr>\n",
       "  <th>Phoenix</th>       <td>   -1.1944</td> <td>    2.571</td> <td>   -0.465</td> <td> 0.642</td> <td>   -6.234     3.845</td>\n",
       "</tr>\n",
       "<tr>\n",
       "  <th>San Antonio</th>   <td>   -1.2986</td> <td>    1.919</td> <td>   -0.677</td> <td> 0.499</td> <td>   -5.061     2.463</td>\n",
       "</tr>\n",
       "<tr>\n",
       "  <th>San Diego</th>     <td>   -0.3729</td> <td>    2.037</td> <td>   -0.183</td> <td> 0.855</td> <td>   -4.365     3.619</td>\n",
       "</tr>\n",
       "<tr>\n",
       "  <th>San Francisco</th> <td>    2.1668</td> <td>    1.999</td> <td>    1.084</td> <td> 0.278</td> <td>   -1.752     6.085</td>\n",
       "</tr>\n",
       "<tr>\n",
       "  <th>San Jose</th>      <td>   -0.8643</td> <td>    1.681</td> <td>   -0.514</td> <td> 0.607</td> <td>   -4.158     2.430</td>\n",
       "</tr>\n",
       "<tr>\n",
       "  <th>Seattle</th>       <td>    1.4457</td> <td>    2.603</td> <td>    0.555</td> <td> 0.579</td> <td>   -3.656     6.547</td>\n",
       "</tr>\n",
       "<tr>\n",
       "  <th>Washington</th>    <td>    1.2471</td> <td>    1.568</td> <td>    0.795</td> <td> 0.426</td> <td>   -1.826     4.320</td>\n",
       "</tr>\n",
       "</table>"
      ],
      "text/plain": [
       "<class 'statsmodels.iolib.summary.Summary'>\n",
       "\"\"\"\n",
       "                          MNLogit Regression Results                          \n",
       "==============================================================================\n",
       "Dep. Variable:              sal_dummy   No. Observations:                  398\n",
       "Model:                        MNLogit   Df Residuals:                      377\n",
       "Method:                           MLE   Df Model:                           20\n",
       "Date:                Thu, 07 Jul 2016   Pseudo R-squ.:                  0.7858\n",
       "Time:                        06:32:32   Log-Likelihood:                -58.804\n",
       "converged:                      False   LL-Null:                       -274.58\n",
       "                                        LLR p-value:                 5.655e-79\n",
       "=================================================================================\n",
       "  sal_dummy=1       coef    std err          z      P>|z|      [95.0% Conf. Int.]\n",
       "---------------------------------------------------------------------------------\n",
       "intercept         0.5190      1.462      0.355      0.723        -2.347     3.385\n",
       "Boston            1.8201      1.682      1.082      0.279        -1.477     5.117\n",
       "Chicago           1.1423      1.698      0.673      0.501        -2.186     4.470\n",
       "Columbus         -1.1944      2.571     -0.465      0.642        -6.234     3.845\n",
       "Dallas           -0.6612      1.773     -0.373      0.709        -4.136     2.813\n",
       "Denver           -2.0133      1.951     -1.032      0.302        -5.838     1.811\n",
       "Houston          -5.1862      1.836     -2.825      0.005        -8.784    -1.588\n",
       "Indianapolis      0.8114      2.861      0.284      0.777        -4.796     6.418\n",
       "Jacksonville      7.6482      6.173      1.239      0.215        -4.451    19.748\n",
       "Los Angeles       1.9531      2.604      0.750      0.453        -3.151     7.057\n",
       "Memphis          -7.3532      3.426     -2.146      0.032       -14.068    -0.639\n",
       "Nashville         0.8114      2.861      0.284      0.777        -4.796     6.418\n",
       "New York         -0.3420      1.533     -0.223      0.823        -3.346     2.663\n",
       "Philadelphia      2.3675      2.671      0.886      0.375        -2.868     7.602\n",
       "Phoenix          -1.1944      2.571     -0.465      0.642        -6.234     3.845\n",
       "San Antonio      -1.2986      1.919     -0.677      0.499        -5.061     2.463\n",
       "San Diego        -0.3729      2.037     -0.183      0.855        -4.365     3.619\n",
       "San Francisco     2.1668      1.999      1.084      0.278        -1.752     6.085\n",
       "San Jose         -0.8643      1.681     -0.514      0.607        -4.158     2.430\n",
       "Seattle           1.4457      2.603      0.555      0.579        -3.656     6.547\n",
       "Washington        1.2471      1.568      0.795      0.426        -1.826     4.320\n",
       "=================================================================================\n",
       "\"\"\""
      ]
     },
     "execution_count": 17,
     "metadata": {},
     "output_type": "execute_result"
    }
   ],
   "source": [
    "model_city_fit.summary()"
   ]
  },
  {
   "cell_type": "code",
   "execution_count": 18,
   "metadata": {
    "collapsed": false
   },
   "outputs": [
    {
     "name": "stdout",
     "output_type": "stream",
     "text": [
      "AIC: 159.608285319\n",
      "BIC: 243.32377743\n"
     ]
    }
   ],
   "source": [
    "### aic and bic ###\n",
    "print 'AIC: %s' %model_city_fit.aic\n",
    "print 'BIC: %s' %model_city_fit.bic"
   ]
  },
  {
   "cell_type": "code",
   "execution_count": 138,
   "metadata": {
    "collapsed": false,
    "scrolled": true
   },
   "outputs": [],
   "source": [
    "### marginal effects ###\n",
    "#model_city_margeff = model_city_fit.get_margeff()\n",
    "#print model_city_margeff.summary() "
   ]
  },
  {
   "cell_type": "markdown",
   "metadata": {},
   "source": [
    "Houston and Memphis dummy variables are significant in this model at a 0.05 significance level."
   ]
  },
  {
   "cell_type": "markdown",
   "metadata": {},
   "source": [
    "Now, do a logistic regression with dummy variables according to states:"
   ]
  },
  {
   "cell_type": "code",
   "execution_count": 20,
   "metadata": {
    "collapsed": false
   },
   "outputs": [
    {
     "name": "stdout",
     "output_type": "stream",
     "text": [
      "There are 14 distinct states represented in the dataframe.\n"
     ]
    },
    {
     "data": {
      "text/plain": [
       "TN    98\n",
       "FL    98\n",
       "TX    97\n",
       "DC    25\n",
       "CA    20\n",
       "NY    19\n",
       "MA    18\n",
       "IL    10\n",
       "PA     4\n",
       "CO     4\n",
       "WA     2\n",
       "OH     1\n",
       "AZ     1\n",
       "IN     1\n",
       "Name: state, dtype: int64"
      ]
     },
     "execution_count": 20,
     "metadata": {},
     "output_type": "execute_result"
    }
   ],
   "source": [
    "print 'There are %s distinct states represented in the dataframe.' %len(sal_df['state'].unique())\n",
    "sal_df['state'].value_counts()"
   ]
  },
  {
   "cell_type": "code",
   "execution_count": 21,
   "metadata": {
    "collapsed": true
   },
   "outputs": [],
   "source": [
    "X_state = pd.DataFrame(sal_df['state'])\n",
    "X_state['intercept'] = 1\n",
    "X_state = pd.concat([X_state.drop('state',axis=1), pd.get_dummies(X_state['state'])], axis = 1)\n",
    "y = sal_df['sal_dummy']"
   ]
  },
  {
   "cell_type": "code",
   "execution_count": 22,
   "metadata": {
    "collapsed": false
   },
   "outputs": [
    {
     "data": {
      "text/html": [
       "<div>\n",
       "<table border=\"1\" class=\"dataframe\">\n",
       "  <thead>\n",
       "    <tr style=\"text-align: right;\">\n",
       "      <th></th>\n",
       "      <th>intercept</th>\n",
       "      <th>AZ</th>\n",
       "      <th>CA</th>\n",
       "      <th>CO</th>\n",
       "      <th>DC</th>\n",
       "      <th>FL</th>\n",
       "      <th>IL</th>\n",
       "      <th>IN</th>\n",
       "      <th>MA</th>\n",
       "      <th>NY</th>\n",
       "      <th>OH</th>\n",
       "      <th>PA</th>\n",
       "      <th>TN</th>\n",
       "      <th>TX</th>\n",
       "      <th>WA</th>\n",
       "    </tr>\n",
       "  </thead>\n",
       "  <tbody>\n",
       "    <tr>\n",
       "      <th>571</th>\n",
       "      <td>1</td>\n",
       "      <td>0.0</td>\n",
       "      <td>0.0</td>\n",
       "      <td>0.0</td>\n",
       "      <td>0.0</td>\n",
       "      <td>0.0</td>\n",
       "      <td>0.0</td>\n",
       "      <td>0.0</td>\n",
       "      <td>1.0</td>\n",
       "      <td>0.0</td>\n",
       "      <td>0.0</td>\n",
       "      <td>0.0</td>\n",
       "      <td>0.0</td>\n",
       "      <td>0.0</td>\n",
       "      <td>0.0</td>\n",
       "    </tr>\n",
       "  </tbody>\n",
       "</table>\n",
       "</div>"
      ],
      "text/plain": [
       "     intercept   AZ   CA   CO   DC   FL   IL   IN   MA   NY   OH   PA   TN  \\\n",
       "571          1  0.0  0.0  0.0  0.0  0.0  0.0  0.0  1.0  0.0  0.0  0.0  0.0   \n",
       "\n",
       "      TX   WA  \n",
       "571  0.0  0.0  "
      ]
     },
     "execution_count": 22,
     "metadata": {},
     "output_type": "execute_result"
    }
   ],
   "source": [
    "X_state.head(1)"
   ]
  },
  {
   "cell_type": "markdown",
   "metadata": {},
   "source": [
    "Drop one of the dummy variables (just pick first one on the left):"
   ]
  },
  {
   "cell_type": "code",
   "execution_count": 23,
   "metadata": {
    "collapsed": false
   },
   "outputs": [],
   "source": [
    "X_state.drop('AZ', axis=1, inplace=True)"
   ]
  },
  {
   "cell_type": "code",
   "execution_count": 24,
   "metadata": {
    "collapsed": true
   },
   "outputs": [],
   "source": [
    "model_state = st.MNLogit(y, X_state)"
   ]
  },
  {
   "cell_type": "code",
   "execution_count": 25,
   "metadata": {
    "collapsed": false
   },
   "outputs": [
    {
     "name": "stdout",
     "output_type": "stream",
     "text": [
      "Warning: Maximum number of iterations has been exceeded.\n",
      "         Current function value: 0.189293\n",
      "         Iterations: 35\n",
      "         Function evaluations: 37\n",
      "         Gradient evaluations: 37\n"
     ]
    },
    {
     "name": "stderr",
     "output_type": "stream",
     "text": [
      "//anaconda/lib/python2.7/site-packages/statsmodels/base/model.py:466: ConvergenceWarning:\n",
      "\n",
      "Maximum Likelihood optimization failed to converge. Check mle_retvals\n",
      "\n"
     ]
    }
   ],
   "source": [
    "model_state_fit = model_state.fit(method = 'bfgs')"
   ]
  },
  {
   "cell_type": "code",
   "execution_count": 26,
   "metadata": {
    "collapsed": false
   },
   "outputs": [
    {
     "data": {
      "text/html": [
       "<table class=\"simpletable\">\n",
       "<caption>MNLogit Regression Results</caption>\n",
       "<tr>\n",
       "  <th>Dep. Variable:</th>     <td>sal_dummy</td>    <th>  No. Observations:  </th>  <td>   398</td>  \n",
       "</tr>\n",
       "<tr>\n",
       "  <th>Model:</th>              <td>MNLogit</td>     <th>  Df Residuals:      </th>  <td>   384</td>  \n",
       "</tr>\n",
       "<tr>\n",
       "  <th>Method:</th>               <td>MLE</td>       <th>  Df Model:          </th>  <td>    13</td>  \n",
       "</tr>\n",
       "<tr>\n",
       "  <th>Date:</th>          <td>Thu, 07 Jul 2016</td> <th>  Pseudo R-squ.:     </th>  <td>0.7256</td>  \n",
       "</tr>\n",
       "<tr>\n",
       "  <th>Time:</th>              <td>06:32:35</td>     <th>  Log-Likelihood:    </th> <td> -75.339</td> \n",
       "</tr>\n",
       "<tr>\n",
       "  <th>converged:</th>           <td>False</td>      <th>  LL-Null:           </th> <td> -274.58</td> \n",
       "</tr>\n",
       "<tr>\n",
       "  <th> </th>                      <td> </td>        <th>  LLR p-value:       </th> <td>4.656e-77</td>\n",
       "</tr>\n",
       "</table>\n",
       "<table class=\"simpletable\">\n",
       "<tr>\n",
       "  <th>sal_dummy=1</th>    <th>coef</th>     <th>std err</th>      <th>z</th>      <th>P>|z|</th> <th>[95.0% Conf. Int.]</th> \n",
       "</tr>\n",
       "<tr>\n",
       "  <th>intercept</th>   <td>    0.5767</td> <td>    2.084</td> <td>    0.277</td> <td> 0.782</td> <td>   -3.507     4.661</td>\n",
       "</tr>\n",
       "<tr>\n",
       "  <th>CA</th>          <td>    0.3264</td> <td>    2.141</td> <td>    0.152</td> <td> 0.879</td> <td>   -3.871     4.523</td>\n",
       "</tr>\n",
       "<tr>\n",
       "  <th>CO</th>          <td>   -1.6724</td> <td>    2.382</td> <td>   -0.702</td> <td> 0.483</td> <td>   -6.341     2.996</td>\n",
       "</tr>\n",
       "<tr>\n",
       "  <th>DC</th>          <td>    1.3990</td> <td>    2.172</td> <td>    0.644</td> <td> 0.519</td> <td>   -2.857     5.655</td>\n",
       "</tr>\n",
       "<tr>\n",
       "  <th>FL</th>          <td>    6.2126</td> <td>    3.664</td> <td>    1.695</td> <td> 0.090</td> <td>   -0.969    13.395</td>\n",
       "</tr>\n",
       "<tr>\n",
       "  <th>IL</th>          <td>    0.9107</td> <td>    2.238</td> <td>    0.407</td> <td> 0.684</td> <td>   -3.475     5.296</td>\n",
       "</tr>\n",
       "<tr>\n",
       "  <th>IN</th>          <td>    0.5503</td> <td>    3.123</td> <td>    0.176</td> <td> 0.860</td> <td>   -5.570     6.671</td>\n",
       "</tr>\n",
       "<tr>\n",
       "  <th>MA</th>          <td>    1.7106</td> <td>    2.237</td> <td>    0.765</td> <td> 0.445</td> <td>   -2.675     6.096</td>\n",
       "</tr>\n",
       "<tr>\n",
       "  <th>NY</th>          <td>   -0.5027</td> <td>    2.134</td> <td>   -0.236</td> <td> 0.814</td> <td>   -4.685     3.679</td>\n",
       "</tr>\n",
       "<tr>\n",
       "  <th>OH</th>          <td>   -0.9202</td> <td>    2.909</td> <td>   -0.316</td> <td> 0.752</td> <td>   -6.621     4.781</td>\n",
       "</tr>\n",
       "<tr>\n",
       "  <th>PA</th>          <td>    1.6815</td> <td>    2.694</td> <td>    0.624</td> <td> 0.533</td> <td>   -3.599     6.962</td>\n",
       "</tr>\n",
       "<tr>\n",
       "  <th>TN</th>          <td>   -5.6749</td> <td>    2.456</td> <td>   -2.310</td> <td> 0.021</td> <td>  -10.489    -0.861</td>\n",
       "</tr>\n",
       "<tr>\n",
       "  <th>TX</th>          <td>   -3.4307</td> <td>    2.131</td> <td>   -1.610</td> <td> 0.107</td> <td>   -7.608     0.746</td>\n",
       "</tr>\n",
       "<tr>\n",
       "  <th>WA</th>          <td>    0.9984</td> <td>    2.804</td> <td>    0.356</td> <td> 0.722</td> <td>   -4.497     6.494</td>\n",
       "</tr>\n",
       "</table>"
      ],
      "text/plain": [
       "<class 'statsmodels.iolib.summary.Summary'>\n",
       "\"\"\"\n",
       "                          MNLogit Regression Results                          \n",
       "==============================================================================\n",
       "Dep. Variable:              sal_dummy   No. Observations:                  398\n",
       "Model:                        MNLogit   Df Residuals:                      384\n",
       "Method:                           MLE   Df Model:                           13\n",
       "Date:                Thu, 07 Jul 2016   Pseudo R-squ.:                  0.7256\n",
       "Time:                        06:32:35   Log-Likelihood:                -75.339\n",
       "converged:                      False   LL-Null:                       -274.58\n",
       "                                        LLR p-value:                 4.656e-77\n",
       "===============================================================================\n",
       "sal_dummy=1       coef    std err          z      P>|z|      [95.0% Conf. Int.]\n",
       "-------------------------------------------------------------------------------\n",
       "intercept       0.5767      2.084      0.277      0.782        -3.507     4.661\n",
       "CA              0.3264      2.141      0.152      0.879        -3.871     4.523\n",
       "CO             -1.6724      2.382     -0.702      0.483        -6.341     2.996\n",
       "DC              1.3990      2.172      0.644      0.519        -2.857     5.655\n",
       "FL              6.2126      3.664      1.695      0.090        -0.969    13.395\n",
       "IL              0.9107      2.238      0.407      0.684        -3.475     5.296\n",
       "IN              0.5503      3.123      0.176      0.860        -5.570     6.671\n",
       "MA              1.7106      2.237      0.765      0.445        -2.675     6.096\n",
       "NY             -0.5027      2.134     -0.236      0.814        -4.685     3.679\n",
       "OH             -0.9202      2.909     -0.316      0.752        -6.621     4.781\n",
       "PA              1.6815      2.694      0.624      0.533        -3.599     6.962\n",
       "TN             -5.6749      2.456     -2.310      0.021       -10.489    -0.861\n",
       "TX             -3.4307      2.131     -1.610      0.107        -7.608     0.746\n",
       "WA              0.9984      2.804      0.356      0.722        -4.497     6.494\n",
       "===============================================================================\n",
       "\"\"\""
      ]
     },
     "execution_count": 26,
     "metadata": {},
     "output_type": "execute_result"
    }
   ],
   "source": [
    "model_state_fit.summary()"
   ]
  },
  {
   "cell_type": "code",
   "execution_count": 27,
   "metadata": {
    "collapsed": false
   },
   "outputs": [
    {
     "name": "stdout",
     "output_type": "stream",
     "text": [
      "AIC: 178.677070852\n",
      "BIC: 234.487398926\n"
     ]
    }
   ],
   "source": [
    "### aic and bic ###\n",
    "print 'AIC: %s' %model_state_fit.aic\n",
    "print 'BIC: %s' %model_state_fit.bic"
   ]
  },
  {
   "cell_type": "code",
   "execution_count": 139,
   "metadata": {
    "collapsed": false
   },
   "outputs": [],
   "source": [
    "### marginal effects ###\n",
    "#model_state_margeff = model_state_fit.get_margeff()\n",
    "#print model_state_margeff.summary() "
   ]
  },
  {
   "cell_type": "markdown",
   "metadata": {},
   "source": [
    "The TN dummy variable is significant in this model at a 0.05 significance level."
   ]
  },
  {
   "cell_type": "markdown",
   "metadata": {
    "focus": false,
    "id": "0ef04f32-419c-4bf2-baf7-48201f03df89"
   },
   "source": [
    "#### Create a few new variables in your dataframe to represent interesting features of a job title.\n",
    "- For example, create a feature that represents whether 'Senior' is in the title \n",
    "- or whether 'Manager' is in the title. \n",
    "- Then build a new Logistic Regression model with these features. Do they add any value? \n"
   ]
  },
  {
   "cell_type": "code",
   "execution_count": 29,
   "metadata": {
    "collapsed": false,
    "focus": false,
    "id": "068dc1cf-7fd7-4f27-a1f1-7f0a5a221d29"
   },
   "outputs": [
    {
     "data": {
      "text/html": [
       "<div>\n",
       "<table border=\"1\" class=\"dataframe\">\n",
       "  <thead>\n",
       "    <tr style=\"text-align: right;\">\n",
       "      <th></th>\n",
       "      <th>title</th>\n",
       "      <th>location</th>\n",
       "      <th>company</th>\n",
       "      <th>city</th>\n",
       "      <th>state</th>\n",
       "      <th>parsed_salary</th>\n",
       "      <th>sal_dummy</th>\n",
       "    </tr>\n",
       "  </thead>\n",
       "  <tbody>\n",
       "    <tr>\n",
       "      <th>571</th>\n",
       "      <td>Data Scientist – Predictive Analytics</td>\n",
       "      <td>Cambridge, MA</td>\n",
       "      <td>U.S. Federal Government</td>\n",
       "      <td>Boston</td>\n",
       "      <td>MA</td>\n",
       "      <td>117234.5</td>\n",
       "      <td>1</td>\n",
       "    </tr>\n",
       "  </tbody>\n",
       "</table>\n",
       "</div>"
      ],
      "text/plain": [
       "                                     title       location  \\\n",
       "571  Data Scientist – Predictive Analytics  Cambridge, MA   \n",
       "\n",
       "                     company    city state  parsed_salary  sal_dummy  \n",
       "571  U.S. Federal Government  Boston    MA       117234.5          1  "
      ]
     },
     "execution_count": 29,
     "metadata": {},
     "output_type": "execute_result"
    }
   ],
   "source": [
    "sal_df.head(1)"
   ]
  },
  {
   "cell_type": "markdown",
   "metadata": {},
   "source": [
    "Make a list of (non-unique) terms found in 'title' entries; ignore case and symbols."
   ]
  },
  {
   "cell_type": "code",
   "execution_count": 30,
   "metadata": {
    "collapsed": false
   },
   "outputs": [],
   "source": [
    "all_terms = []\n",
    "for i in sal_df['title']:\n",
    "    x = i.lower()\n",
    "    x = re.sub(r'[^\\w]', ' ', x)\n",
    "    x = x.split(' ')\n",
    "    all_terms = all_terms + x\n",
    "    \n",
    "unique_terms = list(set(all_terms))"
   ]
  },
  {
   "cell_type": "markdown",
   "metadata": {},
   "source": [
    "Figure out which of these terms appear the most frequently in the dataframe:"
   ]
  },
  {
   "cell_type": "code",
   "execution_count": 31,
   "metadata": {
    "collapsed": false
   },
   "outputs": [],
   "source": [
    "term_counts = []\n",
    "for i in unique_terms:\n",
    "    count = all_terms.count(i)\n",
    "    term_counts.append(count)\n",
    "\n",
    "count_df = pd.DataFrame([unique_terms, term_counts]).T\n",
    "count_df.columns = ['term', 'count']"
   ]
  },
  {
   "cell_type": "code",
   "execution_count": 140,
   "metadata": {
    "collapsed": false
   },
   "outputs": [],
   "source": [
    "count_df.sort('count', ascending = False).head(50)"
   ]
  },
  {
   "cell_type": "code",
   "execution_count": 33,
   "metadata": {
    "collapsed": false
   },
   "outputs": [],
   "source": [
    "def titleify(df):\n",
    "    titles = []\n",
    "    for i in df['title']:\n",
    "        x = i.lower()\n",
    "        x = re.sub(r'[^\\w]', ' ', x)\n",
    "        titles.append(x)\n",
    "    df['nice_titles'] = titles\n",
    "    return df"
   ]
  },
  {
   "cell_type": "code",
   "execution_count": 34,
   "metadata": {
    "collapsed": false
   },
   "outputs": [
    {
     "name": "stderr",
     "output_type": "stream",
     "text": [
      "/anaconda/lib/python2.7/site-packages/ipykernel/__main__.py:7: SettingWithCopyWarning:\n",
      "\n",
      "\n",
      "A value is trying to be set on a copy of a slice from a DataFrame.\n",
      "Try using .loc[row_indexer,col_indexer] = value instead\n",
      "\n",
      "See the caveats in the documentation: http://pandas.pydata.org/pandas-docs/stable/indexing.html#indexing-view-versus-copy\n",
      "\n"
     ]
    },
    {
     "data": {
      "text/html": [
       "<div>\n",
       "<table border=\"1\" class=\"dataframe\">\n",
       "  <thead>\n",
       "    <tr style=\"text-align: right;\">\n",
       "      <th></th>\n",
       "      <th>title</th>\n",
       "      <th>location</th>\n",
       "      <th>company</th>\n",
       "      <th>city</th>\n",
       "      <th>state</th>\n",
       "      <th>parsed_salary</th>\n",
       "      <th>sal_dummy</th>\n",
       "      <th>nice_titles</th>\n",
       "    </tr>\n",
       "  </thead>\n",
       "  <tbody>\n",
       "    <tr>\n",
       "      <th>571</th>\n",
       "      <td>Data Scientist – Predictive Analytics</td>\n",
       "      <td>Cambridge, MA</td>\n",
       "      <td>U.S. Federal Government</td>\n",
       "      <td>Boston</td>\n",
       "      <td>MA</td>\n",
       "      <td>117234.5</td>\n",
       "      <td>1</td>\n",
       "      <td>data scientist     predictive analytics</td>\n",
       "    </tr>\n",
       "  </tbody>\n",
       "</table>\n",
       "</div>"
      ],
      "text/plain": [
       "                                     title       location  \\\n",
       "571  Data Scientist – Predictive Analytics  Cambridge, MA   \n",
       "\n",
       "                     company    city state  parsed_salary  sal_dummy  \\\n",
       "571  U.S. Federal Government  Boston    MA       117234.5          1   \n",
       "\n",
       "                                 nice_titles  \n",
       "571  data scientist     predictive analytics  "
      ]
     },
     "execution_count": 34,
     "metadata": {},
     "output_type": "execute_result"
    }
   ],
   "source": [
    "titleify(sal_df)\n",
    "sal_df.head(1)"
   ]
  },
  {
   "cell_type": "code",
   "execution_count": 35,
   "metadata": {
    "collapsed": true
   },
   "outputs": [],
   "source": [
    "terms = ['senior', 'sr', 'principal', 'officer', 'expert', 'manager', 'relocation']"
   ]
  },
  {
   "cell_type": "code",
   "execution_count": 36,
   "metadata": {
    "collapsed": false
   },
   "outputs": [],
   "source": [
    "sal_df = sal_df.reset_index(drop = True)"
   ]
  },
  {
   "cell_type": "code",
   "execution_count": 141,
   "metadata": {
    "collapsed": false
   },
   "outputs": [],
   "source": [
    "sal_df['senior'] = sal_df['nice_titles'].str.extract('(senior)')\n",
    "sal_df['sr'] = sal_df['nice_titles'].str.extract('(sr)')\n",
    "sal_df['principal'] = sal_df['nice_titles'].str.extract('(principal)')\n",
    "sal_df['officer'] = sal_df['nice_titles'].str.extract('(officer)')\n",
    "sal_df['expert'] = sal_df['nice_titles'].str.extract('(expert)')\n",
    "sal_df['manager'] = sal_df['nice_titles'].str.extract('(manager)')\n",
    "sal_df['relocation'] = sal_df['nice_titles'].str.extract('(relocation)')"
   ]
  },
  {
   "cell_type": "code",
   "execution_count": 38,
   "metadata": {
    "collapsed": false
   },
   "outputs": [
    {
     "data": {
      "text/html": [
       "<div>\n",
       "<table border=\"1\" class=\"dataframe\">\n",
       "  <thead>\n",
       "    <tr style=\"text-align: right;\">\n",
       "      <th></th>\n",
       "      <th>title</th>\n",
       "      <th>location</th>\n",
       "      <th>company</th>\n",
       "      <th>city</th>\n",
       "      <th>state</th>\n",
       "      <th>parsed_salary</th>\n",
       "      <th>sal_dummy</th>\n",
       "      <th>nice_titles</th>\n",
       "      <th>senior</th>\n",
       "      <th>sr</th>\n",
       "      <th>principal</th>\n",
       "      <th>officer</th>\n",
       "      <th>expert</th>\n",
       "      <th>manager</th>\n",
       "      <th>relocation</th>\n",
       "    </tr>\n",
       "  </thead>\n",
       "  <tbody>\n",
       "    <tr>\n",
       "      <th>0</th>\n",
       "      <td>Data Scientist – Predictive Analytics</td>\n",
       "      <td>Cambridge, MA</td>\n",
       "      <td>U.S. Federal Government</td>\n",
       "      <td>Boston</td>\n",
       "      <td>MA</td>\n",
       "      <td>117234.5</td>\n",
       "      <td>1</td>\n",
       "      <td>data scientist     predictive analytics</td>\n",
       "      <td>NaN</td>\n",
       "      <td>NaN</td>\n",
       "      <td>NaN</td>\n",
       "      <td>NaN</td>\n",
       "      <td>NaN</td>\n",
       "      <td>NaN</td>\n",
       "      <td>NaN</td>\n",
       "    </tr>\n",
       "  </tbody>\n",
       "</table>\n",
       "</div>"
      ],
      "text/plain": [
       "                                   title       location  \\\n",
       "0  Data Scientist – Predictive Analytics  Cambridge, MA   \n",
       "\n",
       "                   company    city state  parsed_salary  sal_dummy  \\\n",
       "0  U.S. Federal Government  Boston    MA       117234.5          1   \n",
       "\n",
       "                               nice_titles senior   sr principal officer  \\\n",
       "0  data scientist     predictive analytics    NaN  NaN       NaN     NaN   \n",
       "\n",
       "  expert manager relocation  \n",
       "0    NaN     NaN        NaN  "
      ]
     },
     "execution_count": 38,
     "metadata": {},
     "output_type": "execute_result"
    }
   ],
   "source": [
    "sal_df.head(1)"
   ]
  },
  {
   "cell_type": "code",
   "execution_count": 39,
   "metadata": {
    "collapsed": true
   },
   "outputs": [],
   "source": [
    "senior = []\n",
    "for i in sal_df['senior']:\n",
    "    if i == 'senior':\n",
    "        senior.append(1)\n",
    "    else:\n",
    "        senior.append(0)\n",
    "sal_df['senior'] = senior\n",
    "\n",
    "sr = []\n",
    "for i in sal_df['sr']:\n",
    "    if i == 'sr':\n",
    "        sr.append(1)\n",
    "    else:\n",
    "        sr.append(0)\n",
    "sal_df['sr'] = sr\n",
    "\n",
    "principal = []\n",
    "for i in sal_df['principal']:\n",
    "    if i == 'principal':\n",
    "        principal.append(1)\n",
    "    else:\n",
    "        principal.append(0)\n",
    "sal_df['principal'] = principal\n",
    "\n",
    "officer = []\n",
    "for i in sal_df['officer']:\n",
    "    if i == 'officer':\n",
    "        officer.append(1)\n",
    "    else:\n",
    "        officer.append(0)\n",
    "sal_df['officer'] = officer\n",
    "\n",
    "expert = []\n",
    "for i in sal_df['expert']:\n",
    "    if i == 'expert':\n",
    "        expert.append(1)\n",
    "    else:\n",
    "        expert.append(0)\n",
    "sal_df['expert'] = expert\n",
    "\n",
    "manager = []\n",
    "for i in sal_df['manager']:\n",
    "    if i == 'manager':\n",
    "        manager.append(1)\n",
    "    else:\n",
    "        manager.append(0)\n",
    "sal_df['manager'] = manager\n",
    "\n",
    "relocation = []\n",
    "for i in sal_df['relocation']:\n",
    "    if i == 'relocation':\n",
    "        relocation.append(1)\n",
    "    else:\n",
    "        relocation.append(0)\n",
    "sal_df['relocation'] = relocation"
   ]
  },
  {
   "cell_type": "code",
   "execution_count": 142,
   "metadata": {
    "collapsed": false
   },
   "outputs": [
    {
     "data": {
      "text/html": [
       "<div>\n",
       "<table border=\"1\" class=\"dataframe\">\n",
       "  <thead>\n",
       "    <tr style=\"text-align: right;\">\n",
       "      <th></th>\n",
       "      <th>title</th>\n",
       "      <th>location</th>\n",
       "      <th>company</th>\n",
       "      <th>city</th>\n",
       "      <th>state</th>\n",
       "      <th>parsed_salary</th>\n",
       "      <th>sal_dummy</th>\n",
       "      <th>nice_titles</th>\n",
       "      <th>senior</th>\n",
       "      <th>sr</th>\n",
       "      <th>principal</th>\n",
       "      <th>officer</th>\n",
       "      <th>expert</th>\n",
       "      <th>manager</th>\n",
       "      <th>relocation</th>\n",
       "    </tr>\n",
       "  </thead>\n",
       "  <tbody>\n",
       "    <tr>\n",
       "      <th>0</th>\n",
       "      <td>Data Scientist – Predictive Analytics</td>\n",
       "      <td>Cambridge, MA</td>\n",
       "      <td>U.S. Federal Government</td>\n",
       "      <td>Boston</td>\n",
       "      <td>MA</td>\n",
       "      <td>117234.5</td>\n",
       "      <td>1</td>\n",
       "      <td>data scientist     predictive analytics</td>\n",
       "      <td>0</td>\n",
       "      <td>0</td>\n",
       "      <td>0</td>\n",
       "      <td>0</td>\n",
       "      <td>0</td>\n",
       "      <td>0</td>\n",
       "      <td>0</td>\n",
       "    </tr>\n",
       "  </tbody>\n",
       "</table>\n",
       "</div>"
      ],
      "text/plain": [
       "                                   title       location  \\\n",
       "0  Data Scientist – Predictive Analytics  Cambridge, MA   \n",
       "\n",
       "                   company    city state  parsed_salary  sal_dummy  \\\n",
       "0  U.S. Federal Government  Boston    MA       117234.5          1   \n",
       "\n",
       "                               nice_titles  senior  sr  principal  officer  \\\n",
       "0  data scientist     predictive analytics       0   0          0        0   \n",
       "\n",
       "   expert  manager  relocation  \n",
       "0       0        0           0  "
      ]
     },
     "execution_count": 142,
     "metadata": {},
     "output_type": "execute_result"
    }
   ],
   "source": [
    "sal_df.head(1)"
   ]
  },
  {
   "cell_type": "code",
   "execution_count": 41,
   "metadata": {
    "collapsed": false
   },
   "outputs": [],
   "source": [
    "X_title = pd.DataFrame(sal_df[['senior', 'sr', 'principal', 'officer', 'expert', 'manager', 'relocation']])\n",
    "X_title['intercept'] = 1\n",
    "y = sal_df['sal_dummy']"
   ]
  },
  {
   "cell_type": "code",
   "execution_count": 42,
   "metadata": {
    "collapsed": true
   },
   "outputs": [],
   "source": [
    "model_title = st.MNLogit(y, X_title)"
   ]
  },
  {
   "cell_type": "code",
   "execution_count": 143,
   "metadata": {
    "collapsed": false
   },
   "outputs": [],
   "source": [
    "model_title_fit = model_title.fit(method = 'bfgs')"
   ]
  },
  {
   "cell_type": "code",
   "execution_count": 44,
   "metadata": {
    "collapsed": false
   },
   "outputs": [
    {
     "data": {
      "text/html": [
       "<table class=\"simpletable\">\n",
       "<caption>MNLogit Regression Results</caption>\n",
       "<tr>\n",
       "  <th>Dep. Variable:</th>     <td>sal_dummy</td>    <th>  No. Observations:  </th>  <td>   398</td>  \n",
       "</tr>\n",
       "<tr>\n",
       "  <th>Model:</th>              <td>MNLogit</td>     <th>  Df Residuals:      </th>  <td>   390</td>  \n",
       "</tr>\n",
       "<tr>\n",
       "  <th>Method:</th>               <td>MLE</td>       <th>  Df Model:          </th>  <td>     7</td>  \n",
       "</tr>\n",
       "<tr>\n",
       "  <th>Date:</th>          <td>Thu, 07 Jul 2016</td> <th>  Pseudo R-squ.:     </th>  <td>0.07890</td> \n",
       "</tr>\n",
       "<tr>\n",
       "  <th>Time:</th>              <td>06:32:49</td>     <th>  Log-Likelihood:    </th> <td> -252.92</td> \n",
       "</tr>\n",
       "<tr>\n",
       "  <th>converged:</th>           <td>False</td>      <th>  LL-Null:           </th> <td> -274.58</td> \n",
       "</tr>\n",
       "<tr>\n",
       "  <th> </th>                      <td> </td>        <th>  LLR p-value:       </th> <td>2.879e-07</td>\n",
       "</tr>\n",
       "</table>\n",
       "<table class=\"simpletable\">\n",
       "<tr>\n",
       "  <th>sal_dummy=1</th>    <th>coef</th>     <th>std err</th>      <th>z</th>      <th>P>|z|</th> <th>[95.0% Conf. Int.]</th> \n",
       "</tr>\n",
       "<tr>\n",
       "  <th>senior</th>      <td>    1.2399</td> <td>    0.621</td> <td>    1.997</td> <td> 0.046</td> <td>    0.023     2.457</td>\n",
       "</tr>\n",
       "<tr>\n",
       "  <th>sr</th>          <td>    2.2324</td> <td>    1.328</td> <td>    1.682</td> <td> 0.093</td> <td>   -0.369     4.834</td>\n",
       "</tr>\n",
       "<tr>\n",
       "  <th>principal</th>   <td>   -1.0246</td> <td>    2.490</td> <td>   -0.411</td> <td> 0.681</td> <td>   -5.905     3.856</td>\n",
       "</tr>\n",
       "<tr>\n",
       "  <th>officer</th>     <td>    3.9074</td> <td>    2.732</td> <td>    1.430</td> <td> 0.153</td> <td>   -1.448     9.262</td>\n",
       "</tr>\n",
       "<tr>\n",
       "  <th>expert</th>      <td>   -1.5127</td> <td>    1.200</td> <td>   -1.261</td> <td> 0.207</td> <td>   -3.864     0.839</td>\n",
       "</tr>\n",
       "<tr>\n",
       "  <th>manager</th>     <td>   -1.0246</td> <td>    2.490</td> <td>   -0.411</td> <td> 0.681</td> <td>   -5.905     3.856</td>\n",
       "</tr>\n",
       "<tr>\n",
       "  <th>relocation</th>  <td>    3.2345</td> <td>    0.983</td> <td>    3.291</td> <td> 0.001</td> <td>    1.308     5.161</td>\n",
       "</tr>\n",
       "<tr>\n",
       "  <th>intercept</th>   <td>   -0.3453</td> <td>    0.109</td> <td>   -3.164</td> <td> 0.002</td> <td>   -0.559    -0.131</td>\n",
       "</tr>\n",
       "</table>"
      ],
      "text/plain": [
       "<class 'statsmodels.iolib.summary.Summary'>\n",
       "\"\"\"\n",
       "                          MNLogit Regression Results                          \n",
       "==============================================================================\n",
       "Dep. Variable:              sal_dummy   No. Observations:                  398\n",
       "Model:                        MNLogit   Df Residuals:                      390\n",
       "Method:                           MLE   Df Model:                            7\n",
       "Date:                Thu, 07 Jul 2016   Pseudo R-squ.:                 0.07890\n",
       "Time:                        06:32:49   Log-Likelihood:                -252.92\n",
       "converged:                      False   LL-Null:                       -274.58\n",
       "                                        LLR p-value:                 2.879e-07\n",
       "===============================================================================\n",
       "sal_dummy=1       coef    std err          z      P>|z|      [95.0% Conf. Int.]\n",
       "-------------------------------------------------------------------------------\n",
       "senior          1.2399      0.621      1.997      0.046         0.023     2.457\n",
       "sr              2.2324      1.328      1.682      0.093        -0.369     4.834\n",
       "principal      -1.0246      2.490     -0.411      0.681        -5.905     3.856\n",
       "officer         3.9074      2.732      1.430      0.153        -1.448     9.262\n",
       "expert         -1.5127      1.200     -1.261      0.207        -3.864     0.839\n",
       "manager        -1.0246      2.490     -0.411      0.681        -5.905     3.856\n",
       "relocation      3.2345      0.983      3.291      0.001         1.308     5.161\n",
       "intercept      -0.3453      0.109     -3.164      0.002        -0.559    -0.131\n",
       "===============================================================================\n",
       "\"\"\""
      ]
     },
     "execution_count": 44,
     "metadata": {},
     "output_type": "execute_result"
    }
   ],
   "source": [
    "model_title_fit.summary()"
   ]
  },
  {
   "cell_type": "code",
   "execution_count": 45,
   "metadata": {
    "collapsed": false
   },
   "outputs": [
    {
     "name": "stdout",
     "output_type": "stream",
     "text": [
      "AIC: 521.838465997\n",
      "BIC: 553.730082039\n"
     ]
    }
   ],
   "source": [
    "### aic and bic ###\n",
    "print 'AIC: %s' %model_title_fit.aic\n",
    "print 'BIC: %s' %model_title_fit.bic"
   ]
  },
  {
   "cell_type": "code",
   "execution_count": 144,
   "metadata": {
    "collapsed": false
   },
   "outputs": [],
   "source": [
    "### marginal effects ###\n",
    "model_title_margeff = model_title_fit.get_margeff()\n",
    "print model_title_margeff.summary()"
   ]
  },
  {
   "cell_type": "markdown",
   "metadata": {},
   "source": [
    "According to this model, we see that 'senior,' 'sr,' 'relocation,' and the intercept are significant at a 0.05 level."
   ]
  },
  {
   "cell_type": "code",
   "execution_count": 56,
   "metadata": {
    "collapsed": true
   },
   "outputs": [],
   "source": [
    "X_big = pd.DataFrame(zip(sal_df['senior'], sal_df['sr'], sal_df['relocation'], X_city['Houston'], X_city['Memphis'],\\\n",
    "                      X_state['TN']))\n",
    "X_big.columns = ['senior', 'sr', 'relocation', 'Houston', 'Memphis', 'TN']\n",
    "X_big['intercept'] = 1\n",
    "y = sal_df['sal_dummy']"
   ]
  },
  {
   "cell_type": "code",
   "execution_count": 57,
   "metadata": {
    "collapsed": false
   },
   "outputs": [],
   "source": [
    "model_big = st.MNLogit(y, X_big)"
   ]
  },
  {
   "cell_type": "code",
   "execution_count": 145,
   "metadata": {
    "collapsed": false
   },
   "outputs": [],
   "source": [
    "model_big_fit = model_big.fit(method = 'bfgs')"
   ]
  },
  {
   "cell_type": "code",
   "execution_count": 59,
   "metadata": {
    "collapsed": false
   },
   "outputs": [
    {
     "data": {
      "text/html": [
       "<table class=\"simpletable\">\n",
       "<caption>MNLogit Regression Results</caption>\n",
       "<tr>\n",
       "  <th>Dep. Variable:</th>     <td>sal_dummy</td>    <th>  No. Observations:  </th>  <td>   398</td>  \n",
       "</tr>\n",
       "<tr>\n",
       "  <th>Model:</th>              <td>MNLogit</td>     <th>  Df Residuals:      </th>  <td>   391</td>  \n",
       "</tr>\n",
       "<tr>\n",
       "  <th>Method:</th>               <td>MLE</td>       <th>  Df Model:          </th>  <td>     6</td>  \n",
       "</tr>\n",
       "<tr>\n",
       "  <th>Date:</th>          <td>Thu, 07 Jul 2016</td> <th>  Pseudo R-squ.:     </th>  <td>0.6599</td>  \n",
       "</tr>\n",
       "<tr>\n",
       "  <th>Time:</th>              <td>06:35:35</td>     <th>  Log-Likelihood:    </th> <td> -93.397</td> \n",
       "</tr>\n",
       "<tr>\n",
       "  <th>converged:</th>           <td>False</td>      <th>  LL-Null:           </th> <td> -274.58</td> \n",
       "</tr>\n",
       "<tr>\n",
       "  <th> </th>                      <td> </td>        <th>  LLR p-value:       </th> <td>3.397e-75</td>\n",
       "</tr>\n",
       "</table>\n",
       "<table class=\"simpletable\">\n",
       "<tr>\n",
       "  <th>sal_dummy=1</th>    <th>coef</th>     <th>std err</th>      <th>z</th>      <th>P>|z|</th> <th>[95.0% Conf. Int.]</th> \n",
       "</tr>\n",
       "<tr>\n",
       "  <th>senior</th>      <td>    0.5165</td> <td>    1.067</td> <td>    0.484</td> <td> 0.628</td> <td>   -1.575     2.608</td>\n",
       "</tr>\n",
       "<tr>\n",
       "  <th>sr</th>          <td>   -0.3526</td> <td>    1.117</td> <td>   -0.316</td> <td> 0.752</td> <td>   -2.542     1.837</td>\n",
       "</tr>\n",
       "<tr>\n",
       "  <th>relocation</th>  <td>    2.2770</td> <td>    1.659</td> <td>    1.372</td> <td> 0.170</td> <td>   -0.975     5.529</td>\n",
       "</tr>\n",
       "<tr>\n",
       "  <th>Houston</th>     <td>   -5.9686</td> <td>    0.946</td> <td>   -6.308</td> <td> 0.000</td> <td>   -7.823    -4.114</td>\n",
       "</tr>\n",
       "<tr>\n",
       "  <th>Memphis</th>     <td>   -4.8574</td> <td>    3.557</td> <td>   -1.365</td> <td> 0.172</td> <td>  -11.830     2.115</td>\n",
       "</tr>\n",
       "<tr>\n",
       "  <th>TN</th>          <td>   -3.0091</td> <td>    2.770</td> <td>   -1.086</td> <td> 0.277</td> <td>   -8.438     2.420</td>\n",
       "</tr>\n",
       "<tr>\n",
       "  <th>intercept</th>   <td>    1.6777</td> <td>    0.206</td> <td>    8.130</td> <td> 0.000</td> <td>    1.273     2.082</td>\n",
       "</tr>\n",
       "</table>"
      ],
      "text/plain": [
       "<class 'statsmodels.iolib.summary.Summary'>\n",
       "\"\"\"\n",
       "                          MNLogit Regression Results                          \n",
       "==============================================================================\n",
       "Dep. Variable:              sal_dummy   No. Observations:                  398\n",
       "Model:                        MNLogit   Df Residuals:                      391\n",
       "Method:                           MLE   Df Model:                            6\n",
       "Date:                Thu, 07 Jul 2016   Pseudo R-squ.:                  0.6599\n",
       "Time:                        06:35:35   Log-Likelihood:                -93.397\n",
       "converged:                      False   LL-Null:                       -274.58\n",
       "                                        LLR p-value:                 3.397e-75\n",
       "===============================================================================\n",
       "sal_dummy=1       coef    std err          z      P>|z|      [95.0% Conf. Int.]\n",
       "-------------------------------------------------------------------------------\n",
       "senior          0.5165      1.067      0.484      0.628        -1.575     2.608\n",
       "sr             -0.3526      1.117     -0.316      0.752        -2.542     1.837\n",
       "relocation      2.2770      1.659      1.372      0.170        -0.975     5.529\n",
       "Houston        -5.9686      0.946     -6.308      0.000        -7.823    -4.114\n",
       "Memphis        -4.8574      3.557     -1.365      0.172       -11.830     2.115\n",
       "TN             -3.0091      2.770     -1.086      0.277        -8.438     2.420\n",
       "intercept       1.6777      0.206      8.130      0.000         1.273     2.082\n",
       "===============================================================================\n",
       "\"\"\""
      ]
     },
     "execution_count": 59,
     "metadata": {},
     "output_type": "execute_result"
    }
   ],
   "source": [
    "model_big_fit.summary()"
   ]
  },
  {
   "cell_type": "markdown",
   "metadata": {},
   "source": [
    "There is a faster way to test pairwise correlations:"
   ]
  },
  {
   "cell_type": "code",
   "execution_count": 67,
   "metadata": {
    "collapsed": false
   },
   "outputs": [
    {
     "name": "stdout",
     "output_type": "stream",
     "text": [
      "-0.0207266941272\n",
      "-0.043369087412\n",
      "-0.097904307649\n",
      "-0.00554247377497\n",
      "-0.00659499211864\n",
      "-0.097904307649\n",
      "-0.0266212043543\n",
      "-0.0600965050596\n",
      "-0.0640311565594\n",
      "-0.0644675457995\n",
      "-0.125747529494\n",
      "-0.133980499199\n",
      "-0.108806314572\n",
      "-0.302456629718\n",
      "-0.304517951516\n",
      "0.993230869352\n"
     ]
    }
   ],
   "source": [
    "print np.corrcoef(X_big['senior'], X_big['sr'])[0, 1]\n",
    "print np.corrcoef(X_big['senior'], X_big['relocation'])[0, 1]\n",
    "print np.corrcoef(X_big['senior'], X_big['Houston'])[0, 1]\n",
    "print np.corrcoef(X_big['senior'], X_big['Memphis'])[0, 1]\n",
    "print np.corrcoef(X_big['senior'], X_big['TN'])[0, 1]\n",
    "print np.corrcoef(X_big['senior'], X_big['Houston'])[0, 1]\n",
    "print np.corrcoef(X_big['sr'], X_big['relocation'])[0, 1]\n",
    "print np.corrcoef(X_big['sr'], X_big['Houston'])[0, 1]\n",
    "print np.corrcoef(X_big['sr'], X_big['Memphis'])[0, 1]\n",
    "print np.corrcoef(X_big['sr'], X_big['TN'])[0, 1]\n",
    "print np.corrcoef(X_big['relocation'], X_big['Houston'])[0, 1]\n",
    "print np.corrcoef(X_big['relocation'], X_big['Memphis'])[0, 1]\n",
    "print np.corrcoef(X_big['relocation'], X_big['TN'])[0, 1]\n",
    "print np.corrcoef(X_big['Houston'], X_big['Memphis'])[0, 1]\n",
    "print np.corrcoef(X_big['Houston'], X_big['TN'])[0, 1]\n",
    "print np.corrcoef(X_big['Memphis'], X_big['TN'])[0, 1]"
   ]
  },
  {
   "cell_type": "code",
   "execution_count": 68,
   "metadata": {
    "collapsed": true
   },
   "outputs": [],
   "source": [
    "del X_big['TN']"
   ]
  },
  {
   "cell_type": "code",
   "execution_count": 69,
   "metadata": {
    "collapsed": true
   },
   "outputs": [],
   "source": [
    "model_big = st.MNLogit(y, X_big)"
   ]
  },
  {
   "cell_type": "code",
   "execution_count": 146,
   "metadata": {
    "collapsed": false
   },
   "outputs": [],
   "source": [
    "model_big_fit = model_big.fit(method = 'bfgs')"
   ]
  },
  {
   "cell_type": "code",
   "execution_count": 71,
   "metadata": {
    "collapsed": false
   },
   "outputs": [
    {
     "data": {
      "text/html": [
       "<table class=\"simpletable\">\n",
       "<caption>MNLogit Regression Results</caption>\n",
       "<tr>\n",
       "  <th>Dep. Variable:</th>     <td>sal_dummy</td>    <th>  No. Observations:  </th>  <td>   398</td>  \n",
       "</tr>\n",
       "<tr>\n",
       "  <th>Model:</th>              <td>MNLogit</td>     <th>  Df Residuals:      </th>  <td>   392</td>  \n",
       "</tr>\n",
       "<tr>\n",
       "  <th>Method:</th>               <td>MLE</td>       <th>  Df Model:          </th>  <td>     5</td>  \n",
       "</tr>\n",
       "<tr>\n",
       "  <th>Date:</th>          <td>Thu, 07 Jul 2016</td> <th>  Pseudo R-squ.:     </th>  <td>0.6628</td>  \n",
       "</tr>\n",
       "<tr>\n",
       "  <th>Time:</th>              <td>06:42:37</td>     <th>  Log-Likelihood:    </th> <td> -92.599</td> \n",
       "</tr>\n",
       "<tr>\n",
       "  <th>converged:</th>           <td>False</td>      <th>  LL-Null:           </th> <td> -274.58</td> \n",
       "</tr>\n",
       "<tr>\n",
       "  <th> </th>                      <td> </td>        <th>  LLR p-value:       </th> <td>1.716e-76</td>\n",
       "</tr>\n",
       "</table>\n",
       "<table class=\"simpletable\">\n",
       "<tr>\n",
       "  <th>sal_dummy=1</th>    <th>coef</th>     <th>std err</th>      <th>z</th>      <th>P>|z|</th> <th>[95.0% Conf. Int.]</th> \n",
       "</tr>\n",
       "<tr>\n",
       "  <th>senior</th>      <td>    0.4760</td> <td>    1.059</td> <td>    0.449</td> <td> 0.653</td> <td>   -1.600     2.552</td>\n",
       "</tr>\n",
       "<tr>\n",
       "  <th>sr</th>          <td>   -0.2179</td> <td>    1.166</td> <td>   -0.187</td> <td> 0.852</td> <td>   -2.503     2.067</td>\n",
       "</tr>\n",
       "<tr>\n",
       "  <th>relocation</th>  <td>    1.4349</td> <td>    1.105</td> <td>    1.298</td> <td> 0.194</td> <td>   -0.731     3.601</td>\n",
       "</tr>\n",
       "<tr>\n",
       "  <th>Houston</th>     <td>   -6.1431</td> <td>    1.022</td> <td>   -6.013</td> <td> 0.000</td> <td>   -8.145    -4.141</td>\n",
       "</tr>\n",
       "<tr>\n",
       "  <th>Memphis</th>     <td>   -9.2523</td> <td>    4.424</td> <td>   -2.091</td> <td> 0.037</td> <td>  -17.924    -0.581</td>\n",
       "</tr>\n",
       "<tr>\n",
       "  <th>intercept</th>   <td>    1.6879</td> <td>    0.207</td> <td>    8.150</td> <td> 0.000</td> <td>    1.282     2.094</td>\n",
       "</tr>\n",
       "</table>"
      ],
      "text/plain": [
       "<class 'statsmodels.iolib.summary.Summary'>\n",
       "\"\"\"\n",
       "                          MNLogit Regression Results                          \n",
       "==============================================================================\n",
       "Dep. Variable:              sal_dummy   No. Observations:                  398\n",
       "Model:                        MNLogit   Df Residuals:                      392\n",
       "Method:                           MLE   Df Model:                            5\n",
       "Date:                Thu, 07 Jul 2016   Pseudo R-squ.:                  0.6628\n",
       "Time:                        06:42:37   Log-Likelihood:                -92.599\n",
       "converged:                      False   LL-Null:                       -274.58\n",
       "                                        LLR p-value:                 1.716e-76\n",
       "===============================================================================\n",
       "sal_dummy=1       coef    std err          z      P>|z|      [95.0% Conf. Int.]\n",
       "-------------------------------------------------------------------------------\n",
       "senior          0.4760      1.059      0.449      0.653        -1.600     2.552\n",
       "sr             -0.2179      1.166     -0.187      0.852        -2.503     2.067\n",
       "relocation      1.4349      1.105      1.298      0.194        -0.731     3.601\n",
       "Houston        -6.1431      1.022     -6.013      0.000        -8.145    -4.141\n",
       "Memphis        -9.2523      4.424     -2.091      0.037       -17.924    -0.581\n",
       "intercept       1.6879      0.207      8.150      0.000         1.282     2.094\n",
       "===============================================================================\n",
       "\"\"\""
      ]
     },
     "execution_count": 71,
     "metadata": {},
     "output_type": "execute_result"
    }
   ],
   "source": [
    "model_big_fit.summary()"
   ]
  },
  {
   "cell_type": "code",
   "execution_count": 72,
   "metadata": {
    "collapsed": true
   },
   "outputs": [],
   "source": [
    "del X_big['senior']\n",
    "del X_big['sr']\n",
    "del X_big['relocation']"
   ]
  },
  {
   "cell_type": "markdown",
   "metadata": {
    "focus": false,
    "id": "9c9274ef-c9f5-4d56-b286-ecc8709eff9f"
   },
   "source": [
    "#### Rebuild this model with scikit-learn.\n",
    "- You can either create the dummy features manually or use the `dmatrix` function from `patsy`\n",
    "- Remember to scale the feature variables as well!\n"
   ]
  },
  {
   "cell_type": "code",
   "execution_count": 79,
   "metadata": {
    "collapsed": false
   },
   "outputs": [
    {
     "data": {
      "text/plain": [
       "LogisticRegression(C=1.0, class_weight=None, dual=False, fit_intercept=True,\n",
       "          intercept_scaling=1, max_iter=100, multi_class='ovr', n_jobs=1,\n",
       "          penalty='l2', random_state=None, solver='liblinear', tol=0.0001,\n",
       "          verbose=0, warm_start=False)"
      ]
     },
     "execution_count": 79,
     "metadata": {},
     "output_type": "execute_result"
    }
   ],
   "source": [
    "skl_model = lm.LogisticRegression()\n",
    "\n",
    "features = ['Houston', 'Memphis']\n",
    "\n",
    "X = X_big[features]\n",
    "X['intercept'] = 1\n",
    "y = sal_df['sal_dummy']\n",
    "#this is a binary column: was the salary over median salary or not?\n",
    "\n",
    "skl_model.fit(X, y)"
   ]
  },
  {
   "cell_type": "code",
   "execution_count": 81,
   "metadata": {
    "collapsed": false
   },
   "outputs": [
    {
     "data": {
      "text/html": [
       "<div>\n",
       "<table border=\"1\" class=\"dataframe\">\n",
       "  <thead>\n",
       "    <tr style=\"text-align: right;\">\n",
       "      <th></th>\n",
       "      <th>Houston</th>\n",
       "      <th>Memphis</th>\n",
       "      <th>intercept</th>\n",
       "    </tr>\n",
       "  </thead>\n",
       "  <tbody>\n",
       "    <tr>\n",
       "      <th>0</th>\n",
       "      <td>0.0</td>\n",
       "      <td>0.0</td>\n",
       "      <td>1</td>\n",
       "    </tr>\n",
       "    <tr>\n",
       "      <th>1</th>\n",
       "      <td>0.0</td>\n",
       "      <td>0.0</td>\n",
       "      <td>1</td>\n",
       "    </tr>\n",
       "    <tr>\n",
       "      <th>2</th>\n",
       "      <td>0.0</td>\n",
       "      <td>0.0</td>\n",
       "      <td>1</td>\n",
       "    </tr>\n",
       "    <tr>\n",
       "      <th>3</th>\n",
       "      <td>0.0</td>\n",
       "      <td>0.0</td>\n",
       "      <td>1</td>\n",
       "    </tr>\n",
       "    <tr>\n",
       "      <th>4</th>\n",
       "      <td>0.0</td>\n",
       "      <td>0.0</td>\n",
       "      <td>1</td>\n",
       "    </tr>\n",
       "  </tbody>\n",
       "</table>\n",
       "</div>"
      ],
      "text/plain": [
       "   Houston  Memphis  intercept\n",
       "0      0.0      0.0          1\n",
       "1      0.0      0.0          1\n",
       "2      0.0      0.0          1\n",
       "3      0.0      0.0          1\n",
       "4      0.0      0.0          1"
      ]
     },
     "execution_count": 81,
     "metadata": {},
     "output_type": "execute_result"
    }
   ],
   "source": [
    "X.head()"
   ]
  },
  {
   "cell_type": "code",
   "execution_count": 82,
   "metadata": {
    "collapsed": false
   },
   "outputs": [],
   "source": [
    "X_big['probability'] = skl_model.predict_proba(X).T[1]"
   ]
  },
  {
   "cell_type": "code",
   "execution_count": 84,
   "metadata": {
    "collapsed": false
   },
   "outputs": [
    {
     "data": {
      "text/plain": [
       "0    0.810225\n",
       "1    0.810225\n",
       "2    0.810225\n",
       "3    0.810225\n",
       "4    0.810225\n",
       "Name: probability, dtype: float64"
      ]
     },
     "execution_count": 84,
     "metadata": {},
     "output_type": "execute_result"
    }
   ],
   "source": [
    "X_big['probability'].head()"
   ]
  },
  {
   "cell_type": "code",
   "execution_count": 85,
   "metadata": {
    "collapsed": false
   },
   "outputs": [
    {
     "data": {
      "text/plain": [
       "array([[184,  31],\n",
       "       [  1, 182]])"
      ]
     },
     "execution_count": 85,
     "metadata": {},
     "output_type": "execute_result"
    }
   ],
   "source": [
    "predictions = skl_model.predict(X)\n",
    "\n",
    "cm = confusion_matrix(y, predictions)\n",
    "cm"
   ]
  },
  {
   "cell_type": "code",
   "execution_count": 87,
   "metadata": {
    "collapsed": false
   },
   "outputs": [
    {
     "data": {
      "text/plain": [
       "213"
      ]
     },
     "execution_count": 87,
     "metadata": {},
     "output_type": "execute_result"
    }
   ],
   "source": [
    "sum(predictions)"
   ]
  },
  {
   "cell_type": "markdown",
   "metadata": {},
   "source": [
    "Therefore, the right-hand entries in the confusion matrix represent the true and false positives (since 182 + 31 = 213)."
   ]
  },
  {
   "cell_type": "code",
   "execution_count": 86,
   "metadata": {
    "collapsed": true
   },
   "outputs": [],
   "source": [
    "import matplotlib.patheffects as path_effects\n",
    "\n",
    "def plot_confusion_matrix(cm, title='Confusion matrix', labels=['Positive','Negative'], cmap=plt.cm.Blues):\n",
    "    \n",
    "    plt.figure(figsize=(7,7))\n",
    "    plt.imshow(cm, interpolation='nearest', cmap=cmap)\n",
    "    \n",
    "    tick_marks = np.arange(2)\n",
    "    plt.xticks(tick_marks, labels)\n",
    "    plt.yticks(tick_marks, labels)\n",
    "        \n",
    "    plt.title(title)\n",
    "    plt.ylabel('True label')\n",
    "    plt.xlabel('Predicted label')\n",
    "    plt.tight_layout()\n",
    "    \n",
    "    width, height = cm.shape\n",
    "    \n",
    "    for x in xrange(width):\n",
    "        for y in xrange(height):\n",
    "            plt.annotate(str(cm[x][y]), xy=(y, x), \n",
    "                        horizontalalignment='center',\n",
    "                        verticalalignment='center',\n",
    "                        color = 'white',\n",
    "                        fontsize=18).set_path_effects([path_effects.Stroke(linewidth=1, foreground='black'),\n",
    "                                                       path_effects.Normal()]) #The last line here adds a text outline"
   ]
  },
  {
   "cell_type": "code",
   "execution_count": 90,
   "metadata": {
    "collapsed": false
   },
   "outputs": [
    {
     "data": {
      "image/png": "[encoded data removed]",
      "text/plain": [
       "<matplotlib.figure.Figure at 0x11db7e250>"
      ]
     },
     "metadata": {},
     "output_type": "display_data"
    }
   ],
   "source": [
    "plot_confusion_matrix(cm, title='Confusion matrix - Data Science Salaries', labels=['Under Median','Over Median'], \\\n",
    "                      cmap=plt.cm.Greens)"
   ]
  },
  {
   "cell_type": "code",
   "execution_count": 91,
   "metadata": {
    "collapsed": false
   },
   "outputs": [
    {
     "data": {
      "text/plain": [
       "(array([ 0.        ,  0.14418605,  1.        ]),\n",
       " array([ 0.        ,  0.99453552,  1.        ]),\n",
       " array([2, 1, 0]))"
      ]
     },
     "execution_count": 91,
     "metadata": {},
     "output_type": "execute_result"
    }
   ],
   "source": [
    "from sklearn.metrics import roc_curve\n",
    "\n",
    "roc = roc_curve(y, predictions)\n",
    "roc"
   ]
  },
  {
   "cell_type": "code",
   "execution_count": 102,
   "metadata": {
    "collapsed": false
   },
   "outputs": [],
   "source": [
    "from sklearn.metrics import roc_auc_score\n",
    "from sklearn.cross_validation import train_test_split\n",
    "\n",
    "pred1 = skl_model.predict_proba(X).T[1]\n",
    "roc = roc_curve(y, pred1)\n",
    "\n",
    "def getROCcurve(roc, title='ROC Curve', xlabel ='% of False Positives', ylabel = '% of True Positives'):\n",
    "    \n",
    "    fpr, tpr, thresholds = roc\n",
    "    \n",
    "    fig,ax = plt.subplots()\n",
    "    ax.plot(fpr, tpr, label='ROC Curve')\n",
    "\n",
    "    fig.set_size_inches(7, 6, forward=True)\n",
    "    plt.xlabel(xlabel)\n",
    "    plt.ylabel(ylabel)\n",
    "    plt.title(title)\n",
    "    plt.legend(loc='best')\n",
    "    return"
   ]
  },
  {
   "cell_type": "code",
   "execution_count": 103,
   "metadata": {
    "collapsed": false
   },
   "outputs": [
    {
     "data": {
      "image/png": "[encoded data removed]",
      "text/plain": [
       "<matplotlib.figure.Figure at 0x11f5fa790>"
      ]
     },
     "metadata": {},
     "output_type": "display_data"
    }
   ],
   "source": [
    "getROCcurve(roc, title='ROC Curve', xlabel ='% of False Positives', ylabel = '% of True Positives')"
   ]
  },
  {
   "cell_type": "markdown",
   "metadata": {
    "focus": false,
    "id": "9367beff-72ba-4768-a0ba-a50b335de61d"
   },
   "source": [
    "#### Use cross-validation in scikit-learn to evaluate the model above. \n",
    "- Evaluate the accuracy, AUC, precision and recall of the model. \n",
    "- Discuss the differences and explain when you want a high-recall or a high-precision model in this scenario."
   ]
  },
  {
   "cell_type": "code",
   "execution_count": 104,
   "metadata": {
    "collapsed": false,
    "focus": false,
    "id": "269b9e7c-60b5-4a06-8255-881d7395bc1b"
   },
   "outputs": [],
   "source": [
    "from sklearn.metrics import accuracy_score\n",
    "from sklearn.metrics import precision_score\n",
    "from sklearn.metrics import recall_score\n",
    "from sklearn.metrics import auc #area under the curve -- which curve?"
   ]
  },
  {
   "cell_type": "code",
   "execution_count": 123,
   "metadata": {
    "collapsed": false
   },
   "outputs": [
    {
     "data": {
      "text/html": [
       "<div>\n",
       "<table border=\"1\" class=\"dataframe\">\n",
       "  <thead>\n",
       "    <tr style=\"text-align: right;\">\n",
       "      <th></th>\n",
       "      <th>Houston</th>\n",
       "      <th>Memphis</th>\n",
       "      <th>intercept</th>\n",
       "    </tr>\n",
       "  </thead>\n",
       "  <tbody>\n",
       "    <tr>\n",
       "      <th>0</th>\n",
       "      <td>0.0</td>\n",
       "      <td>0.0</td>\n",
       "      <td>1</td>\n",
       "    </tr>\n",
       "    <tr>\n",
       "      <th>1</th>\n",
       "      <td>0.0</td>\n",
       "      <td>0.0</td>\n",
       "      <td>1</td>\n",
       "    </tr>\n",
       "    <tr>\n",
       "      <th>2</th>\n",
       "      <td>0.0</td>\n",
       "      <td>0.0</td>\n",
       "      <td>1</td>\n",
       "    </tr>\n",
       "    <tr>\n",
       "      <th>3</th>\n",
       "      <td>0.0</td>\n",
       "      <td>0.0</td>\n",
       "      <td>1</td>\n",
       "    </tr>\n",
       "    <tr>\n",
       "      <th>4</th>\n",
       "      <td>0.0</td>\n",
       "      <td>0.0</td>\n",
       "      <td>1</td>\n",
       "    </tr>\n",
       "  </tbody>\n",
       "</table>\n",
       "</div>"
      ],
      "text/plain": [
       "   Houston  Memphis  intercept\n",
       "0      0.0      0.0          1\n",
       "1      0.0      0.0          1\n",
       "2      0.0      0.0          1\n",
       "3      0.0      0.0          1\n",
       "4      0.0      0.0          1"
      ]
     },
     "execution_count": 123,
     "metadata": {},
     "output_type": "execute_result"
    }
   ],
   "source": [
    "X.head()"
   ]
  },
  {
   "cell_type": "code",
   "execution_count": 124,
   "metadata": {
    "collapsed": false
   },
   "outputs": [
    {
     "data": {
      "text/plain": [
       "array([ 0.8       ,  1.        ,  0.925     ,  0.98734177,  0.88607595])"
      ]
     },
     "execution_count": 124,
     "metadata": {},
     "output_type": "execute_result"
    }
   ],
   "source": [
    "cross_val_score(skl_model, X, y, n_jobs=1, cv=5)"
   ]
  },
  {
   "cell_type": "code",
   "execution_count": 125,
   "metadata": {
    "collapsed": false
   },
   "outputs": [
    {
     "data": {
      "text/plain": [
       "0.9196835443037974"
      ]
     },
     "execution_count": 125,
     "metadata": {},
     "output_type": "execute_result"
    }
   ],
   "source": [
    "cross_val_score(skl_model, X, y, n_jobs=1, cv=5).mean()"
   ]
  },
  {
   "cell_type": "code",
   "execution_count": 105,
   "metadata": {
    "collapsed": false
   },
   "outputs": [
    {
     "name": "stdout",
     "output_type": "stream",
     "text": [
      "accuracy: 0.91959798995\n",
      "precision: 0.854460093897\n",
      "recall: 0.994535519126\n",
      "area under curve: 0.925174736307\n"
     ]
    }
   ],
   "source": [
    "print 'accuracy: %s' %accuracy_score(y, predictions)\n",
    "print 'precision: %s' %precision_score(y, predictions)\n",
    "print 'recall: %s' %recall_score(y, predictions)\n",
    "print 'area under curve: %s' %roc_auc_score(y, predictions)"
   ]
  },
  {
   "cell_type": "markdown",
   "metadata": {},
   "source": [
    "Our recall (TP/P) is very good; this means that we are identifying a large proportion of the positives correctly.  On the other hand, our precision (TP/(TP + FP)) is not quite as good, meaning that our model is identifying some false positives along with the nice proportion of true positives.  In our example, some of our salaries are identified as being over the median when they are, in fact, under it.  "
   ]
  },
  {
   "cell_type": "markdown",
   "metadata": {
    "focus": false,
    "id": "8c22664b-92e4-4fc2-b7ac-fbac865845d3"
   },
   "source": [
    "#### Compare L1 and L2 regularization for this logistic regression model. What effect does this have on the coefficients learned?"
   ]
  },
  {
   "cell_type": "code",
   "execution_count": 127,
   "metadata": {
    "collapsed": false,
    "focus": false,
    "id": "172fd952-5012-4630-81f4-1206da6eb820"
   },
   "outputs": [
    {
     "name": "stderr",
     "output_type": "stream",
     "text": [
      "/anaconda/lib/python2.7/site-packages/ipykernel/__main__.py:6: SettingWithCopyWarning:\n",
      "\n",
      "\n",
      "A value is trying to be set on a copy of a slice from a DataFrame.\n",
      "Try using .loc[row_indexer,col_indexer] = value instead\n",
      "\n",
      "See the caveats in the documentation: http://pandas.pydata.org/pandas-docs/stable/indexing.html#indexing-view-versus-copy\n",
      "\n"
     ]
    },
    {
     "data": {
      "text/plain": [
       "LogisticRegression(C=1.0, class_weight=None, dual=False, fit_intercept=True,\n",
       "          intercept_scaling=1, max_iter=100, multi_class='ovr', n_jobs=1,\n",
       "          penalty='l1', random_state=None, solver='liblinear', tol=0.0001,\n",
       "          verbose=0, warm_start=False)"
      ]
     },
     "execution_count": 127,
     "metadata": {},
     "output_type": "execute_result"
    }
   ],
   "source": [
    "model_l1 = lm.LogisticRegression(penalty = 'l1')\n",
    "\n",
    "features = ['Houston', 'Memphis']\n",
    "\n",
    "X_l1 = X_big[features]\n",
    "X_l1['intercept'] = 1\n",
    "y = sal_df['sal_dummy']\n",
    "#this is a binary column: was the salary over median salary or not?\n",
    "\n",
    "model_l1.fit(X_l1, y)"
   ]
  },
  {
   "cell_type": "code",
   "execution_count": 128,
   "metadata": {
    "collapsed": false,
    "focus": false,
    "id": "56cc8854-d722-411d-a6c7-e86310710f67"
   },
   "outputs": [],
   "source": [
    "X_big['prob_l1'] = model_l1.predict_proba(X).T[1]"
   ]
  },
  {
   "cell_type": "code",
   "execution_count": 129,
   "metadata": {
    "collapsed": false
   },
   "outputs": [
    {
     "data": {
      "text/plain": [
       "array([[184,  31],\n",
       "       [  1, 182]])"
      ]
     },
     "execution_count": 129,
     "metadata": {},
     "output_type": "execute_result"
    }
   ],
   "source": [
    "predictions = model_l1.predict(X)\n",
    "\n",
    "cm = confusion_matrix(y, predictions)\n",
    "cm"
   ]
  },
  {
   "cell_type": "code",
   "execution_count": 131,
   "metadata": {
    "collapsed": false
   },
   "outputs": [
    {
     "data": {
      "image/png": "[encoded data removed]",
      "text/plain": [
       "<matplotlib.figure.Figure at 0x11f775210>"
      ]
     },
     "metadata": {},
     "output_type": "display_data"
    }
   ],
   "source": [
    "plot_confusion_matrix(cm, title='Confusion matrix - Data Science Salaries', labels=['Under Median','Over Median'], \\\n",
    "                      cmap=plt.cm.Reds)"
   ]
  },
  {
   "cell_type": "markdown",
   "metadata": {},
   "source": [
    "L2:"
   ]
  },
  {
   "cell_type": "code",
   "execution_count": 132,
   "metadata": {
    "collapsed": false
   },
   "outputs": [
    {
     "name": "stderr",
     "output_type": "stream",
     "text": [
      "/anaconda/lib/python2.7/site-packages/ipykernel/__main__.py:6: SettingWithCopyWarning:\n",
      "\n",
      "\n",
      "A value is trying to be set on a copy of a slice from a DataFrame.\n",
      "Try using .loc[row_indexer,col_indexer] = value instead\n",
      "\n",
      "See the caveats in the documentation: http://pandas.pydata.org/pandas-docs/stable/indexing.html#indexing-view-versus-copy\n",
      "\n"
     ]
    },
    {
     "data": {
      "text/plain": [
       "LogisticRegression(C=1.0, class_weight=None, dual=False, fit_intercept=True,\n",
       "          intercept_scaling=1, max_iter=100, multi_class='ovr', n_jobs=1,\n",
       "          penalty='l2', random_state=None, solver='liblinear', tol=0.0001,\n",
       "          verbose=0, warm_start=False)"
      ]
     },
     "execution_count": 132,
     "metadata": {},
     "output_type": "execute_result"
    }
   ],
   "source": [
    "model_l2 = lm.LogisticRegression(penalty = 'l2')\n",
    "\n",
    "features = ['Houston', 'Memphis']\n",
    "\n",
    "X_l2 = X_big[features]\n",
    "X_l2['intercept'] = 1\n",
    "y = sal_df['sal_dummy']\n",
    "#this is a binary column: was the salary over median salary or not?\n",
    "\n",
    "model_l2.fit(X_l2, y)"
   ]
  },
  {
   "cell_type": "code",
   "execution_count": 133,
   "metadata": {
    "collapsed": true
   },
   "outputs": [],
   "source": [
    "X_big['prob_l2'] = model_l2.predict_proba(X).T[1]"
   ]
  },
  {
   "cell_type": "code",
   "execution_count": 134,
   "metadata": {
    "collapsed": false
   },
   "outputs": [
    {
     "data": {
      "text/plain": [
       "array([[184,  31],\n",
       "       [  1, 182]])"
      ]
     },
     "execution_count": 134,
     "metadata": {},
     "output_type": "execute_result"
    }
   ],
   "source": [
    "predictions = model_l2.predict(X)\n",
    "\n",
    "cm = confusion_matrix(y, predictions)\n",
    "cm"
   ]
  },
  {
   "cell_type": "code",
   "execution_count": 136,
   "metadata": {
    "collapsed": false
   },
   "outputs": [
    {
     "data": {
      "image/png": "[encoded data removed]",
      "text/plain": [
       "<matplotlib.figure.Figure at 0x11f575290>"
      ]
     },
     "metadata": {},
     "output_type": "display_data"
    }
   ],
   "source": [
    "plot_confusion_matrix(cm, title='Confusion matrix - Data Science Salaries', labels=['Under Median','Over Median'], \\\n",
    "                      cmap=plt.cm.Blues)"
   ]
  },
  {
   "cell_type": "markdown",
   "metadata": {},
   "source": [
    "L1 vs L2 penalty does not seem to make a difference in the predictions of these models; this is perhaps because of the very large proportion of lower-salaried Data Science job results found in Tennessee and Texas."
   ]
  },
  {
   "cell_type": "markdown",
   "metadata": {
    "focus": false,
    "id": "3be94357-e551-4094-b784-2df039216d33"
   },
   "source": [
    "### BONUS "
   ]
  },
  {
   "cell_type": "markdown",
   "metadata": {
    "focus": false,
    "id": "db045898-1d2d-4af2-8e79-437c4c7546b4"
   },
   "source": [
    "#### Bonus: Use Count Vectorizer from scikit-learn to create features from the text summaries. \n",
    "- Examine using count or binary features in the model\n",
    "- Re-evaluate the logistic regression model using these. Does this improve the model performance? \n",
    "- What text features are the most valuable? "
   ]
  },
  {
   "cell_type": "code",
   "execution_count": null,
   "metadata": {
    "collapsed": false,
    "focus": false,
    "id": "4239e458-28bd-4675-8db3-c1d9c02b9854"
   },
   "outputs": [],
   "source": []
  },
  {
   "cell_type": "code",
   "execution_count": 24,
   "metadata": {
    "collapsed": false,
    "focus": false,
    "id": "fec80936-37bc-4922-89bd-b5d615566c9c"
   },
   "outputs": [],
   "source": [
    "## YOUR CODE HERE"
   ]
  },
  {
   "cell_type": "markdown",
   "metadata": {
    "focus": false,
    "id": "d42b9fd8-39d5-416a-b40b-7410e6396c11"
   },
   "source": [
    "#### Re-test L1 and L2 regularization. You can use LogisticRegressionCV to find the optimal reguarlization parameters. \n",
    "- Re-test what text features are most valuable.  \n",
    "- How do L1 and L2 change the coefficients?"
   ]
  },
  {
   "cell_type": "code",
   "execution_count": 25,
   "metadata": {
    "collapsed": false,
    "focus": false,
    "id": "7570e237-c8cc-4e26-b569-7aee10627e79"
   },
   "outputs": [],
   "source": [
    "## YOUR CODE HERE"
   ]
  },
  {
   "cell_type": "code",
   "execution_count": null,
   "metadata": {
    "collapsed": true,
    "focus": false,
    "id": "e3a0c83d-e3b8-4bed-b864-7e795b34a3d4"
   },
   "outputs": [],
   "source": []
  }
 ],
 "metadata": {
  "kernelspec": {
   "display_name": "Python 2",
   "language": "python",
   "name": "python2"
  },
  "language_info": {
   "codemirror_mode": {
    "name": "ipython",
    "version": 2
   },
   "file_extension": ".py",
   "mimetype": "text/x-python",
   "name": "python",
   "nbconvert_exporter": "python",
   "pygments_lexer": "ipython2",
   "version": "2.7.11"
  }
 },
 "nbformat": 4,
 "nbformat_minor": 0
}
