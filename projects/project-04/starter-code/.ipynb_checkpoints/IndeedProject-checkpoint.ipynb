{
 "cells": [
  {
   "cell_type": "markdown",
   "metadata": {
    "focus": false,
    "id": "69b9a648-bcc7-490d-9f9b-ea244d156bd6"
   },
   "source": [
    "# Web Scraping for Indeed.com & Predicting Salaries"
   ]
  },
  {
   "cell_type": "markdown",
   "metadata": {
    "focus": false,
    "id": "34681254-c802-462f-829d-8894d0772d08"
   },
   "source": [
    "In this project, we will practice two major skills: collecting data by scraping a website and then building a binary predictor with Logistic Regression.\n",
    "\n",
    "We are going to collect salary information on data science jobs in a variety of markets. Then using the location, title and summary of the job we will attempt to predict the salary of the job. For job posting sites, this would be extraordinarily useful. While most listings DO NOT come with salary information (as you will see in this exercise), being to able extrapolate or predict the expected salaries from other listings can help guide negotiations.\n",
    "\n",
    "Normally, we could use regression for this task; however, we will convert this problem into classification and use Logistic Regression.\n",
    "\n",
    "- Question: Why would we want this to be a classification problem?\n",
    "- Answer: While more precision may be better, there is a fair amount of natural variance in job salaries - predicting a range be may be useful.\n",
    "\n",
    "Therefore, the first part of the assignment will be focused on scraping Indeed.com. In the second, we'll focus on using listings with salary information to build a model and predict additional salaries."
   ]
  },
  {
   "cell_type": "markdown",
   "metadata": {
    "focus": false,
    "id": "a948d79c-5527-4c0d-ab23-f5d43ce72056"
   },
   "source": [
    "### Scraping job listings from Indeed.com"
   ]
  },
  {
   "cell_type": "markdown",
   "metadata": {
    "focus": true,
    "id": "7203e0c9-e437-4802-a6ad-7dc464f94436"
   },
   "source": [
    "We will be scraping job listings from Indeed.com using BeautifulSoup. Luckily, Indeed.com is a simple text page where we can easily find relevant entries.\n",
    "\n",
    "First, look at the source of an Indeed.com page: (http://www.indeed.com/jobs?q=data+scientist+%2420%2C000&l=New+York&start=10\")\n",
    "\n",
    "Notice, each job listing is underneath a `div` tag with a class name of `result`. We can use BeautifulSoup to extract those. "
   ]
  },
  {
   "cell_type": "markdown",
   "metadata": {
    "focus": false,
    "id": "9732c901-ae26-4160-8376-42e22dd327df"
   },
   "source": [
    "#### Setup a request (using `requests`) to the URL below. Use BeautifulSoup to parse the page and extract all results (HINT: Look for div tags with class name result)"
   ]
  },
  {
   "cell_type": "code",
   "execution_count": 1,
   "metadata": {
    "collapsed": false,
    "focus": false,
    "id": "e915023e-6b0d-4982-af2a-b1e0355f4927"
   },
   "outputs": [],
   "source": [
    "pre_URL = \"http://www.indeed.com/jobs?q=data+scientist+%2420%2C000&l=New+York\""
   ]
  },
  {
   "cell_type": "code",
   "execution_count": 1,
   "metadata": {
    "collapsed": true,
    "focus": false,
    "id": "2efefc73-064a-482d-b3b5-ddf5508cb4ec"
   },
   "outputs": [],
   "source": [
    "import requests\n",
    "import bs4\n",
    "from bs4 import BeautifulSoup\n",
    "import pandas as pd"
   ]
  },
  {
   "cell_type": "code",
   "execution_count": 3,
   "metadata": {
    "collapsed": false
   },
   "outputs": [],
   "source": [
    "pre_indeed = requests.get(pre_URL)"
   ]
  },
  {
   "cell_type": "code",
   "execution_count": 4,
   "metadata": {
    "collapsed": false
   },
   "outputs": [],
   "source": [
    "pre_soup = BeautifulSoup(pre_indeed.content, \"lxml\")"
   ]
  },
  {
   "cell_type": "markdown",
   "metadata": {},
   "source": [
    "Run cell below to see what text-only results look like:"
   ]
  },
  {
   "cell_type": "code",
   "execution_count": 5,
   "metadata": {
    "collapsed": false
   },
   "outputs": [],
   "source": [
    "#pre_count = 0\n",
    "#for i in pre_soup.findAll('div', class_ = '  row result'):\n",
    "#    print pre_count, i.text\n",
    "#    print '\\n'\n",
    "#    pre_count += 1"
   ]
  },
  {
   "cell_type": "markdown",
   "metadata": {
    "focus": false,
    "id": "f1eddb90-4ba8-483c-a229-77e93aa53119"
   },
   "source": [
    "### Write 4 functions to extract each item: location, company, job, and salary.\n",
    "\n",
    "example: \n",
    "```python\n",
    "def extract_location_from_result(result):\n",
    "    return result.find ...\n",
    "```\n",
    "\n",
    "\n",
    "- Make sure these functions are robust and can handle cases where the data/field may not be available.\n",
    "- Test the functions on the results above"
   ]
  },
  {
   "cell_type": "code",
   "execution_count": 2,
   "metadata": {
    "collapsed": false
   },
   "outputs": [],
   "source": [
    "def get_jobtitle(result):\n",
    "    '''This function constructs a list containing each job title.'''\n",
    "    jobtitle_list = []\n",
    "    for i in result.findAll('a', class_ = 'jobtitle turnstileLink'): \n",
    "        jobtitle_list.append(str(i.text.encode('utf8')))\n",
    "    return jobtitle_list\n",
    "\n",
    "def get_location(result):\n",
    "    '''This function constructs a list containing each job location.'''\n",
    "    location_list = []\n",
    "    for i in result.findAll('span', class_ = 'location'):\n",
    "        location_list.append(str(i.text.encode('utf8')))\n",
    "    return location_list\n",
    "\n",
    "def get_company(result):   \n",
    "    '''This function constructs a list containing each job company.'''\n",
    "    company_list = []\n",
    "    for i in result.findAll('span', class_ = 'company'):\n",
    "        company = str(i.text.encode('utf8'))\n",
    "        company = company.replace('\\n', '')\n",
    "        company = company.replace('    ', '')\n",
    "        company_list.append(company)\n",
    "    return company_list\n",
    "    \n",
    "def get_salary(result):\n",
    "    '''This function constructs a list containing each job salary.'''\n",
    "    salary_list = []\n",
    "    for i in result.findAll('td', class_ = 'snip'):\n",
    "        if i.find('nobr') != None:\n",
    "            salary_list.append(i.find('nobr').text)\n",
    "        else:\n",
    "            salary_list.append('NaN')\n",
    "    return salary_list\n",
    "\n",
    "def putitalltogether(result):\n",
    "    '''This function creates a dataframe whose columns are the lists produced by the functions it contains.'''\n",
    "    jobs = get_jobtitle(result)\n",
    "    locations = get_location(result)\n",
    "    companies = get_company(result)\n",
    "    salaries = get_salary(result)\n",
    "    return pd.DataFrame(zip(jobs, locations, companies, salaries),\\\n",
    "                        columns = ['title', 'location', 'company', 'salary']) "
   ]
  },
  {
   "cell_type": "markdown",
   "metadata": {},
   "source": [
    "Let's see what putitalltogether does with pre_soup:"
   ]
  },
  {
   "cell_type": "code",
   "execution_count": 7,
   "metadata": {
    "collapsed": false
   },
   "outputs": [
    {
     "data": {
      "text/html": [
       "<div>\n",
       "<table border=\"1\" class=\"dataframe\">\n",
       "  <thead>\n",
       "    <tr style=\"text-align: right;\">\n",
       "      <th></th>\n",
       "      <th>title</th>\n",
       "      <th>location</th>\n",
       "      <th>company</th>\n",
       "      <th>salary</th>\n",
       "    </tr>\n",
       "  </thead>\n",
       "  <tbody>\n",
       "    <tr>\n",
       "      <th>0</th>\n",
       "      <td>Junior Data Scientist</td>\n",
       "      <td>New York, NY</td>\n",
       "      <td>UncommonGoods</td>\n",
       "      <td>NaN</td>\n",
       "    </tr>\n",
       "    <tr>\n",
       "      <th>1</th>\n",
       "      <td>Sr. Data Scientist, Learning Services</td>\n",
       "      <td>New York, NY</td>\n",
       "      <td>Chegg</td>\n",
       "      <td>NaN</td>\n",
       "    </tr>\n",
       "    <tr>\n",
       "      <th>2</th>\n",
       "      <td>Data Scientist</td>\n",
       "      <td>New York, NY</td>\n",
       "      <td>Princeton Consulting</td>\n",
       "      <td>NaN</td>\n",
       "    </tr>\n",
       "    <tr>\n",
       "      <th>3</th>\n",
       "      <td>Data Scientist – Predictive Analytics</td>\n",
       "      <td>New York, NY</td>\n",
       "      <td>Brilliant Leap</td>\n",
       "      <td>$800 a day</td>\n",
       "    </tr>\n",
       "    <tr>\n",
       "      <th>4</th>\n",
       "      <td>Data Scientist</td>\n",
       "      <td>Yaphank, NY</td>\n",
       "      <td>ResourceHunt Group</td>\n",
       "      <td>$125,000 a year</td>\n",
       "    </tr>\n",
       "  </tbody>\n",
       "</table>\n",
       "</div>"
      ],
      "text/plain": [
       "                                   title      location               company  \\\n",
       "0                  Junior Data Scientist  New York, NY         UncommonGoods   \n",
       "1  Sr. Data Scientist, Learning Services  New York, NY                 Chegg   \n",
       "2                         Data Scientist  New York, NY  Princeton Consulting   \n",
       "3  Data Scientist – Predictive Analytics  New York, NY        Brilliant Leap   \n",
       "4                         Data Scientist   Yaphank, NY    ResourceHunt Group   \n",
       "\n",
       "            salary  \n",
       "0              NaN  \n",
       "1              NaN  \n",
       "2              NaN  \n",
       "3       $800 a day  \n",
       "4  $125,000 a year  "
      ]
     },
     "execution_count": 7,
     "metadata": {},
     "output_type": "execute_result"
    }
   ],
   "source": [
    "putitalltogether(pre_soup)"
   ]
  },
  {
   "cell_type": "markdown",
   "metadata": {
    "focus": false,
    "id": "34070e89-9521-4b45-90c8-57a6599aac68"
   },
   "source": [
    "Now, to scale up our scraping, we need to accumulate more results. We can do this by examining the URL above.\n",
    "\n",
    "- \"http://www.indeed.com/jobs?q=data+scientist+%2420%2C000&l=New+York&start=10\"\n",
    "\n",
    "There are two query parameters here we can alter to collect more results, the `l=New+York` and the `start=10`. The first controls the location of the results (so we can try a different city). The second controls where in the results to start and gives 10 results (thus, we can keep incrementing by 10 to go further in the list)."
   ]
  },
  {
   "cell_type": "markdown",
   "metadata": {
    "focus": false,
    "id": "e8beed7c-3e42-40c0-810f-5f67f8f885a0"
   },
   "source": [
    "#### Complete the following code to collect results from multiple cities and starting points. \n",
    "- Enter your city below to add it to the search\n",
    "- Remember to convert your salary to U.S. Dollars to match the other cities if the currency is different"
   ]
  },
  {
   "cell_type": "markdown",
   "metadata": {
    "collapsed": true,
    "focus": false,
    "id": "a9aa87ec-3575-4a01-a986-eb684f2c47d0"
   },
   "source": [
    "Let's scrape Indeed.com 'Data Scientist' job listings in the top 25 most populous cities in the United States (https://en.wikipedia.org/wiki/List_of_United_States_cities_by_population).  Let's also increase maximum number of search results per city to 1000."
   ]
  },
  {
   "cell_type": "code",
   "execution_count": 8,
   "metadata": {
    "collapsed": false,
    "focus": false,
    "id": "04b0f9af-540e-402f-8292-81748707c676"
   },
   "outputs": [],
   "source": [
    "url_template = ['http://www.indeed.com/jobs?q=data+scientist&l=', '&start=']\n",
    "\n",
    "max_results_per_city = 1000\n",
    "\n",
    "# Create empty dataframe with the columns we want; concatenate to it the new one generated for each city\n",
    "df = pd.DataFrame(columns=['title', 'location', 'company', 'salary', 'city', 'state'])\n",
    "\n",
    "for city in set(['New+York,+NY', 'Los+Angeles,+CA', 'Chicago,+IL', 'Houston,+TX', 'Philadelphia,+PA', 'Phoenix,+AZ', \\\n",
    "'San+Antonio,+TX', 'San+Diego,+CA', 'Dallas,+TX', 'San+Jose,+CA', 'Austin,+TX', 'Jacksonville,+FL', 'San+Francisco,+CA',\\\n",
    "'Indianapolis,+IN', 'Columbus,+OH', 'Fort+Worth,+TX', 'Charlotte,+NC', 'Seattle,+WA', 'Denver,+CO', 'El+Paso,+TX', \\\n",
    "'Detroit,+MI', 'Washington,+DC', 'Boston,+MA', 'Memphis,+TN', 'Nashville,+TN']):\n",
    "    for start in range(0, max_results_per_city, 10):\n",
    "        # Grab the results from the request (as above)\n",
    "        URL = url_template[0] + city + url_template[1] + str(start)\n",
    "        indeed = requests.get(URL)\n",
    "        soup = BeautifulSoup(indeed.content, \"lxml\")\n",
    "        # Append to the full set of results and \n",
    "        x = putitalltogether(soup)\n",
    "        nice_city = city.split(',')\n",
    "        state = nice_city[1]\n",
    "        state = state.replace('+', '')\n",
    "        nice_city = nice_city[0]\n",
    "        nice_city = nice_city.replace('+', ' ')\n",
    "        x['city'] = nice_city\n",
    "        x['state'] = state\n",
    "        df = pd.concat([x, df], axis = 0)          "
   ]
  },
  {
   "cell_type": "markdown",
   "metadata": {},
   "source": [
    "Each city's dataframe has its own index which remains unchanged following concatenation, so let's reset the main index now:"
   ]
  },
  {
   "cell_type": "code",
   "execution_count": 10,
   "metadata": {
    "collapsed": false
   },
   "outputs": [
    {
     "data": {
      "text/html": [
       "<div>\n",
       "<table border=\"1\" class=\"dataframe\">\n",
       "  <thead>\n",
       "    <tr style=\"text-align: right;\">\n",
       "      <th></th>\n",
       "      <th>title</th>\n",
       "      <th>location</th>\n",
       "      <th>company</th>\n",
       "      <th>salary</th>\n",
       "      <th>city</th>\n",
       "      <th>state</th>\n",
       "    </tr>\n",
       "  </thead>\n",
       "  <tbody>\n",
       "    <tr>\n",
       "      <th>0</th>\n",
       "      <td>Automated Driving Research Scientist – Real-ti...</td>\n",
       "      <td>Dearborn, MI</td>\n",
       "      <td>Ford Motor Company</td>\n",
       "      <td>NaN</td>\n",
       "      <td>Detroit</td>\n",
       "      <td>MI</td>\n",
       "    </tr>\n",
       "    <tr>\n",
       "      <th>1</th>\n",
       "      <td>Data Scientist</td>\n",
       "      <td>Dearborn, MI</td>\n",
       "      <td>Ciber</td>\n",
       "      <td>NaN</td>\n",
       "      <td>Detroit</td>\n",
       "      <td>MI</td>\n",
       "    </tr>\n",
       "    <tr>\n",
       "      <th>2</th>\n",
       "      <td>Data Scientist Engineer</td>\n",
       "      <td>Farmington Hills, MI</td>\n",
       "      <td>Mango Languages</td>\n",
       "      <td>NaN</td>\n",
       "      <td>Detroit</td>\n",
       "      <td>MI</td>\n",
       "    </tr>\n",
       "    <tr>\n",
       "      <th>3</th>\n",
       "      <td>Data Analytical Scientist</td>\n",
       "      <td>Detroit, MI</td>\n",
       "      <td>St John Hospital &amp; Medical Center</td>\n",
       "      <td>NaN</td>\n",
       "      <td>Detroit</td>\n",
       "      <td>MI</td>\n",
       "    </tr>\n",
       "    <tr>\n",
       "      <th>4</th>\n",
       "      <td>Descriptive Analytics - Data Scientist</td>\n",
       "      <td>Detroit, MI</td>\n",
       "      <td>St John Hospital &amp; Medical Center</td>\n",
       "      <td>NaN</td>\n",
       "      <td>Detroit</td>\n",
       "      <td>MI</td>\n",
       "    </tr>\n",
       "  </tbody>\n",
       "</table>\n",
       "</div>"
      ],
      "text/plain": [
       "                                               title              location  \\\n",
       "0  Automated Driving Research Scientist – Real-ti...          Dearborn, MI   \n",
       "1                                     Data Scientist          Dearborn, MI   \n",
       "2                            Data Scientist Engineer  Farmington Hills, MI   \n",
       "3                          Data Analytical Scientist           Detroit, MI   \n",
       "4             Descriptive Analytics - Data Scientist           Detroit, MI   \n",
       "\n",
       "                             company salary     city state  \n",
       "0                 Ford Motor Company    NaN  Detroit    MI  \n",
       "1                              Ciber    NaN  Detroit    MI  \n",
       "2                    Mango Languages    NaN  Detroit    MI  \n",
       "3  St John Hospital & Medical Center    NaN  Detroit    MI  \n",
       "4  St John Hospital & Medical Center    NaN  Detroit    MI  "
      ]
     },
     "execution_count": 10,
     "metadata": {},
     "output_type": "execute_result"
    }
   ],
   "source": [
    "df = df.reset_index(drop = True)\n",
    "df.head()"
   ]
  },
  {
   "cell_type": "code",
   "execution_count": 281,
   "metadata": {
    "collapsed": false
   },
   "outputs": [
    {
     "data": {
      "text/plain": [
       "0.4159151441521424"
      ]
     },
     "execution_count": 281,
     "metadata": {},
     "output_type": "execute_result"
    }
   ],
   "source": [
    "float(17802) / (25*1000 + 17802)"
   ]
  },
  {
   "cell_type": "code",
   "execution_count": 11,
   "metadata": {
    "collapsed": false
   },
   "outputs": [
    {
     "data": {
      "text/plain": [
       "17802"
      ]
     },
     "execution_count": 11,
     "metadata": {},
     "output_type": "execute_result"
    }
   ],
   "source": [
    "len(df)"
   ]
  },
  {
   "cell_type": "code",
   "execution_count": 10,
   "metadata": {
    "collapsed": false
   },
   "outputs": [
    {
     "data": {
      "text/plain": [
       "Unnamed: 0     int64\n",
       "title         object\n",
       "location      object\n",
       "company       object\n",
       "salary        object\n",
       "city          object\n",
       "state         object\n",
       "dtype: object"
      ]
     },
     "execution_count": 10,
     "metadata": {},
     "output_type": "execute_result"
    }
   ],
   "source": [
    "df.dtypes"
   ]
  },
  {
   "cell_type": "code",
   "execution_count": 13,
   "metadata": {
    "collapsed": true
   },
   "outputs": [],
   "source": [
    "df.to_csv('IndeedSalaryData2_rough.csv', encoding='utf-8')"
   ]
  },
  {
   "cell_type": "markdown",
   "metadata": {},
   "source": [
    "Run cell below to get unedited, scraped version:"
   ]
  },
  {
   "cell_type": "code",
   "execution_count": 8,
   "metadata": {
    "collapsed": true
   },
   "outputs": [],
   "source": [
    "df = pd.read_csv('/Users/Rebecca/DSI-projects/projects/project-04/starter-code/IndeedSalaryData2_rough.csv')\n",
    "df['salary'] = df['salary'].apply(lambda x: str(x))"
   ]
  },
  {
   "cell_type": "markdown",
   "metadata": {
    "focus": false,
    "id": "20339c09-5032-4e27-91be-286e9b46cd13"
   },
   "source": [
    "#### Use the functions you wrote above to parse out the 4 fields - location, title, company and salary. Create a dataframe from the results with those 4 columns."
   ]
  },
  {
   "cell_type": "markdown",
   "metadata": {
    "collapsed": false
   },
   "source": [
    "Already done above by putitalltogether()!"
   ]
  },
  {
   "cell_type": "markdown",
   "metadata": {
    "focus": false,
    "id": "ff98ce64-78a7-441f-a675-63464e32c834"
   },
   "source": [
    "Lastly, we need to clean up salary data. \n",
    "1. Some of the salaries are not yearly but hourly, these will be useful to us for now\n",
    "2. The salaries are given as text and usually with ranges.\n",
    "\n",
    "#### Filter out the salaries that are not yearly (filter those that refer to hour)"
   ]
  },
  {
   "cell_type": "markdown",
   "metadata": {},
   "source": [
    "What do the non-'NaN' entries look like?"
   ]
  },
  {
   "cell_type": "code",
   "execution_count": 9,
   "metadata": {
    "collapsed": false
   },
   "outputs": [
    {
     "data": {
      "text/html": [
       "<div>\n",
       "<table border=\"1\" class=\"dataframe\">\n",
       "  <thead>\n",
       "    <tr style=\"text-align: right;\">\n",
       "      <th></th>\n",
       "      <th>Unnamed: 0</th>\n",
       "      <th>title</th>\n",
       "      <th>location</th>\n",
       "      <th>company</th>\n",
       "      <th>salary</th>\n",
       "      <th>city</th>\n",
       "      <th>state</th>\n",
       "    </tr>\n",
       "  </thead>\n",
       "  <tbody>\n",
       "    <tr>\n",
       "      <th>0</th>\n",
       "      <td>0</td>\n",
       "      <td>Automated Driving Research Scientist – Real-ti...</td>\n",
       "      <td>Dearborn, MI</td>\n",
       "      <td>Ford Motor Company</td>\n",
       "      <td>nan</td>\n",
       "      <td>Detroit</td>\n",
       "      <td>MI</td>\n",
       "    </tr>\n",
       "    <tr>\n",
       "      <th>1</th>\n",
       "      <td>1</td>\n",
       "      <td>Data Scientist</td>\n",
       "      <td>Dearborn, MI</td>\n",
       "      <td>Ciber</td>\n",
       "      <td>nan</td>\n",
       "      <td>Detroit</td>\n",
       "      <td>MI</td>\n",
       "    </tr>\n",
       "    <tr>\n",
       "      <th>2</th>\n",
       "      <td>2</td>\n",
       "      <td>Data Scientist Engineer</td>\n",
       "      <td>Farmington Hills, MI</td>\n",
       "      <td>Mango Languages</td>\n",
       "      <td>nan</td>\n",
       "      <td>Detroit</td>\n",
       "      <td>MI</td>\n",
       "    </tr>\n",
       "    <tr>\n",
       "      <th>3</th>\n",
       "      <td>3</td>\n",
       "      <td>Data Analytical Scientist</td>\n",
       "      <td>Detroit, MI</td>\n",
       "      <td>St John Hospital &amp; Medical Center</td>\n",
       "      <td>nan</td>\n",
       "      <td>Detroit</td>\n",
       "      <td>MI</td>\n",
       "    </tr>\n",
       "    <tr>\n",
       "      <th>4</th>\n",
       "      <td>4</td>\n",
       "      <td>Descriptive Analytics - Data Scientist</td>\n",
       "      <td>Detroit, MI</td>\n",
       "      <td>St John Hospital &amp; Medical Center</td>\n",
       "      <td>nan</td>\n",
       "      <td>Detroit</td>\n",
       "      <td>MI</td>\n",
       "    </tr>\n",
       "  </tbody>\n",
       "</table>\n",
       "</div>"
      ],
      "text/plain": [
       "   Unnamed: 0                                              title  \\\n",
       "0           0  Automated Driving Research Scientist – Real-ti...   \n",
       "1           1                                     Data Scientist   \n",
       "2           2                            Data Scientist Engineer   \n",
       "3           3                          Data Analytical Scientist   \n",
       "4           4             Descriptive Analytics - Data Scientist   \n",
       "\n",
       "               location                            company salary     city  \\\n",
       "0          Dearborn, MI                 Ford Motor Company    nan  Detroit   \n",
       "1          Dearborn, MI                              Ciber    nan  Detroit   \n",
       "2  Farmington Hills, MI                    Mango Languages    nan  Detroit   \n",
       "3           Detroit, MI  St John Hospital & Medical Center    nan  Detroit   \n",
       "4           Detroit, MI  St John Hospital & Medical Center    nan  Detroit   \n",
       "\n",
       "  state  \n",
       "0    MI  \n",
       "1    MI  \n",
       "2    MI  \n",
       "3    MI  \n",
       "4    MI  "
      ]
     },
     "execution_count": 9,
     "metadata": {},
     "output_type": "execute_result"
    }
   ],
   "source": [
    "df[df['salary'] != 'NaN'].head()"
   ]
  },
  {
   "cell_type": "code",
   "execution_count": 5,
   "metadata": {
    "collapsed": false
   },
   "outputs": [
    {
     "data": {
      "text/plain": [
       "17802"
      ]
     },
     "execution_count": 5,
     "metadata": {},
     "output_type": "execute_result"
    }
   ],
   "source": [
    "len(df[df['salary'] != 'NaN'])"
   ]
  },
  {
   "cell_type": "code",
   "execution_count": 40,
   "metadata": {
    "collapsed": false,
    "scrolled": true
   },
   "outputs": [
    {
     "name": "stdout",
     "output_type": "stream",
     "text": [
      "Total number of listings: 17802\n",
      "Listings with non-'NaN' salary entries: 492\n",
      "Percentage with non-'NaN' salary entries: 0.0276373441186\n"
     ]
    }
   ],
   "source": [
    "print 'Total number of listings: %s' %len(df) \n",
    "print 'Listings with non-\\'NaN\\' salary entries: %s' %len(df[df['salary'] != 'NaN'])\n",
    "print 'Percentage with non-\\'NaN\\' salary entries: %s' %(float(len(df[df['salary'] != 'NaN']))/len(df))"
   ]
  },
  {
   "cell_type": "code",
   "execution_count": 42,
   "metadata": {
    "collapsed": false
   },
   "outputs": [
    {
     "name": "stdout",
     "output_type": "stream",
     "text": [
      "Of all salary entries:\n",
      "\n",
      "\n",
      "264 are per month;\n",
      "2 are per week;\n",
      "19 are per hour;\n",
      "3 are per day.\n",
      "\n",
      "\n",
      "Delete all of these.\n"
     ]
    }
   ],
   "source": [
    "print 'Of all salary entries:'\n",
    "print '\\n'\n",
    "print '%s are per month;' %len(df[df['salary'].str.contains('month')]) \n",
    "print '%s are per week;' %len(df[df['salary'].str.contains('week')])\n",
    "print '%s are per hour;' %len(df[df['salary'].str.contains('hour')])\n",
    "print '%s are per day.' %len(df[df['salary'].str.contains('day')])\n",
    "print '\\n'\n",
    "print 'Delete all of these.'"
   ]
  },
  {
   "cell_type": "code",
   "execution_count": 43,
   "metadata": {
    "collapsed": false
   },
   "outputs": [],
   "source": [
    "df = df[df['salary'].str.contains('month') == False]\n",
    "df = df[df['salary'].str.contains('week') == False]\n",
    "df = df[df['salary'].str.contains('hour') == False]\n",
    "df = df[df['salary'].str.contains('day') == False]"
   ]
  },
  {
   "cell_type": "code",
   "execution_count": 44,
   "metadata": {
    "collapsed": false
   },
   "outputs": [
    {
     "name": "stdout",
     "output_type": "stream",
     "text": [
      "Of 204 non-'NaN' salary entries, 204 are explicitly labeled as yearly.\n"
     ]
    }
   ],
   "source": [
    "print 'Of %s' %len(df[df['salary'] != 'NaN']) +' non-\\'NaN\\' salary entries, %s' \\\n",
    "%len(df[df['salary'].str.contains('year')]) +' are explicitly labeled as yearly.'"
   ]
  },
  {
   "cell_type": "markdown",
   "metadata": {},
   "source": [
    "This cell prints any remaining non-'NaN' salary entries which are not explicitly labeled as yearly:"
   ]
  },
  {
   "cell_type": "code",
   "execution_count": 47,
   "metadata": {
    "collapsed": false
   },
   "outputs": [
    {
     "name": "stdout",
     "output_type": "stream",
     "text": [
      "(None)\n"
     ]
    }
   ],
   "source": [
    "if (-len(df[df['salary'].str.contains('year')]) + (len(df[df['salary'] != 'NaN']))) != 0:\n",
    "    print 'The %s' %(-len(df[df['salary'].str.contains('year')]) + (len(df[df['salary'] != 'NaN']))) +' which are not \\\n",
    "explicitly labeled as yearly salaries are the following:'\n",
    "    print df[(df['salary'] != 'NaN') & (df['salary'].str.contains('year') == False)]\n",
    "else:\n",
    "    print '(None)'"
   ]
  },
  {
   "cell_type": "markdown",
   "metadata": {},
   "source": [
    "How many data types are represented in the column entries for df['salary']?"
   ]
  },
  {
   "cell_type": "code",
   "execution_count": 50,
   "metadata": {
    "collapsed": false
   },
   "outputs": [],
   "source": [
    "def num_cat(x):\n",
    "    '''This function returns a set containing all data types contained in the argument provided.'''\n",
    "    cat_list = []\n",
    "    for i in x:\n",
    "        cat_list.append(type(i))\n",
    "    return set(cat_list)"
   ]
  },
  {
   "cell_type": "code",
   "execution_count": 51,
   "metadata": {
    "collapsed": false
   },
   "outputs": [
    {
     "data": {
      "text/plain": [
       "{str, unicode}"
      ]
     },
     "execution_count": 51,
     "metadata": {},
     "output_type": "execute_result"
    }
   ],
   "source": [
    "num_cat(df['salary'])"
   ]
  },
  {
   "cell_type": "markdown",
   "metadata": {
    "focus": false,
    "id": "7d4bc860-b214-4f75-9cd0-b234830b1ec2"
   },
   "source": [
    "#### Write a function that takes a salary string and converts it to a number, averaging a salary range if necessary"
   ]
  },
  {
   "cell_type": "code",
   "execution_count": 52,
   "metadata": {
    "collapsed": true,
    "focus": false,
    "id": "a0f701e0-80bd-40ba-9101-4535860c0968"
   },
   "outputs": [],
   "source": [
    "def parse_salary(df):\n",
    "    '''This function takes a dataframe argument containing a column 'salary' and creates a new column, \\\n",
    "    'parsed_salary', with corresponding float entries (which are the average of a range, if and when provided).'''\n",
    "    parsed_salary = []\n",
    "    for i in df['salary']:\n",
    "        if i == 'NaN':\n",
    "            parsed_salary.append(i)\n",
    "        elif i != 'NaN':\n",
    "            x = str(i)\n",
    "            if '-' in x:\n",
    "                x = x.split('-')\n",
    "                x[0] = x[0].replace('$', '')\n",
    "                x[0] = x[0].replace(',', '')\n",
    "                x[0] = x[0].replace(' ', '')\n",
    "                x[1] = x[1].replace('$', '')\n",
    "                x[1] = x[1].replace(',', '')\n",
    "                x2 = x[1].split(' ')\n",
    "                x[1] = x2[1]\n",
    "                new_x = (float(x[0]) + float(x[1]))/2\n",
    "                parsed_salary.append(new_x)   \n",
    "            elif '$' in x:\n",
    "                z = x.split(' ')\n",
    "                z = z[0]\n",
    "                z = z.replace('$', '')\n",
    "                z = z.replace(',', '')\n",
    "                parsed_salary.append(float(z))\n",
    "            else:\n",
    "                parsed_salary.append('delete_me')\n",
    "    df['parsed_salary'] = parsed_salary\n",
    "    df = df[df['parsed_salary'].str.contains('delete_me') == False]\n",
    "    return "
   ]
  },
  {
   "cell_type": "markdown",
   "metadata": {},
   "source": [
    "Examine modified dataframe to ensure 'city', 'state', and 'parsed_salary' columns appear:"
   ]
  },
  {
   "cell_type": "code",
   "execution_count": 53,
   "metadata": {
    "collapsed": false
   },
   "outputs": [
    {
     "data": {
      "text/html": [
       "<div>\n",
       "<table border=\"1\" class=\"dataframe\">\n",
       "  <thead>\n",
       "    <tr style=\"text-align: right;\">\n",
       "      <th></th>\n",
       "      <th>title</th>\n",
       "      <th>location</th>\n",
       "      <th>company</th>\n",
       "      <th>salary</th>\n",
       "      <th>city</th>\n",
       "      <th>state</th>\n",
       "      <th>parsed_salary</th>\n",
       "    </tr>\n",
       "  </thead>\n",
       "  <tbody>\n",
       "    <tr>\n",
       "      <th>0</th>\n",
       "      <td>Automated Driving Research Scientist – Real-ti...</td>\n",
       "      <td>Dearborn, MI</td>\n",
       "      <td>Ford Motor Company</td>\n",
       "      <td>NaN</td>\n",
       "      <td>Detroit</td>\n",
       "      <td>MI</td>\n",
       "      <td>NaN</td>\n",
       "    </tr>\n",
       "    <tr>\n",
       "      <th>1</th>\n",
       "      <td>Data Scientist</td>\n",
       "      <td>Dearborn, MI</td>\n",
       "      <td>Ciber</td>\n",
       "      <td>NaN</td>\n",
       "      <td>Detroit</td>\n",
       "      <td>MI</td>\n",
       "      <td>NaN</td>\n",
       "    </tr>\n",
       "    <tr>\n",
       "      <th>2</th>\n",
       "      <td>Data Scientist Engineer</td>\n",
       "      <td>Farmington Hills, MI</td>\n",
       "      <td>Mango Languages</td>\n",
       "      <td>NaN</td>\n",
       "      <td>Detroit</td>\n",
       "      <td>MI</td>\n",
       "      <td>NaN</td>\n",
       "    </tr>\n",
       "    <tr>\n",
       "      <th>3</th>\n",
       "      <td>Data Analytical Scientist</td>\n",
       "      <td>Detroit, MI</td>\n",
       "      <td>St John Hospital &amp; Medical Center</td>\n",
       "      <td>NaN</td>\n",
       "      <td>Detroit</td>\n",
       "      <td>MI</td>\n",
       "      <td>NaN</td>\n",
       "    </tr>\n",
       "    <tr>\n",
       "      <th>4</th>\n",
       "      <td>Descriptive Analytics - Data Scientist</td>\n",
       "      <td>Detroit, MI</td>\n",
       "      <td>St John Hospital &amp; Medical Center</td>\n",
       "      <td>NaN</td>\n",
       "      <td>Detroit</td>\n",
       "      <td>MI</td>\n",
       "      <td>NaN</td>\n",
       "    </tr>\n",
       "  </tbody>\n",
       "</table>\n",
       "</div>"
      ],
      "text/plain": [
       "                                               title              location  \\\n",
       "0  Automated Driving Research Scientist – Real-ti...          Dearborn, MI   \n",
       "1                                     Data Scientist          Dearborn, MI   \n",
       "2                            Data Scientist Engineer  Farmington Hills, MI   \n",
       "3                          Data Analytical Scientist           Detroit, MI   \n",
       "4             Descriptive Analytics - Data Scientist           Detroit, MI   \n",
       "\n",
       "                             company salary     city state parsed_salary  \n",
       "0                 Ford Motor Company    NaN  Detroit    MI           NaN  \n",
       "1                              Ciber    NaN  Detroit    MI           NaN  \n",
       "2                    Mango Languages    NaN  Detroit    MI           NaN  \n",
       "3  St John Hospital & Medical Center    NaN  Detroit    MI           NaN  \n",
       "4  St John Hospital & Medical Center    NaN  Detroit    MI           NaN  "
      ]
     },
     "execution_count": 53,
     "metadata": {},
     "output_type": "execute_result"
    }
   ],
   "source": [
    "parse_salary(df)\n",
    "df.head()"
   ]
  },
  {
   "cell_type": "markdown",
   "metadata": {},
   "source": [
    "See what non-'NaN' 'parsed_salary' entries look like:"
   ]
  },
  {
   "cell_type": "code",
   "execution_count": 56,
   "metadata": {
    "collapsed": false
   },
   "outputs": [
    {
     "data": {
      "text/html": [
       "<div>\n",
       "<table border=\"1\" class=\"dataframe\">\n",
       "  <thead>\n",
       "    <tr style=\"text-align: right;\">\n",
       "      <th></th>\n",
       "      <th>title</th>\n",
       "      <th>location</th>\n",
       "      <th>company</th>\n",
       "      <th>salary</th>\n",
       "      <th>city</th>\n",
       "      <th>state</th>\n",
       "      <th>parsed_salary</th>\n",
       "    </tr>\n",
       "  </thead>\n",
       "  <tbody>\n",
       "    <tr>\n",
       "      <th>612</th>\n",
       "      <td>Data Scientist – Predictive Analytics</td>\n",
       "      <td>Waltham, MA</td>\n",
       "      <td>Jobspring Partners</td>\n",
       "      <td>$120,000 - $150,000 a year</td>\n",
       "      <td>Boston</td>\n",
       "      <td>MA</td>\n",
       "      <td>135000</td>\n",
       "    </tr>\n",
       "    <tr>\n",
       "      <th>637</th>\n",
       "      <td>Data Scientist, Machine Learning Engineer</td>\n",
       "      <td>Cambridge, MA 02141 (East Cambridge area)</td>\n",
       "      <td>Bivium Group</td>\n",
       "      <td>$100,000 - $150,000 a year</td>\n",
       "      <td>Boston</td>\n",
       "      <td>MA</td>\n",
       "      <td>125000</td>\n",
       "    </tr>\n",
       "    <tr>\n",
       "      <th>642</th>\n",
       "      <td>Data Scientist, Machine Learning Engineer</td>\n",
       "      <td>Boston, MA 02116 (South End area)</td>\n",
       "      <td>Fanning Personnel</td>\n",
       "      <td>$80,000 - $125,000 a year</td>\n",
       "      <td>Boston</td>\n",
       "      <td>MA</td>\n",
       "      <td>102500</td>\n",
       "    </tr>\n",
       "    <tr>\n",
       "      <th>690</th>\n",
       "      <td>Data Scientist – Predictive Analytics</td>\n",
       "      <td>Burlington, MA</td>\n",
       "      <td>Workbridge Associates</td>\n",
       "      <td>$100,000 - $145,000 a year</td>\n",
       "      <td>Boston</td>\n",
       "      <td>MA</td>\n",
       "      <td>122500</td>\n",
       "    </tr>\n",
       "    <tr>\n",
       "      <th>724</th>\n",
       "      <td>Data Scientist – Predictive Analytics</td>\n",
       "      <td>Boston, MA</td>\n",
       "      <td>Workbridge Associates</td>\n",
       "      <td>$65,000 - $85,000 a year</td>\n",
       "      <td>Boston</td>\n",
       "      <td>MA</td>\n",
       "      <td>75000</td>\n",
       "    </tr>\n",
       "  </tbody>\n",
       "</table>\n",
       "</div>"
      ],
      "text/plain": [
       "                                         title  \\\n",
       "612      Data Scientist – Predictive Analytics   \n",
       "637  Data Scientist, Machine Learning Engineer   \n",
       "642  Data Scientist, Machine Learning Engineer   \n",
       "690      Data Scientist – Predictive Analytics   \n",
       "724      Data Scientist – Predictive Analytics   \n",
       "\n",
       "                                      location                company  \\\n",
       "612                                Waltham, MA     Jobspring Partners   \n",
       "637  Cambridge, MA 02141 (East Cambridge area)           Bivium Group   \n",
       "642          Boston, MA 02116 (South End area)      Fanning Personnel   \n",
       "690                             Burlington, MA  Workbridge Associates   \n",
       "724                                 Boston, MA  Workbridge Associates   \n",
       "\n",
       "                         salary    city state parsed_salary  \n",
       "612  $120,000 - $150,000 a year  Boston    MA        135000  \n",
       "637  $100,000 - $150,000 a year  Boston    MA        125000  \n",
       "642   $80,000 - $125,000 a year  Boston    MA        102500  \n",
       "690  $100,000 - $145,000 a year  Boston    MA        122500  \n",
       "724    $65,000 - $85,000 a year  Boston    MA         75000  "
      ]
     },
     "execution_count": 56,
     "metadata": {},
     "output_type": "execute_result"
    }
   ],
   "source": [
    "df[df['parsed_salary'] != 'NaN'].head()"
   ]
  },
  {
   "cell_type": "markdown",
   "metadata": {
    "collapsed": false,
    "focus": false,
    "id": "43e71edd-210e-42b1-9336-70a931f048af"
   },
   "source": [
    "### Save your results as a CSV"
   ]
  },
  {
   "cell_type": "code",
   "execution_count": 57,
   "metadata": {
    "collapsed": true,
    "focus": false,
    "id": "783fd153-28ac-47ab-bfca-27e7c1de95b4"
   },
   "outputs": [],
   "source": [
    "df.to_csv('IndeedSalaryData2.csv', encoding='utf-8')"
   ]
  },
  {
   "cell_type": "markdown",
   "metadata": {
    "focus": false,
    "id": "04563b69-f7b6-466f-9d65-fc62c9ddee6a"
   },
   "source": [
    "## Predicting salaries using Logistic Regression"
   ]
  },
  {
   "cell_type": "markdown",
   "metadata": {
    "focus": false,
    "id": "243e949e-2742-40af-872e-fec475fd306c"
   },
   "source": [
    "#### Load in the data of scraped salaries"
   ]
  },
  {
   "cell_type": "code",
   "execution_count": 58,
   "metadata": {
    "collapsed": false
   },
   "outputs": [],
   "source": [
    "import pandas as pd\n",
    "from matplotlib import pyplot as plt\n",
    "import matplotlib.cm as cm\n",
    "import plotly as py\n",
    "from collections import Counter\n",
    "import re\n",
    "% matplotlib inline\n",
    "\n",
    "# Make the plots bigger\n",
    "plt.rcParams['figure.figsize'] = 10, 10\n",
    "import seaborn as sns\n",
    "\n",
    "import numpy as np\n",
    "import statsmodels.api as st\n",
    "import sklearn\n",
    "from sklearn import linear_model as lm\n",
    "from sklearn import datasets, cross_validation, pipeline, preprocessing, metrics\n",
    "from sklearn.linear_model import LinearRegression\n",
    "from sklearn.linear_model import Ridge\n",
    "from sklearn.linear_model import Lasso\n",
    "from sklearn.cross_validation import train_test_split\n",
    "from sklearn.cross_validation import cross_val_predict\n",
    "from sklearn.cross_validation import cross_val_score\n",
    "from sklearn.pipeline import Pipeline\n",
    "from sklearn.preprocessing import PolynomialFeatures\n",
    "from sklearn.metrics import mean_squared_error\n",
    "from sklearn.metrics import r2_score\n",
    "from sklearn.metrics import confusion_matrix"
   ]
  },
  {
   "cell_type": "code",
   "execution_count": 90,
   "metadata": {
    "collapsed": false,
    "focus": false,
    "id": "588f9845-6143-4bcc-bfd1-85d45b79303d"
   },
   "outputs": [
    {
     "data": {
      "text/html": [
       "<div>\n",
       "<table border=\"1\" class=\"dataframe\">\n",
       "  <thead>\n",
       "    <tr style=\"text-align: right;\">\n",
       "      <th></th>\n",
       "      <th>title</th>\n",
       "      <th>location</th>\n",
       "      <th>company</th>\n",
       "      <th>salary</th>\n",
       "      <th>city</th>\n",
       "      <th>state</th>\n",
       "      <th>parsed_salary</th>\n",
       "    </tr>\n",
       "  </thead>\n",
       "  <tbody>\n",
       "    <tr>\n",
       "      <th>0</th>\n",
       "      <td>Automated Driving Research Scientist – Real-ti...</td>\n",
       "      <td>Dearborn, MI</td>\n",
       "      <td>Ford Motor Company</td>\n",
       "      <td>NaN</td>\n",
       "      <td>Detroit</td>\n",
       "      <td>MI</td>\n",
       "      <td>NaN</td>\n",
       "    </tr>\n",
       "  </tbody>\n",
       "</table>\n",
       "</div>"
      ],
      "text/plain": [
       "                                               title      location  \\\n",
       "0  Automated Driving Research Scientist – Real-ti...  Dearborn, MI   \n",
       "\n",
       "              company salary     city state parsed_salary  \n",
       "0  Ford Motor Company    NaN  Detroit    MI           NaN  "
      ]
     },
     "execution_count": 90,
     "metadata": {},
     "output_type": "execute_result"
    }
   ],
   "source": [
    "#df_new = pd.read_csv('/Users/Rebecca/DSI-projects/projects/project-04/starter-code/IndeedSalaryData2.csv')\n",
    "df_new.head(1)"
   ]
  },
  {
   "cell_type": "code",
   "execution_count": 91,
   "metadata": {
    "collapsed": false
   },
   "outputs": [
    {
     "data": {
      "text/html": [
       "<div>\n",
       "<table border=\"1\" class=\"dataframe\">\n",
       "  <thead>\n",
       "    <tr style=\"text-align: right;\">\n",
       "      <th></th>\n",
       "      <th>title</th>\n",
       "      <th>location</th>\n",
       "      <th>company</th>\n",
       "      <th>city</th>\n",
       "      <th>state</th>\n",
       "      <th>parsed_salary</th>\n",
       "    </tr>\n",
       "  </thead>\n",
       "  <tbody>\n",
       "    <tr>\n",
       "      <th>0</th>\n",
       "      <td>Automated Driving Research Scientist – Real-ti...</td>\n",
       "      <td>Dearborn, MI</td>\n",
       "      <td>Ford Motor Company</td>\n",
       "      <td>Detroit</td>\n",
       "      <td>MI</td>\n",
       "      <td>NaN</td>\n",
       "    </tr>\n",
       "  </tbody>\n",
       "</table>\n",
       "</div>"
      ],
      "text/plain": [
       "                                               title      location  \\\n",
       "0  Automated Driving Research Scientist – Real-ti...  Dearborn, MI   \n",
       "\n",
       "              company     city state parsed_salary  \n",
       "0  Ford Motor Company  Detroit    MI           NaN  "
      ]
     },
     "execution_count": 91,
     "metadata": {},
     "output_type": "execute_result"
    }
   ],
   "source": [
    "df_new = df_new[['title', 'location', 'company', 'city', 'state', 'parsed_salary']]\n",
    "df_new.head(1)"
   ]
  },
  {
   "cell_type": "markdown",
   "metadata": {},
   "source": [
    "Create a new dataframe which contains only observations whose 'parsed_salary' entries are numerical:"
   ]
  },
  {
   "cell_type": "code",
   "execution_count": 92,
   "metadata": {
    "collapsed": false
   },
   "outputs": [
    {
     "name": "stdout",
     "output_type": "stream",
     "text": [
      "204\n"
     ]
    },
    {
     "data": {
      "text/html": [
       "<div>\n",
       "<table border=\"1\" class=\"dataframe\">\n",
       "  <thead>\n",
       "    <tr style=\"text-align: right;\">\n",
       "      <th></th>\n",
       "      <th>title</th>\n",
       "      <th>location</th>\n",
       "      <th>company</th>\n",
       "      <th>city</th>\n",
       "      <th>state</th>\n",
       "      <th>parsed_salary</th>\n",
       "    </tr>\n",
       "  </thead>\n",
       "  <tbody>\n",
       "    <tr>\n",
       "      <th>0</th>\n",
       "      <td>Data Scientist – Predictive Analytics</td>\n",
       "      <td>Waltham, MA</td>\n",
       "      <td>Jobspring Partners</td>\n",
       "      <td>Boston</td>\n",
       "      <td>MA</td>\n",
       "      <td>135000</td>\n",
       "    </tr>\n",
       "    <tr>\n",
       "      <th>1</th>\n",
       "      <td>Data Scientist, Machine Learning Engineer</td>\n",
       "      <td>Cambridge, MA 02141 (East Cambridge area)</td>\n",
       "      <td>Bivium Group</td>\n",
       "      <td>Boston</td>\n",
       "      <td>MA</td>\n",
       "      <td>125000</td>\n",
       "    </tr>\n",
       "    <tr>\n",
       "      <th>2</th>\n",
       "      <td>Data Scientist, Machine Learning Engineer</td>\n",
       "      <td>Boston, MA 02116 (South End area)</td>\n",
       "      <td>Fanning Personnel</td>\n",
       "      <td>Boston</td>\n",
       "      <td>MA</td>\n",
       "      <td>102500</td>\n",
       "    </tr>\n",
       "    <tr>\n",
       "      <th>3</th>\n",
       "      <td>Data Scientist – Predictive Analytics</td>\n",
       "      <td>Burlington, MA</td>\n",
       "      <td>Workbridge Associates</td>\n",
       "      <td>Boston</td>\n",
       "      <td>MA</td>\n",
       "      <td>122500</td>\n",
       "    </tr>\n",
       "    <tr>\n",
       "      <th>4</th>\n",
       "      <td>Data Scientist – Predictive Analytics</td>\n",
       "      <td>Boston, MA</td>\n",
       "      <td>Workbridge Associates</td>\n",
       "      <td>Boston</td>\n",
       "      <td>MA</td>\n",
       "      <td>75000</td>\n",
       "    </tr>\n",
       "  </tbody>\n",
       "</table>\n",
       "</div>"
      ],
      "text/plain": [
       "                                       title  \\\n",
       "0      Data Scientist – Predictive Analytics   \n",
       "1  Data Scientist, Machine Learning Engineer   \n",
       "2  Data Scientist, Machine Learning Engineer   \n",
       "3      Data Scientist – Predictive Analytics   \n",
       "4      Data Scientist – Predictive Analytics   \n",
       "\n",
       "                                    location                company    city  \\\n",
       "0                                Waltham, MA     Jobspring Partners  Boston   \n",
       "1  Cambridge, MA 02141 (East Cambridge area)           Bivium Group  Boston   \n",
       "2          Boston, MA 02116 (South End area)      Fanning Personnel  Boston   \n",
       "3                             Burlington, MA  Workbridge Associates  Boston   \n",
       "4                                 Boston, MA  Workbridge Associates  Boston   \n",
       "\n",
       "  state parsed_salary  \n",
       "0    MA        135000  \n",
       "1    MA        125000  \n",
       "2    MA        102500  \n",
       "3    MA        122500  \n",
       "4    MA         75000  "
      ]
     },
     "execution_count": 92,
     "metadata": {},
     "output_type": "execute_result"
    }
   ],
   "source": [
    "sal_df = df_new[df_new['parsed_salary'] != 'NaN']\n",
    "sal_df = sal_df.reset_index(drop = True)\n",
    "print len(sal_df)\n",
    "sal_df.head()"
   ]
  },
  {
   "cell_type": "code",
   "execution_count": 93,
   "metadata": {
    "collapsed": false
   },
   "outputs": [
    {
     "name": "stdout",
     "output_type": "stream",
     "text": [
      "The minimum salary listed is 15000.0\n"
     ]
    },
    {
     "data": {
      "text/html": [
       "<div>\n",
       "<table border=\"1\" class=\"dataframe\">\n",
       "  <thead>\n",
       "    <tr style=\"text-align: right;\">\n",
       "      <th></th>\n",
       "      <th>title</th>\n",
       "      <th>location</th>\n",
       "      <th>company</th>\n",
       "      <th>city</th>\n",
       "      <th>state</th>\n",
       "      <th>parsed_salary</th>\n",
       "    </tr>\n",
       "  </thead>\n",
       "  <tbody>\n",
       "    <tr>\n",
       "      <th>183</th>\n",
       "      <td>Data Scientist – Predictive Analytics</td>\n",
       "      <td>Falls Church, VA</td>\n",
       "      <td>Smith Arnold Partners</td>\n",
       "      <td>Washington</td>\n",
       "      <td>DC</td>\n",
       "      <td>15000</td>\n",
       "    </tr>\n",
       "  </tbody>\n",
       "</table>\n",
       "</div>"
      ],
      "text/plain": [
       "                                     title          location  \\\n",
       "183  Data Scientist – Predictive Analytics  Falls Church, VA   \n",
       "\n",
       "                   company        city state parsed_salary  \n",
       "183  Smith Arnold Partners  Washington    DC         15000  "
      ]
     },
     "execution_count": 93,
     "metadata": {},
     "output_type": "execute_result"
    }
   ],
   "source": [
    "print 'The minimum salary listed is %s' %min(sal_df['parsed_salary'])\n",
    "sal_df[sal_df['parsed_salary'] == min(sal_df['parsed_salary'])]"
   ]
  },
  {
   "cell_type": "code",
   "execution_count": 94,
   "metadata": {
    "collapsed": false
   },
   "outputs": [
    {
     "name": "stdout",
     "output_type": "stream",
     "text": [
      "The maximum salary listed is 250000.0\n"
     ]
    },
    {
     "data": {
      "text/html": [
       "<div>\n",
       "<table border=\"1\" class=\"dataframe\">\n",
       "  <thead>\n",
       "    <tr style=\"text-align: right;\">\n",
       "      <th></th>\n",
       "      <th>title</th>\n",
       "      <th>location</th>\n",
       "      <th>company</th>\n",
       "      <th>city</th>\n",
       "      <th>state</th>\n",
       "      <th>parsed_salary</th>\n",
       "    </tr>\n",
       "  </thead>\n",
       "  <tbody>\n",
       "    <tr>\n",
       "      <th>148</th>\n",
       "      <td>Software Development Engineer, Big Data- Reloc...</td>\n",
       "      <td>Philadelphia, PA</td>\n",
       "      <td>Averity</td>\n",
       "      <td>Philadelphia</td>\n",
       "      <td>PA</td>\n",
       "      <td>250000</td>\n",
       "    </tr>\n",
       "  </tbody>\n",
       "</table>\n",
       "</div>"
      ],
      "text/plain": [
       "                                                 title          location  \\\n",
       "148  Software Development Engineer, Big Data- Reloc...  Philadelphia, PA   \n",
       "\n",
       "     company          city state parsed_salary  \n",
       "148  Averity  Philadelphia    PA        250000  "
      ]
     },
     "execution_count": 94,
     "metadata": {},
     "output_type": "execute_result"
    }
   ],
   "source": [
    "print 'The maximum salary listed is %s' %max(sal_df['parsed_salary'])\n",
    "sal_df[sal_df['parsed_salary'] == max(sal_df['parsed_salary'])]"
   ]
  },
  {
   "cell_type": "code",
   "execution_count": 101,
   "metadata": {
    "collapsed": false
   },
   "outputs": [
    {
     "data": {
      "image/png": "[encoded data removed]",
      "text/plain": [
       "<matplotlib.figure.Figure at 0x11f294e90>"
      ]
     },
     "metadata": {},
     "output_type": "display_data"
    }
   ],
   "source": [
    "plt.figure(figsize=(12,8))\n",
    "plt.style.use('fivethirtyeight')\n",
    "\n",
    "df_hist = plt.hist(sal_df['parsed_salary'], color = 'darkred', bins = 40)\n",
    "plt.axvline(sal_df['parsed_salary'].median(), color='b', linestyle='dashed', linewidth=1.5, label = 'median')\n",
    "plt.axvline(sal_df['parsed_salary'].mean(), color='g', linestyle='dashed', linewidth=1.5, label = 'mean')\n",
    "\n",
    "plt.title('Histogram of \\'Data Scientist\\' Salaries, 25 Most-Populous U.S. Cities', fontsize = 20)\n",
    "\n",
    "# y label\n",
    "plt.ylabel('Number of Jobs (max 1000/city)')\n",
    "\n",
    "# x label\n",
    "plt.xlabel('Salary (USD/year)')\n",
    "\n",
    "plt.xlim([0, max(sal_df['parsed_salary'])])\n",
    "plt.ylim([-10, 85])\n",
    "\n",
    "plt.legend(loc='upper right', fontsize = 15)\n",
    "\n",
    "plt.show()"
   ]
  },
  {
   "cell_type": "markdown",
   "metadata": {
    "focus": false,
    "id": "c7631f51-07f2-4c79-a093-3e9bc7849a48"
   },
   "source": [
    "#### We want to predict a binary variable - whether the salary was low or high. Compute the median salary and create a new binary variable that is true when the salary is high (above the median)"
   ]
  },
  {
   "cell_type": "code",
   "execution_count": 96,
   "metadata": {
    "collapsed": false
   },
   "outputs": [
    {
     "data": {
      "text/html": [
       "<div>\n",
       "<table border=\"1\" class=\"dataframe\">\n",
       "  <thead>\n",
       "    <tr style=\"text-align: right;\">\n",
       "      <th></th>\n",
       "      <th>title</th>\n",
       "      <th>location</th>\n",
       "      <th>company</th>\n",
       "      <th>city</th>\n",
       "      <th>state</th>\n",
       "      <th>parsed_salary</th>\n",
       "    </tr>\n",
       "  </thead>\n",
       "  <tbody>\n",
       "    <tr>\n",
       "      <th>0</th>\n",
       "      <td>Data Scientist – Predictive Analytics</td>\n",
       "      <td>Waltham, MA</td>\n",
       "      <td>Jobspring Partners</td>\n",
       "      <td>Boston</td>\n",
       "      <td>MA</td>\n",
       "      <td>135000</td>\n",
       "    </tr>\n",
       "    <tr>\n",
       "      <th>1</th>\n",
       "      <td>Data Scientist, Machine Learning Engineer</td>\n",
       "      <td>Cambridge, MA 02141 (East Cambridge area)</td>\n",
       "      <td>Bivium Group</td>\n",
       "      <td>Boston</td>\n",
       "      <td>MA</td>\n",
       "      <td>125000</td>\n",
       "    </tr>\n",
       "    <tr>\n",
       "      <th>2</th>\n",
       "      <td>Data Scientist, Machine Learning Engineer</td>\n",
       "      <td>Boston, MA 02116 (South End area)</td>\n",
       "      <td>Fanning Personnel</td>\n",
       "      <td>Boston</td>\n",
       "      <td>MA</td>\n",
       "      <td>102500</td>\n",
       "    </tr>\n",
       "    <tr>\n",
       "      <th>3</th>\n",
       "      <td>Data Scientist – Predictive Analytics</td>\n",
       "      <td>Burlington, MA</td>\n",
       "      <td>Workbridge Associates</td>\n",
       "      <td>Boston</td>\n",
       "      <td>MA</td>\n",
       "      <td>122500</td>\n",
       "    </tr>\n",
       "    <tr>\n",
       "      <th>4</th>\n",
       "      <td>Data Scientist – Predictive Analytics</td>\n",
       "      <td>Boston, MA</td>\n",
       "      <td>Workbridge Associates</td>\n",
       "      <td>Boston</td>\n",
       "      <td>MA</td>\n",
       "      <td>75000</td>\n",
       "    </tr>\n",
       "  </tbody>\n",
       "</table>\n",
       "</div>"
      ],
      "text/plain": [
       "                                       title  \\\n",
       "0      Data Scientist – Predictive Analytics   \n",
       "1  Data Scientist, Machine Learning Engineer   \n",
       "2  Data Scientist, Machine Learning Engineer   \n",
       "3      Data Scientist – Predictive Analytics   \n",
       "4      Data Scientist – Predictive Analytics   \n",
       "\n",
       "                                    location                company    city  \\\n",
       "0                                Waltham, MA     Jobspring Partners  Boston   \n",
       "1  Cambridge, MA 02141 (East Cambridge area)           Bivium Group  Boston   \n",
       "2          Boston, MA 02116 (South End area)      Fanning Personnel  Boston   \n",
       "3                             Burlington, MA  Workbridge Associates  Boston   \n",
       "4                                 Boston, MA  Workbridge Associates  Boston   \n",
       "\n",
       "  state parsed_salary  \n",
       "0    MA        135000  \n",
       "1    MA        125000  \n",
       "2    MA        102500  \n",
       "3    MA        122500  \n",
       "4    MA         75000  "
      ]
     },
     "execution_count": 96,
     "metadata": {},
     "output_type": "execute_result"
    }
   ],
   "source": [
    "sal_df.head()"
   ]
  },
  {
   "cell_type": "code",
   "execution_count": 111,
   "metadata": {
    "collapsed": false
   },
   "outputs": [
    {
     "data": {
      "text/plain": [
       "title            object\n",
       "location         object\n",
       "company          object\n",
       "city             object\n",
       "state            object\n",
       "parsed_salary    object\n",
       "dtype: object"
      ]
     },
     "execution_count": 111,
     "metadata": {},
     "output_type": "execute_result"
    }
   ],
   "source": [
    "sal_df.dtypes"
   ]
  },
  {
   "cell_type": "code",
   "execution_count": 112,
   "metadata": {
    "collapsed": true
   },
   "outputs": [],
   "source": [
    "sal_df['parsed_salary'] = sal_df['parsed_salary'].apply(lambda x: float(x))"
   ]
  },
  {
   "cell_type": "code",
   "execution_count": 113,
   "metadata": {
    "collapsed": false
   },
   "outputs": [
    {
     "data": {
      "text/plain": [
       "count       204.000000\n",
       "mean     103516.281863\n",
       "std       39466.270224\n",
       "min       15000.000000\n",
       "25%       77500.000000\n",
       "50%       83750.000000\n",
       "75%      135000.000000\n",
       "max      250000.000000\n",
       "Name: parsed_salary, dtype: float64"
      ]
     },
     "execution_count": 113,
     "metadata": {},
     "output_type": "execute_result"
    }
   ],
   "source": [
    "sal_df['parsed_salary'].describe()"
   ]
  },
  {
   "cell_type": "code",
   "execution_count": 115,
   "metadata": {
    "collapsed": false,
    "focus": false,
    "id": "c20d2498-151c-44c3-a453-3a333c79a0ac"
   },
   "outputs": [
    {
     "name": "stdout",
     "output_type": "stream",
     "text": [
      "The median salary is 83750.0.\n"
     ]
    }
   ],
   "source": [
    "median = float(sal_df['parsed_salary'].describe().loc['50%'])\n",
    "print 'The median salary is %s.' %median"
   ]
  },
  {
   "cell_type": "code",
   "execution_count": 116,
   "metadata": {
    "collapsed": true
   },
   "outputs": [],
   "source": [
    "def sal_dummify(x):\n",
    "    sal_dummy = []\n",
    "    for i in sal_df['parsed_salary']:\n",
    "        if i > median:\n",
    "            sal_dummy.append(1)\n",
    "        elif i <= median:\n",
    "            sal_dummy.append(0)\n",
    "        # This shouldn't happen\n",
    "        else:\n",
    "            sal_dummy.append('NaN')\n",
    "    x['sal_dummy'] = sal_dummy\n",
    "    return x"
   ]
  },
  {
   "cell_type": "code",
   "execution_count": 141,
   "metadata": {
    "collapsed": false
   },
   "outputs": [
    {
     "data": {
      "text/plain": [
       "1    102\n",
       "0    102\n",
       "Name: sal_dummy, dtype: int64"
      ]
     },
     "execution_count": 141,
     "metadata": {},
     "output_type": "execute_result"
    }
   ],
   "source": [
    "sal_dummify(sal_df)\n",
    "sal_df['sal_dummy'].value_counts()"
   ]
  },
  {
   "cell_type": "code",
   "execution_count": 142,
   "metadata": {
    "collapsed": false
   },
   "outputs": [
    {
     "data": {
      "text/html": [
       "<div>\n",
       "<table border=\"1\" class=\"dataframe\">\n",
       "  <thead>\n",
       "    <tr style=\"text-align: right;\">\n",
       "      <th></th>\n",
       "      <th>title</th>\n",
       "      <th>location</th>\n",
       "      <th>company</th>\n",
       "      <th>city</th>\n",
       "      <th>state</th>\n",
       "      <th>parsed_salary</th>\n",
       "      <th>sal_dummy</th>\n",
       "    </tr>\n",
       "  </thead>\n",
       "  <tbody>\n",
       "    <tr>\n",
       "      <th>0</th>\n",
       "      <td>Data Scientist – Predictive Analytics</td>\n",
       "      <td>Waltham, MA</td>\n",
       "      <td>Jobspring Partners</td>\n",
       "      <td>Boston</td>\n",
       "      <td>MA</td>\n",
       "      <td>135000.0</td>\n",
       "      <td>1</td>\n",
       "    </tr>\n",
       "    <tr>\n",
       "      <th>1</th>\n",
       "      <td>Data Scientist, Machine Learning Engineer</td>\n",
       "      <td>Cambridge, MA 02141 (East Cambridge area)</td>\n",
       "      <td>Bivium Group</td>\n",
       "      <td>Boston</td>\n",
       "      <td>MA</td>\n",
       "      <td>125000.0</td>\n",
       "      <td>1</td>\n",
       "    </tr>\n",
       "  </tbody>\n",
       "</table>\n",
       "</div>"
      ],
      "text/plain": [
       "                                       title  \\\n",
       "0      Data Scientist – Predictive Analytics   \n",
       "1  Data Scientist, Machine Learning Engineer   \n",
       "\n",
       "                                    location             company    city  \\\n",
       "0                                Waltham, MA  Jobspring Partners  Boston   \n",
       "1  Cambridge, MA 02141 (East Cambridge area)        Bivium Group  Boston   \n",
       "\n",
       "  state  parsed_salary  sal_dummy  \n",
       "0    MA       135000.0          1  \n",
       "1    MA       125000.0          1  "
      ]
     },
     "execution_count": 142,
     "metadata": {},
     "output_type": "execute_result"
    }
   ],
   "source": [
    "sal_df.head(2)"
   ]
  },
  {
   "cell_type": "code",
   "execution_count": 38,
   "metadata": {
    "collapsed": true
   },
   "outputs": [],
   "source": [
    "#test_df.index = \n",
    "#ax = test_df[['A', 'B']].plot(kind='bar', color=['red', 'blue'])"
   ]
  },
  {
   "cell_type": "code",
   "execution_count": 153,
   "metadata": {
    "collapsed": true
   },
   "outputs": [],
   "source": [
    "state_df = sal_df[['state', 'sal_dummy', 'parsed_salary']]"
   ]
  },
  {
   "cell_type": "code",
   "execution_count": null,
   "metadata": {
    "collapsed": false
   },
   "outputs": [],
   "source": []
  },
  {
   "cell_type": "code",
   "execution_count": 283,
   "metadata": {
    "collapsed": false,
    "scrolled": false
   },
   "outputs": [
    {
     "data": {
      "text/plain": [
       "<matplotlib.figure.Figure at 0x12449c850>"
      ]
     },
     "metadata": {},
     "output_type": "display_data"
    },
    {
     "data": {
      "image/png": "[encoded data removed]",
      "text/plain": [
       "<matplotlib.figure.Figure at 0x12447a390>"
      ]
     },
     "metadata": {},
     "output_type": "display_data"
    }
   ],
   "source": [
    "plt.figure(figsize=(12,8))\n",
    "plt.style.use('fivethirtyeight')\n",
    "\n",
    "new = sal_df.groupby(['state','sal_dummy']).count().unstack()\n",
    "\n",
    "new.plot.bar()\n",
    "\n",
    "plt.axhline(0, color='darkblue')\n",
    "\n",
    "plt.title('Histogram of Data Scientist Salary, 25 Most-Populous U.S. Cities', fontsize = 24)\n",
    "\n",
    "# y label\n",
    "plt.ylabel('Number of Jobs')\n",
    "\n",
    "#ax.get_xaxis().get_major_formatter().set_useOffset(False)\n",
    "# x label\n",
    "plt.xlabel('State')\n",
    "\n",
    "plt.legend(loc='upper right', fontsize = 15)\n",
    "\n",
    "plt.show()"
   ]
  },
  {
   "cell_type": "code",
   "execution_count": null,
   "metadata": {
    "collapsed": false
   },
   "outputs": [],
   "source": []
  },
  {
   "cell_type": "code",
   "execution_count": 163,
   "metadata": {
    "collapsed": false
   },
   "outputs": [
    {
     "name": "stdout",
     "output_type": "stream",
     "text": [
      "There are 20 cities and 14 states represented in the dataframe.\n",
      "\n",
      "\n",
      "There are 25 cities and 16 states represented in the original, scraped data.\n"
     ]
    }
   ],
   "source": [
    "print 'There are %s cities' %len(sal_df['city'].unique()) + ' and %s states represented in the dataframe.'\\\n",
    "%len(sal_df['state'].unique())\n",
    "print '\\n'\n",
    "print 'There are %s cities' %len(df['city'].unique()) + ' and %s states represented in the original, scraped data.'\\\n",
    "%len(df['state'].unique())"
   ]
  },
  {
   "cell_type": "markdown",
   "metadata": {
    "focus": false,
    "id": "4fb29de2-5b98-474c-a4ad-5170b72b9aea"
   },
   "source": [
    "#### Create a Logistic Regression model to predict High/Low salary using statsmodel. Start by ONLY using the location as a feature. Display the coefficients and write a short summary of what they mean."
   ]
  },
  {
   "cell_type": "markdown",
   "metadata": {},
   "source": [
    "First, do a logistic regression with dummy variables according to cities:"
   ]
  },
  {
   "cell_type": "code",
   "execution_count": 165,
   "metadata": {
    "collapsed": false
   },
   "outputs": [
    {
     "data": {
      "text/plain": [
       "Houston          77\n",
       "Washington       24\n",
       "New York         23\n",
       "Boston           12\n",
       "Chicago          10\n",
       "Los Angeles      10\n",
       "San Diego         9\n",
       "San Jose          9\n",
       "Dallas            5\n",
       "Seattle           5\n",
       "Austin            4\n",
       "San Francisco     4\n",
       "Philadelphia      3\n",
       "Denver            2\n",
       "Phoenix           2\n",
       "Nashville         1\n",
       "Indianapolis      1\n",
       "Columbus          1\n",
       "Charlotte         1\n",
       "San Antonio       1\n",
       "Name: city, dtype: int64"
      ]
     },
     "execution_count": 165,
     "metadata": {},
     "output_type": "execute_result"
    }
   ],
   "source": [
    "sal_df['city'].value_counts()"
   ]
  },
  {
   "cell_type": "code",
   "execution_count": 166,
   "metadata": {
    "collapsed": false,
    "focus": false,
    "id": "ddbc6159-6854-4ca7-857f-bfecdaf6d9c2"
   },
   "outputs": [],
   "source": [
    "X_city = pd.DataFrame(sal_df['city'])\n",
    "X_city['intercept'] = 1\n",
    "X_city = pd.concat([X_city.drop('city',axis=1), pd.get_dummies(X_city['city'])], axis = 1)\n",
    "y = sal_df['sal_dummy']"
   ]
  },
  {
   "cell_type": "code",
   "execution_count": 167,
   "metadata": {
    "collapsed": false
   },
   "outputs": [
    {
     "data": {
      "text/html": [
       "<div>\n",
       "<table border=\"1\" class=\"dataframe\">\n",
       "  <thead>\n",
       "    <tr style=\"text-align: right;\">\n",
       "      <th></th>\n",
       "      <th>intercept</th>\n",
       "      <th>Austin</th>\n",
       "      <th>Boston</th>\n",
       "      <th>Charlotte</th>\n",
       "      <th>Chicago</th>\n",
       "      <th>Columbus</th>\n",
       "      <th>Dallas</th>\n",
       "      <th>Denver</th>\n",
       "      <th>Houston</th>\n",
       "      <th>Indianapolis</th>\n",
       "      <th>...</th>\n",
       "      <th>Nashville</th>\n",
       "      <th>New York</th>\n",
       "      <th>Philadelphia</th>\n",
       "      <th>Phoenix</th>\n",
       "      <th>San Antonio</th>\n",
       "      <th>San Diego</th>\n",
       "      <th>San Francisco</th>\n",
       "      <th>San Jose</th>\n",
       "      <th>Seattle</th>\n",
       "      <th>Washington</th>\n",
       "    </tr>\n",
       "  </thead>\n",
       "  <tbody>\n",
       "    <tr>\n",
       "      <th>0</th>\n",
       "      <td>1</td>\n",
       "      <td>0.0</td>\n",
       "      <td>1.0</td>\n",
       "      <td>0.0</td>\n",
       "      <td>0.0</td>\n",
       "      <td>0.0</td>\n",
       "      <td>0.0</td>\n",
       "      <td>0.0</td>\n",
       "      <td>0.0</td>\n",
       "      <td>0.0</td>\n",
       "      <td>...</td>\n",
       "      <td>0.0</td>\n",
       "      <td>0.0</td>\n",
       "      <td>0.0</td>\n",
       "      <td>0.0</td>\n",
       "      <td>0.0</td>\n",
       "      <td>0.0</td>\n",
       "      <td>0.0</td>\n",
       "      <td>0.0</td>\n",
       "      <td>0.0</td>\n",
       "      <td>0.0</td>\n",
       "    </tr>\n",
       "  </tbody>\n",
       "</table>\n",
       "<p>1 rows × 21 columns</p>\n",
       "</div>"
      ],
      "text/plain": [
       "   intercept  Austin  Boston  Charlotte  Chicago  Columbus  Dallas  Denver  \\\n",
       "0          1     0.0     1.0        0.0      0.0       0.0     0.0     0.0   \n",
       "\n",
       "   Houston  Indianapolis     ...      Nashville  New York  Philadelphia  \\\n",
       "0      0.0           0.0     ...            0.0       0.0           0.0   \n",
       "\n",
       "   Phoenix  San Antonio  San Diego  San Francisco  San Jose  Seattle  \\\n",
       "0      0.0          0.0        0.0            0.0       0.0      0.0   \n",
       "\n",
       "   Washington  \n",
       "0         0.0  \n",
       "\n",
       "[1 rows x 21 columns]"
      ]
     },
     "execution_count": 167,
     "metadata": {},
     "output_type": "execute_result"
    }
   ],
   "source": [
    "X_city.head(1)"
   ]
  },
  {
   "cell_type": "markdown",
   "metadata": {},
   "source": [
    "Drop one of the dummy variables (just pick first one on the left):"
   ]
  },
  {
   "cell_type": "code",
   "execution_count": 168,
   "metadata": {
    "collapsed": false
   },
   "outputs": [
    {
     "data": {
      "text/html": [
       "<div>\n",
       "<table border=\"1\" class=\"dataframe\">\n",
       "  <thead>\n",
       "    <tr style=\"text-align: right;\">\n",
       "      <th></th>\n",
       "      <th>intercept</th>\n",
       "      <th>Boston</th>\n",
       "      <th>Charlotte</th>\n",
       "      <th>Chicago</th>\n",
       "      <th>Columbus</th>\n",
       "      <th>Dallas</th>\n",
       "      <th>Denver</th>\n",
       "      <th>Houston</th>\n",
       "      <th>Indianapolis</th>\n",
       "      <th>Los Angeles</th>\n",
       "      <th>Nashville</th>\n",
       "      <th>New York</th>\n",
       "      <th>Philadelphia</th>\n",
       "      <th>Phoenix</th>\n",
       "      <th>San Antonio</th>\n",
       "      <th>San Diego</th>\n",
       "      <th>San Francisco</th>\n",
       "      <th>San Jose</th>\n",
       "      <th>Seattle</th>\n",
       "      <th>Washington</th>\n",
       "    </tr>\n",
       "  </thead>\n",
       "  <tbody>\n",
       "    <tr>\n",
       "      <th>0</th>\n",
       "      <td>1</td>\n",
       "      <td>1.0</td>\n",
       "      <td>0.0</td>\n",
       "      <td>0.0</td>\n",
       "      <td>0.0</td>\n",
       "      <td>0.0</td>\n",
       "      <td>0.0</td>\n",
       "      <td>0.0</td>\n",
       "      <td>0.0</td>\n",
       "      <td>0.0</td>\n",
       "      <td>0.0</td>\n",
       "      <td>0.0</td>\n",
       "      <td>0.0</td>\n",
       "      <td>0.0</td>\n",
       "      <td>0.0</td>\n",
       "      <td>0.0</td>\n",
       "      <td>0.0</td>\n",
       "      <td>0.0</td>\n",
       "      <td>0.0</td>\n",
       "      <td>0.0</td>\n",
       "    </tr>\n",
       "  </tbody>\n",
       "</table>\n",
       "</div>"
      ],
      "text/plain": [
       "   intercept  Boston  Charlotte  Chicago  Columbus  Dallas  Denver  Houston  \\\n",
       "0          1     1.0        0.0      0.0       0.0     0.0     0.0      0.0   \n",
       "\n",
       "   Indianapolis  Los Angeles  Nashville  New York  Philadelphia  Phoenix  \\\n",
       "0           0.0          0.0        0.0       0.0           0.0      0.0   \n",
       "\n",
       "   San Antonio  San Diego  San Francisco  San Jose  Seattle  Washington  \n",
       "0          0.0        0.0            0.0       0.0      0.0         0.0  "
      ]
     },
     "execution_count": 168,
     "metadata": {},
     "output_type": "execute_result"
    }
   ],
   "source": [
    "X_city.drop('Austin', axis=1, inplace=True)\n",
    "X_city.head(1)"
   ]
  },
  {
   "cell_type": "code",
   "execution_count": 169,
   "metadata": {
    "collapsed": true
   },
   "outputs": [],
   "source": [
    "model_city = st.MNLogit(y, X_city)"
   ]
  },
  {
   "cell_type": "code",
   "execution_count": 170,
   "metadata": {
    "collapsed": false
   },
   "outputs": [
    {
     "name": "stdout",
     "output_type": "stream",
     "text": [
      "Warning: Maximum number of iterations has been exceeded.\n",
      "         Current function value: 0.286465\n",
      "         Iterations: 35\n",
      "         Function evaluations: 37\n",
      "         Gradient evaluations: 37\n"
     ]
    },
    {
     "name": "stderr",
     "output_type": "stream",
     "text": [
      "/Users/Rebecca/anaconda/lib/python2.7/site-packages/statsmodels/base/model.py:466: ConvergenceWarning:\n",
      "\n",
      "Maximum Likelihood optimization failed to converge. Check mle_retvals\n",
      "\n"
     ]
    }
   ],
   "source": [
    "model_city_fit = model_city.fit(method = 'bfgs')"
   ]
  },
  {
   "cell_type": "code",
   "execution_count": 171,
   "metadata": {
    "collapsed": false
   },
   "outputs": [
    {
     "data": {
      "text/html": [
       "<table class=\"simpletable\">\n",
       "<caption>MNLogit Regression Results</caption>\n",
       "<tr>\n",
       "  <th>Dep. Variable:</th>     <td>sal_dummy</td>    <th>  No. Observations:  </th>  <td>   204</td>  \n",
       "</tr>\n",
       "<tr>\n",
       "  <th>Model:</th>              <td>MNLogit</td>     <th>  Df Residuals:      </th>  <td>   184</td>  \n",
       "</tr>\n",
       "<tr>\n",
       "  <th>Method:</th>               <td>MLE</td>       <th>  Df Model:          </th>  <td>    19</td>  \n",
       "</tr>\n",
       "<tr>\n",
       "  <th>Date:</th>          <td>Fri, 08 Jul 2016</td> <th>  Pseudo R-squ.:     </th>  <td>0.5867</td>  \n",
       "</tr>\n",
       "<tr>\n",
       "  <th>Time:</th>              <td>02:48:45</td>     <th>  Log-Likelihood:    </th> <td> -58.439</td> \n",
       "</tr>\n",
       "<tr>\n",
       "  <th>converged:</th>           <td>False</td>      <th>  LL-Null:           </th> <td> -141.40</td> \n",
       "</tr>\n",
       "<tr>\n",
       "  <th> </th>                      <td> </td>        <th>  LLR p-value:       </th> <td>1.777e-25</td>\n",
       "</tr>\n",
       "</table>\n",
       "<table class=\"simpletable\">\n",
       "<tr>\n",
       "   <th>sal_dummy=1</th>     <th>coef</th>     <th>std err</th>      <th>z</th>      <th>P>|z|</th> <th>[95.0% Conf. Int.]</th> \n",
       "</tr>\n",
       "<tr>\n",
       "  <th>intercept</th>     <td>    1.1854</td> <td>    1.181</td> <td>    1.004</td> <td> 0.315</td> <td>   -1.129     3.500</td>\n",
       "</tr>\n",
       "<tr>\n",
       "  <th>Boston</th>        <td>    0.2707</td> <td>    1.392</td> <td>    0.194</td> <td> 0.846</td> <td>   -2.458     2.999</td>\n",
       "</tr>\n",
       "<tr>\n",
       "  <th>Charlotte</th>     <td>    0.9102</td> <td>    3.413</td> <td>    0.267</td> <td> 0.790</td> <td>   -5.779     7.599</td>\n",
       "</tr>\n",
       "<tr>\n",
       "  <th>Chicago</th>       <td>    3.8217</td> <td>    4.067</td> <td>    0.940</td> <td> 0.347</td> <td>   -4.150    11.793</td>\n",
       "</tr>\n",
       "<tr>\n",
       "  <th>Columbus</th>      <td>    0.9102</td> <td>    3.413</td> <td>    0.267</td> <td> 0.790</td> <td>   -5.779     7.599</td>\n",
       "</tr>\n",
       "<tr>\n",
       "  <th>Dallas</th>        <td>   -1.9792</td> <td>    1.526</td> <td>   -1.297</td> <td> 0.194</td> <td>   -4.969     1.011</td>\n",
       "</tr>\n",
       "<tr>\n",
       "  <th>Denver</th>        <td>   -1.1171</td> <td>    1.843</td> <td>   -0.606</td> <td> 0.544</td> <td>   -4.729     2.495</td>\n",
       "</tr>\n",
       "<tr>\n",
       "  <th>Houston</th>       <td>   -5.1491</td> <td>    1.451</td> <td>   -3.549</td> <td> 0.000</td> <td>   -7.992    -2.306</td>\n",
       "</tr>\n",
       "<tr>\n",
       "  <th>Indianapolis</th>  <td>   -2.1710</td> <td>    2.539</td> <td>   -0.855</td> <td> 0.393</td> <td>   -7.148     2.806</td>\n",
       "</tr>\n",
       "<tr>\n",
       "  <th>Los Angeles</th>   <td>    1.3705</td> <td>    1.700</td> <td>    0.806</td> <td> 0.420</td> <td>   -1.962     4.703</td>\n",
       "</tr>\n",
       "<tr>\n",
       "  <th>Nashville</th>     <td>    0.9102</td> <td>    3.413</td> <td>    0.267</td> <td> 0.790</td> <td>   -5.779     7.599</td>\n",
       "</tr>\n",
       "<tr>\n",
       "  <th>New York</th>      <td>   -0.1024</td> <td>    1.275</td> <td>   -0.080</td> <td> 0.936</td> <td>   -2.600     2.396</td>\n",
       "</tr>\n",
       "<tr>\n",
       "  <th>Philadelphia</th>  <td>    2.0454</td> <td>    3.242</td> <td>    0.631</td> <td> 0.528</td> <td>   -4.308     8.399</td>\n",
       "</tr>\n",
       "<tr>\n",
       "  <th>Phoenix</th>       <td>   -1.1171</td> <td>    1.843</td> <td>   -0.606</td> <td> 0.544</td> <td>   -4.729     2.495</td>\n",
       "</tr>\n",
       "<tr>\n",
       "  <th>San Antonio</th>   <td>   -2.1710</td> <td>    2.539</td> <td>   -0.855</td> <td> 0.393</td> <td>   -7.148     2.806</td>\n",
       "</tr>\n",
       "<tr>\n",
       "  <th>San Diego</th>     <td>    3.6651</td> <td>    3.977</td> <td>    0.922</td> <td> 0.357</td> <td>   -4.130    11.460</td>\n",
       "</tr>\n",
       "<tr>\n",
       "  <th>San Francisco</th> <td>    0.0299</td> <td>    1.677</td> <td>    0.018</td> <td> 0.986</td> <td>   -3.256     3.316</td>\n",
       "</tr>\n",
       "<tr>\n",
       "  <th>San Jose</th>      <td>   -0.5647</td> <td>    1.372</td> <td>   -0.412</td> <td> 0.681</td> <td>   -3.254     2.125</td>\n",
       "</tr>\n",
       "<tr>\n",
       "  <th>Seattle</th>       <td>    0.3799</td> <td>    1.671</td> <td>    0.227</td> <td> 0.820</td> <td>   -2.896     3.656</td>\n",
       "</tr>\n",
       "<tr>\n",
       "  <th>Washington</th>    <td>    0.6174</td> <td>    1.318</td> <td>    0.468</td> <td> 0.640</td> <td>   -1.966     3.201</td>\n",
       "</tr>\n",
       "</table>"
      ],
      "text/plain": [
       "<class 'statsmodels.iolib.summary.Summary'>\n",
       "\"\"\"\n",
       "                          MNLogit Regression Results                          \n",
       "==============================================================================\n",
       "Dep. Variable:              sal_dummy   No. Observations:                  204\n",
       "Model:                        MNLogit   Df Residuals:                      184\n",
       "Method:                           MLE   Df Model:                           19\n",
       "Date:                Fri, 08 Jul 2016   Pseudo R-squ.:                  0.5867\n",
       "Time:                        02:48:45   Log-Likelihood:                -58.439\n",
       "converged:                      False   LL-Null:                       -141.40\n",
       "                                        LLR p-value:                 1.777e-25\n",
       "=================================================================================\n",
       "  sal_dummy=1       coef    std err          z      P>|z|      [95.0% Conf. Int.]\n",
       "---------------------------------------------------------------------------------\n",
       "intercept         1.1854      1.181      1.004      0.315        -1.129     3.500\n",
       "Boston            0.2707      1.392      0.194      0.846        -2.458     2.999\n",
       "Charlotte         0.9102      3.413      0.267      0.790        -5.779     7.599\n",
       "Chicago           3.8217      4.067      0.940      0.347        -4.150    11.793\n",
       "Columbus          0.9102      3.413      0.267      0.790        -5.779     7.599\n",
       "Dallas           -1.9792      1.526     -1.297      0.194        -4.969     1.011\n",
       "Denver           -1.1171      1.843     -0.606      0.544        -4.729     2.495\n",
       "Houston          -5.1491      1.451     -3.549      0.000        -7.992    -2.306\n",
       "Indianapolis     -2.1710      2.539     -0.855      0.393        -7.148     2.806\n",
       "Los Angeles       1.3705      1.700      0.806      0.420        -1.962     4.703\n",
       "Nashville         0.9102      3.413      0.267      0.790        -5.779     7.599\n",
       "New York         -0.1024      1.275     -0.080      0.936        -2.600     2.396\n",
       "Philadelphia      2.0454      3.242      0.631      0.528        -4.308     8.399\n",
       "Phoenix          -1.1171      1.843     -0.606      0.544        -4.729     2.495\n",
       "San Antonio      -2.1710      2.539     -0.855      0.393        -7.148     2.806\n",
       "San Diego         3.6651      3.977      0.922      0.357        -4.130    11.460\n",
       "San Francisco     0.0299      1.677      0.018      0.986        -3.256     3.316\n",
       "San Jose         -0.5647      1.372     -0.412      0.681        -3.254     2.125\n",
       "Seattle           0.3799      1.671      0.227      0.820        -2.896     3.656\n",
       "Washington        0.6174      1.318      0.468      0.640        -1.966     3.201\n",
       "=================================================================================\n",
       "\"\"\""
      ]
     },
     "execution_count": 171,
     "metadata": {},
     "output_type": "execute_result"
    }
   ],
   "source": [
    "model_city_fit.summary()"
   ]
  },
  {
   "cell_type": "code",
   "execution_count": 172,
   "metadata": {
    "collapsed": false
   },
   "outputs": [
    {
     "name": "stdout",
     "output_type": "stream",
     "text": [
      "AIC: 156.877777624\n",
      "BIC: 223.240177501\n"
     ]
    }
   ],
   "source": [
    "### aic and bic ###\n",
    "print 'AIC: %s' %model_city_fit.aic\n",
    "print 'BIC: %s' %model_city_fit.bic"
   ]
  },
  {
   "cell_type": "code",
   "execution_count": 19,
   "metadata": {
    "collapsed": false,
    "scrolled": true
   },
   "outputs": [],
   "source": [
    "### marginal effects ###\n",
    "#model_city_margeff = model_city_fit.get_margeff()\n",
    "#print model_city_margeff.summary() "
   ]
  },
  {
   "cell_type": "markdown",
   "metadata": {},
   "source": [
    "Houston is significant in this model at a 0.05 significance level; while salaries listed in Texas in the data set are lower, it should be noted that Texas is among the U.S. states which does not levy a personal income tax."
   ]
  },
  {
   "cell_type": "code",
   "execution_count": 224,
   "metadata": {
    "collapsed": false
   },
   "outputs": [
    {
     "name": "stdout",
     "output_type": "stream",
     "text": [
      "Optimization terminated successfully.\n",
      "         Current function value: 0.341722\n",
      "         Iterations 8\n"
     ]
    },
    {
     "data": {
      "text/html": [
       "<table class=\"simpletable\">\n",
       "<caption>MNLogit Regression Results</caption>\n",
       "<tr>\n",
       "  <th>Dep. Variable:</th>     <td>sal_dummy</td>    <th>  No. Observations:  </th>  <td>   204</td>  \n",
       "</tr>\n",
       "<tr>\n",
       "  <th>Model:</th>              <td>MNLogit</td>     <th>  Df Residuals:      </th>  <td>   202</td>  \n",
       "</tr>\n",
       "<tr>\n",
       "  <th>Method:</th>               <td>MLE</td>       <th>  Df Model:          </th>  <td>     1</td>  \n",
       "</tr>\n",
       "<tr>\n",
       "  <th>Date:</th>          <td>Fri, 08 Jul 2016</td> <th>  Pseudo R-squ.:     </th>  <td>0.5070</td>  \n",
       "</tr>\n",
       "<tr>\n",
       "  <th>Time:</th>              <td>03:49:10</td>     <th>  Log-Likelihood:    </th> <td> -69.711</td> \n",
       "</tr>\n",
       "<tr>\n",
       "  <th>converged:</th>           <td>True</td>       <th>  LL-Null:           </th> <td> -141.40</td> \n",
       "</tr>\n",
       "<tr>\n",
       "  <th> </th>                      <td> </td>        <th>  LLR p-value:       </th> <td>4.851e-33</td>\n",
       "</tr>\n",
       "</table>\n",
       "<table class=\"simpletable\">\n",
       "<tr>\n",
       "  <th>sal_dummy=1</th>    <th>coef</th>     <th>std err</th>      <th>z</th>      <th>P>|z|</th> <th>[95.0% Conf. Int.]</th> \n",
       "</tr>\n",
       "<tr>\n",
       "  <th>intercept</th>   <td>    1.3570</td> <td>    0.220</td> <td>    6.171</td> <td> 0.000</td> <td>    0.926     1.788</td>\n",
       "</tr>\n",
       "<tr>\n",
       "  <th>Houston</th>     <td>   -5.6878</td> <td>    1.030</td> <td>   -5.520</td> <td> 0.000</td> <td>   -7.707    -3.668</td>\n",
       "</tr>\n",
       "</table>"
      ],
      "text/plain": [
       "<class 'statsmodels.iolib.summary.Summary'>\n",
       "\"\"\"\n",
       "                          MNLogit Regression Results                          \n",
       "==============================================================================\n",
       "Dep. Variable:              sal_dummy   No. Observations:                  204\n",
       "Model:                        MNLogit   Df Residuals:                      202\n",
       "Method:                           MLE   Df Model:                            1\n",
       "Date:                Fri, 08 Jul 2016   Pseudo R-squ.:                  0.5070\n",
       "Time:                        03:49:10   Log-Likelihood:                -69.711\n",
       "converged:                       True   LL-Null:                       -141.40\n",
       "                                        LLR p-value:                 4.851e-33\n",
       "===============================================================================\n",
       "sal_dummy=1       coef    std err          z      P>|z|      [95.0% Conf. Int.]\n",
       "-------------------------------------------------------------------------------\n",
       "intercept       1.3570      0.220      6.171      0.000         0.926     1.788\n",
       "Houston        -5.6878      1.030     -5.520      0.000        -7.707    -3.668\n",
       "===============================================================================\n",
       "\"\"\""
      ]
     },
     "execution_count": 224,
     "metadata": {},
     "output_type": "execute_result"
    }
   ],
   "source": [
    "X_houston = X_city[['intercept', 'Houston']]\n",
    "y = sal_df['sal_dummy']\n",
    "\n",
    "model_houston = st.MNLogit(y, X_houston)\n",
    "\n",
    "model_houston_fit = model_houston.fit()\n",
    "\n",
    "model_houston_fit.summary()"
   ]
  },
  {
   "cell_type": "code",
   "execution_count": 225,
   "metadata": {
    "collapsed": false
   },
   "outputs": [
    {
     "name": "stdout",
     "output_type": "stream",
     "text": [
      "AIC: 143.422722823\n",
      "BIC: 150.058962811\n"
     ]
    }
   ],
   "source": [
    "### aic and bic ###\n",
    "print 'AIC: %s' %model_houston_fit.aic\n",
    "print 'BIC: %s' %model_houston_fit.bic"
   ]
  },
  {
   "cell_type": "markdown",
   "metadata": {},
   "source": [
    "Now, do a logistic regression with state dummy variables:"
   ]
  },
  {
   "cell_type": "code",
   "execution_count": 173,
   "metadata": {
    "collapsed": false
   },
   "outputs": [
    {
     "data": {
      "text/plain": [
       "TX    87\n",
       "CA    32\n",
       "DC    24\n",
       "NY    23\n",
       "MA    12\n",
       "IL    10\n",
       "WA     5\n",
       "PA     3\n",
       "AZ     2\n",
       "CO     2\n",
       "IN     1\n",
       "TN     1\n",
       "NC     1\n",
       "OH     1\n",
       "Name: state, dtype: int64"
      ]
     },
     "execution_count": 173,
     "metadata": {},
     "output_type": "execute_result"
    }
   ],
   "source": [
    "sal_df['state'].value_counts()"
   ]
  },
  {
   "cell_type": "code",
   "execution_count": 174,
   "metadata": {
    "collapsed": true
   },
   "outputs": [],
   "source": [
    "X_state = pd.DataFrame(sal_df['state'])\n",
    "X_state['intercept'] = 1\n",
    "X_state = pd.concat([X_state.drop('state',axis=1), pd.get_dummies(X_state['state'])], axis = 1)\n",
    "y = sal_df['sal_dummy'] #same target"
   ]
  },
  {
   "cell_type": "code",
   "execution_count": 175,
   "metadata": {
    "collapsed": false
   },
   "outputs": [
    {
     "data": {
      "text/html": [
       "<div>\n",
       "<table border=\"1\" class=\"dataframe\">\n",
       "  <thead>\n",
       "    <tr style=\"text-align: right;\">\n",
       "      <th></th>\n",
       "      <th>intercept</th>\n",
       "      <th>AZ</th>\n",
       "      <th>CA</th>\n",
       "      <th>CO</th>\n",
       "      <th>DC</th>\n",
       "      <th>IL</th>\n",
       "      <th>IN</th>\n",
       "      <th>MA</th>\n",
       "      <th>NC</th>\n",
       "      <th>NY</th>\n",
       "      <th>OH</th>\n",
       "      <th>PA</th>\n",
       "      <th>TN</th>\n",
       "      <th>TX</th>\n",
       "      <th>WA</th>\n",
       "    </tr>\n",
       "  </thead>\n",
       "  <tbody>\n",
       "    <tr>\n",
       "      <th>0</th>\n",
       "      <td>1</td>\n",
       "      <td>0.0</td>\n",
       "      <td>0.0</td>\n",
       "      <td>0.0</td>\n",
       "      <td>0.0</td>\n",
       "      <td>0.0</td>\n",
       "      <td>0.0</td>\n",
       "      <td>1.0</td>\n",
       "      <td>0.0</td>\n",
       "      <td>0.0</td>\n",
       "      <td>0.0</td>\n",
       "      <td>0.0</td>\n",
       "      <td>0.0</td>\n",
       "      <td>0.0</td>\n",
       "      <td>0.0</td>\n",
       "    </tr>\n",
       "  </tbody>\n",
       "</table>\n",
       "</div>"
      ],
      "text/plain": [
       "   intercept   AZ   CA   CO   DC   IL   IN   MA   NC   NY   OH   PA   TN   TX  \\\n",
       "0          1  0.0  0.0  0.0  0.0  0.0  0.0  1.0  0.0  0.0  0.0  0.0  0.0  0.0   \n",
       "\n",
       "    WA  \n",
       "0  0.0  "
      ]
     },
     "execution_count": 175,
     "metadata": {},
     "output_type": "execute_result"
    }
   ],
   "source": [
    "X_state.head(1)"
   ]
  },
  {
   "cell_type": "markdown",
   "metadata": {},
   "source": [
    "Drop one of the dummy variables (just pick first one on the left):"
   ]
  },
  {
   "cell_type": "code",
   "execution_count": 176,
   "metadata": {
    "collapsed": false
   },
   "outputs": [
    {
     "data": {
      "text/html": [
       "<div>\n",
       "<table border=\"1\" class=\"dataframe\">\n",
       "  <thead>\n",
       "    <tr style=\"text-align: right;\">\n",
       "      <th></th>\n",
       "      <th>intercept</th>\n",
       "      <th>CA</th>\n",
       "      <th>CO</th>\n",
       "      <th>DC</th>\n",
       "      <th>IL</th>\n",
       "      <th>IN</th>\n",
       "      <th>MA</th>\n",
       "      <th>NC</th>\n",
       "      <th>NY</th>\n",
       "      <th>OH</th>\n",
       "      <th>PA</th>\n",
       "      <th>TN</th>\n",
       "      <th>TX</th>\n",
       "      <th>WA</th>\n",
       "    </tr>\n",
       "  </thead>\n",
       "  <tbody>\n",
       "    <tr>\n",
       "      <th>0</th>\n",
       "      <td>1</td>\n",
       "      <td>0.0</td>\n",
       "      <td>0.0</td>\n",
       "      <td>0.0</td>\n",
       "      <td>0.0</td>\n",
       "      <td>0.0</td>\n",
       "      <td>1.0</td>\n",
       "      <td>0.0</td>\n",
       "      <td>0.0</td>\n",
       "      <td>0.0</td>\n",
       "      <td>0.0</td>\n",
       "      <td>0.0</td>\n",
       "      <td>0.0</td>\n",
       "      <td>0.0</td>\n",
       "    </tr>\n",
       "  </tbody>\n",
       "</table>\n",
       "</div>"
      ],
      "text/plain": [
       "   intercept   CA   CO   DC   IL   IN   MA   NC   NY   OH   PA   TN   TX   WA\n",
       "0          1  0.0  0.0  0.0  0.0  0.0  1.0  0.0  0.0  0.0  0.0  0.0  0.0  0.0"
      ]
     },
     "execution_count": 176,
     "metadata": {},
     "output_type": "execute_result"
    }
   ],
   "source": [
    "X_state.drop('AZ', axis=1, inplace=True)\n",
    "X_state.head(1)"
   ]
  },
  {
   "cell_type": "code",
   "execution_count": 177,
   "metadata": {
    "collapsed": true
   },
   "outputs": [],
   "source": [
    "model_state = st.MNLogit(y, X_state)"
   ]
  },
  {
   "cell_type": "code",
   "execution_count": 178,
   "metadata": {
    "collapsed": false
   },
   "outputs": [
    {
     "name": "stdout",
     "output_type": "stream",
     "text": [
      "Warning: Maximum number of iterations has been exceeded.\n",
      "         Current function value: 0.350241\n",
      "         Iterations: 35\n",
      "         Function evaluations: 37\n",
      "         Gradient evaluations: 37\n"
     ]
    },
    {
     "name": "stderr",
     "output_type": "stream",
     "text": [
      "/Users/Rebecca/anaconda/lib/python2.7/site-packages/statsmodels/base/model.py:466: ConvergenceWarning:\n",
      "\n",
      "Maximum Likelihood optimization failed to converge. Check mle_retvals\n",
      "\n"
     ]
    }
   ],
   "source": [
    "model_state_fit = model_state.fit(method = 'bfgs')"
   ]
  },
  {
   "cell_type": "code",
   "execution_count": 179,
   "metadata": {
    "collapsed": false
   },
   "outputs": [
    {
     "data": {
      "text/html": [
       "<table class=\"simpletable\">\n",
       "<caption>MNLogit Regression Results</caption>\n",
       "<tr>\n",
       "  <th>Dep. Variable:</th>     <td>sal_dummy</td>    <th>  No. Observations:  </th>  <td>   204</td>  \n",
       "</tr>\n",
       "<tr>\n",
       "  <th>Model:</th>              <td>MNLogit</td>     <th>  Df Residuals:      </th>  <td>   190</td>  \n",
       "</tr>\n",
       "<tr>\n",
       "  <th>Method:</th>               <td>MLE</td>       <th>  Df Model:          </th>  <td>    13</td>  \n",
       "</tr>\n",
       "<tr>\n",
       "  <th>Date:</th>          <td>Fri, 08 Jul 2016</td> <th>  Pseudo R-squ.:     </th>  <td>0.4947</td>  \n",
       "</tr>\n",
       "<tr>\n",
       "  <th>Time:</th>              <td>02:58:08</td>     <th>  Log-Likelihood:    </th> <td> -71.449</td> \n",
       "</tr>\n",
       "<tr>\n",
       "  <th>converged:</th>           <td>False</td>      <th>  LL-Null:           </th> <td> -141.40</td> \n",
       "</tr>\n",
       "<tr>\n",
       "  <th> </th>                      <td> </td>        <th>  LLR p-value:       </th> <td>2.198e-23</td>\n",
       "</tr>\n",
       "</table>\n",
       "<table class=\"simpletable\">\n",
       "<tr>\n",
       "  <th>sal_dummy=1</th>    <th>coef</th>     <th>std err</th>      <th>z</th>      <th>P>|z|</th> <th>[95.0% Conf. Int.]</th> \n",
       "</tr>\n",
       "<tr>\n",
       "  <th>intercept</th>   <td>    1.3983</td> <td>    1.774</td> <td>    0.788</td> <td> 0.431</td> <td>   -2.079     4.876</td>\n",
       "</tr>\n",
       "<tr>\n",
       "  <th>CA</th>          <td>    0.4117</td> <td>    1.846</td> <td>    0.223</td> <td> 0.823</td> <td>   -3.206     4.029</td>\n",
       "</tr>\n",
       "<tr>\n",
       "  <th>CO</th>          <td>   -1.7489</td> <td>    2.283</td> <td>   -0.766</td> <td> 0.444</td> <td>   -6.223     2.725</td>\n",
       "</tr>\n",
       "<tr>\n",
       "  <th>DC</th>          <td>    0.0765</td> <td>    1.850</td> <td>    0.041</td> <td> 0.967</td> <td>   -3.550     3.703</td>\n",
       "</tr>\n",
       "<tr>\n",
       "  <th>IL</th>          <td>    5.5945</td> <td>   10.594</td> <td>    0.528</td> <td> 0.597</td> <td>  -15.169    26.358</td>\n",
       "</tr>\n",
       "<tr>\n",
       "  <th>IN</th>          <td>   -3.1655</td> <td>    3.343</td> <td>   -0.947</td> <td> 0.344</td> <td>   -9.717     3.386</td>\n",
       "</tr>\n",
       "<tr>\n",
       "  <th>MA</th>          <td>    0.1210</td> <td>    1.927</td> <td>    0.063</td> <td> 0.950</td> <td>   -3.656     3.898</td>\n",
       "</tr>\n",
       "<tr>\n",
       "  <th>NC</th>          <td>    1.2197</td> <td>    4.351</td> <td>    0.280</td> <td> 0.779</td> <td>   -7.308     9.747</td>\n",
       "</tr>\n",
       "<tr>\n",
       "  <th>NY</th>          <td>   -0.4193</td> <td>    1.835</td> <td>   -0.229</td> <td> 0.819</td> <td>   -4.016     3.177</td>\n",
       "</tr>\n",
       "<tr>\n",
       "  <th>OH</th>          <td>    1.2197</td> <td>    4.351</td> <td>    0.280</td> <td> 0.779</td> <td>   -7.308     9.747</td>\n",
       "</tr>\n",
       "<tr>\n",
       "  <th>PA</th>          <td>    2.8384</td> <td>    5.185</td> <td>    0.547</td> <td> 0.584</td> <td>   -7.323    13.000</td>\n",
       "</tr>\n",
       "<tr>\n",
       "  <th>TN</th>          <td>    1.2197</td> <td>    4.351</td> <td>    0.280</td> <td> 0.779</td> <td>   -7.308     9.747</td>\n",
       "</tr>\n",
       "<tr>\n",
       "  <th>TX</th>          <td>   -4.0101</td> <td>    1.824</td> <td>   -2.198</td> <td> 0.028</td> <td>   -7.586    -0.434</td>\n",
       "</tr>\n",
       "<tr>\n",
       "  <th>WA</th>          <td>    0.4185</td> <td>    2.193</td> <td>    0.191</td> <td> 0.849</td> <td>   -3.880     4.717</td>\n",
       "</tr>\n",
       "</table>"
      ],
      "text/plain": [
       "<class 'statsmodels.iolib.summary.Summary'>\n",
       "\"\"\"\n",
       "                          MNLogit Regression Results                          \n",
       "==============================================================================\n",
       "Dep. Variable:              sal_dummy   No. Observations:                  204\n",
       "Model:                        MNLogit   Df Residuals:                      190\n",
       "Method:                           MLE   Df Model:                           13\n",
       "Date:                Fri, 08 Jul 2016   Pseudo R-squ.:                  0.4947\n",
       "Time:                        02:58:08   Log-Likelihood:                -71.449\n",
       "converged:                      False   LL-Null:                       -141.40\n",
       "                                        LLR p-value:                 2.198e-23\n",
       "===============================================================================\n",
       "sal_dummy=1       coef    std err          z      P>|z|      [95.0% Conf. Int.]\n",
       "-------------------------------------------------------------------------------\n",
       "intercept       1.3983      1.774      0.788      0.431        -2.079     4.876\n",
       "CA              0.4117      1.846      0.223      0.823        -3.206     4.029\n",
       "CO             -1.7489      2.283     -0.766      0.444        -6.223     2.725\n",
       "DC              0.0765      1.850      0.041      0.967        -3.550     3.703\n",
       "IL              5.5945     10.594      0.528      0.597       -15.169    26.358\n",
       "IN             -3.1655      3.343     -0.947      0.344        -9.717     3.386\n",
       "MA              0.1210      1.927      0.063      0.950        -3.656     3.898\n",
       "NC              1.2197      4.351      0.280      0.779        -7.308     9.747\n",
       "NY             -0.4193      1.835     -0.229      0.819        -4.016     3.177\n",
       "OH              1.2197      4.351      0.280      0.779        -7.308     9.747\n",
       "PA              2.8384      5.185      0.547      0.584        -7.323    13.000\n",
       "TN              1.2197      4.351      0.280      0.779        -7.308     9.747\n",
       "TX             -4.0101      1.824     -2.198      0.028        -7.586    -0.434\n",
       "WA              0.4185      2.193      0.191      0.849        -3.880     4.717\n",
       "===============================================================================\n",
       "\"\"\""
      ]
     },
     "execution_count": 179,
     "metadata": {},
     "output_type": "execute_result"
    }
   ],
   "source": [
    "model_state_fit.summary()"
   ]
  },
  {
   "cell_type": "code",
   "execution_count": 180,
   "metadata": {
    "collapsed": false
   },
   "outputs": [
    {
     "name": "stdout",
     "output_type": "stream",
     "text": [
      "AIC: 170.898483912\n",
      "BIC: 217.352163826\n"
     ]
    }
   ],
   "source": [
    "### aic and bic ###\n",
    "print 'AIC: %s' %model_state_fit.aic\n",
    "print 'BIC: %s' %model_state_fit.bic"
   ]
  },
  {
   "cell_type": "code",
   "execution_count": 28,
   "metadata": {
    "collapsed": false
   },
   "outputs": [],
   "source": [
    "### marginal effects ###\n",
    "#model_state_margeff = model_state_fit.get_margeff()\n",
    "#print model_state_margeff.summary() "
   ]
  },
  {
   "cell_type": "markdown",
   "metadata": {},
   "source": [
    "Texas is significant in this model at a 0.05 significance level; again, Texas is among few U.S. states which does not levy a personal income tax.  Salaries may be expected to average lower than nationwide figures."
   ]
  },
  {
   "cell_type": "code",
   "execution_count": 222,
   "metadata": {
    "collapsed": false
   },
   "outputs": [
    {
     "name": "stdout",
     "output_type": "stream",
     "text": [
      "Optimization terminated successfully.\n",
      "         Current function value: 0.376936\n",
      "         Iterations 7\n"
     ]
    },
    {
     "data": {
      "text/html": [
       "<table class=\"simpletable\">\n",
       "<caption>MNLogit Regression Results</caption>\n",
       "<tr>\n",
       "  <th>Dep. Variable:</th>     <td>sal_dummy</td>    <th>  No. Observations:  </th>  <td>   204</td>  \n",
       "</tr>\n",
       "<tr>\n",
       "  <th>Model:</th>              <td>MNLogit</td>     <th>  Df Residuals:      </th>  <td>   202</td>  \n",
       "</tr>\n",
       "<tr>\n",
       "  <th>Method:</th>               <td>MLE</td>       <th>  Df Model:          </th>  <td>     1</td>  \n",
       "</tr>\n",
       "<tr>\n",
       "  <th>Date:</th>          <td>Fri, 08 Jul 2016</td> <th>  Pseudo R-squ.:     </th>  <td>0.4562</td>  \n",
       "</tr>\n",
       "<tr>\n",
       "  <th>Time:</th>              <td>03:46:09</td>     <th>  Log-Likelihood:    </th> <td> -76.895</td> \n",
       "</tr>\n",
       "<tr>\n",
       "  <th>converged:</th>           <td>True</td>       <th>  LL-Null:           </th> <td> -141.40</td> \n",
       "</tr>\n",
       "<tr>\n",
       "  <th> </th>                      <td> </td>        <th>  LLR p-value:       </th> <td>6.734e-30</td>\n",
       "</tr>\n",
       "</table>\n",
       "<table class=\"simpletable\">\n",
       "<tr>\n",
       "  <th>sal_dummy=1</th>    <th>coef</th>     <th>std err</th>      <th>z</th>      <th>P>|z|</th> <th>[95.0% Conf. Int.]</th> \n",
       "</tr>\n",
       "<tr>\n",
       "  <th>intercept</th>   <td>    1.5198</td> <td>    0.241</td> <td>    6.309</td> <td> 0.000</td> <td>    1.048     1.992</td>\n",
       "</tr>\n",
       "<tr>\n",
       "  <th>TX</th>          <td>   -4.1225</td> <td>    0.487</td> <td>   -8.467</td> <td> 0.000</td> <td>   -5.077    -3.168</td>\n",
       "</tr>\n",
       "</table>"
      ],
      "text/plain": [
       "<class 'statsmodels.iolib.summary.Summary'>\n",
       "\"\"\"\n",
       "                          MNLogit Regression Results                          \n",
       "==============================================================================\n",
       "Dep. Variable:              sal_dummy   No. Observations:                  204\n",
       "Model:                        MNLogit   Df Residuals:                      202\n",
       "Method:                           MLE   Df Model:                            1\n",
       "Date:                Fri, 08 Jul 2016   Pseudo R-squ.:                  0.4562\n",
       "Time:                        03:46:09   Log-Likelihood:                -76.895\n",
       "converged:                       True   LL-Null:                       -141.40\n",
       "                                        LLR p-value:                 6.734e-30\n",
       "===============================================================================\n",
       "sal_dummy=1       coef    std err          z      P>|z|      [95.0% Conf. Int.]\n",
       "-------------------------------------------------------------------------------\n",
       "intercept       1.5198      0.241      6.309      0.000         1.048     1.992\n",
       "TX             -4.1225      0.487     -8.467      0.000        -5.077    -3.168\n",
       "===============================================================================\n",
       "\"\"\""
      ]
     },
     "execution_count": 222,
     "metadata": {},
     "output_type": "execute_result"
    }
   ],
   "source": [
    "X_TX = X_state[['intercept', 'TX']]\n",
    "y = sal_df['sal_dummy']\n",
    "\n",
    "model_TX = st.MNLogit(y, X_TX)\n",
    "\n",
    "model_TX_fit = model_TX.fit()\n",
    "\n",
    "model_TX_fit.summary()"
   ]
  },
  {
   "cell_type": "code",
   "execution_count": 223,
   "metadata": {
    "collapsed": false
   },
   "outputs": [
    {
     "name": "stdout",
     "output_type": "stream",
     "text": [
      "AIC: 157.790041555\n",
      "BIC: 164.426281542\n"
     ]
    }
   ],
   "source": [
    "### aic and bic ###\n",
    "print 'AIC: %s' %model_TX_fit.aic\n",
    "print 'BIC: %s' %model_TX_fit.bic"
   ]
  },
  {
   "cell_type": "markdown",
   "metadata": {},
   "source": [
    "AIC and BIC have both improved from the full city & state models when switching to Houston & TX-only dummy variables!  Since the scores are lower for Houston, let's keep that one for now (and note that Dallas's salaries are higher on average in this data set)."
   ]
  },
  {
   "cell_type": "markdown",
   "metadata": {
    "focus": false,
    "id": "0ef04f32-419c-4bf2-baf7-48201f03df89"
   },
   "source": [
    "#### Create a few new variables in your dataframe to represent interesting features of a job title.\n",
    "- For example, create a feature that represents whether 'Senior' is in the title \n",
    "- or whether 'Manager' is in the title. \n",
    "- Then build a new Logistic Regression model with these features. Do they add any value? \n"
   ]
  },
  {
   "cell_type": "code",
   "execution_count": 181,
   "metadata": {
    "collapsed": false,
    "focus": false,
    "id": "068dc1cf-7fd7-4f27-a1f1-7f0a5a221d29"
   },
   "outputs": [
    {
     "data": {
      "text/html": [
       "<div>\n",
       "<table border=\"1\" class=\"dataframe\">\n",
       "  <thead>\n",
       "    <tr style=\"text-align: right;\">\n",
       "      <th></th>\n",
       "      <th>title</th>\n",
       "      <th>location</th>\n",
       "      <th>company</th>\n",
       "      <th>city</th>\n",
       "      <th>state</th>\n",
       "      <th>parsed_salary</th>\n",
       "      <th>sal_dummy</th>\n",
       "    </tr>\n",
       "  </thead>\n",
       "  <tbody>\n",
       "    <tr>\n",
       "      <th>0</th>\n",
       "      <td>Data Scientist – Predictive Analytics</td>\n",
       "      <td>Waltham, MA</td>\n",
       "      <td>Jobspring Partners</td>\n",
       "      <td>Boston</td>\n",
       "      <td>MA</td>\n",
       "      <td>135000.0</td>\n",
       "      <td>1</td>\n",
       "    </tr>\n",
       "  </tbody>\n",
       "</table>\n",
       "</div>"
      ],
      "text/plain": [
       "                                   title     location             company  \\\n",
       "0  Data Scientist – Predictive Analytics  Waltham, MA  Jobspring Partners   \n",
       "\n",
       "     city state  parsed_salary  sal_dummy  \n",
       "0  Boston    MA       135000.0          1  "
      ]
     },
     "execution_count": 181,
     "metadata": {},
     "output_type": "execute_result"
    }
   ],
   "source": [
    "sal_df.head(1)"
   ]
  },
  {
   "cell_type": "markdown",
   "metadata": {},
   "source": [
    "Make a list of (non-unique) terms found in 'title' entries; ignore case and symbols."
   ]
  },
  {
   "cell_type": "code",
   "execution_count": 182,
   "metadata": {
    "collapsed": false
   },
   "outputs": [],
   "source": [
    "all_terms = []\n",
    "for i in sal_df['title']:\n",
    "    x = i.lower()\n",
    "    x = re.sub(r'[^\\w]', ' ', x)\n",
    "    x = x.split(' ')\n",
    "    all_terms = all_terms + x\n",
    "    \n",
    "unique_terms = list(set(all_terms))"
   ]
  },
  {
   "cell_type": "markdown",
   "metadata": {},
   "source": [
    "Figure out which of these terms appear the most frequently in the dataframe:"
   ]
  },
  {
   "cell_type": "code",
   "execution_count": 183,
   "metadata": {
    "collapsed": false
   },
   "outputs": [],
   "source": [
    "term_counts = []\n",
    "for i in unique_terms:\n",
    "    count = all_terms.count(i)\n",
    "    term_counts.append(count)\n",
    "\n",
    "count_df = pd.DataFrame([unique_terms, term_counts]).T\n",
    "count_df.columns = ['term', 'count']"
   ]
  },
  {
   "cell_type": "code",
   "execution_count": 202,
   "metadata": {
    "collapsed": false
   },
   "outputs": [],
   "source": [
    "count_df.sort('count', ascending = False).head(50)"
   ]
  },
  {
   "cell_type": "code",
   "execution_count": 185,
   "metadata": {
    "collapsed": false
   },
   "outputs": [],
   "source": [
    "def titleify(df):\n",
    "    '''This function adds a column containing a list of cleaned title terms to dataframe argument.'''\n",
    "    titles = []\n",
    "    for i in df['title']:\n",
    "        x = i.lower()\n",
    "        x = re.sub(r'[^\\w]', ' ', x)\n",
    "        titles.append(x)\n",
    "    df['nice_titles'] = titles\n",
    "    return df"
   ]
  },
  {
   "cell_type": "code",
   "execution_count": 186,
   "metadata": {
    "collapsed": false
   },
   "outputs": [
    {
     "data": {
      "text/html": [
       "<div>\n",
       "<table border=\"1\" class=\"dataframe\">\n",
       "  <thead>\n",
       "    <tr style=\"text-align: right;\">\n",
       "      <th></th>\n",
       "      <th>title</th>\n",
       "      <th>location</th>\n",
       "      <th>company</th>\n",
       "      <th>city</th>\n",
       "      <th>state</th>\n",
       "      <th>parsed_salary</th>\n",
       "      <th>sal_dummy</th>\n",
       "      <th>nice_titles</th>\n",
       "    </tr>\n",
       "  </thead>\n",
       "  <tbody>\n",
       "    <tr>\n",
       "      <th>0</th>\n",
       "      <td>Data Scientist – Predictive Analytics</td>\n",
       "      <td>Waltham, MA</td>\n",
       "      <td>Jobspring Partners</td>\n",
       "      <td>Boston</td>\n",
       "      <td>MA</td>\n",
       "      <td>135000.0</td>\n",
       "      <td>1</td>\n",
       "      <td>data scientist     predictive analytics</td>\n",
       "    </tr>\n",
       "  </tbody>\n",
       "</table>\n",
       "</div>"
      ],
      "text/plain": [
       "                                   title     location             company  \\\n",
       "0  Data Scientist – Predictive Analytics  Waltham, MA  Jobspring Partners   \n",
       "\n",
       "     city state  parsed_salary  sal_dummy  \\\n",
       "0  Boston    MA       135000.0          1   \n",
       "\n",
       "                               nice_titles  \n",
       "0  data scientist     predictive analytics  "
      ]
     },
     "execution_count": 186,
     "metadata": {},
     "output_type": "execute_result"
    }
   ],
   "source": [
    "titleify(sal_df)\n",
    "sal_df.head(1)"
   ]
  },
  {
   "cell_type": "code",
   "execution_count": 187,
   "metadata": {
    "collapsed": true
   },
   "outputs": [],
   "source": [
    "terms = ['senior', 'sr', 'principal', 'officer', 'expert', 'manager', 'relocation', 'engineer', 'machine', \\\n",
    "        'associate', 'statistician', 'analyst', 'financial', 'lead']"
   ]
  },
  {
   "cell_type": "code",
   "execution_count": 192,
   "metadata": {
    "collapsed": false
   },
   "outputs": [
    {
     "name": "stderr",
     "output_type": "stream",
     "text": [
      "/Users/Rebecca/anaconda/lib/python2.7/site-packages/ipykernel/__main__.py:1: FutureWarning:\n",
      "\n",
      "currently extract(expand=None) means expand=False (return Index/Series/DataFrame) but in a future version of pandas this will be changed to expand=True (return DataFrame)\n",
      "\n",
      "/Users/Rebecca/anaconda/lib/python2.7/site-packages/ipykernel/__main__.py:2: FutureWarning:\n",
      "\n",
      "currently extract(expand=None) means expand=False (return Index/Series/DataFrame) but in a future version of pandas this will be changed to expand=True (return DataFrame)\n",
      "\n",
      "/Users/Rebecca/anaconda/lib/python2.7/site-packages/ipykernel/__main__.py:3: FutureWarning:\n",
      "\n",
      "currently extract(expand=None) means expand=False (return Index/Series/DataFrame) but in a future version of pandas this will be changed to expand=True (return DataFrame)\n",
      "\n",
      "/Users/Rebecca/anaconda/lib/python2.7/site-packages/ipykernel/__main__.py:4: FutureWarning:\n",
      "\n",
      "currently extract(expand=None) means expand=False (return Index/Series/DataFrame) but in a future version of pandas this will be changed to expand=True (return DataFrame)\n",
      "\n",
      "/Users/Rebecca/anaconda/lib/python2.7/site-packages/ipykernel/__main__.py:5: FutureWarning:\n",
      "\n",
      "currently extract(expand=None) means expand=False (return Index/Series/DataFrame) but in a future version of pandas this will be changed to expand=True (return DataFrame)\n",
      "\n",
      "/Users/Rebecca/anaconda/lib/python2.7/site-packages/ipykernel/__main__.py:6: FutureWarning:\n",
      "\n",
      "currently extract(expand=None) means expand=False (return Index/Series/DataFrame) but in a future version of pandas this will be changed to expand=True (return DataFrame)\n",
      "\n",
      "/Users/Rebecca/anaconda/lib/python2.7/site-packages/ipykernel/__main__.py:7: FutureWarning:\n",
      "\n",
      "currently extract(expand=None) means expand=False (return Index/Series/DataFrame) but in a future version of pandas this will be changed to expand=True (return DataFrame)\n",
      "\n",
      "/Users/Rebecca/anaconda/lib/python2.7/site-packages/ipykernel/__main__.py:8: FutureWarning:\n",
      "\n",
      "currently extract(expand=None) means expand=False (return Index/Series/DataFrame) but in a future version of pandas this will be changed to expand=True (return DataFrame)\n",
      "\n",
      "/Users/Rebecca/anaconda/lib/python2.7/site-packages/ipykernel/__main__.py:9: FutureWarning:\n",
      "\n",
      "currently extract(expand=None) means expand=False (return Index/Series/DataFrame) but in a future version of pandas this will be changed to expand=True (return DataFrame)\n",
      "\n",
      "/Users/Rebecca/anaconda/lib/python2.7/site-packages/ipykernel/__main__.py:10: FutureWarning:\n",
      "\n",
      "currently extract(expand=None) means expand=False (return Index/Series/DataFrame) but in a future version of pandas this will be changed to expand=True (return DataFrame)\n",
      "\n",
      "/Users/Rebecca/anaconda/lib/python2.7/site-packages/ipykernel/__main__.py:11: FutureWarning:\n",
      "\n",
      "currently extract(expand=None) means expand=False (return Index/Series/DataFrame) but in a future version of pandas this will be changed to expand=True (return DataFrame)\n",
      "\n",
      "/Users/Rebecca/anaconda/lib/python2.7/site-packages/ipykernel/__main__.py:12: FutureWarning:\n",
      "\n",
      "currently extract(expand=None) means expand=False (return Index/Series/DataFrame) but in a future version of pandas this will be changed to expand=True (return DataFrame)\n",
      "\n",
      "/Users/Rebecca/anaconda/lib/python2.7/site-packages/ipykernel/__main__.py:13: FutureWarning:\n",
      "\n",
      "currently extract(expand=None) means expand=False (return Index/Series/DataFrame) but in a future version of pandas this will be changed to expand=True (return DataFrame)\n",
      "\n",
      "/Users/Rebecca/anaconda/lib/python2.7/site-packages/ipykernel/__main__.py:14: FutureWarning:\n",
      "\n",
      "currently extract(expand=None) means expand=False (return Index/Series/DataFrame) but in a future version of pandas this will be changed to expand=True (return DataFrame)\n",
      "\n"
     ]
    }
   ],
   "source": [
    "sal_df['senior'] = sal_df['nice_titles'].str.extract('(senior)')\n",
    "sal_df['sr'] = sal_df['nice_titles'].str.extract('(sr)')\n",
    "sal_df['principal'] = sal_df['nice_titles'].str.extract('(principal)')\n",
    "sal_df['officer'] = sal_df['nice_titles'].str.extract('(officer)')\n",
    "sal_df['expert'] = sal_df['nice_titles'].str.extract('(expert)')\n",
    "sal_df['manager'] = sal_df['nice_titles'].str.extract('(manager)')\n",
    "sal_df['relocation'] = sal_df['nice_titles'].str.extract('(relocation)')\n",
    "sal_df['engineer'] = sal_df['nice_titles'].str.extract('(engineer)')\n",
    "sal_df['machine'] = sal_df['nice_titles'].str.extract('(machine)')\n",
    "sal_df['associate'] = sal_df['nice_titles'].str.extract('(associate)')\n",
    "sal_df['statistician'] = sal_df['nice_titles'].str.extract('(statistician)')\n",
    "sal_df['analyst'] = sal_df['nice_titles'].str.extract('(analyst)')\n",
    "sal_df['financial'] = sal_df['nice_titles'].str.extract('(financial)')\n",
    "sal_df['lead'] = sal_df['nice_titles'].str.extract('(lead)')"
   ]
  },
  {
   "cell_type": "code",
   "execution_count": 193,
   "metadata": {
    "collapsed": false
   },
   "outputs": [
    {
     "data": {
      "text/html": [
       "<div>\n",
       "<table border=\"1\" class=\"dataframe\">\n",
       "  <thead>\n",
       "    <tr style=\"text-align: right;\">\n",
       "      <th></th>\n",
       "      <th>title</th>\n",
       "      <th>location</th>\n",
       "      <th>company</th>\n",
       "      <th>city</th>\n",
       "      <th>state</th>\n",
       "      <th>parsed_salary</th>\n",
       "      <th>sal_dummy</th>\n",
       "      <th>nice_titles</th>\n",
       "      <th>senior</th>\n",
       "      <th>sr</th>\n",
       "      <th>...</th>\n",
       "      <th>expert</th>\n",
       "      <th>manager</th>\n",
       "      <th>relocation</th>\n",
       "      <th>engineer</th>\n",
       "      <th>machine</th>\n",
       "      <th>associate</th>\n",
       "      <th>statistician</th>\n",
       "      <th>analyst</th>\n",
       "      <th>financial</th>\n",
       "      <th>lead</th>\n",
       "    </tr>\n",
       "  </thead>\n",
       "  <tbody>\n",
       "    <tr>\n",
       "      <th>0</th>\n",
       "      <td>Data Scientist – Predictive Analytics</td>\n",
       "      <td>Waltham, MA</td>\n",
       "      <td>Jobspring Partners</td>\n",
       "      <td>Boston</td>\n",
       "      <td>MA</td>\n",
       "      <td>135000.0</td>\n",
       "      <td>1</td>\n",
       "      <td>data scientist     predictive analytics</td>\n",
       "      <td>NaN</td>\n",
       "      <td>NaN</td>\n",
       "      <td>...</td>\n",
       "      <td>NaN</td>\n",
       "      <td>NaN</td>\n",
       "      <td>NaN</td>\n",
       "      <td>NaN</td>\n",
       "      <td>NaN</td>\n",
       "      <td>NaN</td>\n",
       "      <td>NaN</td>\n",
       "      <td>NaN</td>\n",
       "      <td>NaN</td>\n",
       "      <td>NaN</td>\n",
       "    </tr>\n",
       "  </tbody>\n",
       "</table>\n",
       "<p>1 rows × 22 columns</p>\n",
       "</div>"
      ],
      "text/plain": [
       "                                   title     location             company  \\\n",
       "0  Data Scientist – Predictive Analytics  Waltham, MA  Jobspring Partners   \n",
       "\n",
       "     city state  parsed_salary  sal_dummy  \\\n",
       "0  Boston    MA       135000.0          1   \n",
       "\n",
       "                               nice_titles senior   sr ...  expert manager  \\\n",
       "0  data scientist     predictive analytics    NaN  NaN ...     NaN     NaN   \n",
       "\n",
       "  relocation engineer machine associate statistician analyst financial lead  \n",
       "0        NaN      NaN     NaN       NaN          NaN     NaN       NaN  NaN  \n",
       "\n",
       "[1 rows x 22 columns]"
      ]
     },
     "execution_count": 193,
     "metadata": {},
     "output_type": "execute_result"
    }
   ],
   "source": [
    "sal_df.head(1)"
   ]
  },
  {
   "cell_type": "markdown",
   "metadata": {},
   "source": [
    "This needs to be turned into a function:"
   ]
  },
  {
   "cell_type": "code",
   "execution_count": 194,
   "metadata": {
    "collapsed": true
   },
   "outputs": [],
   "source": [
    "senior = []\n",
    "for i in sal_df['senior']:\n",
    "    if i == 'senior':\n",
    "        senior.append(1)\n",
    "    else:\n",
    "        senior.append(0)\n",
    "sal_df['senior'] = senior\n",
    "\n",
    "sr = []\n",
    "for i in sal_df['sr']:\n",
    "    if i == 'sr':\n",
    "        sr.append(1)\n",
    "    else:\n",
    "        sr.append(0)\n",
    "sal_df['sr'] = sr\n",
    "\n",
    "principal = []\n",
    "for i in sal_df['principal']:\n",
    "    if i == 'principal':\n",
    "        principal.append(1)\n",
    "    else:\n",
    "        principal.append(0)\n",
    "sal_df['principal'] = principal\n",
    "\n",
    "officer = []\n",
    "for i in sal_df['officer']:\n",
    "    if i == 'officer':\n",
    "        officer.append(1)\n",
    "    else:\n",
    "        officer.append(0)\n",
    "sal_df['officer'] = officer\n",
    "\n",
    "expert = []\n",
    "for i in sal_df['expert']:\n",
    "    if i == 'expert':\n",
    "        expert.append(1)\n",
    "    else:\n",
    "        expert.append(0)\n",
    "sal_df['expert'] = expert\n",
    "\n",
    "manager = []\n",
    "for i in sal_df['manager']:\n",
    "    if i == 'manager':\n",
    "        manager.append(1)\n",
    "    else:\n",
    "        manager.append(0)\n",
    "sal_df['manager'] = manager\n",
    "\n",
    "relocation = []\n",
    "for i in sal_df['relocation']:\n",
    "    if i == 'relocation':\n",
    "        relocation.append(1)\n",
    "    else:\n",
    "        relocation.append(0)\n",
    "sal_df['relocation'] = relocation\n",
    "\n",
    "engineer = []\n",
    "for i in sal_df['engineer']:\n",
    "    if i == 'engineer':\n",
    "        engineer.append(1)\n",
    "    else:\n",
    "        engineer.append(0)\n",
    "sal_df['engineer'] = engineer\n",
    "\n",
    "machine = []\n",
    "for i in sal_df['machine']:\n",
    "    if i == 'machine':\n",
    "        machine.append(1)\n",
    "    else:\n",
    "        machine.append(0)\n",
    "sal_df['machine'] = machine\n",
    "\n",
    "associate = []\n",
    "for i in sal_df['associate']:\n",
    "    if i == 'associate':\n",
    "        associate.append(1)\n",
    "    else:\n",
    "        associate.append(0)\n",
    "sal_df['associate'] = associate\n",
    "\n",
    "statistician = []\n",
    "for i in sal_df['statistician']:\n",
    "    if i == 'statistician':\n",
    "        statistician.append(1)\n",
    "    else:\n",
    "        statistician.append(0)\n",
    "sal_df['statistician'] = statistician\n",
    "\n",
    "analyst = []\n",
    "for i in sal_df['analyst']:\n",
    "    if i == 'analyst':\n",
    "        analyst.append(1)\n",
    "    else:\n",
    "        analyst.append(0)\n",
    "sal_df['analyst'] = analyst\n",
    "\n",
    "financial = []\n",
    "for i in sal_df['financial']:\n",
    "    if i == 'financial':\n",
    "        financial.append(1)\n",
    "    else:\n",
    "        financial.append(0)\n",
    "sal_df['financial'] = financial\n",
    "\n",
    "lead = []\n",
    "for i in sal_df['lead']:\n",
    "    if i == 'lead':\n",
    "        lead.append(1)\n",
    "    else:\n",
    "        lead.append(0)\n",
    "sal_df['lead'] = lead"
   ]
  },
  {
   "cell_type": "code",
   "execution_count": 226,
   "metadata": {
    "collapsed": false
   },
   "outputs": [
    {
     "data": {
      "text/html": [
       "<div>\n",
       "<table border=\"1\" class=\"dataframe\">\n",
       "  <thead>\n",
       "    <tr style=\"text-align: right;\">\n",
       "      <th></th>\n",
       "      <th>title</th>\n",
       "      <th>location</th>\n",
       "      <th>company</th>\n",
       "      <th>city</th>\n",
       "      <th>state</th>\n",
       "      <th>parsed_salary</th>\n",
       "      <th>sal_dummy</th>\n",
       "      <th>nice_titles</th>\n",
       "      <th>senior</th>\n",
       "      <th>sr</th>\n",
       "      <th>...</th>\n",
       "      <th>expert</th>\n",
       "      <th>manager</th>\n",
       "      <th>relocation</th>\n",
       "      <th>engineer</th>\n",
       "      <th>machine</th>\n",
       "      <th>associate</th>\n",
       "      <th>statistician</th>\n",
       "      <th>analyst</th>\n",
       "      <th>financial</th>\n",
       "      <th>lead</th>\n",
       "    </tr>\n",
       "  </thead>\n",
       "  <tbody>\n",
       "    <tr>\n",
       "      <th>0</th>\n",
       "      <td>Data Scientist – Predictive Analytics</td>\n",
       "      <td>Waltham, MA</td>\n",
       "      <td>Jobspring Partners</td>\n",
       "      <td>Boston</td>\n",
       "      <td>MA</td>\n",
       "      <td>135000.0</td>\n",
       "      <td>1</td>\n",
       "      <td>data scientist     predictive analytics</td>\n",
       "      <td>0</td>\n",
       "      <td>0</td>\n",
       "      <td>...</td>\n",
       "      <td>0</td>\n",
       "      <td>0</td>\n",
       "      <td>0</td>\n",
       "      <td>0</td>\n",
       "      <td>0</td>\n",
       "      <td>0</td>\n",
       "      <td>0</td>\n",
       "      <td>0</td>\n",
       "      <td>0</td>\n",
       "      <td>0</td>\n",
       "    </tr>\n",
       "  </tbody>\n",
       "</table>\n",
       "<p>1 rows × 22 columns</p>\n",
       "</div>"
      ],
      "text/plain": [
       "                                   title     location             company  \\\n",
       "0  Data Scientist – Predictive Analytics  Waltham, MA  Jobspring Partners   \n",
       "\n",
       "     city state  parsed_salary  sal_dummy  \\\n",
       "0  Boston    MA       135000.0          1   \n",
       "\n",
       "                               nice_titles  senior  sr  ...   expert  manager  \\\n",
       "0  data scientist     predictive analytics       0   0  ...        0        0   \n",
       "\n",
       "   relocation  engineer  machine  associate  statistician  analyst  financial  \\\n",
       "0           0         0        0          0             0        0          0   \n",
       "\n",
       "   lead  \n",
       "0     0  \n",
       "\n",
       "[1 rows x 22 columns]"
      ]
     },
     "execution_count": 226,
     "metadata": {},
     "output_type": "execute_result"
    }
   ],
   "source": [
    "sal_df.head(1)"
   ]
  },
  {
   "cell_type": "code",
   "execution_count": 227,
   "metadata": {
    "collapsed": false
   },
   "outputs": [],
   "source": [
    "X_title = pd.DataFrame(sal_df[['senior', 'sr', 'principal', 'manager', 'relocation', 'engineer', \\\n",
    "        'machine', 'associate', 'statistician', 'analyst', 'financial', 'lead']])\n",
    "X_title['intercept'] = 1\n",
    "y = sal_df['sal_dummy'] # same target"
   ]
  },
  {
   "cell_type": "code",
   "execution_count": 228,
   "metadata": {
    "collapsed": false
   },
   "outputs": [
    {
     "data": {
      "text/html": [
       "<div>\n",
       "<table border=\"1\" class=\"dataframe\">\n",
       "  <thead>\n",
       "    <tr style=\"text-align: right;\">\n",
       "      <th></th>\n",
       "      <th>senior</th>\n",
       "      <th>sr</th>\n",
       "      <th>principal</th>\n",
       "      <th>manager</th>\n",
       "      <th>relocation</th>\n",
       "      <th>engineer</th>\n",
       "      <th>machine</th>\n",
       "      <th>associate</th>\n",
       "      <th>statistician</th>\n",
       "      <th>analyst</th>\n",
       "      <th>financial</th>\n",
       "      <th>lead</th>\n",
       "      <th>intercept</th>\n",
       "    </tr>\n",
       "  </thead>\n",
       "  <tbody>\n",
       "    <tr>\n",
       "      <th>0</th>\n",
       "      <td>0</td>\n",
       "      <td>0</td>\n",
       "      <td>0</td>\n",
       "      <td>0</td>\n",
       "      <td>0</td>\n",
       "      <td>0</td>\n",
       "      <td>0</td>\n",
       "      <td>0</td>\n",
       "      <td>0</td>\n",
       "      <td>0</td>\n",
       "      <td>0</td>\n",
       "      <td>0</td>\n",
       "      <td>1</td>\n",
       "    </tr>\n",
       "  </tbody>\n",
       "</table>\n",
       "</div>"
      ],
      "text/plain": [
       "   senior  sr  principal  manager  relocation  engineer  machine  associate  \\\n",
       "0       0   0          0        0           0         0        0          0   \n",
       "\n",
       "   statistician  analyst  financial  lead  intercept  \n",
       "0             0        0          0     0          1  "
      ]
     },
     "execution_count": 228,
     "metadata": {},
     "output_type": "execute_result"
    }
   ],
   "source": [
    "X_title.head(1)"
   ]
  },
  {
   "cell_type": "code",
   "execution_count": 229,
   "metadata": {
    "collapsed": true
   },
   "outputs": [],
   "source": [
    "model_title = st.MNLogit(y, X_title)"
   ]
  },
  {
   "cell_type": "code",
   "execution_count": 230,
   "metadata": {
    "collapsed": false
   },
   "outputs": [
    {
     "name": "stdout",
     "output_type": "stream",
     "text": [
      "Warning: Maximum number of iterations has been exceeded.\n",
      "         Current function value: 0.378738\n",
      "         Iterations: 35\n",
      "         Function evaluations: 37\n",
      "         Gradient evaluations: 37\n"
     ]
    },
    {
     "name": "stderr",
     "output_type": "stream",
     "text": [
      "/Users/Rebecca/anaconda/lib/python2.7/site-packages/statsmodels/base/model.py:466: ConvergenceWarning:\n",
      "\n",
      "Maximum Likelihood optimization failed to converge. Check mle_retvals\n",
      "\n"
     ]
    }
   ],
   "source": [
    "model_title_fit = model_title.fit(method = 'bfgs')"
   ]
  },
  {
   "cell_type": "code",
   "execution_count": 231,
   "metadata": {
    "collapsed": false
   },
   "outputs": [
    {
     "data": {
      "text/html": [
       "<table class=\"simpletable\">\n",
       "<caption>MNLogit Regression Results</caption>\n",
       "<tr>\n",
       "  <th>Dep. Variable:</th>     <td>sal_dummy</td>    <th>  No. Observations:  </th>  <td>   204</td>  \n",
       "</tr>\n",
       "<tr>\n",
       "  <th>Model:</th>              <td>MNLogit</td>     <th>  Df Residuals:      </th>  <td>   191</td>  \n",
       "</tr>\n",
       "<tr>\n",
       "  <th>Method:</th>               <td>MLE</td>       <th>  Df Model:          </th>  <td>    12</td>  \n",
       "</tr>\n",
       "<tr>\n",
       "  <th>Date:</th>          <td>Fri, 08 Jul 2016</td> <th>  Pseudo R-squ.:     </th>  <td>0.4536</td>  \n",
       "</tr>\n",
       "<tr>\n",
       "  <th>Time:</th>              <td>03:52:33</td>     <th>  Log-Likelihood:    </th> <td> -77.262</td> \n",
       "</tr>\n",
       "<tr>\n",
       "  <th>converged:</th>           <td>False</td>      <th>  LL-Null:           </th> <td> -141.40</td> \n",
       "</tr>\n",
       "<tr>\n",
       "  <th> </th>                      <td> </td>        <th>  LLR p-value:       </th> <td>1.367e-21</td>\n",
       "</tr>\n",
       "</table>\n",
       "<table class=\"simpletable\">\n",
       "<tr>\n",
       "   <th>sal_dummy=1</th>    <th>coef</th>     <th>std err</th>      <th>z</th>      <th>P>|z|</th> <th>[95.0% Conf. Int.]</th> \n",
       "</tr>\n",
       "<tr>\n",
       "  <th>senior</th>       <td>    4.0251</td> <td>    1.229</td> <td>    3.276</td> <td> 0.001</td> <td>    1.617     6.433</td>\n",
       "</tr>\n",
       "<tr>\n",
       "  <th>sr</th>           <td>   -0.5136</td> <td>    1.162</td> <td>   -0.442</td> <td> 0.659</td> <td>   -2.791     1.764</td>\n",
       "</tr>\n",
       "<tr>\n",
       "  <th>principal</th>    <td>   -2.3455</td> <td>    1.446</td> <td>   -1.622</td> <td> 0.105</td> <td>   -5.180     0.489</td>\n",
       "</tr>\n",
       "<tr>\n",
       "  <th>manager</th>      <td>   -1.1976</td> <td>    1.448</td> <td>   -0.827</td> <td> 0.408</td> <td>   -4.035     1.640</td>\n",
       "</tr>\n",
       "<tr>\n",
       "  <th>relocation</th>   <td>    1.1054</td> <td>    4.344</td> <td>    0.254</td> <td> 0.799</td> <td>   -7.408     9.619</td>\n",
       "</tr>\n",
       "<tr>\n",
       "  <th>engineer</th>     <td>    1.4107</td> <td>    0.888</td> <td>    1.589</td> <td> 0.112</td> <td>   -0.329     3.150</td>\n",
       "</tr>\n",
       "<tr>\n",
       "  <th>machine</th>      <td>   -4.3325</td> <td>    0.938</td> <td>   -4.617</td> <td> 0.000</td> <td>   -6.172    -2.493</td>\n",
       "</tr>\n",
       "<tr>\n",
       "  <th>associate</th>    <td>   -7.6631</td> <td>    5.794</td> <td>   -1.322</td> <td> 0.186</td> <td>  -19.020     3.694</td>\n",
       "</tr>\n",
       "<tr>\n",
       "  <th>statistician</th> <td>    1.3718</td> <td>    1.408</td> <td>    0.975</td> <td> 0.330</td> <td>   -1.387     4.131</td>\n",
       "</tr>\n",
       "<tr>\n",
       "  <th>analyst</th>      <td>   -1.4754</td> <td>    1.141</td> <td>   -1.293</td> <td> 0.196</td> <td>   -3.712     0.761</td>\n",
       "</tr>\n",
       "<tr>\n",
       "  <th>financial</th>    <td>   -4.9619</td> <td>    1.983</td> <td>   -2.502</td> <td> 0.012</td> <td>   -8.848    -1.075</td>\n",
       "</tr>\n",
       "<tr>\n",
       "  <th>lead</th>         <td>    3.4036</td> <td>    3.502</td> <td>    0.972</td> <td> 0.331</td> <td>   -3.461    10.268</td>\n",
       "</tr>\n",
       "<tr>\n",
       "  <th>intercept</th>    <td>    1.0188</td> <td>    0.283</td> <td>    3.594</td> <td> 0.000</td> <td>    0.463     1.574</td>\n",
       "</tr>\n",
       "</table>"
      ],
      "text/plain": [
       "<class 'statsmodels.iolib.summary.Summary'>\n",
       "\"\"\"\n",
       "                          MNLogit Regression Results                          \n",
       "==============================================================================\n",
       "Dep. Variable:              sal_dummy   No. Observations:                  204\n",
       "Model:                        MNLogit   Df Residuals:                      191\n",
       "Method:                           MLE   Df Model:                           12\n",
       "Date:                Fri, 08 Jul 2016   Pseudo R-squ.:                  0.4536\n",
       "Time:                        03:52:33   Log-Likelihood:                -77.262\n",
       "converged:                      False   LL-Null:                       -141.40\n",
       "                                        LLR p-value:                 1.367e-21\n",
       "================================================================================\n",
       " sal_dummy=1       coef    std err          z      P>|z|      [95.0% Conf. Int.]\n",
       "--------------------------------------------------------------------------------\n",
       "senior           4.0251      1.229      3.276      0.001         1.617     6.433\n",
       "sr              -0.5136      1.162     -0.442      0.659        -2.791     1.764\n",
       "principal       -2.3455      1.446     -1.622      0.105        -5.180     0.489\n",
       "manager         -1.1976      1.448     -0.827      0.408        -4.035     1.640\n",
       "relocation       1.1054      4.344      0.254      0.799        -7.408     9.619\n",
       "engineer         1.4107      0.888      1.589      0.112        -0.329     3.150\n",
       "machine         -4.3325      0.938     -4.617      0.000        -6.172    -2.493\n",
       "associate       -7.6631      5.794     -1.322      0.186       -19.020     3.694\n",
       "statistician     1.3718      1.408      0.975      0.330        -1.387     4.131\n",
       "analyst         -1.4754      1.141     -1.293      0.196        -3.712     0.761\n",
       "financial       -4.9619      1.983     -2.502      0.012        -8.848    -1.075\n",
       "lead             3.4036      3.502      0.972      0.331        -3.461    10.268\n",
       "intercept        1.0188      0.283      3.594      0.000         0.463     1.574\n",
       "================================================================================\n",
       "\"\"\""
      ]
     },
     "execution_count": 231,
     "metadata": {},
     "output_type": "execute_result"
    }
   ],
   "source": [
    "model_title_fit.summary()"
   ]
  },
  {
   "cell_type": "code",
   "execution_count": 219,
   "metadata": {
    "collapsed": false
   },
   "outputs": [
    {
     "name": "stdout",
     "output_type": "stream",
     "text": [
      "AIC: 198.233719481\n",
      "BIC: 238.051159407\n"
     ]
    }
   ],
   "source": [
    "### aic and bic ###\n",
    "print 'AIC: %s' %model_title_fit.aic\n",
    "print 'BIC: %s' %model_title_fit.bic"
   ]
  },
  {
   "cell_type": "code",
   "execution_count": 220,
   "metadata": {
    "collapsed": false
   },
   "outputs": [],
   "source": [
    "### marginal effects ###\n",
    "#model_title_margeff = model_title_fit.get_margeff()\n",
    "#print model_title_margeff.summary()"
   ]
  },
  {
   "cell_type": "markdown",
   "metadata": {},
   "source": [
    "Thus, in this model, 'senior', 'machine', and 'financial' job title terms are significant at a 0.05 level."
   ]
  },
  {
   "cell_type": "code",
   "execution_count": 236,
   "metadata": {
    "collapsed": false
   },
   "outputs": [
    {
     "name": "stdout",
     "output_type": "stream",
     "text": [
      "Warning: Maximum number of iterations has been exceeded.\n",
      "         Current function value: 0.539077\n",
      "         Iterations: 35\n"
     ]
    },
    {
     "name": "stderr",
     "output_type": "stream",
     "text": [
      "/Users/Rebecca/anaconda/lib/python2.7/site-packages/ipykernel/__main__.py:2: SettingWithCopyWarning:\n",
      "\n",
      "\n",
      "A value is trying to be set on a copy of a slice from a DataFrame.\n",
      "Try using .loc[row_indexer,col_indexer] = value instead\n",
      "\n",
      "See the caveats in the documentation: http://pandas.pydata.org/pandas-docs/stable/indexing.html#indexing-view-versus-copy\n",
      "\n",
      "/Users/Rebecca/anaconda/lib/python2.7/site-packages/statsmodels/base/model.py:466: ConvergenceWarning:\n",
      "\n",
      "Maximum Likelihood optimization failed to converge. Check mle_retvals\n",
      "\n"
     ]
    },
    {
     "data": {
      "text/html": [
       "<table class=\"simpletable\">\n",
       "<caption>MNLogit Regression Results</caption>\n",
       "<tr>\n",
       "  <th>Dep. Variable:</th>     <td>sal_dummy</td>    <th>  No. Observations:  </th>  <td>   204</td>  \n",
       "</tr>\n",
       "<tr>\n",
       "  <th>Model:</th>              <td>MNLogit</td>     <th>  Df Residuals:      </th>  <td>   200</td>  \n",
       "</tr>\n",
       "<tr>\n",
       "  <th>Method:</th>               <td>MLE</td>       <th>  Df Model:          </th>  <td>     3</td>  \n",
       "</tr>\n",
       "<tr>\n",
       "  <th>Date:</th>          <td>Fri, 08 Jul 2016</td> <th>  Pseudo R-squ.:     </th>  <td>0.2223</td>  \n",
       "</tr>\n",
       "<tr>\n",
       "  <th>Time:</th>              <td>04:01:17</td>     <th>  Log-Likelihood:    </th> <td> -109.97</td> \n",
       "</tr>\n",
       "<tr>\n",
       "  <th>converged:</th>           <td>False</td>      <th>  LL-Null:           </th> <td> -141.40</td> \n",
       "</tr>\n",
       "<tr>\n",
       "  <th> </th>                      <td> </td>        <th>  LLR p-value:       </th> <td>1.438e-13</td>\n",
       "</tr>\n",
       "</table>\n",
       "<table class=\"simpletable\">\n",
       "<tr>\n",
       "  <th>sal_dummy=1</th>    <th>coef</th>     <th>std err</th>      <th>z</th>      <th>P>|z|</th> <th>[95.0% Conf. Int.]</th> \n",
       "</tr>\n",
       "<tr>\n",
       "  <th>senior</th>      <td>    3.7622</td> <td>    1.125</td> <td>    3.343</td> <td> 0.001</td> <td>    1.557     5.968</td>\n",
       "</tr>\n",
       "<tr>\n",
       "  <th>machine</th>     <td>   -2.3722</td> <td>    0.444</td> <td>   -5.347</td> <td> 0.000</td> <td>   -3.242    -1.503</td>\n",
       "</tr>\n",
       "<tr>\n",
       "  <th>financial</th>   <td>  -27.4138</td> <td> 2.45e+05</td> <td>   -0.000</td> <td> 1.000</td> <td> -4.8e+05   4.8e+05</td>\n",
       "</tr>\n",
       "<tr>\n",
       "  <th>intercept</th>   <td>    0.5180</td> <td>    0.180</td> <td>    2.872</td> <td> 0.004</td> <td>    0.164     0.872</td>\n",
       "</tr>\n",
       "</table>"
      ],
      "text/plain": [
       "<class 'statsmodels.iolib.summary.Summary'>\n",
       "\"\"\"\n",
       "                          MNLogit Regression Results                          \n",
       "==============================================================================\n",
       "Dep. Variable:              sal_dummy   No. Observations:                  204\n",
       "Model:                        MNLogit   Df Residuals:                      200\n",
       "Method:                           MLE   Df Model:                            3\n",
       "Date:                Fri, 08 Jul 2016   Pseudo R-squ.:                  0.2223\n",
       "Time:                        04:01:17   Log-Likelihood:                -109.97\n",
       "converged:                      False   LL-Null:                       -141.40\n",
       "                                        LLR p-value:                 1.438e-13\n",
       "===============================================================================\n",
       "sal_dummy=1       coef    std err          z      P>|z|      [95.0% Conf. Int.]\n",
       "-------------------------------------------------------------------------------\n",
       "senior          3.7622      1.125      3.343      0.001         1.557     5.968\n",
       "machine        -2.3722      0.444     -5.347      0.000        -3.242    -1.503\n",
       "financial     -27.4138   2.45e+05     -0.000      1.000      -4.8e+05   4.8e+05\n",
       "intercept       0.5180      0.180      2.872      0.004         0.164     0.872\n",
       "===============================================================================\n",
       "\"\"\""
      ]
     },
     "execution_count": 236,
     "metadata": {},
     "output_type": "execute_result"
    }
   ],
   "source": [
    "X_nicetitles = X_title[['senior', 'machine', 'financial']]\n",
    "X_nicetitles['intercept'] = 1\n",
    "y = sal_df['sal_dummy']\n",
    "\n",
    "model_nicetitles = st.MNLogit(y, X_nicetitles)\n",
    "\n",
    "model_nicetitles_fit = model_nicetitles.fit()\n",
    "\n",
    "model_nicetitles_fit.summary()"
   ]
  },
  {
   "cell_type": "code",
   "execution_count": 237,
   "metadata": {
    "collapsed": false
   },
   "outputs": [
    {
     "name": "stdout",
     "output_type": "stream",
     "text": [
      "AIC: 227.943280313\n",
      "BIC: 241.215760288\n"
     ]
    }
   ],
   "source": [
    "### aic and bic ###\n",
    "print 'AIC: %s' %model_nicetitles_fit.aic\n",
    "print 'BIC: %s' %model_nicetitles_fit.bic"
   ]
  },
  {
   "cell_type": "markdown",
   "metadata": {},
   "source": [
    "That's quite an increase in AIC and BIC!  'financial' appears to be insignificant now; let's try taking it out."
   ]
  },
  {
   "cell_type": "code",
   "execution_count": 238,
   "metadata": {
    "collapsed": false
   },
   "outputs": [
    {
     "name": "stdout",
     "output_type": "stream",
     "text": [
      "Optimization terminated successfully.\n",
      "         Current function value: 0.575850\n",
      "         Iterations 7\n"
     ]
    },
    {
     "name": "stderr",
     "output_type": "stream",
     "text": [
      "/Users/Rebecca/anaconda/lib/python2.7/site-packages/ipykernel/__main__.py:2: SettingWithCopyWarning:\n",
      "\n",
      "\n",
      "A value is trying to be set on a copy of a slice from a DataFrame.\n",
      "Try using .loc[row_indexer,col_indexer] = value instead\n",
      "\n",
      "See the caveats in the documentation: http://pandas.pydata.org/pandas-docs/stable/indexing.html#indexing-view-versus-copy\n",
      "\n"
     ]
    },
    {
     "data": {
      "text/html": [
       "<table class=\"simpletable\">\n",
       "<caption>MNLogit Regression Results</caption>\n",
       "<tr>\n",
       "  <th>Dep. Variable:</th>     <td>sal_dummy</td>    <th>  No. Observations:  </th>  <td>   204</td>  \n",
       "</tr>\n",
       "<tr>\n",
       "  <th>Model:</th>              <td>MNLogit</td>     <th>  Df Residuals:      </th>  <td>   201</td>  \n",
       "</tr>\n",
       "<tr>\n",
       "  <th>Method:</th>               <td>MLE</td>       <th>  Df Model:          </th>  <td>     2</td>  \n",
       "</tr>\n",
       "<tr>\n",
       "  <th>Date:</th>          <td>Fri, 08 Jul 2016</td> <th>  Pseudo R-squ.:     </th>  <td>0.1692</td>  \n",
       "</tr>\n",
       "<tr>\n",
       "  <th>Time:</th>              <td>04:02:03</td>     <th>  Log-Likelihood:    </th> <td> -117.47</td> \n",
       "</tr>\n",
       "<tr>\n",
       "  <th>converged:</th>           <td>True</td>       <th>  LL-Null:           </th> <td> -141.40</td> \n",
       "</tr>\n",
       "<tr>\n",
       "  <th> </th>                      <td> </td>        <th>  LLR p-value:       </th> <td>4.054e-11</td>\n",
       "</tr>\n",
       "</table>\n",
       "<table class=\"simpletable\">\n",
       "<tr>\n",
       "  <th>sal_dummy=1</th>    <th>coef</th>     <th>std err</th>      <th>z</th>      <th>P>|z|</th> <th>[95.0% Conf. Int.]</th> \n",
       "</tr>\n",
       "<tr>\n",
       "  <th>senior</th>      <td>    3.7814</td> <td>    1.122</td> <td>    3.371</td> <td> 0.001</td> <td>    1.583     5.980</td>\n",
       "</tr>\n",
       "<tr>\n",
       "  <th>machine</th>     <td>   -2.2233</td> <td>    0.440</td> <td>   -5.049</td> <td> 0.000</td> <td>   -3.086    -1.360</td>\n",
       "</tr>\n",
       "<tr>\n",
       "  <th>intercept</th>   <td>    0.3669</td> <td>    0.172</td> <td>    2.130</td> <td> 0.033</td> <td>    0.029     0.705</td>\n",
       "</tr>\n",
       "</table>"
      ],
      "text/plain": [
       "<class 'statsmodels.iolib.summary.Summary'>\n",
       "\"\"\"\n",
       "                          MNLogit Regression Results                          \n",
       "==============================================================================\n",
       "Dep. Variable:              sal_dummy   No. Observations:                  204\n",
       "Model:                        MNLogit   Df Residuals:                      201\n",
       "Method:                           MLE   Df Model:                            2\n",
       "Date:                Fri, 08 Jul 2016   Pseudo R-squ.:                  0.1692\n",
       "Time:                        04:02:03   Log-Likelihood:                -117.47\n",
       "converged:                       True   LL-Null:                       -141.40\n",
       "                                        LLR p-value:                 4.054e-11\n",
       "===============================================================================\n",
       "sal_dummy=1       coef    std err          z      P>|z|      [95.0% Conf. Int.]\n",
       "-------------------------------------------------------------------------------\n",
       "senior          3.7814      1.122      3.371      0.001         1.583     5.980\n",
       "machine        -2.2233      0.440     -5.049      0.000        -3.086    -1.360\n",
       "intercept       0.3669      0.172      2.130      0.033         0.029     0.705\n",
       "===============================================================================\n",
       "\"\"\""
      ]
     },
     "execution_count": 238,
     "metadata": {},
     "output_type": "execute_result"
    }
   ],
   "source": [
    "X_nicertitles = X_title[['senior', 'machine']]\n",
    "X_nicertitles['intercept'] = 1\n",
    "y = sal_df['sal_dummy']\n",
    "\n",
    "model_nicertitles = st.MNLogit(y, X_nicertitles)\n",
    "\n",
    "model_nicertitles_fit = model_nicertitles.fit()\n",
    "\n",
    "model_nicertitles_fit.summary()"
   ]
  },
  {
   "cell_type": "code",
   "execution_count": 239,
   "metadata": {
    "collapsed": false
   },
   "outputs": [
    {
     "name": "stdout",
     "output_type": "stream",
     "text": [
      "AIC: 240.946781226\n",
      "BIC: 250.901141207\n"
     ]
    }
   ],
   "source": [
    "### aic and bic ###\n",
    "print 'AIC: %s' %model_nicertitles_fit.aic\n",
    "print 'BIC: %s' %model_nicertitles_fit.bic"
   ]
  },
  {
   "cell_type": "code",
   "execution_count": 241,
   "metadata": {
    "collapsed": false
   },
   "outputs": [
    {
     "data": {
      "text/html": [
       "<div>\n",
       "<table border=\"1\" class=\"dataframe\">\n",
       "  <thead>\n",
       "    <tr style=\"text-align: right;\">\n",
       "      <th></th>\n",
       "      <th>title</th>\n",
       "      <th>location</th>\n",
       "      <th>company</th>\n",
       "      <th>city</th>\n",
       "      <th>state</th>\n",
       "      <th>parsed_salary</th>\n",
       "      <th>sal_dummy</th>\n",
       "      <th>nice_titles</th>\n",
       "      <th>senior</th>\n",
       "      <th>sr</th>\n",
       "      <th>...</th>\n",
       "      <th>expert</th>\n",
       "      <th>manager</th>\n",
       "      <th>relocation</th>\n",
       "      <th>engineer</th>\n",
       "      <th>machine</th>\n",
       "      <th>associate</th>\n",
       "      <th>statistician</th>\n",
       "      <th>analyst</th>\n",
       "      <th>financial</th>\n",
       "      <th>lead</th>\n",
       "    </tr>\n",
       "  </thead>\n",
       "  <tbody>\n",
       "    <tr>\n",
       "      <th>0</th>\n",
       "      <td>Data Scientist – Predictive Analytics</td>\n",
       "      <td>Waltham, MA</td>\n",
       "      <td>Jobspring Partners</td>\n",
       "      <td>Boston</td>\n",
       "      <td>MA</td>\n",
       "      <td>135000.0</td>\n",
       "      <td>1</td>\n",
       "      <td>data scientist     predictive analytics</td>\n",
       "      <td>0</td>\n",
       "      <td>0</td>\n",
       "      <td>...</td>\n",
       "      <td>0</td>\n",
       "      <td>0</td>\n",
       "      <td>0</td>\n",
       "      <td>0</td>\n",
       "      <td>0</td>\n",
       "      <td>0</td>\n",
       "      <td>0</td>\n",
       "      <td>0</td>\n",
       "      <td>0</td>\n",
       "      <td>0</td>\n",
       "    </tr>\n",
       "  </tbody>\n",
       "</table>\n",
       "<p>1 rows × 22 columns</p>\n",
       "</div>"
      ],
      "text/plain": [
       "                                   title     location             company  \\\n",
       "0  Data Scientist – Predictive Analytics  Waltham, MA  Jobspring Partners   \n",
       "\n",
       "     city state  parsed_salary  sal_dummy  \\\n",
       "0  Boston    MA       135000.0          1   \n",
       "\n",
       "                               nice_titles  senior  sr  ...   expert  manager  \\\n",
       "0  data scientist     predictive analytics       0   0  ...        0        0   \n",
       "\n",
       "   relocation  engineer  machine  associate  statistician  analyst  financial  \\\n",
       "0           0         0        0          0             0        0          0   \n",
       "\n",
       "   lead  \n",
       "0     0  \n",
       "\n",
       "[1 rows x 22 columns]"
      ]
     },
     "execution_count": 241,
     "metadata": {},
     "output_type": "execute_result"
    }
   ],
   "source": [
    "sal_df.head(1)"
   ]
  },
  {
   "cell_type": "code",
   "execution_count": 245,
   "metadata": {
    "collapsed": false
   },
   "outputs": [
    {
     "name": "stdout",
     "output_type": "stream",
     "text": [
      "Optimization terminated successfully.\n",
      "         Current function value: 0.336440\n",
      "         Iterations: 31\n",
      "         Function evaluations: 32\n",
      "         Gradient evaluations: 32\n"
     ]
    },
    {
     "data": {
      "text/html": [
       "<table class=\"simpletable\">\n",
       "<caption>MNLogit Regression Results</caption>\n",
       "<tr>\n",
       "  <th>Dep. Variable:</th>     <td>sal_dummy</td>    <th>  No. Observations:  </th>  <td>   204</td>  \n",
       "</tr>\n",
       "<tr>\n",
       "  <th>Model:</th>              <td>MNLogit</td>     <th>  Df Residuals:      </th>  <td>   200</td>  \n",
       "</tr>\n",
       "<tr>\n",
       "  <th>Method:</th>               <td>MLE</td>       <th>  Df Model:          </th>  <td>     3</td>  \n",
       "</tr>\n",
       "<tr>\n",
       "  <th>Date:</th>          <td>Fri, 08 Jul 2016</td> <th>  Pseudo R-squ.:     </th>  <td>0.5146</td>  \n",
       "</tr>\n",
       "<tr>\n",
       "  <th>Time:</th>              <td>04:08:23</td>     <th>  Log-Likelihood:    </th> <td> -68.634</td> \n",
       "</tr>\n",
       "<tr>\n",
       "  <th>converged:</th>           <td>True</td>       <th>  LL-Null:           </th> <td> -141.40</td> \n",
       "</tr>\n",
       "<tr>\n",
       "  <th> </th>                      <td> </td>        <th>  LLR p-value:       </th> <td>2.418e-31</td>\n",
       "</tr>\n",
       "</table>\n",
       "<table class=\"simpletable\">\n",
       "<tr>\n",
       "  <th>sal_dummy=1</th>    <th>coef</th>     <th>std err</th>      <th>z</th>      <th>P>|z|</th> <th>[95.0% Conf. Int.]</th> \n",
       "</tr>\n",
       "<tr>\n",
       "  <th>senior</th>      <td>    1.3766</td> <td>    1.114</td> <td>    1.236</td> <td> 0.217</td> <td>   -0.807     3.560</td>\n",
       "</tr>\n",
       "<tr>\n",
       "  <th>machine</th>     <td>   -0.1594</td> <td>    0.734</td> <td>   -0.217</td> <td> 0.828</td> <td>   -1.599     1.280</td>\n",
       "</tr>\n",
       "<tr>\n",
       "  <th>Houston</th>     <td>   -5.5155</td> <td>    1.082</td> <td>   -5.097</td> <td> 0.000</td> <td>   -7.637    -3.394</td>\n",
       "</tr>\n",
       "<tr>\n",
       "  <th>intercept</th>   <td>    1.2702</td> <td>    0.234</td> <td>    5.439</td> <td> 0.000</td> <td>    0.812     1.728</td>\n",
       "</tr>\n",
       "</table>"
      ],
      "text/plain": [
       "<class 'statsmodels.iolib.summary.Summary'>\n",
       "\"\"\"\n",
       "                          MNLogit Regression Results                          \n",
       "==============================================================================\n",
       "Dep. Variable:              sal_dummy   No. Observations:                  204\n",
       "Model:                        MNLogit   Df Residuals:                      200\n",
       "Method:                           MLE   Df Model:                            3\n",
       "Date:                Fri, 08 Jul 2016   Pseudo R-squ.:                  0.5146\n",
       "Time:                        04:08:23   Log-Likelihood:                -68.634\n",
       "converged:                       True   LL-Null:                       -141.40\n",
       "                                        LLR p-value:                 2.418e-31\n",
       "===============================================================================\n",
       "sal_dummy=1       coef    std err          z      P>|z|      [95.0% Conf. Int.]\n",
       "-------------------------------------------------------------------------------\n",
       "senior          1.3766      1.114      1.236      0.217        -0.807     3.560\n",
       "machine        -0.1594      0.734     -0.217      0.828        -1.599     1.280\n",
       "Houston        -5.5155      1.082     -5.097      0.000        -7.637    -3.394\n",
       "intercept       1.2702      0.234      5.439      0.000         0.812     1.728\n",
       "===============================================================================\n",
       "\"\"\""
      ]
     },
     "execution_count": 245,
     "metadata": {},
     "output_type": "execute_result"
    }
   ],
   "source": [
    "X_big = pd.DataFrame(zip(sal_df['senior'], sal_df['machine'], X_city['Houston']))\n",
    "X_big.columns = ['senior', 'machine', 'Houston']\n",
    "X_big['intercept'] = 1\n",
    "y = sal_df['sal_dummy']\n",
    "\n",
    "model_big = st.MNLogit(y, X_big)\n",
    "\n",
    "model_big_fit = model_big.fit(method = 'bfgs')\n",
    "\n",
    "model_big_fit.summary()"
   ]
  },
  {
   "cell_type": "code",
   "execution_count": 247,
   "metadata": {
    "collapsed": false
   },
   "outputs": [
    {
     "name": "stdout",
     "output_type": "stream",
     "text": [
      "AIC: 145.267553691\n",
      "BIC: 158.540033667\n"
     ]
    }
   ],
   "source": [
    "### aic and bic ###\n",
    "print 'AIC: %s' %model_big_fit.aic\n",
    "print 'BIC: %s' %model_big_fit.bic"
   ]
  },
  {
   "cell_type": "markdown",
   "metadata": {
    "collapsed": true
   },
   "source": [
    "Try model without 'machine':"
   ]
  },
  {
   "cell_type": "code",
   "execution_count": 246,
   "metadata": {
    "collapsed": false
   },
   "outputs": [
    {
     "name": "stdout",
     "output_type": "stream",
     "text": [
      "Optimization terminated successfully.\n",
      "         Current function value: 0.336554\n",
      "         Iterations: 23\n",
      "         Function evaluations: 25\n",
      "         Gradient evaluations: 25\n"
     ]
    },
    {
     "data": {
      "text/html": [
       "<table class=\"simpletable\">\n",
       "<caption>MNLogit Regression Results</caption>\n",
       "<tr>\n",
       "  <th>Dep. Variable:</th>     <td>sal_dummy</td>    <th>  No. Observations:  </th>  <td>   204</td>  \n",
       "</tr>\n",
       "<tr>\n",
       "  <th>Model:</th>              <td>MNLogit</td>     <th>  Df Residuals:      </th>  <td>   201</td>  \n",
       "</tr>\n",
       "<tr>\n",
       "  <th>Method:</th>               <td>MLE</td>       <th>  Df Model:          </th>  <td>     2</td>  \n",
       "</tr>\n",
       "<tr>\n",
       "  <th>Date:</th>          <td>Fri, 08 Jul 2016</td> <th>  Pseudo R-squ.:     </th>  <td>0.5145</td>  \n",
       "</tr>\n",
       "<tr>\n",
       "  <th>Time:</th>              <td>04:11:33</td>     <th>  Log-Likelihood:    </th> <td> -68.657</td> \n",
       "</tr>\n",
       "<tr>\n",
       "  <th>converged:</th>           <td>True</td>       <th>  LL-Null:           </th> <td> -141.40</td> \n",
       "</tr>\n",
       "<tr>\n",
       "  <th> </th>                      <td> </td>        <th>  LLR p-value:       </th> <td>2.554e-32</td>\n",
       "</tr>\n",
       "</table>\n",
       "<table class=\"simpletable\">\n",
       "<tr>\n",
       "  <th>sal_dummy=1</th>    <th>coef</th>     <th>std err</th>      <th>z</th>      <th>P>|z|</th> <th>[95.0% Conf. Int.]</th> \n",
       "</tr>\n",
       "<tr>\n",
       "  <th>senior</th>      <td>    1.3073</td> <td>    1.063</td> <td>    1.230</td> <td> 0.219</td> <td>   -0.775     3.390</td>\n",
       "</tr>\n",
       "<tr>\n",
       "  <th>Houston</th>     <td>   -5.5891</td> <td>    1.032</td> <td>   -5.417</td> <td> 0.000</td> <td>   -7.611    -3.567</td>\n",
       "</tr>\n",
       "<tr>\n",
       "  <th>intercept</th>   <td>    1.2585</td> <td>    0.227</td> <td>    5.553</td> <td> 0.000</td> <td>    0.814     1.703</td>\n",
       "</tr>\n",
       "</table>"
      ],
      "text/plain": [
       "<class 'statsmodels.iolib.summary.Summary'>\n",
       "\"\"\"\n",
       "                          MNLogit Regression Results                          \n",
       "==============================================================================\n",
       "Dep. Variable:              sal_dummy   No. Observations:                  204\n",
       "Model:                        MNLogit   Df Residuals:                      201\n",
       "Method:                           MLE   Df Model:                            2\n",
       "Date:                Fri, 08 Jul 2016   Pseudo R-squ.:                  0.5145\n",
       "Time:                        04:11:33   Log-Likelihood:                -68.657\n",
       "converged:                       True   LL-Null:                       -141.40\n",
       "                                        LLR p-value:                 2.554e-32\n",
       "===============================================================================\n",
       "sal_dummy=1       coef    std err          z      P>|z|      [95.0% Conf. Int.]\n",
       "-------------------------------------------------------------------------------\n",
       "senior          1.3073      1.063      1.230      0.219        -0.775     3.390\n",
       "Houston        -5.5891      1.032     -5.417      0.000        -7.611    -3.567\n",
       "intercept       1.2585      0.227      5.553      0.000         0.814     1.703\n",
       "===============================================================================\n",
       "\"\"\""
      ]
     },
     "execution_count": 246,
     "metadata": {},
     "output_type": "execute_result"
    }
   ],
   "source": [
    "X_lessbig = pd.DataFrame(zip(sal_df['senior'], X_city['Houston']))\n",
    "X_lessbig.columns = ['senior', 'Houston']\n",
    "X_lessbig['intercept'] = 1\n",
    "y = sal_df['sal_dummy']\n",
    "\n",
    "model_lessbig = st.MNLogit(y, X_lessbig)\n",
    "\n",
    "model_lessbig_fit = model_lessbig.fit(method = 'bfgs')\n",
    "\n",
    "model_lessbig_fit.summary()"
   ]
  },
  {
   "cell_type": "code",
   "execution_count": 248,
   "metadata": {
    "collapsed": false
   },
   "outputs": [
    {
     "name": "stdout",
     "output_type": "stream",
     "text": [
      "AIC: 143.314066275\n",
      "BIC: 153.268426257\n"
     ]
    }
   ],
   "source": [
    "### aic and bic ###\n",
    "print 'AIC: %s' %model_lessbig_fit.aic\n",
    "print 'BIC: %s' %model_lessbig_fit.bic"
   ]
  },
  {
   "cell_type": "markdown",
   "metadata": {
    "collapsed": true
   },
   "source": [
    "Remind ourselves what the Houston-only model looked like:"
   ]
  },
  {
   "cell_type": "code",
   "execution_count": 251,
   "metadata": {
    "collapsed": false
   },
   "outputs": [
    {
     "data": {
      "text/html": [
       "<table class=\"simpletable\">\n",
       "<caption>MNLogit Regression Results</caption>\n",
       "<tr>\n",
       "  <th>Dep. Variable:</th>     <td>sal_dummy</td>    <th>  No. Observations:  </th>  <td>   204</td>  \n",
       "</tr>\n",
       "<tr>\n",
       "  <th>Model:</th>              <td>MNLogit</td>     <th>  Df Residuals:      </th>  <td>   202</td>  \n",
       "</tr>\n",
       "<tr>\n",
       "  <th>Method:</th>               <td>MLE</td>       <th>  Df Model:          </th>  <td>     1</td>  \n",
       "</tr>\n",
       "<tr>\n",
       "  <th>Date:</th>          <td>Fri, 08 Jul 2016</td> <th>  Pseudo R-squ.:     </th>  <td>0.5070</td>  \n",
       "</tr>\n",
       "<tr>\n",
       "  <th>Time:</th>              <td>04:14:28</td>     <th>  Log-Likelihood:    </th> <td> -69.711</td> \n",
       "</tr>\n",
       "<tr>\n",
       "  <th>converged:</th>           <td>True</td>       <th>  LL-Null:           </th> <td> -141.40</td> \n",
       "</tr>\n",
       "<tr>\n",
       "  <th> </th>                      <td> </td>        <th>  LLR p-value:       </th> <td>4.851e-33</td>\n",
       "</tr>\n",
       "</table>\n",
       "<table class=\"simpletable\">\n",
       "<tr>\n",
       "  <th>sal_dummy=1</th>    <th>coef</th>     <th>std err</th>      <th>z</th>      <th>P>|z|</th> <th>[95.0% Conf. Int.]</th> \n",
       "</tr>\n",
       "<tr>\n",
       "  <th>intercept</th>   <td>    1.3570</td> <td>    0.220</td> <td>    6.171</td> <td> 0.000</td> <td>    0.926     1.788</td>\n",
       "</tr>\n",
       "<tr>\n",
       "  <th>Houston</th>     <td>   -5.6878</td> <td>    1.030</td> <td>   -5.520</td> <td> 0.000</td> <td>   -7.707    -3.668</td>\n",
       "</tr>\n",
       "</table>"
      ],
      "text/plain": [
       "<class 'statsmodels.iolib.summary.Summary'>\n",
       "\"\"\"\n",
       "                          MNLogit Regression Results                          \n",
       "==============================================================================\n",
       "Dep. Variable:              sal_dummy   No. Observations:                  204\n",
       "Model:                        MNLogit   Df Residuals:                      202\n",
       "Method:                           MLE   Df Model:                            1\n",
       "Date:                Fri, 08 Jul 2016   Pseudo R-squ.:                  0.5070\n",
       "Time:                        04:14:28   Log-Likelihood:                -69.711\n",
       "converged:                       True   LL-Null:                       -141.40\n",
       "                                        LLR p-value:                 4.851e-33\n",
       "===============================================================================\n",
       "sal_dummy=1       coef    std err          z      P>|z|      [95.0% Conf. Int.]\n",
       "-------------------------------------------------------------------------------\n",
       "intercept       1.3570      0.220      6.171      0.000         0.926     1.788\n",
       "Houston        -5.6878      1.030     -5.520      0.000        -7.707    -3.668\n",
       "===============================================================================\n",
       "\"\"\""
      ]
     },
     "execution_count": 251,
     "metadata": {},
     "output_type": "execute_result"
    }
   ],
   "source": [
    "model_houston_fit.summary()"
   ]
  },
  {
   "cell_type": "code",
   "execution_count": 252,
   "metadata": {
    "collapsed": false
   },
   "outputs": [
    {
     "name": "stdout",
     "output_type": "stream",
     "text": [
      "AIC: 143.422722823\n",
      "BIC: 150.058962811\n"
     ]
    }
   ],
   "source": [
    "print 'AIC: %s' %model_houston_fit.aic\n",
    "print 'BIC: %s' %model_houston_fit.bic"
   ]
  },
  {
   "cell_type": "markdown",
   "metadata": {},
   "source": [
    "Looks like we're just going to use 'Houston' dummy variable as our only feature!"
   ]
  },
  {
   "cell_type": "markdown",
   "metadata": {
    "focus": false,
    "id": "9c9274ef-c9f5-4d56-b286-ecc8709eff9f"
   },
   "source": [
    "#### Rebuild this model with scikit-learn.\n",
    "- You can either create the dummy features manually or use the `dmatrix` function from `patsy`\n",
    "- Remember to scale the feature variables as well!\n"
   ]
  },
  {
   "cell_type": "code",
   "execution_count": 253,
   "metadata": {
    "collapsed": false
   },
   "outputs": [
    {
     "name": "stderr",
     "output_type": "stream",
     "text": [
      "/Users/Rebecca/anaconda/lib/python2.7/site-packages/ipykernel/__main__.py:4: SettingWithCopyWarning:\n",
      "\n",
      "\n",
      "A value is trying to be set on a copy of a slice from a DataFrame.\n",
      "Try using .loc[row_indexer,col_indexer] = value instead\n",
      "\n",
      "See the caveats in the documentation: http://pandas.pydata.org/pandas-docs/stable/indexing.html#indexing-view-versus-copy\n",
      "\n"
     ]
    },
    {
     "data": {
      "text/plain": [
       "LogisticRegression(C=1.0, class_weight=None, dual=False, fit_intercept=True,\n",
       "          intercept_scaling=1, max_iter=100, multi_class='ovr', n_jobs=1,\n",
       "          penalty='l2', random_state=None, solver='liblinear', tol=0.0001,\n",
       "          verbose=0, warm_start=False)"
      ]
     },
     "execution_count": 253,
     "metadata": {},
     "output_type": "execute_result"
    }
   ],
   "source": [
    "skl_model = lm.LogisticRegression()\n",
    "\n",
    "X = X_houston\n",
    "X['intercept'] = 1\n",
    "y = sal_df['sal_dummy']\n",
    "\n",
    "skl_model.fit(X, y)"
   ]
  },
  {
   "cell_type": "code",
   "execution_count": 257,
   "metadata": {
    "collapsed": false
   },
   "outputs": [
    {
     "data": {
      "text/html": [
       "<div>\n",
       "<table border=\"1\" class=\"dataframe\">\n",
       "  <thead>\n",
       "    <tr style=\"text-align: right;\">\n",
       "      <th></th>\n",
       "      <th>intercept</th>\n",
       "      <th>Houston</th>\n",
       "    </tr>\n",
       "  </thead>\n",
       "  <tbody>\n",
       "    <tr>\n",
       "      <th>0</th>\n",
       "      <td>1</td>\n",
       "      <td>0.0</td>\n",
       "    </tr>\n",
       "  </tbody>\n",
       "</table>\n",
       "</div>"
      ],
      "text/plain": [
       "   intercept  Houston\n",
       "0          1      0.0"
      ]
     },
     "execution_count": 257,
     "metadata": {},
     "output_type": "execute_result"
    }
   ],
   "source": [
    "X.head(1)"
   ]
  },
  {
   "cell_type": "code",
   "execution_count": 258,
   "metadata": {
    "collapsed": false
   },
   "outputs": [
    {
     "name": "stderr",
     "output_type": "stream",
     "text": [
      "/Users/Rebecca/anaconda/lib/python2.7/site-packages/ipykernel/__main__.py:1: SettingWithCopyWarning:\n",
      "\n",
      "\n",
      "A value is trying to be set on a copy of a slice from a DataFrame.\n",
      "Try using .loc[row_indexer,col_indexer] = value instead\n",
      "\n",
      "See the caveats in the documentation: http://pandas.pydata.org/pandas-docs/stable/indexing.html#indexing-view-versus-copy\n",
      "\n"
     ]
    }
   ],
   "source": [
    "X['probability'] = skl_model.predict_proba(X).T[1]"
   ]
  },
  {
   "cell_type": "code",
   "execution_count": 259,
   "metadata": {
    "collapsed": false
   },
   "outputs": [
    {
     "data": {
      "text/plain": [
       "0    0.760386\n",
       "1    0.760386\n",
       "2    0.760386\n",
       "3    0.760386\n",
       "4    0.760386\n",
       "Name: probability, dtype: float64"
      ]
     },
     "execution_count": 259,
     "metadata": {},
     "output_type": "execute_result"
    }
   ],
   "source": [
    "X['probability'].head()"
   ]
  },
  {
   "cell_type": "code",
   "execution_count": 261,
   "metadata": {
    "collapsed": false
   },
   "outputs": [
    {
     "data": {
      "text/html": [
       "<div>\n",
       "<table border=\"1\" class=\"dataframe\">\n",
       "  <thead>\n",
       "    <tr style=\"text-align: right;\">\n",
       "      <th></th>\n",
       "      <th>intercept</th>\n",
       "      <th>Houston</th>\n",
       "      <th>probability</th>\n",
       "    </tr>\n",
       "  </thead>\n",
       "  <tbody>\n",
       "    <tr>\n",
       "      <th>0</th>\n",
       "      <td>1</td>\n",
       "      <td>0.0</td>\n",
       "      <td>0.760386</td>\n",
       "    </tr>\n",
       "  </tbody>\n",
       "</table>\n",
       "</div>"
      ],
      "text/plain": [
       "   intercept  Houston  probability\n",
       "0          1      0.0     0.760386"
      ]
     },
     "execution_count": 261,
     "metadata": {},
     "output_type": "execute_result"
    }
   ],
   "source": [
    "X.head(1)"
   ]
  },
  {
   "cell_type": "code",
   "execution_count": 262,
   "metadata": {
    "collapsed": false
   },
   "outputs": [
    {
     "data": {
      "text/plain": [
       "array([[ 76,  26],\n",
       "       [  1, 101]])"
      ]
     },
     "execution_count": 262,
     "metadata": {},
     "output_type": "execute_result"
    }
   ],
   "source": [
    "predictions = skl_model.predict(X[['intercept', 'Houston']])\n",
    "\n",
    "cm = confusion_matrix(y, predictions)\n",
    "cm"
   ]
  },
  {
   "cell_type": "code",
   "execution_count": 263,
   "metadata": {
    "collapsed": false
   },
   "outputs": [
    {
     "data": {
      "text/plain": [
       "127"
      ]
     },
     "execution_count": 263,
     "metadata": {},
     "output_type": "execute_result"
    }
   ],
   "source": [
    "sum(predictions)"
   ]
  },
  {
   "cell_type": "markdown",
   "metadata": {},
   "source": [
    "Therefore, the right-hand entries in the confusion matrix represent the true and false positives (since 26 + 101 = 127)."
   ]
  },
  {
   "cell_type": "code",
   "execution_count": 264,
   "metadata": {
    "collapsed": true
   },
   "outputs": [],
   "source": [
    "import matplotlib.patheffects as path_effects\n",
    "\n",
    "def plot_confusion_matrix(cm, title='Confusion matrix', labels=['Positive','Negative'], cmap=plt.cm.Blues):\n",
    "    \n",
    "    plt.figure(figsize=(7,7))\n",
    "    plt.imshow(cm, interpolation='nearest', cmap=cmap)\n",
    "    \n",
    "    tick_marks = np.arange(2)\n",
    "    plt.xticks(tick_marks, labels)\n",
    "    plt.yticks(tick_marks, labels)\n",
    "        \n",
    "    plt.title(title)\n",
    "    plt.ylabel('True label')\n",
    "    plt.xlabel('Predicted label')\n",
    "    plt.tight_layout()\n",
    "    \n",
    "    width, height = cm.shape\n",
    "    \n",
    "    for x in xrange(width):\n",
    "        for y in xrange(height):\n",
    "            plt.annotate(str(cm[x][y]), xy=(y, x), \n",
    "                        horizontalalignment='center',\n",
    "                        verticalalignment='center',\n",
    "                        color = 'white',\n",
    "                        fontsize=18).set_path_effects([path_effects.Stroke(linewidth=1, foreground='black'),\n",
    "                                                       path_effects.Normal()]) #The last line here adds a text outline\n",
    "    return"
   ]
  },
  {
   "cell_type": "code",
   "execution_count": 265,
   "metadata": {
    "collapsed": false
   },
   "outputs": [
    {
     "data": {
      "image/png": "[encoded data removed]",
      "text/plain": [
       "<matplotlib.figure.Figure at 0x12444c110>"
      ]
     },
     "metadata": {},
     "output_type": "display_data"
    }
   ],
   "source": [
    "plot_confusion_matrix(cm, title='Confusion matrix - Data Science Salaries', labels=['Under Median','Over Median'], \\\n",
    "                      cmap=plt.cm.Greens)"
   ]
  },
  {
   "cell_type": "code",
   "execution_count": 266,
   "metadata": {
    "collapsed": false
   },
   "outputs": [
    {
     "data": {
      "text/plain": [
       "(array([ 0.        ,  0.25490196,  1.        ]),\n",
       " array([ 0.        ,  0.99019608,  1.        ]),\n",
       " array([2, 1, 0]))"
      ]
     },
     "execution_count": 266,
     "metadata": {},
     "output_type": "execute_result"
    }
   ],
   "source": [
    "from sklearn.metrics import roc_curve\n",
    "\n",
    "roc = roc_curve(y, predictions)\n",
    "roc"
   ]
  },
  {
   "cell_type": "code",
   "execution_count": 268,
   "metadata": {
    "collapsed": false
   },
   "outputs": [],
   "source": [
    "from sklearn.metrics import roc_auc_score\n",
    "from sklearn.cross_validation import train_test_split\n",
    "\n",
    "pred1 = skl_model.predict_proba(X[['intercept', 'Houston']]).T[1]\n",
    "roc = roc_curve(y, pred1)\n",
    "\n",
    "def getROCcurve(roc, title='ROC Curve', xlabel ='% of False Positives', ylabel = '% of True Positives'):\n",
    "    \n",
    "    fpr, tpr, thresholds = roc\n",
    "    \n",
    "    fig,ax = plt.subplots()\n",
    "    ax.plot(fpr, tpr, label='ROC Curve')\n",
    "\n",
    "    fig.set_size_inches(7, 6, forward=True)\n",
    "    plt.xlabel(xlabel)\n",
    "    plt.ylabel(ylabel)\n",
    "    plt.title(title)\n",
    "    plt.legend(loc='best')\n",
    "    return"
   ]
  },
  {
   "cell_type": "code",
   "execution_count": 269,
   "metadata": {
    "collapsed": false
   },
   "outputs": [
    {
     "data": {
      "image/png": "[encoded data removed]",
      "text/plain": [
       "<matplotlib.figure.Figure at 0x1244a7850>"
      ]
     },
     "metadata": {},
     "output_type": "display_data"
    }
   ],
   "source": [
    "getROCcurve(roc, title='ROC Curve', xlabel ='% of False Positives', ylabel = '% of True Positives')"
   ]
  },
  {
   "cell_type": "markdown",
   "metadata": {
    "focus": false,
    "id": "9367beff-72ba-4768-a0ba-a50b335de61d"
   },
   "source": [
    "#### Use cross-validation in scikit-learn to evaluate the model above. \n",
    "- Evaluate the accuracy, AUC, precision and recall of the model. \n",
    "- Discuss the differences and explain when you want a high-recall or a high-precision model in this scenario."
   ]
  },
  {
   "cell_type": "code",
   "execution_count": 270,
   "metadata": {
    "collapsed": false,
    "focus": false,
    "id": "269b9e7c-60b5-4a06-8255-881d7395bc1b"
   },
   "outputs": [],
   "source": [
    "from sklearn.metrics import accuracy_score\n",
    "from sklearn.metrics import precision_score\n",
    "from sklearn.metrics import recall_score\n",
    "#from sklearn.metrics import auc "
   ]
  },
  {
   "cell_type": "code",
   "execution_count": 271,
   "metadata": {
    "collapsed": false
   },
   "outputs": [
    {
     "data": {
      "text/html": [
       "<div>\n",
       "<table border=\"1\" class=\"dataframe\">\n",
       "  <thead>\n",
       "    <tr style=\"text-align: right;\">\n",
       "      <th></th>\n",
       "      <th>intercept</th>\n",
       "      <th>Houston</th>\n",
       "      <th>probability</th>\n",
       "    </tr>\n",
       "  </thead>\n",
       "  <tbody>\n",
       "    <tr>\n",
       "      <th>0</th>\n",
       "      <td>1</td>\n",
       "      <td>0.0</td>\n",
       "      <td>0.760386</td>\n",
       "    </tr>\n",
       "  </tbody>\n",
       "</table>\n",
       "</div>"
      ],
      "text/plain": [
       "   intercept  Houston  probability\n",
       "0          1      0.0     0.760386"
      ]
     },
     "execution_count": 271,
     "metadata": {},
     "output_type": "execute_result"
    }
   ],
   "source": []
  },
  {
   "cell_type": "code",
   "execution_count": 272,
   "metadata": {
    "collapsed": false
   },
   "outputs": [
    {
     "data": {
      "text/plain": [
       "array([ 0.69047619,  1.        ,  0.975     ,  1.        ,  0.675     ])"
      ]
     },
     "execution_count": 272,
     "metadata": {},
     "output_type": "execute_result"
    }
   ],
   "source": [
    "cross_val_score(skl_model, X[['intercept', 'Houston']], y, n_jobs=1, cv=5)"
   ]
  },
  {
   "cell_type": "code",
   "execution_count": 273,
   "metadata": {
    "collapsed": false
   },
   "outputs": [
    {
     "data": {
      "text/plain": [
       "0.86809523809523803"
      ]
     },
     "execution_count": 273,
     "metadata": {},
     "output_type": "execute_result"
    }
   ],
   "source": [
    "cross_val_score(skl_model, X[['intercept', 'Houston']], y, n_jobs=1, cv=5).mean()"
   ]
  },
  {
   "cell_type": "code",
   "execution_count": 274,
   "metadata": {
    "collapsed": false
   },
   "outputs": [
    {
     "name": "stdout",
     "output_type": "stream",
     "text": [
      "accuracy: 0.867647058824\n",
      "precision: 0.795275590551\n",
      "recall: 0.990196078431\n",
      "area under curve: 0.867647058824\n"
     ]
    }
   ],
   "source": [
    "print 'accuracy: %s' %accuracy_score(y, predictions)\n",
    "print 'precision: %s' %precision_score(y, predictions)\n",
    "print 'recall: %s' %recall_score(y, predictions)\n",
    "print 'area under curve: %s' %roc_auc_score(y, predictions)"
   ]
  },
  {
   "cell_type": "markdown",
   "metadata": {},
   "source": [
    "Our recall (TP/P) is very good; this means that we are identifying a large proportion of the positives correctly.  On the other hand, our precision (TP/(TP + FP)) is not quite as good, meaning that our model is identifying some false positives along with the nice proportion of true positives.  In our example, some of our salaries are identified as being over the median when they are, in fact, under it.  "
   ]
  },
  {
   "cell_type": "markdown",
   "metadata": {
    "focus": false,
    "id": "8c22664b-92e4-4fc2-b7ac-fbac865845d3"
   },
   "source": [
    "#### Compare L1 and L2 regularization for this logistic regression model. What effect does this have on the coefficients learned?"
   ]
  },
  {
   "cell_type": "code",
   "execution_count": 275,
   "metadata": {
    "collapsed": false,
    "focus": false,
    "id": "172fd952-5012-4630-81f4-1206da6eb820"
   },
   "outputs": [
    {
     "data": {
      "text/plain": [
       "LogisticRegression(C=1.0, class_weight=None, dual=False, fit_intercept=True,\n",
       "          intercept_scaling=1, max_iter=100, multi_class='ovr', n_jobs=1,\n",
       "          penalty='l1', random_state=None, solver='liblinear', tol=0.0001,\n",
       "          verbose=0, warm_start=False)"
      ]
     },
     "execution_count": 275,
     "metadata": {},
     "output_type": "execute_result"
    }
   ],
   "source": [
    "model_l1 = lm.LogisticRegression(penalty = 'l1')\n",
    "\n",
    "X_l1 = X[['intercept', 'Houston']]\n",
    "y = sal_df['sal_dummy']\n",
    "\n",
    "model_l1.fit(X_l1, y)"
   ]
  },
  {
   "cell_type": "code",
   "execution_count": 276,
   "metadata": {
    "collapsed": false,
    "focus": false,
    "id": "56cc8854-d722-411d-a6c7-e86310710f67"
   },
   "outputs": [
    {
     "name": "stderr",
     "output_type": "stream",
     "text": [
      "/Users/Rebecca/anaconda/lib/python2.7/site-packages/ipykernel/__main__.py:1: SettingWithCopyWarning:\n",
      "\n",
      "\n",
      "A value is trying to be set on a copy of a slice from a DataFrame.\n",
      "Try using .loc[row_indexer,col_indexer] = value instead\n",
      "\n",
      "See the caveats in the documentation: http://pandas.pydata.org/pandas-docs/stable/indexing.html#indexing-view-versus-copy\n",
      "\n"
     ]
    }
   ],
   "source": [
    "X['prob_l1'] = model_l1.predict_proba(X[['intercept', 'Houston']]).T[1]"
   ]
  },
  {
   "cell_type": "code",
   "execution_count": 277,
   "metadata": {
    "collapsed": false
   },
   "outputs": [
    {
     "data": {
      "text/plain": [
       "array([[ 76,  26],\n",
       "       [  1, 101]])"
      ]
     },
     "execution_count": 277,
     "metadata": {},
     "output_type": "execute_result"
    }
   ],
   "source": [
    "predictions = model_l1.predict(X[['intercept', 'Houston']])\n",
    "\n",
    "cm = confusion_matrix(y, predictions)\n",
    "cm"
   ]
  },
  {
   "cell_type": "code",
   "execution_count": 278,
   "metadata": {
    "collapsed": false
   },
   "outputs": [
    {
     "data": {
      "image/png": "[encoded data removed]",
      "text/plain": [
       "<matplotlib.figure.Figure at 0x124110cd0>"
      ]
     },
     "metadata": {},
     "output_type": "display_data"
    }
   ],
   "source": [
    "plot_confusion_matrix(cm, title='Confusion matrix - Data Science Salaries', labels=['Under Median','Over Median'], \\\n",
    "                      cmap=plt.cm.Reds)"
   ]
  },
  {
   "cell_type": "code",
   "execution_count": null,
   "metadata": {
    "collapsed": false
   },
   "outputs": [],
   "source": []
  },
  {
   "cell_type": "code",
   "execution_count": null,
   "metadata": {
    "collapsed": true
   },
   "outputs": [],
   "source": []
  },
  {
   "cell_type": "code",
   "execution_count": null,
   "metadata": {
    "collapsed": false
   },
   "outputs": [],
   "source": []
  },
  {
   "cell_type": "code",
   "execution_count": null,
   "metadata": {
    "collapsed": false
   },
   "outputs": [],
   "source": []
  },
  {
   "cell_type": "markdown",
   "metadata": {},
   "source": [
    "L1 vs L2 penalty does not seem to make a difference in the predictions of these models; this is perhaps because of the very large proportion of lower-salaried Data Science job results found in Tennessee and Texas."
   ]
  },
  {
   "cell_type": "markdown",
   "metadata": {
    "focus": false,
    "id": "3be94357-e551-4094-b784-2df039216d33"
   },
   "source": [
    "### BONUS "
   ]
  },
  {
   "cell_type": "markdown",
   "metadata": {
    "focus": false,
    "id": "db045898-1d2d-4af2-8e79-437c4c7546b4"
   },
   "source": [
    "#### Bonus: Use Count Vectorizer from scikit-learn to create features from the text summaries. \n",
    "- Examine using count or binary features in the model\n",
    "- Re-evaluate the logistic regression model using these. Does this improve the model performance? \n",
    "- What text features are the most valuable? "
   ]
  },
  {
   "cell_type": "code",
   "execution_count": null,
   "metadata": {
    "collapsed": false,
    "focus": false,
    "id": "4239e458-28bd-4675-8db3-c1d9c02b9854"
   },
   "outputs": [],
   "source": []
  },
  {
   "cell_type": "code",
   "execution_count": 24,
   "metadata": {
    "collapsed": false,
    "focus": false,
    "id": "fec80936-37bc-4922-89bd-b5d615566c9c"
   },
   "outputs": [],
   "source": [
    "## YOUR CODE HERE"
   ]
  },
  {
   "cell_type": "markdown",
   "metadata": {
    "focus": false,
    "id": "d42b9fd8-39d5-416a-b40b-7410e6396c11"
   },
   "source": [
    "#### Re-test L1 and L2 regularization. You can use LogisticRegressionCV to find the optimal reguarlization parameters. \n",
    "- Re-test what text features are most valuable.  \n",
    "- How do L1 and L2 change the coefficients?"
   ]
  },
  {
   "cell_type": "code",
   "execution_count": 25,
   "metadata": {
    "collapsed": false,
    "focus": false,
    "id": "7570e237-c8cc-4e26-b569-7aee10627e79"
   },
   "outputs": [],
   "source": [
    "## YOUR CODE HERE"
   ]
  },
  {
   "cell_type": "code",
   "execution_count": null,
   "metadata": {
    "collapsed": true,
    "focus": false,
    "id": "e3a0c83d-e3b8-4bed-b864-7e795b34a3d4"
   },
   "outputs": [],
   "source": []
  }
 ],
 "metadata": {
  "kernelspec": {
   "display_name": "Python 2",
   "language": "python",
   "name": "python2"
  },
  "language_info": {
   "codemirror_mode": {
    "name": "ipython",
    "version": 2
   },
   "file_extension": ".py",
   "mimetype": "text/x-python",
   "name": "python",
   "nbconvert_exporter": "python",
   "pygments_lexer": "ipython2",
   "version": "2.7.12"
  }
 },
 "nbformat": 4,
 "nbformat_minor": 0
}
