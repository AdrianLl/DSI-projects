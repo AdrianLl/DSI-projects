{
 "cells": [
  {
   "cell_type": "markdown",
   "metadata": {
    "focus": false,
    "id": "69b9a648-bcc7-490d-9f9b-ea244d156bd6"
   },
   "source": [
    "# Web Scraping for Indeed.com & Predicting Salaries"
   ]
  },
  {
   "cell_type": "markdown",
   "metadata": {
    "focus": false,
    "id": "34681254-c802-462f-829d-8894d0772d08"
   },
   "source": [
    "In this project, we will practice two major skills: collecting data by scraping a website and then building a binary predictor with Logistic Regression.\n",
    "\n",
    "We are going to collect salary information on data science jobs in a variety of markets. Then using the location, title and summary of the job we will attempt to predict the salary of the job. For job posting sites, this would be extraordinarily useful. While most listings DO NOT come with salary information (as you will see in this exercise), being to able extrapolate or predict the expected salaries from other listings can help guide negotiations.\n",
    "\n",
    "Normally, we could use regression for this task; however, we will convert this problem into classification and use Logistic Regression.\n",
    "\n",
    "- Question: Why would we want this to be a classification problem?\n",
    "- Answer: While more precision may be better, there is a fair amount of natural variance in job salaries - predicting a range be may be useful.\n",
    "\n",
    "Therefore, the first part of the assignment will be focused on scraping Indeed.com. In the second, we'll focus on using listings with salary information to build a model and predict additional salaries."
   ]
  },
  {
   "cell_type": "markdown",
   "metadata": {
    "focus": false,
    "id": "a948d79c-5527-4c0d-ab23-f5d43ce72056"
   },
   "source": [
    "### Scraping job listings from Indeed.com"
   ]
  },
  {
   "cell_type": "markdown",
   "metadata": {
    "focus": true,
    "id": "7203e0c9-e437-4802-a6ad-7dc464f94436"
   },
   "source": [
    "We will be scraping job listings from Indeed.com using BeautifulSoup. Luckily, Indeed.com is a simple text page where we can easily find relevant entries.\n",
    "\n",
    "First, look at the source of an Indeed.com page: (http://www.indeed.com/jobs?q=data+scientist+%2420%2C000&l=New+York&start=10\")\n",
    "\n",
    "Notice, each job listing is underneath a `div` tag with a class name of `result`. We can use BeautifulSoup to extract those. "
   ]
  },
  {
   "cell_type": "markdown",
   "metadata": {
    "focus": false,
    "id": "9732c901-ae26-4160-8376-42e22dd327df"
   },
   "source": [
    "#### Setup a request (using `requests`) to the URL below. Use BeautifulSoup to parse the page and extract all results (HINT: Look for div tags with class name result)"
   ]
  },
  {
   "cell_type": "code",
   "execution_count": 1,
   "metadata": {
    "collapsed": false,
    "focus": false,
    "id": "e915023e-6b0d-4982-af2a-b1e0355f4927"
   },
   "outputs": [],
   "source": [
    "URL = \"http://www.indeed.com/jobs?q=data+scientist+%2420%2C000&l=New+York\""
   ]
  },
  {
   "cell_type": "code",
   "execution_count": 2,
   "metadata": {
    "collapsed": true,
    "focus": false,
    "id": "2efefc73-064a-482d-b3b5-ddf5508cb4ec"
   },
   "outputs": [],
   "source": [
    "import requests\n",
    "import bs4\n",
    "from bs4 import BeautifulSoup\n",
    "import pandas as pd"
   ]
  },
  {
   "cell_type": "code",
   "execution_count": 3,
   "metadata": {
    "collapsed": false
   },
   "outputs": [],
   "source": [
    "indeed = requests.get(URL)"
   ]
  },
  {
   "cell_type": "code",
   "execution_count": 4,
   "metadata": {
    "collapsed": false
   },
   "outputs": [
    {
     "name": "stdout",
     "output_type": "stream",
     "text": [
      "Connection: keep-alive\n",
      "Cookie: INDEED_CSRF_TOKEN=UDSJ7QtKwRyxAAjcFTmT79Q9INzNaHW2; ctkgen=1; BIGipServerjob=!puUJvMTioDcwSiY/0rl98CFw+W0yBo/g72SHhMbXOM14i+wKoFCSVgAgU+LJVomFWc/B+b08zvgGtV0=; JSESSIONID=387DAB66ABE834912D2BA9BF2162B43C.jasxA_ord-job16; CTK=1amtlt7hgagm2f7i\n",
      "Accept-Encoding: gzip, deflate\n",
      "Accept: */*\n",
      "User-Agent: python-requests/2.9.1\n"
     ]
    }
   ],
   "source": [
    "for k, v in indeed.request.headers.items():\n",
    "    print k + ':', v"
   ]
  },
  {
   "cell_type": "code",
   "execution_count": 5,
   "metadata": {
    "collapsed": false
   },
   "outputs": [],
   "source": [
    "soup = BeautifulSoup(indeed.content, \"lxml\")"
   ]
  },
  {
   "cell_type": "code",
   "execution_count": 6,
   "metadata": {
    "collapsed": false
   },
   "outputs": [
    {
     "name": "stdout",
     "output_type": "stream",
     "text": [
      "0 \n",
      "\n",
      "Director of Data Science and Analytics\n",
      "\n",
      "\n",
      "\n",
      "    Paperless Post\n",
      "\n",
      "\n",
      " - New York, NY\n",
      "\n",
      "\n",
      "\n",
      "\n",
      "\n",
      "Decision science and data analytics. You’ll lead a team of six data scientists, developing a roadmap of initiatives that improve our decision-making, business...\n",
      "\n",
      "\n",
      " Easily apply\n",
      "\n",
      "3 days ago  - save job  -  email - more...window['result_b12d1031ae3c0d25'] = {\"showSource\": false, \"source\": \"Paperless Post\", \"loggedIn\": false, \"showMyJobsLinks\": true,\"undoAction\": \"unsave\",\"relativeJobAge\": \"3 days ago\",\"jobKey\": \"b12d1031ae3c0d25\", \"myIndeedAvailable\": true, \"tellAFriendEnabled\": true, \"showMoreActionsLink\": true, \"resultNumber\": 0, \"jobStateChangedToSaved\": false, \"searchState\": \"q=data scientist $20,000&amp;l=New+York\", \"basicPermaLink\": \"http://www.indeed.com\", \"saveJobFailed\": false, \"removeJobFailed\": false, \"requestPending\": false, \"notesEnabled\": true, \"currentPage\" : \"serp\", \"sponsored\" : false,\"reportJobButtonEnabled\": false, \"showMyJobsHired\": false};\n",
      "\n",
      "View all Paperless Post jobs in New York, NY - New York jobsSalary Search: Director Data Science Analytic salaries in New York, NYLearn more about working at Paperless PostRelated forums: New York, New York - Paperless Post\n",
      "\n",
      "\n",
      "\n",
      "\n",
      "\n",
      "\n",
      "\n",
      "\n",
      "\n",
      "\n",
      "1 \n",
      "\n",
      "Machine Learning Engineer\n",
      "\n",
      "\n",
      "\n",
      "\n",
      "    Bloomberg\n",
      "\n",
      "\n",
      " - \n",
      "264 reviews\n",
      " - New York, NY\n",
      "\n",
      "\n",
      "\n",
      "\n",
      "\n",
      "Bloomberg's Global Data division houses an incredible team of data oriented professionals who work to solve tangible business challenges....\n",
      "\n",
      "\n",
      "10 days ago  - save job  -  email - more...window['result_70a1dcdadb4d5c16'] = {\"showSource\": false, \"source\": \"Bloomberg\", \"loggedIn\": false, \"showMyJobsLinks\": true,\"undoAction\": \"unsave\",\"relativeJobAge\": \"10 days ago\",\"jobKey\": \"70a1dcdadb4d5c16\", \"myIndeedAvailable\": true, \"tellAFriendEnabled\": true, \"showMoreActionsLink\": true, \"resultNumber\": 1, \"jobStateChangedToSaved\": false, \"searchState\": \"q=data scientist $20,000&amp;l=New+York\", \"basicPermaLink\": \"http://www.indeed.com\", \"saveJobFailed\": false, \"removeJobFailed\": false, \"requestPending\": false, \"notesEnabled\": true, \"currentPage\" : \"serp\", \"sponsored\" : false,\"reportJobButtonEnabled\": false, \"showMyJobsHired\": false};\n",
      "\n",
      "View all Bloomberg jobs in New York, NY - New York jobsSalary Search: Machine Learning Engineer salaries in New York, NYLearn more about working at BloombergRelated forums: New York, New York - Bloomberg\n",
      "\n",
      "\n",
      "\n",
      "\n",
      "\n",
      "\n",
      "\n",
      "\n",
      "\n",
      "\n",
      "2 \n",
      "\n",
      "Ssr Data Scientist (R, Tableau, Python)\n",
      "\n",
      "\n",
      "\n",
      "\n",
      "    Globant\n",
      "\n",
      "\n",
      " - \n",
      "27 reviews\n",
      " - New York, NY\n",
      "\n",
      "\n",
      "\n",
      "\n",
      "\n",
      "Work alongside Sr Data Scientists in research. We are seeking a Ssr/Sr Data Scientist who will be responsible for helping in the design and implementation of...\n",
      "\n",
      "\n",
      " Easily apply\n",
      "\n",
      "4 days ago  - save job  -  email - more...window['result_a417157fb9b2604a'] = {\"showSource\": false, \"source\": \"Globant\", \"loggedIn\": false, \"showMyJobsLinks\": true,\"undoAction\": \"unsave\",\"relativeJobAge\": \"4 days ago\",\"jobKey\": \"a417157fb9b2604a\", \"myIndeedAvailable\": true, \"tellAFriendEnabled\": true, \"showMoreActionsLink\": true, \"resultNumber\": 2, \"jobStateChangedToSaved\": false, \"searchState\": \"q=data scientist $20,000&amp;l=New+York\", \"basicPermaLink\": \"http://www.indeed.com\", \"saveJobFailed\": false, \"removeJobFailed\": false, \"requestPending\": false, \"notesEnabled\": true, \"currentPage\" : \"serp\", \"sponsored\" : false,\"reportJobButtonEnabled\": false, \"showMyJobsHired\": false};\n",
      "\n",
      "View all Globant jobs in New York, NY - New York jobsSalary Search: Ssr Data Scientist salaries in New York, NYLearn more about working at GlobantRelated forums: New York, New York - Globant\n",
      "\n",
      "\n",
      "\n",
      "\n",
      "\n",
      "\n",
      "\n",
      "\n",
      "\n",
      "\n",
      "3 \n",
      "\n",
      "Bioinformatics Data Scientist - Cancer Genomics, NYC\n",
      "\n",
      "\n",
      "\n",
      "    Memorial Sloan Kettering Cancer Center\n",
      "\n",
      "\n",
      " - New York, NY 10065 (Upper East Side area)\n",
      "\n",
      "\n",
      "\n",
      "\n",
      "\n",
      "Working together with members in the group, the *Bioinformatics Data Scientist*. As part of their role the Bioinformatics data scientist will support end-to-end...\n",
      "\n",
      "\n",
      " Easily apply\n",
      "\n",
      "7 days ago  - save job  -  email - more...window['result_a20263f11f5b6831'] = {\"showSource\": false, \"source\": \"Indeed\", \"loggedIn\": false, \"showMyJobsLinks\": true,\"undoAction\": \"unsave\",\"relativeJobAge\": \"7 days ago\",\"jobKey\": \"a20263f11f5b6831\", \"myIndeedAvailable\": true, \"tellAFriendEnabled\": true, \"showMoreActionsLink\": true, \"resultNumber\": 3, \"jobStateChangedToSaved\": false, \"searchState\": \"q=data scientist $20,000&amp;l=New+York\", \"basicPermaLink\": \"http://www.indeed.com\", \"saveJobFailed\": false, \"removeJobFailed\": false, \"requestPending\": false, \"notesEnabled\": true, \"currentPage\" : \"serp\", \"sponsored\" : false,\"reportJobButtonEnabled\": false, \"showMyJobsHired\": false};\n",
      "\n",
      "View all Memorial Sloan Kettering Cancer Center jobs in New York, NY - New York jobsSalary Search: Bioinformatic Data Scientist salaries in New York, NYRelated forums: New York, New York - Memorial Sloan Kettering Cancer Center\n",
      "\n",
      "\n",
      "\n",
      "\n",
      "\n",
      "\n",
      "\n",
      "\n",
      "\n",
      "\n",
      "4 \n",
      "\n",
      "Data Scientist and Analytics Developer - Insurance\n",
      "\n",
      "\n",
      "\n",
      "    Career Path Group\n",
      "\n",
      "\n",
      " - Manhattan, NY\n",
      "\n",
      "\n",
      "\n",
      "\n",
      "\n",
      "Insurance Company is looking for a talented and motivated data scientist and analytics developer to help provide business insight from our data assets and...\n",
      "\n",
      "\n",
      "18 days ago  - save job  -  email - more...window['result_59717527cf43ef22'] = {\"showSource\": false, \"source\": \"Career Path Group\", \"loggedIn\": false, \"showMyJobsLinks\": true,\"undoAction\": \"unsave\",\"relativeJobAge\": \"18 days ago\",\"jobKey\": \"59717527cf43ef22\", \"myIndeedAvailable\": true, \"tellAFriendEnabled\": true, \"showMoreActionsLink\": true, \"resultNumber\": 4, \"jobStateChangedToSaved\": false, \"searchState\": \"q=data scientist $20,000&amp;l=New+York\", \"basicPermaLink\": \"http://www.indeed.com\", \"saveJobFailed\": false, \"removeJobFailed\": false, \"requestPending\": false, \"notesEnabled\": true, \"currentPage\" : \"serp\", \"sponsored\" : false,\"reportJobButtonEnabled\": false, \"showMyJobsHired\": false};\n",
      "\n",
      "View all Career Path Group jobs in Manhattan, NY - Manhattan jobsSalary Search: Data Scientist Analytic Developer salaries in Manhattan, NYRelated forums: Career Path Group - Manhattan, New York\n",
      "\n",
      "\n",
      "\n",
      "\n",
      "\n",
      "\n",
      "\n",
      "\n",
      "\n",
      "\n",
      "5 \n",
      "\n",
      "Researcher (Full Time)\n",
      "\n",
      "\n",
      "\n",
      "    Weill Cornell Medical School\n",
      "\n",
      "\n",
      " - New York, NY\n",
      "\n",
      "\n",
      "\n",
      "\n",
      "\n",
      "Qualified researchers will work with an array of experts in multiple disciplines including physicians, computer scientists, medical imagers, statisticians,...\n",
      "\n",
      "\n",
      "Nature Jobs - 3 days ago  - save job  -  email - more...window['result_1c1d5a362b44989a'] = {\"showSource\": true, \"source\": \"Nature Jobs\", \"loggedIn\": false, \"showMyJobsLinks\": true,\"undoAction\": \"unsave\",\"relativeJobAge\": \"3 days ago\",\"jobKey\": \"1c1d5a362b44989a\", \"myIndeedAvailable\": true, \"tellAFriendEnabled\": true, \"showMoreActionsLink\": true, \"resultNumber\": 5, \"jobStateChangedToSaved\": false, \"searchState\": \"q=data scientist $20,000&amp;l=New+York\", \"basicPermaLink\": \"http://www.indeed.com\", \"saveJobFailed\": false, \"removeJobFailed\": false, \"requestPending\": false, \"notesEnabled\": true, \"currentPage\" : \"serp\", \"sponsored\" : false,\"reportJobButtonEnabled\": false, \"showMyJobsHired\": false};\n",
      "\n",
      "View all Weill Cornell Medical School jobs in New York, NY - New York jobsSalary Search: Researcher salaries in New York, NYLearn more about working at Weill Cornell Medical SchoolRelated forums: New York, New York - Weill Cornell Medical School - Researcher\n",
      "\n",
      "\n",
      "\n",
      "\n",
      "\n",
      "\n",
      "\n",
      "\n",
      "\n",
      "\n",
      "6 \n",
      "\n",
      "Computational Biologist / Bioinformatics Analyst\n",
      "\n",
      "\n",
      "\n",
      "\n",
      "    Memorial Sloan Kettering\n",
      "\n",
      "\n",
      " - \n",
      "270 reviews\n",
      " - New York, NY\n",
      "\n",
      "\n",
      "\n",
      "\n",
      "\n",
      "Install and maintain software and data. Manage and archive large data sets from next-generation sequencing experiments....\n",
      "\n",
      "\n",
      "5 days ago  - save job  -  email - more...window['result_7c60bd5b6ca7b13f'] = {\"showSource\": false, \"source\": \"Memorial Sloan Kettering\", \"loggedIn\": false, \"showMyJobsLinks\": true,\"undoAction\": \"unsave\",\"relativeJobAge\": \"5 days ago\",\"jobKey\": \"7c60bd5b6ca7b13f\", \"myIndeedAvailable\": true, \"tellAFriendEnabled\": true, \"showMoreActionsLink\": true, \"resultNumber\": 6, \"jobStateChangedToSaved\": false, \"searchState\": \"q=data scientist $20,000&amp;l=New+York\", \"basicPermaLink\": \"http://www.indeed.com\", \"saveJobFailed\": false, \"removeJobFailed\": false, \"requestPending\": false, \"notesEnabled\": true, \"currentPage\" : \"serp\", \"sponsored\" : false,\"reportJobButtonEnabled\": false, \"showMyJobsHired\": false};\n",
      "\n",
      "View all Memorial Sloan Kettering jobs in New York, NY - New York jobsSalary Search: Computational Biologist salaries in New York, NYLearn more about working at Memorial Sloan KetteringRelated forums: New York, New York - Memorial Sloan Kettering\n",
      "\n",
      "\n",
      "\n",
      "\n",
      "\n",
      "\n",
      "\n",
      "\n",
      "\n",
      "\n",
      "7 \n",
      "\n",
      "Data Scientist\n",
      "\n",
      "\n",
      "\n",
      "    Tapad\n",
      "\n",
      "\n",
      " - New York, NY\n",
      "\n",
      "\n",
      "\n",
      "\n",
      "\n",
      "Tapad is looking for an experienced Data Scientist to join our Engineering team. The Data Scientist will work on expanding and developing the core of our...\n",
      "\n",
      "\n",
      " Easily apply\n",
      "\n",
      "15 days ago  - save job  -  email - more...window['result_30c228790352e62c'] = {\"showSource\": false, \"source\": \"Tapad\", \"loggedIn\": false, \"showMyJobsLinks\": true,\"undoAction\": \"unsave\",\"relativeJobAge\": \"15 days ago\",\"jobKey\": \"30c228790352e62c\", \"myIndeedAvailable\": true, \"tellAFriendEnabled\": true, \"showMoreActionsLink\": true, \"resultNumber\": 7, \"jobStateChangedToSaved\": false, \"searchState\": \"q=data scientist $20,000&amp;l=New+York\", \"basicPermaLink\": \"http://www.indeed.com\", \"saveJobFailed\": false, \"removeJobFailed\": false, \"requestPending\": false, \"notesEnabled\": true, \"currentPage\" : \"serp\", \"sponsored\" : false,\"reportJobButtonEnabled\": false, \"showMyJobsHired\": false};\n",
      "\n",
      "View all Tapad jobs in New York, NY - New York jobsSalary Search: Data Scientist salaries in New York, NYRelated forums: New York, New York - Tapad\n",
      "\n",
      "\n",
      "\n",
      "\n",
      "\n",
      "\n",
      "\n",
      "\n",
      "\n",
      "\n",
      "8 \n",
      "\n",
      "Associate Research Scientist\n",
      "\n",
      "\n",
      "\n",
      "\n",
      "    Columbia University\n",
      "\n",
      "\n",
      " - \n",
      "308 reviews\n",
      " - Palisades, NY\n",
      " +1 location\n",
      "\n",
      "\n",
      "\n",
      "\n",
      "The Associate Research Scientist in addition will be expected to mentor students and junior scientists and write scientific papers and grant proposals....\n",
      "\n",
      "\n",
      "19 days ago  - save job  -  email - more...window['result_be54f5d031c0217a'] = {\"showSource\": false, \"source\": \"Columbia University\", \"loggedIn\": false, \"showMyJobsLinks\": true,\"undoAction\": \"unsave\",\"relativeJobAge\": \"19 days ago\",\"jobKey\": \"be54f5d031c0217a\", \"myIndeedAvailable\": true, \"tellAFriendEnabled\": true, \"showMoreActionsLink\": true, \"resultNumber\": 8, \"jobStateChangedToSaved\": false, \"searchState\": \"q=data scientist $20,000&amp;l=New+York\", \"basicPermaLink\": \"http://www.indeed.com\", \"saveJobFailed\": false, \"removeJobFailed\": false, \"requestPending\": false, \"notesEnabled\": true, \"currentPage\" : \"serp\", \"sponsored\" : false,\"reportJobButtonEnabled\": false, \"showMyJobsHired\": false};\n",
      "\n",
      "View all Columbia University jobs in Palisades, NY - Palisades jobsSalary Search: Associate Research Scientist salaries in Palisades, NYLearn more about working at Columbia UniversityRelated forums: Columbia University - Associate Research Scientist\n",
      "\n",
      "\n",
      "\n",
      "\n",
      "\n",
      "\n",
      "\n",
      "\n",
      "\n",
      "\n"
     ]
    }
   ],
   "source": [
    "count = 0\n",
    "for i in soup.findAll('div', class_ = '  row result'):\n",
    "    print count, i.text\n",
    "    print '\\n'\n",
    "    count += 1"
   ]
  },
  {
   "cell_type": "markdown",
   "metadata": {
    "focus": false,
    "id": "bb0b866a-26a7-45e9-8084-5a0f90eb4b3e"
   },
   "source": [
    "Let's look at one result more closely. A single `result` looks like\n",
    "\n",
    "```\n",
    "<div class=\" row result\" data-jk=\"2480d203f7e97210\" data-tn-component=\"organicJob\" id=\"p_2480d203f7e97210\" itemscope=\"\" itemtype=\"http://schema.org/JobPosting\">\n",
    "<h2 class=\"jobtitle\" id=\"jl_2480d203f7e97210\">\n",
    "<a class=\"turnstileLink\" data-tn-element=\"jobTitle\" onmousedown=\"return rclk(this,jobmap[0],1);\" rel=\"nofollow\" target=\"_blank\" title=\"AVP/Quantitative Analyst\">AVP/Quantitative Analyst</a>\n",
    "</h2>\n",
    "<span class=\"company\" itemprop=\"hiringOrganization\" itemtype=\"http://schema.org/Organization\">\n",
    "<span itemprop=\"name\">\n",
    "<a href=\"/cmp/Alliancebernstein?from=SERP&amp;campaignid=serp-linkcompanyname&amp;fromjk=2480d203f7e97210&amp;jcid=b374f2a780e04789\" target=\"_blank\">\n",
    "    AllianceBernstein</a></span>\n",
    "</span>\n",
    "<tr>\n",
    "<td class=\"snip\">\n",
    "<nobr>$117,500 - $127,500 a year</nobr>\n",
    "<div>\n",
    "<span class=\"summary\" itemprop=\"description\">\n",
    "C onduct quantitative and statistical research as well as portfolio management for various investment portfolios. Collaborate with Quantitative Analysts and</span>\n",
    "</div>\n",
    "</div>\n",
    "</td>\n",
    "</tr>\n",
    "</table>\n",
    "</div>\n",
    "```\n",
    "\n",
    "While this has some more verbose elements removed, we can see that there is some structure to the above:\n",
    "- The salary is available in a `nobr` element inside of a `td` element with `class='snip`.\n",
    "- The title of a job is in a link with class set to `jobtitle` and a `data-tn-element=\"jobTitle`.  \n",
    "- The location is set in a `span` with `class='location'`. \n",
    "- The company is set in a `span` with `class='company'`. "
   ]
  },
  {
   "cell_type": "markdown",
   "metadata": {
    "focus": false,
    "id": "f1eddb90-4ba8-483c-a229-77e93aa53119"
   },
   "source": [
    "### Write 4 functions to extract each item: location, company, job, and salary.\n",
    "\n",
    "example: \n",
    "```python\n",
    "def extract_location_from_result(result):\n",
    "    return result.find ...\n",
    "```\n",
    "\n",
    "\n",
    "- Make sure these functions are robust and can handle cases where the data/field may not be available.\n",
    "- Test the functions on the results above"
   ]
  },
  {
   "cell_type": "code",
   "execution_count": 7,
   "metadata": {
    "collapsed": false
   },
   "outputs": [],
   "source": [
    "def get_jobtitle(result):\n",
    "    jobtitle_list = []\n",
    "    for i in result.findAll('a', class_ = 'jobtitle turnstileLink'): \n",
    "        jobtitle_list.append(str(i.text))\n",
    "    return jobtitle_list\n",
    "\n",
    "def get_location(result):\n",
    "    location_list = []\n",
    "    for i in result.findAll('span', class_ = 'location'):\n",
    "        location_list.append(str(i.text))\n",
    "    return location_list\n",
    "\n",
    "def get_company(result):        \n",
    "    company_list = []\n",
    "    for i in soup.findAll('span', class_ = 'company'):\n",
    "        company = str(i.text)\n",
    "        company = company.replace('\\n', '')\n",
    "        company = company.replace('    ', '')\n",
    "        company_list.append(company)\n",
    "    return company_list\n",
    "    \n",
    "def get_salary(result):\n",
    "    salary_list = []\n",
    "    for i in soup.findAll('td', class_ = 'snip'):\n",
    "        if i.find('nobr') != None:\n",
    "            salary_list.append(i.find('nobr').text)\n",
    "        else:\n",
    "            salary_list.append('NaN')\n",
    "    return salary_list\n",
    "\n",
    "def putitalltogether(result):\n",
    "    jobs = get_jobtitle(result)\n",
    "    locations = get_location(result)\n",
    "    companies = get_company(result)\n",
    "    salaries = get_salary(result)\n",
    "    return pd.DataFrame(zip(jobs, locations, companies, salaries),\\\n",
    "                        columns = ['title', 'location', 'company', 'salary']) "
   ]
  },
  {
   "cell_type": "code",
   "execution_count": 8,
   "metadata": {
    "collapsed": false
   },
   "outputs": [
    {
     "data": {
      "text/html": [
       "<div>\n",
       "<table border=\"1\" class=\"dataframe\">\n",
       "  <thead>\n",
       "    <tr style=\"text-align: right;\">\n",
       "      <th></th>\n",
       "      <th>title</th>\n",
       "      <th>location</th>\n",
       "      <th>company</th>\n",
       "      <th>salary</th>\n",
       "    </tr>\n",
       "  </thead>\n",
       "  <tbody>\n",
       "    <tr>\n",
       "      <th>0</th>\n",
       "      <td>Senior Epidemiologist, Bureau Systems Strength...</td>\n",
       "      <td>Queens, NY</td>\n",
       "      <td>DEPT OF HEALTH/MENTAL HYGIENE</td>\n",
       "      <td>NaN</td>\n",
       "    </tr>\n",
       "    <tr>\n",
       "      <th>1</th>\n",
       "      <td>Data Scientist</td>\n",
       "      <td>New York, NY</td>\n",
       "      <td>AbilTo, Inc</td>\n",
       "      <td>NaN</td>\n",
       "    </tr>\n",
       "    <tr>\n",
       "      <th>2</th>\n",
       "      <td>Data Scientist &amp; Analytics Developer</td>\n",
       "      <td>Long Beach, NY</td>\n",
       "      <td>Lancer Insurance Company</td>\n",
       "      <td>NaN</td>\n",
       "    </tr>\n",
       "    <tr>\n",
       "      <th>3</th>\n",
       "      <td>Data Scientist - Monitoring &amp; Anomaly Detectio...</td>\n",
       "      <td>New York, NY</td>\n",
       "      <td>Paperless Post</td>\n",
       "      <td>NaN</td>\n",
       "    </tr>\n",
       "    <tr>\n",
       "      <th>4</th>\n",
       "      <td>Senior Scientist</td>\n",
       "      <td>New York, NY</td>\n",
       "      <td>Bloomberg</td>\n",
       "      <td>NaN</td>\n",
       "    </tr>\n",
       "  </tbody>\n",
       "</table>\n",
       "</div>"
      ],
      "text/plain": [
       "                                               title        location  \\\n",
       "0  Senior Epidemiologist, Bureau Systems Strength...      Queens, NY   \n",
       "1                                     Data Scientist    New York, NY   \n",
       "2               Data Scientist & Analytics Developer  Long Beach, NY   \n",
       "3  Data Scientist - Monitoring & Anomaly Detectio...    New York, NY   \n",
       "4                                   Senior Scientist    New York, NY   \n",
       "\n",
       "                         company salary  \n",
       "0  DEPT OF HEALTH/MENTAL HYGIENE    NaN  \n",
       "1                    AbilTo, Inc    NaN  \n",
       "2       Lancer Insurance Company    NaN  \n",
       "3                 Paperless Post    NaN  \n",
       "4                      Bloomberg    NaN  "
      ]
     },
     "execution_count": 8,
     "metadata": {},
     "output_type": "execute_result"
    }
   ],
   "source": [
    "putitalltogether(soup)"
   ]
  },
  {
   "cell_type": "markdown",
   "metadata": {
    "focus": false,
    "id": "34070e89-9521-4b45-90c8-57a6599aac68"
   },
   "source": [
    "Now, to scale up our scraping, we need to accumulate more results. We can do this by examining the URL above.\n",
    "\n",
    "- \"http://www.indeed.com/jobs?q=data+scientist+%2420%2C000&l=New+York&start=10\"\n",
    "\n",
    "There are two query parameters here we can alter to collect more results, the `l=New+York` and the `start=10`. The first controls the location of the results (so we can try a different city). The second controls where in the results to start and gives 10 results (thus, we can keep incrementing by 10 to go further in the list)."
   ]
  },
  {
   "cell_type": "markdown",
   "metadata": {
    "focus": false,
    "id": "e8beed7c-3e42-40c0-810f-5f67f8f885a0"
   },
   "source": [
    "#### Complete the following code to collect results from multiple cities and starting points. \n",
    "- Enter your city below to add it to the search\n",
    "- Remember to convert your salary to U.S. Dollars to match the other cities if the currency is different"
   ]
  },
  {
   "cell_type": "code",
   "execution_count": 10,
   "metadata": {
    "collapsed": true,
    "focus": false,
    "id": "a9aa87ec-3575-4a01-a986-eb684f2c47d0"
   },
   "outputs": [],
   "source": [
    "YOUR_CITY = 'Rome'"
   ]
  },
  {
   "cell_type": "code",
   "execution_count": 30,
   "metadata": {
    "collapsed": false,
    "focus": false,
    "id": "04b0f9af-540e-402f-8292-81748707c676"
   },
   "outputs": [
    {
     "name": "stdout",
     "output_type": "stream",
     "text": [
      "<Response [200]>\n",
      "<Response [200]>\n",
      "<Response [200]>\n",
      "<Response [200]>\n",
      "<Response [200]>\n",
      "<Response [200]>\n",
      "<Response [200]>\n",
      "<Response [200]>\n",
      "<Response [200]>\n",
      "<Response [200]>\n",
      "<Response [200]>\n"
     ]
    },
    {
     "ename": "UnicodeEncodeError",
     "evalue": "'ascii' codec can't encode character u'\\u2013' in position 15: ordinal not in range(128)",
     "output_type": "error",
     "traceback": [
      "\u001b[0;31m---------------------------------------------------------------------------\u001b[0m",
      "\u001b[0;31mUnicodeEncodeError\u001b[0m                        Traceback (most recent call last)",
      "\u001b[0;32m<ipython-input-30-ec95a65158f3>\u001b[0m in \u001b[0;36m<module>\u001b[0;34m()\u001b[0m\n\u001b[1;32m     16\u001b[0m         \u001b[0msoup\u001b[0m \u001b[0;34m=\u001b[0m \u001b[0mBeautifulSoup\u001b[0m\u001b[0;34m(\u001b[0m\u001b[0mindeed\u001b[0m\u001b[0;34m.\u001b[0m\u001b[0mcontent\u001b[0m\u001b[0;34m,\u001b[0m \u001b[0;34m\"lxml\"\u001b[0m\u001b[0;34m)\u001b[0m\u001b[0;34m\u001b[0m\u001b[0m\n\u001b[1;32m     17\u001b[0m         \u001b[0;31m# Append to the full set of results\u001b[0m\u001b[0;34m\u001b[0m\u001b[0;34m\u001b[0m\u001b[0m\n\u001b[0;32m---> 18\u001b[0;31m         \u001b[0mx\u001b[0m \u001b[0;34m=\u001b[0m \u001b[0mputitalltogether\u001b[0m\u001b[0;34m(\u001b[0m\u001b[0msoup\u001b[0m\u001b[0;34m)\u001b[0m\u001b[0;34m\u001b[0m\u001b[0m\n\u001b[0m\u001b[1;32m     19\u001b[0m         \u001b[0;31m#df = pd.concat(x, df)\u001b[0m\u001b[0;34m\u001b[0m\u001b[0;34m\u001b[0m\u001b[0m\n\u001b[1;32m     20\u001b[0m \u001b[0;31m#print df\u001b[0m\u001b[0;34m\u001b[0m\u001b[0;34m\u001b[0m\u001b[0m\n",
      "\u001b[0;32m<ipython-input-7-92a4b5b38080>\u001b[0m in \u001b[0;36mputitalltogether\u001b[0;34m(result)\u001b[0m\n\u001b[1;32m     30\u001b[0m \u001b[0;34m\u001b[0m\u001b[0m\n\u001b[1;32m     31\u001b[0m \u001b[0;32mdef\u001b[0m \u001b[0mputitalltogether\u001b[0m\u001b[0;34m(\u001b[0m\u001b[0mresult\u001b[0m\u001b[0;34m)\u001b[0m\u001b[0;34m:\u001b[0m\u001b[0;34m\u001b[0m\u001b[0m\n\u001b[0;32m---> 32\u001b[0;31m     \u001b[0mjobs\u001b[0m \u001b[0;34m=\u001b[0m \u001b[0mget_jobtitle\u001b[0m\u001b[0;34m(\u001b[0m\u001b[0mresult\u001b[0m\u001b[0;34m)\u001b[0m\u001b[0;34m\u001b[0m\u001b[0m\n\u001b[0m\u001b[1;32m     33\u001b[0m     \u001b[0mlocations\u001b[0m \u001b[0;34m=\u001b[0m \u001b[0mget_location\u001b[0m\u001b[0;34m(\u001b[0m\u001b[0mresult\u001b[0m\u001b[0;34m)\u001b[0m\u001b[0;34m\u001b[0m\u001b[0m\n\u001b[1;32m     34\u001b[0m     \u001b[0mcompanies\u001b[0m \u001b[0;34m=\u001b[0m \u001b[0mget_company\u001b[0m\u001b[0;34m(\u001b[0m\u001b[0mresult\u001b[0m\u001b[0;34m)\u001b[0m\u001b[0;34m\u001b[0m\u001b[0m\n",
      "\u001b[0;32m<ipython-input-7-92a4b5b38080>\u001b[0m in \u001b[0;36mget_jobtitle\u001b[0;34m(result)\u001b[0m\n\u001b[1;32m      2\u001b[0m     \u001b[0mjobtitle_list\u001b[0m \u001b[0;34m=\u001b[0m \u001b[0;34m[\u001b[0m\u001b[0;34m]\u001b[0m\u001b[0;34m\u001b[0m\u001b[0m\n\u001b[1;32m      3\u001b[0m     \u001b[0;32mfor\u001b[0m \u001b[0mi\u001b[0m \u001b[0;32min\u001b[0m \u001b[0mresult\u001b[0m\u001b[0;34m.\u001b[0m\u001b[0mfindAll\u001b[0m\u001b[0;34m(\u001b[0m\u001b[0;34m'a'\u001b[0m\u001b[0;34m,\u001b[0m \u001b[0mclass_\u001b[0m \u001b[0;34m=\u001b[0m \u001b[0;34m'jobtitle turnstileLink'\u001b[0m\u001b[0;34m)\u001b[0m\u001b[0;34m:\u001b[0m\u001b[0;34m\u001b[0m\u001b[0m\n\u001b[0;32m----> 4\u001b[0;31m         \u001b[0mjobtitle_list\u001b[0m\u001b[0;34m.\u001b[0m\u001b[0mappend\u001b[0m\u001b[0;34m(\u001b[0m\u001b[0mstr\u001b[0m\u001b[0;34m(\u001b[0m\u001b[0mi\u001b[0m\u001b[0;34m.\u001b[0m\u001b[0mtext\u001b[0m\u001b[0;34m)\u001b[0m\u001b[0;34m)\u001b[0m\u001b[0;34m\u001b[0m\u001b[0m\n\u001b[0m\u001b[1;32m      5\u001b[0m     \u001b[0;32mreturn\u001b[0m \u001b[0mjobtitle_list\u001b[0m\u001b[0;34m\u001b[0m\u001b[0m\n\u001b[1;32m      6\u001b[0m \u001b[0;34m\u001b[0m\u001b[0m\n",
      "\u001b[0;31mUnicodeEncodeError\u001b[0m: 'ascii' codec can't encode character u'\\u2013' in position 15: ordinal not in range(128)"
     ]
    }
   ],
   "source": [
    "url_template = \"http://www.indeed.com/jobs?q=data+scientist+%2420%2C000&l={}&start={}\"\n",
    "max_results_per_city = 100\n",
    "\n",
    "results = []\n",
    "df = pd.DataFrame(columns=['jobtitle', 'location', 'company', 'salary'])\n",
    "#df = df.fillna(0) # with 0s rather than NaNs\n",
    "\n",
    "for city in set(['New+York', 'Chicago', 'San+Francisco', 'Austin', YOUR_CITY]):\n",
    "    for start in range(0, max_results_per_city, 10):\n",
    "        # Grab the results from the request (as above)\n",
    "        start_URL = 'http://www.indeed.com/jobs?q=data+scientist+%2420%2C000&l='\n",
    "        mid_URL = '&start='\n",
    "        URL = start_URL + city + mid_URL + str(start)\n",
    "        indeed = requests.get(URL)\n",
    "        print indeed\n",
    "        soup = BeautifulSoup(indeed.content, \"lxml\")\n",
    "        # Append to the full set of results\n",
    "        x = putitalltogether(soup)\n",
    "        #df = pd.concat(x, df)\n",
    "#print df\n",
    "    "
   ]
  },
  {
   "cell_type": "markdown",
   "metadata": {
    "focus": false,
    "id": "20339c09-5032-4e27-91be-286e9b46cd13"
   },
   "source": [
    "#### Use the functions you wrote above to parse out the 4 fields - location, title, company and salary. Create a dataframe from the results with those 4 columns."
   ]
  },
  {
   "cell_type": "code",
   "execution_count": 7,
   "metadata": {
    "collapsed": false,
    "focus": false,
    "id": "6e259594-1c52-436b-ab9e-527e071941c1"
   },
   "outputs": [],
   "source": [
    "## YOUR CODE HERE"
   ]
  },
  {
   "cell_type": "markdown",
   "metadata": {
    "focus": false,
    "id": "ff98ce64-78a7-441f-a675-63464e32c834"
   },
   "source": [
    "Lastly, we need to clean up salary data. \n",
    "1. Some of the salaries are not yearly but hourly, these will be useful to us for now\n",
    "2. The salaries are given as text and usually with ranges.\n",
    "\n",
    "#### Filter out the salaries that are not yearly (filter those that refer to hour)"
   ]
  },
  {
   "cell_type": "code",
   "execution_count": 8,
   "metadata": {
    "collapsed": false,
    "focus": false,
    "id": "58533e57-f86b-494a-b841-e7b59c6229c6"
   },
   "outputs": [],
   "source": [
    "## YOUR CODE HERE"
   ]
  },
  {
   "cell_type": "markdown",
   "metadata": {
    "focus": false,
    "id": "7d4bc860-b214-4f75-9cd0-b234830b1ec2"
   },
   "source": [
    "#### Write a function that takes a salary string and converts it to a number, averaging a salary range if necessary"
   ]
  },
  {
   "cell_type": "code",
   "execution_count": 9,
   "metadata": {
    "collapsed": true,
    "focus": false,
    "id": "a0f701e0-80bd-40ba-9101-4535860c0968"
   },
   "outputs": [],
   "source": [
    "## YOUR CODE HERE"
   ]
  },
  {
   "cell_type": "markdown",
   "metadata": {
    "collapsed": false,
    "focus": false,
    "id": "43e71edd-210e-42b1-9336-70a931f048af"
   },
   "source": [
    "### Save your results as a CSV"
   ]
  },
  {
   "cell_type": "code",
   "execution_count": 10,
   "metadata": {
    "collapsed": true,
    "focus": false,
    "id": "783fd153-28ac-47ab-bfca-27e7c1de95b4"
   },
   "outputs": [],
   "source": [
    "## YOUR CODE HERE"
   ]
  },
  {
   "cell_type": "markdown",
   "metadata": {
    "focus": false,
    "id": "04563b69-f7b6-466f-9d65-fc62c9ddee6a"
   },
   "source": [
    "## Predicting salaries using Logistic Regression"
   ]
  },
  {
   "cell_type": "markdown",
   "metadata": {
    "focus": false,
    "id": "243e949e-2742-40af-872e-fec475fd306c"
   },
   "source": [
    "#### Load in the data of scraped salaries"
   ]
  },
  {
   "cell_type": "code",
   "execution_count": 15,
   "metadata": {
    "collapsed": true
   },
   "outputs": [],
   "source": [
    "import pandas as pd"
   ]
  },
  {
   "cell_type": "code",
   "execution_count": 16,
   "metadata": {
    "collapsed": false,
    "focus": false,
    "id": "588f9845-6143-4bcc-bfd1-85d45b79303d"
   },
   "outputs": [],
   "source": [
    "df = pd.read_csv('/Users/Rebecca/DSI-projects/curriculum/week04/5.2-lab-project-4-logreg/assets/datasets/indeed-scraped-job-postings.csv')"
   ]
  },
  {
   "cell_type": "code",
   "execution_count": 19,
   "metadata": {
    "collapsed": false
   },
   "outputs": [
    {
     "data": {
      "text/html": [
       "<div>\n",
       "<table border=\"1\" class=\"dataframe\">\n",
       "  <thead>\n",
       "    <tr style=\"text-align: right;\">\n",
       "      <th></th>\n",
       "      <th>city</th>\n",
       "      <th>company</th>\n",
       "      <th>salary</th>\n",
       "      <th>summary</th>\n",
       "      <th>title</th>\n",
       "      <th>parsed_salary</th>\n",
       "    </tr>\n",
       "  </thead>\n",
       "  <tbody>\n",
       "    <tr>\n",
       "      <th>0</th>\n",
       "      <td>San+Francisco</td>\n",
       "      <td>MarkMonitor</td>\n",
       "      <td>$180,000 a year</td>\n",
       "      <td>Data skills (SQL, Hive, Pig). Applying machine...</td>\n",
       "      <td>Data Scientist</td>\n",
       "      <td>180000.0</td>\n",
       "    </tr>\n",
       "    <tr>\n",
       "      <th>1</th>\n",
       "      <td>San+Francisco</td>\n",
       "      <td>Workbridge Associates</td>\n",
       "      <td>$130,000 - $180,000 a year</td>\n",
       "      <td>3+ years of industry experience in a data scie...</td>\n",
       "      <td>Senior Data Scientist</td>\n",
       "      <td>155000.0</td>\n",
       "    </tr>\n",
       "  </tbody>\n",
       "</table>\n",
       "</div>"
      ],
      "text/plain": [
       "            city                company                      salary  \\\n",
       "0  San+Francisco            MarkMonitor             $180,000 a year   \n",
       "1  San+Francisco  Workbridge Associates  $130,000 - $180,000 a year   \n",
       "\n",
       "                                             summary                  title  \\\n",
       "0  Data skills (SQL, Hive, Pig). Applying machine...         Data Scientist   \n",
       "1  3+ years of industry experience in a data scie...  Senior Data Scientist   \n",
       "\n",
       "   parsed_salary  \n",
       "0       180000.0  \n",
       "1       155000.0  "
      ]
     },
     "execution_count": 19,
     "metadata": {},
     "output_type": "execute_result"
    }
   ],
   "source": [
    "df.head(2)"
   ]
  },
  {
   "cell_type": "markdown",
   "metadata": {
    "focus": false,
    "id": "c7631f51-07f2-4c79-a093-3e9bc7849a48"
   },
   "source": [
    "#### We want to predict a binary variable - whether the salary was low or high. Compute the median salary and create a new binary variable that is true when the salary is high (above the median)"
   ]
  },
  {
   "cell_type": "code",
   "execution_count": 36,
   "metadata": {
    "collapsed": false,
    "focus": false,
    "id": "c20d2498-151c-44c3-a453-3a333c79a0ac"
   },
   "outputs": [],
   "source": [
    "median = float(df.describe().loc['50%'])"
   ]
  },
  {
   "cell_type": "code",
   "execution_count": 38,
   "metadata": {
    "collapsed": false
   },
   "outputs": [],
   "source": []
  },
  {
   "cell_type": "code",
   "execution_count": 39,
   "metadata": {
    "collapsed": true
   },
   "outputs": [],
   "source": [
    "def dummify(x):\n",
    "    x['dummy'] = 0\n",
    "    for i in range(len(x)):\n",
    "        if x['parsed_salary'][i] > median:\n",
    "            x['dummy'][i] = 1\n",
    "        else:\n",
    "            continue\n",
    "    return x"
   ]
  },
  {
   "cell_type": "code",
   "execution_count": null,
   "metadata": {
    "collapsed": true
   },
   "outputs": [],
   "source": [
    "dummify()"
   ]
  },
  {
   "cell_type": "markdown",
   "metadata": {
    "focus": false,
    "id": "a7afb2c0-d41e-4779-8216-91cd8dd4473f"
   },
   "source": [
    "#### Thought experiment: What is the baseline accuracy for this model?"
   ]
  },
  {
   "cell_type": "code",
   "execution_count": 16,
   "metadata": {
    "collapsed": true,
    "focus": false,
    "id": "87a17d3d-b7f4-4747-9f75-f9af1d18a174"
   },
   "outputs": [],
   "source": [
    "## YOUR CODE HERE"
   ]
  },
  {
   "cell_type": "markdown",
   "metadata": {
    "focus": false,
    "id": "4fb29de2-5b98-474c-a4ad-5170b72b9aea"
   },
   "source": [
    "#### Create a Logistic Regression model to predict High/Low salary using statsmodel. Start by ONLY using the location as a feature. Display the coefficients and write a short summary of what they mean."
   ]
  },
  {
   "cell_type": "code",
   "execution_count": 17,
   "metadata": {
    "collapsed": false,
    "focus": false,
    "id": "ddbc6159-6854-4ca7-857f-bfecdaf6d9c2"
   },
   "outputs": [],
   "source": [
    "## YOUR CODE HERE"
   ]
  },
  {
   "cell_type": "markdown",
   "metadata": {
    "focus": false,
    "id": "0ef04f32-419c-4bf2-baf7-48201f03df89"
   },
   "source": [
    "#### Create a few new variables in your dataframe to represent interesting features of a job title.\n",
    "- For example, create a feature that represents whether 'Senior' is in the title \n",
    "- or whether 'Manager' is in the title. \n",
    "- Then build a new Logistic Regression model with these features. Do they add any value? \n"
   ]
  },
  {
   "cell_type": "code",
   "execution_count": 18,
   "metadata": {
    "collapsed": false,
    "focus": false,
    "id": "068dc1cf-7fd7-4f27-a1f1-7f0a5a221d29"
   },
   "outputs": [],
   "source": [
    "## YOUR CODE HERE"
   ]
  },
  {
   "cell_type": "markdown",
   "metadata": {
    "focus": false,
    "id": "9c9274ef-c9f5-4d56-b286-ecc8709eff9f"
   },
   "source": [
    "#### Rebuild this model with scikit-learn.\n",
    "- You can either create the dummy features manually or use the `dmatrix` function from `patsy`\n",
    "- Remember to scale the feature variables as well!\n"
   ]
  },
  {
   "cell_type": "code",
   "execution_count": 19,
   "metadata": {
    "collapsed": false,
    "focus": false,
    "id": "b76f65cd-cd3a-4e91-af55-12880be7b057"
   },
   "outputs": [],
   "source": [
    "## YOUR CODE HERE"
   ]
  },
  {
   "cell_type": "markdown",
   "metadata": {
    "focus": false,
    "id": "9367beff-72ba-4768-a0ba-a50b335de61d"
   },
   "source": [
    "#### Use cross-validation in scikit-learn to evaluate the model above. \n",
    "- Evaluate the accuracy, AUC, precision and recall of the model. \n",
    "- Discuss the differences and explain when you want a high-recall or a high-precision model in this scenario."
   ]
  },
  {
   "cell_type": "code",
   "execution_count": 20,
   "metadata": {
    "collapsed": false,
    "focus": false,
    "id": "269b9e7c-60b5-4a06-8255-881d7395bc1b"
   },
   "outputs": [],
   "source": [
    "## YOUR CODE HERE"
   ]
  },
  {
   "cell_type": "markdown",
   "metadata": {
    "focus": false,
    "id": "8c22664b-92e4-4fc2-b7ac-fbac865845d3"
   },
   "source": [
    "#### Compare L1 and L2 regularization for this logistic regression model. What effect does this have on the coefficients learned?"
   ]
  },
  {
   "cell_type": "code",
   "execution_count": 21,
   "metadata": {
    "collapsed": false,
    "focus": false,
    "id": "172fd952-5012-4630-81f4-1206da6eb820"
   },
   "outputs": [],
   "source": [
    "## YOUR CODE HERE"
   ]
  },
  {
   "cell_type": "code",
   "execution_count": 22,
   "metadata": {
    "collapsed": false,
    "focus": false,
    "id": "56cc8854-d722-411d-a6c7-e86310710f67"
   },
   "outputs": [],
   "source": [
    "## YOUR CODE HERE"
   ]
  },
  {
   "cell_type": "markdown",
   "metadata": {
    "focus": false,
    "id": "fead9b5b-7316-405d-87fd-e144dff0cbeb"
   },
   "source": [
    "#### Continue to incorporate other text features from the title or summary that you believe will predict the salary and examine their coefficients"
   ]
  },
  {
   "cell_type": "markdown",
   "metadata": {
    "focus": false,
    "id": "12d5edeb-a272-43a0-9977-d951f12fedfb"
   },
   "source": [
    "#### Take ~100 scraped entries with salaries. Convert them to use with your model and predict the salary - which entries have the highest predicted salaries?"
   ]
  },
  {
   "cell_type": "markdown",
   "metadata": {
    "focus": false,
    "id": "3be94357-e551-4094-b784-2df039216d33"
   },
   "source": [
    "### BONUS "
   ]
  },
  {
   "cell_type": "markdown",
   "metadata": {
    "focus": false,
    "id": "db045898-1d2d-4af2-8e79-437c4c7546b4"
   },
   "source": [
    "#### Bonus: Use Count Vectorizer from scikit-learn to create features from the text summaries. \n",
    "- Examine using count or binary features in the model\n",
    "- Re-evaluate the logistic regression model using these. Does this improve the model performance? \n",
    "- What text features are the most valuable? "
   ]
  },
  {
   "cell_type": "code",
   "execution_count": 23,
   "metadata": {
    "collapsed": false,
    "focus": false,
    "id": "4239e458-28bd-4675-8db3-c1d9c02b9854"
   },
   "outputs": [],
   "source": [
    "## YOUR CODE HERE"
   ]
  },
  {
   "cell_type": "code",
   "execution_count": 24,
   "metadata": {
    "collapsed": false,
    "focus": false,
    "id": "fec80936-37bc-4922-89bd-b5d615566c9c"
   },
   "outputs": [],
   "source": [
    "## YOUR CODE HERE"
   ]
  },
  {
   "cell_type": "markdown",
   "metadata": {
    "focus": false,
    "id": "d42b9fd8-39d5-416a-b40b-7410e6396c11"
   },
   "source": [
    "#### Re-test L1 and L2 regularization. You can use LogisticRegressionCV to find the optimal reguarlization parameters. \n",
    "- Re-test what text features are most valuable.  \n",
    "- How do L1 and L2 change the coefficients?"
   ]
  },
  {
   "cell_type": "code",
   "execution_count": 25,
   "metadata": {
    "collapsed": false,
    "focus": false,
    "id": "7570e237-c8cc-4e26-b569-7aee10627e79"
   },
   "outputs": [],
   "source": [
    "## YOUR CODE HERE"
   ]
  },
  {
   "cell_type": "code",
   "execution_count": null,
   "metadata": {
    "collapsed": true,
    "focus": false,
    "id": "e3a0c83d-e3b8-4bed-b864-7e795b34a3d4"
   },
   "outputs": [],
   "source": []
  }
 ],
 "metadata": {
  "kernelspec": {
   "display_name": "Python 2",
   "language": "python",
   "name": "python2"
  },
  "language_info": {
   "codemirror_mode": {
    "name": "ipython",
    "version": 2
   },
   "file_extension": ".py",
   "mimetype": "text/x-python",
   "name": "python",
   "nbconvert_exporter": "python",
   "pygments_lexer": "ipython2",
   "version": "2.7.11"
  }
 },
 "nbformat": 4,
 "nbformat_minor": 0
}
