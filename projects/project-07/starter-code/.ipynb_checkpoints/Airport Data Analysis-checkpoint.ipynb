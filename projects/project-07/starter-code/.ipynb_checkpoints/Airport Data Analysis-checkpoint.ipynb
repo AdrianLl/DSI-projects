{
 "cells": [
  {
   "cell_type": "markdown",
   "metadata": {
    "focus": true,
    "id": "d21ca30e-294e-4146-8e4f-a5c331f7a36e"
   },
   "source": [
    "# Project 7:  Airport Data Analysis\n",
    "\n",
    "\n",
    "#### Step 1: Load the python libraries that you will need for this project "
   ]
  },
  {
   "cell_type": "code",
   "execution_count": 1,
   "metadata": {
    "collapsed": false,
    "focus": false,
    "id": "78c3bb3f-f513-437b-94f8-bc363b6e7a8b"
   },
   "outputs": [],
   "source": [
    "import pandas as pd \n",
    "import matplotlib \n",
    "from matplotlib import pyplot as plt\n",
    "import numpy as np\n",
    "import sklearn\n",
    "import psycopg2 as psy\n",
    "import seaborn as sns\n",
    "from sqlalchemy import create_engine\n",
    "%matplotlib inline"
   ]
  },
  {
   "cell_type": "markdown",
   "metadata": {
    "focus": false,
    "id": "2c6f52ae-e694-463c-87d8-1974726c2e7a"
   },
   "source": [
    "#### Step 2: Examine your data "
   ]
  },
  {
   "cell_type": "code",
   "execution_count": 2,
   "metadata": {
    "collapsed": false,
    "focus": false,
    "id": "0f64db5a-e176-46a1-a10b-8c7db09437bc"
   },
   "outputs": [],
   "source": [
    "cancel = pd.read_csv('../assets/cancellations.csv')\n",
    "airports = pd.read_csv('../assets/airports.csv')\n",
    "operations = pd.read_csv('../assets/operations.csv')"
   ]
  },
  {
   "cell_type": "markdown",
   "metadata": {},
   "source": [
    "Check out cancel dataframe:"
   ]
  },
  {
   "cell_type": "code",
   "execution_count": 3,
   "metadata": {
    "collapsed": false
   },
   "outputs": [
    {
     "data": {
      "text/html": [
       "<div>\n",
       "<table border=\"1\" class=\"dataframe\">\n",
       "  <thead>\n",
       "    <tr style=\"text-align: right;\">\n",
       "      <th></th>\n",
       "      <th>Airport</th>\n",
       "      <th>Year</th>\n",
       "      <th>Departure Cancellations</th>\n",
       "      <th>Arrival Cancellations</th>\n",
       "      <th>Departure Diversions</th>\n",
       "      <th>Arrival Diversions</th>\n",
       "    </tr>\n",
       "  </thead>\n",
       "  <tbody>\n",
       "    <tr>\n",
       "      <th>0</th>\n",
       "      <td>ABQ</td>\n",
       "      <td>2004.0</td>\n",
       "      <td>242.0</td>\n",
       "      <td>235.0</td>\n",
       "      <td>71.0</td>\n",
       "      <td>46.0</td>\n",
       "    </tr>\n",
       "    <tr>\n",
       "      <th>1</th>\n",
       "      <td>ABQ</td>\n",
       "      <td>2005.0</td>\n",
       "      <td>221.0</td>\n",
       "      <td>190.0</td>\n",
       "      <td>61.0</td>\n",
       "      <td>33.0</td>\n",
       "    </tr>\n",
       "  </tbody>\n",
       "</table>\n",
       "</div>"
      ],
      "text/plain": [
       "  Airport    Year  Departure Cancellations  Arrival Cancellations  \\\n",
       "0     ABQ  2004.0                    242.0                  235.0   \n",
       "1     ABQ  2005.0                    221.0                  190.0   \n",
       "\n",
       "   Departure Diversions  Arrival Diversions  \n",
       "0                  71.0                46.0  \n",
       "1                  61.0                33.0  "
      ]
     },
     "execution_count": 3,
     "metadata": {},
     "output_type": "execute_result"
    }
   ],
   "source": [
    "cancel.head(2)"
   ]
  },
  {
   "cell_type": "code",
   "execution_count": 4,
   "metadata": {
    "collapsed": false
   },
   "outputs": [
    {
     "data": {
      "text/plain": [
       "Airport                    0\n",
       "Year                       0\n",
       "Departure Cancellations    0\n",
       "Arrival Cancellations      0\n",
       "Departure Diversions       0\n",
       "Arrival Diversions         0\n",
       "dtype: int64"
      ]
     },
     "execution_count": 4,
     "metadata": {},
     "output_type": "execute_result"
    }
   ],
   "source": [
    "cancel.isnull().sum()"
   ]
  },
  {
   "cell_type": "code",
   "execution_count": 5,
   "metadata": {
    "collapsed": false
   },
   "outputs": [
    {
     "data": {
      "text/plain": [
       "805"
      ]
     },
     "execution_count": 5,
     "metadata": {},
     "output_type": "execute_result"
    }
   ],
   "source": [
    "len(cancel)"
   ]
  },
  {
   "cell_type": "code",
   "execution_count": 6,
   "metadata": {
    "collapsed": false
   },
   "outputs": [
    {
     "data": {
      "text/plain": [
       "Airport                     object\n",
       "Year                       float64\n",
       "Departure Cancellations    float64\n",
       "Arrival Cancellations      float64\n",
       "Departure Diversions       float64\n",
       "Arrival Diversions         float64\n",
       "dtype: object"
      ]
     },
     "execution_count": 6,
     "metadata": {},
     "output_type": "execute_result"
    }
   ],
   "source": [
    "cancel.dtypes"
   ]
  },
  {
   "cell_type": "code",
   "execution_count": 7,
   "metadata": {
    "collapsed": true
   },
   "outputs": [],
   "source": [
    "for column in ['Year', 'Departure Cancellations', 'Arrival Cancellations', 'Departure Diversions', \\\n",
    "               'Arrival Diversions']:\n",
    "    cancel[column] = cancel[column].apply(lambda x: int(x))"
   ]
  },
  {
   "cell_type": "code",
   "execution_count": 8,
   "metadata": {
    "collapsed": false
   },
   "outputs": [
    {
     "data": {
      "text/plain": [
       "Airport                    object\n",
       "Year                        int64\n",
       "Departure Cancellations     int64\n",
       "Arrival Cancellations       int64\n",
       "Departure Diversions        int64\n",
       "Arrival Diversions          int64\n",
       "dtype: object"
      ]
     },
     "execution_count": 8,
     "metadata": {},
     "output_type": "execute_result"
    }
   ],
   "source": [
    "cancel.dtypes"
   ]
  },
  {
   "cell_type": "code",
   "execution_count": 9,
   "metadata": {
    "collapsed": false
   },
   "outputs": [
    {
     "data": {
      "text/plain": [
       "{6, 7, 11}"
      ]
     },
     "execution_count": 9,
     "metadata": {},
     "output_type": "execute_result"
    }
   ],
   "source": [
    "set(cancel['Airport'].value_counts())"
   ]
  },
  {
   "cell_type": "code",
   "execution_count": 10,
   "metadata": {
    "collapsed": false
   },
   "outputs": [
    {
     "data": {
      "text/plain": [
       "RFD     6\n",
       "OXR     7\n",
       "JFK    11\n",
       "DAL    11\n",
       "PBI    11\n",
       "Name: Airport, dtype: int64"
      ]
     },
     "execution_count": 10,
     "metadata": {},
     "output_type": "execute_result"
    }
   ],
   "source": [
    "cancel['Airport'].value_counts(ascending = True).head(5)"
   ]
  },
  {
   "cell_type": "code",
   "execution_count": 11,
   "metadata": {
    "collapsed": false
   },
   "outputs": [
    {
     "data": {
      "text/plain": [
       "74"
      ]
     },
     "execution_count": 11,
     "metadata": {},
     "output_type": "execute_result"
    }
   ],
   "source": [
    "len(cancel['Airport'].value_counts())"
   ]
  },
  {
   "cell_type": "markdown",
   "metadata": {},
   "source": [
    "This airport is in Rockford, IL:"
   ]
  },
  {
   "cell_type": "code",
   "execution_count": 12,
   "metadata": {
    "collapsed": false
   },
   "outputs": [
    {
     "data": {
      "text/html": [
       "<div>\n",
       "<table border=\"1\" class=\"dataframe\">\n",
       "  <thead>\n",
       "    <tr style=\"text-align: right;\">\n",
       "      <th></th>\n",
       "      <th>Airport</th>\n",
       "      <th>Year</th>\n",
       "      <th>Departure Cancellations</th>\n",
       "      <th>Arrival Cancellations</th>\n",
       "      <th>Departure Diversions</th>\n",
       "      <th>Arrival Diversions</th>\n",
       "    </tr>\n",
       "  </thead>\n",
       "  <tbody>\n",
       "    <tr>\n",
       "      <th>634</th>\n",
       "      <td>RFD</td>\n",
       "      <td>2006</td>\n",
       "      <td>9</td>\n",
       "      <td>11</td>\n",
       "      <td>2</td>\n",
       "      <td>8</td>\n",
       "    </tr>\n",
       "    <tr>\n",
       "      <th>635</th>\n",
       "      <td>RFD</td>\n",
       "      <td>2007</td>\n",
       "      <td>4</td>\n",
       "      <td>7</td>\n",
       "      <td>2</td>\n",
       "      <td>11</td>\n",
       "    </tr>\n",
       "    <tr>\n",
       "      <th>636</th>\n",
       "      <td>RFD</td>\n",
       "      <td>2008</td>\n",
       "      <td>5</td>\n",
       "      <td>2</td>\n",
       "      <td>0</td>\n",
       "      <td>5</td>\n",
       "    </tr>\n",
       "    <tr>\n",
       "      <th>637</th>\n",
       "      <td>RFD</td>\n",
       "      <td>2011</td>\n",
       "      <td>0</td>\n",
       "      <td>0</td>\n",
       "      <td>0</td>\n",
       "      <td>0</td>\n",
       "    </tr>\n",
       "    <tr>\n",
       "      <th>638</th>\n",
       "      <td>RFD</td>\n",
       "      <td>2012</td>\n",
       "      <td>1</td>\n",
       "      <td>1</td>\n",
       "      <td>0</td>\n",
       "      <td>0</td>\n",
       "    </tr>\n",
       "    <tr>\n",
       "      <th>639</th>\n",
       "      <td>RFD</td>\n",
       "      <td>2013</td>\n",
       "      <td>0</td>\n",
       "      <td>0</td>\n",
       "      <td>0</td>\n",
       "      <td>0</td>\n",
       "    </tr>\n",
       "  </tbody>\n",
       "</table>\n",
       "</div>"
      ],
      "text/plain": [
       "    Airport  Year  Departure Cancellations  Arrival Cancellations  \\\n",
       "634     RFD  2006                        9                     11   \n",
       "635     RFD  2007                        4                      7   \n",
       "636     RFD  2008                        5                      2   \n",
       "637     RFD  2011                        0                      0   \n",
       "638     RFD  2012                        1                      1   \n",
       "639     RFD  2013                        0                      0   \n",
       "\n",
       "     Departure Diversions  Arrival Diversions  \n",
       "634                     2                   8  \n",
       "635                     2                  11  \n",
       "636                     0                   5  \n",
       "637                     0                   0  \n",
       "638                     0                   0  \n",
       "639                     0                   0  "
      ]
     },
     "execution_count": 12,
     "metadata": {},
     "output_type": "execute_result"
    }
   ],
   "source": [
    "cancel[cancel['Airport'] == 'RFD']"
   ]
  },
  {
   "cell_type": "markdown",
   "metadata": {},
   "source": [
    "This airport is in Oxnard, CA:"
   ]
  },
  {
   "cell_type": "code",
   "execution_count": 13,
   "metadata": {
    "collapsed": false
   },
   "outputs": [
    {
     "data": {
      "text/html": [
       "<div>\n",
       "<table border=\"1\" class=\"dataframe\">\n",
       "  <thead>\n",
       "    <tr style=\"text-align: right;\">\n",
       "      <th></th>\n",
       "      <th>Airport</th>\n",
       "      <th>Year</th>\n",
       "      <th>Departure Cancellations</th>\n",
       "      <th>Arrival Cancellations</th>\n",
       "      <th>Departure Diversions</th>\n",
       "      <th>Arrival Diversions</th>\n",
       "    </tr>\n",
       "  </thead>\n",
       "  <tbody>\n",
       "    <tr>\n",
       "      <th>539</th>\n",
       "      <td>OXR</td>\n",
       "      <td>2004</td>\n",
       "      <td>43</td>\n",
       "      <td>37</td>\n",
       "      <td>0</td>\n",
       "      <td>0</td>\n",
       "    </tr>\n",
       "    <tr>\n",
       "      <th>540</th>\n",
       "      <td>OXR</td>\n",
       "      <td>2005</td>\n",
       "      <td>33</td>\n",
       "      <td>22</td>\n",
       "      <td>0</td>\n",
       "      <td>0</td>\n",
       "    </tr>\n",
       "    <tr>\n",
       "      <th>541</th>\n",
       "      <td>OXR</td>\n",
       "      <td>2006</td>\n",
       "      <td>51</td>\n",
       "      <td>44</td>\n",
       "      <td>2</td>\n",
       "      <td>1</td>\n",
       "    </tr>\n",
       "    <tr>\n",
       "      <th>542</th>\n",
       "      <td>OXR</td>\n",
       "      <td>2007</td>\n",
       "      <td>21</td>\n",
       "      <td>17</td>\n",
       "      <td>1</td>\n",
       "      <td>0</td>\n",
       "    </tr>\n",
       "    <tr>\n",
       "      <th>543</th>\n",
       "      <td>OXR</td>\n",
       "      <td>2008</td>\n",
       "      <td>20</td>\n",
       "      <td>20</td>\n",
       "      <td>1</td>\n",
       "      <td>0</td>\n",
       "    </tr>\n",
       "    <tr>\n",
       "      <th>544</th>\n",
       "      <td>OXR</td>\n",
       "      <td>2009</td>\n",
       "      <td>27</td>\n",
       "      <td>24</td>\n",
       "      <td>0</td>\n",
       "      <td>0</td>\n",
       "    </tr>\n",
       "    <tr>\n",
       "      <th>545</th>\n",
       "      <td>OXR</td>\n",
       "      <td>2010</td>\n",
       "      <td>10</td>\n",
       "      <td>8</td>\n",
       "      <td>0</td>\n",
       "      <td>0</td>\n",
       "    </tr>\n",
       "  </tbody>\n",
       "</table>\n",
       "</div>"
      ],
      "text/plain": [
       "    Airport  Year  Departure Cancellations  Arrival Cancellations  \\\n",
       "539     OXR  2004                       43                     37   \n",
       "540     OXR  2005                       33                     22   \n",
       "541     OXR  2006                       51                     44   \n",
       "542     OXR  2007                       21                     17   \n",
       "543     OXR  2008                       20                     20   \n",
       "544     OXR  2009                       27                     24   \n",
       "545     OXR  2010                       10                      8   \n",
       "\n",
       "     Departure Diversions  Arrival Diversions  \n",
       "539                     0                   0  \n",
       "540                     0                   0  \n",
       "541                     2                   1  \n",
       "542                     1                   0  \n",
       "543                     1                   0  \n",
       "544                     0                   0  \n",
       "545                     0                   0  "
      ]
     },
     "execution_count": 13,
     "metadata": {},
     "output_type": "execute_result"
    }
   ],
   "source": [
    "cancel[cancel['Airport'] == 'OXR']"
   ]
  },
  {
   "cell_type": "markdown",
   "metadata": {},
   "source": [
    "Judging by number of flights listed for these two airports, they seem tiny.  Let's take them out so we have consistent number of years' data for each airport."
   ]
  },
  {
   "cell_type": "code",
   "execution_count": 14,
   "metadata": {
    "collapsed": false
   },
   "outputs": [],
   "source": [
    "cancel = cancel[cancel['Airport'] != 'RFD']\n",
    "cancel = cancel[cancel['Airport'] != 'OXR']"
   ]
  },
  {
   "cell_type": "code",
   "execution_count": 15,
   "metadata": {
    "collapsed": false
   },
   "outputs": [
    {
     "data": {
      "text/plain": [
       "2014    72\n",
       "2013    72\n",
       "2012    72\n",
       "2011    72\n",
       "2010    72\n",
       "2009    72\n",
       "2008    72\n",
       "2007    72\n",
       "2006    72\n",
       "2005    72\n",
       "2004    72\n",
       "Name: Year, dtype: int64"
      ]
     },
     "execution_count": 15,
     "metadata": {},
     "output_type": "execute_result"
    }
   ],
   "source": [
    "cancel['Year'].value_counts()"
   ]
  },
  {
   "cell_type": "code",
   "execution_count": 16,
   "metadata": {
    "collapsed": false
   },
   "outputs": [
    {
     "data": {
      "text/plain": [
       "792"
      ]
     },
     "execution_count": 16,
     "metadata": {},
     "output_type": "execute_result"
    }
   ],
   "source": [
    "len(cancel)"
   ]
  },
  {
   "cell_type": "code",
   "execution_count": 17,
   "metadata": {
    "collapsed": false
   },
   "outputs": [
    {
     "data": {
      "text/plain": [
       "count      792.000000\n",
       "mean      1312.963384\n",
       "std       1843.638404\n",
       "min         14.000000\n",
       "25%        362.750000\n",
       "50%        688.500000\n",
       "75%       1488.250000\n",
       "max      16618.000000\n",
       "Name: Departure Cancellations, dtype: float64"
      ]
     },
     "execution_count": 17,
     "metadata": {},
     "output_type": "execute_result"
    }
   ],
   "source": [
    "cancel['Departure Cancellations'].describe()"
   ]
  },
  {
   "cell_type": "code",
   "execution_count": 18,
   "metadata": {
    "collapsed": false
   },
   "outputs": [
    {
     "data": {
      "text/plain": [
       "count      792.000000\n",
       "mean      1354.762626\n",
       "std       1984.086907\n",
       "min         11.000000\n",
       "25%        329.750000\n",
       "50%        654.500000\n",
       "75%       1554.750000\n",
       "max      17571.000000\n",
       "Name: Arrival Cancellations, dtype: float64"
      ]
     },
     "execution_count": 18,
     "metadata": {},
     "output_type": "execute_result"
    }
   ],
   "source": [
    "cancel['Arrival Cancellations'].describe()"
   ]
  },
  {
   "cell_type": "code",
   "execution_count": 19,
   "metadata": {
    "collapsed": false
   },
   "outputs": [
    {
     "data": {
      "text/plain": [
       "count     792.000000\n",
       "mean      176.150253\n",
       "std       172.316327\n",
       "min         3.000000\n",
       "25%        63.000000\n",
       "50%       113.000000\n",
       "75%       238.000000\n",
       "max      1064.000000\n",
       "Name: Departure Diversions, dtype: float64"
      ]
     },
     "execution_count": 19,
     "metadata": {},
     "output_type": "execute_result"
    }
   ],
   "source": [
    "cancel['Departure Diversions'].describe()"
   ]
  },
  {
   "cell_type": "code",
   "execution_count": 20,
   "metadata": {
    "collapsed": false
   },
   "outputs": [
    {
     "data": {
      "text/plain": [
       "count     792.000000\n",
       "mean      172.162879\n",
       "std       229.372122\n",
       "min         1.000000\n",
       "25%        42.000000\n",
       "50%        86.500000\n",
       "75%       190.250000\n",
       "max      1948.000000\n",
       "Name: Arrival Diversions, dtype: float64"
      ]
     },
     "execution_count": 20,
     "metadata": {},
     "output_type": "execute_result"
    }
   ],
   "source": [
    "cancel['Arrival Diversions'].describe()"
   ]
  },
  {
   "cell_type": "code",
   "execution_count": 21,
   "metadata": {
    "collapsed": false
   },
   "outputs": [
    {
     "data": {
      "text/plain": [
       "<seaborn.axisgrid.PairGrid at 0x119712110>"
      ]
     },
     "execution_count": 21,
     "metadata": {},
     "output_type": "execute_result"
    },
    {
     "data": {
      "image/png": "[encoded data removed]",
      "text/plain": [
       "<matplotlib.figure.Figure at 0x119feff10>"
      ]
     },
     "metadata": {},
     "output_type": "display_data"
    }
   ],
   "source": [
    "sns.pairplot(cancel)"
   ]
  },
  {
   "cell_type": "code",
   "execution_count": null,
   "metadata": {
    "collapsed": true
   },
   "outputs": [],
   "source": []
  },
  {
   "cell_type": "markdown",
   "metadata": {},
   "source": [
    "Check out airports dataframe:"
   ]
  },
  {
   "cell_type": "code",
   "execution_count": 22,
   "metadata": {
    "collapsed": false
   },
   "outputs": [
    {
     "data": {
      "text/html": [
       "<div>\n",
       "<table border=\"1\" class=\"dataframe\">\n",
       "  <thead>\n",
       "    <tr style=\"text-align: right;\">\n",
       "      <th></th>\n",
       "      <th>Key</th>\n",
       "      <th>LocID</th>\n",
       "      <th>AP_NAME</th>\n",
       "      <th>ALIAS</th>\n",
       "      <th>Facility Type</th>\n",
       "      <th>FAA REGION</th>\n",
       "      <th>COUNTY</th>\n",
       "      <th>CITY</th>\n",
       "      <th>STATE</th>\n",
       "      <th>AP Type</th>\n",
       "      <th>Latitude</th>\n",
       "      <th>Longitude</th>\n",
       "      <th>Boundary Data Available</th>\n",
       "    </tr>\n",
       "  </thead>\n",
       "  <tbody>\n",
       "    <tr>\n",
       "      <th>0</th>\n",
       "      <td>3443.0</td>\n",
       "      <td>STX</td>\n",
       "      <td>HENRY E ROHLSEN</td>\n",
       "      <td>Henry E Rohlsen Int'l Airport</td>\n",
       "      <td>Airport</td>\n",
       "      <td>ASO</td>\n",
       "      <td>-VIRGIN ISLANDS-</td>\n",
       "      <td>CHRISTIANSTED</td>\n",
       "      <td>VI</td>\n",
       "      <td>Public Use</td>\n",
       "      <td>17.701556</td>\n",
       "      <td>-64.801722</td>\n",
       "      <td>Yes</td>\n",
       "    </tr>\n",
       "    <tr>\n",
       "      <th>1</th>\n",
       "      <td>5088.0</td>\n",
       "      <td>X64</td>\n",
       "      <td>PATILLAS</td>\n",
       "      <td>NaN</td>\n",
       "      <td>Airport</td>\n",
       "      <td>ASO</td>\n",
       "      <td>#NAME?</td>\n",
       "      <td>PATILLAS</td>\n",
       "      <td>PR</td>\n",
       "      <td>Public Use</td>\n",
       "      <td>17.982189</td>\n",
       "      <td>-66.019330</td>\n",
       "      <td>No</td>\n",
       "    </tr>\n",
       "  </tbody>\n",
       "</table>\n",
       "</div>"
      ],
      "text/plain": [
       "      Key LocID          AP_NAME                          ALIAS Facility Type  \\\n",
       "0  3443.0   STX  HENRY E ROHLSEN  Henry E Rohlsen Int'l Airport       Airport   \n",
       "1  5088.0   X64         PATILLAS                            NaN       Airport   \n",
       "\n",
       "  FAA REGION            COUNTY           CITY STATE     AP Type   Latitude  \\\n",
       "0        ASO  -VIRGIN ISLANDS-  CHRISTIANSTED    VI  Public Use  17.701556   \n",
       "1        ASO            #NAME?       PATILLAS    PR  Public Use  17.982189   \n",
       "\n",
       "   Longitude Boundary Data Available  \n",
       "0 -64.801722                     Yes  \n",
       "1 -66.019330                      No  "
      ]
     },
     "execution_count": 22,
     "metadata": {},
     "output_type": "execute_result"
    }
   ],
   "source": [
    "airports.head(2)"
   ]
  },
  {
   "cell_type": "code",
   "execution_count": 23,
   "metadata": {
    "collapsed": false
   },
   "outputs": [
    {
     "data": {
      "text/plain": [
       "5167"
      ]
     },
     "execution_count": 23,
     "metadata": {},
     "output_type": "execute_result"
    }
   ],
   "source": [
    "len(airports)"
   ]
  },
  {
   "cell_type": "code",
   "execution_count": 24,
   "metadata": {
    "collapsed": false
   },
   "outputs": [
    {
     "data": {
      "text/plain": [
       "Key                           3\n",
       "LocID                        15\n",
       "AP_NAME                       3\n",
       "ALIAS                      1669\n",
       "Facility Type                 3\n",
       "FAA REGION                    3\n",
       "COUNTY                        3\n",
       "CITY                          3\n",
       "STATE                         3\n",
       "AP Type                       3\n",
       "Latitude                      3\n",
       "Longitude                     3\n",
       "Boundary Data Available       3\n",
       "dtype: int64"
      ]
     },
     "execution_count": 24,
     "metadata": {},
     "output_type": "execute_result"
    }
   ],
   "source": [
    "airports.isnull().sum()"
   ]
  },
  {
   "cell_type": "code",
   "execution_count": 25,
   "metadata": {
    "collapsed": true
   },
   "outputs": [],
   "source": [
    "del airports['ALIAS'] # use 'LocID' instead; this one is wordy"
   ]
  },
  {
   "cell_type": "code",
   "execution_count": 26,
   "metadata": {
    "collapsed": false
   },
   "outputs": [
    {
     "data": {
      "text/html": [
       "<div>\n",
       "<table border=\"1\" class=\"dataframe\">\n",
       "  <thead>\n",
       "    <tr style=\"text-align: right;\">\n",
       "      <th></th>\n",
       "      <th>Key</th>\n",
       "      <th>LocID</th>\n",
       "      <th>AP_NAME</th>\n",
       "      <th>Facility Type</th>\n",
       "      <th>FAA REGION</th>\n",
       "      <th>COUNTY</th>\n",
       "      <th>CITY</th>\n",
       "      <th>STATE</th>\n",
       "      <th>AP Type</th>\n",
       "      <th>Latitude</th>\n",
       "      <th>Longitude</th>\n",
       "      <th>Boundary Data Available</th>\n",
       "    </tr>\n",
       "  </thead>\n",
       "  <tbody>\n",
       "    <tr>\n",
       "      <th>5164</th>\n",
       "      <td>NaN</td>\n",
       "      <td>NaN</td>\n",
       "      <td>NaN</td>\n",
       "      <td>NaN</td>\n",
       "      <td>NaN</td>\n",
       "      <td>NaN</td>\n",
       "      <td>NaN</td>\n",
       "      <td>NaN</td>\n",
       "      <td>NaN</td>\n",
       "      <td>NaN</td>\n",
       "      <td>NaN</td>\n",
       "      <td>NaN</td>\n",
       "    </tr>\n",
       "    <tr>\n",
       "      <th>5165</th>\n",
       "      <td>NaN</td>\n",
       "      <td>NaN</td>\n",
       "      <td>NaN</td>\n",
       "      <td>NaN</td>\n",
       "      <td>NaN</td>\n",
       "      <td>NaN</td>\n",
       "      <td>NaN</td>\n",
       "      <td>NaN</td>\n",
       "      <td>NaN</td>\n",
       "      <td>NaN</td>\n",
       "      <td>NaN</td>\n",
       "      <td>NaN</td>\n",
       "    </tr>\n",
       "    <tr>\n",
       "      <th>5166</th>\n",
       "      <td>NaN</td>\n",
       "      <td>NaN</td>\n",
       "      <td>NaN</td>\n",
       "      <td>NaN</td>\n",
       "      <td>NaN</td>\n",
       "      <td>NaN</td>\n",
       "      <td>NaN</td>\n",
       "      <td>NaN</td>\n",
       "      <td>NaN</td>\n",
       "      <td>NaN</td>\n",
       "      <td>NaN</td>\n",
       "      <td>NaN</td>\n",
       "    </tr>\n",
       "  </tbody>\n",
       "</table>\n",
       "</div>"
      ],
      "text/plain": [
       "      Key LocID AP_NAME Facility Type FAA REGION COUNTY CITY STATE AP Type  \\\n",
       "5164  NaN   NaN     NaN           NaN        NaN    NaN  NaN   NaN     NaN   \n",
       "5165  NaN   NaN     NaN           NaN        NaN    NaN  NaN   NaN     NaN   \n",
       "5166  NaN   NaN     NaN           NaN        NaN    NaN  NaN   NaN     NaN   \n",
       "\n",
       "      Latitude  Longitude Boundary Data Available  \n",
       "5164       NaN        NaN                     NaN  \n",
       "5165       NaN        NaN                     NaN  \n",
       "5166       NaN        NaN                     NaN  "
      ]
     },
     "execution_count": 26,
     "metadata": {},
     "output_type": "execute_result"
    }
   ],
   "source": [
    "airports[airports['Key'].isnull()]"
   ]
  },
  {
   "cell_type": "code",
   "execution_count": 27,
   "metadata": {
    "collapsed": false
   },
   "outputs": [],
   "source": [
    "airports = airports.drop(airports.index[[5164, 5165, 5166]])"
   ]
  },
  {
   "cell_type": "markdown",
   "metadata": {},
   "source": [
    "Confirm 'LocID' is what we think it is:"
   ]
  },
  {
   "cell_type": "code",
   "execution_count": 28,
   "metadata": {
    "collapsed": false
   },
   "outputs": [
    {
     "data": {
      "text/html": [
       "<div>\n",
       "<table border=\"1\" class=\"dataframe\">\n",
       "  <thead>\n",
       "    <tr style=\"text-align: right;\">\n",
       "      <th></th>\n",
       "      <th>Key</th>\n",
       "      <th>LocID</th>\n",
       "      <th>AP_NAME</th>\n",
       "      <th>Facility Type</th>\n",
       "      <th>FAA REGION</th>\n",
       "      <th>COUNTY</th>\n",
       "      <th>CITY</th>\n",
       "      <th>STATE</th>\n",
       "      <th>AP Type</th>\n",
       "      <th>Latitude</th>\n",
       "      <th>Longitude</th>\n",
       "      <th>Boundary Data Available</th>\n",
       "    </tr>\n",
       "  </thead>\n",
       "  <tbody>\n",
       "    <tr>\n",
       "      <th>2752</th>\n",
       "      <td>2458.0</td>\n",
       "      <td>JFK</td>\n",
       "      <td>JOHN F KENNEDY INTL</td>\n",
       "      <td>Airport</td>\n",
       "      <td>AEA</td>\n",
       "      <td>QUEENS</td>\n",
       "      <td>NEW YORK</td>\n",
       "      <td>NY</td>\n",
       "      <td>Federalized/Commercial</td>\n",
       "      <td>40.639751</td>\n",
       "      <td>-73.778926</td>\n",
       "      <td>Yes</td>\n",
       "    </tr>\n",
       "  </tbody>\n",
       "</table>\n",
       "</div>"
      ],
      "text/plain": [
       "         Key LocID              AP_NAME Facility Type FAA REGION  COUNTY  \\\n",
       "2752  2458.0   JFK  JOHN F KENNEDY INTL       Airport        AEA  QUEENS   \n",
       "\n",
       "          CITY STATE                 AP Type   Latitude  Longitude  \\\n",
       "2752  NEW YORK    NY  Federalized/Commercial  40.639751 -73.778926   \n",
       "\n",
       "     Boundary Data Available  \n",
       "2752                     Yes  "
      ]
     },
     "execution_count": 28,
     "metadata": {},
     "output_type": "execute_result"
    }
   ],
   "source": [
    "airports[airports['LocID'] == 'JFK']"
   ]
  },
  {
   "cell_type": "code",
   "execution_count": 29,
   "metadata": {
    "collapsed": false,
    "scrolled": true
   },
   "outputs": [
    {
     "data": {
      "text/html": [
       "<div>\n",
       "<table border=\"1\" class=\"dataframe\">\n",
       "  <thead>\n",
       "    <tr style=\"text-align: right;\">\n",
       "      <th></th>\n",
       "      <th>LocID</th>\n",
       "      <th>AP_NAME</th>\n",
       "      <th>STATE</th>\n",
       "    </tr>\n",
       "  </thead>\n",
       "  <tbody>\n",
       "    <tr>\n",
       "      <th>182</th>\n",
       "      <td>NaN</td>\n",
       "      <td>TERLINGUA RANCH</td>\n",
       "      <td>TX</td>\n",
       "    </tr>\n",
       "    <tr>\n",
       "      <th>1208</th>\n",
       "      <td>NaN</td>\n",
       "      <td>MORIARTY</td>\n",
       "      <td>NM</td>\n",
       "    </tr>\n",
       "    <tr>\n",
       "      <th>1232</th>\n",
       "      <td>NaN</td>\n",
       "      <td>BUFFALO</td>\n",
       "      <td>TX</td>\n",
       "    </tr>\n",
       "    <tr>\n",
       "      <th>1233</th>\n",
       "      <td>NaN</td>\n",
       "      <td>MAPLES FIELD</td>\n",
       "      <td>TX</td>\n",
       "    </tr>\n",
       "    <tr>\n",
       "      <th>1408</th>\n",
       "      <td>NaN</td>\n",
       "      <td>MIAMI-ROBERTS COUNTY</td>\n",
       "      <td>TX</td>\n",
       "    </tr>\n",
       "    <tr>\n",
       "      <th>2670</th>\n",
       "      <td>NaN</td>\n",
       "      <td>PACKER</td>\n",
       "      <td>OH</td>\n",
       "    </tr>\n",
       "    <tr>\n",
       "      <th>2789</th>\n",
       "      <td>NaN</td>\n",
       "      <td>CORYDON</td>\n",
       "      <td>IA</td>\n",
       "    </tr>\n",
       "    <tr>\n",
       "      <th>3354</th>\n",
       "      <td>NaN</td>\n",
       "      <td>CACKLEBERRY</td>\n",
       "      <td>MI</td>\n",
       "    </tr>\n",
       "    <tr>\n",
       "      <th>3546</th>\n",
       "      <td>NaN</td>\n",
       "      <td>SHARPE'S STRIP</td>\n",
       "      <td>MI</td>\n",
       "    </tr>\n",
       "    <tr>\n",
       "      <th>3936</th>\n",
       "      <td>NaN</td>\n",
       "      <td>MOORES</td>\n",
       "      <td>NY</td>\n",
       "    </tr>\n",
       "    <tr>\n",
       "      <th>4200</th>\n",
       "      <td>NaN</td>\n",
       "      <td>GROTON MUNI</td>\n",
       "      <td>SD</td>\n",
       "    </tr>\n",
       "    <tr>\n",
       "      <th>4450</th>\n",
       "      <td>NaN</td>\n",
       "      <td>RICHARDTON</td>\n",
       "      <td>ND</td>\n",
       "    </tr>\n",
       "  </tbody>\n",
       "</table>\n",
       "</div>"
      ],
      "text/plain": [
       "     LocID               AP_NAME STATE\n",
       "182    NaN       TERLINGUA RANCH    TX\n",
       "1208   NaN              MORIARTY    NM\n",
       "1232   NaN               BUFFALO    TX\n",
       "1233   NaN          MAPLES FIELD    TX\n",
       "1408   NaN  MIAMI-ROBERTS COUNTY    TX\n",
       "2670   NaN                PACKER    OH\n",
       "2789   NaN               CORYDON    IA\n",
       "3354   NaN           CACKLEBERRY    MI\n",
       "3546   NaN        SHARPE'S STRIP    MI\n",
       "3936   NaN                MOORES    NY\n",
       "4200   NaN           GROTON MUNI    SD\n",
       "4450   NaN            RICHARDTON    ND"
      ]
     },
     "execution_count": 29,
     "metadata": {},
     "output_type": "execute_result"
    }
   ],
   "source": [
    "airports[airports['LocID'].isnull()][['LocID', 'AP_NAME', 'STATE']]"
   ]
  },
  {
   "cell_type": "markdown",
   "metadata": {},
   "source": [
    "We don't know if these airports will still be around after we merge dataframes, but let's search online and fill in proper 'LocID' entry anyway:"
   ]
  },
  {
   "cell_type": "code",
   "execution_count": 31,
   "metadata": {
    "collapsed": false
   },
   "outputs": [],
   "source": [
    "airports['LocID'][182] = '1E2'\n",
    "airports['LocID'][1208] = '0E0'\n",
    "airports['LocID'][1232] = '1E7'\n",
    "airports['LocID'][1233] = '1E9'\n",
    "airports['LocID'][1408] = '3E0'\n",
    "airports['LocID'][2670] = '5E9'\n",
    "airports['LocID'][2789] = '0E9'\n",
    "airports['LocID'][3354] = '2E8'\n",
    "airports['LocID'][3546] = '2E2'\n",
    "airports['LocID'][3936] = '1E8'\n",
    "airports['LocID'][4200] = '2E6'\n",
    "airports['LocID'][4450] = '4E8'"
   ]
  },
  {
   "cell_type": "code",
   "execution_count": 32,
   "metadata": {
    "collapsed": false
   },
   "outputs": [
    {
     "data": {
      "text/plain": [
       "Key                        0\n",
       "LocID                      0\n",
       "AP_NAME                    0\n",
       "Facility Type              0\n",
       "FAA REGION                 0\n",
       "COUNTY                     0\n",
       "CITY                       0\n",
       "STATE                      0\n",
       "AP Type                    0\n",
       "Latitude                   0\n",
       "Longitude                  0\n",
       "Boundary Data Available    0\n",
       "dtype: int64"
      ]
     },
     "execution_count": 32,
     "metadata": {},
     "output_type": "execute_result"
    }
   ],
   "source": [
    "airports.isnull().sum()"
   ]
  },
  {
   "cell_type": "code",
   "execution_count": 33,
   "metadata": {
    "collapsed": false
   },
   "outputs": [
    {
     "data": {
      "text/plain": [
       "5164"
      ]
     },
     "execution_count": 33,
     "metadata": {},
     "output_type": "execute_result"
    }
   ],
   "source": [
    "len(airports)"
   ]
  },
  {
   "cell_type": "code",
   "execution_count": 34,
   "metadata": {
    "collapsed": false
   },
   "outputs": [
    {
     "data": {
      "text/plain": [
       "5164"
      ]
     },
     "execution_count": 34,
     "metadata": {},
     "output_type": "execute_result"
    }
   ],
   "source": [
    "len(airports['LocID'].unique())"
   ]
  },
  {
   "cell_type": "code",
   "execution_count": 35,
   "metadata": {
    "collapsed": false
   },
   "outputs": [],
   "source": [
    "del airports['Key']"
   ]
  },
  {
   "cell_type": "code",
   "execution_count": 36,
   "metadata": {
    "collapsed": false
   },
   "outputs": [
    {
     "data": {
      "text/plain": [
       "4956"
      ]
     },
     "execution_count": 36,
     "metadata": {},
     "output_type": "execute_result"
    }
   ],
   "source": [
    "len(airports['AP_NAME'].unique())"
   ]
  },
  {
   "cell_type": "markdown",
   "metadata": {},
   "source": [
    "Hm, looks like some airport names are repeated (since there aren't 5164 unique names)... leave it for now."
   ]
  },
  {
   "cell_type": "code",
   "execution_count": 37,
   "metadata": {
    "collapsed": false
   },
   "outputs": [
    {
     "data": {
      "text/plain": [
       "Airport    5164\n",
       "Name: Facility Type, dtype: int64"
      ]
     },
     "execution_count": 37,
     "metadata": {},
     "output_type": "execute_result"
    }
   ],
   "source": [
    "airports['Facility Type'].value_counts()"
   ]
  },
  {
   "cell_type": "code",
   "execution_count": 38,
   "metadata": {
    "collapsed": true
   },
   "outputs": [],
   "source": [
    "del airports['Facility Type']"
   ]
  },
  {
   "cell_type": "code",
   "execution_count": 39,
   "metadata": {
    "collapsed": false
   },
   "outputs": [
    {
     "data": {
      "text/plain": [
       "AGL    1074\n",
       "ASW     769\n",
       "ASO     745\n",
       "ANM     649\n",
       "ACE     473\n",
       "AEA     468\n",
       "AAL     406\n",
       "AWP     397\n",
       "ANE     183\n",
       "Name: FAA REGION, dtype: int64"
      ]
     },
     "execution_count": 39,
     "metadata": {},
     "output_type": "execute_result"
    }
   ],
   "source": [
    "airports['FAA REGION'].value_counts()"
   ]
  },
  {
   "cell_type": "code",
   "execution_count": 40,
   "metadata": {
    "collapsed": false
   },
   "outputs": [
    {
     "data": {
      "text/plain": [
       "Public Use                4876\n",
       "Federalized/Commercial     288\n",
       "Name: AP Type, dtype: int64"
      ]
     },
     "execution_count": 40,
     "metadata": {},
     "output_type": "execute_result"
    }
   ],
   "source": [
    "airports['AP Type'].value_counts()"
   ]
  },
  {
   "cell_type": "code",
   "execution_count": 41,
   "metadata": {
    "collapsed": false
   },
   "outputs": [
    {
     "data": {
      "text/plain": [
       "Yes    3498\n",
       "No     1666\n",
       "Name: Boundary Data Available, dtype: int64"
      ]
     },
     "execution_count": 41,
     "metadata": {},
     "output_type": "execute_result"
    }
   ],
   "source": [
    "airports['Boundary Data Available'].value_counts()"
   ]
  },
  {
   "cell_type": "markdown",
   "metadata": {},
   "source": [
    "Looking like the USA!"
   ]
  },
  {
   "cell_type": "code",
   "execution_count": 42,
   "metadata": {
    "collapsed": false
   },
   "outputs": [
    {
     "data": {
      "image/png": "[encoded data removed]",
      "text/plain": [
       "<matplotlib.figure.Figure at 0x11c446f50>"
      ]
     },
     "metadata": {},
     "output_type": "display_data"
    }
   ],
   "source": [
    "plt.figure(figsize=(12,8))\n",
    "plt.style.use('fivethirtyeight')\n",
    "\n",
    "# state_color = []\n",
    "# count = 0\n",
    "# for i in airports['STATE']:\n",
    "#     lil_color = cm.Set1(i/56)\n",
    "#     state_color.append(lil_color)\n",
    "\n",
    "plt.scatter(airports['Latitude'], airports['Longitude'], color = 'green', alpha = 0.5)\n",
    "\n",
    "plt.title('Longitude vs Latitude in Airport Data ', fontsize = 22, y = 1.03)\n",
    "\n",
    "# y label\n",
    "plt.ylabel('longitude')\n",
    "\n",
    "# x label\n",
    "plt.xlabel('latitude')\n",
    "\n",
    "# set the figure boundaries\n",
    "plt.xlim([0, 80])\n",
    "plt.ylim([-190, -55])\n",
    "plt.grid(True)\n",
    "\n",
    "plt.show()"
   ]
  },
  {
   "cell_type": "markdown",
   "metadata": {},
   "source": [
    "Redundant information/too much geographic information/go out on a limb and say we won't need partial 'boundary data':"
   ]
  },
  {
   "cell_type": "code",
   "execution_count": 43,
   "metadata": {
    "collapsed": true
   },
   "outputs": [],
   "source": [
    "del airports['AP_NAME']\n",
    "del airports['COUNTY']\n",
    "del airports ['Boundary Data Available']"
   ]
  },
  {
   "cell_type": "code",
   "execution_count": 44,
   "metadata": {
    "collapsed": false
   },
   "outputs": [],
   "source": [
    "airports['AP Type'] = pd.get_dummies(airports[['AP Type']])"
   ]
  },
  {
   "cell_type": "code",
   "execution_count": 45,
   "metadata": {
    "collapsed": false
   },
   "outputs": [],
   "source": [
    "faa_region = pd.get_dummies(airports[['FAA REGION']])"
   ]
  },
  {
   "cell_type": "code",
   "execution_count": 46,
   "metadata": {
    "collapsed": false
   },
   "outputs": [
    {
     "data": {
      "text/plain": [
       "FAA REGION_AAL     406.0\n",
       "FAA REGION_ACE     473.0\n",
       "FAA REGION_AEA     468.0\n",
       "FAA REGION_AGL    1074.0\n",
       "FAA REGION_ANE     183.0\n",
       "FAA REGION_ANM     649.0\n",
       "FAA REGION_ASO     745.0\n",
       "FAA REGION_ASW     769.0\n",
       "FAA REGION_AWP     397.0\n",
       "dtype: float64"
      ]
     },
     "execution_count": 46,
     "metadata": {},
     "output_type": "execute_result"
    }
   ],
   "source": [
    "faa_region.sum()"
   ]
  },
  {
   "cell_type": "code",
   "execution_count": 47,
   "metadata": {
    "collapsed": true
   },
   "outputs": [],
   "source": [
    "airports = pd.concat([airports, faa_region], axis = 1)"
   ]
  },
  {
   "cell_type": "code",
   "execution_count": 48,
   "metadata": {
    "collapsed": false
   },
   "outputs": [],
   "source": [
    "del airports['FAA REGION']"
   ]
  },
  {
   "cell_type": "code",
   "execution_count": 49,
   "metadata": {
    "collapsed": false
   },
   "outputs": [
    {
     "data": {
      "text/html": [
       "<div>\n",
       "<table border=\"1\" class=\"dataframe\">\n",
       "  <thead>\n",
       "    <tr style=\"text-align: right;\">\n",
       "      <th></th>\n",
       "      <th>LocID</th>\n",
       "      <th>CITY</th>\n",
       "      <th>STATE</th>\n",
       "      <th>AP Type</th>\n",
       "      <th>Latitude</th>\n",
       "      <th>Longitude</th>\n",
       "      <th>FAA REGION_AAL</th>\n",
       "      <th>FAA REGION_ACE</th>\n",
       "      <th>FAA REGION_AEA</th>\n",
       "      <th>FAA REGION_AGL</th>\n",
       "      <th>FAA REGION_ANE</th>\n",
       "      <th>FAA REGION_ANM</th>\n",
       "      <th>FAA REGION_ASO</th>\n",
       "      <th>FAA REGION_ASW</th>\n",
       "      <th>FAA REGION_AWP</th>\n",
       "    </tr>\n",
       "  </thead>\n",
       "  <tbody>\n",
       "    <tr>\n",
       "      <th>0</th>\n",
       "      <td>STX</td>\n",
       "      <td>CHRISTIANSTED</td>\n",
       "      <td>VI</td>\n",
       "      <td>0.0</td>\n",
       "      <td>17.701556</td>\n",
       "      <td>-64.801722</td>\n",
       "      <td>0.0</td>\n",
       "      <td>0.0</td>\n",
       "      <td>0.0</td>\n",
       "      <td>0.0</td>\n",
       "      <td>0.0</td>\n",
       "      <td>0.0</td>\n",
       "      <td>1.0</td>\n",
       "      <td>0.0</td>\n",
       "      <td>0.0</td>\n",
       "    </tr>\n",
       "  </tbody>\n",
       "</table>\n",
       "</div>"
      ],
      "text/plain": [
       "  LocID           CITY STATE  AP Type   Latitude  Longitude  FAA REGION_AAL  \\\n",
       "0   STX  CHRISTIANSTED    VI      0.0  17.701556 -64.801722             0.0   \n",
       "\n",
       "   FAA REGION_ACE  FAA REGION_AEA  FAA REGION_AGL  FAA REGION_ANE  \\\n",
       "0             0.0             0.0             0.0             0.0   \n",
       "\n",
       "   FAA REGION_ANM  FAA REGION_ASO  FAA REGION_ASW  FAA REGION_AWP  \n",
       "0             0.0             1.0             0.0             0.0  "
      ]
     },
     "execution_count": 49,
     "metadata": {},
     "output_type": "execute_result"
    }
   ],
   "source": [
    "airports.head(1)"
   ]
  },
  {
   "cell_type": "markdown",
   "metadata": {},
   "source": [
    "Take a look at operations dataframe:"
   ]
  },
  {
   "cell_type": "code",
   "execution_count": 50,
   "metadata": {
    "collapsed": false
   },
   "outputs": [
    {
     "data": {
      "text/html": [
       "<div>\n",
       "<table border=\"1\" class=\"dataframe\">\n",
       "  <thead>\n",
       "    <tr style=\"text-align: right;\">\n",
       "      <th></th>\n",
       "      <th>airport</th>\n",
       "      <th>year</th>\n",
       "      <th>departures for metric computation</th>\n",
       "      <th>arrivals for metric computation</th>\n",
       "      <th>percent on-time gate departures</th>\n",
       "      <th>percent on-time airport departures</th>\n",
       "      <th>percent on-time gate arrivals</th>\n",
       "      <th>average_gate_departure_delay</th>\n",
       "      <th>average_taxi_out_time</th>\n",
       "      <th>average taxi out delay</th>\n",
       "      <th>average airport departure delay</th>\n",
       "      <th>average airborne delay</th>\n",
       "      <th>average taxi in delay</th>\n",
       "      <th>average block delay</th>\n",
       "      <th>average gate arrival delay</th>\n",
       "    </tr>\n",
       "  </thead>\n",
       "  <tbody>\n",
       "    <tr>\n",
       "      <th>0</th>\n",
       "      <td>ABQ</td>\n",
       "      <td>2004</td>\n",
       "      <td>53971</td>\n",
       "      <td>53818</td>\n",
       "      <td>0.803</td>\n",
       "      <td>0.7809</td>\n",
       "      <td>0.7921</td>\n",
       "      <td>10.38</td>\n",
       "      <td>9.89</td>\n",
       "      <td>2.43</td>\n",
       "      <td>12.1</td>\n",
       "      <td>2.46</td>\n",
       "      <td>0.83</td>\n",
       "      <td>2.55</td>\n",
       "      <td>10.87</td>\n",
       "    </tr>\n",
       "    <tr>\n",
       "      <th>1</th>\n",
       "      <td>ABQ</td>\n",
       "      <td>2005</td>\n",
       "      <td>51829</td>\n",
       "      <td>51877</td>\n",
       "      <td>0.814</td>\n",
       "      <td>0.7922</td>\n",
       "      <td>0.8001</td>\n",
       "      <td>9.60</td>\n",
       "      <td>9.79</td>\n",
       "      <td>2.29</td>\n",
       "      <td>11.2</td>\n",
       "      <td>2.26</td>\n",
       "      <td>0.89</td>\n",
       "      <td>2.34</td>\n",
       "      <td>10.24</td>\n",
       "    </tr>\n",
       "  </tbody>\n",
       "</table>\n",
       "</div>"
      ],
      "text/plain": [
       "  airport  year  departures for metric computation  \\\n",
       "0     ABQ  2004                              53971   \n",
       "1     ABQ  2005                              51829   \n",
       "\n",
       "   arrivals for metric computation  percent on-time gate departures  \\\n",
       "0                            53818                            0.803   \n",
       "1                            51877                            0.814   \n",
       "\n",
       "   percent on-time airport departures  percent on-time gate arrivals  \\\n",
       "0                              0.7809                         0.7921   \n",
       "1                              0.7922                         0.8001   \n",
       "\n",
       "   average_gate_departure_delay  average_taxi_out_time  \\\n",
       "0                         10.38                   9.89   \n",
       "1                          9.60                   9.79   \n",
       "\n",
       "   average taxi out delay  average airport departure delay  \\\n",
       "0                    2.43                             12.1   \n",
       "1                    2.29                             11.2   \n",
       "\n",
       "   average airborne delay  average taxi in delay  average block delay  \\\n",
       "0                    2.46                   0.83                 2.55   \n",
       "1                    2.26                   0.89                 2.34   \n",
       "\n",
       "   average gate arrival delay  \n",
       "0                       10.87  \n",
       "1                       10.24  "
      ]
     },
     "execution_count": 50,
     "metadata": {},
     "output_type": "execute_result"
    }
   ],
   "source": [
    "operations.head(2)"
   ]
  },
  {
   "cell_type": "code",
   "execution_count": 51,
   "metadata": {
    "collapsed": false
   },
   "outputs": [
    {
     "data": {
      "text/plain": [
       "airport                               0\n",
       "year                                  0\n",
       "departures for metric computation     0\n",
       "arrivals for metric computation       0\n",
       "percent on-time gate departures       0\n",
       "percent on-time airport departures    0\n",
       "percent on-time gate arrivals         0\n",
       "average_gate_departure_delay          0\n",
       "average_taxi_out_time                 0\n",
       "average taxi out delay                0\n",
       "average airport departure delay       0\n",
       "average airborne delay                0\n",
       "average taxi in delay                 0\n",
       "average block delay                   0\n",
       "average gate arrival delay            0\n",
       "dtype: int64"
      ]
     },
     "execution_count": 51,
     "metadata": {},
     "output_type": "execute_result"
    }
   ],
   "source": [
    "operations.isnull().sum()"
   ]
  },
  {
   "cell_type": "code",
   "execution_count": 52,
   "metadata": {
    "collapsed": false
   },
   "outputs": [
    {
     "data": {
      "text/plain": [
       "airport                                object\n",
       "year                                    int64\n",
       "departures for metric computation       int64\n",
       "arrivals for metric computation         int64\n",
       "percent on-time gate departures       float64\n",
       "percent on-time airport departures    float64\n",
       "percent on-time gate arrivals         float64\n",
       "average_gate_departure_delay          float64\n",
       "average_taxi_out_time                 float64\n",
       "average taxi out delay                float64\n",
       "average airport departure delay       float64\n",
       "average airborne delay                float64\n",
       "average taxi in delay                 float64\n",
       "average block delay                   float64\n",
       "average gate arrival delay            float64\n",
       "dtype: object"
      ]
     },
     "execution_count": 52,
     "metadata": {},
     "output_type": "execute_result"
    }
   ],
   "source": [
    "operations.dtypes"
   ]
  },
  {
   "cell_type": "code",
   "execution_count": 53,
   "metadata": {
    "collapsed": false
   },
   "outputs": [
    {
     "data": {
      "text/plain": [
       "841"
      ]
     },
     "execution_count": 53,
     "metadata": {},
     "output_type": "execute_result"
    }
   ],
   "source": [
    "len(operations)"
   ]
  },
  {
   "cell_type": "code",
   "execution_count": 54,
   "metadata": {
    "collapsed": false
   },
   "outputs": [
    {
     "data": {
      "text/plain": [
       "2014    77\n",
       "2013    77\n",
       "2012    77\n",
       "2011    77\n",
       "2010    77\n",
       "2009    77\n",
       "2008    77\n",
       "2007    77\n",
       "2006    75\n",
       "2005    75\n",
       "2004    75\n",
       "Name: year, dtype: int64"
      ]
     },
     "execution_count": 54,
     "metadata": {},
     "output_type": "execute_result"
    }
   ],
   "source": [
    "operations['year'].value_counts()"
   ]
  },
  {
   "cell_type": "code",
   "execution_count": 55,
   "metadata": {
    "collapsed": false
   },
   "outputs": [
    {
     "data": {
      "text/plain": [
       "{8, 11}"
      ]
     },
     "execution_count": 55,
     "metadata": {},
     "output_type": "execute_result"
    }
   ],
   "source": [
    "set(operations['airport'].value_counts())"
   ]
  },
  {
   "cell_type": "code",
   "execution_count": 56,
   "metadata": {
    "collapsed": false
   },
   "outputs": [
    {
     "data": {
      "text/plain": [
       "SMF     8\n",
       "PSP     8\n",
       "JFK    11\n",
       "DAL    11\n",
       "PBI    11\n",
       "Name: airport, dtype: int64"
      ]
     },
     "execution_count": 56,
     "metadata": {},
     "output_type": "execute_result"
    }
   ],
   "source": [
    "operations['airport'].value_counts(ascending = True).head(5)"
   ]
  },
  {
   "cell_type": "markdown",
   "metadata": {},
   "source": [
    "This is an airport in Sacramento, CA (missing 2004-06):"
   ]
  },
  {
   "cell_type": "code",
   "execution_count": 57,
   "metadata": {
    "collapsed": false
   },
   "outputs": [
    {
     "data": {
      "text/html": [
       "<div>\n",
       "<table border=\"1\" class=\"dataframe\">\n",
       "  <thead>\n",
       "    <tr style=\"text-align: right;\">\n",
       "      <th></th>\n",
       "      <th>airport</th>\n",
       "      <th>year</th>\n",
       "      <th>departures for metric computation</th>\n",
       "      <th>arrivals for metric computation</th>\n",
       "      <th>percent on-time gate departures</th>\n",
       "      <th>percent on-time airport departures</th>\n",
       "      <th>percent on-time gate arrivals</th>\n",
       "      <th>average_gate_departure_delay</th>\n",
       "      <th>average_taxi_out_time</th>\n",
       "      <th>average taxi out delay</th>\n",
       "      <th>average airport departure delay</th>\n",
       "      <th>average airborne delay</th>\n",
       "      <th>average taxi in delay</th>\n",
       "      <th>average block delay</th>\n",
       "      <th>average gate arrival delay</th>\n",
       "    </tr>\n",
       "  </thead>\n",
       "  <tbody>\n",
       "    <tr>\n",
       "      <th>756</th>\n",
       "      <td>SMF</td>\n",
       "      <td>2007</td>\n",
       "      <td>65686</td>\n",
       "      <td>65960</td>\n",
       "      <td>0.8025</td>\n",
       "      <td>0.7690</td>\n",
       "      <td>0.7724</td>\n",
       "      <td>11.01</td>\n",
       "      <td>10.86</td>\n",
       "      <td>2.64</td>\n",
       "      <td>12.95</td>\n",
       "      <td>2.54</td>\n",
       "      <td>1.12</td>\n",
       "      <td>2.59</td>\n",
       "      <td>12.17</td>\n",
       "    </tr>\n",
       "    <tr>\n",
       "      <th>757</th>\n",
       "      <td>SMF</td>\n",
       "      <td>2008</td>\n",
       "      <td>61470</td>\n",
       "      <td>61500</td>\n",
       "      <td>0.8067</td>\n",
       "      <td>0.7884</td>\n",
       "      <td>0.7706</td>\n",
       "      <td>11.12</td>\n",
       "      <td>10.46</td>\n",
       "      <td>1.93</td>\n",
       "      <td>12.29</td>\n",
       "      <td>2.13</td>\n",
       "      <td>0.73</td>\n",
       "      <td>2.49</td>\n",
       "      <td>12.13</td>\n",
       "    </tr>\n",
       "    <tr>\n",
       "      <th>758</th>\n",
       "      <td>SMF</td>\n",
       "      <td>2009</td>\n",
       "      <td>52731</td>\n",
       "      <td>52905</td>\n",
       "      <td>0.8401</td>\n",
       "      <td>0.8281</td>\n",
       "      <td>0.8066</td>\n",
       "      <td>9.02</td>\n",
       "      <td>9.85</td>\n",
       "      <td>1.57</td>\n",
       "      <td>9.75</td>\n",
       "      <td>1.88</td>\n",
       "      <td>0.65</td>\n",
       "      <td>1.75</td>\n",
       "      <td>9.87</td>\n",
       "    </tr>\n",
       "    <tr>\n",
       "      <th>759</th>\n",
       "      <td>SMF</td>\n",
       "      <td>2010</td>\n",
       "      <td>51516</td>\n",
       "      <td>51632</td>\n",
       "      <td>0.8209</td>\n",
       "      <td>0.8073</td>\n",
       "      <td>0.7886</td>\n",
       "      <td>9.97</td>\n",
       "      <td>9.64</td>\n",
       "      <td>1.48</td>\n",
       "      <td>10.86</td>\n",
       "      <td>1.93</td>\n",
       "      <td>0.66</td>\n",
       "      <td>1.98</td>\n",
       "      <td>11.10</td>\n",
       "    </tr>\n",
       "    <tr>\n",
       "      <th>760</th>\n",
       "      <td>SMF</td>\n",
       "      <td>2011</td>\n",
       "      <td>50574</td>\n",
       "      <td>50719</td>\n",
       "      <td>0.8265</td>\n",
       "      <td>0.7981</td>\n",
       "      <td>0.8055</td>\n",
       "      <td>9.82</td>\n",
       "      <td>10.32</td>\n",
       "      <td>2.19</td>\n",
       "      <td>11.36</td>\n",
       "      <td>1.86</td>\n",
       "      <td>0.83</td>\n",
       "      <td>2.01</td>\n",
       "      <td>10.41</td>\n",
       "    </tr>\n",
       "    <tr>\n",
       "      <th>761</th>\n",
       "      <td>SMF</td>\n",
       "      <td>2012</td>\n",
       "      <td>49016</td>\n",
       "      <td>49085</td>\n",
       "      <td>0.8505</td>\n",
       "      <td>0.8285</td>\n",
       "      <td>0.8311</td>\n",
       "      <td>8.97</td>\n",
       "      <td>10.43</td>\n",
       "      <td>2.20</td>\n",
       "      <td>10.40</td>\n",
       "      <td>1.71</td>\n",
       "      <td>1.01</td>\n",
       "      <td>1.69</td>\n",
       "      <td>9.28</td>\n",
       "    </tr>\n",
       "    <tr>\n",
       "      <th>762</th>\n",
       "      <td>SMF</td>\n",
       "      <td>2013</td>\n",
       "      <td>46868</td>\n",
       "      <td>47183</td>\n",
       "      <td>0.8242</td>\n",
       "      <td>0.7999</td>\n",
       "      <td>0.8035</td>\n",
       "      <td>9.88</td>\n",
       "      <td>10.58</td>\n",
       "      <td>2.13</td>\n",
       "      <td>11.29</td>\n",
       "      <td>1.87</td>\n",
       "      <td>0.74</td>\n",
       "      <td>1.64</td>\n",
       "      <td>10.47</td>\n",
       "    </tr>\n",
       "    <tr>\n",
       "      <th>763</th>\n",
       "      <td>SMF</td>\n",
       "      <td>2014</td>\n",
       "      <td>47618</td>\n",
       "      <td>47523</td>\n",
       "      <td>0.7861</td>\n",
       "      <td>0.7661</td>\n",
       "      <td>0.7659</td>\n",
       "      <td>11.91</td>\n",
       "      <td>10.75</td>\n",
       "      <td>2.04</td>\n",
       "      <td>13.09</td>\n",
       "      <td>2.00</td>\n",
       "      <td>0.85</td>\n",
       "      <td>2.10</td>\n",
       "      <td>12.57</td>\n",
       "    </tr>\n",
       "  </tbody>\n",
       "</table>\n",
       "</div>"
      ],
      "text/plain": [
       "    airport  year  departures for metric computation  \\\n",
       "756     SMF  2007                              65686   \n",
       "757     SMF  2008                              61470   \n",
       "758     SMF  2009                              52731   \n",
       "759     SMF  2010                              51516   \n",
       "760     SMF  2011                              50574   \n",
       "761     SMF  2012                              49016   \n",
       "762     SMF  2013                              46868   \n",
       "763     SMF  2014                              47618   \n",
       "\n",
       "     arrivals for metric computation  percent on-time gate departures  \\\n",
       "756                            65960                           0.8025   \n",
       "757                            61500                           0.8067   \n",
       "758                            52905                           0.8401   \n",
       "759                            51632                           0.8209   \n",
       "760                            50719                           0.8265   \n",
       "761                            49085                           0.8505   \n",
       "762                            47183                           0.8242   \n",
       "763                            47523                           0.7861   \n",
       "\n",
       "     percent on-time airport departures  percent on-time gate arrivals  \\\n",
       "756                              0.7690                         0.7724   \n",
       "757                              0.7884                         0.7706   \n",
       "758                              0.8281                         0.8066   \n",
       "759                              0.8073                         0.7886   \n",
       "760                              0.7981                         0.8055   \n",
       "761                              0.8285                         0.8311   \n",
       "762                              0.7999                         0.8035   \n",
       "763                              0.7661                         0.7659   \n",
       "\n",
       "     average_gate_departure_delay  average_taxi_out_time  \\\n",
       "756                         11.01                  10.86   \n",
       "757                         11.12                  10.46   \n",
       "758                          9.02                   9.85   \n",
       "759                          9.97                   9.64   \n",
       "760                          9.82                  10.32   \n",
       "761                          8.97                  10.43   \n",
       "762                          9.88                  10.58   \n",
       "763                         11.91                  10.75   \n",
       "\n",
       "     average taxi out delay  average airport departure delay  \\\n",
       "756                    2.64                            12.95   \n",
       "757                    1.93                            12.29   \n",
       "758                    1.57                             9.75   \n",
       "759                    1.48                            10.86   \n",
       "760                    2.19                            11.36   \n",
       "761                    2.20                            10.40   \n",
       "762                    2.13                            11.29   \n",
       "763                    2.04                            13.09   \n",
       "\n",
       "     average airborne delay  average taxi in delay  average block delay  \\\n",
       "756                    2.54                   1.12                 2.59   \n",
       "757                    2.13                   0.73                 2.49   \n",
       "758                    1.88                   0.65                 1.75   \n",
       "759                    1.93                   0.66                 1.98   \n",
       "760                    1.86                   0.83                 2.01   \n",
       "761                    1.71                   1.01                 1.69   \n",
       "762                    1.87                   0.74                 1.64   \n",
       "763                    2.00                   0.85                 2.10   \n",
       "\n",
       "     average gate arrival delay  \n",
       "756                       12.17  \n",
       "757                       12.13  \n",
       "758                        9.87  \n",
       "759                       11.10  \n",
       "760                       10.41  \n",
       "761                        9.28  \n",
       "762                       10.47  \n",
       "763                       12.57  "
      ]
     },
     "execution_count": 57,
     "metadata": {},
     "output_type": "execute_result"
    }
   ],
   "source": [
    "operations[operations['airport'] == 'SMF']"
   ]
  },
  {
   "cell_type": "markdown",
   "metadata": {},
   "source": [
    "This is an airport in Palm Springs, CA (missing 2004-06):"
   ]
  },
  {
   "cell_type": "code",
   "execution_count": 58,
   "metadata": {
    "collapsed": false
   },
   "outputs": [
    {
     "data": {
      "text/html": [
       "<div>\n",
       "<table border=\"1\" class=\"dataframe\">\n",
       "  <thead>\n",
       "    <tr style=\"text-align: right;\">\n",
       "      <th></th>\n",
       "      <th>airport</th>\n",
       "      <th>year</th>\n",
       "      <th>departures for metric computation</th>\n",
       "      <th>arrivals for metric computation</th>\n",
       "      <th>percent on-time gate departures</th>\n",
       "      <th>percent on-time airport departures</th>\n",
       "      <th>percent on-time gate arrivals</th>\n",
       "      <th>average_gate_departure_delay</th>\n",
       "      <th>average_taxi_out_time</th>\n",
       "      <th>average taxi out delay</th>\n",
       "      <th>average airport departure delay</th>\n",
       "      <th>average airborne delay</th>\n",
       "      <th>average taxi in delay</th>\n",
       "      <th>average block delay</th>\n",
       "      <th>average gate arrival delay</th>\n",
       "    </tr>\n",
       "  </thead>\n",
       "  <tbody>\n",
       "    <tr>\n",
       "      <th>616</th>\n",
       "      <td>PSP</td>\n",
       "      <td>2007</td>\n",
       "      <td>17764</td>\n",
       "      <td>17852</td>\n",
       "      <td>0.7411</td>\n",
       "      <td>0.7053</td>\n",
       "      <td>0.7011</td>\n",
       "      <td>13.53</td>\n",
       "      <td>11.40</td>\n",
       "      <td>3.03</td>\n",
       "      <td>15.56</td>\n",
       "      <td>2.48</td>\n",
       "      <td>1.00</td>\n",
       "      <td>3.52</td>\n",
       "      <td>15.67</td>\n",
       "    </tr>\n",
       "    <tr>\n",
       "      <th>617</th>\n",
       "      <td>PSP</td>\n",
       "      <td>2008</td>\n",
       "      <td>16005</td>\n",
       "      <td>16036</td>\n",
       "      <td>0.7683</td>\n",
       "      <td>0.7321</td>\n",
       "      <td>0.7312</td>\n",
       "      <td>12.35</td>\n",
       "      <td>12.16</td>\n",
       "      <td>3.10</td>\n",
       "      <td>14.32</td>\n",
       "      <td>2.82</td>\n",
       "      <td>1.17</td>\n",
       "      <td>3.71</td>\n",
       "      <td>13.87</td>\n",
       "    </tr>\n",
       "    <tr>\n",
       "      <th>618</th>\n",
       "      <td>PSP</td>\n",
       "      <td>2009</td>\n",
       "      <td>14802</td>\n",
       "      <td>14837</td>\n",
       "      <td>0.8128</td>\n",
       "      <td>0.7919</td>\n",
       "      <td>0.7853</td>\n",
       "      <td>10.22</td>\n",
       "      <td>11.90</td>\n",
       "      <td>2.32</td>\n",
       "      <td>11.52</td>\n",
       "      <td>2.67</td>\n",
       "      <td>0.68</td>\n",
       "      <td>2.88</td>\n",
       "      <td>10.95</td>\n",
       "    </tr>\n",
       "    <tr>\n",
       "      <th>619</th>\n",
       "      <td>PSP</td>\n",
       "      <td>2010</td>\n",
       "      <td>14769</td>\n",
       "      <td>14859</td>\n",
       "      <td>0.7944</td>\n",
       "      <td>0.7699</td>\n",
       "      <td>0.7574</td>\n",
       "      <td>11.54</td>\n",
       "      <td>11.77</td>\n",
       "      <td>2.50</td>\n",
       "      <td>12.97</td>\n",
       "      <td>3.07</td>\n",
       "      <td>0.73</td>\n",
       "      <td>3.12</td>\n",
       "      <td>12.86</td>\n",
       "    </tr>\n",
       "    <tr>\n",
       "      <th>620</th>\n",
       "      <td>PSP</td>\n",
       "      <td>2011</td>\n",
       "      <td>14458</td>\n",
       "      <td>14632</td>\n",
       "      <td>0.7738</td>\n",
       "      <td>0.7484</td>\n",
       "      <td>0.7484</td>\n",
       "      <td>12.76</td>\n",
       "      <td>11.89</td>\n",
       "      <td>2.64</td>\n",
       "      <td>14.33</td>\n",
       "      <td>3.35</td>\n",
       "      <td>0.77</td>\n",
       "      <td>3.30</td>\n",
       "      <td>13.57</td>\n",
       "    </tr>\n",
       "    <tr>\n",
       "      <th>621</th>\n",
       "      <td>PSP</td>\n",
       "      <td>2012</td>\n",
       "      <td>15601</td>\n",
       "      <td>15682</td>\n",
       "      <td>0.7692</td>\n",
       "      <td>0.7362</td>\n",
       "      <td>0.7587</td>\n",
       "      <td>14.00</td>\n",
       "      <td>12.51</td>\n",
       "      <td>3.14</td>\n",
       "      <td>15.98</td>\n",
       "      <td>3.23</td>\n",
       "      <td>0.84</td>\n",
       "      <td>3.20</td>\n",
       "      <td>12.85</td>\n",
       "    </tr>\n",
       "    <tr>\n",
       "      <th>622</th>\n",
       "      <td>PSP</td>\n",
       "      <td>2013</td>\n",
       "      <td>15346</td>\n",
       "      <td>15242</td>\n",
       "      <td>0.7754</td>\n",
       "      <td>0.7483</td>\n",
       "      <td>0.7683</td>\n",
       "      <td>14.15</td>\n",
       "      <td>12.50</td>\n",
       "      <td>2.72</td>\n",
       "      <td>15.76</td>\n",
       "      <td>2.89</td>\n",
       "      <td>0.95</td>\n",
       "      <td>2.91</td>\n",
       "      <td>12.66</td>\n",
       "    </tr>\n",
       "    <tr>\n",
       "      <th>623</th>\n",
       "      <td>PSP</td>\n",
       "      <td>2014</td>\n",
       "      <td>16231</td>\n",
       "      <td>16208</td>\n",
       "      <td>0.7632</td>\n",
       "      <td>0.7332</td>\n",
       "      <td>0.7512</td>\n",
       "      <td>14.56</td>\n",
       "      <td>12.67</td>\n",
       "      <td>2.74</td>\n",
       "      <td>16.29</td>\n",
       "      <td>3.19</td>\n",
       "      <td>0.99</td>\n",
       "      <td>3.78</td>\n",
       "      <td>13.81</td>\n",
       "    </tr>\n",
       "  </tbody>\n",
       "</table>\n",
       "</div>"
      ],
      "text/plain": [
       "    airport  year  departures for metric computation  \\\n",
       "616     PSP  2007                              17764   \n",
       "617     PSP  2008                              16005   \n",
       "618     PSP  2009                              14802   \n",
       "619     PSP  2010                              14769   \n",
       "620     PSP  2011                              14458   \n",
       "621     PSP  2012                              15601   \n",
       "622     PSP  2013                              15346   \n",
       "623     PSP  2014                              16231   \n",
       "\n",
       "     arrivals for metric computation  percent on-time gate departures  \\\n",
       "616                            17852                           0.7411   \n",
       "617                            16036                           0.7683   \n",
       "618                            14837                           0.8128   \n",
       "619                            14859                           0.7944   \n",
       "620                            14632                           0.7738   \n",
       "621                            15682                           0.7692   \n",
       "622                            15242                           0.7754   \n",
       "623                            16208                           0.7632   \n",
       "\n",
       "     percent on-time airport departures  percent on-time gate arrivals  \\\n",
       "616                              0.7053                         0.7011   \n",
       "617                              0.7321                         0.7312   \n",
       "618                              0.7919                         0.7853   \n",
       "619                              0.7699                         0.7574   \n",
       "620                              0.7484                         0.7484   \n",
       "621                              0.7362                         0.7587   \n",
       "622                              0.7483                         0.7683   \n",
       "623                              0.7332                         0.7512   \n",
       "\n",
       "     average_gate_departure_delay  average_taxi_out_time  \\\n",
       "616                         13.53                  11.40   \n",
       "617                         12.35                  12.16   \n",
       "618                         10.22                  11.90   \n",
       "619                         11.54                  11.77   \n",
       "620                         12.76                  11.89   \n",
       "621                         14.00                  12.51   \n",
       "622                         14.15                  12.50   \n",
       "623                         14.56                  12.67   \n",
       "\n",
       "     average taxi out delay  average airport departure delay  \\\n",
       "616                    3.03                            15.56   \n",
       "617                    3.10                            14.32   \n",
       "618                    2.32                            11.52   \n",
       "619                    2.50                            12.97   \n",
       "620                    2.64                            14.33   \n",
       "621                    3.14                            15.98   \n",
       "622                    2.72                            15.76   \n",
       "623                    2.74                            16.29   \n",
       "\n",
       "     average airborne delay  average taxi in delay  average block delay  \\\n",
       "616                    2.48                   1.00                 3.52   \n",
       "617                    2.82                   1.17                 3.71   \n",
       "618                    2.67                   0.68                 2.88   \n",
       "619                    3.07                   0.73                 3.12   \n",
       "620                    3.35                   0.77                 3.30   \n",
       "621                    3.23                   0.84                 3.20   \n",
       "622                    2.89                   0.95                 2.91   \n",
       "623                    3.19                   0.99                 3.78   \n",
       "\n",
       "     average gate arrival delay  \n",
       "616                       15.67  \n",
       "617                       13.87  \n",
       "618                       10.95  \n",
       "619                       12.86  \n",
       "620                       13.57  \n",
       "621                       12.85  \n",
       "622                       12.66  \n",
       "623                       13.81  "
      ]
     },
     "execution_count": 58,
     "metadata": {},
     "output_type": "execute_result"
    }
   ],
   "source": [
    "operations[operations['airport'] == 'PSP']"
   ]
  },
  {
   "cell_type": "code",
   "execution_count": 59,
   "metadata": {
    "collapsed": true
   },
   "outputs": [],
   "source": [
    "operations = operations[operations['airport'] != 'PSP']\n",
    "operations = operations[operations['airport'] != 'SMF']"
   ]
  },
  {
   "cell_type": "code",
   "execution_count": 60,
   "metadata": {
    "collapsed": false
   },
   "outputs": [
    {
     "data": {
      "text/plain": [
       "<seaborn.axisgrid.PairGrid at 0x11c77f410>"
      ]
     },
     "execution_count": 60,
     "metadata": {},
     "output_type": "execute_result"
    },
    {
     "data": {
      "image/png": "[encoded data removed]",
      "text/plain": [
       "<matplotlib.figure.Figure at 0x11c124410>"
      ]
     },
     "metadata": {},
     "output_type": "display_data"
    }
   ],
   "source": [
    "sns.pairplot(operations[['year', 'departures for metric computation', 'arrivals for metric computation']])"
   ]
  },
  {
   "cell_type": "markdown",
   "metadata": {},
   "source": [
    "Let's see if we can merge dataframes on airport code:"
   ]
  },
  {
   "cell_type": "code",
   "execution_count": 61,
   "metadata": {
    "collapsed": false
   },
   "outputs": [
    {
     "name": "stdout",
     "output_type": "stream",
     "text": [
      "set(['SMF', 'PSP'])\n"
     ]
    }
   ],
   "source": [
    "only_cancel = []\n",
    "for code in cancel['Airport']:\n",
    "    if code in list(operations['airport']):\n",
    "        continue\n",
    "    else:\n",
    "        only_cancel.append(code)\n",
    "print set(only_cancel)"
   ]
  },
  {
   "cell_type": "code",
   "execution_count": 62,
   "metadata": {
    "collapsed": false
   },
   "outputs": [
    {
     "name": "stdout",
     "output_type": "stream",
     "text": [
      "set(['TEB', 'VNY', 'OXR', 'GYY', 'RFD'])\n"
     ]
    }
   ],
   "source": [
    "only_operations = []\n",
    "for code in operations['airport']:\n",
    "    if code in list(cancel['Airport']):\n",
    "        continue\n",
    "    else:\n",
    "        only_operations.append(code)\n",
    "print set(only_operations)"
   ]
  },
  {
   "cell_type": "markdown",
   "metadata": {},
   "source": [
    "This airport is in Teterborough, NJ:"
   ]
  },
  {
   "cell_type": "code",
   "execution_count": 63,
   "metadata": {
    "collapsed": false
   },
   "outputs": [
    {
     "data": {
      "text/html": [
       "<div>\n",
       "<table border=\"1\" class=\"dataframe\">\n",
       "  <thead>\n",
       "    <tr style=\"text-align: right;\">\n",
       "      <th></th>\n",
       "      <th>airport</th>\n",
       "      <th>year</th>\n",
       "      <th>departures for metric computation</th>\n",
       "      <th>arrivals for metric computation</th>\n",
       "      <th>percent on-time gate departures</th>\n",
       "      <th>percent on-time airport departures</th>\n",
       "      <th>percent on-time gate arrivals</th>\n",
       "      <th>average_gate_departure_delay</th>\n",
       "      <th>average_taxi_out_time</th>\n",
       "      <th>average taxi out delay</th>\n",
       "      <th>average airport departure delay</th>\n",
       "      <th>average airborne delay</th>\n",
       "      <th>average taxi in delay</th>\n",
       "      <th>average block delay</th>\n",
       "      <th>average gate arrival delay</th>\n",
       "    </tr>\n",
       "  </thead>\n",
       "  <tbody>\n",
       "    <tr>\n",
       "      <th>807</th>\n",
       "      <td>TEB</td>\n",
       "      <td>2014</td>\n",
       "      <td>29836</td>\n",
       "      <td>29781</td>\n",
       "      <td>0.327</td>\n",
       "      <td>0.3121</td>\n",
       "      <td>0.4065</td>\n",
       "      <td>35.26</td>\n",
       "      <td>11.73</td>\n",
       "      <td>0.43</td>\n",
       "      <td>36.4</td>\n",
       "      <td>5.15</td>\n",
       "      <td>0.0</td>\n",
       "      <td>6.19</td>\n",
       "      <td>31.38</td>\n",
       "    </tr>\n",
       "  </tbody>\n",
       "</table>\n",
       "</div>"
      ],
      "text/plain": [
       "    airport  year  departures for metric computation  \\\n",
       "807     TEB  2014                              29836   \n",
       "\n",
       "     arrivals for metric computation  percent on-time gate departures  \\\n",
       "807                            29781                            0.327   \n",
       "\n",
       "     percent on-time airport departures  percent on-time gate arrivals  \\\n",
       "807                              0.3121                         0.4065   \n",
       "\n",
       "     average_gate_departure_delay  average_taxi_out_time  \\\n",
       "807                         35.26                  11.73   \n",
       "\n",
       "     average taxi out delay  average airport departure delay  \\\n",
       "807                    0.43                             36.4   \n",
       "\n",
       "     average airborne delay  average taxi in delay  average block delay  \\\n",
       "807                    5.15                    0.0                 6.19   \n",
       "\n",
       "     average gate arrival delay  \n",
       "807                       31.38  "
      ]
     },
     "execution_count": 63,
     "metadata": {},
     "output_type": "execute_result"
    }
   ],
   "source": [
    "operations[(operations['airport'] == 'TEB') & (operations['year'] == 2014)]"
   ]
  },
  {
   "cell_type": "markdown",
   "metadata": {},
   "source": [
    "This airport is in Van Nuys, CA:"
   ]
  },
  {
   "cell_type": "code",
   "execution_count": 64,
   "metadata": {
    "collapsed": false
   },
   "outputs": [
    {
     "data": {
      "text/html": [
       "<div>\n",
       "<table border=\"1\" class=\"dataframe\">\n",
       "  <thead>\n",
       "    <tr style=\"text-align: right;\">\n",
       "      <th></th>\n",
       "      <th>airport</th>\n",
       "      <th>year</th>\n",
       "      <th>departures for metric computation</th>\n",
       "      <th>arrivals for metric computation</th>\n",
       "      <th>percent on-time gate departures</th>\n",
       "      <th>percent on-time airport departures</th>\n",
       "      <th>percent on-time gate arrivals</th>\n",
       "      <th>average_gate_departure_delay</th>\n",
       "      <th>average_taxi_out_time</th>\n",
       "      <th>average taxi out delay</th>\n",
       "      <th>average airport departure delay</th>\n",
       "      <th>average airborne delay</th>\n",
       "      <th>average taxi in delay</th>\n",
       "      <th>average block delay</th>\n",
       "      <th>average gate arrival delay</th>\n",
       "    </tr>\n",
       "  </thead>\n",
       "  <tbody>\n",
       "    <tr>\n",
       "      <th>840</th>\n",
       "      <td>VNY</td>\n",
       "      <td>2014</td>\n",
       "      <td>7412</td>\n",
       "      <td>7573</td>\n",
       "      <td>0.4014</td>\n",
       "      <td>0.3841</td>\n",
       "      <td>0.4507</td>\n",
       "      <td>28.87</td>\n",
       "      <td>11.7</td>\n",
       "      <td>0.4</td>\n",
       "      <td>29.96</td>\n",
       "      <td>2.92</td>\n",
       "      <td>0.0</td>\n",
       "      <td>3.89</td>\n",
       "      <td>28.97</td>\n",
       "    </tr>\n",
       "  </tbody>\n",
       "</table>\n",
       "</div>"
      ],
      "text/plain": [
       "    airport  year  departures for metric computation  \\\n",
       "840     VNY  2014                               7412   \n",
       "\n",
       "     arrivals for metric computation  percent on-time gate departures  \\\n",
       "840                             7573                           0.4014   \n",
       "\n",
       "     percent on-time airport departures  percent on-time gate arrivals  \\\n",
       "840                              0.3841                         0.4507   \n",
       "\n",
       "     average_gate_departure_delay  average_taxi_out_time  \\\n",
       "840                         28.87                   11.7   \n",
       "\n",
       "     average taxi out delay  average airport departure delay  \\\n",
       "840                     0.4                            29.96   \n",
       "\n",
       "     average airborne delay  average taxi in delay  average block delay  \\\n",
       "840                    2.92                    0.0                 3.89   \n",
       "\n",
       "     average gate arrival delay  \n",
       "840                       28.97  "
      ]
     },
     "execution_count": 64,
     "metadata": {},
     "output_type": "execute_result"
    }
   ],
   "source": [
    "operations[(operations['airport'] == 'VNY') & (operations['year'] == 2014)]"
   ]
  },
  {
   "cell_type": "markdown",
   "metadata": {},
   "source": [
    "This is airport is in Gary, IN:"
   ]
  },
  {
   "cell_type": "code",
   "execution_count": 65,
   "metadata": {
    "collapsed": false
   },
   "outputs": [
    {
     "data": {
      "text/html": [
       "<div>\n",
       "<table border=\"1\" class=\"dataframe\">\n",
       "  <thead>\n",
       "    <tr style=\"text-align: right;\">\n",
       "      <th></th>\n",
       "      <th>airport</th>\n",
       "      <th>year</th>\n",
       "      <th>departures for metric computation</th>\n",
       "      <th>arrivals for metric computation</th>\n",
       "      <th>percent on-time gate departures</th>\n",
       "      <th>percent on-time airport departures</th>\n",
       "      <th>percent on-time gate arrivals</th>\n",
       "      <th>average_gate_departure_delay</th>\n",
       "      <th>average_taxi_out_time</th>\n",
       "      <th>average taxi out delay</th>\n",
       "      <th>average airport departure delay</th>\n",
       "      <th>average airborne delay</th>\n",
       "      <th>average taxi in delay</th>\n",
       "      <th>average block delay</th>\n",
       "      <th>average gate arrival delay</th>\n",
       "    </tr>\n",
       "  </thead>\n",
       "  <tbody>\n",
       "    <tr>\n",
       "      <th>252</th>\n",
       "      <td>GYY</td>\n",
       "      <td>2014</td>\n",
       "      <td>729</td>\n",
       "      <td>752</td>\n",
       "      <td>0.5857</td>\n",
       "      <td>0.561</td>\n",
       "      <td>0.5505</td>\n",
       "      <td>22.02</td>\n",
       "      <td>11.57</td>\n",
       "      <td>0.33</td>\n",
       "      <td>22.93</td>\n",
       "      <td>3.12</td>\n",
       "      <td>0.0</td>\n",
       "      <td>3.59</td>\n",
       "      <td>23.08</td>\n",
       "    </tr>\n",
       "  </tbody>\n",
       "</table>\n",
       "</div>"
      ],
      "text/plain": [
       "    airport  year  departures for metric computation  \\\n",
       "252     GYY  2014                                729   \n",
       "\n",
       "     arrivals for metric computation  percent on-time gate departures  \\\n",
       "252                              752                           0.5857   \n",
       "\n",
       "     percent on-time airport departures  percent on-time gate arrivals  \\\n",
       "252                               0.561                         0.5505   \n",
       "\n",
       "     average_gate_departure_delay  average_taxi_out_time  \\\n",
       "252                         22.02                  11.57   \n",
       "\n",
       "     average taxi out delay  average airport departure delay  \\\n",
       "252                    0.33                            22.93   \n",
       "\n",
       "     average airborne delay  average taxi in delay  average block delay  \\\n",
       "252                    3.12                    0.0                 3.59   \n",
       "\n",
       "     average gate arrival delay  \n",
       "252                       23.08  "
      ]
     },
     "execution_count": 65,
     "metadata": {},
     "output_type": "execute_result"
    }
   ],
   "source": [
    "operations[(operations['airport'] == 'GYY') & (operations['year'] == 2014)]"
   ]
  },
  {
   "cell_type": "markdown",
   "metadata": {},
   "source": [
    "That's nice, now let's get rid of them:"
   ]
  },
  {
   "cell_type": "code",
   "execution_count": 66,
   "metadata": {
    "collapsed": false
   },
   "outputs": [],
   "source": [
    "operations = operations[operations['airport'] != 'TEB']\n",
    "operations = operations[operations['airport'] != 'VNY']\n",
    "operations = operations[operations['airport'] != 'OXR']\n",
    "operations = operations[operations['airport'] != 'GYY']\n",
    "operations = operations[operations['airport'] != 'RFD']\n",
    "cancel = cancel[cancel['Airport'] != 'SMF']\n",
    "cancel = cancel[cancel['Airport'] != 'PSP']"
   ]
  },
  {
   "cell_type": "code",
   "execution_count": 67,
   "metadata": {
    "collapsed": false
   },
   "outputs": [
    {
     "data": {
      "text/plain": [
       "770"
      ]
     },
     "execution_count": 67,
     "metadata": {},
     "output_type": "execute_result"
    }
   ],
   "source": [
    "len(operations)"
   ]
  },
  {
   "cell_type": "code",
   "execution_count": 68,
   "metadata": {
    "collapsed": false
   },
   "outputs": [
    {
     "data": {
      "text/plain": [
       "770"
      ]
     },
     "execution_count": 68,
     "metadata": {},
     "output_type": "execute_result"
    }
   ],
   "source": [
    "len(cancel)"
   ]
  },
  {
   "cell_type": "markdown",
   "metadata": {
    "focus": false,
    "id": "3690c265-ac0f-484d-ac79-f42da341e4cd"
   },
   "source": [
    "### Intro: Write a problem statement / aim for this project"
   ]
  },
  {
   "cell_type": "markdown",
   "metadata": {},
   "source": [
    "We will try to figure out which features contribute to airport scheduling problems and consider approaches to fixing them."
   ]
  },
  {
   "cell_type": "markdown",
   "metadata": {
    "focus": false,
    "id": "a3cccc0e-8531-4dfe-bb23-8c632aa7404e"
   },
   "source": [
    "### Part 1: Create a PostgreSQL database "
   ]
  },
  {
   "cell_type": "markdown",
   "metadata": {
    "focus": false,
    "id": "b51ca850-aa85-43e1-b7cd-627af62f5fe8"
   },
   "source": [
    "#### 1. Let's create a database where we can house our airport data"
   ]
  },
  {
   "cell_type": "code",
   "execution_count": 70,
   "metadata": {
    "collapsed": false,
    "focus": false,
    "id": "5d1b5e84-b49a-4bad-b961-abcb8e6f2751"
   },
   "outputs": [],
   "source": [
    "engine = create_engine('postgresql://@localhost:5432/airports')\n",
    "\n",
    "airports.to_sql('airports', engine)"
   ]
  },
  {
   "cell_type": "code",
   "execution_count": 71,
   "metadata": {
    "collapsed": false
   },
   "outputs": [
    {
     "name": "stderr",
     "output_type": "stream",
     "text": [
      "/Users/Rebecca/anaconda/lib/python2.7/site-packages/IPython/config.py:13: ShimWarning: The `IPython.config` package has been deprecated. You should import from traitlets.config instead.\n",
      "  \"You should import from traitlets.config instead.\", ShimWarning)\n",
      "/Users/Rebecca/anaconda/lib/python2.7/site-packages/IPython/utils/traitlets.py:5: UserWarning: IPython.utils.traitlets has moved to a top-level traitlets package.\n",
      "  warn(\"IPython.utils.traitlets has moved to a top-level traitlets package.\")\n"
     ]
    }
   ],
   "source": [
    "%load_ext sql"
   ]
  },
  {
   "cell_type": "code",
   "execution_count": 72,
   "metadata": {
    "collapsed": false
   },
   "outputs": [
    {
     "data": {
      "text/plain": [
       "u'Connected: @airports'"
      ]
     },
     "execution_count": 72,
     "metadata": {},
     "output_type": "execute_result"
    }
   ],
   "source": [
    "%%sql \n",
    "postgresql://@localhost:5432/airports"
   ]
  },
  {
   "cell_type": "code",
   "execution_count": 73,
   "metadata": {
    "collapsed": false
   },
   "outputs": [
    {
     "name": "stdout",
     "output_type": "stream",
     "text": [
      "2 rows affected.\n"
     ]
    },
    {
     "data": {
      "text/html": [
       "<table>\n",
       "    <tr>\n",
       "        <th>index</th>\n",
       "        <th>LocID</th>\n",
       "        <th>AP_NAME</th>\n",
       "        <th>FAA REGION</th>\n",
       "        <th>COUNTY</th>\n",
       "        <th>CITY</th>\n",
       "        <th>STATE</th>\n",
       "        <th>AP Type</th>\n",
       "        <th>Latitude</th>\n",
       "        <th>Longitude</th>\n",
       "        <th>Boundary Data Available</th>\n",
       "    </tr>\n",
       "    <tr>\n",
       "        <td>0</td>\n",
       "        <td>STX</td>\n",
       "        <td>HENRY E ROHLSEN</td>\n",
       "        <td>ASO</td>\n",
       "        <td>-VIRGIN ISLANDS-</td>\n",
       "        <td>CHRISTIANSTED</td>\n",
       "        <td>VI</td>\n",
       "        <td>Public Use</td>\n",
       "        <td>17.701556</td>\n",
       "        <td>-64.801722</td>\n",
       "        <td>Yes</td>\n",
       "    </tr>\n",
       "    <tr>\n",
       "        <td>1</td>\n",
       "        <td>X64</td>\n",
       "        <td>PATILLAS</td>\n",
       "        <td>ASO</td>\n",
       "        <td>#NAME?</td>\n",
       "        <td>PATILLAS</td>\n",
       "        <td>PR</td>\n",
       "        <td>Public Use</td>\n",
       "        <td>17.982189</td>\n",
       "        <td>-66.01933</td>\n",
       "        <td>No</td>\n",
       "    </tr>\n",
       "</table>"
      ],
      "text/plain": [
       "[(0L, u'STX', u'HENRY E ROHLSEN', u'ASO', u'-VIRGIN ISLANDS-', u'CHRISTIANSTED', u'VI', u'Public Use', 17.701556, -64.801722, u'Yes'),\n",
       " (1L, u'X64', u'PATILLAS', u'ASO', u'#NAME?', u'PATILLAS', u'PR', u'Public Use', 17.982189, -66.01933, u'No')]"
      ]
     },
     "execution_count": 73,
     "metadata": {},
     "output_type": "execute_result"
    }
   ],
   "source": [
    "%%sql\n",
    "SELECT * FROM airports LIMIT 2;"
   ]
  },
  {
   "cell_type": "markdown",
   "metadata": {
    "focus": false,
    "id": "b40e2d2b-5535-42c6-94d6-083b3e428b14"
   },
   "source": [
    "Load our csv files into tables"
   ]
  },
  {
   "cell_type": "code",
   "execution_count": 75,
   "metadata": {
    "collapsed": false,
    "focus": false,
    "id": "5cb41423-7467-4005-964c-9b423c3af977"
   },
   "outputs": [],
   "source": [
    "cancel.to_sql(\"cancel\", engine)\n",
    "operations.to_sql(\"operations\", engine)"
   ]
  },
  {
   "cell_type": "code",
   "execution_count": 76,
   "metadata": {
    "collapsed": false
   },
   "outputs": [
    {
     "name": "stdout",
     "output_type": "stream",
     "text": [
      "2 rows affected.\n"
     ]
    },
    {
     "data": {
      "text/html": [
       "<table>\n",
       "    <tr>\n",
       "        <th>index</th>\n",
       "        <th>Airport</th>\n",
       "        <th>Year</th>\n",
       "        <th>Departure Cancellations</th>\n",
       "        <th>Arrival Cancellations</th>\n",
       "        <th>Departure Diversions</th>\n",
       "        <th>Arrival Diversions</th>\n",
       "    </tr>\n",
       "    <tr>\n",
       "        <td>0</td>\n",
       "        <td>ABQ</td>\n",
       "        <td>2004</td>\n",
       "        <td>242</td>\n",
       "        <td>235</td>\n",
       "        <td>71</td>\n",
       "        <td>46</td>\n",
       "    </tr>\n",
       "    <tr>\n",
       "        <td>1</td>\n",
       "        <td>ABQ</td>\n",
       "        <td>2005</td>\n",
       "        <td>221</td>\n",
       "        <td>190</td>\n",
       "        <td>61</td>\n",
       "        <td>33</td>\n",
       "    </tr>\n",
       "</table>"
      ],
      "text/plain": [
       "[(0L, u'ABQ', 2004L, 242L, 235L, 71L, 46L),\n",
       " (1L, u'ABQ', 2005L, 221L, 190L, 61L, 33L)]"
      ]
     },
     "execution_count": 76,
     "metadata": {},
     "output_type": "execute_result"
    }
   ],
   "source": [
    "%%sql\n",
    "SELECT * FROM cancel LIMIT 2;"
   ]
  },
  {
   "cell_type": "markdown",
   "metadata": {
    "focus": false,
    "id": "a0ca5023-4860-4d86-ae40-218d120ece17"
   },
   "source": [
    "Join airport_cancellations.csv and airports.csv into one table"
   ]
  },
  {
   "cell_type": "code",
   "execution_count": 77,
   "metadata": {
    "collapsed": false,
    "focus": false,
    "id": "0192b97c-b99f-498b-b64b-f857451b5218"
   },
   "outputs": [
    {
     "name": "stdout",
     "output_type": "stream",
     "text": [
      "5 rows affected.\n"
     ]
    },
    {
     "data": {
      "text/html": [
       "<table>\n",
       "    <tr>\n",
       "        <th>index</th>\n",
       "        <th>Airport</th>\n",
       "        <th>Year</th>\n",
       "        <th>Departure Cancellations</th>\n",
       "        <th>Arrival Cancellations</th>\n",
       "        <th>Departure Diversions</th>\n",
       "        <th>Arrival Diversions</th>\n",
       "        <th>index_1</th>\n",
       "        <th>LocID</th>\n",
       "        <th>AP_NAME</th>\n",
       "        <th>FAA REGION</th>\n",
       "        <th>COUNTY</th>\n",
       "        <th>CITY</th>\n",
       "        <th>STATE</th>\n",
       "        <th>AP Type</th>\n",
       "        <th>Latitude</th>\n",
       "        <th>Longitude</th>\n",
       "        <th>Boundary Data Available</th>\n",
       "    </tr>\n",
       "    <tr>\n",
       "        <td>727</td>\n",
       "        <td>SJU</td>\n",
       "        <td>2014</td>\n",
       "        <td>280</td>\n",
       "        <td>241</td>\n",
       "        <td>72</td>\n",
       "        <td>31</td>\n",
       "        <td>10</td>\n",
       "        <td>SJU</td>\n",
       "        <td>LUIS MUNOZ MARIN INTL</td>\n",
       "        <td>ASO</td>\n",
       "        <td>#NAME?</td>\n",
       "        <td>SAN JUAN</td>\n",
       "        <td>PR</td>\n",
       "        <td>Federalized/Commercial</td>\n",
       "        <td>18.439295</td>\n",
       "        <td>-66.002004</td>\n",
       "        <td>Yes</td>\n",
       "    </tr>\n",
       "    <tr>\n",
       "        <td>726</td>\n",
       "        <td>SJU</td>\n",
       "        <td>2013</td>\n",
       "        <td>127</td>\n",
       "        <td>94</td>\n",
       "        <td>65</td>\n",
       "        <td>64</td>\n",
       "        <td>10</td>\n",
       "        <td>SJU</td>\n",
       "        <td>LUIS MUNOZ MARIN INTL</td>\n",
       "        <td>ASO</td>\n",
       "        <td>#NAME?</td>\n",
       "        <td>SAN JUAN</td>\n",
       "        <td>PR</td>\n",
       "        <td>Federalized/Commercial</td>\n",
       "        <td>18.439295</td>\n",
       "        <td>-66.002004</td>\n",
       "        <td>Yes</td>\n",
       "    </tr>\n",
       "    <tr>\n",
       "        <td>725</td>\n",
       "        <td>SJU</td>\n",
       "        <td>2012</td>\n",
       "        <td>174</td>\n",
       "        <td>141</td>\n",
       "        <td>62</td>\n",
       "        <td>41</td>\n",
       "        <td>10</td>\n",
       "        <td>SJU</td>\n",
       "        <td>LUIS MUNOZ MARIN INTL</td>\n",
       "        <td>ASO</td>\n",
       "        <td>#NAME?</td>\n",
       "        <td>SAN JUAN</td>\n",
       "        <td>PR</td>\n",
       "        <td>Federalized/Commercial</td>\n",
       "        <td>18.439295</td>\n",
       "        <td>-66.002004</td>\n",
       "        <td>Yes</td>\n",
       "    </tr>\n",
       "    <tr>\n",
       "        <td>724</td>\n",
       "        <td>SJU</td>\n",
       "        <td>2011</td>\n",
       "        <td>240</td>\n",
       "        <td>201</td>\n",
       "        <td>101</td>\n",
       "        <td>55</td>\n",
       "        <td>10</td>\n",
       "        <td>SJU</td>\n",
       "        <td>LUIS MUNOZ MARIN INTL</td>\n",
       "        <td>ASO</td>\n",
       "        <td>#NAME?</td>\n",
       "        <td>SAN JUAN</td>\n",
       "        <td>PR</td>\n",
       "        <td>Federalized/Commercial</td>\n",
       "        <td>18.439295</td>\n",
       "        <td>-66.002004</td>\n",
       "        <td>Yes</td>\n",
       "    </tr>\n",
       "    <tr>\n",
       "        <td>723</td>\n",
       "        <td>SJU</td>\n",
       "        <td>2010</td>\n",
       "        <td>258</td>\n",
       "        <td>207</td>\n",
       "        <td>82</td>\n",
       "        <td>45</td>\n",
       "        <td>10</td>\n",
       "        <td>SJU</td>\n",
       "        <td>LUIS MUNOZ MARIN INTL</td>\n",
       "        <td>ASO</td>\n",
       "        <td>#NAME?</td>\n",
       "        <td>SAN JUAN</td>\n",
       "        <td>PR</td>\n",
       "        <td>Federalized/Commercial</td>\n",
       "        <td>18.439295</td>\n",
       "        <td>-66.002004</td>\n",
       "        <td>Yes</td>\n",
       "    </tr>\n",
       "</table>"
      ],
      "text/plain": [
       "[(727L, u'SJU', 2014L, 280L, 241L, 72L, 31L, 10L, u'SJU', u'LUIS MUNOZ MARIN INTL', u'ASO', u'#NAME?', u'SAN JUAN', u'PR', u'Federalized/Commercial', 18.439295, -66.002004, u'Yes'),\n",
       " (726L, u'SJU', 2013L, 127L, 94L, 65L, 64L, 10L, u'SJU', u'LUIS MUNOZ MARIN INTL', u'ASO', u'#NAME?', u'SAN JUAN', u'PR', u'Federalized/Commercial', 18.439295, -66.002004, u'Yes'),\n",
       " (725L, u'SJU', 2012L, 174L, 141L, 62L, 41L, 10L, u'SJU', u'LUIS MUNOZ MARIN INTL', u'ASO', u'#NAME?', u'SAN JUAN', u'PR', u'Federalized/Commercial', 18.439295, -66.002004, u'Yes'),\n",
       " (724L, u'SJU', 2011L, 240L, 201L, 101L, 55L, 10L, u'SJU', u'LUIS MUNOZ MARIN INTL', u'ASO', u'#NAME?', u'SAN JUAN', u'PR', u'Federalized/Commercial', 18.439295, -66.002004, u'Yes'),\n",
       " (723L, u'SJU', 2010L, 258L, 207L, 82L, 45L, 10L, u'SJU', u'LUIS MUNOZ MARIN INTL', u'ASO', u'#NAME?', u'SAN JUAN', u'PR', u'Federalized/Commercial', 18.439295, -66.002004, u'Yes')]"
      ]
     },
     "execution_count": 77,
     "metadata": {},
     "output_type": "execute_result"
    }
   ],
   "source": [
    "%%sql\n",
    "\n",
    "SELECT cancel.*, airports.* FROM airports \n",
    "JOIN cancel\n",
    "ON (\"LocID\" = \"Airport\") LIMIT 5;"
   ]
  },
  {
   "cell_type": "code",
   "execution_count": 78,
   "metadata": {
    "collapsed": false
   },
   "outputs": [
    {
     "name": "stdout",
     "output_type": "stream",
     "text": [
      "5 rows affected.\n"
     ]
    },
    {
     "data": {
      "text/html": [
       "<table>\n",
       "    <tr>\n",
       "        <th>index</th>\n",
       "        <th>airport</th>\n",
       "        <th>year</th>\n",
       "        <th>departures for metric computation</th>\n",
       "        <th>arrivals for metric computation</th>\n",
       "        <th>percent on-time gate departures</th>\n",
       "        <th>percent on-time airport departures</th>\n",
       "        <th>percent on-time gate arrivals</th>\n",
       "        <th>average_gate_departure_delay</th>\n",
       "        <th>average_taxi_out_time</th>\n",
       "        <th>average taxi out delay</th>\n",
       "        <th>average airport departure delay</th>\n",
       "        <th>average airborne delay</th>\n",
       "        <th>average taxi in delay</th>\n",
       "        <th>average block delay</th>\n",
       "        <th>average gate arrival delay</th>\n",
       "        <th>index_1</th>\n",
       "        <th>LocID</th>\n",
       "        <th>AP_NAME</th>\n",
       "        <th>FAA REGION</th>\n",
       "        <th>COUNTY</th>\n",
       "        <th>CITY</th>\n",
       "        <th>STATE</th>\n",
       "        <th>AP Type</th>\n",
       "        <th>Latitude</th>\n",
       "        <th>Longitude</th>\n",
       "        <th>Boundary Data Available</th>\n",
       "    </tr>\n",
       "    <tr>\n",
       "        <td>744</td>\n",
       "        <td>SJU</td>\n",
       "        <td>2014</td>\n",
       "        <td>43671</td>\n",
       "        <td>42965</td>\n",
       "        <td>0.8056</td>\n",
       "        <td>0.7784</td>\n",
       "        <td>0.7815</td>\n",
       "        <td>11.71</td>\n",
       "        <td>12.89</td>\n",
       "        <td>1.88</td>\n",
       "        <td>13.13</td>\n",
       "        <td>1.81</td>\n",
       "        <td>1.0</td>\n",
       "        <td>2.93</td>\n",
       "        <td>12.79</td>\n",
       "        <td>10</td>\n",
       "        <td>SJU</td>\n",
       "        <td>LUIS MUNOZ MARIN INTL</td>\n",
       "        <td>ASO</td>\n",
       "        <td>#NAME?</td>\n",
       "        <td>SAN JUAN</td>\n",
       "        <td>PR</td>\n",
       "        <td>Federalized/Commercial</td>\n",
       "        <td>18.439295</td>\n",
       "        <td>-66.002004</td>\n",
       "        <td>Yes</td>\n",
       "    </tr>\n",
       "    <tr>\n",
       "        <td>743</td>\n",
       "        <td>SJU</td>\n",
       "        <td>2013</td>\n",
       "        <td>42902</td>\n",
       "        <td>42175</td>\n",
       "        <td>0.8058</td>\n",
       "        <td>0.7808</td>\n",
       "        <td>0.784</td>\n",
       "        <td>12.31</td>\n",
       "        <td>13.56</td>\n",
       "        <td>2.2</td>\n",
       "        <td>13.52</td>\n",
       "        <td>1.78</td>\n",
       "        <td>1.41</td>\n",
       "        <td>2.86</td>\n",
       "        <td>12.96</td>\n",
       "        <td>10</td>\n",
       "        <td>SJU</td>\n",
       "        <td>LUIS MUNOZ MARIN INTL</td>\n",
       "        <td>ASO</td>\n",
       "        <td>#NAME?</td>\n",
       "        <td>SAN JUAN</td>\n",
       "        <td>PR</td>\n",
       "        <td>Federalized/Commercial</td>\n",
       "        <td>18.439295</td>\n",
       "        <td>-66.002004</td>\n",
       "        <td>Yes</td>\n",
       "    </tr>\n",
       "    <tr>\n",
       "        <td>742</td>\n",
       "        <td>SJU</td>\n",
       "        <td>2012</td>\n",
       "        <td>44716</td>\n",
       "        <td>43985</td>\n",
       "        <td>0.8417</td>\n",
       "        <td>0.8228</td>\n",
       "        <td>0.8181</td>\n",
       "        <td>9.55</td>\n",
       "        <td>13.15</td>\n",
       "        <td>1.82</td>\n",
       "        <td>10.55</td>\n",
       "        <td>1.41</td>\n",
       "        <td>1.33</td>\n",
       "        <td>2.89</td>\n",
       "        <td>10.64</td>\n",
       "        <td>10</td>\n",
       "        <td>SJU</td>\n",
       "        <td>LUIS MUNOZ MARIN INTL</td>\n",
       "        <td>ASO</td>\n",
       "        <td>#NAME?</td>\n",
       "        <td>SAN JUAN</td>\n",
       "        <td>PR</td>\n",
       "        <td>Federalized/Commercial</td>\n",
       "        <td>18.439295</td>\n",
       "        <td>-66.002004</td>\n",
       "        <td>Yes</td>\n",
       "    </tr>\n",
       "    <tr>\n",
       "        <td>741</td>\n",
       "        <td>SJU</td>\n",
       "        <td>2011</td>\n",
       "        <td>42803</td>\n",
       "        <td>42401</td>\n",
       "        <td>0.8179</td>\n",
       "        <td>0.7934</td>\n",
       "        <td>0.7899</td>\n",
       "        <td>10.86</td>\n",
       "        <td>13.23</td>\n",
       "        <td>1.96</td>\n",
       "        <td>12.07</td>\n",
       "        <td>1.45</td>\n",
       "        <td>1.57</td>\n",
       "        <td>3.67</td>\n",
       "        <td>12.28</td>\n",
       "        <td>10</td>\n",
       "        <td>SJU</td>\n",
       "        <td>LUIS MUNOZ MARIN INTL</td>\n",
       "        <td>ASO</td>\n",
       "        <td>#NAME?</td>\n",
       "        <td>SAN JUAN</td>\n",
       "        <td>PR</td>\n",
       "        <td>Federalized/Commercial</td>\n",
       "        <td>18.439295</td>\n",
       "        <td>-66.002004</td>\n",
       "        <td>Yes</td>\n",
       "    </tr>\n",
       "    <tr>\n",
       "        <td>740</td>\n",
       "        <td>SJU</td>\n",
       "        <td>2010</td>\n",
       "        <td>47314</td>\n",
       "        <td>45781</td>\n",
       "        <td>0.7967</td>\n",
       "        <td>0.7815</td>\n",
       "        <td>0.7719</td>\n",
       "        <td>12.21</td>\n",
       "        <td>13.04</td>\n",
       "        <td>1.39</td>\n",
       "        <td>13.0</td>\n",
       "        <td>1.65</td>\n",
       "        <td>1.32</td>\n",
       "        <td>3.53</td>\n",
       "        <td>13.4</td>\n",
       "        <td>10</td>\n",
       "        <td>SJU</td>\n",
       "        <td>LUIS MUNOZ MARIN INTL</td>\n",
       "        <td>ASO</td>\n",
       "        <td>#NAME?</td>\n",
       "        <td>SAN JUAN</td>\n",
       "        <td>PR</td>\n",
       "        <td>Federalized/Commercial</td>\n",
       "        <td>18.439295</td>\n",
       "        <td>-66.002004</td>\n",
       "        <td>Yes</td>\n",
       "    </tr>\n",
       "</table>"
      ],
      "text/plain": [
       "[(744L, u'SJU', 2014L, 43671L, 42965L, 0.8056, 0.7784, 0.7815, 11.71, 12.89, 1.88, 13.13, 1.81, 1.0, 2.93, 12.79, 10L, u'SJU', u'LUIS MUNOZ MARIN INTL', u'ASO', u'#NAME?', u'SAN JUAN', u'PR', u'Federalized/Commercial', 18.439295, -66.002004, u'Yes'),\n",
       " (743L, u'SJU', 2013L, 42902L, 42175L, 0.8058, 0.7808, 0.784, 12.31, 13.56, 2.2, 13.52, 1.78, 1.41, 2.86, 12.96, 10L, u'SJU', u'LUIS MUNOZ MARIN INTL', u'ASO', u'#NAME?', u'SAN JUAN', u'PR', u'Federalized/Commercial', 18.439295, -66.002004, u'Yes'),\n",
       " (742L, u'SJU', 2012L, 44716L, 43985L, 0.8417, 0.8228, 0.8181, 9.55, 13.15, 1.82, 10.55, 1.41, 1.33, 2.89, 10.64, 10L, u'SJU', u'LUIS MUNOZ MARIN INTL', u'ASO', u'#NAME?', u'SAN JUAN', u'PR', u'Federalized/Commercial', 18.439295, -66.002004, u'Yes'),\n",
       " (741L, u'SJU', 2011L, 42803L, 42401L, 0.8179, 0.7934, 0.7899, 10.86, 13.23, 1.96, 12.07, 1.45, 1.57, 3.67, 12.28, 10L, u'SJU', u'LUIS MUNOZ MARIN INTL', u'ASO', u'#NAME?', u'SAN JUAN', u'PR', u'Federalized/Commercial', 18.439295, -66.002004, u'Yes'),\n",
       " (740L, u'SJU', 2010L, 47314L, 45781L, 0.7967, 0.7815, 0.7719, 12.21, 13.04, 1.39, 13.0, 1.65, 1.32, 3.53, 13.4, 10L, u'SJU', u'LUIS MUNOZ MARIN INTL', u'ASO', u'#NAME?', u'SAN JUAN', u'PR', u'Federalized/Commercial', 18.439295, -66.002004, u'Yes')]"
      ]
     },
     "execution_count": 78,
     "metadata": {},
     "output_type": "execute_result"
    }
   ],
   "source": [
    "%%sql\n",
    "\n",
    "SELECT operations.*, airports.* FROM operations\n",
    "JOIN airports\n",
    "ON (\"airport\" = \"LocID\") LIMIT 5;"
   ]
  },
  {
   "cell_type": "markdown",
   "metadata": {
    "focus": false,
    "id": "a5fa5f85-1cd6-4ab6-b936-93e9c951e1b7"
   },
   "source": [
    "Query the database for our intial data"
   ]
  },
  {
   "cell_type": "code",
   "execution_count": 82,
   "metadata": {
    "collapsed": false,
    "focus": false,
    "id": "385da01a-0b74-47bc-9757-447e46fa194a"
   },
   "outputs": [],
   "source": [
    "airports = pd.read_sql(\"airports\", engine);\n",
    "cancel = pd.read_sql(\"cancel\", engine);\n",
    "operations = pd.read_sql(\"operations\", engine)"
   ]
  },
  {
   "cell_type": "code",
   "execution_count": 83,
   "metadata": {
    "collapsed": false
   },
   "outputs": [],
   "source": [
    "del airports['index']\n",
    "del cancel['index']\n",
    "del operations['index']"
   ]
  },
  {
   "cell_type": "code",
   "execution_count": null,
   "metadata": {
    "collapsed": false
   },
   "outputs": [],
   "source": []
  },
  {
   "cell_type": "markdown",
   "metadata": {
    "focus": false,
    "id": "0b511b59-41ea-478f-bf2d-7e392dc9edaa"
   },
   "source": [
    "#### 1.2 What are the risks and assumptions of our data? "
   ]
  },
  {
   "cell_type": "markdown",
   "metadata": {
    "focus": false,
    "id": "0936ff6a-6919-4436-9fc1-d6ef90d5ba9e"
   },
   "source": [
    "* don't know how data was collected (every airport?  every day?  who timed the delays?)\n",
    "* deleted a few airports which didn't have data for all years; hopefully they're not crucial for underlying patterns\n",
    "* assuming data from 2004-14 is helpful in predicting similar targets in 2016"
   ]
  },
  {
   "cell_type": "markdown",
   "metadata": {
    "focus": false,
    "id": "e97b4707-0f0e-4f6a-90ab-fbb634c2305d"
   },
   "source": [
    "### Part 2: Exploratory Data Analysis"
   ]
  },
  {
   "cell_type": "markdown",
   "metadata": {
    "focus": false,
    "id": "6be9cf88-1b92-4360-b424-a495d5e2d4ba"
   },
   "source": [
    "#### 2.1 Plot and Describe the Data"
   ]
  },
  {
   "cell_type": "code",
   "execution_count": 84,
   "metadata": {
    "collapsed": false,
    "focus": false,
    "id": "41ff90a9-0d50-4a8e-97c4-fe429fffc1f7"
   },
   "outputs": [
    {
     "data": {
      "text/html": [
       "<div>\n",
       "<table border=\"1\" class=\"dataframe\">\n",
       "  <thead>\n",
       "    <tr style=\"text-align: right;\">\n",
       "      <th></th>\n",
       "      <th>LocID</th>\n",
       "      <th>AP_NAME</th>\n",
       "      <th>FAA REGION</th>\n",
       "      <th>COUNTY</th>\n",
       "      <th>CITY</th>\n",
       "      <th>STATE</th>\n",
       "      <th>AP Type</th>\n",
       "      <th>Latitude</th>\n",
       "      <th>Longitude</th>\n",
       "      <th>Boundary Data Available</th>\n",
       "    </tr>\n",
       "  </thead>\n",
       "  <tbody>\n",
       "    <tr>\n",
       "      <th>0</th>\n",
       "      <td>STX</td>\n",
       "      <td>HENRY E ROHLSEN</td>\n",
       "      <td>ASO</td>\n",
       "      <td>-VIRGIN ISLANDS-</td>\n",
       "      <td>CHRISTIANSTED</td>\n",
       "      <td>VI</td>\n",
       "      <td>Public Use</td>\n",
       "      <td>17.701556</td>\n",
       "      <td>-64.801722</td>\n",
       "      <td>Yes</td>\n",
       "    </tr>\n",
       "  </tbody>\n",
       "</table>\n",
       "</div>"
      ],
      "text/plain": [
       "  LocID          AP_NAME FAA REGION            COUNTY           CITY STATE  \\\n",
       "0   STX  HENRY E ROHLSEN        ASO  -VIRGIN ISLANDS-  CHRISTIANSTED    VI   \n",
       "\n",
       "      AP Type   Latitude  Longitude Boundary Data Available  \n",
       "0  Public Use  17.701556 -64.801722                     Yes  "
      ]
     },
     "execution_count": 84,
     "metadata": {},
     "output_type": "execute_result"
    }
   ],
   "source": [
    "airports.head(1)"
   ]
  },
  {
   "cell_type": "code",
   "execution_count": 85,
   "metadata": {
    "collapsed": true
   },
   "outputs": [],
   "source": [
    "del airports['AP_NAME']\n",
    "del airports['COUNTY']\n",
    "del airports['CITY']\n",
    "del airports['Boundary Data Available']"
   ]
  },
  {
   "cell_type": "code",
   "execution_count": 86,
   "metadata": {
    "collapsed": false
   },
   "outputs": [
    {
     "data": {
      "text/html": [
       "<div>\n",
       "<table border=\"1\" class=\"dataframe\">\n",
       "  <thead>\n",
       "    <tr style=\"text-align: right;\">\n",
       "      <th></th>\n",
       "      <th>LocID</th>\n",
       "      <th>FAA REGION</th>\n",
       "      <th>STATE</th>\n",
       "      <th>AP Type</th>\n",
       "      <th>Latitude</th>\n",
       "      <th>Longitude</th>\n",
       "    </tr>\n",
       "  </thead>\n",
       "  <tbody>\n",
       "    <tr>\n",
       "      <th>0</th>\n",
       "      <td>STX</td>\n",
       "      <td>ASO</td>\n",
       "      <td>VI</td>\n",
       "      <td>Public Use</td>\n",
       "      <td>17.701556</td>\n",
       "      <td>-64.801722</td>\n",
       "    </tr>\n",
       "  </tbody>\n",
       "</table>\n",
       "</div>"
      ],
      "text/plain": [
       "  LocID FAA REGION STATE     AP Type   Latitude  Longitude\n",
       "0   STX        ASO    VI  Public Use  17.701556 -64.801722"
      ]
     },
     "execution_count": 86,
     "metadata": {},
     "output_type": "execute_result"
    }
   ],
   "source": [
    "airports.head(1)"
   ]
  },
  {
   "cell_type": "code",
   "execution_count": 87,
   "metadata": {
    "collapsed": false
   },
   "outputs": [
    {
     "data": {
      "text/html": [
       "<div>\n",
       "<table border=\"1\" class=\"dataframe\">\n",
       "  <thead>\n",
       "    <tr style=\"text-align: right;\">\n",
       "      <th></th>\n",
       "      <th>Airport</th>\n",
       "      <th>Year</th>\n",
       "      <th>Departure Cancellations</th>\n",
       "      <th>Arrival Cancellations</th>\n",
       "      <th>Departure Diversions</th>\n",
       "      <th>Arrival Diversions</th>\n",
       "    </tr>\n",
       "  </thead>\n",
       "  <tbody>\n",
       "    <tr>\n",
       "      <th>0</th>\n",
       "      <td>ABQ</td>\n",
       "      <td>2004</td>\n",
       "      <td>242</td>\n",
       "      <td>235</td>\n",
       "      <td>71</td>\n",
       "      <td>46</td>\n",
       "    </tr>\n",
       "  </tbody>\n",
       "</table>\n",
       "</div>"
      ],
      "text/plain": [
       "  Airport  Year  Departure Cancellations  Arrival Cancellations  \\\n",
       "0     ABQ  2004                      242                    235   \n",
       "\n",
       "   Departure Diversions  Arrival Diversions  \n",
       "0                    71                  46  "
      ]
     },
     "execution_count": 87,
     "metadata": {},
     "output_type": "execute_result"
    }
   ],
   "source": [
    "cancel.head(1)"
   ]
  },
  {
   "cell_type": "code",
   "execution_count": 88,
   "metadata": {
    "collapsed": false
   },
   "outputs": [
    {
     "data": {
      "text/html": [
       "<div>\n",
       "<table border=\"1\" class=\"dataframe\">\n",
       "  <thead>\n",
       "    <tr style=\"text-align: right;\">\n",
       "      <th></th>\n",
       "      <th>airport</th>\n",
       "      <th>year</th>\n",
       "      <th>departures for metric computation</th>\n",
       "      <th>arrivals for metric computation</th>\n",
       "      <th>percent on-time gate departures</th>\n",
       "      <th>percent on-time airport departures</th>\n",
       "      <th>percent on-time gate arrivals</th>\n",
       "      <th>average_gate_departure_delay</th>\n",
       "      <th>average_taxi_out_time</th>\n",
       "      <th>average taxi out delay</th>\n",
       "      <th>average airport departure delay</th>\n",
       "      <th>average airborne delay</th>\n",
       "      <th>average taxi in delay</th>\n",
       "      <th>average block delay</th>\n",
       "      <th>average gate arrival delay</th>\n",
       "    </tr>\n",
       "  </thead>\n",
       "  <tbody>\n",
       "    <tr>\n",
       "      <th>0</th>\n",
       "      <td>ABQ</td>\n",
       "      <td>2004</td>\n",
       "      <td>53971</td>\n",
       "      <td>53818</td>\n",
       "      <td>0.803</td>\n",
       "      <td>0.7809</td>\n",
       "      <td>0.7921</td>\n",
       "      <td>10.38</td>\n",
       "      <td>9.89</td>\n",
       "      <td>2.43</td>\n",
       "      <td>12.1</td>\n",
       "      <td>2.46</td>\n",
       "      <td>0.83</td>\n",
       "      <td>2.55</td>\n",
       "      <td>10.87</td>\n",
       "    </tr>\n",
       "  </tbody>\n",
       "</table>\n",
       "</div>"
      ],
      "text/plain": [
       "  airport  year  departures for metric computation  \\\n",
       "0     ABQ  2004                              53971   \n",
       "\n",
       "   arrivals for metric computation  percent on-time gate departures  \\\n",
       "0                            53818                            0.803   \n",
       "\n",
       "   percent on-time airport departures  percent on-time gate arrivals  \\\n",
       "0                              0.7809                         0.7921   \n",
       "\n",
       "   average_gate_departure_delay  average_taxi_out_time  \\\n",
       "0                         10.38                   9.89   \n",
       "\n",
       "   average taxi out delay  average airport departure delay  \\\n",
       "0                    2.43                             12.1   \n",
       "\n",
       "   average airborne delay  average taxi in delay  average block delay  \\\n",
       "0                    2.46                   0.83                 2.55   \n",
       "\n",
       "   average gate arrival delay  \n",
       "0                       10.87  "
      ]
     },
     "execution_count": 88,
     "metadata": {},
     "output_type": "execute_result"
    }
   ],
   "source": [
    "operations.head(1)"
   ]
  },
  {
   "cell_type": "code",
   "execution_count": null,
   "metadata": {
    "collapsed": true
   },
   "outputs": [],
   "source": [
    "# airports = airports.set_index('LocID')"
   ]
  },
  {
   "cell_type": "code",
   "execution_count": 89,
   "metadata": {
    "collapsed": true
   },
   "outputs": [],
   "source": [
    "big_airport = pd.concat([cancel, operations], axis = 1)"
   ]
  },
  {
   "cell_type": "code",
   "execution_count": 91,
   "metadata": {
    "collapsed": false
   },
   "outputs": [],
   "source": [
    "del big_airport['airport']\n",
    "del big_airport['year']"
   ]
  },
  {
   "cell_type": "code",
   "execution_count": 93,
   "metadata": {
    "collapsed": false
   },
   "outputs": [
    {
     "data": {
      "text/html": [
       "<div>\n",
       "<table border=\"1\" class=\"dataframe\">\n",
       "  <thead>\n",
       "    <tr style=\"text-align: right;\">\n",
       "      <th></th>\n",
       "      <th>Airport</th>\n",
       "      <th>Year</th>\n",
       "      <th>Departure Cancellations</th>\n",
       "      <th>Arrival Cancellations</th>\n",
       "      <th>Departure Diversions</th>\n",
       "      <th>Arrival Diversions</th>\n",
       "      <th>departures for metric computation</th>\n",
       "      <th>arrivals for metric computation</th>\n",
       "      <th>percent on-time gate departures</th>\n",
       "      <th>percent on-time airport departures</th>\n",
       "      <th>percent on-time gate arrivals</th>\n",
       "      <th>average_gate_departure_delay</th>\n",
       "      <th>average_taxi_out_time</th>\n",
       "      <th>average taxi out delay</th>\n",
       "      <th>average airport departure delay</th>\n",
       "      <th>average airborne delay</th>\n",
       "      <th>average taxi in delay</th>\n",
       "      <th>average block delay</th>\n",
       "      <th>average gate arrival delay</th>\n",
       "    </tr>\n",
       "  </thead>\n",
       "  <tbody>\n",
       "    <tr>\n",
       "      <th>0</th>\n",
       "      <td>ABQ</td>\n",
       "      <td>2004</td>\n",
       "      <td>242</td>\n",
       "      <td>235</td>\n",
       "      <td>71</td>\n",
       "      <td>46</td>\n",
       "      <td>53971</td>\n",
       "      <td>53818</td>\n",
       "      <td>0.803</td>\n",
       "      <td>0.7809</td>\n",
       "      <td>0.7921</td>\n",
       "      <td>10.38</td>\n",
       "      <td>9.89</td>\n",
       "      <td>2.43</td>\n",
       "      <td>12.1</td>\n",
       "      <td>2.46</td>\n",
       "      <td>0.83</td>\n",
       "      <td>2.55</td>\n",
       "      <td>10.87</td>\n",
       "    </tr>\n",
       "  </tbody>\n",
       "</table>\n",
       "</div>"
      ],
      "text/plain": [
       "  Airport  Year  Departure Cancellations  Arrival Cancellations  \\\n",
       "0     ABQ  2004                      242                    235   \n",
       "\n",
       "   Departure Diversions  Arrival Diversions  \\\n",
       "0                    71                  46   \n",
       "\n",
       "   departures for metric computation  arrivals for metric computation  \\\n",
       "0                              53971                            53818   \n",
       "\n",
       "   percent on-time gate departures  percent on-time airport departures  \\\n",
       "0                            0.803                              0.7809   \n",
       "\n",
       "   percent on-time gate arrivals  average_gate_departure_delay  \\\n",
       "0                         0.7921                         10.38   \n",
       "\n",
       "   average_taxi_out_time  average taxi out delay  \\\n",
       "0                   9.89                    2.43   \n",
       "\n",
       "   average airport departure delay  average airborne delay  \\\n",
       "0                             12.1                    2.46   \n",
       "\n",
       "   average taxi in delay  average block delay  average gate arrival delay  \n",
       "0                   0.83                 2.55                       10.87  "
      ]
     },
     "execution_count": 93,
     "metadata": {},
     "output_type": "execute_result"
    }
   ],
   "source": [
    "big_airport.head(1)"
   ]
  },
  {
   "cell_type": "code",
   "execution_count": 102,
   "metadata": {
    "collapsed": false
   },
   "outputs": [
    {
     "data": {
      "image/png": "[encoded data removed]",
      "text/plain": [
       "<matplotlib.figure.Figure at 0x120dbf990>"
      ]
     },
     "metadata": {},
     "output_type": "display_data"
    }
   ],
   "source": [
    "\n",
    "plt.figure(figsize=(12,8))\n",
    "plt.style.use('fivethirtyeight')\n",
    "\n",
    "plt.scatter(big_airport['Departure Cancellations'], big_airport['Departure Cancellations'], color = \"dodgerblue\")\n",
    "plt.axhline(0, color='black', alpha = 0.6)\n",
    "plt.title('Departure Cancellations vs. Arrival Cancellations, 2004-14', fontsize = 20, y = 1.05)\n",
    "\n",
    "# y label\n",
    "plt.ylabel('Departure Cancellations')\n",
    "\n",
    "# x label\n",
    "plt.xlabel('Arrival Cancellations', y = 0.1)\n",
    "\n",
    "plt.xlim([0, max(big_airport['Arrival Cancellations'])])\n",
    "plt.ylim([0, max(big_airport['Departure Cancellations'])])\n",
    "\n",
    "\n",
    "plt.show()"
   ]
  },
  {
   "cell_type": "code",
   "execution_count": 106,
   "metadata": {
    "collapsed": false
   },
   "outputs": [
    {
     "data": {
      "image/png": "[encoded data removed]",
      "text/plain": [
       "<matplotlib.figure.Figure at 0x121935ad0>"
      ]
     },
     "metadata": {},
     "output_type": "display_data"
    }
   ],
   "source": [
    "\n",
    "plt.figure(figsize=(12,8))\n",
    "plt.style.use('fivethirtyeight')\n",
    "\n",
    "plt.scatter(big_airport['Departure Diversions'], big_airport['Departure Diversions'], color = \"dodgerblue\")\n",
    "plt.axhline(0, color='black', alpha = 0.6)\n",
    "plt.title('Departure Diversions vs. Arrival Diversions, 2004-14', fontsize = 20, y = 1.05)\n",
    "\n",
    "# y label\n",
    "plt.ylabel('Departure Diversions')\n",
    "\n",
    "# x label\n",
    "plt.xlabel('Arrival Diversions', y = 0.1)\n",
    "\n",
    "plt.xlim([0, max(big_airport['Arrival Diversions'])])\n",
    "plt.ylim([0, max(big_airport['Departure Diversions'] + 100)])\n",
    "\n",
    "\n",
    "plt.show()"
   ]
  },
  {
   "cell_type": "markdown",
   "metadata": {},
   "source": [
    "These are not very useful to have as pairs of features; one of each would most likely suffice."
   ]
  },
  {
   "cell_type": "code",
   "execution_count": null,
   "metadata": {
    "collapsed": true
   },
   "outputs": [],
   "source": []
  },
  {
   "cell_type": "code",
   "execution_count": null,
   "metadata": {
    "collapsed": true
   },
   "outputs": [],
   "source": []
  },
  {
   "cell_type": "code",
   "execution_count": null,
   "metadata": {
    "collapsed": true
   },
   "outputs": [],
   "source": []
  },
  {
   "cell_type": "code",
   "execution_count": null,
   "metadata": {
    "collapsed": true
   },
   "outputs": [],
   "source": []
  },
  {
   "cell_type": "code",
   "execution_count": null,
   "metadata": {
    "collapsed": true
   },
   "outputs": [],
   "source": []
  },
  {
   "cell_type": "markdown",
   "metadata": {
    "focus": false,
    "id": "3d12188d-3aa9-4d47-a0e8-b5d6e8f071de"
   },
   "source": [
    "#### Are there any unique values? "
   ]
  },
  {
   "cell_type": "code",
   "execution_count": null,
   "metadata": {
    "collapsed": true,
    "focus": false,
    "id": "d76cfc84-4d16-4f6f-aca8-3dc77d3b8f5c"
   },
   "outputs": [],
   "source": []
  },
  {
   "cell_type": "markdown",
   "metadata": {
    "focus": false,
    "id": "e2ddc27c-94d6-4ab1-95ef-1093bb2726b0"
   },
   "source": [
    "### Part 3: Data Mining"
   ]
  },
  {
   "cell_type": "markdown",
   "metadata": {
    "focus": false,
    "id": "a746fd8c-fdb0-45c3-9e17-ad4c89360055"
   },
   "source": [
    "#### 3.1 Create Dummy Variables"
   ]
  },
  {
   "cell_type": "code",
   "execution_count": null,
   "metadata": {
    "collapsed": true,
    "focus": false,
    "id": "eae97f78-3695-4777-91c5-f282dfd26e96"
   },
   "outputs": [],
   "source": []
  },
  {
   "cell_type": "markdown",
   "metadata": {
    "focus": false,
    "id": "c9b12f39-5410-42d7-aff9-859c0b2ccb70"
   },
   "source": [
    "#### 3.2 Format and Clean the Data"
   ]
  },
  {
   "cell_type": "code",
   "execution_count": null,
   "metadata": {
    "collapsed": true,
    "focus": false,
    "id": "c2f083d5-edf1-4380-a245-13c77315daa7"
   },
   "outputs": [],
   "source": []
  },
  {
   "cell_type": "markdown",
   "metadata": {
    "focus": false,
    "id": "27db8e3b-27d2-4420-bbab-1ddbba3dc3e5"
   },
   "source": [
    "### Part 4: Define the Data"
   ]
  },
  {
   "cell_type": "markdown",
   "metadata": {
    "focus": false,
    "id": "9bcb3ba6-8c35-470c-a821-47d7ba6a32f2"
   },
   "source": [
    "#### 4.1 Confirm that the dataset has a normal distribution. How can you tell? "
   ]
  },
  {
   "cell_type": "code",
   "execution_count": null,
   "metadata": {
    "collapsed": true,
    "focus": false,
    "id": "9c365cbd-7b6d-46bf-b4e4-b0e2e7bd5ff6"
   },
   "outputs": [],
   "source": []
  },
  {
   "cell_type": "markdown",
   "metadata": {
    "focus": false,
    "id": "17457da4-1175-4348-b10a-99f41f7a24dd"
   },
   "source": [
    "#### 4.2 Find correlations in the data"
   ]
  },
  {
   "cell_type": "code",
   "execution_count": null,
   "metadata": {
    "collapsed": true,
    "focus": false,
    "id": "78003f34-c0d8-40f6-bafe-e0892df3f1ca"
   },
   "outputs": [],
   "source": []
  },
  {
   "cell_type": "markdown",
   "metadata": {
    "focus": false,
    "id": "886b49bf-d7fa-41b0-b94c-740345580d88"
   },
   "source": [
    "#### 4.3 What is the value of understanding correlations before PCA? "
   ]
  },
  {
   "cell_type": "markdown",
   "metadata": {
    "focus": false,
    "id": "192df272-c2b1-46da-bcfa-c2b02d7445a8"
   },
   "source": [
    "Answer: "
   ]
  },
  {
   "cell_type": "markdown",
   "metadata": {
    "focus": false,
    "id": "904cda18-4a60-4b05-8502-139beb44c1f0"
   },
   "source": [
    "#### 4.4 Validate your findings using statistical analysis"
   ]
  },
  {
   "cell_type": "code",
   "execution_count": null,
   "metadata": {
    "collapsed": true,
    "focus": false,
    "id": "d2f5bd48-a2c8-4511-b3c6-fcb4889db4a7"
   },
   "outputs": [],
   "source": []
  },
  {
   "cell_type": "markdown",
   "metadata": {
    "focus": false,
    "id": "87689b59-fda0-4a07-a9d3-95936deaf8ee"
   },
   "source": [
    "#### 4.5 How can you improve your overall analysis? "
   ]
  },
  {
   "cell_type": "markdown",
   "metadata": {
    "focus": false,
    "id": "000bc40d-e033-4621-82a4-e09717947fb3"
   },
   "source": [
    "Answer: "
   ]
  },
  {
   "cell_type": "markdown",
   "metadata": {
    "focus": false,
    "id": "cea5d879-f180-448a-bd50-b30b2b7d6d28"
   },
   "source": [
    "### Part 5: Perform a PCA"
   ]
  },
  {
   "cell_type": "markdown",
   "metadata": {
    "focus": false,
    "id": "27c1212c-3490-45ff-a6da-501075f3eee5"
   },
   "source": [
    "#### 5.1 Conduct the PCA"
   ]
  },
  {
   "cell_type": "code",
   "execution_count": null,
   "metadata": {
    "collapsed": true,
    "focus": false,
    "id": "a8e7ac46-ba4f-47a8-99f8-b67a7f7e108e"
   },
   "outputs": [],
   "source": []
  },
  {
   "cell_type": "code",
   "execution_count": null,
   "metadata": {
    "collapsed": true,
    "focus": false,
    "id": "98fd6a42-89e0-4621-a70d-1e2c8c4bb975"
   },
   "outputs": [],
   "source": []
  },
  {
   "cell_type": "markdown",
   "metadata": {},
   "source": [
    "### Part 6: Additional Analysis\n",
    "Include any other models you'd like to run here. These can include regressions, classifications, or clusters. "
   ]
  },
  {
   "cell_type": "code",
   "execution_count": null,
   "metadata": {
    "collapsed": true
   },
   "outputs": [],
   "source": []
  },
  {
   "cell_type": "code",
   "execution_count": null,
   "metadata": {
    "collapsed": true
   },
   "outputs": [],
   "source": []
  },
  {
   "cell_type": "markdown",
   "metadata": {
    "focus": false,
    "id": "023d9120-1eb3-4f20-b083-5a8fa1605f06"
   },
   "source": [
    "### Part 7: Write an analysis plan of your findings "
   ]
  },
  {
   "cell_type": "markdown",
   "metadata": {
    "focus": false,
    "id": "dc0ce0b7-c246-4d76-a01d-88fa0d37fe95"
   },
   "source": [
    "Create a writeup on the interpretation of findings including an executive summary with conclusions and next steps. Put it on your blog, and include the link here."
   ]
  },
  {
   "cell_type": "markdown",
   "metadata": {
    "focus": false,
    "id": "140af42e-0757-400e-ae39-0410a54d2581"
   },
   "source": []
  },
  {
   "cell_type": "markdown",
   "metadata": {},
   "source": [
    "Which operational features are most correlated with delays?"
   ]
  },
  {
   "cell_type": "markdown",
   "metadata": {},
   "source": [
    " "
   ]
  },
  {
   "cell_type": "markdown",
   "metadata": {},
   "source": [
    "What should the airport's next steps be?"
   ]
  },
  {
   "cell_type": "markdown",
   "metadata": {},
   "source": [
    " "
   ]
  },
  {
   "cell_type": "markdown",
   "metadata": {
    "focus": false,
    "id": "8e08640c-4901-4724-9805-32c518521b2f"
   },
   "source": [
    "### Bonus: Copy your Database to AWS "
   ]
  },
  {
   "cell_type": "markdown",
   "metadata": {
    "focus": false,
    "id": "bf5d7088-46cd-4c47-9fcc-c1fd200cd164"
   },
   "source": [
    "Make sure to properly document all of the features of your dataset"
   ]
  },
  {
   "cell_type": "code",
   "execution_count": null,
   "metadata": {
    "collapsed": true,
    "focus": false,
    "id": "d181acff-8a70-40e9-8e39-fdc2b95550a2"
   },
   "outputs": [],
   "source": []
  },
  {
   "cell_type": "markdown",
   "metadata": {
    "focus": false,
    "id": "63387c7b-3c90-4732-808c-298225e1c0fb"
   },
   "source": [
    "### Bonus: Create a 3-Dimensional Plot of your new dataset with PCA applied"
   ]
  },
  {
   "cell_type": "code",
   "execution_count": null,
   "metadata": {
    "collapsed": true,
    "focus": false,
    "id": "b6fece51-aa23-4572-8d1d-c9c83701899d"
   },
   "outputs": [],
   "source": []
  }
 ],
 "metadata": {
  "kernelspec": {
   "display_name": "Python 2",
   "language": "python",
   "name": "python2"
  },
  "language_info": {
   "codemirror_mode": {
    "name": "ipython",
    "version": 2
   },
   "file_extension": ".py",
   "mimetype": "text/x-python",
   "name": "python",
   "nbconvert_exporter": "python",
   "pygments_lexer": "ipython2",
   "version": "2.7.12"
  }
 },
 "nbformat": 4,
 "nbformat_minor": 0
}
