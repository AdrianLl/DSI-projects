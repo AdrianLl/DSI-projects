{
 "cells": [
  {
   "cell_type": "code",
   "execution_count": 7,
   "metadata": {
    "collapsed": true
   },
   "outputs": [],
   "source": [
    "def big_sum(num):\n",
    "    nice_num = str(num)\n",
    "    while len(nice_num) > 1:\n",
    "        intermed_sum = 0\n",
    "        for i in range(len(nice_num)):\n",
    "            intermed_sum += int(nice_num[i])\n",
    "        intermed_sum = str(intermed_sum)\n",
    "        if len(intermed_sum) > 1:\n",
    "            nice_num = intermed_sum\n",
    "        else:\n",
    "            intermed_sum = int(intermed_sum)\n",
    "            return intermed_sum"
   ]
  },
  {
   "cell_type": "code",
   "execution_count": 11,
   "metadata": {
    "collapsed": false
   },
   "outputs": [],
   "source": [
    "def split_sum(num):\n",
    "    nice_num = str(num)\n",
    "    split_num = list(nice_num)\n",
    "    result = np.sum(split_num)\n",
    "    return result"
   ]
  },
  {
   "cell_type": "code",
   "execution_count": null,
   "metadata": {
    "collapsed": true
   },
   "outputs": [],
   "source": []
  },
  {
   "cell_type": "code",
   "execution_count": null,
   "metadata": {
    "collapsed": true
   },
   "outputs": [],
   "source": []
  }
 ],
 "metadata": {
  "kernelspec": {
   "display_name": "Python 2",
   "language": "python",
   "name": "python2"
  },
  "language_info": {
   "codemirror_mode": {
    "name": "ipython",
    "version": 2
   },
   "file_extension": ".py",
   "mimetype": "text/x-python",
   "name": "python",
   "nbconvert_exporter": "python",
   "pygments_lexer": "ipython2",
   "version": "2.7.11"
  }
 },
 "nbformat": 4,
 "nbformat_minor": 0
}
