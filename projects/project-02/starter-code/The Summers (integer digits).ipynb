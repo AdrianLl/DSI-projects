{
 "cells": [
  {
   "cell_type": "code",
   "execution_count": 50,
   "metadata": {
    "collapsed": true
   },
   "outputs": [],
   "source": [
    "def big_sum(num):\n",
    "    nice_num = str(num)\n",
    "    while len(nice_num) > 1:\n",
    "        intermed_sum = 0\n",
    "        for i in range(len(nice_num)):\n",
    "            intermed_sum += int(nice_num[i])\n",
    "        intermed_sum = str(intermed_sum)\n",
    "        if len(intermed_sum) > 1:\n",
    "            nice_num = intermed_sum\n",
    "        else:\n",
    "            intermed_sum = int(intermed_sum)\n",
    "            return intermed_sum"
   ]
  },
  {
   "cell_type": "code",
   "execution_count": 27,
   "metadata": {
    "collapsed": false
   },
   "outputs": [],
   "source": [
    "import numpy as np\n",
    "import pandas as pd\n",
    "\n",
    "def split_sum(num):\n",
    "    \n",
    "    # convert integer argument to a string\n",
    "    nice_num = str(num)\n",
    "    \n",
    "    # make that string into a list\n",
    "    split_num = list(nice_num)\n",
    "    \n",
    "    # convert list to a data frame\n",
    "    split_num = split_num.apply(lambda x: int(x))\n",
    "    \n",
    "    result = sum(split_num)\n",
    "    \n",
    "    split_sum(result)\n",
    "    \n",
    "    return result"
   ]
  },
  {
   "cell_type": "code",
   "execution_count": 28,
   "metadata": {
    "collapsed": false
   },
   "outputs": [
    {
     "ename": "AttributeError",
     "evalue": "'list' object has no attribute 'apply'",
     "output_type": "error",
     "traceback": [
      "\u001b[0;31m---------------------------------------------------------------------------\u001b[0m",
      "\u001b[0;31mAttributeError\u001b[0m                            Traceback (most recent call last)",
      "\u001b[0;32m<ipython-input-28-dd82cf97b4d2>\u001b[0m in \u001b[0;36m<module>\u001b[0;34m()\u001b[0m\n\u001b[0;32m----> 1\u001b[0;31m \u001b[0msplit_sum\u001b[0m\u001b[0;34m(\u001b[0m\u001b[0;36m44\u001b[0m\u001b[0;34m)\u001b[0m\u001b[0;34m\u001b[0m\u001b[0m\n\u001b[0m",
      "\u001b[0;32m<ipython-input-27-ab7cff0977f5>\u001b[0m in \u001b[0;36msplit_sum\u001b[0;34m(num)\u001b[0m\n\u001b[1;32m     11\u001b[0m \u001b[0;34m\u001b[0m\u001b[0m\n\u001b[1;32m     12\u001b[0m     \u001b[0;31m# convert list to a data frame\u001b[0m\u001b[0;34m\u001b[0m\u001b[0;34m\u001b[0m\u001b[0m\n\u001b[0;32m---> 13\u001b[0;31m     \u001b[0msplit_num\u001b[0m \u001b[0;34m=\u001b[0m \u001b[0msplit_num\u001b[0m\u001b[0;34m.\u001b[0m\u001b[0mapply\u001b[0m\u001b[0;34m(\u001b[0m\u001b[0;32mlambda\u001b[0m \u001b[0mx\u001b[0m\u001b[0;34m:\u001b[0m \u001b[0mint\u001b[0m\u001b[0;34m(\u001b[0m\u001b[0mx\u001b[0m\u001b[0;34m)\u001b[0m\u001b[0;34m)\u001b[0m\u001b[0;34m\u001b[0m\u001b[0m\n\u001b[0m\u001b[1;32m     14\u001b[0m \u001b[0;34m\u001b[0m\u001b[0m\n\u001b[1;32m     15\u001b[0m     \u001b[0mresult\u001b[0m \u001b[0;34m=\u001b[0m \u001b[0msum\u001b[0m\u001b[0;34m(\u001b[0m\u001b[0msplit_num\u001b[0m\u001b[0;34m)\u001b[0m\u001b[0;34m\u001b[0m\u001b[0m\n",
      "\u001b[0;31mAttributeError\u001b[0m: 'list' object has no attribute 'apply'"
     ]
    }
   ],
   "source": [
    "split_sum(44)"
   ]
  },
  {
   "cell_type": "code",
   "execution_count": 29,
   "metadata": {
    "collapsed": true
   },
   "outputs": [],
   "source": [
    "def split_funct(num):\n",
    "   orig_string = str(num)\n",
    "   orig_string_v2 = list(orig_string)\n",
    "   orig_string_v3 = map(int, orig_string_v2)\n",
    "   sum_string = sum(orig_string_v3)\n",
    "   sum_string_v2 = str(sum_string)\n",
    "   if len(sum_string_v2) > 1:\n",
    "       return split_funct(sum_string_v2)\n",
    "   else:\n",
    "       return sum_string_v2"
   ]
  },
  {
   "cell_type": "code",
   "execution_count": 30,
   "metadata": {
    "collapsed": true
   },
   "outputs": [],
   "source": [
    "#phillippa's\n",
    "\n",
    "def add_digits_recur(n):\n",
    "    new_n = n\n",
    "    n = 0\n",
    "    for element in str(new_n):\n",
    "        n +=int(element)\n",
    "    if len(str(n))>1:\n",
    "        return add_digits_recur(n)\n",
    "    else:\n",
    "        return n"
   ]
  },
  {
   "cell_type": "code",
   "execution_count": 31,
   "metadata": {
    "collapsed": false
   },
   "outputs": [
    {
     "data": {
      "text/plain": [
       "2"
      ]
     },
     "execution_count": 31,
     "metadata": {},
     "output_type": "execute_result"
    }
   ],
   "source": [
    "add_digits_recur(56)"
   ]
  },
  {
   "cell_type": "code",
   "execution_count": 38,
   "metadata": {
    "collapsed": false
   },
   "outputs": [],
   "source": [
    "def the_summer(num):\n",
    "    count0 = 0\n",
    "    count1 = 0\n",
    "    count2 = 0\n",
    "    count3 = 0\n",
    "    count4 = 0\n",
    "    count5 = 0\n",
    "    count6 = 0\n",
    "    count7 = 0\n",
    "    count8 = 0\n",
    "    count9 = 0\n",
    "    num_dict = {\n",
    "        0 : count0,\n",
    "        1 : count1,\n",
    "        2 : count2,\n",
    "        3 : count3,\n",
    "        4 : count4,\n",
    "        5 : count5,\n",
    "        6 : count6,\n",
    "        7 : count7,\n",
    "        8 : count8,\n",
    "        9 : count9\n",
    "                }\n",
    "    \n",
    "    new_digit = (num % 10) / 1\n",
    "    new_digit2 = (num/10) %\n",
    "    num_dict[new_digit] += 1\n",
    "        \n",
    "    \n",
    "    \n",
    "    "
   ]
  },
  {
   "cell_type": "code",
   "execution_count": 40,
   "metadata": {
    "collapsed": false
   },
   "outputs": [],
   "source": [
    "    count0 = 0\n",
    "    count1 = 0\n",
    "    count2 = 0\n",
    "    count3 = 0\n",
    "    count4 = 0\n",
    "    count5 = 0\n",
    "    count6 = 0\n",
    "    count7 = 0\n",
    "    count8 = 0\n",
    "    count9 = 0\n",
    "num_dict = {\n",
    "        0 : count0,\n",
    "        1 : count1,\n",
    "        2 : count2,\n",
    "        3 : count3,\n",
    "        4 : count4,\n",
    "        5 : count5,\n",
    "        6 : count6,\n",
    "        7 : count7,\n",
    "        8 : count8,\n",
    "        9 : count9\n",
    "                }"
   ]
  },
  {
   "cell_type": "code",
   "execution_count": 49,
   "metadata": {
    "collapsed": false
   },
   "outputs": [
    {
     "data": {
      "text/plain": [
       "int"
      ]
     },
     "execution_count": 49,
     "metadata": {},
     "output_type": "execute_result"
    }
   ],
   "source": []
  },
  {
   "cell_type": "code",
   "execution_count": null,
   "metadata": {
    "collapsed": true
   },
   "outputs": [],
   "source": []
  }
 ],
 "metadata": {
  "kernelspec": {
   "display_name": "Python 2",
   "language": "python",
   "name": "python2"
  },
  "language_info": {
   "codemirror_mode": {
    "name": "ipython",
    "version": 2
   },
   "file_extension": ".py",
   "mimetype": "text/x-python",
   "name": "python",
   "nbconvert_exporter": "python",
   "pygments_lexer": "ipython2",
   "version": "2.7.11"
  }
 },
 "nbformat": 4,
 "nbformat_minor": 0
}
