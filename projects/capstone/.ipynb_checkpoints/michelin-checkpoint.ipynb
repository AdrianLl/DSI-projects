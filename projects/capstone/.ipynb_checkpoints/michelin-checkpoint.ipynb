{
 "cells": [
  {
   "cell_type": "markdown",
   "metadata": {},
   "source": [
    "# Michelin Project"
   ]
  },
  {
   "cell_type": "code",
   "execution_count": 2,
   "metadata": {
    "collapsed": false
   },
   "outputs": [],
   "source": [
    "import requests\n",
    "import bs4\n",
    "from bs4 import BeautifulSoup\n",
    "import pandas as pd\n",
    "import re\n",
    "from geopy.geocoders import Nominatim\n",
    "from geopy.distance import great_circle\n",
    "import time\n",
    "import timeit\n",
    "!pip install -U textacy\n",
    "import textacy\n",
    "from IPython.core.display import Image\n",
    "import numpy as np\n",
    "from matplotlib import pyplot as plt\n",
    "import cPickle\n",
    "\n",
    "% matplotlib inline"
   ]
  },
  {
   "cell_type": "code",
   "execution_count": 3,
   "metadata": {
    "collapsed": false
   },
   "outputs": [
    {
     "data": {
      "text/html": [
       "<img src=\"http://bit.ly/29Pzmae\" width=\"350\"/>"
      ],
      "text/plain": [
       "<IPython.core.display.Image object>"
      ]
     },
     "execution_count": 3,
     "metadata": {},
     "output_type": "execute_result"
    }
   ],
   "source": [
    "Image(url='http://bit.ly/29EoYnx', width=350)\n",
    "Image(url='http://bit.ly/29Pzmae', width=350)"
   ]
  },
  {
   "cell_type": "raw",
   "metadata": {
    "collapsed": false
   },
   "source": [
    "import statsmodels.api as st\n",
    "import sklearn\n",
    "from sklearn import linear_model as lm\n",
    "from sklearn import cross_validation, preprocessing\n",
    "import matplotlib.cm as cm\n",
    "from sklearn.metrics import confusion_matrix\n",
    "from sklearn.metrics import roc_curve\n",
    "from sklearn.metrics import roc_auc_score\n",
    "from sklearn.cross_validation import train_test_split\n",
    "from sklearn.metrics import accuracy_score\n",
    "from sklearn.metrics import precision_score\n",
    "from sklearn.metrics import recall_score\n",
    "from sklearn.cross_validation import train_test_split\n",
    "from sklearn.cross_validation import cross_val_predict\n",
    "from sklearn.cross_validation import cross_val_score\n",
    "import matplotlib.patheffects as path_effects\n",
    "from sklearn.metrics import mean_squared_error\n",
    "\n"
   ]
  },
  {
   "cell_type": "markdown",
   "metadata": {},
   "source": [
    "This cell creates (as a list) and saves (as a dataframe) the path for each restaurant site; switch to 'code' if necessary to run it again:"
   ]
  },
  {
   "cell_type": "raw",
   "metadata": {
    "collapsed": false
   },
   "source": [
    "big_URL = 'http://www.viamichelin.com/web/Restaurants?geoboundaries=-59.1759282,-82.96875:82.166446,55.546875'\n",
    "page_URL = '&page='\n",
    "\n",
    "paths = []\n",
    "for page in range(2,775):\n",
    "    pre_mich = requests.get(big_URL + page_URL + str(page))\n",
    "    pre_soup = BeautifulSoup(pre_mich.content, \"lxml\")\n",
    "    for restaurant in pre_soup.find_all('a', href=re.compile('/web/Restaurant/')):\n",
    "        path = restaurant[\"href\"]\n",
    "        paths.append(path)\n",
    "\n",
    "paths = pd.DataFrame(paths)\n",
    "paths.columns = ['path']\n",
    "paths.to_csv('assets/michelin_paths___RENAME_ME____.csv', encoding='utf-8')"
   ]
  },
  {
   "cell_type": "markdown",
   "metadata": {},
   "source": [
    "Run this cell to load the dataframe created immediately above:"
   ]
  },
  {
   "cell_type": "code",
   "execution_count": 13,
   "metadata": {
    "collapsed": false
   },
   "outputs": [
    {
     "name": "stdout",
     "output_type": "stream",
     "text": [
      "/web/Restaurant/Penmarch-29760-Sterenn-12822-41102\n",
      "/web/Restaurant/Saint_Jean_Cap_Ferrat-06230-Le_Cap-12838-41102\n",
      "/web/Restaurant/Saint_Jean_Cap_Ferrat-06230-La_Voile_d_Or-12839-41102\n",
      "/web/Restaurant/St_Jean_du_Bruel-12230-Midi_Papillon-12855-41102\n",
      "/web/Restaurant/Saint_Jean_Pied_de_Port-64220-Les_Pyrenees-12858-41102\n",
      "/web/Restaurant/Saint_Laurent_de_Mure-69720-Christian_Lavault-12878-41102\n",
      "/web/Restaurant/Saint_Leonard_de_Noblat-87400-Le_Relais_St_Jacques-12885-41102\n",
      "/web/Restaurant/St_Malo-35400-La_Grassinais-12895-41102\n",
      "/web/Restaurant/Tilques-62500-Chateau_Tilques-12915-41102\n",
      "/web/Restaurant/Saint_Pons-07580-Hostellerie_Gourmande_Mere_Biquette-12938-41102\n"
     ]
    }
   ],
   "source": [
    "URL = 'http://www.viamichelin.com'\n",
    "paths = pd.read_csv('/Users/Rebecca/DSI-projects/projects/capstone/assets/michelin_paths.csv')\n",
    "paths = paths['0']\n",
    "paths.reset_index(drop = True)\n",
    "paths.columns = ['path']\n",
    "\n",
    "test_paths = paths[0:10]\n",
    "\n",
    "for i in test_paths:\n",
    "    print i"
   ]
  },
  {
   "cell_type": "markdown",
   "metadata": {},
   "source": [
    "Create a function to scrape and organize data from the restaurant sites:"
   ]
  },
  {
   "cell_type": "code",
   "execution_count": null,
   "metadata": {
    "collapsed": true
   },
   "outputs": [],
   "source": [
    "big_soup = []\n",
    "for i in paths:\n",
    "    time.sleep(1)\n",
    "    tiny_request = requests.get(URL + i)\n",
    "    if str(tiny_request) != '<Response [200]>':\n",
    "        print URL + i\n",
    "    tiny_soup = BeautifulSoup(tiny_request.content, \"lxml\")\n",
    "    big_soup.append(tiny_soup)"
   ]
  },
  {
   "cell_type": "markdown",
   "metadata": {},
   "source": [
    "http://www.viamichelin.com/web/Restaurant/LEINSWEILER-76829-Leinsweiler_Hof-82259-41102\n",
    "http://www.viamichelin.com/web/Restaurant/Landau_Godramstein-76829-Westphals_Kulinarium-117644-41102\n",
    "http://www.viamichelin.com/web/Restaurant/South_Kensington-SW5_0LJ-Cambio_de_Tercio-123727-41102\n",
    "http://www.viamichelin.com/web/Restaurant/Tours-37000-Le_Theleme-273277-41102\n",
    "http://www.viamichelin.com/web/Restaurant/PARADISO-33050-Al_Paradiso-145932-41102\n",
    "\n",
    "run this to get index number of non-202 site:\n",
    "\n",
    "lil_extension = '/web/Restaurant/Tours-37000-Le_Theleme-273277-41102'\n",
    "for extension in paths:\n",
    "    if extension == lil_extension:\n",
    "        print paths[paths == lil_extension]"
   ]
  },
  {
   "cell_type": "code",
   "execution_count": 10,
   "metadata": {
    "collapsed": false,
    "scrolled": true
   },
   "outputs": [],
   "source": [
    "#cPickle.dump(big_soup, open('big_soup1.p', 'wb')) "
   ]
  },
  {
   "cell_type": "code",
   "execution_count": 22,
   "metadata": {
    "collapsed": false,
    "scrolled": false
   },
   "outputs": [],
   "source": [
    "def restaurantify(list_soup):\n",
    "    \n",
    "    '''This function creates a dataframe with restaurant observations and columns containing relevant information.'''\n",
    "    \n",
    "    name = []\n",
    "    address = []\n",
    "    cuisine = []\n",
    "    blurb = []\n",
    "    price = []\n",
    "    author = []\n",
    "    distinction = []\n",
    "    photo = []\n",
    "    add_info = []\n",
    "\n",
    "\n",
    "    for tiny_soup in list_soup:\n",
    "        \n",
    "        if tiny_soup.findAll('div', class_ = 'datasheet-item datasheet-name') is None:\n",
    "            name.append('empty')\n",
    "            continue\n",
    "        else:\n",
    "            for rest_name in tiny_soup.findAll('div', class_ = 'datasheet-item datasheet-name'):\n",
    "                name.append(rest_name.text)\n",
    "        \n",
    "        if tiny_soup.findAll('div', class_ = 'datasheet-item') is None:\n",
    "            address.append('empty')\n",
    "            continue\n",
    "        else:    \n",
    "            addresses = []\n",
    "            for rest_address in tiny_soup.findAll('div', class_ = 'datasheet-item'):\n",
    "                addresses.append(rest_address.text)\n",
    "            if len(addresses) >= 2:\n",
    "                address.append(addresses[1])\n",
    "            else:\n",
    "                address.append('weird_address')\n",
    "        \n",
    "        if tiny_soup.findAll('div', class_ = 'datasheet-cooking-type') is None:\n",
    "            cuisine.append('empty')\n",
    "            continue\n",
    "        else:\n",
    "            for rest_cuisine in tiny_soup.findAll('div', class_ = 'datasheet-cooking-type'):\n",
    "                cuisine.append(rest_cuisine.text)\n",
    "        \n",
    "        if tiny_soup.findAll('div', class_ = 'datasheet-description') is None:\n",
    "            blurb.append('empty')\n",
    "            continue\n",
    "        else:\n",
    "            for rest_blurb in tiny_soup.findAll('div', class_ = 'datasheet-description'):\n",
    "                for j in rest_blurb.find_all('blockquote'):\n",
    "                    blurb.append(j.text)\n",
    "        \n",
    "        if tiny_soup.findAll('div', class_ = 'datasheet-price') is None:\n",
    "            price.append('empty')\n",
    "            continue\n",
    "        else:\n",
    "            for rest_price in tiny_soup.findAll('div', class_ = 'datasheet-price'):\n",
    "                price.append(rest_price.text)\n",
    "    \n",
    "        if tiny_soup.findAll('p', class_ = 'michelin-guide-inspectors') is None:\n",
    "            author.append('empty')\n",
    "            continue\n",
    "        else:\n",
    "            for rest_author in tiny_soup.findAll('p', class_ = 'michelin-guide-inspectors'):\n",
    "                author.append(rest_author.text)\n",
    "        \n",
    "        if tiny_soup.findAll('div', class_ = 'poi-item-stars') is None:\n",
    "            distinction.append('empty')\n",
    "            continue\n",
    "        else:\n",
    "            distinctions = []\n",
    "            for rest_distinction in tiny_soup.findAll('div', class_ = 'poi-item-stars'):\n",
    "                for j in rest_distinction.find_all('span'):\n",
    "                    distinctions.append(j['class'])\n",
    "            distinction.append(distinctions)\n",
    "        \n",
    "        if tiny_soup.findAll('div', class_ = 'datasheet-more-info datasheet-photo clearfx') is None:\n",
    "            photo.append('empty')\n",
    "            continue\n",
    "        else:\n",
    "            for rest_photo in tiny_soup.findAll('div', class_ = 'datasheet-more-info datasheet-photo clearfx'):\n",
    "                for number in rest_photo.findAll('p'):\n",
    "                    photo.append(number.text)\n",
    "\n",
    "        if tiny_soup.findAll('div', class_ = 'datasheet-more-info clearfx') is None:\n",
    "            info.append('empty')\n",
    "            continue\n",
    "        else:\n",
    "            infos = []\n",
    "            for rest_add_info in tiny_soup.findAll('div', class_ = 'datasheet-more-info clearfx'):\n",
    "                infos.append(rest_add_info.text)\n",
    "            add_info.append(infos)\n",
    "        \n",
    "    df = pd.DataFrame(zip(name, address, cuisine, blurb, price, author, distinction, photo, add_info),\\\n",
    "                        columns = ['name', 'address', 'cuisine', 'blurb', 'price', 'author', 'distinction', \\\n",
    "                                   'photo', 'add_info']) \n",
    "    print len(df)\n",
    "    print 'name: %s' %len(name)\n",
    "    print 'address: %s' %len(address)\n",
    "    print 'cuisine: %s' %len(cuisine)\n",
    "    print 'blurb: %s' %len(blurb)\n",
    "    print 'price: %s' %len(price)\n",
    "    print 'author: %s' %len(author)\n",
    "    print 'distinction: %s' %len(distinction)\n",
    "    print 'photo: %s' %len(photo)\n",
    "    print 'add_info: %s' %len(add_info)\n",
    "    return df"
   ]
  },
  {
   "cell_type": "code",
   "execution_count": 23,
   "metadata": {
    "collapsed": false
   },
   "outputs": [
    {
     "name": "stdout",
     "output_type": "stream",
     "text": [
      "7150\n",
      "name: 9853\n",
      "address: 9858\n",
      "cuisine: 9853\n",
      "blurb: 9853\n",
      "price: 9853\n",
      "author: 9853\n",
      "distinction: 9858\n",
      "standing: 9440\n",
      "photo: 7150\n",
      "add_info: 9858\n"
     ]
    }
   ],
   "source": [
    "mich = restaurantify(big_soup)"
   ]
  },
  {
   "cell_type": "markdown",
   "metadata": {},
   "source": [
    "7150\n",
    "\n",
    "name: 9853\n",
    "\n",
    "address: 9858\n",
    "\n",
    "cuisine: 9853\n",
    "\n",
    "blurb: 9853\n",
    "\n",
    "price: 9853\n",
    "\n",
    "author: 9853\n",
    "\n",
    "distinction: 9858\n",
    "\n",
    "standing: 9440\n",
    "\n",
    "photo: 7150\n",
    "\n",
    "add_info: 9858"
   ]
  },
  {
   "cell_type": "code",
   "execution_count": 53,
   "metadata": {
    "collapsed": false
   },
   "outputs": [
    {
     "name": "stdout",
     "output_type": "stream",
     "text": [
      "['star']\n",
      "OMG\n",
      "['star']\n",
      "OMG\n",
      "['standing-21']\n",
      "OMG\n",
      "\n",
      "\n",
      "['assiette']\n",
      "OMG\n",
      "['assiette']\n",
      "OMG\n",
      "['standing-19']\n",
      "OMG\n",
      "\n",
      "\n",
      "['assiette']\n",
      "OMG\n",
      "['assiette']\n",
      "OMG\n",
      "['standing-13']\n",
      "OMG\n",
      "['good-value-menu']\n",
      "OMG\n",
      "\n",
      "\n",
      "['star']\n",
      "OMG\n",
      "['star']\n",
      "OMG\n",
      "['standing-14']\n",
      "OMG\n",
      "\n",
      "\n",
      "['assiette']\n",
      "OMG\n",
      "['assiette']\n",
      "OMG\n",
      "['standing-13']\n",
      "OMG\n",
      "\n",
      "\n",
      "['assiette']\n",
      "OMG\n",
      "['assiette']\n",
      "OMG\n",
      "['standing-13']\n",
      "OMG\n",
      "\n",
      "\n",
      "['assiette']\n",
      "OMG\n",
      "['assiette']\n",
      "OMG\n",
      "['standing-13']\n",
      "OMG\n",
      "['good-value-menu']\n",
      "OMG\n",
      "\n",
      "\n",
      "['assiette']\n",
      "OMG\n",
      "['assiette']\n",
      "OMG\n",
      "['standing-14']\n",
      "OMG\n",
      "\n",
      "\n",
      "['assiette']\n",
      "OMG\n",
      "['assiette']\n",
      "OMG\n",
      "['standing-12']\n",
      "OMG\n",
      "\n",
      "\n"
     ]
    }
   ],
   "source": [
    "test_soup = big_soup[1:10]\n",
    "for i in test_soup:\n",
    "    for rest_distinction in i.findAll('div', class_ = 'poi-item-stars'):\n",
    "        for sub_distinction in rest_distinction.findAll('span'):\n",
    "            print sub_distinction['class']\n",
    "            print 'OMG'\n",
    "    print '\\n'"
   ]
  },
  {
   "cell_type": "code",
   "execution_count": 47,
   "metadata": {
    "collapsed": false
   },
   "outputs": [
    {
     "data": {
      "text/html": [
       "<div>\n",
       "<table border=\"1\" class=\"dataframe\">\n",
       "  <thead>\n",
       "    <tr style=\"text-align: right;\">\n",
       "      <th></th>\n",
       "      <th>name</th>\n",
       "      <th>address</th>\n",
       "      <th>cuisine</th>\n",
       "      <th>blurb</th>\n",
       "      <th>price</th>\n",
       "      <th>author</th>\n",
       "      <th>distinction</th>\n",
       "      <th>standing</th>\n",
       "      <th>photo</th>\n",
       "      <th>add_info</th>\n",
       "    </tr>\n",
       "  </thead>\n",
       "  <tbody>\n",
       "    <tr>\n",
       "      <th>0</th>\n",
       "      <td>\\n\\tSterenn\\n</td>\n",
       "      <td>Route d'Eckmuhl, 29760 Penmarch</td>\n",
       "      <td>Cuisine Fish and seafood|Regional</td>\n",
       "      <td>\\n\\t\\t\\tIt is a family affair at this pleasant...</td>\n",
       "      <td>\\n\\t\\t\\tFrom 28 EUR\\n\\t\\t\\tto 70 EUR\\n</td>\n",
       "      <td>MICHELIN guide inspectors</td>\n",
       "      <td>[[bib-gourmand], [bib-gourmand], [standing-13]]</td>\n",
       "      <td>[standing-13]</td>\n",
       "      <td>\\nPhotos (9)\\n\\n</td>\n",
       "      <td>[\\nMeal prices\\n\\nLunch 20 €, Menu 28/69 € - C...</td>\n",
       "    </tr>\n",
       "    <tr>\n",
       "      <th>1</th>\n",
       "      <td>\\n\\tLe Cap\\n</td>\n",
       "      <td>71 bd du Gén.-de-Gaulle, 06230 Saint-Jean-Cap-...</td>\n",
       "      <td>Cuisine Modern cuisine</td>\n",
       "      <td>\\n\\t\\t\\tSet your course for a fine modern menu...</td>\n",
       "      <td>\\n\\t\\t\\tFrom 158 EUR\\n\\t\\t\\tto 390 EUR\\n</td>\n",
       "      <td>MICHELIN guide inspectors</td>\n",
       "      <td>[[star], [star], [standing-21]]</td>\n",
       "      <td>[standing-21]</td>\n",
       "      <td>\\nPhotos (20)\\n</td>\n",
       "      <td>[\\nMeal prices\\n\\nMenu 158/248 € - Carte 172/3...</td>\n",
       "    </tr>\n",
       "    <tr>\n",
       "      <th>2</th>\n",
       "      <td>\\n\\tLa Voile d'Or\\n</td>\n",
       "      <td>27 rue Jean-Mermoz, 06230 Saint-Jean-Cap-Ferrat</td>\n",
       "      <td>Cuisine Provençal</td>\n",
       "      <td>\\n\\t\\t\\tGrilled fish, meats, pasta and risotto...</td>\n",
       "      <td>\\n\\t\\t\\tFrom 49 EUR\\n\\t\\t\\tto 130 EUR\\n</td>\n",
       "      <td>MICHELIN guide inspectors</td>\n",
       "      <td>[[assiette], [assiette], [standing-19]]</td>\n",
       "      <td>[standing-19]</td>\n",
       "      <td>\\nPhotos (7)\\n\\n</td>\n",
       "      <td>[\\nMeal prices\\n\\nMenu 49 € Glass-wine /130 € ...</td>\n",
       "    </tr>\n",
       "    <tr>\n",
       "      <th>3</th>\n",
       "      <td>\\n\\tMidi-Papillon\\n</td>\n",
       "      <td>place du Manège, 12230 St-Jean-du-Bruel</td>\n",
       "      <td>Cuisine Traditional cuisine</td>\n",
       "      <td>\\n\\t\\t\\tHomegrown vegetables and free-range ra...</td>\n",
       "      <td>\\n\\t\\t\\tFrom 20 EUR\\n\\t\\t\\tto 52 EUR\\n</td>\n",
       "      <td>MICHELIN guide inspectors</td>\n",
       "      <td>[[assiette], [assiette], [standing-13], [good-...</td>\n",
       "      <td>[standing-13]</td>\n",
       "      <td>\\nPhoto (1)\\n\\n\\n</td>\n",
       "      <td>[\\nMeal prices\\n\\nLunch 16 €, Menu 20/47 € - C...</td>\n",
       "    </tr>\n",
       "    <tr>\n",
       "      <th>4</th>\n",
       "      <td>\\n\\tLes Pyrénées\\n</td>\n",
       "      <td>19 pl. Charles-de-Gaulle, 64220 Saint-Jean-Pie...</td>\n",
       "      <td>Cuisine Classic cuisine</td>\n",
       "      <td>\\n\\t\\t\\tAn institution in St Jean Pied de Port...</td>\n",
       "      <td>\\n\\t\\t\\tFrom 42 EUR\\n\\t\\t\\tto 112 EUR\\n</td>\n",
       "      <td>MICHELIN guide inspectors</td>\n",
       "      <td>[[star], [star], [standing-14]]</td>\n",
       "      <td>[standing-14]</td>\n",
       "      <td>\\nPhotos (20)\\n</td>\n",
       "      <td>[\\nMeal prices\\n\\nLunch 32 €, Menu 42/110 € - ...</td>\n",
       "    </tr>\n",
       "  </tbody>\n",
       "</table>\n",
       "</div>"
      ],
      "text/plain": [
       "                  name                                            address  \\\n",
       "0        \\n\\tSterenn\\n                    Route d'Eckmuhl, 29760 Penmarch   \n",
       "1         \\n\\tLe Cap\\n  71 bd du Gén.-de-Gaulle, 06230 Saint-Jean-Cap-...   \n",
       "2  \\n\\tLa Voile d'Or\\n    27 rue Jean-Mermoz, 06230 Saint-Jean-Cap-Ferrat   \n",
       "3  \\n\\tMidi-Papillon\\n            place du Manège, 12230 St-Jean-du-Bruel   \n",
       "4   \\n\\tLes Pyrénées\\n  19 pl. Charles-de-Gaulle, 64220 Saint-Jean-Pie...   \n",
       "\n",
       "                             cuisine  \\\n",
       "0  Cuisine Fish and seafood|Regional   \n",
       "1             Cuisine Modern cuisine   \n",
       "2                  Cuisine Provençal   \n",
       "3        Cuisine Traditional cuisine   \n",
       "4            Cuisine Classic cuisine   \n",
       "\n",
       "                                               blurb  \\\n",
       "0  \\n\\t\\t\\tIt is a family affair at this pleasant...   \n",
       "1  \\n\\t\\t\\tSet your course for a fine modern menu...   \n",
       "2  \\n\\t\\t\\tGrilled fish, meats, pasta and risotto...   \n",
       "3  \\n\\t\\t\\tHomegrown vegetables and free-range ra...   \n",
       "4  \\n\\t\\t\\tAn institution in St Jean Pied de Port...   \n",
       "\n",
       "                                      price                     author  \\\n",
       "0    \\n\\t\\t\\tFrom 28 EUR\\n\\t\\t\\tto 70 EUR\\n  MICHELIN guide inspectors   \n",
       "1  \\n\\t\\t\\tFrom 158 EUR\\n\\t\\t\\tto 390 EUR\\n  MICHELIN guide inspectors   \n",
       "2   \\n\\t\\t\\tFrom 49 EUR\\n\\t\\t\\tto 130 EUR\\n  MICHELIN guide inspectors   \n",
       "3    \\n\\t\\t\\tFrom 20 EUR\\n\\t\\t\\tto 52 EUR\\n  MICHELIN guide inspectors   \n",
       "4   \\n\\t\\t\\tFrom 42 EUR\\n\\t\\t\\tto 112 EUR\\n  MICHELIN guide inspectors   \n",
       "\n",
       "                                         distinction       standing  \\\n",
       "0    [[bib-gourmand], [bib-gourmand], [standing-13]]  [standing-13]   \n",
       "1                    [[star], [star], [standing-21]]  [standing-21]   \n",
       "2            [[assiette], [assiette], [standing-19]]  [standing-19]   \n",
       "3  [[assiette], [assiette], [standing-13], [good-...  [standing-13]   \n",
       "4                    [[star], [star], [standing-14]]  [standing-14]   \n",
       "\n",
       "               photo                                           add_info  \n",
       "0   \\nPhotos (9)\\n\\n  [\\nMeal prices\\n\\nLunch 20 €, Menu 28/69 € - C...  \n",
       "1    \\nPhotos (20)\\n  [\\nMeal prices\\n\\nMenu 158/248 € - Carte 172/3...  \n",
       "2   \\nPhotos (7)\\n\\n  [\\nMeal prices\\n\\nMenu 49 € Glass-wine /130 € ...  \n",
       "3  \\nPhoto (1)\\n\\n\\n  [\\nMeal prices\\n\\nLunch 16 €, Menu 20/47 € - C...  \n",
       "4    \\nPhotos (20)\\n  [\\nMeal prices\\n\\nLunch 32 €, Menu 42/110 € - ...  "
      ]
     },
     "execution_count": 47,
     "metadata": {},
     "output_type": "execute_result"
    }
   ],
   "source": [
    "mich.head()"
   ]
  },
  {
   "cell_type": "code",
   "execution_count": 58,
   "metadata": {
    "collapsed": false
   },
   "outputs": [
    {
     "data": {
      "text/html": [
       "<div>\n",
       "<table border=\"1\" class=\"dataframe\">\n",
       "  <thead>\n",
       "    <tr style=\"text-align: right;\">\n",
       "      <th></th>\n",
       "      <th>standing</th>\n",
       "    </tr>\n",
       "  </thead>\n",
       "  <tbody>\n",
       "    <tr>\n",
       "      <th>0</th>\n",
       "      <td>[standing-13]</td>\n",
       "    </tr>\n",
       "    <tr>\n",
       "      <th>1</th>\n",
       "      <td>[standing-21]</td>\n",
       "    </tr>\n",
       "    <tr>\n",
       "      <th>2</th>\n",
       "      <td>[standing-19]</td>\n",
       "    </tr>\n",
       "    <tr>\n",
       "      <th>3</th>\n",
       "      <td>[standing-13]</td>\n",
       "    </tr>\n",
       "    <tr>\n",
       "      <th>4</th>\n",
       "      <td>[standing-14]</td>\n",
       "    </tr>\n",
       "  </tbody>\n",
       "</table>\n",
       "</div>"
      ],
      "text/plain": [
       "        standing\n",
       "0  [standing-13]\n",
       "1  [standing-21]\n",
       "2  [standing-19]\n",
       "3  [standing-13]\n",
       "4  [standing-14]"
      ]
     },
     "execution_count": 58,
     "metadata": {},
     "output_type": "execute_result"
    }
   ],
   "source": [
    "test = pd.DataFrame(mich['standing'])\n",
    "test.head()"
   ]
  },
  {
   "cell_type": "code",
   "execution_count": 64,
   "metadata": {
    "collapsed": false
   },
   "outputs": [
    {
     "data": {
      "text/plain": [
       "name                                                \\n\\tMedium\\n\n",
       "address        Hofenstetten 55, 92431 Neunburg vorm Wald-Hofe...\n",
       "cuisine                                    Cuisine International\n",
       "blurb          \\n\\t\\t\\tDiners at Medium appreciate the modern...\n",
       "price                     \\n\\t\\t\\tFrom 33 EUR\\n\\t\\t\\tto 64 EUR\\n\n",
       "author                                 MICHELIN guide inspectors\n",
       "distinction                      [[star], [star], [standing-19]]\n",
       "standing                                           [standing-12]\n",
       "photo                                           \\nPhotos (2)\\n\\n\n",
       "add_info       [\\nMeal prices\\n\\nMenu 80/138 €\\n\\n, \\nGood to...\n",
       "Name: 7149, dtype: object"
      ]
     },
     "execution_count": 64,
     "metadata": {},
     "output_type": "execute_result"
    }
   ],
   "source": [
    "mich.loc[7149]"
   ]
  },
  {
   "cell_type": "code",
   "execution_count": 67,
   "metadata": {
    "collapsed": false
   },
   "outputs": [
    {
     "data": {
      "text/html": [
       "<div>\n",
       "<table border=\"1\" class=\"dataframe\">\n",
       "  <thead>\n",
       "    <tr style=\"text-align: right;\">\n",
       "      <th></th>\n",
       "      <th>name</th>\n",
       "      <th>address</th>\n",
       "      <th>cuisine</th>\n",
       "      <th>blurb</th>\n",
       "      <th>price</th>\n",
       "      <th>author</th>\n",
       "      <th>distinction</th>\n",
       "      <th>standing</th>\n",
       "      <th>photo</th>\n",
       "      <th>add_info</th>\n",
       "    </tr>\n",
       "  </thead>\n",
       "  <tbody>\n",
       "    <tr>\n",
       "      <th>7140</th>\n",
       "      <td>\\n\\tElements\\n</td>\n",
       "      <td>Le Bourg, 24510 Trémolat</td>\n",
       "      <td>Cuisine International</td>\n",
       "      <td>\\n\\t\\t\\tIn this former gas turbine constructio...</td>\n",
       "      <td>\\n\\t\\t\\tFrom 36 EUR\\n\\t\\t\\tto 66 EUR\\n</td>\n",
       "      <td>MICHELIN guide inspectors</td>\n",
       "      <td>[[star], [star], [standing-19]]</td>\n",
       "      <td>[standing-18]</td>\n",
       "      <td>\\nPhotos (12)\\n</td>\n",
       "      <td>[\\nMeal prices\\n\\nLunch 54 €, Menu 75/115 € - ...</td>\n",
       "    </tr>\n",
       "    <tr>\n",
       "      <th>7141</th>\n",
       "      <td>\\n\\tLe Bateleur\\n</td>\n",
       "      <td>13 avenue des Mateirons, 74500 Évian-les-Bains</td>\n",
       "      <td>Cuisine Modern cuisine</td>\n",
       "      <td>\\n\\t\\t\\tLe Bateleur, near the River Ouvèze, sa...</td>\n",
       "      <td>\\n\\t\\t\\tFrom 35 EUR\\n\\t\\t\\tto 64 EUR\\n</td>\n",
       "      <td>MICHELIN guide inspectors</td>\n",
       "      <td>[[assiette], [assiette], [standing-20]]</td>\n",
       "      <td>[standing-12]</td>\n",
       "      <td>\\nPhotos (2)\\n\\n</td>\n",
       "      <td>[\\nMeal prices\\n\\nMenu 75/135 € - Carte 80/110...</td>\n",
       "    </tr>\n",
       "    <tr>\n",
       "      <th>7142</th>\n",
       "      <td>\\n\\tLe Belvédère\\n</td>\n",
       "      <td>6 r. Balzac, 75008 Paris</td>\n",
       "      <td>Cuisine Creative</td>\n",
       "      <td>\\n\\t\\t\\tA restaurant perched high up, a terrac...</td>\n",
       "      <td>\\n\\t\\t\\tFrom 40 EUR\\n\\t\\t\\tto 115 EUR\\n</td>\n",
       "      <td>MICHELIN guide inspectors</td>\n",
       "      <td>[[star], [star], [star], [star], [star], [star...</td>\n",
       "      <td>[standing-20]</td>\n",
       "      <td>\\nPhoto (1)\\n\\n\\n</td>\n",
       "      <td>[\\nMeal prices\\n\\nLunch 85 €, Menu 155/310 € -...</td>\n",
       "    </tr>\n",
       "    <tr>\n",
       "      <th>7143</th>\n",
       "      <td>\\n\\tGesellschaftsraum\\n</td>\n",
       "      <td>5 rue de la 1ère-Armée, 68340 Riquewihr</td>\n",
       "      <td>Cuisine Creative</td>\n",
       "      <td>\\n\\t\\t\\tIf you like things casual, urban and t...</td>\n",
       "      <td>\\n\\t\\t\\tFrom 56 EUR\\n\\t\\t\\tto 85 EUR\\n</td>\n",
       "      <td>MICHELIN guide inspectors</td>\n",
       "      <td>[[star], [star], [standing-19]]</td>\n",
       "      <td>[standing-19]</td>\n",
       "      <td>\\nPhotos (2)\\n\\n</td>\n",
       "      <td>[\\nMeal prices\\n\\nMenu 38 € (weekday lunch), 8...</td>\n",
       "    </tr>\n",
       "    <tr>\n",
       "      <th>7144</th>\n",
       "      <td>\\n\\tObendorfer's Eisvogel\\n</td>\n",
       "      <td>Neufeldstr. 10, 76187 Knielingen</td>\n",
       "      <td>Cuisine Creative</td>\n",
       "      <td>\\n\\t\\t\\tAs you will see, a visit to this resta...</td>\n",
       "      <td>\\n\\t\\t\\tFrom 80 EUR\\n\\t\\t\\tto 138 EUR\\n</td>\n",
       "      <td>MICHELIN guide inspectors</td>\n",
       "      <td>[[standing-12]]</td>\n",
       "      <td>[standing-18]</td>\n",
       "      <td>\\nPhotos (5)\\n\\n</td>\n",
       "      <td>[\\nMeal prices\\n\\nMenu 20 € (lunch)/48 € - Car...</td>\n",
       "    </tr>\n",
       "    <tr>\n",
       "      <th>7145</th>\n",
       "      <td>\\n\\tLe Macareux\\n</td>\n",
       "      <td>Königsbrücker Str. 96, 01099 Dresden</td>\n",
       "      <td>Cuisine Fish and seafood</td>\n",
       "      <td>\\n\\t\\t\\tMake a beeline for this Brittany hoste...</td>\n",
       "      <td>\\n\\t\\t\\tFrom 29 EUR\\n\\t\\t\\tto 106 EUR\\n</td>\n",
       "      <td>MICHELIN guide inspectors</td>\n",
       "      <td>[[star], [star], [standing-18]]</td>\n",
       "      <td>[standing-12]</td>\n",
       "      <td>\\nPhoto (1)\\n\\n\\n</td>\n",
       "      <td>[\\nMeal prices\\n\\nMenu 36 € (lunch)/66 € - Car...</td>\n",
       "    </tr>\n",
       "    <tr>\n",
       "      <th>7146</th>\n",
       "      <td>\\n\\tHostellerie Les Gorges de Pennafort\\n</td>\n",
       "      <td>1 place Théodore Aubanel, 84110 Vaison-la-Romaine</td>\n",
       "      <td>Cuisine Modern cuisine</td>\n",
       "      <td>\\n\\t\\t\\tThe restaurant has an elegant, contemp...</td>\n",
       "      <td>\\n\\t\\t\\tFrom 80 EUR\\n\\t\\t\\tto 185 EUR\\n</td>\n",
       "      <td>MICHELIN guide inspectors</td>\n",
       "      <td>[[assiette], [assiette], [standing-12]]</td>\n",
       "      <td>[standing-12]</td>\n",
       "      <td>\\nPhotos (5)\\n\\n</td>\n",
       "      <td>[\\nMeal prices\\n\\nMenu 35/47 € - Carte 52/64 €...</td>\n",
       "    </tr>\n",
       "    <tr>\n",
       "      <th>7147</th>\n",
       "      <td>\\n\\tL'Angélique\\n</td>\n",
       "      <td>7 chemin du Belvédère, 74000 Annecy</td>\n",
       "      <td>Cuisine Modern cuisine</td>\n",
       "      <td>\\n\\t\\t\\tRegis Douysset, chef of L'Escarbille i...</td>\n",
       "      <td>\\n\\t\\t\\tFrom 56 EUR\\n\\t\\t\\tto 108 EUR\\n</td>\n",
       "      <td>MICHELIN guide inspectors</td>\n",
       "      <td>[[assiette], [assiette], [standing-14]]</td>\n",
       "      <td>[standing-13]</td>\n",
       "      <td>\\nPhotos (11)\\n</td>\n",
       "      <td>[\\nMeal prices\\n\\nMenu 40 € (weekday lunch), 6...</td>\n",
       "    </tr>\n",
       "    <tr>\n",
       "      <th>7148</th>\n",
       "      <td>\\n\\tGrashoff's Bistro\\n</td>\n",
       "      <td>Bräuhausstr. 8, 80331 München</td>\n",
       "      <td>Cuisine French classic</td>\n",
       "      <td>\\n\\t\\t\\tA French style bistro and bar, frequen...</td>\n",
       "      <td>\\n\\t\\t\\tFrom 43 EUR\\n\\t\\t\\tto 65 EUR\\n</td>\n",
       "      <td>MICHELIN guide inspectors</td>\n",
       "      <td>[[standing-12]]</td>\n",
       "      <td>[standing-12]</td>\n",
       "      <td>\\nPhotos (4)\\n\\n</td>\n",
       "      <td>[\\nMeal prices\\n\\nMenu 56/85 €\\n\\n, \\nGood to ...</td>\n",
       "    </tr>\n",
       "    <tr>\n",
       "      <th>7149</th>\n",
       "      <td>\\n\\tMedium\\n</td>\n",
       "      <td>Hofenstetten 55, 92431 Neunburg vorm Wald-Hofe...</td>\n",
       "      <td>Cuisine International</td>\n",
       "      <td>\\n\\t\\t\\tDiners at Medium appreciate the modern...</td>\n",
       "      <td>\\n\\t\\t\\tFrom 33 EUR\\n\\t\\t\\tto 64 EUR\\n</td>\n",
       "      <td>MICHELIN guide inspectors</td>\n",
       "      <td>[[star], [star], [standing-19]]</td>\n",
       "      <td>[standing-12]</td>\n",
       "      <td>\\nPhotos (2)\\n\\n</td>\n",
       "      <td>[\\nMeal prices\\n\\nMenu 80/138 €\\n\\n, \\nGood to...</td>\n",
       "    </tr>\n",
       "  </tbody>\n",
       "</table>\n",
       "</div>"
      ],
      "text/plain": [
       "                                           name  \\\n",
       "7140                             \\n\\tElements\\n   \n",
       "7141                          \\n\\tLe Bateleur\\n   \n",
       "7142                         \\n\\tLe Belvédère\\n   \n",
       "7143                    \\n\\tGesellschaftsraum\\n   \n",
       "7144                \\n\\tObendorfer's Eisvogel\\n   \n",
       "7145                          \\n\\tLe Macareux\\n   \n",
       "7146  \\n\\tHostellerie Les Gorges de Pennafort\\n   \n",
       "7147                          \\n\\tL'Angélique\\n   \n",
       "7148                    \\n\\tGrashoff's Bistro\\n   \n",
       "7149                               \\n\\tMedium\\n   \n",
       "\n",
       "                                                address  \\\n",
       "7140                           Le Bourg, 24510 Trémolat   \n",
       "7141     13 avenue des Mateirons, 74500 Évian-les-Bains   \n",
       "7142                           6 r. Balzac, 75008 Paris   \n",
       "7143            5 rue de la 1ère-Armée, 68340 Riquewihr   \n",
       "7144                   Neufeldstr. 10, 76187 Knielingen   \n",
       "7145               Königsbrücker Str. 96, 01099 Dresden   \n",
       "7146  1 place Théodore Aubanel, 84110 Vaison-la-Romaine   \n",
       "7147                7 chemin du Belvédère, 74000 Annecy   \n",
       "7148                      Bräuhausstr. 8, 80331 München   \n",
       "7149  Hofenstetten 55, 92431 Neunburg vorm Wald-Hofe...   \n",
       "\n",
       "                       cuisine  \\\n",
       "7140     Cuisine International   \n",
       "7141    Cuisine Modern cuisine   \n",
       "7142          Cuisine Creative   \n",
       "7143          Cuisine Creative   \n",
       "7144          Cuisine Creative   \n",
       "7145  Cuisine Fish and seafood   \n",
       "7146    Cuisine Modern cuisine   \n",
       "7147    Cuisine Modern cuisine   \n",
       "7148    Cuisine French classic   \n",
       "7149     Cuisine International   \n",
       "\n",
       "                                                  blurb  \\\n",
       "7140  \\n\\t\\t\\tIn this former gas turbine constructio...   \n",
       "7141  \\n\\t\\t\\tLe Bateleur, near the River Ouvèze, sa...   \n",
       "7142  \\n\\t\\t\\tA restaurant perched high up, a terrac...   \n",
       "7143  \\n\\t\\t\\tIf you like things casual, urban and t...   \n",
       "7144  \\n\\t\\t\\tAs you will see, a visit to this resta...   \n",
       "7145  \\n\\t\\t\\tMake a beeline for this Brittany hoste...   \n",
       "7146  \\n\\t\\t\\tThe restaurant has an elegant, contemp...   \n",
       "7147  \\n\\t\\t\\tRegis Douysset, chef of L'Escarbille i...   \n",
       "7148  \\n\\t\\t\\tA French style bistro and bar, frequen...   \n",
       "7149  \\n\\t\\t\\tDiners at Medium appreciate the modern...   \n",
       "\n",
       "                                        price                     author  \\\n",
       "7140   \\n\\t\\t\\tFrom 36 EUR\\n\\t\\t\\tto 66 EUR\\n  MICHELIN guide inspectors   \n",
       "7141   \\n\\t\\t\\tFrom 35 EUR\\n\\t\\t\\tto 64 EUR\\n  MICHELIN guide inspectors   \n",
       "7142  \\n\\t\\t\\tFrom 40 EUR\\n\\t\\t\\tto 115 EUR\\n  MICHELIN guide inspectors   \n",
       "7143   \\n\\t\\t\\tFrom 56 EUR\\n\\t\\t\\tto 85 EUR\\n  MICHELIN guide inspectors   \n",
       "7144  \\n\\t\\t\\tFrom 80 EUR\\n\\t\\t\\tto 138 EUR\\n  MICHELIN guide inspectors   \n",
       "7145  \\n\\t\\t\\tFrom 29 EUR\\n\\t\\t\\tto 106 EUR\\n  MICHELIN guide inspectors   \n",
       "7146  \\n\\t\\t\\tFrom 80 EUR\\n\\t\\t\\tto 185 EUR\\n  MICHELIN guide inspectors   \n",
       "7147  \\n\\t\\t\\tFrom 56 EUR\\n\\t\\t\\tto 108 EUR\\n  MICHELIN guide inspectors   \n",
       "7148   \\n\\t\\t\\tFrom 43 EUR\\n\\t\\t\\tto 65 EUR\\n  MICHELIN guide inspectors   \n",
       "7149   \\n\\t\\t\\tFrom 33 EUR\\n\\t\\t\\tto 64 EUR\\n  MICHELIN guide inspectors   \n",
       "\n",
       "                                            distinction       standing  \\\n",
       "7140                    [[star], [star], [standing-19]]  [standing-18]   \n",
       "7141            [[assiette], [assiette], [standing-20]]  [standing-12]   \n",
       "7142  [[star], [star], [star], [star], [star], [star...  [standing-20]   \n",
       "7143                    [[star], [star], [standing-19]]  [standing-19]   \n",
       "7144                                    [[standing-12]]  [standing-18]   \n",
       "7145                    [[star], [star], [standing-18]]  [standing-12]   \n",
       "7146            [[assiette], [assiette], [standing-12]]  [standing-12]   \n",
       "7147            [[assiette], [assiette], [standing-14]]  [standing-13]   \n",
       "7148                                    [[standing-12]]  [standing-12]   \n",
       "7149                    [[star], [star], [standing-19]]  [standing-12]   \n",
       "\n",
       "                  photo                                           add_info  \n",
       "7140    \\nPhotos (12)\\n  [\\nMeal prices\\n\\nLunch 54 €, Menu 75/115 € - ...  \n",
       "7141   \\nPhotos (2)\\n\\n  [\\nMeal prices\\n\\nMenu 75/135 € - Carte 80/110...  \n",
       "7142  \\nPhoto (1)\\n\\n\\n  [\\nMeal prices\\n\\nLunch 85 €, Menu 155/310 € -...  \n",
       "7143   \\nPhotos (2)\\n\\n  [\\nMeal prices\\n\\nMenu 38 € (weekday lunch), 8...  \n",
       "7144   \\nPhotos (5)\\n\\n  [\\nMeal prices\\n\\nMenu 20 € (lunch)/48 € - Car...  \n",
       "7145  \\nPhoto (1)\\n\\n\\n  [\\nMeal prices\\n\\nMenu 36 € (lunch)/66 € - Car...  \n",
       "7146   \\nPhotos (5)\\n\\n  [\\nMeal prices\\n\\nMenu 35/47 € - Carte 52/64 €...  \n",
       "7147    \\nPhotos (11)\\n  [\\nMeal prices\\n\\nMenu 40 € (weekday lunch), 6...  \n",
       "7148   \\nPhotos (4)\\n\\n  [\\nMeal prices\\n\\nMenu 56/85 €\\n\\n, \\nGood to ...  \n",
       "7149   \\nPhotos (2)\\n\\n  [\\nMeal prices\\n\\nMenu 80/138 €\\n\\n, \\nGood to...  "
      ]
     },
     "execution_count": 67,
     "metadata": {},
     "output_type": "execute_result"
    }
   ],
   "source": [
    "mich.loc[7140:7149]"
   ]
  },
  {
   "cell_type": "code",
   "execution_count": null,
   "metadata": {
    "collapsed": false
   },
   "outputs": [],
   "source": [
    "#big_soup_pt1 = cPickle.load(open('big_soup_pt1.p', 'rb'))"
   ]
  },
  {
   "cell_type": "markdown",
   "metadata": {},
   "source": [
    "Scrape and organize data using restaurantify() on list of site paths:"
   ]
  },
  {
   "cell_type": "code",
   "execution_count": null,
   "metadata": {
    "collapsed": true
   },
   "outputs": [],
   "source": [
    "restaurantify(nice_soup)\n",
    "nice_soup.to_csv('michelin.csv', encoding='utf-8')"
   ]
  },
  {
   "cell_type": "code",
   "execution_count": null,
   "metadata": {
    "collapsed": false,
    "scrolled": true
   },
   "outputs": [],
   "source": []
  },
  {
   "cell_type": "code",
   "execution_count": null,
   "metadata": {
    "collapsed": true
   },
   "outputs": [],
   "source": []
  },
  {
   "cell_type": "code",
   "execution_count": null,
   "metadata": {
    "collapsed": true
   },
   "outputs": [],
   "source": []
  },
  {
   "cell_type": "code",
   "execution_count": 176,
   "metadata": {
    "collapsed": false
   },
   "outputs": [],
   "source": [
    "mich = pd.read_csv('/Users/Rebecca/DSI-projects/projects/capstone/michelin.csv')\n",
    "\n",
    "columns = ['name', 'address', 'cuisine', 'price', 'blurb', 'author', 'distinction', 'standing', 'photos', 'add_info']\n",
    "\n",
    "mich = mich[columns]"
   ]
  },
  {
   "cell_type": "code",
   "execution_count": 177,
   "metadata": {
    "collapsed": false
   },
   "outputs": [
    {
     "data": {
      "text/plain": [
       "name        object\n",
       "address     object\n",
       "cuisine     object\n",
       "price       object\n",
       "blurb       object\n",
       "author      object\n",
       "award       object\n",
       "rank        object\n",
       "photos      object\n",
       "add_info    object\n",
       "dtype: object"
      ]
     },
     "execution_count": 177,
     "metadata": {},
     "output_type": "execute_result"
    }
   ],
   "source": [
    "mich.dtypes"
   ]
  },
  {
   "cell_type": "code",
   "execution_count": null,
   "metadata": {
    "collapsed": false
   },
   "outputs": [],
   "source": [
    "mich.head(2)"
   ]
  },
  {
   "cell_type": "code",
   "execution_count": null,
   "metadata": {
    "collapsed": true
   },
   "outputs": [],
   "source": [
    "mich['author'].value_counts()"
   ]
  },
  {
   "cell_type": "code",
   "execution_count": null,
   "metadata": {
    "collapsed": true
   },
   "outputs": [],
   "source": [
    "def get_name(df):\n",
    "    df['name'] = df['name'].apply(lambda x: x.replace('\\n\\t', ''))\n",
    "    df['name'] = df['name'].apply(lambda x: x.replace('\\n', ''))\n",
    "    return df\n",
    "\n",
    "def clean_cuisine(df):\n",
    "    test_mich['cuisine'] = test_mich['cuisine'].apply(lambda x: x.replace('|', ' '))\n",
    "    test_mich['cuisine'] = test_mich['cuisine'].apply(lambda x: x.replace('Cuisine', ''))\n",
    "    test_mich['cuisine'] = test_mich['cuisine'].apply(lambda x: x.replace('cuisine', ''))\n",
    "    return df\n",
    "\n",
    "def split_price(df):\n",
    "    df['price'] = df['price'].apply(lambda x: x.replace('\\n\\t\\t\\tFrom ', ''))\n",
    "    df['price'] = df['price'].apply(lambda x: x.replace('\\n\\t\\t\\t', ' '))\n",
    "    df['price'] = df['price'].apply(lambda x: x.replace('\\n', ''))\n",
    "    low_price = []\n",
    "    high_price = []\n",
    "    anything = []\n",
    "    for pricerange in df['price']:\n",
    "        pricerange = pricerange.split(' to ')\n",
    "        low_price.append(pricerange[0])\n",
    "        high_price.append(pricerange[1])\n",
    "        if len(address) > 2:\n",
    "            anything.append(pricerange[2])\n",
    "    df['low_price'] = low_price        \n",
    "    df['high_price'] = high_price\n",
    "    if len(anything) == 0:\n",
    "        print 'All addresses split correctly by comma!'\n",
    "        del df['price']\n",
    "    else: \n",
    "        print 'We have a problem!  Not all addresses split correctly by comma!'\n",
    "    return df\n",
    "\n",
    "def split_address(df):\n",
    "    street_address = []\n",
    "    general_location = []\n",
    "    anything = []\n",
    "    for address in df['address']:\n",
    "        address = address.split(',')\n",
    "        street_address.append(address[0])\n",
    "        general_location.append(address[1])\n",
    "        if len(address) > 2:\n",
    "            anything.append(address[2])\n",
    "    df['street_address'] = street_address\n",
    "    df['general_location'] = general_location\n",
    "    if len(anything) == 0:\n",
    "        print 'All addresses split correctly by comma!'\n",
    "        del df['address']\n",
    "    else:\n",
    "        print 'We have a problem!  Not all addresses split correctly by comma!'\n",
    "    return df\n",
    "\n",
    "def clean_blurb(df):\n",
    "    df['blurb'] = df['blurb'].apply(lambda x: x.replace('\\n\\nMICHELIN Guide\\n\\n\\t\\t\\t', ''))\n",
    "    return df\n",
    "\n",
    "def get_standing(df):\n",
    "    df['standing'] = df['standing'].apply(lambda x: x.replace('[\\'standing-', ''))\n",
    "    df['standing'] = df['standing'].apply(lambda x: x.replace('\\']', ''))\n",
    "    return df\n",
    "\n",
    "def get_distinction(df):\n",
    "    df['distinction'] = df['distinction'].apply(lambda x: x.replace('[\\'', ''))\n",
    "    df['distinction'] = df['distinction'].apply(lambda x: x.replace('\\']', ''))\n",
    "    return df\n",
    "\n",
    "def get_photos(df):\n",
    "    df['photos'] = df['photos'].apply(lambda x: x.replace('\\nPhoto (', ''))\n",
    "    df['photos'] = df['photos'].apply(lambda x: x.replace('\\nPhotos (', ''))\n",
    "    test_mich['photos'] = test_mich['photos'].apply(lambda x: x.replace(')', ''))\n",
    "    test_mich['photos'] = test_mich['photos'].apply(lambda x: int(x.replace('\\n', '')))\n",
    "    return df\n",
    "\n",
    "def get_where(df):\n",
    "    location = []\n",
    "    location_info = []\n",
    "    lat_lon = []\n",
    "    geolocator = Nominatim()\n",
    "    for street in df['street_address']:\n",
    "        location = geolocator.geocode(street)\n",
    "        location.append(location.address)\n",
    "        location_info.append(location.raw)\n",
    "        lat_lon.append('(' + str(location.latitude) + ', ' + str(location.longitude) + ')')\n",
    "    df['location'] = location\n",
    "    df['lat_lon'] = lat_lon\n",
    "    df['location_info'] = location_info\n",
    "    return df\n",
    "\n",
    "def how_far_to_people(df):\n",
    "    nearest_people = []\n",
    "    for i in range(len(df['town'])):\n",
    "        eat = df['lat_lon'][i]\n",
    "        people = df[''][i]\n",
    "        too_far = great_circle(eat, people).kilometers\n",
    "        nearest_people.append(too_far)\n",
    "    df['nearest_people'] = nearest_people\n",
    "    return df\n",
    "\n",
    "def split_blurb(df):\n",
    "    blurb = []\n",
    "    not_blurb = []\n",
    "    for bigblurb in df['blurb']:\n",
    "        \n",
    "    df['blurb'] = blurb\n",
    "    return df\n",
    "\n",
    "def blurb_count(df):\n",
    "    word_count = []\n",
    "    for i in df['blurb']:\n",
    "        x = i.split(' ')\n",
    "        count = len(x)\n",
    "        word_count.append(count)\n",
    "    df['word_count'] = word_count\n",
    "    return df\n",
    "\n",
    "def get_range(df):\n",
    "    price_range = []\n",
    "    for i in range(len(df)):\n",
    "        pricerange = df['high_price'][i] - df['low_price'][i]\n",
    "        price_range.append(pricerange)\n",
    "    df['price_range'] = price_range\n",
    "    return df"
   ]
  },
  {
   "cell_type": "code",
   "execution_count": 179,
   "metadata": {
    "collapsed": false
   },
   "outputs": [],
   "source": [
    "def get_where(df):\n",
    "    location = []\n",
    "    location_info = []\n",
    "    lat_lon = []\n",
    "    geolocator = Nominatim()\n",
    "    for street in df['street_address']:\n",
    "        location = geolocator.geocode(street)\n",
    "        location.append(location.address)\n",
    "        location_info.append(location.raw)\n",
    "        lat_lon.append('(' + str(location.latitude) + ', ' + str(location.longitude) + ')')\n",
    "    df['location'] = location\n",
    "    df['lat_lon'] = lat_lon\n",
    "    df['location_info'] = location_info\n",
    "    return df"
   ]
  },
  {
   "cell_type": "code",
   "execution_count": null,
   "metadata": {
    "collapsed": true
   },
   "outputs": [],
   "source": []
  },
  {
   "cell_type": "code",
   "execution_count": 10,
   "metadata": {
    "collapsed": false
   },
   "outputs": [],
   "source": [
    "#####  TESTING CELL\n",
    "\n",
    "pre_request = requests.get('http://www.viamichelin.com/' + '')\n",
    "pre_soup = BeautifulSoup(pre_request.content, 'lxml')\n",
    "\n",
    "mess_list = []\n",
    "for mess in pre_soup.find_all('div', class_ = 'datasheet-item'):\n",
    "    print type(mess)\n",
    "#    mess_list.append(mess[0].text.encode('utf8'))"
   ]
  },
  {
   "cell_type": "code",
   "execution_count": 17,
   "metadata": {
    "collapsed": false
   },
   "outputs": [],
   "source": [
    "test_mich = restaurantify(test_paths)"
   ]
  },
  {
   "cell_type": "code",
   "execution_count": 18,
   "metadata": {
    "collapsed": false
   },
   "outputs": [
    {
     "data": {
      "text/html": [
       "<div>\n",
       "<table border=\"1\" class=\"dataframe\">\n",
       "  <thead>\n",
       "    <tr style=\"text-align: right;\">\n",
       "      <th></th>\n",
       "      <th>little_mess</th>\n",
       "      <th>cuisine</th>\n",
       "      <th>price</th>\n",
       "      <th>blurb</th>\n",
       "      <th>author</th>\n",
       "      <th>distinction</th>\n",
       "      <th>standing</th>\n",
       "      <th>photos</th>\n",
       "      <th>add_info</th>\n",
       "    </tr>\n",
       "  </thead>\n",
       "  <tbody>\n",
       "  </tbody>\n",
       "</table>\n",
       "</div>"
      ],
      "text/plain": [
       "Empty DataFrame\n",
       "Columns: [little_mess, cuisine, price, blurb, author, distinction, standing, photos, add_info]\n",
       "Index: []"
      ]
     },
     "execution_count": 18,
     "metadata": {},
     "output_type": "execute_result"
    }
   ],
   "source": [
    "test_mich.head(2)"
   ]
  },
  {
   "cell_type": "code",
   "execution_count": 19,
   "metadata": {
    "collapsed": false
   },
   "outputs": [
    {
     "data": {
      "text/plain": [
       "0    /web/Restaurant/Penmarch-29760-Sterenn-12822-4...\n",
       "1    /web/Restaurant/Saint_Jean_Cap_Ferrat-06230-Le...\n",
       "2    /web/Restaurant/Saint_Jean_Cap_Ferrat-06230-La...\n",
       "3    /web/Restaurant/St_Jean_du_Bruel-12230-Midi_Pa...\n",
       "4    /web/Restaurant/Saint_Jean_Pied_de_Port-64220-...\n",
       "5    /web/Restaurant/Saint_Laurent_de_Mure-69720-Ch...\n",
       "6    /web/Restaurant/Saint_Leonard_de_Noblat-87400-...\n",
       "7    /web/Restaurant/St_Malo-35400-La_Grassinais-12...\n",
       "8    /web/Restaurant/Tilques-62500-Chateau_Tilques-...\n",
       "9    /web/Restaurant/Saint_Pons-07580-Hostellerie_G...\n",
       "Name: 0, dtype: object"
      ]
     },
     "execution_count": 19,
     "metadata": {},
     "output_type": "execute_result"
    }
   ],
   "source": [
    "test_paths"
   ]
  },
  {
   "cell_type": "code",
   "execution_count": 11,
   "metadata": {
    "collapsed": false
   },
   "outputs": [
    {
     "data": {
      "text/plain": [
       "Location((47.7982044, -4.37276110875, 0.0))"
      ]
     },
     "execution_count": 11,
     "metadata": {},
     "output_type": "execute_result"
    }
   ],
   "source": [
    "geolocator = Nominatim()\n",
    "location = geolocator.geocode('Route d\\'Eckmuhl')\n",
    "location"
   ]
  },
  {
   "cell_type": "code",
   "execution_count": 27,
   "metadata": {
    "collapsed": false
   },
   "outputs": [
    {
     "name": "stdout",
     "output_type": "stream",
     "text": [
      "\n",
      "\tLe Cap\n",
      "\n",
      "\n",
      "\n"
     ]
    }
   ],
   "source": [
    "URL = 'http://www.viamichelin.com'\n",
    "little_mess = []\n",
    "for i in test_paths:\n",
    "    tiny_request = requests.get(URL + i)\n",
    "    if str(tiny_request) != '<Response [200]>':\n",
    "        print tiny_request\n",
    "    tiny_soup = BeautifulSoup(tiny_request.content, \"lxml\")\n",
    "    for mess in tiny_soup.find_all('div', class_ = 'datasheet-item'):\n",
    "            little_mess.append(str(mess.text.encode('utf8')))\n",
    "print little_mess[3]\n",
    "print '\\n'"
   ]
  },
  {
   "cell_type": "code",
   "execution_count": 19,
   "metadata": {
    "collapsed": false
   },
   "outputs": [
    {
     "name": "stdout",
     "output_type": "stream",
     "text": [
      "100000 loops, best of 3: 3.22 µs per loop\n"
     ]
    }
   ],
   "source": [
    "def add(x, y):\n",
    "    z = x + y\n",
    "    return z\n",
    "%timeit for i in range(10): add(10, 5)\n"
   ]
  },
  {
   "cell_type": "code",
   "execution_count": null,
   "metadata": {
    "collapsed": true
   },
   "outputs": [],
   "source": [
    "big_soup = []\n",
    "no_soup = []\n",
    "for i in paths:\n",
    "    time.sleep(1)\n",
    "    tiny_request = requests.get(URL + i)\n",
    "    if str(tiny_request) != '<Response [200]>':\n",
    "        print URL + i\n",
    "        no_soup.append(i)\n",
    "    tiny_soup = BeautifulSoup(tiny_request.content, \"lxml\")\n",
    "    big_soup.append(tiny_soup)\n",
    "big_soup.to_csv('big_soup.csv', encoding='utf-8')"
   ]
  },
  {
   "cell_type": "markdown",
   "metadata": {},
   "source": [
    "Stream documents from disk and into a processed corpus:"
   ]
  },
  {
   "cell_type": "code",
   "execution_count": null,
   "metadata": {
    "collapsed": true
   },
   "outputs": [],
   "source": [
    "docs = textacy.corpora.fetch_bernie_and_hillary()\n",
    "content_stream, metadata_stream = textacy.fileio.split_content_and_metadata(docs, 'text', itemwise=False)\n",
    "corpus = textacy.TextCorpus.from_texts('en', content_stream, metadata_stream, n_threads=2)\n",
    "print(corpus)"
   ]
  },
  {
   "cell_type": "markdown",
   "metadata": {},
   "source": [
    "Represent corpus as a document-term matrix, with flexible weighting and filtering:"
   ]
  },
  {
   "cell_type": "code",
   "execution_count": null,
   "metadata": {
    "collapsed": true
   },
   "outputs": [],
   "source": [
    "doc_term_matrix, id2term = corpus.as_doc_term_matrix((doc.as_terms_list(words=True, ngrams=False, named_entities=True)\\ \n",
    "                                for doc in corpus), weighting='tfidf', normalize=True, smooth_idf=True, min_df=2,\\\n",
    "                                    max_df=0.95)\n",
    "print(repr(doc_term_matrix))"
   ]
  },
  {
   "cell_type": "markdown",
   "metadata": {},
   "source": [
    "Train and interpret a topic model:"
   ]
  },
  {
   "cell_type": "code",
   "execution_count": null,
   "metadata": {
    "collapsed": true
   },
   "outputs": [],
   "source": [
    "model = textacy.tm.TopicModel('nmf', n_topics=10)\n",
    "model.fit(doc_term_matrix)\n",
    "doc_topic_matrix = model.transform(doc_term_matrix)\n",
    "print(doc_topic_matrix.shape)\n",
    "for topic_idx, top_terms in model.top_topic_terms(id2term, top_n=10):\n",
    "    print('topic', topic_idx, ':', '   '.join(top_terms))"
   ]
  },
  {
   "cell_type": "markdown",
   "metadata": {},
   "source": [
    "Indexing, selection of documents in corpus:"
   ]
  },
  {
   "cell_type": "code",
   "execution_count": null,
   "metadata": {
    "collapsed": true
   },
   "outputs": [],
   "source": [
    "bernie_docs = list(corpus.get_docs(lambda doc: doc.metadata['speaker'] == 'Bernard Sanders'))\n",
    "print(len(bernie_docs))\n",
    "doc = corpus[-1]\n",
    "print(doc)"
   ]
  },
  {
   "cell_type": "markdown",
   "metadata": {},
   "source": [
    "Preprocess plain text, or highlight particular terms in it:"
   ]
  },
  {
   "cell_type": "code",
   "execution_count": null,
   "metadata": {
    "collapsed": true
   },
   "outputs": [],
   "source": [
    "textacy.preprocess_text(doc.text, lowercase=True, no_punct=True)[:70]\n",
    "textacy.text_utils.keyword_in_context(doc.text, 'nation', window_width=35)"
   ]
  },
  {
   "cell_type": "code",
   "execution_count": null,
   "metadata": {
    "collapsed": true
   },
   "outputs": [],
   "source": []
  },
  {
   "cell_type": "code",
   "execution_count": null,
   "metadata": {
    "collapsed": true
   },
   "outputs": [],
   "source": [
    "if \n",
    "for rest_name in tiny_soup.findAll('div', class_ = 'datasheet-item datasheet-name'):\n",
    "            name.append(rest_name.text)"
   ]
  }
 ],
 "metadata": {
  "kernelspec": {
   "display_name": "Python 2",
   "language": "python",
   "name": "python2"
  },
  "language_info": {
   "codemirror_mode": {
    "name": "ipython",
    "version": 2
   },
   "file_extension": ".py",
   "mimetype": "text/x-python",
   "name": "python",
   "nbconvert_exporter": "python",
   "pygments_lexer": "ipython2",
   "version": "2.7.12"
  }
 },
 "nbformat": 4,
 "nbformat_minor": 0
}
