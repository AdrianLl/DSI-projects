{
 "cells": [
  {
   "cell_type": "code",
   "execution_count": 1,
   "metadata": {
    "collapsed": true
   },
   "outputs": [],
   "source": [
    "import requests\n",
    "import bs4\n",
    "from bs4 import BeautifulSoup\n",
    "import pandas as pd\n",
    "import re\n",
    "from geopy.geocoders import Nominatim\n",
    "from geopy.distance import great_circle\n",
    "import time\n",
    "import timeit\n",
    "from IPython.core.display import Image\n",
    "import numpy as np\n",
    "from matplotlib import pyplot as plt\n",
    "import cPickle\n",
    "\n",
    "% matplotlib inline\n",
    "\n",
    "#import textacy\n",
    "#import Levenshtein"
   ]
  },
  {
   "cell_type": "code",
   "execution_count": 2,
   "metadata": {
    "collapsed": false
   },
   "outputs": [
    {
     "name": "stdout",
     "output_type": "stream",
     "text": [
      "/web/Restaurant/Penmarch-29760-Sterenn-12822-41102\n",
      "/web/Restaurant/Saint_Jean_Cap_Ferrat-06230-Le_Cap-12838-41102\n",
      "/web/Restaurant/Saint_Jean_Cap_Ferrat-06230-La_Voile_d_Or-12839-41102\n",
      "/web/Restaurant/St_Jean_du_Bruel-12230-Midi_Papillon-12855-41102\n",
      "/web/Restaurant/Saint_Jean_Pied_de_Port-64220-Les_Pyrenees-12858-41102\n",
      "/web/Restaurant/Saint_Laurent_de_Mure-69720-Christian_Lavault-12878-41102\n",
      "/web/Restaurant/Saint_Leonard_de_Noblat-87400-Le_Relais_St_Jacques-12885-41102\n",
      "/web/Restaurant/St_Malo-35400-La_Grassinais-12895-41102\n",
      "/web/Restaurant/Tilques-62500-Chateau_Tilques-12915-41102\n",
      "/web/Restaurant/Saint_Pons-07580-Hostellerie_Gourmande_Mere_Biquette-12938-41102\n"
     ]
    }
   ],
   "source": [
    "URL = 'http://www.viamichelin.com'\n",
    "paths = pd.read_csv('/Users/Rebecca/DSI-projects/projects/capstone/assets/michelin_paths.csv')\n",
    "paths = paths['0']\n",
    "paths.reset_index(drop = True)\n",
    "paths.columns = ['path']\n",
    "\n",
    "test_paths = paths[0:10]\n",
    "\n",
    "for i in test_paths:\n",
    "    print i"
   ]
  },
  {
   "cell_type": "code",
   "execution_count": 3,
   "metadata": {
    "collapsed": true
   },
   "outputs": [],
   "source": [
    "lil_soup = []\n",
    "for i in test_paths:\n",
    "    time.sleep(1)\n",
    "    requestlet = requests.get(URL + i)\n",
    "    if str(requestlet) != '<Response [200]>':\n",
    "        print URL + i\n",
    "    souplet = BeautifulSoup(requestlet.content, \"lxml\")\n",
    "    lil_soup.append(souplet)"
   ]
  },
  {
   "cell_type": "code",
   "execution_count": 20,
   "metadata": {
    "collapsed": false
   },
   "outputs": [],
   "source": [
    "def restaurantify(list_soup):\n",
    "    \n",
    "    '''This function creates a dataframe with restaurant observations and columns containing relevant information.'''\n",
    "    \n",
    "    name = []\n",
    "    address = []\n",
    "    cuisine = []\n",
    "    blurb = []\n",
    "    price = []\n",
    "    author = []\n",
    "    distinction = []\n",
    "    standing = []\n",
    "    photo = []\n",
    "    add_info = []\n",
    "\n",
    "\n",
    "    for tiny_soup in list_soup:\n",
    "        \n",
    "        if tiny_soup.findAll('div', class_ = 'datasheet-item datasheet-name') is None:\n",
    "            name.append('empty')\n",
    "            continue\n",
    "        else:\n",
    "            for rest_name in tiny_soup.findAll('div', class_ = 'datasheet-item datasheet-name'):\n",
    "                name.append(rest_name.text)\n",
    "        \n",
    "        if tiny_soup.findAll('div', class_ = 'datasheet-item') is None:\n",
    "            address.append('empty')\n",
    "            continue\n",
    "        else:    \n",
    "            addresses = []\n",
    "            for rest_address in tiny_soup.findAll('div', class_ = 'datasheet-item'):\n",
    "                addresses.append(rest_address.text)\n",
    "            address.append(addresses[1])\n",
    "        \n",
    "        if tiny_soup.findAll('div', class_ = 'datasheet-cooking-type') is None:\n",
    "            cuisine.append('empty')\n",
    "            continue\n",
    "        else:\n",
    "            for rest_cuisine in tiny_soup.findAll('div', class_ = 'datasheet-cooking-type'):\n",
    "                cuisine.append(rest_cuisine.text)\n",
    "        \n",
    "        if tiny_soup.findAll('div', class_ = 'datasheet-description') is None:\n",
    "            blurb.append('empty')\n",
    "            continue\n",
    "        else:\n",
    "            for rest_blurb in tiny_soup.findAll('div', class_ = 'datasheet-description'):\n",
    "                for j in rest_blurb.find_all('blockquote'):\n",
    "                    blurb.append(j.text)\n",
    "        \n",
    "        if tiny_soup.findAll('div', class_ = 'datasheet-price') is None:\n",
    "            price.append('empty')\n",
    "            continue\n",
    "        else:\n",
    "            for rest_price in tiny_soup.findAll('div', class_ = 'datasheet-price'):\n",
    "                price.append(rest_price.text)\n",
    "    \n",
    "        if tiny_soup.findAll('p', class_ = 'michelin-guide-inspectors') is None:\n",
    "            author.append('empty')\n",
    "            continue\n",
    "        else:\n",
    "            for rest_author in tiny_soup.findAll('p', class_ = 'michelin-guide-inspectors'):\n",
    "                author.append(rest_author.text)\n",
    "        \n",
    "        if tiny_soup.findAll('div', class_ = 'poi-item-stars') is None:\n",
    "            distinction.append('empty')\n",
    "            continue\n",
    "        else:\n",
    "            distinctions = []\n",
    "            for rest_distinction in tiny_soup.findAll('div', class_ = 'poi-item-stars'):\n",
    "                for j in rest_distinction.find_all('span'):\n",
    "                    distinctions.append(j['class'])\n",
    "            distinction.append(distinctions)\n",
    "        \n",
    "        if tiny_soup.findAll('span', class_=re.compile('standing')) is None:\n",
    "            standing.append('empty')\n",
    "            continue\n",
    "        else:\n",
    "            for rest_standing_raw in tiny_soup.findAll('span', class_=re.compile('standing')):\n",
    "                rest_standing = rest_standing_raw['class']\n",
    "                standing.append(rest_standing)\n",
    "        \n",
    "        if tiny_soup.findAll('div', class_ = 'datasheet-more-info datasheet-photo clearfx') is None:\n",
    "            photo.append('empty')\n",
    "            continue\n",
    "        else:\n",
    "            for rest_photo in tiny_soup.findAll('div', class_ = 'datasheet-more-info datasheet-photo clearfx'):\n",
    "                photo.append(rest_photo.text[0:13])\n",
    "        if tiny_soup.findAll('div', class_ = 'datasheet-more-info clearfx') is None:\n",
    "            info.append('empty')\n",
    "            continue\n",
    "        else:\n",
    "            infos = []\n",
    "            for rest_add_info in tiny_soup.findAll('div', class_ = 'datasheet-more-info clearfx'):\n",
    "                infos.append(rest_add_info.text)\n",
    "            add_info.append(infos)\n",
    "        \n",
    "    df = pd.DataFrame(zip(name, address, cuisine, blurb, price, author, distinction, standing, photo, add_info),\\\n",
    "                        columns = ['name', 'address', 'cuisine', 'blurb', 'price', 'author', 'distinction', \\\n",
    "                                   'standing', 'photo', 'add_info']) \n",
    "    print len(df)\n",
    "    print 'name: %s' %len(name)\n",
    "    print 'address: %s' %len(address)\n",
    "    print 'cuisine: %s' %len(cuisine)\n",
    "    print 'blurb: %s' %len(blurb)\n",
    "    print 'price: %s' %len(price)\n",
    "    print 'author: %s' %len(author)\n",
    "    print 'distinction: %s' %len(distinction)\n",
    "    print 'standing: %s' %len(standing)\n",
    "    print 'photo: %s' %len(photo)\n",
    "    print 'add_info: %s' %len(add_info)\n",
    "    return df"
   ]
  },
  {
   "cell_type": "code",
   "execution_count": null,
   "metadata": {
    "collapsed": false
   },
   "outputs": [],
   "source": []
  },
  {
   "cell_type": "code",
   "execution_count": null,
   "metadata": {
    "collapsed": true
   },
   "outputs": [],
   "source": []
  },
  {
   "cell_type": "code",
   "execution_count": 9,
   "metadata": {
    "collapsed": false
   },
   "outputs": [],
   "source": [
    "def get_name(list_soup):\n",
    "    name = []\n",
    "    for tiny_soup in list_soup:\n",
    "        names = []\n",
    "        for rest_name in tiny_soup.findAll('div', class_ = 'datasheet-item datasheet-name'):\n",
    "            names.append(rest_name.text)\n",
    "        name.append(names) \n",
    "    return name\n",
    "\n",
    "def get_address(list_soup):\n",
    "    address = []\n",
    "    for tiny_soup in list_soup:\n",
    "        addresses = []\n",
    "        for rest_address in tiny_soup.findAll('div', class_ = 'datasheet-item'):\n",
    "            addresses.append(rest_na.text)\n",
    "        "
   ]
  }
 ],
 "metadata": {
  "kernelspec": {
   "display_name": "Python 2",
   "language": "python",
   "name": "python2"
  },
  "language_info": {
   "codemirror_mode": {
    "name": "ipython",
    "version": 2
   },
   "file_extension": ".py",
   "mimetype": "text/x-python",
   "name": "python",
   "nbconvert_exporter": "python",
   "pygments_lexer": "ipython2",
   "version": "2.7.12"
  }
 },
 "nbformat": 4,
 "nbformat_minor": 0
}
