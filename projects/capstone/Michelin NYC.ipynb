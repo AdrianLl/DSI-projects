{
 "cells": [
  {
   "cell_type": "code",
   "execution_count": 7,
   "metadata": {
    "collapsed": true
   },
   "outputs": [],
   "source": [
    "import requests\n",
    "import bs4\n",
    "from bs4 import BeautifulSoup\n",
    "import pandas as pd\n",
    "import re\n",
    "from geopy.geocoders import Nominatim\n",
    "from geopy.distance import great_circle\n",
    "import time\n",
    "import timeit\n",
    "from IPython.core.display import Image\n",
    "import numpy as np\n",
    "from matplotlib import pyplot as plt\n",
    "import cPickle\n",
    "\n",
    "% matplotlib inline"
   ]
  },
  {
   "cell_type": "code",
   "execution_count": 8,
   "metadata": {
    "collapsed": false
   },
   "outputs": [],
   "source": [
    "URL = 'http://www.viamichelin.com/web/Restaurants/'\n",
    "NYC_path = 'Restaurants-New_York-_-New_York-United_States?strLocid=31NG9zOXAxMGNOREF1TnpFek1EVT1jTFRjMExqQXdOekl6&page='\n",
    "\n",
    "paths = []\n",
    "for page in range(2,37):\n",
    "    pre_NYC = requests.get(URL + NYC_path + str(page))\n",
    "    pre_NYC_soup = BeautifulSoup(pre_NYC.content, \"lxml\")\n",
    "    for restaurant in pre_NYC_soup.find_all('a', href=re.compile('/web/Restaurant/New_York-')):\n",
    "        path = restaurant[\"href\"]\n",
    "        paths.append(path)\n",
    "\n",
    "paths_NYC = pd.DataFrame(paths)\n",
    "paths_NYC.columns = ['path']\n",
    "paths_NYC.to_csv('assets/paths_NYC.csv', encoding='utf-8')"
   ]
  },
  {
   "cell_type": "code",
   "execution_count": 9,
   "metadata": {
    "collapsed": false
   },
   "outputs": [
    {
     "data": {
      "text/plain": [
       "591"
      ]
     },
     "execution_count": 9,
     "metadata": {},
     "output_type": "execute_result"
    }
   ],
   "source": [
    "len(paths_NYC)"
   ]
  },
  {
   "cell_type": "code",
   "execution_count": 10,
   "metadata": {
    "collapsed": false
   },
   "outputs": [
    {
     "data": {
      "text/html": [
       "<div>\n",
       "<table border=\"1\" class=\"dataframe\">\n",
       "  <thead>\n",
       "    <tr style=\"text-align: right;\">\n",
       "      <th></th>\n",
       "      <th>path</th>\n",
       "    </tr>\n",
       "  </thead>\n",
       "  <tbody>\n",
       "    <tr>\n",
       "      <th>0</th>\n",
       "      <td>/web/Restaurant/New_York-10013-Macao_Trading_C...</td>\n",
       "    </tr>\n",
       "    <tr>\n",
       "      <th>1</th>\n",
       "      <td>/web/Restaurant/New_York-10013-Xe_Lua-260079-4...</td>\n",
       "    </tr>\n",
       "    <tr>\n",
       "      <th>2</th>\n",
       "      <td>/web/Restaurant/New_York-10013-Locanda_Verde-2...</td>\n",
       "    </tr>\n",
       "    <tr>\n",
       "      <th>3</th>\n",
       "      <td>/web/Restaurant/New_York-10038-Dim_Sum_Go_Go-6...</td>\n",
       "    </tr>\n",
       "    <tr>\n",
       "      <th>4</th>\n",
       "      <td>/web/Restaurant/New_York-10038-Trading_Post-40...</td>\n",
       "    </tr>\n",
       "  </tbody>\n",
       "</table>\n",
       "</div>"
      ],
      "text/plain": [
       "                                                path\n",
       "0  /web/Restaurant/New_York-10013-Macao_Trading_C...\n",
       "1  /web/Restaurant/New_York-10013-Xe_Lua-260079-4...\n",
       "2  /web/Restaurant/New_York-10013-Locanda_Verde-2...\n",
       "3  /web/Restaurant/New_York-10038-Dim_Sum_Go_Go-6...\n",
       "4  /web/Restaurant/New_York-10038-Trading_Post-40..."
      ]
     },
     "execution_count": 10,
     "metadata": {},
     "output_type": "execute_result"
    }
   ],
   "source": [
    "paths_NYC.head()"
   ]
  },
  {
   "cell_type": "code",
   "execution_count": 12,
   "metadata": {
    "collapsed": false
   },
   "outputs": [],
   "source": [
    "soup_NYC = []\n",
    "for i in paths_NYC:\n",
    "    tiny_request = requests.get('http://www.viamichelin.com' + i)\n",
    "    time.sleep(2)\n",
    "    if str(tiny_request) != '<Response [200]>':\n",
    "        print URL + i\n",
    "    tiny_soup = BeautifulSoup(tiny_request.content, \"lxml\")\n",
    "    soup_NYC.append(tiny_soup)"
   ]
  },
  {
   "cell_type": "code",
   "execution_count": null,
   "metadata": {
    "collapsed": true
   },
   "outputs": [],
   "source": []
  }
 ],
 "metadata": {
  "kernelspec": {
   "display_name": "Python 2",
   "language": "python",
   "name": "python2"
  },
  "language_info": {
   "codemirror_mode": {
    "name": "ipython",
    "version": 2
   },
   "file_extension": ".py",
   "mimetype": "text/x-python",
   "name": "python",
   "nbconvert_exporter": "python",
   "pygments_lexer": "ipython2",
   "version": "2.7.12"
  }
 },
 "nbformat": 4,
 "nbformat_minor": 0
}
