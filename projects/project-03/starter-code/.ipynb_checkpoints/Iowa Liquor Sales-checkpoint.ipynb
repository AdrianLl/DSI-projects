{
 "cells": [
  {
   "cell_type": "markdown",
   "metadata": {},
   "source": [
    "#### Scenario 1: State tax board\n",
    "\n",
    "You are a data scientist in residence at the Iowa State tax board. The Iowa State legislature is considering changes in the liquor tax rates and wants a report of current liquor sales by county and projections for the rest of the year.  (Download data from: [the Iowa website](https://data.iowa.gov/Economy/Iowa-Liquor-Sales/m3tr-qhgy))\n",
    "\n",
    "**Goal for Scenario #1:** \n",
    "\n",
    "* Calculate the yearly liquor sales for each store using the provided data. You can add up the transactions for each year, and store sales in 2015 specifically will be used later as your target variable (it may help to use a groupby or pivot table, since you'll use this table to build your model).\n",
    "* Use the data from 2015 to make a linear model using as many variables as you find useful to predict the yearly sales of each store. You must use the sales from Jan to March per store as one of your variables.\n",
    "* Use your model for 2015 to estimate total sales for each store in 2016, extrapolating from the sales so far for Jan-March of 2016.\n",
    "* Report your findings, including any projected increase or decrease in total sales (over the entire state) for the tax committee of the Iowa legislature.\n",
    "* Use cross-validation to check how your model predicts to held out data compared to the model metrics on the full dataset.\n",
    "* _Challenging Bonus_: We did not cover the topics of regularization for linear regression this week, but those feeling bold can try to use and understand regularizing linear regressions. This will require self-guided research/reading and scikit-learn functions that we have not gone over in class! Use cross-validation to tune the regularization parameter that maximizes R^2 on your holdout sets for the Ridge regression and the Lasso Regression. Do the regularized models perform better than the non-regularized model? Which regularized model performs better? What is the Ridge regression doing? What is the Lasso doing."
   ]
  },
  {
   "cell_type": "code",
   "execution_count": 1,
   "metadata": {
    "collapsed": false
   },
   "outputs": [],
   "source": [
    "import pandas as pd\n",
    "import plotly as py\n",
    "% matplotlib inline\n",
    "\n",
    "from matplotlib import pyplot as plt\n",
    "# Make the plots bigger\n",
    "plt.rcParams['figure.figsize'] = 10, 10\n",
    "import seaborn as sns\n",
    "\n",
    "import numpy as np\n",
    "from sklearn import linear_model"
   ]
  },
  {
   "cell_type": "code",
   "execution_count": 2,
   "metadata": {
    "collapsed": true
   },
   "outputs": [],
   "source": [
    "sales_orig = pd.read_csv(\"/Users/Rebecca/DSI-projects/projects/project-03/Iowa_Liquor_sales_sample_10pct.csv\")\n",
    "sales = sales_orig.copy() # keep original just in case"
   ]
  },
  {
   "cell_type": "code",
   "execution_count": 3,
   "metadata": {
    "collapsed": false
   },
   "outputs": [
    {
     "data": {
      "text/html": [
       "<div>\n",
       "<table border=\"1\" class=\"dataframe\">\n",
       "  <thead>\n",
       "    <tr style=\"text-align: right;\">\n",
       "      <th></th>\n",
       "      <th>Date</th>\n",
       "      <th>Store Number</th>\n",
       "      <th>City</th>\n",
       "      <th>Zip Code</th>\n",
       "      <th>County Number</th>\n",
       "      <th>County</th>\n",
       "      <th>Category</th>\n",
       "      <th>Category Name</th>\n",
       "      <th>Vendor Number</th>\n",
       "      <th>Item Number</th>\n",
       "      <th>Item Description</th>\n",
       "      <th>Bottle Volume (ml)</th>\n",
       "      <th>State Bottle Cost</th>\n",
       "      <th>State Bottle Retail</th>\n",
       "      <th>Bottles Sold</th>\n",
       "      <th>Sale (Dollars)</th>\n",
       "      <th>Volume Sold (Liters)</th>\n",
       "      <th>Volume Sold (Gallons)</th>\n",
       "    </tr>\n",
       "  </thead>\n",
       "  <tbody>\n",
       "    <tr>\n",
       "      <th>0</th>\n",
       "      <td>11/04/2015</td>\n",
       "      <td>3717</td>\n",
       "      <td>SUMNER</td>\n",
       "      <td>50674</td>\n",
       "      <td>9.0</td>\n",
       "      <td>Bremer</td>\n",
       "      <td>1051100.0</td>\n",
       "      <td>APRICOT BRANDIES</td>\n",
       "      <td>55</td>\n",
       "      <td>54436</td>\n",
       "      <td>Mr. Boston Apricot Brandy</td>\n",
       "      <td>750</td>\n",
       "      <td>$4.50</td>\n",
       "      <td>$6.75</td>\n",
       "      <td>12</td>\n",
       "      <td>$81.00</td>\n",
       "      <td>9.0</td>\n",
       "      <td>2.38</td>\n",
       "    </tr>\n",
       "  </tbody>\n",
       "</table>\n",
       "</div>"
      ],
      "text/plain": [
       "         Date  Store Number    City Zip Code  County Number  County  \\\n",
       "0  11/04/2015          3717  SUMNER    50674            9.0  Bremer   \n",
       "\n",
       "    Category     Category Name  Vendor Number  Item Number  \\\n",
       "0  1051100.0  APRICOT BRANDIES             55        54436   \n",
       "\n",
       "            Item Description  Bottle Volume (ml) State Bottle Cost  \\\n",
       "0  Mr. Boston Apricot Brandy                 750             $4.50   \n",
       "\n",
       "  State Bottle Retail  Bottles Sold Sale (Dollars)  Volume Sold (Liters)  \\\n",
       "0               $6.75            12         $81.00                   9.0   \n",
       "\n",
       "   Volume Sold (Gallons)  \n",
       "0                   2.38  "
      ]
     },
     "execution_count": 3,
     "metadata": {},
     "output_type": "execute_result"
    }
   ],
   "source": [
    "sales.head(1)"
   ]
  },
  {
   "cell_type": "code",
   "execution_count": 4,
   "metadata": {
    "collapsed": false
   },
   "outputs": [
    {
     "data": {
      "text/plain": [
       "Date                      object\n",
       "Store Number               int64\n",
       "City                      object\n",
       "Zip Code                  object\n",
       "County Number            float64\n",
       "County                    object\n",
       "Category                 float64\n",
       "Category Name             object\n",
       "Vendor Number              int64\n",
       "Item Number                int64\n",
       "Item Description          object\n",
       "Bottle Volume (ml)         int64\n",
       "State Bottle Cost         object\n",
       "State Bottle Retail       object\n",
       "Bottles Sold               int64\n",
       "Sale (Dollars)            object\n",
       "Volume Sold (Liters)     float64\n",
       "Volume Sold (Gallons)    float64\n",
       "dtype: object"
      ]
     },
     "execution_count": 4,
     "metadata": {},
     "output_type": "execute_result"
    }
   ],
   "source": [
    "sales.dtypes"
   ]
  },
  {
   "cell_type": "code",
   "execution_count": 5,
   "metadata": {
    "collapsed": false
   },
   "outputs": [],
   "source": [
    "# convert 'Date' column to datetime format\n",
    "\n",
    "sales['Date'] = pd.to_datetime(sales['Date'], infer_datetime_format = True)"
   ]
  },
  {
   "cell_type": "code",
   "execution_count": 6,
   "metadata": {
    "collapsed": false
   },
   "outputs": [],
   "source": [
    "del sales['County Number'] # let's just keep ZIP code; these geographical columns contain a lot of same information\n",
    "del sales['County'] # same\n",
    "del sales['City'] # same\n",
    "del sales['Category']  # let's use 'Category Name' instead \n",
    "del sales['Item Number']  # we'll just stick with category data, this is very specific\n",
    "del sales['Item Description'] # same\n",
    "del sales['Volume Sold (Gallons)'] # no one wants gallons\n",
    "del sales['Volume Sold (Liters)'] # can be calculated from other columns -- so can 'Sale (Dollars)' but it's our target"
   ]
  },
  {
   "cell_type": "code",
   "execution_count": 7,
   "metadata": {
    "collapsed": false
   },
   "outputs": [],
   "source": [
    "# change dollar-value columns to floats\n",
    "\n",
    "sales['State Bottle Cost'] = sales['State Bottle Cost'].apply(lambda x: float(x.replace('$', '')))\n",
    "sales['State Bottle Retail'] = sales['State Bottle Retail'].apply(lambda x: float(x.replace('$', '')))\n",
    "sales['Sale (Dollars)'] = sales['Sale (Dollars)'].apply(lambda x: float(x.replace('$', '')))"
   ]
  },
  {
   "cell_type": "code",
   "execution_count": 8,
   "metadata": {
    "collapsed": false
   },
   "outputs": [],
   "source": [
    "# rename columns \n",
    "\n",
    "sales.rename(columns={'Category Name':'category'}, inplace=True)\n",
    "sales.rename(columns={'Bottle Volume (ml)':'volume'}, inplace=True) # this remails in mL units (no label)\n",
    "sales.rename(columns={'Store Number':'store'}, inplace=True)\n",
    "sales.rename(columns={'Date':'date'}, inplace=True)\n",
    "sales.rename(columns={'Zip Code':'ZIP'}, inplace=True)\n",
    "sales.rename(columns={'State Bottle Cost':'cost'}, inplace=True)\n",
    "sales.rename(columns={'State Bottle Retail':'retail'}, inplace=True)\n",
    "sales.rename(columns={'Vendor Number':'vendorID'}, inplace=True)\n",
    "sales.rename(columns={'Bottles Sold':'number_sold'}, inplace=True)\n",
    "sales.rename(columns={'Sale (Dollars)':'total_sale'}, inplace=True)"
   ]
  },
  {
   "cell_type": "code",
   "execution_count": 9,
   "metadata": {
    "collapsed": true
   },
   "outputs": [],
   "source": [
    "# fix remaining data types that still do not look right\n",
    "\n",
    "sales['store'] = sales['store'].apply(lambda x: str(x))\n",
    "sales['vendorID'] = sales['vendorID'].apply(lambda x: str(x))\n",
    "sales['volume'] = sales['volume'].apply(lambda x: float(x))\n",
    "sales['number_sold'] = sales['number_sold'].apply(lambda x: float(x))"
   ]
  },
  {
   "cell_type": "code",
   "execution_count": 10,
   "metadata": {
    "collapsed": false
   },
   "outputs": [
    {
     "data": {
      "text/plain": [
       "date           datetime64[ns]\n",
       "store                  object\n",
       "ZIP                    object\n",
       "category               object\n",
       "vendorID               object\n",
       "volume                float64\n",
       "cost                  float64\n",
       "retail                float64\n",
       "number_sold           float64\n",
       "total_sale            float64\n",
       "dtype: object"
      ]
     },
     "execution_count": 10,
     "metadata": {},
     "output_type": "execute_result"
    }
   ],
   "source": [
    "sales.dtypes"
   ]
  },
  {
   "cell_type": "code",
   "execution_count": 11,
   "metadata": {
    "collapsed": false
   },
   "outputs": [
    {
     "name": "stdout",
     "output_type": "stream",
     "text": [
      "Number of unique...\n",
      "Observations:    270955\n",
      "Stores:          1400\n",
      "ZIP codes:       415\n",
      "Item categories: 72\n",
      "Vendors:         116\n",
      "Bottle volumes:  29\n"
     ]
    }
   ],
   "source": [
    "print 'Number of unique...'\n",
    "print 'Observations:    %s' %len(sales)\n",
    "print 'Stores:          %s' %len(sales['store'].unique())\n",
    "print 'ZIP codes:       %s' %len(sales['ZIP'].unique())\n",
    "print 'Item categories: %s' %len(sales['category'].unique())\n",
    "print 'Vendors:         %s' %len(sales['vendorID'].unique())\n",
    "print 'Bottle volumes:  %s' %len(sales['volume'].unique())"
   ]
  },
  {
   "cell_type": "code",
   "execution_count": 12,
   "metadata": {
    "collapsed": false
   },
   "outputs": [
    {
     "data": {
      "text/plain": [
       "72"
      ]
     },
     "execution_count": 12,
     "metadata": {},
     "output_type": "execute_result"
    }
   ],
   "source": [
    "len(sales['category'].unique())"
   ]
  },
  {
   "cell_type": "code",
   "execution_count": 14,
   "metadata": {
    "collapsed": false
   },
   "outputs": [],
   "source": [
    "# that's a lot of categories!  let's have a look and try to consolidate some of them\n",
    "\n",
    "sales['category'].value_counts()"
   ]
  },
  {
   "cell_type": "code",
   "execution_count": 13,
   "metadata": {
    "collapsed": true
   },
   "outputs": [],
   "source": [
    "# consolidating...\n",
    "\n",
    "sales['category'] = sales['category'].apply(lambda x: str(x))\n",
    "sales['category'] = sales['category'].apply(lambda x: x.replace('VODKA 80 PROOF', 'VODKA'))\n",
    "sales['category'] = sales['category'].apply(lambda x: x.replace('CANADIAN WHISKIES', 'WHISKEY'))\n",
    "sales['category'] = sales['category'].apply(lambda x: x.replace('STRAIGHT BOURBON WHISKIES', 'BOURBON'))\n",
    "sales['category'] = sales['category'].apply(lambda x: x.replace('VODKA FLAVORED', 'VODKA'))\n",
    "sales['category'] = sales['category'].apply(lambda x: x.replace('BLENDED WHISKIES', 'WHISKEY'))\n",
    "sales['category'] = sales['category'].apply(lambda x: x.replace('WHISKEY LIQUEUR', 'CORDIAL & LIQUEUR'))\n",
    "sales['category'] = sales['category'].apply(lambda x: x.replace('PUERTO RICO & VIRGIN ISLANDS RUM', 'RUM'))\n",
    "sales['category'] = sales['category'].apply(lambda x: x.replace('FLAVORED RUM', 'RUM'))\n",
    "sales['category'] = sales['category'].apply(lambda x: x.replace('TENNESSEE WHISKIES', 'WHISKEY'))\n",
    "sales['category'] = sales['category'].apply(lambda x: x.replace('SPICED RUM', 'RUM'))\n",
    "sales['category'] = sales['category'].apply(lambda x: x.replace('AMERICAN GRAPE BRANDIES', 'BRANDY'))\n",
    "sales['category'] = sales['category'].apply(lambda x: x.replace('AMERICAN DRY GINS', 'GIN'))\n",
    "sales['category'] = sales['category'].apply(lambda x: x.replace('IMPORTED VODKA - MISC', 'IMPORTED VODKA'))\n",
    "sales['category'] = sales['category'].apply(lambda x: x.replace('MISC. IMPORTED CORDIALS & LIQUEURS', 'IMPORTED CORDIAL & LIQUEUR'))\n",
    "sales['category'] = sales['category'].apply(lambda x: x.replace('CREAM LIQUEURS', 'CORDIAL & LIQUEUR'))\n",
    "sales['category'] = sales['category'].apply(lambda x: x.replace('SCOTCH WHISKIES', 'WHISKEY'))\n",
    "sales['category'] = sales['category'].apply(lambda x: x.replace('IMPORTED GRAPE BRANDIES', 'IMPORTED BRANDY'))\n",
    "sales['category'] = sales['category'].apply(lambda x: x.replace('MISC. AMERICAN CORDIALS & LIQUEURS', 'CORDIAL & LIQUEUR'))\n",
    "sales['category'] = sales['category'].apply(lambda x: x.replace('100 PROOF VODKA ', 'VODKA'))\n",
    "sales['category'] = sales['category'].apply(lambda x: x.replace('IMPORTED DRY GINS', 'IMPORTED GIN'))\n",
    "sales['category'] = sales['category'].apply(lambda x: x.replace('IRISH WHISKIES', 'IMPORTED WHISKEY'))\n",
    "sales['category'] = sales['category'].apply(lambda x: x.replace('WATERMELON SCHNAPPS', 'SCHNAPPS'))\n",
    "sales['category'] = sales['category'].apply(lambda x: x.replace('BARBADOS RUM', 'IMPORTED RUM'))\n",
    "sales['category'] = sales['category'].apply(lambda x: x.replace('JAMAICA RUM', 'IMPORTED RUM'))\n",
    "sales['category'] = sales['category'].apply(lambda x: x.replace('GRAPE SCHNAPPS', 'SCHNAPPS'))\n",
    "sales['category'] = sales['category'].apply(lambda x: x.replace('CHERRY BRANDIES', 'BRANDY'))\n",
    "sales['category'] = sales['category'].apply(lambda x: x.replace('ROOT BEER SCHNAPPS', 'SCHNAPPS'))\n",
    "sales['category'] = sales['category'].apply(lambda x: x.replace('RASPBERRY SCHNAPPS', 'SCHNAPPS'))\n",
    "sales['category'] = sales['category'].apply(lambda x: x.replace('COFFEE LIQUEURS', 'CORDIAL & LIQUEUR'))\n",
    "sales['category'] = sales['category'].apply(lambda x: x.replace('PEACH SCHNAPPS', 'SCHNAPPS'))\n",
    "sales['category'] = sales['category'].apply(lambda x: x.replace('BLACKBERRY BRANDIES', 'BRANDY'))\n",
    "sales['category'] = sales['category'].apply(lambda x: x.replace('IMPORTED AMARETTO', 'IMPORTED CORDIAL & LIQUEUR'))\n",
    "sales['category'] = sales['category'].apply(lambda x: x.replace('GREEN CREME DE MENTHE', 'CORDIAL & LIQUEUR'))\n",
    "sales['category'] = sales['category'].apply(lambda x: x.replace('FLAVORED GINS', 'GIN'))\n",
    "sales['category'] = sales['category'].apply(lambda x: x.replace('TROPICAL FRUIT SCHNAPPS', 'SCHNAPPS'))\n",
    "sales['category'] = sales['category'].apply(lambda x: x.replace('WHITE CREME DE CACAO', 'CORDIAL & LIQUEUR'))\n",
    "sales['category'] = sales['category'].apply(lambda x: x.replace('DARK CREME DE CACAO', 'CORDIAL & LIQUEUR'))\n",
    "sales['category'] = sales['category'].apply(lambda x: x.replace('BOTTLED IN BOND BOURBON', 'BOURBON'))\n",
    "sales['category'] = sales['category'].apply(lambda x: x.replace('SINGLE BARREL BOURBON WHISKIES', 'BOURBON'))\n",
    "sales['category'] = sales['category'].apply(lambda x: x.replace('AMERICAN SLOE GINS', 'GIN'))\n",
    "sales['category'] = sales['category'].apply(lambda x: x.replace('MISCELLANEOUS  BRANDIES', 'BRANDY'))\n",
    "sales['category'] = sales['category'].apply(lambda x: x.replace('SPEARMINT SCHNAPPS', 'SCHNAPPS'))\n",
    "sales['category'] = sales['category'].apply(lambda x: x.replace('ROCK & RYE', 'WHISKEY'))\n",
    "sales['category'] = sales['category'].apply(lambda x: x.replace('WHITE CREME DE MENTHE', 'CORDIAL & LIQUEUR'))\n",
    "sales['category'] = sales['category'].apply(lambda x: x.replace('CREME DE ALMOND', 'CORDIAL & LIQUEUR'))\n",
    "sales['category'] = sales['category'].apply(lambda x: x.replace('ANISETTE', 'CORDIAL & LIQUEUR'))\n",
    "sales['category'] = sales['category'].apply(lambda x: x.replace('JAPANESE WHISKY', 'IMPORTED VODKA'))\n",
    "sales['category'] = sales['category'].apply(lambda x: x.replace('LOW PROOF VODKA', 'VODKA'))\n",
    "sales['category'] = sales['category'].apply(lambda x: x.replace('CORN WHISKIES', 'WHISKEY'))\n",
    "sales['category'] = sales['category'].apply(lambda x: x.replace('AMARETTO - IMPORTED', 'IMPORTED CORDIAL & LIQUEUR'))\n",
    "sales['category'] = sales['category'].apply(lambda x: x.replace('HIGH PROOF BEER - AMERICAN', 'BEER'))\n",
    "sales['category'] = sales['category'].apply(lambda x: x.replace('CINNAMON SCHNAPPS', 'SCHNAPPS'))\n",
    "sales['category'] = sales['category'].apply(lambda x: x.replace('APPLE SCHNAPPS', 'SCHNAPPS'))\n",
    "sales['category'] = sales['category'].apply(lambda x: x.replace('TRIPLE SEC', 'CORDIAL & LIQUEUR'))\n",
    "sales['category'] = sales['category'].apply(lambda x: x.replace('BUTTERSCOTCH SCHNAPPS', 'SCHNAPPS'))\n",
    "sales['category'] = sales['category'].apply(lambda x: x.replace('MISCELLANEOUS SCHNAPPS', 'SCHNAPPS'))\n",
    "sales['category'] = sales['category'].apply(lambda x: x.replace('100 PROOF VODKA', 'VODKA'))\n",
    "sales['category'] = sales['category'].apply(lambda x: x.replace('PEPPERMINT SCHNAPPS', 'SCHNAPPS'))\n",
    "sales['category'] = sales['category'].apply(lambda x: x.replace('AMERICAN AMARETTO', 'CORDIAL & LIQUEUR'))\n",
    "sales['category'] = sales['category'].apply(lambda x: x.replace('APRICOT BRANDIES', 'BRANDY'))\n",
    "sales['category'] = sales['category'].apply(lambda x: x.replace('PEACH BRANDIES', 'BRANDY'))\n",
    "sales['category'] = sales['category'].apply(lambda x: x.replace('STRAWBERRY SCHNAPPS', 'SCHNAPPS'))\n",
    "sales['category'] = sales['category'].apply(lambda x: x.replace('OTHER PROOF VODKA', 'VODKA'))\n",
    "sales['category'] = sales['category'].apply(lambda x: x.replace('MISCELLANEOUS SCHNAPPS', 'SCHNAPPS'))\n",
    "sales['category'] = sales['category'].apply(lambda x: x.replace('STRAIGHT RYE WHISKIES', 'WHISKEY'))"
   ]
  },
  {
   "cell_type": "code",
   "execution_count": 17,
   "metadata": {
    "collapsed": false
   },
   "outputs": [],
   "source": [
    "sales['category'].value_counts()"
   ]
  },
  {
   "cell_type": "code",
   "execution_count": 14,
   "metadata": {
    "collapsed": true
   },
   "outputs": [],
   "source": [
    "# delete rows with 'nan' entry in category column:\n",
    "\n",
    "sales = sales[sales.category != 'nan']"
   ]
  },
  {
   "cell_type": "code",
   "execution_count": 15,
   "metadata": {
    "collapsed": false
   },
   "outputs": [
    {
     "data": {
      "text/plain": [
       "VODKA                             52771\n",
       "WHISKEY                           52576\n",
       "RUM                               31975\n",
       "CORDIAL & LIQUEUR                 25841\n",
       "IMPORTED VODKA                    17197\n",
       "BOURBON                           15851\n",
       "TEQUILA                           12109\n",
       "BRANDY                            10430\n",
       "SCHNAPPS                          10315\n",
       "GIN                                6978\n",
       "AMERICAN COCKTAILS                 6929\n",
       "IMPORTED CORDIAL & LIQUEUR         6578\n",
       "IMPORTED BRANDY                    4614\n",
       "IMPORTED SCHNAPPS                  4249\n",
       "IMPORTED GIN                       2939\n",
       "IMPORTED WHISKEY                   2791\n",
       "SINGLE MALT SCOTCH                 2288\n",
       "DISTILLED SPIRITS SPECIALTY        1380\n",
       "DECANTERS & SPECIALTY PACKAGES     1159\n",
       "IMPORTED RUM                        778\n",
       "AMERICAN ALCOHOL                    573\n",
       "BEER                                  2\n",
       "Name: category, dtype: int64"
      ]
     },
     "execution_count": 15,
     "metadata": {},
     "output_type": "execute_result"
    }
   ],
   "source": [
    "sales['category'].value_counts()"
   ]
  },
  {
   "cell_type": "code",
   "execution_count": 16,
   "metadata": {
    "collapsed": false
   },
   "outputs": [
    {
     "data": {
      "text/plain": [
       "22"
      ]
     },
     "execution_count": 16,
     "metadata": {},
     "output_type": "execute_result"
    }
   ],
   "source": [
    "len(sales['category'].unique())  # much better!  this will probably turn into a dummy variable"
   ]
  },
  {
   "cell_type": "code",
   "execution_count": 17,
   "metadata": {
    "collapsed": false
   },
   "outputs": [
    {
     "data": {
      "text/html": [
       "<div>\n",
       "<table border=\"1\" class=\"dataframe\">\n",
       "  <thead>\n",
       "    <tr style=\"text-align: right;\">\n",
       "      <th></th>\n",
       "      <th>date</th>\n",
       "      <th>store</th>\n",
       "      <th>ZIP</th>\n",
       "      <th>category</th>\n",
       "      <th>vendorID</th>\n",
       "      <th>volume</th>\n",
       "      <th>cost</th>\n",
       "      <th>retail</th>\n",
       "      <th>number_sold</th>\n",
       "      <th>total_sale</th>\n",
       "    </tr>\n",
       "  </thead>\n",
       "  <tbody>\n",
       "    <tr>\n",
       "      <th>0</th>\n",
       "      <td>2015-11-04</td>\n",
       "      <td>3717</td>\n",
       "      <td>50674</td>\n",
       "      <td>BRANDY</td>\n",
       "      <td>55</td>\n",
       "      <td>750.0</td>\n",
       "      <td>4.5</td>\n",
       "      <td>6.75</td>\n",
       "      <td>12.0</td>\n",
       "      <td>81.0</td>\n",
       "    </tr>\n",
       "  </tbody>\n",
       "</table>\n",
       "</div>"
      ],
      "text/plain": [
       "        date store    ZIP category vendorID  volume  cost  retail  \\\n",
       "0 2015-11-04  3717  50674   BRANDY       55   750.0   4.5    6.75   \n",
       "\n",
       "   number_sold  total_sale  \n",
       "0         12.0        81.0  "
      ]
     },
     "execution_count": 17,
     "metadata": {},
     "output_type": "execute_result"
    }
   ],
   "source": [
    "sales.head(1)"
   ]
  },
  {
   "cell_type": "code",
   "execution_count": 18,
   "metadata": {
    "collapsed": false
   },
   "outputs": [
    {
     "data": {
      "text/plain": [
       "1400"
      ]
     },
     "execution_count": 18,
     "metadata": {},
     "output_type": "execute_result"
    }
   ],
   "source": [
    "len(sales['store'].unique()) # THIS WILL BE OUR KEY!  it is not currently acting as key because there are \\\n",
    "                                #multiple date entries per store"
   ]
  },
  {
   "cell_type": "code",
   "execution_count": 19,
   "metadata": {
    "collapsed": false
   },
   "outputs": [
    {
     "data": {
      "text/plain": [
       "415"
      ]
     },
     "execution_count": 19,
     "metadata": {},
     "output_type": "execute_result"
    }
   ],
   "source": [
    "len(sales['ZIP'].unique()) # dummy?"
   ]
  },
  {
   "cell_type": "code",
   "execution_count": 20,
   "metadata": {
    "collapsed": false
   },
   "outputs": [
    {
     "data": {
      "text/plain": [
       "115"
      ]
     },
     "execution_count": 20,
     "metadata": {},
     "output_type": "execute_result"
    }
   ],
   "source": [
    "len(sales['vendorID'].unique()) # dummy?"
   ]
  },
  {
   "cell_type": "code",
   "execution_count": 36,
   "metadata": {
    "collapsed": false
   },
   "outputs": [],
   "source": [
    "sales['volume'].value_counts()"
   ]
  },
  {
   "cell_type": "code",
   "execution_count": 21,
   "metadata": {
    "collapsed": false
   },
   "outputs": [],
   "source": [
    "# a couple of these look fishy, let's adjust by a few mLs:\n",
    "\n",
    "sales['volume'] = sales['volume'].apply(lambda x: str(x))\n",
    "sales['volume'] = sales['volume'].apply(lambda x: x.replace('603.0', '600.0'))\n",
    "sales['volume'] = sales['volume'].apply(lambda x: x.replace('502.0', '500.0'))\n",
    "sales['volume'] = sales['volume'].apply(lambda x: float(x))"
   ]
  },
  {
   "cell_type": "code",
   "execution_count": 46,
   "metadata": {
    "collapsed": false
   },
   "outputs": [],
   "source": [
    "sales['volume'].value_counts()"
   ]
  },
  {
   "cell_type": "code",
   "execution_count": 22,
   "metadata": {
    "collapsed": false
   },
   "outputs": [
    {
     "data": {
      "image/png": "[encoded data removed]",
      "text/plain": [
       "<matplotlib.figure.Figure at 0x11cd9cbd0>"
      ]
     },
     "metadata": {},
     "output_type": "display_data"
    }
   ],
   "source": [
    "plt.figure(figsize=(12,8))\n",
    "plt.style.use('fivethirtyeight')\n",
    "\n",
    "df_hist = plt.hist(sales['volume']/1000, color = 'darkred', bins = 20)\n",
    "\n",
    "plt.title('Histogram of Bottle Volume', fontsize = 24)\n",
    "\n",
    "# y label\n",
    "plt.ylabel('Number of Bottles')\n",
    "\n",
    "# x label\n",
    "plt.xlabel('Volume (L)')\n",
    "\n",
    "plt.xlim([-0.1,6.1])\n",
    "plt.ylim([-200,130000])\n",
    "\n",
    "plt.show()"
   ]
  },
  {
   "cell_type": "markdown",
   "metadata": {},
   "source": [
    "We can see from the histogram that the vast majority of bottles sold are below 2L in volume.  The most frequently purchased volume is 0.750L."
   ]
  },
  {
   "cell_type": "code",
   "execution_count": 23,
   "metadata": {
    "collapsed": false
   },
   "outputs": [
    {
     "data": {
      "image/png": "[encoded data removed]",
      "text/plain": [
       "<matplotlib.figure.Figure at 0x104d52e90>"
      ]
     },
     "metadata": {},
     "output_type": "display_data"
    }
   ],
   "source": [
    "plt.figure(figsize=(12,8))\n",
    "\n",
    "plt.style.use('fivethirtyeight')\n",
    "\n",
    "plt.scatter(sales['volume']/1000, sales['number_sold'], color = 'green')\n",
    "\n",
    "plt.title('Sales by Bottle Volume (one dot per store, per volume)', fontsize = 24)\n",
    "\n",
    "# y label\n",
    "plt.ylabel('Number of Bottles Sold')\n",
    "\n",
    "# x label\n",
    "plt.xlabel('Volume (L)')\n",
    "\n",
    "plt.xlim([-0.1,6.1])\n",
    "plt.ylim([-200,2700])\n",
    "\n",
    "plt.show()"
   ]
  },
  {
   "cell_type": "markdown",
   "metadata": {},
   "source": [
    "From the scatterplot, we see that some stores are selling way, way more bottles at a given volume that other stores.  A scatter would be useful here to see relative density of plotted points where it looks like they're stacking up.  (To note, there were some exceedingly large-volumed items which appear to have dropped out of the data set during cleaning.)"
   ]
  },
  {
   "cell_type": "code",
   "execution_count": 24,
   "metadata": {
    "collapsed": false,
    "scrolled": true
   },
   "outputs": [
    {
     "data": {
      "text/html": [
       "<div>\n",
       "<table border=\"1\" class=\"dataframe\">\n",
       "  <thead>\n",
       "    <tr style=\"text-align: right;\">\n",
       "      <th></th>\n",
       "      <th>date</th>\n",
       "      <th>store</th>\n",
       "      <th>ZIP</th>\n",
       "      <th>category</th>\n",
       "      <th>vendorID</th>\n",
       "      <th>volume</th>\n",
       "      <th>cost</th>\n",
       "      <th>retail</th>\n",
       "      <th>number_sold</th>\n",
       "      <th>total_sale</th>\n",
       "    </tr>\n",
       "  </thead>\n",
       "  <tbody>\n",
       "    <tr>\n",
       "      <th>2570</th>\n",
       "      <td>2015-10-08</td>\n",
       "      <td>2587</td>\n",
       "      <td>50131</td>\n",
       "      <td>IMPORTED WHISKEY</td>\n",
       "      <td>65</td>\n",
       "      <td>4800.0</td>\n",
       "      <td>71.04</td>\n",
       "      <td>106.56</td>\n",
       "      <td>1.0</td>\n",
       "      <td>106.56</td>\n",
       "    </tr>\n",
       "    <tr>\n",
       "      <th>38630</th>\n",
       "      <td>2015-12-22</td>\n",
       "      <td>2500</td>\n",
       "      <td>50010</td>\n",
       "      <td>IMPORTED WHISKEY</td>\n",
       "      <td>65</td>\n",
       "      <td>4800.0</td>\n",
       "      <td>71.04</td>\n",
       "      <td>106.56</td>\n",
       "      <td>1.0</td>\n",
       "      <td>106.56</td>\n",
       "    </tr>\n",
       "    <tr>\n",
       "      <th>56706</th>\n",
       "      <td>2015-01-05</td>\n",
       "      <td>2636</td>\n",
       "      <td>50317</td>\n",
       "      <td>IMPORTED WHISKEY</td>\n",
       "      <td>65</td>\n",
       "      <td>4800.0</td>\n",
       "      <td>45.12</td>\n",
       "      <td>67.68</td>\n",
       "      <td>1.0</td>\n",
       "      <td>67.68</td>\n",
       "    </tr>\n",
       "    <tr>\n",
       "      <th>60585</th>\n",
       "      <td>2015-11-04</td>\n",
       "      <td>3987</td>\n",
       "      <td>50511</td>\n",
       "      <td>CORDIAL &amp; LIQUEUR</td>\n",
       "      <td>305</td>\n",
       "      <td>6000.0</td>\n",
       "      <td>99.00</td>\n",
       "      <td>148.50</td>\n",
       "      <td>1.0</td>\n",
       "      <td>148.50</td>\n",
       "    </tr>\n",
       "    <tr>\n",
       "      <th>63818</th>\n",
       "      <td>2015-05-22</td>\n",
       "      <td>2636</td>\n",
       "      <td>50317</td>\n",
       "      <td>IMPORTED WHISKEY</td>\n",
       "      <td>65</td>\n",
       "      <td>4800.0</td>\n",
       "      <td>45.12</td>\n",
       "      <td>67.68</td>\n",
       "      <td>1.0</td>\n",
       "      <td>67.68</td>\n",
       "    </tr>\n",
       "    <tr>\n",
       "      <th>71636</th>\n",
       "      <td>2016-02-25</td>\n",
       "      <td>5106</td>\n",
       "      <td>52742</td>\n",
       "      <td>CORDIAL &amp; LIQUEUR</td>\n",
       "      <td>305</td>\n",
       "      <td>6000.0</td>\n",
       "      <td>99.00</td>\n",
       "      <td>148.50</td>\n",
       "      <td>1.0</td>\n",
       "      <td>148.50</td>\n",
       "    </tr>\n",
       "    <tr>\n",
       "      <th>74088</th>\n",
       "      <td>2015-02-04</td>\n",
       "      <td>2500</td>\n",
       "      <td>50010</td>\n",
       "      <td>CORDIAL &amp; LIQUEUR</td>\n",
       "      <td>308</td>\n",
       "      <td>4500.0</td>\n",
       "      <td>68.94</td>\n",
       "      <td>103.41</td>\n",
       "      <td>1.0</td>\n",
       "      <td>103.41</td>\n",
       "    </tr>\n",
       "    <tr>\n",
       "      <th>114946</th>\n",
       "      <td>2015-07-28</td>\n",
       "      <td>4819</td>\n",
       "      <td>50009</td>\n",
       "      <td>IMPORTED WHISKEY</td>\n",
       "      <td>65</td>\n",
       "      <td>4800.0</td>\n",
       "      <td>45.12</td>\n",
       "      <td>67.68</td>\n",
       "      <td>3.0</td>\n",
       "      <td>203.04</td>\n",
       "    </tr>\n",
       "    <tr>\n",
       "      <th>121877</th>\n",
       "      <td>2015-12-23</td>\n",
       "      <td>5093</td>\n",
       "      <td>52753</td>\n",
       "      <td>CORDIAL &amp; LIQUEUR</td>\n",
       "      <td>305</td>\n",
       "      <td>6000.0</td>\n",
       "      <td>99.00</td>\n",
       "      <td>148.50</td>\n",
       "      <td>1.0</td>\n",
       "      <td>148.50</td>\n",
       "    </tr>\n",
       "    <tr>\n",
       "      <th>141875</th>\n",
       "      <td>2015-01-07</td>\n",
       "      <td>2603</td>\n",
       "      <td>52722</td>\n",
       "      <td>IMPORTED WHISKEY</td>\n",
       "      <td>65</td>\n",
       "      <td>4800.0</td>\n",
       "      <td>45.12</td>\n",
       "      <td>67.68</td>\n",
       "      <td>1.0</td>\n",
       "      <td>67.68</td>\n",
       "    </tr>\n",
       "    <tr>\n",
       "      <th>157333</th>\n",
       "      <td>2016-01-27</td>\n",
       "      <td>2502</td>\n",
       "      <td>50021</td>\n",
       "      <td>CORDIAL &amp; LIQUEUR</td>\n",
       "      <td>305</td>\n",
       "      <td>6000.0</td>\n",
       "      <td>99.00</td>\n",
       "      <td>148.50</td>\n",
       "      <td>1.0</td>\n",
       "      <td>148.50</td>\n",
       "    </tr>\n",
       "    <tr>\n",
       "      <th>158273</th>\n",
       "      <td>2015-03-09</td>\n",
       "      <td>2549</td>\n",
       "      <td>50125</td>\n",
       "      <td>IMPORTED WHISKEY</td>\n",
       "      <td>65</td>\n",
       "      <td>4800.0</td>\n",
       "      <td>45.12</td>\n",
       "      <td>67.68</td>\n",
       "      <td>1.0</td>\n",
       "      <td>67.68</td>\n",
       "    </tr>\n",
       "    <tr>\n",
       "      <th>163211</th>\n",
       "      <td>2015-06-24</td>\n",
       "      <td>2614</td>\n",
       "      <td>52807</td>\n",
       "      <td>IMPORTED WHISKEY</td>\n",
       "      <td>65</td>\n",
       "      <td>4800.0</td>\n",
       "      <td>45.12</td>\n",
       "      <td>67.68</td>\n",
       "      <td>1.0</td>\n",
       "      <td>67.68</td>\n",
       "    </tr>\n",
       "    <tr>\n",
       "      <th>187835</th>\n",
       "      <td>2015-11-18</td>\n",
       "      <td>2622</td>\n",
       "      <td>52240</td>\n",
       "      <td>CORDIAL &amp; LIQUEUR</td>\n",
       "      <td>305</td>\n",
       "      <td>6000.0</td>\n",
       "      <td>99.00</td>\n",
       "      <td>148.50</td>\n",
       "      <td>1.0</td>\n",
       "      <td>148.50</td>\n",
       "    </tr>\n",
       "    <tr>\n",
       "      <th>197079</th>\n",
       "      <td>2015-05-20</td>\n",
       "      <td>2670</td>\n",
       "      <td>52241</td>\n",
       "      <td>IMPORTED WHISKEY</td>\n",
       "      <td>65</td>\n",
       "      <td>4800.0</td>\n",
       "      <td>45.12</td>\n",
       "      <td>67.68</td>\n",
       "      <td>1.0</td>\n",
       "      <td>67.68</td>\n",
       "    </tr>\n",
       "    <tr>\n",
       "      <th>203021</th>\n",
       "      <td>2015-12-28</td>\n",
       "      <td>2556</td>\n",
       "      <td>51334</td>\n",
       "      <td>CORDIAL &amp; LIQUEUR</td>\n",
       "      <td>305</td>\n",
       "      <td>6000.0</td>\n",
       "      <td>99.00</td>\n",
       "      <td>148.50</td>\n",
       "      <td>1.0</td>\n",
       "      <td>148.50</td>\n",
       "    </tr>\n",
       "    <tr>\n",
       "      <th>203127</th>\n",
       "      <td>2015-10-12</td>\n",
       "      <td>2653</td>\n",
       "      <td>52353</td>\n",
       "      <td>IMPORTED WHISKEY</td>\n",
       "      <td>65</td>\n",
       "      <td>4800.0</td>\n",
       "      <td>71.04</td>\n",
       "      <td>106.56</td>\n",
       "      <td>1.0</td>\n",
       "      <td>106.56</td>\n",
       "    </tr>\n",
       "    <tr>\n",
       "      <th>205400</th>\n",
       "      <td>2015-01-22</td>\n",
       "      <td>5034</td>\n",
       "      <td>50401</td>\n",
       "      <td>IMPORTED WHISKEY</td>\n",
       "      <td>65</td>\n",
       "      <td>4800.0</td>\n",
       "      <td>45.12</td>\n",
       "      <td>67.68</td>\n",
       "      <td>1.0</td>\n",
       "      <td>67.68</td>\n",
       "    </tr>\n",
       "    <tr>\n",
       "      <th>213869</th>\n",
       "      <td>2015-03-04</td>\n",
       "      <td>2614</td>\n",
       "      <td>52807</td>\n",
       "      <td>IMPORTED WHISKEY</td>\n",
       "      <td>65</td>\n",
       "      <td>4800.0</td>\n",
       "      <td>45.12</td>\n",
       "      <td>67.68</td>\n",
       "      <td>1.0</td>\n",
       "      <td>67.68</td>\n",
       "    </tr>\n",
       "    <tr>\n",
       "      <th>220834</th>\n",
       "      <td>2015-03-26</td>\n",
       "      <td>2587</td>\n",
       "      <td>50131</td>\n",
       "      <td>IMPORTED WHISKEY</td>\n",
       "      <td>65</td>\n",
       "      <td>4800.0</td>\n",
       "      <td>45.12</td>\n",
       "      <td>67.68</td>\n",
       "      <td>1.0</td>\n",
       "      <td>67.68</td>\n",
       "    </tr>\n",
       "    <tr>\n",
       "      <th>225581</th>\n",
       "      <td>2015-02-19</td>\n",
       "      <td>2626</td>\n",
       "      <td>50311</td>\n",
       "      <td>IMPORTED WHISKEY</td>\n",
       "      <td>65</td>\n",
       "      <td>4800.0</td>\n",
       "      <td>45.12</td>\n",
       "      <td>67.68</td>\n",
       "      <td>1.0</td>\n",
       "      <td>67.68</td>\n",
       "    </tr>\n",
       "    <tr>\n",
       "      <th>233407</th>\n",
       "      <td>2015-10-06</td>\n",
       "      <td>2524</td>\n",
       "      <td>52001</td>\n",
       "      <td>CORDIAL &amp; LIQUEUR</td>\n",
       "      <td>305</td>\n",
       "      <td>6000.0</td>\n",
       "      <td>99.00</td>\n",
       "      <td>148.50</td>\n",
       "      <td>25.0</td>\n",
       "      <td>3712.50</td>\n",
       "    </tr>\n",
       "    <tr>\n",
       "      <th>253785</th>\n",
       "      <td>2015-03-02</td>\n",
       "      <td>2605</td>\n",
       "      <td>52402</td>\n",
       "      <td>IMPORTED WHISKEY</td>\n",
       "      <td>65</td>\n",
       "      <td>4800.0</td>\n",
       "      <td>45.12</td>\n",
       "      <td>67.68</td>\n",
       "      <td>1.0</td>\n",
       "      <td>67.68</td>\n",
       "    </tr>\n",
       "    <tr>\n",
       "      <th>256406</th>\n",
       "      <td>2015-03-04</td>\n",
       "      <td>2603</td>\n",
       "      <td>52722</td>\n",
       "      <td>IMPORTED WHISKEY</td>\n",
       "      <td>65</td>\n",
       "      <td>4800.0</td>\n",
       "      <td>45.12</td>\n",
       "      <td>67.68</td>\n",
       "      <td>1.0</td>\n",
       "      <td>67.68</td>\n",
       "    </tr>\n",
       "    <tr>\n",
       "      <th>261736</th>\n",
       "      <td>2015-04-13</td>\n",
       "      <td>2670</td>\n",
       "      <td>52241</td>\n",
       "      <td>IMPORTED WHISKEY</td>\n",
       "      <td>65</td>\n",
       "      <td>4800.0</td>\n",
       "      <td>45.12</td>\n",
       "      <td>67.68</td>\n",
       "      <td>3.0</td>\n",
       "      <td>203.04</td>\n",
       "    </tr>\n",
       "  </tbody>\n",
       "</table>\n",
       "</div>"
      ],
      "text/plain": [
       "             date store    ZIP           category vendorID  volume   cost  \\\n",
       "2570   2015-10-08  2587  50131   IMPORTED WHISKEY       65  4800.0  71.04   \n",
       "38630  2015-12-22  2500  50010   IMPORTED WHISKEY       65  4800.0  71.04   \n",
       "56706  2015-01-05  2636  50317   IMPORTED WHISKEY       65  4800.0  45.12   \n",
       "60585  2015-11-04  3987  50511  CORDIAL & LIQUEUR      305  6000.0  99.00   \n",
       "63818  2015-05-22  2636  50317   IMPORTED WHISKEY       65  4800.0  45.12   \n",
       "71636  2016-02-25  5106  52742  CORDIAL & LIQUEUR      305  6000.0  99.00   \n",
       "74088  2015-02-04  2500  50010  CORDIAL & LIQUEUR      308  4500.0  68.94   \n",
       "114946 2015-07-28  4819  50009   IMPORTED WHISKEY       65  4800.0  45.12   \n",
       "121877 2015-12-23  5093  52753  CORDIAL & LIQUEUR      305  6000.0  99.00   \n",
       "141875 2015-01-07  2603  52722   IMPORTED WHISKEY       65  4800.0  45.12   \n",
       "157333 2016-01-27  2502  50021  CORDIAL & LIQUEUR      305  6000.0  99.00   \n",
       "158273 2015-03-09  2549  50125   IMPORTED WHISKEY       65  4800.0  45.12   \n",
       "163211 2015-06-24  2614  52807   IMPORTED WHISKEY       65  4800.0  45.12   \n",
       "187835 2015-11-18  2622  52240  CORDIAL & LIQUEUR      305  6000.0  99.00   \n",
       "197079 2015-05-20  2670  52241   IMPORTED WHISKEY       65  4800.0  45.12   \n",
       "203021 2015-12-28  2556  51334  CORDIAL & LIQUEUR      305  6000.0  99.00   \n",
       "203127 2015-10-12  2653  52353   IMPORTED WHISKEY       65  4800.0  71.04   \n",
       "205400 2015-01-22  5034  50401   IMPORTED WHISKEY       65  4800.0  45.12   \n",
       "213869 2015-03-04  2614  52807   IMPORTED WHISKEY       65  4800.0  45.12   \n",
       "220834 2015-03-26  2587  50131   IMPORTED WHISKEY       65  4800.0  45.12   \n",
       "225581 2015-02-19  2626  50311   IMPORTED WHISKEY       65  4800.0  45.12   \n",
       "233407 2015-10-06  2524  52001  CORDIAL & LIQUEUR      305  6000.0  99.00   \n",
       "253785 2015-03-02  2605  52402   IMPORTED WHISKEY       65  4800.0  45.12   \n",
       "256406 2015-03-04  2603  52722   IMPORTED WHISKEY       65  4800.0  45.12   \n",
       "261736 2015-04-13  2670  52241   IMPORTED WHISKEY       65  4800.0  45.12   \n",
       "\n",
       "        retail  number_sold  total_sale  \n",
       "2570    106.56          1.0      106.56  \n",
       "38630   106.56          1.0      106.56  \n",
       "56706    67.68          1.0       67.68  \n",
       "60585   148.50          1.0      148.50  \n",
       "63818    67.68          1.0       67.68  \n",
       "71636   148.50          1.0      148.50  \n",
       "74088   103.41          1.0      103.41  \n",
       "114946   67.68          3.0      203.04  \n",
       "121877  148.50          1.0      148.50  \n",
       "141875   67.68          1.0       67.68  \n",
       "157333  148.50          1.0      148.50  \n",
       "158273   67.68          1.0       67.68  \n",
       "163211   67.68          1.0       67.68  \n",
       "187835  148.50          1.0      148.50  \n",
       "197079   67.68          1.0       67.68  \n",
       "203021  148.50          1.0      148.50  \n",
       "203127  106.56          1.0      106.56  \n",
       "205400   67.68          1.0       67.68  \n",
       "213869   67.68          1.0       67.68  \n",
       "220834   67.68          1.0       67.68  \n",
       "225581   67.68          1.0       67.68  \n",
       "233407  148.50         25.0     3712.50  \n",
       "253785   67.68          1.0       67.68  \n",
       "256406   67.68          1.0       67.68  \n",
       "261736   67.68          3.0      203.04  "
      ]
     },
     "execution_count": 24,
     "metadata": {},
     "output_type": "execute_result"
    }
   ],
   "source": [
    "# let's see what's up with some of the larger volumes:\n",
    "\n",
    "sales[sales['volume'] > 4000]"
   ]
  },
  {
   "cell_type": "markdown",
   "metadata": {},
   "source": [
    "As we can see from the table above, there are two vendors selling all bottles over 4L; vendor 65 is selling some kind of whiskey and vendor 305 is selling a cordial/liqueur.  No store is buying much from either source, **except** store 233407, which bought 25 units from vendor 305."
   ]
  },
  {
   "cell_type": "markdown",
   "metadata": {},
   "source": [
    "We need to get rid of all entries for any store with NaN in 'dollars_sold' when grouped by month, because those stores likely opened or closed within the period of data collection and thus do not provide a full picture of that store's profits in that time."
   ]
  },
  {
   "cell_type": "code",
   "execution_count": 25,
   "metadata": {
    "collapsed": false
   },
   "outputs": [],
   "source": [
    "sales['year'] = sales['date'].apply(lambda x: x.year)\n",
    "sales['month'] = sales['date'].apply(lambda x: x.month)"
   ]
  },
  {
   "cell_type": "code",
   "execution_count": 54,
   "metadata": {
    "collapsed": false
   },
   "outputs": [],
   "source": [
    "get_stores = sales.groupby(['year', 'store', 'month'])['total_sale'].aggregate(sum).unstack()"
   ]
  },
  {
   "cell_type": "code",
   "execution_count": 55,
   "metadata": {
    "collapsed": true
   },
   "outputs": [],
   "source": [
    "get_stores.columns = ['Jan', 'Feb', 'Mar', 'Apr', 'May', 'Jun', 'Jul', 'Aug', 'Sep', 'Oct', 'Nov', \"Dec\"]"
   ]
  },
  {
   "cell_type": "code",
   "execution_count": 56,
   "metadata": {
    "collapsed": false
   },
   "outputs": [
    {
     "data": {
      "text/plain": [
       "FrozenList([u'year', u'store'])"
      ]
     },
     "execution_count": 56,
     "metadata": {},
     "output_type": "execute_result"
    }
   ],
   "source": [
    "get_stores.index.names"
   ]
  },
  {
   "cell_type": "code",
   "execution_count": 57,
   "metadata": {
    "collapsed": false
   },
   "outputs": [
    {
     "data": {
      "text/html": [
       "<div>\n",
       "<table border=\"1\" class=\"dataframe\">\n",
       "  <thead>\n",
       "    <tr style=\"text-align: right;\">\n",
       "      <th></th>\n",
       "      <th></th>\n",
       "      <th>Jan</th>\n",
       "      <th>Feb</th>\n",
       "      <th>Mar</th>\n",
       "      <th>Apr</th>\n",
       "      <th>May</th>\n",
       "      <th>Jun</th>\n",
       "      <th>Jul</th>\n",
       "      <th>Aug</th>\n",
       "      <th>Sep</th>\n",
       "      <th>Oct</th>\n",
       "      <th>Nov</th>\n",
       "      <th>Dec</th>\n",
       "    </tr>\n",
       "    <tr>\n",
       "      <th>year</th>\n",
       "      <th>store</th>\n",
       "      <th></th>\n",
       "      <th></th>\n",
       "      <th></th>\n",
       "      <th></th>\n",
       "      <th></th>\n",
       "      <th></th>\n",
       "      <th></th>\n",
       "      <th></th>\n",
       "      <th></th>\n",
       "      <th></th>\n",
       "      <th></th>\n",
       "      <th></th>\n",
       "    </tr>\n",
       "  </thead>\n",
       "  <tbody>\n",
       "    <tr>\n",
       "      <th rowspan=\"5\" valign=\"top\">2015</th>\n",
       "      <th>2106</th>\n",
       "      <td>13567.80</td>\n",
       "      <td>12873.14</td>\n",
       "      <td>12846.35</td>\n",
       "      <td>11957.86</td>\n",
       "      <td>7526.88</td>\n",
       "      <td>11688.72</td>\n",
       "      <td>15764.34</td>\n",
       "      <td>12329.82</td>\n",
       "      <td>10230.61</td>\n",
       "      <td>16899.33</td>\n",
       "      <td>10688.38</td>\n",
       "      <td>9665.47</td>\n",
       "    </tr>\n",
       "    <tr>\n",
       "      <th>2113</th>\n",
       "      <td>813.68</td>\n",
       "      <td>713.59</td>\n",
       "      <td>1305.98</td>\n",
       "      <td>414.15</td>\n",
       "      <td>727.69</td>\n",
       "      <td>852.46</td>\n",
       "      <td>782.97</td>\n",
       "      <td>184.47</td>\n",
       "      <td>1146.12</td>\n",
       "      <td>862.29</td>\n",
       "      <td>397.05</td>\n",
       "      <td>1109.77</td>\n",
       "    </tr>\n",
       "    <tr>\n",
       "      <th>2130</th>\n",
       "      <td>7725.66</td>\n",
       "      <td>8655.08</td>\n",
       "      <td>7891.83</td>\n",
       "      <td>13738.75</td>\n",
       "      <td>13612.92</td>\n",
       "      <td>7686.42</td>\n",
       "      <td>10137.66</td>\n",
       "      <td>5955.66</td>\n",
       "      <td>8512.56</td>\n",
       "      <td>11169.32</td>\n",
       "      <td>5072.91</td>\n",
       "      <td>11425.14</td>\n",
       "    </tr>\n",
       "    <tr>\n",
       "      <th>2152</th>\n",
       "      <td>1096.72</td>\n",
       "      <td>589.59</td>\n",
       "      <td>317.15</td>\n",
       "      <td>231.52</td>\n",
       "      <td>783.02</td>\n",
       "      <td>384.38</td>\n",
       "      <td>877.10</td>\n",
       "      <td>971.09</td>\n",
       "      <td>398.51</td>\n",
       "      <td>937.63</td>\n",
       "      <td>504.88</td>\n",
       "      <td>629.49</td>\n",
       "    </tr>\n",
       "    <tr>\n",
       "      <th>2178</th>\n",
       "      <td>2251.52</td>\n",
       "      <td>1427.65</td>\n",
       "      <td>2177.24</td>\n",
       "      <td>1255.40</td>\n",
       "      <td>2672.73</td>\n",
       "      <td>3058.20</td>\n",
       "      <td>1326.52</td>\n",
       "      <td>1369.37</td>\n",
       "      <td>2972.26</td>\n",
       "      <td>1735.26</td>\n",
       "      <td>1372.99</td>\n",
       "      <td>2705.04</td>\n",
       "    </tr>\n",
       "  </tbody>\n",
       "</table>\n",
       "</div>"
      ],
      "text/plain": [
       "                 Jan       Feb       Mar       Apr       May       Jun  \\\n",
       "year store                                                               \n",
       "2015 2106   13567.80  12873.14  12846.35  11957.86   7526.88  11688.72   \n",
       "     2113     813.68    713.59   1305.98    414.15    727.69    852.46   \n",
       "     2130    7725.66   8655.08   7891.83  13738.75  13612.92   7686.42   \n",
       "     2152    1096.72    589.59    317.15    231.52    783.02    384.38   \n",
       "     2178    2251.52   1427.65   2177.24   1255.40   2672.73   3058.20   \n",
       "\n",
       "                 Jul       Aug       Sep       Oct       Nov       Dec  \n",
       "year store                                                              \n",
       "2015 2106   15764.34  12329.82  10230.61  16899.33  10688.38   9665.47  \n",
       "     2113     782.97    184.47   1146.12    862.29    397.05   1109.77  \n",
       "     2130   10137.66   5955.66   8512.56  11169.32   5072.91  11425.14  \n",
       "     2152     877.10    971.09    398.51    937.63    504.88    629.49  \n",
       "     2178    1326.52   1369.37   2972.26   1735.26   1372.99   2705.04  "
      ]
     },
     "execution_count": 57,
     "metadata": {},
     "output_type": "execute_result"
    }
   ],
   "source": [
    "get_stores.head()"
   ]
  },
  {
   "cell_type": "code",
   "execution_count": 58,
   "metadata": {
    "collapsed": false
   },
   "outputs": [],
   "source": [
    "stores_2015 = get_stores.loc[2015]\n",
    "stores_2016 = get_stores.loc[2016]"
   ]
  },
  {
   "cell_type": "code",
   "execution_count": 60,
   "metadata": {
    "collapsed": false
   },
   "outputs": [],
   "source": [
    "stores_2015 = stores_2015.dropna()"
   ]
  },
  {
   "cell_type": "code",
   "execution_count": 63,
   "metadata": {
    "collapsed": false
   },
   "outputs": [],
   "source": [
    "new_index = stores_2015.index\n",
    "stores_2016 = stores_2016[stores_2016.index.isin(new_index)]\n",
    "newer_index = stores_2016.index\n",
    "stores_2015 = stores_2015[stores_2015.index.isin(newer_index)]"
   ]
  },
  {
   "cell_type": "code",
   "execution_count": 71,
   "metadata": {
    "collapsed": false
   },
   "outputs": [],
   "source": [
    "stores_2015['total'] = stores_2015.sum(axis = 1)\n",
    "stores_2016['total'] = stores_2016.sum(axis = 1)"
   ]
  },
  {
   "cell_type": "markdown",
   "metadata": {},
   "source": [
    "Below we have monthly 2015 sales totals by store, with a cumulative column on the right ('total')."
   ]
  },
  {
   "cell_type": "code",
   "execution_count": 72,
   "metadata": {
    "collapsed": false
   },
   "outputs": [
    {
     "data": {
      "text/html": [
       "<div>\n",
       "<table border=\"1\" class=\"dataframe\">\n",
       "  <thead>\n",
       "    <tr style=\"text-align: right;\">\n",
       "      <th></th>\n",
       "      <th>Jan</th>\n",
       "      <th>Feb</th>\n",
       "      <th>Mar</th>\n",
       "      <th>Apr</th>\n",
       "      <th>May</th>\n",
       "      <th>Jun</th>\n",
       "      <th>Jul</th>\n",
       "      <th>Aug</th>\n",
       "      <th>Sep</th>\n",
       "      <th>Oct</th>\n",
       "      <th>Nov</th>\n",
       "      <th>Dec</th>\n",
       "      <th>total</th>\n",
       "    </tr>\n",
       "    <tr>\n",
       "      <th>store</th>\n",
       "      <th></th>\n",
       "      <th></th>\n",
       "      <th></th>\n",
       "      <th></th>\n",
       "      <th></th>\n",
       "      <th></th>\n",
       "      <th></th>\n",
       "      <th></th>\n",
       "      <th></th>\n",
       "      <th></th>\n",
       "      <th></th>\n",
       "      <th></th>\n",
       "      <th></th>\n",
       "    </tr>\n",
       "  </thead>\n",
       "  <tbody>\n",
       "    <tr>\n",
       "      <th>2106</th>\n",
       "      <td>13567.80</td>\n",
       "      <td>12873.14</td>\n",
       "      <td>12846.35</td>\n",
       "      <td>11957.86</td>\n",
       "      <td>7526.88</td>\n",
       "      <td>11688.72</td>\n",
       "      <td>15764.34</td>\n",
       "      <td>12329.82</td>\n",
       "      <td>10230.61</td>\n",
       "      <td>16899.33</td>\n",
       "      <td>10688.38</td>\n",
       "      <td>9665.47</td>\n",
       "      <td>146038.70</td>\n",
       "    </tr>\n",
       "    <tr>\n",
       "      <th>2113</th>\n",
       "      <td>813.68</td>\n",
       "      <td>713.59</td>\n",
       "      <td>1305.98</td>\n",
       "      <td>414.15</td>\n",
       "      <td>727.69</td>\n",
       "      <td>852.46</td>\n",
       "      <td>782.97</td>\n",
       "      <td>184.47</td>\n",
       "      <td>1146.12</td>\n",
       "      <td>862.29</td>\n",
       "      <td>397.05</td>\n",
       "      <td>1109.77</td>\n",
       "      <td>9310.22</td>\n",
       "    </tr>\n",
       "    <tr>\n",
       "      <th>2130</th>\n",
       "      <td>7725.66</td>\n",
       "      <td>8655.08</td>\n",
       "      <td>7891.83</td>\n",
       "      <td>13738.75</td>\n",
       "      <td>13612.92</td>\n",
       "      <td>7686.42</td>\n",
       "      <td>10137.66</td>\n",
       "      <td>5955.66</td>\n",
       "      <td>8512.56</td>\n",
       "      <td>11169.32</td>\n",
       "      <td>5072.91</td>\n",
       "      <td>11425.14</td>\n",
       "      <td>111583.91</td>\n",
       "    </tr>\n",
       "    <tr>\n",
       "      <th>2152</th>\n",
       "      <td>1096.72</td>\n",
       "      <td>589.59</td>\n",
       "      <td>317.15</td>\n",
       "      <td>231.52</td>\n",
       "      <td>783.02</td>\n",
       "      <td>384.38</td>\n",
       "      <td>877.10</td>\n",
       "      <td>971.09</td>\n",
       "      <td>398.51</td>\n",
       "      <td>937.63</td>\n",
       "      <td>504.88</td>\n",
       "      <td>629.49</td>\n",
       "      <td>7721.08</td>\n",
       "    </tr>\n",
       "    <tr>\n",
       "      <th>2178</th>\n",
       "      <td>2251.52</td>\n",
       "      <td>1427.65</td>\n",
       "      <td>2177.24</td>\n",
       "      <td>1255.40</td>\n",
       "      <td>2672.73</td>\n",
       "      <td>3058.20</td>\n",
       "      <td>1326.52</td>\n",
       "      <td>1369.37</td>\n",
       "      <td>2972.26</td>\n",
       "      <td>1735.26</td>\n",
       "      <td>1372.99</td>\n",
       "      <td>2705.04</td>\n",
       "      <td>24324.18</td>\n",
       "    </tr>\n",
       "  </tbody>\n",
       "</table>\n",
       "</div>"
      ],
      "text/plain": [
       "            Jan       Feb       Mar       Apr       May       Jun       Jul  \\\n",
       "store                                                                         \n",
       "2106   13567.80  12873.14  12846.35  11957.86   7526.88  11688.72  15764.34   \n",
       "2113     813.68    713.59   1305.98    414.15    727.69    852.46    782.97   \n",
       "2130    7725.66   8655.08   7891.83  13738.75  13612.92   7686.42  10137.66   \n",
       "2152    1096.72    589.59    317.15    231.52    783.02    384.38    877.10   \n",
       "2178    2251.52   1427.65   2177.24   1255.40   2672.73   3058.20   1326.52   \n",
       "\n",
       "            Aug       Sep       Oct       Nov       Dec      total  \n",
       "store                                                               \n",
       "2106   12329.82  10230.61  16899.33  10688.38   9665.47  146038.70  \n",
       "2113     184.47   1146.12    862.29    397.05   1109.77    9310.22  \n",
       "2130    5955.66   8512.56  11169.32   5072.91  11425.14  111583.91  \n",
       "2152     971.09    398.51    937.63    504.88    629.49    7721.08  \n",
       "2178    1369.37   2972.26   1735.26   1372.99   2705.04   24324.18  "
      ]
     },
     "execution_count": 72,
     "metadata": {},
     "output_type": "execute_result"
    }
   ],
   "source": [
    "stores_2015.head()"
   ]
  },
  {
   "cell_type": "markdown",
   "metadata": {},
   "source": [
    "Likewise, here we have the same for 2016 (for which we only have data through the first quarter)."
   ]
  },
  {
   "cell_type": "code",
   "execution_count": 74,
   "metadata": {
    "collapsed": false
   },
   "outputs": [
    {
     "data": {
      "text/html": [
       "<div>\n",
       "<table border=\"1\" class=\"dataframe\">\n",
       "  <thead>\n",
       "    <tr style=\"text-align: right;\">\n",
       "      <th></th>\n",
       "      <th>Jan</th>\n",
       "      <th>Feb</th>\n",
       "      <th>Mar</th>\n",
       "      <th>Apr</th>\n",
       "      <th>May</th>\n",
       "      <th>Jun</th>\n",
       "      <th>Jul</th>\n",
       "      <th>Aug</th>\n",
       "      <th>Sep</th>\n",
       "      <th>Oct</th>\n",
       "      <th>Nov</th>\n",
       "      <th>Dec</th>\n",
       "      <th>total</th>\n",
       "    </tr>\n",
       "    <tr>\n",
       "      <th>store</th>\n",
       "      <th></th>\n",
       "      <th></th>\n",
       "      <th></th>\n",
       "      <th></th>\n",
       "      <th></th>\n",
       "      <th></th>\n",
       "      <th></th>\n",
       "      <th></th>\n",
       "      <th></th>\n",
       "      <th></th>\n",
       "      <th></th>\n",
       "      <th></th>\n",
       "      <th></th>\n",
       "    </tr>\n",
       "  </thead>\n",
       "  <tbody>\n",
       "    <tr>\n",
       "      <th>2106</th>\n",
       "      <td>8472.17</td>\n",
       "      <td>12053.61</td>\n",
       "      <td>9952.97</td>\n",
       "      <td>NaN</td>\n",
       "      <td>NaN</td>\n",
       "      <td>NaN</td>\n",
       "      <td>NaN</td>\n",
       "      <td>NaN</td>\n",
       "      <td>NaN</td>\n",
       "      <td>NaN</td>\n",
       "      <td>NaN</td>\n",
       "      <td>NaN</td>\n",
       "      <td>30478.75</td>\n",
       "    </tr>\n",
       "    <tr>\n",
       "      <th>2113</th>\n",
       "      <td>892.94</td>\n",
       "      <td>727.16</td>\n",
       "      <td>445.80</td>\n",
       "      <td>NaN</td>\n",
       "      <td>NaN</td>\n",
       "      <td>NaN</td>\n",
       "      <td>NaN</td>\n",
       "      <td>NaN</td>\n",
       "      <td>NaN</td>\n",
       "      <td>NaN</td>\n",
       "      <td>NaN</td>\n",
       "      <td>NaN</td>\n",
       "      <td>2065.90</td>\n",
       "    </tr>\n",
       "    <tr>\n",
       "      <th>2130</th>\n",
       "      <td>9740.59</td>\n",
       "      <td>8468.58</td>\n",
       "      <td>9646.94</td>\n",
       "      <td>NaN</td>\n",
       "      <td>NaN</td>\n",
       "      <td>NaN</td>\n",
       "      <td>NaN</td>\n",
       "      <td>NaN</td>\n",
       "      <td>NaN</td>\n",
       "      <td>NaN</td>\n",
       "      <td>NaN</td>\n",
       "      <td>NaN</td>\n",
       "      <td>27856.11</td>\n",
       "    </tr>\n",
       "    <tr>\n",
       "      <th>2152</th>\n",
       "      <td>275.79</td>\n",
       "      <td>628.87</td>\n",
       "      <td>471.77</td>\n",
       "      <td>NaN</td>\n",
       "      <td>NaN</td>\n",
       "      <td>NaN</td>\n",
       "      <td>NaN</td>\n",
       "      <td>NaN</td>\n",
       "      <td>NaN</td>\n",
       "      <td>NaN</td>\n",
       "      <td>NaN</td>\n",
       "      <td>NaN</td>\n",
       "      <td>1376.43</td>\n",
       "    </tr>\n",
       "    <tr>\n",
       "      <th>2178</th>\n",
       "      <td>2125.49</td>\n",
       "      <td>1659.70</td>\n",
       "      <td>1803.31</td>\n",
       "      <td>NaN</td>\n",
       "      <td>NaN</td>\n",
       "      <td>NaN</td>\n",
       "      <td>NaN</td>\n",
       "      <td>NaN</td>\n",
       "      <td>NaN</td>\n",
       "      <td>NaN</td>\n",
       "      <td>NaN</td>\n",
       "      <td>NaN</td>\n",
       "      <td>5588.50</td>\n",
       "    </tr>\n",
       "  </tbody>\n",
       "</table>\n",
       "</div>"
      ],
      "text/plain": [
       "           Jan       Feb      Mar  Apr  May  Jun  Jul  Aug  Sep  Oct  Nov  \\\n",
       "store                                                                       \n",
       "2106   8472.17  12053.61  9952.97  NaN  NaN  NaN  NaN  NaN  NaN  NaN  NaN   \n",
       "2113    892.94    727.16   445.80  NaN  NaN  NaN  NaN  NaN  NaN  NaN  NaN   \n",
       "2130   9740.59   8468.58  9646.94  NaN  NaN  NaN  NaN  NaN  NaN  NaN  NaN   \n",
       "2152    275.79    628.87   471.77  NaN  NaN  NaN  NaN  NaN  NaN  NaN  NaN   \n",
       "2178   2125.49   1659.70  1803.31  NaN  NaN  NaN  NaN  NaN  NaN  NaN  NaN   \n",
       "\n",
       "       Dec     total  \n",
       "store                 \n",
       "2106   NaN  30478.75  \n",
       "2113   NaN   2065.90  \n",
       "2130   NaN  27856.11  \n",
       "2152   NaN   1376.43  \n",
       "2178   NaN   5588.50  "
      ]
     },
     "execution_count": 74,
     "metadata": {},
     "output_type": "execute_result"
    }
   ],
   "source": [
    "stores_2016.head()"
   ]
  },
  {
   "cell_type": "code",
   "execution_count": 80,
   "metadata": {
    "collapsed": false
   },
   "outputs": [],
   "source": [
    "Q1_2015 = stores_2015[['Jan', 'Feb', 'Mar']]\n",
    "Q2_2015 = stores_2015[['Apr', 'May', 'Jun']]\n",
    "Q3_2015 = stores_2015[['Jul', 'Aug', 'Sep']]\n",
    "Q4_2015 = stores_2015[['Oct', 'Nov', 'Dec']]\n",
    "\n",
    "Q1_2016 = stores_2016[['Jan', 'Feb', 'Mar']]"
   ]
  },
  {
   "cell_type": "code",
   "execution_count": 83,
   "metadata": {
    "collapsed": false
   },
   "outputs": [
    {
     "name": "stderr",
     "output_type": "stream",
     "text": [
      "/anaconda/lib/python2.7/site-packages/ipykernel/__main__.py:1: SettingWithCopyWarning:\n",
      "\n",
      "\n",
      "A value is trying to be set on a copy of a slice from a DataFrame.\n",
      "Try using .loc[row_indexer,col_indexer] = value instead\n",
      "\n",
      "See the caveats in the documentation: http://pandas.pydata.org/pandas-docs/stable/indexing.html#indexing-view-versus-copy\n",
      "\n",
      "/anaconda/lib/python2.7/site-packages/ipykernel/__main__.py:2: SettingWithCopyWarning:\n",
      "\n",
      "\n",
      "A value is trying to be set on a copy of a slice from a DataFrame.\n",
      "Try using .loc[row_indexer,col_indexer] = value instead\n",
      "\n",
      "See the caveats in the documentation: http://pandas.pydata.org/pandas-docs/stable/indexing.html#indexing-view-versus-copy\n",
      "\n",
      "/anaconda/lib/python2.7/site-packages/ipykernel/__main__.py:3: SettingWithCopyWarning:\n",
      "\n",
      "\n",
      "A value is trying to be set on a copy of a slice from a DataFrame.\n",
      "Try using .loc[row_indexer,col_indexer] = value instead\n",
      "\n",
      "See the caveats in the documentation: http://pandas.pydata.org/pandas-docs/stable/indexing.html#indexing-view-versus-copy\n",
      "\n",
      "/anaconda/lib/python2.7/site-packages/ipykernel/__main__.py:4: SettingWithCopyWarning:\n",
      "\n",
      "\n",
      "A value is trying to be set on a copy of a slice from a DataFrame.\n",
      "Try using .loc[row_indexer,col_indexer] = value instead\n",
      "\n",
      "See the caveats in the documentation: http://pandas.pydata.org/pandas-docs/stable/indexing.html#indexing-view-versus-copy\n",
      "\n",
      "/anaconda/lib/python2.7/site-packages/ipykernel/__main__.py:6: SettingWithCopyWarning:\n",
      "\n",
      "\n",
      "A value is trying to be set on a copy of a slice from a DataFrame.\n",
      "Try using .loc[row_indexer,col_indexer] = value instead\n",
      "\n",
      "See the caveats in the documentation: http://pandas.pydata.org/pandas-docs/stable/indexing.html#indexing-view-versus-copy\n",
      "\n"
     ]
    }
   ],
   "source": [
    "Q1_2015['total'] = Q1_2015.sum(axis = 1)\n",
    "Q2_2015['total'] = Q2_2015.sum(axis = 1)\n",
    "Q3_2015['total'] = Q3_2015.sum(axis = 1)\n",
    "Q4_2015['total'] = Q4_2015.sum(axis = 1)\n",
    "\n",
    "Q1_2016['total'] = Q1_2016.sum(axis = 1)"
   ]
  },
  {
   "cell_type": "code",
   "execution_count": 75,
   "metadata": {
    "collapsed": true
   },
   "outputs": [],
   "source": [
    "# update original dataframe to include only stores we're interested in:\n",
    "\n",
    "sales = sales[sales['store'].isin(newer_index)]"
   ]
  },
  {
   "cell_type": "code",
   "execution_count": 92,
   "metadata": {
    "collapsed": false
   },
   "outputs": [
    {
     "data": {
      "text/html": [
       "<div>\n",
       "<table border=\"1\" class=\"dataframe\">\n",
       "  <thead>\n",
       "    <tr style=\"text-align: right;\">\n",
       "      <th></th>\n",
       "      <th>date</th>\n",
       "      <th>store</th>\n",
       "      <th>ZIP</th>\n",
       "      <th>category</th>\n",
       "      <th>vendorID</th>\n",
       "      <th>volume</th>\n",
       "      <th>cost</th>\n",
       "      <th>retail</th>\n",
       "      <th>number_sold</th>\n",
       "      <th>total_sale</th>\n",
       "      <th>year</th>\n",
       "      <th>month</th>\n",
       "    </tr>\n",
       "  </thead>\n",
       "  <tbody>\n",
       "    <tr>\n",
       "      <th>0</th>\n",
       "      <td>2015-11-04</td>\n",
       "      <td>3717</td>\n",
       "      <td>50674</td>\n",
       "      <td>BRANDY</td>\n",
       "      <td>55</td>\n",
       "      <td>750.0</td>\n",
       "      <td>4.50</td>\n",
       "      <td>6.75</td>\n",
       "      <td>12.0</td>\n",
       "      <td>81.00</td>\n",
       "      <td>2015</td>\n",
       "      <td>11</td>\n",
       "    </tr>\n",
       "    <tr>\n",
       "      <th>1</th>\n",
       "      <td>2016-03-02</td>\n",
       "      <td>2614</td>\n",
       "      <td>52807</td>\n",
       "      <td>WHISKEY</td>\n",
       "      <td>395</td>\n",
       "      <td>750.0</td>\n",
       "      <td>13.75</td>\n",
       "      <td>20.63</td>\n",
       "      <td>2.0</td>\n",
       "      <td>41.26</td>\n",
       "      <td>2016</td>\n",
       "      <td>3</td>\n",
       "    </tr>\n",
       "    <tr>\n",
       "      <th>2</th>\n",
       "      <td>2016-02-11</td>\n",
       "      <td>2106</td>\n",
       "      <td>50613</td>\n",
       "      <td>BOURBON</td>\n",
       "      <td>65</td>\n",
       "      <td>1000.0</td>\n",
       "      <td>12.59</td>\n",
       "      <td>18.89</td>\n",
       "      <td>24.0</td>\n",
       "      <td>453.36</td>\n",
       "      <td>2016</td>\n",
       "      <td>2</td>\n",
       "    </tr>\n",
       "    <tr>\n",
       "      <th>3</th>\n",
       "      <td>2016-02-03</td>\n",
       "      <td>2501</td>\n",
       "      <td>50010</td>\n",
       "      <td>AMERICAN COCKTAILS</td>\n",
       "      <td>395</td>\n",
       "      <td>1750.0</td>\n",
       "      <td>9.50</td>\n",
       "      <td>14.25</td>\n",
       "      <td>6.0</td>\n",
       "      <td>85.50</td>\n",
       "      <td>2016</td>\n",
       "      <td>2</td>\n",
       "    </tr>\n",
       "    <tr>\n",
       "      <th>4</th>\n",
       "      <td>2015-08-18</td>\n",
       "      <td>3654</td>\n",
       "      <td>50421</td>\n",
       "      <td>VODKA</td>\n",
       "      <td>297</td>\n",
       "      <td>1750.0</td>\n",
       "      <td>7.20</td>\n",
       "      <td>10.80</td>\n",
       "      <td>12.0</td>\n",
       "      <td>129.60</td>\n",
       "      <td>2015</td>\n",
       "      <td>8</td>\n",
       "    </tr>\n",
       "  </tbody>\n",
       "</table>\n",
       "</div>"
      ],
      "text/plain": [
       "        date store    ZIP            category vendorID  volume   cost  retail  \\\n",
       "0 2015-11-04  3717  50674              BRANDY       55   750.0   4.50    6.75   \n",
       "1 2016-03-02  2614  52807             WHISKEY      395   750.0  13.75   20.63   \n",
       "2 2016-02-11  2106  50613             BOURBON       65  1000.0  12.59   18.89   \n",
       "3 2016-02-03  2501  50010  AMERICAN COCKTAILS      395  1750.0   9.50   14.25   \n",
       "4 2015-08-18  3654  50421               VODKA      297  1750.0   7.20   10.80   \n",
       "\n",
       "   number_sold  total_sale  year  month  \n",
       "0         12.0       81.00  2015     11  \n",
       "1          2.0       41.26  2016      3  \n",
       "2         24.0      453.36  2016      2  \n",
       "3          6.0       85.50  2016      2  \n",
       "4         12.0      129.60  2015      8  "
      ]
     },
     "execution_count": 92,
     "metadata": {},
     "output_type": "execute_result"
    }
   ],
   "source": [
    "sales.head()"
   ]
  },
  {
   "cell_type": "code",
   "execution_count": 93,
   "metadata": {
    "collapsed": false
   },
   "outputs": [],
   "source": [
    "del sales['date']\n",
    "del sales['year']\n",
    "del sales['month']"
   ]
  },
  {
   "cell_type": "code",
   "execution_count": 98,
   "metadata": {
    "collapsed": false
   },
   "outputs": [],
   "source": [
    "sales = sales.pivot_table(index = 'store')"
   ]
  },
  {
   "cell_type": "code",
   "execution_count": 99,
   "metadata": {
    "collapsed": true
   },
   "outputs": [],
   "source": [
    "sales['Q1_2015'] = Q1_2015['total']\n",
    "sales['Q2_2015'] = Q2_2015['total']\n",
    "sales['Q3_2015'] = Q3_2015['total']\n",
    "sales['Q4_2015'] = Q4_2015['total']\n",
    "\n",
    "sales['Q1_2016'] = Q1_2016['total']"
   ]
  },
  {
   "cell_type": "code",
   "execution_count": null,
   "metadata": {
    "collapsed": true
   },
   "outputs": [],
   "source": []
  },
  {
   "cell_type": "code",
   "execution_count": null,
   "metadata": {
    "collapsed": true
   },
   "outputs": [],
   "source": []
  },
  {
   "cell_type": "markdown",
   "metadata": {},
   "source": [
    "# Explore the data\n",
    "\n",
    "Perform some exploratory statistical analysis and make some plots, such as histograms of transaction totals, bottles sold, etc."
   ]
  },
  {
   "cell_type": "code",
   "execution_count": 4,
   "metadata": {
    "collapsed": true
   },
   "outputs": [],
   "source": [
    "import seaborn as sns\n",
    "import matplotlib.pyplot as plt"
   ]
  },
  {
   "cell_type": "markdown",
   "metadata": {},
   "source": [
    "## Record your findings\n",
    "\n",
    "Be sure to write out anything observations from your exploratory analysis."
   ]
  },
  {
   "cell_type": "markdown",
   "metadata": {},
   "source": [
    "# Mine the data\n",
    "Now you are ready to compute the variables you will use for your regression from the data. For example, you may want to\n",
    "compute total sales per store from Jan to March of 2015, mean price per bottle, etc. Refer to the readme for more ideas appropriate to your scenario.\n",
    "\n",
    "Pandas is your friend for this task. Take a look at the operations [here](http://pandas.pydata.org/pandas-docs/stable/groupby.html) for ideas on how to make the best use of pandas and feel free to search for blog and Stack Overflow posts to help you group data by certain variables and compute sums, means, etc. You may find it useful to create a new data frame to house this summary data."
   ]
  },
  {
   "cell_type": "markdown",
   "metadata": {},
   "source": [
    "# Refine the data\n",
    "Look for any statistical relationships, correlations, or other relevant properties of the dataset."
   ]
  },
  {
   "cell_type": "code",
   "execution_count": null,
   "metadata": {
    "collapsed": true
   },
   "outputs": [],
   "source": []
  },
  {
   "cell_type": "markdown",
   "metadata": {},
   "source": [
    "# Build your models\n",
    "\n",
    "Using scikit-learn or statsmodels, build the necessary models for your scenario. Evaluate model fit."
   ]
  },
  {
   "cell_type": "code",
   "execution_count": 6,
   "metadata": {
    "collapsed": true
   },
   "outputs": [],
   "source": [
    "from sklearn import linear_model\n"
   ]
  },
  {
   "cell_type": "markdown",
   "metadata": {},
   "source": [
    "## Plot your results\n",
    "\n",
    "Again make sure that you record any valuable information. For example, in the tax scenario, did you find the sales from the first three months of the year to be a good predictor of the total sales for the year? Plot the predictions versus the true values and discuss the successes and limitations of your models"
   ]
  },
  {
   "cell_type": "code",
   "execution_count": null,
   "metadata": {
    "collapsed": true
   },
   "outputs": [],
   "source": []
  },
  {
   "cell_type": "markdown",
   "metadata": {},
   "source": [
    "# Present the Results\n",
    "\n",
    "Present your conclusions and results. If you have more than one interesting model feel free to include more than one along with a discussion. Use your work in this notebook to prepare your write-up."
   ]
  },
  {
   "cell_type": "code",
   "execution_count": null,
   "metadata": {
    "collapsed": true
   },
   "outputs": [],
   "source": []
  }
 ],
 "metadata": {
  "kernelspec": {
   "display_name": "Python 2",
   "language": "python",
   "name": "python2"
  },
  "language_info": {
   "codemirror_mode": {
    "name": "ipython",
    "version": 2
   },
   "file_extension": ".py",
   "mimetype": "text/x-python",
   "name": "python",
   "nbconvert_exporter": "python",
   "pygments_lexer": "ipython2",
   "version": "2.7.11"
  }
 },
 "nbformat": 4,
 "nbformat_minor": 0
}
