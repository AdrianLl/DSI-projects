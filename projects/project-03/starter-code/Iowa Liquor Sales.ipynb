{
 "cells": [
  {
   "cell_type": "markdown",
   "metadata": {
    "collapsed": true
   },
   "source": [
    "#### Project 3:  Illinois Liquor Sales"
   ]
  },
  {
   "cell_type": "markdown",
   "metadata": {},
   "source": [
    "#### Scenario 1: State tax board\n",
    "\n",
    "You are a data scientist in residence at the Iowa State tax board. The Iowa State legislature is considering changes in the liquor tax rates and wants a report of current liquor sales by county and projections for the rest of the year.  (Download data from: [the Iowa website](https://data.iowa.gov/Economy/Iowa-Liquor-Sales/m3tr-qhgy))\n",
    "\n",
    "**Goals:** \n",
    "\n",
    "* Calculate the yearly liquor sales for each store using the provided data. You can add up the transactions for each year, and store sales in 2015 specifically will be used later as your target variable (it may help to use a groupby or pivot table, since you'll use this table to build your model).\n",
    "* Use the data from 2015 to make a linear model using as many variables as you find useful to predict the yearly sales of each store. You must use the sales from Jan to March per store as one of your variables.\n",
    "* Use your model for 2015 to estimate total sales for each store in 2016, extrapolating from the sales so far for Jan-March of 2016.\n",
    "* Report your findings, including any projected increase or decrease in total sales (over the entire state) for the tax committee of the Iowa legislature.\n",
    "* Use cross-validation to check how your model predicts to held out data compared to the model metrics on the full dataset.\n",
    "* _Challenging Bonus_: We did not cover the topics of regularization for linear regression this week, but those feeling bold can try to use and understand regularizing linear regressions. This will require self-guided research/reading and scikit-learn functions that we have not gone over in class! Use cross-validation to tune the regularization parameter that maximizes R^2 on your holdout sets for the Ridge regression and the Lasso Regression. Do the regularized models perform better than the non-regularized model? Which regularized model performs better? What is the Ridge regression doing? What is the Lasso doing."
   ]
  },
  {
   "cell_type": "code",
   "execution_count": 5,
   "metadata": {
    "collapsed": false
   },
   "outputs": [],
   "source": [
    "import pandas as pd\n",
    "import plotly as py\n",
    "% matplotlib inline\n",
    "\n",
    "from matplotlib import pyplot as plt\n",
    "# Make the plots bigger\n",
    "plt.rcParams['figure.figsize'] = 10, 10\n",
    "import seaborn as sns\n",
    "\n",
    "import numpy as np\n",
    "from sklearn import linear_model\n",
    "from sklearn.cross_validation import train_test_split\n",
    "import sklearn\n",
    "from sklearn import datasets, linear_model\n",
    "from sklearn.pipeline import Pipeline\n",
    "from sklearn.preprocessing import PolynomialFeatures\n",
    "from sklearn.linear_model import LinearRegression\n",
    "from sklearn.linear_model import Ridge\n",
    "from sklearn.linear_model import Lasso\n",
    "from sklearn import cross_validation\n",
    "from sklearn.metrics import mean_squared_error\n",
    "from sklearn import datasets\n",
    "from sklearn.cross_validation import cross_val_predict\n",
    "from sklearn.cross_validation import cross_val_score\n",
    "from sklearn.metrics import r2_score"
   ]
  },
  {
   "cell_type": "markdown",
   "metadata": {},
   "source": [
    "Let's import the smaller dataset:"
   ]
  },
  {
   "cell_type": "code",
   "execution_count": 6,
   "metadata": {
    "collapsed": true
   },
   "outputs": [],
   "source": [
    "sales_orig = pd.read_csv(\"/Users/Rebecca/DSI-projects/projects/project-03/Iowa_Liquor_sales_sample_10pct.csv\")\n",
    "sales = sales_orig.copy() # keep original just in case"
   ]
  },
  {
   "cell_type": "code",
   "execution_count": 7,
   "metadata": {
    "collapsed": false
   },
   "outputs": [
    {
     "data": {
      "text/html": [
       "<div>\n",
       "<table border=\"1\" class=\"dataframe\">\n",
       "  <thead>\n",
       "    <tr style=\"text-align: right;\">\n",
       "      <th></th>\n",
       "      <th>Date</th>\n",
       "      <th>Store Number</th>\n",
       "      <th>City</th>\n",
       "      <th>Zip Code</th>\n",
       "      <th>County Number</th>\n",
       "      <th>County</th>\n",
       "      <th>Category</th>\n",
       "      <th>Category Name</th>\n",
       "      <th>Vendor Number</th>\n",
       "      <th>Item Number</th>\n",
       "      <th>Item Description</th>\n",
       "      <th>Bottle Volume (ml)</th>\n",
       "      <th>State Bottle Cost</th>\n",
       "      <th>State Bottle Retail</th>\n",
       "      <th>Bottles Sold</th>\n",
       "      <th>Sale (Dollars)</th>\n",
       "      <th>Volume Sold (Liters)</th>\n",
       "      <th>Volume Sold (Gallons)</th>\n",
       "    </tr>\n",
       "  </thead>\n",
       "  <tbody>\n",
       "    <tr>\n",
       "      <th>0</th>\n",
       "      <td>11/04/2015</td>\n",
       "      <td>3717</td>\n",
       "      <td>SUMNER</td>\n",
       "      <td>50674</td>\n",
       "      <td>9.0</td>\n",
       "      <td>Bremer</td>\n",
       "      <td>1051100.0</td>\n",
       "      <td>APRICOT BRANDIES</td>\n",
       "      <td>55</td>\n",
       "      <td>54436</td>\n",
       "      <td>Mr. Boston Apricot Brandy</td>\n",
       "      <td>750</td>\n",
       "      <td>$4.50</td>\n",
       "      <td>$6.75</td>\n",
       "      <td>12</td>\n",
       "      <td>$81.00</td>\n",
       "      <td>9.0</td>\n",
       "      <td>2.38</td>\n",
       "    </tr>\n",
       "  </tbody>\n",
       "</table>\n",
       "</div>"
      ],
      "text/plain": [
       "         Date  Store Number    City Zip Code  County Number  County  \\\n",
       "0  11/04/2015          3717  SUMNER    50674            9.0  Bremer   \n",
       "\n",
       "    Category     Category Name  Vendor Number  Item Number  \\\n",
       "0  1051100.0  APRICOT BRANDIES             55        54436   \n",
       "\n",
       "            Item Description  Bottle Volume (ml) State Bottle Cost  \\\n",
       "0  Mr. Boston Apricot Brandy                 750             $4.50   \n",
       "\n",
       "  State Bottle Retail  Bottles Sold Sale (Dollars)  Volume Sold (Liters)  \\\n",
       "0               $6.75            12         $81.00                   9.0   \n",
       "\n",
       "   Volume Sold (Gallons)  \n",
       "0                   2.38  "
      ]
     },
     "execution_count": 7,
     "metadata": {},
     "output_type": "execute_result"
    }
   ],
   "source": [
    "sales.head(1)"
   ]
  },
  {
   "cell_type": "code",
   "execution_count": 8,
   "metadata": {
    "collapsed": false
   },
   "outputs": [
    {
     "data": {
      "text/plain": [
       "Date                      object\n",
       "Store Number               int64\n",
       "City                      object\n",
       "Zip Code                  object\n",
       "County Number            float64\n",
       "County                    object\n",
       "Category                 float64\n",
       "Category Name             object\n",
       "Vendor Number              int64\n",
       "Item Number                int64\n",
       "Item Description          object\n",
       "Bottle Volume (ml)         int64\n",
       "State Bottle Cost         object\n",
       "State Bottle Retail       object\n",
       "Bottles Sold               int64\n",
       "Sale (Dollars)            object\n",
       "Volume Sold (Liters)     float64\n",
       "Volume Sold (Gallons)    float64\n",
       "dtype: object"
      ]
     },
     "execution_count": 8,
     "metadata": {},
     "output_type": "execute_result"
    }
   ],
   "source": [
    "sales.dtypes"
   ]
  },
  {
   "cell_type": "code",
   "execution_count": 9,
   "metadata": {
    "collapsed": false
   },
   "outputs": [],
   "source": [
    "# convert 'Date' column to datetime format\n",
    "\n",
    "sales['Date'] = pd.to_datetime(sales['Date'], infer_datetime_format = True)"
   ]
  },
  {
   "cell_type": "code",
   "execution_count": 10,
   "metadata": {
    "collapsed": false
   },
   "outputs": [],
   "source": [
    "del sales['County Number'] # let's just keep ZIP code; these geographical columns contain a lot of same information\n",
    "del sales['County'] # same\n",
    "del sales['City'] # same\n",
    "del sales['Category']  # let's use 'Category Name' instead \n",
    "del sales['Item Number']  # we'll just stick with category data, this is very specific\n",
    "del sales['Item Description'] # same\n",
    "del sales['Volume Sold (Gallons)'] # no one wants gallons\n",
    "#del sales['Volume Sold (Liters)'] # undecided, can be calculated from other columns"
   ]
  },
  {
   "cell_type": "code",
   "execution_count": 11,
   "metadata": {
    "collapsed": false
   },
   "outputs": [],
   "source": [
    "# change dollar-value columns to floats\n",
    "\n",
    "sales['State Bottle Cost'] = sales['State Bottle Cost'].apply(lambda x: float(x.replace('$', '')))\n",
    "sales['State Bottle Retail'] = sales['State Bottle Retail'].apply(lambda x: float(x.replace('$', '')))\n",
    "sales['Sale (Dollars)'] = sales['Sale (Dollars)'].apply(lambda x: float(x.replace('$', '')))"
   ]
  },
  {
   "cell_type": "code",
   "execution_count": 12,
   "metadata": {
    "collapsed": false
   },
   "outputs": [],
   "source": [
    "# rename columns \n",
    "\n",
    "sales.rename(columns={'Category Name':'category'}, inplace=True)\n",
    "sales.rename(columns={'Bottle Volume (ml)':'volume'}, inplace=True) # this remails in mL units (no label)\n",
    "sales.rename(columns={'Store Number':'store'}, inplace=True)\n",
    "sales.rename(columns={'Date':'date'}, inplace=True)\n",
    "sales.rename(columns={'Zip Code':'ZIP'}, inplace=True)\n",
    "sales.rename(columns={'State Bottle Cost':'cost'}, inplace=True)\n",
    "sales.rename(columns={'State Bottle Retail':'retail'}, inplace=True)\n",
    "sales.rename(columns={'Vendor Number':'vendorID'}, inplace=True)\n",
    "sales.rename(columns={'Bottles Sold':'number_sold'}, inplace=True)\n",
    "sales.rename(columns={'Sale (Dollars)':'total_sale'}, inplace=True)\n",
    "sales.rename(columns={'Volume Sold (Liters)':'volume_sold'}, inplace=True)"
   ]
  },
  {
   "cell_type": "code",
   "execution_count": 13,
   "metadata": {
    "collapsed": true
   },
   "outputs": [],
   "source": [
    "# fix remaining data types that still do not look right\n",
    "\n",
    "sales['store'] = sales['store'].apply(lambda x: str(x))\n",
    "sales['vendorID'] = sales['vendorID'].apply(lambda x: str(x))\n",
    "sales['volume'] = sales['volume'].apply(lambda x: float(x))\n",
    "sales['number_sold'] = sales['number_sold'].apply(lambda x: float(x))"
   ]
  },
  {
   "cell_type": "code",
   "execution_count": 14,
   "metadata": {
    "collapsed": false
   },
   "outputs": [
    {
     "data": {
      "text/plain": [
       "date           datetime64[ns]\n",
       "store                  object\n",
       "ZIP                    object\n",
       "category               object\n",
       "vendorID               object\n",
       "volume                float64\n",
       "cost                  float64\n",
       "retail                float64\n",
       "number_sold           float64\n",
       "total_sale            float64\n",
       "volume_sold           float64\n",
       "dtype: object"
      ]
     },
     "execution_count": 14,
     "metadata": {},
     "output_type": "execute_result"
    }
   ],
   "source": [
    "sales.dtypes"
   ]
  },
  {
   "cell_type": "code",
   "execution_count": 15,
   "metadata": {
    "collapsed": false
   },
   "outputs": [
    {
     "name": "stdout",
     "output_type": "stream",
     "text": [
      "  Number of unique...\n",
      "Observations:    270955\n",
      "Stores:          1400\n",
      "ZIP codes:       415\n",
      "Vendors:         116\n",
      "Item categories: 72\n",
      "Bottle volumes:  29\n"
     ]
    }
   ],
   "source": [
    "print '  Number of unique...'\n",
    "print 'Observations:    %s' %len(sales)\n",
    "print 'Stores:          %s' %len(sales['store'].unique())\n",
    "print 'ZIP codes:       %s' %len(sales['ZIP'].unique())\n",
    "print 'Vendors:         %s' %len(sales['vendorID'].unique())\n",
    "print 'Item categories: %s' %len(sales['category'].unique())\n",
    "print 'Bottle volumes:  %s' %len(sales['volume'].unique())"
   ]
  },
  {
   "cell_type": "code",
   "execution_count": 16,
   "metadata": {
    "collapsed": false
   },
   "outputs": [
    {
     "data": {
      "text/plain": [
       "72"
      ]
     },
     "execution_count": 16,
     "metadata": {},
     "output_type": "execute_result"
    }
   ],
   "source": [
    "len(sales['category'].unique())"
   ]
  },
  {
   "cell_type": "code",
   "execution_count": 16,
   "metadata": {
    "collapsed": false
   },
   "outputs": [
    {
     "data": {
      "text/plain": [
       "VODKA 80 PROOF                        35373\n",
       "CANADIAN WHISKIES                     27087\n",
       "STRAIGHT BOURBON WHISKIES             15342\n",
       "SPICED RUM                            14631\n",
       "VODKA FLAVORED                        14001\n",
       "TEQUILA                               12109\n",
       "BLENDED WHISKIES                      11547\n",
       "WHISKEY LIQUEUR                       10902\n",
       "IMPORTED VODKA                        10668\n",
       "PUERTO RICO & VIRGIN ISLANDS RUM      10062\n",
       "FLAVORED RUM                           7282\n",
       "TENNESSEE WHISKIES                     7081\n",
       "AMERICAN COCKTAILS                     6929\n",
       "AMERICAN GRAPE BRANDIES                6589\n",
       "AMERICAN DRY GINS                      6559\n",
       "IMPORTED VODKA - MISC                  6506\n",
       "MISC. IMPORTED CORDIALS & LIQUEURS     6299\n",
       "CREAM LIQUEURS                         6284\n",
       "SCOTCH WHISKIES                        5375\n",
       "IMPORTED GRAPE BRANDIES                4614\n",
       "IMPORTED SCHNAPPS                      4249\n",
       "MISC. AMERICAN CORDIALS & LIQUEURS     3394\n",
       "100 PROOF VODKA                        3304\n",
       "PEPPERMINT SCHNAPPS                    3221\n",
       "IMPORTED DRY GINS                      2939\n",
       "IRISH WHISKIES                         2791\n",
       "SINGLE MALT SCOTCH                     2288\n",
       "COFFEE LIQUEURS                        1914\n",
       "PEACH SCHNAPPS                         1650\n",
       "BLACKBERRY BRANDIES                    1580\n",
       "                                      ...  \n",
       "AMERICAN ALCOHOL                        573\n",
       "WATERMELON SCHNAPPS                     479\n",
       "BARBADOS RUM                            393\n",
       "JAMAICA RUM                             385\n",
       "GRAPE SCHNAPPS                          333\n",
       "CHERRY BRANDIES                         330\n",
       "ROOT BEER SCHNAPPS                      324\n",
       "SINGLE BARREL BOURBON WHISKIES          319\n",
       "RASPBERRY SCHNAPPS                      304\n",
       "STRAWBERRY SCHNAPPS                     302\n",
       "IMPORTED AMARETTO                       276\n",
       "GREEN CREME DE MENTHE                   259\n",
       "FLAVORED GINS                           250\n",
       "TROPICAL FRUIT SCHNAPPS                 235\n",
       "WHITE CREME DE CACAO                    201\n",
       "BOTTLED IN BOND BOURBON                 190\n",
       "AMERICAN SLOE GINS                      169\n",
       "DARK CREME DE CACAO                     157\n",
       "MISCELLANEOUS  BRANDIES                 144\n",
       "SPEARMINT SCHNAPPS                       99\n",
       "ROCK & RYE                               86\n",
       "OTHER PROOF VODKA                        78\n",
       "WHITE CREME DE MENTHE                    61\n",
       "CREME DE ALMOND                          52\n",
       "ANISETTE                                 35\n",
       "JAPANESE WHISKY                          23\n",
       "LOW PROOF VODKA                          15\n",
       "CORN WHISKIES                            12\n",
       "AMARETTO - IMPORTED                       3\n",
       "HIGH PROOF BEER - AMERICAN                2\n",
       "Name: category, dtype: int64"
      ]
     },
     "execution_count": 16,
     "metadata": {},
     "output_type": "execute_result"
    }
   ],
   "source": [
    "# that's a lot of categories!  let's have a look and try to consolidate some of them\n",
    "\n",
    "sales['category'].value_counts()"
   ]
  },
  {
   "cell_type": "code",
   "execution_count": 17,
   "metadata": {
    "collapsed": true
   },
   "outputs": [],
   "source": [
    "# consolidating...\n",
    "\n",
    "sales['category'] = sales['category'].apply(lambda x: str(x))\n",
    "sales['category'] = sales['category'].apply(lambda x: x.replace('VODKA 80 PROOF', 'VODKA'))\n",
    "sales['category'] = sales['category'].apply(lambda x: x.replace('CANADIAN WHISKIES', 'WHISKEY'))\n",
    "sales['category'] = sales['category'].apply(lambda x: x.replace('STRAIGHT BOURBON WHISKIES', 'BOURBON'))\n",
    "sales['category'] = sales['category'].apply(lambda x: x.replace('VODKA FLAVORED', 'VODKA'))\n",
    "sales['category'] = sales['category'].apply(lambda x: x.replace('BLENDED WHISKIES', 'WHISKEY'))\n",
    "sales['category'] = sales['category'].apply(lambda x: x.replace('WHISKEY LIQUEUR', 'CORDIAL & LIQUEUR'))\n",
    "sales['category'] = sales['category'].apply(lambda x: x.replace('PUERTO RICO & VIRGIN ISLANDS RUM', 'RUM'))\n",
    "sales['category'] = sales['category'].apply(lambda x: x.replace('FLAVORED RUM', 'RUM'))\n",
    "sales['category'] = sales['category'].apply(lambda x: x.replace('TENNESSEE WHISKIES', 'WHISKEY'))\n",
    "sales['category'] = sales['category'].apply(lambda x: x.replace('SPICED RUM', 'RUM'))\n",
    "sales['category'] = sales['category'].apply(lambda x: x.replace('AMERICAN GRAPE BRANDIES', 'BRANDY'))\n",
    "sales['category'] = sales['category'].apply(lambda x: x.replace('AMERICAN DRY GINS', 'GIN'))\n",
    "sales['category'] = sales['category'].apply(lambda x: x.replace('IMPORTED VODKA - MISC', 'IMPORTED VODKA'))\n",
    "sales['category'] = sales['category'].apply(lambda x: x.replace('MISC. IMPORTED CORDIALS & LIQUEURS', 'IMPORTED CORDIAL & LIQUEUR'))\n",
    "sales['category'] = sales['category'].apply(lambda x: x.replace('CREAM LIQUEURS', 'CORDIAL & LIQUEUR'))\n",
    "sales['category'] = sales['category'].apply(lambda x: x.replace('SCOTCH WHISKIES', 'WHISKEY'))\n",
    "sales['category'] = sales['category'].apply(lambda x: x.replace('IMPORTED GRAPE BRANDIES', 'IMPORTED BRANDY'))\n",
    "sales['category'] = sales['category'].apply(lambda x: x.replace('MISC. AMERICAN CORDIALS & LIQUEURS', 'CORDIAL & LIQUEUR'))\n",
    "sales['category'] = sales['category'].apply(lambda x: x.replace('100 PROOF VODKA ', 'VODKA'))\n",
    "sales['category'] = sales['category'].apply(lambda x: x.replace('IMPORTED DRY GINS', 'IMPORTED GIN'))\n",
    "sales['category'] = sales['category'].apply(lambda x: x.replace('IRISH WHISKIES', 'IMPORTED WHISKEY'))\n",
    "sales['category'] = sales['category'].apply(lambda x: x.replace('WATERMELON SCHNAPPS', 'SCHNAPPS'))\n",
    "sales['category'] = sales['category'].apply(lambda x: x.replace('BARBADOS RUM', 'IMPORTED RUM'))\n",
    "sales['category'] = sales['category'].apply(lambda x: x.replace('JAMAICA RUM', 'IMPORTED RUM'))\n",
    "sales['category'] = sales['category'].apply(lambda x: x.replace('GRAPE SCHNAPPS', 'SCHNAPPS'))\n",
    "sales['category'] = sales['category'].apply(lambda x: x.replace('CHERRY BRANDIES', 'BRANDY'))\n",
    "sales['category'] = sales['category'].apply(lambda x: x.replace('ROOT BEER SCHNAPPS', 'SCHNAPPS'))\n",
    "sales['category'] = sales['category'].apply(lambda x: x.replace('RASPBERRY SCHNAPPS', 'SCHNAPPS'))\n",
    "sales['category'] = sales['category'].apply(lambda x: x.replace('COFFEE LIQUEURS', 'CORDIAL & LIQUEUR'))\n",
    "sales['category'] = sales['category'].apply(lambda x: x.replace('PEACH SCHNAPPS', 'SCHNAPPS'))\n",
    "sales['category'] = sales['category'].apply(lambda x: x.replace('BLACKBERRY BRANDIES', 'BRANDY'))\n",
    "sales['category'] = sales['category'].apply(lambda x: x.replace('IMPORTED AMARETTO', 'IMPORTED CORDIAL & LIQUEUR'))\n",
    "sales['category'] = sales['category'].apply(lambda x: x.replace('GREEN CREME DE MENTHE', 'CORDIAL & LIQUEUR'))\n",
    "sales['category'] = sales['category'].apply(lambda x: x.replace('FLAVORED GINS', 'GIN'))\n",
    "sales['category'] = sales['category'].apply(lambda x: x.replace('TROPICAL FRUIT SCHNAPPS', 'SCHNAPPS'))\n",
    "sales['category'] = sales['category'].apply(lambda x: x.replace('WHITE CREME DE CACAO', 'CORDIAL & LIQUEUR'))\n",
    "sales['category'] = sales['category'].apply(lambda x: x.replace('DARK CREME DE CACAO', 'CORDIAL & LIQUEUR'))\n",
    "sales['category'] = sales['category'].apply(lambda x: x.replace('BOTTLED IN BOND BOURBON', 'BOURBON'))\n",
    "sales['category'] = sales['category'].apply(lambda x: x.replace('SINGLE BARREL BOURBON WHISKIES', 'BOURBON'))\n",
    "sales['category'] = sales['category'].apply(lambda x: x.replace('AMERICAN SLOE GINS', 'GIN'))\n",
    "sales['category'] = sales['category'].apply(lambda x: x.replace('MISCELLANEOUS  BRANDIES', 'BRANDY'))\n",
    "sales['category'] = sales['category'].apply(lambda x: x.replace('SPEARMINT SCHNAPPS', 'SCHNAPPS'))\n",
    "sales['category'] = sales['category'].apply(lambda x: x.replace('ROCK & RYE', 'WHISKEY'))\n",
    "sales['category'] = sales['category'].apply(lambda x: x.replace('WHITE CREME DE MENTHE', 'CORDIAL & LIQUEUR'))\n",
    "sales['category'] = sales['category'].apply(lambda x: x.replace('CREME DE ALMOND', 'CORDIAL & LIQUEUR'))\n",
    "sales['category'] = sales['category'].apply(lambda x: x.replace('ANISETTE', 'CORDIAL & LIQUEUR'))\n",
    "sales['category'] = sales['category'].apply(lambda x: x.replace('JAPANESE WHISKY', 'IMPORTED VODKA'))\n",
    "sales['category'] = sales['category'].apply(lambda x: x.replace('LOW PROOF VODKA', 'VODKA'))\n",
    "sales['category'] = sales['category'].apply(lambda x: x.replace('CORN WHISKIES', 'WHISKEY'))\n",
    "sales['category'] = sales['category'].apply(lambda x: x.replace('AMARETTO - IMPORTED', 'IMPORTED CORDIAL & LIQUEUR'))\n",
    "sales['category'] = sales['category'].apply(lambda x: x.replace('HIGH PROOF BEER - AMERICAN', 'BEER'))\n",
    "sales['category'] = sales['category'].apply(lambda x: x.replace('CINNAMON SCHNAPPS', 'SCHNAPPS'))\n",
    "sales['category'] = sales['category'].apply(lambda x: x.replace('APPLE SCHNAPPS', 'SCHNAPPS'))\n",
    "sales['category'] = sales['category'].apply(lambda x: x.replace('TRIPLE SEC', 'CORDIAL & LIQUEUR'))\n",
    "sales['category'] = sales['category'].apply(lambda x: x.replace('BUTTERSCOTCH SCHNAPPS', 'SCHNAPPS'))\n",
    "sales['category'] = sales['category'].apply(lambda x: x.replace('MISCELLANEOUS SCHNAPPS', 'SCHNAPPS'))\n",
    "sales['category'] = sales['category'].apply(lambda x: x.replace('100 PROOF VODKA', 'VODKA'))\n",
    "sales['category'] = sales['category'].apply(lambda x: x.replace('PEPPERMINT SCHNAPPS', 'SCHNAPPS'))\n",
    "sales['category'] = sales['category'].apply(lambda x: x.replace('AMERICAN AMARETTO', 'CORDIAL & LIQUEUR'))\n",
    "sales['category'] = sales['category'].apply(lambda x: x.replace('APRICOT BRANDIES', 'BRANDY'))\n",
    "sales['category'] = sales['category'].apply(lambda x: x.replace('PEACH BRANDIES', 'BRANDY'))\n",
    "sales['category'] = sales['category'].apply(lambda x: x.replace('STRAWBERRY SCHNAPPS', 'SCHNAPPS'))\n",
    "sales['category'] = sales['category'].apply(lambda x: x.replace('OTHER PROOF VODKA', 'VODKA'))\n",
    "sales['category'] = sales['category'].apply(lambda x: x.replace('MISCELLANEOUS SCHNAPPS', 'SCHNAPPS'))\n",
    "sales['category'] = sales['category'].apply(lambda x: x.replace('STRAIGHT RYE WHISKIES', 'WHISKEY'))"
   ]
  },
  {
   "cell_type": "code",
   "execution_count": 18,
   "metadata": {
    "collapsed": false
   },
   "outputs": [
    {
     "data": {
      "text/plain": [
       "VODKA                             52771\n",
       "WHISKEY                           52576\n",
       "RUM                               31975\n",
       "CORDIAL & LIQUEUR                 25841\n",
       "IMPORTED VODKA                    17197\n",
       "BOURBON                           15851\n",
       "TEQUILA                           12109\n",
       "BRANDY                            10430\n",
       "SCHNAPPS                          10315\n",
       "GIN                                6978\n",
       "AMERICAN COCKTAILS                 6929\n",
       "IMPORTED CORDIAL & LIQUEUR         6578\n",
       "IMPORTED BRANDY                    4614\n",
       "IMPORTED SCHNAPPS                  4249\n",
       "IMPORTED GIN                       2939\n",
       "IMPORTED WHISKEY                   2791\n",
       "SINGLE MALT SCOTCH                 2288\n",
       "DISTILLED SPIRITS SPECIALTY        1380\n",
       "DECANTERS & SPECIALTY PACKAGES     1159\n",
       "IMPORTED RUM                        778\n",
       "nan                                 632\n",
       "AMERICAN ALCOHOL                    573\n",
       "BEER                                  2\n",
       "Name: category, dtype: int64"
      ]
     },
     "execution_count": 18,
     "metadata": {},
     "output_type": "execute_result"
    }
   ],
   "source": [
    "sales['category'].value_counts()"
   ]
  },
  {
   "cell_type": "code",
   "execution_count": null,
   "metadata": {
    "collapsed": false
   },
   "outputs": [],
   "source": []
  },
  {
   "cell_type": "code",
   "execution_count": 22,
   "metadata": {
    "collapsed": true
   },
   "outputs": [],
   "source": [
    "# delete rows with 'nan' entry in category column:\n",
    "\n",
    "sales = sales[sales.category != 'nan']"
   ]
  },
  {
   "cell_type": "code",
   "execution_count": 23,
   "metadata": {
    "collapsed": false
   },
   "outputs": [
    {
     "data": {
      "text/plain": [
       "VODKA                             52771\n",
       "WHISKEY                           52576\n",
       "RUM                               31975\n",
       "CORDIAL & LIQUEUR                 25841\n",
       "IMPORTED VODKA                    17197\n",
       "BOURBON                           15851\n",
       "TEQUILA                           12109\n",
       "BRANDY                            10430\n",
       "SCHNAPPS                          10315\n",
       "GIN                                6978\n",
       "AMERICAN COCKTAILS                 6929\n",
       "IMPORTED CORDIAL & LIQUEUR         6578\n",
       "IMPORTED BRANDY                    4614\n",
       "IMPORTED SCHNAPPS                  4249\n",
       "IMPORTED GIN                       2939\n",
       "IMPORTED WHISKEY                   2791\n",
       "SINGLE MALT SCOTCH                 2288\n",
       "DISTILLED SPIRITS SPECIALTY        1380\n",
       "DECANTERS & SPECIALTY PACKAGES     1159\n",
       "IMPORTED RUM                        778\n",
       "AMERICAN ALCOHOL                    573\n",
       "BEER                                  2\n",
       "Name: category, dtype: int64"
      ]
     },
     "execution_count": 23,
     "metadata": {},
     "output_type": "execute_result"
    }
   ],
   "source": [
    "sales['category'].value_counts()"
   ]
  },
  {
   "cell_type": "code",
   "execution_count": 24,
   "metadata": {
    "collapsed": true
   },
   "outputs": [],
   "source": [
    "sales_cat = sales.copy()\n",
    "sales_cat['category'] = sales_cat['category'].apply(lambda x: x.replace('IMPORTED CORDIAL & LIQUEUR', 'CORDIAL & LIQUEUR'))\n",
    "sales_cat['category'] = sales_cat['category'].apply(lambda x: x.replace('IMPORTED BRANDY', 'BRANDY'))\n",
    "sales_cat['category'] = sales_cat['category'].apply(lambda x: x.replace('IMPORTED SCHNAPPS', 'SCHNAPPS'))\n",
    "sales_cat['category'] = sales_cat['category'].apply(lambda x: x.replace('IMPORTED GIN', 'GIN'))\n",
    "sales_cat['category'] = sales_cat['category'].apply(lambda x: x.replace('IMPORTED WHISKEY', 'WHISKEY'))\n",
    "sales_cat['category'] = sales_cat['category'].apply(lambda x: x.replace('IMPORTED RUM', 'RUM'))\n",
    "sales_cat['category'] = sales_cat['category'].apply(lambda x: x.replace('IMPORTED GIN', 'GIN'))\n",
    "sales_cat['category'] = sales_cat['category'].apply(lambda x: x.replace('IMPORTED VODKA', 'VODKA'))"
   ]
  },
  {
   "cell_type": "code",
   "execution_count": 25,
   "metadata": {
    "collapsed": true
   },
   "outputs": [],
   "source": [
    "sales_cat = sales_cat[sales_cat.category != 'AMERICAN ALCOHOL']\n",
    "sales_cat = sales_cat[sales_cat.category != 'BEER']"
   ]
  },
  {
   "cell_type": "code",
   "execution_count": 26,
   "metadata": {
    "collapsed": false
   },
   "outputs": [
    {
     "data": {
      "text/plain": [
       "VODKA                             69968\n",
       "WHISKEY                           55367\n",
       "RUM                               32753\n",
       "CORDIAL & LIQUEUR                 32419\n",
       "BOURBON                           15851\n",
       "BRANDY                            15044\n",
       "SCHNAPPS                          14564\n",
       "TEQUILA                           12109\n",
       "GIN                                9917\n",
       "AMERICAN COCKTAILS                 6929\n",
       "SINGLE MALT SCOTCH                 2288\n",
       "DISTILLED SPIRITS SPECIALTY        1380\n",
       "DECANTERS & SPECIALTY PACKAGES     1159\n",
       "Name: category, dtype: int64"
      ]
     },
     "execution_count": 26,
     "metadata": {},
     "output_type": "execute_result"
    }
   ],
   "source": [
    "sales_cat['category'].value_counts()"
   ]
  },
  {
   "cell_type": "code",
   "execution_count": 27,
   "metadata": {
    "collapsed": false
   },
   "outputs": [
    {
     "data": {
      "text/plain": [
       "22"
      ]
     },
     "execution_count": 27,
     "metadata": {},
     "output_type": "execute_result"
    }
   ],
   "source": [
    "len(sales['category'].unique())  # much better!  "
   ]
  },
  {
   "cell_type": "code",
   "execution_count": 28,
   "metadata": {
    "collapsed": false
   },
   "outputs": [
    {
     "data": {
      "text/plain": [
       "13"
      ]
     },
     "execution_count": 28,
     "metadata": {},
     "output_type": "execute_result"
    }
   ],
   "source": [
    "len(sales_cat['category'].unique())  # even more consolidated!  we can make this into a dummy variable"
   ]
  },
  {
   "cell_type": "code",
   "execution_count": 29,
   "metadata": {
    "collapsed": false
   },
   "outputs": [
    {
     "data": {
      "text/html": [
       "<div>\n",
       "<table border=\"1\" class=\"dataframe\">\n",
       "  <thead>\n",
       "    <tr style=\"text-align: right;\">\n",
       "      <th></th>\n",
       "      <th>date</th>\n",
       "      <th>store</th>\n",
       "      <th>ZIP</th>\n",
       "      <th>category</th>\n",
       "      <th>vendorID</th>\n",
       "      <th>volume</th>\n",
       "      <th>cost</th>\n",
       "      <th>retail</th>\n",
       "      <th>number_sold</th>\n",
       "      <th>total_sale</th>\n",
       "      <th>volume_sold</th>\n",
       "    </tr>\n",
       "  </thead>\n",
       "  <tbody>\n",
       "    <tr>\n",
       "      <th>0</th>\n",
       "      <td>2015-11-04</td>\n",
       "      <td>3717</td>\n",
       "      <td>50674</td>\n",
       "      <td>BRANDY</td>\n",
       "      <td>55</td>\n",
       "      <td>750.0</td>\n",
       "      <td>4.5</td>\n",
       "      <td>6.75</td>\n",
       "      <td>12.0</td>\n",
       "      <td>81.0</td>\n",
       "      <td>9.0</td>\n",
       "    </tr>\n",
       "  </tbody>\n",
       "</table>\n",
       "</div>"
      ],
      "text/plain": [
       "        date store    ZIP category vendorID  volume  cost  retail  \\\n",
       "0 2015-11-04  3717  50674   BRANDY       55   750.0   4.5    6.75   \n",
       "\n",
       "   number_sold  total_sale  volume_sold  \n",
       "0         12.0        81.0          9.0  "
      ]
     },
     "execution_count": 29,
     "metadata": {},
     "output_type": "execute_result"
    }
   ],
   "source": [
    "sales_cat.head(1)"
   ]
  },
  {
   "cell_type": "code",
   "execution_count": 30,
   "metadata": {
    "collapsed": false
   },
   "outputs": [
    {
     "data": {
      "text/plain": [
       "pandas.core.series.Series"
      ]
     },
     "execution_count": 30,
     "metadata": {},
     "output_type": "execute_result"
    }
   ],
   "source": [
    "cat_counts = sales_cat['category'].value_counts()\n",
    "type(cat_counts)"
   ]
  },
  {
   "cell_type": "code",
   "execution_count": 31,
   "metadata": {
    "collapsed": false
   },
   "outputs": [
    {
     "data": {
      "image/png": "[encoded data removed]",
      "text/plain": [
       "<matplotlib.figure.Figure at 0x11b1f8dd0>"
      ]
     },
     "metadata": {},
     "output_type": "display_data"
    }
   ],
   "source": [
    "plt.figure(figsize = (12,8))\n",
    "cat_counts.plot.bar() \n",
    "plt.axhline(0, color='darkblue')\n",
    "\n",
    "plt.style.use('fivethirtyeight')\n",
    "\n",
    "plt.title('Bottles Sold by Category', fontsize = 24)\n",
    "\n",
    "# y label\n",
    "plt.ylabel('Number of Bottles')\n",
    "\n",
    "# x label\n",
    "plt.xlabel('Category')\n",
    "\n",
    "\n",
    "plt.show()"
   ]
  },
  {
   "cell_type": "code",
   "execution_count": 32,
   "metadata": {
    "collapsed": false
   },
   "outputs": [
    {
     "data": {
      "text/plain": [
       "1400"
      ]
     },
     "execution_count": 32,
     "metadata": {},
     "output_type": "execute_result"
    }
   ],
   "source": [
    "len(sales_cat['store'].unique()) # THIS WILL BE OUR KEY!  it is not currently acting as key because there are \\\n",
    "                                #multiple date entries per store"
   ]
  },
  {
   "cell_type": "code",
   "execution_count": 33,
   "metadata": {
    "collapsed": false
   },
   "outputs": [
    {
     "data": {
      "text/plain": [
       "415"
      ]
     },
     "execution_count": 33,
     "metadata": {},
     "output_type": "execute_result"
    }
   ],
   "source": [
    "len(sales_cat['ZIP'].unique()) # dummy?"
   ]
  },
  {
   "cell_type": "code",
   "execution_count": 34,
   "metadata": {
    "collapsed": false
   },
   "outputs": [
    {
     "data": {
      "text/plain": [
       "114"
      ]
     },
     "execution_count": 34,
     "metadata": {},
     "output_type": "execute_result"
    }
   ],
   "source": [
    "len(sales_cat['vendorID'].unique()) # dummy?"
   ]
  },
  {
   "cell_type": "code",
   "execution_count": 35,
   "metadata": {
    "collapsed": false
   },
   "outputs": [
    {
     "data": {
      "text/plain": [
       "750.0     121881\n",
       "1750.0     54316\n",
       "1000.0     36794\n",
       "375.0      26994\n",
       "500.0      11967\n",
       "200.0       9895\n",
       "600.0       3282\n",
       "3000.0      1605\n",
       "300.0       1338\n",
       "100.0        860\n",
       "800.0        318\n",
       "1200.0       250\n",
       "2400.0       103\n",
       "400.0         29\n",
       "850.0         24\n",
       "4800.0        17\n",
       "50.0          14\n",
       "3600.0        13\n",
       "603.0         10\n",
       "6000.0         7\n",
       "950.0          6\n",
       "2250.0         6\n",
       "2550.0         6\n",
       "1125.0         5\n",
       "150.0          3\n",
       "900.0          2\n",
       "1500.0         1\n",
       "250.0          1\n",
       "4500.0         1\n",
       "Name: volume, dtype: int64"
      ]
     },
     "execution_count": 35,
     "metadata": {},
     "output_type": "execute_result"
    }
   ],
   "source": [
    "sales_cat['volume'].value_counts()"
   ]
  },
  {
   "cell_type": "code",
   "execution_count": 36,
   "metadata": {
    "collapsed": false
   },
   "outputs": [],
   "source": [
    "# a couple of these look fishy, let's adjust by a few mLs:\n",
    "\n",
    "sales_cat['volume'] = sales_cat['volume'].apply(lambda x: str(x))\n",
    "sales_cat['volume'] = sales_cat['volume'].apply(lambda x: x.replace('603.0', '600.0'))\n",
    "sales_cat['volume'] = sales_cat['volume'].apply(lambda x: x.replace('502.0', '500.0'))\n",
    "sales_cat['volume'] = sales_cat['volume'].apply(lambda x: float(x))"
   ]
  },
  {
   "cell_type": "code",
   "execution_count": 39,
   "metadata": {
    "collapsed": false
   },
   "outputs": [
    {
     "data": {
      "text/plain": [
       "270323"
      ]
     },
     "execution_count": 39,
     "metadata": {},
     "output_type": "execute_result"
    }
   ],
   "source": [
    "sales_cat['volume'].value_counts()\n",
    "len(sales)"
   ]
  },
  {
   "cell_type": "code",
   "execution_count": 40,
   "metadata": {
    "collapsed": false
   },
   "outputs": [
    {
     "data": {
      "image/png": "[encoded data removed]",
      "text/plain": [
       "<matplotlib.figure.Figure at 0x11b1f6710>"
      ]
     },
     "metadata": {},
     "output_type": "display_data"
    }
   ],
   "source": [
    "plt.figure(figsize=(12,8))\n",
    "plt.style.use('fivethirtyeight')\n",
    "\n",
    "df_hist = plt.hist(sales_cat['volume'], color = 'darkred', bins = 20)\n",
    "\n",
    "plt.title('Histogram of Bottle Volume', fontsize = 24)\n",
    "\n",
    "# y label\n",
    "plt.ylabel('Number of Bottles')\n",
    "\n",
    "# x label\n",
    "plt.xlabel('Volume (mL)')\n",
    "\n",
    "plt.xlim([-100,6100])\n",
    "plt.ylim([-200,130000])\n",
    "\n",
    "plt.show()"
   ]
  },
  {
   "cell_type": "code",
   "execution_count": null,
   "metadata": {
    "collapsed": false
   },
   "outputs": [],
   "source": []
  },
  {
   "cell_type": "markdown",
   "metadata": {},
   "source": [
    "We can see from the histogram that the vast majority of bottles sold are below 2L in volume.  We see from the value counts table that the most frequently purchased volume is 750mL."
   ]
  },
  {
   "cell_type": "code",
   "execution_count": 42,
   "metadata": {
    "collapsed": false
   },
   "outputs": [
    {
     "data": {
      "image/png": "[encoded data removed]",
      "text/plain": [
       "<matplotlib.figure.Figure at 0x12a9229d0>"
      ]
     },
     "metadata": {},
     "output_type": "display_data"
    }
   ],
   "source": [
    "plt.figure(figsize=(12,8))\n",
    "\n",
    "plt.style.use('fivethirtyeight')\n",
    "\n",
    "plt.scatter(sales_cat['volume'], sales_cat['number_sold'], color = 'green')\n",
    "\n",
    "plt.title('Bottles Sold vs. Bottle Volume (one dot per store, per volume)', fontsize = 24)\n",
    "\n",
    "# y label\n",
    "plt.ylabel('Number of Bottles Sold')\n",
    "\n",
    "# x label\n",
    "plt.xlabel('Volume (mL)')\n",
    "\n",
    "plt.xlim([-100,6100])\n",
    "plt.ylim([-200,2700])\n",
    "\n",
    "plt.show()"
   ]
  },
  {
   "cell_type": "markdown",
   "metadata": {},
   "source": [
    "From the scatterplot, we see that some stores are selling way, way more bottles at a given volume that other stores.  A jitter would be useful here to see relative density of plotted points where it looks like they're stacking up.  (To note, there were some exceedingly large-volumed items which appear to have dropped out of the data set during cleaning.)"
   ]
  },
  {
   "cell_type": "code",
   "execution_count": 43,
   "metadata": {
    "collapsed": false,
    "scrolled": true
   },
   "outputs": [
    {
     "data": {
      "text/html": [
       "<div>\n",
       "<table border=\"1\" class=\"dataframe\">\n",
       "  <thead>\n",
       "    <tr style=\"text-align: right;\">\n",
       "      <th></th>\n",
       "      <th>date</th>\n",
       "      <th>store</th>\n",
       "      <th>ZIP</th>\n",
       "      <th>category</th>\n",
       "      <th>vendorID</th>\n",
       "      <th>volume</th>\n",
       "      <th>cost</th>\n",
       "      <th>retail</th>\n",
       "      <th>number_sold</th>\n",
       "      <th>total_sale</th>\n",
       "      <th>volume_sold</th>\n",
       "    </tr>\n",
       "  </thead>\n",
       "  <tbody>\n",
       "    <tr>\n",
       "      <th>2570</th>\n",
       "      <td>2015-10-08</td>\n",
       "      <td>2587</td>\n",
       "      <td>50131</td>\n",
       "      <td>WHISKEY</td>\n",
       "      <td>65</td>\n",
       "      <td>4800.0</td>\n",
       "      <td>71.04</td>\n",
       "      <td>106.56</td>\n",
       "      <td>1.0</td>\n",
       "      <td>106.56</td>\n",
       "      <td>4.8</td>\n",
       "    </tr>\n",
       "    <tr>\n",
       "      <th>38630</th>\n",
       "      <td>2015-12-22</td>\n",
       "      <td>2500</td>\n",
       "      <td>50010</td>\n",
       "      <td>WHISKEY</td>\n",
       "      <td>65</td>\n",
       "      <td>4800.0</td>\n",
       "      <td>71.04</td>\n",
       "      <td>106.56</td>\n",
       "      <td>1.0</td>\n",
       "      <td>106.56</td>\n",
       "      <td>4.8</td>\n",
       "    </tr>\n",
       "    <tr>\n",
       "      <th>56706</th>\n",
       "      <td>2015-01-05</td>\n",
       "      <td>2636</td>\n",
       "      <td>50317</td>\n",
       "      <td>WHISKEY</td>\n",
       "      <td>65</td>\n",
       "      <td>4800.0</td>\n",
       "      <td>45.12</td>\n",
       "      <td>67.68</td>\n",
       "      <td>1.0</td>\n",
       "      <td>67.68</td>\n",
       "      <td>4.8</td>\n",
       "    </tr>\n",
       "    <tr>\n",
       "      <th>60585</th>\n",
       "      <td>2015-11-04</td>\n",
       "      <td>3987</td>\n",
       "      <td>50511</td>\n",
       "      <td>CORDIAL &amp; LIQUEUR</td>\n",
       "      <td>305</td>\n",
       "      <td>6000.0</td>\n",
       "      <td>99.00</td>\n",
       "      <td>148.50</td>\n",
       "      <td>1.0</td>\n",
       "      <td>148.50</td>\n",
       "      <td>6.0</td>\n",
       "    </tr>\n",
       "    <tr>\n",
       "      <th>63818</th>\n",
       "      <td>2015-05-22</td>\n",
       "      <td>2636</td>\n",
       "      <td>50317</td>\n",
       "      <td>WHISKEY</td>\n",
       "      <td>65</td>\n",
       "      <td>4800.0</td>\n",
       "      <td>45.12</td>\n",
       "      <td>67.68</td>\n",
       "      <td>1.0</td>\n",
       "      <td>67.68</td>\n",
       "      <td>4.8</td>\n",
       "    </tr>\n",
       "    <tr>\n",
       "      <th>71636</th>\n",
       "      <td>2016-02-25</td>\n",
       "      <td>5106</td>\n",
       "      <td>52742</td>\n",
       "      <td>CORDIAL &amp; LIQUEUR</td>\n",
       "      <td>305</td>\n",
       "      <td>6000.0</td>\n",
       "      <td>99.00</td>\n",
       "      <td>148.50</td>\n",
       "      <td>1.0</td>\n",
       "      <td>148.50</td>\n",
       "      <td>6.0</td>\n",
       "    </tr>\n",
       "    <tr>\n",
       "      <th>74088</th>\n",
       "      <td>2015-02-04</td>\n",
       "      <td>2500</td>\n",
       "      <td>50010</td>\n",
       "      <td>CORDIAL &amp; LIQUEUR</td>\n",
       "      <td>308</td>\n",
       "      <td>4500.0</td>\n",
       "      <td>68.94</td>\n",
       "      <td>103.41</td>\n",
       "      <td>1.0</td>\n",
       "      <td>103.41</td>\n",
       "      <td>4.5</td>\n",
       "    </tr>\n",
       "    <tr>\n",
       "      <th>114946</th>\n",
       "      <td>2015-07-28</td>\n",
       "      <td>4819</td>\n",
       "      <td>50009</td>\n",
       "      <td>WHISKEY</td>\n",
       "      <td>65</td>\n",
       "      <td>4800.0</td>\n",
       "      <td>45.12</td>\n",
       "      <td>67.68</td>\n",
       "      <td>3.0</td>\n",
       "      <td>203.04</td>\n",
       "      <td>14.4</td>\n",
       "    </tr>\n",
       "    <tr>\n",
       "      <th>121877</th>\n",
       "      <td>2015-12-23</td>\n",
       "      <td>5093</td>\n",
       "      <td>52753</td>\n",
       "      <td>CORDIAL &amp; LIQUEUR</td>\n",
       "      <td>305</td>\n",
       "      <td>6000.0</td>\n",
       "      <td>99.00</td>\n",
       "      <td>148.50</td>\n",
       "      <td>1.0</td>\n",
       "      <td>148.50</td>\n",
       "      <td>6.0</td>\n",
       "    </tr>\n",
       "    <tr>\n",
       "      <th>141875</th>\n",
       "      <td>2015-01-07</td>\n",
       "      <td>2603</td>\n",
       "      <td>52722</td>\n",
       "      <td>WHISKEY</td>\n",
       "      <td>65</td>\n",
       "      <td>4800.0</td>\n",
       "      <td>45.12</td>\n",
       "      <td>67.68</td>\n",
       "      <td>1.0</td>\n",
       "      <td>67.68</td>\n",
       "      <td>4.8</td>\n",
       "    </tr>\n",
       "    <tr>\n",
       "      <th>157333</th>\n",
       "      <td>2016-01-27</td>\n",
       "      <td>2502</td>\n",
       "      <td>50021</td>\n",
       "      <td>CORDIAL &amp; LIQUEUR</td>\n",
       "      <td>305</td>\n",
       "      <td>6000.0</td>\n",
       "      <td>99.00</td>\n",
       "      <td>148.50</td>\n",
       "      <td>1.0</td>\n",
       "      <td>148.50</td>\n",
       "      <td>6.0</td>\n",
       "    </tr>\n",
       "    <tr>\n",
       "      <th>158273</th>\n",
       "      <td>2015-03-09</td>\n",
       "      <td>2549</td>\n",
       "      <td>50125</td>\n",
       "      <td>WHISKEY</td>\n",
       "      <td>65</td>\n",
       "      <td>4800.0</td>\n",
       "      <td>45.12</td>\n",
       "      <td>67.68</td>\n",
       "      <td>1.0</td>\n",
       "      <td>67.68</td>\n",
       "      <td>4.8</td>\n",
       "    </tr>\n",
       "    <tr>\n",
       "      <th>163211</th>\n",
       "      <td>2015-06-24</td>\n",
       "      <td>2614</td>\n",
       "      <td>52807</td>\n",
       "      <td>WHISKEY</td>\n",
       "      <td>65</td>\n",
       "      <td>4800.0</td>\n",
       "      <td>45.12</td>\n",
       "      <td>67.68</td>\n",
       "      <td>1.0</td>\n",
       "      <td>67.68</td>\n",
       "      <td>4.8</td>\n",
       "    </tr>\n",
       "    <tr>\n",
       "      <th>187835</th>\n",
       "      <td>2015-11-18</td>\n",
       "      <td>2622</td>\n",
       "      <td>52240</td>\n",
       "      <td>CORDIAL &amp; LIQUEUR</td>\n",
       "      <td>305</td>\n",
       "      <td>6000.0</td>\n",
       "      <td>99.00</td>\n",
       "      <td>148.50</td>\n",
       "      <td>1.0</td>\n",
       "      <td>148.50</td>\n",
       "      <td>6.0</td>\n",
       "    </tr>\n",
       "    <tr>\n",
       "      <th>197079</th>\n",
       "      <td>2015-05-20</td>\n",
       "      <td>2670</td>\n",
       "      <td>52241</td>\n",
       "      <td>WHISKEY</td>\n",
       "      <td>65</td>\n",
       "      <td>4800.0</td>\n",
       "      <td>45.12</td>\n",
       "      <td>67.68</td>\n",
       "      <td>1.0</td>\n",
       "      <td>67.68</td>\n",
       "      <td>4.8</td>\n",
       "    </tr>\n",
       "    <tr>\n",
       "      <th>203021</th>\n",
       "      <td>2015-12-28</td>\n",
       "      <td>2556</td>\n",
       "      <td>51334</td>\n",
       "      <td>CORDIAL &amp; LIQUEUR</td>\n",
       "      <td>305</td>\n",
       "      <td>6000.0</td>\n",
       "      <td>99.00</td>\n",
       "      <td>148.50</td>\n",
       "      <td>1.0</td>\n",
       "      <td>148.50</td>\n",
       "      <td>6.0</td>\n",
       "    </tr>\n",
       "    <tr>\n",
       "      <th>203127</th>\n",
       "      <td>2015-10-12</td>\n",
       "      <td>2653</td>\n",
       "      <td>52353</td>\n",
       "      <td>WHISKEY</td>\n",
       "      <td>65</td>\n",
       "      <td>4800.0</td>\n",
       "      <td>71.04</td>\n",
       "      <td>106.56</td>\n",
       "      <td>1.0</td>\n",
       "      <td>106.56</td>\n",
       "      <td>4.8</td>\n",
       "    </tr>\n",
       "    <tr>\n",
       "      <th>205400</th>\n",
       "      <td>2015-01-22</td>\n",
       "      <td>5034</td>\n",
       "      <td>50401</td>\n",
       "      <td>WHISKEY</td>\n",
       "      <td>65</td>\n",
       "      <td>4800.0</td>\n",
       "      <td>45.12</td>\n",
       "      <td>67.68</td>\n",
       "      <td>1.0</td>\n",
       "      <td>67.68</td>\n",
       "      <td>4.8</td>\n",
       "    </tr>\n",
       "    <tr>\n",
       "      <th>213869</th>\n",
       "      <td>2015-03-04</td>\n",
       "      <td>2614</td>\n",
       "      <td>52807</td>\n",
       "      <td>WHISKEY</td>\n",
       "      <td>65</td>\n",
       "      <td>4800.0</td>\n",
       "      <td>45.12</td>\n",
       "      <td>67.68</td>\n",
       "      <td>1.0</td>\n",
       "      <td>67.68</td>\n",
       "      <td>4.8</td>\n",
       "    </tr>\n",
       "    <tr>\n",
       "      <th>220834</th>\n",
       "      <td>2015-03-26</td>\n",
       "      <td>2587</td>\n",
       "      <td>50131</td>\n",
       "      <td>WHISKEY</td>\n",
       "      <td>65</td>\n",
       "      <td>4800.0</td>\n",
       "      <td>45.12</td>\n",
       "      <td>67.68</td>\n",
       "      <td>1.0</td>\n",
       "      <td>67.68</td>\n",
       "      <td>4.8</td>\n",
       "    </tr>\n",
       "    <tr>\n",
       "      <th>225581</th>\n",
       "      <td>2015-02-19</td>\n",
       "      <td>2626</td>\n",
       "      <td>50311</td>\n",
       "      <td>WHISKEY</td>\n",
       "      <td>65</td>\n",
       "      <td>4800.0</td>\n",
       "      <td>45.12</td>\n",
       "      <td>67.68</td>\n",
       "      <td>1.0</td>\n",
       "      <td>67.68</td>\n",
       "      <td>4.8</td>\n",
       "    </tr>\n",
       "    <tr>\n",
       "      <th>233407</th>\n",
       "      <td>2015-10-06</td>\n",
       "      <td>2524</td>\n",
       "      <td>52001</td>\n",
       "      <td>CORDIAL &amp; LIQUEUR</td>\n",
       "      <td>305</td>\n",
       "      <td>6000.0</td>\n",
       "      <td>99.00</td>\n",
       "      <td>148.50</td>\n",
       "      <td>25.0</td>\n",
       "      <td>3712.50</td>\n",
       "      <td>150.0</td>\n",
       "    </tr>\n",
       "    <tr>\n",
       "      <th>253785</th>\n",
       "      <td>2015-03-02</td>\n",
       "      <td>2605</td>\n",
       "      <td>52402</td>\n",
       "      <td>WHISKEY</td>\n",
       "      <td>65</td>\n",
       "      <td>4800.0</td>\n",
       "      <td>45.12</td>\n",
       "      <td>67.68</td>\n",
       "      <td>1.0</td>\n",
       "      <td>67.68</td>\n",
       "      <td>4.8</td>\n",
       "    </tr>\n",
       "    <tr>\n",
       "      <th>256406</th>\n",
       "      <td>2015-03-04</td>\n",
       "      <td>2603</td>\n",
       "      <td>52722</td>\n",
       "      <td>WHISKEY</td>\n",
       "      <td>65</td>\n",
       "      <td>4800.0</td>\n",
       "      <td>45.12</td>\n",
       "      <td>67.68</td>\n",
       "      <td>1.0</td>\n",
       "      <td>67.68</td>\n",
       "      <td>4.8</td>\n",
       "    </tr>\n",
       "    <tr>\n",
       "      <th>261736</th>\n",
       "      <td>2015-04-13</td>\n",
       "      <td>2670</td>\n",
       "      <td>52241</td>\n",
       "      <td>WHISKEY</td>\n",
       "      <td>65</td>\n",
       "      <td>4800.0</td>\n",
       "      <td>45.12</td>\n",
       "      <td>67.68</td>\n",
       "      <td>3.0</td>\n",
       "      <td>203.04</td>\n",
       "      <td>14.4</td>\n",
       "    </tr>\n",
       "  </tbody>\n",
       "</table>\n",
       "</div>"
      ],
      "text/plain": [
       "             date store    ZIP           category vendorID  volume   cost  \\\n",
       "2570   2015-10-08  2587  50131            WHISKEY       65  4800.0  71.04   \n",
       "38630  2015-12-22  2500  50010            WHISKEY       65  4800.0  71.04   \n",
       "56706  2015-01-05  2636  50317            WHISKEY       65  4800.0  45.12   \n",
       "60585  2015-11-04  3987  50511  CORDIAL & LIQUEUR      305  6000.0  99.00   \n",
       "63818  2015-05-22  2636  50317            WHISKEY       65  4800.0  45.12   \n",
       "71636  2016-02-25  5106  52742  CORDIAL & LIQUEUR      305  6000.0  99.00   \n",
       "74088  2015-02-04  2500  50010  CORDIAL & LIQUEUR      308  4500.0  68.94   \n",
       "114946 2015-07-28  4819  50009            WHISKEY       65  4800.0  45.12   \n",
       "121877 2015-12-23  5093  52753  CORDIAL & LIQUEUR      305  6000.0  99.00   \n",
       "141875 2015-01-07  2603  52722            WHISKEY       65  4800.0  45.12   \n",
       "157333 2016-01-27  2502  50021  CORDIAL & LIQUEUR      305  6000.0  99.00   \n",
       "158273 2015-03-09  2549  50125            WHISKEY       65  4800.0  45.12   \n",
       "163211 2015-06-24  2614  52807            WHISKEY       65  4800.0  45.12   \n",
       "187835 2015-11-18  2622  52240  CORDIAL & LIQUEUR      305  6000.0  99.00   \n",
       "197079 2015-05-20  2670  52241            WHISKEY       65  4800.0  45.12   \n",
       "203021 2015-12-28  2556  51334  CORDIAL & LIQUEUR      305  6000.0  99.00   \n",
       "203127 2015-10-12  2653  52353            WHISKEY       65  4800.0  71.04   \n",
       "205400 2015-01-22  5034  50401            WHISKEY       65  4800.0  45.12   \n",
       "213869 2015-03-04  2614  52807            WHISKEY       65  4800.0  45.12   \n",
       "220834 2015-03-26  2587  50131            WHISKEY       65  4800.0  45.12   \n",
       "225581 2015-02-19  2626  50311            WHISKEY       65  4800.0  45.12   \n",
       "233407 2015-10-06  2524  52001  CORDIAL & LIQUEUR      305  6000.0  99.00   \n",
       "253785 2015-03-02  2605  52402            WHISKEY       65  4800.0  45.12   \n",
       "256406 2015-03-04  2603  52722            WHISKEY       65  4800.0  45.12   \n",
       "261736 2015-04-13  2670  52241            WHISKEY       65  4800.0  45.12   \n",
       "\n",
       "        retail  number_sold  total_sale  volume_sold  \n",
       "2570    106.56          1.0      106.56          4.8  \n",
       "38630   106.56          1.0      106.56          4.8  \n",
       "56706    67.68          1.0       67.68          4.8  \n",
       "60585   148.50          1.0      148.50          6.0  \n",
       "63818    67.68          1.0       67.68          4.8  \n",
       "71636   148.50          1.0      148.50          6.0  \n",
       "74088   103.41          1.0      103.41          4.5  \n",
       "114946   67.68          3.0      203.04         14.4  \n",
       "121877  148.50          1.0      148.50          6.0  \n",
       "141875   67.68          1.0       67.68          4.8  \n",
       "157333  148.50          1.0      148.50          6.0  \n",
       "158273   67.68          1.0       67.68          4.8  \n",
       "163211   67.68          1.0       67.68          4.8  \n",
       "187835  148.50          1.0      148.50          6.0  \n",
       "197079   67.68          1.0       67.68          4.8  \n",
       "203021  148.50          1.0      148.50          6.0  \n",
       "203127  106.56          1.0      106.56          4.8  \n",
       "205400   67.68          1.0       67.68          4.8  \n",
       "213869   67.68          1.0       67.68          4.8  \n",
       "220834   67.68          1.0       67.68          4.8  \n",
       "225581   67.68          1.0       67.68          4.8  \n",
       "233407  148.50         25.0     3712.50        150.0  \n",
       "253785   67.68          1.0       67.68          4.8  \n",
       "256406   67.68          1.0       67.68          4.8  \n",
       "261736   67.68          3.0      203.04         14.4  "
      ]
     },
     "execution_count": 43,
     "metadata": {},
     "output_type": "execute_result"
    }
   ],
   "source": [
    "# let's see what's up with some of the larger volumes:\n",
    "\n",
    "sales_cat[sales_cat['volume'] > 4000]"
   ]
  },
  {
   "cell_type": "markdown",
   "metadata": {},
   "source": [
    "As we can see from the table above, there are three vendors selling all bottles over 4L; vendor 65 is selling some kind of whiskey, vendor 305 is selling a cordial/liqueur, and vendor 308 just sold one cordial/liqueur to store 2500.  No store is buying much from either vendor 65 or vendor 305, **except** store 233407, which bought 25 units from vendor 305."
   ]
  },
  {
   "cell_type": "markdown",
   "metadata": {},
   "source": [
    "We need to get rid of all entries for any store with NaN in 'dollars_sold' when grouped by month, because those stores likely opened or closed within the period of data collection and thus do not accurately represent that store's profits in that time."
   ]
  },
  {
   "cell_type": "code",
   "execution_count": 44,
   "metadata": {
    "collapsed": false
   },
   "outputs": [],
   "source": [
    "sales_cat['year'] = sales_cat['date'].apply(lambda x: x.year)\n",
    "sales_cat['month'] = sales_cat['date'].apply(lambda x: x.month)"
   ]
  },
  {
   "cell_type": "code",
   "execution_count": 45,
   "metadata": {
    "collapsed": false
   },
   "outputs": [],
   "source": [
    "get_stores = sales_cat.groupby(['year', 'store', 'month'])['total_sale'].aggregate(sum).unstack()"
   ]
  },
  {
   "cell_type": "code",
   "execution_count": 46,
   "metadata": {
    "collapsed": true
   },
   "outputs": [],
   "source": [
    "get_stores.columns = ['Jan', 'Feb', 'Mar', 'Apr', 'May', 'Jun', 'Jul', 'Aug', 'Sep', 'Oct', 'Nov', \"Dec\"]"
   ]
  },
  {
   "cell_type": "code",
   "execution_count": 47,
   "metadata": {
    "collapsed": false
   },
   "outputs": [
    {
     "data": {
      "text/plain": [
       "FrozenList([u'year', u'store'])"
      ]
     },
     "execution_count": 47,
     "metadata": {},
     "output_type": "execute_result"
    }
   ],
   "source": [
    "get_stores.index.names"
   ]
  },
  {
   "cell_type": "code",
   "execution_count": 48,
   "metadata": {
    "collapsed": false
   },
   "outputs": [
    {
     "data": {
      "text/html": [
       "<div>\n",
       "<table border=\"1\" class=\"dataframe\">\n",
       "  <thead>\n",
       "    <tr style=\"text-align: right;\">\n",
       "      <th></th>\n",
       "      <th></th>\n",
       "      <th>Jan</th>\n",
       "      <th>Feb</th>\n",
       "      <th>Mar</th>\n",
       "      <th>Apr</th>\n",
       "      <th>May</th>\n",
       "      <th>Jun</th>\n",
       "      <th>Jul</th>\n",
       "      <th>Aug</th>\n",
       "      <th>Sep</th>\n",
       "      <th>Oct</th>\n",
       "      <th>Nov</th>\n",
       "      <th>Dec</th>\n",
       "    </tr>\n",
       "    <tr>\n",
       "      <th>year</th>\n",
       "      <th>store</th>\n",
       "      <th></th>\n",
       "      <th></th>\n",
       "      <th></th>\n",
       "      <th></th>\n",
       "      <th></th>\n",
       "      <th></th>\n",
       "      <th></th>\n",
       "      <th></th>\n",
       "      <th></th>\n",
       "      <th></th>\n",
       "      <th></th>\n",
       "      <th></th>\n",
       "    </tr>\n",
       "  </thead>\n",
       "  <tbody>\n",
       "    <tr>\n",
       "      <th rowspan=\"5\" valign=\"top\">2015</th>\n",
       "      <th>2106</th>\n",
       "      <td>13567.80</td>\n",
       "      <td>12873.14</td>\n",
       "      <td>12846.35</td>\n",
       "      <td>11957.86</td>\n",
       "      <td>7526.88</td>\n",
       "      <td>11688.72</td>\n",
       "      <td>15764.34</td>\n",
       "      <td>12329.82</td>\n",
       "      <td>10230.61</td>\n",
       "      <td>16899.33</td>\n",
       "      <td>10688.38</td>\n",
       "      <td>9665.47</td>\n",
       "    </tr>\n",
       "    <tr>\n",
       "      <th>2113</th>\n",
       "      <td>813.68</td>\n",
       "      <td>713.59</td>\n",
       "      <td>1305.98</td>\n",
       "      <td>414.15</td>\n",
       "      <td>727.69</td>\n",
       "      <td>852.46</td>\n",
       "      <td>782.97</td>\n",
       "      <td>184.47</td>\n",
       "      <td>1146.12</td>\n",
       "      <td>862.29</td>\n",
       "      <td>397.05</td>\n",
       "      <td>1109.77</td>\n",
       "    </tr>\n",
       "    <tr>\n",
       "      <th>2130</th>\n",
       "      <td>7725.66</td>\n",
       "      <td>8655.08</td>\n",
       "      <td>7891.83</td>\n",
       "      <td>13738.75</td>\n",
       "      <td>13612.92</td>\n",
       "      <td>7686.42</td>\n",
       "      <td>10137.66</td>\n",
       "      <td>5955.66</td>\n",
       "      <td>8512.56</td>\n",
       "      <td>11169.32</td>\n",
       "      <td>5072.91</td>\n",
       "      <td>11425.14</td>\n",
       "    </tr>\n",
       "    <tr>\n",
       "      <th>2152</th>\n",
       "      <td>1096.72</td>\n",
       "      <td>589.59</td>\n",
       "      <td>317.15</td>\n",
       "      <td>231.52</td>\n",
       "      <td>783.02</td>\n",
       "      <td>384.38</td>\n",
       "      <td>877.10</td>\n",
       "      <td>971.09</td>\n",
       "      <td>398.51</td>\n",
       "      <td>937.63</td>\n",
       "      <td>504.88</td>\n",
       "      <td>615.99</td>\n",
       "    </tr>\n",
       "    <tr>\n",
       "      <th>2178</th>\n",
       "      <td>2251.52</td>\n",
       "      <td>1427.65</td>\n",
       "      <td>2177.24</td>\n",
       "      <td>1255.40</td>\n",
       "      <td>2672.73</td>\n",
       "      <td>3058.20</td>\n",
       "      <td>1326.52</td>\n",
       "      <td>1369.37</td>\n",
       "      <td>2972.26</td>\n",
       "      <td>1735.26</td>\n",
       "      <td>1372.99</td>\n",
       "      <td>2705.04</td>\n",
       "    </tr>\n",
       "  </tbody>\n",
       "</table>\n",
       "</div>"
      ],
      "text/plain": [
       "                 Jan       Feb       Mar       Apr       May       Jun  \\\n",
       "year store                                                               \n",
       "2015 2106   13567.80  12873.14  12846.35  11957.86   7526.88  11688.72   \n",
       "     2113     813.68    713.59   1305.98    414.15    727.69    852.46   \n",
       "     2130    7725.66   8655.08   7891.83  13738.75  13612.92   7686.42   \n",
       "     2152    1096.72    589.59    317.15    231.52    783.02    384.38   \n",
       "     2178    2251.52   1427.65   2177.24   1255.40   2672.73   3058.20   \n",
       "\n",
       "                 Jul       Aug       Sep       Oct       Nov       Dec  \n",
       "year store                                                              \n",
       "2015 2106   15764.34  12329.82  10230.61  16899.33  10688.38   9665.47  \n",
       "     2113     782.97    184.47   1146.12    862.29    397.05   1109.77  \n",
       "     2130   10137.66   5955.66   8512.56  11169.32   5072.91  11425.14  \n",
       "     2152     877.10    971.09    398.51    937.63    504.88    615.99  \n",
       "     2178    1326.52   1369.37   2972.26   1735.26   1372.99   2705.04  "
      ]
     },
     "execution_count": 48,
     "metadata": {},
     "output_type": "execute_result"
    }
   ],
   "source": [
    "get_stores.head()"
   ]
  },
  {
   "cell_type": "code",
   "execution_count": 49,
   "metadata": {
    "collapsed": false
   },
   "outputs": [],
   "source": [
    "# separate out 2015 and 2016 data so we can take out NaN-containing rows from 2015; 2016 is in progress \\\n",
    "    # at time of data reporting, so if we did the same to it we would remove all rows!\n",
    "\n",
    "stores_2015 = get_stores.loc[2015]\n",
    "stores_2016 = get_stores.loc[2016]"
   ]
  },
  {
   "cell_type": "code",
   "execution_count": 50,
   "metadata": {
    "collapsed": false
   },
   "outputs": [],
   "source": [
    "stores_2015 = stores_2015.dropna()"
   ]
  },
  {
   "cell_type": "code",
   "execution_count": 51,
   "metadata": {
    "collapsed": false
   },
   "outputs": [],
   "source": [
    "# match up indeces\n",
    "\n",
    "new_index = stores_2015.index\n",
    "stores_2016 = stores_2016[stores_2016.index.isin(new_index)]\n",
    "newer_index = stores_2016.index\n",
    "stores_2015 = stores_2015[stores_2015.index.isin(newer_index)]"
   ]
  },
  {
   "cell_type": "code",
   "execution_count": 52,
   "metadata": {
    "collapsed": false
   },
   "outputs": [],
   "source": [
    "# get store totals\n",
    "\n",
    "stores_2015['total'] = stores_2015.sum(axis = 1)\n",
    "stores_2016['total'] = stores_2016.sum(axis = 1)"
   ]
  },
  {
   "cell_type": "markdown",
   "metadata": {},
   "source": [
    "Below we have monthly 2015 sales totals by store, with a cumulative column on the right ('total')."
   ]
  },
  {
   "cell_type": "code",
   "execution_count": 53,
   "metadata": {
    "collapsed": false
   },
   "outputs": [
    {
     "data": {
      "text/html": [
       "<div>\n",
       "<table border=\"1\" class=\"dataframe\">\n",
       "  <thead>\n",
       "    <tr style=\"text-align: right;\">\n",
       "      <th></th>\n",
       "      <th>Jan</th>\n",
       "      <th>Feb</th>\n",
       "      <th>Mar</th>\n",
       "      <th>Apr</th>\n",
       "      <th>May</th>\n",
       "      <th>Jun</th>\n",
       "      <th>Jul</th>\n",
       "      <th>Aug</th>\n",
       "      <th>Sep</th>\n",
       "      <th>Oct</th>\n",
       "      <th>Nov</th>\n",
       "      <th>Dec</th>\n",
       "      <th>total</th>\n",
       "    </tr>\n",
       "    <tr>\n",
       "      <th>store</th>\n",
       "      <th></th>\n",
       "      <th></th>\n",
       "      <th></th>\n",
       "      <th></th>\n",
       "      <th></th>\n",
       "      <th></th>\n",
       "      <th></th>\n",
       "      <th></th>\n",
       "      <th></th>\n",
       "      <th></th>\n",
       "      <th></th>\n",
       "      <th></th>\n",
       "      <th></th>\n",
       "    </tr>\n",
       "  </thead>\n",
       "  <tbody>\n",
       "    <tr>\n",
       "      <th>2106</th>\n",
       "      <td>13567.80</td>\n",
       "      <td>12873.14</td>\n",
       "      <td>12846.35</td>\n",
       "      <td>11957.86</td>\n",
       "      <td>7526.88</td>\n",
       "      <td>11688.72</td>\n",
       "      <td>15764.34</td>\n",
       "      <td>12329.82</td>\n",
       "      <td>10230.61</td>\n",
       "      <td>16899.33</td>\n",
       "      <td>10688.38</td>\n",
       "      <td>9665.47</td>\n",
       "      <td>146038.70</td>\n",
       "    </tr>\n",
       "    <tr>\n",
       "      <th>2113</th>\n",
       "      <td>813.68</td>\n",
       "      <td>713.59</td>\n",
       "      <td>1305.98</td>\n",
       "      <td>414.15</td>\n",
       "      <td>727.69</td>\n",
       "      <td>852.46</td>\n",
       "      <td>782.97</td>\n",
       "      <td>184.47</td>\n",
       "      <td>1146.12</td>\n",
       "      <td>862.29</td>\n",
       "      <td>397.05</td>\n",
       "      <td>1109.77</td>\n",
       "      <td>9310.22</td>\n",
       "    </tr>\n",
       "  </tbody>\n",
       "</table>\n",
       "</div>"
      ],
      "text/plain": [
       "            Jan       Feb       Mar       Apr      May       Jun       Jul  \\\n",
       "store                                                                        \n",
       "2106   13567.80  12873.14  12846.35  11957.86  7526.88  11688.72  15764.34   \n",
       "2113     813.68    713.59   1305.98    414.15   727.69    852.46    782.97   \n",
       "\n",
       "            Aug       Sep       Oct       Nov      Dec      total  \n",
       "store                                                              \n",
       "2106   12329.82  10230.61  16899.33  10688.38  9665.47  146038.70  \n",
       "2113     184.47   1146.12    862.29    397.05  1109.77    9310.22  "
      ]
     },
     "execution_count": 53,
     "metadata": {},
     "output_type": "execute_result"
    }
   ],
   "source": [
    "stores_2015.head(2)"
   ]
  },
  {
   "cell_type": "markdown",
   "metadata": {},
   "source": [
    "Likewise, here we have the same for 2016 (for which we only have data through the first quarter)."
   ]
  },
  {
   "cell_type": "code",
   "execution_count": 54,
   "metadata": {
    "collapsed": false
   },
   "outputs": [
    {
     "data": {
      "text/html": [
       "<div>\n",
       "<table border=\"1\" class=\"dataframe\">\n",
       "  <thead>\n",
       "    <tr style=\"text-align: right;\">\n",
       "      <th></th>\n",
       "      <th>Jan</th>\n",
       "      <th>Feb</th>\n",
       "      <th>Mar</th>\n",
       "      <th>Apr</th>\n",
       "      <th>May</th>\n",
       "      <th>Jun</th>\n",
       "      <th>Jul</th>\n",
       "      <th>Aug</th>\n",
       "      <th>Sep</th>\n",
       "      <th>Oct</th>\n",
       "      <th>Nov</th>\n",
       "      <th>Dec</th>\n",
       "      <th>total</th>\n",
       "    </tr>\n",
       "    <tr>\n",
       "      <th>store</th>\n",
       "      <th></th>\n",
       "      <th></th>\n",
       "      <th></th>\n",
       "      <th></th>\n",
       "      <th></th>\n",
       "      <th></th>\n",
       "      <th></th>\n",
       "      <th></th>\n",
       "      <th></th>\n",
       "      <th></th>\n",
       "      <th></th>\n",
       "      <th></th>\n",
       "      <th></th>\n",
       "    </tr>\n",
       "  </thead>\n",
       "  <tbody>\n",
       "    <tr>\n",
       "      <th>2106</th>\n",
       "      <td>8472.17</td>\n",
       "      <td>12053.61</td>\n",
       "      <td>9952.97</td>\n",
       "      <td>NaN</td>\n",
       "      <td>NaN</td>\n",
       "      <td>NaN</td>\n",
       "      <td>NaN</td>\n",
       "      <td>NaN</td>\n",
       "      <td>NaN</td>\n",
       "      <td>NaN</td>\n",
       "      <td>NaN</td>\n",
       "      <td>NaN</td>\n",
       "      <td>30478.75</td>\n",
       "    </tr>\n",
       "    <tr>\n",
       "      <th>2113</th>\n",
       "      <td>892.94</td>\n",
       "      <td>727.16</td>\n",
       "      <td>445.80</td>\n",
       "      <td>NaN</td>\n",
       "      <td>NaN</td>\n",
       "      <td>NaN</td>\n",
       "      <td>NaN</td>\n",
       "      <td>NaN</td>\n",
       "      <td>NaN</td>\n",
       "      <td>NaN</td>\n",
       "      <td>NaN</td>\n",
       "      <td>NaN</td>\n",
       "      <td>2065.90</td>\n",
       "    </tr>\n",
       "  </tbody>\n",
       "</table>\n",
       "</div>"
      ],
      "text/plain": [
       "           Jan       Feb      Mar  Apr  May  Jun  Jul  Aug  Sep  Oct  Nov  \\\n",
       "store                                                                       \n",
       "2106   8472.17  12053.61  9952.97  NaN  NaN  NaN  NaN  NaN  NaN  NaN  NaN   \n",
       "2113    892.94    727.16   445.80  NaN  NaN  NaN  NaN  NaN  NaN  NaN  NaN   \n",
       "\n",
       "       Dec     total  \n",
       "store                 \n",
       "2106   NaN  30478.75  \n",
       "2113   NaN   2065.90  "
      ]
     },
     "execution_count": 54,
     "metadata": {},
     "output_type": "execute_result"
    }
   ],
   "source": [
    "stores_2016.head(2)"
   ]
  },
  {
   "cell_type": "code",
   "execution_count": 57,
   "metadata": {
    "collapsed": false
   },
   "outputs": [],
   "source": [
    "# separate by quarter to get quarterly sums\n",
    "\n",
    "Q1_2015 = stores_2015[['Jan', 'Feb', 'Mar']]\n",
    "Q2_2015 = stores_2015[['Apr', 'May', 'Jun']]\n",
    "Q3_2015 = stores_2015[['Jul', 'Aug', 'Sep']]\n",
    "Q4_2015 = stores_2015[['Oct', 'Nov', 'Dec']]\n",
    "Q1_2016 = stores_2016[['Jan', 'Feb', 'Mar']]"
   ]
  },
  {
   "cell_type": "code",
   "execution_count": 58,
   "metadata": {
    "collapsed": false
   },
   "outputs": [
    {
     "name": "stderr",
     "output_type": "stream",
     "text": [
      "/anaconda/lib/python2.7/site-packages/ipykernel/__main__.py:3: SettingWithCopyWarning:\n",
      "\n",
      "\n",
      "A value is trying to be set on a copy of a slice from a DataFrame.\n",
      "Try using .loc[row_indexer,col_indexer] = value instead\n",
      "\n",
      "See the caveats in the documentation: http://pandas.pydata.org/pandas-docs/stable/indexing.html#indexing-view-versus-copy\n",
      "\n",
      "/anaconda/lib/python2.7/site-packages/ipykernel/__main__.py:4: SettingWithCopyWarning:\n",
      "\n",
      "\n",
      "A value is trying to be set on a copy of a slice from a DataFrame.\n",
      "Try using .loc[row_indexer,col_indexer] = value instead\n",
      "\n",
      "See the caveats in the documentation: http://pandas.pydata.org/pandas-docs/stable/indexing.html#indexing-view-versus-copy\n",
      "\n",
      "/anaconda/lib/python2.7/site-packages/ipykernel/__main__.py:5: SettingWithCopyWarning:\n",
      "\n",
      "\n",
      "A value is trying to be set on a copy of a slice from a DataFrame.\n",
      "Try using .loc[row_indexer,col_indexer] = value instead\n",
      "\n",
      "See the caveats in the documentation: http://pandas.pydata.org/pandas-docs/stable/indexing.html#indexing-view-versus-copy\n",
      "\n",
      "/anaconda/lib/python2.7/site-packages/ipykernel/__main__.py:6: SettingWithCopyWarning:\n",
      "\n",
      "\n",
      "A value is trying to be set on a copy of a slice from a DataFrame.\n",
      "Try using .loc[row_indexer,col_indexer] = value instead\n",
      "\n",
      "See the caveats in the documentation: http://pandas.pydata.org/pandas-docs/stable/indexing.html#indexing-view-versus-copy\n",
      "\n",
      "/anaconda/lib/python2.7/site-packages/ipykernel/__main__.py:8: SettingWithCopyWarning:\n",
      "\n",
      "\n",
      "A value is trying to be set on a copy of a slice from a DataFrame.\n",
      "Try using .loc[row_indexer,col_indexer] = value instead\n",
      "\n",
      "See the caveats in the documentation: http://pandas.pydata.org/pandas-docs/stable/indexing.html#indexing-view-versus-copy\n",
      "\n"
     ]
    }
   ],
   "source": [
    "# quarterly sum columns inserted into respective frames\n",
    "\n",
    "Q1_2015['total'] = Q1_2015.sum(axis = 1)\n",
    "Q2_2015['total'] = Q2_2015.sum(axis = 1)\n",
    "Q3_2015['total'] = Q3_2015.sum(axis = 1)\n",
    "Q4_2015['total'] = Q4_2015.sum(axis = 1)\n",
    "\n",
    "Q1_2016['total'] = Q1_2016.sum(axis = 1)"
   ]
  },
  {
   "cell_type": "code",
   "execution_count": 59,
   "metadata": {
    "collapsed": false
   },
   "outputs": [],
   "source": [
    "# update original dataframe to include only stores we're interested in:\n",
    "\n",
    "nice_sales = sales_cat[sales_cat['store'].isin(newer_index)]"
   ]
  },
  {
   "cell_type": "code",
   "execution_count": 60,
   "metadata": {
    "collapsed": false
   },
   "outputs": [
    {
     "data": {
      "text/html": [
       "<div>\n",
       "<table border=\"1\" class=\"dataframe\">\n",
       "  <thead>\n",
       "    <tr style=\"text-align: right;\">\n",
       "      <th></th>\n",
       "      <th>date</th>\n",
       "      <th>store</th>\n",
       "      <th>ZIP</th>\n",
       "      <th>category</th>\n",
       "      <th>vendorID</th>\n",
       "      <th>volume</th>\n",
       "      <th>cost</th>\n",
       "      <th>retail</th>\n",
       "      <th>number_sold</th>\n",
       "      <th>total_sale</th>\n",
       "      <th>volume_sold</th>\n",
       "      <th>year</th>\n",
       "      <th>month</th>\n",
       "    </tr>\n",
       "  </thead>\n",
       "  <tbody>\n",
       "    <tr>\n",
       "      <th>0</th>\n",
       "      <td>2015-11-04</td>\n",
       "      <td>3717</td>\n",
       "      <td>50674</td>\n",
       "      <td>BRANDY</td>\n",
       "      <td>55</td>\n",
       "      <td>750.0</td>\n",
       "      <td>4.50</td>\n",
       "      <td>6.75</td>\n",
       "      <td>12.0</td>\n",
       "      <td>81.00</td>\n",
       "      <td>9.0</td>\n",
       "      <td>2015</td>\n",
       "      <td>11</td>\n",
       "    </tr>\n",
       "    <tr>\n",
       "      <th>1</th>\n",
       "      <td>2016-03-02</td>\n",
       "      <td>2614</td>\n",
       "      <td>52807</td>\n",
       "      <td>WHISKEY</td>\n",
       "      <td>395</td>\n",
       "      <td>750.0</td>\n",
       "      <td>13.75</td>\n",
       "      <td>20.63</td>\n",
       "      <td>2.0</td>\n",
       "      <td>41.26</td>\n",
       "      <td>1.5</td>\n",
       "      <td>2016</td>\n",
       "      <td>3</td>\n",
       "    </tr>\n",
       "  </tbody>\n",
       "</table>\n",
       "</div>"
      ],
      "text/plain": [
       "        date store    ZIP category vendorID  volume   cost  retail  \\\n",
       "0 2015-11-04  3717  50674   BRANDY       55   750.0   4.50    6.75   \n",
       "1 2016-03-02  2614  52807  WHISKEY      395   750.0  13.75   20.63   \n",
       "\n",
       "   number_sold  total_sale  volume_sold  year  month  \n",
       "0         12.0       81.00          9.0  2015     11  \n",
       "1          2.0       41.26          1.5  2016      3  "
      ]
     },
     "execution_count": 60,
     "metadata": {},
     "output_type": "execute_result"
    }
   ],
   "source": [
    "nice_sales.head(2)"
   ]
  },
  {
   "cell_type": "code",
   "execution_count": 61,
   "metadata": {
    "collapsed": false
   },
   "outputs": [],
   "source": [
    "# don't need time variables anymore, delete\n",
    "\n",
    "del nice_sales['date']\n",
    "del nice_sales['year']\n",
    "del nice_sales['month']"
   ]
  },
  {
   "cell_type": "code",
   "execution_count": 62,
   "metadata": {
    "collapsed": false
   },
   "outputs": [],
   "source": [
    "# pivot nice_sales frame to see 'store' as index\n",
    "\n",
    "nicer_sales = nice_sales.pivot_table(index = 'store')"
   ]
  },
  {
   "cell_type": "code",
   "execution_count": 63,
   "metadata": {
    "collapsed": false
   },
   "outputs": [
    {
     "data": {
      "text/html": [
       "<div>\n",
       "<table border=\"1\" class=\"dataframe\">\n",
       "  <thead>\n",
       "    <tr style=\"text-align: right;\">\n",
       "      <th></th>\n",
       "      <th>cost</th>\n",
       "      <th>number_sold</th>\n",
       "      <th>retail</th>\n",
       "      <th>total_sale</th>\n",
       "      <th>volume</th>\n",
       "      <th>volume_sold</th>\n",
       "    </tr>\n",
       "    <tr>\n",
       "      <th>store</th>\n",
       "      <th></th>\n",
       "      <th></th>\n",
       "      <th></th>\n",
       "      <th></th>\n",
       "      <th></th>\n",
       "      <th></th>\n",
       "    </tr>\n",
       "  </thead>\n",
       "  <tbody>\n",
       "    <tr>\n",
       "      <th>2106</th>\n",
       "      <td>10.311273</td>\n",
       "      <td>12573.0</td>\n",
       "      <td>15.479095</td>\n",
       "      <td>270.732285</td>\n",
       "      <td>913.496933</td>\n",
       "      <td>11836.10</td>\n",
       "    </tr>\n",
       "    <tr>\n",
       "      <th>2113</th>\n",
       "      <td>10.838152</td>\n",
       "      <td>830.0</td>\n",
       "      <td>16.267717</td>\n",
       "      <td>61.826739</td>\n",
       "      <td>954.483696</td>\n",
       "      <td>836.85</td>\n",
       "    </tr>\n",
       "    <tr>\n",
       "      <th>2130</th>\n",
       "      <td>10.006398</td>\n",
       "      <td>9144.0</td>\n",
       "      <td>15.015197</td>\n",
       "      <td>274.488228</td>\n",
       "      <td>935.777559</td>\n",
       "      <td>8436.27</td>\n",
       "    </tr>\n",
       "    <tr>\n",
       "      <th>2152</th>\n",
       "      <td>8.543882</td>\n",
       "      <td>708.0</td>\n",
       "      <td>12.853000</td>\n",
       "      <td>53.435353</td>\n",
       "      <td>1063.235294</td>\n",
       "      <td>772.75</td>\n",
       "    </tr>\n",
       "    <tr>\n",
       "      <th>2178</th>\n",
       "      <td>9.608639</td>\n",
       "      <td>2396.0</td>\n",
       "      <td>14.435374</td>\n",
       "      <td>101.192789</td>\n",
       "      <td>1027.636054</td>\n",
       "      <td>2428.92</td>\n",
       "    </tr>\n",
       "  </tbody>\n",
       "</table>\n",
       "</div>"
      ],
      "text/plain": [
       "            cost  number_sold     retail  total_sale       volume  volume_sold\n",
       "store                                                                         \n",
       "2106   10.311273      12573.0  15.479095  270.732285   913.496933     11836.10\n",
       "2113   10.838152        830.0  16.267717   61.826739   954.483696       836.85\n",
       "2130   10.006398       9144.0  15.015197  274.488228   935.777559      8436.27\n",
       "2152    8.543882        708.0  12.853000   53.435353  1063.235294       772.75\n",
       "2178    9.608639       2396.0  14.435374  101.192789  1027.636054      2428.92"
      ]
     },
     "execution_count": 63,
     "metadata": {},
     "output_type": "execute_result"
    }
   ],
   "source": [
    "# add volume_sold (per store) and number_sold (per store) to nicer_sales\n",
    "\n",
    "nicer_sales['volume_sold'] = nice_sales.groupby('store')['volume_sold'].sum()\n",
    "nicer_sales['number_sold'] = nice_sales.groupby('store')['number_sold'].sum()\n",
    "nicer_sales.head()"
   ]
  },
  {
   "cell_type": "code",
   "execution_count": 64,
   "metadata": {
    "collapsed": false
   },
   "outputs": [],
   "source": [
    "# add quarterly info to nicer_sales\n",
    "\n",
    "nicer_sales['Q1_2015'] = Q1_2015['total']\n",
    "nicer_sales['Q2_2015'] = Q2_2015['total']\n",
    "nicer_sales['Q3_2015'] = Q3_2015['total']\n",
    "nicer_sales['Q4_2015'] = Q4_2015['total']\n",
    "nicer_sales['total_2015'] = nicer_sales.sum(axis = 1)\n",
    "nicer_sales['Q1_2016'] = Q1_2016['total']"
   ]
  },
  {
   "cell_type": "code",
   "execution_count": 65,
   "metadata": {
    "collapsed": false
   },
   "outputs": [],
   "source": [
    "# something weird happens with the old float columns; let's take them out\n",
    "\n",
    "del nicer_sales['cost']\n",
    "del nicer_sales['retail']\n",
    "del nicer_sales['total_sale']\n",
    "del nicer_sales['volume']"
   ]
  },
  {
   "cell_type": "code",
   "execution_count": 66,
   "metadata": {
    "collapsed": false
   },
   "outputs": [
    {
     "data": {
      "text/html": [
       "<div>\n",
       "<table border=\"1\" class=\"dataframe\">\n",
       "  <thead>\n",
       "    <tr style=\"text-align: right;\">\n",
       "      <th></th>\n",
       "      <th>Q1_2015</th>\n",
       "      <th>Q2_2015</th>\n",
       "      <th>Q3_2015</th>\n",
       "      <th>Q4_2015</th>\n",
       "      <th>Q1_2016</th>\n",
       "      <th>total_2015</th>\n",
       "      <th>volume_sold</th>\n",
       "      <th>number_sold</th>\n",
       "    </tr>\n",
       "    <tr>\n",
       "      <th>store</th>\n",
       "      <th></th>\n",
       "      <th></th>\n",
       "      <th></th>\n",
       "      <th></th>\n",
       "      <th></th>\n",
       "      <th></th>\n",
       "      <th></th>\n",
       "      <th></th>\n",
       "    </tr>\n",
       "  </thead>\n",
       "  <tbody>\n",
       "    <tr>\n",
       "      <th>2106</th>\n",
       "      <td>39287.29</td>\n",
       "      <td>31173.46</td>\n",
       "      <td>38324.77</td>\n",
       "      <td>37253.18</td>\n",
       "      <td>30478.75</td>\n",
       "      <td>171657.819586</td>\n",
       "      <td>11836.10</td>\n",
       "      <td>12573.0</td>\n",
       "    </tr>\n",
       "    <tr>\n",
       "      <th>2113</th>\n",
       "      <td>2833.25</td>\n",
       "      <td>1994.30</td>\n",
       "      <td>2113.56</td>\n",
       "      <td>2369.11</td>\n",
       "      <td>2065.90</td>\n",
       "      <td>12020.486304</td>\n",
       "      <td>836.85</td>\n",
       "      <td>830.0</td>\n",
       "    </tr>\n",
       "    <tr>\n",
       "      <th>2130</th>\n",
       "      <td>24272.57</td>\n",
       "      <td>35038.09</td>\n",
       "      <td>24605.88</td>\n",
       "      <td>27667.37</td>\n",
       "      <td>27856.11</td>\n",
       "      <td>130399.467382</td>\n",
       "      <td>8436.27</td>\n",
       "      <td>9144.0</td>\n",
       "    </tr>\n",
       "    <tr>\n",
       "      <th>2152</th>\n",
       "      <td>2003.46</td>\n",
       "      <td>1398.92</td>\n",
       "      <td>2246.70</td>\n",
       "      <td>2058.50</td>\n",
       "      <td>1376.43</td>\n",
       "      <td>10326.397529</td>\n",
       "      <td>772.75</td>\n",
       "      <td>708.0</td>\n",
       "    </tr>\n",
       "    <tr>\n",
       "      <th>2178</th>\n",
       "      <td>5856.41</td>\n",
       "      <td>6986.33</td>\n",
       "      <td>5668.15</td>\n",
       "      <td>5813.29</td>\n",
       "      <td>5426.50</td>\n",
       "      <td>30301.972857</td>\n",
       "      <td>2428.92</td>\n",
       "      <td>2396.0</td>\n",
       "    </tr>\n",
       "  </tbody>\n",
       "</table>\n",
       "</div>"
      ],
      "text/plain": [
       "        Q1_2015   Q2_2015   Q3_2015   Q4_2015   Q1_2016     total_2015  \\\n",
       "store                                                                    \n",
       "2106   39287.29  31173.46  38324.77  37253.18  30478.75  171657.819586   \n",
       "2113    2833.25   1994.30   2113.56   2369.11   2065.90   12020.486304   \n",
       "2130   24272.57  35038.09  24605.88  27667.37  27856.11  130399.467382   \n",
       "2152    2003.46   1398.92   2246.70   2058.50   1376.43   10326.397529   \n",
       "2178    5856.41   6986.33   5668.15   5813.29   5426.50   30301.972857   \n",
       "\n",
       "       volume_sold  number_sold  \n",
       "store                            \n",
       "2106      11836.10      12573.0  \n",
       "2113        836.85        830.0  \n",
       "2130       8436.27       9144.0  \n",
       "2152        772.75        708.0  \n",
       "2178       2428.92       2396.0  "
      ]
     },
     "execution_count": 66,
     "metadata": {},
     "output_type": "execute_result"
    }
   ],
   "source": [
    "nicer_sales = nicer_sales[['Q1_2015', 'Q2_2015', 'Q3_2015', 'Q4_2015', 'Q1_2016', 'total_2015', 'volume_sold', 'number_sold']]\n",
    "nicer_sales.head()"
   ]
  },
  {
   "cell_type": "code",
   "execution_count": 94,
   "metadata": {
    "collapsed": false
   },
   "outputs": [
    {
     "name": "stdout",
     "output_type": "stream",
     "text": [
      "[<Color red>, <Color #fc0>, <Color #6f0>, <Color #0f6>, <Color #0cf>, <Color blue>]\n"
     ]
    },
    {
     "data": {
      "image/png": "[encoded data removed]",
      "text/plain": [
       "<matplotlib.figure.Figure at 0x12d711550>"
      ]
     },
     "metadata": {},
     "output_type": "display_data"
    }
   ],
   "source": [
    "fig, axes = plt.subplots(3,2, figsize=(16,8))\n",
    "plt.style.use('fivethirtyeight')\n",
    "\n",
    "axes_details = type(axes)\n",
    "fig_details = type(fig)\n",
    "\n",
    "red = Color('red')\n",
    "blue = Color('blue')\n",
    "my_colors = list(red.range_to(blue, 6))\n",
    "print my_colors\n",
    "\n",
    "axes[0][0].hist(nicer_sales['Q1_2015'], color = 'darkblue', bins = 100)\n",
    "axes[0][0].set_xlim([0, 50000])\n",
    "axes[0][0].set_ylim([0, 300])\n",
    "axes[0][0].set_title('Q1 2015 Earnings by Store')\n",
    "axes[0][0].set_xlabel('dollars')\n",
    "axes[0][0].set_ylabel('count')\n",
    "\n",
    "axes[0][1].hist(nicer_sales['Q2_2015'], color = 'darkblue', bins = 100)\n",
    "axes[0][1].set_xlim([0, 50000])\n",
    "axes[0][1].set_ylim([0, 300])\n",
    "axes[0][1].set_title('Q2 2015 Earnings by Store')\n",
    "axes[0][1].set_xlabel('dollars')\n",
    "axes[0][1].set_ylabel('count')\n",
    "\n",
    "axes[1][0].hist(nicer_sales['Q3_2015'], color = 'darkblue', bins = 100)\n",
    "axes[1][0].set_xlim([0, 50000])\n",
    "axes[1][0].set_ylim([0, 300])\n",
    "axes[1][0].set_title('Q3 2015 Earnings by Store')\n",
    "axes[1][0].set_xlabel('dollars')\n",
    "axes[1][0].set_ylabel('count')\n",
    "\n",
    "axes[1][1].hist(nicer_sales['Q4_2015'], color = 'darkblue', bins = 100)\n",
    "axes[1][1].set_xlim([0, 50000])\n",
    "axes[1][1].set_ylim([0, 300])\n",
    "axes[1][1].set_title('Q4 2015 Earnings by Store')\n",
    "axes[1][1].set_xlabel('dollars')\n",
    "axes[1][1].set_ylabel('count')\n",
    "\n",
    "axes[2][0].hist(nicer_sales['total_2015'], color = 'darkred', bins = 50)\n",
    "axes[2][0].set_xlim([0, 300000])\n",
    "axes[2][0].set_ylim([0, 300])\n",
    "axes[2][0].set_title('Total Earnings by Store, 2015')\n",
    "axes[2][0].set_xlabel('dollars')\n",
    "axes[2][0].set_ylabel('count')\n",
    "\n",
    "axes[2][1].hist(nicer_sales['Q1_2016'], color = 'darkblue', bins = 100)\n",
    "axes[2][1].set_xlim([0, 50000])\n",
    "axes[2][1].set_ylim([0, 300])\n",
    "axes[2][1].set_title('Q1 2016 Earnings by Store')\n",
    "axes[2][1].set_xlabel('dollars')\n",
    "axes[2][1].set_ylabel('count')\n",
    "\n",
    "plt.tight_layout()\n",
    "plt.show()"
   ]
  },
  {
   "cell_type": "code",
   "execution_count": null,
   "metadata": {
    "collapsed": false
   },
   "outputs": [],
   "source": []
  },
  {
   "cell_type": "markdown",
   "metadata": {},
   "source": [
    "We'll make 'total_2015' our target variable and try to fit a model using the first fiscal quarter of 2015.  "
   ]
  },
  {
   "cell_type": "code",
   "execution_count": 97,
   "metadata": {
    "collapsed": false
   },
   "outputs": [],
   "source": [
    "# target; we want to try to predict total dollars for 2016, so we use total dollars for 2015 to build model\n",
    "my_y = nicer_sales['total_2015']\n",
    "\n",
    "# independent variable & intercept     \n",
    "nicer_sales['intercept'] = 1\n",
    "my_X = nicer_sales[['intercept', 'Q1_2015', 'volume_sold', 'number_sold']] # volume&number_sold are total, not quarterly"
   ]
  },
  {
   "cell_type": "code",
   "execution_count": 105,
   "metadata": {
    "collapsed": false
   },
   "outputs": [
    {
     "name": "stdout",
     "output_type": "stream",
     "text": [
      "STANDARD LINEAR REGRESSION\n",
      "R^2 = 0.993558774285\n",
      "Betas: [ 0.          1.26213351  7.86677278  3.5870002 ]\n",
      "Mean abs. val. of coeffs: 3.17897662329\n",
      "Max. abs. val. coeff: 7.86677278074\n"
     ]
    }
   ],
   "source": [
    "# do standard linear regression\n",
    "\n",
    "lr = linear_model.LinearRegression()\n",
    "model = lr.fit(my_X, my_y)\n",
    "\n",
    "print 'STANDARD LINEAR REGRESSION'\n",
    "lr_r2 =  r2_score(y_true=my_y, y_pred=model.predict(my_X))\n",
    "print 'R^2 = %s' %lr_r2\n",
    "print 'Betas: %s' %model.coef_\n",
    "mab = abs(model.coef_).mean()\n",
    "print 'Mean abs. val. of coeffs: %s' %mab\n",
    "maxcoeff = abs(model.coef_.max())\n",
    "print 'Max. abs. val. coeff: %s' %maxcoeff"
   ]
  },
  {
   "cell_type": "code",
   "execution_count": 106,
   "metadata": {
    "collapsed": false
   },
   "outputs": [
    {
     "data": {
      "text/plain": [
       "0.8805933271224724"
      ]
     },
     "execution_count": 106,
     "metadata": {},
     "output_type": "execute_result"
    }
   ],
   "source": [
    "# get cross validation score using 100 folds\n",
    "\n",
    "cross_val_score(lr, my_X, my_y, n_jobs=1, cv=100).mean()"
   ]
  },
  {
   "cell_type": "code",
   "execution_count": 107,
   "metadata": {
    "collapsed": false
   },
   "outputs": [
    {
     "data": {
      "text/plain": [
       "-34941024.097045749"
      ]
     },
     "execution_count": 107,
     "metadata": {},
     "output_type": "execute_result"
    }
   ],
   "source": [
    "# get cross validation score using 100 folds and mean squared error metric\n",
    "\n",
    "cross_val_score(lr, my_X, my_y, n_jobs=1, cv=5,\n",
    "                scoring='mean_squared_error').mean()"
   ]
  },
  {
   "cell_type": "code",
   "execution_count": 108,
   "metadata": {
    "collapsed": true
   },
   "outputs": [],
   "source": [
    "# use cross_val_predict on the standard model\n",
    "\n",
    "cvp_lr_preds = cross_val_predict(lr, my_X, my_y, cv=100)"
   ]
  },
  {
   "cell_type": "code",
   "execution_count": 109,
   "metadata": {
    "collapsed": false
   },
   "outputs": [
    {
     "data": {
      "text/plain": [
       "array([  1.86128258e+05,   1.12777793e+04,   1.28030472e+05,\n",
       "         9.28039868e+03,   3.32367010e+04,   1.44922369e+05,\n",
       "         1.58297672e+05,   2.80495045e+04,   2.26380576e+04,\n",
       "         3.79541659e+04,   5.51708719e+04,   6.52344883e+04,\n",
       "         6.64748218e+04,   1.20678539e+04,   7.38096108e+04,\n",
       "         1.16352876e+05,   7.58593937e+03,   2.43467992e+04,\n",
       "         8.78861014e+03,   4.43012316e+04,   2.97007952e+04,\n",
       "         2.09600956e+04,   1.85708536e+04,   1.89383902e+05,\n",
       "         1.79104344e+05,   1.83510155e+05,   9.20038062e+04,\n",
       "         1.68353668e+05,   4.58628959e+04,   1.36772226e+05,\n",
       "         6.77150859e+04,   4.91295155e+05,   7.96012646e+04,\n",
       "         1.98423685e+04,   1.45959087e+05,   9.91131173e+04,\n",
       "         5.00450396e+04,   1.38576582e+05,   1.21497598e+05,\n",
       "         5.17879075e+04,   1.22841880e+05,   7.40503167e+04,\n",
       "         1.35604592e+05,   5.27195010e+04,   7.35049596e+04,\n",
       "         9.15860305e+04,   8.53440919e+04,   6.95732700e+04,\n",
       "         7.99526373e+04,   7.21161683e+04,   1.53798959e+05,\n",
       "         5.17763532e+04,   1.21539030e+05,   1.11537865e+05,\n",
       "         2.35077636e+04,   4.34061903e+04,   1.40324743e+05,\n",
       "         3.44364305e+04,   3.47401736e+04,   9.72302393e+04,\n",
       "         4.97375197e+04,   1.18896099e+05,   1.39133250e+04,\n",
       "         1.35796319e+05,   1.78880655e+05,   8.01183114e+04,\n",
       "         6.07586518e+04,   9.37775426e+04,   3.47287937e+04,\n",
       "         6.11895612e+04,   4.61230069e+04,   6.14131211e+04,\n",
       "         1.07951753e+05,   1.12142040e+05,   1.39685688e+05,\n",
       "         3.05054221e+04,   6.35751688e+04,   8.17580177e+04,\n",
       "         3.34522944e+04,   9.14282724e+04,   5.21587964e+04,\n",
       "         8.22557978e+04,   8.41883059e+04,   1.03315328e+05,\n",
       "         1.38610443e+05,   5.97070544e+04,   2.15639988e+04,\n",
       "         2.08053662e+05,   8.60494627e+04,   1.14919957e+05,\n",
       "         3.83666827e+04,   2.59014256e+04,   2.68509314e+04,\n",
       "         7.09757958e+04,   6.45449055e+04,   1.42723911e+05,\n",
       "         6.73350993e+04,   1.31045243e+05,   4.83443486e+04,\n",
       "         6.17060459e+04,   6.71572275e+03,   4.96989420e+04,\n",
       "         2.76067443e+04,   1.16209380e+05,   1.85034230e+05,\n",
       "         1.89185911e+05,   2.95887580e+04,   1.47260076e+05,\n",
       "         1.11901279e+05,   1.08038217e+05,   7.35013678e+04,\n",
       "         1.18510844e+05,   1.18512934e+05,   2.17754342e+05,\n",
       "         1.11877725e+05,   1.20811643e+05,   2.05085468e+04,\n",
       "         2.16890190e+05,   2.82651737e+04,   1.12044872e+06,\n",
       "         1.15802198e+05,   8.98549652e+04,   1.15293025e+05,\n",
       "         3.82865516e+04,   7.64592327e+04,   8.28699230e+04,\n",
       "         1.51613700e+05,   1.21234631e+05,   1.80844239e+05,\n",
       "         7.80201252e+04,   6.13118912e+04,   9.95699747e+04,\n",
       "         6.06398322e+04,   4.57468512e+04,   1.32018244e+04,\n",
       "         1.28446266e+04,   6.89587027e+03,   4.12055188e+03,\n",
       "         2.51529445e+04,   5.79319511e+04,   4.97198987e+04,\n",
       "         1.74029269e+05,   1.37588675e+05,   1.25227198e+05,\n",
       "         1.15386167e+04,   9.71377162e+03,   2.51330810e+05,\n",
       "         5.64172682e+04,   1.26971775e+04,   8.93311928e+03,\n",
       "         5.94077404e+03,   9.83871796e+03,   1.72004165e+04,\n",
       "         9.48066946e+03,   1.09688337e+04,   9.89397799e+03,\n",
       "         3.39234621e+03,   6.14699448e+03,   3.79454775e+03,\n",
       "         1.30498053e+04,   1.16717988e+04,   1.34153063e+04,\n",
       "         1.20936355e+04,   8.81519898e+03,   7.27123046e+03,\n",
       "         3.28913463e+04,   2.64937197e+05,   5.28974649e+05,\n",
       "         1.58400078e+05,   5.69767705e+04,   1.08382575e+04,\n",
       "         4.00343062e+04,   4.15923166e+05,   6.29267807e+04,\n",
       "         2.66191069e+05,   7.91065109e+04,   1.64986558e+04,\n",
       "         1.25950733e+04,   1.50671494e+05,   4.12200323e+03,\n",
       "         2.31679245e+04,   1.82680249e+05,   4.52119644e+04,\n",
       "         4.00347725e+04,   4.73518966e+04,   2.04192901e+05,\n",
       "         6.17547661e+04,   1.35149759e+04,   1.86026171e+04,\n",
       "         1.76114608e+04,   3.59414755e+04,   8.72131431e+04,\n",
       "         5.21415367e+04,   2.07142723e+04,   8.18930913e+04,\n",
       "         1.21974571e+04,   4.22326886e+04,   6.44535451e+04,\n",
       "         9.29636614e+03,   8.00925969e+03,   7.85129842e+04,\n",
       "         7.96194083e+04,   4.24332295e+04,   4.89516168e+04,\n",
       "         2.04977498e+04,   6.35821598e+04,   4.02572561e+04,\n",
       "         5.22524477e+04,   6.01081830e+04,   5.27876378e+04,\n",
       "         6.77865731e+03,   7.36485081e+04,   3.67676515e+04,\n",
       "         5.34525165e+04,   4.10474464e+03,   2.51214586e+04,\n",
       "         1.92292459e+04,   1.24141285e+04,   8.47369914e+03,\n",
       "         2.20373298e+04,   1.56169432e+04,   4.33394605e+04,\n",
       "         1.46491437e+04,   3.26007066e+04,   5.65689034e+04,\n",
       "         3.75527651e+03,   1.98419021e+04,   1.41901079e+04,\n",
       "         2.92540021e+04,   5.25756237e+03,   1.29517524e+04,\n",
       "         2.55255855e+04,   1.24611996e+04,   1.49363920e+04,\n",
       "         9.31056914e+03,   3.69907450e+04,   2.96562377e+04,\n",
       "         3.88325391e+04,   2.42967927e+04,   1.73811596e+04,\n",
       "         5.94410448e+04,   2.03814138e+04,   9.79588491e+03,\n",
       "         3.15549074e+04,   6.41855107e+04,   4.46101799e+04,\n",
       "         3.65382779e+04,   2.97213429e+04,   3.89048994e+04,\n",
       "         6.04161824e+04,   3.53848322e+04,   3.62702748e+04,\n",
       "         2.00063199e+04,   2.85370703e+04,   2.03236481e+04,\n",
       "         2.82483842e+04,   1.24736078e+04,   2.49197474e+04,\n",
       "         1.10687320e+04,   6.80049742e+04,   3.50967647e+04,\n",
       "         1.62890745e+04,   1.05245318e+04,   6.94892610e+04,\n",
       "         2.46879625e+05,   2.84993032e+04,   6.20241847e+04,\n",
       "         1.24781347e+04,   6.87386371e+03,   1.24130912e+04,\n",
       "         3.72426261e+04,   2.76988083e+04,   1.99229791e+04,\n",
       "         2.78750782e+04,   2.99375976e+04,   4.80789602e+04,\n",
       "         2.35662474e+04,   1.50391912e+04,   2.23516768e+04,\n",
       "         1.00998257e+04,   2.43247135e+05,   1.87801861e+04,\n",
       "         2.58659984e+04,   3.24944246e+04,   2.08293460e+05,\n",
       "         4.08392198e+03,   2.70410437e+04,   1.98321837e+04,\n",
       "         3.71963081e+04,   9.81806253e+03,   2.23903439e+04,\n",
       "         5.14172528e+04,   1.09132561e+04,   3.72878743e+04,\n",
       "         9.77614475e+03,   2.21803832e+04,   6.90014115e+03,\n",
       "         3.47004973e+04,   2.80348501e+04,   3.25337071e+04,\n",
       "         9.55882151e+03,   7.74297296e+04,   3.49640041e+04,\n",
       "         7.92228392e+03,   1.41462519e+04,   6.71722603e+03,\n",
       "         1.16010655e+04,   5.05405512e+04,   7.26943928e+03,\n",
       "         3.69653808e+04,   2.30214808e+04,   3.06644184e+04,\n",
       "         2.44319240e+04,   2.34436576e+04,   2.86515826e+04,\n",
       "         5.74848938e+04,   1.05206976e+04,   2.56277020e+04,\n",
       "         1.52086662e+04,   1.15902019e+04,   2.20646393e+04,\n",
       "         1.10918873e+04,   2.74608904e+04,   9.09579835e+03,\n",
       "         2.03933513e+04,   1.10001206e+05,   1.91216850e+04,\n",
       "         7.35689962e+03,   2.97347763e+04,   2.73065292e+04,\n",
       "         5.13588795e+04,   2.06039827e+04,   1.12736751e+05,\n",
       "         1.15104867e+04,   1.79578387e+04,   4.04383519e+03,\n",
       "         3.55899507e+05,   5.13010963e+03,   1.26130643e+04,\n",
       "         2.57934009e+04,   9.07923995e+03,   3.75790169e+03,\n",
       "         3.98684035e+03,   7.30074590e+04,   4.06174072e+04,\n",
       "         4.21814016e+04,   2.94934986e+04,   2.04473383e+04,\n",
       "         4.32513047e+04,   3.54657171e+04,   5.61357774e+04,\n",
       "         1.52116375e+04,   6.81076280e+03,   2.93135616e+04,\n",
       "         5.05862071e+04,   1.20101714e+04,   1.02032124e+04,\n",
       "         9.54697228e+03,   1.93248994e+04,   2.51328331e+04,\n",
       "         3.53407102e+04,   3.42988095e+03,   3.17288792e+04,\n",
       "         2.28228630e+04,   2.79025659e+04,   1.18811686e+04,\n",
       "         1.03198555e+04,   2.13355810e+04,   5.71533459e+03,\n",
       "         2.74453452e+04,   5.15021866e+04,   4.44073576e+04,\n",
       "         1.14800340e+04,   2.77358337e+04,   1.19035327e+04,\n",
       "         2.45527236e+04,   6.15898510e+04,   2.26821125e+04,\n",
       "         9.74136670e+03,   3.44104136e+04,   2.21039407e+04,\n",
       "         2.41218276e+04,   3.87455311e+04,   9.60730598e+03,\n",
       "         1.82361325e+04,   1.99155223e+04,   2.19887093e+04,\n",
       "         5.06070682e+04,   1.60807915e+04,   8.94232525e+03,\n",
       "         4.37704050e+04,   1.05942461e+04,   1.48252159e+04,\n",
       "         4.35116134e+03,   1.55880660e+04,   6.83733469e+03,\n",
       "         1.86747347e+04,   6.52505762e+04,   1.82304039e+04,\n",
       "         1.63369534e+04,   6.58087816e+03,   9.92669934e+03,\n",
       "         2.03488896e+04,   1.74714170e+04,   1.78263142e+04,\n",
       "         1.87126153e+04,   2.89018419e+04,   1.15874063e+04,\n",
       "         1.22431484e+04,   4.55352547e+04,   3.31153364e+04,\n",
       "         7.47826097e+03,   2.06439478e+04,   2.65172900e+04,\n",
       "         1.52400350e+04,   8.74510678e+03,   1.54352827e+04,\n",
       "         3.94084193e+04,   1.95692599e+04,   3.84523344e+04,\n",
       "         1.96512509e+04,   9.41938923e+03,   1.20643957e+04,\n",
       "         2.70306998e+04,   1.38560721e+04,   2.52466842e+04,\n",
       "         1.18486160e+04,   9.17522612e+03,   1.99733740e+05,\n",
       "         9.79499107e+03,   4.95764226e+03,   2.09247204e+04,\n",
       "         9.49146703e+03,   4.42634908e+03,   1.70234042e+04,\n",
       "         7.79384545e+03,   2.66975458e+04,   2.95193119e+04,\n",
       "         2.66134112e+04,   1.02480144e+04,   2.08650469e+04,\n",
       "         9.88699902e+03,   1.15993264e+04,   1.10186626e+04,\n",
       "         1.73982931e+04,   7.57128616e+03,   6.58622493e+03,\n",
       "         1.89109786e+04,   1.01938794e+04,   2.59484777e+04,\n",
       "         1.71736142e+04,   1.31877938e+04,   1.11443047e+04,\n",
       "         1.69096887e+04,   2.99100604e+04,   9.34723427e+03,\n",
       "         9.67822044e+03,   7.67710852e+04,   3.54670901e+04,\n",
       "         1.31216107e+04,   1.25127369e+04,   3.70066014e+04,\n",
       "         4.07773055e+04,   1.04844648e+04,   1.72087953e+04,\n",
       "         4.08576937e+03,   3.85255591e+04,   1.56984329e+04,\n",
       "         7.70011347e+03,   3.07865353e+04,   1.65919211e+04,\n",
       "         7.10797379e+03,   1.49318843e+04,   6.43953150e+03,\n",
       "         1.31555493e+04,   1.42363757e+04,   1.28978600e+04,\n",
       "         5.98213427e+04,   1.34844569e+04,   6.03520895e+04,\n",
       "         2.45416906e+04,   2.49823227e+04,   2.12329509e+04,\n",
       "         3.56691304e+04,   9.53570731e+03,   8.31757838e+03,\n",
       "         2.32485221e+04,   3.74821607e+04,   6.03334415e+03,\n",
       "         1.31393151e+04,   2.04547315e+04,   2.79614472e+03,\n",
       "         1.23931943e+04,   4.10990796e+04,   8.51821842e+03,\n",
       "         1.71171690e+04,   1.23672253e+04,   2.92504478e+04,\n",
       "         1.35407787e+04,   3.50173625e+04,   3.58944569e+03,\n",
       "         1.04358847e+04,   2.37074970e+04,   2.39188137e+04,\n",
       "         1.06415694e+04,   7.84769449e+03,   1.74297001e+04,\n",
       "         2.98828807e+04,   1.12383057e+04,   5.49085855e+04,\n",
       "         1.51514732e+05,   1.52984805e+04,   1.13880787e+04,\n",
       "         8.83923767e+03,   1.11394085e+04,   2.22580330e+04,\n",
       "         1.22807031e+04,   7.00658620e+03,   3.91820786e+03,\n",
       "         2.51774708e+04,   3.60984141e+03,   4.73949529e+03,\n",
       "         2.02649252e+04,   1.74970231e+04,   1.10554571e+04,\n",
       "         1.64342767e+03,   5.29449157e+03,   2.68865442e+03,\n",
       "         5.20974363e+03,   6.01965178e+03,   8.38398290e+03,\n",
       "         6.27474709e+03,   3.13045039e+03,   3.66958200e+03,\n",
       "         7.39922198e+03,   4.05223558e+03,   5.03621790e+03,\n",
       "         8.14130518e+03,   3.59020977e+03,   4.95246684e+03,\n",
       "         1.15925642e+04,   6.79165917e+03,   6.32825813e+03,\n",
       "         9.99771612e+03,   7.02012062e+03,   3.30799578e+03,\n",
       "         7.82038897e+03,   4.41161895e+03,   8.02550170e+03,\n",
       "         1.43022320e+04,   6.26176470e+03,   5.22894001e+03,\n",
       "         6.69985905e+03,   7.34508370e+03,   3.49355405e+03,\n",
       "         3.56244044e+03,   3.93833217e+04,   4.07866530e+03,\n",
       "         8.99704370e+03,   3.14561142e+03,   7.32204073e+03,\n",
       "         1.12774144e+04,   5.80425417e+03,   5.41206735e+03,\n",
       "         1.08275779e+04,   1.07482803e+04,   1.23551593e+04,\n",
       "         6.00261023e+03,   3.68233573e+03,   7.24821954e+03,\n",
       "         1.75999845e+04,   1.36727515e+04,   6.44673714e+03,\n",
       "         7.84066947e+03,   7.18924549e+03,   1.17126774e+04,\n",
       "         6.32440767e+03,   2.45495453e+04,   1.11394153e+04,\n",
       "         1.04714783e+04,   3.09308891e+03,   1.08747188e+04,\n",
       "         9.96367754e+03,   6.40974599e+03,   6.11531864e+03,\n",
       "         6.27037710e+03,   3.08681781e+04,   4.42317859e+04,\n",
       "         2.06554240e+04,   7.37270404e+03,   1.08743858e+04,\n",
       "         9.45701867e+03,   9.32416645e+03,   2.02559489e+04,\n",
       "         1.20222842e+04,   7.40672040e+04,   8.05162579e+03,\n",
       "         2.03694337e+03,   4.87852276e+03,   3.52178156e+03,\n",
       "         1.06210008e+04,   6.09774073e+03,   9.62646351e+03,\n",
       "         1.40234629e+04,   1.96203427e+04,   3.73043662e+03,\n",
       "         9.94745336e+02,   6.64055717e+03,   1.39887645e+04,\n",
       "         4.55854839e+03,   1.21728779e+04,   6.84830488e+03,\n",
       "         3.89756597e+03,   3.45459386e+03,   3.17657330e+04,\n",
       "         5.82987232e+03,   5.99479920e+03,   5.82639936e+03,\n",
       "         5.39598650e+03,   7.41702339e+03,   1.39037583e+04,\n",
       "         5.97541824e+03,   1.41785955e+04,   7.64568961e+03,\n",
       "         4.19620113e+03,   1.19272794e+04,   3.45808794e+04,\n",
       "         6.19612093e+03,   4.26947936e+03,   2.61959299e+04,\n",
       "         8.54483004e+03,   4.46596530e+04,   4.18792456e+04,\n",
       "         2.18027989e+04,   6.89181412e+03,   8.78884428e+03,\n",
       "         5.95072082e+03,   6.56923335e+03,   1.07205108e+04,\n",
       "         9.50340101e+03,   2.35463183e+04,   4.94572139e+03,\n",
       "         1.13819047e+04,   4.72787333e+03,   2.51744742e+03,\n",
       "         9.22008015e+03,   3.61115583e+04,   2.00550009e+04,\n",
       "         9.10664697e+03,   1.68243195e+04,   2.80176100e+04,\n",
       "         3.58153230e+03,   1.05457969e+04,   5.82308373e+04,\n",
       "         5.14694646e+03,   2.95546261e+04,   7.62894589e+03,\n",
       "         1.17384909e+04,   1.12819174e+04,   7.08525874e+03,\n",
       "         4.79587714e+03,   1.73237461e+04,   5.75701667e+03,\n",
       "         2.24859885e+04,   2.31372608e+04,   8.07723899e+03,\n",
       "         4.10518165e+03,   9.20007888e+04,   4.00864900e+04,\n",
       "         1.01276687e+04,   8.80678836e+03,   4.34544175e+03,\n",
       "         1.20726962e+04,   4.18779047e+04,   3.78999398e+03,\n",
       "         4.62106069e+03,   9.66732123e+03,   1.76847791e+04,\n",
       "         3.08363137e+03,   4.02636364e+03,   1.10698430e+04,\n",
       "         4.62545824e+03,   1.02396603e+04,   1.56454180e+04,\n",
       "         3.47709772e+04,   4.03228268e+03,   2.58342792e+04,\n",
       "         9.94828645e+03,   1.23771334e+04,   2.63764287e+04,\n",
       "         3.74412008e+03,   2.74452065e+03,   4.97314943e+03,\n",
       "         5.09101648e+03,   5.57347923e+03,   5.00380057e+04,\n",
       "         1.28459956e+04,   2.11415550e+04,   1.26369615e+04,\n",
       "         2.09163907e+04,   9.32194097e+03,   2.87903078e+04,\n",
       "         9.59974006e+03,   1.03776719e+04,   2.74870903e+03,\n",
       "         3.71844578e+03,   1.54149859e+04,   2.16674445e+04,\n",
       "         8.83185752e+03,   5.23840336e+03,   2.06261271e+04,\n",
       "         9.79910401e+05,   1.59600460e+03,   9.63184321e+03,\n",
       "         9.97219251e+03,   2.07021346e+04,   8.32697046e+03,\n",
       "         5.60650238e+03,   7.17791543e+03,   2.07003985e+04,\n",
       "         4.08608095e+03,   1.12911152e+04,   4.62961519e+03,\n",
       "         6.73184430e+03,   5.56894193e+03,   2.29051440e+04,\n",
       "         1.53318886e+04,   1.21129894e+04,   5.65096988e+03,\n",
       "         1.26827812e+04,   4.91373401e+03,   9.28923962e+03,\n",
       "         2.80801950e+04,   3.24182507e+04,   7.25194120e+03,\n",
       "         4.13506423e+04,   3.35115657e+03,   9.57076387e+03,\n",
       "         2.48563398e+04,   1.78204898e+04,   6.59128790e+03,\n",
       "         1.18778717e+04,   2.69906179e+04,   8.74791726e+03,\n",
       "         5.75113886e+03,   2.15892594e+04,   2.40443225e+04,\n",
       "         1.31161725e+04,   8.52530882e+03,   3.16628513e+03,\n",
       "         1.14214535e+04,   6.25548905e+03,   1.10666937e+04,\n",
       "         1.86227760e+04,   1.31879202e+04,   2.09491373e+03,\n",
       "         3.46444694e+03,   6.02979367e+03,   5.38772453e+03,\n",
       "         1.93120930e+03,   2.22521602e+03,   1.30754548e+03,\n",
       "         1.21419823e+04,   3.99387977e+04,   8.77028354e+03,\n",
       "         1.46915011e+04,   2.04081177e+04,   8.87057675e+03,\n",
       "         5.26545920e+03,   8.88605059e+03,   7.96962931e+03,\n",
       "         1.39225374e+04,   3.05611554e+04,   4.98246010e+04,\n",
       "         9.70520048e+03,   7.28464513e+04,   6.41138160e+03,\n",
       "         2.58532927e+04,   5.79173778e+03,   2.51026527e+04,\n",
       "         5.37446490e+03,   1.12057340e+04,   2.96925807e+04,\n",
       "         1.01397082e+04,   2.14140080e+04,   5.00375510e+04,\n",
       "         1.35177602e+04,   5.91832950e+03,   4.09874996e+04,\n",
       "         1.46749183e+04,   1.76035560e+04,   2.75414374e+04,\n",
       "         1.85324469e+04,   1.54860361e+04,   1.16870417e+04,\n",
       "         1.37188392e+03,   9.94037038e+03,   3.74222924e+03,\n",
       "         4.88035044e+03,   1.50138699e+04,   1.07114091e+04,\n",
       "         2.97070286e+04,   6.33007620e+03,   8.59549821e+03,\n",
       "         1.22443369e+04,   3.42371211e+04,   2.71932049e+04,\n",
       "         7.76787456e+03,   1.03869310e+04,   2.25602514e+04,\n",
       "         6.71557750e+03,   5.56005989e+04,   3.66292818e+03,\n",
       "         8.87655319e+03,   3.45980575e+04,   6.73693252e+03,\n",
       "         2.66659045e+04,   1.03475889e+04,   9.07896169e+03,\n",
       "         7.62394014e+03,   3.72032114e+04,   8.96469035e+03,\n",
       "         3.51711434e+03,   5.60680580e+03,   2.25654493e+04])"
      ]
     },
     "execution_count": 109,
     "metadata": {},
     "output_type": "execute_result"
    }
   ],
   "source": [
    "cvp_lr_preds"
   ]
  },
  {
   "cell_type": "code",
   "execution_count": 110,
   "metadata": {
    "collapsed": false
   },
   "outputs": [
    {
     "data": {
      "image/png": "[encoded data removed]",
      "text/plain": [
       "<matplotlib.figure.Figure at 0x12e5f2750>"
      ]
     },
     "metadata": {},
     "output_type": "display_data"
    }
   ],
   "source": [
    "plt.figure(figsize=(12,8))\n",
    "plt.scatter(my_y, cvp_lr_preds, c='red')\n",
    "plt.plot([my_y.min(), my_y.max()], [my_y.min(), my_y.max()], 'k--', lw=0.5, color = 'blue')\n",
    "plt.xlabel('Measured')\n",
    "plt.ylabel('Predicted')\n",
    "plt.xlim([-15000, 1350000])\n",
    "plt.ylim([-15000, 1350000])\n",
    "plt.title('Predicted vs. Measured Values, standard linear model')\n",
    "plt.show()"
   ]
  },
  {
   "cell_type": "code",
   "execution_count": 111,
   "metadata": {
    "collapsed": false
   },
   "outputs": [
    {
     "name": "stdout",
     "output_type": "stream",
     "text": [
      "       X Shape  Y Shape\n",
      "Train: (618, 4) (618,)\n",
      "Test:  (207, 4) (207,)\n"
     ]
    }
   ],
   "source": [
    "#  now fit a model on training data and test it out on the rest of data\n",
    "\n",
    "X_train, X_test, y_train, y_test = train_test_split(my_X, my_y, test_size=0.25)\n",
    "\n",
    "print \"       X Shape  Y Shape\"\n",
    "print \"Train:\", X_train.shape, y_train.shape\n",
    "print \"Test: \", X_test.shape,  y_test.shape"
   ]
  },
  {
   "cell_type": "code",
   "execution_count": 112,
   "metadata": {
    "collapsed": false
   },
   "outputs": [
    {
     "name": "stdout",
     "output_type": "stream",
     "text": [
      "Score: 0.98879653039\n"
     ]
    },
    {
     "data": {
      "image/png": "[encoded data removed]",
      "text/plain": [
       "<matplotlib.figure.Figure at 0x12e7c54d0>"
      ]
     },
     "metadata": {},
     "output_type": "display_data"
    }
   ],
   "source": [
    "model = lr.fit(X_train, y_train)\n",
    "predictions = lr.predict(X_test)\n",
    "\n",
    "plt.figure(figsize=(12,8))\n",
    "plt.style.use('fivethirtyeight')\n",
    "plt.scatter(y_test, predictions, s = 15)\n",
    "plt.xlabel(\"Measured\")\n",
    "plt.ylabel(\"Predictions\")\n",
    "plt.xlim([-15000, 1350000])\n",
    "plt.ylim([-15000, 1350000])\n",
    "plt.title('Residuals of Standard Linear Model, Train-Test Split (test_size = 0.25)')\n",
    "plt.plot([my_y.min(), my_y.max()], [my_y.min(), my_y.max()], 'k--', lw=0.5, color = 'red')\n",
    "print \"Score:\", model.score(X_test, y_test) \n",
    "plt.show()"
   ]
  },
  {
   "cell_type": "code",
   "execution_count": 113,
   "metadata": {
    "collapsed": false
   },
   "outputs": [],
   "source": [
    "predictions2016 = lr.predict(nicer_sales[['intercept', 'Q1_2016', 'volume_sold', 'number_sold']])"
   ]
  },
  {
   "cell_type": "code",
   "execution_count": 114,
   "metadata": {
    "collapsed": false
   },
   "outputs": [
    {
     "data": {
      "text/plain": [
       "array([  175484.56435368,    10277.45029652,   132507.55286527,\n",
       "           8487.99923749,    32787.36678039,   148216.7150396 ,\n",
       "         180169.47364047,    27216.429165  ,    20029.22176598,\n",
       "          39540.65461325,    56769.71108284,    68407.33673662,\n",
       "          67120.55810683,    12019.10411909,    58970.84730815,\n",
       "         116889.56282966,     7873.19149737,    25570.28022261,\n",
       "           9011.72093665,    44611.14143794,    29318.25372207,\n",
       "          19640.33299197,    18466.47469217,   182367.51638921,\n",
       "         177808.26442487,   158790.47357324,    92377.73961324,\n",
       "         170317.36815125,    43385.74497269,   134377.35175127,\n",
       "          64728.8330816 ,   528915.70714134,    86122.0460495 ,\n",
       "          22765.24928615,   144315.54497869,    97706.07925295,\n",
       "          45582.94618632,   139603.98803265,   122486.91532006,\n",
       "          58927.2306764 ,   130334.61691783,    72756.18666143,\n",
       "         131755.42455787,    55173.00801557,    72841.56627752,\n",
       "          77518.60669239,    81435.55583285,    76458.14516653,\n",
       "          79856.46852638,    73044.11897886,   151751.03111373,\n",
       "          51111.1892898 ,   139397.938486  ,    98543.50106556,\n",
       "          23083.18839785,    45634.36864773,   136529.03016113,\n",
       "          34615.61506532,    35931.69059325,   101042.15297867,\n",
       "          48320.23972563,   107700.96664585,    13088.6372031 ,\n",
       "         129746.91281074,   172903.9410672 ,    89620.59700642,\n",
       "          64977.8557843 ,    92103.90948603,    38068.14019639,\n",
       "          64341.71221165,    46686.57416442,    63934.24812021,\n",
       "         118862.93739638,   109696.78104002,   138215.37095794,\n",
       "          27233.46947605,    55317.54878264,    86386.84446445,\n",
       "          33208.24174244,    95201.15989971,    51554.80758953,\n",
       "          90070.40320236,    89932.84407072,    96650.15325349,\n",
       "         142671.54085795,    63809.69124186,    22171.75456681,\n",
       "         192920.59447249,    93897.2872477 ,   138661.92075376,\n",
       "          35655.13834843,    25195.93166242,    29144.61366515,\n",
       "          67150.37241376,    61174.77465854,   145874.4079643 ,\n",
       "          73468.27593647,   135711.76779622,    50458.97486992,\n",
       "          61042.87621846,     7484.71364433,    51247.04245799,\n",
       "          27700.62867514,   124813.16526294,   190567.82218433,\n",
       "         197808.67151984,    34817.96828558,   152037.15164303,\n",
       "         105919.62695577,   111099.38350132,    80327.034471  ,\n",
       "         113465.97645016,   120760.88490274,   218155.94021122,\n",
       "         114396.58543868,   121383.26305948,    20013.82338062,\n",
       "         202696.76319938,    31851.72735347,  1144859.504997  ,\n",
       "         116523.81129723,    84233.55880652,   118213.77259443,\n",
       "          39650.06628966,    74695.36523315,    80883.11291962,\n",
       "         150573.25924694,   114938.53221624,   167741.00759387,\n",
       "          78800.27713396,    55548.46861888,   101369.12136411,\n",
       "          57814.1245644 ,    45708.3290526 ,    12774.07302517,\n",
       "          11838.06927838,     7281.21286733,     4575.97934239,\n",
       "          25052.34720107,    54893.06265693,    49462.85646582,\n",
       "         174721.1424883 ,   155332.56558892,   120875.60619398,\n",
       "          13464.27674024,     9425.86492073,   269707.27886852,\n",
       "          53303.12694458,    14320.4404077 ,     7997.9247248 ,\n",
       "           4923.82281889,     8464.04637681,    14580.70910454,\n",
       "          10039.7231991 ,    10869.56132159,     9340.17731975,\n",
       "           3179.38663752,     6156.06850208,     3221.91315626,\n",
       "          12963.48599516,    11587.99898993,    11751.38671276,\n",
       "           9934.1826042 ,     7741.85234013,     8280.66139093,\n",
       "          33245.30390308,   298847.71338088,   478080.27373326,\n",
       "         146188.54128794,    56606.08986077,    10355.48046749,\n",
       "          45490.88921573,   371235.06769421,    64789.0614895 ,\n",
       "         287972.32962721,    79507.25135376,    18642.60928321,\n",
       "          12733.36286773,   195186.95984406,     3592.37689402,\n",
       "          22955.4670707 ,   201251.44547513,    46921.69076317,\n",
       "          38509.37904018,    26527.64822557,   177289.42479141,\n",
       "          62197.00789094,    14590.78522806,    18476.82107484,\n",
       "          17154.89578498,    32235.38631502,    82218.01890432,\n",
       "          52881.93601562,    20488.87554559,    82223.79859203,\n",
       "          12162.77829284,    49591.48940237,    67460.18978604,\n",
       "          10158.64793069,     8108.6889129 ,    78508.48635084,\n",
       "          79127.86179553,    40582.67755475,    49143.56122948,\n",
       "          18742.97265154,    64774.99287866,    41710.23468667,\n",
       "          49437.94976066,    59640.41443055,    54421.02536619,\n",
       "           6571.75521658,    70448.31309484,    37427.34495335,\n",
       "          53327.82629846,     4194.43606491,    27697.37083387,\n",
       "          20153.73743836,    12522.19818586,     6697.53399093,\n",
       "          19055.93143479,    13532.73005462,    48251.64213809,\n",
       "          15135.67034512,    34438.07579939,    62742.19695582,\n",
       "           3415.42321424,    19025.0332086 ,    12721.58641926,\n",
       "          26158.44428453,     5399.2741413 ,    14188.5064212 ,\n",
       "          22900.02040317,    12545.71049439,    13499.75194957,\n",
       "           9465.16291468,    33480.77021417,    33147.95981559,\n",
       "          36224.52822068,    24953.71540391,    12830.62213769,\n",
       "          57388.7896778 ,    22154.89260949,    10899.48911215,\n",
       "          29654.09840732,    62409.38289386,    45910.77827977,\n",
       "          36251.96256994,    31122.18768194,    43435.43738959,\n",
       "          59223.41337897,    35273.63336573,    34373.5875462 ,\n",
       "          20773.23097056,    27639.11386392,    19281.06343898,\n",
       "          29456.18339077,    13820.00358804,    25543.29328144,\n",
       "          10636.27634393,    72888.99214038,    34766.94131228,\n",
       "          16310.8508193 ,     7850.65828786,    71764.09628674,\n",
       "         268051.01142048,    26573.0358746 ,    58967.63100806,\n",
       "          13250.42938065,     7262.804526  ,    12611.08826547,\n",
       "          30369.90349336,    27919.10466749,    18523.13947641,\n",
       "          25383.52599547,    30640.6538873 ,    48339.74022865,\n",
       "          25955.89837034,    15660.98189486,    23278.24144599,\n",
       "          10540.87124098,   252233.68202095,    17628.50873563,\n",
       "          25268.28622284,    36892.14172035,   194815.91077312,\n",
       "           3989.39517866,    28003.31425453,    20271.04289522,\n",
       "          35870.81570734,     9511.73220006,    22507.02544646,\n",
       "          53274.66319074,     9201.33934007,    38406.42642869,\n",
       "          12337.50847967,    21177.27550897,     7033.54260293,\n",
       "          37701.6912305 ,    28808.52541394,    29544.77575821,\n",
       "          11417.99697096,    74985.08366711,    38674.97735825,\n",
       "           8845.57525351,    13804.35225197,     7247.93640625,\n",
       "           9930.56653839,    51633.69768792,     7061.01463286,\n",
       "          37931.52152083,    20234.48185419,    31144.29941477,\n",
       "          23934.46525949,    23309.96145821,    27573.0112287 ,\n",
       "          59946.19889574,     9649.93153712,    20189.01756989,\n",
       "          15267.70024309,    11714.91569062,    20953.77533958,\n",
       "          11208.09859171,    28010.27779306,     9674.77901802,\n",
       "          20901.48388928,   108298.79574272,    19988.92895982,\n",
       "           8090.84450701,    30704.26497743,    26923.85287504,\n",
       "          55690.92366065,    22357.00893017,   101356.03526248,\n",
       "          11076.29859663,    17613.17753534,     4448.16747081,\n",
       "         324503.91999609,     5208.85839434,    12513.80014943,\n",
       "          31933.07460074,     8636.77255111,     4014.83313273,\n",
       "           4359.85422021,    71702.32781544,    40419.23673778,\n",
       "          43666.73952655,    28287.94414795,    21604.68172226,\n",
       "          45250.33111769,    35728.03633864,    56102.91009307,\n",
       "          14486.26252397,     6989.39827364,    28445.68000313,\n",
       "          52176.93322997,    10316.04313218,     9077.84359369,\n",
       "          11358.08654308,    17074.29758928,    25083.55172052,\n",
       "          34885.39617119,     3476.5775641 ,    34093.7811855 ,\n",
       "          24340.90733455,    26885.94404909,     9581.09314689,\n",
       "          11442.67716898,    20839.10689671,     7043.30709647,\n",
       "          27700.69227909,    56356.4403467 ,    39184.19890588,\n",
       "          11319.55157939,    29754.13590782,    12896.12415341,\n",
       "          25400.08701402,    67644.14013973,    21350.76450173,\n",
       "           9174.73985986,    31980.14772586,    21809.84035617,\n",
       "          26660.79916365,    54548.06452936,     8536.42470728,\n",
       "          17628.59839247,    19427.33100576,    24256.99757116,\n",
       "          45876.28421967,    17192.0213375 ,     8578.42556515,\n",
       "          33126.43164174,    14540.40381237,    16304.76996245,\n",
       "           4905.92334814,    15293.97209652,     6196.6089734 ,\n",
       "          22620.82420202,    72303.36426382,    22353.33399069,\n",
       "          16982.04067907,     6192.31849417,     9017.23000012,\n",
       "          19588.43336008,    17996.66190441,    17499.50138425,\n",
       "          18098.87858118,    29813.56402745,    11631.86436836,\n",
       "          11466.64658848,    44020.44421183,    29655.40523632,\n",
       "           8296.73034978,    20819.98337287,    24377.62294679,\n",
       "          11286.1450856 ,     9612.12809483,    15371.17950285,\n",
       "          42328.93688668,    25726.36604198,    29201.59156206,\n",
       "          30421.18907024,     8810.90698497,     9827.0067601 ,\n",
       "          29493.2090709 ,    18606.95489994,    25406.43392161,\n",
       "          10785.21537114,     9096.04208321,   212774.59067226,\n",
       "          10065.20030788,     4651.26234525,    19996.09452591,\n",
       "           9120.06724703,     4953.60078487,    16614.04954984,\n",
       "           7475.28787138,    27967.50316562,    24867.26340937,\n",
       "          30361.70798144,    12177.636584  ,    23614.26755471,\n",
       "           9446.69921686,    14004.09191348,    10467.28384749,\n",
       "          29201.05017373,     7186.15476144,     7326.29342453,\n",
       "          19420.13522096,    10264.22928645,    26712.85022637,\n",
       "          18009.18981643,    13337.46628434,    12663.64885832,\n",
       "          16480.73982541,    27486.22241091,     8492.70840054,\n",
       "          12706.48646346,    78479.47123648,    36472.34120778,\n",
       "          14501.80369815,    12810.03513477,    34643.07484931,\n",
       "          39349.83471279,     9274.65464434,    17343.1111528 ,\n",
       "           4047.93056116,    30157.99234486,    16920.66753502,\n",
       "          10012.38597444,    28866.56467881,    19764.21502163,\n",
       "           8303.46295831,    15591.76430118,     6189.17312909,\n",
       "          19240.04838132,    14701.39133068,    13592.83526001,\n",
       "          37792.54831952,    13756.10168079,    73272.88384465,\n",
       "          21139.89078376,    16542.22998852,    24364.76888362,\n",
       "          36307.68842685,     8697.96882939,     7201.01241823,\n",
       "          19594.7441768 ,    48190.56929337,     6409.62258876,\n",
       "          11716.98409274,    22346.10288599,     2610.42481558,\n",
       "          12424.4863047 ,    39621.35341945,     7127.01447988,\n",
       "          14363.7351021 ,    11015.14217323,    33193.17158219,\n",
       "          12380.94254415,    28766.5864055 ,     3824.90191345,\n",
       "          11078.619566  ,    18289.25730157,    22605.94990812,\n",
       "          11087.91632353,     6783.15898755,    15225.43570483,\n",
       "          23778.65271936,    11676.92551543,    49089.2663067 ,\n",
       "         151443.70411087,    19384.75271682,    12715.8915309 ,\n",
       "          10298.58838253,     9593.97153247,    23182.07484558,\n",
       "          10613.1809965 ,     6281.45060518,     4385.79901759,\n",
       "          27107.33193498,     3737.92030957,     4976.36740176,\n",
       "          21286.10484659,    18459.6496401 ,    11384.79927835,\n",
       "           2632.22113088,     4053.75382314,     1984.89523734,\n",
       "           6388.66632863,     5645.72931665,     9269.80074288,\n",
       "           6939.39476607,     3559.93075647,     3198.30034159,\n",
       "           7266.38976645,     5119.77967684,     5382.05635811,\n",
       "           8482.9436363 ,     3992.66126882,     5461.86116194,\n",
       "          11984.67832429,     6938.54474124,     6732.269891  ,\n",
       "           9323.69644386,     7913.39723162,     3204.81247105,\n",
       "           6880.52321482,     4456.30009977,     8895.04355249,\n",
       "          15299.60788771,     6510.69674404,     5581.58656956,\n",
       "           6718.36330523,     6553.46536541,     3196.79136673,\n",
       "           2687.76469753,    39038.41154854,     4270.45966697,\n",
       "           9305.95959674,     4192.33347321,     8013.58558776,\n",
       "          11075.63563297,     6379.15623173,     5300.52251031,\n",
       "          10174.29821744,     9752.08662373,    12683.70703001,\n",
       "           7741.7482525 ,     3827.32226956,     7526.0263161 ,\n",
       "          15822.22624653,    13173.02872593,     5589.85308941,\n",
       "           8007.34201194,     8391.12681915,    11033.0169941 ,\n",
       "           6033.80846259,    24422.62995666,    10348.10638869,\n",
       "          11982.78747525,     3690.74948838,    10365.67430287,\n",
       "           9747.96147105,     5914.39354369,     5091.73493354,\n",
       "           7468.95941516,    33198.94708577,    35591.9245146 ,\n",
       "          20651.00815729,     7854.31355721,     9792.94615229,\n",
       "           9787.768962  ,     9919.43833613,    19986.29659902,\n",
       "          12913.7396794 ,    75050.98963269,     6854.06653169,\n",
       "           1768.37391192,     4741.31508469,     3416.03224189,\n",
       "           9035.660112  ,     7239.51465015,     9703.1968136 ,\n",
       "          15617.57685281,    19487.84004717,     3942.66160168,\n",
       "           1198.95482228,     6141.26506714,    14020.09489885,\n",
       "           4801.41247757,    12972.95365145,     7313.92039842,\n",
       "           4007.00315121,     3951.40455796,    37258.3471481 ,\n",
       "           4532.65188418,     5550.9059702 ,     6571.44784928,\n",
       "           5362.76073819,     8197.8722373 ,    13973.52494508,\n",
       "           5586.01108705,    12445.51501194,     7467.77638905,\n",
       "           4582.19337447,    13559.32498492,    34810.55357227,\n",
       "           5798.53644263,     4406.76648681,    21090.51509841,\n",
       "           8016.0683065 ,    48195.31992978,    39648.20859634,\n",
       "          22720.36397735,     7907.25584423,     9336.17485519,\n",
       "           6046.27157378,     7302.34862399,    10214.29256953,\n",
       "           9884.03301844,    22408.4604013 ,     4487.00784811,\n",
       "          11355.80520649,     3651.49481263,     2501.0042623 ,\n",
       "           9643.81786835,    37195.83217499,    17473.22121639,\n",
       "          10348.16105953,    16507.19888389,    28683.04269353,\n",
       "           3138.5967696 ,    11280.57871207,    46219.4255575 ,\n",
       "           5107.17798606,    28024.10976593,     7829.24720402,\n",
       "           9859.64614102,     9813.88614598,     8438.60502839,\n",
       "           4538.16009635,    17246.32698512,     4930.47739992,\n",
       "          22188.49914   ,    23774.56763315,     7800.97787681,\n",
       "           5526.08326226,    83592.84792423,    38118.14480066,\n",
       "          10458.38990452,     7773.55148066,     4647.01134031,\n",
       "          12674.09076   ,    35997.61870645,     4270.94226272,\n",
       "           3307.02835075,    10941.86578927,    18093.8451704 ,\n",
       "           3196.54586726,     3745.70906507,    10905.5760265 ,\n",
       "           5891.51473851,     8151.24181574,    10534.57935528,\n",
       "          31598.01343274,     4147.47565081,    24802.37207138,\n",
       "          10759.51353726,    12551.38938423,    26366.62101119,\n",
       "           3330.13917318,     2665.59339473,     5552.04865535,\n",
       "           7397.65526734,     5205.19632043,    42226.00564207,\n",
       "          12506.73204052,    22266.21675921,    11917.90861556,\n",
       "          20398.11672358,    10486.65440956,    27265.40783679,\n",
       "          11156.70782154,     9568.33143924,     4389.98057105,\n",
       "           2861.55592845,    13966.30582428,    23263.69753779,\n",
       "           9147.14763449,     4058.51975681,    18561.69154637,\n",
       "         991901.40642639,     1914.81408456,     8488.20029775,\n",
       "          11160.80349281,    26919.49875611,     7208.67985296,\n",
       "           8269.9788608 ,     9224.94205372,    17870.31017831,\n",
       "           3344.67237887,    12053.59789698,     3694.12954797,\n",
       "           7274.96440529,     5626.38122717,    21303.59602443,\n",
       "          15806.54286944,    12514.98294929,     4908.91774711,\n",
       "          10190.55726834,     4501.35786097,     9892.64876615,\n",
       "          24257.65730411,    29505.58003198,     7615.70145923,\n",
       "          46750.41163261,     3647.68604588,     8313.31769419,\n",
       "          24427.02547671,    16600.86991732,     6068.61777251,\n",
       "          14076.61836033,    29046.58154842,     9272.30451375,\n",
       "           5977.65043618,    24707.43952769,    20325.50100171,\n",
       "          14249.65508665,     7905.00894511,     3549.90608292,\n",
       "          10522.79602141,     5197.12202655,    11621.02374238,\n",
       "          16281.26395214,    14650.93425573,     2142.91984748,\n",
       "           4032.96673802,     5955.49451643,     5583.13086685,\n",
       "           2499.29120056,     2100.7445453 ,     1601.61868788,\n",
       "          12147.39321834,    38775.87542538,     9571.11544983,\n",
       "          14217.56051425,    21486.14730375,     9880.38885342,\n",
       "           6386.55750158,     8982.05095878,     7519.0736145 ,\n",
       "          14106.76568186,    30737.26267212,    51367.06168541,\n",
       "          10599.18844787,    87760.09606632,     7111.85350298,\n",
       "          29649.86635352,     6441.62978032,    29377.61313212,\n",
       "           6511.89939997,     8806.88345708,    23190.96167827,\n",
       "           9929.62942805,    21168.18914823,    54620.93105148,\n",
       "          13833.26840406,     5739.36062945,    42284.83010099,\n",
       "          16948.60198891,    17889.55782925,    29462.22982748,\n",
       "          17233.07738374,    14799.97266006,    10780.35591251,\n",
       "           1264.57801232,    10030.58439073,     3514.71825835,\n",
       "           4371.07669118,    15227.18027976,    12147.29326054,\n",
       "          30871.417745  ,     6706.29732067,    11462.65978773,\n",
       "          12600.94408666,    34858.77595694,    28452.456535  ,\n",
       "           7142.12142478,    11939.74928792,    22626.21722531,\n",
       "           6261.92587052,    56244.55410371,     4330.47232301,\n",
       "           9450.71156958,    33942.08031217,     7887.74599486,\n",
       "          25179.19174452,    10040.3560111 ,     9314.13157935,\n",
       "           8278.94561674,    37308.01549435,    10488.96155214,\n",
       "           3512.20179476,     4606.14546159,    18588.44484711])"
      ]
     },
     "execution_count": 114,
     "metadata": {},
     "output_type": "execute_result"
    }
   ],
   "source": [
    "# here are the predicted 2016 annual totals, by store, according to our model\n",
    "\n",
    "predictions2016"
   ]
  },
  {
   "cell_type": "code",
   "execution_count": 118,
   "metadata": {
    "collapsed": false
   },
   "outputs": [
    {
     "name": "stdout",
     "output_type": "stream",
     "text": [
      "2015 State total (dollars):          31324699.0703\n",
      "2016 State total (projected dollars) 31236871.3024\n"
     ]
    }
   ],
   "source": [
    "print '2015 State total (dollars):          %s' %sum(predictions2016)\n",
    "print '2016 State total (projected dollars) %s' %sum(nicer_sales['total_2015'])"
   ]
  },
  {
   "cell_type": "code",
   "execution_count": 119,
   "metadata": {
    "collapsed": false
   },
   "outputs": [
    {
     "name": "stdout",
     "output_type": "stream",
     "text": [
      "Score: 0.98879653039\n"
     ]
    },
    {
     "data": {
      "image/png": "[encoded data removed]",
      "text/plain": [
       "<matplotlib.figure.Figure at 0x12a6f3510>"
      ]
     },
     "metadata": {},
     "output_type": "display_data"
    }
   ],
   "source": [
    "plt.figure(figsize=(12,8))\n",
    "plt.style.use('fivethirtyeight')\n",
    "plt.scatter(nicer_sales['total_2015'], predictions2016, color = 'purple', s = 10)\n",
    "plt.xlabel(\"2015 Sales by Store\")\n",
    "plt.ylabel(\"Predicted 2016 Sales by Store\")\n",
    "plt.xlim([-15000, 1350000])\n",
    "plt.ylim([-15000, 1350000])\n",
    "plt.title('Predicted 2016 Sales vs. 2015 Sales')\n",
    "plt.plot([my_y.min(), my_y.max()], [my_y.min(), my_y.max()], 'k--', lw=0.5, color = 'green')\n",
    "print \"Score:\", model.score(X_test, y_test) \n",
    "plt.show()"
   ]
  },
  {
   "cell_type": "markdown",
   "metadata": {
    "collapsed": false
   },
   "source": [
    "As we can see from the scatterplot, 2016 total sales by store are not expected to differ dramatically from 2015 total sales by store when taking into account first quarter sales, total sales through first quarter 2016, and volume of alcohol sold through first quarter 2016.  Any taxation adjustments should be made while keeping this in mind."
   ]
  },
  {
   "cell_type": "code",
   "execution_count": null,
   "metadata": {
    "collapsed": false
   },
   "outputs": [],
   "source": []
  },
  {
   "cell_type": "code",
   "execution_count": null,
   "metadata": {
    "collapsed": false
   },
   "outputs": [],
   "source": []
  },
  {
   "cell_type": "code",
   "execution_count": null,
   "metadata": {
    "collapsed": false
   },
   "outputs": [],
   "source": []
  },
  {
   "cell_type": "markdown",
   "metadata": {},
   "source": [
    "# Explore the data\n",
    "\n",
    "Perform some exploratory statistical analysis and make some plots, such as histograms of transaction totals, bottles sold, etc."
   ]
  },
  {
   "cell_type": "code",
   "execution_count": null,
   "metadata": {
    "collapsed": false
   },
   "outputs": [],
   "source": []
  },
  {
   "cell_type": "markdown",
   "metadata": {},
   "source": [
    "## Record your findings\n",
    "\n",
    "Be sure to write out anything observations from your exploratory analysis."
   ]
  },
  {
   "cell_type": "markdown",
   "metadata": {},
   "source": []
  },
  {
   "cell_type": "markdown",
   "metadata": {},
   "source": [
    "# Refine the data\n",
    "Look for any statistical relationships, correlations, or other relevant properties of the dataset."
   ]
  },
  {
   "cell_type": "code",
   "execution_count": null,
   "metadata": {
    "collapsed": true
   },
   "outputs": [],
   "source": []
  },
  {
   "cell_type": "markdown",
   "metadata": {},
   "source": [
    "# Build your models\n",
    "\n",
    "Using scikit-learn or statsmodels, build the necessary models for your scenario. Evaluate model fit."
   ]
  },
  {
   "cell_type": "code",
   "execution_count": 6,
   "metadata": {
    "collapsed": true
   },
   "outputs": [],
   "source": [
    "from sklearn import linear_model\n"
   ]
  },
  {
   "cell_type": "markdown",
   "metadata": {},
   "source": [
    "## Plot your results\n",
    "\n",
    "Again make sure that you record any valuable information. For example, in the tax scenario, did you find the sales from the first three months of the year to be a good predictor of the total sales for the year? Plot the predictions versus the true values and discuss the successes and limitations of your models"
   ]
  },
  {
   "cell_type": "code",
   "execution_count": null,
   "metadata": {
    "collapsed": true
   },
   "outputs": [],
   "source": []
  },
  {
   "cell_type": "markdown",
   "metadata": {},
   "source": [
    "# Present the Results\n",
    "\n",
    "Present your conclusions and results. If you have more than one interesting model feel free to include more than one along with a discussion. Use your work in this notebook to prepare your write-up."
   ]
  },
  {
   "cell_type": "code",
   "execution_count": null,
   "metadata": {
    "collapsed": true
   },
   "outputs": [],
   "source": [
    "# do regularized (lasso - L1) regression\n",
    "\n",
    "lasso = linear_model.Lasso(alpha=1)\n",
    "lasso_model = lasso.fit(my_X, my_y)\n",
    "\n",
    "print 'REGULARIZED (LASSO - L1) REGRESSION'\n",
    "lasso_r2 =  r2_score(y_true=my_y, y_pred=lasso_model.predict(my_X))\n",
    "print 'Lasso r^2: %s' %lasso_r2\n",
    "print 'Lassoed betas: %s' %lasso_model.coef_\n",
    "mab_lasso = abs(lasso_model.coef_).mean()\n",
    "print 'Lassoed mean abs. val. of coeffs: %s' %mab_lasso"
   ]
  }
 ],
 "metadata": {
  "kernelspec": {
   "display_name": "Python 2",
   "language": "python",
   "name": "python2"
  },
  "language_info": {
   "codemirror_mode": {
    "name": "ipython",
    "version": 2
   },
   "file_extension": ".py",
   "mimetype": "text/x-python",
   "name": "python",
   "nbconvert_exporter": "python",
   "pygments_lexer": "ipython2",
   "version": "2.7.11"
  }
 },
 "nbformat": 4,
 "nbformat_minor": 0
}
