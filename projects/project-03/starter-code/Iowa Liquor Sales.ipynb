{
 "cells": [
  {
   "cell_type": "markdown",
   "metadata": {
    "collapsed": true
   },
   "source": [
    "#### Project 3:  Illinois Liquor Sales"
   ]
  },
  {
   "cell_type": "markdown",
   "metadata": {},
   "source": [
    "#### Scenario 1: State tax board\n",
    "\n",
    "You are a data scientist in residence at the Iowa State tax board. The Iowa State legislature is considering changes in the liquor tax rates and wants a report of current liquor sales by county and projections for the rest of the year.  (Download data from: [the Iowa website](https://data.iowa.gov/Economy/Iowa-Liquor-Sales/m3tr-qhgy))\n",
    "\n",
    "**Goals:** \n",
    "\n",
    "* Calculate the yearly liquor sales for each store using the provided data. You can add up the transactions for each year, and store sales in 2015 specifically will be used later as your target variable (it may help to use a groupby or pivot table, since you'll use this table to build your model).\n",
    "* Use the data from 2015 to make a linear model using as many variables as you find useful to predict the yearly sales of each store. You must use the sales from Jan to March per store as one of your variables.\n",
    "* Use your model for 2015 to estimate total sales for each store in 2016, extrapolating from the sales so far for Jan-March of 2016.\n",
    "* Report your findings, including any projected increase or decrease in total sales (over the entire state) for the tax committee of the Iowa legislature.\n",
    "* Use cross-validation to check how your model predicts to held out data compared to the model metrics on the full dataset.\n",
    "* _Challenging Bonus_: We did not cover the topics of regularization for linear regression this week, but those feeling bold can try to use and understand regularizing linear regressions. This will require self-guided research/reading and scikit-learn functions that we have not gone over in class! Use cross-validation to tune the regularization parameter that maximizes R^2 on your holdout sets for the Ridge regression and the Lasso Regression. Do the regularized models perform better than the non-regularized model? Which regularized model performs better? What is the Ridge regression doing? What is the Lasso doing."
   ]
  },
  {
   "cell_type": "code",
   "execution_count": 1,
   "metadata": {
    "collapsed": false
   },
   "outputs": [],
   "source": [
    "import pandas as pd\n",
    "import plotly as py\n",
    "% matplotlib inline\n",
    "\n",
    "from matplotlib import pyplot as plt\n",
    "# Make the plots bigger\n",
    "plt.rcParams['figure.figsize'] = 10, 10\n",
    "import seaborn as sns\n",
    "\n",
    "import numpy as np\n",
    "from sklearn import linear_model\n",
    "from sklearn.cross_validation import train_test_split\n",
    "import sklearn\n",
    "from sklearn import datasets, linear_model\n",
    "from sklearn.pipeline import Pipeline\n",
    "from sklearn.preprocessing import PolynomialFeatures\n",
    "from sklearn.linear_model import LinearRegression\n",
    "from sklearn.linear_model import Ridge\n",
    "from sklearn.linear_model import Lasso\n",
    "from sklearn import cross_validation\n",
    "from sklearn.metrics import mean_squared_error\n",
    "from sklearn import datasets\n",
    "from sklearn.cross_validation import cross_val_predict\n",
    "from sklearn.cross_validation import cross_val_score\n",
    "from sklearn.metrics import r2_score"
   ]
  },
  {
   "cell_type": "markdown",
   "metadata": {},
   "source": [
    "Let's import the smaller dataset:"
   ]
  },
  {
   "cell_type": "code",
   "execution_count": 2,
   "metadata": {
    "collapsed": true
   },
   "outputs": [],
   "source": [
    "sales_orig = pd.read_csv(\"/Users/Rebecca/DSI-projects/projects/project-03/Iowa_Liquor_sales_sample_10pct.csv\")\n",
    "sales = sales_orig.copy() # keep original just in case"
   ]
  },
  {
   "cell_type": "code",
   "execution_count": 3,
   "metadata": {
    "collapsed": false
   },
   "outputs": [
    {
     "data": {
      "text/html": [
       "<div>\n",
       "<table border=\"1\" class=\"dataframe\">\n",
       "  <thead>\n",
       "    <tr style=\"text-align: right;\">\n",
       "      <th></th>\n",
       "      <th>Date</th>\n",
       "      <th>Store Number</th>\n",
       "      <th>City</th>\n",
       "      <th>Zip Code</th>\n",
       "      <th>County Number</th>\n",
       "      <th>County</th>\n",
       "      <th>Category</th>\n",
       "      <th>Category Name</th>\n",
       "      <th>Vendor Number</th>\n",
       "      <th>Item Number</th>\n",
       "      <th>Item Description</th>\n",
       "      <th>Bottle Volume (ml)</th>\n",
       "      <th>State Bottle Cost</th>\n",
       "      <th>State Bottle Retail</th>\n",
       "      <th>Bottles Sold</th>\n",
       "      <th>Sale (Dollars)</th>\n",
       "      <th>Volume Sold (Liters)</th>\n",
       "      <th>Volume Sold (Gallons)</th>\n",
       "    </tr>\n",
       "  </thead>\n",
       "  <tbody>\n",
       "    <tr>\n",
       "      <th>0</th>\n",
       "      <td>11/04/2015</td>\n",
       "      <td>3717</td>\n",
       "      <td>SUMNER</td>\n",
       "      <td>50674</td>\n",
       "      <td>9.0</td>\n",
       "      <td>Bremer</td>\n",
       "      <td>1051100.0</td>\n",
       "      <td>APRICOT BRANDIES</td>\n",
       "      <td>55</td>\n",
       "      <td>54436</td>\n",
       "      <td>Mr. Boston Apricot Brandy</td>\n",
       "      <td>750</td>\n",
       "      <td>$4.50</td>\n",
       "      <td>$6.75</td>\n",
       "      <td>12</td>\n",
       "      <td>$81.00</td>\n",
       "      <td>9.0</td>\n",
       "      <td>2.38</td>\n",
       "    </tr>\n",
       "  </tbody>\n",
       "</table>\n",
       "</div>"
      ],
      "text/plain": [
       "         Date  Store Number    City Zip Code  County Number  County  \\\n",
       "0  11/04/2015          3717  SUMNER    50674            9.0  Bremer   \n",
       "\n",
       "    Category     Category Name  Vendor Number  Item Number  \\\n",
       "0  1051100.0  APRICOT BRANDIES             55        54436   \n",
       "\n",
       "            Item Description  Bottle Volume (ml) State Bottle Cost  \\\n",
       "0  Mr. Boston Apricot Brandy                 750             $4.50   \n",
       "\n",
       "  State Bottle Retail  Bottles Sold Sale (Dollars)  Volume Sold (Liters)  \\\n",
       "0               $6.75            12         $81.00                   9.0   \n",
       "\n",
       "   Volume Sold (Gallons)  \n",
       "0                   2.38  "
      ]
     },
     "execution_count": 3,
     "metadata": {},
     "output_type": "execute_result"
    }
   ],
   "source": [
    "sales.head(1)"
   ]
  },
  {
   "cell_type": "code",
   "execution_count": 4,
   "metadata": {
    "collapsed": false
   },
   "outputs": [
    {
     "data": {
      "text/plain": [
       "Date                      object\n",
       "Store Number               int64\n",
       "City                      object\n",
       "Zip Code                  object\n",
       "County Number            float64\n",
       "County                    object\n",
       "Category                 float64\n",
       "Category Name             object\n",
       "Vendor Number              int64\n",
       "Item Number                int64\n",
       "Item Description          object\n",
       "Bottle Volume (ml)         int64\n",
       "State Bottle Cost         object\n",
       "State Bottle Retail       object\n",
       "Bottles Sold               int64\n",
       "Sale (Dollars)            object\n",
       "Volume Sold (Liters)     float64\n",
       "Volume Sold (Gallons)    float64\n",
       "dtype: object"
      ]
     },
     "execution_count": 4,
     "metadata": {},
     "output_type": "execute_result"
    }
   ],
   "source": [
    "sales.dtypes"
   ]
  },
  {
   "cell_type": "code",
   "execution_count": 5,
   "metadata": {
    "collapsed": false
   },
   "outputs": [],
   "source": [
    "# convert 'Date' column to datetime format\n",
    "\n",
    "sales['Date'] = pd.to_datetime(sales['Date'], infer_datetime_format = True)"
   ]
  },
  {
   "cell_type": "code",
   "execution_count": 6,
   "metadata": {
    "collapsed": false
   },
   "outputs": [],
   "source": [
    "del sales['County Number'] # let's just keep ZIP code; these geographical columns contain a lot of same information\n",
    "del sales['County'] # same\n",
    "del sales['City'] # same\n",
    "del sales['Category']  # let's use 'Category Name' instead \n",
    "del sales['Item Number']  # we'll just stick with category data, this is very specific\n",
    "del sales['Item Description'] # same\n",
    "del sales['Volume Sold (Gallons)'] # no one wants gallons\n",
    "#del sales['Volume Sold (Liters)'] # undecided, can be calculated from other columns"
   ]
  },
  {
   "cell_type": "code",
   "execution_count": 7,
   "metadata": {
    "collapsed": false
   },
   "outputs": [],
   "source": [
    "# change dollar-value columns to floats\n",
    "\n",
    "sales['State Bottle Cost'] = sales['State Bottle Cost'].apply(lambda x: float(x.replace('$', '')))\n",
    "sales['State Bottle Retail'] = sales['State Bottle Retail'].apply(lambda x: float(x.replace('$', '')))\n",
    "sales['Sale (Dollars)'] = sales['Sale (Dollars)'].apply(lambda x: float(x.replace('$', '')))"
   ]
  },
  {
   "cell_type": "code",
   "execution_count": 8,
   "metadata": {
    "collapsed": false
   },
   "outputs": [],
   "source": [
    "# rename columns \n",
    "\n",
    "sales.rename(columns={'Category Name':'category'}, inplace=True)\n",
    "sales.rename(columns={'Bottle Volume (ml)':'volume'}, inplace=True) # this remails in mL units (no label)\n",
    "sales.rename(columns={'Store Number':'store'}, inplace=True)\n",
    "sales.rename(columns={'Date':'date'}, inplace=True)\n",
    "sales.rename(columns={'Zip Code':'ZIP'}, inplace=True)\n",
    "sales.rename(columns={'State Bottle Cost':'cost'}, inplace=True)\n",
    "sales.rename(columns={'State Bottle Retail':'retail'}, inplace=True)\n",
    "sales.rename(columns={'Vendor Number':'vendorID'}, inplace=True)\n",
    "sales.rename(columns={'Bottles Sold':'number_sold'}, inplace=True)\n",
    "sales.rename(columns={'Sale (Dollars)':'total_sale'}, inplace=True)\n",
    "sales.rename(columns={'Volume Sold (Liters)':'volume_sold'}, inplace=True)"
   ]
  },
  {
   "cell_type": "code",
   "execution_count": 9,
   "metadata": {
    "collapsed": true
   },
   "outputs": [],
   "source": [
    "# fix remaining data types that still do not look right\n",
    "\n",
    "sales['store'] = sales['store'].apply(lambda x: str(x))\n",
    "sales['vendorID'] = sales['vendorID'].apply(lambda x: str(x))\n",
    "sales['volume'] = sales['volume'].apply(lambda x: float(x))\n",
    "sales['number_sold'] = sales['number_sold'].apply(lambda x: float(x))"
   ]
  },
  {
   "cell_type": "code",
   "execution_count": 10,
   "metadata": {
    "collapsed": false
   },
   "outputs": [
    {
     "data": {
      "text/plain": [
       "date           datetime64[ns]\n",
       "store                  object\n",
       "ZIP                    object\n",
       "category               object\n",
       "vendorID               object\n",
       "volume                float64\n",
       "cost                  float64\n",
       "retail                float64\n",
       "number_sold           float64\n",
       "total_sale            float64\n",
       "volume_sold           float64\n",
       "dtype: object"
      ]
     },
     "execution_count": 10,
     "metadata": {},
     "output_type": "execute_result"
    }
   ],
   "source": [
    "sales.dtypes"
   ]
  },
  {
   "cell_type": "code",
   "execution_count": 11,
   "metadata": {
    "collapsed": false
   },
   "outputs": [
    {
     "name": "stdout",
     "output_type": "stream",
     "text": [
      "  Number of unique...\n",
      "Observations:    270955\n",
      "Stores:          1400\n",
      "ZIP codes:       415\n",
      "Vendors:         116\n",
      "Item categories: 72\n",
      "Bottle volumes:  29\n"
     ]
    }
   ],
   "source": [
    "print '  Number of unique...'\n",
    "print 'Observations:    %s' %len(sales)\n",
    "print 'Stores:          %s' %len(sales['store'].unique())\n",
    "print 'ZIP codes:       %s' %len(sales['ZIP'].unique())\n",
    "print 'Vendors:         %s' %len(sales['vendorID'].unique())\n",
    "print 'Item categories: %s' %len(sales['category'].unique())\n",
    "print 'Bottle volumes:  %s' %len(sales['volume'].unique())"
   ]
  },
  {
   "cell_type": "code",
   "execution_count": 12,
   "metadata": {
    "collapsed": false
   },
   "outputs": [
    {
     "data": {
      "text/plain": [
       "72"
      ]
     },
     "execution_count": 12,
     "metadata": {},
     "output_type": "execute_result"
    }
   ],
   "source": [
    "len(sales['category'].unique())"
   ]
  },
  {
   "cell_type": "code",
   "execution_count": 13,
   "metadata": {
    "collapsed": false
   },
   "outputs": [
    {
     "data": {
      "text/plain": [
       "VODKA 80 PROOF                        35373\n",
       "CANADIAN WHISKIES                     27087\n",
       "STRAIGHT BOURBON WHISKIES             15342\n",
       "SPICED RUM                            14631\n",
       "VODKA FLAVORED                        14001\n",
       "TEQUILA                               12109\n",
       "BLENDED WHISKIES                      11547\n",
       "WHISKEY LIQUEUR                       10902\n",
       "IMPORTED VODKA                        10668\n",
       "PUERTO RICO & VIRGIN ISLANDS RUM      10062\n",
       "FLAVORED RUM                           7282\n",
       "TENNESSEE WHISKIES                     7081\n",
       "AMERICAN COCKTAILS                     6929\n",
       "AMERICAN GRAPE BRANDIES                6589\n",
       "AMERICAN DRY GINS                      6559\n",
       "IMPORTED VODKA - MISC                  6506\n",
       "MISC. IMPORTED CORDIALS & LIQUEURS     6299\n",
       "CREAM LIQUEURS                         6284\n",
       "SCOTCH WHISKIES                        5375\n",
       "IMPORTED GRAPE BRANDIES                4614\n",
       "IMPORTED SCHNAPPS                      4249\n",
       "MISC. AMERICAN CORDIALS & LIQUEURS     3394\n",
       "100 PROOF VODKA                        3304\n",
       "PEPPERMINT SCHNAPPS                    3221\n",
       "IMPORTED DRY GINS                      2939\n",
       "IRISH WHISKIES                         2791\n",
       "SINGLE MALT SCOTCH                     2288\n",
       "COFFEE LIQUEURS                        1914\n",
       "PEACH SCHNAPPS                         1650\n",
       "BLACKBERRY BRANDIES                    1580\n",
       "                                      ...  \n",
       "AMERICAN ALCOHOL                        573\n",
       "WATERMELON SCHNAPPS                     479\n",
       "BARBADOS RUM                            393\n",
       "JAMAICA RUM                             385\n",
       "GRAPE SCHNAPPS                          333\n",
       "CHERRY BRANDIES                         330\n",
       "ROOT BEER SCHNAPPS                      324\n",
       "SINGLE BARREL BOURBON WHISKIES          319\n",
       "RASPBERRY SCHNAPPS                      304\n",
       "STRAWBERRY SCHNAPPS                     302\n",
       "IMPORTED AMARETTO                       276\n",
       "GREEN CREME DE MENTHE                   259\n",
       "FLAVORED GINS                           250\n",
       "TROPICAL FRUIT SCHNAPPS                 235\n",
       "WHITE CREME DE CACAO                    201\n",
       "BOTTLED IN BOND BOURBON                 190\n",
       "AMERICAN SLOE GINS                      169\n",
       "DARK CREME DE CACAO                     157\n",
       "MISCELLANEOUS  BRANDIES                 144\n",
       "SPEARMINT SCHNAPPS                       99\n",
       "ROCK & RYE                               86\n",
       "OTHER PROOF VODKA                        78\n",
       "WHITE CREME DE MENTHE                    61\n",
       "CREME DE ALMOND                          52\n",
       "ANISETTE                                 35\n",
       "JAPANESE WHISKY                          23\n",
       "LOW PROOF VODKA                          15\n",
       "CORN WHISKIES                            12\n",
       "AMARETTO - IMPORTED                       3\n",
       "HIGH PROOF BEER - AMERICAN                2\n",
       "Name: category, dtype: int64"
      ]
     },
     "execution_count": 13,
     "metadata": {},
     "output_type": "execute_result"
    }
   ],
   "source": [
    "# that's a lot of categories!  let's have a look and try to consolidate some of them\n",
    "\n",
    "sales['category'].value_counts()"
   ]
  },
  {
   "cell_type": "code",
   "execution_count": 14,
   "metadata": {
    "collapsed": true
   },
   "outputs": [],
   "source": [
    "# consolidating...\n",
    "\n",
    "sales['category'] = sales['category'].apply(lambda x: str(x))\n",
    "sales['category'] = sales['category'].apply(lambda x: x.replace('VODKA 80 PROOF', 'VODKA'))\n",
    "sales['category'] = sales['category'].apply(lambda x: x.replace('CANADIAN WHISKIES', 'WHISKEY'))\n",
    "sales['category'] = sales['category'].apply(lambda x: x.replace('STRAIGHT BOURBON WHISKIES', 'BOURBON'))\n",
    "sales['category'] = sales['category'].apply(lambda x: x.replace('VODKA FLAVORED', 'VODKA'))\n",
    "sales['category'] = sales['category'].apply(lambda x: x.replace('BLENDED WHISKIES', 'WHISKEY'))\n",
    "sales['category'] = sales['category'].apply(lambda x: x.replace('WHISKEY LIQUEUR', 'CORDIAL & LIQUEUR'))\n",
    "sales['category'] = sales['category'].apply(lambda x: x.replace('PUERTO RICO & VIRGIN ISLANDS RUM', 'RUM'))\n",
    "sales['category'] = sales['category'].apply(lambda x: x.replace('FLAVORED RUM', 'RUM'))\n",
    "sales['category'] = sales['category'].apply(lambda x: x.replace('TENNESSEE WHISKIES', 'WHISKEY'))\n",
    "sales['category'] = sales['category'].apply(lambda x: x.replace('SPICED RUM', 'RUM'))\n",
    "sales['category'] = sales['category'].apply(lambda x: x.replace('AMERICAN GRAPE BRANDIES', 'BRANDY'))\n",
    "sales['category'] = sales['category'].apply(lambda x: x.replace('AMERICAN DRY GINS', 'GIN'))\n",
    "sales['category'] = sales['category'].apply(lambda x: x.replace('IMPORTED VODKA - MISC', 'IMPORTED VODKA'))\n",
    "sales['category'] = sales['category'].apply(lambda x: x.replace('MISC. IMPORTED CORDIALS & LIQUEURS', 'IMPORTED CORDIAL & LIQUEUR'))\n",
    "sales['category'] = sales['category'].apply(lambda x: x.replace('CREAM LIQUEURS', 'CORDIAL & LIQUEUR'))\n",
    "sales['category'] = sales['category'].apply(lambda x: x.replace('SCOTCH WHISKIES', 'WHISKEY'))\n",
    "sales['category'] = sales['category'].apply(lambda x: x.replace('IMPORTED GRAPE BRANDIES', 'IMPORTED BRANDY'))\n",
    "sales['category'] = sales['category'].apply(lambda x: x.replace('MISC. AMERICAN CORDIALS & LIQUEURS', 'CORDIAL & LIQUEUR'))\n",
    "sales['category'] = sales['category'].apply(lambda x: x.replace('100 PROOF VODKA ', 'VODKA'))\n",
    "sales['category'] = sales['category'].apply(lambda x: x.replace('IMPORTED DRY GINS', 'IMPORTED GIN'))\n",
    "sales['category'] = sales['category'].apply(lambda x: x.replace('IRISH WHISKIES', 'IMPORTED WHISKEY'))\n",
    "sales['category'] = sales['category'].apply(lambda x: x.replace('WATERMELON SCHNAPPS', 'SCHNAPPS'))\n",
    "sales['category'] = sales['category'].apply(lambda x: x.replace('BARBADOS RUM', 'IMPORTED RUM'))\n",
    "sales['category'] = sales['category'].apply(lambda x: x.replace('JAMAICA RUM', 'IMPORTED RUM'))\n",
    "sales['category'] = sales['category'].apply(lambda x: x.replace('GRAPE SCHNAPPS', 'SCHNAPPS'))\n",
    "sales['category'] = sales['category'].apply(lambda x: x.replace('CHERRY BRANDIES', 'BRANDY'))\n",
    "sales['category'] = sales['category'].apply(lambda x: x.replace('ROOT BEER SCHNAPPS', 'SCHNAPPS'))\n",
    "sales['category'] = sales['category'].apply(lambda x: x.replace('RASPBERRY SCHNAPPS', 'SCHNAPPS'))\n",
    "sales['category'] = sales['category'].apply(lambda x: x.replace('COFFEE LIQUEURS', 'CORDIAL & LIQUEUR'))\n",
    "sales['category'] = sales['category'].apply(lambda x: x.replace('PEACH SCHNAPPS', 'SCHNAPPS'))\n",
    "sales['category'] = sales['category'].apply(lambda x: x.replace('BLACKBERRY BRANDIES', 'BRANDY'))\n",
    "sales['category'] = sales['category'].apply(lambda x: x.replace('IMPORTED AMARETTO', 'IMPORTED CORDIAL & LIQUEUR'))\n",
    "sales['category'] = sales['category'].apply(lambda x: x.replace('GREEN CREME DE MENTHE', 'CORDIAL & LIQUEUR'))\n",
    "sales['category'] = sales['category'].apply(lambda x: x.replace('FLAVORED GINS', 'GIN'))\n",
    "sales['category'] = sales['category'].apply(lambda x: x.replace('TROPICAL FRUIT SCHNAPPS', 'SCHNAPPS'))\n",
    "sales['category'] = sales['category'].apply(lambda x: x.replace('WHITE CREME DE CACAO', 'CORDIAL & LIQUEUR'))\n",
    "sales['category'] = sales['category'].apply(lambda x: x.replace('DARK CREME DE CACAO', 'CORDIAL & LIQUEUR'))\n",
    "sales['category'] = sales['category'].apply(lambda x: x.replace('BOTTLED IN BOND BOURBON', 'BOURBON'))\n",
    "sales['category'] = sales['category'].apply(lambda x: x.replace('SINGLE BARREL BOURBON WHISKIES', 'BOURBON'))\n",
    "sales['category'] = sales['category'].apply(lambda x: x.replace('AMERICAN SLOE GINS', 'GIN'))\n",
    "sales['category'] = sales['category'].apply(lambda x: x.replace('MISCELLANEOUS  BRANDIES', 'BRANDY'))\n",
    "sales['category'] = sales['category'].apply(lambda x: x.replace('SPEARMINT SCHNAPPS', 'SCHNAPPS'))\n",
    "sales['category'] = sales['category'].apply(lambda x: x.replace('ROCK & RYE', 'WHISKEY'))\n",
    "sales['category'] = sales['category'].apply(lambda x: x.replace('WHITE CREME DE MENTHE', 'CORDIAL & LIQUEUR'))\n",
    "sales['category'] = sales['category'].apply(lambda x: x.replace('CREME DE ALMOND', 'CORDIAL & LIQUEUR'))\n",
    "sales['category'] = sales['category'].apply(lambda x: x.replace('ANISETTE', 'CORDIAL & LIQUEUR'))\n",
    "sales['category'] = sales['category'].apply(lambda x: x.replace('JAPANESE WHISKY', 'IMPORTED VODKA'))\n",
    "sales['category'] = sales['category'].apply(lambda x: x.replace('LOW PROOF VODKA', 'VODKA'))\n",
    "sales['category'] = sales['category'].apply(lambda x: x.replace('CORN WHISKIES', 'WHISKEY'))\n",
    "sales['category'] = sales['category'].apply(lambda x: x.replace('AMARETTO - IMPORTED', 'IMPORTED CORDIAL & LIQUEUR'))\n",
    "sales['category'] = sales['category'].apply(lambda x: x.replace('HIGH PROOF BEER - AMERICAN', 'BEER'))\n",
    "sales['category'] = sales['category'].apply(lambda x: x.replace('CINNAMON SCHNAPPS', 'SCHNAPPS'))\n",
    "sales['category'] = sales['category'].apply(lambda x: x.replace('APPLE SCHNAPPS', 'SCHNAPPS'))\n",
    "sales['category'] = sales['category'].apply(lambda x: x.replace('TRIPLE SEC', 'CORDIAL & LIQUEUR'))\n",
    "sales['category'] = sales['category'].apply(lambda x: x.replace('BUTTERSCOTCH SCHNAPPS', 'SCHNAPPS'))\n",
    "sales['category'] = sales['category'].apply(lambda x: x.replace('MISCELLANEOUS SCHNAPPS', 'SCHNAPPS'))\n",
    "sales['category'] = sales['category'].apply(lambda x: x.replace('100 PROOF VODKA', 'VODKA'))\n",
    "sales['category'] = sales['category'].apply(lambda x: x.replace('PEPPERMINT SCHNAPPS', 'SCHNAPPS'))\n",
    "sales['category'] = sales['category'].apply(lambda x: x.replace('AMERICAN AMARETTO', 'CORDIAL & LIQUEUR'))\n",
    "sales['category'] = sales['category'].apply(lambda x: x.replace('APRICOT BRANDIES', 'BRANDY'))\n",
    "sales['category'] = sales['category'].apply(lambda x: x.replace('PEACH BRANDIES', 'BRANDY'))\n",
    "sales['category'] = sales['category'].apply(lambda x: x.replace('STRAWBERRY SCHNAPPS', 'SCHNAPPS'))\n",
    "sales['category'] = sales['category'].apply(lambda x: x.replace('OTHER PROOF VODKA', 'VODKA'))\n",
    "sales['category'] = sales['category'].apply(lambda x: x.replace('MISCELLANEOUS SCHNAPPS', 'SCHNAPPS'))\n",
    "sales['category'] = sales['category'].apply(lambda x: x.replace('STRAIGHT RYE WHISKIES', 'WHISKEY'))"
   ]
  },
  {
   "cell_type": "code",
   "execution_count": 15,
   "metadata": {
    "collapsed": false
   },
   "outputs": [
    {
     "data": {
      "text/plain": [
       "VODKA                             52771\n",
       "WHISKEY                           52576\n",
       "RUM                               31975\n",
       "CORDIAL & LIQUEUR                 25841\n",
       "IMPORTED VODKA                    17197\n",
       "BOURBON                           15851\n",
       "TEQUILA                           12109\n",
       "BRANDY                            10430\n",
       "SCHNAPPS                          10315\n",
       "GIN                                6978\n",
       "AMERICAN COCKTAILS                 6929\n",
       "IMPORTED CORDIAL & LIQUEUR         6578\n",
       "IMPORTED BRANDY                    4614\n",
       "IMPORTED SCHNAPPS                  4249\n",
       "IMPORTED GIN                       2939\n",
       "IMPORTED WHISKEY                   2791\n",
       "SINGLE MALT SCOTCH                 2288\n",
       "DISTILLED SPIRITS SPECIALTY        1380\n",
       "DECANTERS & SPECIALTY PACKAGES     1159\n",
       "IMPORTED RUM                        778\n",
       "nan                                 632\n",
       "AMERICAN ALCOHOL                    573\n",
       "BEER                                  2\n",
       "Name: category, dtype: int64"
      ]
     },
     "execution_count": 15,
     "metadata": {},
     "output_type": "execute_result"
    }
   ],
   "source": [
    "sales['category'].value_counts()"
   ]
  },
  {
   "cell_type": "code",
   "execution_count": 16,
   "metadata": {
    "collapsed": true
   },
   "outputs": [],
   "source": [
    "# delete rows with 'nan' entry in category column:\n",
    "\n",
    "sales = sales[sales.category != 'nan']"
   ]
  },
  {
   "cell_type": "code",
   "execution_count": 17,
   "metadata": {
    "collapsed": false
   },
   "outputs": [
    {
     "data": {
      "text/plain": [
       "VODKA                             52771\n",
       "WHISKEY                           52576\n",
       "RUM                               31975\n",
       "CORDIAL & LIQUEUR                 25841\n",
       "IMPORTED VODKA                    17197\n",
       "BOURBON                           15851\n",
       "TEQUILA                           12109\n",
       "BRANDY                            10430\n",
       "SCHNAPPS                          10315\n",
       "GIN                                6978\n",
       "AMERICAN COCKTAILS                 6929\n",
       "IMPORTED CORDIAL & LIQUEUR         6578\n",
       "IMPORTED BRANDY                    4614\n",
       "IMPORTED SCHNAPPS                  4249\n",
       "IMPORTED GIN                       2939\n",
       "IMPORTED WHISKEY                   2791\n",
       "SINGLE MALT SCOTCH                 2288\n",
       "DISTILLED SPIRITS SPECIALTY        1380\n",
       "DECANTERS & SPECIALTY PACKAGES     1159\n",
       "IMPORTED RUM                        778\n",
       "AMERICAN ALCOHOL                    573\n",
       "BEER                                  2\n",
       "Name: category, dtype: int64"
      ]
     },
     "execution_count": 17,
     "metadata": {},
     "output_type": "execute_result"
    }
   ],
   "source": [
    "sales['category'].value_counts()"
   ]
  },
  {
   "cell_type": "code",
   "execution_count": 18,
   "metadata": {
    "collapsed": true
   },
   "outputs": [],
   "source": [
    "sales_cat = sales.copy()\n",
    "sales_cat['category'] = sales_cat['category'].apply(lambda x: x.replace('IMPORTED CORDIAL & LIQUEUR', 'CORDIAL & LIQUEUR'))\n",
    "sales_cat['category'] = sales_cat['category'].apply(lambda x: x.replace('IMPORTED BRANDY', 'BRANDY'))\n",
    "sales_cat['category'] = sales_cat['category'].apply(lambda x: x.replace('IMPORTED SCHNAPPS', 'SCHNAPPS'))\n",
    "sales_cat['category'] = sales_cat['category'].apply(lambda x: x.replace('IMPORTED GIN', 'GIN'))\n",
    "sales_cat['category'] = sales_cat['category'].apply(lambda x: x.replace('IMPORTED WHISKEY', 'WHISKEY'))\n",
    "sales_cat['category'] = sales_cat['category'].apply(lambda x: x.replace('IMPORTED RUM', 'RUM'))\n",
    "sales_cat['category'] = sales_cat['category'].apply(lambda x: x.replace('IMPORTED GIN', 'GIN'))\n",
    "sales_cat['category'] = sales_cat['category'].apply(lambda x: x.replace('IMPORTED VODKA', 'VODKA'))"
   ]
  },
  {
   "cell_type": "code",
   "execution_count": 19,
   "metadata": {
    "collapsed": true
   },
   "outputs": [],
   "source": [
    "sales_cat = sales_cat[sales_cat.category != 'AMERICAN ALCOHOL']\n",
    "sales_cat = sales_cat[sales_cat.category != 'BEER']"
   ]
  },
  {
   "cell_type": "code",
   "execution_count": 20,
   "metadata": {
    "collapsed": false
   },
   "outputs": [
    {
     "data": {
      "text/plain": [
       "VODKA                             69968\n",
       "WHISKEY                           55367\n",
       "RUM                               32753\n",
       "CORDIAL & LIQUEUR                 32419\n",
       "BOURBON                           15851\n",
       "BRANDY                            15044\n",
       "SCHNAPPS                          14564\n",
       "TEQUILA                           12109\n",
       "GIN                                9917\n",
       "AMERICAN COCKTAILS                 6929\n",
       "SINGLE MALT SCOTCH                 2288\n",
       "DISTILLED SPIRITS SPECIALTY        1380\n",
       "DECANTERS & SPECIALTY PACKAGES     1159\n",
       "Name: category, dtype: int64"
      ]
     },
     "execution_count": 20,
     "metadata": {},
     "output_type": "execute_result"
    }
   ],
   "source": [
    "sales_cat['category'].value_counts()"
   ]
  },
  {
   "cell_type": "code",
   "execution_count": 21,
   "metadata": {
    "collapsed": false
   },
   "outputs": [
    {
     "data": {
      "text/plain": [
       "22"
      ]
     },
     "execution_count": 21,
     "metadata": {},
     "output_type": "execute_result"
    }
   ],
   "source": [
    "len(sales['category'].unique())  # much better!  "
   ]
  },
  {
   "cell_type": "code",
   "execution_count": 22,
   "metadata": {
    "collapsed": false
   },
   "outputs": [
    {
     "data": {
      "text/plain": [
       "13"
      ]
     },
     "execution_count": 22,
     "metadata": {},
     "output_type": "execute_result"
    }
   ],
   "source": [
    "len(sales_cat['category'].unique())  # even more consolidated!  we can make this into a dummy variable"
   ]
  },
  {
   "cell_type": "code",
   "execution_count": 23,
   "metadata": {
    "collapsed": false
   },
   "outputs": [
    {
     "data": {
      "text/html": [
       "<div>\n",
       "<table border=\"1\" class=\"dataframe\">\n",
       "  <thead>\n",
       "    <tr style=\"text-align: right;\">\n",
       "      <th></th>\n",
       "      <th>date</th>\n",
       "      <th>store</th>\n",
       "      <th>ZIP</th>\n",
       "      <th>category</th>\n",
       "      <th>vendorID</th>\n",
       "      <th>volume</th>\n",
       "      <th>cost</th>\n",
       "      <th>retail</th>\n",
       "      <th>number_sold</th>\n",
       "      <th>total_sale</th>\n",
       "      <th>volume_sold</th>\n",
       "    </tr>\n",
       "  </thead>\n",
       "  <tbody>\n",
       "    <tr>\n",
       "      <th>0</th>\n",
       "      <td>2015-11-04</td>\n",
       "      <td>3717</td>\n",
       "      <td>50674</td>\n",
       "      <td>BRANDY</td>\n",
       "      <td>55</td>\n",
       "      <td>750.0</td>\n",
       "      <td>4.5</td>\n",
       "      <td>6.75</td>\n",
       "      <td>12.0</td>\n",
       "      <td>81.0</td>\n",
       "      <td>9.0</td>\n",
       "    </tr>\n",
       "  </tbody>\n",
       "</table>\n",
       "</div>"
      ],
      "text/plain": [
       "        date store    ZIP category vendorID  volume  cost  retail  \\\n",
       "0 2015-11-04  3717  50674   BRANDY       55   750.0   4.5    6.75   \n",
       "\n",
       "   number_sold  total_sale  volume_sold  \n",
       "0         12.0        81.0          9.0  "
      ]
     },
     "execution_count": 23,
     "metadata": {},
     "output_type": "execute_result"
    }
   ],
   "source": [
    "sales_cat.head(1)"
   ]
  },
  {
   "cell_type": "code",
   "execution_count": 24,
   "metadata": {
    "collapsed": false
   },
   "outputs": [
    {
     "data": {
      "text/plain": [
       "1400"
      ]
     },
     "execution_count": 24,
     "metadata": {},
     "output_type": "execute_result"
    }
   ],
   "source": [
    "len(sales_cat['store'].unique()) # THIS WILL BE OUR KEY!  it is not currently acting as key because there are \\\n",
    "                                #multiple date entries per store"
   ]
  },
  {
   "cell_type": "code",
   "execution_count": 25,
   "metadata": {
    "collapsed": false
   },
   "outputs": [
    {
     "data": {
      "text/plain": [
       "415"
      ]
     },
     "execution_count": 25,
     "metadata": {},
     "output_type": "execute_result"
    }
   ],
   "source": [
    "len(sales_cat['ZIP'].unique()) # dummy?"
   ]
  },
  {
   "cell_type": "code",
   "execution_count": 26,
   "metadata": {
    "collapsed": false
   },
   "outputs": [
    {
     "data": {
      "text/plain": [
       "114"
      ]
     },
     "execution_count": 26,
     "metadata": {},
     "output_type": "execute_result"
    }
   ],
   "source": [
    "len(sales_cat['vendorID'].unique()) # dummy?"
   ]
  },
  {
   "cell_type": "code",
   "execution_count": 27,
   "metadata": {
    "collapsed": false
   },
   "outputs": [
    {
     "data": {
      "text/plain": [
       "750.0     121881\n",
       "1750.0     54316\n",
       "1000.0     36794\n",
       "375.0      26994\n",
       "500.0      11967\n",
       "200.0       9895\n",
       "600.0       3282\n",
       "3000.0      1605\n",
       "300.0       1338\n",
       "100.0        860\n",
       "800.0        318\n",
       "1200.0       250\n",
       "2400.0       103\n",
       "400.0         29\n",
       "850.0         24\n",
       "4800.0        17\n",
       "50.0          14\n",
       "3600.0        13\n",
       "603.0         10\n",
       "6000.0         7\n",
       "950.0          6\n",
       "2250.0         6\n",
       "2550.0         6\n",
       "1125.0         5\n",
       "150.0          3\n",
       "900.0          2\n",
       "1500.0         1\n",
       "250.0          1\n",
       "4500.0         1\n",
       "Name: volume, dtype: int64"
      ]
     },
     "execution_count": 27,
     "metadata": {},
     "output_type": "execute_result"
    }
   ],
   "source": [
    "sales_cat['volume'].value_counts()"
   ]
  },
  {
   "cell_type": "code",
   "execution_count": 28,
   "metadata": {
    "collapsed": false
   },
   "outputs": [],
   "source": [
    "# a couple of these look fishy, let's adjust by a few mLs:\n",
    "\n",
    "sales_cat['volume'] = sales_cat['volume'].apply(lambda x: str(x))\n",
    "sales_cat['volume'] = sales_cat['volume'].apply(lambda x: x.replace('603.0', '600.0'))\n",
    "sales_cat['volume'] = sales_cat['volume'].apply(lambda x: x.replace('502.0', '500.0'))\n",
    "sales_cat['volume'] = sales_cat['volume'].apply(lambda x: float(x))"
   ]
  },
  {
   "cell_type": "code",
   "execution_count": 29,
   "metadata": {
    "collapsed": false
   },
   "outputs": [
    {
     "data": {
      "text/plain": [
       "750.0     121881\n",
       "1750.0     54316\n",
       "1000.0     36794\n",
       "375.0      26994\n",
       "500.0      11967\n",
       "200.0       9895\n",
       "600.0       3292\n",
       "3000.0      1605\n",
       "300.0       1338\n",
       "100.0        860\n",
       "800.0        318\n",
       "1200.0       250\n",
       "2400.0       103\n",
       "400.0         29\n",
       "850.0         24\n",
       "4800.0        17\n",
       "50.0          14\n",
       "3600.0        13\n",
       "6000.0         7\n",
       "950.0          6\n",
       "2250.0         6\n",
       "2550.0         6\n",
       "1125.0         5\n",
       "150.0          3\n",
       "900.0          2\n",
       "1500.0         1\n",
       "250.0          1\n",
       "4500.0         1\n",
       "Name: volume, dtype: int64"
      ]
     },
     "execution_count": 29,
     "metadata": {},
     "output_type": "execute_result"
    }
   ],
   "source": [
    "sales_cat['volume'].value_counts()"
   ]
  },
  {
   "cell_type": "code",
   "execution_count": 30,
   "metadata": {
    "collapsed": false
   },
   "outputs": [
    {
     "data": {
      "image/png": "[encoded data removed]",
      "text/plain": [
       "<matplotlib.figure.Figure at 0x11b4b3590>"
      ]
     },
     "metadata": {},
     "output_type": "display_data"
    }
   ],
   "source": [
    "plt.figure(figsize=(12,8))\n",
    "plt.style.use('fivethirtyeight')\n",
    "\n",
    "df_hist = plt.hist(sales_cat['volume'], color = 'darkred', bins = 20)\n",
    "\n",
    "plt.title('Histogram of Bottle Volume', fontsize = 24)\n",
    "\n",
    "# y label\n",
    "plt.ylabel('Number of Bottles')\n",
    "\n",
    "# x label\n",
    "plt.xlabel('Volume (mL)')\n",
    "\n",
    "plt.xlim([-100,6100])\n",
    "plt.ylim([-200,130000])\n",
    "\n",
    "plt.show()"
   ]
  },
  {
   "cell_type": "markdown",
   "metadata": {},
   "source": [
    "We can see from the histogram that the vast majority of bottles sold are below 2L in volume.  We see from the value counts table that the most frequently purchased volume is 750mL."
   ]
  },
  {
   "cell_type": "code",
   "execution_count": 31,
   "metadata": {
    "collapsed": false
   },
   "outputs": [
    {
     "data": {
      "image/png": "[encoded data removed]",
      "text/plain": [
       "<matplotlib.figure.Figure at 0x11b4b3510>"
      ]
     },
     "metadata": {},
     "output_type": "display_data"
    }
   ],
   "source": [
    "plt.figure(figsize=(12,8))\n",
    "\n",
    "plt.style.use('fivethirtyeight')\n",
    "\n",
    "plt.scatter(sales_cat['volume'], sales_cat['number_sold'], color = 'green')\n",
    "\n",
    "plt.title('Sales by Bottle Volume (one dot per store, per volume)', fontsize = 24)\n",
    "\n",
    "# y label\n",
    "plt.ylabel('Number of Bottles Sold')\n",
    "\n",
    "# x label\n",
    "plt.xlabel('Volume (mL)')\n",
    "\n",
    "plt.xlim([-100,6100])\n",
    "plt.ylim([-200,2700])\n",
    "\n",
    "plt.show()"
   ]
  },
  {
   "cell_type": "markdown",
   "metadata": {},
   "source": [
    "From the scatterplot, we see that some stores are selling way, way more bottles at a given volume that other stores.  A jitter would be useful here to see relative density of plotted points where it looks like they're stacking up.  (To note, there were some exceedingly large-volumed items which appear to have dropped out of the data set during cleaning.)"
   ]
  },
  {
   "cell_type": "code",
   "execution_count": 32,
   "metadata": {
    "collapsed": false,
    "scrolled": true
   },
   "outputs": [
    {
     "data": {
      "text/html": [
       "<div>\n",
       "<table border=\"1\" class=\"dataframe\">\n",
       "  <thead>\n",
       "    <tr style=\"text-align: right;\">\n",
       "      <th></th>\n",
       "      <th>date</th>\n",
       "      <th>store</th>\n",
       "      <th>ZIP</th>\n",
       "      <th>category</th>\n",
       "      <th>vendorID</th>\n",
       "      <th>volume</th>\n",
       "      <th>cost</th>\n",
       "      <th>retail</th>\n",
       "      <th>number_sold</th>\n",
       "      <th>total_sale</th>\n",
       "      <th>volume_sold</th>\n",
       "    </tr>\n",
       "  </thead>\n",
       "  <tbody>\n",
       "    <tr>\n",
       "      <th>2570</th>\n",
       "      <td>2015-10-08</td>\n",
       "      <td>2587</td>\n",
       "      <td>50131</td>\n",
       "      <td>WHISKEY</td>\n",
       "      <td>65</td>\n",
       "      <td>4800.0</td>\n",
       "      <td>71.04</td>\n",
       "      <td>106.56</td>\n",
       "      <td>1.0</td>\n",
       "      <td>106.56</td>\n",
       "      <td>4.8</td>\n",
       "    </tr>\n",
       "    <tr>\n",
       "      <th>38630</th>\n",
       "      <td>2015-12-22</td>\n",
       "      <td>2500</td>\n",
       "      <td>50010</td>\n",
       "      <td>WHISKEY</td>\n",
       "      <td>65</td>\n",
       "      <td>4800.0</td>\n",
       "      <td>71.04</td>\n",
       "      <td>106.56</td>\n",
       "      <td>1.0</td>\n",
       "      <td>106.56</td>\n",
       "      <td>4.8</td>\n",
       "    </tr>\n",
       "    <tr>\n",
       "      <th>56706</th>\n",
       "      <td>2015-01-05</td>\n",
       "      <td>2636</td>\n",
       "      <td>50317</td>\n",
       "      <td>WHISKEY</td>\n",
       "      <td>65</td>\n",
       "      <td>4800.0</td>\n",
       "      <td>45.12</td>\n",
       "      <td>67.68</td>\n",
       "      <td>1.0</td>\n",
       "      <td>67.68</td>\n",
       "      <td>4.8</td>\n",
       "    </tr>\n",
       "    <tr>\n",
       "      <th>60585</th>\n",
       "      <td>2015-11-04</td>\n",
       "      <td>3987</td>\n",
       "      <td>50511</td>\n",
       "      <td>CORDIAL &amp; LIQUEUR</td>\n",
       "      <td>305</td>\n",
       "      <td>6000.0</td>\n",
       "      <td>99.00</td>\n",
       "      <td>148.50</td>\n",
       "      <td>1.0</td>\n",
       "      <td>148.50</td>\n",
       "      <td>6.0</td>\n",
       "    </tr>\n",
       "    <tr>\n",
       "      <th>63818</th>\n",
       "      <td>2015-05-22</td>\n",
       "      <td>2636</td>\n",
       "      <td>50317</td>\n",
       "      <td>WHISKEY</td>\n",
       "      <td>65</td>\n",
       "      <td>4800.0</td>\n",
       "      <td>45.12</td>\n",
       "      <td>67.68</td>\n",
       "      <td>1.0</td>\n",
       "      <td>67.68</td>\n",
       "      <td>4.8</td>\n",
       "    </tr>\n",
       "    <tr>\n",
       "      <th>71636</th>\n",
       "      <td>2016-02-25</td>\n",
       "      <td>5106</td>\n",
       "      <td>52742</td>\n",
       "      <td>CORDIAL &amp; LIQUEUR</td>\n",
       "      <td>305</td>\n",
       "      <td>6000.0</td>\n",
       "      <td>99.00</td>\n",
       "      <td>148.50</td>\n",
       "      <td>1.0</td>\n",
       "      <td>148.50</td>\n",
       "      <td>6.0</td>\n",
       "    </tr>\n",
       "    <tr>\n",
       "      <th>74088</th>\n",
       "      <td>2015-02-04</td>\n",
       "      <td>2500</td>\n",
       "      <td>50010</td>\n",
       "      <td>CORDIAL &amp; LIQUEUR</td>\n",
       "      <td>308</td>\n",
       "      <td>4500.0</td>\n",
       "      <td>68.94</td>\n",
       "      <td>103.41</td>\n",
       "      <td>1.0</td>\n",
       "      <td>103.41</td>\n",
       "      <td>4.5</td>\n",
       "    </tr>\n",
       "    <tr>\n",
       "      <th>114946</th>\n",
       "      <td>2015-07-28</td>\n",
       "      <td>4819</td>\n",
       "      <td>50009</td>\n",
       "      <td>WHISKEY</td>\n",
       "      <td>65</td>\n",
       "      <td>4800.0</td>\n",
       "      <td>45.12</td>\n",
       "      <td>67.68</td>\n",
       "      <td>3.0</td>\n",
       "      <td>203.04</td>\n",
       "      <td>14.4</td>\n",
       "    </tr>\n",
       "    <tr>\n",
       "      <th>121877</th>\n",
       "      <td>2015-12-23</td>\n",
       "      <td>5093</td>\n",
       "      <td>52753</td>\n",
       "      <td>CORDIAL &amp; LIQUEUR</td>\n",
       "      <td>305</td>\n",
       "      <td>6000.0</td>\n",
       "      <td>99.00</td>\n",
       "      <td>148.50</td>\n",
       "      <td>1.0</td>\n",
       "      <td>148.50</td>\n",
       "      <td>6.0</td>\n",
       "    </tr>\n",
       "    <tr>\n",
       "      <th>141875</th>\n",
       "      <td>2015-01-07</td>\n",
       "      <td>2603</td>\n",
       "      <td>52722</td>\n",
       "      <td>WHISKEY</td>\n",
       "      <td>65</td>\n",
       "      <td>4800.0</td>\n",
       "      <td>45.12</td>\n",
       "      <td>67.68</td>\n",
       "      <td>1.0</td>\n",
       "      <td>67.68</td>\n",
       "      <td>4.8</td>\n",
       "    </tr>\n",
       "    <tr>\n",
       "      <th>157333</th>\n",
       "      <td>2016-01-27</td>\n",
       "      <td>2502</td>\n",
       "      <td>50021</td>\n",
       "      <td>CORDIAL &amp; LIQUEUR</td>\n",
       "      <td>305</td>\n",
       "      <td>6000.0</td>\n",
       "      <td>99.00</td>\n",
       "      <td>148.50</td>\n",
       "      <td>1.0</td>\n",
       "      <td>148.50</td>\n",
       "      <td>6.0</td>\n",
       "    </tr>\n",
       "    <tr>\n",
       "      <th>158273</th>\n",
       "      <td>2015-03-09</td>\n",
       "      <td>2549</td>\n",
       "      <td>50125</td>\n",
       "      <td>WHISKEY</td>\n",
       "      <td>65</td>\n",
       "      <td>4800.0</td>\n",
       "      <td>45.12</td>\n",
       "      <td>67.68</td>\n",
       "      <td>1.0</td>\n",
       "      <td>67.68</td>\n",
       "      <td>4.8</td>\n",
       "    </tr>\n",
       "    <tr>\n",
       "      <th>163211</th>\n",
       "      <td>2015-06-24</td>\n",
       "      <td>2614</td>\n",
       "      <td>52807</td>\n",
       "      <td>WHISKEY</td>\n",
       "      <td>65</td>\n",
       "      <td>4800.0</td>\n",
       "      <td>45.12</td>\n",
       "      <td>67.68</td>\n",
       "      <td>1.0</td>\n",
       "      <td>67.68</td>\n",
       "      <td>4.8</td>\n",
       "    </tr>\n",
       "    <tr>\n",
       "      <th>187835</th>\n",
       "      <td>2015-11-18</td>\n",
       "      <td>2622</td>\n",
       "      <td>52240</td>\n",
       "      <td>CORDIAL &amp; LIQUEUR</td>\n",
       "      <td>305</td>\n",
       "      <td>6000.0</td>\n",
       "      <td>99.00</td>\n",
       "      <td>148.50</td>\n",
       "      <td>1.0</td>\n",
       "      <td>148.50</td>\n",
       "      <td>6.0</td>\n",
       "    </tr>\n",
       "    <tr>\n",
       "      <th>197079</th>\n",
       "      <td>2015-05-20</td>\n",
       "      <td>2670</td>\n",
       "      <td>52241</td>\n",
       "      <td>WHISKEY</td>\n",
       "      <td>65</td>\n",
       "      <td>4800.0</td>\n",
       "      <td>45.12</td>\n",
       "      <td>67.68</td>\n",
       "      <td>1.0</td>\n",
       "      <td>67.68</td>\n",
       "      <td>4.8</td>\n",
       "    </tr>\n",
       "    <tr>\n",
       "      <th>203021</th>\n",
       "      <td>2015-12-28</td>\n",
       "      <td>2556</td>\n",
       "      <td>51334</td>\n",
       "      <td>CORDIAL &amp; LIQUEUR</td>\n",
       "      <td>305</td>\n",
       "      <td>6000.0</td>\n",
       "      <td>99.00</td>\n",
       "      <td>148.50</td>\n",
       "      <td>1.0</td>\n",
       "      <td>148.50</td>\n",
       "      <td>6.0</td>\n",
       "    </tr>\n",
       "    <tr>\n",
       "      <th>203127</th>\n",
       "      <td>2015-10-12</td>\n",
       "      <td>2653</td>\n",
       "      <td>52353</td>\n",
       "      <td>WHISKEY</td>\n",
       "      <td>65</td>\n",
       "      <td>4800.0</td>\n",
       "      <td>71.04</td>\n",
       "      <td>106.56</td>\n",
       "      <td>1.0</td>\n",
       "      <td>106.56</td>\n",
       "      <td>4.8</td>\n",
       "    </tr>\n",
       "    <tr>\n",
       "      <th>205400</th>\n",
       "      <td>2015-01-22</td>\n",
       "      <td>5034</td>\n",
       "      <td>50401</td>\n",
       "      <td>WHISKEY</td>\n",
       "      <td>65</td>\n",
       "      <td>4800.0</td>\n",
       "      <td>45.12</td>\n",
       "      <td>67.68</td>\n",
       "      <td>1.0</td>\n",
       "      <td>67.68</td>\n",
       "      <td>4.8</td>\n",
       "    </tr>\n",
       "    <tr>\n",
       "      <th>213869</th>\n",
       "      <td>2015-03-04</td>\n",
       "      <td>2614</td>\n",
       "      <td>52807</td>\n",
       "      <td>WHISKEY</td>\n",
       "      <td>65</td>\n",
       "      <td>4800.0</td>\n",
       "      <td>45.12</td>\n",
       "      <td>67.68</td>\n",
       "      <td>1.0</td>\n",
       "      <td>67.68</td>\n",
       "      <td>4.8</td>\n",
       "    </tr>\n",
       "    <tr>\n",
       "      <th>220834</th>\n",
       "      <td>2015-03-26</td>\n",
       "      <td>2587</td>\n",
       "      <td>50131</td>\n",
       "      <td>WHISKEY</td>\n",
       "      <td>65</td>\n",
       "      <td>4800.0</td>\n",
       "      <td>45.12</td>\n",
       "      <td>67.68</td>\n",
       "      <td>1.0</td>\n",
       "      <td>67.68</td>\n",
       "      <td>4.8</td>\n",
       "    </tr>\n",
       "    <tr>\n",
       "      <th>225581</th>\n",
       "      <td>2015-02-19</td>\n",
       "      <td>2626</td>\n",
       "      <td>50311</td>\n",
       "      <td>WHISKEY</td>\n",
       "      <td>65</td>\n",
       "      <td>4800.0</td>\n",
       "      <td>45.12</td>\n",
       "      <td>67.68</td>\n",
       "      <td>1.0</td>\n",
       "      <td>67.68</td>\n",
       "      <td>4.8</td>\n",
       "    </tr>\n",
       "    <tr>\n",
       "      <th>233407</th>\n",
       "      <td>2015-10-06</td>\n",
       "      <td>2524</td>\n",
       "      <td>52001</td>\n",
       "      <td>CORDIAL &amp; LIQUEUR</td>\n",
       "      <td>305</td>\n",
       "      <td>6000.0</td>\n",
       "      <td>99.00</td>\n",
       "      <td>148.50</td>\n",
       "      <td>25.0</td>\n",
       "      <td>3712.50</td>\n",
       "      <td>150.0</td>\n",
       "    </tr>\n",
       "    <tr>\n",
       "      <th>253785</th>\n",
       "      <td>2015-03-02</td>\n",
       "      <td>2605</td>\n",
       "      <td>52402</td>\n",
       "      <td>WHISKEY</td>\n",
       "      <td>65</td>\n",
       "      <td>4800.0</td>\n",
       "      <td>45.12</td>\n",
       "      <td>67.68</td>\n",
       "      <td>1.0</td>\n",
       "      <td>67.68</td>\n",
       "      <td>4.8</td>\n",
       "    </tr>\n",
       "    <tr>\n",
       "      <th>256406</th>\n",
       "      <td>2015-03-04</td>\n",
       "      <td>2603</td>\n",
       "      <td>52722</td>\n",
       "      <td>WHISKEY</td>\n",
       "      <td>65</td>\n",
       "      <td>4800.0</td>\n",
       "      <td>45.12</td>\n",
       "      <td>67.68</td>\n",
       "      <td>1.0</td>\n",
       "      <td>67.68</td>\n",
       "      <td>4.8</td>\n",
       "    </tr>\n",
       "    <tr>\n",
       "      <th>261736</th>\n",
       "      <td>2015-04-13</td>\n",
       "      <td>2670</td>\n",
       "      <td>52241</td>\n",
       "      <td>WHISKEY</td>\n",
       "      <td>65</td>\n",
       "      <td>4800.0</td>\n",
       "      <td>45.12</td>\n",
       "      <td>67.68</td>\n",
       "      <td>3.0</td>\n",
       "      <td>203.04</td>\n",
       "      <td>14.4</td>\n",
       "    </tr>\n",
       "  </tbody>\n",
       "</table>\n",
       "</div>"
      ],
      "text/plain": [
       "             date store    ZIP           category vendorID  volume   cost  \\\n",
       "2570   2015-10-08  2587  50131            WHISKEY       65  4800.0  71.04   \n",
       "38630  2015-12-22  2500  50010            WHISKEY       65  4800.0  71.04   \n",
       "56706  2015-01-05  2636  50317            WHISKEY       65  4800.0  45.12   \n",
       "60585  2015-11-04  3987  50511  CORDIAL & LIQUEUR      305  6000.0  99.00   \n",
       "63818  2015-05-22  2636  50317            WHISKEY       65  4800.0  45.12   \n",
       "71636  2016-02-25  5106  52742  CORDIAL & LIQUEUR      305  6000.0  99.00   \n",
       "74088  2015-02-04  2500  50010  CORDIAL & LIQUEUR      308  4500.0  68.94   \n",
       "114946 2015-07-28  4819  50009            WHISKEY       65  4800.0  45.12   \n",
       "121877 2015-12-23  5093  52753  CORDIAL & LIQUEUR      305  6000.0  99.00   \n",
       "141875 2015-01-07  2603  52722            WHISKEY       65  4800.0  45.12   \n",
       "157333 2016-01-27  2502  50021  CORDIAL & LIQUEUR      305  6000.0  99.00   \n",
       "158273 2015-03-09  2549  50125            WHISKEY       65  4800.0  45.12   \n",
       "163211 2015-06-24  2614  52807            WHISKEY       65  4800.0  45.12   \n",
       "187835 2015-11-18  2622  52240  CORDIAL & LIQUEUR      305  6000.0  99.00   \n",
       "197079 2015-05-20  2670  52241            WHISKEY       65  4800.0  45.12   \n",
       "203021 2015-12-28  2556  51334  CORDIAL & LIQUEUR      305  6000.0  99.00   \n",
       "203127 2015-10-12  2653  52353            WHISKEY       65  4800.0  71.04   \n",
       "205400 2015-01-22  5034  50401            WHISKEY       65  4800.0  45.12   \n",
       "213869 2015-03-04  2614  52807            WHISKEY       65  4800.0  45.12   \n",
       "220834 2015-03-26  2587  50131            WHISKEY       65  4800.0  45.12   \n",
       "225581 2015-02-19  2626  50311            WHISKEY       65  4800.0  45.12   \n",
       "233407 2015-10-06  2524  52001  CORDIAL & LIQUEUR      305  6000.0  99.00   \n",
       "253785 2015-03-02  2605  52402            WHISKEY       65  4800.0  45.12   \n",
       "256406 2015-03-04  2603  52722            WHISKEY       65  4800.0  45.12   \n",
       "261736 2015-04-13  2670  52241            WHISKEY       65  4800.0  45.12   \n",
       "\n",
       "        retail  number_sold  total_sale  volume_sold  \n",
       "2570    106.56          1.0      106.56          4.8  \n",
       "38630   106.56          1.0      106.56          4.8  \n",
       "56706    67.68          1.0       67.68          4.8  \n",
       "60585   148.50          1.0      148.50          6.0  \n",
       "63818    67.68          1.0       67.68          4.8  \n",
       "71636   148.50          1.0      148.50          6.0  \n",
       "74088   103.41          1.0      103.41          4.5  \n",
       "114946   67.68          3.0      203.04         14.4  \n",
       "121877  148.50          1.0      148.50          6.0  \n",
       "141875   67.68          1.0       67.68          4.8  \n",
       "157333  148.50          1.0      148.50          6.0  \n",
       "158273   67.68          1.0       67.68          4.8  \n",
       "163211   67.68          1.0       67.68          4.8  \n",
       "187835  148.50          1.0      148.50          6.0  \n",
       "197079   67.68          1.0       67.68          4.8  \n",
       "203021  148.50          1.0      148.50          6.0  \n",
       "203127  106.56          1.0      106.56          4.8  \n",
       "205400   67.68          1.0       67.68          4.8  \n",
       "213869   67.68          1.0       67.68          4.8  \n",
       "220834   67.68          1.0       67.68          4.8  \n",
       "225581   67.68          1.0       67.68          4.8  \n",
       "233407  148.50         25.0     3712.50        150.0  \n",
       "253785   67.68          1.0       67.68          4.8  \n",
       "256406   67.68          1.0       67.68          4.8  \n",
       "261736   67.68          3.0      203.04         14.4  "
      ]
     },
     "execution_count": 32,
     "metadata": {},
     "output_type": "execute_result"
    }
   ],
   "source": [
    "# let's see what's up with some of the larger volumes:\n",
    "\n",
    "sales_cat[sales_cat['volume'] > 4000]"
   ]
  },
  {
   "cell_type": "markdown",
   "metadata": {},
   "source": [
    "As we can see from the table above, there are three vendors selling all bottles over 4L; vendor 65 is selling some kind of whiskey, vendor 305 is selling a cordial/liqueur, and vendor 308 just sold one cordial/liqueur to store 2500.  No store is buying much from either vendor 65 or vendor 305, **except** store 233407, which bought 25 units from vendor 305."
   ]
  },
  {
   "cell_type": "markdown",
   "metadata": {},
   "source": [
    "We need to get rid of all entries for any store with NaN in 'dollars_sold' when grouped by month, because those stores likely opened or closed within the period of data collection and thus do not accurately represent that store's profits in that time."
   ]
  },
  {
   "cell_type": "code",
   "execution_count": 33,
   "metadata": {
    "collapsed": false
   },
   "outputs": [],
   "source": [
    "sales_cat['year'] = sales_cat['date'].apply(lambda x: x.year)\n",
    "sales_cat['month'] = sales_cat['date'].apply(lambda x: x.month)"
   ]
  },
  {
   "cell_type": "code",
   "execution_count": 34,
   "metadata": {
    "collapsed": false
   },
   "outputs": [],
   "source": [
    "get_stores = sales_cat.groupby(['year', 'store', 'month'])['total_sale'].aggregate(sum).unstack()"
   ]
  },
  {
   "cell_type": "code",
   "execution_count": 35,
   "metadata": {
    "collapsed": true
   },
   "outputs": [],
   "source": [
    "get_stores.columns = ['Jan', 'Feb', 'Mar', 'Apr', 'May', 'Jun', 'Jul', 'Aug', 'Sep', 'Oct', 'Nov', \"Dec\"]"
   ]
  },
  {
   "cell_type": "code",
   "execution_count": 36,
   "metadata": {
    "collapsed": false
   },
   "outputs": [
    {
     "data": {
      "text/plain": [
       "FrozenList([u'year', u'store'])"
      ]
     },
     "execution_count": 36,
     "metadata": {},
     "output_type": "execute_result"
    }
   ],
   "source": [
    "get_stores.index.names"
   ]
  },
  {
   "cell_type": "code",
   "execution_count": 37,
   "metadata": {
    "collapsed": false
   },
   "outputs": [
    {
     "data": {
      "text/html": [
       "<div>\n",
       "<table border=\"1\" class=\"dataframe\">\n",
       "  <thead>\n",
       "    <tr style=\"text-align: right;\">\n",
       "      <th></th>\n",
       "      <th></th>\n",
       "      <th>Jan</th>\n",
       "      <th>Feb</th>\n",
       "      <th>Mar</th>\n",
       "      <th>Apr</th>\n",
       "      <th>May</th>\n",
       "      <th>Jun</th>\n",
       "      <th>Jul</th>\n",
       "      <th>Aug</th>\n",
       "      <th>Sep</th>\n",
       "      <th>Oct</th>\n",
       "      <th>Nov</th>\n",
       "      <th>Dec</th>\n",
       "    </tr>\n",
       "    <tr>\n",
       "      <th>year</th>\n",
       "      <th>store</th>\n",
       "      <th></th>\n",
       "      <th></th>\n",
       "      <th></th>\n",
       "      <th></th>\n",
       "      <th></th>\n",
       "      <th></th>\n",
       "      <th></th>\n",
       "      <th></th>\n",
       "      <th></th>\n",
       "      <th></th>\n",
       "      <th></th>\n",
       "      <th></th>\n",
       "    </tr>\n",
       "  </thead>\n",
       "  <tbody>\n",
       "    <tr>\n",
       "      <th rowspan=\"5\" valign=\"top\">2015</th>\n",
       "      <th>2106</th>\n",
       "      <td>13567.80</td>\n",
       "      <td>12873.14</td>\n",
       "      <td>12846.35</td>\n",
       "      <td>11957.86</td>\n",
       "      <td>7526.88</td>\n",
       "      <td>11688.72</td>\n",
       "      <td>15764.34</td>\n",
       "      <td>12329.82</td>\n",
       "      <td>10230.61</td>\n",
       "      <td>16899.33</td>\n",
       "      <td>10688.38</td>\n",
       "      <td>9665.47</td>\n",
       "    </tr>\n",
       "    <tr>\n",
       "      <th>2113</th>\n",
       "      <td>813.68</td>\n",
       "      <td>713.59</td>\n",
       "      <td>1305.98</td>\n",
       "      <td>414.15</td>\n",
       "      <td>727.69</td>\n",
       "      <td>852.46</td>\n",
       "      <td>782.97</td>\n",
       "      <td>184.47</td>\n",
       "      <td>1146.12</td>\n",
       "      <td>862.29</td>\n",
       "      <td>397.05</td>\n",
       "      <td>1109.77</td>\n",
       "    </tr>\n",
       "    <tr>\n",
       "      <th>2130</th>\n",
       "      <td>7725.66</td>\n",
       "      <td>8655.08</td>\n",
       "      <td>7891.83</td>\n",
       "      <td>13738.75</td>\n",
       "      <td>13612.92</td>\n",
       "      <td>7686.42</td>\n",
       "      <td>10137.66</td>\n",
       "      <td>5955.66</td>\n",
       "      <td>8512.56</td>\n",
       "      <td>11169.32</td>\n",
       "      <td>5072.91</td>\n",
       "      <td>11425.14</td>\n",
       "    </tr>\n",
       "    <tr>\n",
       "      <th>2152</th>\n",
       "      <td>1096.72</td>\n",
       "      <td>589.59</td>\n",
       "      <td>317.15</td>\n",
       "      <td>231.52</td>\n",
       "      <td>783.02</td>\n",
       "      <td>384.38</td>\n",
       "      <td>877.10</td>\n",
       "      <td>971.09</td>\n",
       "      <td>398.51</td>\n",
       "      <td>937.63</td>\n",
       "      <td>504.88</td>\n",
       "      <td>615.99</td>\n",
       "    </tr>\n",
       "    <tr>\n",
       "      <th>2178</th>\n",
       "      <td>2251.52</td>\n",
       "      <td>1427.65</td>\n",
       "      <td>2177.24</td>\n",
       "      <td>1255.40</td>\n",
       "      <td>2672.73</td>\n",
       "      <td>3058.20</td>\n",
       "      <td>1326.52</td>\n",
       "      <td>1369.37</td>\n",
       "      <td>2972.26</td>\n",
       "      <td>1735.26</td>\n",
       "      <td>1372.99</td>\n",
       "      <td>2705.04</td>\n",
       "    </tr>\n",
       "  </tbody>\n",
       "</table>\n",
       "</div>"
      ],
      "text/plain": [
       "                 Jan       Feb       Mar       Apr       May       Jun  \\\n",
       "year store                                                               \n",
       "2015 2106   13567.80  12873.14  12846.35  11957.86   7526.88  11688.72   \n",
       "     2113     813.68    713.59   1305.98    414.15    727.69    852.46   \n",
       "     2130    7725.66   8655.08   7891.83  13738.75  13612.92   7686.42   \n",
       "     2152    1096.72    589.59    317.15    231.52    783.02    384.38   \n",
       "     2178    2251.52   1427.65   2177.24   1255.40   2672.73   3058.20   \n",
       "\n",
       "                 Jul       Aug       Sep       Oct       Nov       Dec  \n",
       "year store                                                              \n",
       "2015 2106   15764.34  12329.82  10230.61  16899.33  10688.38   9665.47  \n",
       "     2113     782.97    184.47   1146.12    862.29    397.05   1109.77  \n",
       "     2130   10137.66   5955.66   8512.56  11169.32   5072.91  11425.14  \n",
       "     2152     877.10    971.09    398.51    937.63    504.88    615.99  \n",
       "     2178    1326.52   1369.37   2972.26   1735.26   1372.99   2705.04  "
      ]
     },
     "execution_count": 37,
     "metadata": {},
     "output_type": "execute_result"
    }
   ],
   "source": [
    "get_stores.head()"
   ]
  },
  {
   "cell_type": "code",
   "execution_count": 38,
   "metadata": {
    "collapsed": false
   },
   "outputs": [],
   "source": [
    "# separate out 2015 and 2016 data so we can take out NaN-containing rows from 2015; 2016 is in progress \\\n",
    "    # at time of data reporting, so if we did the same to it we would remove all rows!\n",
    "\n",
    "stores_2015 = get_stores.loc[2015]\n",
    "stores_2016 = get_stores.loc[2016]"
   ]
  },
  {
   "cell_type": "code",
   "execution_count": 39,
   "metadata": {
    "collapsed": false
   },
   "outputs": [],
   "source": [
    "stores_2015 = stores_2015.dropna()"
   ]
  },
  {
   "cell_type": "code",
   "execution_count": 40,
   "metadata": {
    "collapsed": false
   },
   "outputs": [],
   "source": [
    "# match up indeces\n",
    "\n",
    "new_index = stores_2015.index\n",
    "stores_2016 = stores_2016[stores_2016.index.isin(new_index)]\n",
    "newer_index = stores_2016.index\n",
    "stores_2015 = stores_2015[stores_2015.index.isin(newer_index)]"
   ]
  },
  {
   "cell_type": "code",
   "execution_count": 41,
   "metadata": {
    "collapsed": false
   },
   "outputs": [],
   "source": [
    "# get store totals\n",
    "\n",
    "stores_2015['total'] = stores_2015.sum(axis = 1)\n",
    "stores_2016['total'] = stores_2016.sum(axis = 1)"
   ]
  },
  {
   "cell_type": "markdown",
   "metadata": {},
   "source": [
    "Below we have monthly 2015 sales totals by store, with a cumulative column on the right ('total')."
   ]
  },
  {
   "cell_type": "code",
   "execution_count": 42,
   "metadata": {
    "collapsed": false
   },
   "outputs": [
    {
     "data": {
      "text/html": [
       "<div>\n",
       "<table border=\"1\" class=\"dataframe\">\n",
       "  <thead>\n",
       "    <tr style=\"text-align: right;\">\n",
       "      <th></th>\n",
       "      <th>Jan</th>\n",
       "      <th>Feb</th>\n",
       "      <th>Mar</th>\n",
       "      <th>Apr</th>\n",
       "      <th>May</th>\n",
       "      <th>Jun</th>\n",
       "      <th>Jul</th>\n",
       "      <th>Aug</th>\n",
       "      <th>Sep</th>\n",
       "      <th>Oct</th>\n",
       "      <th>Nov</th>\n",
       "      <th>Dec</th>\n",
       "      <th>total</th>\n",
       "    </tr>\n",
       "    <tr>\n",
       "      <th>store</th>\n",
       "      <th></th>\n",
       "      <th></th>\n",
       "      <th></th>\n",
       "      <th></th>\n",
       "      <th></th>\n",
       "      <th></th>\n",
       "      <th></th>\n",
       "      <th></th>\n",
       "      <th></th>\n",
       "      <th></th>\n",
       "      <th></th>\n",
       "      <th></th>\n",
       "      <th></th>\n",
       "    </tr>\n",
       "  </thead>\n",
       "  <tbody>\n",
       "    <tr>\n",
       "      <th>2106</th>\n",
       "      <td>13567.80</td>\n",
       "      <td>12873.14</td>\n",
       "      <td>12846.35</td>\n",
       "      <td>11957.86</td>\n",
       "      <td>7526.88</td>\n",
       "      <td>11688.72</td>\n",
       "      <td>15764.34</td>\n",
       "      <td>12329.82</td>\n",
       "      <td>10230.61</td>\n",
       "      <td>16899.33</td>\n",
       "      <td>10688.38</td>\n",
       "      <td>9665.47</td>\n",
       "      <td>146038.70</td>\n",
       "    </tr>\n",
       "    <tr>\n",
       "      <th>2113</th>\n",
       "      <td>813.68</td>\n",
       "      <td>713.59</td>\n",
       "      <td>1305.98</td>\n",
       "      <td>414.15</td>\n",
       "      <td>727.69</td>\n",
       "      <td>852.46</td>\n",
       "      <td>782.97</td>\n",
       "      <td>184.47</td>\n",
       "      <td>1146.12</td>\n",
       "      <td>862.29</td>\n",
       "      <td>397.05</td>\n",
       "      <td>1109.77</td>\n",
       "      <td>9310.22</td>\n",
       "    </tr>\n",
       "  </tbody>\n",
       "</table>\n",
       "</div>"
      ],
      "text/plain": [
       "            Jan       Feb       Mar       Apr      May       Jun       Jul  \\\n",
       "store                                                                        \n",
       "2106   13567.80  12873.14  12846.35  11957.86  7526.88  11688.72  15764.34   \n",
       "2113     813.68    713.59   1305.98    414.15   727.69    852.46    782.97   \n",
       "\n",
       "            Aug       Sep       Oct       Nov      Dec      total  \n",
       "store                                                              \n",
       "2106   12329.82  10230.61  16899.33  10688.38  9665.47  146038.70  \n",
       "2113     184.47   1146.12    862.29    397.05  1109.77    9310.22  "
      ]
     },
     "execution_count": 42,
     "metadata": {},
     "output_type": "execute_result"
    }
   ],
   "source": [
    "stores_2015.head(2)"
   ]
  },
  {
   "cell_type": "markdown",
   "metadata": {},
   "source": [
    "Likewise, here we have the same for 2016 (for which we only have data through the first quarter)."
   ]
  },
  {
   "cell_type": "code",
   "execution_count": 43,
   "metadata": {
    "collapsed": false
   },
   "outputs": [
    {
     "data": {
      "text/html": [
       "<div>\n",
       "<table border=\"1\" class=\"dataframe\">\n",
       "  <thead>\n",
       "    <tr style=\"text-align: right;\">\n",
       "      <th></th>\n",
       "      <th>Jan</th>\n",
       "      <th>Feb</th>\n",
       "      <th>Mar</th>\n",
       "      <th>Apr</th>\n",
       "      <th>May</th>\n",
       "      <th>Jun</th>\n",
       "      <th>Jul</th>\n",
       "      <th>Aug</th>\n",
       "      <th>Sep</th>\n",
       "      <th>Oct</th>\n",
       "      <th>Nov</th>\n",
       "      <th>Dec</th>\n",
       "      <th>total</th>\n",
       "    </tr>\n",
       "    <tr>\n",
       "      <th>store</th>\n",
       "      <th></th>\n",
       "      <th></th>\n",
       "      <th></th>\n",
       "      <th></th>\n",
       "      <th></th>\n",
       "      <th></th>\n",
       "      <th></th>\n",
       "      <th></th>\n",
       "      <th></th>\n",
       "      <th></th>\n",
       "      <th></th>\n",
       "      <th></th>\n",
       "      <th></th>\n",
       "    </tr>\n",
       "  </thead>\n",
       "  <tbody>\n",
       "    <tr>\n",
       "      <th>2106</th>\n",
       "      <td>8472.17</td>\n",
       "      <td>12053.61</td>\n",
       "      <td>9952.97</td>\n",
       "      <td>NaN</td>\n",
       "      <td>NaN</td>\n",
       "      <td>NaN</td>\n",
       "      <td>NaN</td>\n",
       "      <td>NaN</td>\n",
       "      <td>NaN</td>\n",
       "      <td>NaN</td>\n",
       "      <td>NaN</td>\n",
       "      <td>NaN</td>\n",
       "      <td>30478.75</td>\n",
       "    </tr>\n",
       "    <tr>\n",
       "      <th>2113</th>\n",
       "      <td>892.94</td>\n",
       "      <td>727.16</td>\n",
       "      <td>445.80</td>\n",
       "      <td>NaN</td>\n",
       "      <td>NaN</td>\n",
       "      <td>NaN</td>\n",
       "      <td>NaN</td>\n",
       "      <td>NaN</td>\n",
       "      <td>NaN</td>\n",
       "      <td>NaN</td>\n",
       "      <td>NaN</td>\n",
       "      <td>NaN</td>\n",
       "      <td>2065.90</td>\n",
       "    </tr>\n",
       "  </tbody>\n",
       "</table>\n",
       "</div>"
      ],
      "text/plain": [
       "           Jan       Feb      Mar  Apr  May  Jun  Jul  Aug  Sep  Oct  Nov  \\\n",
       "store                                                                       \n",
       "2106   8472.17  12053.61  9952.97  NaN  NaN  NaN  NaN  NaN  NaN  NaN  NaN   \n",
       "2113    892.94    727.16   445.80  NaN  NaN  NaN  NaN  NaN  NaN  NaN  NaN   \n",
       "\n",
       "       Dec     total  \n",
       "store                 \n",
       "2106   NaN  30478.75  \n",
       "2113   NaN   2065.90  "
      ]
     },
     "execution_count": 43,
     "metadata": {},
     "output_type": "execute_result"
    }
   ],
   "source": [
    "stores_2016.head(2)"
   ]
  },
  {
   "cell_type": "code",
   "execution_count": 44,
   "metadata": {
    "collapsed": false
   },
   "outputs": [],
   "source": [
    "# separate by quarter to get quarterly sums\n",
    "\n",
    "Q1_2015 = stores_2015[['Jan', 'Feb', 'Mar']]\n",
    "Q2_2015 = stores_2015[['Apr', 'May', 'Jun']]\n",
    "Q3_2015 = stores_2015[['Jul', 'Aug', 'Sep']]\n",
    "Q4_2015 = stores_2015[['Oct', 'Nov', 'Dec']]\n",
    "Q1_2016 = stores_2016[['Jan', 'Feb', 'Mar']]\n",
    "\n",
    "Q1_2015_volume_sold = "
   ]
  },
  {
   "cell_type": "code",
   "execution_count": 45,
   "metadata": {
    "collapsed": false
   },
   "outputs": [
    {
     "name": "stderr",
     "output_type": "stream",
     "text": [
      "/anaconda/lib/python2.7/site-packages/ipykernel/__main__.py:3: SettingWithCopyWarning:\n",
      "\n",
      "\n",
      "A value is trying to be set on a copy of a slice from a DataFrame.\n",
      "Try using .loc[row_indexer,col_indexer] = value instead\n",
      "\n",
      "See the caveats in the documentation: http://pandas.pydata.org/pandas-docs/stable/indexing.html#indexing-view-versus-copy\n",
      "\n",
      "/anaconda/lib/python2.7/site-packages/ipykernel/__main__.py:4: SettingWithCopyWarning:\n",
      "\n",
      "\n",
      "A value is trying to be set on a copy of a slice from a DataFrame.\n",
      "Try using .loc[row_indexer,col_indexer] = value instead\n",
      "\n",
      "See the caveats in the documentation: http://pandas.pydata.org/pandas-docs/stable/indexing.html#indexing-view-versus-copy\n",
      "\n",
      "/anaconda/lib/python2.7/site-packages/ipykernel/__main__.py:5: SettingWithCopyWarning:\n",
      "\n",
      "\n",
      "A value is trying to be set on a copy of a slice from a DataFrame.\n",
      "Try using .loc[row_indexer,col_indexer] = value instead\n",
      "\n",
      "See the caveats in the documentation: http://pandas.pydata.org/pandas-docs/stable/indexing.html#indexing-view-versus-copy\n",
      "\n",
      "/anaconda/lib/python2.7/site-packages/ipykernel/__main__.py:6: SettingWithCopyWarning:\n",
      "\n",
      "\n",
      "A value is trying to be set on a copy of a slice from a DataFrame.\n",
      "Try using .loc[row_indexer,col_indexer] = value instead\n",
      "\n",
      "See the caveats in the documentation: http://pandas.pydata.org/pandas-docs/stable/indexing.html#indexing-view-versus-copy\n",
      "\n",
      "/anaconda/lib/python2.7/site-packages/ipykernel/__main__.py:8: SettingWithCopyWarning:\n",
      "\n",
      "\n",
      "A value is trying to be set on a copy of a slice from a DataFrame.\n",
      "Try using .loc[row_indexer,col_indexer] = value instead\n",
      "\n",
      "See the caveats in the documentation: http://pandas.pydata.org/pandas-docs/stable/indexing.html#indexing-view-versus-copy\n",
      "\n"
     ]
    }
   ],
   "source": [
    "# quarterly sum columns inserted into respective frames\n",
    "\n",
    "Q1_2015['total'] = Q1_2015.sum(axis = 1)\n",
    "Q2_2015['total'] = Q2_2015.sum(axis = 1)\n",
    "Q3_2015['total'] = Q3_2015.sum(axis = 1)\n",
    "Q4_2015['total'] = Q4_2015.sum(axis = 1)\n",
    "\n",
    "Q1_2016['total'] = Q1_2016.sum(axis = 1)"
   ]
  },
  {
   "cell_type": "code",
   "execution_count": 46,
   "metadata": {
    "collapsed": false
   },
   "outputs": [],
   "source": [
    "# update original dataframe to include only stores we're interested in:\n",
    "\n",
    "nice_sales = sales_cat[sales_cat['store'].isin(newer_index)]"
   ]
  },
  {
   "cell_type": "code",
   "execution_count": 47,
   "metadata": {
    "collapsed": false
   },
   "outputs": [
    {
     "data": {
      "text/html": [
       "<div>\n",
       "<table border=\"1\" class=\"dataframe\">\n",
       "  <thead>\n",
       "    <tr style=\"text-align: right;\">\n",
       "      <th></th>\n",
       "      <th>date</th>\n",
       "      <th>store</th>\n",
       "      <th>ZIP</th>\n",
       "      <th>category</th>\n",
       "      <th>vendorID</th>\n",
       "      <th>volume</th>\n",
       "      <th>cost</th>\n",
       "      <th>retail</th>\n",
       "      <th>number_sold</th>\n",
       "      <th>total_sale</th>\n",
       "      <th>volume_sold</th>\n",
       "      <th>year</th>\n",
       "      <th>month</th>\n",
       "    </tr>\n",
       "  </thead>\n",
       "  <tbody>\n",
       "    <tr>\n",
       "      <th>0</th>\n",
       "      <td>2015-11-04</td>\n",
       "      <td>3717</td>\n",
       "      <td>50674</td>\n",
       "      <td>BRANDY</td>\n",
       "      <td>55</td>\n",
       "      <td>750.0</td>\n",
       "      <td>4.50</td>\n",
       "      <td>6.75</td>\n",
       "      <td>12.0</td>\n",
       "      <td>81.00</td>\n",
       "      <td>9.0</td>\n",
       "      <td>2015</td>\n",
       "      <td>11</td>\n",
       "    </tr>\n",
       "    <tr>\n",
       "      <th>1</th>\n",
       "      <td>2016-03-02</td>\n",
       "      <td>2614</td>\n",
       "      <td>52807</td>\n",
       "      <td>WHISKEY</td>\n",
       "      <td>395</td>\n",
       "      <td>750.0</td>\n",
       "      <td>13.75</td>\n",
       "      <td>20.63</td>\n",
       "      <td>2.0</td>\n",
       "      <td>41.26</td>\n",
       "      <td>1.5</td>\n",
       "      <td>2016</td>\n",
       "      <td>3</td>\n",
       "    </tr>\n",
       "  </tbody>\n",
       "</table>\n",
       "</div>"
      ],
      "text/plain": [
       "        date store    ZIP category vendorID  volume   cost  retail  \\\n",
       "0 2015-11-04  3717  50674   BRANDY       55   750.0   4.50    6.75   \n",
       "1 2016-03-02  2614  52807  WHISKEY      395   750.0  13.75   20.63   \n",
       "\n",
       "   number_sold  total_sale  volume_sold  year  month  \n",
       "0         12.0       81.00          9.0  2015     11  \n",
       "1          2.0       41.26          1.5  2016      3  "
      ]
     },
     "execution_count": 47,
     "metadata": {},
     "output_type": "execute_result"
    }
   ],
   "source": [
    "nice_sales.head(2)"
   ]
  },
  {
   "cell_type": "code",
   "execution_count": 48,
   "metadata": {
    "collapsed": false
   },
   "outputs": [],
   "source": [
    "# don't need time variables anymore, delete\n",
    "\n",
    "del nice_sales['date']\n",
    "del nice_sales['year']\n",
    "del nice_sales['month']"
   ]
  },
  {
   "cell_type": "code",
   "execution_count": 49,
   "metadata": {
    "collapsed": false
   },
   "outputs": [],
   "source": [
    "# pivot nice_sales frame to see 'store' as index\n",
    "\n",
    "nicer_sales = nice_sales.pivot_table(index = 'store')"
   ]
  },
  {
   "cell_type": "code",
   "execution_count": 51,
   "metadata": {
    "collapsed": false
   },
   "outputs": [
    {
     "data": {
      "text/html": [
       "<div>\n",
       "<table border=\"1\" class=\"dataframe\">\n",
       "  <thead>\n",
       "    <tr style=\"text-align: right;\">\n",
       "      <th></th>\n",
       "      <th>cost</th>\n",
       "      <th>number_sold</th>\n",
       "      <th>retail</th>\n",
       "      <th>total_sale</th>\n",
       "      <th>volume</th>\n",
       "      <th>volume_sold</th>\n",
       "    </tr>\n",
       "    <tr>\n",
       "      <th>store</th>\n",
       "      <th></th>\n",
       "      <th></th>\n",
       "      <th></th>\n",
       "      <th></th>\n",
       "      <th></th>\n",
       "      <th></th>\n",
       "    </tr>\n",
       "  </thead>\n",
       "  <tbody>\n",
       "    <tr>\n",
       "      <th>2106</th>\n",
       "      <td>10.311273</td>\n",
       "      <td>12573.0</td>\n",
       "      <td>15.479095</td>\n",
       "      <td>270.732285</td>\n",
       "      <td>913.496933</td>\n",
       "      <td>11836.10</td>\n",
       "    </tr>\n",
       "    <tr>\n",
       "      <th>2113</th>\n",
       "      <td>10.838152</td>\n",
       "      <td>830.0</td>\n",
       "      <td>16.267717</td>\n",
       "      <td>61.826739</td>\n",
       "      <td>954.483696</td>\n",
       "      <td>836.85</td>\n",
       "    </tr>\n",
       "    <tr>\n",
       "      <th>2130</th>\n",
       "      <td>10.006398</td>\n",
       "      <td>9144.0</td>\n",
       "      <td>15.015197</td>\n",
       "      <td>274.488228</td>\n",
       "      <td>935.777559</td>\n",
       "      <td>8436.27</td>\n",
       "    </tr>\n",
       "    <tr>\n",
       "      <th>2152</th>\n",
       "      <td>8.543882</td>\n",
       "      <td>708.0</td>\n",
       "      <td>12.853000</td>\n",
       "      <td>53.435353</td>\n",
       "      <td>1063.235294</td>\n",
       "      <td>772.75</td>\n",
       "    </tr>\n",
       "    <tr>\n",
       "      <th>2178</th>\n",
       "      <td>9.608639</td>\n",
       "      <td>2396.0</td>\n",
       "      <td>14.435374</td>\n",
       "      <td>101.192789</td>\n",
       "      <td>1027.636054</td>\n",
       "      <td>2428.92</td>\n",
       "    </tr>\n",
       "  </tbody>\n",
       "</table>\n",
       "</div>"
      ],
      "text/plain": [
       "            cost  number_sold     retail  total_sale       volume  volume_sold\n",
       "store                                                                         \n",
       "2106   10.311273      12573.0  15.479095  270.732285   913.496933     11836.10\n",
       "2113   10.838152        830.0  16.267717   61.826739   954.483696       836.85\n",
       "2130   10.006398       9144.0  15.015197  274.488228   935.777559      8436.27\n",
       "2152    8.543882        708.0  12.853000   53.435353  1063.235294       772.75\n",
       "2178    9.608639       2396.0  14.435374  101.192789  1027.636054      2428.92"
      ]
     },
     "execution_count": 51,
     "metadata": {},
     "output_type": "execute_result"
    }
   ],
   "source": [
    "# add volume_sold (per store) and number_sold (per store) to nicer_sales\n",
    "\n",
    "nicer_sales['volume_sold'] = nice_sales.groupby('store')['volume_sold'].sum()\n",
    "nicer_sales['number_sold'] = nice_sales.groupby('store')['number_sold'].sum()\n",
    "nicer_sales.head()"
   ]
  },
  {
   "cell_type": "code",
   "execution_count": 52,
   "metadata": {
    "collapsed": false
   },
   "outputs": [],
   "source": [
    "# add quarterly info to nicer_sales\n",
    "\n",
    "nicer_sales['Q1_2015'] = Q1_2015['total']\n",
    "nicer_sales['Q2_2015'] = Q2_2015['total']\n",
    "nicer_sales['Q3_2015'] = Q3_2015['total']\n",
    "nicer_sales['Q4_2015'] = Q4_2015['total']\n",
    "nicer_sales['total_2015'] = nicer_sales.sum(axis = 1)\n",
    "nicer_sales['Q1_2016'] = Q1_2016['total']"
   ]
  },
  {
   "cell_type": "code",
   "execution_count": 53,
   "metadata": {
    "collapsed": false
   },
   "outputs": [],
   "source": [
    "# something weird happens with the old float columns; let's take them out\n",
    "\n",
    "del nicer_sales['cost']\n",
    "del nicer_sales['retail']\n",
    "del nicer_sales['total_sale']\n",
    "del nicer_sales['volume']"
   ]
  },
  {
   "cell_type": "code",
   "execution_count": 54,
   "metadata": {
    "collapsed": false
   },
   "outputs": [
    {
     "data": {
      "text/html": [
       "<div>\n",
       "<table border=\"1\" class=\"dataframe\">\n",
       "  <thead>\n",
       "    <tr style=\"text-align: right;\">\n",
       "      <th></th>\n",
       "      <th>Q1_2015</th>\n",
       "      <th>Q2_2015</th>\n",
       "      <th>Q3_2015</th>\n",
       "      <th>Q4_2015</th>\n",
       "      <th>Q1_2016</th>\n",
       "      <th>total_2015</th>\n",
       "      <th>volume_sold</th>\n",
       "      <th>number_sold</th>\n",
       "    </tr>\n",
       "    <tr>\n",
       "      <th>store</th>\n",
       "      <th></th>\n",
       "      <th></th>\n",
       "      <th></th>\n",
       "      <th></th>\n",
       "      <th></th>\n",
       "      <th></th>\n",
       "      <th></th>\n",
       "      <th></th>\n",
       "    </tr>\n",
       "  </thead>\n",
       "  <tbody>\n",
       "    <tr>\n",
       "      <th>2106</th>\n",
       "      <td>39287.29</td>\n",
       "      <td>31173.46</td>\n",
       "      <td>38324.77</td>\n",
       "      <td>37253.18</td>\n",
       "      <td>30478.75</td>\n",
       "      <td>171657.819586</td>\n",
       "      <td>11836.10</td>\n",
       "      <td>12573.0</td>\n",
       "    </tr>\n",
       "    <tr>\n",
       "      <th>2113</th>\n",
       "      <td>2833.25</td>\n",
       "      <td>1994.30</td>\n",
       "      <td>2113.56</td>\n",
       "      <td>2369.11</td>\n",
       "      <td>2065.90</td>\n",
       "      <td>12020.486304</td>\n",
       "      <td>836.85</td>\n",
       "      <td>830.0</td>\n",
       "    </tr>\n",
       "    <tr>\n",
       "      <th>2130</th>\n",
       "      <td>24272.57</td>\n",
       "      <td>35038.09</td>\n",
       "      <td>24605.88</td>\n",
       "      <td>27667.37</td>\n",
       "      <td>27856.11</td>\n",
       "      <td>130399.467382</td>\n",
       "      <td>8436.27</td>\n",
       "      <td>9144.0</td>\n",
       "    </tr>\n",
       "    <tr>\n",
       "      <th>2152</th>\n",
       "      <td>2003.46</td>\n",
       "      <td>1398.92</td>\n",
       "      <td>2246.70</td>\n",
       "      <td>2058.50</td>\n",
       "      <td>1376.43</td>\n",
       "      <td>10326.397529</td>\n",
       "      <td>772.75</td>\n",
       "      <td>708.0</td>\n",
       "    </tr>\n",
       "    <tr>\n",
       "      <th>2178</th>\n",
       "      <td>5856.41</td>\n",
       "      <td>6986.33</td>\n",
       "      <td>5668.15</td>\n",
       "      <td>5813.29</td>\n",
       "      <td>5426.50</td>\n",
       "      <td>30301.972857</td>\n",
       "      <td>2428.92</td>\n",
       "      <td>2396.0</td>\n",
       "    </tr>\n",
       "  </tbody>\n",
       "</table>\n",
       "</div>"
      ],
      "text/plain": [
       "        Q1_2015   Q2_2015   Q3_2015   Q4_2015   Q1_2016     total_2015  \\\n",
       "store                                                                    \n",
       "2106   39287.29  31173.46  38324.77  37253.18  30478.75  171657.819586   \n",
       "2113    2833.25   1994.30   2113.56   2369.11   2065.90   12020.486304   \n",
       "2130   24272.57  35038.09  24605.88  27667.37  27856.11  130399.467382   \n",
       "2152    2003.46   1398.92   2246.70   2058.50   1376.43   10326.397529   \n",
       "2178    5856.41   6986.33   5668.15   5813.29   5426.50   30301.972857   \n",
       "\n",
       "       volume_sold  number_sold  \n",
       "store                            \n",
       "2106      11836.10      12573.0  \n",
       "2113        836.85        830.0  \n",
       "2130       8436.27       9144.0  \n",
       "2152        772.75        708.0  \n",
       "2178       2428.92       2396.0  "
      ]
     },
     "execution_count": 54,
     "metadata": {},
     "output_type": "execute_result"
    }
   ],
   "source": [
    "nicer_sales = nicer_sales[['Q1_2015', 'Q2_2015', 'Q3_2015', 'Q4_2015', 'Q1_2016', 'total_2015', 'volume_sold', 'number_sold']]\n",
    "nicer_sales.head()"
   ]
  },
  {
   "cell_type": "code",
   "execution_count": 125,
   "metadata": {
    "collapsed": false
   },
   "outputs": [
    {
     "data": {
      "image/png": "[encoded data removed]",
      "text/plain": [
       "<matplotlib.figure.Figure at 0x12bb484d0>"
      ]
     },
     "metadata": {},
     "output_type": "display_data"
    }
   ],
   "source": [
    "fig, axes = plt.subplots(3,2, figsize=(16,8))\n",
    "plt.style.use('fivethirtyeight')\n",
    "\n",
    "axes_details = type(axes)\n",
    "fig_details = type(fig)\n",
    "\n",
    "axes[0][0].hist(nicer_sales['Q1_2015'], color = 'pink', bins = 100)\n",
    "axes[0][0].set_xlim([0, 100000])\n",
    "axes[0][0].set_ylim([0, 300])\n",
    "axes[0][0].set_title('Q1 2015 Earnings by Store')\n",
    "axes[0][0].set_xlabel('dollars')\n",
    "axes[0][0].set_ylabel('count')\n",
    "\n",
    "axes[0][1].hist(nicer_sales['Q2_2015'], color = 'lightgreen', bins = 100)\n",
    "axes[0][1].set_xlim([0, 100000])\n",
    "axes[0][1].set_ylim([0, 300])\n",
    "axes[0][1].set_title('Q2 2015 Earnings by Store')\n",
    "axes[0][1].set_xlabel('dollars')\n",
    "axes[0][1].set_ylabel('count')\n",
    "\n",
    "axes[1][0].hist(nicer_sales['Q3_2015'], color = 'grey', bins = 100)\n",
    "axes[1][0].set_xlim([0, 100000])\n",
    "axes[1][0].set_ylim([0, 300])\n",
    "axes[1][0].set_title('Q3 2015 Earnings by Store')\n",
    "axes[1][0].set_xlabel('dollars')\n",
    "axes[1][0].set_ylabel('count')\n",
    "\n",
    "axes[1][1].hist(nicer_sales['Q4_2015'], color = 'ivory', bins = 100)\n",
    "axes[1][1].set_xlim([0, 100000])\n",
    "axes[1][1].set_ylim([0, 300])\n",
    "axes[1][1].set_title('Q4 2015 Earnings by Store')\n",
    "axes[1][1].set_xlabel('dollars')\n",
    "axes[1][1].set_ylabel('count')\n",
    "\n",
    "axes[2][0].hist(nicer_sales['total_2015'], color = 'lightblue', bins = 50)\n",
    "axes[2][0].set_xlim([0, 300000])\n",
    "axes[2][0].set_ylim([0, 300])\n",
    "axes[2][0].set_title('Total Earnings by Store, 2015')\n",
    "axes[2][0].set_xlabel('dollars')\n",
    "axes[2][0].set_ylabel('count')\n",
    "\n",
    "axes[2][1].hist(nicer_sales['Q1_2016'], color = 'orange', bins = 100)\n",
    "axes[2][1].set_xlim([0, 100000])\n",
    "axes[2][1].set_ylim([0, 300])\n",
    "axes[2][1].set_title('Q1 2016 Earnings by Store')\n",
    "axes[2][1].set_xlabel('dollars')\n",
    "axes[2][1].set_ylabel('count')\n",
    "\n",
    "plt.tight_layout()\n",
    "plt.show()"
   ]
  },
  {
   "cell_type": "markdown",
   "metadata": {},
   "source": [
    "We'll make 'total_2015' our target variable and try to fit a model using the first fiscal quarter of 2015.  "
   ]
  },
  {
   "cell_type": "code",
   "execution_count": 55,
   "metadata": {
    "collapsed": false
   },
   "outputs": [
    {
     "name": "stderr",
     "output_type": "stream",
     "text": [
      "/anaconda/lib/python2.7/site-packages/ipykernel/__main__.py:5: SettingWithCopyWarning:\n",
      "\n",
      "\n",
      "A value is trying to be set on a copy of a slice from a DataFrame.\n",
      "Try using .loc[row_indexer,col_indexer] = value instead\n",
      "\n",
      "See the caveats in the documentation: http://pandas.pydata.org/pandas-docs/stable/indexing.html#indexing-view-versus-copy\n",
      "\n"
     ]
    }
   ],
   "source": [
    "# target; we want to try to predict total dollars for 2016, so we use total dollars for 2015 to build model\n",
    "my_y = nicer_sales['total_2015']\n",
    "\n",
    "# independent variable & intercept     \n",
    "nicer_sales['intercept'] = 1\n",
    "my_X = nicer_sales[['intercept', 'Q1_2015', 'volume_sold', 'number_sold']] # volume&number_sold are total, not quarterly"
   ]
  },
  {
   "cell_type": "code",
   "execution_count": 56,
   "metadata": {
    "collapsed": false
   },
   "outputs": [
    {
     "name": "stdout",
     "output_type": "stream",
     "text": [
      "STANDARD LINEAR REGRESSION\n",
      "R^2 = 0.993558774285\n",
      "Betas: [ 0.          1.26213351  7.86677278  3.5870002 ]\n",
      "Mean abs. val. of coeffs: 3.17897662329\n",
      "Max. abs. val. coeff: 7.86677278074\n"
     ]
    }
   ],
   "source": [
    "# do standard linear regression\n",
    "\n",
    "lr = linear_model.LinearRegression()\n",
    "model = lr.fit(my_X, my_y)\n",
    "\n",
    "print 'STANDARD LINEAR REGRESSION'\n",
    "lr_r2 =  r2_score(y_true=my_y, y_pred=model.predict(my_X))\n",
    "print 'R^2 = %s' %lr_r2\n",
    "print 'Betas: %s' %model.coef_\n",
    "mab = abs(model.coef_).mean()\n",
    "print 'Mean abs. val. of coeffs: %s' %mab\n",
    "maxcoeff = abs(model.coef_.max())\n",
    "print 'Max. abs. val. coeff: %s' %maxcoeff"
   ]
  },
  {
   "cell_type": "code",
   "execution_count": 59,
   "metadata": {
    "collapsed": false
   },
   "outputs": [
    {
     "data": {
      "text/plain": [
       "0.8805933271224724"
      ]
     },
     "execution_count": 59,
     "metadata": {},
     "output_type": "execute_result"
    }
   ],
   "source": [
    "# get cross validation score using 100 folds\n",
    "\n",
    "cross_val_score(lr, my_X, my_y, n_jobs=1, cv=100).mean()"
   ]
  },
  {
   "cell_type": "code",
   "execution_count": 60,
   "metadata": {
    "collapsed": false
   },
   "outputs": [
    {
     "data": {
      "text/plain": [
       "-34941024.097045749"
      ]
     },
     "execution_count": 60,
     "metadata": {},
     "output_type": "execute_result"
    }
   ],
   "source": [
    "# get cross validation score using 100 folds and mean squared error metric\n",
    "\n",
    "cross_val_score(lr, my_X, my_y, n_jobs=1, cv=5,\n",
    "                scoring='mean_squared_error').mean()"
   ]
  },
  {
   "cell_type": "code",
   "execution_count": 61,
   "metadata": {
    "collapsed": true
   },
   "outputs": [],
   "source": [
    "# use cross_val_predict on the standard model\n",
    "\n",
    "cvp_lr_preds = cross_val_predict(lr, my_X, my_y, cv=100)"
   ]
  },
  {
   "cell_type": "code",
   "execution_count": 64,
   "metadata": {
    "collapsed": false
   },
   "outputs": [
    {
     "data": {
      "text/plain": [
       "array([  1.86128258e+05,   1.12777793e+04,   1.28030472e+05,\n",
       "         9.28039868e+03,   3.32367010e+04,   1.44922369e+05,\n",
       "         1.58297672e+05,   2.80495045e+04,   2.26380576e+04,\n",
       "         3.79541659e+04,   5.51708719e+04,   6.52344883e+04,\n",
       "         6.64748218e+04,   1.20678539e+04,   7.38096108e+04,\n",
       "         1.16352876e+05,   7.58593937e+03,   2.43467992e+04,\n",
       "         8.78861014e+03,   4.43012316e+04,   2.97007952e+04,\n",
       "         2.09600956e+04,   1.85708536e+04,   1.89383902e+05,\n",
       "         1.79104344e+05,   1.83510155e+05,   9.20038062e+04,\n",
       "         1.68353668e+05,   4.58628959e+04,   1.36772226e+05,\n",
       "         6.77150859e+04,   4.91295155e+05,   7.96012646e+04,\n",
       "         1.98423685e+04,   1.45959087e+05,   9.91131173e+04,\n",
       "         5.00450396e+04,   1.38576582e+05,   1.21497598e+05,\n",
       "         5.17879075e+04,   1.22841880e+05,   7.40503167e+04,\n",
       "         1.35604592e+05,   5.27195010e+04,   7.35049596e+04,\n",
       "         9.15860305e+04,   8.53440919e+04,   6.95732700e+04,\n",
       "         7.99526373e+04,   7.21161683e+04,   1.53798959e+05,\n",
       "         5.17763532e+04,   1.21539030e+05,   1.11537865e+05,\n",
       "         2.35077636e+04,   4.34061903e+04,   1.40324743e+05,\n",
       "         3.44364305e+04,   3.47401736e+04,   9.72302393e+04,\n",
       "         4.97375197e+04,   1.18896099e+05,   1.39133250e+04,\n",
       "         1.35796319e+05,   1.78880655e+05,   8.01183114e+04,\n",
       "         6.07586518e+04,   9.37775426e+04,   3.47287937e+04,\n",
       "         6.11895612e+04,   4.61230069e+04,   6.14131211e+04,\n",
       "         1.07951753e+05,   1.12142040e+05,   1.39685688e+05,\n",
       "         3.05054221e+04,   6.35751688e+04,   8.17580177e+04,\n",
       "         3.34522944e+04,   9.14282724e+04,   5.21587964e+04,\n",
       "         8.22557978e+04,   8.41883059e+04,   1.03315328e+05,\n",
       "         1.38610443e+05,   5.97070544e+04,   2.15639988e+04,\n",
       "         2.08053662e+05,   8.60494627e+04,   1.14919957e+05,\n",
       "         3.83666827e+04,   2.59014256e+04,   2.68509314e+04,\n",
       "         7.09757958e+04,   6.45449055e+04,   1.42723911e+05,\n",
       "         6.73350993e+04,   1.31045243e+05,   4.83443486e+04,\n",
       "         6.17060459e+04,   6.71572275e+03,   4.96989420e+04,\n",
       "         2.76067443e+04,   1.16209380e+05,   1.85034230e+05,\n",
       "         1.89185911e+05,   2.95887580e+04,   1.47260076e+05,\n",
       "         1.11901279e+05,   1.08038217e+05,   7.35013678e+04,\n",
       "         1.18510844e+05,   1.18512934e+05,   2.17754342e+05,\n",
       "         1.11877725e+05,   1.20811643e+05,   2.05085468e+04,\n",
       "         2.16890190e+05,   2.82651737e+04,   1.12044872e+06,\n",
       "         1.15802198e+05,   8.98549652e+04,   1.15293025e+05,\n",
       "         3.82865516e+04,   7.64592327e+04,   8.28699230e+04,\n",
       "         1.51613700e+05,   1.21234631e+05,   1.80844239e+05,\n",
       "         7.80201252e+04,   6.13118912e+04,   9.95699747e+04,\n",
       "         6.06398322e+04,   4.57468512e+04,   1.32018244e+04,\n",
       "         1.28446266e+04,   6.89587027e+03,   4.12055188e+03,\n",
       "         2.51529445e+04,   5.79319511e+04,   4.97198987e+04,\n",
       "         1.74029269e+05,   1.37588675e+05,   1.25227198e+05,\n",
       "         1.15386167e+04,   9.71377162e+03,   2.51330810e+05,\n",
       "         5.64172682e+04,   1.26971775e+04,   8.93311928e+03,\n",
       "         5.94077404e+03,   9.83871796e+03,   1.72004165e+04,\n",
       "         9.48066946e+03,   1.09688337e+04,   9.89397799e+03,\n",
       "         3.39234621e+03,   6.14699448e+03,   3.79454775e+03,\n",
       "         1.30498053e+04,   1.16717988e+04,   1.34153063e+04,\n",
       "         1.20936355e+04,   8.81519898e+03,   7.27123046e+03,\n",
       "         3.28913463e+04,   2.64937197e+05,   5.28974649e+05,\n",
       "         1.58400078e+05,   5.69767705e+04,   1.08382575e+04,\n",
       "         4.00343062e+04,   4.15923166e+05,   6.29267807e+04,\n",
       "         2.66191069e+05,   7.91065109e+04,   1.64986558e+04,\n",
       "         1.25950733e+04,   1.50671494e+05,   4.12200323e+03,\n",
       "         2.31679245e+04,   1.82680249e+05,   4.52119644e+04,\n",
       "         4.00347725e+04,   4.73518966e+04,   2.04192901e+05,\n",
       "         6.17547661e+04,   1.35149759e+04,   1.86026171e+04,\n",
       "         1.76114608e+04,   3.59414755e+04,   8.72131431e+04,\n",
       "         5.21415367e+04,   2.07142723e+04,   8.18930913e+04,\n",
       "         1.21974571e+04,   4.22326886e+04,   6.44535451e+04,\n",
       "         9.29636614e+03,   8.00925969e+03,   7.85129842e+04,\n",
       "         7.96194083e+04,   4.24332295e+04,   4.89516168e+04,\n",
       "         2.04977498e+04,   6.35821598e+04,   4.02572561e+04,\n",
       "         5.22524477e+04,   6.01081830e+04,   5.27876378e+04,\n",
       "         6.77865731e+03,   7.36485081e+04,   3.67676515e+04,\n",
       "         5.34525165e+04,   4.10474464e+03,   2.51214586e+04,\n",
       "         1.92292459e+04,   1.24141285e+04,   8.47369914e+03,\n",
       "         2.20373298e+04,   1.56169432e+04,   4.33394605e+04,\n",
       "         1.46491437e+04,   3.26007066e+04,   5.65689034e+04,\n",
       "         3.75527651e+03,   1.98419021e+04,   1.41901079e+04,\n",
       "         2.92540021e+04,   5.25756237e+03,   1.29517524e+04,\n",
       "         2.55255855e+04,   1.24611996e+04,   1.49363920e+04,\n",
       "         9.31056914e+03,   3.69907450e+04,   2.96562377e+04,\n",
       "         3.88325391e+04,   2.42967927e+04,   1.73811596e+04,\n",
       "         5.94410448e+04,   2.03814138e+04,   9.79588491e+03,\n",
       "         3.15549074e+04,   6.41855107e+04,   4.46101799e+04,\n",
       "         3.65382779e+04,   2.97213429e+04,   3.89048994e+04,\n",
       "         6.04161824e+04,   3.53848322e+04,   3.62702748e+04,\n",
       "         2.00063199e+04,   2.85370703e+04,   2.03236481e+04,\n",
       "         2.82483842e+04,   1.24736078e+04,   2.49197474e+04,\n",
       "         1.10687320e+04,   6.80049742e+04,   3.50967647e+04,\n",
       "         1.62890745e+04,   1.05245318e+04,   6.94892610e+04,\n",
       "         2.46879625e+05,   2.84993032e+04,   6.20241847e+04,\n",
       "         1.24781347e+04,   6.87386371e+03,   1.24130912e+04,\n",
       "         3.72426261e+04,   2.76988083e+04,   1.99229791e+04,\n",
       "         2.78750782e+04,   2.99375976e+04,   4.80789602e+04,\n",
       "         2.35662474e+04,   1.50391912e+04,   2.23516768e+04,\n",
       "         1.00998257e+04,   2.43247135e+05,   1.87801861e+04,\n",
       "         2.58659984e+04,   3.24944246e+04,   2.08293460e+05,\n",
       "         4.08392198e+03,   2.70410437e+04,   1.98321837e+04,\n",
       "         3.71963081e+04,   9.81806253e+03,   2.23903439e+04,\n",
       "         5.14172528e+04,   1.09132561e+04,   3.72878743e+04,\n",
       "         9.77614475e+03,   2.21803832e+04,   6.90014115e+03,\n",
       "         3.47004973e+04,   2.80348501e+04,   3.25337071e+04,\n",
       "         9.55882151e+03,   7.74297296e+04,   3.49640041e+04,\n",
       "         7.92228392e+03,   1.41462519e+04,   6.71722603e+03,\n",
       "         1.16010655e+04,   5.05405512e+04,   7.26943928e+03,\n",
       "         3.69653808e+04,   2.30214808e+04,   3.06644184e+04,\n",
       "         2.44319240e+04,   2.34436576e+04,   2.86515826e+04,\n",
       "         5.74848938e+04,   1.05206976e+04,   2.56277020e+04,\n",
       "         1.52086662e+04,   1.15902019e+04,   2.20646393e+04,\n",
       "         1.10918873e+04,   2.74608904e+04,   9.09579835e+03,\n",
       "         2.03933513e+04,   1.10001206e+05,   1.91216850e+04,\n",
       "         7.35689962e+03,   2.97347763e+04,   2.73065292e+04,\n",
       "         5.13588795e+04,   2.06039827e+04,   1.12736751e+05,\n",
       "         1.15104867e+04,   1.79578387e+04,   4.04383519e+03,\n",
       "         3.55899507e+05,   5.13010963e+03,   1.26130643e+04,\n",
       "         2.57934009e+04,   9.07923995e+03,   3.75790169e+03,\n",
       "         3.98684035e+03,   7.30074590e+04,   4.06174072e+04,\n",
       "         4.21814016e+04,   2.94934986e+04,   2.04473383e+04,\n",
       "         4.32513047e+04,   3.54657171e+04,   5.61357774e+04,\n",
       "         1.52116375e+04,   6.81076280e+03,   2.93135616e+04,\n",
       "         5.05862071e+04,   1.20101714e+04,   1.02032124e+04,\n",
       "         9.54697228e+03,   1.93248994e+04,   2.51328331e+04,\n",
       "         3.53407102e+04,   3.42988095e+03,   3.17288792e+04,\n",
       "         2.28228630e+04,   2.79025659e+04,   1.18811686e+04,\n",
       "         1.03198555e+04,   2.13355810e+04,   5.71533459e+03,\n",
       "         2.74453452e+04,   5.15021866e+04,   4.44073576e+04,\n",
       "         1.14800340e+04,   2.77358337e+04,   1.19035327e+04,\n",
       "         2.45527236e+04,   6.15898510e+04,   2.26821125e+04,\n",
       "         9.74136670e+03,   3.44104136e+04,   2.21039407e+04,\n",
       "         2.41218276e+04,   3.87455311e+04,   9.60730598e+03,\n",
       "         1.82361325e+04,   1.99155223e+04,   2.19887093e+04,\n",
       "         5.06070682e+04,   1.60807915e+04,   8.94232525e+03,\n",
       "         4.37704050e+04,   1.05942461e+04,   1.48252159e+04,\n",
       "         4.35116134e+03,   1.55880660e+04,   6.83733469e+03,\n",
       "         1.86747347e+04,   6.52505762e+04,   1.82304039e+04,\n",
       "         1.63369534e+04,   6.58087816e+03,   9.92669934e+03,\n",
       "         2.03488896e+04,   1.74714170e+04,   1.78263142e+04,\n",
       "         1.87126153e+04,   2.89018419e+04,   1.15874063e+04,\n",
       "         1.22431484e+04,   4.55352547e+04,   3.31153364e+04,\n",
       "         7.47826097e+03,   2.06439478e+04,   2.65172900e+04,\n",
       "         1.52400350e+04,   8.74510678e+03,   1.54352827e+04,\n",
       "         3.94084193e+04,   1.95692599e+04,   3.84523344e+04,\n",
       "         1.96512509e+04,   9.41938923e+03,   1.20643957e+04,\n",
       "         2.70306998e+04,   1.38560721e+04,   2.52466842e+04,\n",
       "         1.18486160e+04,   9.17522612e+03,   1.99733740e+05,\n",
       "         9.79499107e+03,   4.95764226e+03,   2.09247204e+04,\n",
       "         9.49146703e+03,   4.42634908e+03,   1.70234042e+04,\n",
       "         7.79384545e+03,   2.66975458e+04,   2.95193119e+04,\n",
       "         2.66134112e+04,   1.02480144e+04,   2.08650469e+04,\n",
       "         9.88699902e+03,   1.15993264e+04,   1.10186626e+04,\n",
       "         1.73982931e+04,   7.57128616e+03,   6.58622493e+03,\n",
       "         1.89109786e+04,   1.01938794e+04,   2.59484777e+04,\n",
       "         1.71736142e+04,   1.31877938e+04,   1.11443047e+04,\n",
       "         1.69096887e+04,   2.99100604e+04,   9.34723427e+03,\n",
       "         9.67822044e+03,   7.67710852e+04,   3.54670901e+04,\n",
       "         1.31216107e+04,   1.25127369e+04,   3.70066014e+04,\n",
       "         4.07773055e+04,   1.04844648e+04,   1.72087953e+04,\n",
       "         4.08576937e+03,   3.85255591e+04,   1.56984329e+04,\n",
       "         7.70011347e+03,   3.07865353e+04,   1.65919211e+04,\n",
       "         7.10797379e+03,   1.49318843e+04,   6.43953150e+03,\n",
       "         1.31555493e+04,   1.42363757e+04,   1.28978600e+04,\n",
       "         5.98213427e+04,   1.34844569e+04,   6.03520895e+04,\n",
       "         2.45416906e+04,   2.49823227e+04,   2.12329509e+04,\n",
       "         3.56691304e+04,   9.53570731e+03,   8.31757838e+03,\n",
       "         2.32485221e+04,   3.74821607e+04,   6.03334415e+03,\n",
       "         1.31393151e+04,   2.04547315e+04,   2.79614472e+03,\n",
       "         1.23931943e+04,   4.10990796e+04,   8.51821842e+03,\n",
       "         1.71171690e+04,   1.23672253e+04,   2.92504478e+04,\n",
       "         1.35407787e+04,   3.50173625e+04,   3.58944569e+03,\n",
       "         1.04358847e+04,   2.37074970e+04,   2.39188137e+04,\n",
       "         1.06415694e+04,   7.84769449e+03,   1.74297001e+04,\n",
       "         2.98828807e+04,   1.12383057e+04,   5.49085855e+04,\n",
       "         1.51514732e+05,   1.52984805e+04,   1.13880787e+04,\n",
       "         8.83923767e+03,   1.11394085e+04,   2.22580330e+04,\n",
       "         1.22807031e+04,   7.00658620e+03,   3.91820786e+03,\n",
       "         2.51774708e+04,   3.60984141e+03,   4.73949529e+03,\n",
       "         2.02649252e+04,   1.74970231e+04,   1.10554571e+04,\n",
       "         1.64342767e+03,   5.29449157e+03,   2.68865442e+03,\n",
       "         5.20974363e+03,   6.01965178e+03,   8.38398290e+03,\n",
       "         6.27474709e+03,   3.13045039e+03,   3.66958200e+03,\n",
       "         7.39922198e+03,   4.05223558e+03,   5.03621790e+03,\n",
       "         8.14130518e+03,   3.59020977e+03,   4.95246684e+03,\n",
       "         1.15925642e+04,   6.79165917e+03,   6.32825813e+03,\n",
       "         9.99771612e+03,   7.02012062e+03,   3.30799578e+03,\n",
       "         7.82038897e+03,   4.41161895e+03,   8.02550170e+03,\n",
       "         1.43022320e+04,   6.26176470e+03,   5.22894001e+03,\n",
       "         6.69985905e+03,   7.34508370e+03,   3.49355405e+03,\n",
       "         3.56244044e+03,   3.93833217e+04,   4.07866530e+03,\n",
       "         8.99704370e+03,   3.14561142e+03,   7.32204073e+03,\n",
       "         1.12774144e+04,   5.80425417e+03,   5.41206735e+03,\n",
       "         1.08275779e+04,   1.07482803e+04,   1.23551593e+04,\n",
       "         6.00261023e+03,   3.68233573e+03,   7.24821954e+03,\n",
       "         1.75999845e+04,   1.36727515e+04,   6.44673714e+03,\n",
       "         7.84066947e+03,   7.18924549e+03,   1.17126774e+04,\n",
       "         6.32440767e+03,   2.45495453e+04,   1.11394153e+04,\n",
       "         1.04714783e+04,   3.09308891e+03,   1.08747188e+04,\n",
       "         9.96367754e+03,   6.40974599e+03,   6.11531864e+03,\n",
       "         6.27037710e+03,   3.08681781e+04,   4.42317859e+04,\n",
       "         2.06554240e+04,   7.37270404e+03,   1.08743858e+04,\n",
       "         9.45701867e+03,   9.32416645e+03,   2.02559489e+04,\n",
       "         1.20222842e+04,   7.40672040e+04,   8.05162579e+03,\n",
       "         2.03694337e+03,   4.87852276e+03,   3.52178156e+03,\n",
       "         1.06210008e+04,   6.09774073e+03,   9.62646351e+03,\n",
       "         1.40234629e+04,   1.96203427e+04,   3.73043662e+03,\n",
       "         9.94745336e+02,   6.64055717e+03,   1.39887645e+04,\n",
       "         4.55854839e+03,   1.21728779e+04,   6.84830488e+03,\n",
       "         3.89756597e+03,   3.45459386e+03,   3.17657330e+04,\n",
       "         5.82987232e+03,   5.99479920e+03,   5.82639936e+03,\n",
       "         5.39598650e+03,   7.41702339e+03,   1.39037583e+04,\n",
       "         5.97541824e+03,   1.41785955e+04,   7.64568961e+03,\n",
       "         4.19620113e+03,   1.19272794e+04,   3.45808794e+04,\n",
       "         6.19612093e+03,   4.26947936e+03,   2.61959299e+04,\n",
       "         8.54483004e+03,   4.46596530e+04,   4.18792456e+04,\n",
       "         2.18027989e+04,   6.89181412e+03,   8.78884428e+03,\n",
       "         5.95072082e+03,   6.56923335e+03,   1.07205108e+04,\n",
       "         9.50340101e+03,   2.35463183e+04,   4.94572139e+03,\n",
       "         1.13819047e+04,   4.72787333e+03,   2.51744742e+03,\n",
       "         9.22008015e+03,   3.61115583e+04,   2.00550009e+04,\n",
       "         9.10664697e+03,   1.68243195e+04,   2.80176100e+04,\n",
       "         3.58153230e+03,   1.05457969e+04,   5.82308373e+04,\n",
       "         5.14694646e+03,   2.95546261e+04,   7.62894589e+03,\n",
       "         1.17384909e+04,   1.12819174e+04,   7.08525874e+03,\n",
       "         4.79587714e+03,   1.73237461e+04,   5.75701667e+03,\n",
       "         2.24859885e+04,   2.31372608e+04,   8.07723899e+03,\n",
       "         4.10518165e+03,   9.20007888e+04,   4.00864900e+04,\n",
       "         1.01276687e+04,   8.80678836e+03,   4.34544175e+03,\n",
       "         1.20726962e+04,   4.18779047e+04,   3.78999398e+03,\n",
       "         4.62106069e+03,   9.66732123e+03,   1.76847791e+04,\n",
       "         3.08363137e+03,   4.02636364e+03,   1.10698430e+04,\n",
       "         4.62545824e+03,   1.02396603e+04,   1.56454180e+04,\n",
       "         3.47709772e+04,   4.03228268e+03,   2.58342792e+04,\n",
       "         9.94828645e+03,   1.23771334e+04,   2.63764287e+04,\n",
       "         3.74412008e+03,   2.74452065e+03,   4.97314943e+03,\n",
       "         5.09101648e+03,   5.57347923e+03,   5.00380057e+04,\n",
       "         1.28459956e+04,   2.11415550e+04,   1.26369615e+04,\n",
       "         2.09163907e+04,   9.32194097e+03,   2.87903078e+04,\n",
       "         9.59974006e+03,   1.03776719e+04,   2.74870903e+03,\n",
       "         3.71844578e+03,   1.54149859e+04,   2.16674445e+04,\n",
       "         8.83185752e+03,   5.23840336e+03,   2.06261271e+04,\n",
       "         9.79910401e+05,   1.59600460e+03,   9.63184321e+03,\n",
       "         9.97219251e+03,   2.07021346e+04,   8.32697046e+03,\n",
       "         5.60650238e+03,   7.17791543e+03,   2.07003985e+04,\n",
       "         4.08608095e+03,   1.12911152e+04,   4.62961519e+03,\n",
       "         6.73184430e+03,   5.56894193e+03,   2.29051440e+04,\n",
       "         1.53318886e+04,   1.21129894e+04,   5.65096988e+03,\n",
       "         1.26827812e+04,   4.91373401e+03,   9.28923962e+03,\n",
       "         2.80801950e+04,   3.24182507e+04,   7.25194120e+03,\n",
       "         4.13506423e+04,   3.35115657e+03,   9.57076387e+03,\n",
       "         2.48563398e+04,   1.78204898e+04,   6.59128790e+03,\n",
       "         1.18778717e+04,   2.69906179e+04,   8.74791726e+03,\n",
       "         5.75113886e+03,   2.15892594e+04,   2.40443225e+04,\n",
       "         1.31161725e+04,   8.52530882e+03,   3.16628513e+03,\n",
       "         1.14214535e+04,   6.25548905e+03,   1.10666937e+04,\n",
       "         1.86227760e+04,   1.31879202e+04,   2.09491373e+03,\n",
       "         3.46444694e+03,   6.02979367e+03,   5.38772453e+03,\n",
       "         1.93120930e+03,   2.22521602e+03,   1.30754548e+03,\n",
       "         1.21419823e+04,   3.99387977e+04,   8.77028354e+03,\n",
       "         1.46915011e+04,   2.04081177e+04,   8.87057675e+03,\n",
       "         5.26545920e+03,   8.88605059e+03,   7.96962931e+03,\n",
       "         1.39225374e+04,   3.05611554e+04,   4.98246010e+04,\n",
       "         9.70520048e+03,   7.28464513e+04,   6.41138160e+03,\n",
       "         2.58532927e+04,   5.79173778e+03,   2.51026527e+04,\n",
       "         5.37446490e+03,   1.12057340e+04,   2.96925807e+04,\n",
       "         1.01397082e+04,   2.14140080e+04,   5.00375510e+04,\n",
       "         1.35177602e+04,   5.91832950e+03,   4.09874996e+04,\n",
       "         1.46749183e+04,   1.76035560e+04,   2.75414374e+04,\n",
       "         1.85324469e+04,   1.54860361e+04,   1.16870417e+04,\n",
       "         1.37188392e+03,   9.94037038e+03,   3.74222924e+03,\n",
       "         4.88035044e+03,   1.50138699e+04,   1.07114091e+04,\n",
       "         2.97070286e+04,   6.33007620e+03,   8.59549821e+03,\n",
       "         1.22443369e+04,   3.42371211e+04,   2.71932049e+04,\n",
       "         7.76787456e+03,   1.03869310e+04,   2.25602514e+04,\n",
       "         6.71557750e+03,   5.56005989e+04,   3.66292818e+03,\n",
       "         8.87655319e+03,   3.45980575e+04,   6.73693252e+03,\n",
       "         2.66659045e+04,   1.03475889e+04,   9.07896169e+03,\n",
       "         7.62394014e+03,   3.72032114e+04,   8.96469035e+03,\n",
       "         3.51711434e+03,   5.60680580e+03,   2.25654493e+04])"
      ]
     },
     "execution_count": 64,
     "metadata": {},
     "output_type": "execute_result"
    }
   ],
   "source": [
    "cvp_lr_preds"
   ]
  },
  {
   "cell_type": "code",
   "execution_count": 133,
   "metadata": {
    "collapsed": false
   },
   "outputs": [
    {
     "data": {
      "image/png": "[encoded data removed]",
      "text/plain": [
       "<matplotlib.figure.Figure at 0x12b9179d0>"
      ]
     },
     "metadata": {},
     "output_type": "display_data"
    }
   ],
   "source": [
    "plt.figure(figsize=(12,8))\n",
    "plt.scatter(my_y, cvp_lr_preds, c='red')\n",
    "plt.plot([my_y.min(), my_y.max()], [my_y.min(), my_y.max()], 'k--', lw=0.5, color = 'blue')\n",
    "plt.xlabel('Measured')\n",
    "plt.ylabel('Predicted')\n",
    "plt.xlim([-15000, 1350000])\n",
    "plt.ylim([-15000, 1350000])\n",
    "plt.title('Residuals of Standard Linear Model')\n",
    "plt.show()"
   ]
  },
  {
   "cell_type": "code",
   "execution_count": 99,
   "metadata": {
    "collapsed": false
   },
   "outputs": [
    {
     "name": "stdout",
     "output_type": "stream",
     "text": [
      "       X Shape  Y Shape\n",
      "Train: (618, 4) (618,)\n",
      "Test:  (207, 4) (207,)\n"
     ]
    }
   ],
   "source": [
    "#  now fit a model on training data and test it out on the rest of data\n",
    "\n",
    "X_train, X_test, y_train, y_test = train_test_split(my_X, my_y, test_size=0.25)\n",
    "\n",
    "print \"       X Shape  Y Shape\"\n",
    "print \"Train:\", X_train.shape, y_train.shape\n",
    "print \"Test: \", X_test.shape,  y_test.shape"
   ]
  },
  {
   "cell_type": "code",
   "execution_count": 134,
   "metadata": {
    "collapsed": false
   },
   "outputs": [
    {
     "name": "stdout",
     "output_type": "stream",
     "text": [
      "Score: 0.985604909081\n"
     ]
    },
    {
     "data": {
      "image/png": "[encoded data removed]",
      "text/plain": [
       "<matplotlib.figure.Figure at 0x12b9173d0>"
      ]
     },
     "metadata": {},
     "output_type": "display_data"
    }
   ],
   "source": [
    "model = lr.fit(X_train, y_train)\n",
    "predictions = lr.predict(X_test)\n",
    "\n",
    "plt.figure(figsize=(12,8))\n",
    "plt.style.use('fivethirtyeight')\n",
    "plt.scatter(y_test, predictions, s = 15)\n",
    "plt.xlabel(\"Measured\")\n",
    "plt.ylabel(\"Predictions\")\n",
    "plt.xlim([-15000, 1350000])\n",
    "plt.ylim([-15000, 1350000])\n",
    "plt.title('Residuals of Standard Linear Model, Train-Test Split (test_size = 0.25)')\n",
    "plt.plot([my_y.min(), my_y.max()], [my_y.min(), my_y.max()], 'k--', lw=0.5, color = 'red')\n",
    "print \"Score:\", model.score(X_test, y_test) \n",
    "plt.show()"
   ]
  },
  {
   "cell_type": "code",
   "execution_count": 104,
   "metadata": {
    "collapsed": false
   },
   "outputs": [],
   "source": [
    "predictions2016 = lr.predict(nicer_sales[['intercept', 'Q1_2016', 'volume_sold', 'number_sold']])"
   ]
  },
  {
   "cell_type": "code",
   "execution_count": 105,
   "metadata": {
    "collapsed": false
   },
   "outputs": [
    {
     "data": {
      "text/plain": [
       "array([  174970.48001109,    10393.27104692,   133116.86962073,\n",
       "           8559.50765651,    32791.42527143,   145524.28131928,\n",
       "         184257.74297651,    27279.15590776,    20010.66136749,\n",
       "          39661.53021031,    57230.56090732,    67985.42949859,\n",
       "          66925.98844065,    12109.91007718,    58439.18519346,\n",
       "         117464.83994869,     7924.17248818,    26113.14927475,\n",
       "           9100.12707723,    44684.66877999,    29232.10669754,\n",
       "          20339.80769559,    18733.90052606,   182200.15704149,\n",
       "         176656.56087604,   157125.74682848,    92322.74151345,\n",
       "         170601.50542639,    42666.07758382,   134412.86756484,\n",
       "          64183.02066031,   531789.41282164,    86242.84102906,\n",
       "          23039.75111439,   144329.08241191,    97715.51577869,\n",
       "          45487.13196615,   139681.14385787,   121668.70513981,\n",
       "          59487.04010235,   130448.30373609,    71991.15346054,\n",
       "         128090.20950027,    54954.70744302,    72108.22490102,\n",
       "          77209.95649781,    81134.70804887,    77038.1304395 ,\n",
       "          80399.96935025,    72566.24714809,   152808.92004284,\n",
       "          50651.14671299,   139915.16771218,    98728.28273822,\n",
       "          23055.66242075,    45927.45420841,   135175.60024422,\n",
       "          34800.55775525,    35600.62571997,   100662.81934734,\n",
       "          48244.70328268,   108220.32241638,    13076.48239837,\n",
       "         129312.13307956,   172210.85728698,    90669.35590532,\n",
       "          65137.96559163,    92081.09295746,    37812.44511224,\n",
       "          63964.90734512,    46012.66466827,    64260.08306948,\n",
       "         119074.21894586,   109653.96838781,   138360.30563405,\n",
       "          26978.37451942,    55587.4003373 ,    86361.98544298,\n",
       "          33277.68213152,    93731.05400877,    51611.02590585,\n",
       "          90524.49261251,    89610.12357301,    96569.59773003,\n",
       "         141937.06264276,    64159.73554684,    22353.24523791,\n",
       "         191126.48792923,    94586.66719986,   140999.86813901,\n",
       "          35089.54387616,    25138.95382641,    29298.993627  ,\n",
       "          67537.05060146,    60762.2259538 ,   145540.27757359,\n",
       "          73813.53405837,   135430.67140983,    50602.39206427,\n",
       "          61272.16885316,     7345.45445529,    51003.41366164,\n",
       "          27510.63258266,   125277.62614231,   191343.3805272 ,\n",
       "         197452.78158498,    35040.18906353,   152246.48352096,\n",
       "         105244.59191472,   110821.40272157,    80291.11266681,\n",
       "         112194.09952126,   120547.95882183,   218239.08042847,\n",
       "         112151.42066586,   116476.11879315,    20069.90484454,\n",
       "         202612.6439936 ,    32398.35075971,  1148195.26773397,\n",
       "         116024.28467974,    82959.87380713,   117808.3622367 ,\n",
       "          38411.39319646,    74558.81921598,    81061.61045518,\n",
       "         150422.54832257,   114863.28152394,   168655.46292799,\n",
       "          79062.86621703,    54914.32239834,   102102.73355711,\n",
       "          57500.66543675,    45541.83365424,    12808.2674598 ,\n",
       "          11940.7320079 ,     7462.60404598,     4711.37764982,\n",
       "          25281.87004834,    54327.0169389 ,    48895.1695905 ,\n",
       "         173682.24247005,   156179.08738777,   120685.73082891,\n",
       "          13743.78421506,     9501.41825453,   270366.02904155,\n",
       "          53027.51096396,    14588.52433595,     8020.18318041,\n",
       "           5047.48899645,     8503.70374581,    14627.91563343,\n",
       "          10161.06172792,    11031.96698215,     9486.399622  ,\n",
       "           3366.58620547,     6310.09056014,     3275.41937448,\n",
       "          12981.00911815,    11595.55986962,    11859.02842825,\n",
       "           9941.0147651 ,     7851.25902415,     8380.12145852,\n",
       "          33121.80065998,   301819.85652087,   476944.298121  ,\n",
       "         144503.35122414,    54465.04350005,    10262.37782463,\n",
       "          46285.22939624,   371178.01156392,    64056.49810752,\n",
       "         295805.1560948 ,    78789.75931806,    18834.016638  ,\n",
       "          12829.86703881,   201435.70793083,     3702.71899615,\n",
       "          22998.31713915,   203463.42744446,    46870.87917925,\n",
       "          38735.99054841,    26919.86571979,   176854.36331864,\n",
       "          61727.44722385,    14836.53376176,    18488.71229468,\n",
       "          17573.19297672,    31996.31272242,    82389.85730114,\n",
       "          53108.66432988,    20332.12542946,    82399.46332328,\n",
       "          12195.12591328,    50792.67419585,    67871.46824575,\n",
       "          10327.71181317,     8237.30992506,    78462.73549212,\n",
       "          79012.34848461,    40479.78334656,    49410.88443504,\n",
       "          18814.05989058,    65241.8771388 ,    41939.49845241,\n",
       "          49477.18515019,    59960.38141628,    54865.27257204,\n",
       "           6655.33628006,    70479.95558267,    37843.31677043,\n",
       "          53416.68831157,     4274.10882423,    28021.2112842 ,\n",
       "          20408.61879751,    12695.72757007,     6365.70629357,\n",
       "          19156.88885213,    13534.71492216,    48799.46489608,\n",
       "          15353.92898562,    34844.71289006,    63271.25307882,\n",
       "           3507.61498803,    18805.75076665,    13008.07675414,\n",
       "          26357.32954887,     5609.59237988,    14316.13553217,\n",
       "          22651.87026898,    12684.39018668,    13727.66675093,\n",
       "           9530.77667936,    33340.95651072,    33899.71047191,\n",
       "          36204.09329557,    25018.53863857,    12928.43489048,\n",
       "          57529.75970223,    21086.16454101,    11137.6161804 ,\n",
       "          29840.10663196,    62629.89280462,    46487.81938779,\n",
       "          36027.52302387,    31685.63383678,    43801.07868043,\n",
       "          59463.6084982 ,    35422.08532026,    33980.32365598,\n",
       "          20431.72248309,    27821.4875285 ,    19533.27583955,\n",
       "          29724.98521467,    13995.96756633,    25750.38837664,\n",
       "          10580.41434075,    73550.39345877,    34927.76818502,\n",
       "          16381.56684988,     7683.39731998,    71925.13438255,\n",
       "         271886.18057698,    25870.45137906,    58778.57806814,\n",
       "          12863.84384193,     7379.32487393,    12693.16877304,\n",
       "          30474.74539885,    27935.60646984,    17901.22196697,\n",
       "          25420.40752131,    30668.28214743,    45987.62120789,\n",
       "          26363.31971059,    15815.07425216,    23511.81005343,\n",
       "          10688.68820358,   258568.95078258,    17359.23120439,\n",
       "          24844.77995838,    37185.74809285,   194803.27490966,\n",
       "           4169.75594834,    26277.8483651 ,    20641.57951022,\n",
       "          36050.16559907,     9461.47979123,    22800.83806128,\n",
       "          53577.8505061 ,     8880.53664259,    38558.02912133,\n",
       "          12769.63248274,    19379.76501834,     7016.12049409,\n",
       "          37978.98593396,    28121.26059449,    29640.73675612,\n",
       "          11635.71430547,    75103.09786463,    38911.67016743,\n",
       "           9175.19746873,    13718.7248158 ,     7369.50346765,\n",
       "           9950.99550292,    52144.48739335,     6777.29010616,\n",
       "          38230.78652828,    20145.13368155,    31608.33325137,\n",
       "          22645.5120715 ,    21297.11490701,    25375.25316331,\n",
       "          60470.86147602,     9208.92331733,    19888.02861516,\n",
       "          15327.5207354 ,    12071.34722644,    19776.64912282,\n",
       "          10622.92851142,    26543.03980065,     9145.00299227,\n",
       "          20082.61329128,   108022.05890607,    19306.12909073,\n",
       "           8571.9534953 ,    31069.28636275,    27387.40098241,\n",
       "          55778.72778465,    22321.03846418,   100423.90967767,\n",
       "          11232.87309578,    17506.6869823 ,     4631.10886644,\n",
       "         324224.4413944 ,     5348.35995752,    12418.07141741,\n",
       "          32106.45708669,     8811.73075652,     4102.98839074,\n",
       "           4496.68406539,    71641.99069724,    40655.91708034,\n",
       "          43325.80404324,    27591.47728993,    21033.44574361,\n",
       "          44927.38466719,    33816.37448688,    56152.21257485,\n",
       "          14556.54020464,     7063.02002596,    28727.69021859,\n",
       "          52370.78610683,    10361.44994425,     8959.60589214,\n",
       "          11565.68476867,    16911.86162856,    25085.35532416,\n",
       "          34924.49060184,     3645.40525079,    34464.4787663 ,\n",
       "          24390.54500237,    27147.60166192,     9457.84410948,\n",
       "          11391.91575147,    20974.58118896,     7125.57650956,\n",
       "          27690.07243324,    54448.77437124,    36866.75283284,\n",
       "          11351.34004244,    28702.76252218,    12777.6119511 ,\n",
       "          25787.5998916 ,    68190.3892228 ,    19927.2466297 ,\n",
       "           9150.51498482,    31819.62570543,    21852.20628182,\n",
       "          26926.20764526,    56927.88702928,     8643.1842833 ,\n",
       "          17649.14055429,    19424.69882226,    24841.27086193,\n",
       "          46294.88110246,    17345.08690025,     8533.8049018 ,\n",
       "          32930.31000718,    15027.26300496,    16581.90637185,\n",
       "           4999.9940308 ,    15248.3182897 ,     6158.63403764,\n",
       "          22969.92979871,    73600.53078788,    22837.39724556,\n",
       "          16958.63948453,     6194.22686167,     8919.77565602,\n",
       "          19283.64733753,    18179.43022096,    17528.95935512,\n",
       "          18085.3635132 ,    29613.46685034,    11659.35046012,\n",
       "          11562.31268423,    44300.46968009,    29648.56034482,\n",
       "           8660.45239759,    20763.4127331 ,    24315.90993337,\n",
       "          11176.29870134,     9834.24023588,    15376.77598636,\n",
       "          42366.05522827,    26544.29003471,    29406.06680492,\n",
       "          32032.53471033,     8905.16160822,     9911.99605663,\n",
       "          30024.67573342,    19492.99219113,    24775.21182964,\n",
       "          10774.29217151,     9254.99609997,   214403.98386506,\n",
       "           9750.86813697,     4672.77299104,    20266.18642681,\n",
       "           9407.73241272,     5121.07971985,    16154.30055047,\n",
       "           7506.74117041,    26599.63696277,    24906.25729962,\n",
       "          30599.15329369,    12538.20051337,    24140.53007421,\n",
       "           9061.89743116,    14333.32050935,    10455.16102748,\n",
       "          30816.46015426,     7261.26443968,     7497.4295359 ,\n",
       "          19340.87693613,    10338.59357075,    26800.65444421,\n",
       "          18326.7308062 ,    13376.36296328,    12912.38435766,\n",
       "          16578.30089008,    26969.41633754,     8510.97692512,\n",
       "          13193.179062  ,    78870.6944505 ,    34025.43575054,\n",
       "          14102.6873765 ,    12399.98626711,    34606.01110162,\n",
       "          39238.57779135,     9425.66528278,    17508.96217991,\n",
       "           4131.65783279,    30512.41584815,    17079.59219329,\n",
       "          10387.04428824,    28785.38291599,    20256.51269848,\n",
       "           8584.92923798,    15830.0360124 ,     6283.89920122,\n",
       "          20207.66095823,    14909.01579963,    13705.87000528,\n",
       "          37583.2040489 ,    13906.77433482,    75012.05316399,\n",
       "          21264.44433751,    16575.69246917,    24770.2188696 ,\n",
       "          34562.05577231,     8730.59289476,     7233.95672041,\n",
       "          19531.4418053 ,    49467.02115846,     6560.89642635,\n",
       "          11786.38724234,    21510.60461148,     2733.8981292 ,\n",
       "          12551.61512775,    39497.6675877 ,     7028.20353395,\n",
       "          14429.77843969,    11219.41099079,    33767.93144963,\n",
       "          12487.99983276,    27383.8476418 ,     3916.92130333,\n",
       "          10885.47814295,    18792.24340247,    21625.47737958,\n",
       "          11166.15138263,     6798.04332509,    15301.42538745,\n",
       "          22125.72224309,    11830.85682774,    49103.87414908,\n",
       "         152104.27140098,    20020.26206461,    12936.68288019,\n",
       "          10617.56540564,     9674.8665038 ,    23518.94639573,\n",
       "          10629.00245907,     6524.79725738,     4594.39391963,\n",
       "          27573.07337532,     3885.15528957,     5316.09301086,\n",
       "          21369.89179796,    17996.87287613,    11423.48797312,\n",
       "           2796.67997406,     4020.1842968 ,     1970.92036354,\n",
       "           6496.02016236,     5433.82747882,     8937.9031002 ,\n",
       "           7008.48643465,     3615.10984062,     3235.37841451,\n",
       "           7233.44302265,     5198.04536488,     5431.88790457,\n",
       "           8477.19287129,     3996.9709376 ,     5493.15670838,\n",
       "          11879.53898423,     6613.57117375,     6630.5507723 ,\n",
       "           9191.83303752,     7974.84932791,     3139.78531902,\n",
       "           6925.521416  ,     4191.63163697,     9033.55809483,\n",
       "          15329.86401391,     6575.54426346,     5637.92933493,\n",
       "           6680.91733934,     6591.43797145,     3307.23245076,\n",
       "           2685.36019592,    37765.35947916,     4279.26712438,\n",
       "           9418.31361337,     4270.01005961,     8044.57435351,\n",
       "          11014.98503129,     6479.21213278,     5248.48961851,\n",
       "          10236.50389868,     9615.04684021,    12106.13479407,\n",
       "           7708.48324125,     3849.69941215,     7489.9861546 ,\n",
       "          15092.31828827,    13131.278006  ,     5466.52703493,\n",
       "           7771.28773819,     8464.07324123,    10320.65101453,\n",
       "           6093.52989401,    24375.60525641,     9978.63642157,\n",
       "          11976.68648356,     3791.39379995,    10114.68440833,\n",
       "           9617.49065713,     5752.30369917,     4861.14539507,\n",
       "           7111.83101962,    32300.55692404,    34672.79482022,\n",
       "          20387.24132017,     7981.16438472,     9312.50910666,\n",
       "           9838.5318288 ,     9430.01067898,    18719.36826871,\n",
       "          12336.16407617,    75087.01753215,     6499.34778224,\n",
       "           1747.14296441,     4813.07142829,     3413.2408097 ,\n",
       "           9004.72061914,     7499.22079248,     9888.23447457,\n",
       "          15134.44283518,    19396.22858431,     3952.77767651,\n",
       "           1356.3494895 ,     6131.1720541 ,    13775.26643781,\n",
       "           4906.39682807,    13062.18626931,     6928.61970523,\n",
       "           3949.51653007,     4075.07150429,    36085.29825125,\n",
       "           4614.22373838,     5658.62119685,     6179.93697872,\n",
       "           5068.08566739,     7788.77430898,    13195.1027225 ,\n",
       "           5221.24731751,    11540.11000587,     7345.65507457,\n",
       "           4609.39167892,    13606.38902625,    34433.68396842,\n",
       "           5627.49008815,     4404.20043823,    19050.96180158,\n",
       "           7829.30890091,    47089.53222774,    38138.84763266,\n",
       "          21474.80326168,     8275.04139439,     8952.43710725,\n",
       "           5823.81101393,     7103.72588651,    10201.90920458,\n",
       "           9579.08102869,    21156.85259735,     4547.81212429,\n",
       "          10793.70458306,     3453.22277029,     2437.9997528 ,\n",
       "           9247.45328036,    34429.87202558,    16703.98645132,\n",
       "          10300.03823562,    16028.82322979,    26901.30334162,\n",
       "           3018.13236359,    10565.83534453,    42949.40361489,\n",
       "           5212.11185404,    26616.75669173,     7833.86683308,\n",
       "           9169.57216994,     9546.2360505 ,     8477.45831182,\n",
       "           4539.92480641,    17310.53323578,     5181.12061382,\n",
       "          22361.64361551,    24082.907951  ,     7770.57229835,\n",
       "           5685.26236959,    82785.46917655,    38483.8598283 ,\n",
       "          10108.46621727,     6964.70223109,     4653.82518298,\n",
       "          12042.59247169,    33729.63769878,     4432.29485097,\n",
       "           3338.68025638,    10470.89060126,    18391.98668546,\n",
       "           3319.82652694,     3861.92718216,    10686.44155711,\n",
       "           6116.51960299,     8029.57735285,    10182.97385671,\n",
       "          31515.94826372,     4288.88270127,    23538.78703332,\n",
       "          10668.20040244,    12810.9306622 ,    25300.18789633,\n",
       "           3305.57645278,     2673.05347446,     5516.66763954,\n",
       "           7653.06422383,     5347.27724461,    40790.89016764,\n",
       "          12592.25384877,    22423.22425697,    11967.01217152,\n",
       "          19445.24066574,    10661.98170397,    27269.42085407,\n",
       "          10658.0592753 ,     9540.66887426,     4609.82412033,\n",
       "           2762.82596552,    13734.20447276,    22146.45311077,\n",
       "           9366.69176757,     3961.53298502,    18046.69314882,\n",
       "         997990.25134634,     1993.9972814 ,     8464.92865887,\n",
       "          11233.7425639 ,    28002.88844948,     6632.03195598,\n",
       "           8219.05936176,     9185.55043363,    17787.99300636,\n",
       "           3290.46902172,    12220.46510649,     3713.61546163,\n",
       "           7269.75125388,     5756.63609068,    20678.02532361,\n",
       "          15193.74266594,    11963.11110031,     4929.26495364,\n",
       "          10170.95759208,     4531.08431289,     9791.8653542 ,\n",
       "          23056.81432847,    28373.4652379 ,     7729.12310144,\n",
       "          45712.37478576,     3732.75420149,     7928.70317077,\n",
       "          24708.59405259,    15889.26896237,     5859.93515234,\n",
       "          13872.85429323,    28268.20370378,     9055.55901056,\n",
       "           6084.43652372,    23726.31838787,    20155.09866855,\n",
       "          13278.11199496,     7859.73122038,     3646.44538309,\n",
       "          10213.10693509,     5262.88857517,    11624.48190545,\n",
       "          15452.20418572,    14331.26351224,     2178.21582929,\n",
       "           4061.0679526 ,     5665.64888615,     5746.15850947,\n",
       "           2601.2766415 ,     1987.66483231,     1708.30641286,\n",
       "          11948.2345276 ,    34628.98413575,     9640.5633335 ,\n",
       "          14340.99742922,    21333.05710892,     9414.41477589,\n",
       "           6401.37989783,     8593.27160489,     7182.91724166,\n",
       "          13658.1330453 ,    30070.81592507,    48148.13203875,\n",
       "          10478.86353117,    89728.83587947,     7237.12400774,\n",
       "          30059.72183169,     6540.70089133,    29812.70156482,\n",
       "           6325.90753292,     8515.26890577,    20989.26980746,\n",
       "           9651.51150827,    21719.23416839,    54785.63046129,\n",
       "          13324.91077376,     5529.95604042,    40250.09554307,\n",
       "          17348.29424713,    17497.66008516,    28469.8384155 ,\n",
       "          17263.49032679,    14938.0744613 ,    10780.98208378,\n",
       "           1394.26358338,    10108.05992966,     3576.7554484 ,\n",
       "           4386.75644902,    14998.8419741 ,    12263.60482147,\n",
       "          29506.92289812,     6708.19960839,    12051.08174746,\n",
       "          11943.74242346,    33766.67316026,    27368.25144916,\n",
       "           7347.95098522,    11766.55723847,    21223.384177  ,\n",
       "           6092.53526381,    56509.05295149,     4402.05803436,\n",
       "           9206.21434586,    31023.00161268,     8036.58751539,\n",
       "          25150.8392879 ,    10136.56705746,     9337.83133928,\n",
       "           8219.70671281,    37092.03281942,     9920.21295852,\n",
       "           3425.24847142,     4557.02978072,    17522.12089622])"
      ]
     },
     "execution_count": 105,
     "metadata": {},
     "output_type": "execute_result"
    }
   ],
   "source": [
    "# here are the predicted 2016 annual totals, by store, according to our model\n",
    "\n",
    "predictions2016"
   ]
  },
  {
   "cell_type": "code",
   "execution_count": 137,
   "metadata": {
    "collapsed": false
   },
   "outputs": [
    {
     "name": "stdout",
     "output_type": "stream",
     "text": [
      "Score: 0.985604909081\n"
     ]
    },
    {
     "data": {
      "image/png": "[encoded data removed]",
      "text/plain": [
       "<matplotlib.figure.Figure at 0x12ba6f310>"
      ]
     },
     "metadata": {},
     "output_type": "display_data"
    }
   ],
   "source": [
    "plt.figure(figsize=(12,8))\n",
    "plt.style.use('fivethirtyeight')\n",
    "plt.scatter(nicer_sales['total_2015'], predictions2016, color = 'purple', s = 10)\n",
    "plt.xlabel(\"2015 Sales by Store\")\n",
    "plt.ylabel(\"Predicted 2016 Sales by Store\")\n",
    "plt.xlim([-15000, 1350000])\n",
    "plt.ylim([-15000, 1350000])\n",
    "plt.title('2015 Sales vs. Predicted 2016 Sales')\n",
    "plt.plot([my_y.min(), my_y.max()], [my_y.min(), my_y.max()], 'k--', lw=0.5, color = 'green')\n",
    "print \"Score:\", model.score(X_test, y_test) \n",
    "plt.show()"
   ]
  },
  {
   "cell_type": "markdown",
   "metadata": {
    "collapsed": false
   },
   "source": [
    "As we can see from the scatterplot, 2016 total sales by store are not expected to differ dramatically from 2015 total sales by store when taking into account first quarter sales, total sales through first quarter 2016, and volume of alcohol sold through first quarter 2016.  Any taxation adjustments should be made while keeping this in mind."
   ]
  },
  {
   "cell_type": "code",
   "execution_count": null,
   "metadata": {
    "collapsed": false
   },
   "outputs": [],
   "source": []
  },
  {
   "cell_type": "code",
   "execution_count": null,
   "metadata": {
    "collapsed": false
   },
   "outputs": [],
   "source": []
  },
  {
   "cell_type": "code",
   "execution_count": null,
   "metadata": {
    "collapsed": false
   },
   "outputs": [],
   "source": []
  },
  {
   "cell_type": "markdown",
   "metadata": {},
   "source": [
    "# Explore the data\n",
    "\n",
    "Perform some exploratory statistical analysis and make some plots, such as histograms of transaction totals, bottles sold, etc."
   ]
  },
  {
   "cell_type": "code",
   "execution_count": null,
   "metadata": {
    "collapsed": false
   },
   "outputs": [],
   "source": []
  },
  {
   "cell_type": "markdown",
   "metadata": {},
   "source": [
    "## Record your findings\n",
    "\n",
    "Be sure to write out anything observations from your exploratory analysis."
   ]
  },
  {
   "cell_type": "markdown",
   "metadata": {},
   "source": []
  },
  {
   "cell_type": "markdown",
   "metadata": {},
   "source": [
    "# Refine the data\n",
    "Look for any statistical relationships, correlations, or other relevant properties of the dataset."
   ]
  },
  {
   "cell_type": "code",
   "execution_count": null,
   "metadata": {
    "collapsed": true
   },
   "outputs": [],
   "source": []
  },
  {
   "cell_type": "markdown",
   "metadata": {},
   "source": [
    "# Build your models\n",
    "\n",
    "Using scikit-learn or statsmodels, build the necessary models for your scenario. Evaluate model fit."
   ]
  },
  {
   "cell_type": "code",
   "execution_count": 6,
   "metadata": {
    "collapsed": true
   },
   "outputs": [],
   "source": [
    "from sklearn import linear_model\n"
   ]
  },
  {
   "cell_type": "markdown",
   "metadata": {},
   "source": [
    "## Plot your results\n",
    "\n",
    "Again make sure that you record any valuable information. For example, in the tax scenario, did you find the sales from the first three months of the year to be a good predictor of the total sales for the year? Plot the predictions versus the true values and discuss the successes and limitations of your models"
   ]
  },
  {
   "cell_type": "code",
   "execution_count": null,
   "metadata": {
    "collapsed": true
   },
   "outputs": [],
   "source": []
  },
  {
   "cell_type": "markdown",
   "metadata": {},
   "source": [
    "# Present the Results\n",
    "\n",
    "Present your conclusions and results. If you have more than one interesting model feel free to include more than one along with a discussion. Use your work in this notebook to prepare your write-up."
   ]
  },
  {
   "cell_type": "code",
   "execution_count": null,
   "metadata": {
    "collapsed": true
   },
   "outputs": [],
   "source": [
    "# do regularized (lasso - L1) regression\n",
    "\n",
    "lasso = linear_model.Lasso(alpha=1)\n",
    "lasso_model = lasso.fit(my_X, my_y)\n",
    "\n",
    "print 'REGULARIZED (LASSO - L1) REGRESSION'\n",
    "lasso_r2 =  r2_score(y_true=my_y, y_pred=lasso_model.predict(my_X))\n",
    "print 'Lasso r^2: %s' %lasso_r2\n",
    "print 'Lassoed betas: %s' %lasso_model.coef_\n",
    "mab_lasso = abs(lasso_model.coef_).mean()\n",
    "print 'Lassoed mean abs. val. of coeffs: %s' %mab_lasso"
   ]
  }
 ],
 "metadata": {
  "kernelspec": {
   "display_name": "Python 2",
   "language": "python",
   "name": "python2"
  },
  "language_info": {
   "codemirror_mode": {
    "name": "ipython",
    "version": 2
   },
   "file_extension": ".py",
   "mimetype": "text/x-python",
   "name": "python",
   "nbconvert_exporter": "python",
   "pygments_lexer": "ipython2",
   "version": "2.7.11"
  }
 },
 "nbformat": 4,
 "nbformat_minor": 0
}
