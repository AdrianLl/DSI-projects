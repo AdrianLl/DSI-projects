{
 "cells": [
  {
   "cell_type": "markdown",
   "metadata": {},
   "source": [
    "Name:\n",
    "People you worked with (if any):"
   ]
  },
  {
   "cell_type": "markdown",
   "metadata": {},
   "source": [
    "### Review Problem 2\n",
    "\n",
    "For this problem, you will be writing a function that operates on a dictionary and **optionally** a list of numbers.\n",
    "\n",
    "Write a function that:\n",
    "\n",
    "- Accepts a dictionary as its first argument. The values of the dictionary should be a list of numbers.\n",
    "- Accepts an optional **keyword argument** that is a list. The default should be an empty list. **The optional keyword list should be called remainder**\n",
    "- **If the list is empty:** append a 2 to the list.\n",
    "- Print the dictionary as well as the optional list.\n",
    "- Iterate though they key:value pairs in the dictionary:\n",
    "    - For each value list of numbers, calculate the **remainder of each number** for **each number in the remainder list**\n",
    "    - Create a dictionary where they keys are the numbers in the value list, and the values are the remainders of that number from the remainder list.\n",
    "    - ex: if value ```list == [10,9]``` and ```remainder == [2,3]```, the new dictionary would be: ```{10:[0, 1], 9:[1, 0]}```\n",
    "    - For the current key in the dictionary entered into the function, change the value to the new remainder dictionary.\n",
    "- Print out the new dictionary.\n",
    "- Return the dictionary.\n",
    "\n",
    "Notes/Hints:\n",
    "\n",
    "- keyword arguments are specified in functions like so: \n",
    "    ```python\n",
    "    def example_function(arg1, kwarg1=default_value):\n",
    "    ```\n",
    "- The operator for finding the remainder of two values is: ```%```\n",
    "    ```python\n",
    "    14 % 5 == 4\n",
    "    ```"
   ]
  },
  {
   "cell_type": "code",
   "execution_count": 61,
   "metadata": {
    "collapsed": false
   },
   "outputs": [],
   "source": [
    "test_dict = {'A':[1,2,3,4,5], 'B':[12.1, 14.2, 20.3, 25.4], 'C':[10, 25.5, 50.9, 101]}\n",
    "optional_remainder = [2,3,4,5]\n",
    "\n",
    "# 1. Run the function with the default keyword argument\n",
    "# 2. Run the function assigning the default keyword argument to the optional list"
   ]
  },
  {
   "cell_type": "code",
   "execution_count": 63,
   "metadata": {
    "collapsed": false
   },
   "outputs": [],
   "source": [
    "def remainder_dict(dict, remainder = []):\n",
    "    \n",
    "    if remainder == []:\n",
    "        remainder.append(2)\n",
    "    print dict\n",
    "    print remainder\n",
    "    \n",
    "    new_dict = dict\n",
    "    ## Consider each key in input dictionary\n",
    "    for key in dict: \n",
    "    ## The value associated with each key is its list of dividends\n",
    "        dividends = dict[key]\n",
    "    ## Go through each dividend one by one with remainder list, constructing a (mini-)dictionary entry with dividend as key and remainders in a list as value\n",
    "        mini_dict = {}\n",
    "        remainder_list = []\n",
    "        for dividend in dividends:\n",
    "            for i in remainder:\n",
    "                remainder_list.append(dividend % i)\n",
    "                mini_dict[dividend] = remainder_list\n",
    "                new_dict[key] = mini_dict\n",
    "    print new_dict\n",
    "    return new_dict\n",
    "        \n"
   ]
  },
  {
   "cell_type": "code",
   "execution_count": 65,
   "metadata": {
    "collapsed": false
   },
   "outputs": [
    {
     "name": "stdout",
     "output_type": "stream",
     "text": [
      "{'A': [1, 3, 5], 'C': [0, 0, 0], 'B': [2, 4, 6]}\n",
      "[2]\n",
      "{'A': {1: [1, 1, 1], 3: [1, 1, 1], 5: [1, 1, 1]}, 'C': {0: [0, 0, 0]}, 'B': {2: [0, 0, 0], 4: [0, 0, 0], 6: [0, 0, 0]}}\n"
     ]
    },
    {
     "data": {
      "text/plain": [
       "{'A': {1: [1, 1, 1], 3: [1, 1, 1], 5: [1, 1, 1]},\n",
       " 'B': {2: [0, 0, 0], 4: [0, 0, 0], 6: [0, 0, 0]},\n",
       " 'C': {0: [0, 0, 0]}}"
      ]
     },
     "execution_count": 65,
     "metadata": {},
     "output_type": "execute_result"
    }
   ],
   "source": [
    "dict = {'A':[1,3,5], 'B':[2,4,6], 'C':[0,0,0]}\n",
    "remainder_dict(dict)"
   ]
  },
  {
   "cell_type": "code",
   "execution_count": null,
   "metadata": {
    "collapsed": false
   },
   "outputs": [],
   "source": []
  },
  {
   "cell_type": "code",
   "execution_count": null,
   "metadata": {
    "collapsed": false
   },
   "outputs": [],
   "source": []
  },
  {
   "cell_type": "code",
   "execution_count": null,
   "metadata": {
    "collapsed": false
   },
   "outputs": [],
   "source": []
  },
  {
   "cell_type": "code",
   "execution_count": null,
   "metadata": {
    "collapsed": true
   },
   "outputs": [],
   "source": []
  }
 ],
 "metadata": {
  "kernelspec": {
   "display_name": "Python 2",
   "language": "python",
   "name": "python2"
  },
  "language_info": {
   "codemirror_mode": {
    "name": "ipython",
    "version": 2
   },
   "file_extension": ".py",
   "mimetype": "text/x-python",
   "name": "python",
   "nbconvert_exporter": "python",
   "pygments_lexer": "ipython2",
   "version": "2.7.11"
  }
 },
 "nbformat": 4,
 "nbformat_minor": 0
}
