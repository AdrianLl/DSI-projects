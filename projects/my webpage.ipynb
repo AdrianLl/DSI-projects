{
 "cells": [
  {
   "cell_type": "code",
   "execution_count": null,
   "metadata": {
    "collapsed": true
   },
   "outputs": [],
   "source": [
    " <!DOCTYPE html>\n",
    "<html>\n",
    "  <head>\n",
    "    <title>Rebecca Vitale – oh, hello!  welcome to my projects</title>\n",
    "\n",
    "        <meta charset=\"utf-8\" />\n",
    "    <meta content='text/html; charset=utf-8' http-equiv='Content-Type'>\n",
    "    <meta http-equiv='X-UA-Compatible' content='IE=edge'>\n",
    "    <meta name='viewport' content='width=device-width, initial-scale=1.0, maximum-scale=1.0'>\n",
    "\n",
    "    \n",
    "    <meta name=\"description\" content=\"oh, hello!  welcome to my projects\">\n",
    "    <meta property=\"og:description\" content=\"oh, hello!  welcome to my projects\" />\n",
    "    \n",
    "    <meta name=\"author\" content=\"Rebecca Vitale\" />\n",
    "\n",
    "    \n",
    "\n",
    "    <!--[if lt IE 9]>\n",
    "      <script src=\"http://html5shiv.googlecode.com/svn/trunk/html5.js\"></script>\n",
    "    <![endif]-->\n",
    "\n",
    "    <link rel=\"stylesheet\" type=\"text/css\" href=\"/style.css\" />\n",
    "    <link rel=\"alternate\" type=\"application/rss+xml\" title=\"Rebecca Vitale - oh, hello!  welcome to my projects\" href=\"/feed.xml\" />\n",
    "\n",
    "    <!-- Created with Jekyll Now - http://github.com/barryclark/jekyll-now -->\n",
    "  </head>\n",
    "\n",
    "  <body>\n",
    "    <div class=\"wrapper-masthead\">\n",
    "      <div class=\"container\">\n",
    "        <header class=\"masthead clearfix\">\n",
    "          <a href=\"/\" class=\"site-avatar\"><img src=\"https://github.com/forzavitale/forzavitale.github.io/blob/master/images/pierrethellama.jpg?raw=true\" /></a>\n",
    "\n",
    "          <div class=\"site-info\">\n",
    "            <h1 class=\"site-name\"><a href=\"/\">Rebecca Vitale</a></h1>\n",
    "            <p class=\"site-description\">oh, hello!  welcome to my projects</p>\n",
    "          </div>\n",
    "\n",
    "          <nav>\n",
    "            <a href=\"/\">Blog</a>\n",
    "            <a href=\"/about\">About</a>\n",
    "          </nav>\n",
    "        </header>\n",
    "      </div>\n",
    "    </div>\n",
    "\n",
    "    <div id=\"main\" role=\"main\" class=\"container\">\n",
    "      <div class=\"posts\">\n",
    "  \n",
    "    <article class=\"post\">\n",
    "\n",
    "      <h1><a href=\"/IMDbTop250/\">IMDb Top 250 Movies -- Data Analysis</a></h1>\n",
    "\n",
    "      <div class=\"entry\">\n",
    "        <p>In this project, we examine data on the top 250-rated movies on IMDb.com.  Data is obtained via both the IMDBpie API (https://github.com/richardasaurus/imdb-pie) and scraping with BeautifulSoup.</p>\n",
    "\n",
    "\n",
    "      </div>\n",
    "\n",
    "      <a href=\"/IMDbTop250/\" class=\"read-more\">Read More</a>\n",
    "    </article>\n",
    "  \n",
    "    <article class=\"post\">\n",
    "\n",
    "      <h1><a href=\"/Titanic/\">Titanic Passenger Data Analysis</a></h1>\n",
    "\n",
    "      <div class=\"entry\">\n",
    "        <p>In this project, we were tasked with using the Titanic passenger data set to build a model predicting disaster survival.  For 891 observations, variables included in the original set were: survival status, passenger class, full name, sex, age, number of siblings on board, number of parents/children on board, ticket information, fare paid, cabin information, and location of embarcation.</p>\n",
    "\n",
    "\n",
    "      </div>\n",
    "\n",
    "      <a href=\"/Titanic/\" class=\"read-more\">Read More</a>\n",
    "    </article>\n",
    "  \n",
    "    <article class=\"post\">\n",
    "\n",
    "      <h1><a href=\"/IndeedSalary/\">Indeed.com Salary Analysis</a></h1>\n",
    "\n",
    "      <div class=\"entry\">\n",
    "        <p>In order to make predictions about relative salary information for job listings found on Indeed.com, we have scraped that website and put together a data set to analyze and use for model-building.  We chose to request a maximum of 1,000 listings from each of the 25 most populous cities in the United States.  These cities are, by state (along with Washington, D.C.):</p>\n",
    "\n",
    "\n",
    "      </div>\n",
    "\n",
    "      <a href=\"/IndeedSalary/\" class=\"read-more\">Read More</a>\n",
    "    </article>\n",
    "  \n",
    "    <article class=\"post\">\n",
    "\n",
    "      <h1><a href=\"/iowaliquorreport/\">Illinois Liquor Sales Report</a></h1>\n",
    "\n",
    "      <div class=\"entry\">\n",
    "        <p>We have analyzed the liquor sales for each store using the data provided. Quarterly histograms (2015 Q1-Q4, 2016 Q1) and 2016 total sales histogram are shown here (note scale is different for the 2015 Total Sales histogram):</p>\n",
    "\n",
    "\n",
    "      </div>\n",
    "\n",
    "      <a href=\"/iowaliquorreport/\" class=\"read-more\">Read More</a>\n",
    "    </article>\n",
    "  \n",
    "    <article class=\"post\">\n",
    "\n",
    "      <h1><a href=\"/billboardproject/\">Making the Chart -- Neeeed a Liiiittle Patience?</a></h1>\n",
    "\n",
    "      <div class=\"entry\">\n",
    "        <p>Wouldn’t it be great if we could predict Billboard song behavior??</p>\n",
    "\n",
    "\n",
    "      </div>\n",
    "\n",
    "      <a href=\"/billboardproject/\" class=\"read-more\">Read More</a>\n",
    "    </article>\n",
    "  \n",
    "</div>\n",
    "    </div>\n",
    "\n",
    "    <div class=\"wrapper-footer\">\n",
    "      <div class=\"container\">\n",
    "        <footer class=\"footer\">\n",
    "          \n",
    "<a href=\"mailto:rebecca.e.vitale@gmail.com\"><i class=\"svg-icon email\"></i></a>\n",
    "\n",
    "\n",
    "<a href=\"https://github.com/forzavitale\"><i class=\"svg-icon github\"></i></a>\n",
    "<a href=\"https://instagram.com/forza_vitale\"><i class=\"svg-icon instagram\"></i></a>\n",
    "<a href=\"https://www.linkedin.com/in/rebecca-vitale\"><i class=\"svg-icon linkedin\"></i></a>\n",
    "\n",
    "\n",
    "\n",
    "\n",
    "\n",
    "\n",
    "        </footer>\n",
    "      </div>\n",
    "    </div>\n",
    "\n",
    "    \n",
    "\n",
    "  </body>\n",
    "</html>"
   ]
  },
  {
   "cell_type": "code",
   "execution_count": null,
   "metadata": {
    "collapsed": true
   },
   "outputs": [],
   "source": []
  },
  {
   "cell_type": "code",
   "execution_count": null,
   "metadata": {
    "collapsed": true
   },
   "outputs": [],
   "source": []
  },
  {
   "cell_type": "code",
   "execution_count": null,
   "metadata": {
    "collapsed": true
   },
   "outputs": [],
   "source": []
  },
  {
   "cell_type": "code",
   "execution_count": null,
   "metadata": {
    "collapsed": true
   },
   "outputs": [],
   "source": []
  },
  {
   "cell_type": "code",
   "execution_count": null,
   "metadata": {
    "collapsed": true
   },
   "outputs": [],
   "source": []
  },
  {
   "cell_type": "code",
   "execution_count": null,
   "metadata": {
    "collapsed": true
   },
   "outputs": [],
   "source": []
  },
  {
   "cell_type": "code",
   "execution_count": null,
   "metadata": {
    "collapsed": true
   },
   "outputs": [],
   "source": []
  },
  {
   "cell_type": "code",
   "execution_count": null,
   "metadata": {
    "collapsed": true
   },
   "outputs": [],
   "source": []
  },
  {
   "cell_type": "code",
   "execution_count": null,
   "metadata": {
    "collapsed": true
   },
   "outputs": [],
   "source": []
  }
 ],
 "metadata": {
  "kernelspec": {
   "display_name": "Python 2",
   "language": "python",
   "name": "python2"
  },
  "language_info": {
   "codemirror_mode": {
    "name": "ipython",
    "version": 2
   },
   "file_extension": ".py",
   "mimetype": "text/x-python",
   "name": "python",
   "nbconvert_exporter": "python",
   "pygments_lexer": "ipython2",
   "version": "2.7.12"
  }
 },
 "nbformat": 4,
 "nbformat_minor": 0
}
