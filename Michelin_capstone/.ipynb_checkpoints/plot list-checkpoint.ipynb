{
 "cells": [
  {
   "cell_type": "markdown",
   "metadata": {},
   "source": [
    "# PLOT LIST"
   ]
  },
  {
   "cell_type": "markdown",
   "metadata": {},
   "source": [
    "MICHELIN Clean Data\n",
    "\n",
    "scatter:  standing vs word count\n",
    "scatter:  avg price vs word count\n",
    "scatter:  number of photos vs avg price\n",
    "\n",
    "histo:  word count\n",
    "\n",
    "heatmap:  correlation\n",
    "\n",
    "box:  number of photos v distinction\n",
    "box:  avg price per distinction\n",
    "box:  word count vs distinction\n",
    "box:  standing per distinction\n",
    "\n",
    "sns.pairplot:\n",
    "\n",
    "bar:  standing by distinction\n",
    "bar:  standing by star-only distinction\n",
    "        "
   ]
  }
 ],
 "metadata": {
  "kernelspec": {
   "display_name": "Python 2",
   "language": "python",
   "name": "python2"
  },
  "language_info": {
   "codemirror_mode": {
    "name": "ipython",
    "version": 2
   },
   "file_extension": ".py",
   "mimetype": "text/x-python",
   "name": "python",
   "nbconvert_exporter": "python",
   "pygments_lexer": "ipython2",
   "version": "2.7.12"
  }
 },
 "nbformat": 4,
 "nbformat_minor": 0
}
