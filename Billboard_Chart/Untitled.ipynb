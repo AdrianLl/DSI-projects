{
 "cells": [
  {
   "cell_type": "code",
   "execution_count": 9,
   "metadata": {
    "collapsed": false
   },
   "outputs": [],
   "source": [
    "import pandas as pd\n",
    "import numpy as np\n",
    "from bs4 import BeautifulSoup\n",
    "import requests"
   ]
  },
  {
   "cell_type": "code",
   "execution_count": 59,
   "metadata": {
    "collapsed": false
   },
   "outputs": [
    {
     "name": "stdout",
     "output_type": "stream",
     "text": [
      ". . . . . . . . . . . . . . . . . . . . New+York . . . . . . . . . . . . . . . . . . . . Chicago . . . . . . . . . . . . . . . . . . . . San+Francisco . . . . . . . . . . . . . . . . . . . . Austin . . . . . . . . . . . . . . . . . . . . Atlanta . . . . . . . . . . . . . . . . . . . . Seattle . . . . . . . . . . . . . . . . . . . . San+Diego . . . . . . . . . . . . . . . . . . . . Los+Angeles . . . . . . . . . . . . . . . . . . . . Washington . . . . . . . . . . . . . . . . . . . . Philadelphia\n"
     ]
    }
   ],
   "source": [
    "url_template = ['http://www.indeed.com/jobs?q=data+scientist+%2420%2C000&l=', '&start=']\n",
    "max_results_per_city = 200\n",
    "list_of_cities=['New+York', 'Chicago', 'San+Francisco', 'Austin', 'Atlanta', 'Seattle', \\\n",
    "                'San+Diego', 'Los+Angeles','Washington','Philadelphia']\n",
    "results = []\n",
    "for city in list_of_cities:\n",
    "    for start in range(0, max_results_per_city, 10):\n",
    "        URL=url_template[0]+city+url_template[1]+str(start)\n",
    "        my_req=requests.get(URL)\n",
    "        soup=BeautifulSoup(my_req.content,'lxml')\n",
    "        results.append(soup)\n",
    "        print '.',\n",
    "    print city,"
   ]
  },
  {
   "cell_type": "code",
   "execution_count": 61,
   "metadata": {
    "collapsed": false
   },
   "outputs": [
    {
     "name": "stdout",
     "output_type": "stream",
     "text": [
      "3000\n",
      "3000\n",
      "3000\n",
      "3000\n",
      "3000\n"
     ]
    }
   ],
   "source": [
    "titles = []\n",
    "companies = []\n",
    "salaries = []\n",
    "locations = []\n",
    "texts = []\n",
    "\n",
    "for souplet in results:\n",
    "    heb = souplet.findAll(\"div\", class_=[\"row\", \"results\"])\n",
    "    for a in heb:\n",
    "        \n",
    "        try:\n",
    "            title = a.find(class_=\"jobtitle\").text.replace('\\n','')\n",
    "            titles.append(title)\n",
    "        except: \n",
    "            titles.append(None)\n",
    "            \n",
    "        try:\n",
    "            company = a.find(class_=\"company\").text.strip()\n",
    "            companies.append(company)\n",
    "        except:\n",
    "            companies.append(None)\n",
    "        \n",
    "        try: \n",
    "            salary = a.find('nobr').text\n",
    "            salaries.append(salary)\n",
    "        except:\n",
    "            salaries.append(None)\n",
    "            \n",
    "        try:\n",
    "            location = a.find('span', class_ = 'location').text\n",
    "            locations.append(location)\n",
    "        except:\n",
    "            locations.append(None)\n",
    "            \n",
    "        try:\n",
    "            text_body = a.find('span', class_='summary').text.replace('\\n','')\n",
    "            texts.append(text_body)\n",
    "        except:\n",
    "            texts.append(None)"
   ]
  },
  {
   "cell_type": "code",
   "execution_count": 64,
   "metadata": {
    "collapsed": false
   },
   "outputs": [],
   "source": [
    "df = pd.DataFrame()\n",
    "df['title'] = titles\n",
    "df['company'] = companies\n",
    "df['salary'] = salaries\n",
    "df['location'] = locations\n",
    "df['text'] = texts"
   ]
  },
  {
   "cell_type": "code",
   "execution_count": 66,
   "metadata": {
    "collapsed": false
   },
   "outputs": [
    {
     "data": {
      "text/plain": [
       "3000"
      ]
     },
     "execution_count": 66,
     "metadata": {},
     "output_type": "execute_result"
    }
   ],
   "source": [
    "for a in blah.find('a', class_'jobLink'):\n",
    "    href = a['href']"
   ]
  },
  {
   "cell_type": "code",
   "execution_count": 67,
   "metadata": {
    "collapsed": false
   },
   "outputs": [
    {
     "data": {
      "text/plain": [
       "$40.39 - $60.60 an hour       17\n",
       "$75,000 - $120,000 a year     14\n",
       "$95 an hour                   13\n",
       "$220,000 a year                2\n",
       "$6,250 - $10,833 a month       2\n",
       "$5,400 - $6,500 a month        2\n",
       "$20 an hour                    2\n",
       "$90,000 - $100,000 a year      2\n",
       "$130,000 a year                2\n",
       "$47,000 - $52,000 a year       1\n",
       "$65,000 a year                 1\n",
       "$170,000 a year                1\n",
       "$120,000 - $150,000 a year     1\n",
       "$65,000 - $110,000 a year      1\n",
       "$70,000 - $80,000 a year       1\n",
       "$100,000 a year                1\n",
       "$160,000 - $200,000 a year     1\n",
       "$54,000 a year                 1\n",
       "$68,000 - $90,000 a year       1\n",
       "$200,000 - $300,000 a year     1\n",
       "$3,616 - $5,433 a month        1\n",
       "$70 an hour                    1\n",
       "$150,000 a year                1\n",
       "$60,000 - $90,000 a year       1\n",
       "$140,000 a year                1\n",
       "$130,000 - $165,000 a year     1\n",
       "$22.50 an hour                 1\n",
       "$60,000 - $70,000 a year       1\n",
       "$45,000 - $55,000 a year       1\n",
       "$57,274 - $71,152 a year       1\n",
       "$46,579 - $61,065 a year       1\n",
       "$4,124 - $5,301 a month        1\n",
       "Name: salary, dtype: int64"
      ]
     },
     "execution_count": 67,
     "metadata": {},
     "output_type": "execute_result"
    }
   ],
   "source": [
    "df['salary'].value_counts()"
   ]
  },
  {
   "cell_type": "code",
   "execution_count": 68,
   "metadata": {
    "collapsed": false
   },
   "outputs": [
    {
     "data": {
      "text/plain": [
       "Data Scientist                                                     1093\n",
       "Senior Data Scientist                                               147\n",
       "Lead Data Scientist                                                  60\n",
       "Research Scientist                                                   35\n",
       "Data Engineer                                                        34\n",
       "Research Analyst                                                     30\n",
       "Sr. Data Scientist                                                   28\n",
       "Sr Data Scientist                                                    28\n",
       "Quantitative Research Analyst                                        24\n",
       "Senior Research Analyst                                              22\n",
       "Market Research Analyst                                              22\n",
       "Software Engineer / Research Scientist - Machine Learning Te...      22\n",
       "Data Scientist - Big Data                                            21\n",
       "Statistical Programmer II                                            21\n",
       "Data Scientist/Modeling - Applied Technology - 13135                 21\n",
       "Applied Machine Learning Scientist/Engineer - Relevance & Di...      20\n",
       "Data Scientist (Experience Insights)                                 20\n",
       "Statistician                                                         20\n",
       "Data Scientist - Mission Analytics                                   20\n",
       "Sr. Data Analyst - Machine Learning                                  20\n",
       "Sr. Marketing Data Scientist                                         20\n",
       "Advanced Analytics Manager                                           20\n",
       "Manager, Decision Science                                            20\n",
       "Data Scientist Intern                                                20\n",
       "Senior Machine Learning Engineer                                     20\n",
       "RESEARCH SCIENTIST - SURGERY MRG-E&R E&R Bldg.                       20\n",
       "Data Scientist - Defense & Intelligence                              20\n",
       "Database Marketing Statistician                                      20\n",
       "Rotational Analyst (Quantitative Track)                              20\n",
       "Data Analysis                                                        20\n",
       "                                                                   ... \n",
       "Analytical Scientist                                                  1\n",
       "Scientist II                                                          1\n",
       "Senior Data Scientist/Predictive Modeller                             1\n",
       "Senior Statistical Analyst                                            1\n",
       "Machine Learning PhD Internship - Summer 2017                         1\n",
       "Data Scientist Manager - Global Growth                                1\n",
       "Laser Technician                                                      1\n",
       "Quantitative Analyst – Portfolio Research                             1\n",
       "Population Health Data Scientist, LIMR                                1\n",
       "Scientist II, Systems Proteomics                                      1\n",
       "Human Performance Research Scientist                                  1\n",
       "Research Analyst I/II                                                 1\n",
       "Customer Care Tier 2 Specialist                                       1\n",
       "Social Scientist                                                      1\n",
       "Technical Writer, Technical Communications Team                       1\n",
       "Data Analyst / Research Analyst                                       1\n",
       "Junior Data Scientist                                                 1\n",
       "Director, Product Management (Analytics)                              1\n",
       "Client Experience and Market Research Analyst                         1\n",
       "Principal Scientist - GI Immunology Research                          1\n",
       "Junior Data Scientist / Data Engineer                                 1\n",
       "Billing Reimbursement - Refunds Specialist                            1\n",
       "Production Scientist (Non-CLS)                                        1\n",
       "Senior Scientist, Immuno Biologics - Immunology                       1\n",
       "Advanced Analytics Enablement Big Data Senior Consultant              1\n",
       "Data Scientist, Natural Language Processing                           1\n",
       "Chief Data Analyst (Equity)                                           1\n",
       "Senior Data Scientist Job                                             1\n",
       "Senior Data Scientist, Search and Local                               1\n",
       "Senior Software Scientist                                             1\n",
       "Name: title, dtype: int64"
      ]
     },
     "execution_count": 68,
     "metadata": {},
     "output_type": "execute_result"
    }
   ],
   "source": [
    "df['title'].value_counts()"
   ]
  },
  {
   "cell_type": "code",
   "execution_count": null,
   "metadata": {
    "collapsed": true
   },
   "outputs": [],
   "source": []
  },
  {
   "cell_type": "code",
   "execution_count": null,
   "metadata": {
    "collapsed": true
   },
   "outputs": [],
   "source": [
    "df['title'] = df['title'].apply(lambda x: x.replace('Sr', 'Senior'))\n",
    "df['title'] = df['title'].apply(lambda x: x.replace('Sen.', 'Senior'))\n",
    "\n",
    "if_data = []\n",
    "for i in range(len(df)):\n",
    "    if 'Data' in df['title'][i]:\n",
    "        if_data.append(1)\n",
    "    else:\n",
    "        if_data.append(0)"
   ]
  },
  {
   "cell_type": "code",
   "execution_count": null,
   "metadata": {
    "collapsed": true
   },
   "outputs": [],
   "source": []
  },
  {
   "cell_type": "code",
   "execution_count": null,
   "metadata": {
    "collapsed": true
   },
   "outputs": [],
   "source": []
  },
  {
   "cell_type": "code",
   "execution_count": 69,
   "metadata": {
    "collapsed": true
   },
   "outputs": [],
   "source": [
    "from selenium import webdriver"
   ]
  },
  {
   "cell_type": "code",
   "execution_count": null,
   "metadata": {
    "collapsed": true
   },
   "outputs": [],
   "source": [
    "lil_request = requests.get(URL)\n",
    "soup = BeautifulSoup(lil_request.content, \"lxml\")\n",
    "leftcol = soup.find('ul', class_=\"jlGrid hover\")"
   ]
  },
  {
   "cell_type": "code",
   "execution_count": 70,
   "metadata": {
    "collapsed": true
   },
   "outputs": [],
   "source": [
    "def get_jobs(URL):\n",
    "\n",
    "    links = leftcol.find_all(\"a\")\n",
    "    j_names = leftcol.find_all(\"div\",class_=\"flexbox empLoc\")\n",
    "    s_minmax = leftcol.find_all('span', class_='green small')\n",
    "    s_posi = leftcol.find_all('div', class_= 'flexbox')\n",
    "    \n",
    "    #------------------------------------------------------------#\n",
    "    job_name = []\n",
    "    for n in j_names:\n",
    "        job_name.append(n.find(\"div\").text)\n",
    "    #------------------------------------------------------------#\n",
    "    salaries = []\n",
    "    for s in s_minmax:\n",
    "        salaries.append(s.text)\n",
    "    #------------------------------------------------------------#\n",
    "#     position = []\n",
    "#     for p in s_posi:\n",
    "#         position.append(p.text)\n",
    "#     print position\n",
    "    #------------------------------------------------------------#\n",
    "    job_urls = []\n",
    "    for l in links:\n",
    "        job_urls.append(\"https://www.glassdoor.com/\"+l.get(\"href\"))\n",
    "    job_urls = job_urls[0::2]\n",
    "    #------------------------------------------------------------#\n",
    "    \n",
    "    \n",
    "    \n",
    "    data = pd.DataFrame({'Job Name and Loc': job_name,\\\n",
    "                         'Salary MINMAX':salaries,\\\n",
    "#                          'Position':position,\\\n",
    "                         'Job URLS': job_urls})\n",
    "    \n",
    "    return data"
   ]
  },
  {
   "cell_type": "code",
   "execution_count": 71,
   "metadata": {
    "collapsed": false
   },
   "outputs": [
    {
     "ename": "AttributeError",
     "evalue": "'NoneType' object has no attribute 'find_all'",
     "output_type": "error",
     "traceback": [
      "\u001b[0;31m---------------------------------------------------------------------------\u001b[0m",
      "\u001b[0;31mAttributeError\u001b[0m                            Traceback (most recent call last)",
      "\u001b[0;32m<ipython-input-71-3ac997230ae3>\u001b[0m in \u001b[0;36m<module>\u001b[0;34m()\u001b[0m\n\u001b[0;32m----> 1\u001b[0;31m \u001b[0mget_jobs\u001b[0m\u001b[0;34m(\u001b[0m\u001b[0;34m'https://www.glassdoor.com/Job/data-scientist-jobs-SRCH_KO0,14.htm'\u001b[0m\u001b[0;34m)\u001b[0m\u001b[0;34m\u001b[0m\u001b[0m\n\u001b[0m",
      "\u001b[0;32m<ipython-input-70-14e30d52ae48>\u001b[0m in \u001b[0;36mget_jobs\u001b[0;34m(URL)\u001b[0m\n\u001b[1;32m      5\u001b[0m \u001b[0;34m\u001b[0m\u001b[0m\n\u001b[1;32m      6\u001b[0m \u001b[0;34m\u001b[0m\u001b[0m\n\u001b[0;32m----> 7\u001b[0;31m     \u001b[0mlinks\u001b[0m \u001b[0;34m=\u001b[0m \u001b[0mleftcol\u001b[0m\u001b[0;34m.\u001b[0m\u001b[0mfind_all\u001b[0m\u001b[0;34m(\u001b[0m\u001b[0;34m\"a\"\u001b[0m\u001b[0;34m)\u001b[0m\u001b[0;34m\u001b[0m\u001b[0m\n\u001b[0m\u001b[1;32m      8\u001b[0m     \u001b[0mj_names\u001b[0m \u001b[0;34m=\u001b[0m \u001b[0mleftcol\u001b[0m\u001b[0;34m.\u001b[0m\u001b[0mfind_all\u001b[0m\u001b[0;34m(\u001b[0m\u001b[0;34m\"div\"\u001b[0m\u001b[0;34m,\u001b[0m\u001b[0mclass_\u001b[0m\u001b[0;34m=\u001b[0m\u001b[0;34m\"flexbox empLoc\"\u001b[0m\u001b[0;34m)\u001b[0m\u001b[0;34m\u001b[0m\u001b[0m\n\u001b[1;32m      9\u001b[0m     \u001b[0ms_minmax\u001b[0m \u001b[0;34m=\u001b[0m \u001b[0mleftcol\u001b[0m\u001b[0;34m.\u001b[0m\u001b[0mfind_all\u001b[0m\u001b[0;34m(\u001b[0m\u001b[0;34m'span'\u001b[0m\u001b[0;34m,\u001b[0m \u001b[0mclass_\u001b[0m\u001b[0;34m=\u001b[0m\u001b[0;34m'green small'\u001b[0m\u001b[0;34m)\u001b[0m\u001b[0;34m\u001b[0m\u001b[0m\n",
      "\u001b[0;31mAttributeError\u001b[0m: 'NoneType' object has no attribute 'find_all'"
     ]
    }
   ],
   "source": [
    "get_jobs('https://www.glassdoor.com/Job/data-scientist-jobs-SRCH_KO0,14.htm')"
   ]
  },
  {
   "cell_type": "code",
   "execution_count": null,
   "metadata": {
    "collapsed": true
   },
   "outputs": [],
   "source": []
  }
 ],
 "metadata": {
  "kernelspec": {
   "display_name": "Python 2",
   "language": "python",
   "name": "python2"
  },
  "language_info": {
   "codemirror_mode": {
    "name": "ipython",
    "version": 2
   },
   "file_extension": ".py",
   "mimetype": "text/x-python",
   "name": "python",
   "nbconvert_exporter": "python",
   "pygments_lexer": "ipython2",
   "version": "2.7.12"
  }
 },
 "nbformat": 4,
 "nbformat_minor": 0
}
