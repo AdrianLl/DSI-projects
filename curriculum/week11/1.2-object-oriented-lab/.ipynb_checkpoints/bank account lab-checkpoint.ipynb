{
 "cells": [
  {
   "cell_type": "markdown",
   "metadata": {},
   "source": [
    "1. Create a class `BankAccount` that holds a balance and two methods: deposit() and withdraw() which change the value of the balance.\n",
    "\n",
    "\n",
    "2. Edit the __init__ of Bank Account to hold values for the customer's name and initial balance.\n",
    "\n",
    "\n",
    "3. Create 10 different instances of 'BankAccount'. Name them after different people. Use a for loop to add 100 dollars to each of their accounts.\n",
    "\n",
    "\n",
    "4. Create a class 'MinimumBankAccount' that inherits the methods of 'BankAccount'\n",
    "\n",
    "\n",
    "5. Overwrite the 'withdraw()' method in 'MinimumBankAccount' so that it returns an error if you try to withdraw more than the value of the balance"
   ]
  },
  {
   "cell_type": "code",
   "execution_count": 2,
   "metadata": {
    "collapsed": true
   },
   "outputs": [],
   "source": [
    "class BankAccount():\n",
    "\n",
    "    def __init__(self, name=0, dollars=0, cents=None):\n",
    "        self.name = name\n",
    "        self.dollars = dollars\n",
    "        self.cents = cents\n",
    "\n",
    "    def __str__(self):\n",
    "        return '%s: %.2d.%.2d' % (self.name, self.dollars, self.cents)\n",
    "    \n",
    "    def withdraw(self, amount):\n",
    "        self.balance -= amount\n",
    "        \n",
    "    def deposit(self, amount):\n",
    "        self.balance += amount\n",
    "    \n",
    "    def balance_to_int(self):\n",
    "        '''Returns the current time in seconds'''\n",
    "        total_cents = self.cents + self.dollars * 100\n",
    "        return total_cents/100\n",
    "\n",
    "    def int_to_time(self, seconds):\n",
    "        '''Resets the values for hour, minute and second to a new \n",
    "        value, given by a number of seconds\n",
    "        '''\n",
    "        self.hour, self.minute = divmod(seconds, 3600)\n",
    "        self.minute, self.second = divmod(self.minute, 60)\n",
    "    \n",
    "    def is_after(self, other):\n",
    "        '''Compares two time classes'''\n",
    "        if isinstance(other, Time):\n",
    "            return self.time_to_int() > other.time_to_int()\n",
    "        \n",
    "    # YOUR CODE HERE\n",
    "    def increment(self, n):\n",
    "        '''Increments by n seconds'''\n",
    "        now = self.time_to_int()\n",
    "        self.int_to_time(now + n)\n",
    "\n"
   ]
  },
  {
   "cell_type": "code",
   "execution_count": 3,
   "metadata": {
    "collapsed": true
   },
   "outputs": [],
   "source": [
    "mymunny = BankAccount('Rebecca', 13, 0)"
   ]
  },
  {
   "cell_type": "code",
   "execution_count": 7,
   "metadata": {
    "collapsed": false
   },
   "outputs": [
    {
     "name": "stdout",
     "output_type": "stream",
     "text": [
      "Rebecca: 13.00\n"
     ]
    }
   ],
   "source": [
    "print mymunny"
   ]
  },
  {
   "cell_type": "code",
   "execution_count": null,
   "metadata": {
    "collapsed": true
   },
   "outputs": [],
   "source": []
  }
 ],
 "metadata": {
  "kernelspec": {
   "display_name": "Python 2",
   "language": "python",
   "name": "python2"
  },
  "language_info": {
   "codemirror_mode": {
    "name": "ipython",
    "version": 2
   },
   "file_extension": ".py",
   "mimetype": "text/x-python",
   "name": "python",
   "nbconvert_exporter": "python",
   "pygments_lexer": "ipython2",
   "version": "2.7.12"
  }
 },
 "nbformat": 4,
 "nbformat_minor": 0
}
