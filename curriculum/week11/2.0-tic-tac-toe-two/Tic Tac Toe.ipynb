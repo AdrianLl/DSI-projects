{
 "cells": [
  {
   "cell_type": "code",
   "execution_count": 17,
   "metadata": {
    "collapsed": true
   },
   "outputs": [],
   "source": [
    "class Moves():\n",
    "    '''A game.'''\n",
    "    \n",
    "    def __init__(self, row=0, column=0):\n",
    "        self.row = row\n",
    "        self.column = column\n",
    "        \n",
    "    row_names = [None, 1, 2, 3]\n",
    "    column_names = [None, 1, 2, 3]\n",
    "    \n",
    "    def __str__(self):\n",
    "        return \"row %s, column %s\" % (Move.row_names[self.row], \\\n",
    "                            Move.column_names[self.column])\n",
    "    \n",
    "    def spot_taken(self, other):\n",
    "        if isinstance(other, Move):\n",
    "            return (self.column == other.column) & (self.row & other.row)"
   ]
  },
  {
   "cell_type": "code",
   "execution_count": 18,
   "metadata": {
    "collapsed": true
   },
   "outputs": [],
   "source": [
    "class Board():\n",
    "    '''The Board.'''\n",
    "    \n",
    "    def __init__(self):\n",
    "        self.moves = []\n",
    "        for row in range(1,4):\n",
    "            for column in range(1,4):\n",
    "                move = Move(row, column)\n",
    "                self.moves.append(move)\n",
    "                \n",
    "    def self_board():\n",
    "        \n",
    "                \n",
    "    def __str__(self):\n",
    "        results = []\n",
    "        for move in self.moves:\n",
    "            results.append(str(move))\n",
    "        return '\\n'.join(results)\n",
    "    \n",
    "\n",
    "    def make_move(self):\n",
    "        '''makes... a move'''\n",
    "        import random\n",
    "        c = random.choice(self.moves)\n",
    "        self.moves.remove(c)\n",
    "        return c\n",
    "    \n",
    "#     def add_card(self, card):\n",
    "#         '''Puts a card object back in the deck'''\n",
    "#         self.cards.append(card)            \n",
    "    \n",
    "#     def shuffle(self):\n",
    "#         '''Shuffles the deck'''\n",
    "#         import random\n",
    "#         random.shuffle(self.cards)\n",
    "        \n",
    "#     def sort(self):\n",
    "#         '''Sorts the deck'''\n",
    "#         self.cards.sort()"
   ]
  },
  {
   "cell_type": "code",
   "execution_count": 21,
   "metadata": {
    "collapsed": false
   },
   "outputs": [
    {
     "name": "stdout",
     "output_type": "stream",
     "text": [
      "row 1, column 1\n",
      "row 1, column 2\n",
      "row 1, column 3\n",
      "row 2, column 1\n",
      "row 2, column 2\n",
      "row 2, column 3\n",
      "row 3, column 1\n",
      "row 3, column 2\n",
      "row 3, column 3\n"
     ]
    }
   ],
   "source": [
    "## all possible moves\n",
    "board = Board()\n",
    "for move in board.moves:\n",
    "    print move"
   ]
  },
  {
   "cell_type": "code",
   "execution_count": 22,
   "metadata": {
    "collapsed": false
   },
   "outputs": [
    {
     "data": {
      "text/plain": [
       "1"
      ]
     },
     "execution_count": 22,
     "metadata": {},
     "output_type": "execute_result"
    }
   ],
   "source": [
    "move1 = board.moves[0]\n",
    "move2 = board.moves[0]\n",
    "\n",
    "move1.spot_taken(move2)"
   ]
  },
  {
   "cell_type": "code",
   "execution_count": 20,
   "metadata": {
    "collapsed": false
   },
   "outputs": [
    {
     "name": "stdout",
     "output_type": "stream",
     "text": [
      "Let's play TicTacToe!\n",
      "\n",
      "_ _ _\n",
      "_ _ _\n",
      "_ _ _\n",
      "\n",
      "pick a row: 1\n"
     ]
    },
    {
     "ename": "NameError",
     "evalue": "name 'self' is not defined",
     "output_type": "error",
     "traceback": [
      "\u001b[0;31m---------------------------------------------------------------------------\u001b[0m",
      "\u001b[0;31mNameError\u001b[0m                                 Traceback (most recent call last)",
      "\u001b[0;32m<ipython-input-20-314149648f06>\u001b[0m in \u001b[0;36m<module>\u001b[0;34m()\u001b[0m\n\u001b[1;32m     12\u001b[0m \u001b[0;34m\u001b[0m\u001b[0m\n\u001b[1;32m     13\u001b[0m \u001b[0;32mfor\u001b[0m \u001b[0mturn\u001b[0m \u001b[0;32min\u001b[0m \u001b[0mrange\u001b[0m\u001b[0;34m(\u001b[0m\u001b[0;36m100\u001b[0m\u001b[0;34m)\u001b[0m\u001b[0;34m:\u001b[0m\u001b[0;34m\u001b[0m\u001b[0m\n\u001b[0;32m---> 14\u001b[0;31m     \u001b[0mself\u001b[0m\u001b[0;34m.\u001b[0m\u001b[0mrow\u001b[0m \u001b[0;34m=\u001b[0m \u001b[0mint\u001b[0m\u001b[0;34m(\u001b[0m\u001b[0mraw_input\u001b[0m\u001b[0;34m(\u001b[0m\u001b[0;34m\"\\npick a row: \"\u001b[0m\u001b[0;34m)\u001b[0m\u001b[0;34m)\u001b[0m\u001b[0;34m\u001b[0m\u001b[0m\n\u001b[0m\u001b[1;32m     15\u001b[0m     \u001b[0mself\u001b[0m\u001b[0;34m.\u001b[0m\u001b[0mcolumn\u001b[0m \u001b[0;34m=\u001b[0m \u001b[0mint\u001b[0m\u001b[0;34m(\u001b[0m\u001b[0mraw_input\u001b[0m\u001b[0;34m(\u001b[0m\u001b[0;34m\"pick a column: \"\u001b[0m\u001b[0;34m)\u001b[0m\u001b[0;34m)\u001b[0m\u001b[0;34m\u001b[0m\u001b[0m\n",
      "\u001b[0;31mNameError\u001b[0m: name 'self' is not defined"
     ]
    }
   ],
   "source": [
    "board = []\n",
    "\n",
    "for x in range(3):\n",
    "    board.append(['_'] * 3)\n",
    "\n",
    "def print_board(board):\n",
    "    for row in board:\n",
    "        print ' '.join(row)\n",
    "\n",
    "print \"Let's play TicTacToe!\\n\"\n",
    "print_board(board)\n",
    "        \n",
    "for turn in range(100):\n",
    "    self.row = int(raw_input(\"\\npick a row: \")) - 1\n",
    "    self.column = int(raw_input(\"pick a column: \")) - 1"
   ]
  },
  {
   "cell_type": "code",
   "execution_count": null,
   "metadata": {
    "collapsed": true
   },
   "outputs": [],
   "source": [
    "from random import randint\n",
    "\n",
    "#initializing board\n",
    "       \n",
    "#starting the game and printing the board\n",
    "\n",
    "\n",
    "\n",
    "#ask user for a guess\n",
    "for turn in range(100):\n",
    "\n",
    "    print '\\n'\n",
    "\n",
    "    if (chosen_row < 0 or chosen_row > 2) or (chosen_col < 0 or chosen_col > 2):\n",
    "        print \"\\nWhere'd you go??  That's not on the board!  Pick again.\"\n",
    "    \n",
    "    elif board[chosen_row][chosen_col] != \"_\":\n",
    "        print \"Uh oh, that space is taken!  Please choose again.\"\n",
    "        \n",
    "    else:\n",
    "        board[chosen_row][chosen_col] = 'X'\n",
    "        \n",
    "        if (board[0][0] == board[0][1] == board[0][2] == 'X') or (board[1][0] == board[1][1] == board[1][2] == 'X') or\\\n",
    "            (board[2][0] == board[2][1] == board[2][2] == 'X') or (board[0][1] == board[1][1] == board[2][1] == 'X') or\\\n",
    "            (board[0][0] == board[1][0] == board[2][0] == 'X') or (board[0][2] == board[1][2] == board[2][2] == 'X') or\\\n",
    "            (board[0][0] == board[1][1] == board[2][2] == 'X') or (board[0][2] == board[1][1] == board[2][0] == 'X'):\n",
    "            print_board(board)\n",
    "            print \"\\nYou won!!!  Great job.\\n\"\n",
    "            break\n",
    "        \n",
    "        \n",
    "        \n",
    "        #computy makes a move\n",
    "        else: \n",
    "            checker = False\n",
    "            while checker == False:\n",
    "                checker = True\n",
    "                def random_row(board):\n",
    "                    return randint(0, len(board) - 1)\n",
    "\n",
    "                def random_col(board):\n",
    "                    return randint(0, len(board[0]) - 1)\n",
    "\n",
    "                computer_row = random_row(board)\n",
    "                computer_col = random_col(board)\n",
    "                if board[computer_row][computer_col] in ['O', 'X']:\n",
    "                    checker = False\n",
    "            board[computer_row][computer_col] = 'O'\n",
    "    \n",
    "            if (board[0][0] == board[0][1] == board[0][2] == 'O') or (board[1][0] == board[1][1] == board[1][2] == 'O') or\\\n",
    "                (board[2][0] == board[2][1] == board[2][2] == 'O') or (board[0][1] == board[1][1] == board[2][1] == 'O') or\\\n",
    "                (board[0][0] == board[1][0] == board[2][0] == 'O') or (board[0][2] == board[1][2] == board[2][2] == 'O') or\\\n",
    "                (board[0][0] == board[1][1] == board[2][2] == 'O') or (board[0][2] == board[1][1] == board[2][0] == 'O'):\n",
    "                print_board(board)\n",
    "                print \"\\nYou lost, sorry.  It happens.\"\n",
    "                break\n",
    "            \n",
    "            else:\n",
    "            #is it a tie?    \n",
    "                count = 0    \n",
    "                for i in range(0,3):\n",
    "                    for j in range(0,3):\n",
    "                        if board[i][j] == '_':\n",
    "                            count += 1\n",
    "                if count == 0:\n",
    "                    print_board(board)\n",
    "                    print '\\nIt\\'s a tie!  Nice job, everyone.'\n",
    "                    break\n",
    "        print_board(board)"
   ]
  }
 ],
 "metadata": {
  "kernelspec": {
   "display_name": "Python 2",
   "language": "python",
   "name": "python2"
  },
  "language_info": {
   "codemirror_mode": {
    "name": "ipython",
    "version": 2
   },
   "file_extension": ".py",
   "mimetype": "text/x-python",
   "name": "python",
   "nbconvert_exporter": "python",
   "pygments_lexer": "ipython2",
   "version": "2.7.12"
  }
 },
 "nbformat": 4,
 "nbformat_minor": 0
}
