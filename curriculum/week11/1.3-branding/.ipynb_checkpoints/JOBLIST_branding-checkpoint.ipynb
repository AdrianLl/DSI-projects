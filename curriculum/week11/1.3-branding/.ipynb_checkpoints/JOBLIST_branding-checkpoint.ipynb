{
 "cells": [
  {
   "cell_type": "markdown",
   "metadata": {
    "slideshow": {
     "slide_type": "slide"
    }
   },
   "source": [
    "# ![](https://ga-dash.s3.amazonaws.com/production/assets/logo-9f88ae6c9c3871690e33280fcf557f33.png) Data Science Portfolios\n",
    "\n",
    "Week 11 | Lesson 1.3"
   ]
  },
  {
   "cell_type": "markdown",
   "metadata": {
    "slideshow": {
     "slide_type": "slide"
    }
   },
   "source": [
    "### LEARNING OBJECTIVES\n",
    "*After this lesson, you will be able to:*\n",
    "- Communicate your personal data science brand\n",
    "- Leverage opportunities for networking and industry exposure\n",
    "- Create a personalized professional development plan"
   ]
  },
  {
   "cell_type": "markdown",
   "metadata": {
    "slideshow": {
     "slide_type": "slide"
    }
   },
   "source": [
    "### LESSON GUIDE\n",
    "| TIMING  | TYPE  | TOPIC  |\n",
    "|:-:|---|---|\n",
    "| 5 min  | [Opening](#opening)  | Harsh Realities |\n",
    "| 75 min  | [Branding](#intro1)   | Build Your Data Science Brand  |\n",
    "| 45 min  | [Portfolio](#intro2)   | Assemble Your Portfolio |\n",
    "| 10 min  | [Networking](#intro3)   | Importance of Networking   |\n",
    "| 10 min  | [Forever a Student](#intro4)   | Always be Learning  |\n",
    "| 5 min  | [Conclusion](#conclusion)  | Takeaways & Advice |"
   ]
  },
  {
   "cell_type": "markdown",
   "metadata": {
    "slideshow": {
     "slide_type": "slide"
    }
   },
   "source": [
    "### Harsh Realities"
   ]
  },
  {
   "cell_type": "markdown",
   "metadata": {
    "slideshow": {
     "slide_type": "slide"
    }
   },
   "source": [
    "### Harsh Reality #1: Nobody Cares About About What You Want or What You've Done.\n",
    "\n",
    "People are busy. \n",
    "\n",
    "In the job market, they will generally only talk to you if you can do something for them. They don't have a lot of time to waste figuring out if that's the case and if so what that is. \n",
    "\n",
    "There are open positions because some business need must be filled."
   ]
  },
  {
   "cell_type": "markdown",
   "metadata": {
    "slideshow": {
     "slide_type": "slide"
    }
   },
   "source": [
    "### Your job is to:\n",
    "\n",
    "- Identify that need\n",
    "\n",
    "- Market yourself as the best person for fulfilling that need"
   ]
  },
  {
   "cell_type": "markdown",
   "metadata": {
    "slideshow": {
     "slide_type": "slide"
    }
   },
   "source": [
    "### Harsh Reality #2: People Label You.\n",
    "\n",
    "\n",
    "If you are lucky enough to pass the initial screen, you will get PCA'd into 2 to three characteristics. These characteristics are how you will be remembered and spoken about."
   ]
  },
  {
   "cell_type": "markdown",
   "metadata": {
    "slideshow": {
     "slide_type": "slide"
    }
   },
   "source": [
    "### Your job is to:\n",
    "\n",
    "- Define what those labels will be"
   ]
  },
  {
   "cell_type": "markdown",
   "metadata": {
    "slideshow": {
     "slide_type": "slide"
    }
   },
   "source": [
    "### Harsh Reality #3: People Are Persuaded By Emotion Not Facts.\n",
    "\n",
    "\n",
    "People tend to be horrible judges of character. Why? Because they judge people not on data, but on how you make them feel. If you make them feel good, they will fight to defend you despite hard evidence that they should not, and they will embue you will positive characteristics you have not demonstrated."
   ]
  },
  {
   "cell_type": "markdown",
   "metadata": {
    "slideshow": {
     "slide_type": "slide"
    }
   },
   "source": [
    "### Your job is to:\n",
    "\n",
    "- Emotionally appeal to them"
   ]
  },
  {
   "cell_type": "markdown",
   "metadata": {
    "slideshow": {
     "slide_type": "slide"
    }
   },
   "source": [
    "## Yes, But How Do We Do All of This?"
   ]
  },
  {
   "cell_type": "markdown",
   "metadata": {
    "slideshow": {
     "slide_type": "slide"
    }
   },
   "source": [
    "## You Must Have a Personal Narrative"
   ]
  },
  {
   "cell_type": "markdown",
   "metadata": {
    "slideshow": {
     "slide_type": "fragment"
    }
   },
   "source": [
    "### WTF is that?"
   ]
  },
  {
   "cell_type": "markdown",
   "metadata": {
    "slideshow": {
     "slide_type": "fragment"
    }
   },
   "source": [
    "A personal narrative is the backstory that brings you to their doorstep. It answers all the questions they have about who you are and what you can do for their company."
   ]
  },
  {
   "cell_type": "markdown",
   "metadata": {
    "slideshow": {
     "slide_type": "slide"
    }
   },
   "source": [
    "### The six story arcs\n",
    "\n",
    "[The Six Story Arcs](http://www.theatlantic.com/technology/archive/2016/07/the-six-main-arcs-in-storytelling-identified-by-a-computer/490733/)"
   ]
  },
  {
   "cell_type": "markdown",
   "metadata": {
    "slideshow": {
     "slide_type": "slide"
    }
   },
   "source": [
    "## Exercise: Spend the next 30 minutes doing the following:\n",
    "\n",
    "- Find 5-10 jobs you would want to apply to \n",
    "- Write down the skills required for these jobs (we'll use this later)\n",
    "- Create a base personal narrative and side narratives for the jobs you choose\n",
    "- Write down this narrative in detail"
   ]
  },
  {
   "cell_type": "markdown",
   "metadata": {},
   "source": [
    "https://gallup.taleo.net/careersection/2/jobdetail.ftl?lang=en&job=03310&src=JB-10740\n",
    "\n",
    "+A master’s degree is required; a Ph.D. is preferred\n",
    "\n",
    "+Three to five years of professional experience in workplace research, statistical analysis and consulting\n",
    "\n",
    "+Thought leadership and demonstrated innovation in a specific area of human capital consulting, such as performance management, diversity and inclusion, change management, culture creation and/or generational differences in the workplace"
   ]
  },
  {
   "cell_type": "markdown",
   "metadata": {},
   "source": [
    "https://www.facebook.com/careers/jobs/a0I1200000IAM1fEAH/\n",
    "\n",
    "+2+ years experience doing quantitative analysis.\n",
    "\n",
    "+BA/BS in Computer Science, Math, Physics, Engineering, Statistics or other technical field. \n",
    "\n",
    "+Advanced degrees preferred.\n",
    "\n",
    "+Experience in SQL or other programming languages.\n",
    "\n",
    "+Development experience in any scripting language (PHP, Python, Perl, etc.)\n",
    "\n",
    "+Ability to initiate and drive projects to completion with minimal guidance.\n",
    "\n",
    "+Ability to communicate the results of analyses in a clear and effective manner with product and leadership teams to influence the overall strategy of the product.\n",
    "\n",
    "+Basic understanding of statistics (e.g., hypothesis testing, regressions).\n",
    "\n",
    "+Experience manipulating large data sets through statistical software (ex. R, SAS) or other methods.\n",
    "\n",
    "+Experience with distributed computing (Hive/Hadoop) a plus.\n",
    "\n",
    "\n",
    "Responsibilities:\n",
    "\n",
    "Apply your expertise in quantitative analysis, data mining, and the presentation of data to see beyond the numbers and understand how our users interact with both our consumer and business products products\n",
    "Partner with Product and Engineering teams to solve problems and identify trends and opportunities\n",
    "Inform, influence, support, and execute our product decisions and product launches\n",
    "The Data Scientist Analytics role has work across the following four areas:\n",
    "Product Operations\n",
    "Forecasting and setting product team goals\n",
    "Designing and evaluating experiments\n",
    "Monitoring key product metrics, understanding root causes of changes in metrics\n",
    "Building and analyzing dashboards and reports\n",
    "Building key data sets to empower operational and exploratory analysis\n",
    "Evaluating and defining metrics\n",
    "Exploratory Analysis\n",
    "Proposing what to build in the next roadmap\n",
    "Understanding ecosystems, user behaviors, and long-term trends\n",
    "Identifying new levers to help move key metrics\n",
    "Building models of user behaviors for analysis or to power production systems\n",
    "Product Leadership\n",
    "Influencing product teams through presentation of data-based recommendations\n",
    "Communicating state of business, experiment results, etc to product teams\n",
    "Spreading best practices to analytics and product teams\n",
    "Data Infrastructure\n",
    "Working in Hadoop and Hive primarily, sometimes MySQL, Oracle, and Vertica\n",
    "Automating analyses and authoring pipelines via SQL and python based ETL framework"
   ]
  },
  {
   "cell_type": "markdown",
   "metadata": {},
   "source": [
    "https://www.buzzfeed.com/about/jobs?gh_jid=112405&gh_src=stiu0d\n",
    "\n",
    "+7+ years experience in data science and analytics, ideally working with a consumer product.\n",
    "\n",
    "+Significant experience managing, mentoring, and coaching teams of data scientists and analysts.\n",
    "\n",
    "+A deep understanding of social media platforms, video platforms, and user behavior.\n",
    "\n",
    "+A gift for distilling complex and seemingly arcane analytics into clear, accessible, actionable insight.\n",
    "\n",
    "+Excellent communication skills, and ability to work across multiple teams and levels within an organization.\n",
    "\n",
    "+Hands-on experience with Python and SQL, and ideally Redshift and BigQuery\n",
    "\n",
    "+A love for telling stories with data, and an appreciation for both the power and limits of data.\n",
    "\n",
    "\n",
    "Responsibilities:\n",
    "\n",
    "Lead, nurture, and grow a team of Data Scientists\n",
    "Drive the creation and implementation of best practices for statistical data modeling, analysis, and machine learning; data exploration and reporting tools; and processes that allow data science to team to work efficiently within and also outside of the tech org\n",
    "Work closely with teams in the tech organization including product owners, data infrastructure, and engineering, as well as people outside the tech organization including business, edit, creative, and video.\n",
    "Help determine what metrics are critical to the organization, build tools and communicate key metrics to executives, editors, developers, and others within the organization\n",
    "Use data to better understand what our readers and viewers are doing and why\n",
    "Consider the use of data in a distributed internet. At BuzzFeed, we create content and analyze how that content performs on both our platforms and across the internet."
   ]
  },
  {
   "cell_type": "markdown",
   "metadata": {},
   "source": [
    "http://www.indeed.com/viewjob?jk=ca5a2c136eaccc1d&q=data+mining&l=New+York%2C+NY&tk=1aq7m2bkka46faku&from=web\n",
    "\n",
    "+Ph.D. in Computer Science, Math, Statistics or related field\n",
    "\n",
    "+Solid background in data mining, data visualization, statistical analysis, computational NLP or machine learning with at least 5 years experience\n",
    "\n",
    "+Ability to communicate complex quantitative analysis in a clear, precise and actionable manner\n",
    "\n",
    "+Extensive programming and system design experience, ability to work with big data with minimal engineering support\n",
    "\n",
    "+Experience with Hadoop/MapReduce, Hive/Pig and NoSQL databases\n",
    "\n",
    "+Proven track record of solving challenging problems in both academia and industry\n",
    "\n",
    "+Self-motivation and an ability to handle multiple competing priorities in a fast-paced environment\n",
    "\n",
    "+Ability to work both independently and collaboratively within a team\n",
    "\n",
    "Responsibilities:\n",
    "\n",
    "You're a dedicated data scientist who wants nothing more than to help us sort, analyze and deliver relevant information from terabytes of unstructured data in the social media space. We strive for strong abstractions that allow for fast iteration, easy integration and short development cycles, allowing us to constantly learn from our data and empower our clients to apply these insights toward product enhancements. "
   ]
  },
  {
   "cell_type": "markdown",
   "metadata": {},
   "source": [
    "http://www.indeed.com/viewjob?jk=d8639fd6e29816fd&q=data+mining&l=New+York%2C+NY&tk=1aq7m2bkka46faku&from=web\n",
    "\n",
    "+Expert-level knowledge of object oriented programming.\n",
    "\n",
    "+A desire to be deeply involved in product definition. Our engineers are expected to contribute to the direction that their products are heading.\n",
    "\n",
    "+A passion for information and architecture and a strong sense for beautiful, pragmatic code when building new data products.\n",
    "\n",
    "+Experience with sites that rely on architecture beyond the basic LAMP stack.\n",
    "\n",
    "+A deep understanding of Tumblr’s features.\n",
    "\n",
    "+Smarts, humility, and equal willingness to learn and teach.\n",
    "\n",
    "Responsibilities: \n",
    "\n",
    "Build product features that invisibly curtail bad actions.\n",
    "Build interactive data visualization products that help identify and attack new patterns in large data sets.\n",
    "Work with the Research team to build and deploy new sources of intelligence, especially processing agents that gather real-time intelligence.\n",
    "Work with the Security team to rebuff emerging and active threats.\n",
    "Build robust tools to hunt, evaluate and destroy unacceptable content on Tumblr.\n",
    "Do your part in the Global War on Spam and delete blogs run by robots."
   ]
  },
  {
   "cell_type": "markdown",
   "metadata": {},
   "source": [
    "Tucker -- spotify\n",
    "\n",
    "objective strategy and objective analysis \n",
    "programming python, SQL, analytics tools (pandas, scikitlearn)\n",
    "\n",
    "tone of voice kind of flat\n",
    "\n",
    "big data experience:\n",
    "cluster computing\n",
    "spark, pyspark -- mapreducing\n",
    "\n",
    "see diff side/aspects of a project, finding which best-suits getting outcome\n"
   ]
  },
  {
   "cell_type": "markdown",
   "metadata": {
    "slideshow": {
     "slide_type": "slide"
    }
   },
   "source": [
    "## Exercise: Spend the next 30 minutes doing the following:\n",
    "\n",
    "- Get into groups of approximately 3 people\n",
    "- One person will listen and take notes, one person will be interviewed, and one person will be the interviewer\n",
    "- The interviewee should give the job requirement posting to the interviewer and note-taker and let them become familiarize themselves with it\n",
    "- Once the interviewer is ready, the prompt is 'Tell me a little about yourself and why you want to work for us'\n"
   ]
  },
  {
   "cell_type": "markdown",
   "metadata": {
    "slideshow": {
     "slide_type": "slide"
    }
   },
   "source": [
    "## Assemble Your Portfolio"
   ]
  },
  {
   "cell_type": "markdown",
   "metadata": {
    "slideshow": {
     "slide_type": "slide"
    }
   },
   "source": [
    "### Your portfolio is the manifestation of your skillset\n",
    "\n",
    "Ask yourself the following questions:\n",
    "\n",
    "1. Does this portfolio tell a compelling, easy-to-follow story even to someone with little to no technical background?\n",
    "2. Is it generic work or does it demonstrate the author has a deep commitment to answering a question?\n",
    "3. Is it visullaly beautiful?\n",
    "4. Does it clearly tell me why I should give a shit?"
   ]
  },
  {
   "cell_type": "markdown",
   "metadata": {
    "slideshow": {
     "slide_type": "slide"
    }
   },
   "source": [
    "## Exercise: Spend the next 30 minutes doing the following:\n",
    "\n",
    "- Read [How to Create A Data Science Protfolio that Will Get You Hired](http://www.datascienceweekly.org/articles/how-you-should-create-a-data-science-portfolio-that-will-get-you-hired)\n",
    "- Take a look at your existing portfolio and judge it by the 4 criteria above\n",
    "- Pair up and ask your partner to evaluate your portfolio on the 4 criteria\n",
    "- Using this infomation and the jobs that you want to apply to create a plan to build a better portfolio showcase - be prepared to share this with the class"
   ]
  },
  {
   "cell_type": "markdown",
   "metadata": {
    "slideshow": {
     "slide_type": "slide"
    }
   },
   "source": [
    "## Networking\n",
    "\n",
    "After you've cultivated your brand and built up a sample portfolio, the next step is to network! Your goal should be to connect with people in the field for insight, advice, mentoring, and leads.\n",
    "\n",
    "Networking sucks. At least it does in the minds of a lot of people. Generally, this is because people think of networking as a smarmy activity undertaken by self promoters. While this can definitely be the case, the trick is\n",
    "to think of networking as an opportunity to **be interested -- not interesting**.\n",
    "\n",
    "If you reconceptualize networking as an oppotunity to learn about people working on interesting projects, it becomes\n",
    "much more palatable. \n",
    "\n",
    "[Why You Suck at Networking](https://medium.com/@schnarr9/why-you-suck-at-networking-e3b53bf53a0e#.a87gxq5r7)"
   ]
  },
  {
   "cell_type": "markdown",
   "metadata": {
    "slideshow": {
     "slide_type": "slide"
    }
   },
   "source": [
    "## Find a mentor\n",
    "\n",
    "There's an old saying that goes: \"When you want advice, ask for money. When you want money, ask for advice.\"\n",
    "\n",
    "The surest way to succeed in your job search is to surround yourself with other people in the field and ask for advice and direction. Finding mentors in the field will give you the guidance you need to increase your network, sharpen your skills, and contribute to the data science community.\n",
    "\n",
    "When pitching potential mentors, you'll want to make sure you aren't just asking for help; look up a common interest and try to provide value in return.\n",
    "\n",
    "It's typically best to begin small; you might ask for an informational interview - like a quick chat over coffee - and discuss their background, roles, or favorite projects. Then relate these to your own skills, interests, and goals in the field.\n",
    "\n",
    "[Tim Ferris on Finding a Mentor](https://www.entrepreneur.com/article/249385)"
   ]
  },
  {
   "cell_type": "markdown",
   "metadata": {
    "slideshow": {
     "slide_type": "slide"
    }
   },
   "source": [
    "## Get Invovled - Conferences\n",
    "\n",
    "- Meetups\n",
    "- PyData\n",
    "- Strata-Hadoop World\n",
    "- DataKind\n",
    "- KDD\n",
    "\n",
    "[Quora Thread](https://www.quora.com/What-are-the-best-data-science-conferences-in-the-US)"
   ]
  },
  {
   "cell_type": "markdown",
   "metadata": {
    "slideshow": {
     "slide_type": "slide"
    }
   },
   "source": [
    "## Keep Learning - Resources\n",
    "\n",
    "**Data Science Competitions**\n",
    "- [Kaggle!](https://www.kaggle.com/competitions)\n",
    "- [DataKind](http://www.datakind.org)\n",
    "- [DrivenData](https://www.drivendata.org/competitions/)\n",
    "- [CrowdAnalytix](https://www.crowdanalytix.com/community)\n",
    "\n",
    "**Additional Resources**\n",
    "* [For additional public data science competitions, check out this list](http://www.kdnuggets.com/competitions/)\n",
    "* [For more advice on competitions and hiring, see this Quora post](https://www.quora.com/How-similar-are-Kaggle-competitions-to-what-data-scientists-do)"
   ]
  },
  {
   "cell_type": "markdown",
   "metadata": {
    "slideshow": {
     "slide_type": "slide"
    }
   },
   "source": [
    "## Keep Learning - More Resources\n",
    "\n",
    "When you aren't building your portfolio, networking, or applying for jobs, consider reading up on some other resources for learning about the field. The more information you have at your disposal, the better you'll be able to target your skills and approach.\n",
    "\n",
    "You might look up relevant topics on [Reddit](https://www.reddit.com/r/datascience) and [Quora](https://www.quora.com/topic/Data-Science) or follow some prominent figures on [Twitter](https://twitter.com/hashtag/datascience?lang=en). You should also check out the following:\n",
    "\n",
    "**Websites**\n",
    "\n",
    "- [KDNuggets](http://www.kdnuggets.com)\n",
    "- [DataTau](http://www.datatau.com)\n",
    "- [Hacker News](https://news.ycombinator.com)\n",
    "\n",
    "\n",
    "**Podcasts**\n",
    "\n",
    "- [Talking Machines](http://www.thetalkingmachines.com)\n",
    "- [Partially Derivative](http://partiallyderivative.com)\n",
    "- [O'Reilly Data Show](https://www.oreilly.com/topics/data)"
   ]
  },
  {
   "cell_type": "markdown",
   "metadata": {
    "slideshow": {
     "slide_type": "slide"
    }
   },
   "source": [
    "## Exercise: Spend the next 15 minutes browsing these resources and finding some that you'd like to get involved with"
   ]
  },
  {
   "cell_type": "markdown",
   "metadata": {
    "slideshow": {
     "slide_type": "slide"
    }
   },
   "source": [
    "## Conclusion\n",
    "\n",
    "\n",
    "- To get value, provide value\n",
    "- Be interested before interesting\n",
    "- Always be involved\n",
    "- Alway be learning"
   ]
  }
 ],
 "metadata": {
  "celltoolbar": "Slideshow",
  "kernelspec": {
   "display_name": "Python 2",
   "language": "python",
   "name": "python2"
  },
  "language_info": {
   "codemirror_mode": {
    "name": "ipython",
    "version": 2
   },
   "file_extension": ".py",
   "mimetype": "text/x-python",
   "name": "python",
   "nbconvert_exporter": "python",
   "pygments_lexer": "ipython2",
   "version": "2.7.12"
  }
 },
 "nbformat": 4,
 "nbformat_minor": 0
}
