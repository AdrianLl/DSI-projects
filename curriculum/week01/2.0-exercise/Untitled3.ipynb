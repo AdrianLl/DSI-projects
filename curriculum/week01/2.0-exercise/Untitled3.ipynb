{
 "cells": [
  {
   "cell_type": "code",
   "execution_count": 1,
   "metadata": {
    "collapsed": true
   },
   "outputs": [],
   "source": [
    "def reverse_list_plus(blob):\n",
    "    new_blob = blob[::-1]\n",
    "    for x in new_blob:\n",
    "        x = \"DSI RULES\" + str(x)\n",
    "        print x\n",
    "    return"
   ]
  },
  {
   "cell_type": "code",
   "execution_count": 2,
   "metadata": {
    "collapsed": true
   },
   "outputs": [],
   "source": [
    "y = [\"hello\", 1]"
   ]
  },
  {
   "cell_type": "code",
   "execution_count": 3,
   "metadata": {
    "collapsed": false
   },
   "outputs": [
    {
     "name": "stdout",
     "output_type": "stream",
     "text": [
      "DSI RULES1\n",
      "None\n"
     ]
    }
   ],
   "source": [
    "print reverse_list_plus([1])"
   ]
  },
  {
   "cell_type": "code",
   "execution_count": 4,
   "metadata": {
    "collapsed": false
   },
   "outputs": [
    {
     "ename": "NameError",
     "evalue": "name 'randrange' is not defined",
     "output_type": "error",
     "traceback": [
      "\u001b[0;31m---------------------------------------------------------------------------\u001b[0m",
      "\u001b[0;31mNameError\u001b[0m                                 Traceback (most recent call last)",
      "\u001b[0;32m<ipython-input-4-278550d9a473>\u001b[0m in \u001b[0;36m<module>\u001b[0;34m()\u001b[0m\n\u001b[0;32m----> 1\u001b[0;31m \u001b[0mrandrange\u001b[0m\u001b[0;34m(\u001b[0m\u001b[0;36m0\u001b[0m\u001b[0;34m,\u001b[0m\u001b[0;36m100\u001b[0m\u001b[0;34m)\u001b[0m\u001b[0;34m\u001b[0m\u001b[0m\n\u001b[0m",
      "\u001b[0;31mNameError\u001b[0m: name 'randrange' is not defined"
     ]
    }
   ],
   "source": [
    "randrange(0,100)"
   ]
  },
  {
   "cell_type": "code",
   "execution_count": 5,
   "metadata": {
    "collapsed": true
   },
   "outputs": [],
   "source": [
    "import random"
   ]
  },
  {
   "cell_type": "code",
   "execution_count": 6,
   "metadata": {
    "collapsed": false
   },
   "outputs": [
    {
     "ename": "NameError",
     "evalue": "name 'randrange' is not defined",
     "output_type": "error",
     "traceback": [
      "\u001b[0;31m---------------------------------------------------------------------------\u001b[0m",
      "\u001b[0;31mNameError\u001b[0m                                 Traceback (most recent call last)",
      "\u001b[0;32m<ipython-input-6-278550d9a473>\u001b[0m in \u001b[0;36m<module>\u001b[0;34m()\u001b[0m\n\u001b[0;32m----> 1\u001b[0;31m \u001b[0mrandrange\u001b[0m\u001b[0;34m(\u001b[0m\u001b[0;36m0\u001b[0m\u001b[0;34m,\u001b[0m\u001b[0;36m100\u001b[0m\u001b[0;34m)\u001b[0m\u001b[0;34m\u001b[0m\u001b[0m\n\u001b[0m",
      "\u001b[0;31mNameError\u001b[0m: name 'randrange' is not defined"
     ]
    }
   ],
   "source": [
    "randrange(0,100)"
   ]
  },
  {
   "cell_type": "code",
   "execution_count": 7,
   "metadata": {
    "collapsed": false
   },
   "outputs": [
    {
     "data": {
      "text/plain": [
       "134"
      ]
     },
     "execution_count": 7,
     "metadata": {},
     "output_type": "execute_result"
    }
   ],
   "source": [
    "random.randrange(100, 1000, 2)"
   ]
  },
  {
   "cell_type": "code",
   "execution_count": 8,
   "metadata": {
    "collapsed": false
   },
   "outputs": [
    {
     "data": {
      "text/plain": [
       "92"
      ]
     },
     "execution_count": 8,
     "metadata": {},
     "output_type": "execute_result"
    }
   ],
   "source": [
    "random.randrange(0,100,1)"
   ]
  },
  {
   "cell_type": "code",
   "execution_count": 9,
   "metadata": {
    "collapsed": false
   },
   "outputs": [
    {
     "ename": "NameError",
     "evalue": "name 'raw' is not defined",
     "output_type": "error",
     "traceback": [
      "\u001b[0;31m---------------------------------------------------------------------------\u001b[0m",
      "\u001b[0;31mNameError\u001b[0m                                 Traceback (most recent call last)",
      "\u001b[0;32m<ipython-input-9-5dc74779a22e>\u001b[0m in \u001b[0;36m<module>\u001b[0;34m()\u001b[0m\n\u001b[0;32m----> 1\u001b[0;31m \u001b[0mguess\u001b[0m \u001b[0;34m=\u001b[0m \u001b[0mraw\u001b[0m\u001b[0;34m.\u001b[0m\u001b[0minput\u001b[0m\u001b[0;34m(\u001b[0m\u001b[0;34m\"Guess a number between 0 and 100: \"\u001b[0m\u001b[0;34m)\u001b[0m\u001b[0;34m\u001b[0m\u001b[0m\n\u001b[0m",
      "\u001b[0;31mNameError\u001b[0m: name 'raw' is not defined"
     ]
    }
   ],
   "source": [
    "guess = raw.input(\"Guess a number between 0 and 100: \")"
   ]
  },
  {
   "cell_type": "code",
   "execution_count": 10,
   "metadata": {
    "collapsed": false
   },
   "outputs": [
    {
     "name": "stdout",
     "output_type": "stream",
     "text": [
      "Guess a number between 0 and 100: 98\n"
     ]
    }
   ],
   "source": [
    "guess = raw_input(\"Guess a number between 0 and 100: \")"
   ]
  },
  {
   "cell_type": "code",
   "execution_count": 11,
   "metadata": {
    "collapsed": false
   },
   "outputs": [
    {
     "ename": "NameError",
     "evalue": "name 'randint' is not defined",
     "output_type": "error",
     "traceback": [
      "\u001b[0;31m---------------------------------------------------------------------------\u001b[0m",
      "\u001b[0;31mNameError\u001b[0m                                 Traceback (most recent call last)",
      "\u001b[0;32m<ipython-input-11-7316baae6c3d>\u001b[0m in \u001b[0;36m<module>\u001b[0;34m()\u001b[0m\n\u001b[1;32m      1\u001b[0m \u001b[0;32mimport\u001b[0m \u001b[0mrandom\u001b[0m\u001b[0;34m\u001b[0m\u001b[0m\n\u001b[0;32m----> 2\u001b[0;31m \u001b[0mrandom_number\u001b[0m \u001b[0;34m=\u001b[0m \u001b[0mrandint\u001b[0m\u001b[0;34m(\u001b[0m\u001b[0;36m1\u001b[0m\u001b[0;34m,\u001b[0m \u001b[0;36m10\u001b[0m\u001b[0;34m)\u001b[0m\u001b[0;34m\u001b[0m\u001b[0m\n\u001b[0m\u001b[1;32m      3\u001b[0m \u001b[0;34m\u001b[0m\u001b[0m\n\u001b[1;32m      4\u001b[0m \u001b[0;32mprint\u001b[0m \u001b[0;34m\"Are you excited?  It's time to play guess that number!\"\u001b[0m\u001b[0;34m\u001b[0m\u001b[0m\n\u001b[1;32m      5\u001b[0m \u001b[0;34m\u001b[0m\u001b[0m\n",
      "\u001b[0;31mNameError\u001b[0m: name 'randint' is not defined"
     ]
    }
   ],
   "source": [
    "import random\n",
    "random_number = randint(1, 10)\n",
    "\n",
    "print \"Are you excited?  It's time to play guess that number!\"\n",
    "\n",
    "def play_guess_that_number(random_number):\n",
    "    n = 100\n",
    "    \n",
    "    user_input = int(raw_input(\"Pick a number between 1-10:  \"))\n",
    "    print \"You entered:  \", user_input\n",
    "    \n",
    "    while n > 0:\n",
    "    ## Make sure guess is within range; if not, request new guess\n",
    "        if user_input < 0 or user_input > 10:\n",
    "            user_input = raw_input(\"Your guess must be between 0 and 10!  Guess again: \")\n",
    "            n -= 1\n",
    "            \n",
    "        elif random_number == user_input:\n",
    "            print \"You're the winner!\"\n",
    "            break\n",
    "\n",
    "        elif user_input > random_number:\n",
    "            print \"Too high!\"\n",
    "            n -= 1\n",
    "    \n",
    "        else:\n",
    "            print \"Too low!\"\n",
    "            n -= 1\n",
    "\n",
    "    return "
   ]
  },
  {
   "cell_type": "code",
   "execution_count": 12,
   "metadata": {
    "collapsed": false
   },
   "outputs": [
    {
     "name": "stdout",
     "output_type": "stream",
     "text": [
      "Are you excited?  It's time to play guess that number!\n"
     ]
    }
   ],
   "source": [
    "from random import randint\n",
    "random_number = randint(1, 10)\n",
    "\n",
    "print \"Are you excited?  It's time to play guess that number!\"\n",
    "\n",
    "def play_guess_that_number(random_number):\n",
    "    n = 100\n",
    "    \n",
    "    user_input = int(raw_input(\"Pick a number between 1-10:  \"))\n",
    "    print \"You entered:  \", user_input\n",
    "    \n",
    "    while n > 0:\n",
    "    ## Make sure guess is within range; if not, request new guess\n",
    "        if user_input < 0 or user_input > 10:\n",
    "            user_input = raw_input(\"Your guess must be between 0 and 10!  Guess again: \")\n",
    "            n -= 1\n",
    "            \n",
    "        elif random_number == user_input:\n",
    "            print \"You're the winner!\"\n",
    "            break\n",
    "\n",
    "        elif user_input > random_number:\n",
    "            print \"Too high!\"\n",
    "            n -= 1\n",
    "    \n",
    "        else:\n",
    "            print \"Too low!\"\n",
    "            n -= 1\n",
    "\n",
    "    return "
   ]
  },
  {
   "cell_type": "code",
   "execution_count": 13,
   "metadata": {
    "collapsed": false
   },
   "outputs": [
    {
     "name": "stdout",
     "output_type": "stream",
     "text": [
      "Pick a number between 1-10:  3\n",
      "You entered:   3\n",
      "Too low!\n",
      "Too low!\n",
      "Too low!\n",
      "Too low!\n",
      "Too low!\n",
      "Too low!\n",
      "Too low!\n",
      "Too low!\n",
      "Too low!\n",
      "Too low!\n",
      "Too low!\n",
      "Too low!\n",
      "Too low!\n",
      "Too low!\n",
      "Too low!\n",
      "Too low!\n",
      "Too low!\n",
      "Too low!\n",
      "Too low!\n",
      "Too low!\n",
      "Too low!\n",
      "Too low!\n",
      "Too low!\n",
      "Too low!\n",
      "Too low!\n",
      "Too low!\n",
      "Too low!\n",
      "Too low!\n",
      "Too low!\n",
      "Too low!\n",
      "Too low!\n",
      "Too low!\n",
      "Too low!\n",
      "Too low!\n",
      "Too low!\n",
      "Too low!\n",
      "Too low!\n",
      "Too low!\n",
      "Too low!\n",
      "Too low!\n",
      "Too low!\n",
      "Too low!\n",
      "Too low!\n",
      "Too low!\n",
      "Too low!\n",
      "Too low!\n",
      "Too low!\n",
      "Too low!\n",
      "Too low!\n",
      "Too low!\n",
      "Too low!\n",
      "Too low!\n",
      "Too low!\n",
      "Too low!\n",
      "Too low!\n",
      "Too low!\n",
      "Too low!\n",
      "Too low!\n",
      "Too low!\n",
      "Too low!\n",
      "Too low!\n",
      "Too low!\n",
      "Too low!\n",
      "Too low!\n",
      "Too low!\n",
      "Too low!\n",
      "Too low!\n",
      "Too low!\n",
      "Too low!\n",
      "Too low!\n",
      "Too low!\n",
      "Too low!\n",
      "Too low!\n",
      "Too low!\n",
      "Too low!\n",
      "Too low!\n",
      "Too low!\n",
      "Too low!\n",
      "Too low!\n",
      "Too low!\n",
      "Too low!\n",
      "Too low!\n",
      "Too low!\n",
      "Too low!\n",
      "Too low!\n",
      "Too low!\n",
      "Too low!\n",
      "Too low!\n",
      "Too low!\n",
      "Too low!\n",
      "Too low!\n",
      "Too low!\n",
      "Too low!\n",
      "Too low!\n",
      "Too low!\n",
      "Too low!\n",
      "Too low!\n",
      "Too low!\n",
      "Too low!\n",
      "Too low!\n"
     ]
    }
   ],
   "source": [
    "play_guess_that_number(random_number)"
   ]
  },
  {
   "cell_type": "code",
   "execution_count": 15,
   "metadata": {
    "collapsed": false
   },
   "outputs": [
    {
     "name": "stdout",
     "output_type": "stream",
     "text": [
      "Are you excited?  It's time to play guess that number!\n"
     ]
    }
   ],
   "source": [
    "from random import randint\n",
    "random_number = randint(1, 10)\n",
    "\n",
    "print \"Are you excited?  It's time to play guess that number!\"\n",
    "\n",
    "def play_guess_that_number(random_number):\n",
    "    n = 100\n",
    "\n",
    "    while n > 0:\n",
    "        user_input = int(raw_input(\"Pick a number between 1-10:  \"))\n",
    "        print \"You entered:  \", user_input\n",
    "\n",
    "    ## Make sure guess is within range; if not, request new guess\n",
    "        if user_input < 0 or user_input > 10:\n",
    "            user_input = raw_input(\"Your guess must be between 0 and 10!  Guess again: \")\n",
    "            n -= 1\n",
    "            \n",
    "        elif random_number == user_input:\n",
    "            print \"You're the winner!\"\n",
    "            break\n",
    "\n",
    "        elif user_input > random_number:\n",
    "            print \"Too high!\"\n",
    "            n -= 1\n",
    "    \n",
    "        else:\n",
    "            print \"Too low!\"\n",
    "            n -= 1\n",
    "\n",
    "    return "
   ]
  },
  {
   "cell_type": "code",
   "execution_count": 16,
   "metadata": {
    "collapsed": false
   },
   "outputs": [
    {
     "ename": "NameError",
     "evalue": "name 'guess_that_number' is not defined",
     "output_type": "error",
     "traceback": [
      "\u001b[0;31m---------------------------------------------------------------------------\u001b[0m",
      "\u001b[0;31mNameError\u001b[0m                                 Traceback (most recent call last)",
      "\u001b[0;32m<ipython-input-16-a43a39490b94>\u001b[0m in \u001b[0;36m<module>\u001b[0;34m()\u001b[0m\n\u001b[0;32m----> 1\u001b[0;31m \u001b[0mguess_that_number\u001b[0m\u001b[0;34m(\u001b[0m\u001b[0mrandom_number\u001b[0m\u001b[0;34m)\u001b[0m\u001b[0;34m\u001b[0m\u001b[0m\n\u001b[0m",
      "\u001b[0;31mNameError\u001b[0m: name 'guess_that_number' is not defined"
     ]
    }
   ],
   "source": [
    "guess_that_number(random_number)"
   ]
  },
  {
   "cell_type": "code",
   "execution_count": 17,
   "metadata": {
    "collapsed": false
   },
   "outputs": [
    {
     "name": "stdout",
     "output_type": "stream",
     "text": [
      "Pick a number between 1-10:  1\n",
      "You entered:   1\n",
      "Too low!\n",
      "Pick a number between 1-10:  2\n",
      "You entered:   2\n",
      "Too low!\n",
      "Pick a number between 1-10:  3\n",
      "You entered:   3\n",
      "Too low!\n",
      "Pick a number between 1-10:  6\n",
      "You entered:   6\n",
      "Too high!\n",
      "Pick a number between 1-10:  11\n",
      "You entered:   11\n",
      "Your guess must be between 0 and 10!  Guess again: 0\n",
      "Pick a number between 1-10:  5\n",
      "You entered:   5\n",
      "You're the winner!\n"
     ]
    }
   ],
   "source": [
    "play_guess_that_number(random_number)"
   ]
  },
  {
   "cell_type": "code",
   "execution_count": 26,
   "metadata": {
    "collapsed": false
   },
   "outputs": [
    {
     "name": "stdout",
     "output_type": "stream",
     "text": [
      "hello from some other number\n",
      "hello from number 2!\n",
      "hello from some other number\n",
      "hello from some other number\n"
     ]
    }
   ],
   "source": [
    "x = [1, 2, 3, 4]\n",
    "\n",
    "for i in x:\n",
    "    if i == 2:\n",
    "        print \"hello from number 2!\"\n",
    "    else: \n",
    "        print \"hello from some other number\"\n",
    "\n"
   ]
  },
  {
   "cell_type": "code",
   "execution_count": 41,
   "metadata": {
    "collapsed": false
   },
   "outputs": [
    {
     "name": "stdout",
     "output_type": "stream",
     "text": [
      "one\n",
      "two\n",
      "three\n"
     ]
    }
   ],
   "source": [
    "tuple_of_tuples = (('one', 1), ('two', 2), ('three', 3))\n",
    "\n",
    "for i in tuple_of_tuples:\n",
    "    print i[0]\n",
    "    \n"
   ]
  },
  {
   "cell_type": "code",
   "execution_count": 43,
   "metadata": {
    "collapsed": false
   },
   "outputs": [
    {
     "name": "stdout",
     "output_type": "stream",
     "text": [
      "one\n",
      "two\n",
      "three\n"
     ]
    }
   ],
   "source": [
    "for s,t in tuple_of_tuples:\n",
    "    print s"
   ]
  },
  {
   "cell_type": "code",
   "execution_count": 44,
   "metadata": {
    "collapsed": false
   },
   "outputs": [
    {
     "name": "stdout",
     "output_type": "stream",
     "text": [
      "100\n",
      "90\n",
      "80\n",
      "70\n",
      "60\n",
      "50\n",
      "40\n",
      "30\n",
      "20\n",
      "10\n",
      "0\n"
     ]
    }
   ],
   "source": [
    "n = 100\n",
    "while n >= 0:\n",
    "    if n % 10 == 0:\n",
    "        print n\n",
    "    n += -1"
   ]
  },
  {
   "cell_type": "code",
   "execution_count": 45,
   "metadata": {
    "collapsed": false
   },
   "outputs": [
    {
     "name": "stdout",
     "output_type": "stream",
     "text": [
      "Are you excited?  It's time to play guess that number *ENHANCED EDITION*!\n"
     ]
    }
   ],
   "source": [
    "from random import randint\n",
    "random_number = randint(1, 10)\n",
    "\n",
    "print \"Are you excited?  It's time to play guess that number *ENHANCED EDITION*!\"\n",
    "\n",
    "chances_taken = 0\n",
    "chances_remaining = 5 - chances_taken\n",
    "\n",
    "def play_guess_that_number(random_number, chances_remaining, chances_taken):\n",
    "    \n",
    "    while chances_taken < 5:\n",
    "        user_input = int(raw_input(\"Pick a number between 1-10:  \"))\n",
    "        print \"You entered:  \", user_input\n",
    "\n",
    "        if random_number == user_input:\n",
    "            print \"You're the winner!\"\n",
    "            break\n",
    "\n",
    "        elif user_input > random_number:\n",
    "            print \"Too high!\"\n",
    "            chances_taken += 1\n",
    "    \n",
    "        else:\n",
    "            print \"Too low!\"\n",
    "            chances_taken += 1\n",
    "\n",
    "    return "
   ]
  },
  {
   "cell_type": "code",
   "execution_count": 46,
   "metadata": {
    "collapsed": false
   },
   "outputs": [
    {
     "name": "stdout",
     "output_type": "stream",
     "text": [
      "Pick a number between 1-10:  1\n",
      "You entered:   1\n",
      "Too low!\n",
      "Pick a number between 1-10:  1\n",
      "You entered:   1\n",
      "Too low!\n",
      "Pick a number between 1-10:  1\n",
      "You entered:   1\n",
      "Too low!\n",
      "Pick a number between 1-10:  1\n",
      "You entered:   1\n",
      "Too low!\n",
      "Pick a number between 1-10:  1\n",
      "You entered:   1\n",
      "Too low!\n"
     ]
    }
   ],
   "source": [
    "play_guess_that_number(random_number, chances_remaining, chances_taken)"
   ]
  },
  {
   "cell_type": "code",
   "execution_count": 47,
   "metadata": {
    "collapsed": false
   },
   "outputs": [
    {
     "name": "stdout",
     "output_type": "stream",
     "text": [
      "Pick a number between 1-10:  2\n",
      "You entered:   2\n",
      "Too low!\n",
      "Pick a number between 1-10:  3\n",
      "You entered:   3\n",
      "Too low!\n",
      "Pick a number between 1-10:  4\n",
      "You entered:   4\n",
      "Too low!\n",
      "Pick a number between 1-10:  5\n",
      "You entered:   5\n",
      "Too low!\n",
      "Pick a number between 1-10:  6\n",
      "You entered:   6\n",
      "Too low!\n"
     ]
    }
   ],
   "source": [
    "play_guess_that_number(random_number, chances_remaining, chances_taken)"
   ]
  },
  {
   "cell_type": "code",
   "execution_count": 48,
   "metadata": {
    "collapsed": true
   },
   "outputs": [],
   "source": [
    "# Dictionary of movies\n",
    "\n",
    "movies = [\n",
    "{\n",
    "\"name\": \"Usual Suspects\", \n",
    "\"imdb\": 7.0,\n",
    "\"category\": \"Thriller\"\n",
    "},\n",
    "{\n",
    "\"name\": \"Hitman\",\n",
    "\"imdb\": 6.3,\n",
    "\"category\": \"Action\"\n",
    "},\n",
    "{\n",
    "\"name\": \"Dark Knight\",\n",
    "\"imdb\": 9.0,\n",
    "\"category\": \"Adventure\"\n",
    "},\n",
    "{\n",
    "\"name\": \"The Help\",\n",
    "\"imdb\": 8.0,\n",
    "\"category\": \"Drama\"\n",
    "},\n",
    "{\n",
    "\"name\": \"The Choice\",\n",
    "\"imdb\": 6.2,\n",
    "\"category\": \"Romance\"\n",
    "},\n",
    "{\n",
    "\"name\": \"Colonia\",\n",
    "\"imdb\": 7.4,\n",
    "\"category\": \"Romance\"\n",
    "},\n",
    "{\n",
    "\"name\": \"Love\",\n",
    "\"imdb\": 6.0,\n",
    "\"category\": \"Romance\"\n",
    "},\n",
    "{\n",
    "\"name\": \"Bride Wars\",\n",
    "\"imdb\": 5.4,\n",
    "\"category\": \"Romance\"\n",
    "},\n",
    "{\n",
    "\"name\": \"AlphaJet\",\n",
    "\"imdb\": 3.2,\n",
    "\"category\": \"War\"\n",
    "},\n",
    "{\n",
    "\"name\": \"Ringing Crime\",\n",
    "\"imdb\": 4.0,\n",
    "\"category\": \"Crime\"\n",
    "},\n",
    "{\n",
    "\"name\": \"Joking muck\",\n",
    "\"imdb\": 7.2,\n",
    "\"category\": \"Comedy\"\n",
    "},\n",
    "{\n",
    "\"name\": \"What is the name\",\n",
    "\"imdb\": 9.2,\n",
    "\"category\": \"Suspense\"\n",
    "},\n",
    "{\n",
    "\"name\": \"Detective\",\n",
    "\"imdb\": 7.0,\n",
    "\"category\": \"Suspense\"\n",
    "},\n",
    "{\n",
    "\"name\": \"Exam\",\n",
    "\"imdb\": 4.2,\n",
    "\"category\": \"Thriller\"\n",
    "},\n",
    "{\n",
    "\"name\": \"We Two\",\n",
    "\"imdb\": 7.2,\n",
    "\"category\": \"Romance\"\n",
    "}\n",
    "]"
   ]
  },
  {
   "cell_type": "code",
   "execution_count": 99,
   "metadata": {
    "collapsed": false
   },
   "outputs": [
    {
     "name": "stdout",
     "output_type": "stream",
     "text": [
      "False\n"
     ]
    }
   ],
   "source": [
    "# Write a function that takes a single movie and \n",
    "# returns True if its IMDB score is above 5.5\n",
    "\n",
    "def score_55(title):\n",
    "    for movie in movies:\n",
    "        if title == movie[\"name\"]:\n",
    "            return movie[\"imdb\"] > 5.5\n",
    "\n",
    "        \n",
    "print score_55(\"Exam\")"
   ]
  },
  {
   "cell_type": "code",
   "execution_count": 61,
   "metadata": {
    "collapsed": false
   },
   "outputs": [],
   "source": [
    "# Write a function that returns a sublist of movies \n",
    "# with an IMDB score above 5.5. \n",
    "\n",
    "def sublist_55(movies):\n",
    "    good_movies = []\n",
    "    for movie in movies:\n",
    "        if movie[\"imdb\"] > 5.5:\n",
    "            good_movies.append(movie[\"name\"])\n",
    "    return good_movies"
   ]
  },
  {
   "cell_type": "code",
   "execution_count": 65,
   "metadata": {
    "collapsed": false
   },
   "outputs": [],
   "source": [
    "# Write a function that takes a category name and returns \n",
    "# just those movies under that category.\n",
    "\n",
    "def same_category(category_name):\n",
    "    category_movies = []\n",
    "    for movie in movies:\n",
    "        if movie[\"category\"] == category_name:\n",
    "            category_movies.append(movie[\"name\"])\n",
    "    return category_movies"
   ]
  },
  {
   "cell_type": "markdown",
   "metadata": {},
   "source": [
    "print same_category(\"Crime\")"
   ]
  },
  {
   "cell_type": "code",
   "execution_count": 68,
   "metadata": {
    "collapsed": false
   },
   "outputs": [],
   "source": [
    "# Write a function that takes a list of movies and computes \n",
    "# the average IMDB score.\n",
    "\n",
    "def imdb_avg(movie_list):\n",
    "    total = 0\n",
    "    number = len(movie_list)\n",
    "    for movie in movies:\n",
    "        total += movie[\"imdb\"]\n",
    "        avg = total / number\n",
    "    return avg"
   ]
  },
  {
   "cell_type": "code",
   "execution_count": 90,
   "metadata": {
    "collapsed": false
   },
   "outputs": [],
   "source": [
    "# Write a function that takes a category and computes \n",
    "# the average IMDB score (HINT: reuse the function \n",
    "# from question 2.)\n",
    "\n",
    "def category_avg(category_name):\n",
    "    total = 0\n",
    "    category_list = []\n",
    "    for movie in movies:\n",
    "        if movie[\"category\"] == category_name:\n",
    "            category_list.append(movie)\n",
    "            total += movie[\"imdb\"]\n",
    "    number = len(category_list)        \n",
    "    avg = total / number\n",
    "    return avg"
   ]
  },
  {
   "cell_type": "code",
   "execution_count": 91,
   "metadata": {
    "collapsed": false
   },
   "outputs": [
    {
     "data": {
      "text/plain": [
       "8.1"
      ]
     },
     "execution_count": 91,
     "metadata": {},
     "output_type": "execute_result"
    }
   ],
   "source": [
    "category_avg(\"Suspense\")"
   ]
  },
  {
   "cell_type": "code",
   "execution_count": 88,
   "metadata": {
    "collapsed": false
   },
   "outputs": [
    {
     "data": {
      "text/plain": [
       "['Ringing Crime']"
      ]
     },
     "execution_count": 88,
     "metadata": {},
     "output_type": "execute_result"
    }
   ],
   "source": [
    "same_category(\"Crime\")"
   ]
  },
  {
   "cell_type": "code",
   "execution_count": 89,
   "metadata": {
    "collapsed": false
   },
   "outputs": [
    {
     "data": {
      "text/plain": [
       "['Usual Suspects', 'Exam']"
      ]
     },
     "execution_count": 89,
     "metadata": {},
     "output_type": "execute_result"
    }
   ],
   "source": [
    "same_category(\"Thriller\")"
   ]
  },
  {
   "cell_type": "code",
   "execution_count": null,
   "metadata": {
    "collapsed": false
   },
   "outputs": [],
   "source": [
    "## This game allows user five chances to guess a randomly-generated integer from 0-10.\n",
    "\n",
    "from random import randint\n",
    "random_number = randint(1, 10)\n",
    "\n",
    "print \"Are you excited?  It's time to play guess that number *ENHANCED EDITION*!\"\n",
    "\n",
    "chances_taken = 0\n",
    "chances_remaining = 5 - chances_taken\n",
    "\n",
    "def play_guess_that_number(random_number, chances_remaining, chances_taken):\n",
    "    \n",
    "    while chances_taken < 5:\n",
    "        user_input = int(raw_input(\"Pick a number between 1-10:  \"))\n",
    "        print \"You entered:  \", user_input\n",
    "\n",
    "        if random_number == user_input:\n",
    "            print \"You're the winner!\"\n",
    "            break\n",
    "\n",
    "        elif user_input > random_number:\n",
    "            print \"Too high!\"\n",
    "            chances_taken += 1\n",
    "            print \"You have %s guesses left!\" %chances_remaining\n",
    "    \n",
    "        else:\n",
    "            print \"Too low!\"\n",
    "            chances_taken += 1\n",
    "            print \"You have %s guesses left!\" %chances_remaining\n",
    "    \n",
    "    print \"Sorry, you're out of guesses!\"\n",
    "    \n",
    "    return "
   ]
  },
  {
   "cell_type": "code",
   "execution_count": null,
   "metadata": {
    "collapsed": true
   },
   "outputs": [],
   "source": [
    "play_guess_that_number(random_number, chances_remaining, chances_taken)"
   ]
  },
  {
   "cell_type": "code",
   "execution_count": null,
   "metadata": {
    "collapsed": true
   },
   "outputs": [],
   "source": [
    "random_number = randint(1, 10)\n",
    "\n",
    "print \"Are you excited?  It's time to play guess that number *ENHANCED EDITION*!\"\n",
    "\n",
    "chances_taken = 0\n",
    "chances_remaining = 5 - chances_taken\n",
    "\n",
    "def play_guess_that_number(random_number, chances_remaining, chances_taken):\n",
    "    \n",
    "    while chances_taken < 5:\n",
    "        user_input = int(raw_input(\"Pick a number between 1-10:  \"))\n",
    "        print \"You entered:  \", user_input\n",
    "\n",
    "        if random_number == user_input:\n",
    "            print \"You're the winner!\"\n",
    "            break\n",
    "\n",
    "        elif user_input > random_number:\n",
    "            print \"Too high!\"\n",
    "            chances_taken += 1\n",
    "            print \"You have %s guesses left!\" %chances_remaining\n",
    "    \n",
    "        else:\n",
    "            print \"Too low!\"\n",
    "            chances_taken += 1\n",
    "            print \"You have %s guesses left!\" %chances_remaining\n",
    "    \n",
    "    print \"Sorry, you're out of guesses!\"\n",
    "    \n",
    "    return "
   ]
  },
  {
   "cell_type": "code",
   "execution_count": null,
   "metadata": {
    "collapsed": true
   },
   "outputs": [],
   "source": [
    "print hi"
   ]
  },
  {
   "cell_type": "code",
   "execution_count": null,
   "metadata": {
    "collapsed": true
   },
   "outputs": [],
   "source": [
    "print(hi)"
   ]
  },
  {
   "cell_type": "code",
   "execution_count": null,
   "metadata": {
    "collapsed": true
   },
   "outputs": [],
   "source": []
  }
 ],
 "metadata": {
  "kernelspec": {
   "display_name": "Python 2",
   "language": "python",
   "name": "python2"
  },
  "language_info": {
   "codemirror_mode": {
    "name": "ipython",
    "version": 2
   },
   "file_extension": ".py",
   "mimetype": "text/x-python",
   "name": "python",
   "nbconvert_exporter": "python",
   "pygments_lexer": "ipython2",
   "version": "2.7.11"
  }
 },
 "nbformat": 4,
 "nbformat_minor": 0
}
