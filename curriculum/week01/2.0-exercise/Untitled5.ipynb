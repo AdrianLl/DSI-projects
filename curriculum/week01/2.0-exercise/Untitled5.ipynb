{
 "cells": [
  {
   "cell_type": "code",
   "execution_count": 7,
   "metadata": {
    "collapsed": false
   },
   "outputs": [
    {
     "name": "stdout",
     "output_type": "stream",
     "text": [
      "Are you excited?  It's time to play guess that number *ENHANCED EDITION*!\n"
     ]
    }
   ],
   "source": [
    "##  This game gives a user five chances to guess a randomly-generated integer from 0-10.\n",
    "\n",
    "from random import randint\n",
    "random_number = randint(1, 10)\n",
    "\n",
    "print \"Are you excited?  It's time to play guess that number *ENHANCED EDITION*!\"\n",
    "\n",
    "chances_taken = 0\n",
    "chances_remaining = 5 - chances_taken\n",
    "\n",
    "def play_guess_that_number(random_number, chances_remaining, chances_taken):\n",
    "    '''This function takes three arguments; the randomly-generated integer generated outside the function, the number of guesses made and the number of guesses remaining.'''\n",
    "    while chances_taken < 5:\n",
    "        user_input = int(raw_input(\"Pick a number between 1-10:  \"))\n",
    "        print \"You entered:  \", user_input\n",
    "\n",
    "        if random_number == user_input:\n",
    "            print \"You're the winner!\"\n",
    "            break\n",
    "\n",
    "        elif user_input > random_number:\n",
    "            print \"Too high!\"\n",
    "            chances_taken += 1\n",
    "            chances_remaining -= 1\n",
    "            print \"You have %s guesses left!\" %chances_remaining\n",
    "    \n",
    "        else:\n",
    "            print \"Too low!\"\n",
    "            chances_taken += 1\n",
    "            chances_remaining -= 1\n",
    "            print \"You have %s guesses left!\" %chances_remaining\n",
    "    \n",
    "    if chances_remaining == 0 and user_input != random_number:\n",
    "        print \"Sorry, you're out of guesses!\"\n",
    "    \n",
    "    return "
   ]
  },
  {
   "cell_type": "code",
   "execution_count": 8,
   "metadata": {
    "collapsed": false
   },
   "outputs": [
    {
     "name": "stdout",
     "output_type": "stream",
     "text": [
      "Pick a number between 1-10:  1\n",
      "You entered:   1\n",
      "Too low!\n",
      "You have 4 guesses left!\n",
      "Pick a number between 1-10:  2\n",
      "You entered:   2\n",
      "Too low!\n",
      "You have 3 guesses left!\n",
      "Pick a number between 1-10:  2\n",
      "You entered:   2\n",
      "Too low!\n",
      "You have 2 guesses left!\n",
      "Pick a number between 1-10:  2\n",
      "You entered:   2\n",
      "Too low!\n",
      "You have 1 guesses left!\n",
      "Pick a number between 1-10:  2\n",
      "You entered:   2\n",
      "Too low!\n",
      "You have 0 guesses left!\n",
      "Sorry, you're out of guesses!\n"
     ]
    }
   ],
   "source": [
    "play_guess_that_number(random_number, chances_remaining, chances_taken)"
   ]
  },
  {
   "cell_type": "code",
   "execution_count": null,
   "metadata": {
    "collapsed": true
   },
   "outputs": [],
   "source": []
  }
 ],
 "metadata": {
  "kernelspec": {
   "display_name": "Python 2",
   "language": "python",
   "name": "python2"
  },
  "language_info": {
   "codemirror_mode": {
    "name": "ipython",
    "version": 2
   },
   "file_extension": ".py",
   "mimetype": "text/x-python",
   "name": "python",
   "nbconvert_exporter": "python",
   "pygments_lexer": "ipython2",
   "version": "2.7.11"
  }
 },
 "nbformat": 4,
 "nbformat_minor": 0
}
