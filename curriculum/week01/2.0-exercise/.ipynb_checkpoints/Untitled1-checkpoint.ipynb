{
 "cells": [
  {
   "cell_type": "code",
   "execution_count": 1,
   "metadata": {
    "collapsed": true
   },
   "outputs": [],
   "source": [
    "#Define a function:\n",
    "#Accept 1 argument, which is a dictionary.\n",
    "#Print the dictionary.\n",
    "#Iterate through the key:value pairs of the dictionary.\n",
    "#For pairs where the key starts with a lowercase vowel, change the value to \"vowel\".\n",
    "#For pairs where the key starts with a lowercase consonant, change the value to \"consonant\".\n",
    "#Remove all other pairs from the dictionary.\n",
    "#Print the modified dictionary.\n",
    "#Return the modified dictionary."
   ]
  },
  {
   "cell_type": "code",
   "execution_count": 29,
   "metadata": {
    "collapsed": true
   },
   "outputs": [],
   "source": [
    "def dict_fix(dict):\n",
    "    print dict\n",
    "    mod_dict = {}\n",
    "    l_vowel = [\"a\", \"e\", \"i\", \"o\", \"u\"]\n",
    "    l_consonant = [\"b\", \"c\", \"d\", \"f\", \"g\", \"h\", \"j\", \"k\", \"l\", \"m\", \"n\", \"p\", \"q\", \"r\", \"s\", \"t\", \"v\", \"w\", \"x\", \"y\", \"z\"]\n",
    "    for key in dict:\n",
    "        if key[0] in l_vowel:\n",
    "            mod_dict.update({key:\"vowel\"})\n",
    "        elif key[0] in l_consonant:\n",
    "            mod_dict.update({key:\"consonant\"})\n",
    "        else:\n",
    "            continue\n",
    "    print mod_dict\n",
    "    return mod_dict"
   ]
  },
  {
   "cell_type": "code",
   "execution_count": 30,
   "metadata": {
    "collapsed": false
   },
   "outputs": [],
   "source": [
    "dict = {\n",
    "    \"hi\" : 9,\n",
    "    \"Hello\" : 9,\n",
    "    \"ello\" : 1\n",
    "}"
   ]
  },
  {
   "cell_type": "code",
   "execution_count": 31,
   "metadata": {
    "collapsed": false
   },
   "outputs": [
    {
     "name": "stdout",
     "output_type": "stream",
     "text": [
      "{'hi': 9, 'ello': 1, 'Hello': 9}\n",
      "{'hi': 'consonant', 'ello': 'vowel'}\n"
     ]
    }
   ],
   "source": [
    "print dict_fix(dict)"
   ]
  },
  {
   "cell_type": "code",
   "execution_count": 26,
   "metadata": {
    "collapsed": false
   },
   "outputs": [
    {
     "data": {
      "text/plain": [
       "'h'"
      ]
     },
     "execution_count": 26,
     "metadata": {},
     "output_type": "execute_result"
    }
   ],
   "source": []
  },
  {
   "cell_type": "code",
   "execution_count": 28,
   "metadata": {
    "collapsed": false
   },
   "outputs": [
    {
     "name": "stdout",
     "output_type": "stream",
     "text": [
      "hi\n",
      "ello\n",
      "Hello\n"
     ]
    }
   ],
   "source": []
  },
  {
   "cell_type": "code",
   "execution_count": null,
   "metadata": {
    "collapsed": true
   },
   "outputs": [],
   "source": []
  }
 ],
 "metadata": {
  "kernelspec": {
   "display_name": "Python 2",
   "language": "python",
   "name": "python2"
  },
  "language_info": {
   "codemirror_mode": {
    "name": "ipython",
    "version": 2
   },
   "file_extension": ".py",
   "mimetype": "text/x-python",
   "name": "python",
   "nbconvert_exporter": "python",
   "pygments_lexer": "ipython2",
   "version": "2.7.11"
  }
 },
 "nbformat": 4,
 "nbformat_minor": 0
}
