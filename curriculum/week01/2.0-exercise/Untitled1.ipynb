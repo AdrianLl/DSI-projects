{
 "cells": [
  {
   "cell_type": "code",
   "execution_count": 1,
   "metadata": {
    "collapsed": true
   },
   "outputs": [],
   "source": [
    "#Define a function:\n",
    "#Accept 1 argument, which is a dictionary.\n",
    "#Print the dictionary.\n",
    "#Iterate through the key:value pairs of the dictionary.\n",
    "#For pairs where the key starts with a lowercase vowel, change the value to \"vowel\".\n",
    "#For pairs where the key starts with a lowercase consonant, change the value to \"consonant\".\n",
    "#Remove all other pairs from the dictionary.\n",
    "#Print the modified dictionary.\n",
    "#Return the modified dictionary."
   ]
  },
  {
   "cell_type": "code",
   "execution_count": 35,
   "metadata": {
    "collapsed": true
   },
   "outputs": [],
   "source": [
    "def dict_fix(dict):\n",
    "    import string\n",
    "    print dict\n",
    "    mod_dict = {}\n",
    "    l_vowel = [\"a\", \"e\", \"i\", \"o\", \"u\"]\n",
    "    l_consonant = [\"b\", \"c\", \"d\", \"f\", \"g\", \"h\", \"j\", \"k\", \"l\", \"m\", \"n\", \"p\", \"q\", \"r\", \"s\", \"t\", \"v\", \"w\", \"x\", \"y\", \"z\"]\n",
    "    for key in dict:\n",
    "        if type(key) != str:\n",
    "            continue\n",
    "        else:\n",
    "            if key[0] in l_vowel:\n",
    "                mod_dict.update({key:\"vowel\"})\n",
    "            elif key[0] in l_consonant:\n",
    "                mod_dict.update({key:\"consonant\"})\n",
    "            else:\n",
    "                continue\n",
    "    print mod_dict\n",
    "    return mod_dict"
   ]
  },
  {
   "cell_type": "code",
   "execution_count": 30,
   "metadata": {
    "collapsed": false
   },
   "outputs": [],
   "source": [
    "dict = {\n",
    "    \"hi\" : 9,\n",
    "    \"Hello\" : 9,\n",
    "    \"ello\" : 1\n",
    "}"
   ]
  },
  {
   "cell_type": "code",
   "execution_count": 31,
   "metadata": {
    "collapsed": false
   },
   "outputs": [
    {
     "name": "stdout",
     "output_type": "stream",
     "text": [
      "{'hi': 9, 'ello': 1, 'Hello': 9}\n",
      "{'hi': 'consonant', 'ello': 'vowel'}\n"
     ]
    }
   ],
   "source": [
    "print dict_fix(dict)"
   ]
  },
  {
   "cell_type": "code",
   "execution_count": 36,
   "metadata": {
    "collapsed": false
   },
   "outputs": [],
   "source": [
    "input_dict = {'list':[1,2,3,4], 'tuple':('cat', 'dog'), 'integer':1, \n",
    "              'float':99.99, 1:'integer', 2:'integer_2', 'Uppercase_string':'ABCD',\n",
    "              'CHARACTER':'C'}"
   ]
  },
  {
   "cell_type": "code",
   "execution_count": 37,
   "metadata": {
    "collapsed": false
   },
   "outputs": [
    {
     "name": "stdout",
     "output_type": "stream",
     "text": [
      "{'Uppercase_string': 'ABCD', 1: 'integer', 2: 'integer_2', 'tuple': ('cat', 'dog'), 'integer': 1, 'CHARACTER': 'C', 'float': 99.99, 'list': [1, 2, 3, 4]}\n",
      "{'integer': 'vowel', 'float': 'consonant', 'list': 'consonant', 'tuple': 'consonant'}\n"
     ]
    },
    {
     "data": {
      "text/plain": [
       "{'float': 'consonant',\n",
       " 'integer': 'vowel',\n",
       " 'list': 'consonant',\n",
       " 'tuple': 'consonant'}"
      ]
     },
     "execution_count": 37,
     "metadata": {},
     "output_type": "execute_result"
    }
   ],
   "source": [
    "dict_fix(input_dict)"
   ]
  },
  {
   "cell_type": "code",
   "execution_count": 39,
   "metadata": {
    "collapsed": false
   },
   "outputs": [
    {
     "data": {
      "text/plain": [
       "'/Users/Rebecca/DSI-NYC-1/curriculum/week-01/2.0-exercise'"
      ]
     },
     "execution_count": 39,
     "metadata": {},
     "output_type": "execute_result"
    }
   ],
   "source": [
    "import os\n",
    "os.getcwd()"
   ]
  },
  {
   "cell_type": "code",
   "execution_count": 44,
   "metadata": {
    "collapsed": false
   },
   "outputs": [
    {
     "name": "stdout",
     "output_type": "stream",
     "text": [
      "State,Rate,Verbal,Math\n",
      "\n",
      "CT,82,509,510\n",
      "\n",
      "file closed\n"
     ]
    }
   ],
   "source": [
    "f = open('/Users/Rebecca/DSI-NYC-1/projects/01-projects-weekly/project-01/assets/sat_scores.csv', 'rU')\n",
    "print f.readline()\n",
    "print f.readline()\n",
    "sample_record = f.readline()\n",
    "f.close()\n",
    "print 'file closed'"
   ]
  },
  {
   "cell_type": "code",
   "execution_count": 45,
   "metadata": {
    "collapsed": false
   },
   "outputs": [
    {
     "data": {
      "text/plain": [
       "['this', 'is', 'a', 'silly', 'delimiter']"
      ]
     },
     "execution_count": 45,
     "metadata": {},
     "output_type": "execute_result"
    }
   ],
   "source": [
    "\"this:-8is:-8a:-8silly:-8delimiter\".split(\":-8\")"
   ]
  },
  {
   "cell_type": "code",
   "execution_count": 52,
   "metadata": {
    "collapsed": false
   },
   "outputs": [
    {
     "data": {
      "text/plain": [
       "['i', 'hope', 'youre', 'having', 'a', 'nice', 'day!', '']"
      ]
     },
     "execution_count": 52,
     "metadata": {},
     "output_type": "execute_result"
    }
   ],
   "source": [
    "\"i)-hope)-youre)-having)-a)-nice)-day!)-\".split(\")-\")"
   ]
  },
  {
   "cell_type": "code",
   "execution_count": null,
   "metadata": {
    "collapsed": true
   },
   "outputs": [],
   "source": []
  }
 ],
 "metadata": {
  "kernelspec": {
   "display_name": "Python 2",
   "language": "python",
   "name": "python2"
  },
  "language_info": {
   "codemirror_mode": {
    "name": "ipython",
    "version": 2
   },
   "file_extension": ".py",
   "mimetype": "text/x-python",
   "name": "python",
   "nbconvert_exporter": "python",
   "pygments_lexer": "ipython2",
   "version": "2.7.11"
  }
 },
 "nbformat": 4,
 "nbformat_minor": 0
}
