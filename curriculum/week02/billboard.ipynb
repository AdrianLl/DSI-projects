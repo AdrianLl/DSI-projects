{
 "cells": [
  {
   "cell_type": "code",
   "execution_count": 2,
   "metadata": {
    "collapsed": true
   },
   "outputs": [],
   "source": [
    "import numpy as np\n",
    "import pandas as pd\n",
    "import matplotlib.pyplot as plt\n",
    "%matplotlib inline"
   ]
  },
  {
   "cell_type": "code",
   "execution_count": 41,
   "metadata": {
    "collapsed": false
   },
   "outputs": [],
   "source": [
    "df = pd.read_csv('/Users/Rebecca/DSI-projects/week02/billboard.csv')"
   ]
  },
  {
   "cell_type": "code",
   "execution_count": 42,
   "metadata": {
    "collapsed": false
   },
   "outputs": [],
   "source": [
    "#df.head()"
   ]
  },
  {
   "cell_type": "code",
   "execution_count": 43,
   "metadata": {
    "collapsed": false
   },
   "outputs": [],
   "source": [
    "df['year'].describe()\n",
    "\n",
    "# Remove df['year'] column because all entries are 2000\n",
    "df.drop('year', axis=1, inplace = True)"
   ]
  },
  {
   "cell_type": "code",
   "execution_count": 44,
   "metadata": {
    "collapsed": false
   },
   "outputs": [
    {
     "name": "stdout",
     "output_type": "stream",
     "text": [
      "Number of unique artist names: 228\n",
      "Number of songs: 317\n"
     ]
    }
   ],
   "source": [
    "print \"Number of unique artist names: %s\" %len(df['artist.inverted'].unique())\n",
    "print \"Number of songs: %s\" %len(df)"
   ]
  },
  {
   "cell_type": "code",
   "execution_count": 45,
   "metadata": {
    "collapsed": false
   },
   "outputs": [],
   "source": [
    "df['date.entered'] = pd.to_datetime(df['date.entered'])\n",
    "df['date.peaked'] = pd.to_datetime(df['date.peaked'])"
   ]
  },
  {
   "cell_type": "code",
   "execution_count": null,
   "metadata": {
    "collapsed": false
   },
   "outputs": [],
   "source": []
  },
  {
   "cell_type": "code",
   "execution_count": 46,
   "metadata": {
    "collapsed": false
   },
   "outputs": [
    {
     "data": {
      "text/plain": [
       "array(['Rock', \"Rock'n'roll\", 'Latin', 'Country', 'Rap', 'Pop',\n",
       "       'Electronica', 'Jazz', 'R&B', 'Reggae', 'Gospel', 'R & B'], dtype=object)"
      ]
     },
     "execution_count": 46,
     "metadata": {},
     "output_type": "execute_result"
    }
   ],
   "source": [
    "df['genre'].unique()"
   ]
  },
  {
   "cell_type": "code",
   "execution_count": 47,
   "metadata": {
    "collapsed": false
   },
   "outputs": [
    {
     "data": {
      "text/html": [
       "<div>\n",
       "<table border=\"1\" class=\"dataframe\">\n",
       "  <thead>\n",
       "    <tr style=\"text-align: right;\">\n",
       "      <th></th>\n",
       "      <th>artist.inverted</th>\n",
       "      <th>track</th>\n",
       "      <th>time</th>\n",
       "      <th>genre</th>\n",
       "      <th>date.entered</th>\n",
       "      <th>date.peaked</th>\n",
       "      <th>x1st.week</th>\n",
       "      <th>x2nd.week</th>\n",
       "      <th>x3rd.week</th>\n",
       "      <th>x4th.week</th>\n",
       "      <th>...</th>\n",
       "      <th>x67th.week</th>\n",
       "      <th>x68th.week</th>\n",
       "      <th>x69th.week</th>\n",
       "      <th>x70th.week</th>\n",
       "      <th>x71st.week</th>\n",
       "      <th>x72nd.week</th>\n",
       "      <th>x73rd.week</th>\n",
       "      <th>x74th.week</th>\n",
       "      <th>x75th.week</th>\n",
       "      <th>x76th.week</th>\n",
       "    </tr>\n",
       "  </thead>\n",
       "  <tbody>\n",
       "    <tr>\n",
       "      <th>0</th>\n",
       "      <td>Destiny's Child</td>\n",
       "      <td>Independent Women Part I</td>\n",
       "      <td>3,38,00 AM</td>\n",
       "      <td>Rock</td>\n",
       "      <td>2000-09-23</td>\n",
       "      <td>2000-11-18</td>\n",
       "      <td>78</td>\n",
       "      <td>63</td>\n",
       "      <td>49</td>\n",
       "      <td>33</td>\n",
       "      <td>...</td>\n",
       "      <td>*</td>\n",
       "      <td>*</td>\n",
       "      <td>*</td>\n",
       "      <td>*</td>\n",
       "      <td>*</td>\n",
       "      <td>*</td>\n",
       "      <td>*</td>\n",
       "      <td>*</td>\n",
       "      <td>*</td>\n",
       "      <td>*</td>\n",
       "    </tr>\n",
       "    <tr>\n",
       "      <th>1</th>\n",
       "      <td>Santana</td>\n",
       "      <td>Maria, Maria</td>\n",
       "      <td>4,18,00 AM</td>\n",
       "      <td>Rock</td>\n",
       "      <td>2000-02-12</td>\n",
       "      <td>2000-04-08</td>\n",
       "      <td>15</td>\n",
       "      <td>8</td>\n",
       "      <td>6</td>\n",
       "      <td>5</td>\n",
       "      <td>...</td>\n",
       "      <td>*</td>\n",
       "      <td>*</td>\n",
       "      <td>*</td>\n",
       "      <td>*</td>\n",
       "      <td>*</td>\n",
       "      <td>*</td>\n",
       "      <td>*</td>\n",
       "      <td>*</td>\n",
       "      <td>*</td>\n",
       "      <td>*</td>\n",
       "    </tr>\n",
       "    <tr>\n",
       "      <th>2</th>\n",
       "      <td>Savage Garden</td>\n",
       "      <td>I Knew I Loved You</td>\n",
       "      <td>4,07,00 AM</td>\n",
       "      <td>Rock</td>\n",
       "      <td>1999-10-23</td>\n",
       "      <td>2000-01-29</td>\n",
       "      <td>71</td>\n",
       "      <td>48</td>\n",
       "      <td>43</td>\n",
       "      <td>31</td>\n",
       "      <td>...</td>\n",
       "      <td>*</td>\n",
       "      <td>*</td>\n",
       "      <td>*</td>\n",
       "      <td>*</td>\n",
       "      <td>*</td>\n",
       "      <td>*</td>\n",
       "      <td>*</td>\n",
       "      <td>*</td>\n",
       "      <td>*</td>\n",
       "      <td>*</td>\n",
       "    </tr>\n",
       "    <tr>\n",
       "      <th>3</th>\n",
       "      <td>Madonna</td>\n",
       "      <td>Music</td>\n",
       "      <td>3,45,00 AM</td>\n",
       "      <td>Rock</td>\n",
       "      <td>2000-08-12</td>\n",
       "      <td>2000-09-16</td>\n",
       "      <td>41</td>\n",
       "      <td>23</td>\n",
       "      <td>18</td>\n",
       "      <td>14</td>\n",
       "      <td>...</td>\n",
       "      <td>*</td>\n",
       "      <td>*</td>\n",
       "      <td>*</td>\n",
       "      <td>*</td>\n",
       "      <td>*</td>\n",
       "      <td>*</td>\n",
       "      <td>*</td>\n",
       "      <td>*</td>\n",
       "      <td>*</td>\n",
       "      <td>*</td>\n",
       "    </tr>\n",
       "    <tr>\n",
       "      <th>4</th>\n",
       "      <td>Aguilera, Christina</td>\n",
       "      <td>Come On Over Baby (All I Want Is You)</td>\n",
       "      <td>3,38,00 AM</td>\n",
       "      <td>Rock</td>\n",
       "      <td>2000-08-05</td>\n",
       "      <td>2000-10-14</td>\n",
       "      <td>57</td>\n",
       "      <td>47</td>\n",
       "      <td>45</td>\n",
       "      <td>29</td>\n",
       "      <td>...</td>\n",
       "      <td>*</td>\n",
       "      <td>*</td>\n",
       "      <td>*</td>\n",
       "      <td>*</td>\n",
       "      <td>*</td>\n",
       "      <td>*</td>\n",
       "      <td>*</td>\n",
       "      <td>*</td>\n",
       "      <td>*</td>\n",
       "      <td>*</td>\n",
       "    </tr>\n",
       "  </tbody>\n",
       "</table>\n",
       "<p>5 rows × 82 columns</p>\n",
       "</div>"
      ],
      "text/plain": [
       "       artist.inverted                                  track        time  \\\n",
       "0      Destiny's Child               Independent Women Part I  3,38,00 AM   \n",
       "1              Santana                           Maria, Maria  4,18,00 AM   \n",
       "2        Savage Garden                     I Knew I Loved You  4,07,00 AM   \n",
       "3              Madonna                                  Music  3,45,00 AM   \n",
       "4  Aguilera, Christina  Come On Over Baby (All I Want Is You)  3,38,00 AM   \n",
       "\n",
       "  genre date.entered date.peaked  x1st.week x2nd.week x3rd.week x4th.week  \\\n",
       "0  Rock   2000-09-23  2000-11-18         78        63        49        33   \n",
       "1  Rock   2000-02-12  2000-04-08         15         8         6         5   \n",
       "2  Rock   1999-10-23  2000-01-29         71        48        43        31   \n",
       "3  Rock   2000-08-12  2000-09-16         41        23        18        14   \n",
       "4  Rock   2000-08-05  2000-10-14         57        47        45        29   \n",
       "\n",
       "     ...     x67th.week x68th.week x69th.week x70th.week x71st.week  \\\n",
       "0    ...              *          *          *          *          *   \n",
       "1    ...              *          *          *          *          *   \n",
       "2    ...              *          *          *          *          *   \n",
       "3    ...              *          *          *          *          *   \n",
       "4    ...              *          *          *          *          *   \n",
       "\n",
       "  x72nd.week x73rd.week x74th.week x75th.week x76th.week  \n",
       "0          *          *          *          *          *  \n",
       "1          *          *          *          *          *  \n",
       "2          *          *          *          *          *  \n",
       "3          *          *          *          *          *  \n",
       "4          *          *          *          *          *  \n",
       "\n",
       "[5 rows x 82 columns]"
      ]
     },
     "execution_count": 47,
     "metadata": {},
     "output_type": "execute_result"
    }
   ],
   "source": [
    "df.head()"
   ]
  },
  {
   "cell_type": "code",
   "execution_count": 48,
   "metadata": {
    "collapsed": false
   },
   "outputs": [],
   "source": [
    "df['time'] = df['time'].str.split(',')\n",
    "df['time'].head()\n",
    "#total = []\n",
    "#[total.append(df_new['time'][i][0]*60 + df_new['time'][i][1]) for i in range(len(df_new))]\n",
    "#print total.head()"
   ]
  },
  {
   "cell_type": "code",
   "execution_count": 50,
   "metadata": {
    "collapsed": false
   },
   "outputs": [
    {
     "name": "stdout",
     "output_type": "stream",
     "text": [
      "<bound method Series.head of 0      [3, 38, 00 AM]\n",
      "1      [4, 18, 00 AM]\n",
      "2      [4, 07, 00 AM]\n",
      "3      [3, 45, 00 AM]\n",
      "4      [3, 38, 00 AM]\n",
      "5      [4, 17, 00 AM]\n",
      "6      [4, 31, 00 AM]\n",
      "7      [3, 36, 00 AM]\n",
      "8      [3, 52, 00 AM]\n",
      "9      [4, 25, 00 AM]\n",
      "10     [3, 10, 00 AM]\n",
      "11     [3, 18, 00 AM]\n",
      "12     [4, 01, 00 AM]\n",
      "13     [3, 52, 00 AM]\n",
      "14     [4, 03, 00 AM]\n",
      "15     [4, 12, 00 AM]\n",
      "16     [4, 14, 00 AM]\n",
      "17     [4, 04, 00 AM]\n",
      "18     [3, 50, 00 AM]\n",
      "19     [3, 43, 00 AM]\n",
      "20     [4, 21, 00 AM]\n",
      "21     [3, 50, 00 AM]\n",
      "22     [3, 24, 00 AM]\n",
      "23     [3, 48, 00 AM]\n",
      "24     [3, 53, 00 AM]\n",
      "25     [4, 05, 00 AM]\n",
      "26     [4, 00, 00 AM]\n",
      "27     [4, 16, 00 AM]\n",
      "28     [4, 57, 00 AM]\n",
      "29     [4, 34, 00 AM]\n",
      "            ...      \n",
      "287    [3, 15, 00 AM]\n",
      "288    [3, 44, 00 AM]\n",
      "289    [3, 48, 00 AM]\n",
      "290    [4, 08, 00 AM]\n",
      "291    [4, 11, 00 AM]\n",
      "292    [3, 54, 00 AM]\n",
      "293    [4, 02, 00 AM]\n",
      "294    [4, 10, 00 AM]\n",
      "295    [3, 47, 00 AM]\n",
      "296    [3, 23, 00 AM]\n",
      "297    [4, 14, 00 AM]\n",
      "298    [3, 46, 00 AM]\n",
      "299    [5, 10, 00 AM]\n",
      "300    [4, 43, 00 AM]\n",
      "301    [4, 01, 00 AM]\n",
      "302    [2, 58, 00 AM]\n",
      "303    [4, 17, 00 AM]\n",
      "304    [3, 44, 00 AM]\n",
      "305    [4, 16, 00 AM]\n",
      "306    [5, 02, 00 AM]\n",
      "307    [4, 02, 00 AM]\n",
      "308    [4, 24, 00 AM]\n",
      "309    [4, 06, 00 AM]\n",
      "310    [4, 00, 00 AM]\n",
      "311    [3, 33, 00 AM]\n",
      "312    [3, 04, 00 AM]\n",
      "313    [3, 58, 00 AM]\n",
      "314    [3, 30, 00 AM]\n",
      "315    [3, 58, 00 AM]\n",
      "316    [3, 22, 00 AM]\n",
      "Name: time, dtype: object>\n"
     ]
    }
   ],
   "source": [
    "print df['time'].head"
   ]
  },
  {
   "cell_type": "code",
   "execution_count": 122,
   "metadata": {
    "collapsed": false
   },
   "outputs": [],
   "source": [
    "from time import strptime\n",
    "def nice_time(split_time):\n",
    "    new_time = split_time[0] + \":\" + split_time[1]\n",
    "    return new_time"
   ]
  },
  {
   "cell_type": "code",
   "execution_count": 133,
   "metadata": {
    "collapsed": false
   },
   "outputs": [
    {
     "ename": "OverflowError",
     "evalue": "mktime argument out of range",
     "output_type": "error",
     "traceback": [
      "\u001b[0;31m---------------------------------------------------------------------------\u001b[0m",
      "\u001b[0;31mOverflowError\u001b[0m                             Traceback (most recent call last)",
      "\u001b[0;32m<ipython-input-133-0ed82141f585>\u001b[0m in \u001b[0;36m<module>\u001b[0;34m()\u001b[0m\n\u001b[1;32m      3\u001b[0m \u001b[0mnewer_time\u001b[0m \u001b[0;34m=\u001b[0m \u001b[0;34m[\u001b[0m\u001b[0;34m]\u001b[0m\u001b[0;34m\u001b[0m\u001b[0m\n\u001b[1;32m      4\u001b[0m \u001b[0;32mfor\u001b[0m \u001b[0mi\u001b[0m \u001b[0;32min\u001b[0m \u001b[0mrange\u001b[0m\u001b[0;34m(\u001b[0m\u001b[0mlen\u001b[0m\u001b[0;34m(\u001b[0m\u001b[0mdf\u001b[0m\u001b[0;34m)\u001b[0m\u001b[0;34m)\u001b[0m\u001b[0;34m:\u001b[0m\u001b[0;34m\u001b[0m\u001b[0m\n\u001b[0;32m----> 5\u001b[0;31m     \u001b[0mnewer_time\u001b[0m\u001b[0;34m[\u001b[0m\u001b[0mi\u001b[0m\u001b[0;34m]\u001b[0m \u001b[0;34m=\u001b[0m \u001b[0mtime\u001b[0m\u001b[0;34m.\u001b[0m\u001b[0mmktime\u001b[0m\u001b[0;34m(\u001b[0m\u001b[0mtime\u001b[0m\u001b[0;34m.\u001b[0m\u001b[0mstrptime\u001b[0m\u001b[0;34m(\u001b[0m\u001b[0mnew_time\u001b[0m\u001b[0;34m[\u001b[0m\u001b[0mi\u001b[0m\u001b[0;34m]\u001b[0m\u001b[0;34m,\u001b[0m \u001b[0;34m\"%M:%S\"\u001b[0m\u001b[0;34m)\u001b[0m\u001b[0;34m)\u001b[0m\u001b[0;34m\u001b[0m\u001b[0m\n\u001b[0m\u001b[1;32m      6\u001b[0m \u001b[0;32mprint\u001b[0m \u001b[0mnewer_time\u001b[0m\u001b[0;34m\u001b[0m\u001b[0m\n",
      "\u001b[0;31mOverflowError\u001b[0m: mktime argument out of range"
     ]
    }
   ],
   "source": [
    "new_time = []\n",
    "[new_time.append(nice_time(df['time'][i])) for i in range(len(df))]\n",
    "newer_time = []\n"
   ]
  },
  {
   "cell_type": "code",
   "execution_count": null,
   "metadata": {
    "collapsed": true
   },
   "outputs": [],
   "source": []
  }
 ],
 "metadata": {
  "kernelspec": {
   "display_name": "Python 2",
   "language": "python",
   "name": "python2"
  },
  "language_info": {
   "codemirror_mode": {
    "name": "ipython",
    "version": 2
   },
   "file_extension": ".py",
   "mimetype": "text/x-python",
   "name": "python",
   "nbconvert_exporter": "python",
   "pygments_lexer": "ipython2",
   "version": "2.7.11"
  }
 },
 "nbformat": 4,
 "nbformat_minor": 0
}
