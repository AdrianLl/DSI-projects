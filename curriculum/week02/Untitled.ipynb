{
 "cells": [
  {
   "cell_type": "code",
   "execution_count": 15,
   "metadata": {
    "collapsed": false
   },
   "outputs": [
    {
     "name": "stdout",
     "output_type": "stream",
     "text": [
      "Pick a number, any number: 6\n",
      "6\n"
     ]
    }
   ],
   "source": [
    "n = int(raw_input(\"Pick a number, any number: \"))\n",
    "print n    \n",
    "def fizzbuzz(n):\n",
    "    if n < 0:\n",
    "        n = raw_input(\"Please pick a non-negative number: \")\n",
    "    for (i) in range(1,(n+1)):\n",
    "        if (i%3 == 0 and i%5==0):\n",
    "            print 'fizzbuzz'\n",
    "        elif (i%3 == 0):\n",
    "            print 'fizz'\n",
    "        elif (i%5 == 0):\n",
    "            print 'buzz'\n",
    "        else:\n",
    "            print i\n"
   ]
  },
  {
   "cell_type": "code",
   "execution_count": null,
   "metadata": {
    "collapsed": false
   },
   "outputs": [],
   "source": []
  },
  {
   "cell_type": "code",
   "execution_count": null,
   "metadata": {
    "collapsed": true
   },
   "outputs": [],
   "source": []
  }
 ],
 "metadata": {
  "kernelspec": {
   "display_name": "Python 2",
   "language": "python",
   "name": "python2"
  },
  "language_info": {
   "codemirror_mode": {
    "name": "ipython",
    "version": 2
   },
   "file_extension": ".py",
   "mimetype": "text/x-python",
   "name": "python",
   "nbconvert_exporter": "python",
   "pygments_lexer": "ipython2",
   "version": "2.7.11"
  }
 },
 "nbformat": 4,
 "nbformat_minor": 0
}
