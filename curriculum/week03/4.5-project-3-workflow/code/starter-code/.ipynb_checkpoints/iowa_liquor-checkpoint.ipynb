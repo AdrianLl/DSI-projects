{
 "cells": [
  {
   "cell_type": "markdown",
   "metadata": {},
   "source": [
    "# Data Workflow Lab 2\n",
    "\n",
    "Proceed with your analysis of the Project 3 data set. You may need to compute new columns as you proceed. Fit one or more linear models to the data, investigate model fits and outliers, use regularization when appropriate.\n",
    "\n",
    "### Learning objectives\n",
    "- Perform exploratory analysis\n",
    "- Generate correlation matrix of the features\n",
    "- Generate linear regression models\n",
    "- Evaluate model fit\n",
    "\n",
    "If appropriate for your models and featuers:\n",
    "- Use [feature selection](http://scikit-learn.org/stable/modules/feature_selection.html) to pick the best features\n",
    "- Try different regularization options"
   ]
  },
  {
   "cell_type": "code",
   "execution_count": 1,
   "metadata": {
    "collapsed": true
   },
   "outputs": [],
   "source": [
    "% matplotlib inline\n",
    "\n",
    "from collections import defaultdict\n",
    "import datetime\n",
    "\n",
    "from matplotlib import pyplot as plt\n",
    "# Make the plots bigger\n",
    "plt.rcParams['figure.figsize'] = 10, 10\n",
    "import seaborn as sns\n",
    "\n",
    "import numpy as np\n",
    "import pandas as pd\n",
    "from sklearn import linear_model"
   ]
  },
  {
   "cell_type": "code",
   "execution_count": 2,
   "metadata": {
    "collapsed": false
   },
   "outputs": [
    {
     "name": "stderr",
     "output_type": "stream",
     "text": [
      "//anaconda/lib/python2.7/site-packages/IPython/core/interactiveshell.py:2723: DtypeWarning: Columns (3) have mixed types. Specify dtype option on import or set low_memory=False.\n",
      "  interactivity=interactivity, compiler=compiler, result=result)\n"
     ]
    }
   ],
   "source": [
    "# Load the data from the previous lab\n",
    "# If you changed the name you'll need to edit the next line\n",
    "#sales = pd.read_csv(\"/Users/Rebecca/DSI-projects/projects/project-03/Iowa_Liquor_Sales_reduced.csv\")\n",
    "\n",
    "# Convert dates\n"
   ]
  },
  {
   "cell_type": "code",
   "execution_count": 3,
   "metadata": {
    "collapsed": false
   },
   "outputs": [
    {
     "data": {
      "text/html": [
       "<div>\n",
       "<table border=\"1\" class=\"dataframe\">\n",
       "  <thead>\n",
       "    <tr style=\"text-align: right;\">\n",
       "      <th></th>\n",
       "      <th>Date</th>\n",
       "      <th>Store Number</th>\n",
       "      <th>City</th>\n",
       "      <th>Zip Code</th>\n",
       "      <th>County Number</th>\n",
       "      <th>County</th>\n",
       "      <th>Category</th>\n",
       "      <th>Category Name</th>\n",
       "      <th>Vendor Number</th>\n",
       "      <th>Item Number</th>\n",
       "      <th>Item Description</th>\n",
       "      <th>Bottle Volume (ml)</th>\n",
       "      <th>State Bottle Cost</th>\n",
       "      <th>State Bottle Retail</th>\n",
       "      <th>Bottles Sold</th>\n",
       "      <th>Sale (Dollars)</th>\n",
       "      <th>Volume Sold (Liters)</th>\n",
       "      <th>Volume Sold (Gallons)</th>\n",
       "    </tr>\n",
       "  </thead>\n",
       "  <tbody>\n",
       "    <tr>\n",
       "      <th>0</th>\n",
       "      <td>03/31/2016</td>\n",
       "      <td>5029</td>\n",
       "      <td>DAVENPORT</td>\n",
       "      <td>52806</td>\n",
       "      <td>82.0</td>\n",
       "      <td>Scott</td>\n",
       "      <td>1022100.0</td>\n",
       "      <td>TEQUILA</td>\n",
       "      <td>370</td>\n",
       "      <td>87152</td>\n",
       "      <td>Avion Silver</td>\n",
       "      <td>375</td>\n",
       "      <td>$9.99</td>\n",
       "      <td>$14.99</td>\n",
       "      <td>12</td>\n",
       "      <td>$179.88</td>\n",
       "      <td>4.5</td>\n",
       "      <td>1.19</td>\n",
       "    </tr>\n",
       "    <tr>\n",
       "      <th>1</th>\n",
       "      <td>03/31/2016</td>\n",
       "      <td>5029</td>\n",
       "      <td>DAVENPORT</td>\n",
       "      <td>52806</td>\n",
       "      <td>82.0</td>\n",
       "      <td>Scott</td>\n",
       "      <td>1022100.0</td>\n",
       "      <td>TEQUILA</td>\n",
       "      <td>395</td>\n",
       "      <td>89197</td>\n",
       "      <td>Jose Cuervo Especial Reposado Tequila</td>\n",
       "      <td>1000</td>\n",
       "      <td>$12.50</td>\n",
       "      <td>$18.75</td>\n",
       "      <td>2</td>\n",
       "      <td>$37.50</td>\n",
       "      <td>2.0</td>\n",
       "      <td>0.53</td>\n",
       "    </tr>\n",
       "    <tr>\n",
       "      <th>2</th>\n",
       "      <td>03/31/2016</td>\n",
       "      <td>4959</td>\n",
       "      <td>CEDAR FALLS</td>\n",
       "      <td>50613</td>\n",
       "      <td>7.0</td>\n",
       "      <td>Black Hawk</td>\n",
       "      <td>1071100.0</td>\n",
       "      <td>AMERICAN COCKTAILS</td>\n",
       "      <td>380</td>\n",
       "      <td>63959</td>\n",
       "      <td>Uv Blue Raspberry Lemonade Pet</td>\n",
       "      <td>1750</td>\n",
       "      <td>$5.97</td>\n",
       "      <td>$8.96</td>\n",
       "      <td>6</td>\n",
       "      <td>$53.76</td>\n",
       "      <td>10.5</td>\n",
       "      <td>2.77</td>\n",
       "    </tr>\n",
       "    <tr>\n",
       "      <th>3</th>\n",
       "      <td>03/31/2016</td>\n",
       "      <td>2190</td>\n",
       "      <td>DES MOINES</td>\n",
       "      <td>50314</td>\n",
       "      <td>77.0</td>\n",
       "      <td>Polk</td>\n",
       "      <td>1031200.0</td>\n",
       "      <td>VODKA FLAVORED</td>\n",
       "      <td>205</td>\n",
       "      <td>40597</td>\n",
       "      <td>New Amsterdam Red Berry</td>\n",
       "      <td>200</td>\n",
       "      <td>$2.24</td>\n",
       "      <td>$3.36</td>\n",
       "      <td>48</td>\n",
       "      <td>$161.28</td>\n",
       "      <td>9.6</td>\n",
       "      <td>2.54</td>\n",
       "    </tr>\n",
       "    <tr>\n",
       "      <th>4</th>\n",
       "      <td>03/31/2016</td>\n",
       "      <td>5240</td>\n",
       "      <td>WEST BRANCH</td>\n",
       "      <td>52358</td>\n",
       "      <td>NaN</td>\n",
       "      <td>NaN</td>\n",
       "      <td>1081200.0</td>\n",
       "      <td>CREAM LIQUEURS</td>\n",
       "      <td>305</td>\n",
       "      <td>73055</td>\n",
       "      <td>Rumchata</td>\n",
       "      <td>750</td>\n",
       "      <td>$12.50</td>\n",
       "      <td>$18.75</td>\n",
       "      <td>6</td>\n",
       "      <td>$112.50</td>\n",
       "      <td>4.5</td>\n",
       "      <td>1.19</td>\n",
       "    </tr>\n",
       "  </tbody>\n",
       "</table>\n",
       "</div>"
      ],
      "text/plain": [
       "         Date  Store Number         City Zip Code  County Number      County  \\\n",
       "0  03/31/2016          5029    DAVENPORT    52806           82.0       Scott   \n",
       "1  03/31/2016          5029    DAVENPORT    52806           82.0       Scott   \n",
       "2  03/31/2016          4959  CEDAR FALLS    50613            7.0  Black Hawk   \n",
       "3  03/31/2016          2190   DES MOINES    50314           77.0        Polk   \n",
       "4  03/31/2016          5240  WEST BRANCH    52358            NaN         NaN   \n",
       "\n",
       "    Category       Category Name  Vendor Number  Item Number  \\\n",
       "0  1022100.0             TEQUILA            370        87152   \n",
       "1  1022100.0             TEQUILA            395        89197   \n",
       "2  1071100.0  AMERICAN COCKTAILS            380        63959   \n",
       "3  1031200.0      VODKA FLAVORED            205        40597   \n",
       "4  1081200.0      CREAM LIQUEURS            305        73055   \n",
       "\n",
       "                        Item Description  Bottle Volume (ml)  \\\n",
       "0                           Avion Silver                 375   \n",
       "1  Jose Cuervo Especial Reposado Tequila                1000   \n",
       "2         Uv Blue Raspberry Lemonade Pet                1750   \n",
       "3                New Amsterdam Red Berry                 200   \n",
       "4                               Rumchata                 750   \n",
       "\n",
       "  State Bottle Cost State Bottle Retail  Bottles Sold Sale (Dollars)  \\\n",
       "0             $9.99              $14.99            12        $179.88   \n",
       "1            $12.50              $18.75             2         $37.50   \n",
       "2             $5.97               $8.96             6         $53.76   \n",
       "3             $2.24               $3.36            48        $161.28   \n",
       "4            $12.50              $18.75             6        $112.50   \n",
       "\n",
       "   Volume Sold (Liters)  Volume Sold (Gallons)  \n",
       "0                   4.5                   1.19  \n",
       "1                   2.0                   0.53  \n",
       "2                  10.5                   2.77  \n",
       "3                   9.6                   2.54  \n",
       "4                   4.5                   1.19  "
      ]
     },
     "execution_count": 3,
     "metadata": {},
     "output_type": "execute_result"
    }
   ],
   "source": [
    "sales.head()"
   ]
  },
  {
   "cell_type": "code",
   "execution_count": 4,
   "metadata": {
    "collapsed": false
   },
   "outputs": [],
   "source": [
    "sales['Date'] = pd.to_datetime(sales['Date'])"
   ]
  },
  {
   "cell_type": "code",
   "execution_count": 89,
   "metadata": {
    "collapsed": false
   },
   "outputs": [
    {
     "data": {
      "text/plain": [
       "2709546"
      ]
     },
     "execution_count": 89,
     "metadata": {},
     "output_type": "execute_result"
    }
   ],
   "source": [
    "len(sales)"
   ]
  },
  {
   "cell_type": "code",
   "execution_count": 18,
   "metadata": {
    "collapsed": false
   },
   "outputs": [],
   "source": [
    "#sales['Category Name'].value_counts()"
   ]
  },
  {
   "cell_type": "code",
   "execution_count": 6,
   "metadata": {
    "collapsed": false
   },
   "outputs": [
    {
     "data": {
      "text/plain": [
       "74"
      ]
     },
     "execution_count": 6,
     "metadata": {},
     "output_type": "execute_result"
    }
   ],
   "source": [
    "len(sales['Category Name'].unique())"
   ]
  },
  {
   "cell_type": "code",
   "execution_count": 7,
   "metadata": {
    "collapsed": false
   },
   "outputs": [],
   "source": [
    "#sales['Category'].value_counts()"
   ]
  },
  {
   "cell_type": "code",
   "execution_count": 8,
   "metadata": {
    "collapsed": false
   },
   "outputs": [
    {
     "data": {
      "text/plain": [
       "90"
      ]
     },
     "execution_count": 8,
     "metadata": {},
     "output_type": "execute_result"
    }
   ],
   "source": [
    "len(sales['Category'].unique())"
   ]
  },
  {
   "cell_type": "code",
   "execution_count": 9,
   "metadata": {
    "collapsed": true
   },
   "outputs": [],
   "source": [
    "sales['Bottle Volume (ml)'] = sales['Bottle Volume (ml)'].apply(lambda x: float(x)/1000)"
   ]
  },
  {
   "cell_type": "code",
   "execution_count": 10,
   "metadata": {
    "collapsed": false
   },
   "outputs": [],
   "source": [
    "## Put these deleted ones in a diff df?  Make dictionaries?\n",
    "del sales['City']\n",
    "del sales['County Number']\n",
    "del sales['Category']\n",
    "del sales['Volume Sold (Gallons)']\n",
    "del sales['Item Description']\n",
    "del sales['Category Name']\n",
    "\n",
    "sales.rename(columns={'Bottle Volume (ml)':'volume'}, inplace=True)\n",
    "sales.rename(columns={'Store Number':'store'}, inplace=True)\n",
    "sales.rename(columns={'Date':'date'}, inplace=True)\n",
    "sales.rename(columns={'Item Number':'itemID'}, inplace=True)\n",
    "sales.rename(columns={'Zip Code':'zip'}, inplace=True)\n",
    "sales.rename(columns={'State Bottle Cost':'cost'}, inplace=True)\n",
    "sales.rename(columns={'State Bottle Retail':'retail'}, inplace=True)\n",
    "sales.rename(columns={'Vendor Number':'vendorID'}, inplace=True)\n",
    "sales.rename(columns={'County':'county'}, inplace=True)\n",
    "sales.rename(columns={'Bottles Sold':'number_sold'}, inplace=True)\n",
    "sales.rename(columns={'Sale (Dollars)':'dollars_sold'}, inplace=True)\n",
    "sales.rename(columns={'Volume Sold (Liters)':'volume_sold'}, inplace=True)\n",
    "#sales.head()"
   ]
  },
  {
   "cell_type": "code",
   "execution_count": 11,
   "metadata": {
    "collapsed": false
   },
   "outputs": [
    {
     "data": {
      "text/html": [
       "<div>\n",
       "<table border=\"1\" class=\"dataframe\">\n",
       "  <thead>\n",
       "    <tr style=\"text-align: right;\">\n",
       "      <th></th>\n",
       "      <th>date</th>\n",
       "      <th>store</th>\n",
       "      <th>zip</th>\n",
       "      <th>county</th>\n",
       "      <th>vendorID</th>\n",
       "      <th>itemID</th>\n",
       "      <th>volume</th>\n",
       "      <th>cost</th>\n",
       "      <th>retail</th>\n",
       "      <th>number_sold</th>\n",
       "      <th>dollars_sold</th>\n",
       "      <th>volume_sold</th>\n",
       "    </tr>\n",
       "  </thead>\n",
       "  <tbody>\n",
       "    <tr>\n",
       "      <th>0</th>\n",
       "      <td>2016-03-31</td>\n",
       "      <td>5029</td>\n",
       "      <td>52806</td>\n",
       "      <td>Scott</td>\n",
       "      <td>370</td>\n",
       "      <td>87152</td>\n",
       "      <td>0.375</td>\n",
       "      <td>$9.99</td>\n",
       "      <td>$14.99</td>\n",
       "      <td>12</td>\n",
       "      <td>$179.88</td>\n",
       "      <td>4.5</td>\n",
       "    </tr>\n",
       "    <tr>\n",
       "      <th>1</th>\n",
       "      <td>2016-03-31</td>\n",
       "      <td>5029</td>\n",
       "      <td>52806</td>\n",
       "      <td>Scott</td>\n",
       "      <td>395</td>\n",
       "      <td>89197</td>\n",
       "      <td>1.000</td>\n",
       "      <td>$12.50</td>\n",
       "      <td>$18.75</td>\n",
       "      <td>2</td>\n",
       "      <td>$37.50</td>\n",
       "      <td>2.0</td>\n",
       "    </tr>\n",
       "    <tr>\n",
       "      <th>2</th>\n",
       "      <td>2016-03-31</td>\n",
       "      <td>4959</td>\n",
       "      <td>50613</td>\n",
       "      <td>Black Hawk</td>\n",
       "      <td>380</td>\n",
       "      <td>63959</td>\n",
       "      <td>1.750</td>\n",
       "      <td>$5.97</td>\n",
       "      <td>$8.96</td>\n",
       "      <td>6</td>\n",
       "      <td>$53.76</td>\n",
       "      <td>10.5</td>\n",
       "    </tr>\n",
       "    <tr>\n",
       "      <th>3</th>\n",
       "      <td>2016-03-31</td>\n",
       "      <td>2190</td>\n",
       "      <td>50314</td>\n",
       "      <td>Polk</td>\n",
       "      <td>205</td>\n",
       "      <td>40597</td>\n",
       "      <td>0.200</td>\n",
       "      <td>$2.24</td>\n",
       "      <td>$3.36</td>\n",
       "      <td>48</td>\n",
       "      <td>$161.28</td>\n",
       "      <td>9.6</td>\n",
       "    </tr>\n",
       "    <tr>\n",
       "      <th>4</th>\n",
       "      <td>2016-03-31</td>\n",
       "      <td>5240</td>\n",
       "      <td>52358</td>\n",
       "      <td>NaN</td>\n",
       "      <td>305</td>\n",
       "      <td>73055</td>\n",
       "      <td>0.750</td>\n",
       "      <td>$12.50</td>\n",
       "      <td>$18.75</td>\n",
       "      <td>6</td>\n",
       "      <td>$112.50</td>\n",
       "      <td>4.5</td>\n",
       "    </tr>\n",
       "  </tbody>\n",
       "</table>\n",
       "</div>"
      ],
      "text/plain": [
       "        date  store    zip      county  vendorID  itemID  volume    cost  \\\n",
       "0 2016-03-31   5029  52806       Scott       370   87152   0.375   $9.99   \n",
       "1 2016-03-31   5029  52806       Scott       395   89197   1.000  $12.50   \n",
       "2 2016-03-31   4959  50613  Black Hawk       380   63959   1.750   $5.97   \n",
       "3 2016-03-31   2190  50314        Polk       205   40597   0.200   $2.24   \n",
       "4 2016-03-31   5240  52358         NaN       305   73055   0.750  $12.50   \n",
       "\n",
       "   retail  number_sold dollars_sold  volume_sold  \n",
       "0  $14.99           12      $179.88          4.5  \n",
       "1  $18.75            2       $37.50          2.0  \n",
       "2   $8.96            6       $53.76         10.5  \n",
       "3   $3.36           48      $161.28          9.6  \n",
       "4  $18.75            6      $112.50          4.5  "
      ]
     },
     "execution_count": 11,
     "metadata": {},
     "output_type": "execute_result"
    }
   ],
   "source": [
    "sales.head()"
   ]
  },
  {
   "cell_type": "code",
   "execution_count": 12,
   "metadata": {
    "collapsed": false
   },
   "outputs": [
    {
     "data": {
      "text/plain": [
       "array([  3.75000000e-01,   1.00000000e+00,   1.75000000e+00,\n",
       "         2.00000000e-01,   7.50000000e-01,   5.00000000e-01,\n",
       "         3.00000000e-01,   6.00000000e-01,   1.00000000e-01,\n",
       "         1.20000000e+00,   3.00000000e+00,   6.03000000e-01,\n",
       "         2.40000000e+00,   8.00000000e-01,   4.00000000e-01,\n",
       "         6.00000000e+00,   1.12500000e+00,   4.80000000e+00,\n",
       "         2.25000000e+00,   5.00000000e-02,   8.50000000e-01,\n",
       "         1.89000000e+02,   2.25000000e+02,   1.50000000e-01,\n",
       "         2.50000000e-01,   1.50000000e+00,   5.02000000e-01,\n",
       "         3.60000000e+00,   9.00000000e-01,   4.50000000e+00,\n",
       "         1.80000000e+02,   2.55000000e+00,   0.00000000e+00,\n",
       "         9.50000000e-01])"
      ]
     },
     "execution_count": 12,
     "metadata": {},
     "output_type": "execute_result"
    }
   ],
   "source": [
    "sales['volume'].unique()"
   ]
  },
  {
   "cell_type": "code",
   "execution_count": 13,
   "metadata": {
    "collapsed": false
   },
   "outputs": [
    {
     "data": {
      "text/plain": [
       "0.750      1227979\n",
       "1.750       541448\n",
       "1.000       367592\n",
       "0.375       272113\n",
       "0.500       121004\n",
       "0.200        99426\n",
       "0.600        32835\n",
       "3.000        16294\n",
       "0.300        13719\n",
       "0.100         8553\n",
       "0.800         2866\n",
       "1.200         2832\n",
       "2.400         1004\n",
       "0.400          335\n",
       "0.850          293\n",
       "0.603          158\n",
       "4.800          152\n",
       "0.050          150\n",
       "3.600          146\n",
       "6.000          130\n",
       "2.250           91\n",
       "0.250           71\n",
       "0.950           68\n",
       "0.150           60\n",
       "1.125           54\n",
       "1.500           51\n",
       "0.900           50\n",
       "2.550           42\n",
       "4.500           27\n",
       "0.502            3\n",
       "180.000          2\n",
       "0.000            2\n",
       "225.000          1\n",
       "189.000          1\n",
       "Name: volume, dtype: int64"
      ]
     },
     "execution_count": 13,
     "metadata": {},
     "output_type": "execute_result"
    }
   ],
   "source": [
    "sales['volume'].value_counts()"
   ]
  },
  {
   "cell_type": "code",
   "execution_count": 25,
   "metadata": {
    "collapsed": false
   },
   "outputs": [],
   "source": [
    "sales['volume'] = sales['volume'].apply(lambda x: str(x))"
   ]
  },
  {
   "cell_type": "code",
   "execution_count": 26,
   "metadata": {
    "collapsed": false
   },
   "outputs": [],
   "source": [
    "sales['volume'] = sales['volume'].apply(lambda x: x.replace('0.603', '0.600'))\n",
    "sales['volume'] = sales['volume'].apply(lambda x: x.replace('0.502', '0.500'))"
   ]
  },
  {
   "cell_type": "code",
   "execution_count": 27,
   "metadata": {
    "collapsed": true
   },
   "outputs": [],
   "source": [
    "sales['volume'] = sales['volume'].apply(lambda x: float(x))"
   ]
  },
  {
   "cell_type": "code",
   "execution_count": 28,
   "metadata": {
    "collapsed": false
   },
   "outputs": [
    {
     "data": {
      "text/plain": [
       "0.750      1227979\n",
       "1.750       541448\n",
       "1.000       367592\n",
       "0.375       272113\n",
       "0.500       121007\n",
       "0.200        99426\n",
       "0.600        32993\n",
       "3.000        16294\n",
       "0.300        13719\n",
       "0.100         8553\n",
       "0.800         2866\n",
       "1.200         2832\n",
       "2.400         1004\n",
       "0.400          335\n",
       "0.850          293\n",
       "4.800          152\n",
       "0.050          150\n",
       "3.600          146\n",
       "6.000          130\n",
       "2.250           91\n",
       "0.250           71\n",
       "0.950           68\n",
       "0.150           60\n",
       "1.125           54\n",
       "1.500           51\n",
       "0.900           50\n",
       "2.550           42\n",
       "4.500           27\n",
       "180.000          2\n",
       "0.000            2\n",
       "189.000          1\n",
       "225.000          1\n",
       "Name: volume, dtype: int64"
      ]
     },
     "execution_count": 28,
     "metadata": {},
     "output_type": "execute_result"
    }
   ],
   "source": [
    "sales['volume'].value_counts()"
   ]
  },
  {
   "cell_type": "code",
   "execution_count": 34,
   "metadata": {
    "collapsed": false
   },
   "outputs": [],
   "source": [
    "sales = sales[sales.volume != 180.000]\n",
    "sales = sales[sales.volume != 0.000]\n",
    "sales = sales[sales.volume != 189.000]\n",
    "sales = sales[sales.volume != 225.000]"
   ]
  },
  {
   "cell_type": "code",
   "execution_count": 68,
   "metadata": {
    "collapsed": false
   },
   "outputs": [],
   "source": [
    "#sales.sort_values('volume')"
   ]
  },
  {
   "cell_type": "code",
   "execution_count": 69,
   "metadata": {
    "collapsed": false
   },
   "outputs": [],
   "source": [
    "volumes = sales['volume'].unique()"
   ]
  },
  {
   "cell_type": "code",
   "execution_count": 73,
   "metadata": {
    "collapsed": false
   },
   "outputs": [],
   "source": [
    "volumes.sort()"
   ]
  },
  {
   "cell_type": "code",
   "execution_count": 79,
   "metadata": {
    "collapsed": true
   },
   "outputs": [],
   "source": [
    "zeros = [0] * 28"
   ]
  },
  {
   "cell_type": "code",
   "execution_count": 83,
   "metadata": {
    "collapsed": false
   },
   "outputs": [
    {
     "data": {
      "text/plain": [
       "(-0.1, 0.1)"
      ]
     },
     "execution_count": 83,
     "metadata": {},
     "output_type": "execute_result"
    },
    {
     "data": {
      "image/png": "[encoded data removed]",
      "text/plain": [
       "<matplotlib.figure.Figure at 0x11a3fd510>"
      ]
     },
     "metadata": {},
     "output_type": "display_data"
    }
   ],
   "source": [
    "df_vol = pd.DataFrame(volumes)\n",
    "plt.scatter(volumes, zeros)\n",
    "plt.xlim([-0.1,6.1])\n",
    "plt.ylim([-0.1,0.1])"
   ]
  },
  {
   "cell_type": "code",
   "execution_count": 88,
   "metadata": {
    "collapsed": false
   },
   "outputs": [
    {
     "data": {
      "text/plain": [
       "3.00    16294\n",
       "2.40     1004\n",
       "4.80      152\n",
       "3.60      146\n",
       "6.00      130\n",
       "2.25       91\n",
       "2.55       42\n",
       "4.50       27\n",
       "Name: volume, dtype: int64"
      ]
     },
     "execution_count": 88,
     "metadata": {},
     "output_type": "execute_result"
    }
   ],
   "source": [
    "df_sales = sales[sales['volume'] > 2]\n",
    "df_sales['volume'].value_counts()"
   ]
  },
  {
   "cell_type": "code",
   "execution_count": 33,
   "metadata": {
    "collapsed": false
   },
   "outputs": [
    {
     "data": {
      "text/plain": [
       "<matplotlib.axes._subplots.AxesSubplot at 0x11a921c10>"
      ]
     },
     "execution_count": 33,
     "metadata": {},
     "output_type": "execute_result"
    },
    {
     "data": {
      "image/png": "[encoded data removed]",
      "text/plain": [
       "<matplotlib.figure.Figure at 0x11a48ddd0>"
      ]
     },
     "metadata": {},
     "output_type": "display_data"
    }
   ],
   "source": [
    "## x-axis is quantity at that volume\n",
    "## y-axis is volume\n",
    "sales['volume'].plot()"
   ]
  },
  {
   "cell_type": "code",
   "execution_count": null,
   "metadata": {
    "collapsed": true
   },
   "outputs": [],
   "source": [
    "plt.figure(figsize=(12,8))\n",
    "plt.style.use('fivethirtyeight')\n",
    "\n",
    "df_hist = plt.plot(sales['volume'], color = 'darkred', bins = 20)\n",
    "\n",
    "plt.title('Histogram of Peak Chart Position', fontsize = 24)\n",
    "\n",
    "# y label\n",
    "plt.ylabel('Frequency')\n",
    "\n",
    "# x label\n",
    "plt.xlabel('Peak Position')\n",
    "\n",
    "plt.show()"
   ]
  },
  {
   "cell_type": "code",
   "execution_count": null,
   "metadata": {
    "collapsed": true
   },
   "outputs": [],
   "source": [
    "drop_genre = ['Pop', 'Latin', 'Electronica', 'Reggae', 'Jazz', 'Gospel']\n",
    "for genre in drop_genre:\n",
    "    df = df[df.genre != genre]"
   ]
  },
  {
   "cell_type": "code",
   "execution_count": 16,
   "metadata": {
    "collapsed": false
   },
   "outputs": [
    {
     "data": {
      "image/png": "[encoded data removed]",
      "text/plain": [
       "<matplotlib.figure.Figure at 0x11612db50>"
      ]
     },
     "metadata": {},
     "output_type": "display_data"
    }
   ],
   "source": [
    "## Plot a histogram of peak chart position \n",
    "plt.figure(figsize=(12,8))\n",
    "plt.style.use('fivethirtyeight')\n",
    "\n",
    "vol_hist = plt.hist(sales['volume'], color = 'dodgerblue', bins = 100000)\n",
    "\n",
    "plt.title('Histogram of Bottle Volume', fontsize = 24)\n",
    "\n",
    "# y label\n",
    "plt.ylabel('Frequency')\n",
    "\n",
    "# x label\n",
    "plt.xlabel('Volume (liters)')\n",
    "\n",
    "plt.xlim([0, 6.1])\n",
    "plt.ylim([0, 140])\n",
    "\n",
    "plt.show()"
   ]
  },
  {
   "cell_type": "code",
   "execution_count": 40,
   "metadata": {
    "collapsed": true
   },
   "outputs": [],
   "source": [
    "## Change dollar-value columns to floats\n",
    "sales['cost'] = sales['cost'].apply(lambda x: float(x.replace('$', '')))\n",
    "sales['retail'] = sales['retail'].apply(lambda x: float(x.replace('$', '')))\n",
    "sales['dollars_sold'] = sales['dollars_sold'].apply(lambda x: float(x.replace('$', '')))"
   ]
  },
  {
   "cell_type": "code",
   "execution_count": 41,
   "metadata": {
    "collapsed": false
   },
   "outputs": [
    {
     "data": {
      "text/html": [
       "<div>\n",
       "<table border=\"1\" class=\"dataframe\">\n",
       "  <thead>\n",
       "    <tr style=\"text-align: right;\">\n",
       "      <th></th>\n",
       "      <th>date</th>\n",
       "      <th>store</th>\n",
       "      <th>Zip Code</th>\n",
       "      <th>county</th>\n",
       "      <th>Category Name</th>\n",
       "      <th>vendorID</th>\n",
       "      <th>Item Number</th>\n",
       "      <th>Item Description</th>\n",
       "      <th>volume</th>\n",
       "      <th>cost</th>\n",
       "      <th>retail</th>\n",
       "      <th>number_sold</th>\n",
       "      <th>dollars_sold</th>\n",
       "      <th>volume_sold</th>\n",
       "    </tr>\n",
       "  </thead>\n",
       "  <tbody>\n",
       "    <tr>\n",
       "      <th>0</th>\n",
       "      <td>2016-03-31</td>\n",
       "      <td>5029</td>\n",
       "      <td>52806</td>\n",
       "      <td>Scott</td>\n",
       "      <td>TEQUILA</td>\n",
       "      <td>370</td>\n",
       "      <td>87152</td>\n",
       "      <td>Avion Silver</td>\n",
       "      <td>0.0</td>\n",
       "      <td>9.99</td>\n",
       "      <td>14.99</td>\n",
       "      <td>12</td>\n",
       "      <td>179.88</td>\n",
       "      <td>4.5</td>\n",
       "    </tr>\n",
       "    <tr>\n",
       "      <th>1</th>\n",
       "      <td>2016-03-31</td>\n",
       "      <td>5029</td>\n",
       "      <td>52806</td>\n",
       "      <td>Scott</td>\n",
       "      <td>TEQUILA</td>\n",
       "      <td>395</td>\n",
       "      <td>89197</td>\n",
       "      <td>Jose Cuervo Especial Reposado Tequila</td>\n",
       "      <td>1.0</td>\n",
       "      <td>12.50</td>\n",
       "      <td>18.75</td>\n",
       "      <td>2</td>\n",
       "      <td>37.50</td>\n",
       "      <td>2.0</td>\n",
       "    </tr>\n",
       "    <tr>\n",
       "      <th>2</th>\n",
       "      <td>2016-03-31</td>\n",
       "      <td>4959</td>\n",
       "      <td>50613</td>\n",
       "      <td>Black Hawk</td>\n",
       "      <td>AMERICAN COCKTAILS</td>\n",
       "      <td>380</td>\n",
       "      <td>63959</td>\n",
       "      <td>Uv Blue Raspberry Lemonade Pet</td>\n",
       "      <td>1.0</td>\n",
       "      <td>5.97</td>\n",
       "      <td>8.96</td>\n",
       "      <td>6</td>\n",
       "      <td>53.76</td>\n",
       "      <td>10.5</td>\n",
       "    </tr>\n",
       "    <tr>\n",
       "      <th>3</th>\n",
       "      <td>2016-03-31</td>\n",
       "      <td>2190</td>\n",
       "      <td>50314</td>\n",
       "      <td>Polk</td>\n",
       "      <td>VODKA FLAVORED</td>\n",
       "      <td>205</td>\n",
       "      <td>40597</td>\n",
       "      <td>New Amsterdam Red Berry</td>\n",
       "      <td>0.0</td>\n",
       "      <td>2.24</td>\n",
       "      <td>3.36</td>\n",
       "      <td>48</td>\n",
       "      <td>161.28</td>\n",
       "      <td>9.6</td>\n",
       "    </tr>\n",
       "    <tr>\n",
       "      <th>4</th>\n",
       "      <td>2016-03-31</td>\n",
       "      <td>5240</td>\n",
       "      <td>52358</td>\n",
       "      <td>NaN</td>\n",
       "      <td>CREAM LIQUEURS</td>\n",
       "      <td>305</td>\n",
       "      <td>73055</td>\n",
       "      <td>Rumchata</td>\n",
       "      <td>0.0</td>\n",
       "      <td>12.50</td>\n",
       "      <td>18.75</td>\n",
       "      <td>6</td>\n",
       "      <td>112.50</td>\n",
       "      <td>4.5</td>\n",
       "    </tr>\n",
       "  </tbody>\n",
       "</table>\n",
       "</div>"
      ],
      "text/plain": [
       "        date  store Zip Code      county       Category Name  vendorID  \\\n",
       "0 2016-03-31   5029    52806       Scott             TEQUILA       370   \n",
       "1 2016-03-31   5029    52806       Scott             TEQUILA       395   \n",
       "2 2016-03-31   4959    50613  Black Hawk  AMERICAN COCKTAILS       380   \n",
       "3 2016-03-31   2190    50314        Polk      VODKA FLAVORED       205   \n",
       "4 2016-03-31   5240    52358         NaN      CREAM LIQUEURS       305   \n",
       "\n",
       "   Item Number                       Item Description  volume   cost  retail  \\\n",
       "0        87152                           Avion Silver     0.0   9.99   14.99   \n",
       "1        89197  Jose Cuervo Especial Reposado Tequila     1.0  12.50   18.75   \n",
       "2        63959         Uv Blue Raspberry Lemonade Pet     1.0   5.97    8.96   \n",
       "3        40597                New Amsterdam Red Berry     0.0   2.24    3.36   \n",
       "4        73055                               Rumchata     0.0  12.50   18.75   \n",
       "\n",
       "   number_sold  dollars_sold  volume_sold  \n",
       "0           12        179.88          4.5  \n",
       "1            2         37.50          2.0  \n",
       "2            6         53.76         10.5  \n",
       "3           48        161.28          9.6  \n",
       "4            6        112.50          4.5  "
      ]
     },
     "execution_count": 41,
     "metadata": {},
     "output_type": "execute_result"
    }
   ],
   "source": [
    "sales.head()"
   ]
  },
  {
   "cell_type": "code",
   "execution_count": 43,
   "metadata": {
    "collapsed": true
   },
   "outputs": [],
   "source": [
    "sales['markup'] = [sales['retail'][i] - sales['cost'][i] for i in range(len(sales))]"
   ]
  },
  {
   "cell_type": "code",
   "execution_count": 45,
   "metadata": {
    "collapsed": false
   },
   "outputs": [],
   "source": [
    "sales['total_profit'] = [sales['markup'][i]*sales['number_sold'][i] for i in range(len(sales))]"
   ]
  },
  {
   "cell_type": "code",
   "execution_count": 46,
   "metadata": {
    "collapsed": false
   },
   "outputs": [
    {
     "data": {
      "text/html": [
       "<div>\n",
       "<table border=\"1\" class=\"dataframe\">\n",
       "  <thead>\n",
       "    <tr style=\"text-align: right;\">\n",
       "      <th></th>\n",
       "      <th>date</th>\n",
       "      <th>store</th>\n",
       "      <th>Zip Code</th>\n",
       "      <th>county</th>\n",
       "      <th>Category Name</th>\n",
       "      <th>vendorID</th>\n",
       "      <th>Item Number</th>\n",
       "      <th>Item Description</th>\n",
       "      <th>volume</th>\n",
       "      <th>cost</th>\n",
       "      <th>retail</th>\n",
       "      <th>number_sold</th>\n",
       "      <th>dollars_sold</th>\n",
       "      <th>volume_sold</th>\n",
       "      <th>markup</th>\n",
       "      <th>total_profit</th>\n",
       "    </tr>\n",
       "  </thead>\n",
       "  <tbody>\n",
       "    <tr>\n",
       "      <th>0</th>\n",
       "      <td>2016-03-31</td>\n",
       "      <td>5029</td>\n",
       "      <td>52806</td>\n",
       "      <td>Scott</td>\n",
       "      <td>TEQUILA</td>\n",
       "      <td>370</td>\n",
       "      <td>87152</td>\n",
       "      <td>Avion Silver</td>\n",
       "      <td>0.0</td>\n",
       "      <td>9.99</td>\n",
       "      <td>14.99</td>\n",
       "      <td>12</td>\n",
       "      <td>179.88</td>\n",
       "      <td>4.5</td>\n",
       "      <td>5.00</td>\n",
       "      <td>60.00</td>\n",
       "    </tr>\n",
       "    <tr>\n",
       "      <th>1</th>\n",
       "      <td>2016-03-31</td>\n",
       "      <td>5029</td>\n",
       "      <td>52806</td>\n",
       "      <td>Scott</td>\n",
       "      <td>TEQUILA</td>\n",
       "      <td>395</td>\n",
       "      <td>89197</td>\n",
       "      <td>Jose Cuervo Especial Reposado Tequila</td>\n",
       "      <td>1.0</td>\n",
       "      <td>12.50</td>\n",
       "      <td>18.75</td>\n",
       "      <td>2</td>\n",
       "      <td>37.50</td>\n",
       "      <td>2.0</td>\n",
       "      <td>6.25</td>\n",
       "      <td>12.50</td>\n",
       "    </tr>\n",
       "    <tr>\n",
       "      <th>2</th>\n",
       "      <td>2016-03-31</td>\n",
       "      <td>4959</td>\n",
       "      <td>50613</td>\n",
       "      <td>Black Hawk</td>\n",
       "      <td>AMERICAN COCKTAILS</td>\n",
       "      <td>380</td>\n",
       "      <td>63959</td>\n",
       "      <td>Uv Blue Raspberry Lemonade Pet</td>\n",
       "      <td>1.0</td>\n",
       "      <td>5.97</td>\n",
       "      <td>8.96</td>\n",
       "      <td>6</td>\n",
       "      <td>53.76</td>\n",
       "      <td>10.5</td>\n",
       "      <td>2.99</td>\n",
       "      <td>17.94</td>\n",
       "    </tr>\n",
       "    <tr>\n",
       "      <th>3</th>\n",
       "      <td>2016-03-31</td>\n",
       "      <td>2190</td>\n",
       "      <td>50314</td>\n",
       "      <td>Polk</td>\n",
       "      <td>VODKA FLAVORED</td>\n",
       "      <td>205</td>\n",
       "      <td>40597</td>\n",
       "      <td>New Amsterdam Red Berry</td>\n",
       "      <td>0.0</td>\n",
       "      <td>2.24</td>\n",
       "      <td>3.36</td>\n",
       "      <td>48</td>\n",
       "      <td>161.28</td>\n",
       "      <td>9.6</td>\n",
       "      <td>1.12</td>\n",
       "      <td>53.76</td>\n",
       "    </tr>\n",
       "    <tr>\n",
       "      <th>4</th>\n",
       "      <td>2016-03-31</td>\n",
       "      <td>5240</td>\n",
       "      <td>52358</td>\n",
       "      <td>NaN</td>\n",
       "      <td>CREAM LIQUEURS</td>\n",
       "      <td>305</td>\n",
       "      <td>73055</td>\n",
       "      <td>Rumchata</td>\n",
       "      <td>0.0</td>\n",
       "      <td>12.50</td>\n",
       "      <td>18.75</td>\n",
       "      <td>6</td>\n",
       "      <td>112.50</td>\n",
       "      <td>4.5</td>\n",
       "      <td>6.25</td>\n",
       "      <td>37.50</td>\n",
       "    </tr>\n",
       "  </tbody>\n",
       "</table>\n",
       "</div>"
      ],
      "text/plain": [
       "        date  store Zip Code      county       Category Name  vendorID  \\\n",
       "0 2016-03-31   5029    52806       Scott             TEQUILA       370   \n",
       "1 2016-03-31   5029    52806       Scott             TEQUILA       395   \n",
       "2 2016-03-31   4959    50613  Black Hawk  AMERICAN COCKTAILS       380   \n",
       "3 2016-03-31   2190    50314        Polk      VODKA FLAVORED       205   \n",
       "4 2016-03-31   5240    52358         NaN      CREAM LIQUEURS       305   \n",
       "\n",
       "   Item Number                       Item Description  volume   cost  retail  \\\n",
       "0        87152                           Avion Silver     0.0   9.99   14.99   \n",
       "1        89197  Jose Cuervo Especial Reposado Tequila     1.0  12.50   18.75   \n",
       "2        63959         Uv Blue Raspberry Lemonade Pet     1.0   5.97    8.96   \n",
       "3        40597                New Amsterdam Red Berry     0.0   2.24    3.36   \n",
       "4        73055                               Rumchata     0.0  12.50   18.75   \n",
       "\n",
       "   number_sold  dollars_sold  volume_sold  markup  total_profit  \n",
       "0           12        179.88          4.5    5.00         60.00  \n",
       "1            2         37.50          2.0    6.25         12.50  \n",
       "2            6         53.76         10.5    2.99         17.94  \n",
       "3           48        161.28          9.6    1.12         53.76  \n",
       "4            6        112.50          4.5    6.25         37.50  "
      ]
     },
     "execution_count": 46,
     "metadata": {},
     "output_type": "execute_result"
    }
   ],
   "source": [
    "sales.head()"
   ]
  },
  {
   "cell_type": "markdown",
   "metadata": {},
   "source": [
    "## Exploratory Analysis\n",
    "Make some plots, look at correlations, etc."
   ]
  },
  {
   "cell_type": "code",
   "execution_count": null,
   "metadata": {
    "collapsed": false
   },
   "outputs": [],
   "source": [
    "# Compute correlations\n"
   ]
  },
  {
   "cell_type": "code",
   "execution_count": null,
   "metadata": {
    "collapsed": false
   },
   "outputs": [],
   "source": [
    "# Perform some exploratory analysis, make a few plots"
   ]
  },
  {
   "cell_type": "code",
   "execution_count": null,
   "metadata": {
    "collapsed": false
   },
   "outputs": [],
   "source": [
    "# Fit a linear model\n",
    "\n",
    "# Plot the data and the best fit line\n",
    "\n",
    "# Compute the model fit\n"
   ]
  },
  {
   "cell_type": "code",
   "execution_count": null,
   "metadata": {
    "collapsed": false
   },
   "outputs": [],
   "source": [
    "# Predict Total 2016 sales, compare to 2015\n"
   ]
  },
  {
   "cell_type": "code",
   "execution_count": null,
   "metadata": {
    "collapsed": false
   },
   "outputs": [],
   "source": [
    "# Try per zip code or city to get better resolution\n",
    "\n"
   ]
  },
  {
   "cell_type": "code",
   "execution_count": null,
   "metadata": {
    "collapsed": false
   },
   "outputs": [],
   "source": [
    "# Filter out stores that opened or closed throughout the year\n",
    "# If this wasn't done already\n"
   ]
  },
  {
   "cell_type": "code",
   "execution_count": null,
   "metadata": {
    "collapsed": false
   },
   "outputs": [],
   "source": [
    "# Fit another model\n",
    "\n",
    "# Compute the model fit\n"
   ]
  },
  {
   "cell_type": "code",
   "execution_count": null,
   "metadata": {
    "collapsed": false
   },
   "outputs": [],
   "source": [
    "# Predict Total 2016 sales, compare to 2015\n"
   ]
  }
 ],
 "metadata": {
  "kernelspec": {
   "display_name": "Python 2",
   "language": "python",
   "name": "python2"
  },
  "language_info": {
   "codemirror_mode": {
    "name": "ipython",
    "version": 2
   },
   "file_extension": ".py",
   "mimetype": "text/x-python",
   "name": "python",
   "nbconvert_exporter": "python",
   "pygments_lexer": "ipython2",
   "version": "2.7.11"
  }
 },
 "nbformat": 4,
 "nbformat_minor": 0
}
