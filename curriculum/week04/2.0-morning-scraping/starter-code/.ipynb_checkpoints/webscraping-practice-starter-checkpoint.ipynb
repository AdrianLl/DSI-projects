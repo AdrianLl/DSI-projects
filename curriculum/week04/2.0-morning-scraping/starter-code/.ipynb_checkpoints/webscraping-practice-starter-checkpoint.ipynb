{
 "cells": [
  {
   "cell_type": "code",
   "execution_count": 1,
   "metadata": {
    "collapsed": true
   },
   "outputs": [],
   "source": [
    "from __future__ import division\n",
    "\n",
    "import requests\n",
    "from bs4 import BeautifulSoup\n",
    "from selenium import webdriver\n",
    "\n",
    "\n",
    "import pandas as pd\n",
    "import numpy as np\n",
    "\n",
    "from IPython.core.display import HTML, Image"
   ]
  },
  {
   "cell_type": "markdown",
   "metadata": {},
   "source": [
    "# Scraping a webpage"
   ]
  },
  {
   "cell_type": "markdown",
   "metadata": {},
   "source": [
    "Here's a link to the Box Office Mojo page for Jurrasic Park. See if you can scrape the following information:\n",
    "- Title\n",
    "- Domestic Total Gross\n",
    "- Distributor\n",
    "- MPAA rating"
   ]
  },
  {
   "cell_type": "code",
   "execution_count": 2,
   "metadata": {
    "collapsed": true
   },
   "outputs": [],
   "source": [
    "url = 'http://www.boxofficemojo.com/movies/?id=jurassicpark.htm'"
   ]
  },
  {
   "cell_type": "code",
   "execution_count": 3,
   "metadata": {
    "collapsed": true
   },
   "outputs": [],
   "source": [
    "r = requests.get(url)"
   ]
  },
  {
   "cell_type": "code",
   "execution_count": 4,
   "metadata": {
    "collapsed": false
   },
   "outputs": [
    {
     "data": {
      "text/plain": [
       "requests.models.Response"
      ]
     },
     "execution_count": 4,
     "metadata": {},
     "output_type": "execute_result"
    }
   ],
   "source": [
    "type(r)"
   ]
  },
  {
   "cell_type": "code",
   "execution_count": 5,
   "metadata": {
    "collapsed": false
   },
   "outputs": [
    {
     "data": {
      "text/plain": [
       "<Response [200]>"
      ]
     },
     "execution_count": 5,
     "metadata": {},
     "output_type": "execute_result"
    }
   ],
   "source": [
    "r"
   ]
  },
  {
   "cell_type": "code",
   "execution_count": 6,
   "metadata": {
    "collapsed": false
   },
   "outputs": [
    {
     "name": "stdout",
     "output_type": "stream",
     "text": [
      "('Connection:', 'keep-alive')\n",
      "('Accept-Encoding:', 'gzip, deflate')\n",
      "('Accept:', '*/*')\n",
      "('User-Agent:', 'python-requests/2.9.1')\n"
     ]
    }
   ],
   "source": [
    "for k, v in r.request.headers.items():\n",
    "    print(k + ':', v)"
   ]
  },
  {
   "cell_type": "code",
   "execution_count": 7,
   "metadata": {
    "collapsed": false
   },
   "outputs": [
    {
     "name": "stdout",
     "output_type": "stream",
     "text": [
      "('Content-Length:', '9639')\n",
      "('X-XSS-Protection:', '1; mode=block')\n",
      "('X-Content-Type-Options:', 'nosniff')\n",
      "('Content-Encoding:', 'gzip')\n",
      "('Expires:', 'Thu, 19 Nov 1981 08:52:00 GMT')\n",
      "('Server:', 'Server')\n",
      "('Connection:', 'keep-alive')\n",
      "('X-Permitted-Cross-Domain-Policies:', 'master-only')\n",
      "('Pragma:', 'no-cache')\n",
      "('Cache-Control:', 'no-store, no-cache, must-revalidate, post-check=0, pre-check=0')\n",
      "('Date:', 'Tue, 28 Jun 2016 13:09:00 GMT')\n",
      "('X-Frame-Options:', 'SAMEORIGIN')\n",
      "('Content-Type:', 'text/html')\n"
     ]
    }
   ],
   "source": [
    "for k, v in r.headers.items():\n",
    "    print(k + ':', v)"
   ]
  },
  {
   "cell_type": "code",
   "execution_count": 8,
   "metadata": {
    "collapsed": true
   },
   "outputs": [],
   "source": [
    "driver = webdriver.PhantomJS(executable_path='/Users/Rebecca/DSI-projects/curriculum/week04/1.3-webscraping/phantomjs-2.1.1-macosx/bin/phantomjs')\n",
    "driver.set_window_size(1024, 768) \n",
    "driver.get('http://www.boxofficemojo.com/movies/?id=jurassicpark.htm')"
   ]
  },
  {
   "cell_type": "code",
   "execution_count": 9,
   "metadata": {
    "collapsed": true
   },
   "outputs": [],
   "source": [
    "r_soup = BeautifulSoup(r.content, \"lxml\")"
   ]
  },
  {
   "cell_type": "raw",
   "metadata": {},
   "source": []
  },
  {
   "cell_type": "markdown",
   "metadata": {},
   "source": [
    "# Scraping a few webpages"
   ]
  },
  {
   "cell_type": "markdown",
   "metadata": {},
   "source": [
    "Let's say we want to get that same information for several movies at once. Here's a link to the top 100 movies from 1993. Use this table to generate a list of URLs from each movie. \n",
    "\n"
   ]
  },
  {
   "cell_type": "code",
   "execution_count": null,
   "metadata": {
    "collapsed": true
   },
   "outputs": [],
   "source": [
    "top_100_url = 'http://www.boxofficemojo.com/yearly/chart/?yr=1993&p=.htm'"
   ]
  },
  {
   "cell_type": "markdown",
   "metadata": {},
   "source": [
    "### Reusing your code"
   ]
  },
  {
   "cell_type": "markdown",
   "metadata": {},
   "source": [
    "See if you can the code you wrote for Jurrasic Park into a function to grab Title, Gross, Distributor, and MPAA rating for each movie on the top 100.  "
   ]
  },
  {
   "cell_type": "code",
   "execution_count": null,
   "metadata": {
    "collapsed": true
   },
   "outputs": [],
   "source": []
  },
  {
   "cell_type": "markdown",
   "metadata": {},
   "source": [
    "# Bonus: Turn the data you collected into a dataframe. \n",
    "Plot the Domestic total gross by MPAA rating, then by Distributor"
   ]
  },
  {
   "cell_type": "code",
   "execution_count": null,
   "metadata": {
    "collapsed": true
   },
   "outputs": [],
   "source": []
  }
 ],
 "metadata": {
  "kernelspec": {
   "display_name": "Python 2",
   "language": "python",
   "name": "python2"
  },
  "language_info": {
   "codemirror_mode": {
    "name": "ipython",
    "version": 2
   },
   "file_extension": ".py",
   "mimetype": "text/x-python",
   "name": "python",
   "nbconvert_exporter": "python",
   "pygments_lexer": "ipython2",
   "version": "2.7.11"
  }
 },
 "nbformat": 4,
 "nbformat_minor": 0
}
