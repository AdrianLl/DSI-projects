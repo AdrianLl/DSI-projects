{
 "cells": [
  {
   "cell_type": "code",
   "execution_count": 5,
   "metadata": {
    "collapsed": true
   },
   "outputs": [],
   "source": [
    "from sklearn import datasets\n",
    "import matplotlib.pyplot as plt\n",
    "import numpy as np\n",
    "import pandas as pd\n",
    "from sklearn.metrics.pairwise import cosine_similarity\n",
    "\n",
    "%matplotlib inline"
   ]
  },
  {
   "cell_type": "code",
   "execution_count": 16,
   "metadata": {
    "collapsed": true
   },
   "outputs": [],
   "source": [
    "digits = datasets.load_digits()\n",
    "\n",
    "def display_img(img_no):\n",
    "    fig, ax = plt.subplots()\n",
    "    ax.set_xticklabels([])\n",
    "    ax.set_yticklabels([])\n",
    "    ax.matshow(digits.images[img_no], cmap = plt.cm.binary);\n",
    "    return"
   ]
  },
  {
   "cell_type": "code",
   "execution_count": 26,
   "metadata": {
    "collapsed": false
   },
   "outputs": [
    {
     "data": {
      "image/png": "[encoded data removed]",
      "text/plain": [
       "<matplotlib.figure.Figure at 0x11996dcd0>"
      ]
     },
     "metadata": {},
     "output_type": "display_data"
    }
   ],
   "source": [
    "display_img(6)"
   ]
  },
  {
   "cell_type": "code",
   "execution_count": 27,
   "metadata": {
    "collapsed": false
   },
   "outputs": [
    {
     "data": {
      "text/plain": [
       "array([[  0.,   0.,   0.,  12.,  13.,   0.,   0.,   0.],\n",
       "       [  0.,   0.,   5.,  16.,   8.,   0.,   0.,   0.],\n",
       "       [  0.,   0.,  13.,  16.,   3.,   0.,   0.,   0.],\n",
       "       [  0.,   0.,  14.,  13.,   0.,   0.,   0.,   0.],\n",
       "       [  0.,   0.,  15.,  12.,   7.,   2.,   0.,   0.],\n",
       "       [  0.,   0.,  13.,  16.,  13.,  16.,   3.,   0.],\n",
       "       [  0.,   0.,   7.,  16.,  11.,  15.,   8.,   0.],\n",
       "       [  0.,   0.,   1.,   9.,  15.,  11.,   3.,   0.]])"
      ]
     },
     "execution_count": 27,
     "metadata": {},
     "output_type": "execute_result"
    }
   ],
   "source": [
    "digits.images[6]"
   ]
  },
  {
   "cell_type": "code",
   "execution_count": 37,
   "metadata": {
    "collapsed": false
   },
   "outputs": [
    {
     "data": {
      "text/html": [
       "<div>\n",
       "<table border=\"1\" class=\"dataframe\">\n",
       "  <thead>\n",
       "    <tr style=\"text-align: right;\">\n",
       "      <th></th>\n",
       "      <th>similarity</th>\n",
       "    </tr>\n",
       "  </thead>\n",
       "  <tbody>\n",
       "    <tr>\n",
       "      <th>0</th>\n",
       "      <td>1.000000</td>\n",
       "    </tr>\n",
       "    <tr>\n",
       "      <th>1</th>\n",
       "      <td>0.980739</td>\n",
       "    </tr>\n",
       "    <tr>\n",
       "      <th>2</th>\n",
       "      <td>0.974474</td>\n",
       "    </tr>\n",
       "    <tr>\n",
       "      <th>3</th>\n",
       "      <td>0.974188</td>\n",
       "    </tr>\n",
       "    <tr>\n",
       "      <th>4</th>\n",
       "      <td>0.971831</td>\n",
       "    </tr>\n",
       "  </tbody>\n",
       "</table>\n",
       "</div>"
      ],
      "text/plain": [
       "   similarity\n",
       "0    1.000000\n",
       "1    0.980739\n",
       "2    0.974474\n",
       "3    0.974188\n",
       "4    0.971831"
      ]
     },
     "execution_count": 37,
     "metadata": {},
     "output_type": "execute_result"
    }
   ],
   "source": [
    "X = digits.data\n",
    "co_sim = cosine_similarity(X[0].reshape(1,-1), X)\n",
    "cosf = pd.DataFrame(co_sim).T\n",
    "cosf.columns = ['similarity']\n",
    "cosf.sort_values('similarity', ascending=False, inplace = True)\n",
    "cosf.reset_index(drop = True, inplace = True)\n",
    "cosf.head()"
   ]
  },
  {
   "cell_type": "code",
   "execution_count": 33,
   "metadata": {
    "collapsed": false
   },
   "outputs": [
    {
     "data": {
      "image/png": "[encoded data removed]",
      "text/plain": [
       "<matplotlib.figure.Figure at 0x11991e790>"
      ]
     },
     "metadata": {},
     "output_type": "display_data"
    }
   ],
   "source": [
    "display_img(1626)"
   ]
  },
  {
   "cell_type": "code",
   "execution_count": 41,
   "metadata": {
    "collapsed": false,
    "scrolled": false
   },
   "outputs": [
    {
     "name": "stdout",
     "output_type": "stream",
     "text": [
      "None\n",
      "None\n",
      "None\n",
      "None\n",
      "None\n",
      "None\n",
      "None\n",
      "None\n",
      "None\n",
      "None\n",
      "None\n",
      "None\n",
      "None\n",
      "None\n",
      "None\n",
      "None\n",
      "None\n",
      "None\n"
     ]
    },
    {
     "data": {
      "image/png": "[encoded data removed]",
      "text/plain": [
       "<matplotlib.figure.Figure at 0x11dba9fd0>"
      ]
     },
     "metadata": {},
     "output_type": "display_data"
    },
    {
     "data": {
      "image/png": "[encoded data removed]",
      "text/plain": [
       "<matplotlib.figure.Figure at 0x124e999d0>"
      ]
     },
     "metadata": {},
     "output_type": "display_data"
    },
    {
     "data": {
      "image/png": "[encoded data removed]",
      "text/plain": [
       "<matplotlib.figure.Figure at 0x12084af10>"
      ]
     },
     "metadata": {},
     "output_type": "display_data"
    },
    {
     "data": {
      "image/png": "[encoded data removed]",
      "text/plain": [
       "<matplotlib.figure.Figure at 0x12094ae90>"
      ]
     },
     "metadata": {},
     "output_type": "display_data"
    },
    {
     "data": {
      "image/png": "[encoded data removed]",
      "text/plain": [
       "<matplotlib.figure.Figure at 0x120b34b10>"
      ]
     },
     "metadata": {},
     "output_type": "display_data"
    },
    {
     "data": {
      "image/png": "[encoded data removed]",
      "text/plain": [
       "<matplotlib.figure.Figure at 0x120c083d0>"
      ]
     },
     "metadata": {},
     "output_type": "display_data"
    },
    {
     "data": {
      "image/png": "[encoded data removed]",
      "text/plain": [
       "<matplotlib.figure.Figure at 0x120d2e6d0>"
      ]
     },
     "metadata": {},
     "output_type": "display_data"
    },
    {
     "data": {
      "image/png": "[encoded data removed]",
      "text/plain": [
       "<matplotlib.figure.Figure at 0x120e486d0>"
      ]
     },
     "metadata": {},
     "output_type": "display_data"
    },
    {
     "data": {
      "image/png": "[encoded data removed]",
      "text/plain": [
       "<matplotlib.figure.Figure at 0x12109ef90>"
      ]
     },
     "metadata": {},
     "output_type": "display_data"
    },
    {
     "data": {
      "image/png": "[encoded data removed]",
      "text/plain": [
       "<matplotlib.figure.Figure at 0x12119ab10>"
      ]
     },
     "metadata": {},
     "output_type": "display_data"
    },
    {
     "data": {
      "image/png": "[encoded data removed]",
      "text/plain": [
       "<matplotlib.figure.Figure at 0x121388310>"
      ]
     },
     "metadata": {},
     "output_type": "display_data"
    },
    {
     "data": {
      "image/png": "[encoded data removed]",
      "text/plain": [
       "<matplotlib.figure.Figure at 0x12144ff10>"
      ]
     },
     "metadata": {},
     "output_type": "display_data"
    },
    {
     "data": {
      "image/png": "[encoded data removed]",
      "text/plain": [
       "<matplotlib.figure.Figure at 0x121596a10>"
      ]
     },
     "metadata": {},
     "output_type": "display_data"
    },
    {
     "data": {
      "image/png": "[encoded data removed]",
      "text/plain": [
       "<matplotlib.figure.Figure at 0x12494cbd0>"
      ]
     },
     "metadata": {},
     "output_type": "display_data"
    },
    {
     "data": {
      "image/png": "[encoded data removed]",
      "text/plain": [
       "<matplotlib.figure.Figure at 0x11da93610>"
      ]
     },
     "metadata": {},
     "output_type": "display_data"
    },
    {
     "data": {
      "image/png": "[encoded data removed]",
      "text/plain": [
       "<matplotlib.figure.Figure at 0x11d6eaa50>"
      ]
     },
     "metadata": {},
     "output_type": "display_data"
    },
    {
     "data": {
      "image/png": "[encoded data removed]",
      "text/plain": [
       "<matplotlib.figure.Figure at 0x11d90ed10>"
      ]
     },
     "metadata": {},
     "output_type": "display_data"
    },
    {
     "data": {
      "image/png": "[encoded data removed]",
      "text/plain": [
       "<matplotlib.figure.Figure at 0x11c3e7210>"
      ]
     },
     "metadata": {},
     "output_type": "display_data"
    }
   ],
   "source": [
    "count = -1\n",
    "for i in range(len(cosf)):\n",
    "    if count%100 == 0:\n",
    "        print display_img(cosf.index[i])\n",
    "    count += 1\n",
    "    "
   ]
  },
  {
   "cell_type": "code",
   "execution_count": 1,
   "metadata": {
    "collapsed": false
   },
   "outputs": [
    {
     "name": "stderr",
     "output_type": "stream",
     "text": [
      "[INFO] graphlab.cython.cy_server: GraphLab Create v2.1 started. Logging: /tmp/graphlab_server_1472479954.log\n"
     ]
    },
    {
     "name": "stdout",
     "output_type": "stream",
     "text": [
      "This non-commercial license of GraphLab Create for academic use is assigned to rebecca.e.vitale@gmail.com and will expire on August 12, 2017.\n"
     ]
    },
    {
     "data": {
      "text/html": [
       "<pre>Downloading http://s3.amazonaws.com/dato-datasets/coursera/deep_learning/image_train_data/dir_archive.ini to /var/tmp/graphlab-Rebecca/2025/9268c69a-f2bc-4931-b4f6-4fc97fcfeddd.ini</pre>"
      ],
      "text/plain": [
       "Downloading http://s3.amazonaws.com/dato-datasets/coursera/deep_learning/image_train_data/dir_archive.ini to /var/tmp/graphlab-Rebecca/2025/9268c69a-f2bc-4931-b4f6-4fc97fcfeddd.ini"
      ]
     },
     "metadata": {},
     "output_type": "display_data"
    },
    {
     "data": {
      "text/html": [
       "<pre>Downloading http://s3.amazonaws.com/dato-datasets/coursera/deep_learning/image_train_data/objects.bin to /var/tmp/graphlab-Rebecca/2025/09c1f90e-d704-4419-a3c5-d5d4f77918e3.bin</pre>"
      ],
      "text/plain": [
       "Downloading http://s3.amazonaws.com/dato-datasets/coursera/deep_learning/image_train_data/objects.bin to /var/tmp/graphlab-Rebecca/2025/09c1f90e-d704-4419-a3c5-d5d4f77918e3.bin"
      ]
     },
     "metadata": {},
     "output_type": "display_data"
    },
    {
     "data": {
      "text/html": [
       "<pre>Downloading http://s3.amazonaws.com/dato-datasets/coursera/deep_learning/image_train_data/m_8b0619884fada761.frame_idx to /var/tmp/graphlab-Rebecca/2025/1dc5f48b-d435-48ee-8096-b8680f4dfd9f.frame_idx</pre>"
      ],
      "text/plain": [
       "Downloading http://s3.amazonaws.com/dato-datasets/coursera/deep_learning/image_train_data/m_8b0619884fada761.frame_idx to /var/tmp/graphlab-Rebecca/2025/1dc5f48b-d435-48ee-8096-b8680f4dfd9f.frame_idx"
      ]
     },
     "metadata": {},
     "output_type": "display_data"
    },
    {
     "data": {
      "text/html": [
       "<pre>Downloading http://s3.amazonaws.com/dato-datasets/coursera/deep_learning/image_train_data/m_8b0619884fada761.sidx to /var/tmp/graphlab-Rebecca/2025/36d1adef-24b3-4eb4-9101-c68adc1a31f7.sidx</pre>"
      ],
      "text/plain": [
       "Downloading http://s3.amazonaws.com/dato-datasets/coursera/deep_learning/image_train_data/m_8b0619884fada761.sidx to /var/tmp/graphlab-Rebecca/2025/36d1adef-24b3-4eb4-9101-c68adc1a31f7.sidx"
      ]
     },
     "metadata": {},
     "output_type": "display_data"
    },
    {
     "data": {
      "text/html": [
       "<pre>Downloading http://s3.amazonaws.com/dato-datasets/coursera/deep_learning/image_train_data/m_8b0619884fada761.0000 to /var/tmp/graphlab-Rebecca/2025/1b32b05d-2c49-4d82-928a-449b9366a76e.0000</pre>"
      ],
      "text/plain": [
       "Downloading http://s3.amazonaws.com/dato-datasets/coursera/deep_learning/image_train_data/m_8b0619884fada761.0000 to /var/tmp/graphlab-Rebecca/2025/1b32b05d-2c49-4d82-928a-449b9366a76e.0000"
      ]
     },
     "metadata": {},
     "output_type": "display_data"
    },
    {
     "data": {
      "text/html": [
       "<div style=\"max-height:1000px;max-width:1500px;overflow:auto;\"><table frame=\"box\" rules=\"cols\">\n",
       "    <tr>\n",
       "        <th style=\"padding-left: 1em; padding-right: 1em; text-align: center\">id</th>\n",
       "        <th style=\"padding-left: 1em; padding-right: 1em; text-align: center\">image</th>\n",
       "        <th style=\"padding-left: 1em; padding-right: 1em; text-align: center\">label</th>\n",
       "        <th style=\"padding-left: 1em; padding-right: 1em; text-align: center\">deep_features</th>\n",
       "        <th style=\"padding-left: 1em; padding-right: 1em; text-align: center\">image_array</th>\n",
       "    </tr>\n",
       "    <tr>\n",
       "        <td style=\"padding-left: 1em; padding-right: 1em; text-align: center; vertical-align: top\">24</td>\n",
       "        <td style=\"padding-left: 1em; padding-right: 1em; text-align: center; vertical-align: top\">Height: 32 Width: 32</td>\n",
       "        <td style=\"padding-left: 1em; padding-right: 1em; text-align: center; vertical-align: top\">bird</td>\n",
       "        <td style=\"padding-left: 1em; padding-right: 1em; text-align: center; vertical-align: top\">[0.242871761322,<br>1.09545373917, 0.0, ...</td>\n",
       "        <td style=\"padding-left: 1em; padding-right: 1em; text-align: center; vertical-align: top\">[73.0, 77.0, 58.0, 71.0,<br>68.0, 50.0, 77.0, 69.0, ...</td>\n",
       "    </tr>\n",
       "    <tr>\n",
       "        <td style=\"padding-left: 1em; padding-right: 1em; text-align: center; vertical-align: top\">33</td>\n",
       "        <td style=\"padding-left: 1em; padding-right: 1em; text-align: center; vertical-align: top\">Height: 32 Width: 32</td>\n",
       "        <td style=\"padding-left: 1em; padding-right: 1em; text-align: center; vertical-align: top\">cat</td>\n",
       "        <td style=\"padding-left: 1em; padding-right: 1em; text-align: center; vertical-align: top\">[0.525087952614, 0.0,<br>0.0, 0.0, 0.0, 0.0, ...</td>\n",
       "        <td style=\"padding-left: 1em; padding-right: 1em; text-align: center; vertical-align: top\">[7.0, 5.0, 8.0, 7.0, 5.0,<br>8.0, 5.0, 4.0, 6.0, 7.0, ...</td>\n",
       "    </tr>\n",
       "    <tr>\n",
       "        <td style=\"padding-left: 1em; padding-right: 1em; text-align: center; vertical-align: top\">36</td>\n",
       "        <td style=\"padding-left: 1em; padding-right: 1em; text-align: center; vertical-align: top\">Height: 32 Width: 32</td>\n",
       "        <td style=\"padding-left: 1em; padding-right: 1em; text-align: center; vertical-align: top\">cat</td>\n",
       "        <td style=\"padding-left: 1em; padding-right: 1em; text-align: center; vertical-align: top\">[0.566015958786, 0.0,<br>0.0, 0.0, 0.0, 0.0, ...</td>\n",
       "        <td style=\"padding-left: 1em; padding-right: 1em; text-align: center; vertical-align: top\">[169.0, 122.0, 65.0,<br>131.0, 108.0, 75.0, ...</td>\n",
       "    </tr>\n",
       "    <tr>\n",
       "        <td style=\"padding-left: 1em; padding-right: 1em; text-align: center; vertical-align: top\">70</td>\n",
       "        <td style=\"padding-left: 1em; padding-right: 1em; text-align: center; vertical-align: top\">Height: 32 Width: 32</td>\n",
       "        <td style=\"padding-left: 1em; padding-right: 1em; text-align: center; vertical-align: top\">dog</td>\n",
       "        <td style=\"padding-left: 1em; padding-right: 1em; text-align: center; vertical-align: top\">[1.12979578972, 0.0, 0.0,<br>0.778194487095, 0.0, ...</td>\n",
       "        <td style=\"padding-left: 1em; padding-right: 1em; text-align: center; vertical-align: top\">[154.0, 179.0, 152.0,<br>159.0, 183.0, 157.0, ...</td>\n",
       "    </tr>\n",
       "    <tr>\n",
       "        <td style=\"padding-left: 1em; padding-right: 1em; text-align: center; vertical-align: top\">90</td>\n",
       "        <td style=\"padding-left: 1em; padding-right: 1em; text-align: center; vertical-align: top\">Height: 32 Width: 32</td>\n",
       "        <td style=\"padding-left: 1em; padding-right: 1em; text-align: center; vertical-align: top\">bird</td>\n",
       "        <td style=\"padding-left: 1em; padding-right: 1em; text-align: center; vertical-align: top\">[1.71786928177, 0.0, 0.0,<br>0.0, 0.0, 0.0, ...</td>\n",
       "        <td style=\"padding-left: 1em; padding-right: 1em; text-align: center; vertical-align: top\">[216.0, 195.0, 180.0,<br>201.0, 178.0, 160.0, ...</td>\n",
       "    </tr>\n",
       "    <tr>\n",
       "        <td style=\"padding-left: 1em; padding-right: 1em; text-align: center; vertical-align: top\">97</td>\n",
       "        <td style=\"padding-left: 1em; padding-right: 1em; text-align: center; vertical-align: top\">Height: 32 Width: 32</td>\n",
       "        <td style=\"padding-left: 1em; padding-right: 1em; text-align: center; vertical-align: top\">automobile</td>\n",
       "        <td style=\"padding-left: 1em; padding-right: 1em; text-align: center; vertical-align: top\">[1.57818555832, 0.0, 0.0,<br>0.0, 0.0, 0.0, ...</td>\n",
       "        <td style=\"padding-left: 1em; padding-right: 1em; text-align: center; vertical-align: top\">[33.0, 44.0, 27.0, 29.0,<br>44.0, 31.0, 32.0, 45.0, ...</td>\n",
       "    </tr>\n",
       "    <tr>\n",
       "        <td style=\"padding-left: 1em; padding-right: 1em; text-align: center; vertical-align: top\">107</td>\n",
       "        <td style=\"padding-left: 1em; padding-right: 1em; text-align: center; vertical-align: top\">Height: 32 Width: 32</td>\n",
       "        <td style=\"padding-left: 1em; padding-right: 1em; text-align: center; vertical-align: top\">dog</td>\n",
       "        <td style=\"padding-left: 1em; padding-right: 1em; text-align: center; vertical-align: top\">[0.0, 0.0,<br>0.220677852631, 0.0,  ...</td>\n",
       "        <td style=\"padding-left: 1em; padding-right: 1em; text-align: center; vertical-align: top\">[97.0, 51.0, 31.0, 104.0,<br>58.0, 38.0, 107.0, 61.0, ...</td>\n",
       "    </tr>\n",
       "    <tr>\n",
       "        <td style=\"padding-left: 1em; padding-right: 1em; text-align: center; vertical-align: top\">121</td>\n",
       "        <td style=\"padding-left: 1em; padding-right: 1em; text-align: center; vertical-align: top\">Height: 32 Width: 32</td>\n",
       "        <td style=\"padding-left: 1em; padding-right: 1em; text-align: center; vertical-align: top\">bird</td>\n",
       "        <td style=\"padding-left: 1em; padding-right: 1em; text-align: center; vertical-align: top\">[0.0, 0.23753464222, 0.0,<br>0.0, 0.0, 0.0, ...</td>\n",
       "        <td style=\"padding-left: 1em; padding-right: 1em; text-align: center; vertical-align: top\">[93.0, 96.0, 88.0, 102.0,<br>106.0, 97.0, 117.0, ...</td>\n",
       "    </tr>\n",
       "    <tr>\n",
       "        <td style=\"padding-left: 1em; padding-right: 1em; text-align: center; vertical-align: top\">136</td>\n",
       "        <td style=\"padding-left: 1em; padding-right: 1em; text-align: center; vertical-align: top\">Height: 32 Width: 32</td>\n",
       "        <td style=\"padding-left: 1em; padding-right: 1em; text-align: center; vertical-align: top\">automobile</td>\n",
       "        <td style=\"padding-left: 1em; padding-right: 1em; text-align: center; vertical-align: top\">[0.0, 0.0, 0.0, 0.0, 0.0,<br>0.0, 7.5737862587, 0.0, ...</td>\n",
       "        <td style=\"padding-left: 1em; padding-right: 1em; text-align: center; vertical-align: top\">[35.0, 59.0, 53.0, 36.0,<br>56.0, 56.0, 42.0, 62.0, ...</td>\n",
       "    </tr>\n",
       "    <tr>\n",
       "        <td style=\"padding-left: 1em; padding-right: 1em; text-align: center; vertical-align: top\">138</td>\n",
       "        <td style=\"padding-left: 1em; padding-right: 1em; text-align: center; vertical-align: top\">Height: 32 Width: 32</td>\n",
       "        <td style=\"padding-left: 1em; padding-right: 1em; text-align: center; vertical-align: top\">bird</td>\n",
       "        <td style=\"padding-left: 1em; padding-right: 1em; text-align: center; vertical-align: top\">[0.658935725689, 0.0,<br>0.0, 0.0, 0.0, 0.0, ...</td>\n",
       "        <td style=\"padding-left: 1em; padding-right: 1em; text-align: center; vertical-align: top\">[205.0, 193.0, 195.0,<br>200.0, 187.0, 193.0, ...</td>\n",
       "    </tr>\n",
       "</table>\n",
       "[2005 rows x 5 columns]<br/>Note: Only the head of the SFrame is printed.<br/>You can use print_rows(num_rows=m, num_columns=n) to print more rows and columns.\n",
       "</div>"
      ],
      "text/plain": [
       "Columns:\n",
       "\tid\tint\n",
       "\timage\tImage\n",
       "\tlabel\tstr\n",
       "\tdeep_features\tarray\n",
       "\timage_array\tarray\n",
       "\n",
       "Rows: 2005\n",
       "\n",
       "Data:\n",
       "+-----+----------------------+------------+-------------------------------+\n",
       "|  id |        image         |   label    |         deep_features         |\n",
       "+-----+----------------------+------------+-------------------------------+\n",
       "|  24 | Height: 32 Width: 32 |    bird    | [0.242871761322, 1.0954537... |\n",
       "|  33 | Height: 32 Width: 32 |    cat     | [0.525087952614, 0.0, 0.0,... |\n",
       "|  36 | Height: 32 Width: 32 |    cat     | [0.566015958786, 0.0, 0.0,... |\n",
       "|  70 | Height: 32 Width: 32 |    dog     | [1.12979578972, 0.0, 0.0, ... |\n",
       "|  90 | Height: 32 Width: 32 |    bird    | [1.71786928177, 0.0, 0.0, ... |\n",
       "|  97 | Height: 32 Width: 32 | automobile | [1.57818555832, 0.0, 0.0, ... |\n",
       "| 107 | Height: 32 Width: 32 |    dog     | [0.0, 0.0, 0.220677852631,... |\n",
       "| 121 | Height: 32 Width: 32 |    bird    | [0.0, 0.23753464222, 0.0, ... |\n",
       "| 136 | Height: 32 Width: 32 | automobile | [0.0, 0.0, 0.0, 0.0, 0.0, ... |\n",
       "| 138 | Height: 32 Width: 32 |    bird    | [0.658935725689, 0.0, 0.0,... |\n",
       "+-----+----------------------+------------+-------------------------------+\n",
       "+-------------------------------+\n",
       "|          image_array          |\n",
       "+-------------------------------+\n",
       "| [73.0, 77.0, 58.0, 71.0, 6... |\n",
       "| [7.0, 5.0, 8.0, 7.0, 5.0, ... |\n",
       "| [169.0, 122.0, 65.0, 131.0... |\n",
       "| [154.0, 179.0, 152.0, 159.... |\n",
       "| [216.0, 195.0, 180.0, 201.... |\n",
       "| [33.0, 44.0, 27.0, 29.0, 4... |\n",
       "| [97.0, 51.0, 31.0, 104.0, ... |\n",
       "| [93.0, 96.0, 88.0, 102.0, ... |\n",
       "| [35.0, 59.0, 53.0, 36.0, 5... |\n",
       "| [205.0, 193.0, 195.0, 200.... |\n",
       "+-------------------------------+\n",
       "[2005 rows x 5 columns]\n",
       "Note: Only the head of the SFrame is printed.\n",
       "You can use print_rows(num_rows=m, num_columns=n) to print more rows and columns."
      ]
     },
     "execution_count": 1,
     "metadata": {},
     "output_type": "execute_result"
    }
   ],
   "source": [
    "import graphlab\n",
    "graphlab.canvas.set_target('ipynb')\n",
    "gl_img = graphlab.SFrame('http://s3.amazonaws.com/dato-datasets/coursera/deep_learning/image_train_data')\n",
    "gl_img"
   ]
  },
  {
   "cell_type": "code",
   "execution_count": 6,
   "metadata": {
    "collapsed": false
   },
   "outputs": [
    {
     "data": {
      "application/javascript": [
       "$(\"head\").append($(\"<link/>\").attr({\n",
       "  rel:  \"stylesheet\",\n",
       "  type: \"text/css\",\n",
       "  href: \"//cdnjs.cloudflare.com/ajax/libs/font-awesome/4.1.0/css/font-awesome.min.css\"\n",
       "}));\n",
       "$(\"head\").append($(\"<link/>\").attr({\n",
       "  rel:  \"stylesheet\",\n",
       "  type: \"text/css\",\n",
       "  href: \"https://static.turi.com/products/graphlab-create/2.1/canvas/css/canvas.css\"\n",
       "}));\n",
       "\n",
       "            (function(){\n",
       "\n",
       "                var e = null;\n",
       "                if (typeof element == 'undefined') {\n",
       "                    var scripts = document.getElementsByTagName('script');\n",
       "                    var thisScriptTag = scripts[scripts.length-1];\n",
       "                    var parentDiv = thisScriptTag.parentNode;\n",
       "                    e = document.createElement('div');\n",
       "                    parentDiv.appendChild(e);\n",
       "                } else {\n",
       "                    e = element[0];\n",
       "                }\n",
       "\n",
       "                if (typeof requirejs !== 'undefined') {\n",
       "                    // disable load timeout; ipython_app.js is large and can take a while to load.\n",
       "                    requirejs.config({waitSeconds: 0});\n",
       "                }\n",
       "\n",
       "                require(['https://static.turi.com/products/graphlab-create/2.1/canvas/js/ipython_app.js'], function(IPythonApp){\n",
       "                    var app = new IPythonApp();\n",
       "                    app.attachView('sarray','Images', {\"ipython\": true, \"rows\": [{\"format\": \"png\", \"value\": \"image/png;base64,iVBORw0KGgoAAAANSUhEUgAAAIAAAACACAIAAABMXPacAAAQbklEQVR4nO1dSZMcRxV+tXRVd/Xe07PPaEYejWXZsiUkE2axA8IEB04c4MKBH0pAmAhwQGCDWCwHwouENPv09L7W0lUc1JPf1+AzqUO+05uerKqsfp3fy3yr5efy8j+UZqnibbEU71r2/w4WEc/zFJ/P44bhJFL8dDbDfWi8iBRLJcXPBY8ulwPFN4q+4ke9nuJbHfCzOe5ZCDCNGt1nPMWU0mzpLQr0clYOj9vc21d8tdFUfFArK/7y4ljxeQf3KZfxaqmFf4xHw5fMN3+hhv5vZASgmdwMyxBQIxmvRvoY8CApXRlFCe7oYlA0x+eJYLxfKPAkis01xTc3sMbfvHNT8a9trSr+8d8eKf6LL76mWWONr682FF8t4XGMLZ4PaBKRYa8Pfgakeufhe4qvra0rvt/rKD6cgJcEYOvYeGuXv1TffcmYFaCZjAA0kxGAZnLj+QKyeStpW9Y38rzFtEg5ZKQPgjI2Z9VVALftAKDv3L3Lk8j5wOVCgGk8fEDDpgDo7fUaHlF4XfHdq67inSRWvDsJFZ8KpuGWqzyNnc264icJ3ujs/Dket76i+Fq1qPhGFerESXOKt2z8xFP6uU+SxbdnVoBmMgLQTEYAmsndPzx8ye3euKE+9XJkKqBzwGg4VHyP7AGNFSBjmXTALMRu2veAjM1VgLiIXF2eKf7+W/cUX3EAxI8//7vi496V4sMecH90gc+LeeiVchlgPaUjS6tzwdMYDTCr3Vu3FZ+GMHGcHz1V/N7uDt6oXlF8Fk8x1QSPm4Tg08zogFeDjAA0kxGAZrJ++otfvuSaTeC467qKT+ZAwLPzc8WvNDB+fR3GnMkUCNhtA6AnQ9IZZegDEVmrYRO93gAQnz37SvHZGLcKbJibWpeXiu9NYYQpBNABbI62HDw6IvO1iJyd41bl5obiq1v7eIsUKrFSxTEimY0Ub2c4gqRztozh2pOLhe3IrADNZASgmYwANJN7drQwdHg5IJSXp3MA+QYqRezxR8OB4oMCAHdjExbz9ikcde++c6j4va0lI4yTTBR/+jXs+9YUuN+owaYfTTDe92GeqpLhJSjiFWplXFso4kyQpFB1IhJ4+Ne/z3FEqDbwuJyDS4ZX0IieBxNTRscXdkPGpE19bzFVswI0kxGAZjIC0Exuv7vYwL54Crz2A4BmpwMgPjsBMr5xB4b473/3fcV/9NFvFJ/Q5v3+z36s+HAI9BSRfqeNCdEmupzHnp0wViSHP6pVqCVnBJ9B3gNYl8junyOXxnAIcBeRehUhJI4PFbK2izPBOAGOX1yRH5jd5fSzjmPYf6IIY7xc8b+HGtJCRgCayQhAM7nzeAFMJ0fAZXbSTqZwqOZpp3zv7YeK//h3f1T83x/9Q/E//+mHih+0cf+oD6uLiEyHffoLQFkhfHfJ/kMeCsnIwJKr0fHCwys4JcQapQIQt128mojMBpjGCoUg7u3gZDOlcEabLGbHZ6TVAPuS0njHwVRn4ULVmRWgmYwANJMRgGZy/WsT0HgM/61DMTylAozptg3U+/Wvfk3jgW4f/hC4//DhfcUnY5whem1s/GVpWy+2iw14FOFMIPQIL8CU3BwF5BAoB6vbit+9jfiip/+CigrHrHvEdUmd+PQNVPCIeAxvxxqFsV52cCYYjeCWsGhKOQ/3n48W9zErQDMZAWgmIwDN5L5xZxEO9NXXR+rTGXlLM9rJTpcM8TDUHN5GFM1kAu9ob4Q4ovfeelPxn3VaPInxGMOqDbiXz2YwT03GuK3n4tFpAmC9sXOg+L1731F8bRMhT0+fIbDHW86UsktsC8IxQgjHbbIRVQuYxvo6zgqdDh5RoEdwfldQWDzLrADNZASgmYwANJNbuk7n/NZ94HjrCjE8p2fY4TrkdI1mMKR8/PHvFb93A2h47y74WYiN+c4BfAki0iF/wCqFGKUOHjeisKKVGgL5Y4r1rG/t4T47txSf0dliTsGa+cJSim6win19SFpwPID6sUg35IvQGaUSYkOTGMeXeUzqisKQVNCsWQGayQhAMxkBaCYjAM3ktq6TGvb2N9Wntw+gMF0K2BqNoF5mfZic2pQlcWMbiXlWiBPW8QlOVZvbOBmJSNWHn4ejmla3thS/lsEzXqvAUdPr4tEWxZPxOTGhMhVzOicuOfpFCmR0iy6g8yNKSylSXJdDMWGceu6QTykjnR+TJ2l6naxhVoBmMgLQTEYAmsnNrhOXnzyBMe7gEPrg5k3w0QSINmgDTC/Jnd1YwynJz8OMNZnCkBdnS4KvrQLrnRR+IaHkujzl+EUz3MrLw0PiU4xwOKLckAHiiGcjgHtmLQVmsQPdIpcUW9G4tNGMSpGEkzGGZ98cP8A2RN8zxTpeDTIC0ExGAJrJPT5Z4ON0AgRMUgRO7b+Gykc3qFRFkIPwDiPs6w8O9zHGB6DPZgBrTuYWkcYKbHbxFKolHBOYkmHOoTp3Kysw3lkUMxBPgPXt1oniU6qmZOcYopfia3NcUoocMpx0Z1HJuZBcVRmZLP087jOa4hRlX//0zQrQTEYAmskIQDO5vcFiMzsaAq9tym7oDeFitt8EgN6/h2in2jbKVjSqAOi4gw044bME+SVv+Dyhgkopba7JK5JY4GcTqJMC23/o58RYP59TyVKyEeXcpSQ9ixLqbLITxYT1oxGwPggQC0yqQYZUmjRMcT5I5rhRZpliHa8GGQFoJiMAzeTu3FzswY+OYAsah9iMl8kDfnQK7/nONnnSd3cVbxOg9y9wnmhuwMfApS1ExPe4LiB+Ezkbx46cy4WXBzQG18YhsJ5LVdcaeAV+nd45zgci4gTA68oKvBqTkGKEyS6UZXj0VRc+g1mGqU6mUGnlAHYkz13oCbMCNJMRgGYyAtBM7vx6391owj4TzoB6Gxsw1ltUVeOTR18q/icb0AHpHJv0KTlg8xTStJR5IVKiotujIYC4lAdoNgm7uVgH9wDwqZYIp99l5KQtVnGf/tVS0b6EZp7EuIHrUZ0Qelw2A773ephSqQL9MaXkbKH4sN7YJGi8GmQEoJmMADST220vwMunyhhk0JbLCwBlTFaOzgBO1wd0PigJDPElyrSuNuFXKFAoq4h4PowqdoZpnD77p+JHbZiYXB+g7JdQ5I8z4m5sII7o4uxU8exLyJeW+0hQjaeIPNh5eospFV/tkNt5OMCxI83htnXKHa/XoX4+ebQIxzIrQDMZAWgmIwDN5Koq0sUS0IoCWKTTgj1njSwk9TUYaj57/Fjxb+3hPrdfh694Tk0eQirqLcttxWzajPeuXii+RVkPd95+oPgyNfPi3MKQbEFsI3LIt1wqLdUOtDPg+5hcDgErLKoN8tUzTG9IcUGx0FEmgFpq1qEbfvSDRQ6hWQGayQhAMxkBaCa3XFkg3PoGgnNsF3g9orjPNmXTvf/DDxTvxPi8WIAVpVQGfBbIGs4VtGXZsG471JYyR40YycdbqWKP7/o4B7gWxowHmFL3CmrMJR1QrmBjLiKTLvo/DCkxr7GB6UUhbDvHpyjSlKekbZ9MTxaptHYLfSp2br72kjErQDMZAWgmIwDN5E5m141tCZYPDvYVn0RAsX8+fqL4j377keJ/8uG7ir95gBghh0ogCRn9w3jJH9AfAnBLVA1jZRPJ1jVKc/YDmJXCmPrJWRQbGuGowcb9PDX3ibKlhsKpTdFKlB8QpcD0HtV65V7B9QpMTBE9zqbeoQPyLb+4LpFoVoBmMgLQTEYAmsm9/dair0KSArnqTezfv/M9tDPOk3f06QvEjM5CXBsUkW2bo6Rfm3TAbLZUMTWkyzNOvOIifOQDaNMe3ytiqjFd2+/DLWFTL+kCBewnCVfcXnIp+5SGFpL66QyolV0X06gFsIxZFN7qFzC9vR1ERvX6Ji7o1SAjAM1kBKCZjAA0k5svLHTjBx+gC0YY4xSzsQbLV3MV1qtPP4U2CyidwSet6FpQRx5p1Pl0qWRtNKSsaOpwMaCk6n88Rq2PNfLvr1FeeEonJq7GW63DYJfQq4mz9PvLUQUsN4QSnpITpkMlSo5PESNsUdBulVJU7BmcM9sBxhT8hcI3K0AzGQFoJiMAzeS+tr/wm3dbcC8c3H5D8R2qC14pwbT0/vsoTfvoD58ofkqe8c0NOPGF+g+N+tR/SMRKqPKRi0ewKe/kGMFVXAWpUcb4SomCt6gpeKc7oc8xPpdfyhePU1wyjTDDC6r1fvQcvp3LNsyULjXsiKjjKkcfZOkzxRdqC01pVoBmMgLQTEYAmsndWllYkf72CDgeUVhSngJp//LJF4pvUEftWg38YIhrd/fJEU+9RAsxdtMi0ierFtvyGrR/39rCcWSb4gdWaEyOOi11Ojhq+GRDtIk/PkV0rYjMyU3ETfa4L/iAtNetWwg7u3UIfjaBwc6hGIPRFDbBctMUbHo1yAhAMxkBaCb3yyefv+SqlK3w6NM/KX4whrekTOkGf6WOeet1ALTz3h3F15rolLFJwbwrTTofiHTaiIg6PaHiSlTgo9PCmFWaxpiadMzJi8IO+nIVxf+OL6BvWvRcESmVcEm1QW4lSl1ZIWtYierHFgI+duCeVy3Yi+o1vLV9rQ7MCtBMRgCayQhAM7lputj8+tRO4u5d4Ph5C0b5Xg+AW6HshotLAtYWIDCizIjLC+rWugqDvoisrKE2bECJFc+fw3iSkWecbfpPv0K+eJZhjOsBxGcvkEnBSRx5f6l695jqBcYJHqG+IhGpVoD16Rz4HlEJ2CLVGxn72PsP+tCInreoNWhWgGYyAtBMRgCaya3UF1Aekxd0bQOg/O3vIhHjy38hGOvPf/1M8afHyKg+OcfmOqZw1HgMxBx2ljbglTraFxVL2LPHMdcM4aMDbD4xmZi4W/aQui5xQG69DlUXUgcmEen08WeacAFAnA9cOl5wiHEaY0quh2s3yaM+HNP9r2dqVoBmMgLQTEYAmsl9+8G3XnLRFBvwCyq2N6KiHO8+gK+42qD4Hyr0GlGRpi8+f674G7sE7gl8BiIyC7m7HfA6oyjXQoA9u+XSXp7cFZYFIPY48Jb6RcRzAm6betuJNKoUF2RjGraDaeQoh31E5c4HVEcwpljjXhffRir4BlrdxXizAjSTEYBmMgLQTG7/clGvtd+Ft5NtON0pgjJTmHykVoY95wf34ZidDqEPHKGwGOrOU6ssVUoqVwCOXC8wm+NW+QJ1RSAbzlKSt8BQ49pLnVIVjSjedBb3+F/5IqWTUHeG3hCvnXPhAygHeIs+OQFaF+CffI1v9aSFb6B93QLJrADNZASgmYwANJOrIvsbVUK0PqLaJUSATdyhotszIF1Cdp4K5Qo4PvQEN3Irl5CuJiJeDpvrbhu4/OXnCEN6+O6bio9i7N+5vmBM54aIQHwecS8hvAJnVItI5sHfSzMSm7r7JOQnyNFppmjhG5tSDmGfin5ctqFZq+WF1jQrQDMZAWgmIwDN5G4fLnrx5MmKPZ0A07unaOwQURBnd4gxiQPLCTtsu5ew++cocmY4g29ZRJ6fIRaI7Tk25YsdnaLaURzi0QUaU6aOzN0+phpSXrhNyVx2DuNFxKf0gmqO8r8j4Ph0BNzPqF11SLlgjTqu3drEPYMaFMu9d15fzEEMaSUjAM30H8ISqIjEo7CsAAAAAElFTkSuQmCC\\n\", \"height\": 128, \"channels\": 3, \"width\": 128, \"type\": \"image\", \"id\": 4818360656}, {\"format\": \"png\", \"value\": \"image/png;base64,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\\n\", \"height\": 128, \"channels\": 3, \"width\": 128, \"type\": \"image\", \"id\": 4818360720}, {\"format\": \"png\", \"value\": \"image/png;base64,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\\n\", \"height\": 128, \"channels\": 3, \"width\": 128, \"type\": \"image\", \"id\": 4818360784}, {\"format\": \"png\", \"value\": \"image/png;base64,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\\n\", \"height\": 128, \"channels\": 3, \"width\": 128, \"type\": \"image\", \"id\": 4818360848}, {\"format\": \"png\", \"value\": \"image/png;base64,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\\n\", \"height\": 128, \"channels\": 3, \"width\": 128, \"type\": \"image\", \"id\": 4818360912}, {\"format\": \"png\", \"value\": \"image/png;base64,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\\n\", \"height\": 128, \"channels\": 3, \"width\": 128, \"type\": \"image\", \"id\": 4818360976}, {\"format\": \"png\", \"value\": \"image/png;base64,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\\n\", \"height\": 128, \"channels\": 3, \"width\": 128, \"type\": \"image\", \"id\": 4818361040}, {\"format\": \"png\", \"value\": \"image/png;base64,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\\n\", \"height\": 128, \"channels\": 3, \"width\": 128, \"type\": \"image\", \"id\": 4818361104}, {\"format\": \"png\", \"value\": \"image/png;base64,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\\n\", \"height\": 128, \"channels\": 3, \"width\": 128, \"type\": \"image\", \"id\": 4818361168}, {\"format\": \"png\", \"value\": \"image/png;base64,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\\n\", \"height\": 128, \"channels\": 3, \"width\": 128, \"type\": \"image\", \"id\": 4818361232}, {\"format\": \"png\", \"value\": \"image/png;base64,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\\n\", \"height\": 128, \"channels\": 3, \"width\": 128, \"type\": \"image\", \"id\": 4818361296}, {\"format\": \"png\", \"value\": \"image/png;base64,iVBORw0KGgoAAAANSUhEUgAAAIAAAACACAIAAABMXPacAAAOVklEQVR4nO2dWXMcVxmGTy/Ts2lxbMmWF1mO7XjBwXgJgUpS+MIpDDdcUKGoVKogRRUX/Aryb0IV/ACqqHARHBJMnMTYDlYA27FkyfIiaTQaadZuLjw679Nipsjd0cV5r163e6a751N/3/nWE4yMjBhjjDFJkpgtnDp1yvLJyUnLb3zxheVPHz+2/N1fvmv52bNnLe/1epYXk6LlYRQZgP+1uLhg+d27dy2vVKuWHzw0ZXm9vmL5n/74Z5y/y/KpI8cs38B1Jw8d4G1M7t5t+fTevZZ31uuWj5ZKltdqyzo+PmZ5u9OxvNftWh7Feur6ev9GQuPhFF4AjhGXy+XnrNls2qPtdtvyIAgstycbY7qd7sDjU1PUD3p5u12po/GxF3gTSVLCRzYtn5jQV+3aJZUyc3RGHw5TS2/f+rcu184sLwT6Oyv0dH4pzf39jRb1FOWibqm7Kb0VlqQti6nUTmlk3PJ0Q+fH+hqTprp0Uurfnn8DHMMLwDG8ABwjtivFDhZPtAe0AVyqdrHAarVaA8+pVKRV6/WG5VidGmNMHOkjWabLmUzrtmKxosNBrNvDgjaGLWlDcTcb4jXcBszH88/I8qX4BeJEf6bNjp40jnQbhbZ+vXZP5oe/Rq+nc4K40L8H4+EUXgCO4QXgGNJiEcIDWSYtxnACNVpmdM76+vrA87n2J9rtFv+ZpvgITJEJoEwLBV0aurvZ0Pmh0SOsrChEUd+Ub7G2IT73YI63MTo2avm5i9+xfHy31vs3b920vIBbGhuVHxDH+lWL8Cd275b3UyhEW/fs4RReAI7hBeAYcaXSX19T73Ptz7gQFXGIc5aXFZhtNLTQpn9ARd/p5GzAau2Z5bU1fVWSwCwZuR1ryzXLZ2cV/1mYW7Scbkcp0t/ZsVMvWV4MFdgx+aee3KMgfGNjzfKvbn9p+QZcDdoD2gADS3no0CHw6efEvwGO4QXgGF4AjhEnSV95BcGIPRqGEkwbejwMpZQjREKWseien5+3fBMRFZv7NMZEIQI+edTXV/VxKNn1hvS+yeSOzN7+l+VTk8ofHHtJuj4aka4/9q3TlpdDROuN6eBJS4me7tlTnVMu6KuaDWQ7Wh1w6X1GzL5uywWZ3LPnOfFvgGN4ATiGF4BjxBO7+kGMKGTwXZqu1VCc58mydH2hKp1+F0GV3/3h95Y3ECM6cfKE5c+eauFv8gvwGLUbD+cfWr4bNSNRyCCMcsUlmKWlJ/ps85FcmcUlHa+WlGMwxoyNKhZ08MB+y9eh6ytV/TIrNXpOjJ4pVtWD99NsyQZsNn1Zys6AF4BjeAE4Rjxz8OBzRr1PvrwsfR0jHxAiAbu4oHrCOzUt5MtlnfP4L1ctX0O9kMm7Fwye2DiVMWalJj+A6Qeew5QGH4FpDAZqUoS/TD7DwTKkDdT5MGI2MqZqSWbRW22knRGGCuBdPVvp/6r+DXAMLwDH8AJwjLhU7OvHEqoeqxVpt1HWhafSgMdbinIsHlSd98OHsge0AQ8ePLA8KUgpm3zdNpXsJnK5wwLuDLYwHc0yJ4ahkqIu3UGqY9slVlcZktJt5M0M0tRDsik8n9mU+bm+5+TfAMfwAnAMLwDHiAtbSqpYkGLN0i7OgPJFHL8USb+XYAOOTk9bvrKqbGptVQv5bn4BXt/Qwnnm8GHLqUwXF5XvxXo9ZwOYxqDyXVvTbXS6sg1se9r2EVY00aXgLfGcMGQ4S78kzdIGbEl367h/AxzDC8AxvAAcIy7EfeUF/WmyTIo17Urjxgja9FDfyVDOgYOyAas1xXyePlMuoTKWC8T3UOxZQh/opUuXLP/ggw8sX0DoqQH7QeWbL84R1uuKIzE4Y7ZHw+QuUO8ThQJ1vX6xdt69sKCJKm6lLvwb4BheAI7hBeAYXgCOERfivgwCWMIwZ5F1PGLBVk8pCIMuu4m9KmtN78xavlKXNxQkuVkR9IBqSLyMj6vr4cyZM5YzUsa6YIIOWi5SxpqwvHHlhIzTp1W/RSP8GBMy7t+/Z3mzKSeLDdm8NNcXhdgb4Z0BLwDH8AJwjDjZUkZFaKheb3BzHcuPSlV0ReP0pCx78L3XX7P8/sIjy2fv3ObXprjcmVdftfzcuXOWc2zRzZvqlKOCHqZ8ycNMf3OMjpm8+Tl58qTl0wgvfvbZ55bfuvUPy9mWwluiNc3njvrcvwGO4QXgGF4AjhGrOAlZDqaP2YjRQ6KGTXrdNoJ3KE39/sVXLD+MIN3du+qqMMa0kSR57bU3LJ/g4LYO1/X6bJQfP4dzsv97PMifc/tLNeBdx3S8mRc1cq6EmSEdmL6cmRmq93v/e9y/AY7hBeAYXgCOEWdbtVbUVlGk1AQX1wW0qPUQSYm64pt1dNatKGhThV15+2dv8Sa6CDcFMDmtDvwLDN5j0dWwiqhhNiCXXMmfw5bCT6793fLLl69YThsQhbpV3lL+csFA3vNJ+R0CLwDH8AJwjNgWrjIlzRVrjsMehLF0Oj/79Iki5qdOKap+4IBGVYyOqx3OGBMhu92CSzFR1Wl//fgTy5n1ph/wTRQxMcxOGGNqaD1fWlqyvIwnnZjYY3kTTRm8pXy98IBxuP4NcAwvAMfwAnCM2BYwUVtVUbVKRdlEMRaTq2xtYEvbk8fKAVy4eMFyOyGkfxP4Z4y9BKJclav0+yYSsMMW2sN8AnZRsync5EeIMNX8/vvvW/7WT35qeQkD+b5J6CmO2dDRJ/4NcAwvAMfwAnCMeOAaeZgfwBVuEOODCOZQv9+7r01grl+/ZvnZ8y/zchVMycgQ82Ge4OatG5Y3MD+Et8Sw1bDHYbA+zBfnpnigLr5qA7NeWao0OqaBroykkQ8zS+lWCM6/AY7hBeAYXgCOEVu9GQ4Z3k1EGD2RcbI2IiRhR9qTQ7pv3FBFTRDn6o7OnP225SPjmnA9N685UJ9e/9TyLoIq3ABoDEqZ7ghtA7vpTP4p2Y5YGtVXnTuv8qQjLx6xfC9S1sNGn/PSA22DfwMcwwvAMbwAHEM2YGDG0mxfyeKjkF2CgL5tODDGNFJlWTehlG9hGwRjTAplfOG7qg2dhw2Yw6yPLm6vgnjR5cuXLacNuHr16sDj28bHci5gXFbul6NFuGUdfQJ2TqRDLCgb+bwfsFPgBeAYXgCOEdt4CFes1PvchiaIUAEJn6CDbcy4MK9gCBRHmHZQgWOMmb1zx/Ijx07gf6BY02wgZ+riypUfWn4YRf11bAj8ydWPLB8Lc2mJolR0bqu5T2/IYr1y8T+WV5Cypg0wDEnxOMJcWerrgnYGvAAcwwvAMZQPYASDq91h/kGC5G0XK9wI55ewmWeWspoe6taYzQ2ZhMVHKitKYH5GRrQwj+Fq7Nu3z/IjMxr2NDExMfARCpgssqeQmxnSbUl3twriyzWlH27+8yvLjx/SJYrwFTaxEQRbEDib0GbU/RvgGF4AjuEF4BheAI4hR4xjyGls6aDxHI6kyrWowd1gB3aGxH25mJucu9FR1nt9XcGysReUnOHE215XX8UG7sm92kWJwTsO95jamhZvjAlz+/mZEJdgG/qbP/qx5W+8olhhp6HirXJJyw02ejAsl+8l6f9K/g1wDC8Ax/ACcIzYNjuwyYKdDsNsA70bnjOsg47bWCTF3EjDcFPKeGVFinXXHnVAHDt61PJHC+qYOACdXqwoOra6Lrty/vxFy+ex4dO9+/oeY4wpwcxkeorp/fL1zp5W0/bjBcXy6Pc9xZ4jZnBriI77N8AxvAAcwwvAMQaPl2UwrjlkR9RhW1qQ0zZUq+K1VWxQmq9qmp1VtGv6yIuWv/feby2f+1p6PE6k98OCFu/XPlcW5e79ry3nhiAXfqDBIMaYfTAnvbbckZlDOj5WQXpqUnqfCf10SO84PSRvA3YKvAAcwwvAMWKr7rd1Kww+e8hIcu4zxPU+40jsrt52LdqAR9gpY2lJPX4nT7xu+cH9UspZKHP14TU1cfztuiYuvXxS/eK/+fWvLA9G5GcYY5rYFbuM9pMiypBD/ALjCFXRD+C4K9aQ0SewJQ3+DXAMLwDH8AJwDCXlh21BxJHTjBfxHNoG+hA83mKqOsgJnpdgF8NTbLzNXo8Q9QCtttyUDz/62PLdkwrgvP3OO5YfmNLxtY1cU1+VUS/0gESoAWiyLAG/GD0kbg4bcVT4oLiQfwMcwwvAMbwAHCO2VUQsojJDirE47bo0ZAdurv0ZFeHk1WKS8ye4lfWFC5rpMY0gTJCh3gv1v/ceKM5jUi3kf/HOzy0/flQxpfqa8sNJkttJj3u/1tf0VRzQGuHOO9zCAvo9zTgPBBu/MkNufIPGzoAXgGN4AThGnG4FOtbRvVbGwjy3eB0S6c7vMTp49xzmioMgZwOaTf3XJPT+fqzZa8vS3REW2l3UFF25pKKdY8dfsryN3fbaMEVJkusXDwOOrNIvsImUNdf4JsKI88Lg3bUz9JLwl7SlTf4NcAwvAMfwAnCM2O4oyq2mkxRjK2LU8yDWz/O5LSnzwFR73Agiy3KWpYGJSAl2v753Tzulbdalx/npRcwFbGPo603swEAbw5DU6ChcH2MOH56xfGJCgzgqZaWdR0bEk6Kemj4EYz5pOniTB+P9gB0CLwDH8AJwjLi9FfhmhfuwXRHaWMsXirITnLbRQcMebQAn8LHJe9s/r3923fIHc6r/CbCg7nQVrF/HGp8N0kGACdrdIe5LlOsVHN+FgXxV8V0vKHVcrSjuPzamUBLnCM4cUa8gB8DWsZ1plno/YGfAC8AxvAAcI7Z6OqfrUcNTKco2sNW4xxZkjD7KDfjGd3KXhmZT32/yxTZL2P/hzlfaD3qkJPciM9LdBcyJDcPBl0hQMxoiS9vt5WaGbCxJjz/sLeAjiFxhumsAyzeFfnHaA46xZd742bO+bfBvgGN4ATjGfwETIFAMXEVRLgAAAABJRU5ErkJggg==\\n\", \"height\": 128, \"channels\": 3, \"width\": 128, \"type\": \"image\", \"id\": 4818361360}, {\"format\": \"png\", \"value\": \"image/png;base64,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\\n\", \"height\": 128, \"channels\": 3, \"width\": 128, \"type\": \"image\", \"id\": 4818361424}, {\"format\": \"png\", \"value\": \"image/png;base64,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\\n\", \"height\": 128, \"channels\": 3, \"width\": 128, \"type\": \"image\", \"id\": 4818361488}, {\"format\": \"png\", \"value\": \"image/png;base64,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\\n\", \"height\": 128, \"channels\": 3, \"width\": 128, \"type\": \"image\", \"id\": 4818361552}, {\"format\": \"png\", \"value\": \"image/png;base64,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\\n\", \"height\": 128, \"channels\": 3, \"width\": 128, \"type\": \"image\", \"id\": 4818360144}, {\"format\": \"png\", \"value\": \"image/png;base64,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\\n\", \"height\": 128, \"channels\": 3, \"width\": 128, \"type\": \"image\", \"id\": 4818359504}, {\"format\": \"png\", \"value\": \"image/png;base64,iVBORw0KGgoAAAANSUhEUgAAAIAAAACACAIAAABMXPacAAAOl0lEQVR4nO1d25MdRRnvme6ZOfe9ZLObTTbhmouEGBQwCJSUaKFGI5Tls0XJn6VFlaVUiaCWT2IpAiURhEAFTACJLIRls9nsbvZwzp7bXH1gT/9+vZ5TvtnnoX9P3056pnvOl/m+/q7tzc0dFEIIIUIlNE4vlTXd6haabnZzTUvpa9r3PU0XGC4KgT/SJNX0IE0EYZDi9tO3NzTtBbh+/vK2pnMP15UvxSjkOZZaFBhfCzB+Ya7Mt6xttbCkBG8XBoGmfR/XB3GM6QSmELS8NMVbF/TTeMMxeJyDFTgGWIYqhjxQ9CmXy/jomt2upgcJPjoP35bxcWX49IUnWFaQyDIXkWeQSJvNjqaPLO3HkgKIoC5NLQoWNfSN8wT0R5xgrn4c8CgVhBhGoiPLQacZSVgSsL6Hn88jgZx7o0aTlHJfgGU4BliGY4BlqGwos3MSUYr2ats9SMCNHQjQMIQAlRLjA5KApQB725C2rcozRHQu+phuZ6DpWwrc0ihjikEbct8TvLcTROMPlts5/Z9rdTCvECIlgW0uUIy8zlMUxu4bywvorY0xQ7gvwDIcAyzDMcAylBZYvg957dGuNs7ApMwvaTol5mUZCVzaNfs+SUPeEZvCMCRV0e6Tx6IHfTBVhcrZ2oE54o+V1kTTfzOvwFxxGgsGqRzfM+4Z+VzPGy3fvTE2CL+1vtd9AZbhGGAZjgGWobRcUrSXZ39OHmPvL0lKepkh0jDex/U4zTQd0Ri2CYTp2c4EZH2n09N0vQxHjfSxJF+O/j9UFOyTYv1DryDIBS+EV4yR+4ZMH2d24Ncbud/fc127td0XYBmOAZbhGGAZSgyFV6Ag0mLa1yfkJBoXhmSviD/GQ9KHOhDpHimZ0/8DHzpgu4d7DpRwvURLzch84Z12nvOSWLizRDd0ADvsPZ9XSCEHtgNoBIcqi3yMDmCdMdS47guwDMcAy3AMsAylA5hkBog+7d9z2uH6FDhmuc9ylbNE+HrGDnpTSnq8QaZ1tAbwC81Q6kopijTdS1kU0ybdsA9Gj/kv0O0+3zI688X8BUgH0MwFZccY46VLS5kMOAZYhmOAZSgldwWfLyGhBhl0gCHfx8h9Q7rR001nPY0x+W64akjlJKQb1luIDWTFaBPEGxMbMBNy+K/MHEjyms0LMXoKY+9vxISJlqw16bJ+yMgVO/zf4BhgGY4BlqHkcMPLO9lBxjtWSDFFY6Q/zhHPGZP/21/0xU2gjGRKTN1JSC3RIE45NTbvY5zy7OjfswiPZbo32owwNR9NPW62MdpRFruv474Ay3AMsAzHAMtQytv1s/coBzSm/bGUcMR7xDB22uRkN/hjdAMjNwW0aToQTf4cQ/gWPH50uMIzhDipLsnxA2NVaUZ1AAXCzmY0YYwJwm9Enq6CbIuMfqU0GaZjCQercAywDMcAy1C6uCmhjXZseLHZG47rOeWAjqvIGhcz2OO04T8iKk2YnqpruttDqVqcwC/ETypHkO9RCWms7KGXEtdPHL+bl9FoTGv6wjuvaXpj8zrdThm0pEMyKllNqQg3oaq6jNKtfG/3Oe4LsAzHAMtwDLAMxwDLUGpYOFF4XKAB2jfylSgJlyMQhoKlfhLsKSNdK82IjEe6PaBCjoWFeU0nKebbbN7EMmgrcMvCPjwnxHOur29hPM379TNneBnf/uajmv7ba6c0/ZvnntH01c9WNF0kPaKp+wUpW7YZA/o11NBmdF+AZTgGWIZjgGUoFWlZCblfGLlFXJKA69UysqPYKEtSWEkcxJfU2CeQRlZsQbfzv/QHKKSu12Y1vVRFT6F0gOnuu+t2TXe6O5q+tgpLqj4zo+k777yNl3FgHr1BHnvkEU3nrWua/vXvf6fplWttTftGbhn1GjJcmYCOHbkvwDIcAyzDMcAylFTDDSmLfQrKc8M1RdLt3NnvaLrdamr6pZdf0XSgINHZJtgb0C8o7k9T5Al0QBaTA06iYE/l2IwvzVc0/XkTz1lcXNT0V+5/UNMnTxrOOEntR4oYvr/DDSzvnqMHNX2jibdOKI9YFmwHcF8rcmUOrSv3BViGY4BlOAZYhgqDXR6EiphBFW5JCskVUoHGQ2fu13S1jCjHW2+8qWnumqko+VcURlYsB9Z98tY0qujreWQJcnx5+SqWJKED/BQN/04eO6rppbvvwfXTWPaenqM3Nm5o+l/vXdL05nVMVyTQDZ0+qSX6xaTE6+Q5pSuQDnCF2pMCxwDLcAywDBUNnRKB4L7QEI4RtyGlXe3NTUjMM989q+knzv1Q0y+88EdN93vwnEgjJi/YS8+hgulGVdOL5OvP+5/TrbAJ+H/TwUOIJdz31YfxOiX4gi68doEX8ebbb2t6+cp7uKWLGMDqFvb+7TbMFM4B4P5TkvPGnA6YQDgGWIZjgGUob7hVL6hiTVHHfEn2wYDOAPjnxXc0/YPvP67pp376lKZnpuC4f/EvL2j65hb0hxAiJ3MhpHMMOIiaxRC4J44d0vT66pqm+31kQTU70BOHKdmrS73Iz796npfx51de1nS7h3BCXeKWnCPn1FckJmuJ25JU6JfMKVJSZC45dzLgGGAZjgGWoZTYlb/m1hy714BaF0ny77//zruafoOE6WNPnNP0T558UtOnvnxa0y+++Cee7NoKgq6DHQhcKRB27g6QeFOrwUe0bw6x4iNHEOOd3QfHfUDPufz+B1j2W4YdsPIZfD6CwhI7rAXjHg2h0AUVX/ST0fXiFfILBcrZAZMBxwDLcAywDKXlG59sULC/nrIp2VGT9CGs//D8s5quNeAVuZcCsF87A4fM0RMneRGtJvbszU3kcV56F6bG6jr2+6fvw2Nnqan3oWnogyKEH+mDS1c0/dzzv9X0yhqeKYQolSL6i3qIx1xkgV8mMyLb1I6KckMz0qA++YiiyDXtmww4BliGY4BleI/ee+wLKqf8H64JKIecI4Q7fZ+7aUO6zVMSztlzP9L0Y2dBV6ZRDieEyAsOnFIdwA3kdC5/9JGmjx3/kqYVlSNklKjz4RWMf/3iRU2/dP51TTd34PARQig6my5QlBGbwYez3ULYeb2DqQd0FESZ0lsDD+ZLRP1mZ2u7v577AizDMcAyHAMsQ+mGR9yiiEuQx/fegARUVNh1fRUR1F88/TNNR2VUXX/v8R8bT+KzI+ix+w4c0PTsPsSE44w7aZDbivKCZIbDP2sCdsahWZgpXg5TRgixtAj30eL+KU1XFFRUm86UuHgFLqzLy6A5CsJhjJ02ouJZ6nxBkwHHAMtwDLAMpbN+jMbcRkMlbtDBWY+jT0vndha9LoTvM7/8uaZLZeMw9we/8S1NB1R6VvAZEaMcKUIYB0t3Vjc13RDQAYdnYLJ8XMPz/30VOkMIsX4dsn6wg5VX6Xjr/TOQ7w+dvFXTczUsb6uHZW99DjXT68DsKAVOB0wGHAMswzHAMhwDLANnW3tGD0FStnRiXjbufCCjdTiUdrkC7dfchmft2V89zbfPTqFC+vQDaKCRkpPOqOvjXh/U3Ctut3DvTQRbbqyuavrq6rqmOym0qxBifQV6O5B4bLUOE/LIHLxuDxyHnfjwKeQD/PUSpvt4jRJ4aZtTiXandl+AZTgGWIZjgGUofYoEB2TYEGNvl290QKfqan/M6UqCpR6ub2/AYSeEuPCPv2v6tmPHNF2dqWmaiuCE5Pa6rA8U9wChg6ByRFSubcMa6u7JoCI1E+d0OirEuFhrwrD6dBMq51YJA217C0Zcu43ppsMRpY/uC7AMxwDLcAywDDjjzOMnqN2EkZmFfX1eUCVFBTtlo1W5wvgwpJa4NU6BEptrH2v6/begD+64C/lbjbk53FBGUw7uL1hdOIzpZhc0PdWAk65WxdRbLWz8hRDTVBfe7SHmQyUjIqYkrU83oAMKeutmixJ4SZtyKbx2ZbovwDIcAyzDMcAy4Asqcj6miPt8Q4ql5AtqkZQUFEXxqE1dtYTdcYkk7KlTx3kRRw8iT6vooinr+ieomKiEiJJzjw0+jDuqoAi7NLNES0KSVp3yB7KU0qmESAussBRCe6WUbMv0BtkEUYBYP7e4qtF0DVJ8peHj3RdgGY4BluEYYBnY4nJDJT4xj4SYGFB3vYJKGPq0O/YpBdXrkxuFsqn4nGkhxIF5yPdBAjWztYFijfo0Em+XaC+fpth0D3oYIwRU0doWgu/dNhw1ew7ba/exwjod2s2ar0NjWi3YAV0KRUQKU883oEsaJbx1NPSMuS/AMhwDLMMxwDJUMOwmEVBpsiRnuk/2QZna0S3OUJZrgDEFZbwWGdF0StPqssH45Trkcg+ue7G6CaF5jfTB4U+QqMt9oPo70AGKdENYhY45cSsafWz3jbDEJvnu4wJqI6G9f0jjwxJ+jXqEt5slT1fI0RSfW2I5HTAZcAywDMcAy1A6zMuN9LjFKCXFCs/H3r9E1XFKUYNWsiEUtcMOyBsuY6NCeuVD6oKdYb5NiHdx9dMPNf1qDME6iLExz8m3Uwkw3aE5hCsWylj2HXNGWKIsoLECKsrwKN24TMGBMplIAUemBZaR0JLIwhF55k7Smww4BliGY4BlKF2Q7JN/hqOgJcpm8WlXqyhOoCTrDKqai8inRM+sl42EnEByShIeVVcQoEUMWyEhh0xADf84dOENqIteE7FfSa+zv2L0EK8uIh7Ax9EZ58lyiQod3pbz4Qycw5RzJhVnTDk7YDLgGGAZjgGWgc15SNXSFeo3EZGfZ9zBbEx7fIAn7Xwz2gbvUPsLIUTa5xA06wPQ81NowLQ0D5dMQf3EMzr0h2sIU7IV+jGdtuMZMeESaal8TCUEH2dakFrLKbYwGLD+IB1A5Q5Z4fKCJgOOAZbhGGAZKhx2qovIsyHlaCnG3V25XozbljLNsV/e4EeBcZinLONRlQryPstl1AfUqFArou56eQaZHlMfwS41747ptJ2Mxu/pVispIsIVaTnFA3i/zz+MJF9/GJKFxK0Q2Z7wnB0wGXAMsIz/AAwkzkLL5mCRAAAAAElFTkSuQmCC\\n\", \"height\": 128, \"channels\": 3, \"width\": 128, \"type\": \"image\", \"id\": 4818362128}, {\"format\": \"png\", \"value\": \"image/png;base64,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\\n\", \"height\": 128, \"channels\": 3, \"width\": 128, \"type\": \"image\", \"id\": 4818361936}, {\"format\": \"png\", \"value\": \"image/png;base64,iVBORw0KGgoAAAANSUhEUgAAAIAAAACACAIAAABMXPacAAAMyUlEQVR4nO1dSW9cxxHu2VfOSg5XkZJISxZlGTK83BIIEKAkQJBbTjnk9+QQ5GLAQIDkNwSIEyuKZQmxldhxZEkWHcoUTXERZ7jMDMnh7Mt7OQTo73v0Gw/lMGkaqe/0cfCWnil2VVdVV7XHtm313YClWaNZ0zzgD2vu9wf+pyM6CXhND+D/HSIAw/Brdkp0kXMUUDter0fz1WfPNF9ZAr9x44ea+0NBPAa3/rfAv57H8wLvkxlgGCIAwxABGIbf9dMX0mInDShTpz3AH5lMRvNf//Edzev7Vc1/+vOfaW71MW//4Zfs9ysdxx7oz2UGGIYIwDBEAIbhbgNOCv1cC5sW+Efg9eB/wuPx0S14Vjo9rPnl+TnNf/ubtzVP5pKa3/jRj/uNg9HPVDjdEVxT3tnV/OGDB5qfnT2v+fm5l/E2t+fLDDAMEYBhiAAM4+RtACs61noczPE4Bd/ttTQvlg40tywo32AwpHkqOaT55SsXNf/oHvyDX/3yF5oXtrc1v379huaZNK5XSkXjsa9/nX8PRLPlxUea3/vgrubra2uaVw/e1Pzc7AV6jotPIDPAMEQAhiECMIyTsQGO6Ad97iG932rUNV9aWuTbP/zoL5o/WXyieaPR1DwYRHz/2rXva96ulDVPJBKaW/S/dfvm7zW///E9zSfGx3kYly7Ng8+DF/LruP0T3F7fg7kq7cIn2M1PaG5b9Mv4XP7dZQYYhgjAMEQAhvHtbUC/HHKTFPfDz/6h+Scf/03zpeUnfEu5VKTH9jT3+RELKuShcO/cbmh+4TwCL/UazEzIj/8trw+mqFLa0nw3j8W7Uurxg79rnkzCnLS7GFJuZBSvIxvwfBOuxg9+Mk2vpnAW/2KSDzglEAEYhgjAMAbbANvBOduJz1tN6P133/2d5rf/dFPzyiE0ZiSMwI5SKkFBmHoD2w4bDej6sZERzado/R4Nwz9IDsU1z9H1Vg/BnJVnK3h+p83D8FO46XAfoz2oYkheL15XLMCcJDNIUcxffV0dGzIDDEMEYBgiAMNwtwG8YrVJ2TvsgdXV/O6dP2v+/q33NPfYuIaVdbuNBIBSqkImpNvFLRRJUqEAhlrYQHAm0Mlpnsuk8LpYVPPFp8uaY0mvVIIW+8rpwXAqIh6DiSruQO+3OzBRl658T/PUCIY0EDIDDEMEYBgiAMM4RizIhjb00aadhS8WNL91E+v9UBB1QnYPWpyVezDgqCWq1RHDsWwyOb2O5okISpG8HC8i3uni+k8ffKp5YX9f85kJBOs79F6lVNfG7d0eRltvwF0oFvGoRDRCnyMf0Gk73ItvhswAwxABGIYIwDAG2wAPrf6/ojj+e39AorVW2dM8FsUCvEoLfK8Xwm44lS9vyuz1oNPtDtwFq4NHnZuGHt+hgMzK2obmqeGs5hNnpjQ/rODVj7/8gofB3sn0NGL6gSB0fToNE2XR9c2me/p6IGQGGIYIwDBEAIYhAjAMNsKcbIFgyqWS5u/fgsO1tvKV5jHykmLknnCJWrWKCrojpRD8l598tEQC9nwshwTLdmETw1hb1XxqApZzKJHW/NHn8Bn/uYJEfHYUxlwpZdEmqrV12PZ0CrUe8Ri+qaKE+/k51InE4sgLDSx/lxlgGCIAwxABGAbbAATdLIqCPX6E8rP8xnNcQ8G1kdyY5i0KRW1uQlnXapzadgiecz69HjllQVyWHUUiPkK5nRwF19otvHp7G5t2UynYg+vX4JTVnEn5jefYXFWp4Jc5OECCvl4DHx7Dqy+/9obmPj+Gx4kd16JtmQGGIQIwDBGAYUDTsYbK56G7P7t/X/NyGYo1nUIGPBzClqalpaeas/b0+/sG/qIRuA6JJB7r98Ae7JQQ75uZmqS7Ebxb30AwLkBJ+bdeeUXzbBaFeQsL8A+UUjtb2COcSiIR3yM9znuHo1FcMzqGTbsvBJkBhiECMAwRgGG46+WVFexgXaMSZLYT4TCiIkWKFxW2CprHEoii8Np/eBhbWZVSQTIhnQ5cEIsy4/cfkb72Il701huvaT4yhjV+u40MCRcObm3AvFUPDnkYuWG4Cx4yP74A1vVdclOylPPJZMD7QfyA0wgRgGGIAAzDvXErx+67HSjiWATKmtf1+1TOwCnpCC3weWNWoQA7oZQazWE3K4eSKpWK5j0K1t/98K+aW2089s3XYQ8CHtrMuwW9v0j7yfbL8C2UUlGq75iaxLq+RMV4zRYS8eNUJ5Iir8jq347q65AZYBgiAMMQARgG+wHULc8HXc8R7YBbuwmlVJdbUniRKe1RifMIrf3ZrijnAjlA7gK/LkCF1xUKMd35ALUh5WJe83OzZzXvkE+QTkHRJ+OU4FWqRaPl/cLNOgoxGnWYqHgc9R2RMDV7ov3FAzvgygwwDBGAYYgADIPzARBGKpWhz6HGOFDD3Ln2RyDeJvuxR4vucWenpBI16whSg45YHzciQbH+FvSzWlld1dxHNiNBTf5CITzTF8a7lFINGmGhgMxH5ZBsQBPfutmAT8C7fzxKbMB3ByIAwxABGIZ7PmB6+ozmmTSi5M0qFuBcScExHx/tmOR4EeeTj0TGExSE6VCzDs4Js05vWXh1jxpxpJIwXfkCNvnk8/APkkOwB17lsAGbdMsqpQ14rydvXQ0Q5+Z8ttelMVM/yAwwDBGAYYgADAM6mmM+OQrQz9LO9ycLD3En6XfumFqi/PDhIZKuySTyw5w/UEp1qRgvEYZi9VMsiPMBUbqm24E9KO7CzIToGsvC4r3dQlzoyOb94j5uT2bwjaIx2ABlY0gXL6JveIA8IR7qQMgMMAwRgGGIAAzD3Q9g/X7l6lXNV5a/1DwaQjCdO6zOzqGTKi/Ai0XYhpmz8DOUUm1KtPoooeqjjk3NKsxJmA7qzNBe0jbZg2U68LNBz293EdAfc4akRscxqlYLoadqHRnyKfKQXp6/rNzAe4oGnhYnM8AwRACGIQIwDPf6AMbM2XOaT51BIW7rAJt22l0o2QjtHeINP9ykaWdnh18RokU0D6PXp8fTUIzqCaJ4XTaLtPNLsxjq5haCPOtUtlYqo/uSUqq8g7SE34chZcdQojx/BaUGk1MOS/btIDPAMEQAhiECMAwRgGEM7pzLQbS5WQTmnlKFW72JLEqPPJ0QWc6JMRRzxyhxr5T6/BGOp+PAXJSarKcdiXV8Hh/Cjiifz/3Y03QMX3PoPAr8PC/N8DCqlGSvVpGIt+hbzFAnLd5+oPrkYAaeri0zwDBEAIYhAjCMY3RNpIgYJ+v3t6mPeBdZjvI+tjfZJGA+DjWXdZS0XX31Vc1XqQFTj3qGVKnXh59ORQpS4sWm/QAc1AsEMIxQADFEy/n/5yV/0KJHpUdRrDE9Axuwt4cETjyJbxQMkXtLz3e1BzIDDEMEYBgiAMM4Rvd0C0JKZxBcG53AgnqP2hjtkQ2oVvB5jM6h4GI/pdTUJCVGPEiqHFAOp0ud0WtNVE+U9pEtiQ5Row8/7ZClTHq9BnO1s4vom1KqQwo7Qvu3Js+c1dyifvBFOkG1TbWCSWryF6Y+wl6vy6l6MgMMQwRgGCIAwxhsA3zUGSMWg5KdPDereZsUd4c64R1QxR036+g4T1GyqenS3CzyP8FZvGJtHScnLTxdos+RYGk0YCfidDrf1tYWcej9RsvRtC9Auf4Ll7Dpam8PcaH8JlJJVg/fyKb9wl4PNXiishfewqx/DZkBhiECMAwRgGEcww8gGYWpMff4JLojBSPQnj66oZyF8uUGINwQSilV2cKmq56NxnuTFISxyYR4uBsqLa53SwjOLFLvwJqjbzjeeyQWFPXD2h3WYKX2D3B7JgMXpEGnZsSox0iHytDb9HnArbhDZoBhiAAMQwRgGO42wJm9pPIzDsRHsNDOjSFPEIuitKFMOYOdbeyOCkQQaVFKVWtQsvU6pZepsCIZggsyT4vu8h5CTy2qHQ/QYlxRN75kCsOzPI7/v1A4ThwjjNA2ZG5VGCHOvWc5Ze2nvAL/qpIPOC0QARiGCMAwPDow3W8Hi63cS85sR2c60m58GBCdqM3Nm/jYU6VUu4lFN9uA7SJ6+5W3UevRKCEQz4f41anL0vIy/IChIeqsFIXi7vT4fG1lK6zTM1m4IONnEJ4amUJOeGQEm3aTVKYY4rL1IF7n2r5cZoBhiAAMQwRgGINtQD8MPKLsRYBHWRaCJz1q3s1nAJWpwdMhHWVdoZOzFxcXNR+iBG92GIqb/QblPJBhjsrTUxncEoxB1wcC0Omc7fCye9HnlxQ/4LRABGAYIgDDcLcBfa9Wg/0DBl/j+aaSZX5Uz/0Sdk0sPnOuj5tiD66WPvKNudz8yFFzAx/VD1IfcNohAjAMEYBheE50OS94YcgMMAwRgGH8C8U3YlWc01F2AAAAAElFTkSuQmCC\\n\", \"height\": 128, \"channels\": 3, \"width\": 128, \"type\": \"image\", \"id\": 4818362064}], \"selected_variable\": {\"name\": [\"<SArray>\"], \"dtype\": \"Image\", \"view_component\": \"Images\", \"view_file\": \"sarray\", \"descriptives\": {\"rows\": 20}, \"type\": \"SArray\", \"view_components\": [\"Images\"]}}, e);\n",
       "                });\n",
       "            })();\n",
       "        "
      ]
     },
     "metadata": {},
     "output_type": "display_data"
    }
   ],
   "source": [
    "graphlab.image_analysis.resize(gl_img[gl_img['label'] == 'cat']['image'][:20], 128,128).show()"
   ]
  },
  {
   "cell_type": "code",
   "execution_count": 9,
   "metadata": {
    "collapsed": false
   },
   "outputs": [
    {
     "data": {
      "text/html": [
       "<pre>Downloading https://food52.com/assets/pages/team/47847-0172b1caa8a9b7cddaac63cadacea1eb65f48ae7df10963265bd4051fe41bdb5.jpg to /var/tmp/graphlab-Rebecca/2025/d3bc3bc3-1f70-4bd3-a484-8ce89e5c040d.jpg</pre>"
      ],
      "text/plain": [
       "Downloading https://food52.com/assets/pages/team/47847-0172b1caa8a9b7cddaac63cadacea1eb65f48ae7df10963265bd4051fe41bdb5.jpg to /var/tmp/graphlab-Rebecca/2025/d3bc3bc3-1f70-4bd3-a484-8ce89e5c040d.jpg"
      ]
     },
     "metadata": {},
     "output_type": "display_data"
    },
    {
     "data": {
      "application/javascript": [
       "$(\"head\").append($(\"<link/>\").attr({\n",
       "  rel:  \"stylesheet\",\n",
       "  type: \"text/css\",\n",
       "  href: \"//cdnjs.cloudflare.com/ajax/libs/font-awesome/4.1.0/css/font-awesome.min.css\"\n",
       "}));\n",
       "$(\"head\").append($(\"<link/>\").attr({\n",
       "  rel:  \"stylesheet\",\n",
       "  type: \"text/css\",\n",
       "  href: \"https://static.turi.com/products/graphlab-create/2.1/canvas/css/canvas.css\"\n",
       "}));\n",
       "\n",
       "            (function(){\n",
       "\n",
       "                var e = null;\n",
       "                if (typeof element == 'undefined') {\n",
       "                    var scripts = document.getElementsByTagName('script');\n",
       "                    var thisScriptTag = scripts[scripts.length-1];\n",
       "                    var parentDiv = thisScriptTag.parentNode;\n",
       "                    e = document.createElement('div');\n",
       "                    parentDiv.appendChild(e);\n",
       "                } else {\n",
       "                    e = element[0];\n",
       "                }\n",
       "\n",
       "                if (typeof requirejs !== 'undefined') {\n",
       "                    // disable load timeout; ipython_app.js is large and can take a while to load.\n",
       "                    requirejs.config({waitSeconds: 0});\n",
       "                }\n",
       "\n",
       "                require(['https://static.turi.com/products/graphlab-create/2.1/canvas/js/ipython_app.js'], function(IPythonApp){\n",
       "                    var app = new IPythonApp();\n",
       "                    app.attachView('sarray','Images', {\"ipython\": true, \"rows\": [{\"format\": \"png\", \"value\": \"image/png;base64,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\\n\", \"height\": 32, \"channels\": 3, \"width\": 32, \"type\": \"image\", \"id\": 4818360016}], \"selected_variable\": {\"name\": [\"<SArray>\"], \"dtype\": \"Image\", \"view_component\": \"Images\", \"view_file\": \"sarray\", \"descriptives\": {\"rows\": 1}, \"type\": \"SArray\", \"view_components\": [\"Images\"]}}, e);\n",
       "                });\n",
       "            })();\n",
       "        "
      ]
     },
     "metadata": {},
     "output_type": "display_data"
    }
   ],
   "source": [
    "img = graphlab.Image('https://food52.com/assets/pages/team/47847-0172b1caa8a9b7cddaac63cadacea1eb65f48ae7df10963265bd4051fe41bdb5.jpg')\n",
    "ppsf = graphlab.SArray([img])\n",
    "ppsf = graphlab.image_analysis.resize(ppsf, 32,32)\n",
    "ppsf.show()"
   ]
  },
  {
   "cell_type": "code",
   "execution_count": 10,
   "metadata": {
    "collapsed": false
   },
   "outputs": [
    {
     "data": {
      "text/html": [
       "<div style=\"max-height:1000px;max-width:1500px;overflow:auto;\"><table frame=\"box\" rules=\"cols\">\n",
       "    <tr>\n",
       "        <th style=\"padding-left: 1em; padding-right: 1em; text-align: center\">image</th>\n",
       "    </tr>\n",
       "    <tr>\n",
       "        <td style=\"padding-left: 1em; padding-right: 1em; text-align: center; vertical-align: top\">Height: 32 Width: 32</td>\n",
       "    </tr>\n",
       "</table>\n",
       "[1 rows x 1 columns]<br/>\n",
       "</div>"
      ],
      "text/plain": [
       "Columns:\n",
       "\timage\tImage\n",
       "\n",
       "Rows: 1\n",
       "\n",
       "Data:\n",
       "+----------------------+\n",
       "|        image         |\n",
       "+----------------------+\n",
       "| Height: 32 Width: 32 |\n",
       "+----------------------+\n",
       "[1 rows x 1 columns]"
      ]
     },
     "execution_count": 10,
     "metadata": {},
     "output_type": "execute_result"
    }
   ],
   "source": [
    "ppsf = graphlab.SFrame(ppsf).rename({'X1': 'image'})\n",
    "ppsf"
   ]
  },
  {
   "cell_type": "code",
   "execution_count": 11,
   "metadata": {
    "collapsed": false
   },
   "outputs": [
    {
     "data": {
      "text/html": [
       "<pre>Downloading https://static.turi.com/products/graphlab-create/resources/models/python2.7/imagenet_model_iter45/dir_archive.ini to /var/tmp/graphlab-Rebecca/2025/f665ad5a-5b26-445c-a4f3-e0bcb2d09cc6.ini</pre>"
      ],
      "text/plain": [
       "Downloading https://static.turi.com/products/graphlab-create/resources/models/python2.7/imagenet_model_iter45/dir_archive.ini to /var/tmp/graphlab-Rebecca/2025/f665ad5a-5b26-445c-a4f3-e0bcb2d09cc6.ini"
      ]
     },
     "metadata": {},
     "output_type": "display_data"
    },
    {
     "data": {
      "text/html": [
       "<pre>Downloading https://static.turi.com/products/graphlab-create/resources/models/python2.7/imagenet_model_iter45/objects.bin to /var/tmp/graphlab-Rebecca/2025/0e80c9c7-0b28-4e85-be3d-43b9e6e1819b.bin</pre>"
      ],
      "text/plain": [
       "Downloading https://static.turi.com/products/graphlab-create/resources/models/python2.7/imagenet_model_iter45/objects.bin to /var/tmp/graphlab-Rebecca/2025/0e80c9c7-0b28-4e85-be3d-43b9e6e1819b.bin"
      ]
     },
     "metadata": {},
     "output_type": "display_data"
    },
    {
     "data": {
      "text/html": [
       "<pre>Images being resized.</pre>"
      ],
      "text/plain": [
       "Images being resized."
      ]
     },
     "metadata": {},
     "output_type": "display_data"
    },
    {
     "data": {
      "text/html": [
       "<div style=\"max-height:1000px;max-width:1500px;overflow:auto;\"><table frame=\"box\" rules=\"cols\">\n",
       "    <tr>\n",
       "        <th style=\"padding-left: 1em; padding-right: 1em; text-align: center\">image</th>\n",
       "        <th style=\"padding-left: 1em; padding-right: 1em; text-align: center\">deep_features</th>\n",
       "    </tr>\n",
       "    <tr>\n",
       "        <td style=\"padding-left: 1em; padding-right: 1em; text-align: center; vertical-align: top\">Height: 32 Width: 32</td>\n",
       "        <td style=\"padding-left: 1em; padding-right: 1em; text-align: center; vertical-align: top\">[0.0, 0.0, 0.0,<br>0.162660360336, 0.0,  ...</td>\n",
       "    </tr>\n",
       "</table>\n",
       "[1 rows x 2 columns]<br/>\n",
       "</div>"
      ],
      "text/plain": [
       "Columns:\n",
       "\timage\tImage\n",
       "\tdeep_features\tarray\n",
       "\n",
       "Rows: 1\n",
       "\n",
       "Data:\n",
       "+----------------------+-------------------------------+\n",
       "|        image         |         deep_features         |\n",
       "+----------------------+-------------------------------+\n",
       "| Height: 32 Width: 32 | [0.0, 0.0, 0.0, 0.16266036... |\n",
       "+----------------------+-------------------------------+\n",
       "[1 rows x 2 columns]"
      ]
     },
     "execution_count": 11,
     "metadata": {},
     "output_type": "execute_result"
    }
   ],
   "source": [
    "extractor = graphlab.feature_engineering.DeepFeatureExtractor(features='image', model='auto')\n",
    "\n",
    "extractor = extractor.fit(ppsf)\n",
    "\n",
    "ppsf['deep_features'] = extractor.transform(ppsf)['deep_features.image']\n",
    "\n",
    "ppsf"
   ]
  },
  {
   "cell_type": "code",
   "execution_count": 12,
   "metadata": {
    "collapsed": false
   },
   "outputs": [
    {
     "data": {
      "text/html": [
       "<div style=\"max-height:1000px;max-width:1500px;overflow:auto;\"><table frame=\"box\" rules=\"cols\">\n",
       "    <tr>\n",
       "        <th style=\"padding-left: 1em; padding-right: 1em; text-align: center\">id</th>\n",
       "        <th style=\"padding-left: 1em; padding-right: 1em; text-align: center\">image</th>\n",
       "        <th style=\"padding-left: 1em; padding-right: 1em; text-align: center\">label</th>\n",
       "        <th style=\"padding-left: 1em; padding-right: 1em; text-align: center\">deep_features</th>\n",
       "    </tr>\n",
       "    <tr>\n",
       "        <td style=\"padding-left: 1em; padding-right: 1em; text-align: center; vertical-align: top\">49840</td>\n",
       "        <td style=\"padding-left: 1em; padding-right: 1em; text-align: center; vertical-align: top\">Height: 32 Width: 32</td>\n",
       "        <td style=\"padding-left: 1em; padding-right: 1em; text-align: center; vertical-align: top\">cat</td>\n",
       "        <td style=\"padding-left: 1em; padding-right: 1em; text-align: center; vertical-align: top\">[0.0344250798225, 0.0,<br>0.0, 0.0, 0.0, 0.0, ...</td>\n",
       "    </tr>\n",
       "    <tr>\n",
       "        <td style=\"padding-left: 1em; padding-right: 1em; text-align: center; vertical-align: top\">49845</td>\n",
       "        <td style=\"padding-left: 1em; padding-right: 1em; text-align: center; vertical-align: top\">Height: 32 Width: 32</td>\n",
       "        <td style=\"padding-left: 1em; padding-right: 1em; text-align: center; vertical-align: top\">dog</td>\n",
       "        <td style=\"padding-left: 1em; padding-right: 1em; text-align: center; vertical-align: top\">[0.125242829323, 0.0,<br>0.0, 0.0, 0.0, 0.0, ...</td>\n",
       "    </tr>\n",
       "    <tr>\n",
       "        <td style=\"padding-left: 1em; padding-right: 1em; text-align: center; vertical-align: top\">49881</td>\n",
       "        <td style=\"padding-left: 1em; padding-right: 1em; text-align: center; vertical-align: top\">Height: 32 Width: 32</td>\n",
       "        <td style=\"padding-left: 1em; padding-right: 1em; text-align: center; vertical-align: top\">bird</td>\n",
       "        <td style=\"padding-left: 1em; padding-right: 1em; text-align: center; vertical-align: top\">[0.0, 0.0, 0.0, 0.0, 0.0,<br>0.0, 9.30746841431, 0.0, ...</td>\n",
       "    </tr>\n",
       "    <tr>\n",
       "        <td style=\"padding-left: 1em; padding-right: 1em; text-align: center; vertical-align: top\">49896</td>\n",
       "        <td style=\"padding-left: 1em; padding-right: 1em; text-align: center; vertical-align: top\">Height: 32 Width: 32</td>\n",
       "        <td style=\"padding-left: 1em; padding-right: 1em; text-align: center; vertical-align: top\">cat</td>\n",
       "        <td style=\"padding-left: 1em; padding-right: 1em; text-align: center; vertical-align: top\">[0.0, 0.0,<br>0.592454433441, 0.0,  ...</td>\n",
       "    </tr>\n",
       "    <tr>\n",
       "        <td style=\"padding-left: 1em; padding-right: 1em; text-align: center; vertical-align: top\">49913</td>\n",
       "        <td style=\"padding-left: 1em; padding-right: 1em; text-align: center; vertical-align: top\">Height: 32 Width: 32</td>\n",
       "        <td style=\"padding-left: 1em; padding-right: 1em; text-align: center; vertical-align: top\">automobile</td>\n",
       "        <td style=\"padding-left: 1em; padding-right: 1em; text-align: center; vertical-align: top\">[1.2023819685,<br>0.342965483665, 0.0,  ...</td>\n",
       "    </tr>\n",
       "    <tr>\n",
       "        <td style=\"padding-left: 1em; padding-right: 1em; text-align: center; vertical-align: top\">49919</td>\n",
       "        <td style=\"padding-left: 1em; padding-right: 1em; text-align: center; vertical-align: top\">Height: 32 Width: 32</td>\n",
       "        <td style=\"padding-left: 1em; padding-right: 1em; text-align: center; vertical-align: top\">automobile</td>\n",
       "        <td style=\"padding-left: 1em; padding-right: 1em; text-align: center; vertical-align: top\">[0.0, 0.0, 0.0,<br>0.769036352634, 0.0,  ...</td>\n",
       "    </tr>\n",
       "    <tr>\n",
       "        <td style=\"padding-left: 1em; padding-right: 1em; text-align: center; vertical-align: top\">49927</td>\n",
       "        <td style=\"padding-left: 1em; padding-right: 1em; text-align: center; vertical-align: top\">Height: 32 Width: 32</td>\n",
       "        <td style=\"padding-left: 1em; padding-right: 1em; text-align: center; vertical-align: top\">dog</td>\n",
       "        <td style=\"padding-left: 1em; padding-right: 1em; text-align: center; vertical-align: top\">[0.558163285255, 0.0,<br>1.05110442638, 0.0, 0.0, ...</td>\n",
       "    </tr>\n",
       "    <tr>\n",
       "        <td style=\"padding-left: 1em; padding-right: 1em; text-align: center; vertical-align: top\">49958</td>\n",
       "        <td style=\"padding-left: 1em; padding-right: 1em; text-align: center; vertical-align: top\">Height: 32 Width: 32</td>\n",
       "        <td style=\"padding-left: 1em; padding-right: 1em; text-align: center; vertical-align: top\">cat</td>\n",
       "        <td style=\"padding-left: 1em; padding-right: 1em; text-align: center; vertical-align: top\">[0.674960494041, 0.0,<br>0.0, 1.9640891552, ...</td>\n",
       "    </tr>\n",
       "    <tr>\n",
       "        <td style=\"padding-left: 1em; padding-right: 1em; text-align: center; vertical-align: top\">49970</td>\n",
       "        <td style=\"padding-left: 1em; padding-right: 1em; text-align: center; vertical-align: top\">Height: 32 Width: 32</td>\n",
       "        <td style=\"padding-left: 1em; padding-right: 1em; text-align: center; vertical-align: top\">cat</td>\n",
       "        <td style=\"padding-left: 1em; padding-right: 1em; text-align: center; vertical-align: top\">[1.07501864433, 0.0, 0.0,<br>0.0, 0.0, 0.0, ...</td>\n",
       "    </tr>\n",
       "    <tr>\n",
       "        <td style=\"padding-left: 1em; padding-right: 1em; text-align: center; vertical-align: top\">50000</td>\n",
       "        <td style=\"padding-left: 1em; padding-right: 1em; text-align: center; vertical-align: top\">Height: 32 Width: 32</td>\n",
       "        <td style=\"padding-left: 1em; padding-right: 1em; text-align: center; vertical-align: top\">me</td>\n",
       "        <td style=\"padding-left: 1em; padding-right: 1em; text-align: center; vertical-align: top\">[0.0, 0.0, 0.0,<br>0.162660360336, 0.0,  ...</td>\n",
       "    </tr>\n",
       "</table>\n",
       "[10 rows x 4 columns]<br/>\n",
       "</div>"
      ],
      "text/plain": [
       "Columns:\n",
       "\tid\tint\n",
       "\timage\tImage\n",
       "\tlabel\tstr\n",
       "\tdeep_features\tarray\n",
       "\n",
       "Rows: 10\n",
       "\n",
       "Data:\n",
       "+-------+----------------------+------------+-------------------------------+\n",
       "|   id  |        image         |   label    |         deep_features         |\n",
       "+-------+----------------------+------------+-------------------------------+\n",
       "| 49840 | Height: 32 Width: 32 |    cat     | [0.0344250798225, 0.0, 0.0... |\n",
       "| 49845 | Height: 32 Width: 32 |    dog     | [0.125242829323, 0.0, 0.0,... |\n",
       "| 49881 | Height: 32 Width: 32 |    bird    | [0.0, 0.0, 0.0, 0.0, 0.0, ... |\n",
       "| 49896 | Height: 32 Width: 32 |    cat     | [0.0, 0.0, 0.592454433441,... |\n",
       "| 49913 | Height: 32 Width: 32 | automobile | [1.2023819685, 0.342965483... |\n",
       "| 49919 | Height: 32 Width: 32 | automobile | [0.0, 0.0, 0.0, 0.76903635... |\n",
       "| 49927 | Height: 32 Width: 32 |    dog     | [0.558163285255, 0.0, 1.05... |\n",
       "| 49958 | Height: 32 Width: 32 |    cat     | [0.674960494041, 0.0, 0.0,... |\n",
       "| 49970 | Height: 32 Width: 32 |    cat     | [1.07501864433, 0.0, 0.0, ... |\n",
       "| 50000 | Height: 32 Width: 32 |     me     | [0.0, 0.0, 0.0, 0.16266036... |\n",
       "+-------+----------------------+------------+-------------------------------+\n",
       "[10 rows x 4 columns]"
      ]
     },
     "execution_count": 12,
     "metadata": {},
     "output_type": "execute_result"
    }
   ],
   "source": [
    "ppsf['label'] = 'me'\n",
    "gl_img['id'].max()\n",
    "\n",
    "ppsf['id'] = 50000\n",
    "labels = ['id', 'image', 'label', 'deep_features']\n",
    "part_train = gl_img[labels]\n",
    "new_train = part_train.append(ppsf[labels])\n",
    "new_train.tail()"
   ]
  },
  {
   "cell_type": "code",
   "execution_count": 13,
   "metadata": {
    "collapsed": false
   },
   "outputs": [
    {
     "data": {
      "text/html": [
       "<pre>Starting brute force nearest neighbors model training.</pre>"
      ],
      "text/plain": [
       "Starting brute force nearest neighbors model training."
      ]
     },
     "metadata": {},
     "output_type": "display_data"
    },
    {
     "data": {
      "text/html": [
       "<pre>Starting pairwise querying.</pre>"
      ],
      "text/plain": [
       "Starting pairwise querying."
      ]
     },
     "metadata": {},
     "output_type": "display_data"
    },
    {
     "data": {
      "text/html": [
       "<pre>+--------------+---------+-------------+--------------+</pre>"
      ],
      "text/plain": [
       "+--------------+---------+-------------+--------------+"
      ]
     },
     "metadata": {},
     "output_type": "display_data"
    },
    {
     "data": {
      "text/html": [
       "<pre>| Query points | # Pairs | % Complete. | Elapsed Time |</pre>"
      ],
      "text/plain": [
       "| Query points | # Pairs | % Complete. | Elapsed Time |"
      ]
     },
     "metadata": {},
     "output_type": "display_data"
    },
    {
     "data": {
      "text/html": [
       "<pre>+--------------+---------+-------------+--------------+</pre>"
      ],
      "text/plain": [
       "+--------------+---------+-------------+--------------+"
      ]
     },
     "metadata": {},
     "output_type": "display_data"
    },
    {
     "data": {
      "text/html": [
       "<pre>| 0            | 1       | 0.0498504   | 14.037ms     |</pre>"
      ],
      "text/plain": [
       "| 0            | 1       | 0.0498504   | 14.037ms     |"
      ]
     },
     "metadata": {},
     "output_type": "display_data"
    },
    {
     "data": {
      "text/html": [
       "<pre>| Done         |         | 100         | 239.225ms    |</pre>"
      ],
      "text/plain": [
       "| Done         |         | 100         | 239.225ms    |"
      ]
     },
     "metadata": {},
     "output_type": "display_data"
    },
    {
     "data": {
      "text/html": [
       "<pre>+--------------+---------+-------------+--------------+</pre>"
      ],
      "text/plain": [
       "+--------------+---------+-------------+--------------+"
      ]
     },
     "metadata": {},
     "output_type": "display_data"
    },
    {
     "data": {
      "application/javascript": [
       "$(\"head\").append($(\"<link/>\").attr({\n",
       "  rel:  \"stylesheet\",\n",
       "  type: \"text/css\",\n",
       "  href: \"//cdnjs.cloudflare.com/ajax/libs/font-awesome/4.1.0/css/font-awesome.min.css\"\n",
       "}));\n",
       "$(\"head\").append($(\"<link/>\").attr({\n",
       "  rel:  \"stylesheet\",\n",
       "  type: \"text/css\",\n",
       "  href: \"https://static.turi.com/products/graphlab-create/2.1/canvas/css/canvas.css\"\n",
       "}));\n",
       "\n",
       "            (function(){\n",
       "\n",
       "                var e = null;\n",
       "                if (typeof element == 'undefined') {\n",
       "                    var scripts = document.getElementsByTagName('script');\n",
       "                    var thisScriptTag = scripts[scripts.length-1];\n",
       "                    var parentDiv = thisScriptTag.parentNode;\n",
       "                    e = document.createElement('div');\n",
       "                    parentDiv.appendChild(e);\n",
       "                } else {\n",
       "                    e = element[0];\n",
       "                }\n",
       "\n",
       "                if (typeof requirejs !== 'undefined') {\n",
       "                    // disable load timeout; ipython_app.js is large and can take a while to load.\n",
       "                    requirejs.config({waitSeconds: 0});\n",
       "                }\n",
       "\n",
       "                require(['https://static.turi.com/products/graphlab-create/2.1/canvas/js/ipython_app.js'], function(IPythonApp){\n",
       "                    var app = new IPythonApp();\n",
       "                    app.attachView('sarray','Images', {\"ipython\": true, \"rows\": [{\"format\": \"png\", \"value\": \"image/png;base64,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\\n\", \"height\": 128, \"channels\": 3, \"width\": 128, \"type\": \"image\", \"id\": 4777539600}, {\"format\": \"png\", \"value\": \"image/png;base64,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\\n\", \"height\": 128, \"channels\": 3, \"width\": 128, \"type\": \"image\", \"id\": 4777539664}, {\"format\": \"png\", \"value\": \"image/png;base64,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\\n\", \"height\": 128, \"channels\": 3, \"width\": 128, \"type\": \"image\", \"id\": 4777539728}, {\"format\": \"png\", \"value\": \"image/png;base64,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\\n\", \"height\": 128, \"channels\": 3, \"width\": 128, \"type\": \"image\", \"id\": 4777539280}], \"selected_variable\": {\"name\": [\"<SArray>\"], \"dtype\": \"Image\", \"view_component\": \"Images\", \"view_file\": \"sarray\", \"descriptives\": {\"rows\": 4}, \"type\": \"SArray\", \"view_components\": [\"Images\"]}}, e);\n",
       "                });\n",
       "            })();\n",
       "        "
      ]
     },
     "metadata": {},
     "output_type": "display_data"
    }
   ],
   "source": [
    "knn_model = graphlab.nearest_neighbors.create(new_train,features=['deep_features'], label='id')\n",
    "\n",
    "me_test = new_train[-1:]\n",
    "def reveal_my_twin(x):\n",
    "    return gl_img.filter_by(x['reference_label'],'id')\n",
    "\n",
    "spirit_animal = reveal_my_twin(knn_model.query(me_test))\n",
    "graphlab.image_analysis.resize(spirit_animal['image'], 128,128).show()"
   ]
  },
  {
   "cell_type": "code",
   "execution_count": null,
   "metadata": {
    "collapsed": true
   },
   "outputs": [],
   "source": []
  }
 ],
 "metadata": {
  "anaconda-cloud": {},
  "kernelspec": {
   "display_name": "Python [gl-env]",
   "language": "python",
   "name": "Python [gl-env]"
  },
  "language_info": {
   "codemirror_mode": {
    "name": "ipython",
    "version": 2
   },
   "file_extension": ".py",
   "mimetype": "text/x-python",
   "name": "python",
   "nbconvert_exporter": "python",
   "pygments_lexer": "ipython2",
   "version": "2.7.12"
  }
 },
 "nbformat": 4,
 "nbformat_minor": 0
}
