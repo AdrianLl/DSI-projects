{
 "cells": [
  {
   "cell_type": "code",
   "execution_count": 1,
   "metadata": {
    "collapsed": true
   },
   "outputs": [],
   "source": [
    "import pandas as pd\n",
    "from matplotlib import pyplot as plt\n",
    "\n",
    "%matplotlib inline"
   ]
  },
  {
   "cell_type": "code",
   "execution_count": 2,
   "metadata": {
    "collapsed": true
   },
   "outputs": [],
   "source": [
    "df = pd.read_csv('PPD_Crime_Incidents_2006-Present.csv')"
   ]
  },
  {
   "cell_type": "code",
   "execution_count": 3,
   "metadata": {
    "collapsed": false
   },
   "outputs": [
    {
     "data": {
      "text/plain": [
       "2137004"
      ]
     },
     "execution_count": 3,
     "metadata": {},
     "output_type": "execute_result"
    }
   ],
   "source": [
    "len(df)"
   ]
  },
  {
   "cell_type": "code",
   "execution_count": 4,
   "metadata": {
    "collapsed": false
   },
   "outputs": [
    {
     "data": {
      "text/plain": [
       "Index([u'DC_DIST', u'PSA', u'DISPATCH_DATE_TIME', u'DISPATCH_DATE',\n",
       "       u'DISPATCH_TIME', u'HOUR_', u'DC_KEY', u'LOCATION_BLOCK',\n",
       "       u'UCR_GENERAL', u'TEXT_GENERAL_CODE', u'SHAPE', u'Police Districts'],\n",
       "      dtype='object')"
      ]
     },
     "execution_count": 4,
     "metadata": {},
     "output_type": "execute_result"
    }
   ],
   "source": [
    "df.columns"
   ]
  },
  {
   "cell_type": "code",
   "execution_count": 5,
   "metadata": {
    "collapsed": false
   },
   "outputs": [
    {
     "data": {
      "text/plain": [
       "DC_DIST                   0\n",
       "PSA                       0\n",
       "DISPATCH_DATE_TIME        0\n",
       "DISPATCH_DATE             0\n",
       "DISPATCH_TIME             0\n",
       "HOUR_                     0\n",
       "DC_KEY                    0\n",
       "LOCATION_BLOCK            0\n",
       "UCR_GENERAL             133\n",
       "TEXT_GENERAL_CODE       133\n",
       "SHAPE                 14878\n",
       "Police Districts      17372\n",
       "dtype: int64"
      ]
     },
     "execution_count": 5,
     "metadata": {},
     "output_type": "execute_result"
    }
   ],
   "source": [
    "df.isnull().sum()"
   ]
  },
  {
   "cell_type": "code",
   "execution_count": 8,
   "metadata": {
    "collapsed": false
   },
   "outputs": [
    {
     "data": {
      "text/html": [
       "<div>\n",
       "<table border=\"1\" class=\"dataframe\">\n",
       "  <thead>\n",
       "    <tr style=\"text-align: right;\">\n",
       "      <th></th>\n",
       "      <th>0</th>\n",
       "    </tr>\n",
       "  </thead>\n",
       "  <tbody>\n",
       "    <tr>\n",
       "      <th>DC_DIST</th>\n",
       "      <td>18</td>\n",
       "    </tr>\n",
       "    <tr>\n",
       "      <th>PSA</th>\n",
       "      <td>3</td>\n",
       "    </tr>\n",
       "    <tr>\n",
       "      <th>DISPATCH_DATE_TIME</th>\n",
       "      <td>10/02/2009 02:24:00 PM</td>\n",
       "    </tr>\n",
       "    <tr>\n",
       "      <th>DISPATCH_DATE</th>\n",
       "      <td>2009-10-02</td>\n",
       "    </tr>\n",
       "    <tr>\n",
       "      <th>DISPATCH_TIME</th>\n",
       "      <td>14:24:00</td>\n",
       "    </tr>\n",
       "    <tr>\n",
       "      <th>HOUR_</th>\n",
       "      <td>14</td>\n",
       "    </tr>\n",
       "    <tr>\n",
       "      <th>DC_KEY</th>\n",
       "      <td>200918067518</td>\n",
       "    </tr>\n",
       "    <tr>\n",
       "      <th>LOCATION_BLOCK</th>\n",
       "      <td>S 38TH ST  / MARKETUT ST</td>\n",
       "    </tr>\n",
       "    <tr>\n",
       "      <th>UCR_GENERAL</th>\n",
       "      <td>800</td>\n",
       "    </tr>\n",
       "    <tr>\n",
       "      <th>TEXT_GENERAL_CODE</th>\n",
       "      <td>Other Assaults</td>\n",
       "    </tr>\n",
       "    <tr>\n",
       "      <th>SHAPE</th>\n",
       "      <td>NaN</td>\n",
       "    </tr>\n",
       "    <tr>\n",
       "      <th>Police Districts</th>\n",
       "      <td>NaN</td>\n",
       "    </tr>\n",
       "  </tbody>\n",
       "</table>\n",
       "</div>"
      ],
      "text/plain": [
       "                                           0\n",
       "DC_DIST                                   18\n",
       "PSA                                        3\n",
       "DISPATCH_DATE_TIME    10/02/2009 02:24:00 PM\n",
       "DISPATCH_DATE                     2009-10-02\n",
       "DISPATCH_TIME                       14:24:00\n",
       "HOUR_                                     14\n",
       "DC_KEY                          200918067518\n",
       "LOCATION_BLOCK      S 38TH ST  / MARKETUT ST\n",
       "UCR_GENERAL                              800\n",
       "TEXT_GENERAL_CODE             Other Assaults\n",
       "SHAPE                                    NaN\n",
       "Police Districts                         NaN"
      ]
     },
     "execution_count": 8,
     "metadata": {},
     "output_type": "execute_result"
    }
   ],
   "source": [
    "df.head(1).T"
   ]
  },
  {
   "cell_type": "code",
   "execution_count": 9,
   "metadata": {
    "collapsed": false
   },
   "outputs": [
    {
     "data": {
      "text/plain": [
       "15    176244\n",
       "24    153810\n",
       "25    144508\n",
       "19    130979\n",
       "12    127061\n",
       "35    125453\n",
       "22    120523\n",
       "14    115682\n",
       "2     111666\n",
       "18    104349\n",
       "6      92237\n",
       "39     91787\n",
       "26     83142\n",
       "3      81368\n",
       "9      80095\n",
       "17     72402\n",
       "8      70819\n",
       "16     69881\n",
       "1      46822\n",
       "7      42680\n",
       "5      29995\n",
       "4      29198\n",
       "23     27278\n",
       "77      7398\n",
       "92      1627\n",
       "Name: DC_DIST, dtype: int64"
      ]
     },
     "execution_count": 9,
     "metadata": {},
     "output_type": "execute_result"
    }
   ],
   "source": [
    "df['DC_DIST'].value_counts()"
   ]
  },
  {
   "cell_type": "code",
   "execution_count": 10,
   "metadata": {
    "collapsed": false
   },
   "outputs": [
    {
     "data": {
      "text/plain": [
       "2    454340\n",
       "1    419104\n",
       "3    374739\n",
       "4     55891\n",
       "E     53199\n",
       "D     51939\n",
       "K     51535\n",
       "J     51332\n",
       "H     50912\n",
       "F     48810\n",
       "G     47990\n",
       "A     46602\n",
       "I     45974\n",
       "P     44214\n",
       "N     42870\n",
       "L     41691\n",
       "M     38718\n",
       "B     37472\n",
       "C     35033\n",
       "O     33795\n",
       "S     28640\n",
       "R     25466\n",
       "Q     21077\n",
       "U     10809\n",
       "T      9718\n",
       "X      6350\n",
       "W      2596\n",
       "V      2476\n",
       "Y      1964\n",
       "Z      1748\n",
       "Name: PSA, dtype: int64"
      ]
     },
     "execution_count": 10,
     "metadata": {},
     "output_type": "execute_result"
    }
   ],
   "source": [
    "df['PSA'].value_counts()"
   ]
  },
  {
   "cell_type": "code",
   "execution_count": null,
   "metadata": {
    "collapsed": true
   },
   "outputs": [],
   "source": []
  }
 ],
 "metadata": {
  "kernelspec": {
   "display_name": "Python 2",
   "language": "python",
   "name": "python2"
  },
  "language_info": {
   "codemirror_mode": {
    "name": "ipython",
    "version": 2
   },
   "file_extension": ".py",
   "mimetype": "text/x-python",
   "name": "python",
   "nbconvert_exporter": "python",
   "pygments_lexer": "ipython2",
   "version": "2.7.12"
  }
 },
 "nbformat": 4,
 "nbformat_minor": 0
}
