{
 "cells": [
  {
   "cell_type": "code",
   "execution_count": 1,
   "metadata": {
    "collapsed": true
   },
   "outputs": [],
   "source": [
    "M = 1000\n",
    "D = 500\n",
    "C = 100\n",
    "L = 50\n",
    "X = 10\n",
    "I = 1"
   ]
  },
  {
   "cell_type": "code",
   "execution_count": 5,
   "metadata": {
    "collapsed": false
   },
   "outputs": [],
   "source": [
    "def romanify(num):\n",
    "    if type(num) != int:\n",
    "            print 'Please use integer argument!'\n",
    "    elif num == 1000:\n",
    "        return 'M'\n",
    "    else:\n",
    "        roman_num = ''\n",
    "        if num >= 900:\n",
    "            roman_num += 'CM'\n",
    "            num -= 900\n",
    "        elif num >= 800:\n",
    "            roman_num += 'DCCC'\n",
    "            num -= 800\n",
    "        elif num >= 700:\n",
    "            roman_num += 'DCC'\n",
    "            num -= 700\n",
    "        elif num >= 600:\n",
    "            roman_num += 'DC'\n",
    "            num -= 600\n",
    "        elif num >= 500:\n",
    "            roman_num += 'D'\n",
    "            num -= 500\n",
    "        elif num >= 400:\n",
    "            roman_num += 'CD'\n",
    "            num -= 400\n",
    "        elif num >= 300:\n",
    "            roman_num += 'CCC'\n",
    "            num -= 300\n",
    "        elif num >= 200:\n",
    "            roman_num += 'CC'\n",
    "            num -= 200\n",
    "        elif num >= 100:\n",
    "            roman_num += 'C'\n",
    "            num -= 100\n",
    "    \n",
    "    if num >= 90:\n",
    "            roman_num += 'XC'\n",
    "            num -= 90\n",
    "        elif num >= 80:\n",
    "            roman_num += 'LXXX'\n",
    "            num -= 80\n",
    "        elif num >= 70:\n",
    "            roman_num += 'LXX'\n",
    "            num -= 70\n",
    "        elif num >= 60:\n",
    "            roman_num += 'LX'\n",
    "            num -= 60\n",
    "        elif num >= 50:\n",
    "            roman_num += 'L'\n",
    "            num -= 50        \n",
    "        elif num >= 40:\n",
    "            roman_num += 'XL'\n",
    "            num -= 40\n",
    "        elif num >= 30:\n",
    "            roman_num += 'XXX'\n",
    "            num -= 30\n",
    "        elif num >= 20:\n",
    "            roman_num += 'XX'\n",
    "            num -= 20\n",
    "        elif num >= 10:\n",
    "            roman_num += 'X'\n",
    "            num -= 10\n",
    "        elif num == 9:\n",
    "            roman_num += 'IX'\n",
    "            num -= 9\n",
    "        elif num > 8:\n",
    "            roman_num += 'VIII'\n",
    "            num -= 8\n",
    "        elif num > 7:\n",
    "            roman_num += 'VII'\n",
    "            num -= 7\n",
    "        elif num > 6:\n",
    "            roman_num += 'VI'\n",
    "            num -= 6\n",
    "        elif num > 5:\n",
    "            roman_num += 'V'\n",
    "            num -= 5\n",
    "        elif num > 4:\n",
    "            roman_num += 'IV'\n",
    "            num -= 4\n",
    "        elif num > 3:\n",
    "            roman_num += 'III'\n",
    "            num -= 3\n",
    "        elif num > 2:\n",
    "            roman_num += 'II'\n",
    "            num -= 2\n",
    "        elif num > 1:\n",
    "            roman_num += 'I'\n",
    "            num -= 1\n",
    "    return roman_num\n",
    "            \n",
    "                "
   ]
  },
  {
   "cell_type": "code",
   "execution_count": 7,
   "metadata": {
    "collapsed": false
   },
   "outputs": [
    {
     "data": {
      "text/plain": [
       "'CM'"
      ]
     },
     "execution_count": 7,
     "metadata": {},
     "output_type": "execute_result"
    }
   ],
   "source": [
    "romanify(943)"
   ]
  },
  {
   "cell_type": "code",
   "execution_count": null,
   "metadata": {
    "collapsed": true
   },
   "outputs": [],
   "source": []
  }
 ],
 "metadata": {
  "kernelspec": {
   "display_name": "Python 2",
   "language": "python",
   "name": "python2"
  },
  "language_info": {
   "codemirror_mode": {
    "name": "ipython",
    "version": 2
   },
   "file_extension": ".py",
   "mimetype": "text/x-python",
   "name": "python",
   "nbconvert_exporter": "python",
   "pygments_lexer": "ipython2",
   "version": "2.7.12"
  }
 },
 "nbformat": 4,
 "nbformat_minor": 0
}
