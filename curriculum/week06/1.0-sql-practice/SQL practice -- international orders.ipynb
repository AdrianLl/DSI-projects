{
 "cells": [
  {
   "cell_type": "markdown",
   "metadata": {},
   "source": [
    "What customers are from the UK?\n",
    "\n",
    "SELECT * FROM Customers WHERE Country = 'UK';\n",
    "\n",
    "4\tAround the Horn\tThomas Hardy\t120 Hanover Sq.\tLondon\tWA1 1DP\tUK\n",
    "\n",
    "11\tB's Beverages\tVictoria Ashworth\tFauntleroy Circus\tLondon\tEC2 5NT\tUK\n",
    "\n",
    "16\tConsolidated Holdings\tElizabeth Brown\tBerkeley Gardens 12 Brewery\tLondon\tWX1 6LT\tUK\n",
    "\n",
    "19\tEastern Connection\tAnn Devon\t35 King George\tLondon\tWX3 6FW\tUK\n",
    "\n",
    "38\tIsland Trading\tHelen Bennett\tGarden House Crowther Way\tCowes\tPO31 7PJ\tUK\n",
    "\n",
    "53\tNorth/South\tSimon Crowther\tSouth House 300 Queensbridge\tLondon\tSW7 1RZ\tUK\n",
    "\n",
    "72\tSeven Seas Imports\tHari Kumar\t90 Wadhurst Rd.\tLondon\tOX15 4NB\tUK"
   ]
  },
  {
   "cell_type": "markdown",
   "metadata": {},
   "source": [
    "What is the name of the customer who has the most orders?\n",
    "\n",
    "SELECT COUNT(Orders.OrderID), Customers.CustomerName\n",
    "\n",
    "FROM Customers\n",
    "\n",
    "JOIN Orders\n",
    "\n",
    "ON Orders.CustomerID = Customers.CustomerID\n",
    "\n",
    "GROUP BY Orders.CustomerID\n",
    "\n",
    "ORDER BY COUNT(Orders.OrderID) DESC LIMIT 1; "
   ]
  },
  {
   "cell_type": "markdown",
   "metadata": {},
   "source": [
    "How many different countries are customers from (Hint: Look at the DISTINCT operator)\n",
    "\n",
    "SELECT COUNT(DISTINCT(Customers.Country)) FROM Customers;"
   ]
  },
  {
   "cell_type": "markdown",
   "metadata": {},
   "source": [
    "What supplier has the highest average product price?\n",
    "\n",
    "SELECT AVG(Products.Price), Suppliers.SupplierID, Suppliers.SupplierName\n",
    "\n",
    "FROM Products\n",
    "\n",
    "JOIN Suppliers\n",
    "\n",
    "ON Suppliers.SupplierID = Products.SupplierID\n",
    "\n",
    "GROUP BY Suppliers.SupplierID\n",
    "\n",
    "ORDER BY AVG(Products.Price) DESC;\n",
    "\n",
    "140.75\t18\tAux joyeux ecclésiastiques"
   ]
  },
  {
   "cell_type": "markdown",
   "metadata": {},
   "source": [
    "What category appears in the most orders?\n",
    "\n"
   ]
  },
  {
   "cell_type": "code",
   "execution_count": null,
   "metadata": {
    "collapsed": true
   },
   "outputs": [],
   "source": [
    "What employee made the most sales (by number of sales)?"
   ]
  },
  {
   "cell_type": "code",
   "execution_count": null,
   "metadata": {
    "collapsed": true
   },
   "outputs": [],
   "source": [
    "What employee made the most sales (by total value of sales)?"
   ]
  },
  {
   "cell_type": "code",
   "execution_count": null,
   "metadata": {
    "collapsed": true
   },
   "outputs": [],
   "source": [
    "What Employees have BS degrees? (Hint: Look at LIKE operator)"
   ]
  },
  {
   "cell_type": "code",
   "execution_count": null,
   "metadata": {
    "collapsed": true
   },
   "outputs": [],
   "source": [
    "What supplier has the highest average product price assuming they have at least 2 products (Hint: Look at the HAVING operator)"
   ]
  }
 ],
 "metadata": {
  "kernelspec": {
   "display_name": "Python 2",
   "language": "python",
   "name": "python2"
  },
  "language_info": {
   "codemirror_mode": {
    "name": "ipython",
    "version": 2
   },
   "file_extension": ".py",
   "mimetype": "text/x-python",
   "name": "python",
   "nbconvert_exporter": "python",
   "pygments_lexer": "ipython2",
   "version": "2.7.12"
  }
 },
 "nbformat": 4,
 "nbformat_minor": 0
}
