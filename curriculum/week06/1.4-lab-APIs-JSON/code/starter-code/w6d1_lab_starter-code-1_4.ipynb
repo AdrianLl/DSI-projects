{
 "cells": [
  {
   "cell_type": "markdown",
   "metadata": {},
   "source": [
    "# APIs Lab\n",
    "In this lab we will practice using APIs to retrieve and store data."
   ]
  },
  {
   "cell_type": "code",
   "execution_count": 1,
   "metadata": {
    "collapsed": false
   },
   "outputs": [],
   "source": [
    "# Imports at the top\n",
    "import json\n",
    "import urllib\n",
    "import pandas as pd\n",
    "import numpy as np\n",
    "import requests\n",
    "import json\n",
    "import re\n",
    "import matplotlib.pyplot as plt\n",
    "%matplotlib inline"
   ]
  },
  {
   "cell_type": "markdown",
   "metadata": {},
   "source": [
    "## Exercise 1: Get Data From Sheetsu\n",
    "\n",
    "[Sheetsu](https://sheetsu.com/) is an online service that allows you to access any Google spreadsheet from an API. This can be a very handy way to share a dataset with colleagues as well as to create a mini centralized data storage, that is simpler to edit than a database.\n",
    "\n",
    "A Google Spreadsheet with wine data can be found [here](https://docs.google.com/a/generalassemb.ly/spreadsheets/d/1JWRwDnwIMLgvPqNMdJLmAJgzvz0K3zAUc6jev3ci1c8/edit?usp=sharing).\n",
    "\n",
    "You can access it through the Sheetsu API at this endpoint: https://sheetsu.com/apis/v1.0/cc9420722ae4. [Here](https://sheetsu.com/docs/beta) is Sheetsu's documentation.\n",
    "\n",
    "\n",
    "Questions:\n",
    "\n",
    "1. Use the requests library to access the document. Inspect the response text. What kind of data is it?\n",
    "2. Check the status code of the response object. What code is it?\n",
    "3. Use the appropriate libraries and read functions to read the response into a Pandas Dataframe\n",
    "4. Once you've imported the data into a dataframe, check the value of the 5th line: what's the price?"
   ]
  },
  {
   "cell_type": "code",
   "execution_count": 13,
   "metadata": {
    "collapsed": true
   },
   "outputs": [],
   "source": [
    "import requests\n",
    "url = 'https://sheetsu.com/apis/v1.0/cc9420722ae4'\n",
    "response = requests.get(url)"
   ]
  },
  {
   "cell_type": "code",
   "execution_count": 14,
   "metadata": {
    "collapsed": false
   },
   "outputs": [
    {
     "data": {
      "text/plain": [
       "requests.models.Response"
      ]
     },
     "execution_count": 14,
     "metadata": {},
     "output_type": "execute_result"
    }
   ],
   "source": [
    "type(response)"
   ]
  },
  {
   "cell_type": "code",
   "execution_count": 15,
   "metadata": {
    "collapsed": false
   },
   "outputs": [
    {
     "data": {
      "text/plain": [
       "<Response [200]>"
      ]
     },
     "execution_count": 15,
     "metadata": {},
     "output_type": "execute_result"
    }
   ],
   "source": [
    "response"
   ]
  },
  {
   "cell_type": "code",
   "execution_count": 16,
   "metadata": {
    "collapsed": false
   },
   "outputs": [
    {
     "data": {
      "text/plain": [
       "u'[{\"Color\":\"W\",\"Region\":\"Portugal\",\"Country\":\"Portugal\",\"Vintage\":\"2013\",\"Vinyard\":\"Vinho Verde\",\"Name\":\"\",\"Grape\":\"\",\"Consumed In\":\"2015\",\"Score\":\"4\",\"Price\":\"\"},{\"Color\":\"W\",\"Region\":\"France\",\"Countr'"
      ]
     },
     "execution_count": 16,
     "metadata": {},
     "output_type": "execute_result"
    }
   ],
   "source": [
    "response.text[:200]"
   ]
  },
  {
   "cell_type": "code",
   "execution_count": 18,
   "metadata": {
    "collapsed": false
   },
   "outputs": [],
   "source": [
    "response1 = json.loads(response.text)"
   ]
  },
  {
   "cell_type": "code",
   "execution_count": 20,
   "metadata": {
    "collapsed": false
   },
   "outputs": [
    {
     "data": {
      "text/plain": [
       "list"
      ]
     },
     "execution_count": 20,
     "metadata": {},
     "output_type": "execute_result"
    }
   ],
   "source": [
    "type(response1)"
   ]
  },
  {
   "cell_type": "code",
   "execution_count": 21,
   "metadata": {
    "collapsed": false
   },
   "outputs": [
    {
     "data": {
      "text/plain": [
       "{u'Color': u'W',\n",
       " u'Consumed In': u'2015',\n",
       " u'Country': u'Portugal',\n",
       " u'Grape': u'',\n",
       " u'Name': u'',\n",
       " u'Price': u'',\n",
       " u'Region': u'Portugal',\n",
       " u'Score': u'4',\n",
       " u'Vintage': u'2013',\n",
       " u'Vinyard': u'Vinho Verde'}"
      ]
     },
     "execution_count": 21,
     "metadata": {},
     "output_type": "execute_result"
    }
   ],
   "source": [
    "response1[0]"
   ]
  },
  {
   "cell_type": "code",
   "execution_count": 25,
   "metadata": {
    "collapsed": false
   },
   "outputs": [
    {
     "data": {
      "text/plain": [
       "200"
      ]
     },
     "execution_count": 25,
     "metadata": {},
     "output_type": "execute_result"
    }
   ],
   "source": [
    "response.status_code"
   ]
  },
  {
   "cell_type": "code",
   "execution_count": 26,
   "metadata": {
    "collapsed": false
   },
   "outputs": [
    {
     "data": {
      "text/html": [
       "<div>\n",
       "<table border=\"1\" class=\"dataframe\">\n",
       "  <thead>\n",
       "    <tr style=\"text-align: right;\">\n",
       "      <th></th>\n",
       "      <th>Color</th>\n",
       "      <th>Consumed In</th>\n",
       "      <th>Country</th>\n",
       "      <th>Grape</th>\n",
       "      <th>Name</th>\n",
       "      <th>Price</th>\n",
       "      <th>Region</th>\n",
       "      <th>Score</th>\n",
       "      <th>Vintage</th>\n",
       "      <th>Vinyard</th>\n",
       "    </tr>\n",
       "  </thead>\n",
       "  <tbody>\n",
       "    <tr>\n",
       "      <th>0</th>\n",
       "      <td>W</td>\n",
       "      <td>2015</td>\n",
       "      <td>Portugal</td>\n",
       "      <td></td>\n",
       "      <td></td>\n",
       "      <td></td>\n",
       "      <td>Portugal</td>\n",
       "      <td>4</td>\n",
       "      <td>2013</td>\n",
       "      <td>Vinho Verde</td>\n",
       "    </tr>\n",
       "    <tr>\n",
       "      <th>1</th>\n",
       "      <td>W</td>\n",
       "      <td>2015</td>\n",
       "      <td>France</td>\n",
       "      <td></td>\n",
       "      <td></td>\n",
       "      <td>17.8</td>\n",
       "      <td>France</td>\n",
       "      <td>3</td>\n",
       "      <td>2013</td>\n",
       "      <td>Peyruchet</td>\n",
       "    </tr>\n",
       "    <tr>\n",
       "      <th>2</th>\n",
       "      <td>W</td>\n",
       "      <td>2015</td>\n",
       "      <td>Oregon</td>\n",
       "      <td></td>\n",
       "      <td></td>\n",
       "      <td>20</td>\n",
       "      <td>Oregon</td>\n",
       "      <td>3</td>\n",
       "      <td>2013</td>\n",
       "      <td>Abacela</td>\n",
       "    </tr>\n",
       "    <tr>\n",
       "      <th>3</th>\n",
       "      <td>W</td>\n",
       "      <td>2015</td>\n",
       "      <td>Spain</td>\n",
       "      <td>chardonay</td>\n",
       "      <td></td>\n",
       "      <td>7</td>\n",
       "      <td>Spain</td>\n",
       "      <td>2.5</td>\n",
       "      <td>2012</td>\n",
       "      <td>Ochoa</td>\n",
       "    </tr>\n",
       "    <tr>\n",
       "      <th>4</th>\n",
       "      <td>R</td>\n",
       "      <td>2015</td>\n",
       "      <td>US</td>\n",
       "      <td>chiraz, cab</td>\n",
       "      <td>Spice Trader</td>\n",
       "      <td>6</td>\n",
       "      <td></td>\n",
       "      <td>3</td>\n",
       "      <td>2012</td>\n",
       "      <td>Heartland</td>\n",
       "    </tr>\n",
       "  </tbody>\n",
       "</table>\n",
       "</div>"
      ],
      "text/plain": [
       "  Color Consumed In   Country        Grape          Name Price    Region  \\\n",
       "0     W        2015  Portugal                                   Portugal   \n",
       "1     W        2015    France                             17.8    France   \n",
       "2     W        2015    Oregon                               20    Oregon   \n",
       "3     W        2015     Spain    chardonay                   7     Spain   \n",
       "4     R        2015        US  chiraz, cab  Spice Trader     6             \n",
       "\n",
       "  Score Vintage      Vinyard  \n",
       "0     4    2013  Vinho Verde  \n",
       "1     3    2013    Peyruchet  \n",
       "2     3    2013      Abacela  \n",
       "3   2.5    2012        Ochoa  \n",
       "4     3    2012    Heartland  "
      ]
     },
     "execution_count": 26,
     "metadata": {},
     "output_type": "execute_result"
    }
   ],
   "source": [
    "wine_df = pd.DataFrame(response1)\n",
    "wine_df.head()"
   ]
  },
  {
   "cell_type": "markdown",
   "metadata": {},
   "source": [
    "> Answers:\n",
    "    1. A JSON string.\n",
    "    2. 200\n",
    "    3. Options inlucde: pd.read_json; json.loads + pd.Dataframe\n",
    "    4. 5"
   ]
  },
  {
   "cell_type": "markdown",
   "metadata": {},
   "source": [
    "### Exercise 2: Post Data to Sheetsu\n",
    "Now that we've learned how to read data, it'd be great if we could also write data. For this we will need to use a _POST_ request.\n",
    "\n",
    "1. Use the post command to add the following data to the spreadsheet:"
   ]
  },
  {
   "cell_type": "code",
   "execution_count": 27,
   "metadata": {
    "collapsed": true
   },
   "outputs": [],
   "source": [
    "post_data = {\n",
    "'Grape' : ''\n",
    ", 'Name' : 'My wonderful wine'\n",
    ", 'Color' : 'R'\n",
    ", 'Country' : 'US'\n",
    ", 'Region' : 'Sonoma'\n",
    ", 'Vinyard' : ''\n",
    ", 'Score' : '10'\n",
    ", 'Consumed In' : '2015'\n",
    ", 'Vintage' : '1973'\n",
    ", 'Price' : '200'\n",
    "}"
   ]
  },
  {
   "cell_type": "code",
   "execution_count": 28,
   "metadata": {
    "collapsed": false
   },
   "outputs": [
    {
     "data": {
      "text/html": [
       "<div>\n",
       "<table border=\"1\" class=\"dataframe\">\n",
       "  <thead>\n",
       "    <tr style=\"text-align: right;\">\n",
       "      <th></th>\n",
       "      <th>Color</th>\n",
       "      <th>Consumed In</th>\n",
       "      <th>Country</th>\n",
       "      <th>Grape</th>\n",
       "      <th>Name</th>\n",
       "      <th>Price</th>\n",
       "      <th>Region</th>\n",
       "      <th>Score</th>\n",
       "      <th>Vintage</th>\n",
       "      <th>Vinyard</th>\n",
       "    </tr>\n",
       "  </thead>\n",
       "  <tbody>\n",
       "    <tr>\n",
       "      <th>37</th>\n",
       "      <td>R</td>\n",
       "      <td>2015</td>\n",
       "      <td>US</td>\n",
       "      <td></td>\n",
       "      <td>My wonderful wine</td>\n",
       "      <td>200</td>\n",
       "      <td>Sonoma</td>\n",
       "      <td>10</td>\n",
       "      <td>1973</td>\n",
       "      <td></td>\n",
       "    </tr>\n",
       "    <tr>\n",
       "      <th>38</th>\n",
       "      <td>R</td>\n",
       "      <td>2015</td>\n",
       "      <td>US</td>\n",
       "      <td></td>\n",
       "      <td>My wonderful wine</td>\n",
       "      <td>200</td>\n",
       "      <td>Sonoma</td>\n",
       "      <td>10</td>\n",
       "      <td>1973</td>\n",
       "      <td></td>\n",
       "    </tr>\n",
       "  </tbody>\n",
       "</table>\n",
       "</div>"
      ],
      "text/plain": [
       "   Color  Consumed In Country Grape               Name Price  Region Score  \\\n",
       "37     R         2015      US        My wonderful wine   200  Sonoma    10   \n",
       "38     R         2015      US        My wonderful wine   200  Sonoma    10   \n",
       "\n",
       "    Vintage Vinyard  \n",
       "37     1973          \n",
       "38     1973          "
      ]
     },
     "execution_count": 28,
     "metadata": {},
     "output_type": "execute_result"
    }
   ],
   "source": [
    "wine_df = pd.read_json(response.text)\n",
    "wine_df.tail(2)"
   ]
  },
  {
   "cell_type": "code",
   "execution_count": 30,
   "metadata": {
    "collapsed": false
   },
   "outputs": [
    {
     "data": {
      "text/plain": [
       "<Response [201]>"
      ]
     },
     "execution_count": 30,
     "metadata": {},
     "output_type": "execute_result"
    }
   ],
   "source": [
    "requests.post(url, data=post_data)"
   ]
  },
  {
   "cell_type": "code",
   "execution_count": null,
   "metadata": {
    "collapsed": true
   },
   "outputs": [],
   "source": []
  },
  {
   "cell_type": "code",
   "execution_count": null,
   "metadata": {
    "collapsed": true
   },
   "outputs": [],
   "source": []
  },
  {
   "cell_type": "markdown",
   "metadata": {},
   "source": [
    "1. What status did you get? How can you check that you actually added the data correctly?\n",
    "- In this exercise, your classmates are adding data to the same spreadsheet. What happens because of this? Is it a problem? How could you mitigate it?"
   ]
  },
  {
   "cell_type": "code",
   "execution_count": null,
   "metadata": {
    "collapsed": false
   },
   "outputs": [],
   "source": []
  },
  {
   "cell_type": "markdown",
   "metadata": {},
   "source": [
    "## Exercise 3: Data munging\n",
    "\n",
    "Get back to the dataframe you've created in the beginning. Let's do some data munging:\n",
    "\n",
    "1. Search for missing data\n",
    "    - Is there any missing data? How do you deal with it?\n",
    "    - Is there any data you can just remove?\n",
    "    - Are the data types appropriate?\n",
    "- Summarize the data \n",
    "    - Try using describe, min, max, mean, var"
   ]
  },
  {
   "cell_type": "code",
   "execution_count": 32,
   "metadata": {
    "collapsed": false
   },
   "outputs": [
    {
     "data": {
      "text/html": [
       "<div>\n",
       "<table border=\"1\" class=\"dataframe\">\n",
       "  <thead>\n",
       "    <tr style=\"text-align: right;\">\n",
       "      <th></th>\n",
       "      <th>Color</th>\n",
       "      <th>Consumed In</th>\n",
       "      <th>Country</th>\n",
       "      <th>Grape</th>\n",
       "      <th>Name</th>\n",
       "      <th>Price</th>\n",
       "      <th>Region</th>\n",
       "      <th>Score</th>\n",
       "      <th>Vintage</th>\n",
       "      <th>Vinyard</th>\n",
       "    </tr>\n",
       "  </thead>\n",
       "  <tbody>\n",
       "    <tr>\n",
       "      <th>0</th>\n",
       "      <td>W</td>\n",
       "      <td>2015</td>\n",
       "      <td>Portugal</td>\n",
       "      <td></td>\n",
       "      <td></td>\n",
       "      <td></td>\n",
       "      <td>Portugal</td>\n",
       "      <td>4</td>\n",
       "      <td>2013</td>\n",
       "      <td>Vinho Verde</td>\n",
       "    </tr>\n",
       "    <tr>\n",
       "      <th>1</th>\n",
       "      <td>W</td>\n",
       "      <td>2015</td>\n",
       "      <td>France</td>\n",
       "      <td></td>\n",
       "      <td></td>\n",
       "      <td>17.8</td>\n",
       "      <td>France</td>\n",
       "      <td>3</td>\n",
       "      <td>2013</td>\n",
       "      <td>Peyruchet</td>\n",
       "    </tr>\n",
       "    <tr>\n",
       "      <th>2</th>\n",
       "      <td>W</td>\n",
       "      <td>2015</td>\n",
       "      <td>Oregon</td>\n",
       "      <td></td>\n",
       "      <td></td>\n",
       "      <td>20</td>\n",
       "      <td>Oregon</td>\n",
       "      <td>3</td>\n",
       "      <td>2013</td>\n",
       "      <td>Abacela</td>\n",
       "    </tr>\n",
       "    <tr>\n",
       "      <th>3</th>\n",
       "      <td>W</td>\n",
       "      <td>2015</td>\n",
       "      <td>Spain</td>\n",
       "      <td>chardonay</td>\n",
       "      <td></td>\n",
       "      <td>7</td>\n",
       "      <td>Spain</td>\n",
       "      <td>2.5</td>\n",
       "      <td>2012</td>\n",
       "      <td>Ochoa</td>\n",
       "    </tr>\n",
       "    <tr>\n",
       "      <th>4</th>\n",
       "      <td>R</td>\n",
       "      <td>2015</td>\n",
       "      <td>US</td>\n",
       "      <td>chiraz, cab</td>\n",
       "      <td>Spice Trader</td>\n",
       "      <td>6</td>\n",
       "      <td></td>\n",
       "      <td>3</td>\n",
       "      <td>2012</td>\n",
       "      <td>Heartland</td>\n",
       "    </tr>\n",
       "  </tbody>\n",
       "</table>\n",
       "</div>"
      ],
      "text/plain": [
       "  Color  Consumed In   Country        Grape          Name Price    Region  \\\n",
       "0     W         2015  Portugal                                   Portugal   \n",
       "1     W         2015    France                             17.8    France   \n",
       "2     W         2015    Oregon                               20    Oregon   \n",
       "3     W         2015     Spain    chardonay                   7     Spain   \n",
       "4     R         2015        US  chiraz, cab  Spice Trader     6             \n",
       "\n",
       "  Score  Vintage      Vinyard  \n",
       "0     4     2013  Vinho Verde  \n",
       "1     3     2013    Peyruchet  \n",
       "2     3     2013      Abacela  \n",
       "3   2.5     2012        Ochoa  \n",
       "4     3     2012    Heartland  "
      ]
     },
     "execution_count": 32,
     "metadata": {},
     "output_type": "execute_result"
    }
   ],
   "source": [
    "wine_df.head()"
   ]
  },
  {
   "cell_type": "code",
   "execution_count": 51,
   "metadata": {
    "collapsed": false
   },
   "outputs": [
    {
     "data": {
      "text/plain": [
       "Color          object\n",
       "Consumed In     int64\n",
       "Country        object\n",
       "Grape          object\n",
       "Name           object\n",
       "Price          object\n",
       "Region         object\n",
       "Score          object\n",
       "Vintage         int64\n",
       "Vinyard        object\n",
       "dtype: object"
      ]
     },
     "execution_count": 51,
     "metadata": {},
     "output_type": "execute_result"
    }
   ],
   "source": [
    "wine_df.dtypes"
   ]
  },
  {
   "cell_type": "code",
   "execution_count": 63,
   "metadata": {
    "collapsed": true
   },
   "outputs": [],
   "source": [
    "wine_df = wine_df[wine_df['Price'] != '']"
   ]
  },
  {
   "cell_type": "code",
   "execution_count": 64,
   "metadata": {
    "collapsed": false
   },
   "outputs": [],
   "source": [
    "wine_df['Price'] = wine_df['Price'].apply(lambda x: float(x))"
   ]
  },
  {
   "cell_type": "code",
   "execution_count": 66,
   "metadata": {
    "collapsed": false
   },
   "outputs": [
    {
     "data": {
      "text/plain": [
       "15.0"
      ]
     },
     "execution_count": 66,
     "metadata": {},
     "output_type": "execute_result"
    }
   ],
   "source": [
    "median = float(wine_df['Price'].describe().loc['50%'])\n",
    "median"
   ]
  },
  {
   "cell_type": "code",
   "execution_count": 68,
   "metadata": {
    "collapsed": false
   },
   "outputs": [
    {
     "data": {
      "image/png": "[encoded data removed]",
      "text/plain": [
       "<matplotlib.figure.Figure at 0x119cf7c50>"
      ]
     },
     "metadata": {},
     "output_type": "display_data"
    }
   ],
   "source": [
    "plt.figure(figsize=(12,8))\n",
    "plt.style.use('fivethirtyeight')\n",
    "\n",
    "df_hist = plt.hist(wine_df['Price'], color = 'darkred', bins = 20)\n",
    "plt.axvline(wine_df['Price'].median(), color='b', linestyle='dashed', linewidth=1.5, label = 'median')\n",
    "plt.axvline(wine_df['Price'].mean(), color='g', linestyle='dashed', linewidth=1.5, label = 'mean')\n",
    "\n",
    "plt.title('Histogram of Wine Price', fontsize = 20)\n",
    "\n",
    "# y label\n",
    "plt.ylabel('Number of Bottles')\n",
    "\n",
    "# x label\n",
    "plt.xlabel('Price (USD)')\n",
    "\n",
    "plt.xlim([0, max(wine_df['Price'])])\n",
    "#plt.ylim([-10, 85])\n",
    "\n",
    "plt.legend(loc='upper right', fontsize = 15)\n",
    "\n",
    "plt.show()"
   ]
  },
  {
   "cell_type": "code",
   "execution_count": 69,
   "metadata": {
    "collapsed": true
   },
   "outputs": [],
   "source": [
    "def price_dummify(x):\n",
    "    price_dummy = []\n",
    "    for i in wine_df['Price']:\n",
    "        if i > median:\n",
    "            price_dummy.append(1)\n",
    "        elif i <= median:\n",
    "            price_dummy.append(0)\n",
    "        # This shouldn't happen, but just in case...\n",
    "        else:\n",
    "            price_dummy.append('NaN')\n",
    "    x['price_dummy'] = price_dummy\n",
    "    return x"
   ]
  },
  {
   "cell_type": "code",
   "execution_count": 70,
   "metadata": {
    "collapsed": false
   },
   "outputs": [
    {
     "data": {
      "text/html": [
       "<div>\n",
       "<table border=\"1\" class=\"dataframe\">\n",
       "  <thead>\n",
       "    <tr style=\"text-align: right;\">\n",
       "      <th></th>\n",
       "      <th>Color</th>\n",
       "      <th>Consumed In</th>\n",
       "      <th>Country</th>\n",
       "      <th>Grape</th>\n",
       "      <th>Name</th>\n",
       "      <th>Price</th>\n",
       "      <th>Region</th>\n",
       "      <th>Score</th>\n",
       "      <th>Vintage</th>\n",
       "      <th>Vinyard</th>\n",
       "      <th>price_dummy</th>\n",
       "    </tr>\n",
       "  </thead>\n",
       "  <tbody>\n",
       "    <tr>\n",
       "      <th>1</th>\n",
       "      <td>W</td>\n",
       "      <td>2015</td>\n",
       "      <td>France</td>\n",
       "      <td></td>\n",
       "      <td></td>\n",
       "      <td>17.8</td>\n",
       "      <td>France</td>\n",
       "      <td>3</td>\n",
       "      <td>2013</td>\n",
       "      <td>Peyruchet</td>\n",
       "      <td>1</td>\n",
       "    </tr>\n",
       "    <tr>\n",
       "      <th>2</th>\n",
       "      <td>W</td>\n",
       "      <td>2015</td>\n",
       "      <td>US</td>\n",
       "      <td></td>\n",
       "      <td></td>\n",
       "      <td>20.0</td>\n",
       "      <td>Oregon</td>\n",
       "      <td>3</td>\n",
       "      <td>2013</td>\n",
       "      <td>Abacela</td>\n",
       "      <td>1</td>\n",
       "    </tr>\n",
       "    <tr>\n",
       "      <th>3</th>\n",
       "      <td>W</td>\n",
       "      <td>2015</td>\n",
       "      <td>Spain</td>\n",
       "      <td>chardonay</td>\n",
       "      <td></td>\n",
       "      <td>7.0</td>\n",
       "      <td>Spain</td>\n",
       "      <td>2.5</td>\n",
       "      <td>2012</td>\n",
       "      <td>Ochoa</td>\n",
       "      <td>0</td>\n",
       "    </tr>\n",
       "    <tr>\n",
       "      <th>4</th>\n",
       "      <td>R</td>\n",
       "      <td>2015</td>\n",
       "      <td>US</td>\n",
       "      <td>chiraz, cab</td>\n",
       "      <td>Spice Trader</td>\n",
       "      <td>6.0</td>\n",
       "      <td></td>\n",
       "      <td>3</td>\n",
       "      <td>2012</td>\n",
       "      <td>Heartland</td>\n",
       "      <td>0</td>\n",
       "    </tr>\n",
       "    <tr>\n",
       "      <th>5</th>\n",
       "      <td>R</td>\n",
       "      <td>2015</td>\n",
       "      <td>US</td>\n",
       "      <td>cab</td>\n",
       "      <td></td>\n",
       "      <td>13.0</td>\n",
       "      <td>California</td>\n",
       "      <td>3.5</td>\n",
       "      <td>2012</td>\n",
       "      <td>Crow Canyon</td>\n",
       "      <td>0</td>\n",
       "    </tr>\n",
       "  </tbody>\n",
       "</table>\n",
       "</div>"
      ],
      "text/plain": [
       "  Color  Consumed In Country        Grape          Name  Price      Region  \\\n",
       "1     W         2015  France                              17.8      France   \n",
       "2     W         2015      US                              20.0      Oregon   \n",
       "3     W         2015   Spain    chardonay                  7.0       Spain   \n",
       "4     R         2015      US  chiraz, cab  Spice Trader    6.0               \n",
       "5     R         2015      US          cab                 13.0  California   \n",
       "\n",
       "  Score  Vintage      Vinyard  price_dummy  \n",
       "1     3     2013    Peyruchet            1  \n",
       "2     3     2013      Abacela            1  \n",
       "3   2.5     2012        Ochoa            0  \n",
       "4     3     2012    Heartland            0  \n",
       "5   3.5     2012  Crow Canyon            0  "
      ]
     },
     "execution_count": 70,
     "metadata": {},
     "output_type": "execute_result"
    }
   ],
   "source": [
    "price_dummify(wine_df)\n",
    "wine_df.head()"
   ]
  },
  {
   "cell_type": "code",
   "execution_count": 33,
   "metadata": {
    "collapsed": false
   },
   "outputs": [
    {
     "data": {
      "text/plain": [
       "R    25\n",
       "W    13\n",
       "P     1\n",
       "Name: Color, dtype: int64"
      ]
     },
     "execution_count": 33,
     "metadata": {},
     "output_type": "execute_result"
    }
   ],
   "source": [
    "wine_df['Color'].value_counts()"
   ]
  },
  {
   "cell_type": "code",
   "execution_count": 71,
   "metadata": {
    "collapsed": true
   },
   "outputs": [],
   "source": [
    "wine_df = wine_df[wine_df['Color'] != 'P']"
   ]
  },
  {
   "cell_type": "code",
   "execution_count": 72,
   "metadata": {
    "collapsed": false
   },
   "outputs": [
    {
     "data": {
      "text/plain": [
       "R    23\n",
       "W     9\n",
       "Name: Color, dtype: int64"
      ]
     },
     "execution_count": 72,
     "metadata": {},
     "output_type": "execute_result"
    }
   ],
   "source": [
    "wine_df['Color'].value_counts()"
   ]
  },
  {
   "cell_type": "code",
   "execution_count": 36,
   "metadata": {
    "collapsed": false
   },
   "outputs": [
    {
     "data": {
      "text/plain": [
       "2015    29\n",
       "2014     6\n",
       "2013     4\n",
       "Name: Consumed In, dtype: int64"
      ]
     },
     "execution_count": 36,
     "metadata": {},
     "output_type": "execute_result"
    }
   ],
   "source": [
    "wine_df['Consumed In'].value_counts()"
   ]
  },
  {
   "cell_type": "code",
   "execution_count": 37,
   "metadata": {
    "collapsed": false
   },
   "outputs": [
    {
     "data": {
      "text/plain": [
       "US          20\n",
       "France       9\n",
       "Italy        3\n",
       "Portugal     2\n",
       "Spain        2\n",
       "             2\n",
       "Oregon       1\n",
       "Name: Country, dtype: int64"
      ]
     },
     "execution_count": 37,
     "metadata": {},
     "output_type": "execute_result"
    }
   ],
   "source": [
    "wine_df['Country'].value_counts()"
   ]
  },
  {
   "cell_type": "code",
   "execution_count": 38,
   "metadata": {
    "collapsed": false
   },
   "outputs": [
    {
     "data": {
      "text/html": [
       "<div>\n",
       "<table border=\"1\" class=\"dataframe\">\n",
       "  <thead>\n",
       "    <tr style=\"text-align: right;\">\n",
       "      <th></th>\n",
       "      <th>Color</th>\n",
       "      <th>Consumed In</th>\n",
       "      <th>Country</th>\n",
       "      <th>Grape</th>\n",
       "      <th>Name</th>\n",
       "      <th>Price</th>\n",
       "      <th>Region</th>\n",
       "      <th>Score</th>\n",
       "      <th>Vintage</th>\n",
       "      <th>Vinyard</th>\n",
       "    </tr>\n",
       "  </thead>\n",
       "  <tbody>\n",
       "    <tr>\n",
       "      <th>11</th>\n",
       "      <td>R</td>\n",
       "      <td>2015</td>\n",
       "      <td></td>\n",
       "      <td></td>\n",
       "      <td>Montepulciano D'Abruzzo</td>\n",
       "      <td>22</td>\n",
       "      <td>Tuscany</td>\n",
       "      <td>4.5</td>\n",
       "      <td>2013</td>\n",
       "      <td>Orizzonti</td>\n",
       "    </tr>\n",
       "    <tr>\n",
       "      <th>25</th>\n",
       "      <td>W</td>\n",
       "      <td>2015</td>\n",
       "      <td></td>\n",
       "      <td>sauvignon blanc</td>\n",
       "      <td>Sauvignon Blanc</td>\n",
       "      <td></td>\n",
       "      <td>Napa</td>\n",
       "      <td>3.5</td>\n",
       "      <td>2012</td>\n",
       "      <td>Two Angels</td>\n",
       "    </tr>\n",
       "  </tbody>\n",
       "</table>\n",
       "</div>"
      ],
      "text/plain": [
       "   Color  Consumed In Country            Grape                     Name Price  \\\n",
       "11     R         2015                           Montepulciano D'Abruzzo    22   \n",
       "25     W         2015          sauvignon blanc          Sauvignon Blanc         \n",
       "\n",
       "     Region Score  Vintage     Vinyard  \n",
       "11  Tuscany   4.5     2013   Orizzonti  \n",
       "25     Napa   3.5     2012  Two Angels  "
      ]
     },
     "execution_count": 38,
     "metadata": {},
     "output_type": "execute_result"
    }
   ],
   "source": [
    "wine_df[wine_df['Country'] == '']"
   ]
  },
  {
   "cell_type": "code",
   "execution_count": 43,
   "metadata": {
    "collapsed": false
   },
   "outputs": [
    {
     "name": "stderr",
     "output_type": "stream",
     "text": [
      "/Users/Rebecca/anaconda/lib/python2.7/site-packages/ipykernel/__main__.py:1: SettingWithCopyWarning: \n",
      "A value is trying to be set on a copy of a slice from a DataFrame\n",
      "\n",
      "See the caveats in the documentation: http://pandas.pydata.org/pandas-docs/stable/indexing.html#indexing-view-versus-copy\n",
      "  if __name__ == '__main__':\n",
      "/Users/Rebecca/anaconda/lib/python2.7/site-packages/ipykernel/__main__.py:2: SettingWithCopyWarning: \n",
      "A value is trying to be set on a copy of a slice from a DataFrame\n",
      "\n",
      "See the caveats in the documentation: http://pandas.pydata.org/pandas-docs/stable/indexing.html#indexing-view-versus-copy\n",
      "  from ipykernel import kernelapp as app\n",
      "/Users/Rebecca/anaconda/lib/python2.7/site-packages/ipykernel/__main__.py:3: SettingWithCopyWarning: \n",
      "A value is trying to be set on a copy of a slice from a DataFrame\n",
      "\n",
      "See the caveats in the documentation: http://pandas.pydata.org/pandas-docs/stable/indexing.html#indexing-view-versus-copy\n",
      "  app.launch_new_instance()\n"
     ]
    }
   ],
   "source": [
    "wine_df['Country'][11] = 'Italy'\n",
    "wine_df['Country'][25] = 'US'\n",
    "wine_df['Country'][2] = 'US'"
   ]
  },
  {
   "cell_type": "code",
   "execution_count": 44,
   "metadata": {
    "collapsed": false
   },
   "outputs": [
    {
     "data": {
      "text/plain": [
       "US          22\n",
       "France       9\n",
       "Italy        4\n",
       "Spain        2\n",
       "Portugal     2\n",
       "Name: Country, dtype: int64"
      ]
     },
     "execution_count": 44,
     "metadata": {},
     "output_type": "execute_result"
    }
   ],
   "source": [
    "wine_df['Country'].value_counts()"
   ]
  },
  {
   "cell_type": "code",
   "execution_count": 73,
   "metadata": {
    "collapsed": true
   },
   "outputs": [],
   "source": [
    "# make a dummy for europe vs US?"
   ]
  },
  {
   "cell_type": "code",
   "execution_count": 47,
   "metadata": {
    "collapsed": false
   },
   "outputs": [
    {
     "data": {
      "text/plain": [
       "                                                                                   21\n",
       "sauvignon blanc                                                                     4\n",
       "merlot, cab                                                                         2\n",
       "sangiovese                                                                          2\n",
       "pinot noir                                                                          1\n",
       "merlot                                                                              1\n",
       "cab                                                                                 1\n",
       "Chablis, Vincent Dampt, Vaillons 1er (Burgundy, France) 2012 W/ Limestone taste     1\n",
       "chiraz                                                                              1\n",
       "pinot griogio                                                                       1\n",
       "chardonay                                                                           1\n",
       "Albarino, Granbazan (Rias Baixas) 2012                                              1\n",
       "chiraz, cab                                                                         1\n",
       "cabernet sauvignon                                                                  1\n",
       "Name: Grape, dtype: int64"
      ]
     },
     "execution_count": 47,
     "metadata": {},
     "output_type": "execute_result"
    }
   ],
   "source": [
    "wine_df['Grape'].value_counts()"
   ]
  },
  {
   "cell_type": "code",
   "execution_count": 74,
   "metadata": {
    "collapsed": true
   },
   "outputs": [],
   "source": [
    "del wine_df['Grape']"
   ]
  },
  {
   "cell_type": "code",
   "execution_count": 76,
   "metadata": {
    "collapsed": false
   },
   "outputs": [],
   "source": [
    "del wine_df['Price']"
   ]
  },
  {
   "cell_type": "code",
   "execution_count": 48,
   "metadata": {
    "collapsed": false
   },
   "outputs": [
    {
     "data": {
      "text/plain": [
       "My wonderful wine                   10\n",
       "                                     9\n",
       "Saint Drezery Prestige               2\n",
       "Sauvignon Blanc                      2\n",
       "Meiomi                               1\n",
       "Cru Classe                           1\n",
       "Vincent Dampt                        1\n",
       "Rosso Dei Poggi                      1\n",
       "Spice Trader                         1\n",
       "Domaine du Claouset                  1\n",
       "Nero d'Avola                         1\n",
       "#14                                  1\n",
       "Sancerre Cuvee Des Moulins Bales     1\n",
       "Pinot Grigio                         1\n",
       "Rosso Di Montalcino                  1\n",
       "Vinho Verde                          1\n",
       "Cape Blush                           1\n",
       "Uppercut North Coast                 1\n",
       "Albarino                             1\n",
       "Montepulciano D'Abruzzo              1\n",
       "Name: Name, dtype: int64"
      ]
     },
     "execution_count": 48,
     "metadata": {},
     "output_type": "execute_result"
    }
   ],
   "source": [
    "wine_df['Name'].value_counts()"
   ]
  },
  {
   "cell_type": "code",
   "execution_count": 49,
   "metadata": {
    "collapsed": false
   },
   "outputs": [
    {
     "data": {
      "text/html": [
       "<div>\n",
       "<table border=\"1\" class=\"dataframe\">\n",
       "  <thead>\n",
       "    <tr style=\"text-align: right;\">\n",
       "      <th></th>\n",
       "      <th>Color</th>\n",
       "      <th>Consumed In</th>\n",
       "      <th>Country</th>\n",
       "      <th>Grape</th>\n",
       "      <th>Name</th>\n",
       "      <th>Price</th>\n",
       "      <th>Region</th>\n",
       "      <th>Score</th>\n",
       "      <th>Vintage</th>\n",
       "      <th>Vinyard</th>\n",
       "    </tr>\n",
       "  </thead>\n",
       "  <tbody>\n",
       "    <tr>\n",
       "      <th>0</th>\n",
       "      <td>W</td>\n",
       "      <td>2015</td>\n",
       "      <td>Portugal</td>\n",
       "      <td></td>\n",
       "      <td></td>\n",
       "      <td></td>\n",
       "      <td>Portugal</td>\n",
       "      <td>4</td>\n",
       "      <td>2013</td>\n",
       "      <td>Vinho Verde</td>\n",
       "    </tr>\n",
       "    <tr>\n",
       "      <th>1</th>\n",
       "      <td>W</td>\n",
       "      <td>2015</td>\n",
       "      <td>France</td>\n",
       "      <td></td>\n",
       "      <td></td>\n",
       "      <td>17.8</td>\n",
       "      <td>France</td>\n",
       "      <td>3</td>\n",
       "      <td>2013</td>\n",
       "      <td>Peyruchet</td>\n",
       "    </tr>\n",
       "    <tr>\n",
       "      <th>2</th>\n",
       "      <td>W</td>\n",
       "      <td>2015</td>\n",
       "      <td>US</td>\n",
       "      <td></td>\n",
       "      <td></td>\n",
       "      <td>20</td>\n",
       "      <td>Oregon</td>\n",
       "      <td>3</td>\n",
       "      <td>2013</td>\n",
       "      <td>Abacela</td>\n",
       "    </tr>\n",
       "    <tr>\n",
       "      <th>3</th>\n",
       "      <td>W</td>\n",
       "      <td>2015</td>\n",
       "      <td>Spain</td>\n",
       "      <td>chardonay</td>\n",
       "      <td></td>\n",
       "      <td>7</td>\n",
       "      <td>Spain</td>\n",
       "      <td>2.5</td>\n",
       "      <td>2012</td>\n",
       "      <td>Ochoa</td>\n",
       "    </tr>\n",
       "    <tr>\n",
       "      <th>5</th>\n",
       "      <td>R</td>\n",
       "      <td>2015</td>\n",
       "      <td>US</td>\n",
       "      <td>cab</td>\n",
       "      <td></td>\n",
       "      <td>13</td>\n",
       "      <td>California</td>\n",
       "      <td>3.5</td>\n",
       "      <td>2012</td>\n",
       "      <td>Crow Canyon</td>\n",
       "    </tr>\n",
       "    <tr>\n",
       "      <th>7</th>\n",
       "      <td>R</td>\n",
       "      <td>2015</td>\n",
       "      <td>France</td>\n",
       "      <td>merlot, cab</td>\n",
       "      <td></td>\n",
       "      <td>12</td>\n",
       "      <td>Bordeaux</td>\n",
       "      <td>3.5</td>\n",
       "      <td>2012</td>\n",
       "      <td>David Beaulieu</td>\n",
       "    </tr>\n",
       "    <tr>\n",
       "      <th>8</th>\n",
       "      <td>R</td>\n",
       "      <td>2015</td>\n",
       "      <td>France</td>\n",
       "      <td>merlot, cab</td>\n",
       "      <td></td>\n",
       "      <td>11.99</td>\n",
       "      <td>Medoc</td>\n",
       "      <td>3.5</td>\n",
       "      <td>2011</td>\n",
       "      <td>Chantemerle</td>\n",
       "    </tr>\n",
       "    <tr>\n",
       "      <th>9</th>\n",
       "      <td>R</td>\n",
       "      <td>2015</td>\n",
       "      <td>US</td>\n",
       "      <td>merlot</td>\n",
       "      <td></td>\n",
       "      <td>13</td>\n",
       "      <td>Washington</td>\n",
       "      <td>4</td>\n",
       "      <td>2011</td>\n",
       "      <td>Hyatt</td>\n",
       "    </tr>\n",
       "    <tr>\n",
       "      <th>12</th>\n",
       "      <td>R</td>\n",
       "      <td>2015</td>\n",
       "      <td>US</td>\n",
       "      <td>chiraz</td>\n",
       "      <td></td>\n",
       "      <td>7</td>\n",
       "      <td>Oregon</td>\n",
       "      <td>3.5</td>\n",
       "      <td>2010</td>\n",
       "      <td>Abacelo</td>\n",
       "    </tr>\n",
       "  </tbody>\n",
       "</table>\n",
       "</div>"
      ],
      "text/plain": [
       "   Color  Consumed In   Country        Grape Name  Price      Region Score  \\\n",
       "0      W         2015  Portugal                             Portugal     4   \n",
       "1      W         2015    France                     17.8      France     3   \n",
       "2      W         2015        US                       20      Oregon     3   \n",
       "3      W         2015     Spain    chardonay           7       Spain   2.5   \n",
       "5      R         2015        US          cab          13  California   3.5   \n",
       "7      R         2015    France  merlot, cab          12    Bordeaux   3.5   \n",
       "8      R         2015    France  merlot, cab       11.99       Medoc   3.5   \n",
       "9      R         2015        US       merlot          13  Washington     4   \n",
       "12     R         2015        US       chiraz           7      Oregon   3.5   \n",
       "\n",
       "    Vintage         Vinyard  \n",
       "0      2013     Vinho Verde  \n",
       "1      2013       Peyruchet  \n",
       "2      2013         Abacela  \n",
       "3      2012           Ochoa  \n",
       "5      2012     Crow Canyon  \n",
       "7      2012  David Beaulieu  \n",
       "8      2011     Chantemerle  \n",
       "9      2011           Hyatt  \n",
       "12     2010         Abacelo  "
      ]
     },
     "execution_count": 49,
     "metadata": {},
     "output_type": "execute_result"
    }
   ],
   "source": [
    "wine_df[wine_df['Name'] == '']"
   ]
  },
  {
   "cell_type": "code",
   "execution_count": 77,
   "metadata": {
    "collapsed": false
   },
   "outputs": [
    {
     "data": {
      "text/plain": [
       "                     10\n",
       "Abacela               2\n",
       "Puech-Haut            2\n",
       "Belle Glos            1\n",
       "Crow Canyon           1\n",
       "Rosso Dei Poggi       1\n",
       "Granbazan             1\n",
       "Hyatt                 1\n",
       "Heartland             1\n",
       "Provenance            1\n",
       "Peyruchet             1\n",
       "Orizzonti             1\n",
       "Abacelo               1\n",
       "Ochoa                 1\n",
       "Truro Vineyards       1\n",
       "Vaillons              1\n",
       "Honig                 1\n",
       "Celestin Blobdeau     1\n",
       "Ridolfi               1\n",
       "Chantemerle           1\n",
       "David Beaulieu        1\n",
       "Name: Vinyard, dtype: int64"
      ]
     },
     "execution_count": 77,
     "metadata": {},
     "output_type": "execute_result"
    }
   ],
   "source": [
    "wine_df['Vinyard'].value_counts()"
   ]
  },
  {
   "cell_type": "code",
   "execution_count": 78,
   "metadata": {
    "collapsed": true
   },
   "outputs": [],
   "source": [
    "del wine_df['Vinyard']"
   ]
  },
  {
   "cell_type": "code",
   "execution_count": 81,
   "metadata": {
    "collapsed": false
   },
   "outputs": [
    {
     "data": {
      "text/plain": [
       "32"
      ]
     },
     "execution_count": 81,
     "metadata": {},
     "output_type": "execute_result"
    }
   ],
   "source": [
    "len(wine_df)"
   ]
  },
  {
   "cell_type": "code",
   "execution_count": 84,
   "metadata": {
    "collapsed": false
   },
   "outputs": [],
   "source": [
    "wine_df = wine_df[wine_df['Score'] != '']"
   ]
  },
  {
   "cell_type": "code",
   "execution_count": 85,
   "metadata": {
    "collapsed": false
   },
   "outputs": [
    {
     "data": {
      "text/plain": [
       "10     10\n",
       "3       9\n",
       "3.5     5\n",
       "4       4\n",
       "2.5     2\n",
       "2       1\n",
       "4.5     1\n",
       "Name: Score, dtype: int64"
      ]
     },
     "execution_count": 85,
     "metadata": {},
     "output_type": "execute_result"
    }
   ],
   "source": [
    "wine_df['Score'].value_counts()"
   ]
  },
  {
   "cell_type": "code",
   "execution_count": 88,
   "metadata": {
    "collapsed": false
   },
   "outputs": [
    {
     "data": {
      "text/plain": [
       "Sonoma         10\n",
       "France          3\n",
       "Oregon          3\n",
       "Tuscany         3\n",
       "Nappa           2\n",
       "Burgundy        1\n",
       "Spain           1\n",
       "Medoc           1\n",
       "Bordeaux        1\n",
       "Napa            1\n",
       "California      1\n",
       "Washington      1\n",
       "Loire           1\n",
       "Truro           1\n",
       "Rias Baixas     1\n",
       "                1\n",
       "Name: Region, dtype: int64"
      ]
     },
     "execution_count": 88,
     "metadata": {},
     "output_type": "execute_result"
    }
   ],
   "source": [
    "wine_df['Region'].value_counts()"
   ]
  },
  {
   "cell_type": "code",
   "execution_count": 91,
   "metadata": {
    "collapsed": true
   },
   "outputs": [],
   "source": [
    "del wine_df['Region']\n",
    "del wine_df['Name']"
   ]
  },
  {
   "cell_type": "code",
   "execution_count": 105,
   "metadata": {
    "collapsed": false
   },
   "outputs": [
    {
     "data": {
      "text/plain": [
       "Color          object\n",
       "Consumed In     int64\n",
       "Country        object\n",
       "Score          object\n",
       "Vintage         int64\n",
       "price_dummy     int64\n",
       "dtype: object"
      ]
     },
     "execution_count": 105,
     "metadata": {},
     "output_type": "execute_result"
    }
   ],
   "source": [
    "wine_df.dtypes"
   ]
  },
  {
   "cell_type": "code",
   "execution_count": null,
   "metadata": {
    "collapsed": true
   },
   "outputs": [],
   "source": []
  },
  {
   "cell_type": "code",
   "execution_count": 94,
   "metadata": {
    "collapsed": false
   },
   "outputs": [
    {
     "data": {
      "text/html": [
       "<div>\n",
       "<table border=\"1\" class=\"dataframe\">\n",
       "  <thead>\n",
       "    <tr style=\"text-align: right;\">\n",
       "      <th></th>\n",
       "      <th>Color</th>\n",
       "      <th>Consumed In</th>\n",
       "      <th>Country</th>\n",
       "      <th>Score</th>\n",
       "      <th>Vintage</th>\n",
       "      <th>price_dummy</th>\n",
       "    </tr>\n",
       "  </thead>\n",
       "  <tbody>\n",
       "    <tr>\n",
       "      <th>1</th>\n",
       "      <td>W</td>\n",
       "      <td>2015</td>\n",
       "      <td>France</td>\n",
       "      <td>3</td>\n",
       "      <td>2013</td>\n",
       "      <td>1</td>\n",
       "    </tr>\n",
       "    <tr>\n",
       "      <th>2</th>\n",
       "      <td>W</td>\n",
       "      <td>2015</td>\n",
       "      <td>US</td>\n",
       "      <td>3</td>\n",
       "      <td>2013</td>\n",
       "      <td>1</td>\n",
       "    </tr>\n",
       "    <tr>\n",
       "      <th>3</th>\n",
       "      <td>W</td>\n",
       "      <td>2015</td>\n",
       "      <td>Spain</td>\n",
       "      <td>2.5</td>\n",
       "      <td>2012</td>\n",
       "      <td>0</td>\n",
       "    </tr>\n",
       "    <tr>\n",
       "      <th>4</th>\n",
       "      <td>R</td>\n",
       "      <td>2015</td>\n",
       "      <td>US</td>\n",
       "      <td>3</td>\n",
       "      <td>2012</td>\n",
       "      <td>0</td>\n",
       "    </tr>\n",
       "    <tr>\n",
       "      <th>5</th>\n",
       "      <td>R</td>\n",
       "      <td>2015</td>\n",
       "      <td>US</td>\n",
       "      <td>3.5</td>\n",
       "      <td>2012</td>\n",
       "      <td>0</td>\n",
       "    </tr>\n",
       "  </tbody>\n",
       "</table>\n",
       "</div>"
      ],
      "text/plain": [
       "  Color  Consumed In Country Score  Vintage  price_dummy\n",
       "1     W         2015  France     3     2013            1\n",
       "2     W         2015      US     3     2013            1\n",
       "3     W         2015   Spain   2.5     2012            0\n",
       "4     R         2015      US     3     2012            0\n",
       "5     R         2015      US   3.5     2012            0"
      ]
     },
     "execution_count": 94,
     "metadata": {},
     "output_type": "execute_result"
    }
   ],
   "source": [
    "wine_df.head()"
   ]
  },
  {
   "cell_type": "markdown",
   "metadata": {},
   "source": [
    "## Exercise 4: Feature Extraction\n",
    "\n",
    "We would like to use a regression tree to predict the score of a wine. In order to do that, we first need to select and engineer appropriate features.\n",
    "\n",
    "- Set the target to be the Score column, drop the rows with no score\n",
    "- Use pd.get_dummies to create dummy features for all the text columns\n",
    "- Fill the nan values in the numerical columns, using an appropriate method\n",
    "- Train a Decision tree regressor on the Score, using a train test split:\n",
    "        X_train, X_test, y_train, y_test, = train_test_split(X, y, test_size=0.3, random_state=42)\n",
    "- Plot the test values, the predicted values and the residuals\n",
    "- Calculate R^2 score\n",
    "- Discuss your findings\n"
   ]
  },
  {
   "cell_type": "code",
   "execution_count": 98,
   "metadata": {
    "collapsed": true
   },
   "outputs": [],
   "source": [
    "from matplotlib import pyplot as plt\n",
    "import numpy as np\n",
    "import statsmodels.api as st\n",
    "import re\n",
    "import sklearn\n",
    "from sklearn import linear_model as lm\n",
    "from sklearn import cross_validation, preprocessing\n",
    "import matplotlib.cm as cm\n",
    "from sklearn.metrics import confusion_matrix\n",
    "from sklearn.metrics import roc_curve\n",
    "from sklearn.metrics import roc_auc_score\n",
    "from sklearn.cross_validation import train_test_split\n",
    "from sklearn.metrics import accuracy_score\n",
    "from sklearn.metrics import precision_score\n",
    "from sklearn.metrics import recall_score\n",
    "from sklearn.cross_validation import train_test_split\n",
    "from sklearn.cross_validation import cross_val_predict\n",
    "from sklearn.cross_validation import cross_val_score\n",
    "import matplotlib.patheffects as path_effects\n",
    "from sklearn.metrics import mean_squared_error\n",
    "\n",
    "% matplotlib inline"
   ]
  },
  {
   "cell_type": "code",
   "execution_count": 101,
   "metadata": {
    "collapsed": false
   },
   "outputs": [],
   "source": [
    "X = wine_df[['Color', 'Consumed In', 'Country', 'Vintage', 'price_dummy']]\n",
    "X['intercept'] = 1\n",
    "y = pd.DataFrame(wine_df['Score'])"
   ]
  },
  {
   "cell_type": "code",
   "execution_count": null,
   "metadata": {
    "collapsed": false
   },
   "outputs": [],
   "source": []
  },
  {
   "cell_type": "code",
   "execution_count": 102,
   "metadata": {
    "collapsed": false
   },
   "outputs": [
    {
     "name": "stderr",
     "output_type": "stream",
     "text": [
      "/Users/Rebecca/anaconda/lib/python2.7/site-packages/statsmodels/discrete/discrete_model.py:130: FutureWarning: icol(i) is deprecated. Please use .iloc[:,i]\n",
      "  endog_dummies = get_dummies(endog.icol(0))\n"
     ]
    },
    {
     "ename": "ValueError",
     "evalue": "Pandas data cast to numpy dtype of object. Check input data with np.asarray(data).",
     "output_type": "error",
     "traceback": [
      "\u001b[0;31m---------------------------------------------------------------------------\u001b[0m",
      "\u001b[0;31mValueError\u001b[0m                                Traceback (most recent call last)",
      "\u001b[0;32m<ipython-input-102-2504e8adb23a>\u001b[0m in \u001b[0;36m<module>\u001b[0;34m()\u001b[0m\n\u001b[0;32m----> 1\u001b[0;31m \u001b[0mmodel\u001b[0m \u001b[0;34m=\u001b[0m \u001b[0mst\u001b[0m\u001b[0;34m.\u001b[0m\u001b[0mMNLogit\u001b[0m\u001b[0;34m(\u001b[0m\u001b[0my\u001b[0m\u001b[0;34m,\u001b[0m \u001b[0mX\u001b[0m\u001b[0;34m)\u001b[0m\u001b[0;34m\u001b[0m\u001b[0m\n\u001b[0m",
      "\u001b[0;32m/Users/Rebecca/anaconda/lib/python2.7/site-packages/statsmodels/discrete/discrete_model.pyc\u001b[0m in \u001b[0;36m__init__\u001b[0;34m(self, endog, exog, **kwargs)\u001b[0m\n\u001b[1;32m    399\u001b[0m \u001b[0;34m\u001b[0m\u001b[0m\n\u001b[1;32m    400\u001b[0m     \u001b[0;32mdef\u001b[0m \u001b[0m__init__\u001b[0m\u001b[0;34m(\u001b[0m\u001b[0mself\u001b[0m\u001b[0;34m,\u001b[0m \u001b[0mendog\u001b[0m\u001b[0;34m,\u001b[0m \u001b[0mexog\u001b[0m\u001b[0;34m,\u001b[0m \u001b[0;34m**\u001b[0m\u001b[0mkwargs\u001b[0m\u001b[0;34m)\u001b[0m\u001b[0;34m:\u001b[0m\u001b[0;34m\u001b[0m\u001b[0m\n\u001b[0;32m--> 401\u001b[0;31m         \u001b[0msuper\u001b[0m\u001b[0;34m(\u001b[0m\u001b[0mBinaryModel\u001b[0m\u001b[0;34m,\u001b[0m \u001b[0mself\u001b[0m\u001b[0;34m)\u001b[0m\u001b[0;34m.\u001b[0m\u001b[0m__init__\u001b[0m\u001b[0;34m(\u001b[0m\u001b[0mendog\u001b[0m\u001b[0;34m,\u001b[0m \u001b[0mexog\u001b[0m\u001b[0;34m,\u001b[0m \u001b[0;34m**\u001b[0m\u001b[0mkwargs\u001b[0m\u001b[0;34m)\u001b[0m\u001b[0;34m\u001b[0m\u001b[0m\n\u001b[0m\u001b[1;32m    402\u001b[0m         if (self.__class__.__name__ != 'MNLogit' and\n\u001b[1;32m    403\u001b[0m                 not np.all((self.endog >= 0) & (self.endog <= 1))):\n",
      "\u001b[0;32m/Users/Rebecca/anaconda/lib/python2.7/site-packages/statsmodels/discrete/discrete_model.pyc\u001b[0m in \u001b[0;36m__init__\u001b[0;34m(self, endog, exog, **kwargs)\u001b[0m\n\u001b[1;32m    152\u001b[0m     \"\"\"\n\u001b[1;32m    153\u001b[0m     \u001b[0;32mdef\u001b[0m \u001b[0m__init__\u001b[0m\u001b[0;34m(\u001b[0m\u001b[0mself\u001b[0m\u001b[0;34m,\u001b[0m \u001b[0mendog\u001b[0m\u001b[0;34m,\u001b[0m \u001b[0mexog\u001b[0m\u001b[0;34m,\u001b[0m \u001b[0;34m**\u001b[0m\u001b[0mkwargs\u001b[0m\u001b[0;34m)\u001b[0m\u001b[0;34m:\u001b[0m\u001b[0;34m\u001b[0m\u001b[0m\n\u001b[0;32m--> 154\u001b[0;31m         \u001b[0msuper\u001b[0m\u001b[0;34m(\u001b[0m\u001b[0mDiscreteModel\u001b[0m\u001b[0;34m,\u001b[0m \u001b[0mself\u001b[0m\u001b[0;34m)\u001b[0m\u001b[0;34m.\u001b[0m\u001b[0m__init__\u001b[0m\u001b[0;34m(\u001b[0m\u001b[0mendog\u001b[0m\u001b[0;34m,\u001b[0m \u001b[0mexog\u001b[0m\u001b[0;34m,\u001b[0m \u001b[0;34m**\u001b[0m\u001b[0mkwargs\u001b[0m\u001b[0;34m)\u001b[0m\u001b[0;34m\u001b[0m\u001b[0m\n\u001b[0m\u001b[1;32m    155\u001b[0m         \u001b[0mself\u001b[0m\u001b[0;34m.\u001b[0m\u001b[0mraise_on_perfect_prediction\u001b[0m \u001b[0;34m=\u001b[0m \u001b[0mTrue\u001b[0m\u001b[0;34m\u001b[0m\u001b[0m\n\u001b[1;32m    156\u001b[0m \u001b[0;34m\u001b[0m\u001b[0m\n",
      "\u001b[0;32m/Users/Rebecca/anaconda/lib/python2.7/site-packages/statsmodels/base/model.pyc\u001b[0m in \u001b[0;36m__init__\u001b[0;34m(self, endog, exog, **kwargs)\u001b[0m\n\u001b[1;32m    184\u001b[0m \u001b[0;34m\u001b[0m\u001b[0m\n\u001b[1;32m    185\u001b[0m     \u001b[0;32mdef\u001b[0m \u001b[0m__init__\u001b[0m\u001b[0;34m(\u001b[0m\u001b[0mself\u001b[0m\u001b[0;34m,\u001b[0m \u001b[0mendog\u001b[0m\u001b[0;34m,\u001b[0m \u001b[0mexog\u001b[0m\u001b[0;34m=\u001b[0m\u001b[0mNone\u001b[0m\u001b[0;34m,\u001b[0m \u001b[0;34m**\u001b[0m\u001b[0mkwargs\u001b[0m\u001b[0;34m)\u001b[0m\u001b[0;34m:\u001b[0m\u001b[0;34m\u001b[0m\u001b[0m\n\u001b[0;32m--> 186\u001b[0;31m         \u001b[0msuper\u001b[0m\u001b[0;34m(\u001b[0m\u001b[0mLikelihoodModel\u001b[0m\u001b[0;34m,\u001b[0m \u001b[0mself\u001b[0m\u001b[0;34m)\u001b[0m\u001b[0;34m.\u001b[0m\u001b[0m__init__\u001b[0m\u001b[0;34m(\u001b[0m\u001b[0mendog\u001b[0m\u001b[0;34m,\u001b[0m \u001b[0mexog\u001b[0m\u001b[0;34m,\u001b[0m \u001b[0;34m**\u001b[0m\u001b[0mkwargs\u001b[0m\u001b[0;34m)\u001b[0m\u001b[0;34m\u001b[0m\u001b[0m\n\u001b[0m\u001b[1;32m    187\u001b[0m         \u001b[0mself\u001b[0m\u001b[0;34m.\u001b[0m\u001b[0minitialize\u001b[0m\u001b[0;34m(\u001b[0m\u001b[0;34m)\u001b[0m\u001b[0;34m\u001b[0m\u001b[0m\n\u001b[1;32m    188\u001b[0m \u001b[0;34m\u001b[0m\u001b[0m\n",
      "\u001b[0;32m/Users/Rebecca/anaconda/lib/python2.7/site-packages/statsmodels/base/model.pyc\u001b[0m in \u001b[0;36m__init__\u001b[0;34m(self, endog, exog, **kwargs)\u001b[0m\n\u001b[1;32m     58\u001b[0m         \u001b[0mhasconst\u001b[0m \u001b[0;34m=\u001b[0m \u001b[0mkwargs\u001b[0m\u001b[0;34m.\u001b[0m\u001b[0mpop\u001b[0m\u001b[0;34m(\u001b[0m\u001b[0;34m'hasconst'\u001b[0m\u001b[0;34m,\u001b[0m \u001b[0mNone\u001b[0m\u001b[0;34m)\u001b[0m\u001b[0;34m\u001b[0m\u001b[0m\n\u001b[1;32m     59\u001b[0m         self.data = self._handle_data(endog, exog, missing, hasconst,\n\u001b[0;32m---> 60\u001b[0;31m                                       **kwargs)\n\u001b[0m\u001b[1;32m     61\u001b[0m         \u001b[0mself\u001b[0m\u001b[0;34m.\u001b[0m\u001b[0mk_constant\u001b[0m \u001b[0;34m=\u001b[0m \u001b[0mself\u001b[0m\u001b[0;34m.\u001b[0m\u001b[0mdata\u001b[0m\u001b[0;34m.\u001b[0m\u001b[0mk_constant\u001b[0m\u001b[0;34m\u001b[0m\u001b[0m\n\u001b[1;32m     62\u001b[0m         \u001b[0mself\u001b[0m\u001b[0;34m.\u001b[0m\u001b[0mexog\u001b[0m \u001b[0;34m=\u001b[0m \u001b[0mself\u001b[0m\u001b[0;34m.\u001b[0m\u001b[0mdata\u001b[0m\u001b[0;34m.\u001b[0m\u001b[0mexog\u001b[0m\u001b[0;34m\u001b[0m\u001b[0m\n",
      "\u001b[0;32m/Users/Rebecca/anaconda/lib/python2.7/site-packages/statsmodels/discrete/discrete_model.pyc\u001b[0m in \u001b[0;36m_handle_data\u001b[0;34m(self, endog, exog, missing, hasconst, **kwargs)\u001b[0m\n\u001b[1;32m    517\u001b[0m \u001b[0;34m\u001b[0m\u001b[0m\n\u001b[1;32m    518\u001b[0m         \u001b[0mself\u001b[0m\u001b[0;34m.\u001b[0m\u001b[0m_ynames_map\u001b[0m \u001b[0;34m=\u001b[0m \u001b[0mynames\u001b[0m\u001b[0;34m\u001b[0m\u001b[0m\n\u001b[0;32m--> 519\u001b[0;31m         \u001b[0mdata\u001b[0m \u001b[0;34m=\u001b[0m \u001b[0mhandle_data\u001b[0m\u001b[0;34m(\u001b[0m\u001b[0mendog_dummies\u001b[0m\u001b[0;34m,\u001b[0m \u001b[0mexog\u001b[0m\u001b[0;34m,\u001b[0m \u001b[0mmissing\u001b[0m\u001b[0;34m,\u001b[0m \u001b[0mhasconst\u001b[0m\u001b[0;34m,\u001b[0m \u001b[0;34m**\u001b[0m\u001b[0mkwargs\u001b[0m\u001b[0;34m)\u001b[0m\u001b[0;34m\u001b[0m\u001b[0m\n\u001b[0m\u001b[1;32m    520\u001b[0m         \u001b[0mdata\u001b[0m\u001b[0;34m.\u001b[0m\u001b[0mynames\u001b[0m \u001b[0;34m=\u001b[0m \u001b[0myname\u001b[0m  \u001b[0;31m# overwrite this to single endog name\u001b[0m\u001b[0;34m\u001b[0m\u001b[0m\n\u001b[1;32m    521\u001b[0m         \u001b[0mdata\u001b[0m\u001b[0;34m.\u001b[0m\u001b[0morig_endog\u001b[0m \u001b[0;34m=\u001b[0m \u001b[0mendog\u001b[0m\u001b[0;34m\u001b[0m\u001b[0m\n",
      "\u001b[0;32m/Users/Rebecca/anaconda/lib/python2.7/site-packages/statsmodels/base/data.pyc\u001b[0m in \u001b[0;36mhandle_data\u001b[0;34m(endog, exog, missing, hasconst, **kwargs)\u001b[0m\n\u001b[1;32m    564\u001b[0m     \u001b[0mklass\u001b[0m \u001b[0;34m=\u001b[0m \u001b[0mhandle_data_class_factory\u001b[0m\u001b[0;34m(\u001b[0m\u001b[0mendog\u001b[0m\u001b[0;34m,\u001b[0m \u001b[0mexog\u001b[0m\u001b[0;34m)\u001b[0m\u001b[0;34m\u001b[0m\u001b[0m\n\u001b[1;32m    565\u001b[0m     return klass(endog, exog=exog, missing=missing, hasconst=hasconst,\n\u001b[0;32m--> 566\u001b[0;31m                  **kwargs)\n\u001b[0m",
      "\u001b[0;32m/Users/Rebecca/anaconda/lib/python2.7/site-packages/statsmodels/base/data.pyc\u001b[0m in \u001b[0;36m__init__\u001b[0;34m(self, endog, exog, missing, hasconst, **kwargs)\u001b[0m\n\u001b[1;32m     70\u001b[0m             \u001b[0mself\u001b[0m\u001b[0;34m.\u001b[0m\u001b[0morig_endog\u001b[0m \u001b[0;34m=\u001b[0m \u001b[0mendog\u001b[0m\u001b[0;34m\u001b[0m\u001b[0m\n\u001b[1;32m     71\u001b[0m             \u001b[0mself\u001b[0m\u001b[0;34m.\u001b[0m\u001b[0morig_exog\u001b[0m \u001b[0;34m=\u001b[0m \u001b[0mexog\u001b[0m\u001b[0;34m\u001b[0m\u001b[0m\n\u001b[0;32m---> 72\u001b[0;31m             \u001b[0mself\u001b[0m\u001b[0;34m.\u001b[0m\u001b[0mendog\u001b[0m\u001b[0;34m,\u001b[0m \u001b[0mself\u001b[0m\u001b[0;34m.\u001b[0m\u001b[0mexog\u001b[0m \u001b[0;34m=\u001b[0m \u001b[0mself\u001b[0m\u001b[0;34m.\u001b[0m\u001b[0m_convert_endog_exog\u001b[0m\u001b[0;34m(\u001b[0m\u001b[0mendog\u001b[0m\u001b[0;34m,\u001b[0m \u001b[0mexog\u001b[0m\u001b[0;34m)\u001b[0m\u001b[0;34m\u001b[0m\u001b[0m\n\u001b[0m\u001b[1;32m     73\u001b[0m \u001b[0;34m\u001b[0m\u001b[0m\n\u001b[1;32m     74\u001b[0m         \u001b[0;31m# this has side-effects, attaches k_constant and const_idx\u001b[0m\u001b[0;34m\u001b[0m\u001b[0;34m\u001b[0m\u001b[0m\n",
      "\u001b[0;32m/Users/Rebecca/anaconda/lib/python2.7/site-packages/statsmodels/base/data.pyc\u001b[0m in \u001b[0;36m_convert_endog_exog\u001b[0;34m(self, endog, exog)\u001b[0m\n\u001b[1;32m    426\u001b[0m         \u001b[0mexog\u001b[0m \u001b[0;34m=\u001b[0m \u001b[0mexog\u001b[0m \u001b[0;32mif\u001b[0m \u001b[0mexog\u001b[0m \u001b[0;32mis\u001b[0m \u001b[0mNone\u001b[0m \u001b[0;32melse\u001b[0m \u001b[0mnp\u001b[0m\u001b[0;34m.\u001b[0m\u001b[0masarray\u001b[0m\u001b[0;34m(\u001b[0m\u001b[0mexog\u001b[0m\u001b[0;34m)\u001b[0m\u001b[0;34m\u001b[0m\u001b[0m\n\u001b[1;32m    427\u001b[0m         \u001b[0;32mif\u001b[0m \u001b[0mendog\u001b[0m\u001b[0;34m.\u001b[0m\u001b[0mdtype\u001b[0m \u001b[0;34m==\u001b[0m \u001b[0mobject\u001b[0m \u001b[0;32mor\u001b[0m \u001b[0mexog\u001b[0m \u001b[0;32mis\u001b[0m \u001b[0;32mnot\u001b[0m \u001b[0mNone\u001b[0m \u001b[0;32mand\u001b[0m \u001b[0mexog\u001b[0m\u001b[0;34m.\u001b[0m\u001b[0mdtype\u001b[0m \u001b[0;34m==\u001b[0m \u001b[0mobject\u001b[0m\u001b[0;34m:\u001b[0m\u001b[0;34m\u001b[0m\u001b[0m\n\u001b[0;32m--> 428\u001b[0;31m             raise ValueError(\"Pandas data cast to numpy dtype of object. \"\n\u001b[0m\u001b[1;32m    429\u001b[0m                              \"Check input data with np.asarray(data).\")\n\u001b[1;32m    430\u001b[0m         \u001b[0;32mreturn\u001b[0m \u001b[0msuper\u001b[0m\u001b[0;34m(\u001b[0m\u001b[0mPandasData\u001b[0m\u001b[0;34m,\u001b[0m \u001b[0mself\u001b[0m\u001b[0;34m)\u001b[0m\u001b[0;34m.\u001b[0m\u001b[0m_convert_endog_exog\u001b[0m\u001b[0;34m(\u001b[0m\u001b[0mendog\u001b[0m\u001b[0;34m,\u001b[0m \u001b[0mexog\u001b[0m\u001b[0;34m)\u001b[0m\u001b[0;34m\u001b[0m\u001b[0m\n",
      "\u001b[0;31mValueError\u001b[0m: Pandas data cast to numpy dtype of object. Check input data with np.asarray(data)."
     ]
    }
   ],
   "source": [
    "model = st.MNLogit(y, X)"
   ]
  },
  {
   "cell_type": "code",
   "execution_count": null,
   "metadata": {
    "collapsed": true
   },
   "outputs": [],
   "source": []
  },
  {
   "cell_type": "code",
   "execution_count": null,
   "metadata": {
    "collapsed": true
   },
   "outputs": [],
   "source": []
  },
  {
   "cell_type": "markdown",
   "metadata": {},
   "source": [
    "## Exercise 5: IMDB Movies\n",
    "\n",
    "Sometimes an API doesn't provide all the information we would like to get and we need to be creative.\n",
    "Here we will use a combination of scraping and API calls to investigate the ratings and gross earnings of famous movies."
   ]
  },
  {
   "cell_type": "markdown",
   "metadata": {
    "collapsed": true
   },
   "source": [
    "## 5.a Get top movies\n",
    "\n",
    "The Internet Movie Database contains data about movies. Unfortunately it does not have a public API.\n",
    "\n",
    "The page http://www.imdb.com/chart/top contains the list of the top 250 movies of all times. Retrieve the page using the requests library and then parse the html to obtain a list of the `movie_ids` for these movies. You can parse it with regular expression or using a library like `BeautifulSoup`.\n",
    "\n",
    "**Hint:** movie_ids look like this: `tt2582802`"
   ]
  },
  {
   "cell_type": "code",
   "execution_count": null,
   "metadata": {
    "collapsed": false
   },
   "outputs": [],
   "source": []
  },
  {
   "cell_type": "markdown",
   "metadata": {},
   "source": [
    "## 5.b Get top movies data\n",
    "\n",
    "Although the Internet Movie Database does not have a public API, an open API exists at http://www.omdbapi.com.\n",
    "\n",
    "Use this API to retrieve information about each of the 250 movies you have extracted in the previous step.\n",
    "- Check the documentation of omdbapi.com to learn how to request movie data by id\n",
    "- Define a function that returns a python object with all the information for a given id\n",
    "- Iterate on all the IDs and store the results in a list of such objects\n",
    "- Create a Pandas Dataframe from the list"
   ]
  },
  {
   "cell_type": "code",
   "execution_count": null,
   "metadata": {
    "collapsed": false
   },
   "outputs": [],
   "source": []
  },
  {
   "cell_type": "markdown",
   "metadata": {},
   "source": [
    "## 5.c Get gross data\n",
    "\n",
    "The OMDB API is great, but it does not provide information about Gross Revenue of the movie. We'll revert back to scraping for this.\n",
    "\n",
    "- Write a function that retrieves the gross revenue from the entry page at imdb.com\n",
    "- The function should handle the exception of when the page doesn't report gross revenue\n",
    "- Retrieve the gross revenue for each movie and store it in a separate dataframe"
   ]
  },
  {
   "cell_type": "code",
   "execution_count": null,
   "metadata": {
    "collapsed": false
   },
   "outputs": [],
   "source": []
  },
  {
   "cell_type": "markdown",
   "metadata": {},
   "source": [
    "## 5.d Data munging\n",
    "\n",
    "- Now that you have movie information and gross revenue information, let's clean the two datasets.\n",
    "- Check if there are null values. Be careful they may appear to be valid strings.\n",
    "- Convert the columns to the appropriate formats. In particular handle:\n",
    "    - Released\n",
    "    - Runtime\n",
    "    - year\n",
    "    - imdbRating\n",
    "    - imdbVotes\n",
    "- Merge the data from the two datasets into a single one"
   ]
  },
  {
   "cell_type": "code",
   "execution_count": null,
   "metadata": {
    "collapsed": false
   },
   "outputs": [],
   "source": []
  },
  {
   "cell_type": "markdown",
   "metadata": {},
   "source": [
    "## 5.d Text vectorization\n",
    "\n",
    "There are several columns in the data that contain a comma separated list of items, for example the Genre column and the Actors column. Let's transform those to binary columns using the count vectorizer from scikit learn.\n",
    "\n",
    "Append these columns to the merged dataframe.\n",
    "\n",
    "**Hint:** In order to get the actors name right, you'll have to set the `token_pattern` parameter in `CountVectorizer` to u'(?u)\\\\w+\\.?\\\\w?\\.? \\\\w+'. Can you see why? How does this differ from the default?"
   ]
  },
  {
   "cell_type": "code",
   "execution_count": null,
   "metadata": {
    "collapsed": true
   },
   "outputs": [],
   "source": []
  },
  {
   "cell_type": "markdown",
   "metadata": {},
   "source": [
    "## Bonus:\n",
    "\n",
    "- What are the top 10 grossing movies?\n",
    "- Who are the 10 actors that appear in the most movies?\n",
    "- What's the average grossing of the movies in which each of these actors appear?\n",
    "- What genre is the oldest movie?\n"
   ]
  },
  {
   "cell_type": "code",
   "execution_count": null,
   "metadata": {
    "collapsed": false
   },
   "outputs": [],
   "source": []
  }
 ],
 "metadata": {
  "kernelspec": {
   "display_name": "Python 2",
   "language": "python",
   "name": "python2"
  },
  "language_info": {
   "codemirror_mode": {
    "name": "ipython",
    "version": 2
   },
   "file_extension": ".py",
   "mimetype": "text/x-python",
   "name": "python",
   "nbconvert_exporter": "python",
   "pygments_lexer": "ipython2",
   "version": "2.7.12"
  }
 },
 "nbformat": 4,
 "nbformat_minor": 0
}
