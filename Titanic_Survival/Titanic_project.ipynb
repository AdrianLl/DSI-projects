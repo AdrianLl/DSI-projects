{
 "cells": [
  {
   "cell_type": "markdown",
   "metadata": {},
   "source": [
    "# Titanic Survivors -- Data Analysis "
   ]
  },
  {
   "cell_type": "code",
   "execution_count": 101,
   "metadata": {
    "collapsed": false
   },
   "outputs": [],
   "source": [
    "import pandas as pd \n",
    "import numpy as np\n",
    "import seaborn as sns\n",
    "import matplotlib.pyplot as plt\n",
    "import matplotlib.cm as cm\n",
    "from sklearn import linear_model, preprocessing\n",
    "from sklearn.feature_selection import RFECV\n",
    "import matplotlib.patheffects as path_effects\n",
    "from sklearn.metrics import confusion_matrix, roc_curve, roc_auc_score, accuracy_score, \\\n",
    "    precision_score, recall_score, classification_report\n",
    "from sklearn.model_selection import GridSearchCV, train_test_split\n",
    "\n",
    "%matplotlib inline"
   ]
  },
  {
   "cell_type": "markdown",
   "metadata": {
    "collapsed": false
   },
   "source": [
    "\"Cross-sectional drawing showing ice penetrating the double bottom of the Titanic.\" [here](http://bit.ly/29YeBu8) "
   ]
  },
  {
   "cell_type": "markdown",
   "metadata": {},
   "source": [
    "![](http://i586.photobucket.com/albums/ss306/realphotos/TITANIC/5.jpg)"
   ]
  },
  {
   "cell_type": "code",
   "execution_count": 102,
   "metadata": {
    "collapsed": true
   },
   "outputs": [],
   "source": [
    "## !psql -h dsi.c20gkj5cvu3l.us-east-1.rds.amazonaws.com -p 5432 -U dsi_student titanic\n",
    "## password: gastudents\n",
    "## my_lil_engine = create_engine('postgresql://\\\n",
    "## dsi_student:gastudents@dsi.c20gkj5cvu3l.us-east-1.rds.amazonaws.com/titanic')\n",
    "## df = pd.read_sql('SELECT * FROM train', my_lil_engine)\n",
    "## df.to_csv('titanic.csv', encoding='utf-8')"
   ]
  },
  {
   "cell_type": "markdown",
   "metadata": {},
   "source": [
    "Run this cell to load the dataframe obtained directly above:"
   ]
  },
  {
   "cell_type": "code",
   "execution_count": 103,
   "metadata": {
    "collapsed": false
   },
   "outputs": [
    {
     "data": {
      "text/html": [
       "<div>\n",
       "<table border=\"1\" class=\"dataframe\">\n",
       "  <thead>\n",
       "    <tr style=\"text-align: right;\">\n",
       "      <th></th>\n",
       "      <th>PassengerId</th>\n",
       "      <th>Survived</th>\n",
       "      <th>Pclass</th>\n",
       "      <th>Name</th>\n",
       "      <th>Sex</th>\n",
       "      <th>Age</th>\n",
       "      <th>SibSp</th>\n",
       "      <th>Parch</th>\n",
       "      <th>Ticket</th>\n",
       "      <th>Fare</th>\n",
       "      <th>Cabin</th>\n",
       "      <th>Embarked</th>\n",
       "    </tr>\n",
       "  </thead>\n",
       "  <tbody>\n",
       "    <tr>\n",
       "      <th>0</th>\n",
       "      <td>1</td>\n",
       "      <td>0</td>\n",
       "      <td>3</td>\n",
       "      <td>Braund, Mr. Owen Harris</td>\n",
       "      <td>male</td>\n",
       "      <td>22.0</td>\n",
       "      <td>1</td>\n",
       "      <td>0</td>\n",
       "      <td>A/5 21171</td>\n",
       "      <td>7.2500</td>\n",
       "      <td>NaN</td>\n",
       "      <td>S</td>\n",
       "    </tr>\n",
       "    <tr>\n",
       "      <th>1</th>\n",
       "      <td>2</td>\n",
       "      <td>1</td>\n",
       "      <td>1</td>\n",
       "      <td>Cumings, Mrs. John Bradley (Florence Briggs Th...</td>\n",
       "      <td>female</td>\n",
       "      <td>38.0</td>\n",
       "      <td>1</td>\n",
       "      <td>0</td>\n",
       "      <td>PC 17599</td>\n",
       "      <td>71.2833</td>\n",
       "      <td>C85</td>\n",
       "      <td>C</td>\n",
       "    </tr>\n",
       "  </tbody>\n",
       "</table>\n",
       "</div>"
      ],
      "text/plain": [
       "   PassengerId  Survived  Pclass  \\\n",
       "0            1         0       3   \n",
       "1            2         1       1   \n",
       "\n",
       "                                                Name     Sex   Age  SibSp  \\\n",
       "0                            Braund, Mr. Owen Harris    male  22.0      1   \n",
       "1  Cumings, Mrs. John Bradley (Florence Briggs Th...  female  38.0      1   \n",
       "\n",
       "   Parch     Ticket     Fare Cabin Embarked  \n",
       "0      0  A/5 21171   7.2500   NaN        S  \n",
       "1      0   PC 17599  71.2833   C85        C  "
      ]
     },
     "execution_count": 103,
     "metadata": {},
     "output_type": "execute_result"
    }
   ],
   "source": [
    "titanic = pd.read_csv('assets/titanic.csv')\n",
    "\n",
    "titanic.head(2)"
   ]
  },
  {
   "cell_type": "code",
   "execution_count": 104,
   "metadata": {
    "collapsed": false
   },
   "outputs": [
    {
     "data": {
      "text/plain": [
       "PassengerId      int64\n",
       "Survived         int64\n",
       "Pclass           int64\n",
       "Name            object\n",
       "Sex             object\n",
       "Age            float64\n",
       "SibSp            int64\n",
       "Parch            int64\n",
       "Ticket          object\n",
       "Fare           float64\n",
       "Cabin           object\n",
       "Embarked        object\n",
       "dtype: object"
      ]
     },
     "execution_count": 104,
     "metadata": {},
     "output_type": "execute_result"
    }
   ],
   "source": [
    "titanic.dtypes"
   ]
  },
  {
   "cell_type": "code",
   "execution_count": 105,
   "metadata": {
    "collapsed": false
   },
   "outputs": [
    {
     "data": {
      "text/plain": [
       "891"
      ]
     },
     "execution_count": 105,
     "metadata": {},
     "output_type": "execute_result"
    }
   ],
   "source": [
    "len(titanic)"
   ]
  },
  {
   "cell_type": "markdown",
   "metadata": {},
   "source": [
    "Gets rid of \"PassengerId\" if it's index-like:"
   ]
  },
  {
   "cell_type": "code",
   "execution_count": 106,
   "metadata": {
    "collapsed": false
   },
   "outputs": [
    {
     "name": "stdout",
     "output_type": "stream",
     "text": [
      "PassengerId is index offset by 1.\n"
     ]
    }
   ],
   "source": [
    "if list(titanic['PassengerId']) == range(1, len(titanic) + 1, 1):\n",
    "    print 'PassengerId is index offset by 1.'\n",
    "else:\n",
    "    print titanic['PassengerId'].describe()"
   ]
  },
  {
   "cell_type": "code",
   "execution_count": 107,
   "metadata": {
    "collapsed": false
   },
   "outputs": [
    {
     "data": {
      "text/plain": [
       "male      577\n",
       "female    314\n",
       "Name: Sex, dtype: int64"
      ]
     },
     "execution_count": 107,
     "metadata": {},
     "output_type": "execute_result"
    }
   ],
   "source": [
    "titanic['Sex'].value_counts() "
   ]
  },
  {
   "cell_type": "code",
   "execution_count": 108,
   "metadata": {
    "collapsed": false
   },
   "outputs": [
    {
     "data": {
      "text/plain": [
       "0    549\n",
       "1    342\n",
       "Name: Survived, dtype: int64"
      ]
     },
     "execution_count": 108,
     "metadata": {},
     "output_type": "execute_result"
    }
   ],
   "source": [
    "titanic['Survived'].value_counts() # will be target variable"
   ]
  },
  {
   "cell_type": "code",
   "execution_count": 109,
   "metadata": {
    "collapsed": true
   },
   "outputs": [],
   "source": [
    "titanic['Survived'] = titanic['Survived'].apply(lambda x: str(x))"
   ]
  },
  {
   "cell_type": "code",
   "execution_count": 110,
   "metadata": {
    "collapsed": false
   },
   "outputs": [
    {
     "data": {
      "text/plain": [
       "3    491\n",
       "1    216\n",
       "2    184\n",
       "Name: Pclass, dtype: int64"
      ]
     },
     "execution_count": 110,
     "metadata": {},
     "output_type": "execute_result"
    }
   ],
   "source": [
    "titanic['Pclass'].value_counts() # ranked categorical; getting dummies loses ranked aspect"
   ]
  },
  {
   "cell_type": "code",
   "execution_count": 111,
   "metadata": {
    "collapsed": false
   },
   "outputs": [
    {
     "name": "stdout",
     "output_type": "stream",
     "text": [
      "There are 177 age values missing from the dataframe (19.9 percent).\n"
     ]
    }
   ],
   "source": [
    "missing_ages = len(titanic) - len(titanic[titanic['Age'] > 0])\n",
    "perc = (len(titanic) - len(titanic[titanic['Age'] > 0])) / float(len(titanic))\n",
    "print 'There are %s age values missing from the dataframe' %missing_ages + ' (%s percent).' \\\n",
    "%(round(perc, 3)*100)"
   ]
  },
  {
   "cell_type": "code",
   "execution_count": 112,
   "metadata": {
    "collapsed": false
   },
   "outputs": [
    {
     "data": {
      "image/png": "[encoded data removed]",
      "text/plain": [
       "<matplotlib.figure.Figure at 0x11770ba10>"
      ]
     },
     "metadata": {},
     "output_type": "display_data"
    }
   ],
   "source": [
    "plt.figure(figsize=(12,8))\n",
    "plt.style.use('fivethirtyeight')\n",
    "\n",
    "titanic_age = titanic[titanic['Age'] > -0.1]\n",
    "age_hist = plt.hist(titanic_age['Age'], color = 'darkred', alpha = 0.6, bins = 20)\n",
    "plt.axvline(titanic_age['Age'].median(), color='b', linestyle='dashed', linewidth=1.5, \\\n",
    "            label = 'median')\n",
    "plt.axvline(titanic_age['Age'].mean(), color='g', linestyle='dashed', linewidth=1.5, \\\n",
    "            label = 'mean')\n",
    "\n",
    "plt.title('Titanic: Passenger Age (~20% observations missing)', fontsize = 20)\n",
    "\n",
    "# y label\n",
    "plt.ylabel('Count')\n",
    "\n",
    "# x label\n",
    "plt.xlabel('Age (years)')\n",
    "\n",
    "plt.xlim([0, max(titanic_age['Age'])])\n",
    "plt.ylim([0, 110])\n",
    "\n",
    "plt.legend(loc='center right', fontsize = 14)\n",
    "\n",
    "plt.grid(which='major', axis = 'x')\n",
    "\n",
    "plt.show()"
   ]
  },
  {
   "cell_type": "code",
   "execution_count": 113,
   "metadata": {
    "collapsed": false
   },
   "outputs": [
    {
     "data": {
      "text/plain": [
       "0    608\n",
       "1    209\n",
       "2     28\n",
       "4     18\n",
       "3     16\n",
       "8      7\n",
       "5      5\n",
       "Name: SibSp, dtype: int64"
      ]
     },
     "execution_count": 113,
     "metadata": {},
     "output_type": "execute_result"
    }
   ],
   "source": [
    "titanic['SibSp'].value_counts()"
   ]
  },
  {
   "cell_type": "code",
   "execution_count": 114,
   "metadata": {
    "collapsed": false
   },
   "outputs": [
    {
     "data": {
      "text/plain": [
       "0    678\n",
       "1    118\n",
       "2     80\n",
       "5      5\n",
       "3      5\n",
       "4      4\n",
       "6      1\n",
       "Name: Parch, dtype: int64"
      ]
     },
     "execution_count": 114,
     "metadata": {},
     "output_type": "execute_result"
    }
   ],
   "source": [
    "titanic['Parch'].value_counts()"
   ]
  },
  {
   "cell_type": "code",
   "execution_count": 116,
   "metadata": {
    "collapsed": false
   },
   "outputs": [
    {
     "data": {
      "text/plain": [
       "CA. 2343        7\n",
       "347082          7\n",
       "1601            7\n",
       "347088          6\n",
       "CA 2144         6\n",
       "3101295         6\n",
       "382652          5\n",
       "S.O.C. 14879    5\n",
       "PC 17757        4\n",
       "4133            4\n",
       "Name: Ticket, dtype: int64"
      ]
     },
     "execution_count": 116,
     "metadata": {},
     "output_type": "execute_result"
    }
   ],
   "source": [
    "titanic['Ticket'].value_counts()[0:10]"
   ]
  },
  {
   "cell_type": "code",
   "execution_count": 119,
   "metadata": {
    "collapsed": false
   },
   "outputs": [
    {
     "data": {
      "text/plain": [
       "0     NaN\n",
       "1     C85\n",
       "2     NaN\n",
       "3    C123\n",
       "4     NaN\n",
       "5     NaN\n",
       "6     E46\n",
       "7     NaN\n",
       "8     NaN\n",
       "9     NaN\n",
       "Name: Cabin, dtype: object"
      ]
     },
     "execution_count": 119,
     "metadata": {},
     "output_type": "execute_result"
    }
   ],
   "source": [
    "titanic['Cabin'].head(10)"
   ]
  },
  {
   "cell_type": "markdown",
   "metadata": {},
   "source": [
    "I inspected these variables in-depth and have decided to leave them out for the purpose of this regression analysis."
   ]
  },
  {
   "cell_type": "code",
   "execution_count": 120,
   "metadata": {
    "collapsed": true
   },
   "outputs": [],
   "source": [
    "titanic.drop(['Ticket', 'Cabin'], axis = 1, inplace = True)"
   ]
  },
  {
   "cell_type": "markdown",
   "metadata": {},
   "source": [
    "### **Let's clean the data set and generate some variables of potential interest:**"
   ]
  },
  {
   "cell_type": "code",
   "execution_count": 121,
   "metadata": {
    "collapsed": false
   },
   "outputs": [
    {
     "data": {
      "text/plain": [
       "['PassengerId',\n",
       " 'Survived',\n",
       " 'Pclass',\n",
       " 'Name',\n",
       " 'Sex',\n",
       " 'Age',\n",
       " 'SibSp',\n",
       " 'Parch',\n",
       " 'Fare',\n",
       " 'Embarked']"
      ]
     },
     "execution_count": 121,
     "metadata": {},
     "output_type": "execute_result"
    }
   ],
   "source": [
    "list(titanic.columns)"
   ]
  },
  {
   "cell_type": "code",
   "execution_count": 122,
   "metadata": {
    "collapsed": true
   },
   "outputs": [],
   "source": [
    "def parse_name(my_df, column):\n",
    "#    last_name = []\n",
    "#    first_name = []\n",
    "    title = []\n",
    "    for name in my_df[column]:\n",
    "        split_name = name.split(', ')\n",
    "#        last_name.append(split_name[0])\n",
    "        new_split = split_name[1].split('. ')\n",
    "        title.append(new_split[0])\n",
    "#        first_name.append(new_split[1])\n",
    "#    my_df['last_name'] = last_name\n",
    "#    my_df['first_name'] = first_name\n",
    "    my_df['title'] = title\n",
    "    del my_df[column]\n",
    "#    del last_name\n",
    "#    del first_name\n",
    "    del title\n",
    "    return my_df"
   ]
  },
  {
   "cell_type": "code",
   "execution_count": 123,
   "metadata": {
    "collapsed": true
   },
   "outputs": [],
   "source": [
    "titanic = parse_name(titanic, 'Name')"
   ]
  },
  {
   "cell_type": "code",
   "execution_count": 124,
   "metadata": {
    "collapsed": false
   },
   "outputs": [
    {
     "data": {
      "text/plain": [
       "Mr              517\n",
       "Miss            182\n",
       "Mrs             125\n",
       "Master           40\n",
       "Dr                7\n",
       "Rev               6\n",
       "Mlle              2\n",
       "Col               2\n",
       "Major             2\n",
       "Lady              1\n",
       "Jonkheer          1\n",
       "Don               1\n",
       "Ms                1\n",
       "Mme               1\n",
       "Capt              1\n",
       "the Countess      1\n",
       "Sir               1\n",
       "Name: title, dtype: int64"
      ]
     },
     "execution_count": 124,
     "metadata": {},
     "output_type": "execute_result"
    }
   ],
   "source": [
    "titanic['title'].value_counts()"
   ]
  },
  {
   "cell_type": "code",
   "execution_count": 125,
   "metadata": {
    "collapsed": false
   },
   "outputs": [],
   "source": [
    "title_dict = {\n",
    "    \"Capt\" :       \"Officer\",\n",
    "    \"Col\" :        \"Officer\",\n",
    "    \"Major\" :      \"Officer\",\n",
    "    \"Jonkheer\" :   \"Royalty\",\n",
    "    \"Don\" :        \"Royalty\",\n",
    "    \"Sir\" :        \"Royalty\",\n",
    "    \"Dr\" :         \"Officer\",\n",
    "    \"Rev\" :        \"Officer\",\n",
    "    \"the Countess\" : \"Royalty\",\n",
    "    \"Mme\" :        \"Mrs\",\n",
    "    \"Mlle\" :       \"Miss\",\n",
    "    \"Ms\" :         \"Mrs\",\n",
    "    \"Mr\" :         \"Mr\",\n",
    "    \"Mrs\" :        \"Mrs\",\n",
    "    \"Miss\" :       \"Miss\",\n",
    "    \"Master\" :     \"Master\",\n",
    "    \"Lady\" :       \"Royalty\"\n",
    "\n",
    "    }\n",
    "\n",
    "titanic['title'] = titanic['title'].apply(lambda x: title_dict[x])"
   ]
  },
  {
   "cell_type": "code",
   "execution_count": 126,
   "metadata": {
    "collapsed": true
   },
   "outputs": [],
   "source": [
    "titanic['Fare'] = titanic['Fare'].apply(lambda x: round(x, 2))"
   ]
  },
  {
   "cell_type": "code",
   "execution_count": 127,
   "metadata": {
    "collapsed": false
   },
   "outputs": [],
   "source": [
    "def dummies(my_df, cols):\n",
    "    for column in cols:\n",
    "        my_df = pd.concat([my_df.drop(column[0], axis = 1), pd.get_dummies(my_df[column[0]], \\\n",
    "                    drop_first = True, prefix = column[1])], axis = 1)\n",
    "    return my_df"
   ]
  },
  {
   "cell_type": "code",
   "execution_count": 128,
   "metadata": {
    "collapsed": false
   },
   "outputs": [
    {
     "data": {
      "text/plain": [
       "Index([u'PassengerId', u'Survived', u'Pclass', u'Sex', u'Age', u'SibSp',\n",
       "       u'Parch', u'Fare', u'Embarked', u'title'],\n",
       "      dtype='object')"
      ]
     },
     "execution_count": 128,
     "metadata": {},
     "output_type": "execute_result"
    }
   ],
   "source": [
    "titanic.columns"
   ]
  },
  {
   "cell_type": "code",
   "execution_count": 129,
   "metadata": {
    "collapsed": true
   },
   "outputs": [],
   "source": [
    "cols = [('Pclass', 'class'), ('Sex', None), ('Embarked', 'embark'), ('title', None)]\n",
    "\n",
    "titanic = dummies(titanic, cols)"
   ]
  },
  {
   "cell_type": "code",
   "execution_count": 130,
   "metadata": {
    "collapsed": false
   },
   "outputs": [
    {
     "data": {
      "text/html": [
       "<div>\n",
       "<table border=\"1\" class=\"dataframe\">\n",
       "  <thead>\n",
       "    <tr style=\"text-align: right;\">\n",
       "      <th></th>\n",
       "      <th>PassengerId</th>\n",
       "      <th>Survived</th>\n",
       "      <th>Age</th>\n",
       "      <th>SibSp</th>\n",
       "      <th>Parch</th>\n",
       "      <th>Fare</th>\n",
       "      <th>class_2</th>\n",
       "      <th>class_3</th>\n",
       "      <th>male</th>\n",
       "      <th>embark_Q</th>\n",
       "      <th>embark_S</th>\n",
       "      <th>Miss</th>\n",
       "      <th>Mr</th>\n",
       "      <th>Mrs</th>\n",
       "      <th>Officer</th>\n",
       "      <th>Royalty</th>\n",
       "    </tr>\n",
       "  </thead>\n",
       "  <tbody>\n",
       "    <tr>\n",
       "      <th>0</th>\n",
       "      <td>1</td>\n",
       "      <td>0</td>\n",
       "      <td>22.0</td>\n",
       "      <td>1</td>\n",
       "      <td>0</td>\n",
       "      <td>7.25</td>\n",
       "      <td>0.0</td>\n",
       "      <td>1.0</td>\n",
       "      <td>1.0</td>\n",
       "      <td>0.0</td>\n",
       "      <td>1.0</td>\n",
       "      <td>0.0</td>\n",
       "      <td>1.0</td>\n",
       "      <td>0.0</td>\n",
       "      <td>0.0</td>\n",
       "      <td>0.0</td>\n",
       "    </tr>\n",
       "  </tbody>\n",
       "</table>\n",
       "</div>"
      ],
      "text/plain": [
       "   PassengerId Survived   Age  SibSp  Parch  Fare  class_2  class_3  male  \\\n",
       "0            1        0  22.0      1      0  7.25      0.0      1.0   1.0   \n",
       "\n",
       "   embark_Q  embark_S  Miss   Mr  Mrs  Officer  Royalty  \n",
       "0       0.0       1.0   0.0  1.0  0.0      0.0      0.0  "
      ]
     },
     "execution_count": 130,
     "metadata": {},
     "output_type": "execute_result"
    }
   ],
   "source": [
    "titanic.head(1)"
   ]
  },
  {
   "cell_type": "code",
   "execution_count": 140,
   "metadata": {
    "collapsed": false
   },
   "outputs": [
    {
     "data": {
      "image/png": "[encoded data removed]",
      "text/plain": [
       "<matplotlib.figure.Figure at 0x11913fe90>"
      ]
     },
     "metadata": {},
     "output_type": "display_data"
    }
   ],
   "source": [
    "fig, ax1 = plt.subplots(figsize=(12, 8))\n",
    "\n",
    "plt.boxplot(titanic['Fare'], 0, '^')\n",
    "\n",
    "ax1.yaxis.grid(True, linestyle='-', which='major', color='lightgrey',\n",
    "               alpha=0.5)\n",
    "\n",
    "ax1.set_axisbelow(True)\n",
    "ax1.set_title('Titanic: Fare Paid', y =1.03, fontsize = 24)\n",
    "ax1.set_ylabel('measurement (cm)', fontsize = 18)\n",
    "\n",
    "# Set the axes ranges and axes labels\n",
    "numBoxes = 1\n",
    "ax1.set_xlim(0.5, numBoxes + 0.5)\n",
    "ax1.set_ylim(-10, 610)\n",
    "xtickNames = plt.setp(ax1, xticklabels=['Fare (USD)'])\n",
    "plt.setp(xtickNames, fontsize=14)\n",
    "\n",
    "plt.show()"
   ]
  },
  {
   "cell_type": "markdown",
   "metadata": {},
   "source": [
    "Which passengers are paying over $300?"
   ]
  },
  {
   "cell_type": "code",
   "execution_count": 141,
   "metadata": {
    "collapsed": false
   },
   "outputs": [
    {
     "data": {
      "text/html": [
       "<div>\n",
       "<table border=\"1\" class=\"dataframe\">\n",
       "  <thead>\n",
       "    <tr style=\"text-align: right;\">\n",
       "      <th></th>\n",
       "      <th>PassengerId</th>\n",
       "      <th>Survived</th>\n",
       "      <th>Age</th>\n",
       "      <th>SibSp</th>\n",
       "      <th>Parch</th>\n",
       "      <th>Fare</th>\n",
       "      <th>class_2</th>\n",
       "      <th>class_3</th>\n",
       "      <th>male</th>\n",
       "      <th>embark_Q</th>\n",
       "      <th>embark_S</th>\n",
       "      <th>Miss</th>\n",
       "      <th>Mr</th>\n",
       "      <th>Mrs</th>\n",
       "      <th>Officer</th>\n",
       "      <th>Royalty</th>\n",
       "    </tr>\n",
       "  </thead>\n",
       "  <tbody>\n",
       "    <tr>\n",
       "      <th>258</th>\n",
       "      <td>259</td>\n",
       "      <td>1</td>\n",
       "      <td>35.0</td>\n",
       "      <td>0</td>\n",
       "      <td>0</td>\n",
       "      <td>512.33</td>\n",
       "      <td>0.0</td>\n",
       "      <td>0.0</td>\n",
       "      <td>0.0</td>\n",
       "      <td>0.0</td>\n",
       "      <td>0.0</td>\n",
       "      <td>1.0</td>\n",
       "      <td>0.0</td>\n",
       "      <td>0.0</td>\n",
       "      <td>0.0</td>\n",
       "      <td>0.0</td>\n",
       "    </tr>\n",
       "    <tr>\n",
       "      <th>679</th>\n",
       "      <td>680</td>\n",
       "      <td>1</td>\n",
       "      <td>36.0</td>\n",
       "      <td>0</td>\n",
       "      <td>1</td>\n",
       "      <td>512.33</td>\n",
       "      <td>0.0</td>\n",
       "      <td>0.0</td>\n",
       "      <td>1.0</td>\n",
       "      <td>0.0</td>\n",
       "      <td>0.0</td>\n",
       "      <td>0.0</td>\n",
       "      <td>1.0</td>\n",
       "      <td>0.0</td>\n",
       "      <td>0.0</td>\n",
       "      <td>0.0</td>\n",
       "    </tr>\n",
       "    <tr>\n",
       "      <th>737</th>\n",
       "      <td>738</td>\n",
       "      <td>1</td>\n",
       "      <td>35.0</td>\n",
       "      <td>0</td>\n",
       "      <td>0</td>\n",
       "      <td>512.33</td>\n",
       "      <td>0.0</td>\n",
       "      <td>0.0</td>\n",
       "      <td>1.0</td>\n",
       "      <td>0.0</td>\n",
       "      <td>0.0</td>\n",
       "      <td>0.0</td>\n",
       "      <td>1.0</td>\n",
       "      <td>0.0</td>\n",
       "      <td>0.0</td>\n",
       "      <td>0.0</td>\n",
       "    </tr>\n",
       "  </tbody>\n",
       "</table>\n",
       "</div>"
      ],
      "text/plain": [
       "     PassengerId Survived   Age  SibSp  Parch    Fare  class_2  class_3  male  \\\n",
       "258          259        1  35.0      0      0  512.33      0.0      0.0   0.0   \n",
       "679          680        1  36.0      0      1  512.33      0.0      0.0   1.0   \n",
       "737          738        1  35.0      0      0  512.33      0.0      0.0   1.0   \n",
       "\n",
       "     embark_Q  embark_S  Miss   Mr  Mrs  Officer  Royalty  \n",
       "258       0.0       0.0   1.0  0.0  0.0      0.0      0.0  \n",
       "679       0.0       0.0   0.0  1.0  0.0      0.0      0.0  \n",
       "737       0.0       0.0   0.0  1.0  0.0      0.0      0.0  "
      ]
     },
     "execution_count": 141,
     "metadata": {},
     "output_type": "execute_result"
    }
   ],
   "source": [
    "titanic[titanic['Fare'] > 300]"
   ]
  },
  {
   "cell_type": "markdown",
   "metadata": {},
   "source": [
    "They traveled together (ticket info shows); maybe $512.33 is total Fare?  We could divide by three or just take them out.  Let's remove them, because they are obviously outliers even if Fare is correct:"
   ]
  },
  {
   "cell_type": "code",
   "execution_count": 148,
   "metadata": {
    "collapsed": false
   },
   "outputs": [],
   "source": [
    "titanic = titanic[titanic['Fare'] < 300]\n",
    "titanic.reset_index(drop = True, inplace = True)"
   ]
  },
  {
   "cell_type": "code",
   "execution_count": 150,
   "metadata": {
    "collapsed": true
   },
   "outputs": [],
   "source": [
    "gender_dict = {\n",
    "    1 : 'male',\n",
    "    0 : 'female'\n",
    "}\n",
    "\n",
    "survival_dict = {\n",
    "    '0' : ['1', 'dead'],\n",
    "    '1' : ['.', 'alive']\n",
    "}\n",
    "\n",
    "color_dict = {\n",
    "    '0' : ['black', 'black'],\n",
    "    '1' : ['hotpink', 'dodgerblue']\n",
    "}"
   ]
  },
  {
   "cell_type": "code",
   "execution_count": 151,
   "metadata": {
    "collapsed": false,
    "scrolled": false
   },
   "outputs": [
    {
     "data": {
      "image/png": "[encoded data removed]",
      "text/plain": [
       "<matplotlib.figure.Figure at 0x148e584d0>"
      ]
     },
     "metadata": {},
     "output_type": "display_data"
    }
   ],
   "source": [
    "f, (ax1, ax2) = plt.subplots(1, 2, sharey=True)\n",
    "\n",
    "f.set_figwidth(12)\n",
    "f.set_figheight(6)\n",
    "\n",
    "ax1.set_title('Titanic: Age vs Fare (Male)', fontsize = 24, y = 1.03)\n",
    "ax1.set_ylim([-15, 320])\n",
    "ax1.set_yticks(range(0, 350, 50))\n",
    "ax1.set_ylabel('Fare (USD)', fontsize = 20)\n",
    "ax1.set_xlim([-5, 85])\n",
    "ax1.set_xticks(range(0, 90, 10))\n",
    "ax1.set_xlabel('Age (years)', fontsize = 20)\n",
    "ax1.axhline(0, color = 'black', linewidth = 2, alpha = 0.3)\n",
    "ax1.axvline(0, color = 'black', linewidth = 2, alpha = 0.3)\n",
    "\n",
    "ax2.set_title('Titanic: Age vs Fare (Female)', fontsize = 24, y = 1.03)\n",
    "ax2.set_ylim([-15, 320])\n",
    "ax2.set_xlim([-5, 85])\n",
    "ax2.set_xticks(range(0, 90, 10))\n",
    "ax2.set_xlabel('Age (years)', fontsize = 20)\n",
    "ax2.axhline(0, color = 'black', linewidth = 2, alpha = 0.3)\n",
    "ax2.axvline(0, color = 'black', linewidth = 2, alpha = 0.3)\n",
    "\n",
    "for gender in [(1, ax1), (0, ax2)]:\n",
    "    for survival in ['0', '1']:\n",
    "        gender[1].scatter(\n",
    "            titanic[(titanic['male'] == gender[0]) & (titanic['Survived'] == survival)]['Age'],\n",
    "            titanic[(titanic['male'] == gender[0]) & (titanic['Survived'] == survival)]['Fare'],\n",
    "            color = color_dict[survival][gender[0]], alpha = 0.8, s = 60,\n",
    "            marker = survival_dict[survival][0],\n",
    "            label = '{}, {}'.format(gender_dict[gender[0]], survival_dict[survival][1]))\n",
    "        gender[1].legend(loc = 'upper right', fontsize = 12)\n",
    "        \n",
    "plt.tight_layout()\n",
    "\n",
    "plt.show()"
   ]
  },
  {
   "cell_type": "markdown",
   "metadata": {},
   "source": [
    "From this scatterplot, we can see for example young males and well-paying females had relatively high survival rates among passengers included in the data.  It looks like most males who paid no Fare did not survive.  No females paid no Fare.  There were not as many older women as older men, either alive or dead.  The 80 year old man perhaps got helped off because he was so old.  In general, it appears that the proportion of surviving females was higher than that of surviving males."
   ]
  },
  {
   "cell_type": "markdown",
   "metadata": {
    "collapsed": true
   },
   "source": [
    "### Make the model"
   ]
  },
  {
   "cell_type": "markdown",
   "metadata": {},
   "source": [
    "Run logistic regression without 'age' as a feature since we're missing so many values."
   ]
  },
  {
   "cell_type": "code",
   "execution_count": 152,
   "metadata": {
    "collapsed": false
   },
   "outputs": [
    {
     "data": {
      "text/plain": [
       "['PassengerId',\n",
       " 'Survived',\n",
       " 'Age',\n",
       " 'SibSp',\n",
       " 'Parch',\n",
       " 'Fare',\n",
       " 'class_2',\n",
       " 'class_3',\n",
       " 'male',\n",
       " 'embark_Q',\n",
       " 'embark_S',\n",
       " 'Miss',\n",
       " 'Mr',\n",
       " 'Mrs',\n",
       " 'Officer',\n",
       " 'Royalty']"
      ]
     },
     "execution_count": 152,
     "metadata": {},
     "output_type": "execute_result"
    }
   ],
   "source": [
    "list(titanic.columns)"
   ]
  },
  {
   "cell_type": "code",
   "execution_count": 153,
   "metadata": {
    "collapsed": false
   },
   "outputs": [],
   "source": [
    "preX = titanic.drop(['Survived', 'Age'], axis = 1)\n",
    "\n",
    "X = pd.DataFrame(preprocessing.scale(preX), columns = preX.columns)\n",
    "\n",
    "y = titanic['Survived']"
   ]
  },
  {
   "cell_type": "code",
   "execution_count": 154,
   "metadata": {
    "collapsed": false
   },
   "outputs": [
    {
     "data": {
      "image/png": "[encoded data removed]",
      "text/plain": [
       "<matplotlib.figure.Figure at 0x14856b090>"
      ]
     },
     "metadata": {},
     "output_type": "display_data"
    }
   ],
   "source": [
    "plt.figure(figsize = (12, 8))\n",
    "corr_mat = np.tril(X.corr(), k=-1)\n",
    "sns.heatmap(corr_mat, cmap = 'seismic')\n",
    "plt.title('Titanic: Feature Correlations', fontsize = 24)\n",
    "plt.xticks(np.arange(0.5, 13.5, 1), X.columns, fontsize = 14, rotation = 90)\n",
    "plt.yticks(np.arange(0.5, 13.5, 1), list(X.columns)[::-1], fontsize = 14, rotation = 0)\n",
    "plt.show()"
   ]
  },
  {
   "cell_type": "code",
   "execution_count": 155,
   "metadata": {
    "collapsed": true
   },
   "outputs": [],
   "source": [
    "X_train, X_test, y_train, y_test = train_test_split(X, y, test_size = 0.33, random_state = 42)"
   ]
  },
  {
   "cell_type": "code",
   "execution_count": 156,
   "metadata": {
    "collapsed": false
   },
   "outputs": [
    {
     "name": "stdout",
     "output_type": "stream",
     "text": [
      "accuracy: 0.816498316498\n",
      "LogisticRegression(C=5, class_weight=None, dual=False, fit_intercept=True,\n",
      "          intercept_scaling=1, max_iter=100, multi_class='ovr', n_jobs=-1,\n",
      "          penalty='l1', random_state=None, solver='liblinear', tol=0.0001,\n",
      "          verbose=0, warm_start=False)\n"
     ]
    }
   ],
   "source": [
    "penalty = np.array(['l1', 'l2'])\n",
    "C = np.array([1, 2, 5, 8, 10, 100, 1000, 10000])\n",
    "\n",
    "model = linear_model.LogisticRegression(fit_intercept = True, n_jobs = -1)\n",
    "grid = GridSearchCV(estimator=model, param_grid=dict(C=C, penalty=penalty))\n",
    "grid.fit(X_train, y_train)\n",
    "# summarize the results of the grid search\n",
    "print 'accuracy: %s' %grid.best_score_ \n",
    "print grid.best_estimator_"
   ]
  },
  {
   "cell_type": "code",
   "execution_count": 157,
   "metadata": {
    "collapsed": false
   },
   "outputs": [
    {
     "data": {
      "text/plain": [
       "Index([u'SibSp', u'class_3', u'Mr', u'Officer'], dtype='object')"
      ]
     },
     "execution_count": 157,
     "metadata": {},
     "output_type": "execute_result"
    }
   ],
   "source": [
    "selector = RFECV(grid.best_estimator_, step=1, cv=5)\n",
    "selector.fit(X_train, y_train)\n",
    "X.columns[selector.support_]"
   ]
  },
  {
   "cell_type": "code",
   "execution_count": 158,
   "metadata": {
    "collapsed": false
   },
   "outputs": [],
   "source": [
    "X2 = X[X.columns[selector.support_]]\n",
    "\n",
    "X2_train, X2_test, y_train, y_test = train_test_split(X2, y, test_size = 0.33, random_state = 42)"
   ]
  },
  {
   "cell_type": "code",
   "execution_count": 159,
   "metadata": {
    "collapsed": false
   },
   "outputs": [
    {
     "name": "stdout",
     "output_type": "stream",
     "text": [
      "accuracy: 0.814814814815\n",
      "LogisticRegression(C=1, class_weight=None, dual=False, fit_intercept=True,\n",
      "          intercept_scaling=1, max_iter=100, multi_class='ovr', n_jobs=-1,\n",
      "          penalty='l1', random_state=None, solver='liblinear', tol=0.0001,\n",
      "          verbose=0, warm_start=False)\n"
     ]
    }
   ],
   "source": [
    "model = linear_model.LogisticRegression(fit_intercept = True, n_jobs = -1)\n",
    "grid2 = GridSearchCV(estimator=model, param_grid=dict(C=C, penalty=penalty))\n",
    "grid2.fit(X2_train, y_train)\n",
    "# summarize the results of the grid search\n",
    "print 'accuracy: %s' %grid2.best_score_ \n",
    "print grid2.best_estimator_"
   ]
  },
  {
   "cell_type": "code",
   "execution_count": 160,
   "metadata": {
    "collapsed": false
   },
   "outputs": [
    {
     "data": {
      "text/plain": [
       "array([[-0.53690028, -0.78263547, -1.4385693 , -0.48267101]])"
      ]
     },
     "execution_count": 160,
     "metadata": {},
     "output_type": "execute_result"
    }
   ],
   "source": [
    "grid2 = grid2.best_estimator_\n",
    "\n",
    "grid2.fit(X2_train, y_train)\n",
    "\n",
    "grid2.coef_"
   ]
  },
  {
   "cell_type": "code",
   "execution_count": 161,
   "metadata": {
    "collapsed": false
   },
   "outputs": [
    {
     "data": {
      "text/html": [
       "<div>\n",
       "<table border=\"1\" class=\"dataframe\">\n",
       "  <thead>\n",
       "    <tr style=\"text-align: right;\">\n",
       "      <th></th>\n",
       "      <th>coef</th>\n",
       "      <th>abs_coef</th>\n",
       "    </tr>\n",
       "  </thead>\n",
       "  <tbody>\n",
       "    <tr>\n",
       "      <th>Mr</th>\n",
       "      <td>-1.438569</td>\n",
       "      <td>1.438569</td>\n",
       "    </tr>\n",
       "    <tr>\n",
       "      <th>class_3</th>\n",
       "      <td>-0.782635</td>\n",
       "      <td>0.782635</td>\n",
       "    </tr>\n",
       "    <tr>\n",
       "      <th>SibSp</th>\n",
       "      <td>-0.536900</td>\n",
       "      <td>0.536900</td>\n",
       "    </tr>\n",
       "    <tr>\n",
       "      <th>Officer</th>\n",
       "      <td>-0.482671</td>\n",
       "      <td>0.482671</td>\n",
       "    </tr>\n",
       "  </tbody>\n",
       "</table>\n",
       "</div>"
      ],
      "text/plain": [
       "             coef  abs_coef\n",
       "Mr      -1.438569  1.438569\n",
       "class_3 -0.782635  0.782635\n",
       "SibSp   -0.536900  0.536900\n",
       "Officer -0.482671  0.482671"
      ]
     },
     "execution_count": 161,
     "metadata": {},
     "output_type": "execute_result"
    }
   ],
   "source": [
    "coefs = pd.DataFrame(grid2.coef_).T\n",
    "coefs.index = X2.columns\n",
    "coefs.columns = ['coef']\n",
    "coefs['abs_coef'] = coefs['coef'].apply(lambda x: abs(x))\n",
    "coefs = coefs.sort_values(by = 'abs_coef', ascending = False)\n",
    "\n",
    "coefs"
   ]
  },
  {
   "cell_type": "code",
   "execution_count": 162,
   "metadata": {
    "collapsed": false
   },
   "outputs": [
    {
     "data": {
      "image/png": "[encoded data removed]",
      "text/plain": [
       "<matplotlib.figure.Figure at 0x119120810>"
      ]
     },
     "metadata": {},
     "output_type": "display_data"
    }
   ],
   "source": [
    "plt.figure(figsize=(12,8))\n",
    "\n",
    "feature_set = X2\n",
    "N = len(feature_set.columns)\n",
    "ind = np.arange(N)    # x locations\n",
    "width = 0.4       # the width of the bars\n",
    "\n",
    "plt.bar(ind, coefs['coef'], width)\n",
    "\n",
    "plt.ylabel('Coefficient', fontsize = 20)\n",
    "plt.title('Titanic Regressors: Feature Coefficient', fontsize = 24, y = 1.03)\n",
    "plt.xticks(ind + 0.18, coefs.index, fontsize = 14, rotation = 90)\n",
    "plt.xlim([-0.5, len(feature_set.columns) + 0.5])\n",
    "#plt.yticks(np.arange(0, 1.4, 0.2), fontsize = 14)\n",
    "plt.ylim([min(coefs['coef']), .1])\n",
    "plt.xlabel('Feature', fontsize = 20)\n",
    "\n",
    "plt.grid(which='major', axis = 'x')\n",
    "\n",
    "plt.axhline(0, linewidth = 2, color = 'black', alpha = 0.4)\n",
    "\n",
    "plt.show()"
   ]
  },
  {
   "cell_type": "code",
   "execution_count": 163,
   "metadata": {
    "collapsed": false
   },
   "outputs": [],
   "source": [
    "y_pred = grid2.predict(X2_test)"
   ]
  },
  {
   "cell_type": "code",
   "execution_count": 164,
   "metadata": {
    "collapsed": false
   },
   "outputs": [
    {
     "data": {
      "text/plain": [
       "array([[156,  20],\n",
       "       [ 27,  91]])"
      ]
     },
     "execution_count": 164,
     "metadata": {},
     "output_type": "execute_result"
    }
   ],
   "source": [
    "cm = confusion_matrix(y_test, y_pred)\n",
    "cm"
   ]
  },
  {
   "cell_type": "code",
   "execution_count": 165,
   "metadata": {
    "collapsed": true
   },
   "outputs": [],
   "source": [
    "def plot_confusion_matrix(cm, title='Confusion matrix', labels=['Positive','Negative'], \\\n",
    "                          cmap=plt.cm.Blues):\n",
    "    \n",
    "    plt.figure(figsize=(12,8))\n",
    "    plt.imshow(cm, interpolation='nearest', cmap=cmap)\n",
    "    \n",
    "    tick_marks = np.arange(2)\n",
    "    plt.xticks(tick_marks, labels, fontsize = 18)\n",
    "    plt.yticks(tick_marks, labels, rotation = 90, fontsize = 18)\n",
    "        \n",
    "    plt.title(title, fontsize = 24)\n",
    "    plt.ylabel('True label', fontsize = 20)\n",
    "    plt.xlabel('Predicted label', fontsize = 20)\n",
    "    plt.tight_layout()\n",
    "    \n",
    "    width, height = cm.shape\n",
    "    \n",
    "    for x in xrange(width):\n",
    "        for y in xrange(height):\n",
    "            plt.annotate(str(cm[x][y]), xy=(y, x), \n",
    "                        horizontalalignment='center',\n",
    "                        verticalalignment='center',\n",
    "                        color = 'white',\n",
    "                        fontsize=24).set_path_effects([path_effects.Stroke(linewidth=1, \\\n",
    "                            foreground='black'), path_effects.Normal()])\n",
    "    return"
   ]
  },
  {
   "cell_type": "code",
   "execution_count": 166,
   "metadata": {
    "collapsed": false
   },
   "outputs": [
    {
     "data": {
      "image/png": "[encoded data removed]",
      "text/plain": [
       "<matplotlib.figure.Figure at 0x1195dd8d0>"
      ]
     },
     "metadata": {},
     "output_type": "display_data"
    }
   ],
   "source": [
    "plot_confusion_matrix(cm, title='Titanic: Survival Confusion Matrix', \\\n",
    "                      labels=['Survived', 'Died'], cmap=plt.cm.Greens)"
   ]
  },
  {
   "cell_type": "code",
   "execution_count": 167,
   "metadata": {
    "collapsed": false
   },
   "outputs": [],
   "source": [
    "actual = pd.DataFrame(y_test)\n",
    "predicted = pd.DataFrame(y_pred, columns = ['predicted'])\n",
    "actual = actual.applymap(int)\n",
    "predicted = predicted.applymap(int)"
   ]
  },
  {
   "cell_type": "code",
   "execution_count": 168,
   "metadata": {
    "collapsed": false
   },
   "outputs": [
    {
     "data": {
      "text/plain": [
       "(array([ 0.        ,  0.11363636,  1.        ]),\n",
       " array([ 0.        ,  0.77118644,  1.        ]),\n",
       " array([2, 1, 0]))"
      ]
     },
     "execution_count": 168,
     "metadata": {},
     "output_type": "execute_result"
    }
   ],
   "source": [
    "roc = roc_curve(actual, predicted)\n",
    "roc"
   ]
  },
  {
   "cell_type": "code",
   "execution_count": 169,
   "metadata": {
    "collapsed": false
   },
   "outputs": [],
   "source": [
    "pred1 = grid2.predict_proba(X2).T[1]"
   ]
  },
  {
   "cell_type": "code",
   "execution_count": 174,
   "metadata": {
    "collapsed": true
   },
   "outputs": [],
   "source": [
    "def getROCcurve(roc, title='ROC Curve', xlabel='% False Positives', ylabel='% True Positives'):\n",
    "    fpr, tpr, thresholds = roc\n",
    "    \n",
    "    fig,ax = plt.subplots()\n",
    "    ax.plot(fpr, tpr, label='ROC Curve')\n",
    "\n",
    "    fig.set_size_inches(7, 6, forward=True)\n",
    "    plt.xlabel(xlabel)\n",
    "    plt.ylabel(ylabel)\n",
    "    plt.title(title)\n",
    "#    plt.legend(loc='best')\n",
    "    plt.plot([0, 1], [0, 1], 'k--', linewidth = 0.4, color = 'magenta')\n",
    "    return"
   ]
  },
  {
   "cell_type": "code",
   "execution_count": 175,
   "metadata": {
    "collapsed": false
   },
   "outputs": [
    {
     "data": {
      "image/png": "[encoded data removed]",
      "text/plain": [
       "<matplotlib.figure.Figure at 0x11b5b49d0>"
      ]
     },
     "metadata": {},
     "output_type": "display_data"
    }
   ],
   "source": [
    "getROCcurve(roc, title='ROC Curve (L1 penalty)', xlabel ='% of False Positives', \\\n",
    "            ylabel = '% of True Positives')"
   ]
  },
  {
   "cell_type": "code",
   "execution_count": 172,
   "metadata": {
    "collapsed": false
   },
   "outputs": [
    {
     "name": "stdout",
     "output_type": "stream",
     "text": [
      "             precision    recall  f1-score   support\n",
      "\n",
      "          0       0.85      0.89      0.87       176\n",
      "          1       0.82      0.77      0.79       118\n",
      "\n",
      "avg / total       0.84      0.84      0.84       294\n",
      "\n"
     ]
    }
   ],
   "source": [
    "print classification_report(actual, predicted)"
   ]
  }
 ],
 "metadata": {
  "kernelspec": {
   "display_name": "Python 2",
   "language": "python",
   "name": "python2"
  },
  "language_info": {
   "codemirror_mode": {
    "name": "ipython",
    "version": 2
   },
   "file_extension": ".py",
   "mimetype": "text/x-python",
   "name": "python",
   "nbconvert_exporter": "python",
   "pygments_lexer": "ipython2",
   "version": "2.7.12"
  }
 },
 "nbformat": 4,
 "nbformat_minor": 0
}
