{
 "cells": [
  {
   "cell_type": "code",
   "execution_count": 1,
   "metadata": {
    "collapsed": true
   },
   "outputs": [],
   "source": [
    "import pandas as pd\n",
    "import datetime\n",
    "import requests\n",
    "import bs4\n",
    "from bs4 import BeautifulSoup, Comment\n",
    "import re\n",
    "import cPickle\n",
    "import time\n",
    "import os\n",
    "from matplotlib import pyplot as plt\n",
    "\n",
    "%matplotlib inline"
   ]
  },
  {
   "cell_type": "code",
   "execution_count": 3,
   "metadata": {
    "collapsed": false
   },
   "outputs": [
    {
     "name": "stdout",
     "output_type": "stream",
     "text": [
      "start time: 2017-01-26 17:11:14.480305\n",
      "\n",
      "\n",
      "done!\n",
      "\n",
      "finish time: 2017-01-26 17:11:15.517675\n",
      "\n",
      "time elapsed: 0:00:01.037370\n"
     ]
    }
   ],
   "source": [
    "URL = 'https://www.viamichelin.com'\n",
    "global_extension = '/web/Restaurants?geoboundaries=\\\n",
    "-41.7713117,-156.09375:77.389504,128.3203125&page='\n",
    "\n",
    "paths = []\n",
    "start = datetime.datetime.now()\n",
    "print 'start time: %s\\n' %start\n",
    "\n",
    "for page in range(1, 2): \n",
    "    pre_mich = requests.get(URL + global_extension + str(page))\n",
    "    pre_soup = BeautifulSoup(pre_mich.content, \"lxml\")\n",
    "    for restaurant in pre_soup.find_all('a', href=re.compile('/web/Restaurant/')):\n",
    "        path = restaurant[\"href\"]\n",
    "        paths.append(path)\n",
    "\n",
    "print '\\ndone!'\n",
    "paths = pd.DataFrame(paths)\n",
    "paths.columns = ['path']\n",
    "finish = datetime.datetime.now()\n",
    "print '\\nfinish time: %s' %finish\n",
    "print '\\ntime elapsed: %s' %(finish - start)"
   ]
  },
  {
   "cell_type": "code",
   "execution_count": 4,
   "metadata": {
    "collapsed": false
   },
   "outputs": [
    {
     "data": {
      "text/html": [
       "<div>\n",
       "<table border=\"1\" class=\"dataframe\">\n",
       "  <thead>\n",
       "    <tr style=\"text-align: right;\">\n",
       "      <th></th>\n",
       "      <th>path</th>\n",
       "    </tr>\n",
       "  </thead>\n",
       "  <tbody>\n",
       "    <tr>\n",
       "      <th>0</th>\n",
       "      <td>/web/Restaurant/Cruis-04230-Auberge_de_l_Abbay...</td>\n",
       "    </tr>\n",
       "    <tr>\n",
       "      <th>1</th>\n",
       "      <td>/web/Restaurant/Cuq_Toulza-81470-Cuq_en_Terras...</td>\n",
       "    </tr>\n",
       "    <tr>\n",
       "      <th>2</th>\n",
       "      <td>/web/Restaurant/Deauville-14800-1899-11005-41102</td>\n",
       "    </tr>\n",
       "    <tr>\n",
       "      <th>3</th>\n",
       "      <td>/web/Restaurant/Delme-57590-A_la_XIIe_Borne-11...</td>\n",
       "    </tr>\n",
       "    <tr>\n",
       "      <th>4</th>\n",
       "      <td>/web/Restaurant/Divonne_les_Bains-01220-Chatea...</td>\n",
       "    </tr>\n",
       "    <tr>\n",
       "      <th>5</th>\n",
       "      <td>/web/Restaurant/Domme-24250-L_Esplanade-11046-...</td>\n",
       "    </tr>\n",
       "    <tr>\n",
       "      <th>6</th>\n",
       "      <td>/web/Restaurant/Douarnenez-29100-Le_Clos_de_Va...</td>\n",
       "    </tr>\n",
       "    <tr>\n",
       "      <th>7</th>\n",
       "      <td>/web/Restaurant/Eguisheim-68420-Auberge_des_Tr...</td>\n",
       "    </tr>\n",
       "    <tr>\n",
       "      <th>8</th>\n",
       "      <td>/web/Restaurant/Le_Fel-12140-Auberge_du_Fel-11...</td>\n",
       "    </tr>\n",
       "    <tr>\n",
       "      <th>9</th>\n",
       "      <td>/web/Restaurant/Biarritz-64200-Le_Clos_Basque-...</td>\n",
       "    </tr>\n",
       "    <tr>\n",
       "      <th>10</th>\n",
       "      <td>/web/Restaurant/Biarritz-64200-Chez_Albert-111...</td>\n",
       "    </tr>\n",
       "    <tr>\n",
       "      <th>11</th>\n",
       "      <td>/web/Restaurant/Evian_les_Bains-74500-La_Verni...</td>\n",
       "    </tr>\n",
       "    <tr>\n",
       "      <th>12</th>\n",
       "      <td>/web/Restaurant/Biarritz-64200-Philippe-1112-4...</td>\n",
       "    </tr>\n",
       "    <tr>\n",
       "      <th>13</th>\n",
       "      <td>/web/Restaurant/Evosges-01230-L_Auberge_Campag...</td>\n",
       "    </tr>\n",
       "    <tr>\n",
       "      <th>14</th>\n",
       "      <td>/web/Restaurant/Eze-06360-La_Chevre_d_Or-11132...</td>\n",
       "    </tr>\n",
       "    <tr>\n",
       "      <th>15</th>\n",
       "      <td>/web/Restaurant/Fayence-83440-L_Escourtin-1114...</td>\n",
       "    </tr>\n",
       "    <tr>\n",
       "      <th>16</th>\n",
       "      <td>/web/Restaurant/La_Ferte_sous_Jouarre-77260-Le...</td>\n",
       "    </tr>\n",
       "    <tr>\n",
       "      <th>17</th>\n",
       "      <td>/web/Restaurant/Cocures-48400-La_Lozerette-111...</td>\n",
       "    </tr>\n",
       "    <tr>\n",
       "      <th>18</th>\n",
       "      <td>/web/Restaurant/Mousterlin-29170-L_Intemporel-...</td>\n",
       "    </tr>\n",
       "    <tr>\n",
       "      <th>19</th>\n",
       "      <td>/web/Restaurant/La_Garde_Adhemar-26700-Le_Logi...</td>\n",
       "    </tr>\n",
       "    <tr>\n",
       "      <th>20</th>\n",
       "      <td>/web/Restaurant/Gerardmer-88400-Cote_Lac-11226...</td>\n",
       "    </tr>\n",
       "    <tr>\n",
       "      <th>21</th>\n",
       "      <td>/web/Restaurant/Gordes-84220-Les_Bories-11254-...</td>\n",
       "    </tr>\n",
       "    <tr>\n",
       "      <th>22</th>\n",
       "      <td>/web/Restaurant/Gourdon-46300-Hostellerie_de_l...</td>\n",
       "    </tr>\n",
       "    <tr>\n",
       "      <th>23</th>\n",
       "      <td>/web/Restaurant/Gramat-46500-Lion_d_Or-11271-4...</td>\n",
       "    </tr>\n",
       "  </tbody>\n",
       "</table>\n",
       "</div>"
      ],
      "text/plain": [
       "                                                 path\n",
       "0   /web/Restaurant/Cruis-04230-Auberge_de_l_Abbay...\n",
       "1   /web/Restaurant/Cuq_Toulza-81470-Cuq_en_Terras...\n",
       "2    /web/Restaurant/Deauville-14800-1899-11005-41102\n",
       "3   /web/Restaurant/Delme-57590-A_la_XIIe_Borne-11...\n",
       "4   /web/Restaurant/Divonne_les_Bains-01220-Chatea...\n",
       "5   /web/Restaurant/Domme-24250-L_Esplanade-11046-...\n",
       "6   /web/Restaurant/Douarnenez-29100-Le_Clos_de_Va...\n",
       "7   /web/Restaurant/Eguisheim-68420-Auberge_des_Tr...\n",
       "8   /web/Restaurant/Le_Fel-12140-Auberge_du_Fel-11...\n",
       "9   /web/Restaurant/Biarritz-64200-Le_Clos_Basque-...\n",
       "10  /web/Restaurant/Biarritz-64200-Chez_Albert-111...\n",
       "11  /web/Restaurant/Evian_les_Bains-74500-La_Verni...\n",
       "12  /web/Restaurant/Biarritz-64200-Philippe-1112-4...\n",
       "13  /web/Restaurant/Evosges-01230-L_Auberge_Campag...\n",
       "14  /web/Restaurant/Eze-06360-La_Chevre_d_Or-11132...\n",
       "15  /web/Restaurant/Fayence-83440-L_Escourtin-1114...\n",
       "16  /web/Restaurant/La_Ferte_sous_Jouarre-77260-Le...\n",
       "17  /web/Restaurant/Cocures-48400-La_Lozerette-111...\n",
       "18  /web/Restaurant/Mousterlin-29170-L_Intemporel-...\n",
       "19  /web/Restaurant/La_Garde_Adhemar-26700-Le_Logi...\n",
       "20  /web/Restaurant/Gerardmer-88400-Cote_Lac-11226...\n",
       "21  /web/Restaurant/Gordes-84220-Les_Bories-11254-...\n",
       "22  /web/Restaurant/Gourdon-46300-Hostellerie_de_l...\n",
       "23  /web/Restaurant/Gramat-46500-Lion_d_Or-11271-4..."
      ]
     },
     "execution_count": 4,
     "metadata": {},
     "output_type": "execute_result"
    }
   ],
   "source": [
    "paths"
   ]
  },
  {
   "cell_type": "code",
   "execution_count": 6,
   "metadata": {
    "collapsed": false
   },
   "outputs": [
    {
     "name": "stdout",
     "output_type": "stream",
     "text": [
      "start time: 2017-01-26 17:12:44.849941\n"
     ]
    },
    {
     "ename": "NameError",
     "evalue": "name 'count' is not defined",
     "output_type": "error",
     "traceback": [
      "\u001b[0;31m---------------------------------------------------------------------------\u001b[0m",
      "\u001b[0;31mNameError\u001b[0m                                 Traceback (most recent call last)",
      "\u001b[0;32m<ipython-input-6-f5da09a0ae6d>\u001b[0m in \u001b[0;36m<module>\u001b[0;34m()\u001b[0m\n\u001b[1;32m     16\u001b[0m     \u001b[0mworld_soup\u001b[0m\u001b[0;34m.\u001b[0m\u001b[0mappend\u001b[0m\u001b[0;34m(\u001b[0m\u001b[0mtiny_soup\u001b[0m\u001b[0;34m)\u001b[0m\u001b[0;34m\u001b[0m\u001b[0m\n\u001b[1;32m     17\u001b[0m     \u001b[0;32mif\u001b[0m \u001b[0mi\u001b[0m\u001b[0;34m%\u001b[0m\u001b[0;36m100\u001b[0m \u001b[0;34m==\u001b[0m \u001b[0;36m0\u001b[0m\u001b[0;34m:\u001b[0m\u001b[0;34m\u001b[0m\u001b[0m\n\u001b[0;32m---> 18\u001b[0;31m         \u001b[0;32mprint\u001b[0m \u001b[0mround\u001b[0m\u001b[0;34m(\u001b[0m\u001b[0mfloat\u001b[0m\u001b[0;34m(\u001b[0m\u001b[0mcount\u001b[0m\u001b[0;34m)\u001b[0m\u001b[0;34m/\u001b[0m\u001b[0mlen\u001b[0m\u001b[0;34m(\u001b[0m\u001b[0mrange_list\u001b[0m\u001b[0;34m[\u001b[0m\u001b[0mn\u001b[0m\u001b[0;34m]\u001b[0m\u001b[0;34m)\u001b[0m\u001b[0;34m,\u001b[0m \u001b[0;36m3\u001b[0m\u001b[0;34m)\u001b[0m\u001b[0;34m,\u001b[0m\u001b[0;34m\u001b[0m\u001b[0m\n\u001b[0m\u001b[1;32m     19\u001b[0m         \u001b[0mos\u001b[0m\u001b[0;34m.\u001b[0m\u001b[0msystem\u001b[0m\u001b[0;34m(\u001b[0m\u001b[0;34m'say \"%s\"'\u001b[0m \u001b[0;34m%\u001b[0m\u001b[0;34m(\u001b[0m\u001b[0mfloat\u001b[0m\u001b[0;34m(\u001b[0m\u001b[0mcount\u001b[0m\u001b[0;34m)\u001b[0m\u001b[0;34m/\u001b[0m\u001b[0;36m100\u001b[0m\u001b[0;34m)\u001b[0m\u001b[0;34m)\u001b[0m\u001b[0;34m\u001b[0m\u001b[0m\n\u001b[1;32m     20\u001b[0m     \u001b[0mcount\u001b[0m\u001b[0;34m+=\u001b[0m \u001b[0;36m1\u001b[0m\u001b[0;34m\u001b[0m\u001b[0m\n",
      "\u001b[0;31mNameError\u001b[0m: name 'count' is not defined"
     ]
    }
   ],
   "source": [
    "URL = 'https://www.viamichelin.com'\n",
    "world_soup = []\n",
    "\n",
    "\n",
    "start = datetime.datetime.now()\n",
    "print 'start time: %s' %start\n",
    "\n",
    "for i in range(len(paths)): ## first part out of 18670\n",
    "    time.sleep(1)\n",
    "    tiny_request = requests.get(URL + paths['path'][i])\n",
    "    if str(tiny_request) != '<Response [200]>':\n",
    "        print '\\n'\n",
    "        print URL + paths['path'][i]\n",
    "        print '\\n'\n",
    "    tiny_soup = BeautifulSoup(tiny_request.content, \"lxml\")\n",
    "    world_soup.append(tiny_soup)\n",
    "    \n",
    "midway = datetime.datetime.now()\n",
    "print '\\n\\nall done!  that took %s.  pickle time...' %(midway - start)\n",
    "\n",
    "cPickle.dump(world_soup, open(name, 'wb'))\n",
    "\n",
    "finish = datetime.datetime.now()\n",
    "print '\\nfinish time: %s' %finish\n",
    "print '\\nelapsed time: %s' %(finish - start)\n",
    "os.system('say \"Finished!\"')"
   ]
  },
  {
   "cell_type": "code",
   "execution_count": null,
   "metadata": {
    "collapsed": true
   },
   "outputs": [],
   "source": []
  }
 ],
 "metadata": {
  "kernelspec": {
   "display_name": "Python 2",
   "language": "python",
   "name": "python2"
  },
  "language_info": {
   "codemirror_mode": {
    "name": "ipython",
    "version": 2
   },
   "file_extension": ".py",
   "mimetype": "text/x-python",
   "name": "python",
   "nbconvert_exporter": "python",
   "pygments_lexer": "ipython2",
   "version": "2.7.12"
  }
 },
 "nbformat": 4,
 "nbformat_minor": 0
}
