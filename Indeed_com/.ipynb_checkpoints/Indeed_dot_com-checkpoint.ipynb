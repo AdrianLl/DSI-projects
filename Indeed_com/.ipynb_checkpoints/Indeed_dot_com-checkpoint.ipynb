{
 "cells": [
  {
   "cell_type": "markdown",
   "metadata": {
    "focus": false,
    "id": "69b9a648-bcc7-490d-9f9b-ea244d156bd6"
   },
   "source": [
    "# Indeed.com -- Salary Prediction"
   ]
  },
  {
   "cell_type": "code",
   "execution_count": 1,
   "metadata": {
    "collapsed": false,
    "focus": false,
    "id": "2efefc73-064a-482d-b3b5-ddf5508cb4ec"
   },
   "outputs": [],
   "source": [
    "import pandas as pd\n",
    "import numpy as np\n",
    "import time\n",
    "import datetime\n",
    "import requests\n",
    "from bs4 import BeautifulSoup\n",
    "import re\n",
    "\n",
    "from scipy.stats import gaussian_kde\n",
    "\n",
    "from matplotlib import pyplot as plt\n",
    "from matplotlib import cm as cm2\n",
    "from matplotlib import patheffects\n",
    "\n",
    "from sklearn.metrics import accuracy_score, precision_score, recall_score, mean_squared_error, \\\n",
    "                                    roc_auc_score, roc_curve, confusion_matrix\n",
    "from sklearn.model_selection import train_test_split, cross_val_predict, cross_val_score\n",
    "from sklearn import preprocessing, linear_model\n",
    "\n",
    "%matplotlib inline"
   ]
  },
  {
   "cell_type": "markdown",
   "metadata": {
    "collapsed": true,
    "focus": false,
    "id": "a9aa87ec-3575-4a01-a986-eb684f2c47d0"
   },
   "source": [
    "Let's scrape Indeed.com 'Data Scientist' job listings for the [top 25 most-populous cities](https://en.wikipedia.org/wiki/List_of_United_States_cities_by_population) in the United States, up to a maximum of 1000 results per city.  Here are some functions we will use to process the scrapes:"
   ]
  },
  {
   "cell_type": "code",
   "execution_count": 2,
   "metadata": {
    "collapsed": false
   },
   "outputs": [],
   "source": [
    "def get_jobtitle(result):\n",
    "    '''This function constructs a list containing each job title.'''\n",
    "    jobtitle_list = []\n",
    "    try:\n",
    "        for i in result.findAll('a', class_ = 'jobtitle turnstileLink'): \n",
    "            jobtitle_list.append(str(i.text.encode('utf8')))\n",
    "    except:\n",
    "        jobtitle_list.append(None)\n",
    "    return jobtitle_list\n",
    "\n",
    "def get_location(result):\n",
    "    '''This function constructs a list containing each job location.'''\n",
    "    location_list = []\n",
    "    try:\n",
    "        for i in result.findAll('span', class_ = 'location'):\n",
    "            location_list.append(str(i.text.encode('utf8')))\n",
    "    except:\n",
    "        location_list.append(None)\n",
    "    return location_list\n",
    "\n",
    "def get_company(result):   \n",
    "    '''This function constructs a list containing each job company.'''\n",
    "    company_list = []\n",
    "    try:\n",
    "        for i in result.findAll('span', class_ = 'company'):\n",
    "            company = str(i.text.encode('utf8'))\n",
    "            company = company.replace('\\n', '')\n",
    "            company = company.replace('    ', '')\n",
    "            company_list.append(company)\n",
    "    except:\n",
    "        company_list.append(None)\n",
    "    return company_list\n",
    "    \n",
    "def get_salary(result):\n",
    "    '''This function constructs a list containing each job salary.'''\n",
    "    salary_list = []\n",
    "    try:\n",
    "        for i in result.findAll('td', class_ = 'snip'):\n",
    "            try:\n",
    "                salary_list.append(i.find('nobr').text)\n",
    "            except:\n",
    "                salary_list.append(None)\n",
    "    except:\n",
    "        salary_list.append(None)\n",
    "    return salary_list\n",
    "\n",
    "def putitalltogether(result):\n",
    "    '''This function creates a dataframe whose columns are the lists produced \\\n",
    "    by the functions it contains.'''\n",
    "    jobs = get_jobtitle(result)\n",
    "    locations = get_location(result)\n",
    "    companies = get_company(result)\n",
    "    salaries = get_salary(result)\n",
    "    df = pd.DataFrame(zip(jobs, locations, companies, salaries),\\\n",
    "                        columns = ['title', 'location', 'company', 'salary']) \n",
    "    return df"
   ]
  },
  {
   "cell_type": "code",
   "execution_count": 3,
   "metadata": {
    "collapsed": false,
    "focus": false,
    "id": "04b0f9af-540e-402f-8292-81748707c676"
   },
   "outputs": [],
   "source": [
    "# url_template = ['http://www.indeed.com/jobs?q=data+scientist&l=', '&start=']\n",
    "\n",
    "# max_results_per_city = 1000\n",
    "\n",
    "# ## Create empty dataframe with the columns we want; \\\n",
    "# ## concatenate to it the new one generated for each city\n",
    "\n",
    "# df = pd.DataFrame(columns=['title', 'location', 'company', 'salary', 'city', 'state'])\n",
    "\n",
    "# count = 0\n",
    "\n",
    "# starter = datetime.datetime.now()\n",
    "# print starter\n",
    "\n",
    "# cities = ['New+York,+NY', 'Los+Angeles,+CA', 'Chicago,+IL', 'Houston,+TX', 'Philadelphia,+PA', \\\n",
    "#           'Phoenix,+AZ', 'San+Antonio,+TX', 'San+Diego,+CA', 'Dallas,+TX', 'San+Jose,+CA', \\\n",
    "#           'Austin,+TX', 'Jacksonville,+FL', 'San+Francisco,+CA', 'Indianapolis,+IN', \\\n",
    "#           'Columbus,+OH', 'Fort+Worth,+TX', 'Charlotte,+NC', 'Seattle,+WA', 'Denver,+CO', \\\n",
    "#           'El+Paso,+TX', 'Detroit,+MI', 'Washington,+DC', 'Boston,+MA', 'Memphis,+TN', \\\n",
    "#           'Nashville,+TN']\n",
    "\n",
    "# for city in cities:\n",
    "#     print city.split(',')[0].replace('+', ' '),\n",
    "#     for start in range(0, max_results_per_city, 10):\n",
    "#         # Grab the results from the request (as above)\n",
    "#         URL = url_template[0] + city + url_template[1] + str(start)\n",
    "#         indeed = requests.get(URL)\n",
    "#         soup = BeautifulSoup(indeed.content, \"lxml\")\n",
    "#         # Append to the full set of results and \n",
    "#         big = putitalltogether(soup)\n",
    "#         nice_city = city.split(',')\n",
    "#         state = nice_city[1]\n",
    "#         state = state.replace('+', '')\n",
    "#         nice_city = nice_city[0]\n",
    "#         nice_city = nice_city.replace('+', ' ')\n",
    "#         big['city'] = nice_city\n",
    "#         big['state'] = state\n",
    "#         df = pd.concat([big, df], axis = 0) \n",
    "#         if count%50 == 0:\n",
    "#             print '.',\n",
    "#         count += 1\n",
    "        \n",
    "# finish = datetime.datetime.now()\n",
    "# print finish - starter\n",
    "        \n",
    "#df.to_csv('assets/indeed2017_rough.csvXXX', index = False)"
   ]
  },
  {
   "cell_type": "code",
   "execution_count": 10,
   "metadata": {
    "collapsed": false
   },
   "outputs": [
    {
     "data": {
      "text/html": [
       "<div>\n",
       "<table border=\"1\" class=\"dataframe\">\n",
       "  <thead>\n",
       "    <tr style=\"text-align: right;\">\n",
       "      <th></th>\n",
       "      <th>title</th>\n",
       "      <th>location</th>\n",
       "      <th>company</th>\n",
       "      <th>salary</th>\n",
       "      <th>city</th>\n",
       "      <th>state</th>\n",
       "    </tr>\n",
       "  </thead>\n",
       "  <tbody>\n",
       "    <tr>\n",
       "      <th>0</th>\n",
       "      <td>Certifying Scientist</td>\n",
       "      <td>Nashville, TN 37228</td>\n",
       "      <td>Aegis Sciences Corporation</td>\n",
       "      <td>NaN</td>\n",
       "      <td>Nashville</td>\n",
       "      <td>TN</td>\n",
       "    </tr>\n",
       "    <tr>\n",
       "      <th>1</th>\n",
       "      <td>Machine Learning Specialist</td>\n",
       "      <td>Nashville, TN</td>\n",
       "      <td>Advent Health Partners</td>\n",
       "      <td>NaN</td>\n",
       "      <td>Nashville</td>\n",
       "      <td>TN</td>\n",
       "    </tr>\n",
       "    <tr>\n",
       "      <th>2</th>\n",
       "      <td>NLP Data Scientist</td>\n",
       "      <td>Nashville, TN 37211</td>\n",
       "      <td>LEAD Public Schools</td>\n",
       "      <td>NaN</td>\n",
       "      <td>Nashville</td>\n",
       "      <td>TN</td>\n",
       "    </tr>\n",
       "    <tr>\n",
       "      <th>3</th>\n",
       "      <td>Data Scientist</td>\n",
       "      <td>Nashville, TN 37211</td>\n",
       "      <td>LEAD Public Schools</td>\n",
       "      <td>NaN</td>\n",
       "      <td>Nashville</td>\n",
       "      <td>TN</td>\n",
       "    </tr>\n",
       "    <tr>\n",
       "      <th>4</th>\n",
       "      <td>Data Scientist (Relocation Offered)</td>\n",
       "      <td>Nashville, TN 37232</td>\n",
       "      <td>Vanderbilt University Medical Center</td>\n",
       "      <td>NaN</td>\n",
       "      <td>Nashville</td>\n",
       "      <td>TN</td>\n",
       "    </tr>\n",
       "  </tbody>\n",
       "</table>\n",
       "</div>"
      ],
      "text/plain": [
       "                                 title             location  \\\n",
       "0                 Certifying Scientist  Nashville, TN 37228   \n",
       "1          Machine Learning Specialist        Nashville, TN   \n",
       "2                   NLP Data Scientist  Nashville, TN 37211   \n",
       "3                       Data Scientist  Nashville, TN 37211   \n",
       "4  Data Scientist (Relocation Offered)  Nashville, TN 37232   \n",
       "\n",
       "                                company salary       city state  \n",
       "0            Aegis Sciences Corporation    NaN  Nashville    TN  \n",
       "1                Advent Health Partners    NaN  Nashville    TN  \n",
       "2                   LEAD Public Schools    NaN  Nashville    TN  \n",
       "3                   LEAD Public Schools    NaN  Nashville    TN  \n",
       "4  Vanderbilt University Medical Center    NaN  Nashville    TN  "
      ]
     },
     "execution_count": 10,
     "metadata": {},
     "output_type": "execute_result"
    }
   ],
   "source": [
    "df = pd.read_csv('assets/indeed2017_rough.csv')\n",
    "orig = len(df)\n",
    "df.head()"
   ]
  },
  {
   "cell_type": "code",
   "execution_count": 11,
   "metadata": {
    "collapsed": false
   },
   "outputs": [
    {
     "name": "stdout",
     "output_type": "stream",
     "text": [
      "<class 'pandas.core.frame.DataFrame'>\n",
      "RangeIndex: 15956 entries, 0 to 15955\n",
      "Data columns (total 6 columns):\n",
      "title       15956 non-null object\n",
      "location    15956 non-null object\n",
      "company     15956 non-null object\n",
      "salary      405 non-null object\n",
      "city        15956 non-null object\n",
      "state       15956 non-null object\n",
      "dtypes: object(6)\n",
      "memory usage: 748.0+ KB\n"
     ]
    }
   ],
   "source": [
    "df.info()"
   ]
  },
  {
   "cell_type": "code",
   "execution_count": 12,
   "metadata": {
    "collapsed": false
   },
   "outputs": [
    {
     "name": "stdout",
     "output_type": "stream",
     "text": [
      "<class 'pandas.core.frame.DataFrame'>\n",
      "RangeIndex: 120 entries, 0 to 119\n",
      "Data columns (total 6 columns):\n",
      "title       120 non-null object\n",
      "location    120 non-null object\n",
      "company     120 non-null object\n",
      "salary      120 non-null object\n",
      "city        120 non-null object\n",
      "state       120 non-null object\n",
      "dtypes: object(6)\n",
      "memory usage: 5.7+ KB\n"
     ]
    }
   ],
   "source": [
    "df = df.dropna()\n",
    "df = df.drop_duplicates()\n",
    "df.reset_index(drop = True, inplace = True)\n",
    "df.info()"
   ]
  },
  {
   "cell_type": "code",
   "execution_count": 14,
   "metadata": {
    "collapsed": false
   },
   "outputs": [
    {
     "data": {
      "text/plain": [
       "0.007520681875156681"
      ]
     },
     "execution_count": 14,
     "metadata": {},
     "output_type": "execute_result"
    }
   ],
   "source": [
    "len(df)/float(orig)"
   ]
  },
  {
   "cell_type": "markdown",
   "metadata": {},
   "source": [
    "So we're automatically down to about 0.75% of the original scrape without actual cleaning."
   ]
  },
  {
   "cell_type": "markdown",
   "metadata": {
    "focus": false,
    "id": "ff98ce64-78a7-441f-a675-63464e32c834"
   },
   "source": [
    "#### Filter out the salaries that are not yearly (filter those that refer to hour)"
   ]
  },
  {
   "cell_type": "code",
   "execution_count": 15,
   "metadata": {
    "collapsed": false
   },
   "outputs": [],
   "source": [
    "df = df[df['salary'].str.contains('month') == False]\n",
    "df = df[df['salary'].str.contains('week') == False]\n",
    "df = df[df['salary'].str.contains('hour') == False]\n",
    "df = df[df['salary'].str.contains('day') == False]"
   ]
  },
  {
   "cell_type": "code",
   "execution_count": 17,
   "metadata": {
    "collapsed": false
   },
   "outputs": [
    {
     "name": "stdout",
     "output_type": "stream",
     "text": [
      "Of 96 salaries remaining, 96 are explicitly labeled as 'yearly.'\n"
     ]
    }
   ],
   "source": [
    "print 'Of %s' %len(df[df['salary'] != 'NaN']) +' salaries remaining, %s' \\\n",
    "%len(df[df['salary'].str.contains('year')]) +' are explicitly labeled as \\'yearly.\\''"
   ]
  },
  {
   "cell_type": "markdown",
   "metadata": {
    "focus": false,
    "id": "7d4bc860-b214-4f75-9cd0-b234830b1ec2"
   },
   "source": [
    "#### Write a function that takes a salary string and converts it to a number, averaging a salary range if necessary"
   ]
  },
  {
   "cell_type": "code",
   "execution_count": 18,
   "metadata": {
    "collapsed": false,
    "focus": false,
    "id": "a0f701e0-80bd-40ba-9101-4535860c0968"
   },
   "outputs": [
    {
     "data": {
      "text/plain": [
       "0    100000.0\n",
       "1    155000.0\n",
       "2    170000.0\n",
       "3    170000.0\n",
       "4    120000.0\n",
       "5     45000.0\n",
       "6    115000.0\n",
       "7    135000.0\n",
       "8     80000.0\n",
       "9     80000.0\n",
       "Name: salary, dtype: float64"
      ]
     },
     "execution_count": 18,
     "metadata": {},
     "output_type": "execute_result"
    }
   ],
   "source": [
    "df['salary'] = [x.replace('$', '') for x in df['salary']]\n",
    "df['salary'] = [x.replace(',', '') for x in df['salary']]\n",
    "df['salary'] = [x.replace(' a year', '') for x in df['salary']]\n",
    "df['salary'] = [x.split(' - ') for x in df['salary']]\n",
    "df['salary'] = [float(x[0]) if len(x) == 1 else (float(x[0]) + float(x[1]))/2.0 for x in df['salary']]\n",
    "df['salary'][0:10]"
   ]
  },
  {
   "cell_type": "code",
   "execution_count": 20,
   "metadata": {
    "collapsed": false
   },
   "outputs": [
    {
     "data": {
      "image/png": "[encoded data removed]",
      "text/plain": [
       "<matplotlib.figure.Figure at 0x11801f090>"
      ]
     },
     "metadata": {},
     "output_type": "display_data"
    }
   ],
   "source": [
    "plt.figure(figsize = (12,8))\n",
    "plt.style.use('fivethirtyeight')\n",
    "\n",
    "df['salary'].hist(bins = 9, color = 'lightsteelblue')\n",
    "\n",
    "density = gaussian_kde(df['salary'])\n",
    "xs = np.linspace(df['salary'].min(), df['salary'].max(), 1000)\n",
    "density.covariance_factor = lambda : 0.25\n",
    "density._compute_covariance()\n",
    "plt.plot(xs,density(xs)*10000000/5, linewidth = 3.0, label = 'Gauss. KDE')\n",
    "\n",
    "plt.title('Indeed.com: Histogram of \\'Data Scientist\\' Salaries', fontsize = 23, y = 1.03)\n",
    "plt.ylim([0, 27])\n",
    "plt.yticks(range(0, 30, 5), fontsize = 13)\n",
    "plt.ylabel('Count')\n",
    "plt.xlim([0, 200000])\n",
    "plt.xticks(range(20000, 240000, 20000), range(20, 220, 20), fontsize = 13)\n",
    "plt.xlabel('Salary (1000 USD)')\n",
    "\n",
    "plt.axhline(0, color = 'black', alpha = 0.6)\n",
    "plt.axvline(df['salary'].median(), color='b', linestyle='dashed', linewidth=1.0, \\\n",
    "            label = 'median')\n",
    "plt.axvline(df['salary'].mean(), color='g', linestyle='dashed', linewidth=1.0, \\\n",
    "            label = 'mean')\n",
    "\n",
    "plt.grid(which='major', axis = 'x')\n",
    "plt.legend(loc = 'best')\n",
    "plt.show()"
   ]
  },
  {
   "cell_type": "markdown",
   "metadata": {
    "focus": false,
    "id": "04563b69-f7b6-466f-9d65-fc62c9ddee6a"
   },
   "source": [
    "## Predicting salaries using Logistic Regression"
   ]
  },
  {
   "cell_type": "code",
   "execution_count": 21,
   "metadata": {
    "collapsed": false
   },
   "outputs": [
    {
     "data": {
      "text/html": [
       "<div>\n",
       "<table border=\"1\" class=\"dataframe\">\n",
       "  <thead>\n",
       "    <tr style=\"text-align: right;\">\n",
       "      <th></th>\n",
       "      <th>title</th>\n",
       "      <th>location</th>\n",
       "      <th>company</th>\n",
       "      <th>salary</th>\n",
       "      <th>city</th>\n",
       "      <th>state</th>\n",
       "    </tr>\n",
       "  </thead>\n",
       "  <tbody>\n",
       "    <tr>\n",
       "      <th>0</th>\n",
       "      <td>Chief Data Scientist</td>\n",
       "      <td>Boston, MA 02110 (Central area)</td>\n",
       "      <td>Domeyard LP</td>\n",
       "      <td>100000.0</td>\n",
       "      <td>Boston</td>\n",
       "      <td>MA</td>\n",
       "    </tr>\n",
       "    <tr>\n",
       "      <th>1</th>\n",
       "      <td>Senior Quantitative Analyst, Liberty Mutual In...</td>\n",
       "      <td>Cambridge, MA</td>\n",
       "      <td>Harnham</td>\n",
       "      <td>155000.0</td>\n",
       "      <td>Boston</td>\n",
       "      <td>MA</td>\n",
       "    </tr>\n",
       "  </tbody>\n",
       "</table>\n",
       "</div>"
      ],
      "text/plain": [
       "                                               title  \\\n",
       "0                               Chief Data Scientist   \n",
       "1  Senior Quantitative Analyst, Liberty Mutual In...   \n",
       "\n",
       "                          location      company    salary    city state  \n",
       "0  Boston, MA 02110 (Central area)  Domeyard LP  100000.0  Boston    MA  \n",
       "1                    Cambridge, MA      Harnham  155000.0  Boston    MA  "
      ]
     },
     "execution_count": 21,
     "metadata": {},
     "output_type": "execute_result"
    }
   ],
   "source": [
    "df.head(2)"
   ]
  },
  {
   "cell_type": "code",
   "execution_count": 22,
   "metadata": {
    "collapsed": false
   },
   "outputs": [
    {
     "data": {
      "image/png": "[encoded data removed]",
      "text/plain": [
       "<matplotlib.figure.Figure at 0x117c6d6d0>"
      ]
     },
     "metadata": {},
     "output_type": "display_data"
    }
   ],
   "source": [
    "plt.figure(figsize=(12,8))\n",
    "plt.style.use('fivethirtyeight')\n",
    "\n",
    "df['state'].value_counts().plot.bar(color = 'sage')\n",
    "\n",
    "plt.axhline(0, color='black', alpha = 0.6)\n",
    "\n",
    "plt.title('Indeed.com: \\'Data Scientist\\' Salary Listings, by State', fontsize = 23, y = 1.03)\n",
    "\n",
    "# y label\n",
    "plt.ylabel('Number of Listings', fontsize = 18)\n",
    "plt.yticks(range(0, 30, 5), fontsize = 14)\n",
    "plt.ylim([0, 26])\n",
    "\n",
    "# x label\n",
    "plt.xlabel('State')\n",
    "plt.xticks(rotation = 0)\n",
    "\n",
    "plt.grid(which = 'major', axis = 'x')\n",
    "\n",
    "plt.show()"
   ]
  },
  {
   "cell_type": "code",
   "execution_count": 31,
   "metadata": {
    "collapsed": false
   },
   "outputs": [
    {
     "data": {
      "image/png": "[encoded data removed]",
      "text/plain": [
       "<matplotlib.figure.Figure at 0x11aa0be90>"
      ]
     },
     "metadata": {},
     "output_type": "display_data"
    }
   ],
   "source": [
    "plt.figure(figsize=(12,8))\n",
    "plt.style.use('fivethirtyeight')\n",
    "\n",
    "df['city'].value_counts().plot.bar(color = 'thistle', alpha = 1.0)\n",
    "\n",
    "plt.axhline(0, color='black', alpha = 0.6)\n",
    "\n",
    "plt.title('Indeed.com: \\'Data Scientist\\' Salary Listings, by City', fontsize = 23, y = 1.03)\n",
    "\n",
    "# y label\n",
    "plt.ylabel('Number of Listings')\n",
    "plt.ylim([0, 15])\n",
    "\n",
    "# x label\n",
    "plt.xlabel('City')\n",
    "\n",
    "plt.grid(which = 'major', axis = 'x')\n",
    "\n",
    "plt.show()"
   ]
  },
  {
   "cell_type": "code",
   "execution_count": 33,
   "metadata": {
    "collapsed": false
   },
   "outputs": [
    {
     "name": "stdout",
     "output_type": "stream",
     "text": [
      "The minimum salary listed is 45000.0\n"
     ]
    },
    {
     "data": {
      "text/html": [
       "<div>\n",
       "<table border=\"1\" class=\"dataframe\">\n",
       "  <thead>\n",
       "    <tr style=\"text-align: right;\">\n",
       "      <th></th>\n",
       "      <th>title</th>\n",
       "      <th>location</th>\n",
       "      <th>company</th>\n",
       "      <th>salary</th>\n",
       "    </tr>\n",
       "  </thead>\n",
       "  <tbody>\n",
       "    <tr>\n",
       "      <th>5</th>\n",
       "      <td>Machine Learning Scientist</td>\n",
       "      <td>Boston, MA</td>\n",
       "      <td>Bison</td>\n",
       "      <td>45000.0</td>\n",
       "    </tr>\n",
       "    <tr>\n",
       "      <th>109</th>\n",
       "      <td>Data Science Pharma Manager</td>\n",
       "      <td>New York, NY 10018 (Clinton area)</td>\n",
       "      <td>American Federation for Aging Research</td>\n",
       "      <td>45000.0</td>\n",
       "    </tr>\n",
       "  </tbody>\n",
       "</table>\n",
       "</div>"
      ],
      "text/plain": [
       "                           title                           location  \\\n",
       "5     Machine Learning Scientist                         Boston, MA   \n",
       "109  Data Science Pharma Manager  New York, NY 10018 (Clinton area)   \n",
       "\n",
       "                                    company   salary  \n",
       "5                                     Bison  45000.0  \n",
       "109  American Federation for Aging Research  45000.0  "
      ]
     },
     "execution_count": 33,
     "metadata": {},
     "output_type": "execute_result"
    }
   ],
   "source": [
    "print 'The minimum salary listed is %s' %min(df['salary'])\n",
    "df[df['salary'] == min(df['salary'])][['title', 'location', 'company', 'salary']]"
   ]
  },
  {
   "cell_type": "code",
   "execution_count": 34,
   "metadata": {
    "collapsed": false
   },
   "outputs": [
    {
     "name": "stdout",
     "output_type": "stream",
     "text": [
      "The maximum salary listed is 200000.0\n"
     ]
    },
    {
     "data": {
      "text/html": [
       "<div>\n",
       "<table border=\"1\" class=\"dataframe\">\n",
       "  <thead>\n",
       "    <tr style=\"text-align: right;\">\n",
       "      <th></th>\n",
       "      <th>title</th>\n",
       "      <th>location</th>\n",
       "      <th>company</th>\n",
       "      <th>salary</th>\n",
       "    </tr>\n",
       "  </thead>\n",
       "  <tbody>\n",
       "    <tr>\n",
       "      <th>65</th>\n",
       "      <td>Machine Learning Scientist</td>\n",
       "      <td>San Jose, CA 95113 (Downtown area)</td>\n",
       "      <td>Jobspring Partners</td>\n",
       "      <td>200000.0</td>\n",
       "    </tr>\n",
       "  </tbody>\n",
       "</table>\n",
       "</div>"
      ],
      "text/plain": [
       "                         title                            location  \\\n",
       "65  Machine Learning Scientist  San Jose, CA 95113 (Downtown area)   \n",
       "\n",
       "               company    salary  \n",
       "65  Jobspring Partners  200000.0  "
      ]
     },
     "execution_count": 34,
     "metadata": {},
     "output_type": "execute_result"
    }
   ],
   "source": [
    "print 'The maximum salary listed is %s' %max(df['salary'])\n",
    "df[df['salary'] == max(df['salary'])][['title', 'location', 'company', 'salary']]"
   ]
  },
  {
   "cell_type": "markdown",
   "metadata": {
    "focus": false,
    "id": "c7631f51-07f2-4c79-a093-3e9bc7849a48"
   },
   "source": [
    "#### We want to predict a binary variable - whether the salary was low or high. Compute the median salary and create a new binary variable with 1 if the salary is above the median, and 0 otherwise:"
   ]
  },
  {
   "cell_type": "code",
   "execution_count": 35,
   "metadata": {
    "collapsed": true
   },
   "outputs": [],
   "source": [
    "df['is_above_median'] = [1 if x > df['salary'].median() else 0 for x in df['salary']]"
   ]
  },
  {
   "cell_type": "markdown",
   "metadata": {},
   "source": [
    "Make a list of (non-unique) terms found in 'title' entries; ignore case and symbols."
   ]
  },
  {
   "cell_type": "code",
   "execution_count": 50,
   "metadata": {
    "collapsed": false
   },
   "outputs": [],
   "source": [
    "def termify(column):\n",
    "    '''This function takes a list/series argument and returns a dataframe with two columns; \\\n",
    "    one containing each unique term found in argument column entries and the second \\\n",
    "    containing a count for that term.'''\n",
    "    all_terms = []\n",
    "    for i in df['title']:\n",
    "        x = i.lower()\n",
    "        x = re.sub(r'[^\\w]', ' ', x)\n",
    "        x = x.split(' ')\n",
    "        x = list(set(x))\n",
    "        \n",
    "        all_terms = all_terms + x\n",
    "    unique_terms = list(set(all_terms))\n",
    "    term_counts = []\n",
    "    for i in unique_terms:\n",
    "        count = all_terms.count(i)\n",
    "        term_counts.append(count)\n",
    "    count_df = pd.DataFrame([unique_terms, term_counts]).T\n",
    "    count_df.columns = ['term', 'count']\n",
    "    return count_df"
   ]
  },
  {
   "cell_type": "code",
   "execution_count": 52,
   "metadata": {
    "collapsed": false
   },
   "outputs": [
    {
     "data": {
      "text/html": [
       "<div>\n",
       "<table border=\"1\" class=\"dataframe\">\n",
       "  <thead>\n",
       "    <tr style=\"text-align: right;\">\n",
       "      <th></th>\n",
       "      <th>term</th>\n",
       "      <th>count</th>\n",
       "    </tr>\n",
       "  </thead>\n",
       "  <tbody>\n",
       "    <tr>\n",
       "      <th>65</th>\n",
       "      <td>scientist</td>\n",
       "      <td>71</td>\n",
       "    </tr>\n",
       "    <tr>\n",
       "      <th>50</th>\n",
       "      <td>data</td>\n",
       "      <td>63</td>\n",
       "    </tr>\n",
       "    <tr>\n",
       "      <th>0</th>\n",
       "      <td></td>\n",
       "      <td>33</td>\n",
       "    </tr>\n",
       "    <tr>\n",
       "      <th>14</th>\n",
       "      <td>learning</td>\n",
       "      <td>14</td>\n",
       "    </tr>\n",
       "    <tr>\n",
       "      <th>68</th>\n",
       "      <td>quantitative</td>\n",
       "      <td>12</td>\n",
       "    </tr>\n",
       "    <tr>\n",
       "      <th>30</th>\n",
       "      <td>machine</td>\n",
       "      <td>12</td>\n",
       "    </tr>\n",
       "    <tr>\n",
       "      <th>20</th>\n",
       "      <td>engineer</td>\n",
       "      <td>11</td>\n",
       "    </tr>\n",
       "    <tr>\n",
       "      <th>29</th>\n",
       "      <td>analyst</td>\n",
       "      <td>11</td>\n",
       "    </tr>\n",
       "    <tr>\n",
       "      <th>69</th>\n",
       "      <td>senior</td>\n",
       "      <td>10</td>\n",
       "    </tr>\n",
       "    <tr>\n",
       "      <th>3</th>\n",
       "      <td>nlp</td>\n",
       "      <td>7</td>\n",
       "    </tr>\n",
       "    <tr>\n",
       "      <th>63</th>\n",
       "      <td>applied</td>\n",
       "      <td>6</td>\n",
       "    </tr>\n",
       "    <tr>\n",
       "      <th>13</th>\n",
       "      <td>artificial</td>\n",
       "      <td>6</td>\n",
       "    </tr>\n",
       "    <tr>\n",
       "      <th>17</th>\n",
       "      <td>research</td>\n",
       "      <td>6</td>\n",
       "    </tr>\n",
       "    <tr>\n",
       "      <th>42</th>\n",
       "      <td>big</td>\n",
       "      <td>6</td>\n",
       "    </tr>\n",
       "    <tr>\n",
       "      <th>5</th>\n",
       "      <td>intelligence</td>\n",
       "      <td>4</td>\n",
       "    </tr>\n",
       "    <tr>\n",
       "      <th>28</th>\n",
       "      <td>liberty</td>\n",
       "      <td>4</td>\n",
       "    </tr>\n",
       "    <tr>\n",
       "      <th>24</th>\n",
       "      <td>pharma</td>\n",
       "      <td>4</td>\n",
       "    </tr>\n",
       "    <tr>\n",
       "      <th>23</th>\n",
       "      <td>mutual</td>\n",
       "      <td>4</td>\n",
       "    </tr>\n",
       "    <tr>\n",
       "      <th>41</th>\n",
       "      <td>associate</td>\n",
       "      <td>4</td>\n",
       "    </tr>\n",
       "    <tr>\n",
       "      <th>71</th>\n",
       "      <td>investments</td>\n",
       "      <td>4</td>\n",
       "    </tr>\n",
       "    <tr>\n",
       "      <th>7</th>\n",
       "      <td>science</td>\n",
       "      <td>4</td>\n",
       "    </tr>\n",
       "    <tr>\n",
       "      <th>59</th>\n",
       "      <td>manager</td>\n",
       "      <td>4</td>\n",
       "    </tr>\n",
       "    <tr>\n",
       "      <th>47</th>\n",
       "      <td>relevance</td>\n",
       "      <td>3</td>\n",
       "    </tr>\n",
       "    <tr>\n",
       "      <th>54</th>\n",
       "      <td>on</td>\n",
       "      <td>3</td>\n",
       "    </tr>\n",
       "    <tr>\n",
       "      <th>31</th>\n",
       "      <td>ai</td>\n",
       "      <td>3</td>\n",
       "    </tr>\n",
       "    <tr>\n",
       "      <th>56</th>\n",
       "      <td>atmospheric</td>\n",
       "      <td>3</td>\n",
       "    </tr>\n",
       "    <tr>\n",
       "      <th>39</th>\n",
       "      <td>alexa</td>\n",
       "      <td>3</td>\n",
       "    </tr>\n",
       "    <tr>\n",
       "      <th>37</th>\n",
       "      <td>development</td>\n",
       "      <td>3</td>\n",
       "    </tr>\n",
       "    <tr>\n",
       "      <th>33</th>\n",
       "      <td>aut</td>\n",
       "      <td>3</td>\n",
       "    </tr>\n",
       "    <tr>\n",
       "      <th>64</th>\n",
       "      <td>chief</td>\n",
       "      <td>3</td>\n",
       "    </tr>\n",
       "    <tr>\n",
       "      <th>55</th>\n",
       "      <td>and</td>\n",
       "      <td>3</td>\n",
       "    </tr>\n",
       "    <tr>\n",
       "      <th>36</th>\n",
       "      <td>principal</td>\n",
       "      <td>3</td>\n",
       "    </tr>\n",
       "    <tr>\n",
       "      <th>72</th>\n",
       "      <td>software</td>\n",
       "      <td>3</td>\n",
       "    </tr>\n",
       "    <tr>\n",
       "      <th>16</th>\n",
       "      <td>programmer</td>\n",
       "      <td>3</td>\n",
       "    </tr>\n",
       "    <tr>\n",
       "      <th>27</th>\n",
       "      <td>di</td>\n",
       "      <td>3</td>\n",
       "    </tr>\n",
       "    <tr>\n",
       "      <th>10</th>\n",
       "      <td>analytics</td>\n",
       "      <td>3</td>\n",
       "    </tr>\n",
       "    <tr>\n",
       "      <th>4</th>\n",
       "      <td>researcher</td>\n",
       "      <td>3</td>\n",
       "    </tr>\n",
       "    <tr>\n",
       "      <th>43</th>\n",
       "      <td>statistician</td>\n",
       "      <td>2</td>\n",
       "    </tr>\n",
       "    <tr>\n",
       "      <th>51</th>\n",
       "      <td>junior</td>\n",
       "      <td>2</td>\n",
       "    </tr>\n",
       "    <tr>\n",
       "      <th>57</th>\n",
       "      <td>sr</td>\n",
       "      <td>2</td>\n",
       "    </tr>\n",
       "    <tr>\n",
       "      <th>8</th>\n",
       "      <td>deep</td>\n",
       "      <td>2</td>\n",
       "    </tr>\n",
       "    <tr>\n",
       "      <th>40</th>\n",
       "      <td>pharmacology</td>\n",
       "      <td>2</td>\n",
       "    </tr>\n",
       "    <tr>\n",
       "      <th>1</th>\n",
       "      <td>operations</td>\n",
       "      <td>2</td>\n",
       "    </tr>\n",
       "    <tr>\n",
       "      <th>35</th>\n",
       "      <td>developer</td>\n",
       "      <td>2</td>\n",
       "    </tr>\n",
       "    <tr>\n",
       "      <th>15</th>\n",
       "      <td>analysis</td>\n",
       "      <td>2</td>\n",
       "    </tr>\n",
       "    <tr>\n",
       "      <th>67</th>\n",
       "      <td>time</td>\n",
       "      <td>1</td>\n",
       "    </tr>\n",
       "    <tr>\n",
       "      <th>66</th>\n",
       "      <td>officer</td>\n",
       "      <td>1</td>\n",
       "    </tr>\n",
       "    <tr>\n",
       "      <th>6</th>\n",
       "      <td>availability</td>\n",
       "      <td>1</td>\n",
       "    </tr>\n",
       "    <tr>\n",
       "      <th>9</th>\n",
       "      <td>ii</td>\n",
       "      <td>1</td>\n",
       "    </tr>\n",
       "    <tr>\n",
       "      <th>70</th>\n",
       "      <td>validation</td>\n",
       "      <td>1</td>\n",
       "    </tr>\n",
       "  </tbody>\n",
       "</table>\n",
       "</div>"
      ],
      "text/plain": [
       "            term count\n",
       "65     scientist    71\n",
       "50          data    63\n",
       "0                   33\n",
       "14      learning    14\n",
       "68  quantitative    12\n",
       "30       machine    12\n",
       "20      engineer    11\n",
       "29       analyst    11\n",
       "69        senior    10\n",
       "3            nlp     7\n",
       "63       applied     6\n",
       "13    artificial     6\n",
       "17      research     6\n",
       "42           big     6\n",
       "5   intelligence     4\n",
       "28       liberty     4\n",
       "24        pharma     4\n",
       "23        mutual     4\n",
       "41     associate     4\n",
       "71   investments     4\n",
       "7        science     4\n",
       "59       manager     4\n",
       "47     relevance     3\n",
       "54            on     3\n",
       "31            ai     3\n",
       "56   atmospheric     3\n",
       "39         alexa     3\n",
       "37   development     3\n",
       "33           aut     3\n",
       "64         chief     3\n",
       "55           and     3\n",
       "36     principal     3\n",
       "72      software     3\n",
       "16    programmer     3\n",
       "27            di     3\n",
       "10     analytics     3\n",
       "4     researcher     3\n",
       "43  statistician     2\n",
       "51        junior     2\n",
       "57            sr     2\n",
       "8           deep     2\n",
       "40  pharmacology     2\n",
       "1     operations     2\n",
       "35     developer     2\n",
       "15      analysis     2\n",
       "67          time     1\n",
       "66       officer     1\n",
       "6   availability     1\n",
       "9             ii     1\n",
       "70    validation     1"
      ]
     },
     "execution_count": 52,
     "metadata": {},
     "output_type": "execute_result"
    }
   ],
   "source": [
    "title_terms = termify(df['title'])\n",
    "title_terms.sort_values(by = 'count', ascending = False)[0:50]"
   ]
  },
  {
   "cell_type": "markdown",
   "metadata": {},
   "source": [
    "Consolidate like terms (manually) and figure out which appear most frequently in the dataframe:"
   ]
  },
  {
   "cell_type": "code",
   "execution_count": null,
   "metadata": {
    "collapsed": false
   },
   "outputs": [],
   "source": [
    "def titleify(df, col_name):\n",
    "    '''This function adds column containing list of clean title terms to dataframe argument.'''\n",
    "    titles = []\n",
    "    for i in df['title']:\n",
    "        x = i.lower()\n",
    "        x = re.sub(r'[^\\w]', ' ', x)\n",
    "        titles.append(x)\n",
    "    df[col_name] = titles \n",
    "    df[col_name] = df[col_name].apply(lambda x: x.replace('sr', 'senior'))\n",
    "    df[col_name] = df[col_name].apply(lambda x: x.replace('analytics', 'anal.'))\n",
    "    df[col_name] = df[col_name].apply(lambda x: x.replace('analysis', 'anal.'))\n",
    "    df[col_name] = df[col_name].apply(lambda x: x.replace('analyst', 'anal.'))\n",
    "    df[col_name] = df[col_name].apply(lambda x: x.replace('statistical', 'stat.'))\n",
    "    df[col_name] = df[col_name].apply(lambda x: x.replace('statistician', 'stat.'))\n",
    "    df[col_name] = df[col_name].apply(lambda x: x.replace('scientist', 'sci.'))\n",
    "    df[col_name] = df[col_name].apply(lambda x: x.replace('science', 'sci.'))\n",
    "    df[col_name] = df[col_name].apply(lambda x: x.replace('pharmacology', 'pharma'))\n",
    "    df[col_name] = df[col_name].apply(lambda x: x.replace('artificial intelligence', 'art_int'))\n",
    "    df[col_name] = df[col_name].apply(lambda x: x.replace('ai', 'art_int'))\n",
    "    \n",
    "    return "
   ]
  },
  {
   "cell_type": "code",
   "execution_count": null,
   "metadata": {
    "collapsed": false
   },
   "outputs": [],
   "source": [
    "titleify(df, 'nice_title')"
   ]
  },
  {
   "cell_type": "code",
   "execution_count": null,
   "metadata": {
    "collapsed": true
   },
   "outputs": [],
   "source": [
    "terms = ['senior', 'anal.', 'big data', 'machine learning', 'quantitative', 'engineer', 'nlp', \\\n",
    "         'art_int', 'research', 'pharma', 'associate', ''"
   ]
  },
  {
   "cell_type": "code",
   "execution_count": null,
   "metadata": {
    "collapsed": false
   },
   "outputs": [],
   "source": [
    "def term_dummify(df, column_name, terms):\n",
    "    '''This function creates a dummy variable column in a dataframe df according to whether \\\n",
    "    each element in the list\\\n",
    "    found in the column whose name is provided.'''\n",
    "    for i in terms:\n",
    "        y = '(' + i + ')'\n",
    "        df[i] = df[column_name].str.extract(y) \n",
    "        df[i] = df[i].replace(i, 1)\n",
    "        df[i] = df[i].replace('NaN', 0)\n",
    "        df[i] = df[i].apply(lambda x: int(x))\n",
    "    return "
   ]
  },
  {
   "cell_type": "code",
   "execution_count": null,
   "metadata": {
    "collapsed": false
   },
   "outputs": [],
   "source": [
    "term_dummify(df, 'nice_title', terms)"
   ]
  },
  {
   "cell_type": "code",
   "execution_count": null,
   "metadata": {
    "collapsed": false
   },
   "outputs": [],
   "source": [
    "df.head(2)"
   ]
  },
  {
   "cell_type": "markdown",
   "metadata": {},
   "source": [
    "Perform a logistic regression on the salary dummy column using the term dummy columns as model features:"
   ]
  },
  {
   "cell_type": "code",
   "execution_count": null,
   "metadata": {
    "collapsed": false
   },
   "outputs": [],
   "source": [
    "X_title = pd.DataFrame(df[terms])\n",
    "X_title['intercept'] = 1\n",
    "y = df['sal_dummy'] # same target"
   ]
  },
  {
   "cell_type": "code",
   "execution_count": null,
   "metadata": {
    "collapsed": false
   },
   "outputs": [],
   "source": [
    "X_title.head(1)"
   ]
  },
  {
   "cell_type": "code",
   "execution_count": null,
   "metadata": {
    "collapsed": false
   },
   "outputs": [],
   "source": [
    "X_title.cov()"
   ]
  },
  {
   "cell_type": "code",
   "execution_count": null,
   "metadata": {
    "collapsed": false
   },
   "outputs": [],
   "source": [
    "lr = lm.LogisticRegression()\n",
    "\n",
    "X = pd.DataFrame(zip(X_title['stat.'], X_title['engineer'], X_city['San Diego']))\n",
    "X_scaled = preprocessing.scale(X)\n",
    "X_scaled = pd.DataFrame(X_scaled)\n",
    "X_scaled['intercept'] = 1\n",
    "X_scaled = X_scaled.reset_index(drop = True)\n",
    "y = df['sal_dummy']\n",
    "y = y.reset_index(drop = True)\n",
    "\n",
    "skl_model.fit(X_scaled, y)"
   ]
  },
  {
   "cell_type": "code",
   "execution_count": null,
   "metadata": {
    "collapsed": false
   },
   "outputs": [],
   "source": [
    "X_scaled['probability'] = skl_model.predict_proba(X_scaled).T[1]"
   ]
  },
  {
   "cell_type": "code",
   "execution_count": null,
   "metadata": {
    "collapsed": false
   },
   "outputs": [],
   "source": [
    "X_scaled.head()"
   ]
  },
  {
   "cell_type": "code",
   "execution_count": null,
   "metadata": {
    "collapsed": false
   },
   "outputs": [],
   "source": [
    "X_scaled.columns = ['stat.', 'engineer', 'San Diego', 'intercept', 'probability']"
   ]
  },
  {
   "cell_type": "code",
   "execution_count": null,
   "metadata": {
    "collapsed": false
   },
   "outputs": [],
   "source": [
    "predictions = skl_model.predict(X_scaled[['intercept', 'stat.', 'engineer', 'San Diego']])\n",
    "\n",
    "cm = confusion_matrix(y, predictions)\n",
    "cm"
   ]
  },
  {
   "cell_type": "code",
   "execution_count": null,
   "metadata": {
    "collapsed": false
   },
   "outputs": [],
   "source": [
    "sum(predictions)"
   ]
  },
  {
   "cell_type": "markdown",
   "metadata": {},
   "source": [
    "Therefore, the right-hand entries in the confusion matrix represent the true and false positives (since they add to the total number of 'positive' predictions)."
   ]
  },
  {
   "cell_type": "code",
   "execution_count": null,
   "metadata": {
    "collapsed": false
   },
   "outputs": [],
   "source": [
    "def plot_confusion_matrix(cm, title='Confusion matrix', labels=['Positive','Negative'], \\\n",
    "                          cmap=plt.cm.Blues):\n",
    "    \n",
    "    plt.figure(figsize=(12,8))\n",
    "    plt.imshow(cm, interpolation='nearest', cmap=cmap)\n",
    "    \n",
    "    tick_marks = np.arange(2)\n",
    "    plt.xticks(tick_marks, labels)\n",
    "    plt.yticks(tick_marks, labels)\n",
    "        \n",
    "    plt.title(title)\n",
    "    plt.ylabel('True label')\n",
    "    plt.xlabel('Predicted label')\n",
    "    plt.tight_layout()\n",
    "    \n",
    "    width, height = cm.shape\n",
    "    \n",
    "    for x in xrange(width):\n",
    "        for y in xrange(height):\n",
    "            plt.annotate(str(cm[x][y]), xy=(y, x), \n",
    "                        horizontalalignment='center',\n",
    "                        verticalalignment='center',\n",
    "                        color = 'white',\n",
    "                        fontsize=18).set_path_effects([path_effects.Stroke(linewidth=1, \\\n",
    "                            foreground='black'), path_effects.Normal()])\n",
    "    return"
   ]
  },
  {
   "cell_type": "code",
   "execution_count": null,
   "metadata": {
    "collapsed": false
   },
   "outputs": [],
   "source": [
    "plot_confusion_matrix(cm, title='Confusion matrix - Data Science Salaries (L2 penalty)', \\\n",
    "                      labels=['Under Median', 'Over Median'], cmap=plt.cm.Greens)"
   ]
  },
  {
   "cell_type": "code",
   "execution_count": null,
   "metadata": {
    "collapsed": false
   },
   "outputs": [],
   "source": [
    "roc = roc_curve(y, predictions)\n",
    "roc"
   ]
  },
  {
   "cell_type": "code",
   "execution_count": null,
   "metadata": {
    "collapsed": false
   },
   "outputs": [],
   "source": [
    "pred1 = skl_model.predict_proba(X_scaled[['intercept', 'stat.', 'engineer', 'San Diego']]).T[1]\n",
    "roc = roc_curve(y, pred1)"
   ]
  },
  {
   "cell_type": "code",
   "execution_count": null,
   "metadata": {
    "collapsed": false
   },
   "outputs": [],
   "source": [
    "def getROCcurve(roc, title='ROC Curve', xlabel ='% of False Positives', \\\n",
    "                ylabel = '% of True Positives'):\n",
    "    fpr, tpr, thresholds = roc\n",
    "    \n",
    "    fig,ax = plt.subplots()\n",
    "    ax.plot(fpr, tpr, label='ROC Curve')\n",
    "\n",
    "    fig.set_size_inches(7, 6, forward=True)\n",
    "    plt.xlabel(xlabel)\n",
    "    plt.ylabel(ylabel)\n",
    "    plt.title(title)\n",
    "    plt.legend(loc='best')\n",
    "    plt.plot([0, 1], [0, 1], 'k--', linewidth = 0.4, color = 'magenta')\n",
    "    return"
   ]
  },
  {
   "cell_type": "code",
   "execution_count": null,
   "metadata": {
    "collapsed": false
   },
   "outputs": [],
   "source": [
    "getROCcurve(roc, title='ROC Curve (L2 penalty)', xlabel ='% of False Positives', \\\n",
    "            ylabel = '% of True Positives')"
   ]
  },
  {
   "cell_type": "markdown",
   "metadata": {
    "focus": false,
    "id": "9367beff-72ba-4768-a0ba-a50b335de61d"
   },
   "source": [
    "#### Use cross-validation in scikit-learn to evaluate the model above. \n",
    "- Evaluate the accuracy, AUC, precision and recall of the model. \n",
    "- Discuss the differences and explain when you want a high-recall or a high-precision model in this scenario."
   ]
  },
  {
   "cell_type": "code",
   "execution_count": null,
   "metadata": {
    "collapsed": false
   },
   "outputs": [],
   "source": [
    "cross_val_score(skl_model, X_scaled[['intercept', 'stat.', 'engineer', 'San Diego']], \\\n",
    "                y, n_jobs=1, cv=5)"
   ]
  },
  {
   "cell_type": "code",
   "execution_count": null,
   "metadata": {
    "collapsed": false
   },
   "outputs": [],
   "source": [
    "score = cross_val_score(skl_model, X_scaled[['intercept', 'stat.', 'engineer', 'San Diego']], \\\n",
    "                        y, n_jobs=1, cv=5).mean()\n",
    "\n",
    "print 'R^2: %s' %score"
   ]
  },
  {
   "cell_type": "code",
   "execution_count": null,
   "metadata": {
    "collapsed": false
   },
   "outputs": [],
   "source": [
    "print 'accuracy: %s' %accuracy_score(y, predictions) # (TP + TN) / (P + N)\n",
    "print 'precision: %s' %precision_score(y, predictions) # TP / P\n",
    "print 'recall: %s' %recall_score(y, predictions) # TP / (TP + FN)\n",
    "print 'area under curve: %s' %roc_auc_score(y, predictions)"
   ]
  },
  {
   "cell_type": "markdown",
   "metadata": {},
   "source": [
    "This model gives us slightly better-than-random predictions about whether a given salary from our list of cities on Indeed.com will fall above or below the threshhold (median) salary.  The model's accuracy -- the rate at which it identies positives and negatives correctly -- is 0.60, or 10% better than random guessing.  Its precision -- the proportion of positives it classifies that are true positives -- is slightly higher, meaning that more of its mistakes must be made in misidentifying the negatives.  Its recall -- the probability that a true positive will be correctly classified -- is pretty low. \n",
    "\n",
    "We would want a high-recall model if we needed to be sure of correctly classifying all above-median salaries as such (e.g., misclassifying more geese as planes in order to correctly identify as many planes as possible).  If we didn't need to relocate for a move, for example, we might want to find any jobs that are likely to be over the salary threshhold while at the same time be willing to misclassify some that are below it.  A high-precision model would be useful in this salary scenario if, for example, we were considering relocating for a job and in order to focus our attention needed to be pretty sure that the salary would be over the threshhold."
   ]
  },
  {
   "cell_type": "markdown",
   "metadata": {
    "focus": false,
    "id": "8c22664b-92e4-4fc2-b7ac-fbac865845d3"
   },
   "source": [
    "#### Compare L1 and L2 regularization for this logistic regression model. What effect does this have on the coefficients learned?"
   ]
  },
  {
   "cell_type": "markdown",
   "metadata": {},
   "source": [
    "The previous model used L2 penalty (default); here we will use L1:"
   ]
  },
  {
   "cell_type": "code",
   "execution_count": null,
   "metadata": {
    "collapsed": false
   },
   "outputs": [],
   "source": [
    "X_scaled.head()"
   ]
  },
  {
   "cell_type": "code",
   "execution_count": null,
   "metadata": {
    "collapsed": false
   },
   "outputs": [],
   "source": [
    "del X_scaled['probability']"
   ]
  },
  {
   "cell_type": "code",
   "execution_count": null,
   "metadata": {
    "collapsed": false,
    "focus": false,
    "id": "172fd952-5012-4630-81f4-1206da6eb820"
   },
   "outputs": [],
   "source": [
    "skl_model_l1 = lm.LogisticRegression(penalty = 'L1')\n",
    "\n",
    "skl_model_l1.fit(X_scaled, y)"
   ]
  },
  {
   "cell_type": "code",
   "execution_count": null,
   "metadata": {
    "collapsed": false,
    "focus": false,
    "id": "56cc8854-d722-411d-a6c7-e86310710f67"
   },
   "outputs": [],
   "source": [
    "X_scaled['probability'] = skl_model_l1.predict_proba(X_scaled[['intercept', 'stat.', \\\n",
    "                                                               'engineer', 'San Diego']]).T[1]"
   ]
  },
  {
   "cell_type": "code",
   "execution_count": null,
   "metadata": {
    "collapsed": false
   },
   "outputs": [],
   "source": [
    "predictions = skl_model_l1.predict(X_scaled[['intercept', 'stat.', 'engineer', 'San Diego']])\n",
    "\n",
    "cm = confusion_matrix(y, predictions)\n",
    "cm"
   ]
  },
  {
   "cell_type": "code",
   "execution_count": null,
   "metadata": {
    "collapsed": false
   },
   "outputs": [],
   "source": [
    "plot_confusion_matrix(cm, title='Confusion matrix - Data Science Salaries (L1 penalty)', \\\n",
    "                      labels=['Under Median', 'Over Median'], cmap=plt.cm.Reds)"
   ]
  },
  {
   "cell_type": "code",
   "execution_count": null,
   "metadata": {
    "collapsed": false
   },
   "outputs": [],
   "source": [
    "roc = roc_curve(y, predictions)\n",
    "roc\n",
    "pred1 = skl_model_l1.predict_proba(X_scaled[['intercept', 'stat.', 'engineer', \\\n",
    "                                             'San Diego']]).T[1]\n",
    "roc = roc_curve(y, pred1)\n",
    "\n",
    "def getROCcurve(roc, title='ROC Curve', xlabel ='% of False Positives', \\\n",
    "                ylabel = '% of True Positives'):\n",
    "    fpr, tpr, thresholds = roc\n",
    "    \n",
    "    fig,ax = plt.subplots()\n",
    "    ax.plot(fpr, tpr, label='ROC Curve')\n",
    "\n",
    "    fig.set_size_inches(7, 6, forward=True)\n",
    "    plt.xlabel(xlabel)\n",
    "    plt.ylabel(ylabel)\n",
    "    plt.title(title)\n",
    "    plt.legend(loc='best')\n",
    "    plt.plot([0, 1], [0, 1], 'k--', linewidth = 0.4, color = 'magenta')\n",
    "    return\n",
    "getROCcurve(roc, title='ROC Curve (L1 penalty)', xlabel ='% of False Positives', \\\n",
    "            ylabel = '% of True Positives')"
   ]
  },
  {
   "cell_type": "code",
   "execution_count": null,
   "metadata": {
    "collapsed": false
   },
   "outputs": [],
   "source": [
    "cross_val_score(skl_model_l1, X_scaled[['intercept', 'stat.', 'engineer', 'San Diego']], \\\n",
    "                y, n_jobs=1, cv=5)"
   ]
  },
  {
   "cell_type": "code",
   "execution_count": null,
   "metadata": {
    "collapsed": false
   },
   "outputs": [],
   "source": [
    "score = cross_val_score(skl_model_l1, X_scaled[['intercept', 'stat.', 'engineer', \\\n",
    "                                                'San Diego']], y, n_jobs=1, cv=5).mean()\n",
    "\n",
    "print 'R^2: %s' %score"
   ]
  },
  {
   "cell_type": "code",
   "execution_count": null,
   "metadata": {
    "collapsed": false
   },
   "outputs": [],
   "source": [
    "print 'accuracy: %s' %accuracy_score(y, predictions) # (TP + TN) / (P + N)\n",
    "print 'precision: %s' %precision_score(y, predictions) # TP / P\n",
    "print 'recall: %s' %recall_score(y, predictions) # TP / (TP + FN)\n",
    "print 'area under curve: %s' %roc_auc_score(y, predictions)"
   ]
  },
  {
   "cell_type": "markdown",
   "metadata": {},
   "source": [
    "L1 vs L2 penalty does not seem to make a difference in the predictions of these models."
   ]
  },
  {
   "cell_type": "code",
   "execution_count": null,
   "metadata": {
    "collapsed": true
   },
   "outputs": [],
   "source": []
  },
  {
   "cell_type": "code",
   "execution_count": null,
   "metadata": {
    "collapsed": true
   },
   "outputs": [],
   "source": []
  },
  {
   "cell_type": "code",
   "execution_count": null,
   "metadata": {
    "collapsed": true
   },
   "outputs": [],
   "source": []
  },
  {
   "cell_type": "code",
   "execution_count": null,
   "metadata": {
    "collapsed": true
   },
   "outputs": [],
   "source": []
  },
  {
   "cell_type": "code",
   "execution_count": null,
   "metadata": {
    "collapsed": true
   },
   "outputs": [],
   "source": []
  },
  {
   "cell_type": "code",
   "execution_count": null,
   "metadata": {
    "collapsed": true
   },
   "outputs": [],
   "source": []
  },
  {
   "cell_type": "code",
   "execution_count": null,
   "metadata": {
    "collapsed": true
   },
   "outputs": [],
   "source": []
  },
  {
   "cell_type": "code",
   "execution_count": null,
   "metadata": {
    "collapsed": true
   },
   "outputs": [],
   "source": []
  },
  {
   "cell_type": "code",
   "execution_count": null,
   "metadata": {
    "collapsed": true
   },
   "outputs": [],
   "source": []
  },
  {
   "cell_type": "code",
   "execution_count": null,
   "metadata": {
    "collapsed": true
   },
   "outputs": [],
   "source": []
  },
  {
   "cell_type": "code",
   "execution_count": null,
   "metadata": {
    "collapsed": true
   },
   "outputs": [],
   "source": []
  },
  {
   "cell_type": "code",
   "execution_count": null,
   "metadata": {
    "collapsed": true
   },
   "outputs": [],
   "source": []
  }
 ],
 "metadata": {
  "kernelspec": {
   "display_name": "Python 2",
   "language": "python",
   "name": "python2"
  },
  "language_info": {
   "codemirror_mode": {
    "name": "ipython",
    "version": 2
   },
   "file_extension": ".py",
   "mimetype": "text/x-python",
   "name": "python",
   "nbconvert_exporter": "python",
   "pygments_lexer": "ipython2",
   "version": "2.7.12"
  }
 },
 "nbformat": 4,
 "nbformat_minor": 0
}
