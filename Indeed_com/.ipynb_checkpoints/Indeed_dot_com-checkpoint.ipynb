{
 "cells": [
  {
   "cell_type": "markdown",
   "metadata": {
    "focus": false,
    "id": "69b9a648-bcc7-490d-9f9b-ea244d156bd6"
   },
   "source": [
    "# Indeed.com:  Salary Prediction"
   ]
  },
  {
   "cell_type": "markdown",
   "metadata": {},
   "source": [
    "In this notebook, we'll scrape the [top 25 most-populous](https://en.wikipedia.org/wiki/List_of_United_States_cities_by_population) -- plus [several other tech-heavy](http://www.informationweek.com/big-data/big-data-analytics/10-best-us-cities-for-tech-jobs-in-2016/d/d-id/1325592) -- cities on Indeed.com for salary listings using the search term \"Data Scientist\".  Then, we'll construct a logistic regression model to predict whether a given listing will have a salary above or below the median of collected salaries."
   ]
  },
  {
   "cell_type": "markdown",
   "metadata": {},
   "source": [
    "First, we import and set up our environment:"
   ]
  },
  {
   "cell_type": "code",
   "execution_count": 1,
   "metadata": {
    "collapsed": false,
    "focus": false,
    "id": "2efefc73-064a-482d-b3b5-ddf5508cb4ec"
   },
   "outputs": [],
   "source": [
    "import pandas as pd\n",
    "import numpy as np\n",
    "import seaborn as sns\n",
    "import time\n",
    "import datetime\n",
    "import requests\n",
    "from bs4 import BeautifulSoup\n",
    "import re\n",
    "\n",
    "from scipy.stats import gaussian_kde\n",
    "from nltk.stem.porter import *\n",
    "\n",
    "from matplotlib import pyplot as plt\n",
    "from matplotlib import cm as cm2\n",
    "from matplotlib import patheffects as path_effects\n",
    "\n",
    "from sklearn.linear_model import LogisticRegression\n",
    "from sklearn.metrics import accuracy_score, precision_score, recall_score, mean_squared_error, \\\n",
    "                                    roc_auc_score, roc_curve, confusion_matrix, auc\n",
    "from sklearn.model_selection import train_test_split, cross_val_predict, cross_val_score, \\\n",
    "                                    GridSearchCV\n",
    "from sklearn import preprocessing\n",
    "from sklearn.feature_selection import SelectKBest, f_classif, RFECV\n",
    "from sklearn.svm import SVR\n",
    "\n",
    "%matplotlib inline\n",
    "\n",
    "import warnings\n",
    "warnings.filterwarnings(\"ignore\")"
   ]
  },
  {
   "cell_type": "markdown",
   "metadata": {
    "collapsed": true,
    "focus": false,
    "id": "a9aa87ec-3575-4a01-a986-eb684f2c47d0"
   },
   "source": [
    "Here are some functions we will use to process the scrapes:"
   ]
  },
  {
   "cell_type": "code",
   "execution_count": 2,
   "metadata": {
    "collapsed": false
   },
   "outputs": [],
   "source": [
    "def get_jobtitle(result):\n",
    "    '''This function constructs a list containing each job title.'''\n",
    "    jobtitle_list = []\n",
    "    try:\n",
    "        for i in result.findAll('a', class_ = 'jobtitle turnstileLink'): \n",
    "            jobtitle_list.append(str(i.text.encode('utf8')))\n",
    "    except:\n",
    "        jobtitle_list.append(None)\n",
    "    return jobtitle_list\n",
    "\n",
    "def get_location(result):\n",
    "    '''This function constructs a list containing each job location.'''\n",
    "    location_list = []\n",
    "    try:\n",
    "        for i in result.findAll('span', class_ = 'location'):\n",
    "            location_list.append(str(i.text.encode('utf8')))\n",
    "    except:\n",
    "        location_list.append(None)\n",
    "    return location_list\n",
    "\n",
    "def get_company(result):   \n",
    "    '''This function constructs a list containing each job company.'''\n",
    "    company_list = []\n",
    "    try:\n",
    "        for i in result.findAll('span', class_ = 'company'):\n",
    "            company = str(i.text.encode('utf8'))\n",
    "            company = company.replace('\\n', '')\n",
    "            company = company.replace('    ', '')\n",
    "            company_list.append(company)\n",
    "    except:\n",
    "        company_list.append(None)\n",
    "    return company_list\n",
    "    \n",
    "def get_salary(result):\n",
    "    '''This function constructs a list containing each job salary.'''\n",
    "    salary_list = []\n",
    "    try:\n",
    "        for i in result.findAll('td', class_ = 'snip'):\n",
    "            try:\n",
    "                salary_list.append(i.find('nobr').text)\n",
    "            except:\n",
    "                salary_list.append(None)\n",
    "    except:\n",
    "        salary_list.append(None)\n",
    "    return salary_list\n",
    "\n",
    "def putitalltogether(result):\n",
    "    '''This function creates a dataframe whose columns are the lists produced \\\n",
    "    by the functions it contains.'''\n",
    "    jobs = get_jobtitle(result)\n",
    "    locations = get_location(result)\n",
    "    companies = get_company(result)\n",
    "    salaries = get_salary(result)\n",
    "    df = pd.DataFrame(zip(jobs, locations, companies, salaries),\\\n",
    "                        columns = ['title', 'location', 'company', 'salary']) \n",
    "    return df"
   ]
  },
  {
   "cell_type": "code",
   "execution_count": null,
   "metadata": {
    "collapsed": false,
    "focus": false,
    "id": "04b0f9af-540e-402f-8292-81748707c676"
   },
   "outputs": [],
   "source": [
    "url_template = ['http://www.indeed.com/jobs?q=data+scientist&l=', '&start=']\n",
    "\n",
    "max_results_per_city = 1000\n",
    "\n",
    "## Create empty dataframe with the columns we want; \\\n",
    "## concatenate to it the new one generated for each city\n",
    "\n",
    "df = pd.DataFrame(columns=['title', 'location', 'company', 'salary', 'city', 'state'])\n",
    "\n",
    "count = 0\n",
    "\n",
    "starter = datetime.datetime.now()\n",
    "print starter\n",
    "\n",
    "cities = ['New+York,+NY', 'Los+Angeles,+CA', 'Chicago,+IL', 'Houston,+TX', 'Philadelphia,+PA', \\\n",
    "          'Phoenix,+AZ', 'San+Antonio,+TX', 'San+Diego,+CA', 'Dallas,+TX', 'San+Jose,+CA', \\\n",
    "          'Austin,+TX', 'Jacksonville,+FL', 'San+Francisco,+CA', 'Indianapolis,+IN', \\\n",
    "          'Columbus,+OH', 'Fort+Worth,+TX', 'Charlotte,+NC', 'Seattle,+WA', 'Denver,+CO', \\\n",
    "          'El+Paso,+TX', 'Detroit,+MI', 'Washington,+DC', 'Boston,+MA', 'Memphis,+TN', \\\n",
    "          'Nashville,+TN', 'Salt+Lake+City,+UT', 'Raleigh-Durham,+NC', \\\n",
    "          'Minneapolis-St+Paul,+MN', 'St+Louis,+MO', 'Cleveland,+OH', 'Palo+Alto,+CA', \\\n",
    "          'Mountain+View,+CA']\n",
    "\n",
    "for city in cities:\n",
    "    print city.split(',')[0].replace('+', ' '),\n",
    "    for start in range(0, max_results_per_city, 10):\n",
    "        # Grab the results from the request (as above)\n",
    "        URL = url_template[0] + city + url_template[1] + str(start)\n",
    "        indeed = requests.get(URL)\n",
    "        soup = BeautifulSoup(indeed.content, \"lxml\")\n",
    "        # Append to the full set of results and \n",
    "        big = putitalltogether(soup)\n",
    "        nice_city = city.split(',')\n",
    "        state = nice_city[1]\n",
    "        state = state.replace('+', '')\n",
    "        nice_city = nice_city[0]\n",
    "        nice_city = nice_city.replace('+', ' ')\n",
    "        big['city'] = nice_city\n",
    "        big['state'] = state\n",
    "        df = pd.concat([big, df], axis = 0) \n",
    "        if count%50 == 0:\n",
    "            print '.',\n",
    "        count += 1\n",
    "        \n",
    "finish = datetime.datetime.now()\n",
    "print finish - starter\n",
    "        \n",
    "df.to_csv('assets/indeed_rough.csv', index = False)"
   ]
  },
  {
   "cell_type": "markdown",
   "metadata": {},
   "source": [
    "The following cell loads the data frame constructed during the scrape:"
   ]
  },
  {
   "cell_type": "code",
   "execution_count": 3,
   "metadata": {
    "collapsed": false
   },
   "outputs": [
    {
     "data": {
      "text/html": [
       "<div>\n",
       "<table border=\"1\" class=\"dataframe\">\n",
       "  <thead>\n",
       "    <tr style=\"text-align: right;\">\n",
       "      <th></th>\n",
       "      <th>title</th>\n",
       "      <th>location</th>\n",
       "      <th>company</th>\n",
       "      <th>salary</th>\n",
       "      <th>city</th>\n",
       "      <th>state</th>\n",
       "    </tr>\n",
       "  </thead>\n",
       "  <tbody>\n",
       "    <tr>\n",
       "      <th>0</th>\n",
       "      <td>Data Scientist</td>\n",
       "      <td>Mountain View, CA 94039</td>\n",
       "      <td>Intuit</td>\n",
       "      <td>NaN</td>\n",
       "      <td>Mountain View</td>\n",
       "      <td>CA</td>\n",
       "    </tr>\n",
       "    <tr>\n",
       "      <th>1</th>\n",
       "      <td>Machine Learning Scientist</td>\n",
       "      <td>Sunnyvale, CA</td>\n",
       "      <td>Amazon Corporate LLC</td>\n",
       "      <td>NaN</td>\n",
       "      <td>Mountain View</td>\n",
       "      <td>CA</td>\n",
       "    </tr>\n",
       "    <tr>\n",
       "      <th>2</th>\n",
       "      <td>Quantitative Data Scientist</td>\n",
       "      <td>Palo Alto, CA 94306 (Barron Park area)</td>\n",
       "      <td>Groupon</td>\n",
       "      <td>NaN</td>\n",
       "      <td>Mountain View</td>\n",
       "      <td>CA</td>\n",
       "    </tr>\n",
       "    <tr>\n",
       "      <th>3</th>\n",
       "      <td>Data Scientist / Engineer / Statistician</td>\n",
       "      <td>Mountain View, CA</td>\n",
       "      <td>Google</td>\n",
       "      <td>NaN</td>\n",
       "      <td>Mountain View</td>\n",
       "      <td>CA</td>\n",
       "    </tr>\n",
       "    <tr>\n",
       "      <th>4</th>\n",
       "      <td>Machine Learning Engineer/ Data Scientist</td>\n",
       "      <td>Menlo Park, CA</td>\n",
       "      <td>Enfec</td>\n",
       "      <td>NaN</td>\n",
       "      <td>Mountain View</td>\n",
       "      <td>CA</td>\n",
       "    </tr>\n",
       "  </tbody>\n",
       "</table>\n",
       "</div>"
      ],
      "text/plain": [
       "                                       title  \\\n",
       "0                             Data Scientist   \n",
       "1                 Machine Learning Scientist   \n",
       "2                Quantitative Data Scientist   \n",
       "3   Data Scientist / Engineer / Statistician   \n",
       "4  Machine Learning Engineer/ Data Scientist   \n",
       "\n",
       "                                 location               company salary  \\\n",
       "0                 Mountain View, CA 94039                Intuit    NaN   \n",
       "1                           Sunnyvale, CA  Amazon Corporate LLC    NaN   \n",
       "2  Palo Alto, CA 94306 (Barron Park area)               Groupon    NaN   \n",
       "3                       Mountain View, CA                Google    NaN   \n",
       "4                          Menlo Park, CA                 Enfec    NaN   \n",
       "\n",
       "            city state  \n",
       "0  Mountain View    CA  \n",
       "1  Mountain View    CA  \n",
       "2  Mountain View    CA  \n",
       "3  Mountain View    CA  \n",
       "4  Mountain View    CA  "
      ]
     },
     "execution_count": 3,
     "metadata": {},
     "output_type": "execute_result"
    }
   ],
   "source": [
    "df = pd.read_csv('assets/indeed_rough.csv')\n",
    "orig = len(df)\n",
    "df.head()"
   ]
  },
  {
   "cell_type": "code",
   "execution_count": 4,
   "metadata": {
    "collapsed": false
   },
   "outputs": [
    {
     "name": "stdout",
     "output_type": "stream",
     "text": [
      "<class 'pandas.core.frame.DataFrame'>\n",
      "RangeIndex: 19895 entries, 0 to 19894\n",
      "Data columns (total 6 columns):\n",
      "title       19895 non-null object\n",
      "location    19895 non-null object\n",
      "company     19895 non-null object\n",
      "salary      575 non-null object\n",
      "city        19895 non-null object\n",
      "state       19895 non-null object\n",
      "dtypes: object(6)\n",
      "memory usage: 932.6+ KB\n"
     ]
    }
   ],
   "source": [
    "df.info()"
   ]
  },
  {
   "cell_type": "markdown",
   "metadata": {},
   "source": [
    "Whoa, looks like we only have 575 non-null salary entries.  Let's get rid of all observations containing empty salary cells:"
   ]
  },
  {
   "cell_type": "code",
   "execution_count": 5,
   "metadata": {
    "collapsed": false
   },
   "outputs": [
    {
     "name": "stdout",
     "output_type": "stream",
     "text": [
      "<class 'pandas.core.frame.DataFrame'>\n",
      "RangeIndex: 151 entries, 0 to 150\n",
      "Data columns (total 6 columns):\n",
      "title       151 non-null object\n",
      "location    151 non-null object\n",
      "company     151 non-null object\n",
      "salary      151 non-null object\n",
      "city        151 non-null object\n",
      "state       151 non-null object\n",
      "dtypes: object(6)\n",
      "memory usage: 7.1+ KB\n"
     ]
    }
   ],
   "source": [
    "df = df.dropna()\n",
    "df = df.drop_duplicates()\n",
    "df.reset_index(drop = True, inplace = True)\n",
    "df.info()"
   ]
  },
  {
   "cell_type": "code",
   "execution_count": 6,
   "metadata": {
    "collapsed": false
   },
   "outputs": [
    {
     "data": {
      "text/plain": [
       "0.007589846695149535"
      ]
     },
     "execution_count": 6,
     "metadata": {},
     "output_type": "execute_result"
    }
   ],
   "source": [
    "len(df)/float(orig)"
   ]
  },
  {
   "cell_type": "markdown",
   "metadata": {},
   "source": [
    "So we're already down to about 0.76% of the original scrape without any advanced cleaning!"
   ]
  },
  {
   "cell_type": "markdown",
   "metadata": {
    "focus": false,
    "id": "ff98ce64-78a7-441f-a675-63464e32c834"
   },
   "source": [
    "#### Filter out the salaries that are not yearly:"
   ]
  },
  {
   "cell_type": "code",
   "execution_count": 7,
   "metadata": {
    "collapsed": false
   },
   "outputs": [],
   "source": [
    "df = df[df['salary'].str.contains('month') == False]\n",
    "df = df[df['salary'].str.contains('week') == False]\n",
    "df = df[df['salary'].str.contains('hour') == False]\n",
    "df = df[df['salary'].str.contains('day') == False]"
   ]
  },
  {
   "cell_type": "code",
   "execution_count": 8,
   "metadata": {
    "collapsed": false
   },
   "outputs": [
    {
     "name": "stdout",
     "output_type": "stream",
     "text": [
      "Of 94 salaries remaining, 94 are explicitly labeled as 'yearly.'\n"
     ]
    }
   ],
   "source": [
    "print 'Of %s' %len(df[df['salary'] != 'NaN']) +' salaries remaining, %s' \\\n",
    "%len(df[df['salary'].str.contains('year')]) +' are explicitly labeled as \\'yearly.\\''"
   ]
  },
  {
   "cell_type": "markdown",
   "metadata": {
    "focus": false,
    "id": "7d4bc860-b214-4f75-9cd0-b234830b1ec2"
   },
   "source": [
    "#### Write a function that takes a salary string and converts it to a number, averaging a salary range if necessary"
   ]
  },
  {
   "cell_type": "code",
   "execution_count": 9,
   "metadata": {
    "collapsed": false,
    "focus": false,
    "id": "a0f701e0-80bd-40ba-9101-4535860c0968"
   },
   "outputs": [
    {
     "data": {
      "text/plain": [
       "1    210000.0\n",
       "3    170000.0\n",
       "4    175000.0\n",
       "5    160000.0\n",
       "6    175000.0\n",
       "Name: salary, dtype: float64"
      ]
     },
     "execution_count": 9,
     "metadata": {},
     "output_type": "execute_result"
    }
   ],
   "source": [
    "df['salary'] = [x.replace('$', '') for x in df['salary']]\n",
    "df['salary'] = [x.replace(',', '') for x in df['salary']]\n",
    "df['salary'] = [x.replace(' a year', '') for x in df['salary']]\n",
    "df['salary'] = [x.split(' - ') for x in df['salary']]\n",
    "df['salary'] = [float(x[0]) if len(x) == 1 else (float(x[0]) + float(x[1]))/2.0 for x in df['salary']]\n",
    "df['salary'][0:5]"
   ]
  },
  {
   "cell_type": "markdown",
   "metadata": {},
   "source": [
    "Let's see what a histogram of the salary column looks like:"
   ]
  },
  {
   "cell_type": "code",
   "execution_count": 10,
   "metadata": {
    "collapsed": false
   },
   "outputs": [
    {
     "data": {
      "image/png": "[encoded data removed]",
      "text/plain": [
       "<matplotlib.figure.Figure at 0x118b48e50>"
      ]
     },
     "metadata": {},
     "output_type": "display_data"
    }
   ],
   "source": [
    "plt.figure(figsize = (12,8))\n",
    "plt.style.use('fivethirtyeight')\n",
    "\n",
    "df['salary'].hist(bins = 12, color = 'lightsteelblue')\n",
    "\n",
    "density = gaussian_kde(df['salary'])\n",
    "xs = np.linspace(df['salary'].min(), df['salary'].max(), 1000)\n",
    "density.covariance_factor = lambda : 0.25\n",
    "density._compute_covariance()\n",
    "plt.plot(xs,density(xs)*10000000/5, linewidth = 3.0, label = 'Gaussian KDE')\n",
    "\n",
    "plt.title('Indeed.com: Histogram of \\'Data Scientist\\' Salaries', fontsize = 23, y = 1.03)\n",
    "plt.ylim([0, 27])\n",
    "plt.yticks(range(0, 30, 5), fontsize = 13)\n",
    "plt.ylabel('Count')\n",
    "plt.xlim([0, 200000])\n",
    "plt.xticks(range(20000, 240000, 20000), range(20, 220, 20), fontsize = 13)\n",
    "plt.xlabel('Salary (1000 USD)')\n",
    "\n",
    "plt.axhline(0, color = 'black', alpha = 0.6)\n",
    "plt.axvline(df['salary'].median(), color='b', linestyle='dashed', linewidth=1.0, \\\n",
    "            label = 'median')\n",
    "plt.axvline(df['salary'].mean(), color='g', linestyle='dashed', linewidth=1.0, \\\n",
    "            label = 'mean')\n",
    "\n",
    "plt.grid(which='major', axis = 'x')\n",
    "plt.legend(loc = 'best', fontsize = 14)\n",
    "plt.show()"
   ]
  },
  {
   "cell_type": "markdown",
   "metadata": {},
   "source": [
    "Hmmm, maybe those are local maxima at Bachelor's, Master's, and Doctoral degrees?  Let's examine companies:"
   ]
  },
  {
   "cell_type": "code",
   "execution_count": 11,
   "metadata": {
    "collapsed": false
   },
   "outputs": [
    {
     "data": {
      "text/plain": [
       "The University of Arizona                                7\n",
       "Jobspring Partners                                       6\n",
       "Red Oak Strategic                                        5\n",
       "University Of Utah                                       5\n",
       "W3Global                                                 4\n",
       "Cottonwood Financial                                     4\n",
       "LT                                                       4\n",
       "Workbridge Associates                                    4\n",
       "Harnham                                                  3\n",
       "Washington University in St. Louis                       3\n",
       "Syntelli Solutions, Inc                                  3\n",
       "Lighthouse Recruiting                                    2\n",
       "University of Utah                                       2\n",
       "TW STAFFING SOLUTIONS,INC                                2\n",
       "MD Anderson Cancer Center                                1\n",
       "Phoenix 2.0                                              1\n",
       "Salt Lake County                                         1\n",
       "Oscar Technology                                         1\n",
       "The Ohio State University                                1\n",
       "Intechriti                                               1\n",
       "Worldlink Inc.                                           1\n",
       "RASS BIOSOLUTION PVT LTD                                 1\n",
       "Computer Enterprises, Inc.                               1\n",
       "Tandem Recruiting Group                                  1\n",
       "Asset Recovery Advisors, Inc.                            1\n",
       "Mastech Digital                                          1\n",
       "BlackLine Systems                                        1\n",
       "Kennedy Unlimited Inc, Professional Staffing             1\n",
       "University of North Carolina                             1\n",
       "DEPARTMENT OF FINANCE                                    1\n",
       "G2 Web Services, LLC                                     1\n",
       "Intelletec LLC                                           1\n",
       "VROOM                                                    1\n",
       "All Chicago                                              1\n",
       "The LaSalle Network                                      1\n",
       "iiTS                                                     1\n",
       "Arizona Health Care Cost Containment System              1\n",
       "MDRC                                                     1\n",
       "Elevano                                                  1\n",
       "Whiz Finder Corporation                                  1\n",
       "Altair Engineering                                       1\n",
       "DEPT OF ENVIRONMENT PROTECTION                           1\n",
       "SiteLock                                                 1\n",
       "Averity                                                  1\n",
       "GCS                                                      1\n",
       "Teamrecruiter                                            1\n",
       "Fawkes IDM                                               1\n",
       "Nityo Infotech Services Pvt. Ltd.                        1\n",
       "National Security Agency                                 1\n",
       "Accentuate Staffing                                      1\n",
       "Center for Latino Adolescent and Family Health - N...    1\n",
       "EJR Search Partners                                      1\n",
       "Strategic Employment Partners                            1\n",
       "Denver Public Schools                                    1\n",
       "Name: company, dtype: int64"
      ]
     },
     "execution_count": 11,
     "metadata": {},
     "output_type": "execute_result"
    }
   ],
   "source": [
    "df['company'].value_counts()"
   ]
  },
  {
   "cell_type": "markdown",
   "metadata": {},
   "source": [
    "We'll leave that alone for now since there are so many distinct listings.  Now, let's see a bar chart of all the states included in the scrape:"
   ]
  },
  {
   "cell_type": "code",
   "execution_count": 12,
   "metadata": {
    "collapsed": false
   },
   "outputs": [
    {
     "data": {
      "image/png": "[encoded data removed]",
      "text/plain": [
       "<matplotlib.figure.Figure at 0x118b48b50>"
      ]
     },
     "metadata": {},
     "output_type": "display_data"
    }
   ],
   "source": [
    "plt.figure(figsize=(12,8))\n",
    "plt.style.use('fivethirtyeight')\n",
    "\n",
    "df['state'].value_counts().plot.bar(color = 'sage')\n",
    "\n",
    "plt.axhline(0, color='black', alpha = 0.6)\n",
    "\n",
    "plt.title('Indeed.com: \\'Data Scientist\\' Salary Listings, by State', fontsize = 23, y = 1.03)\n",
    "\n",
    "# y label\n",
    "plt.ylabel('Number of Listings', fontsize = 18)\n",
    "plt.yticks(range(0, 23, 1), fontsize = 14)\n",
    "plt.ylim([0, 22.1])\n",
    "\n",
    "# x label\n",
    "plt.xlabel('State', fontsize = 18)\n",
    "plt.xticks(rotation = 0, fontsize = 14)\n",
    "\n",
    "plt.grid(which = 'major', axis = 'x')\n",
    "\n",
    "plt.show()"
   ]
  },
  {
   "cell_type": "markdown",
   "metadata": {},
   "source": [
    "And a bar chart of all the cities included in the scrape:"
   ]
  },
  {
   "cell_type": "code",
   "execution_count": 13,
   "metadata": {
    "collapsed": false
   },
   "outputs": [
    {
     "data": {
      "image/png": "[encoded data removed]",
      "text/plain": [
       "<matplotlib.figure.Figure at 0x119465b10>"
      ]
     },
     "metadata": {},
     "output_type": "display_data"
    }
   ],
   "source": [
    "plt.figure(figsize=(12,8))\n",
    "plt.style.use('fivethirtyeight')\n",
    "\n",
    "df['city'].value_counts().plot.bar(color = 'thistle', alpha = 1.0)\n",
    "\n",
    "plt.axhline(0, color='black', alpha = 0.6)\n",
    "\n",
    "plt.title('Indeed.com: \\'Data Scientist\\' Salary Listings, by City', fontsize = 23, y = 1.03)\n",
    "\n",
    "# y label\n",
    "plt.ylabel('Number of Listings', fontsize = 18)\n",
    "plt.ylim([0, 10.1])\n",
    "plt.yticks(range(0, 11, 1), fontsize = 13)\n",
    "\n",
    "# x label\n",
    "plt.xlabel('City', fontsize = 18)\n",
    "plt.xticks(fontsize = 14)\n",
    "\n",
    "plt.grid(which = 'major', axis = 'x')\n",
    "\n",
    "plt.show()"
   ]
  },
  {
   "cell_type": "code",
   "execution_count": 14,
   "metadata": {
    "collapsed": false
   },
   "outputs": [
    {
     "name": "stdout",
     "output_type": "stream",
     "text": [
      "The minimum salary listed is 32500.0\n"
     ]
    },
    {
     "data": {
      "text/html": [
       "<div>\n",
       "<table border=\"1\" class=\"dataframe\">\n",
       "  <thead>\n",
       "    <tr style=\"text-align: right;\">\n",
       "      <th></th>\n",
       "      <th>title</th>\n",
       "      <th>location</th>\n",
       "      <th>company</th>\n",
       "      <th>salary</th>\n",
       "    </tr>\n",
       "  </thead>\n",
       "  <tbody>\n",
       "    <tr>\n",
       "      <th>48</th>\n",
       "      <td>Data Engineer</td>\n",
       "      <td>Newton, MA</td>\n",
       "      <td>Asset Recovery Advisors, Inc.</td>\n",
       "      <td>32500.0</td>\n",
       "    </tr>\n",
       "  </tbody>\n",
       "</table>\n",
       "</div>"
      ],
      "text/plain": [
       "            title    location                        company   salary\n",
       "48  Data Engineer  Newton, MA  Asset Recovery Advisors, Inc.  32500.0"
      ]
     },
     "execution_count": 14,
     "metadata": {},
     "output_type": "execute_result"
    }
   ],
   "source": [
    "print 'The minimum salary listed is %s' %min(df['salary'])\n",
    "df[df['salary'] == min(df['salary'])][['title', 'location', 'company', 'salary']]"
   ]
  },
  {
   "cell_type": "code",
   "execution_count": 15,
   "metadata": {
    "collapsed": false
   },
   "outputs": [
    {
     "name": "stdout",
     "output_type": "stream",
     "text": [
      "The maximum salary listed is 250000.0\n"
     ]
    },
    {
     "data": {
      "text/html": [
       "<div>\n",
       "<table border=\"1\" class=\"dataframe\">\n",
       "  <thead>\n",
       "    <tr style=\"text-align: right;\">\n",
       "      <th></th>\n",
       "      <th>title</th>\n",
       "      <th>location</th>\n",
       "      <th>company</th>\n",
       "      <th>salary</th>\n",
       "    </tr>\n",
       "  </thead>\n",
       "  <tbody>\n",
       "    <tr>\n",
       "      <th>111</th>\n",
       "      <td>Data Engineer/Scientist</td>\n",
       "      <td>Philadelphia, PA</td>\n",
       "      <td>Averity</td>\n",
       "      <td>250000.0</td>\n",
       "    </tr>\n",
       "  </tbody>\n",
       "</table>\n",
       "</div>"
      ],
      "text/plain": [
       "                       title          location  company    salary\n",
       "111  Data Engineer/Scientist  Philadelphia, PA  Averity  250000.0"
      ]
     },
     "execution_count": 15,
     "metadata": {},
     "output_type": "execute_result"
    }
   ],
   "source": [
    "print 'The maximum salary listed is %s' %max(df['salary'])\n",
    "df[df['salary'] == max(df['salary'])][['title', 'location', 'company', 'salary']]"
   ]
  },
  {
   "cell_type": "markdown",
   "metadata": {
    "focus": false,
    "id": "c7631f51-07f2-4c79-a093-3e9bc7849a48"
   },
   "source": [
    "#### Compute the median salary and create a new binary target variable with 1 if the salary is above the median, and 0 otherwise:"
   ]
  },
  {
   "cell_type": "code",
   "execution_count": 16,
   "metadata": {
    "collapsed": true
   },
   "outputs": [],
   "source": [
    "df['target'] = [1 if x > df['salary'].median() else 0 for x in df['salary']]"
   ]
  },
  {
   "cell_type": "code",
   "execution_count": 17,
   "metadata": {
    "collapsed": false
   },
   "outputs": [
    {
     "data": {
      "text/plain": [
       "105000.0"
      ]
     },
     "execution_count": 17,
     "metadata": {},
     "output_type": "execute_result"
    }
   ],
   "source": [
    "df['salary'].median()"
   ]
  },
  {
   "cell_type": "markdown",
   "metadata": {},
   "source": [
    "Let's see it if looks like a 50-50 split of observations:"
   ]
  },
  {
   "cell_type": "code",
   "execution_count": 18,
   "metadata": {
    "collapsed": false
   },
   "outputs": [
    {
     "data": {
      "text/plain": [
       "0    50\n",
       "1    44\n",
       "Name: target, dtype: int64"
      ]
     },
     "execution_count": 18,
     "metadata": {},
     "output_type": "execute_result"
    }
   ],
   "source": [
    "df['target'].value_counts()"
   ]
  },
  {
   "cell_type": "markdown",
   "metadata": {},
   "source": [
    "Make a list of (non-unique) terms found in 'title' entries; ignore case and symbols:"
   ]
  },
  {
   "cell_type": "code",
   "execution_count": 32,
   "metadata": {
    "collapsed": false
   },
   "outputs": [],
   "source": [
    "df['title1'] = df['title'].apply(lambda x: re.sub(r'[^\\w]', ' ', x.lower()))\n",
    "df['title1'] = df['title1'].apply(lambda x: x.lower())\n",
    "df['title1'] = df['title1'].apply(lambda x: x.replace('ai ', 'artificial intelligence '))\n",
    "df['title1'] = df['title1'].apply(lambda x: x.replace('2', 'ii'))\n",
    "df['title1'] = df['title1'].apply(lambda x: x.replace(' sr ', ' senior '))\n",
    "df['title1'] = df['title1'].apply(lambda x: x.replace(' jr ', ' junior '))\n",
    "df['title1'] = df['title1'].apply(lambda x: x.replace('and', ''))\n",
    "df['title1'] = df['title1'].apply(lambda x: list(set(x.split())))\n",
    "df['title2'] = [None]*len(df)\n",
    "\n",
    "df = df.reset_index(drop = True)\n",
    "\n",
    "stemmer = PorterStemmer()\n",
    "\n",
    "for i in range(len(df)):\n",
    "    df['title2'][i] = [x for x in df['title1'][i] if len(x) > 1]\n",
    "    df['title2'][i] = [x.strip() for x in df['title2'][i]]\n",
    "    df['title2'][i] = [stemmer.stem(x) for x in df['title2'][i]]"
   ]
  },
  {
   "cell_type": "code",
   "execution_count": 35,
   "metadata": {
    "collapsed": false
   },
   "outputs": [
    {
     "data": {
      "text/html": [
       "<div>\n",
       "<table border=\"1\" class=\"dataframe\">\n",
       "  <thead>\n",
       "    <tr style=\"text-align: right;\">\n",
       "      <th></th>\n",
       "      <th>term</th>\n",
       "      <th>count</th>\n",
       "    </tr>\n",
       "  </thead>\n",
       "  <tbody>\n",
       "    <tr>\n",
       "      <th>11</th>\n",
       "      <td>scientist</td>\n",
       "      <td>64</td>\n",
       "    </tr>\n",
       "    <tr>\n",
       "      <th>49</th>\n",
       "      <td>data</td>\n",
       "      <td>59</td>\n",
       "    </tr>\n",
       "    <tr>\n",
       "      <th>18</th>\n",
       "      <td>engin</td>\n",
       "      <td>15</td>\n",
       "    </tr>\n",
       "    <tr>\n",
       "      <th>50</th>\n",
       "      <td>analyst</td>\n",
       "      <td>14</td>\n",
       "    </tr>\n",
       "    <tr>\n",
       "      <th>63</th>\n",
       "      <td>learn</td>\n",
       "      <td>11</td>\n",
       "    </tr>\n",
       "    <tr>\n",
       "      <th>35</th>\n",
       "      <td>machin</td>\n",
       "      <td>11</td>\n",
       "    </tr>\n",
       "    <tr>\n",
       "      <th>25</th>\n",
       "      <td>research</td>\n",
       "      <td>10</td>\n",
       "    </tr>\n",
       "    <tr>\n",
       "      <th>58</th>\n",
       "      <td>quantit</td>\n",
       "      <td>8</td>\n",
       "    </tr>\n",
       "    <tr>\n",
       "      <th>4</th>\n",
       "      <td>nlp</td>\n",
       "      <td>7</td>\n",
       "    </tr>\n",
       "    <tr>\n",
       "      <th>65</th>\n",
       "      <td>senior</td>\n",
       "      <td>7</td>\n",
       "    </tr>\n",
       "    <tr>\n",
       "      <th>48</th>\n",
       "      <td>develop</td>\n",
       "      <td>7</td>\n",
       "    </tr>\n",
       "    <tr>\n",
       "      <th>5</th>\n",
       "      <td>intellig</td>\n",
       "      <td>6</td>\n",
       "    </tr>\n",
       "    <tr>\n",
       "      <th>36</th>\n",
       "      <td>model</td>\n",
       "      <td>5</td>\n",
       "    </tr>\n",
       "    <tr>\n",
       "      <th>13</th>\n",
       "      <td>artifici</td>\n",
       "      <td>5</td>\n",
       "    </tr>\n",
       "    <tr>\n",
       "      <th>10</th>\n",
       "      <td>ii</td>\n",
       "      <td>5</td>\n",
       "    </tr>\n",
       "    <tr>\n",
       "      <th>16</th>\n",
       "      <td>scienc</td>\n",
       "      <td>4</td>\n",
       "    </tr>\n",
       "    <tr>\n",
       "      <th>52</th>\n",
       "      <td>analyt</td>\n",
       "      <td>4</td>\n",
       "    </tr>\n",
       "    <tr>\n",
       "      <th>42</th>\n",
       "      <td>big</td>\n",
       "      <td>4</td>\n",
       "    </tr>\n",
       "    <tr>\n",
       "      <th>15</th>\n",
       "      <td>market</td>\n",
       "      <td>4</td>\n",
       "    </tr>\n",
       "    <tr>\n",
       "      <th>39</th>\n",
       "      <td>alexa</td>\n",
       "      <td>3</td>\n",
       "    </tr>\n",
       "    <tr>\n",
       "      <th>43</th>\n",
       "      <td>statistician</td>\n",
       "      <td>3</td>\n",
       "    </tr>\n",
       "    <tr>\n",
       "      <th>31</th>\n",
       "      <td>appli</td>\n",
       "      <td>3</td>\n",
       "    </tr>\n",
       "    <tr>\n",
       "      <th>21</th>\n",
       "      <td>associ</td>\n",
       "      <td>3</td>\n",
       "    </tr>\n",
       "    <tr>\n",
       "      <th>14</th>\n",
       "      <td>junior</td>\n",
       "      <td>3</td>\n",
       "    </tr>\n",
       "    <tr>\n",
       "      <th>8</th>\n",
       "      <td>bioinformat</td>\n",
       "      <td>3</td>\n",
       "    </tr>\n",
       "    <tr>\n",
       "      <th>6</th>\n",
       "      <td>laboratori</td>\n",
       "      <td>3</td>\n",
       "    </tr>\n",
       "    <tr>\n",
       "      <th>66</th>\n",
       "      <td>softwar</td>\n",
       "      <td>3</td>\n",
       "    </tr>\n",
       "    <tr>\n",
       "      <th>41</th>\n",
       "      <td>sk00113</td>\n",
       "      <td>2</td>\n",
       "    </tr>\n",
       "    <tr>\n",
       "      <th>32</th>\n",
       "      <td>formul</td>\n",
       "      <td>2</td>\n",
       "    </tr>\n",
       "    <tr>\n",
       "      <th>29</th>\n",
       "      <td>valid</td>\n",
       "      <td>2</td>\n",
       "    </tr>\n",
       "    <tr>\n",
       "      <th>46</th>\n",
       "      <td>applic</td>\n",
       "      <td>2</td>\n",
       "    </tr>\n",
       "    <tr>\n",
       "      <th>22</th>\n",
       "      <td>execut</td>\n",
       "      <td>2</td>\n",
       "    </tr>\n",
       "    <tr>\n",
       "      <th>12</th>\n",
       "      <td>iii</td>\n",
       "      <td>2</td>\n",
       "    </tr>\n",
       "    <tr>\n",
       "      <th>9</th>\n",
       "      <td>risk</td>\n",
       "      <td>2</td>\n",
       "    </tr>\n",
       "  </tbody>\n",
       "</table>\n",
       "</div>"
      ],
      "text/plain": [
       "            term count\n",
       "11     scientist    64\n",
       "49          data    59\n",
       "18         engin    15\n",
       "50       analyst    14\n",
       "63         learn    11\n",
       "35        machin    11\n",
       "25      research    10\n",
       "58       quantit     8\n",
       "4            nlp     7\n",
       "65        senior     7\n",
       "48       develop     7\n",
       "5       intellig     6\n",
       "36         model     5\n",
       "13      artifici     5\n",
       "10            ii     5\n",
       "16        scienc     4\n",
       "52        analyt     4\n",
       "42           big     4\n",
       "15        market     4\n",
       "39         alexa     3\n",
       "43  statistician     3\n",
       "31         appli     3\n",
       "21        associ     3\n",
       "14        junior     3\n",
       "8    bioinformat     3\n",
       "6     laboratori     3\n",
       "66       softwar     3\n",
       "41       sk00113     2\n",
       "32        formul     2\n",
       "29         valid     2\n",
       "46        applic     2\n",
       "22        execut     2\n",
       "12           iii     2\n",
       "9           risk     2"
      ]
     },
     "execution_count": 35,
     "metadata": {},
     "output_type": "execute_result"
    }
   ],
   "source": [
    "all_terms = []\n",
    "for i in df['title2']:\n",
    "    i = list(set(i))\n",
    "    all_terms = all_terms + i\n",
    "unique_terms = list(set(all_terms))\n",
    "term_counts = []\n",
    "for i in unique_terms:\n",
    "    count = all_terms.count(i)\n",
    "    term_counts.append(count)\n",
    "count_df = pd.DataFrame([unique_terms, term_counts]).T\n",
    "count_df.columns = ['term', 'count']\n",
    "count_df = count_df[count_df['count'] > 1]\n",
    "count_df = count_df.sort_values(by = 'count', ascending = False)\n",
    "count_df"
   ]
  },
  {
   "cell_type": "code",
   "execution_count": 36,
   "metadata": {
    "collapsed": false
   },
   "outputs": [],
   "source": [
    "# terms = count_df[count_df['count'] > 1]['term']            "
   ]
  },
  {
   "cell_type": "code",
   "execution_count": 37,
   "metadata": {
    "collapsed": false
   },
   "outputs": [],
   "source": [
    "def dummies(feature, terms):\n",
    "    lil_df = pd.DataFrame()\n",
    "    for term in terms:\n",
    "        name = '_' + str(term) + '_'\n",
    "        lil_df[name] = [1 if term in x else 0 for x in feature]\n",
    "    return lil_df"
   ]
  },
  {
   "cell_type": "code",
   "execution_count": 38,
   "metadata": {
    "collapsed": false
   },
   "outputs": [],
   "source": [
    "dummy_df = dummies(df['title2'], count_df['term'])"
   ]
  },
  {
   "cell_type": "code",
   "execution_count": 39,
   "metadata": {
    "collapsed": true
   },
   "outputs": [],
   "source": [
    "big_df = pd.concat([df.drop(['title1', 'title2'], axis = 1), dummy_df], axis = 1)"
   ]
  },
  {
   "cell_type": "code",
   "execution_count": 40,
   "metadata": {
    "collapsed": false
   },
   "outputs": [
    {
     "data": {
      "text/plain": [
       "state  city               \n",
       "AZ     Phoenix                 9\n",
       "CA     Los Angeles             8\n",
       "       Mountain View           5\n",
       "       Palo Alto               3\n",
       "       San Francisco           1\n",
       "       San Jose                4\n",
       "CO     Denver                  1\n",
       "DC     Washington              6\n",
       "IL     Chicago                 7\n",
       "MA     Boston                  3\n",
       "MI     Detroit                 1\n",
       "MN     Minneapolis-St Paul     4\n",
       "MO     St Louis                4\n",
       "NC     Charlotte               5\n",
       "       Raleigh-Durham          2\n",
       "NY     New York               10\n",
       "OH     Columbus                1\n",
       "PA     Philadelphia            2\n",
       "TX     Austin                  1\n",
       "       Dallas                  2\n",
       "       Fort Worth              4\n",
       "       Houston                 1\n",
       "UT     Salt Lake City          8\n",
       "WA     Seattle                 2\n",
       "Name: title, dtype: int64"
      ]
     },
     "execution_count": 40,
     "metadata": {},
     "output_type": "execute_result"
    }
   ],
   "source": [
    "df.groupby(['state', 'city'])['title'].count()"
   ]
  },
  {
   "cell_type": "code",
   "execution_count": 41,
   "metadata": {
    "collapsed": true
   },
   "outputs": [],
   "source": [
    "# CA = ['Los Angeles', 'Mountain View', 'Palo Alto', 'San Francisco', 'San Jose']\n",
    "# NC = ['Charlotte', 'Raleigh-Durham']\n",
    "# TX = ['Austin', 'Dallas', 'Fort Worth', 'Houston']\n",
    "\n",
    "# big_df['is_CA'] = [1 if x in CA else 0 for x in big_df['city']]\n",
    "# big_df['is_NC'] = [1 if x in NC else 0 for x in big_df['city']]\n",
    "# big_df['is_TX'] = [1 if x in TX else 0 for x in big_df['city']]"
   ]
  },
  {
   "cell_type": "code",
   "execution_count": 42,
   "metadata": {
    "collapsed": false
   },
   "outputs": [],
   "source": [
    "big_df = pd.concat([big_df.drop(['state'], axis = 1), \n",
    "                    pd.get_dummies(big_df['state'])], axis = 1)\n",
    "\n",
    "big_df.drop(['NY', 'city'], axis = 1, inplace = True)"
   ]
  },
  {
   "cell_type": "code",
   "execution_count": 43,
   "metadata": {
    "collapsed": false
   },
   "outputs": [
    {
     "data": {
      "text/plain": [
       "Index([u'title', u'location', u'company', u'salary', u'target', u'_scientist_',\n",
       "       u'_data_', u'_engin_', u'_analyst_', u'_learn_', u'_machin_',\n",
       "       u'_research_', u'_quantit_', u'_nlp_', u'_senior_', u'_develop_',\n",
       "       u'_intellig_', u'_model_', u'_artifici_', u'_ii_', u'_scienc_',\n",
       "       u'_analyt_', u'_big_', u'_market_', u'_alexa_', u'_statistician_',\n",
       "       u'_appli_', u'_associ_', u'_junior_', u'_bioinformat_', u'_laboratori_',\n",
       "       u'_softwar_', u'_sk00113_', u'_formul_', u'_valid_', u'_applic_',\n",
       "       u'_execut_', u'_iii_', u'_risk_', u'AZ', u'CA', u'CO', u'DC', u'IL',\n",
       "       u'MA', u'MI', u'MN', u'MO', u'NC', u'OH', u'PA', u'TX', u'UT', u'WA'],\n",
       "      dtype='object')"
      ]
     },
     "execution_count": 43,
     "metadata": {},
     "output_type": "execute_result"
    }
   ],
   "source": [
    "big_df.columns"
   ]
  },
  {
   "cell_type": "markdown",
   "metadata": {},
   "source": [
    "Perform a logistic regression on the salary dummy column using the term dummy columns as model features:"
   ]
  },
  {
   "cell_type": "code",
   "execution_count": 44,
   "metadata": {
    "collapsed": false
   },
   "outputs": [],
   "source": [
    "X = big_df.drop(['title', 'location', 'company', 'salary', 'target'], axis = 1)\n",
    "\n",
    "y = big_df['target']"
   ]
  },
  {
   "cell_type": "code",
   "execution_count": 45,
   "metadata": {
    "collapsed": false
   },
   "outputs": [
    {
     "data": {
      "image/png": "[encoded data removed]",
      "text/plain": [
       "<matplotlib.figure.Figure at 0x11950a510>"
      ]
     },
     "metadata": {},
     "output_type": "display_data"
    }
   ],
   "source": [
    "plt.figure(figsize = (12, 8))\n",
    "plt.style.use('fivethirtyeight')\n",
    "\n",
    "corr_mat = np.tril(X.corr(), k=-1)\n",
    "sns.heatmap(corr_mat, cmap = 'seismic', alpha = 0.8)\n",
    "plt.title('Indeed.com: Feature Correlations', fontsize = 24)\n",
    "plt.xticks(np.arange(0.5, len(X.columns) + 0.5, 1), X.columns, fontsize = 10, rotation = 90)\n",
    "plt.yticks(np.arange(0.5, len(X.columns) + 0.5, 1), list(X.columns)[::-1], fontsize = 10, rotation = 0)\n",
    "plt.show()"
   ]
  },
  {
   "cell_type": "code",
   "execution_count": 46,
   "metadata": {
    "collapsed": true
   },
   "outputs": [],
   "source": [
    "X_train, X_test, y_train, y_test = train_test_split(X, y, test_size = 0.3, random_state = 42)"
   ]
  },
  {
   "cell_type": "code",
   "execution_count": 47,
   "metadata": {
    "collapsed": false
   },
   "outputs": [
    {
     "ename": "ValueError",
     "evalue": "Invalid parameter penalty for estimator RFECV. Check the list of available parameters with `estimator.get_params().keys()`.",
     "output_type": "error",
     "traceback": [
      "\u001b[0;31m---------------------------------------------------------------------------\u001b[0m",
      "\u001b[0;31mValueError\u001b[0m                                Traceback (most recent call last)",
      "\u001b[0;32m<ipython-input-47-3bbbad6d068f>\u001b[0m in \u001b[0;36m<module>\u001b[0;34m()\u001b[0m\n\u001b[1;32m      7\u001b[0m \u001b[0mselector\u001b[0m \u001b[0;34m=\u001b[0m \u001b[0mRFECV\u001b[0m\u001b[0;34m(\u001b[0m\u001b[0mestimator\u001b[0m\u001b[0;34m,\u001b[0m \u001b[0mstep\u001b[0m\u001b[0;34m=\u001b[0m\u001b[0;36m1\u001b[0m\u001b[0;34m,\u001b[0m \u001b[0mcv\u001b[0m\u001b[0;34m=\u001b[0m\u001b[0;36m3\u001b[0m\u001b[0;34m,\u001b[0m \u001b[0mscoring\u001b[0m\u001b[0;34m=\u001b[0m\u001b[0;34m'accuracy'\u001b[0m\u001b[0;34m)\u001b[0m\u001b[0;34m\u001b[0m\u001b[0m\n\u001b[1;32m      8\u001b[0m \u001b[0mclf\u001b[0m \u001b[0;34m=\u001b[0m \u001b[0mGridSearchCV\u001b[0m\u001b[0;34m(\u001b[0m\u001b[0mselector\u001b[0m\u001b[0;34m,\u001b[0m \u001b[0mparams\u001b[0m\u001b[0;34m,\u001b[0m \u001b[0mcv\u001b[0m\u001b[0;34m=\u001b[0m\u001b[0;36m3\u001b[0m\u001b[0;34m)\u001b[0m\u001b[0;34m\u001b[0m\u001b[0m\n\u001b[0;32m----> 9\u001b[0;31m \u001b[0mclf\u001b[0m\u001b[0;34m.\u001b[0m\u001b[0mfit\u001b[0m\u001b[0;34m(\u001b[0m\u001b[0mX_train\u001b[0m\u001b[0;34m,\u001b[0m \u001b[0my_train\u001b[0m\u001b[0;34m)\u001b[0m\u001b[0;34m\u001b[0m\u001b[0m\n\u001b[0m\u001b[1;32m     10\u001b[0m \u001b[0mclf\u001b[0m\u001b[0;34m.\u001b[0m\u001b[0mbest_estimator_\u001b[0m\u001b[0;34m.\u001b[0m\u001b[0mestimator_\u001b[0m\u001b[0;34m\u001b[0m\u001b[0m\n",
      "\u001b[0;32m/Users/Rebecca/anaconda/lib/python2.7/site-packages/sklearn/model_selection/_search.pyc\u001b[0m in \u001b[0;36mfit\u001b[0;34m(self, X, y, groups)\u001b[0m\n\u001b[1;32m    943\u001b[0m             \u001b[0mtrain\u001b[0m\u001b[0;34m/\u001b[0m\u001b[0mtest\u001b[0m \u001b[0mset\u001b[0m\u001b[0;34m.\u001b[0m\u001b[0;34m\u001b[0m\u001b[0m\n\u001b[1;32m    944\u001b[0m         \"\"\"\n\u001b[0;32m--> 945\u001b[0;31m         \u001b[0;32mreturn\u001b[0m \u001b[0mself\u001b[0m\u001b[0;34m.\u001b[0m\u001b[0m_fit\u001b[0m\u001b[0;34m(\u001b[0m\u001b[0mX\u001b[0m\u001b[0;34m,\u001b[0m \u001b[0my\u001b[0m\u001b[0;34m,\u001b[0m \u001b[0mgroups\u001b[0m\u001b[0;34m,\u001b[0m \u001b[0mParameterGrid\u001b[0m\u001b[0;34m(\u001b[0m\u001b[0mself\u001b[0m\u001b[0;34m.\u001b[0m\u001b[0mparam_grid\u001b[0m\u001b[0;34m)\u001b[0m\u001b[0;34m)\u001b[0m\u001b[0;34m\u001b[0m\u001b[0m\n\u001b[0m\u001b[1;32m    946\u001b[0m \u001b[0;34m\u001b[0m\u001b[0m\n\u001b[1;32m    947\u001b[0m \u001b[0;34m\u001b[0m\u001b[0m\n",
      "\u001b[0;32m/Users/Rebecca/anaconda/lib/python2.7/site-packages/sklearn/model_selection/_search.pyc\u001b[0m in \u001b[0;36m_fit\u001b[0;34m(self, X, y, groups, parameter_iterable)\u001b[0m\n\u001b[1;32m    562\u001b[0m                                   \u001b[0mreturn_times\u001b[0m\u001b[0;34m=\u001b[0m\u001b[0mTrue\u001b[0m\u001b[0;34m,\u001b[0m \u001b[0mreturn_parameters\u001b[0m\u001b[0;34m=\u001b[0m\u001b[0mTrue\u001b[0m\u001b[0;34m,\u001b[0m\u001b[0;34m\u001b[0m\u001b[0m\n\u001b[1;32m    563\u001b[0m                                   error_score=self.error_score)\n\u001b[0;32m--> 564\u001b[0;31m           \u001b[0;32mfor\u001b[0m \u001b[0mparameters\u001b[0m \u001b[0;32min\u001b[0m \u001b[0mparameter_iterable\u001b[0m\u001b[0;34m\u001b[0m\u001b[0m\n\u001b[0m\u001b[1;32m    565\u001b[0m           for train, test in cv_iter)\n\u001b[1;32m    566\u001b[0m \u001b[0;34m\u001b[0m\u001b[0m\n",
      "\u001b[0;32m/Users/Rebecca/anaconda/lib/python2.7/site-packages/sklearn/externals/joblib/parallel.pyc\u001b[0m in \u001b[0;36m__call__\u001b[0;34m(self, iterable)\u001b[0m\n\u001b[1;32m    756\u001b[0m             \u001b[0;31m# was dispatched. In particular this covers the edge\u001b[0m\u001b[0;34m\u001b[0m\u001b[0;34m\u001b[0m\u001b[0m\n\u001b[1;32m    757\u001b[0m             \u001b[0;31m# case of Parallel used with an exhausted iterator.\u001b[0m\u001b[0;34m\u001b[0m\u001b[0;34m\u001b[0m\u001b[0m\n\u001b[0;32m--> 758\u001b[0;31m             \u001b[0;32mwhile\u001b[0m \u001b[0mself\u001b[0m\u001b[0;34m.\u001b[0m\u001b[0mdispatch_one_batch\u001b[0m\u001b[0;34m(\u001b[0m\u001b[0miterator\u001b[0m\u001b[0;34m)\u001b[0m\u001b[0;34m:\u001b[0m\u001b[0;34m\u001b[0m\u001b[0m\n\u001b[0m\u001b[1;32m    759\u001b[0m                 \u001b[0mself\u001b[0m\u001b[0;34m.\u001b[0m\u001b[0m_iterating\u001b[0m \u001b[0;34m=\u001b[0m \u001b[0mTrue\u001b[0m\u001b[0;34m\u001b[0m\u001b[0m\n\u001b[1;32m    760\u001b[0m             \u001b[0;32melse\u001b[0m\u001b[0;34m:\u001b[0m\u001b[0;34m\u001b[0m\u001b[0m\n",
      "\u001b[0;32m/Users/Rebecca/anaconda/lib/python2.7/site-packages/sklearn/externals/joblib/parallel.pyc\u001b[0m in \u001b[0;36mdispatch_one_batch\u001b[0;34m(self, iterator)\u001b[0m\n\u001b[1;32m    606\u001b[0m                 \u001b[0;32mreturn\u001b[0m \u001b[0mFalse\u001b[0m\u001b[0;34m\u001b[0m\u001b[0m\n\u001b[1;32m    607\u001b[0m             \u001b[0;32melse\u001b[0m\u001b[0;34m:\u001b[0m\u001b[0;34m\u001b[0m\u001b[0m\n\u001b[0;32m--> 608\u001b[0;31m                 \u001b[0mself\u001b[0m\u001b[0;34m.\u001b[0m\u001b[0m_dispatch\u001b[0m\u001b[0;34m(\u001b[0m\u001b[0mtasks\u001b[0m\u001b[0;34m)\u001b[0m\u001b[0;34m\u001b[0m\u001b[0m\n\u001b[0m\u001b[1;32m    609\u001b[0m                 \u001b[0;32mreturn\u001b[0m \u001b[0mTrue\u001b[0m\u001b[0;34m\u001b[0m\u001b[0m\n\u001b[1;32m    610\u001b[0m \u001b[0;34m\u001b[0m\u001b[0m\n",
      "\u001b[0;32m/Users/Rebecca/anaconda/lib/python2.7/site-packages/sklearn/externals/joblib/parallel.pyc\u001b[0m in \u001b[0;36m_dispatch\u001b[0;34m(self, batch)\u001b[0m\n\u001b[1;32m    569\u001b[0m         \u001b[0mdispatch_timestamp\u001b[0m \u001b[0;34m=\u001b[0m \u001b[0mtime\u001b[0m\u001b[0;34m.\u001b[0m\u001b[0mtime\u001b[0m\u001b[0;34m(\u001b[0m\u001b[0;34m)\u001b[0m\u001b[0;34m\u001b[0m\u001b[0m\n\u001b[1;32m    570\u001b[0m         \u001b[0mcb\u001b[0m \u001b[0;34m=\u001b[0m \u001b[0mBatchCompletionCallBack\u001b[0m\u001b[0;34m(\u001b[0m\u001b[0mdispatch_timestamp\u001b[0m\u001b[0;34m,\u001b[0m \u001b[0mlen\u001b[0m\u001b[0;34m(\u001b[0m\u001b[0mbatch\u001b[0m\u001b[0;34m)\u001b[0m\u001b[0;34m,\u001b[0m \u001b[0mself\u001b[0m\u001b[0;34m)\u001b[0m\u001b[0;34m\u001b[0m\u001b[0m\n\u001b[0;32m--> 571\u001b[0;31m         \u001b[0mjob\u001b[0m \u001b[0;34m=\u001b[0m \u001b[0mself\u001b[0m\u001b[0;34m.\u001b[0m\u001b[0m_backend\u001b[0m\u001b[0;34m.\u001b[0m\u001b[0mapply_async\u001b[0m\u001b[0;34m(\u001b[0m\u001b[0mbatch\u001b[0m\u001b[0;34m,\u001b[0m \u001b[0mcallback\u001b[0m\u001b[0;34m=\u001b[0m\u001b[0mcb\u001b[0m\u001b[0;34m)\u001b[0m\u001b[0;34m\u001b[0m\u001b[0m\n\u001b[0m\u001b[1;32m    572\u001b[0m         \u001b[0mself\u001b[0m\u001b[0;34m.\u001b[0m\u001b[0m_jobs\u001b[0m\u001b[0;34m.\u001b[0m\u001b[0mappend\u001b[0m\u001b[0;34m(\u001b[0m\u001b[0mjob\u001b[0m\u001b[0;34m)\u001b[0m\u001b[0;34m\u001b[0m\u001b[0m\n\u001b[1;32m    573\u001b[0m \u001b[0;34m\u001b[0m\u001b[0m\n",
      "\u001b[0;32m/Users/Rebecca/anaconda/lib/python2.7/site-packages/sklearn/externals/joblib/_parallel_backends.pyc\u001b[0m in \u001b[0;36mapply_async\u001b[0;34m(self, func, callback)\u001b[0m\n\u001b[1;32m    107\u001b[0m     \u001b[0;32mdef\u001b[0m \u001b[0mapply_async\u001b[0m\u001b[0;34m(\u001b[0m\u001b[0mself\u001b[0m\u001b[0;34m,\u001b[0m \u001b[0mfunc\u001b[0m\u001b[0;34m,\u001b[0m \u001b[0mcallback\u001b[0m\u001b[0;34m=\u001b[0m\u001b[0mNone\u001b[0m\u001b[0;34m)\u001b[0m\u001b[0;34m:\u001b[0m\u001b[0;34m\u001b[0m\u001b[0m\n\u001b[1;32m    108\u001b[0m         \u001b[0;34m\"\"\"Schedule a func to be run\"\"\"\u001b[0m\u001b[0;34m\u001b[0m\u001b[0m\n\u001b[0;32m--> 109\u001b[0;31m         \u001b[0mresult\u001b[0m \u001b[0;34m=\u001b[0m \u001b[0mImmediateResult\u001b[0m\u001b[0;34m(\u001b[0m\u001b[0mfunc\u001b[0m\u001b[0;34m)\u001b[0m\u001b[0;34m\u001b[0m\u001b[0m\n\u001b[0m\u001b[1;32m    110\u001b[0m         \u001b[0;32mif\u001b[0m \u001b[0mcallback\u001b[0m\u001b[0;34m:\u001b[0m\u001b[0;34m\u001b[0m\u001b[0m\n\u001b[1;32m    111\u001b[0m             \u001b[0mcallback\u001b[0m\u001b[0;34m(\u001b[0m\u001b[0mresult\u001b[0m\u001b[0;34m)\u001b[0m\u001b[0;34m\u001b[0m\u001b[0m\n",
      "\u001b[0;32m/Users/Rebecca/anaconda/lib/python2.7/site-packages/sklearn/externals/joblib/_parallel_backends.pyc\u001b[0m in \u001b[0;36m__init__\u001b[0;34m(self, batch)\u001b[0m\n\u001b[1;32m    324\u001b[0m         \u001b[0;31m# Don't delay the application, to avoid keeping the input\u001b[0m\u001b[0;34m\u001b[0m\u001b[0;34m\u001b[0m\u001b[0m\n\u001b[1;32m    325\u001b[0m         \u001b[0;31m# arguments in memory\u001b[0m\u001b[0;34m\u001b[0m\u001b[0;34m\u001b[0m\u001b[0m\n\u001b[0;32m--> 326\u001b[0;31m         \u001b[0mself\u001b[0m\u001b[0;34m.\u001b[0m\u001b[0mresults\u001b[0m \u001b[0;34m=\u001b[0m \u001b[0mbatch\u001b[0m\u001b[0;34m(\u001b[0m\u001b[0;34m)\u001b[0m\u001b[0;34m\u001b[0m\u001b[0m\n\u001b[0m\u001b[1;32m    327\u001b[0m \u001b[0;34m\u001b[0m\u001b[0m\n\u001b[1;32m    328\u001b[0m     \u001b[0;32mdef\u001b[0m \u001b[0mget\u001b[0m\u001b[0;34m(\u001b[0m\u001b[0mself\u001b[0m\u001b[0;34m)\u001b[0m\u001b[0;34m:\u001b[0m\u001b[0;34m\u001b[0m\u001b[0m\n",
      "\u001b[0;32m/Users/Rebecca/anaconda/lib/python2.7/site-packages/sklearn/externals/joblib/parallel.pyc\u001b[0m in \u001b[0;36m__call__\u001b[0;34m(self)\u001b[0m\n\u001b[1;32m    129\u001b[0m \u001b[0;34m\u001b[0m\u001b[0m\n\u001b[1;32m    130\u001b[0m     \u001b[0;32mdef\u001b[0m \u001b[0m__call__\u001b[0m\u001b[0;34m(\u001b[0m\u001b[0mself\u001b[0m\u001b[0;34m)\u001b[0m\u001b[0;34m:\u001b[0m\u001b[0;34m\u001b[0m\u001b[0m\n\u001b[0;32m--> 131\u001b[0;31m         \u001b[0;32mreturn\u001b[0m \u001b[0;34m[\u001b[0m\u001b[0mfunc\u001b[0m\u001b[0;34m(\u001b[0m\u001b[0;34m*\u001b[0m\u001b[0margs\u001b[0m\u001b[0;34m,\u001b[0m \u001b[0;34m**\u001b[0m\u001b[0mkwargs\u001b[0m\u001b[0;34m)\u001b[0m \u001b[0;32mfor\u001b[0m \u001b[0mfunc\u001b[0m\u001b[0;34m,\u001b[0m \u001b[0margs\u001b[0m\u001b[0;34m,\u001b[0m \u001b[0mkwargs\u001b[0m \u001b[0;32min\u001b[0m \u001b[0mself\u001b[0m\u001b[0;34m.\u001b[0m\u001b[0mitems\u001b[0m\u001b[0;34m]\u001b[0m\u001b[0;34m\u001b[0m\u001b[0m\n\u001b[0m\u001b[1;32m    132\u001b[0m \u001b[0;34m\u001b[0m\u001b[0m\n\u001b[1;32m    133\u001b[0m     \u001b[0;32mdef\u001b[0m \u001b[0m__len__\u001b[0m\u001b[0;34m(\u001b[0m\u001b[0mself\u001b[0m\u001b[0;34m)\u001b[0m\u001b[0;34m:\u001b[0m\u001b[0;34m\u001b[0m\u001b[0m\n",
      "\u001b[0;32m/Users/Rebecca/anaconda/lib/python2.7/site-packages/sklearn/model_selection/_validation.pyc\u001b[0m in \u001b[0;36m_fit_and_score\u001b[0;34m(estimator, X, y, scorer, train, test, verbose, parameters, fit_params, return_train_score, return_parameters, return_n_test_samples, return_times, error_score)\u001b[0m\n\u001b[1;32m    225\u001b[0m \u001b[0;34m\u001b[0m\u001b[0m\n\u001b[1;32m    226\u001b[0m     \u001b[0;32mif\u001b[0m \u001b[0mparameters\u001b[0m \u001b[0;32mis\u001b[0m \u001b[0;32mnot\u001b[0m \u001b[0mNone\u001b[0m\u001b[0;34m:\u001b[0m\u001b[0;34m\u001b[0m\u001b[0m\n\u001b[0;32m--> 227\u001b[0;31m         \u001b[0mestimator\u001b[0m\u001b[0;34m.\u001b[0m\u001b[0mset_params\u001b[0m\u001b[0;34m(\u001b[0m\u001b[0;34m**\u001b[0m\u001b[0mparameters\u001b[0m\u001b[0;34m)\u001b[0m\u001b[0;34m\u001b[0m\u001b[0m\n\u001b[0m\u001b[1;32m    228\u001b[0m \u001b[0;34m\u001b[0m\u001b[0m\n\u001b[1;32m    229\u001b[0m     \u001b[0mstart_time\u001b[0m \u001b[0;34m=\u001b[0m \u001b[0mtime\u001b[0m\u001b[0;34m.\u001b[0m\u001b[0mtime\u001b[0m\u001b[0;34m(\u001b[0m\u001b[0;34m)\u001b[0m\u001b[0;34m\u001b[0m\u001b[0m\n",
      "\u001b[0;32m/Users/Rebecca/anaconda/lib/python2.7/site-packages/sklearn/base.pyc\u001b[0m in \u001b[0;36mset_params\u001b[0;34m(self, **params)\u001b[0m\n\u001b[1;32m    289\u001b[0m                                      \u001b[0;34m'Check the list of available parameters '\u001b[0m\u001b[0;34m\u001b[0m\u001b[0m\n\u001b[1;32m    290\u001b[0m                                      \u001b[0;34m'with `estimator.get_params().keys()`.'\u001b[0m \u001b[0;34m%\u001b[0m\u001b[0;34m\u001b[0m\u001b[0m\n\u001b[0;32m--> 291\u001b[0;31m                                      (key, self.__class__.__name__))\n\u001b[0m\u001b[1;32m    292\u001b[0m                 \u001b[0msetattr\u001b[0m\u001b[0;34m(\u001b[0m\u001b[0mself\u001b[0m\u001b[0;34m,\u001b[0m \u001b[0mkey\u001b[0m\u001b[0;34m,\u001b[0m \u001b[0mvalue\u001b[0m\u001b[0;34m)\u001b[0m\u001b[0;34m\u001b[0m\u001b[0m\n\u001b[1;32m    293\u001b[0m         \u001b[0;32mreturn\u001b[0m \u001b[0mself\u001b[0m\u001b[0;34m\u001b[0m\u001b[0m\n",
      "\u001b[0;31mValueError\u001b[0m: Invalid parameter penalty for estimator RFECV. Check the list of available parameters with `estimator.get_params().keys()`."
     ]
    }
   ],
   "source": [
    "params = {\n",
    "    'penalty' : ['l1', 'l2'],\n",
    "    'C' : [0.001, 0.01, 0.1, 0.5, 1.0, 5, 10],\n",
    "}\n",
    "\n",
    "estimator = LogisticRegression(fit_intercept = True, random_state=42, n_jobs = -1)\n",
    "selector = RFECV(estimator, step=1, cv=3, scoring='accuracy')\n",
    "clf = GridSearchCV(selector, params, cv=3)\n",
    "clf.fit(X_train, y_train)\n",
    "clf.best_estimator_.estimator_"
   ]
  },
  {
   "cell_type": "code",
   "execution_count": null,
   "metadata": {
    "collapsed": false
   },
   "outputs": [],
   "source": [
    "\n",
    "\n",
    "clf = GridSearchCV(lr, parameters, cv = 5)\n",
    "\n",
    "clf.fit(X_train, y_train)"
   ]
  },
  {
   "cell_type": "code",
   "execution_count": null,
   "metadata": {
    "collapsed": false
   },
   "outputs": [],
   "source": [
    "best = clf.best_params_"
   ]
  },
  {
   "cell_type": "code",
   "execution_count": null,
   "metadata": {
    "collapsed": false
   },
   "outputs": [],
   "source": [
    "lr2 = LogisticRegression(fit_intercept = True, random_state=42, n_jobs = -1, C = best['C'], penalty = best['penalty'])\n",
    "selector = RFECV(lr2, step=1, cv=5)\n",
    "selector.fit(X_train, y_train)\n",
    "support = X.columns[selector.support_] "
   ]
  },
  {
   "cell_type": "code",
   "execution_count": null,
   "metadata": {
    "collapsed": false
   },
   "outputs": [],
   "source": [
    "lr2 = LogisticRegression(fit_intercept = True, C = clf.best_params_['C'], \\\n",
    "                         penalty = clf.best_params_['penalty'], random_state = 42)\n",
    "\n",
    "lr2.fit(X_train[support], y_train)"
   ]
  },
  {
   "cell_type": "code",
   "execution_count": null,
   "metadata": {
    "collapsed": false
   },
   "outputs": [],
   "source": [
    "predictions = lr2.predict(X_test[support])\n",
    "cm = confusion_matrix(predictions, y_test)\n",
    "cm"
   ]
  },
  {
   "cell_type": "code",
   "execution_count": null,
   "metadata": {
    "collapsed": false
   },
   "outputs": [],
   "source": [
    "accuracy_score(predictions, y_test)"
   ]
  },
  {
   "cell_type": "code",
   "execution_count": null,
   "metadata": {
    "collapsed": false
   },
   "outputs": [],
   "source": [
    "coefs = pd.DataFrame(index = support)\n",
    "coefs['coef'] = list(lr2.coef_)[0]\n",
    "coefs['color'] = ['blue' if x <=0 else 'red' for x in coefs['coef']]\n",
    "coefs['coef'] = [abs(x) for x in coefs['coef']]\n",
    "coefs = coefs.sort_values(by = 'coef', ascending = False)"
   ]
  },
  {
   "cell_type": "code",
   "execution_count": null,
   "metadata": {
    "collapsed": false
   },
   "outputs": [],
   "source": [
    "plt.figure(figsize=(12,8))\n",
    "plt.style.use('fivethirtyeight')\n",
    "\n",
    "coefs['coef'].plot.bar(color = coefs['color'], alpha = 0.5)\n",
    "\n",
    "plt.axhline(0, color='black', alpha = 0.6)\n",
    "\n",
    "plt.title('Indeed.com: Features Predicting Data Scientist Salary', fontsize = 23)\n",
    "\n",
    "plt.ylabel('Coefficient Magnitude', fontsize = 18)\n",
    "plt.ylim([0, coefs['coef'].max() + 0.01])\n",
    "plt.yticks(np.arange(0, coefs['coef'].max() + 0.01, 0.01), fontsize = 13)\n",
    "\n",
    "plt.xlabel('Feature', fontsize = 18)\n",
    "plt.xticks(fontsize = 12)\n",
    "\n",
    "plt.grid(which = 'major', axis = 'x')\n",
    "\n",
    "plt.show()"
   ]
  },
  {
   "cell_type": "code",
   "execution_count": null,
   "metadata": {
    "collapsed": false
   },
   "outputs": [],
   "source": [
    "accuracies = []\n",
    "precisions = []\n",
    "recalls = []\n",
    "\n",
    "for i in range(1, len(X.columns)):\n",
    "    pick_em = SelectKBest(f_classif, k=i)\n",
    "    pick_em.fit(X_train, y_train)\n",
    "    support = X.columns[pick_em.get_support()]\n",
    "    lr2.fit(X_train[support], y_train)\n",
    "    y_pred = lr2.predict(X_test[support])\n",
    "    acc = accuracy_score(y_test, y_pred)\n",
    "    prec = precision_score(y_test, y_pred)\n",
    "    rec = recall_score(y_test, y_pred)\n",
    "    accuracies.append(acc)\n",
    "    precisions.append(prec)\n",
    "    recalls.append(rec)\n",
    "    \n",
    "results = pd.DataFrame(index = range(len(X.columns) - 1))\n",
    "results['accuracy'] = accuracies\n",
    "results['precision'] = precisions\n",
    "results['recall'] = recalls"
   ]
  },
  {
   "cell_type": "code",
   "execution_count": null,
   "metadata": {
    "collapsed": false
   },
   "outputs": [],
   "source": [
    "results.head()"
   ]
  },
  {
   "cell_type": "code",
   "execution_count": null,
   "metadata": {
    "collapsed": false
   },
   "outputs": [],
   "source": [
    "plt.figure(figsize=(12,8))\n",
    "plt.style.use('fivethirtyeight')\n",
    "\n",
    "for i in [('precision', 'DarkOliveGreen'), ('accuracy', 'blue'), ('recall', 'Orange')]:\n",
    "    plt.plot(results.index, results[i[0]], color = i[1], linewidth = 2.5, \\\n",
    "         label = i[0], alpha = 0.8)\n",
    "\n",
    "plt.axhline(0, color='black', alpha = 0.6)\n",
    "plt.axvline(0, color='black', alpha = 0.6)\n",
    "plt.title('Indeed.com: Model Performance', fontsize = 24, y = 1.03)\n",
    "\n",
    "# y label\n",
    "plt.ylabel('Score', fontsize = 18)\n",
    "plt.yticks(np.arange(0, 1.2, 0.1), fontsize = 12)\n",
    "\n",
    "# x label\n",
    "plt.xlabel('Number of Features in Model', y = 0.1, fontsize = 18)\n",
    "plt.xticks(range(0, 70, 5), fontsize = 12)\n",
    "\n",
    "plt.xlim([-0.1, len(X.columns)])\n",
    "plt.ylim([0.0, 1.02])\n",
    "plt.legend(loc='best', fontsize = 14)\n",
    "\n",
    "plt.axvline(6, color = 'red', alpha = 0.4)\n",
    "\n",
    "plt.show()"
   ]
  },
  {
   "cell_type": "code",
   "execution_count": null,
   "metadata": {
    "collapsed": false
   },
   "outputs": [],
   "source": [
    "pick_em = SelectKBest(f_classif, k=6)\n",
    "pick_em.fit(X_train, y_train)\n",
    "support = X.columns[pick_em.get_support()]\n",
    "support"
   ]
  },
  {
   "cell_type": "code",
   "execution_count": null,
   "metadata": {
    "collapsed": false
   },
   "outputs": [],
   "source": [
    "lr2.fit(X_train[support], y_train)\n",
    "predictions = lr2.predict(X_test[support])\n",
    "cm = confusion_matrix(predictions, y_test)\n",
    "cm"
   ]
  },
  {
   "cell_type": "code",
   "execution_count": null,
   "metadata": {
    "collapsed": false
   },
   "outputs": [],
   "source": [
    "def plot_confusion_matrix(cm, title='Confusion matrix', labels=['Positive','Negative'], \\\n",
    "                          cmap=plt.cm.Blues):\n",
    "    \n",
    "    plt.figure(figsize=(12,8))\n",
    "    plt.imshow(cm, interpolation='nearest', cmap=cmap)\n",
    "    \n",
    "    tick_marks = np.arange(2)\n",
    "    plt.xticks(tick_marks, labels, fontsize = 14)\n",
    "    plt.yticks(tick_marks, labels, rotation = 90, fontsize = 14)\n",
    "        \n",
    "    plt.title(title, fontsize = 24)\n",
    "    plt.ylabel('True label', fontsize = 18)\n",
    "    plt.xlabel('Predicted label', fontsize = 18)\n",
    "    plt.tight_layout()\n",
    "    \n",
    "    width, height = cm.shape\n",
    "    \n",
    "    for x in xrange(width):\n",
    "        for y in xrange(height):\n",
    "            plt.annotate(str(cm[x][y]), xy=(y, x), \n",
    "                        horizontalalignment='center',\n",
    "                        verticalalignment='center',\n",
    "                        color = 'white',\n",
    "                        fontsize=40).set_path_effects([path_effects.Stroke(linewidth=1, \\\n",
    "                            foreground='black'), path_effects.Normal()])\n",
    "    return"
   ]
  },
  {
   "cell_type": "code",
   "execution_count": null,
   "metadata": {
    "collapsed": false
   },
   "outputs": [],
   "source": [
    "plot_confusion_matrix(cm, title='Indeed.com: Data Science Salaries (L2 penalty)', \\\n",
    "                      labels=['Under Median', 'Over Median'], cmap=plt.cm.Greens)"
   ]
  },
  {
   "cell_type": "code",
   "execution_count": null,
   "metadata": {
    "collapsed": false
   },
   "outputs": [],
   "source": [
    "def auc_plotting_function(rate1, rate2, rate1_name, rate2_name, median):\n",
    "    AUC = auc(rate1, rate2)\n",
    "    # Plot of a ROC curve for class 1 (above median salary)\n",
    "    plt.figure(figsize=(12,8))\n",
    "    plt.style.use('fivethirtyeight')\n",
    "    plt.plot(rate1, rate2, label = 'ROC (area = %0.2f)' % AUC, linewidth=3)\n",
    "    plt.plot([0, 1], [0, 1], 'k--', linewidth=2.5, alpha = 0.5, color = 'magenta')\n",
    "    plt.xlim([-0.025, 1.01])\n",
    "    plt.xticks(fontsize = 13)\n",
    "    plt.ylim([-0.025, 1.05])\n",
    "    plt.yticks(fontsize = 13)\n",
    "    plt.xlabel(rate1_name, fontsize=18)\n",
    "    plt.ylabel(rate2_name, fontsize=18)\n",
    "    plt.title('ROC for Data Science Salaries > %s' %median, fontsize=18)\n",
    "    plt.legend(loc=\"best\", fontsize = 12)\n",
    "    plt.axvline(0, linewidth = 1, alpha = 0.5, color = 'black')\n",
    "    plt.axhline(0, linewidth = 1, alpha = 0.5, color = 'black')\n",
    "    plt.show()\n",
    "\n",
    "# plot receiving operator characteristic curve\n",
    "def plot_roc(y_true, y_score, median):\n",
    "    fpr, tpr, _ = roc_curve(y_true, y_score)\n",
    "    auc_plotting_function(fpr, tpr, 'False Positive Rate', 'True Positive Rate', median)"
   ]
  },
  {
   "cell_type": "code",
   "execution_count": null,
   "metadata": {
    "collapsed": false
   },
   "outputs": [],
   "source": [
    "y_score = lr2.decision_function(X_test[support])\n",
    "plot_roc(y_test, y_score, df['salary'].median())"
   ]
  },
  {
   "cell_type": "code",
   "execution_count": null,
   "metadata": {
    "collapsed": true
   },
   "outputs": [],
   "source": []
  }
 ],
 "metadata": {
  "kernelspec": {
   "display_name": "Python 2",
   "language": "python",
   "name": "python2"
  },
  "language_info": {
   "codemirror_mode": {
    "name": "ipython",
    "version": 2
   },
   "file_extension": ".py",
   "mimetype": "text/x-python",
   "name": "python",
   "nbconvert_exporter": "python",
   "pygments_lexer": "ipython2",
   "version": "2.7.12"
  }
 },
 "nbformat": 4,
 "nbformat_minor": 0
}
