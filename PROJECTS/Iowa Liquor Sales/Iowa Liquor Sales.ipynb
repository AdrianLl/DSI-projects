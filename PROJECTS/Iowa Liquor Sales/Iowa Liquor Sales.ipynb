{
 "cells": [
  {
   "cell_type": "code",
   "execution_count": 1,
   "metadata": {
    "collapsed": false
   },
   "outputs": [],
   "source": [
    "import pandas as pd\n",
    "import plotly as py\n",
    "from matplotlib import pyplot as plt\n",
    "import seaborn as sns\n",
    "import numpy as np\n",
    "import sklearn\n",
    "from sklearn.pipeline import Pipeline\n",
    "from sklearn.preprocessing import PolynomialFeatures\n",
    "from sklearn.metrics import mean_squared_error, r2_score\n",
    "from sklearn import linear_model\n",
    "from sklearn.linear_model import LinearRegression, Ridge, Lasso\n",
    "from sklearn import cross_validation\n",
    "from sklearn.cross_validation import cross_val_predict, cross_val_score, train_test_split\n",
    "\n",
    "% matplotlib inline"
   ]
  },
  {
   "cell_type": "markdown",
   "metadata": {},
   "source": [
    "Let's import the smaller dataset:"
   ]
  },
  {
   "cell_type": "code",
   "execution_count": 2,
   "metadata": {
    "collapsed": false
   },
   "outputs": [],
   "source": [
    "sales_orig = pd.read_csv(\"assets/Iowa_Liquor_sales_sample_10pct.csv\")\n",
    "sales = sales_orig.copy() # keep original just in case"
   ]
  },
  {
   "cell_type": "code",
   "execution_count": 3,
   "metadata": {
    "collapsed": false
   },
   "outputs": [
    {
     "data": {
      "text/html": [
       "<div>\n",
       "<table border=\"1\" class=\"dataframe\">\n",
       "  <thead>\n",
       "    <tr style=\"text-align: right;\">\n",
       "      <th></th>\n",
       "      <th>Date</th>\n",
       "      <th>Store Number</th>\n",
       "      <th>City</th>\n",
       "      <th>Zip Code</th>\n",
       "      <th>County Number</th>\n",
       "      <th>County</th>\n",
       "      <th>Category</th>\n",
       "      <th>Category Name</th>\n",
       "      <th>Vendor Number</th>\n",
       "      <th>Item Number</th>\n",
       "      <th>Item Description</th>\n",
       "      <th>Bottle Volume (ml)</th>\n",
       "      <th>State Bottle Cost</th>\n",
       "      <th>State Bottle Retail</th>\n",
       "      <th>Bottles Sold</th>\n",
       "      <th>Sale (Dollars)</th>\n",
       "      <th>Volume Sold (Liters)</th>\n",
       "      <th>Volume Sold (Gallons)</th>\n",
       "    </tr>\n",
       "  </thead>\n",
       "  <tbody>\n",
       "    <tr>\n",
       "      <th>0</th>\n",
       "      <td>11/04/2015</td>\n",
       "      <td>3717</td>\n",
       "      <td>SUMNER</td>\n",
       "      <td>50674</td>\n",
       "      <td>9.0</td>\n",
       "      <td>Bremer</td>\n",
       "      <td>1051100.0</td>\n",
       "      <td>APRICOT BRANDIES</td>\n",
       "      <td>55</td>\n",
       "      <td>54436</td>\n",
       "      <td>Mr. Boston Apricot Brandy</td>\n",
       "      <td>750</td>\n",
       "      <td>$4.50</td>\n",
       "      <td>$6.75</td>\n",
       "      <td>12</td>\n",
       "      <td>$81.00</td>\n",
       "      <td>9.0</td>\n",
       "      <td>2.38</td>\n",
       "    </tr>\n",
       "  </tbody>\n",
       "</table>\n",
       "</div>"
      ],
      "text/plain": [
       "         Date  Store Number    City Zip Code  County Number  County  \\\n",
       "0  11/04/2015          3717  SUMNER    50674            9.0  Bremer   \n",
       "\n",
       "    Category     Category Name  Vendor Number  Item Number  \\\n",
       "0  1051100.0  APRICOT BRANDIES             55        54436   \n",
       "\n",
       "            Item Description  Bottle Volume (ml) State Bottle Cost  \\\n",
       "0  Mr. Boston Apricot Brandy                 750             $4.50   \n",
       "\n",
       "  State Bottle Retail  Bottles Sold Sale (Dollars)  Volume Sold (Liters)  \\\n",
       "0               $6.75            12         $81.00                   9.0   \n",
       "\n",
       "   Volume Sold (Gallons)  \n",
       "0                   2.38  "
      ]
     },
     "execution_count": 3,
     "metadata": {},
     "output_type": "execute_result"
    }
   ],
   "source": [
    "sales.head(1)"
   ]
  },
  {
   "cell_type": "code",
   "execution_count": 4,
   "metadata": {
    "collapsed": false
   },
   "outputs": [
    {
     "data": {
      "text/plain": [
       "Date                      object\n",
       "Store Number               int64\n",
       "City                      object\n",
       "Zip Code                  object\n",
       "County Number            float64\n",
       "County                    object\n",
       "Category                 float64\n",
       "Category Name             object\n",
       "Vendor Number              int64\n",
       "Item Number                int64\n",
       "Item Description          object\n",
       "Bottle Volume (ml)         int64\n",
       "State Bottle Cost         object\n",
       "State Bottle Retail       object\n",
       "Bottles Sold               int64\n",
       "Sale (Dollars)            object\n",
       "Volume Sold (Liters)     float64\n",
       "Volume Sold (Gallons)    float64\n",
       "dtype: object"
      ]
     },
     "execution_count": 4,
     "metadata": {},
     "output_type": "execute_result"
    }
   ],
   "source": [
    "sales.dtypes"
   ]
  },
  {
   "cell_type": "code",
   "execution_count": 5,
   "metadata": {
    "collapsed": false
   },
   "outputs": [],
   "source": [
    "# convert 'Date' column to datetime format\n",
    "\n",
    "sales['Date'] = pd.to_datetime(sales['Date'], infer_datetime_format = True)"
   ]
  },
  {
   "cell_type": "code",
   "execution_count": 6,
   "metadata": {
    "collapsed": false
   },
   "outputs": [],
   "source": [
    "del sales['County Number'] # let's just keep ZIP code; these geographical columns contain \\\n",
    "## a lot of same information\n",
    "del sales['County'] # same\n",
    "del sales['City'] # same\n",
    "del sales['Category']  # let's use 'Category Name' instead \n",
    "del sales['Item Number']  # we'll just stick with category data, this is very specific\n",
    "del sales['Item Description'] # same\n",
    "del sales['Volume Sold (Gallons)'] # no one wants gallons\n",
    "## del sales['Volume Sold (Liters)'] # undecided, can be calculated from other columns"
   ]
  },
  {
   "cell_type": "code",
   "execution_count": 7,
   "metadata": {
    "collapsed": false
   },
   "outputs": [],
   "source": [
    "# change dollar-value columns to floats\n",
    "\n",
    "sales['State Bottle Cost'] = sales['State Bottle Cost'].apply(lambda x: \\\n",
    "                                                              float(x.replace('$', '')))\n",
    "sales['State Bottle Retail'] = sales['State Bottle Retail'].apply(lambda x: \\\n",
    "                                                                  float(x.replace('$', '')))\n",
    "sales['Sale (Dollars)'] = sales['Sale (Dollars)'].apply(lambda x: float(x.replace('$', '')))"
   ]
  },
  {
   "cell_type": "code",
   "execution_count": 10,
   "metadata": {
    "collapsed": false
   },
   "outputs": [],
   "source": [
    "# rename columns \n",
    "\n",
    "sales.rename(columns={'Category Name':'category', \n",
    "                      'Bottle Volume (ml)':'volume', \n",
    "                      'Store Number':'store', \n",
    "                      'Zip Code':'ZIP',\n",
    "                      'State Bottle Cost':'cost',\n",
    "                      'State Bottle Retail':'retail',\n",
    "                      'Vendor Number':'vendorID',\n",
    "                      'Bottles Sold':'number_sold',\n",
    "                      'Sale (Dollars)':'total_sale',\n",
    "                      'Volume Sold (Liters)':'volume_sold'}, inplace=True)"
   ]
  },
  {
   "cell_type": "code",
   "execution_count": 11,
   "metadata": {
    "collapsed": true
   },
   "outputs": [],
   "source": [
    "# fix remaining data types that still do not look right\n",
    "\n",
    "sales['store'] = sales['store'].apply(lambda x: str(x))\n",
    "sales['vendorID'] = sales['vendorID'].apply(lambda x: str(x))\n",
    "sales['volume'] = sales['volume'].apply(lambda x: float(x))\n",
    "sales['number_sold'] = sales['number_sold'].apply(lambda x: float(x))"
   ]
  },
  {
   "cell_type": "code",
   "execution_count": 12,
   "metadata": {
    "collapsed": false
   },
   "outputs": [
    {
     "data": {
      "text/plain": [
       "date           datetime64[ns]\n",
       "store                  object\n",
       "ZIP                    object\n",
       "category               object\n",
       "vendorID               object\n",
       "volume                float64\n",
       "cost                  float64\n",
       "retail                float64\n",
       "number_sold           float64\n",
       "total_sale            float64\n",
       "volume_sold           float64\n",
       "dtype: object"
      ]
     },
     "execution_count": 12,
     "metadata": {},
     "output_type": "execute_result"
    }
   ],
   "source": [
    "sales.dtypes"
   ]
  },
  {
   "cell_type": "code",
   "execution_count": 13,
   "metadata": {
    "collapsed": false
   },
   "outputs": [
    {
     "name": "stdout",
     "output_type": "stream",
     "text": [
      "  Number of unique...\n",
      "Observations:    270955\n",
      "Stores:          1400\n",
      "ZIP codes:       415\n",
      "Vendors:         116\n",
      "Item categories: 72\n",
      "Bottle volumes:  29\n"
     ]
    }
   ],
   "source": [
    "print '  Number of unique...'\n",
    "print 'Observations:    %s' %len(sales)\n",
    "print 'Stores:          %s' %len(sales['store'].unique())\n",
    "print 'ZIP codes:       %s' %len(sales['ZIP'].unique())\n",
    "print 'Vendors:         %s' %len(sales['vendorID'].unique())\n",
    "print 'Item categories: %s' %len(sales['category'].unique())\n",
    "print 'Bottle volumes:  %s' %len(sales['volume'].unique())"
   ]
  },
  {
   "cell_type": "code",
   "execution_count": 14,
   "metadata": {
    "collapsed": false
   },
   "outputs": [
    {
     "data": {
      "text/plain": [
       "72"
      ]
     },
     "execution_count": 14,
     "metadata": {},
     "output_type": "execute_result"
    }
   ],
   "source": [
    "len(sales['category'].unique())"
   ]
  },
  {
   "cell_type": "code",
   "execution_count": 15,
   "metadata": {
    "collapsed": false
   },
   "outputs": [
    {
     "data": {
      "text/plain": [
       "VODKA 80 PROOF                        35373\n",
       "CANADIAN WHISKIES                     27087\n",
       "STRAIGHT BOURBON WHISKIES             15342\n",
       "SPICED RUM                            14631\n",
       "VODKA FLAVORED                        14001\n",
       "TEQUILA                               12109\n",
       "BLENDED WHISKIES                      11547\n",
       "WHISKEY LIQUEUR                       10902\n",
       "IMPORTED VODKA                        10668\n",
       "PUERTO RICO & VIRGIN ISLANDS RUM      10062\n",
       "FLAVORED RUM                           7282\n",
       "TENNESSEE WHISKIES                     7081\n",
       "AMERICAN COCKTAILS                     6929\n",
       "AMERICAN GRAPE BRANDIES                6589\n",
       "AMERICAN DRY GINS                      6559\n",
       "IMPORTED VODKA - MISC                  6506\n",
       "MISC. IMPORTED CORDIALS & LIQUEURS     6299\n",
       "CREAM LIQUEURS                         6284\n",
       "SCOTCH WHISKIES                        5375\n",
       "IMPORTED GRAPE BRANDIES                4614\n",
       "IMPORTED SCHNAPPS                      4249\n",
       "MISC. AMERICAN CORDIALS & LIQUEURS     3394\n",
       "100 PROOF VODKA                        3304\n",
       "PEPPERMINT SCHNAPPS                    3221\n",
       "IMPORTED DRY GINS                      2939\n",
       "IRISH WHISKIES                         2791\n",
       "SINGLE MALT SCOTCH                     2288\n",
       "COFFEE LIQUEURS                        1914\n",
       "PEACH SCHNAPPS                         1650\n",
       "BLACKBERRY BRANDIES                    1580\n",
       "                                      ...  \n",
       "AMERICAN ALCOHOL                        573\n",
       "WATERMELON SCHNAPPS                     479\n",
       "BARBADOS RUM                            393\n",
       "JAMAICA RUM                             385\n",
       "GRAPE SCHNAPPS                          333\n",
       "CHERRY BRANDIES                         330\n",
       "ROOT BEER SCHNAPPS                      324\n",
       "SINGLE BARREL BOURBON WHISKIES          319\n",
       "RASPBERRY SCHNAPPS                      304\n",
       "STRAWBERRY SCHNAPPS                     302\n",
       "IMPORTED AMARETTO                       276\n",
       "GREEN CREME DE MENTHE                   259\n",
       "FLAVORED GINS                           250\n",
       "TROPICAL FRUIT SCHNAPPS                 235\n",
       "WHITE CREME DE CACAO                    201\n",
       "BOTTLED IN BOND BOURBON                 190\n",
       "AMERICAN SLOE GINS                      169\n",
       "DARK CREME DE CACAO                     157\n",
       "MISCELLANEOUS  BRANDIES                 144\n",
       "SPEARMINT SCHNAPPS                       99\n",
       "ROCK & RYE                               86\n",
       "OTHER PROOF VODKA                        78\n",
       "WHITE CREME DE MENTHE                    61\n",
       "CREME DE ALMOND                          52\n",
       "ANISETTE                                 35\n",
       "JAPANESE WHISKY                          23\n",
       "LOW PROOF VODKA                          15\n",
       "CORN WHISKIES                            12\n",
       "AMARETTO - IMPORTED                       3\n",
       "HIGH PROOF BEER - AMERICAN                2\n",
       "Name: category, dtype: int64"
      ]
     },
     "execution_count": 15,
     "metadata": {},
     "output_type": "execute_result"
    }
   ],
   "source": [
    "# that's a lot of categories!  let's have a look and try to consolidate some of them\n",
    "\n",
    "sales['category'].value_counts()"
   ]
  },
  {
   "cell_type": "code",
   "execution_count": 16,
   "metadata": {
    "collapsed": true
   },
   "outputs": [],
   "source": [
    "# consolidating...\n",
    "\n",
    "sales['category'] = sales['category'].apply(lambda x: str(x))\n",
    "sales['category'] = sales['category'].apply(lambda x: x.replace('VODKA 80 PROOF', 'VODKA'))\n",
    "sales['category'] = sales['category'].apply(lambda x: x.replace('CANADIAN WHISKIES', 'WHISKEY'))\n",
    "sales['category'] = sales['category'].apply(lambda x: x.replace('STRAIGHT BOURBON WHISKIES', 'BOURBON'))\n",
    "sales['category'] = sales['category'].apply(lambda x: x.replace('VODKA FLAVORED', 'VODKA'))\n",
    "sales['category'] = sales['category'].apply(lambda x: x.replace('BLENDED WHISKIES', 'WHISKEY'))\n",
    "sales['category'] = sales['category'].apply(lambda x: x.replace('WHISKEY LIQUEUR', 'CORDIAL & LIQUEUR'))\n",
    "sales['category'] = sales['category'].apply(lambda x: x.replace('PUERTO RICO & VIRGIN ISLANDS RUM', 'RUM'))\n",
    "sales['category'] = sales['category'].apply(lambda x: x.replace('FLAVORED RUM', 'RUM'))\n",
    "sales['category'] = sales['category'].apply(lambda x: x.replace('TENNESSEE WHISKIES', 'WHISKEY'))\n",
    "sales['category'] = sales['category'].apply(lambda x: x.replace('SPICED RUM', 'RUM'))\n",
    "sales['category'] = sales['category'].apply(lambda x: x.replace('AMERICAN GRAPE BRANDIES', 'BRANDY'))\n",
    "sales['category'] = sales['category'].apply(lambda x: x.replace('AMERICAN DRY GINS', 'GIN'))\n",
    "sales['category'] = sales['category'].apply(lambda x: x.replace('IMPORTED VODKA - MISC', 'IMPORTED VODKA'))\n",
    "sales['category'] = sales['category'].apply(lambda x: x.replace('MISC. IMPORTED CORDIALS & LIQUEURS', 'IMPORTED CORDIAL & LIQUEUR'))\n",
    "sales['category'] = sales['category'].apply(lambda x: x.replace('CREAM LIQUEURS', 'CORDIAL & LIQUEUR'))\n",
    "sales['category'] = sales['category'].apply(lambda x: x.replace('SCOTCH WHISKIES', 'WHISKEY'))\n",
    "sales['category'] = sales['category'].apply(lambda x: x.replace('IMPORTED GRAPE BRANDIES', 'IMPORTED BRANDY'))\n",
    "sales['category'] = sales['category'].apply(lambda x: x.replace('MISC. AMERICAN CORDIALS & LIQUEURS', 'CORDIAL & LIQUEUR'))\n",
    "sales['category'] = sales['category'].apply(lambda x: x.replace('100 PROOF VODKA ', 'VODKA'))\n",
    "sales['category'] = sales['category'].apply(lambda x: x.replace('IMPORTED DRY GINS', 'IMPORTED GIN'))\n",
    "sales['category'] = sales['category'].apply(lambda x: x.replace('IRISH WHISKIES', 'IMPORTED WHISKEY'))\n",
    "sales['category'] = sales['category'].apply(lambda x: x.replace('WATERMELON SCHNAPPS', 'SCHNAPPS'))\n",
    "sales['category'] = sales['category'].apply(lambda x: x.replace('BARBADOS RUM', 'IMPORTED RUM'))\n",
    "sales['category'] = sales['category'].apply(lambda x: x.replace('JAMAICA RUM', 'IMPORTED RUM'))\n",
    "sales['category'] = sales['category'].apply(lambda x: x.replace('GRAPE SCHNAPPS', 'SCHNAPPS'))\n",
    "sales['category'] = sales['category'].apply(lambda x: x.replace('CHERRY BRANDIES', 'BRANDY'))\n",
    "sales['category'] = sales['category'].apply(lambda x: x.replace('ROOT BEER SCHNAPPS', 'SCHNAPPS'))\n",
    "sales['category'] = sales['category'].apply(lambda x: x.replace('RASPBERRY SCHNAPPS', 'SCHNAPPS'))\n",
    "sales['category'] = sales['category'].apply(lambda x: x.replace('COFFEE LIQUEURS', 'CORDIAL & LIQUEUR'))\n",
    "sales['category'] = sales['category'].apply(lambda x: x.replace('PEACH SCHNAPPS', 'SCHNAPPS'))\n",
    "sales['category'] = sales['category'].apply(lambda x: x.replace('BLACKBERRY BRANDIES', 'BRANDY'))\n",
    "sales['category'] = sales['category'].apply(lambda x: x.replace('IMPORTED AMARETTO', 'IMPORTED CORDIAL & LIQUEUR'))\n",
    "sales['category'] = sales['category'].apply(lambda x: x.replace('GREEN CREME DE MENTHE', 'CORDIAL & LIQUEUR'))\n",
    "sales['category'] = sales['category'].apply(lambda x: x.replace('FLAVORED GINS', 'GIN'))\n",
    "sales['category'] = sales['category'].apply(lambda x: x.replace('TROPICAL FRUIT SCHNAPPS', 'SCHNAPPS'))\n",
    "sales['category'] = sales['category'].apply(lambda x: x.replace('WHITE CREME DE CACAO', 'CORDIAL & LIQUEUR'))\n",
    "sales['category'] = sales['category'].apply(lambda x: x.replace('DARK CREME DE CACAO', 'CORDIAL & LIQUEUR'))\n",
    "sales['category'] = sales['category'].apply(lambda x: x.replace('BOTTLED IN BOND BOURBON', 'BOURBON'))\n",
    "sales['category'] = sales['category'].apply(lambda x: x.replace('SINGLE BARREL BOURBON WHISKIES', 'BOURBON'))\n",
    "sales['category'] = sales['category'].apply(lambda x: x.replace('AMERICAN SLOE GINS', 'GIN'))\n",
    "sales['category'] = sales['category'].apply(lambda x: x.replace('MISCELLANEOUS  BRANDIES', 'BRANDY'))\n",
    "sales['category'] = sales['category'].apply(lambda x: x.replace('SPEARMINT SCHNAPPS', 'SCHNAPPS'))\n",
    "sales['category'] = sales['category'].apply(lambda x: x.replace('ROCK & RYE', 'WHISKEY'))\n",
    "sales['category'] = sales['category'].apply(lambda x: x.replace('WHITE CREME DE MENTHE', 'CORDIAL & LIQUEUR'))\n",
    "sales['category'] = sales['category'].apply(lambda x: x.replace('CREME DE ALMOND', 'CORDIAL & LIQUEUR'))\n",
    "sales['category'] = sales['category'].apply(lambda x: x.replace('ANISETTE', 'CORDIAL & LIQUEUR'))\n",
    "sales['category'] = sales['category'].apply(lambda x: x.replace('JAPANESE WHISKY', 'IMPORTED VODKA'))\n",
    "sales['category'] = sales['category'].apply(lambda x: x.replace('LOW PROOF VODKA', 'VODKA'))\n",
    "sales['category'] = sales['category'].apply(lambda x: x.replace('CORN WHISKIES', 'WHISKEY'))\n",
    "sales['category'] = sales['category'].apply(lambda x: x.replace('AMARETTO - IMPORTED', 'IMPORTED CORDIAL & LIQUEUR'))\n",
    "sales['category'] = sales['category'].apply(lambda x: x.replace('HIGH PROOF BEER - AMERICAN', 'BEER'))\n",
    "sales['category'] = sales['category'].apply(lambda x: x.replace('CINNAMON SCHNAPPS', 'SCHNAPPS'))\n",
    "sales['category'] = sales['category'].apply(lambda x: x.replace('APPLE SCHNAPPS', 'SCHNAPPS'))\n",
    "sales['category'] = sales['category'].apply(lambda x: x.replace('TRIPLE SEC', 'CORDIAL & LIQUEUR'))\n",
    "sales['category'] = sales['category'].apply(lambda x: x.replace('BUTTERSCOTCH SCHNAPPS', 'SCHNAPPS'))\n",
    "sales['category'] = sales['category'].apply(lambda x: x.replace('MISCELLANEOUS SCHNAPPS', 'SCHNAPPS'))\n",
    "sales['category'] = sales['category'].apply(lambda x: x.replace('100 PROOF VODKA', 'VODKA'))\n",
    "sales['category'] = sales['category'].apply(lambda x: x.replace('PEPPERMINT SCHNAPPS', 'SCHNAPPS'))\n",
    "sales['category'] = sales['category'].apply(lambda x: x.replace('AMERICAN AMARETTO', 'CORDIAL & LIQUEUR'))\n",
    "sales['category'] = sales['category'].apply(lambda x: x.replace('APRICOT BRANDIES', 'BRANDY'))\n",
    "sales['category'] = sales['category'].apply(lambda x: x.replace('PEACH BRANDIES', 'BRANDY'))\n",
    "sales['category'] = sales['category'].apply(lambda x: x.replace('STRAWBERRY SCHNAPPS', 'SCHNAPPS'))\n",
    "sales['category'] = sales['category'].apply(lambda x: x.replace('OTHER PROOF VODKA', 'VODKA'))\n",
    "sales['category'] = sales['category'].apply(lambda x: x.replace('MISCELLANEOUS SCHNAPPS', 'SCHNAPPS'))\n",
    "sales['category'] = sales['category'].apply(lambda x: x.replace('STRAIGHT RYE WHISKIES', 'WHISKEY'))"
   ]
  },
  {
   "cell_type": "code",
   "execution_count": 17,
   "metadata": {
    "collapsed": false
   },
   "outputs": [
    {
     "data": {
      "text/plain": [
       "VODKA                             52771\n",
       "WHISKEY                           52576\n",
       "RUM                               31975\n",
       "CORDIAL & LIQUEUR                 25841\n",
       "IMPORTED VODKA                    17197\n",
       "BOURBON                           15851\n",
       "TEQUILA                           12109\n",
       "BRANDY                            10430\n",
       "SCHNAPPS                          10315\n",
       "GIN                                6978\n",
       "AMERICAN COCKTAILS                 6929\n",
       "IMPORTED CORDIAL & LIQUEUR         6578\n",
       "IMPORTED BRANDY                    4614\n",
       "IMPORTED SCHNAPPS                  4249\n",
       "IMPORTED GIN                       2939\n",
       "IMPORTED WHISKEY                   2791\n",
       "SINGLE MALT SCOTCH                 2288\n",
       "DISTILLED SPIRITS SPECIALTY        1380\n",
       "DECANTERS & SPECIALTY PACKAGES     1159\n",
       "IMPORTED RUM                        778\n",
       "nan                                 632\n",
       "AMERICAN ALCOHOL                    573\n",
       "BEER                                  2\n",
       "Name: category, dtype: int64"
      ]
     },
     "execution_count": 17,
     "metadata": {},
     "output_type": "execute_result"
    }
   ],
   "source": [
    "sales['category'].value_counts()"
   ]
  },
  {
   "cell_type": "code",
   "execution_count": 18,
   "metadata": {
    "collapsed": true
   },
   "outputs": [],
   "source": [
    "# delete rows with 'nan' entry in category column:\n",
    "\n",
    "sales = sales[sales.category != 'nan']"
   ]
  },
  {
   "cell_type": "code",
   "execution_count": 19,
   "metadata": {
    "collapsed": false
   },
   "outputs": [
    {
     "data": {
      "text/plain": [
       "VODKA                             52771\n",
       "WHISKEY                           52576\n",
       "RUM                               31975\n",
       "CORDIAL & LIQUEUR                 25841\n",
       "IMPORTED VODKA                    17197\n",
       "BOURBON                           15851\n",
       "TEQUILA                           12109\n",
       "BRANDY                            10430\n",
       "SCHNAPPS                          10315\n",
       "GIN                                6978\n",
       "AMERICAN COCKTAILS                 6929\n",
       "IMPORTED CORDIAL & LIQUEUR         6578\n",
       "IMPORTED BRANDY                    4614\n",
       "IMPORTED SCHNAPPS                  4249\n",
       "IMPORTED GIN                       2939\n",
       "IMPORTED WHISKEY                   2791\n",
       "SINGLE MALT SCOTCH                 2288\n",
       "DISTILLED SPIRITS SPECIALTY        1380\n",
       "DECANTERS & SPECIALTY PACKAGES     1159\n",
       "IMPORTED RUM                        778\n",
       "AMERICAN ALCOHOL                    573\n",
       "BEER                                  2\n",
       "Name: category, dtype: int64"
      ]
     },
     "execution_count": 19,
     "metadata": {},
     "output_type": "execute_result"
    }
   ],
   "source": [
    "sales['category'].value_counts()"
   ]
  },
  {
   "cell_type": "code",
   "execution_count": 20,
   "metadata": {
    "collapsed": true
   },
   "outputs": [],
   "source": [
    "sales_cat = sales.copy()\n",
    "sales_cat['category'] = sales_cat['category'].apply(lambda x: x.replace('IMPORTED CORDIAL \\\n",
    "                                                            & LIQUEUR', 'CORDIAL & LIQUEUR'))\n",
    "sales_cat['category'] = sales_cat['category'].apply(lambda x: x.replace('IMPORTED BRANDY', \\\n",
    "                                                                        'BRANDY'))\n",
    "sales_cat['category'] = sales_cat['category'].apply(lambda x: x.replace('IMPORTED SCHNAPPS', \\\n",
    "                                                                        'SCHNAPPS'))\n",
    "sales_cat['category'] = sales_cat['category'].apply(lambda x: x.replace('IMPORTED GIN', 'GIN'))\n",
    "sales_cat['category'] = sales_cat['category'].apply(lambda x: x.replace('IMPORTED WHISKEY', \\\n",
    "                                                                        'WHISKEY'))\n",
    "sales_cat['category'] = sales_cat['category'].apply(lambda x: x.replace('IMPORTED RUM', 'RUM'))\n",
    "sales_cat['category'] = sales_cat['category'].apply(lambda x: x.replace('IMPORTED GIN', 'GIN'))\n",
    "sales_cat['category'] = sales_cat['category'].apply(lambda x: x.replace('IMPORTED VODKA', \\\n",
    "                                                                        'VODKA'))"
   ]
  },
  {
   "cell_type": "code",
   "execution_count": 21,
   "metadata": {
    "collapsed": true
   },
   "outputs": [],
   "source": [
    "sales_cat = sales_cat[sales_cat.category != 'AMERICAN ALCOHOL']\n",
    "sales_cat = sales_cat[sales_cat.category != 'BEER']"
   ]
  },
  {
   "cell_type": "code",
   "execution_count": 22,
   "metadata": {
    "collapsed": false
   },
   "outputs": [
    {
     "data": {
      "text/plain": [
       "VODKA                             69968\n",
       "WHISKEY                           55367\n",
       "RUM                               32753\n",
       "CORDIAL & LIQUEUR                 25841\n",
       "BOURBON                           15851\n",
       "BRANDY                            15044\n",
       "SCHNAPPS                          14564\n",
       "TEQUILA                           12109\n",
       "GIN                                9917\n",
       "AMERICAN COCKTAILS                 6929\n",
       "IMPORTED CORDIAL & LIQUEUR         6578\n",
       "SINGLE MALT SCOTCH                 2288\n",
       "DISTILLED SPIRITS SPECIALTY        1380\n",
       "DECANTERS & SPECIALTY PACKAGES     1159\n",
       "Name: category, dtype: int64"
      ]
     },
     "execution_count": 22,
     "metadata": {},
     "output_type": "execute_result"
    }
   ],
   "source": [
    "sales_cat['category'].value_counts()"
   ]
  },
  {
   "cell_type": "code",
   "execution_count": 23,
   "metadata": {
    "collapsed": false
   },
   "outputs": [
    {
     "data": {
      "text/plain": [
       "22"
      ]
     },
     "execution_count": 23,
     "metadata": {},
     "output_type": "execute_result"
    }
   ],
   "source": [
    "len(sales['category'].unique())  # much better!  "
   ]
  },
  {
   "cell_type": "code",
   "execution_count": 24,
   "metadata": {
    "collapsed": false
   },
   "outputs": [
    {
     "data": {
      "text/plain": [
       "14"
      ]
     },
     "execution_count": 24,
     "metadata": {},
     "output_type": "execute_result"
    }
   ],
   "source": [
    "len(sales_cat['category'].unique())  # even more consolidated!  we can make this into a dummy variable"
   ]
  },
  {
   "cell_type": "code",
   "execution_count": 25,
   "metadata": {
    "collapsed": false
   },
   "outputs": [
    {
     "data": {
      "text/html": [
       "<div>\n",
       "<table border=\"1\" class=\"dataframe\">\n",
       "  <thead>\n",
       "    <tr style=\"text-align: right;\">\n",
       "      <th></th>\n",
       "      <th>date</th>\n",
       "      <th>store</th>\n",
       "      <th>ZIP</th>\n",
       "      <th>category</th>\n",
       "      <th>vendorID</th>\n",
       "      <th>volume</th>\n",
       "      <th>cost</th>\n",
       "      <th>retail</th>\n",
       "      <th>number_sold</th>\n",
       "      <th>total_sale</th>\n",
       "      <th>volume_sold</th>\n",
       "    </tr>\n",
       "  </thead>\n",
       "  <tbody>\n",
       "    <tr>\n",
       "      <th>0</th>\n",
       "      <td>2015-11-04</td>\n",
       "      <td>3717</td>\n",
       "      <td>50674</td>\n",
       "      <td>BRANDY</td>\n",
       "      <td>55</td>\n",
       "      <td>750.0</td>\n",
       "      <td>4.5</td>\n",
       "      <td>6.75</td>\n",
       "      <td>12.0</td>\n",
       "      <td>81.0</td>\n",
       "      <td>9.0</td>\n",
       "    </tr>\n",
       "  </tbody>\n",
       "</table>\n",
       "</div>"
      ],
      "text/plain": [
       "        date store    ZIP category vendorID  volume  cost  retail  \\\n",
       "0 2015-11-04  3717  50674   BRANDY       55   750.0   4.5    6.75   \n",
       "\n",
       "   number_sold  total_sale  volume_sold  \n",
       "0         12.0        81.0          9.0  "
      ]
     },
     "execution_count": 25,
     "metadata": {},
     "output_type": "execute_result"
    }
   ],
   "source": [
    "sales_cat.head(1)"
   ]
  },
  {
   "cell_type": "code",
   "execution_count": 26,
   "metadata": {
    "collapsed": false
   },
   "outputs": [
    {
     "data": {
      "text/plain": [
       "pandas.core.series.Series"
      ]
     },
     "execution_count": 26,
     "metadata": {},
     "output_type": "execute_result"
    }
   ],
   "source": [
    "cat_counts = sales_cat['category'].value_counts()\n",
    "type(cat_counts)"
   ]
  },
  {
   "cell_type": "code",
   "execution_count": 75,
   "metadata": {
    "collapsed": false
   },
   "outputs": [
    {
     "data": {
      "image/png": "[encoded data removed]",
      "text/plain": [
       "<matplotlib.figure.Figure at 0x1260ba910>"
      ]
     },
     "metadata": {},
     "output_type": "display_data"
    }
   ],
   "source": [
    "plt.figure(figsize = (12,8))\n",
    "cat_counts.plot.bar() \n",
    "plt.axhline(0, color='darkblue')\n",
    "\n",
    "plt.style.use('fivethirtyeight')\n",
    "\n",
    "plt.title('Spirit Sales by Category', fontsize = 24)\n",
    "\n",
    "# y label\n",
    "plt.ylabel('Number of Bottles')\n",
    "\n",
    "# x label\n",
    "plt.xlabel('Category')\n",
    "\n",
    "\n",
    "plt.show()"
   ]
  },
  {
   "cell_type": "code",
   "execution_count": 29,
   "metadata": {
    "collapsed": false
   },
   "outputs": [
    {
     "data": {
      "text/plain": [
       "1400"
      ]
     },
     "execution_count": 29,
     "metadata": {},
     "output_type": "execute_result"
    }
   ],
   "source": [
    "len(sales_cat['store'].unique())"
   ]
  },
  {
   "cell_type": "code",
   "execution_count": 30,
   "metadata": {
    "collapsed": false
   },
   "outputs": [
    {
     "data": {
      "text/plain": [
       "415"
      ]
     },
     "execution_count": 30,
     "metadata": {},
     "output_type": "execute_result"
    }
   ],
   "source": [
    "len(sales_cat['ZIP'].unique()) # dummy?"
   ]
  },
  {
   "cell_type": "code",
   "execution_count": 31,
   "metadata": {
    "collapsed": false
   },
   "outputs": [
    {
     "data": {
      "text/plain": [
       "114"
      ]
     },
     "execution_count": 31,
     "metadata": {},
     "output_type": "execute_result"
    }
   ],
   "source": [
    "len(sales_cat['vendorID'].unique()) # dummy?"
   ]
  },
  {
   "cell_type": "code",
   "execution_count": 32,
   "metadata": {
    "collapsed": false
   },
   "outputs": [
    {
     "data": {
      "text/plain": [
       "750.0     121881\n",
       "1750.0     54316\n",
       "1000.0     36794\n",
       "375.0      26994\n",
       "500.0      11967\n",
       "200.0       9895\n",
       "600.0       3282\n",
       "3000.0      1605\n",
       "300.0       1338\n",
       "100.0        860\n",
       "800.0        318\n",
       "1200.0       250\n",
       "2400.0       103\n",
       "400.0         29\n",
       "850.0         24\n",
       "4800.0        17\n",
       "50.0          14\n",
       "3600.0        13\n",
       "603.0         10\n",
       "6000.0         7\n",
       "950.0          6\n",
       "2250.0         6\n",
       "2550.0         6\n",
       "1125.0         5\n",
       "150.0          3\n",
       "900.0          2\n",
       "1500.0         1\n",
       "250.0          1\n",
       "4500.0         1\n",
       "Name: volume, dtype: int64"
      ]
     },
     "execution_count": 32,
     "metadata": {},
     "output_type": "execute_result"
    }
   ],
   "source": [
    "sales_cat['volume'].value_counts()"
   ]
  },
  {
   "cell_type": "code",
   "execution_count": 33,
   "metadata": {
    "collapsed": false
   },
   "outputs": [],
   "source": [
    "# a couple of these look fishy, let's adjust by a few mLs:\n",
    "\n",
    "sales_cat['volume'] = sales_cat['volume'].apply(lambda x: str(x))\n",
    "sales_cat['volume'] = sales_cat['volume'].apply(lambda x: x.replace('603.0', '600.0'))\n",
    "sales_cat['volume'] = sales_cat['volume'].apply(lambda x: x.replace('502.0', '500.0'))\n",
    "sales_cat['volume'] = sales_cat['volume'].apply(lambda x: float(x))"
   ]
  },
  {
   "cell_type": "code",
   "execution_count": 34,
   "metadata": {
    "collapsed": false
   },
   "outputs": [
    {
     "data": {
      "text/plain": [
       "270323"
      ]
     },
     "execution_count": 34,
     "metadata": {},
     "output_type": "execute_result"
    }
   ],
   "source": [
    "sales_cat['volume'].value_counts()\n",
    "len(sales)"
   ]
  },
  {
   "cell_type": "code",
   "execution_count": 35,
   "metadata": {
    "collapsed": false
   },
   "outputs": [
    {
     "data": {
      "image/png": "[encoded data removed]",
      "text/plain": [
       "<matplotlib.figure.Figure at 0x11b007c50>"
      ]
     },
     "metadata": {},
     "output_type": "display_data"
    }
   ],
   "source": [
    "plt.figure(figsize=(12,8))\n",
    "plt.style.use('fivethirtyeight')\n",
    "\n",
    "df_hist = plt.hist(sales_cat['volume'], color = 'darkred', bins = 20)\n",
    "\n",
    "plt.title('Histogram of Bottle Volume', fontsize = 24)\n",
    "\n",
    "# y label\n",
    "plt.ylabel('Number of Bottles')\n",
    "\n",
    "# x label\n",
    "plt.xlabel('Volume (mL)')\n",
    "\n",
    "plt.xlim([-100,6100])\n",
    "plt.ylim([-200,130000])\n",
    "\n",
    "plt.show()"
   ]
  },
  {
   "cell_type": "markdown",
   "metadata": {},
   "source": [
    "We can see from the histogram that the vast majority of bottles sold are below 2L in volume.  We see from the value counts table that the most frequently purchased volume is 750mL."
   ]
  },
  {
   "cell_type": "code",
   "execution_count": 36,
   "metadata": {
    "collapsed": false
   },
   "outputs": [
    {
     "data": {
      "image/png": "[encoded data removed]",
      "text/plain": [
       "<matplotlib.figure.Figure at 0x11a0c31d0>"
      ]
     },
     "metadata": {},
     "output_type": "display_data"
    }
   ],
   "source": [
    "plt.figure(figsize=(12,8))\n",
    "\n",
    "plt.style.use('fivethirtyeight')\n",
    "\n",
    "plt.scatter(sales_cat['volume'], sales_cat['number_sold'], color = 'green')\n",
    "\n",
    "plt.title('Bottles Sold vs. Bottle Volume (one dot per store, per volume)', fontsize = 24)\n",
    "\n",
    "# y label\n",
    "plt.ylabel('Number of Bottles Sold')\n",
    "\n",
    "# x label\n",
    "plt.xlabel('Volume (mL)')\n",
    "\n",
    "plt.xlim([-100,6100])\n",
    "plt.ylim([-200,2700])\n",
    "\n",
    "plt.show()"
   ]
  },
  {
   "cell_type": "markdown",
   "metadata": {},
   "source": [
    "From the scatterplot, we see that some stores are selling way, way more bottles at a given volume that other stores.  A jitter would be useful here to see relative density of plotted points where it looks like they're stacking up.  (To note, there were some exceedingly large-volumed items which appear to have dropped out of the data set during cleaning.)"
   ]
  },
  {
   "cell_type": "code",
   "execution_count": 37,
   "metadata": {
    "collapsed": false,
    "scrolled": true
   },
   "outputs": [
    {
     "data": {
      "text/html": [
       "<div>\n",
       "<table border=\"1\" class=\"dataframe\">\n",
       "  <thead>\n",
       "    <tr style=\"text-align: right;\">\n",
       "      <th></th>\n",
       "      <th>date</th>\n",
       "      <th>store</th>\n",
       "      <th>ZIP</th>\n",
       "      <th>category</th>\n",
       "      <th>vendorID</th>\n",
       "      <th>volume</th>\n",
       "      <th>cost</th>\n",
       "      <th>retail</th>\n",
       "      <th>number_sold</th>\n",
       "      <th>total_sale</th>\n",
       "      <th>volume_sold</th>\n",
       "    </tr>\n",
       "  </thead>\n",
       "  <tbody>\n",
       "    <tr>\n",
       "      <th>2570</th>\n",
       "      <td>2015-10-08</td>\n",
       "      <td>2587</td>\n",
       "      <td>50131</td>\n",
       "      <td>WHISKEY</td>\n",
       "      <td>65</td>\n",
       "      <td>4800.0</td>\n",
       "      <td>71.04</td>\n",
       "      <td>106.56</td>\n",
       "      <td>1.0</td>\n",
       "      <td>106.56</td>\n",
       "      <td>4.8</td>\n",
       "    </tr>\n",
       "    <tr>\n",
       "      <th>38630</th>\n",
       "      <td>2015-12-22</td>\n",
       "      <td>2500</td>\n",
       "      <td>50010</td>\n",
       "      <td>WHISKEY</td>\n",
       "      <td>65</td>\n",
       "      <td>4800.0</td>\n",
       "      <td>71.04</td>\n",
       "      <td>106.56</td>\n",
       "      <td>1.0</td>\n",
       "      <td>106.56</td>\n",
       "      <td>4.8</td>\n",
       "    </tr>\n",
       "    <tr>\n",
       "      <th>56706</th>\n",
       "      <td>2015-01-05</td>\n",
       "      <td>2636</td>\n",
       "      <td>50317</td>\n",
       "      <td>WHISKEY</td>\n",
       "      <td>65</td>\n",
       "      <td>4800.0</td>\n",
       "      <td>45.12</td>\n",
       "      <td>67.68</td>\n",
       "      <td>1.0</td>\n",
       "      <td>67.68</td>\n",
       "      <td>4.8</td>\n",
       "    </tr>\n",
       "    <tr>\n",
       "      <th>60585</th>\n",
       "      <td>2015-11-04</td>\n",
       "      <td>3987</td>\n",
       "      <td>50511</td>\n",
       "      <td>CORDIAL &amp; LIQUEUR</td>\n",
       "      <td>305</td>\n",
       "      <td>6000.0</td>\n",
       "      <td>99.00</td>\n",
       "      <td>148.50</td>\n",
       "      <td>1.0</td>\n",
       "      <td>148.50</td>\n",
       "      <td>6.0</td>\n",
       "    </tr>\n",
       "    <tr>\n",
       "      <th>63818</th>\n",
       "      <td>2015-05-22</td>\n",
       "      <td>2636</td>\n",
       "      <td>50317</td>\n",
       "      <td>WHISKEY</td>\n",
       "      <td>65</td>\n",
       "      <td>4800.0</td>\n",
       "      <td>45.12</td>\n",
       "      <td>67.68</td>\n",
       "      <td>1.0</td>\n",
       "      <td>67.68</td>\n",
       "      <td>4.8</td>\n",
       "    </tr>\n",
       "    <tr>\n",
       "      <th>71636</th>\n",
       "      <td>2016-02-25</td>\n",
       "      <td>5106</td>\n",
       "      <td>52742</td>\n",
       "      <td>CORDIAL &amp; LIQUEUR</td>\n",
       "      <td>305</td>\n",
       "      <td>6000.0</td>\n",
       "      <td>99.00</td>\n",
       "      <td>148.50</td>\n",
       "      <td>1.0</td>\n",
       "      <td>148.50</td>\n",
       "      <td>6.0</td>\n",
       "    </tr>\n",
       "    <tr>\n",
       "      <th>74088</th>\n",
       "      <td>2015-02-04</td>\n",
       "      <td>2500</td>\n",
       "      <td>50010</td>\n",
       "      <td>CORDIAL &amp; LIQUEUR</td>\n",
       "      <td>308</td>\n",
       "      <td>4500.0</td>\n",
       "      <td>68.94</td>\n",
       "      <td>103.41</td>\n",
       "      <td>1.0</td>\n",
       "      <td>103.41</td>\n",
       "      <td>4.5</td>\n",
       "    </tr>\n",
       "    <tr>\n",
       "      <th>114946</th>\n",
       "      <td>2015-07-28</td>\n",
       "      <td>4819</td>\n",
       "      <td>50009</td>\n",
       "      <td>WHISKEY</td>\n",
       "      <td>65</td>\n",
       "      <td>4800.0</td>\n",
       "      <td>45.12</td>\n",
       "      <td>67.68</td>\n",
       "      <td>3.0</td>\n",
       "      <td>203.04</td>\n",
       "      <td>14.4</td>\n",
       "    </tr>\n",
       "    <tr>\n",
       "      <th>121877</th>\n",
       "      <td>2015-12-23</td>\n",
       "      <td>5093</td>\n",
       "      <td>52753</td>\n",
       "      <td>CORDIAL &amp; LIQUEUR</td>\n",
       "      <td>305</td>\n",
       "      <td>6000.0</td>\n",
       "      <td>99.00</td>\n",
       "      <td>148.50</td>\n",
       "      <td>1.0</td>\n",
       "      <td>148.50</td>\n",
       "      <td>6.0</td>\n",
       "    </tr>\n",
       "    <tr>\n",
       "      <th>141875</th>\n",
       "      <td>2015-01-07</td>\n",
       "      <td>2603</td>\n",
       "      <td>52722</td>\n",
       "      <td>WHISKEY</td>\n",
       "      <td>65</td>\n",
       "      <td>4800.0</td>\n",
       "      <td>45.12</td>\n",
       "      <td>67.68</td>\n",
       "      <td>1.0</td>\n",
       "      <td>67.68</td>\n",
       "      <td>4.8</td>\n",
       "    </tr>\n",
       "    <tr>\n",
       "      <th>157333</th>\n",
       "      <td>2016-01-27</td>\n",
       "      <td>2502</td>\n",
       "      <td>50021</td>\n",
       "      <td>CORDIAL &amp; LIQUEUR</td>\n",
       "      <td>305</td>\n",
       "      <td>6000.0</td>\n",
       "      <td>99.00</td>\n",
       "      <td>148.50</td>\n",
       "      <td>1.0</td>\n",
       "      <td>148.50</td>\n",
       "      <td>6.0</td>\n",
       "    </tr>\n",
       "    <tr>\n",
       "      <th>158273</th>\n",
       "      <td>2015-03-09</td>\n",
       "      <td>2549</td>\n",
       "      <td>50125</td>\n",
       "      <td>WHISKEY</td>\n",
       "      <td>65</td>\n",
       "      <td>4800.0</td>\n",
       "      <td>45.12</td>\n",
       "      <td>67.68</td>\n",
       "      <td>1.0</td>\n",
       "      <td>67.68</td>\n",
       "      <td>4.8</td>\n",
       "    </tr>\n",
       "    <tr>\n",
       "      <th>163211</th>\n",
       "      <td>2015-06-24</td>\n",
       "      <td>2614</td>\n",
       "      <td>52807</td>\n",
       "      <td>WHISKEY</td>\n",
       "      <td>65</td>\n",
       "      <td>4800.0</td>\n",
       "      <td>45.12</td>\n",
       "      <td>67.68</td>\n",
       "      <td>1.0</td>\n",
       "      <td>67.68</td>\n",
       "      <td>4.8</td>\n",
       "    </tr>\n",
       "    <tr>\n",
       "      <th>187835</th>\n",
       "      <td>2015-11-18</td>\n",
       "      <td>2622</td>\n",
       "      <td>52240</td>\n",
       "      <td>CORDIAL &amp; LIQUEUR</td>\n",
       "      <td>305</td>\n",
       "      <td>6000.0</td>\n",
       "      <td>99.00</td>\n",
       "      <td>148.50</td>\n",
       "      <td>1.0</td>\n",
       "      <td>148.50</td>\n",
       "      <td>6.0</td>\n",
       "    </tr>\n",
       "    <tr>\n",
       "      <th>197079</th>\n",
       "      <td>2015-05-20</td>\n",
       "      <td>2670</td>\n",
       "      <td>52241</td>\n",
       "      <td>WHISKEY</td>\n",
       "      <td>65</td>\n",
       "      <td>4800.0</td>\n",
       "      <td>45.12</td>\n",
       "      <td>67.68</td>\n",
       "      <td>1.0</td>\n",
       "      <td>67.68</td>\n",
       "      <td>4.8</td>\n",
       "    </tr>\n",
       "    <tr>\n",
       "      <th>203021</th>\n",
       "      <td>2015-12-28</td>\n",
       "      <td>2556</td>\n",
       "      <td>51334</td>\n",
       "      <td>CORDIAL &amp; LIQUEUR</td>\n",
       "      <td>305</td>\n",
       "      <td>6000.0</td>\n",
       "      <td>99.00</td>\n",
       "      <td>148.50</td>\n",
       "      <td>1.0</td>\n",
       "      <td>148.50</td>\n",
       "      <td>6.0</td>\n",
       "    </tr>\n",
       "    <tr>\n",
       "      <th>203127</th>\n",
       "      <td>2015-10-12</td>\n",
       "      <td>2653</td>\n",
       "      <td>52353</td>\n",
       "      <td>WHISKEY</td>\n",
       "      <td>65</td>\n",
       "      <td>4800.0</td>\n",
       "      <td>71.04</td>\n",
       "      <td>106.56</td>\n",
       "      <td>1.0</td>\n",
       "      <td>106.56</td>\n",
       "      <td>4.8</td>\n",
       "    </tr>\n",
       "    <tr>\n",
       "      <th>205400</th>\n",
       "      <td>2015-01-22</td>\n",
       "      <td>5034</td>\n",
       "      <td>50401</td>\n",
       "      <td>WHISKEY</td>\n",
       "      <td>65</td>\n",
       "      <td>4800.0</td>\n",
       "      <td>45.12</td>\n",
       "      <td>67.68</td>\n",
       "      <td>1.0</td>\n",
       "      <td>67.68</td>\n",
       "      <td>4.8</td>\n",
       "    </tr>\n",
       "    <tr>\n",
       "      <th>213869</th>\n",
       "      <td>2015-03-04</td>\n",
       "      <td>2614</td>\n",
       "      <td>52807</td>\n",
       "      <td>WHISKEY</td>\n",
       "      <td>65</td>\n",
       "      <td>4800.0</td>\n",
       "      <td>45.12</td>\n",
       "      <td>67.68</td>\n",
       "      <td>1.0</td>\n",
       "      <td>67.68</td>\n",
       "      <td>4.8</td>\n",
       "    </tr>\n",
       "    <tr>\n",
       "      <th>220834</th>\n",
       "      <td>2015-03-26</td>\n",
       "      <td>2587</td>\n",
       "      <td>50131</td>\n",
       "      <td>WHISKEY</td>\n",
       "      <td>65</td>\n",
       "      <td>4800.0</td>\n",
       "      <td>45.12</td>\n",
       "      <td>67.68</td>\n",
       "      <td>1.0</td>\n",
       "      <td>67.68</td>\n",
       "      <td>4.8</td>\n",
       "    </tr>\n",
       "    <tr>\n",
       "      <th>225581</th>\n",
       "      <td>2015-02-19</td>\n",
       "      <td>2626</td>\n",
       "      <td>50311</td>\n",
       "      <td>WHISKEY</td>\n",
       "      <td>65</td>\n",
       "      <td>4800.0</td>\n",
       "      <td>45.12</td>\n",
       "      <td>67.68</td>\n",
       "      <td>1.0</td>\n",
       "      <td>67.68</td>\n",
       "      <td>4.8</td>\n",
       "    </tr>\n",
       "    <tr>\n",
       "      <th>233407</th>\n",
       "      <td>2015-10-06</td>\n",
       "      <td>2524</td>\n",
       "      <td>52001</td>\n",
       "      <td>CORDIAL &amp; LIQUEUR</td>\n",
       "      <td>305</td>\n",
       "      <td>6000.0</td>\n",
       "      <td>99.00</td>\n",
       "      <td>148.50</td>\n",
       "      <td>25.0</td>\n",
       "      <td>3712.50</td>\n",
       "      <td>150.0</td>\n",
       "    </tr>\n",
       "    <tr>\n",
       "      <th>253785</th>\n",
       "      <td>2015-03-02</td>\n",
       "      <td>2605</td>\n",
       "      <td>52402</td>\n",
       "      <td>WHISKEY</td>\n",
       "      <td>65</td>\n",
       "      <td>4800.0</td>\n",
       "      <td>45.12</td>\n",
       "      <td>67.68</td>\n",
       "      <td>1.0</td>\n",
       "      <td>67.68</td>\n",
       "      <td>4.8</td>\n",
       "    </tr>\n",
       "    <tr>\n",
       "      <th>256406</th>\n",
       "      <td>2015-03-04</td>\n",
       "      <td>2603</td>\n",
       "      <td>52722</td>\n",
       "      <td>WHISKEY</td>\n",
       "      <td>65</td>\n",
       "      <td>4800.0</td>\n",
       "      <td>45.12</td>\n",
       "      <td>67.68</td>\n",
       "      <td>1.0</td>\n",
       "      <td>67.68</td>\n",
       "      <td>4.8</td>\n",
       "    </tr>\n",
       "    <tr>\n",
       "      <th>261736</th>\n",
       "      <td>2015-04-13</td>\n",
       "      <td>2670</td>\n",
       "      <td>52241</td>\n",
       "      <td>WHISKEY</td>\n",
       "      <td>65</td>\n",
       "      <td>4800.0</td>\n",
       "      <td>45.12</td>\n",
       "      <td>67.68</td>\n",
       "      <td>3.0</td>\n",
       "      <td>203.04</td>\n",
       "      <td>14.4</td>\n",
       "    </tr>\n",
       "  </tbody>\n",
       "</table>\n",
       "</div>"
      ],
      "text/plain": [
       "             date store    ZIP           category vendorID  volume   cost  \\\n",
       "2570   2015-10-08  2587  50131            WHISKEY       65  4800.0  71.04   \n",
       "38630  2015-12-22  2500  50010            WHISKEY       65  4800.0  71.04   \n",
       "56706  2015-01-05  2636  50317            WHISKEY       65  4800.0  45.12   \n",
       "60585  2015-11-04  3987  50511  CORDIAL & LIQUEUR      305  6000.0  99.00   \n",
       "63818  2015-05-22  2636  50317            WHISKEY       65  4800.0  45.12   \n",
       "71636  2016-02-25  5106  52742  CORDIAL & LIQUEUR      305  6000.0  99.00   \n",
       "74088  2015-02-04  2500  50010  CORDIAL & LIQUEUR      308  4500.0  68.94   \n",
       "114946 2015-07-28  4819  50009            WHISKEY       65  4800.0  45.12   \n",
       "121877 2015-12-23  5093  52753  CORDIAL & LIQUEUR      305  6000.0  99.00   \n",
       "141875 2015-01-07  2603  52722            WHISKEY       65  4800.0  45.12   \n",
       "157333 2016-01-27  2502  50021  CORDIAL & LIQUEUR      305  6000.0  99.00   \n",
       "158273 2015-03-09  2549  50125            WHISKEY       65  4800.0  45.12   \n",
       "163211 2015-06-24  2614  52807            WHISKEY       65  4800.0  45.12   \n",
       "187835 2015-11-18  2622  52240  CORDIAL & LIQUEUR      305  6000.0  99.00   \n",
       "197079 2015-05-20  2670  52241            WHISKEY       65  4800.0  45.12   \n",
       "203021 2015-12-28  2556  51334  CORDIAL & LIQUEUR      305  6000.0  99.00   \n",
       "203127 2015-10-12  2653  52353            WHISKEY       65  4800.0  71.04   \n",
       "205400 2015-01-22  5034  50401            WHISKEY       65  4800.0  45.12   \n",
       "213869 2015-03-04  2614  52807            WHISKEY       65  4800.0  45.12   \n",
       "220834 2015-03-26  2587  50131            WHISKEY       65  4800.0  45.12   \n",
       "225581 2015-02-19  2626  50311            WHISKEY       65  4800.0  45.12   \n",
       "233407 2015-10-06  2524  52001  CORDIAL & LIQUEUR      305  6000.0  99.00   \n",
       "253785 2015-03-02  2605  52402            WHISKEY       65  4800.0  45.12   \n",
       "256406 2015-03-04  2603  52722            WHISKEY       65  4800.0  45.12   \n",
       "261736 2015-04-13  2670  52241            WHISKEY       65  4800.0  45.12   \n",
       "\n",
       "        retail  number_sold  total_sale  volume_sold  \n",
       "2570    106.56          1.0      106.56          4.8  \n",
       "38630   106.56          1.0      106.56          4.8  \n",
       "56706    67.68          1.0       67.68          4.8  \n",
       "60585   148.50          1.0      148.50          6.0  \n",
       "63818    67.68          1.0       67.68          4.8  \n",
       "71636   148.50          1.0      148.50          6.0  \n",
       "74088   103.41          1.0      103.41          4.5  \n",
       "114946   67.68          3.0      203.04         14.4  \n",
       "121877  148.50          1.0      148.50          6.0  \n",
       "141875   67.68          1.0       67.68          4.8  \n",
       "157333  148.50          1.0      148.50          6.0  \n",
       "158273   67.68          1.0       67.68          4.8  \n",
       "163211   67.68          1.0       67.68          4.8  \n",
       "187835  148.50          1.0      148.50          6.0  \n",
       "197079   67.68          1.0       67.68          4.8  \n",
       "203021  148.50          1.0      148.50          6.0  \n",
       "203127  106.56          1.0      106.56          4.8  \n",
       "205400   67.68          1.0       67.68          4.8  \n",
       "213869   67.68          1.0       67.68          4.8  \n",
       "220834   67.68          1.0       67.68          4.8  \n",
       "225581   67.68          1.0       67.68          4.8  \n",
       "233407  148.50         25.0     3712.50        150.0  \n",
       "253785   67.68          1.0       67.68          4.8  \n",
       "256406   67.68          1.0       67.68          4.8  \n",
       "261736   67.68          3.0      203.04         14.4  "
      ]
     },
     "execution_count": 37,
     "metadata": {},
     "output_type": "execute_result"
    }
   ],
   "source": [
    "# let's see what's up with some of the larger volumes:\n",
    "\n",
    "sales_cat[sales_cat['volume'] > 4000]"
   ]
  },
  {
   "cell_type": "markdown",
   "metadata": {},
   "source": [
    "As we can see from the table above, there are three vendors selling all bottles over 4L; vendor 65 is selling some kind of whiskey, vendor 305 is selling a cordial/liqueur, and vendor 308 just sold one cordial/liqueur to store 2500.  No store is buying much from either vendor 65 or vendor 305, **except** store 233407, which bought 25 units from vendor 305."
   ]
  },
  {
   "cell_type": "markdown",
   "metadata": {},
   "source": [
    "We need to get rid of all entries for any store with NaN in 'dollars_sold' when grouped by month, because those stores likely opened or closed within the period of data collection and thus do not accurately represent that store's profits in that time."
   ]
  },
  {
   "cell_type": "code",
   "execution_count": 38,
   "metadata": {
    "collapsed": false
   },
   "outputs": [],
   "source": [
    "sales_cat['year'] = sales_cat['date'].apply(lambda x: x.year)\n",
    "sales_cat['month'] = sales_cat['date'].apply(lambda x: x.month)"
   ]
  },
  {
   "cell_type": "code",
   "execution_count": 39,
   "metadata": {
    "collapsed": false
   },
   "outputs": [],
   "source": [
    "get_stores = sales_cat.groupby(['year', 'store', 'month'])['total_sale'].aggregate(sum).unstack()"
   ]
  },
  {
   "cell_type": "code",
   "execution_count": 40,
   "metadata": {
    "collapsed": true
   },
   "outputs": [],
   "source": [
    "get_stores.columns = ['Jan','Feb','Mar','Apr','May','Jun','Jul','Aug','Sep','Oct','Nov','Dec']"
   ]
  },
  {
   "cell_type": "code",
   "execution_count": 41,
   "metadata": {
    "collapsed": false
   },
   "outputs": [
    {
     "data": {
      "text/plain": [
       "FrozenList([u'year', u'store'])"
      ]
     },
     "execution_count": 41,
     "metadata": {},
     "output_type": "execute_result"
    }
   ],
   "source": [
    "get_stores.index.names"
   ]
  },
  {
   "cell_type": "code",
   "execution_count": 42,
   "metadata": {
    "collapsed": false
   },
   "outputs": [
    {
     "data": {
      "text/html": [
       "<div>\n",
       "<table border=\"1\" class=\"dataframe\">\n",
       "  <thead>\n",
       "    <tr style=\"text-align: right;\">\n",
       "      <th></th>\n",
       "      <th></th>\n",
       "      <th>Jan</th>\n",
       "      <th>Feb</th>\n",
       "      <th>Mar</th>\n",
       "      <th>Apr</th>\n",
       "      <th>May</th>\n",
       "      <th>Jun</th>\n",
       "      <th>Jul</th>\n",
       "      <th>Aug</th>\n",
       "      <th>Sep</th>\n",
       "      <th>Oct</th>\n",
       "      <th>Nov</th>\n",
       "      <th>Dec</th>\n",
       "    </tr>\n",
       "    <tr>\n",
       "      <th>year</th>\n",
       "      <th>store</th>\n",
       "      <th></th>\n",
       "      <th></th>\n",
       "      <th></th>\n",
       "      <th></th>\n",
       "      <th></th>\n",
       "      <th></th>\n",
       "      <th></th>\n",
       "      <th></th>\n",
       "      <th></th>\n",
       "      <th></th>\n",
       "      <th></th>\n",
       "      <th></th>\n",
       "    </tr>\n",
       "  </thead>\n",
       "  <tbody>\n",
       "    <tr>\n",
       "      <th rowspan=\"5\" valign=\"top\">2015</th>\n",
       "      <th>2106</th>\n",
       "      <td>13567.80</td>\n",
       "      <td>12873.14</td>\n",
       "      <td>12846.35</td>\n",
       "      <td>11957.86</td>\n",
       "      <td>7526.88</td>\n",
       "      <td>11688.72</td>\n",
       "      <td>15764.34</td>\n",
       "      <td>12329.82</td>\n",
       "      <td>10230.61</td>\n",
       "      <td>16899.33</td>\n",
       "      <td>10688.38</td>\n",
       "      <td>9665.47</td>\n",
       "    </tr>\n",
       "    <tr>\n",
       "      <th>2113</th>\n",
       "      <td>813.68</td>\n",
       "      <td>713.59</td>\n",
       "      <td>1305.98</td>\n",
       "      <td>414.15</td>\n",
       "      <td>727.69</td>\n",
       "      <td>852.46</td>\n",
       "      <td>782.97</td>\n",
       "      <td>184.47</td>\n",
       "      <td>1146.12</td>\n",
       "      <td>862.29</td>\n",
       "      <td>397.05</td>\n",
       "      <td>1109.77</td>\n",
       "    </tr>\n",
       "    <tr>\n",
       "      <th>2130</th>\n",
       "      <td>7725.66</td>\n",
       "      <td>8655.08</td>\n",
       "      <td>7891.83</td>\n",
       "      <td>13738.75</td>\n",
       "      <td>13612.92</td>\n",
       "      <td>7686.42</td>\n",
       "      <td>10137.66</td>\n",
       "      <td>5955.66</td>\n",
       "      <td>8512.56</td>\n",
       "      <td>11169.32</td>\n",
       "      <td>5072.91</td>\n",
       "      <td>11425.14</td>\n",
       "    </tr>\n",
       "    <tr>\n",
       "      <th>2152</th>\n",
       "      <td>1096.72</td>\n",
       "      <td>589.59</td>\n",
       "      <td>317.15</td>\n",
       "      <td>231.52</td>\n",
       "      <td>783.02</td>\n",
       "      <td>384.38</td>\n",
       "      <td>877.10</td>\n",
       "      <td>971.09</td>\n",
       "      <td>398.51</td>\n",
       "      <td>937.63</td>\n",
       "      <td>504.88</td>\n",
       "      <td>615.99</td>\n",
       "    </tr>\n",
       "    <tr>\n",
       "      <th>2178</th>\n",
       "      <td>2251.52</td>\n",
       "      <td>1427.65</td>\n",
       "      <td>2177.24</td>\n",
       "      <td>1255.40</td>\n",
       "      <td>2672.73</td>\n",
       "      <td>3058.20</td>\n",
       "      <td>1326.52</td>\n",
       "      <td>1369.37</td>\n",
       "      <td>2972.26</td>\n",
       "      <td>1735.26</td>\n",
       "      <td>1372.99</td>\n",
       "      <td>2705.04</td>\n",
       "    </tr>\n",
       "  </tbody>\n",
       "</table>\n",
       "</div>"
      ],
      "text/plain": [
       "                 Jan       Feb       Mar       Apr       May       Jun  \\\n",
       "year store                                                               \n",
       "2015 2106   13567.80  12873.14  12846.35  11957.86   7526.88  11688.72   \n",
       "     2113     813.68    713.59   1305.98    414.15    727.69    852.46   \n",
       "     2130    7725.66   8655.08   7891.83  13738.75  13612.92   7686.42   \n",
       "     2152    1096.72    589.59    317.15    231.52    783.02    384.38   \n",
       "     2178    2251.52   1427.65   2177.24   1255.40   2672.73   3058.20   \n",
       "\n",
       "                 Jul       Aug       Sep       Oct       Nov       Dec  \n",
       "year store                                                              \n",
       "2015 2106   15764.34  12329.82  10230.61  16899.33  10688.38   9665.47  \n",
       "     2113     782.97    184.47   1146.12    862.29    397.05   1109.77  \n",
       "     2130   10137.66   5955.66   8512.56  11169.32   5072.91  11425.14  \n",
       "     2152     877.10    971.09    398.51    937.63    504.88    615.99  \n",
       "     2178    1326.52   1369.37   2972.26   1735.26   1372.99   2705.04  "
      ]
     },
     "execution_count": 42,
     "metadata": {},
     "output_type": "execute_result"
    }
   ],
   "source": [
    "get_stores.head()"
   ]
  },
  {
   "cell_type": "code",
   "execution_count": 43,
   "metadata": {
    "collapsed": false
   },
   "outputs": [],
   "source": [
    "# separate out 2015 and 2016 data so we can take out NaN-containing rows from 2015; 2016 is in progress \\\n",
    "    # at time of data reporting, so if we did the same to it we would remove all rows!\n",
    "\n",
    "stores_2015 = get_stores.loc[2015]\n",
    "stores_2016 = get_stores.loc[2016]"
   ]
  },
  {
   "cell_type": "code",
   "execution_count": 44,
   "metadata": {
    "collapsed": false
   },
   "outputs": [],
   "source": [
    "stores_2015 = stores_2015.dropna()"
   ]
  },
  {
   "cell_type": "code",
   "execution_count": 45,
   "metadata": {
    "collapsed": false
   },
   "outputs": [],
   "source": [
    "# match up indeces\n",
    "\n",
    "new_index = stores_2015.index\n",
    "stores_2016 = stores_2016[stores_2016.index.isin(new_index)]\n",
    "newer_index = stores_2016.index\n",
    "stores_2015 = stores_2015[stores_2015.index.isin(newer_index)]"
   ]
  },
  {
   "cell_type": "code",
   "execution_count": 46,
   "metadata": {
    "collapsed": false
   },
   "outputs": [],
   "source": [
    "# get store totals\n",
    "\n",
    "stores_2015['total'] = stores_2015.sum(axis = 1)\n",
    "stores_2016['total'] = stores_2016.sum(axis = 1)"
   ]
  },
  {
   "cell_type": "markdown",
   "metadata": {},
   "source": [
    "Below we have monthly 2015 sales totals by store, with a cumulative column on the right ('total')."
   ]
  },
  {
   "cell_type": "code",
   "execution_count": 47,
   "metadata": {
    "collapsed": false
   },
   "outputs": [
    {
     "data": {
      "text/html": [
       "<div>\n",
       "<table border=\"1\" class=\"dataframe\">\n",
       "  <thead>\n",
       "    <tr style=\"text-align: right;\">\n",
       "      <th></th>\n",
       "      <th>Jan</th>\n",
       "      <th>Feb</th>\n",
       "      <th>Mar</th>\n",
       "      <th>Apr</th>\n",
       "      <th>May</th>\n",
       "      <th>Jun</th>\n",
       "      <th>Jul</th>\n",
       "      <th>Aug</th>\n",
       "      <th>Sep</th>\n",
       "      <th>Oct</th>\n",
       "      <th>Nov</th>\n",
       "      <th>Dec</th>\n",
       "      <th>total</th>\n",
       "    </tr>\n",
       "    <tr>\n",
       "      <th>store</th>\n",
       "      <th></th>\n",
       "      <th></th>\n",
       "      <th></th>\n",
       "      <th></th>\n",
       "      <th></th>\n",
       "      <th></th>\n",
       "      <th></th>\n",
       "      <th></th>\n",
       "      <th></th>\n",
       "      <th></th>\n",
       "      <th></th>\n",
       "      <th></th>\n",
       "      <th></th>\n",
       "    </tr>\n",
       "  </thead>\n",
       "  <tbody>\n",
       "    <tr>\n",
       "      <th>2106</th>\n",
       "      <td>13567.80</td>\n",
       "      <td>12873.14</td>\n",
       "      <td>12846.35</td>\n",
       "      <td>11957.86</td>\n",
       "      <td>7526.88</td>\n",
       "      <td>11688.72</td>\n",
       "      <td>15764.34</td>\n",
       "      <td>12329.82</td>\n",
       "      <td>10230.61</td>\n",
       "      <td>16899.33</td>\n",
       "      <td>10688.38</td>\n",
       "      <td>9665.47</td>\n",
       "      <td>146038.70</td>\n",
       "    </tr>\n",
       "    <tr>\n",
       "      <th>2113</th>\n",
       "      <td>813.68</td>\n",
       "      <td>713.59</td>\n",
       "      <td>1305.98</td>\n",
       "      <td>414.15</td>\n",
       "      <td>727.69</td>\n",
       "      <td>852.46</td>\n",
       "      <td>782.97</td>\n",
       "      <td>184.47</td>\n",
       "      <td>1146.12</td>\n",
       "      <td>862.29</td>\n",
       "      <td>397.05</td>\n",
       "      <td>1109.77</td>\n",
       "      <td>9310.22</td>\n",
       "    </tr>\n",
       "  </tbody>\n",
       "</table>\n",
       "</div>"
      ],
      "text/plain": [
       "            Jan       Feb       Mar       Apr      May       Jun       Jul  \\\n",
       "store                                                                        \n",
       "2106   13567.80  12873.14  12846.35  11957.86  7526.88  11688.72  15764.34   \n",
       "2113     813.68    713.59   1305.98    414.15   727.69    852.46    782.97   \n",
       "\n",
       "            Aug       Sep       Oct       Nov      Dec      total  \n",
       "store                                                              \n",
       "2106   12329.82  10230.61  16899.33  10688.38  9665.47  146038.70  \n",
       "2113     184.47   1146.12    862.29    397.05  1109.77    9310.22  "
      ]
     },
     "execution_count": 47,
     "metadata": {},
     "output_type": "execute_result"
    }
   ],
   "source": [
    "stores_2015.head(2)"
   ]
  },
  {
   "cell_type": "markdown",
   "metadata": {},
   "source": [
    "Likewise, here we have the same for 2016 (for which we only have data through the first quarter)."
   ]
  },
  {
   "cell_type": "code",
   "execution_count": 48,
   "metadata": {
    "collapsed": false
   },
   "outputs": [
    {
     "data": {
      "text/html": [
       "<div>\n",
       "<table border=\"1\" class=\"dataframe\">\n",
       "  <thead>\n",
       "    <tr style=\"text-align: right;\">\n",
       "      <th></th>\n",
       "      <th>Jan</th>\n",
       "      <th>Feb</th>\n",
       "      <th>Mar</th>\n",
       "      <th>Apr</th>\n",
       "      <th>May</th>\n",
       "      <th>Jun</th>\n",
       "      <th>Jul</th>\n",
       "      <th>Aug</th>\n",
       "      <th>Sep</th>\n",
       "      <th>Oct</th>\n",
       "      <th>Nov</th>\n",
       "      <th>Dec</th>\n",
       "      <th>total</th>\n",
       "    </tr>\n",
       "    <tr>\n",
       "      <th>store</th>\n",
       "      <th></th>\n",
       "      <th></th>\n",
       "      <th></th>\n",
       "      <th></th>\n",
       "      <th></th>\n",
       "      <th></th>\n",
       "      <th></th>\n",
       "      <th></th>\n",
       "      <th></th>\n",
       "      <th></th>\n",
       "      <th></th>\n",
       "      <th></th>\n",
       "      <th></th>\n",
       "    </tr>\n",
       "  </thead>\n",
       "  <tbody>\n",
       "    <tr>\n",
       "      <th>2106</th>\n",
       "      <td>8472.17</td>\n",
       "      <td>12053.61</td>\n",
       "      <td>9952.97</td>\n",
       "      <td>NaN</td>\n",
       "      <td>NaN</td>\n",
       "      <td>NaN</td>\n",
       "      <td>NaN</td>\n",
       "      <td>NaN</td>\n",
       "      <td>NaN</td>\n",
       "      <td>NaN</td>\n",
       "      <td>NaN</td>\n",
       "      <td>NaN</td>\n",
       "      <td>30478.75</td>\n",
       "    </tr>\n",
       "    <tr>\n",
       "      <th>2113</th>\n",
       "      <td>892.94</td>\n",
       "      <td>727.16</td>\n",
       "      <td>445.80</td>\n",
       "      <td>NaN</td>\n",
       "      <td>NaN</td>\n",
       "      <td>NaN</td>\n",
       "      <td>NaN</td>\n",
       "      <td>NaN</td>\n",
       "      <td>NaN</td>\n",
       "      <td>NaN</td>\n",
       "      <td>NaN</td>\n",
       "      <td>NaN</td>\n",
       "      <td>2065.90</td>\n",
       "    </tr>\n",
       "  </tbody>\n",
       "</table>\n",
       "</div>"
      ],
      "text/plain": [
       "           Jan       Feb      Mar  Apr  May  Jun  Jul  Aug  Sep  Oct  Nov  \\\n",
       "store                                                                       \n",
       "2106   8472.17  12053.61  9952.97  NaN  NaN  NaN  NaN  NaN  NaN  NaN  NaN   \n",
       "2113    892.94    727.16   445.80  NaN  NaN  NaN  NaN  NaN  NaN  NaN  NaN   \n",
       "\n",
       "       Dec     total  \n",
       "store                 \n",
       "2106   NaN  30478.75  \n",
       "2113   NaN   2065.90  "
      ]
     },
     "execution_count": 48,
     "metadata": {},
     "output_type": "execute_result"
    }
   ],
   "source": [
    "stores_2016.head(2)"
   ]
  },
  {
   "cell_type": "code",
   "execution_count": 49,
   "metadata": {
    "collapsed": false
   },
   "outputs": [],
   "source": [
    "# separate by quarter to get quarterly sums\n",
    "\n",
    "Q1_2015 = stores_2015[['Jan', 'Feb', 'Mar']]\n",
    "Q2_2015 = stores_2015[['Apr', 'May', 'Jun']]\n",
    "Q3_2015 = stores_2015[['Jul', 'Aug', 'Sep']]\n",
    "Q4_2015 = stores_2015[['Oct', 'Nov', 'Dec']]\n",
    "Q1_2016 = stores_2016[['Jan', 'Feb', 'Mar']]"
   ]
  },
  {
   "cell_type": "code",
   "execution_count": 50,
   "metadata": {
    "collapsed": false
   },
   "outputs": [
    {
     "name": "stderr",
     "output_type": "stream",
     "text": [
      "/Users/Rebecca/anaconda/lib/python2.7/site-packages/ipykernel/__main__.py:3: SettingWithCopyWarning:\n",
      "\n",
      "\n",
      "A value is trying to be set on a copy of a slice from a DataFrame.\n",
      "Try using .loc[row_indexer,col_indexer] = value instead\n",
      "\n",
      "See the caveats in the documentation: http://pandas.pydata.org/pandas-docs/stable/indexing.html#indexing-view-versus-copy\n",
      "\n",
      "/Users/Rebecca/anaconda/lib/python2.7/site-packages/ipykernel/__main__.py:4: SettingWithCopyWarning:\n",
      "\n",
      "\n",
      "A value is trying to be set on a copy of a slice from a DataFrame.\n",
      "Try using .loc[row_indexer,col_indexer] = value instead\n",
      "\n",
      "See the caveats in the documentation: http://pandas.pydata.org/pandas-docs/stable/indexing.html#indexing-view-versus-copy\n",
      "\n",
      "/Users/Rebecca/anaconda/lib/python2.7/site-packages/ipykernel/__main__.py:5: SettingWithCopyWarning:\n",
      "\n",
      "\n",
      "A value is trying to be set on a copy of a slice from a DataFrame.\n",
      "Try using .loc[row_indexer,col_indexer] = value instead\n",
      "\n",
      "See the caveats in the documentation: http://pandas.pydata.org/pandas-docs/stable/indexing.html#indexing-view-versus-copy\n",
      "\n",
      "/Users/Rebecca/anaconda/lib/python2.7/site-packages/ipykernel/__main__.py:6: SettingWithCopyWarning:\n",
      "\n",
      "\n",
      "A value is trying to be set on a copy of a slice from a DataFrame.\n",
      "Try using .loc[row_indexer,col_indexer] = value instead\n",
      "\n",
      "See the caveats in the documentation: http://pandas.pydata.org/pandas-docs/stable/indexing.html#indexing-view-versus-copy\n",
      "\n",
      "/Users/Rebecca/anaconda/lib/python2.7/site-packages/ipykernel/__main__.py:8: SettingWithCopyWarning:\n",
      "\n",
      "\n",
      "A value is trying to be set on a copy of a slice from a DataFrame.\n",
      "Try using .loc[row_indexer,col_indexer] = value instead\n",
      "\n",
      "See the caveats in the documentation: http://pandas.pydata.org/pandas-docs/stable/indexing.html#indexing-view-versus-copy\n",
      "\n"
     ]
    }
   ],
   "source": [
    "# quarterly sum columns inserted into respective frames\n",
    "\n",
    "Q1_2015['total'] = Q1_2015.sum(axis = 1)\n",
    "Q2_2015['total'] = Q2_2015.sum(axis = 1)\n",
    "Q3_2015['total'] = Q3_2015.sum(axis = 1)\n",
    "Q4_2015['total'] = Q4_2015.sum(axis = 1)\n",
    "\n",
    "Q1_2016['total'] = Q1_2016.sum(axis = 1)"
   ]
  },
  {
   "cell_type": "code",
   "execution_count": 51,
   "metadata": {
    "collapsed": false
   },
   "outputs": [],
   "source": [
    "# update original dataframe to include only stores we're interested in:\n",
    "\n",
    "nice_sales = sales_cat[sales_cat['store'].isin(newer_index)]"
   ]
  },
  {
   "cell_type": "code",
   "execution_count": 52,
   "metadata": {
    "collapsed": false
   },
   "outputs": [
    {
     "data": {
      "text/html": [
       "<div>\n",
       "<table border=\"1\" class=\"dataframe\">\n",
       "  <thead>\n",
       "    <tr style=\"text-align: right;\">\n",
       "      <th></th>\n",
       "      <th>date</th>\n",
       "      <th>store</th>\n",
       "      <th>ZIP</th>\n",
       "      <th>category</th>\n",
       "      <th>vendorID</th>\n",
       "      <th>volume</th>\n",
       "      <th>cost</th>\n",
       "      <th>retail</th>\n",
       "      <th>number_sold</th>\n",
       "      <th>total_sale</th>\n",
       "      <th>volume_sold</th>\n",
       "      <th>year</th>\n",
       "      <th>month</th>\n",
       "    </tr>\n",
       "  </thead>\n",
       "  <tbody>\n",
       "    <tr>\n",
       "      <th>0</th>\n",
       "      <td>2015-11-04</td>\n",
       "      <td>3717</td>\n",
       "      <td>50674</td>\n",
       "      <td>BRANDY</td>\n",
       "      <td>55</td>\n",
       "      <td>750.0</td>\n",
       "      <td>4.50</td>\n",
       "      <td>6.75</td>\n",
       "      <td>12.0</td>\n",
       "      <td>81.00</td>\n",
       "      <td>9.0</td>\n",
       "      <td>2015</td>\n",
       "      <td>11</td>\n",
       "    </tr>\n",
       "    <tr>\n",
       "      <th>1</th>\n",
       "      <td>2016-03-02</td>\n",
       "      <td>2614</td>\n",
       "      <td>52807</td>\n",
       "      <td>WHISKEY</td>\n",
       "      <td>395</td>\n",
       "      <td>750.0</td>\n",
       "      <td>13.75</td>\n",
       "      <td>20.63</td>\n",
       "      <td>2.0</td>\n",
       "      <td>41.26</td>\n",
       "      <td>1.5</td>\n",
       "      <td>2016</td>\n",
       "      <td>3</td>\n",
       "    </tr>\n",
       "  </tbody>\n",
       "</table>\n",
       "</div>"
      ],
      "text/plain": [
       "        date store    ZIP category vendorID  volume   cost  retail  \\\n",
       "0 2015-11-04  3717  50674   BRANDY       55   750.0   4.50    6.75   \n",
       "1 2016-03-02  2614  52807  WHISKEY      395   750.0  13.75   20.63   \n",
       "\n",
       "   number_sold  total_sale  volume_sold  year  month  \n",
       "0         12.0       81.00          9.0  2015     11  \n",
       "1          2.0       41.26          1.5  2016      3  "
      ]
     },
     "execution_count": 52,
     "metadata": {},
     "output_type": "execute_result"
    }
   ],
   "source": [
    "nice_sales.head(2)"
   ]
  },
  {
   "cell_type": "code",
   "execution_count": 53,
   "metadata": {
    "collapsed": false
   },
   "outputs": [],
   "source": [
    "# don't need time variables anymore, delete\n",
    "\n",
    "del nice_sales['date']\n",
    "del nice_sales['year']\n",
    "del nice_sales['month']"
   ]
  },
  {
   "cell_type": "code",
   "execution_count": 54,
   "metadata": {
    "collapsed": false
   },
   "outputs": [],
   "source": [
    "# pivot nice_sales frame to see 'store' as index\n",
    "\n",
    "nicer_sales = nice_sales.pivot_table(index = 'store')"
   ]
  },
  {
   "cell_type": "code",
   "execution_count": 55,
   "metadata": {
    "collapsed": false
   },
   "outputs": [
    {
     "data": {
      "text/html": [
       "<div>\n",
       "<table border=\"1\" class=\"dataframe\">\n",
       "  <thead>\n",
       "    <tr style=\"text-align: right;\">\n",
       "      <th></th>\n",
       "      <th>cost</th>\n",
       "      <th>number_sold</th>\n",
       "      <th>retail</th>\n",
       "      <th>total_sale</th>\n",
       "      <th>volume</th>\n",
       "      <th>volume_sold</th>\n",
       "    </tr>\n",
       "    <tr>\n",
       "      <th>store</th>\n",
       "      <th></th>\n",
       "      <th></th>\n",
       "      <th></th>\n",
       "      <th></th>\n",
       "      <th></th>\n",
       "      <th></th>\n",
       "    </tr>\n",
       "  </thead>\n",
       "  <tbody>\n",
       "    <tr>\n",
       "      <th>2106</th>\n",
       "      <td>10.311273</td>\n",
       "      <td>12573.0</td>\n",
       "      <td>15.479095</td>\n",
       "      <td>270.732285</td>\n",
       "      <td>913.496933</td>\n",
       "      <td>11836.10</td>\n",
       "    </tr>\n",
       "    <tr>\n",
       "      <th>2113</th>\n",
       "      <td>10.838152</td>\n",
       "      <td>830.0</td>\n",
       "      <td>16.267717</td>\n",
       "      <td>61.826739</td>\n",
       "      <td>954.483696</td>\n",
       "      <td>836.85</td>\n",
       "    </tr>\n",
       "    <tr>\n",
       "      <th>2130</th>\n",
       "      <td>10.006398</td>\n",
       "      <td>9144.0</td>\n",
       "      <td>15.015197</td>\n",
       "      <td>274.488228</td>\n",
       "      <td>935.777559</td>\n",
       "      <td>8436.27</td>\n",
       "    </tr>\n",
       "    <tr>\n",
       "      <th>2152</th>\n",
       "      <td>8.543882</td>\n",
       "      <td>708.0</td>\n",
       "      <td>12.853000</td>\n",
       "      <td>53.435353</td>\n",
       "      <td>1063.235294</td>\n",
       "      <td>772.75</td>\n",
       "    </tr>\n",
       "    <tr>\n",
       "      <th>2178</th>\n",
       "      <td>9.608639</td>\n",
       "      <td>2396.0</td>\n",
       "      <td>14.435374</td>\n",
       "      <td>101.192789</td>\n",
       "      <td>1027.636054</td>\n",
       "      <td>2428.92</td>\n",
       "    </tr>\n",
       "  </tbody>\n",
       "</table>\n",
       "</div>"
      ],
      "text/plain": [
       "            cost  number_sold     retail  total_sale       volume  volume_sold\n",
       "store                                                                         \n",
       "2106   10.311273      12573.0  15.479095  270.732285   913.496933     11836.10\n",
       "2113   10.838152        830.0  16.267717   61.826739   954.483696       836.85\n",
       "2130   10.006398       9144.0  15.015197  274.488228   935.777559      8436.27\n",
       "2152    8.543882        708.0  12.853000   53.435353  1063.235294       772.75\n",
       "2178    9.608639       2396.0  14.435374  101.192789  1027.636054      2428.92"
      ]
     },
     "execution_count": 55,
     "metadata": {},
     "output_type": "execute_result"
    }
   ],
   "source": [
    "# add volume_sold (per store) and number_sold (per store) to nicer_sales\n",
    "\n",
    "nicer_sales['volume_sold'] = nice_sales.groupby('store')['volume_sold'].sum()\n",
    "nicer_sales['number_sold'] = nice_sales.groupby('store')['number_sold'].sum()\n",
    "nicer_sales.head()"
   ]
  },
  {
   "cell_type": "code",
   "execution_count": 56,
   "metadata": {
    "collapsed": false
   },
   "outputs": [],
   "source": [
    "# add quarterly info to nicer_sales\n",
    "\n",
    "nicer_sales['Q1_2015'] = Q1_2015['total']\n",
    "nicer_sales['Q2_2015'] = Q2_2015['total']\n",
    "nicer_sales['Q3_2015'] = Q3_2015['total']\n",
    "nicer_sales['Q4_2015'] = Q4_2015['total']\n",
    "nicer_sales['total_2015'] = nicer_sales.sum(axis = 1)\n",
    "nicer_sales['Q1_2016'] = Q1_2016['total']"
   ]
  },
  {
   "cell_type": "code",
   "execution_count": 57,
   "metadata": {
    "collapsed": false
   },
   "outputs": [],
   "source": [
    "# something weird happens with the old float columns; let's take them out\n",
    "\n",
    "del nicer_sales['cost']\n",
    "del nicer_sales['retail']\n",
    "del nicer_sales['total_sale']\n",
    "del nicer_sales['volume']"
   ]
  },
  {
   "cell_type": "code",
   "execution_count": 58,
   "metadata": {
    "collapsed": false
   },
   "outputs": [
    {
     "data": {
      "text/html": [
       "<div>\n",
       "<table border=\"1\" class=\"dataframe\">\n",
       "  <thead>\n",
       "    <tr style=\"text-align: right;\">\n",
       "      <th></th>\n",
       "      <th>Q1_2015</th>\n",
       "      <th>Q2_2015</th>\n",
       "      <th>Q3_2015</th>\n",
       "      <th>Q4_2015</th>\n",
       "      <th>Q1_2016</th>\n",
       "      <th>total_2015</th>\n",
       "      <th>volume_sold</th>\n",
       "      <th>number_sold</th>\n",
       "    </tr>\n",
       "    <tr>\n",
       "      <th>store</th>\n",
       "      <th></th>\n",
       "      <th></th>\n",
       "      <th></th>\n",
       "      <th></th>\n",
       "      <th></th>\n",
       "      <th></th>\n",
       "      <th></th>\n",
       "      <th></th>\n",
       "    </tr>\n",
       "  </thead>\n",
       "  <tbody>\n",
       "    <tr>\n",
       "      <th>2106</th>\n",
       "      <td>39287.29</td>\n",
       "      <td>31173.46</td>\n",
       "      <td>38324.77</td>\n",
       "      <td>37253.18</td>\n",
       "      <td>30478.75</td>\n",
       "      <td>171657.819586</td>\n",
       "      <td>11836.10</td>\n",
       "      <td>12573.0</td>\n",
       "    </tr>\n",
       "    <tr>\n",
       "      <th>2113</th>\n",
       "      <td>2833.25</td>\n",
       "      <td>1994.30</td>\n",
       "      <td>2113.56</td>\n",
       "      <td>2369.11</td>\n",
       "      <td>2065.90</td>\n",
       "      <td>12020.486304</td>\n",
       "      <td>836.85</td>\n",
       "      <td>830.0</td>\n",
       "    </tr>\n",
       "    <tr>\n",
       "      <th>2130</th>\n",
       "      <td>24272.57</td>\n",
       "      <td>35038.09</td>\n",
       "      <td>24605.88</td>\n",
       "      <td>27667.37</td>\n",
       "      <td>27856.11</td>\n",
       "      <td>130399.467382</td>\n",
       "      <td>8436.27</td>\n",
       "      <td>9144.0</td>\n",
       "    </tr>\n",
       "    <tr>\n",
       "      <th>2152</th>\n",
       "      <td>2003.46</td>\n",
       "      <td>1398.92</td>\n",
       "      <td>2246.70</td>\n",
       "      <td>2058.50</td>\n",
       "      <td>1376.43</td>\n",
       "      <td>10326.397529</td>\n",
       "      <td>772.75</td>\n",
       "      <td>708.0</td>\n",
       "    </tr>\n",
       "    <tr>\n",
       "      <th>2178</th>\n",
       "      <td>5856.41</td>\n",
       "      <td>6986.33</td>\n",
       "      <td>5668.15</td>\n",
       "      <td>5813.29</td>\n",
       "      <td>5426.50</td>\n",
       "      <td>30301.972857</td>\n",
       "      <td>2428.92</td>\n",
       "      <td>2396.0</td>\n",
       "    </tr>\n",
       "  </tbody>\n",
       "</table>\n",
       "</div>"
      ],
      "text/plain": [
       "        Q1_2015   Q2_2015   Q3_2015   Q4_2015   Q1_2016     total_2015  \\\n",
       "store                                                                    \n",
       "2106   39287.29  31173.46  38324.77  37253.18  30478.75  171657.819586   \n",
       "2113    2833.25   1994.30   2113.56   2369.11   2065.90   12020.486304   \n",
       "2130   24272.57  35038.09  24605.88  27667.37  27856.11  130399.467382   \n",
       "2152    2003.46   1398.92   2246.70   2058.50   1376.43   10326.397529   \n",
       "2178    5856.41   6986.33   5668.15   5813.29   5426.50   30301.972857   \n",
       "\n",
       "       volume_sold  number_sold  \n",
       "store                            \n",
       "2106      11836.10      12573.0  \n",
       "2113        836.85        830.0  \n",
       "2130       8436.27       9144.0  \n",
       "2152        772.75        708.0  \n",
       "2178       2428.92       2396.0  "
      ]
     },
     "execution_count": 58,
     "metadata": {},
     "output_type": "execute_result"
    }
   ],
   "source": [
    "nicer_sales = nicer_sales[['Q1_2015', 'Q2_2015', 'Q3_2015', 'Q4_2015', 'Q1_2016', 'total_2015', 'volume_sold', 'number_sold']]\n",
    "nicer_sales.head()"
   ]
  },
  {
   "cell_type": "code",
   "execution_count": 61,
   "metadata": {
    "collapsed": false
   },
   "outputs": [
    {
     "data": {
      "image/png": "[encoded data removed]",
      "text/plain": [
       "<matplotlib.figure.Figure at 0x1250668d0>"
      ]
     },
     "metadata": {},
     "output_type": "display_data"
    }
   ],
   "source": [
    "fig, axes = plt.subplots(3,2, figsize=(16,8))\n",
    "plt.style.use('fivethirtyeight')\n",
    "\n",
    "axes_details = type(axes)\n",
    "fig_details = type(fig)\n",
    "\n",
    "axes[0][0].hist(nicer_sales['Q1_2015'], color = 'darkblue', bins = 100)\n",
    "axes[0][0].set_xlim([0, 50000])\n",
    "axes[0][0].set_ylim([0, 300])\n",
    "axes[0][0].set_title('Q1 2015 Earnings by Store')\n",
    "axes[0][0].set_xlabel('dollars')\n",
    "axes[0][0].set_ylabel('count')\n",
    "\n",
    "axes[0][1].hist(nicer_sales['Q2_2015'], color = 'darkblue', bins = 100)\n",
    "axes[0][1].set_xlim([0, 50000])\n",
    "axes[0][1].set_ylim([0, 300])\n",
    "axes[0][1].set_title('Q2 2015 Earnings by Store')\n",
    "axes[0][1].set_xlabel('dollars')\n",
    "axes[0][1].set_ylabel('count')\n",
    "\n",
    "axes[1][0].hist(nicer_sales['Q3_2015'], color = 'darkblue', bins = 100)\n",
    "axes[1][0].set_xlim([0, 50000])\n",
    "axes[1][0].set_ylim([0, 300])\n",
    "axes[1][0].set_title('Q3 2015 Earnings by Store')\n",
    "axes[1][0].set_xlabel('dollars')\n",
    "axes[1][0].set_ylabel('count')\n",
    "\n",
    "axes[1][1].hist(nicer_sales['Q4_2015'], color = 'darkblue', bins = 100)\n",
    "axes[1][1].set_xlim([0, 50000])\n",
    "axes[1][1].set_ylim([0, 300])\n",
    "axes[1][1].set_title('Q4 2015 Earnings by Store')\n",
    "axes[1][1].set_xlabel('dollars')\n",
    "axes[1][1].set_ylabel('count')\n",
    "\n",
    "axes[2][0].hist(nicer_sales['total_2015'], color = 'darkred', bins = 50)\n",
    "axes[2][0].set_xlim([0, 300000])\n",
    "axes[2][0].set_ylim([0, 300])\n",
    "axes[2][0].set_title('Total Earnings by Store, 2015')\n",
    "axes[2][0].set_xlabel('dollars')\n",
    "axes[2][0].set_ylabel('count')\n",
    "\n",
    "axes[2][1].hist(nicer_sales['Q1_2016'], color = 'darkblue', bins = 100)\n",
    "axes[2][1].set_xlim([0, 50000])\n",
    "axes[2][1].set_ylim([0, 300])\n",
    "axes[2][1].set_title('Q1 2016 Earnings by Store')\n",
    "axes[2][1].set_xlabel('dollars')\n",
    "axes[2][1].set_ylabel('count')\n",
    "\n",
    "plt.tight_layout()\n",
    "plt.show()"
   ]
  },
  {
   "cell_type": "markdown",
   "metadata": {},
   "source": [
    "We'll make 'total_2015' our target variable and try to fit a model using the first fiscal quarter of 2015.  "
   ]
  },
  {
   "cell_type": "code",
   "execution_count": 62,
   "metadata": {
    "collapsed": false
   },
   "outputs": [],
   "source": [
    "## target\n",
    "my_y = nicer_sales['total_2015']\n",
    "\n",
    "## independent variables & intercept     \n",
    "nicer_sales['intercept'] = 1\n",
    "my_X = nicer_sales[['intercept', 'Q1_2015', 'volume_sold', 'number_sold']]"
   ]
  },
  {
   "cell_type": "code",
   "execution_count": 63,
   "metadata": {
    "collapsed": false
   },
   "outputs": [
    {
     "name": "stdout",
     "output_type": "stream",
     "text": [
      "STANDARD LINEAR REGRESSION\n",
      "R^2 = 0.993558774285\n",
      "Betas: [ 0.          1.26213351  7.86677278  3.5870002 ]\n",
      "Mean abs. val. of coeffs: 3.17897662329\n",
      "Max. abs. val. coeff: 7.86677278074\n"
     ]
    },
    {
     "name": "stderr",
     "output_type": "stream",
     "text": [
      "/Users/Rebecca/anaconda/lib/python2.7/site-packages/scipy/linalg/basic.py:884: RuntimeWarning:\n",
      "\n",
      "internal gelsd driver lwork query error, required iwork dimension not returned. This is likely the result of LAPACK bug 0038, fixed in LAPACK 3.2.2 (released July 21, 2010). Falling back to 'gelss' driver.\n",
      "\n"
     ]
    }
   ],
   "source": [
    "# do standard linear regression\n",
    "\n",
    "lr = linear_model.LinearRegression()\n",
    "model = lr.fit(my_X, my_y)\n",
    "\n",
    "print 'STANDARD LINEAR REGRESSION'\n",
    "lr_r2 =  r2_score(y_true=my_y, y_pred=model.predict(my_X))\n",
    "print 'R^2 = %s' %lr_r2\n",
    "print 'Betas: %s' %model.coef_\n",
    "mab = abs(model.coef_).mean()\n",
    "print 'Mean abs. val. of coeffs: %s' %mab\n",
    "maxcoeff = abs(model.coef_.max())\n",
    "print 'Max. abs. val. coeff: %s' %maxcoeff"
   ]
  },
  {
   "cell_type": "code",
   "execution_count": 64,
   "metadata": {
    "collapsed": false
   },
   "outputs": [
    {
     "data": {
      "text/plain": [
       "0.88059332712247229"
      ]
     },
     "execution_count": 64,
     "metadata": {},
     "output_type": "execute_result"
    }
   ],
   "source": [
    "# get cross validation score using 100 folds\n",
    "\n",
    "cross_val_score(lr, my_X, my_y, n_jobs=1, cv=100).mean()"
   ]
  },
  {
   "cell_type": "code",
   "execution_count": 65,
   "metadata": {
    "collapsed": false
   },
   "outputs": [
    {
     "data": {
      "text/plain": [
       "-34941024.097045779"
      ]
     },
     "execution_count": 65,
     "metadata": {},
     "output_type": "execute_result"
    }
   ],
   "source": [
    "# get cross validation score using 100 folds and mean squared error metric\n",
    "\n",
    "cross_val_score(lr, my_X, my_y, n_jobs=1, cv=5,\n",
    "                scoring='mean_squared_error').mean()"
   ]
  },
  {
   "cell_type": "code",
   "execution_count": 66,
   "metadata": {
    "collapsed": true
   },
   "outputs": [],
   "source": [
    "# use cross_val_predict on the standard model\n",
    "\n",
    "cvp_lr_preds = cross_val_predict(lr, my_X, my_y, cv=100)"
   ]
  },
  {
   "cell_type": "code",
   "execution_count": 67,
   "metadata": {
    "collapsed": false
   },
   "outputs": [
    {
     "data": {
      "text/plain": [
       "array([  1.86128258e+05,   1.12777793e+04,   1.28030472e+05,\n",
       "         9.28039868e+03,   3.32367010e+04,   1.44922369e+05,\n",
       "         1.58297672e+05,   2.80495045e+04,   2.26380576e+04,\n",
       "         3.79541659e+04,   5.51708719e+04,   6.52344883e+04,\n",
       "         6.64748218e+04,   1.20678539e+04,   7.38096108e+04,\n",
       "         1.16352876e+05,   7.58593937e+03,   2.43467992e+04,\n",
       "         8.78861014e+03,   4.43012316e+04,   2.97007952e+04,\n",
       "         2.09600956e+04,   1.85708536e+04,   1.89383902e+05,\n",
       "         1.79104344e+05,   1.83510155e+05,   9.20038062e+04,\n",
       "         1.68353668e+05,   4.58628959e+04,   1.36772226e+05,\n",
       "         6.77150859e+04,   4.91295155e+05,   7.96012646e+04,\n",
       "         1.98423685e+04,   1.45959087e+05,   9.91131173e+04,\n",
       "         5.00450396e+04,   1.38576582e+05,   1.21497598e+05,\n",
       "         5.17879075e+04,   1.22841880e+05,   7.40503167e+04,\n",
       "         1.35604592e+05,   5.27195010e+04,   7.35049596e+04,\n",
       "         9.15860305e+04,   8.53440919e+04,   6.95732700e+04,\n",
       "         7.99526373e+04,   7.21161683e+04,   1.53798959e+05,\n",
       "         5.17763532e+04,   1.21539030e+05,   1.11537865e+05,\n",
       "         2.35077636e+04,   4.34061903e+04,   1.40324743e+05,\n",
       "         3.44364305e+04,   3.47401736e+04,   9.72302393e+04,\n",
       "         4.97375197e+04,   1.18896099e+05,   1.39133250e+04,\n",
       "         1.35796319e+05,   1.78880655e+05,   8.01183114e+04,\n",
       "         6.07586518e+04,   9.37775426e+04,   3.47287937e+04,\n",
       "         6.11895612e+04,   4.61230069e+04,   6.14131211e+04,\n",
       "         1.07951753e+05,   1.12142040e+05,   1.39685688e+05,\n",
       "         3.05054221e+04,   6.35751688e+04,   8.17580177e+04,\n",
       "         3.34522944e+04,   9.14282724e+04,   5.21587964e+04,\n",
       "         8.22557978e+04,   8.41883059e+04,   1.03315328e+05,\n",
       "         1.38610443e+05,   5.97070544e+04,   2.15639988e+04,\n",
       "         2.08053662e+05,   8.60494627e+04,   1.14919957e+05,\n",
       "         3.83666827e+04,   2.59014256e+04,   2.68509314e+04,\n",
       "         7.09757958e+04,   6.45449055e+04,   1.42723911e+05,\n",
       "         6.73350993e+04,   1.31045243e+05,   4.83443486e+04,\n",
       "         6.17060459e+04,   6.71572275e+03,   4.96989420e+04,\n",
       "         2.76067443e+04,   1.16209380e+05,   1.85034230e+05,\n",
       "         1.89185911e+05,   2.95887580e+04,   1.47260076e+05,\n",
       "         1.11901279e+05,   1.08038217e+05,   7.35013678e+04,\n",
       "         1.18510844e+05,   1.18512934e+05,   2.17754342e+05,\n",
       "         1.11877725e+05,   1.20811643e+05,   2.05085468e+04,\n",
       "         2.16890190e+05,   2.82651737e+04,   1.12044872e+06,\n",
       "         1.15802198e+05,   8.98549652e+04,   1.15293025e+05,\n",
       "         3.82865516e+04,   7.64592327e+04,   8.28699230e+04,\n",
       "         1.51613700e+05,   1.21234631e+05,   1.80844239e+05,\n",
       "         7.80201252e+04,   6.13118912e+04,   9.95699747e+04,\n",
       "         6.06398322e+04,   4.57468512e+04,   1.32018244e+04,\n",
       "         1.28446266e+04,   6.89587027e+03,   4.12055188e+03,\n",
       "         2.51529445e+04,   5.79319511e+04,   4.97198987e+04,\n",
       "         1.74029269e+05,   1.37588675e+05,   1.25227198e+05,\n",
       "         1.15386167e+04,   9.71377162e+03,   2.51330810e+05,\n",
       "         5.64172682e+04,   1.26971775e+04,   8.93311928e+03,\n",
       "         5.94077404e+03,   9.83871796e+03,   1.72004165e+04,\n",
       "         9.48066946e+03,   1.09688337e+04,   9.89397799e+03,\n",
       "         3.39234621e+03,   6.14699448e+03,   3.79454775e+03,\n",
       "         1.30498053e+04,   1.16717988e+04,   1.34153063e+04,\n",
       "         1.20936355e+04,   8.81519898e+03,   7.27123046e+03,\n",
       "         3.28913463e+04,   2.64937197e+05,   5.28974649e+05,\n",
       "         1.58400078e+05,   5.69767705e+04,   1.08382575e+04,\n",
       "         4.00343062e+04,   4.15923166e+05,   6.29267807e+04,\n",
       "         2.66191069e+05,   7.91065109e+04,   1.64986558e+04,\n",
       "         1.25950733e+04,   1.50671494e+05,   4.12200323e+03,\n",
       "         2.31679245e+04,   1.82680249e+05,   4.52119644e+04,\n",
       "         4.00347725e+04,   4.73518966e+04,   2.04192901e+05,\n",
       "         6.17547661e+04,   1.35149759e+04,   1.86026171e+04,\n",
       "         1.76114608e+04,   3.59414755e+04,   8.72131431e+04,\n",
       "         5.21415367e+04,   2.07142723e+04,   8.18930913e+04,\n",
       "         1.21974571e+04,   4.22326886e+04,   6.44535451e+04,\n",
       "         9.29636614e+03,   8.00925969e+03,   7.85129842e+04,\n",
       "         7.96194083e+04,   4.24332295e+04,   4.89516168e+04,\n",
       "         2.04977498e+04,   6.35821598e+04,   4.02572561e+04,\n",
       "         5.22524477e+04,   6.01081830e+04,   5.27876378e+04,\n",
       "         6.77865731e+03,   7.36485081e+04,   3.67676515e+04,\n",
       "         5.34525165e+04,   4.10474464e+03,   2.51214586e+04,\n",
       "         1.92292459e+04,   1.24141285e+04,   8.47369914e+03,\n",
       "         2.20373298e+04,   1.56169432e+04,   4.33394605e+04,\n",
       "         1.46491437e+04,   3.26007066e+04,   5.65689034e+04,\n",
       "         3.75527651e+03,   1.98419021e+04,   1.41901079e+04,\n",
       "         2.92540021e+04,   5.25756237e+03,   1.29517524e+04,\n",
       "         2.55255855e+04,   1.24611996e+04,   1.49363920e+04,\n",
       "         9.31056914e+03,   3.69907450e+04,   2.96562377e+04,\n",
       "         3.88325391e+04,   2.42967927e+04,   1.73811596e+04,\n",
       "         5.94410448e+04,   2.03814138e+04,   9.79588491e+03,\n",
       "         3.15549074e+04,   6.41855107e+04,   4.46101799e+04,\n",
       "         3.65382779e+04,   2.97213429e+04,   3.89048994e+04,\n",
       "         6.04161824e+04,   3.53848322e+04,   3.62702748e+04,\n",
       "         2.00063199e+04,   2.85370703e+04,   2.03236481e+04,\n",
       "         2.82483842e+04,   1.24736078e+04,   2.49197474e+04,\n",
       "         1.10687320e+04,   6.80049742e+04,   3.50967647e+04,\n",
       "         1.62890745e+04,   1.05245318e+04,   6.94892610e+04,\n",
       "         2.46879625e+05,   2.84993032e+04,   6.20241847e+04,\n",
       "         1.24781347e+04,   6.87386371e+03,   1.24130912e+04,\n",
       "         3.72426261e+04,   2.76988083e+04,   1.99229791e+04,\n",
       "         2.78750782e+04,   2.99375976e+04,   4.80789602e+04,\n",
       "         2.35662474e+04,   1.50391912e+04,   2.23516768e+04,\n",
       "         1.00998257e+04,   2.43247135e+05,   1.87801861e+04,\n",
       "         2.58659984e+04,   3.24944246e+04,   2.08293460e+05,\n",
       "         4.08392198e+03,   2.70410437e+04,   1.98321837e+04,\n",
       "         3.71963081e+04,   9.81806253e+03,   2.23903439e+04,\n",
       "         5.14172528e+04,   1.09132561e+04,   3.72878743e+04,\n",
       "         9.77614475e+03,   2.21803832e+04,   6.90014115e+03,\n",
       "         3.47004973e+04,   2.80348501e+04,   3.25337071e+04,\n",
       "         9.55882151e+03,   7.74297296e+04,   3.49640041e+04,\n",
       "         7.92228392e+03,   1.41462519e+04,   6.71722603e+03,\n",
       "         1.16010655e+04,   5.05405512e+04,   7.26943928e+03,\n",
       "         3.69653808e+04,   2.30214808e+04,   3.06644184e+04,\n",
       "         2.44319240e+04,   2.34436576e+04,   2.86515826e+04,\n",
       "         5.74848938e+04,   1.05206976e+04,   2.56277020e+04,\n",
       "         1.52086662e+04,   1.15902019e+04,   2.20646393e+04,\n",
       "         1.10918873e+04,   2.74608904e+04,   9.09579835e+03,\n",
       "         2.03933513e+04,   1.10001206e+05,   1.91216850e+04,\n",
       "         7.35689962e+03,   2.97347763e+04,   2.73065292e+04,\n",
       "         5.13588795e+04,   2.06039827e+04,   1.12736751e+05,\n",
       "         1.15104867e+04,   1.79578387e+04,   4.04383519e+03,\n",
       "         3.55899507e+05,   5.13010963e+03,   1.26130643e+04,\n",
       "         2.57934009e+04,   9.07923995e+03,   3.75790169e+03,\n",
       "         3.98684035e+03,   7.30074590e+04,   4.06174072e+04,\n",
       "         4.21814016e+04,   2.94934986e+04,   2.04473383e+04,\n",
       "         4.32513047e+04,   3.54657171e+04,   5.61357774e+04,\n",
       "         1.52116375e+04,   6.81076280e+03,   2.93135616e+04,\n",
       "         5.05862071e+04,   1.20101714e+04,   1.02032124e+04,\n",
       "         9.54697228e+03,   1.93248994e+04,   2.51328331e+04,\n",
       "         3.53407102e+04,   3.42988095e+03,   3.17288792e+04,\n",
       "         2.28228630e+04,   2.79025659e+04,   1.18811686e+04,\n",
       "         1.03198555e+04,   2.13355810e+04,   5.71533459e+03,\n",
       "         2.74453452e+04,   5.15021866e+04,   4.44073576e+04,\n",
       "         1.14800340e+04,   2.77358337e+04,   1.19035327e+04,\n",
       "         2.45527236e+04,   6.15898510e+04,   2.26821125e+04,\n",
       "         9.74136670e+03,   3.44104136e+04,   2.21039407e+04,\n",
       "         2.41218276e+04,   3.87455311e+04,   9.60730598e+03,\n",
       "         1.82361325e+04,   1.99155223e+04,   2.19887093e+04,\n",
       "         5.06070682e+04,   1.60807915e+04,   8.94232525e+03,\n",
       "         4.37704050e+04,   1.05942461e+04,   1.48252159e+04,\n",
       "         4.35116134e+03,   1.55880660e+04,   6.83733469e+03,\n",
       "         1.86747347e+04,   6.52505762e+04,   1.82304039e+04,\n",
       "         1.63369534e+04,   6.58087816e+03,   9.92669934e+03,\n",
       "         2.03488896e+04,   1.74714170e+04,   1.78263142e+04,\n",
       "         1.87126153e+04,   2.89018419e+04,   1.15874063e+04,\n",
       "         1.22431484e+04,   4.55352547e+04,   3.31153364e+04,\n",
       "         7.47826097e+03,   2.06439478e+04,   2.65172900e+04,\n",
       "         1.52400350e+04,   8.74510678e+03,   1.54352827e+04,\n",
       "         3.94084193e+04,   1.95692599e+04,   3.84523344e+04,\n",
       "         1.96512509e+04,   9.41938923e+03,   1.20643957e+04,\n",
       "         2.70306998e+04,   1.38560721e+04,   2.52466842e+04,\n",
       "         1.18486160e+04,   9.17522612e+03,   1.99733740e+05,\n",
       "         9.79499107e+03,   4.95764226e+03,   2.09247204e+04,\n",
       "         9.49146703e+03,   4.42634908e+03,   1.70234042e+04,\n",
       "         7.79384545e+03,   2.66975458e+04,   2.95193119e+04,\n",
       "         2.66134112e+04,   1.02480144e+04,   2.08650469e+04,\n",
       "         9.88699902e+03,   1.15993264e+04,   1.10186626e+04,\n",
       "         1.73982931e+04,   7.57128616e+03,   6.58622493e+03,\n",
       "         1.89109786e+04,   1.01938794e+04,   2.59484777e+04,\n",
       "         1.71736142e+04,   1.31877938e+04,   1.11443047e+04,\n",
       "         1.69096887e+04,   2.99100604e+04,   9.34723427e+03,\n",
       "         9.67822044e+03,   7.67710852e+04,   3.54670901e+04,\n",
       "         1.31216107e+04,   1.25127369e+04,   3.70066014e+04,\n",
       "         4.07773055e+04,   1.04844648e+04,   1.72087953e+04,\n",
       "         4.08576937e+03,   3.85255591e+04,   1.56984329e+04,\n",
       "         7.70011347e+03,   3.07865353e+04,   1.65919211e+04,\n",
       "         7.10797379e+03,   1.49318843e+04,   6.43953150e+03,\n",
       "         1.31555493e+04,   1.42363757e+04,   1.28978600e+04,\n",
       "         5.98213427e+04,   1.34844569e+04,   6.03520895e+04,\n",
       "         2.45416906e+04,   2.49823227e+04,   2.12329509e+04,\n",
       "         3.56691304e+04,   9.53570731e+03,   8.31757838e+03,\n",
       "         2.32485221e+04,   3.74821607e+04,   6.03334415e+03,\n",
       "         1.31393151e+04,   2.04547315e+04,   2.79614472e+03,\n",
       "         1.23931943e+04,   4.10990796e+04,   8.51821842e+03,\n",
       "         1.71171690e+04,   1.23672253e+04,   2.92504478e+04,\n",
       "         1.35407787e+04,   3.50173625e+04,   3.58944569e+03,\n",
       "         1.04358847e+04,   2.37074970e+04,   2.39188137e+04,\n",
       "         1.06415694e+04,   7.84769449e+03,   1.74297001e+04,\n",
       "         2.98828807e+04,   1.12383057e+04,   5.49085855e+04,\n",
       "         1.51514732e+05,   1.52984805e+04,   1.13880787e+04,\n",
       "         8.83923767e+03,   1.11394085e+04,   2.22580330e+04,\n",
       "         1.22807031e+04,   7.00658620e+03,   3.91820786e+03,\n",
       "         2.51774708e+04,   3.60984141e+03,   4.73949529e+03,\n",
       "         2.02649252e+04,   1.74970231e+04,   1.10554571e+04,\n",
       "         1.64342767e+03,   5.29449157e+03,   2.68865442e+03,\n",
       "         5.20974363e+03,   6.01965178e+03,   8.38398290e+03,\n",
       "         6.27474709e+03,   3.13045039e+03,   3.66958200e+03,\n",
       "         7.39922198e+03,   4.05223558e+03,   5.03621790e+03,\n",
       "         8.14130518e+03,   3.59020977e+03,   4.95246684e+03,\n",
       "         1.15925642e+04,   6.79165917e+03,   6.32825813e+03,\n",
       "         9.99771612e+03,   7.02012062e+03,   3.30799578e+03,\n",
       "         7.82038897e+03,   4.41161895e+03,   8.02550170e+03,\n",
       "         1.43022320e+04,   6.26176470e+03,   5.22894001e+03,\n",
       "         6.69985905e+03,   7.34508370e+03,   3.49355405e+03,\n",
       "         3.56244044e+03,   3.93833217e+04,   4.07866530e+03,\n",
       "         8.99704370e+03,   3.14561142e+03,   7.32204073e+03,\n",
       "         1.12774144e+04,   5.80425417e+03,   5.41206735e+03,\n",
       "         1.08275779e+04,   1.07482803e+04,   1.23551593e+04,\n",
       "         6.00261023e+03,   3.68233573e+03,   7.24821954e+03,\n",
       "         1.75999845e+04,   1.36727515e+04,   6.44673714e+03,\n",
       "         7.84066947e+03,   7.18924549e+03,   1.17126774e+04,\n",
       "         6.32440767e+03,   2.45495453e+04,   1.11394153e+04,\n",
       "         1.04714783e+04,   3.09308891e+03,   1.08747188e+04,\n",
       "         9.96367754e+03,   6.40974599e+03,   6.11531864e+03,\n",
       "         6.27037710e+03,   3.08681781e+04,   4.42317859e+04,\n",
       "         2.06554240e+04,   7.37270404e+03,   1.08743858e+04,\n",
       "         9.45701867e+03,   9.32416645e+03,   2.02559489e+04,\n",
       "         1.20222842e+04,   7.40672040e+04,   8.05162579e+03,\n",
       "         2.03694337e+03,   4.87852276e+03,   3.52178156e+03,\n",
       "         1.06210008e+04,   6.09774073e+03,   9.62646351e+03,\n",
       "         1.40234629e+04,   1.96203427e+04,   3.73043662e+03,\n",
       "         9.94745336e+02,   6.64055717e+03,   1.39887645e+04,\n",
       "         4.55854839e+03,   1.21728779e+04,   6.84830488e+03,\n",
       "         3.89756597e+03,   3.45459386e+03,   3.17657330e+04,\n",
       "         5.82987232e+03,   5.99479920e+03,   5.82639936e+03,\n",
       "         5.39598650e+03,   7.41702339e+03,   1.39037583e+04,\n",
       "         5.97541824e+03,   1.41785955e+04,   7.64568961e+03,\n",
       "         4.19620113e+03,   1.19272794e+04,   3.45808794e+04,\n",
       "         6.19612093e+03,   4.26947936e+03,   2.61959299e+04,\n",
       "         8.54483004e+03,   4.46596530e+04,   4.18792456e+04,\n",
       "         2.18027989e+04,   6.89181412e+03,   8.78884428e+03,\n",
       "         5.95072082e+03,   6.56923335e+03,   1.07205108e+04,\n",
       "         9.50340101e+03,   2.35463183e+04,   4.94572139e+03,\n",
       "         1.13819047e+04,   4.72787333e+03,   2.51744742e+03,\n",
       "         9.22008015e+03,   3.61115583e+04,   2.00550009e+04,\n",
       "         9.10664697e+03,   1.68243195e+04,   2.80176100e+04,\n",
       "         3.58153230e+03,   1.05457969e+04,   5.82308373e+04,\n",
       "         5.14694646e+03,   2.95546261e+04,   7.62894589e+03,\n",
       "         1.17384909e+04,   1.12819174e+04,   7.08525874e+03,\n",
       "         4.79587714e+03,   1.73237461e+04,   5.75701667e+03,\n",
       "         2.24859885e+04,   2.31372608e+04,   8.07723899e+03,\n",
       "         4.10518165e+03,   9.20007888e+04,   4.00864900e+04,\n",
       "         1.01276687e+04,   8.80678836e+03,   4.34544175e+03,\n",
       "         1.20726962e+04,   4.18779047e+04,   3.78999398e+03,\n",
       "         4.62106069e+03,   9.66732123e+03,   1.76847791e+04,\n",
       "         3.08363137e+03,   4.02636364e+03,   1.10698430e+04,\n",
       "         4.62545824e+03,   1.02396603e+04,   1.56454180e+04,\n",
       "         3.47709772e+04,   4.03228268e+03,   2.58342792e+04,\n",
       "         9.94828645e+03,   1.23771334e+04,   2.63764287e+04,\n",
       "         3.74412008e+03,   2.74452065e+03,   4.97314943e+03,\n",
       "         5.09101648e+03,   5.57347923e+03,   5.00380057e+04,\n",
       "         1.28459956e+04,   2.11415550e+04,   1.26369615e+04,\n",
       "         2.09163907e+04,   9.32194097e+03,   2.87903078e+04,\n",
       "         9.59974006e+03,   1.03776719e+04,   2.74870903e+03,\n",
       "         3.71844578e+03,   1.54149859e+04,   2.16674445e+04,\n",
       "         8.83185752e+03,   5.23840336e+03,   2.06261271e+04,\n",
       "         9.79910401e+05,   1.59600460e+03,   9.63184321e+03,\n",
       "         9.97219251e+03,   2.07021346e+04,   8.32697046e+03,\n",
       "         5.60650238e+03,   7.17791543e+03,   2.07003985e+04,\n",
       "         4.08608095e+03,   1.12911152e+04,   4.62961519e+03,\n",
       "         6.73184430e+03,   5.56894193e+03,   2.29051440e+04,\n",
       "         1.53318886e+04,   1.21129894e+04,   5.65096988e+03,\n",
       "         1.26827812e+04,   4.91373401e+03,   9.28923962e+03,\n",
       "         2.80801950e+04,   3.24182507e+04,   7.25194120e+03,\n",
       "         4.13506423e+04,   3.35115657e+03,   9.57076387e+03,\n",
       "         2.48563398e+04,   1.78204898e+04,   6.59128790e+03,\n",
       "         1.18778717e+04,   2.69906179e+04,   8.74791726e+03,\n",
       "         5.75113886e+03,   2.15892594e+04,   2.40443225e+04,\n",
       "         1.31161725e+04,   8.52530882e+03,   3.16628513e+03,\n",
       "         1.14214535e+04,   6.25548905e+03,   1.10666937e+04,\n",
       "         1.86227760e+04,   1.31879202e+04,   2.09491373e+03,\n",
       "         3.46444694e+03,   6.02979367e+03,   5.38772453e+03,\n",
       "         1.93120930e+03,   2.22521602e+03,   1.30754548e+03,\n",
       "         1.21419823e+04,   3.99387977e+04,   8.77028354e+03,\n",
       "         1.46915011e+04,   2.04081177e+04,   8.87057675e+03,\n",
       "         5.26545920e+03,   8.88605059e+03,   7.96962931e+03,\n",
       "         1.39225374e+04,   3.05611554e+04,   4.98246010e+04,\n",
       "         9.70520048e+03,   7.28464513e+04,   6.41138160e+03,\n",
       "         2.58532927e+04,   5.79173778e+03,   2.51026527e+04,\n",
       "         5.37446490e+03,   1.12057340e+04,   2.96925807e+04,\n",
       "         1.01397082e+04,   2.14140080e+04,   5.00375510e+04,\n",
       "         1.35177602e+04,   5.91832950e+03,   4.09874996e+04,\n",
       "         1.46749183e+04,   1.76035560e+04,   2.75414374e+04,\n",
       "         1.85324469e+04,   1.54860361e+04,   1.16870417e+04,\n",
       "         1.37188392e+03,   9.94037038e+03,   3.74222924e+03,\n",
       "         4.88035044e+03,   1.50138699e+04,   1.07114091e+04,\n",
       "         2.97070286e+04,   6.33007620e+03,   8.59549821e+03,\n",
       "         1.22443369e+04,   3.42371211e+04,   2.71932049e+04,\n",
       "         7.76787456e+03,   1.03869310e+04,   2.25602514e+04,\n",
       "         6.71557750e+03,   5.56005989e+04,   3.66292818e+03,\n",
       "         8.87655319e+03,   3.45980575e+04,   6.73693252e+03,\n",
       "         2.66659045e+04,   1.03475889e+04,   9.07896169e+03,\n",
       "         7.62394014e+03,   3.72032114e+04,   8.96469035e+03,\n",
       "         3.51711434e+03,   5.60680580e+03,   2.25654493e+04])"
      ]
     },
     "execution_count": 67,
     "metadata": {},
     "output_type": "execute_result"
    }
   ],
   "source": [
    "cvp_lr_preds"
   ]
  },
  {
   "cell_type": "code",
   "execution_count": 68,
   "metadata": {
    "collapsed": false
   },
   "outputs": [
    {
     "data": {
      "image/png": "[encoded data removed]",
      "text/plain": [
       "<matplotlib.figure.Figure at 0x12cb099d0>"
      ]
     },
     "metadata": {},
     "output_type": "display_data"
    }
   ],
   "source": [
    "plt.figure(figsize=(12,8))\n",
    "plt.scatter(my_y, cvp_lr_preds, c='red')\n",
    "plt.plot([my_y.min(), my_y.max()], [my_y.min(), my_y.max()], 'k--', lw=0.5, color = 'blue')\n",
    "plt.xlabel('Measured')\n",
    "plt.ylabel('Predicted')\n",
    "plt.xlim([-15000, 1350000])\n",
    "plt.ylim([-15000, 1350000])\n",
    "plt.title('Predicted vs. Measured Values, standard linear model')\n",
    "plt.show()"
   ]
  },
  {
   "cell_type": "code",
   "execution_count": 69,
   "metadata": {
    "collapsed": false
   },
   "outputs": [
    {
     "name": "stdout",
     "output_type": "stream",
     "text": [
      "       X Shape  Y Shape\n",
      "Train: (618, 4) (618,)\n",
      "Test:  (207, 4) (207,)\n"
     ]
    }
   ],
   "source": [
    "#  now fit a model on training data and test it out on the rest of data\n",
    "\n",
    "X_train, X_test, y_train, y_test = train_test_split(my_X, my_y, test_size=0.25)\n",
    "\n",
    "print \"       X Shape  Y Shape\"\n",
    "print \"Train:\", X_train.shape, y_train.shape\n",
    "print \"Test: \", X_test.shape,  y_test.shape"
   ]
  },
  {
   "cell_type": "code",
   "execution_count": 70,
   "metadata": {
    "collapsed": false
   },
   "outputs": [
    {
     "name": "stdout",
     "output_type": "stream",
     "text": [
      "Score: 0.993540056482\n"
     ]
    },
    {
     "data": {
      "image/png": "[encoded data removed]",
      "text/plain": [
       "<matplotlib.figure.Figure at 0x12b4d8890>"
      ]
     },
     "metadata": {},
     "output_type": "display_data"
    }
   ],
   "source": [
    "model = lr.fit(X_train, y_train)\n",
    "predictions = lr.predict(X_test)\n",
    "\n",
    "plt.figure(figsize=(12,8))\n",
    "plt.style.use('fivethirtyeight')\n",
    "plt.scatter(y_test, predictions, s = 15)\n",
    "plt.xlabel(\"Measured\")\n",
    "plt.ylabel(\"Predictions\")\n",
    "plt.xlim([-15000, 1350000])\n",
    "plt.ylim([-15000, 1350000])\n",
    "plt.title('Residuals of Standard Linear Model, Train-Test Split (test_size = 0.25)')\n",
    "plt.plot([my_y.min(), my_y.max()], [my_y.min(), my_y.max()], 'k--', lw=0.5, color = 'red')\n",
    "print \"Score:\", model.score(X_test, y_test) \n",
    "plt.show()"
   ]
  },
  {
   "cell_type": "code",
   "execution_count": 71,
   "metadata": {
    "collapsed": false
   },
   "outputs": [],
   "source": [
    "predictions2016 = lr.predict(nicer_sales[['intercept', 'Q1_2016', 'volume_sold', 'number_sold']])"
   ]
  },
  {
   "cell_type": "code",
   "execution_count": 72,
   "metadata": {
    "collapsed": false
   },
   "outputs": [
    {
     "data": {
      "text/plain": [
       "array([  175430.63757003,    10227.86591391,   133006.58808033,\n",
       "           8388.88736996,    32661.92076592,   149568.78580491,\n",
       "         181680.65684451,    27036.85775164,    19896.04111156,\n",
       "          39374.70701985,    57231.23665984,    68450.49084771,\n",
       "          67174.32449392,    11946.64905219,    58194.52513234,\n",
       "         117028.33543378,     7803.04174514,    25740.94866763,\n",
       "           8961.94988249,    44369.67799464,    29284.20288108,\n",
       "          19636.23384454,    18534.42254601,   182528.17229499,\n",
       "         177671.19255254,   157612.07767321,    92046.35192973,\n",
       "         170544.27621208,    43229.75050884,   134207.32242208,\n",
       "          64507.691948  ,   531136.11734219,    86460.70313   ,\n",
       "          22878.84550667,   143661.76610402,    97434.65406509,\n",
       "          45254.86142971,   139676.42628075,   121899.41996335,\n",
       "          58958.58467764,   130692.91442138,    72467.202726  ,\n",
       "         131318.77226471,    54710.22825511,    72605.75448984,\n",
       "          77148.91166553,    81265.44873047,    76700.23072948,\n",
       "          79644.91692138,    73000.14979289,   151976.26689014,\n",
       "          50957.94262387,   139937.66887466,    98254.50969094,\n",
       "          22973.30567131,    45770.86215499,   136105.97159848,\n",
       "          34649.17305848,    35674.33951872,   101001.91172707,\n",
       "          48003.46823662,   107714.72248779,    12981.73992203,\n",
       "         129052.74298012,   172177.72059817,    89196.28187419,\n",
       "          64752.85780236,    92033.3418399 ,    38032.05608306,\n",
       "          63980.11247309,    46651.75004655,    64016.00027928,\n",
       "         119103.99868179,   109796.22805245,   137936.82649044,\n",
       "          27018.69703431,    55156.74058716,    86090.83082996,\n",
       "          33163.98760205,    94943.76802509,    51362.21902375,\n",
       "          89779.3778391 ,    89703.07420113,    96345.73845905,\n",
       "         142692.81036419,    63849.17104544,    22033.67626677,\n",
       "         191185.51606764,    94201.77973179,   138822.34371038,\n",
       "          35160.81652151,    25042.89077022,    29073.28672376,\n",
       "          67360.11503778,    60847.93200073,   145733.79649552,\n",
       "          73612.03289624,   135147.36966518,    50445.82062862,\n",
       "          61069.09862121,     7470.96601059,    51289.58190992,\n",
       "          27565.16461854,   125394.11457734,   190749.66306897,\n",
       "         197920.17150207,    34949.24609327,   152113.07471215,\n",
       "         105450.80516305,   111167.39770803,    80028.50339657,\n",
       "         112904.2414707 ,   120277.25022651,   218168.97305514,\n",
       "         114485.73136526,   121845.00595882,    19888.22077202,\n",
       "         202430.54154825,    31987.99097469,  1146372.00178325,\n",
       "         116381.93645461,    83895.60008399,   118180.41252482,\n",
       "          39646.47462301,    74539.69550414,    80819.76252152,\n",
       "         150726.81286543,   114808.51412199,   168129.38156874,\n",
       "          78572.54021307,    55277.7667415 ,   101521.38150687,\n",
       "          57597.87637962,    45570.60826555,    12688.99984307,\n",
       "          11775.08042739,     7258.86488734,     4503.99445001,\n",
       "          25060.63615667,    54382.69952974,    49403.78981009,\n",
       "         174596.89343179,   156248.63398537,   120852.70945852,\n",
       "          13499.38559599,     9345.20879988,   270506.06087317,\n",
       "          53072.46511189,    14214.01571788,     7906.21882302,\n",
       "           4814.68529712,     8342.79924806,    14381.67815014,\n",
       "           9954.08665162,    10798.75843925,     9250.08618361,\n",
       "           3126.49996803,     6084.94857868,     3164.58948178,\n",
       "          12855.99242637,    11490.72513546,    11578.88960796,\n",
       "           9861.36912344,     7659.78137669,     8211.3022774 ,\n",
       "          33050.7542508 ,   298462.18609938,   475053.83517351,\n",
       "         145018.99097671,    56760.46053681,    10305.03564699,\n",
       "          45453.69022789,   368558.62867356,    64275.99406307,\n",
       "         290028.05575109,    79199.65720808,    18598.97191607,\n",
       "          12611.72888816,   196730.46201699,     3523.93090132,\n",
       "          22806.91043371,   201030.59565207,    46864.9848482 ,\n",
       "          38482.70138319,    26498.35587914,   175756.09035055,\n",
       "          62135.86538844,    14604.04787409,    18415.11141775,\n",
       "          17142.79955798,    31960.17164936,    81813.86932026,\n",
       "          52709.77033605,    20426.46201085,    82442.90466765,\n",
       "          11932.83817981,    49875.48343956,    67233.46521949,\n",
       "          10158.61497763,     8026.10354698,    78607.55277284,\n",
       "          78528.51312173,    40374.02849409,    48811.57782025,\n",
       "          18592.19337373,    64547.83742553,    41379.19786283,\n",
       "          49143.06368943,    59448.99768012,    54344.07066339,\n",
       "           6508.34931991,    70162.91891121,    37389.80268343,\n",
       "          52983.25446822,     4119.42279692,    27705.04831395,\n",
       "          20042.63511843,    12449.50805367,     6576.3813036 ,\n",
       "          19040.44719861,    13355.06563985,    48231.47311959,\n",
       "          15081.45701308,    34479.49374298,    62659.51735132,\n",
       "           3340.58281677,    19041.77446061,    12688.5436367 ,\n",
       "          26028.52323232,     5351.5339086 ,    14210.83493544,\n",
       "          22670.6748379 ,    12485.54398972,    13485.31575245,\n",
       "           9479.24740481,    33264.01952658,    33304.86081972,\n",
       "          36098.24703209,    24895.29900764,    12700.02445683,\n",
       "          56912.98577297,    22338.08529094,    10877.01015513,\n",
       "          29444.61455325,    62235.85306477,    45910.96181105,\n",
       "          36232.08335767,    31096.04074969,    43763.8844256 ,\n",
       "          59121.86425257,    35067.40484247,    34170.33668671,\n",
       "          20614.97609898,    27645.84769412,    19215.34998719,\n",
       "          29369.18803351,    13781.10832869,    25345.65893354,\n",
       "          10521.66744558,    72853.05939208,    34849.95905928,\n",
       "          16221.7624466 ,     7622.75922922,    71335.6211776 ,\n",
       "         270079.29156771,    26333.98346931,    58734.11703939,\n",
       "          13349.41832152,     7235.91215962,    12503.98731062,\n",
       "          30154.31576238,    27823.98414219,    18543.7338355 ,\n",
       "          25159.7908933 ,    30442.85734395,    48884.06873149,\n",
       "          26103.31711203,    15630.38827015,    23175.6607982 ,\n",
       "          10392.83721693,   253747.63839693,    17494.06621815,\n",
       "          25276.66474684,    36938.33835275,   195687.45926094,\n",
       "           3972.57264565,    28175.56144967,    20356.54934276,\n",
       "          35633.71511594,     9431.35059357,    22417.12980778,\n",
       "          53342.19046093,     9074.24068495,    38319.85975086,\n",
       "          12409.98107619,    21215.28286257,     6984.81972513,\n",
       "          37640.8312563 ,    28836.68887045,    29344.12162249,\n",
       "          11438.1828445 ,    74570.38530209,    39083.09138983,\n",
       "           8919.97923615,    13709.46100516,     7210.24125747,\n",
       "           9832.13051924,    51885.65876909,     7038.69640393,\n",
       "          37791.57662882,    20005.11372213,    31014.11055096,\n",
       "          24003.44450356,    23375.9203539 ,    27707.64041333,\n",
       "          59887.58186517,     9637.8133366 ,    19827.76194064,\n",
       "          15255.35690404,    11818.84072198,    21001.34495859,\n",
       "          11186.67134432,    28113.87870888,     9708.29719807,\n",
       "          20892.84962483,   108490.54935743,    20191.38174304,\n",
       "           8166.7551714 ,    30670.74503146,    26808.21207802,\n",
       "          55881.69589202,    22402.41536964,    99700.09225785,\n",
       "          11007.15607086,    17411.68343028,     4428.45993059,\n",
       "         324640.6347261 ,     5142.73209653,    12323.97014344,\n",
       "          32359.24734397,     8579.67950882,     3963.19239982,\n",
       "           4265.79354275,    71419.90138983,    40290.35579775,\n",
       "          43866.11028528,    27991.8982188 ,    21665.62290274,\n",
       "          45367.47765797,    35931.38697305,    56134.72858877,\n",
       "          14336.63342982,     6975.94595236,    28253.96076638,\n",
       "          52006.5496057 ,    10229.95334493,     8931.00687211,\n",
       "          11380.83464568,    16944.34321106,    24991.0743437 ,\n",
       "          34614.57948967,     3411.24329384,    34004.29734942,\n",
       "          24274.79051309,    26804.43422221,     9401.03962869,\n",
       "          11396.84920528,    20778.08112326,     7015.27847318,\n",
       "          27233.39377795,    56922.6450485 ,    39416.3789295 ,\n",
       "          11207.0860961 ,    30014.25116664,    12771.30389325,\n",
       "          25329.58981471,    67502.04226659,    21510.90985001,\n",
       "           9057.44877503,    31642.04911557,    21645.58460369,\n",
       "          26474.46045871,    55123.5548927 ,     8436.32260377,\n",
       "          17533.65235881,    19165.37569428,    24449.37351493,\n",
       "          45619.25726927,    17102.67622777,     8470.74271461,\n",
       "          32720.20957281,    14621.823987  ,    16320.59146416,\n",
       "           4872.32414854,    15139.02433236,     6126.36238542,\n",
       "          22710.19230624,    73003.35175382,    22495.45095933,\n",
       "          17006.57129375,     6110.60443092,     8963.34826021,\n",
       "          19237.80194463,    17928.30959399,    17404.56310126,\n",
       "          17870.46858838,    29575.68063338,    11400.78526641,\n",
       "          11392.15549958,    43521.21681256,    29155.44717937,\n",
       "           8317.74478851,    20527.35377073,    24250.31494198,\n",
       "          11149.72325061,     9538.46232714,    15097.63476654,\n",
       "          41927.05192663,    25972.67102279,    28861.82593843,\n",
       "          30838.09241701,     8732.95819322,     9714.02712142,\n",
       "          29479.19103207,    18810.02902077,    25386.44841793,\n",
       "          10714.77034509,     9038.66818655,   213984.5307525 ,\n",
       "          10087.85165327,     4585.54078138,    19920.61800674,\n",
       "           9086.87398045,     4905.30100188,    16576.19836096,\n",
       "           7439.65114617,    28086.75717389,    24502.4164721 ,\n",
       "          30419.68877097,    12192.49881989,    23590.13791966,\n",
       "           9481.59359481,    13997.60183396,    10337.55077726,\n",
       "          29644.31538139,     7042.53437099,     7296.59131085,\n",
       "          19201.10765089,    10169.92321639,    26378.14773856,\n",
       "          17927.67336647,    13151.86264554,    12655.69155609,\n",
       "          16294.82425402,    27246.43011211,     8394.32326364,\n",
       "          12753.15283535,    78247.72655612,    36701.11811777,\n",
       "          14512.90508715,    12774.90423436,    34376.0296994 ,\n",
       "          38495.74037418,     9180.92126081,    17148.57410167,\n",
       "           3981.46487551,    29892.73901362,    16715.34881167,\n",
       "          10067.84133574,    28421.8633772 ,    19796.58854818,\n",
       "           8269.60366814,    15492.6927578 ,     6071.13141448,\n",
       "          19424.05234529,    14751.00651403,    13480.69953512,\n",
       "          37130.49506249,    13667.76335668,    73383.79812474,\n",
       "          20880.13388715,    16250.82545132,    24244.96562356,\n",
       "          36628.84524834,     8627.85987882,     7106.377032  ,\n",
       "          19228.08599161,    48576.14842901,     6370.6818861 ,\n",
       "          11499.83163958,    22441.78878267,     2549.39753772,\n",
       "          12254.74659783,    39551.56149264,     7046.39943016,\n",
       "          14190.72073352,    10858.21359074,    33341.15906762,\n",
       "          12303.78604544,    28630.90936385,     3796.5782692 ,\n",
       "          11003.20530064,    18325.69787311,    22726.02574128,\n",
       "          11059.4201687 ,     6715.57779612,    15147.41539369,\n",
       "          23570.83131294,    11570.86895295,    48393.31859255,\n",
       "         151936.85328975,    19395.07022269,    12691.24819065,\n",
       "          10314.94015355,     9466.67296045,    23105.83856467,\n",
       "          10375.02643901,     6281.26609313,     4353.82705737,\n",
       "          27009.88005863,     3709.13870899,     5015.6655357 ,\n",
       "          21324.52163316,    18509.36679274,    11325.88447635,\n",
       "           2633.74321988,     3970.24781278,     1904.9215428 ,\n",
       "           6401.46462584,     5600.79236647,     9304.5679926 ,\n",
       "           6933.77821016,     3534.56576498,     3153.68456664,\n",
       "           7221.19846295,     5139.03597224,     5386.42996275,\n",
       "           8480.56529936,     3971.86833954,     5438.26599179,\n",
       "          11929.36976942,     6942.07368921,     6719.339852  ,\n",
       "           9268.81693719,     7949.58606621,     3147.6220524 ,\n",
       "           6801.70547296,     4445.72952992,     8826.87142302,\n",
       "          15247.42377175,     6507.42695924,     5560.94157095,\n",
       "           6668.55565531,     6478.13402332,     3152.94121794,\n",
       "           2619.51922942,    39091.90057125,     4239.75429714,\n",
       "           9310.07117359,     4195.99537493,     8002.58612721,\n",
       "          10996.91210371,     6375.17623274,     5270.68928019,\n",
       "          10068.04178662,     9672.13804108,    12779.62836652,\n",
       "           7827.0500996 ,     3785.86044484,     7491.55088331,\n",
       "          15849.88724798,    13104.8014849 ,     5551.18895693,\n",
       "           7963.51740428,     8347.75232231,    11066.05163697,\n",
       "           5957.06572378,    24275.96028171,    10268.28293868,\n",
       "          11936.22431276,     3677.62570382,    10326.64499823,\n",
       "           9687.98678517,     5931.13617853,     5081.71644086,\n",
       "           7520.17442394,    33283.59828657,    35209.44469741,\n",
       "          20319.49504979,     7805.73559895,     9793.57249889,\n",
       "           9744.44403677,     9985.8642037 ,    20103.64111034,\n",
       "          12926.71605266,    75198.4996314 ,     6821.54150767,\n",
       "           1718.27661434,     4711.96965643,     3389.03175871,\n",
       "           9020.96695818,     7272.29227456,     9625.09896056,\n",
       "          15657.43262511,    19315.83793801,     3949.36730332,\n",
       "           1180.98861303,     6063.30603983,    14028.19246225,\n",
       "           4784.16061983,    12933.12281694,     7320.97605067,\n",
       "           3968.35085222,     3871.17178683,    37630.65134564,\n",
       "           4465.21165802,     5503.89441761,     6559.98833401,\n",
       "           5365.91205579,     8250.87634584,    14003.11563774,\n",
       "           5606.96027173,    12439.55449971,     7393.90802145,\n",
       "           4577.06882153,    13649.34778929,    34751.68555525,\n",
       "           5766.89189085,     4352.14360686,    20976.35133893,\n",
       "           7950.85019818,    48301.8772846 ,    39786.50786382,\n",
       "          22791.72026372,     7926.60347229,     9398.94096117,\n",
       "           6030.33178235,     7280.79337313,    10185.75939078,\n",
       "           9854.60820604,    22369.46196769,     4433.61779316,\n",
       "          11363.98955989,     3600.64046179,     2519.72600852,\n",
       "           9642.09022249,    37323.69902668,    17596.40543159,\n",
       "          10398.85744405,    16521.5526336 ,    28806.27966264,\n",
       "           3095.86814935,    11326.24602373,    46441.37595645,\n",
       "           5040.91463917,    28233.83205555,     7797.95962156,\n",
       "           9899.33729312,     9758.47850418,     8472.01146974,\n",
       "           4485.68970978,    17091.73129745,     5141.99729391,\n",
       "          22047.81820124,    23826.3196224 ,     7792.30646661,\n",
       "           5589.02807536,    82302.30153706,    38106.98243545,\n",
       "          10459.72501034,     7745.69751114,     4618.73377774,\n",
       "          12752.16343809,    36222.69651314,     4208.23032435,\n",
       "           3191.57822827,    10976.04208355,    18025.34927848,\n",
       "           3165.58261008,     3699.60273664,    10903.60878001,\n",
       "           5905.90165663,     8025.24909279,    10288.98995619,\n",
       "          31249.7589386 ,     4116.53731881,    24867.9782155 ,\n",
       "          10721.33966067,    12476.95302961,    26291.90230873,\n",
       "           3278.79012148,     2639.06529028,     5562.41020188,\n",
       "           7521.741269  ,     5191.50560305,    42141.18066437,\n",
       "          12451.44674205,    22257.70174669,    11901.64333506,\n",
       "          20449.15206749,    10530.07025632,    26973.80327758,\n",
       "          11248.27236115,     9539.18075224,     4424.7945434 ,\n",
       "           2768.84758011,    13927.86570286,    23433.58348403,\n",
       "           9115.25291611,     4002.74896236,    18438.72334827,\n",
       "         995507.60230542,     1892.64652629,     8430.35314317,\n",
       "          11174.36415973,    27132.9834533 ,     7198.0648547 ,\n",
       "           8431.55145515,     9339.1881734 ,    17709.98807546,\n",
       "           3287.83803051,    12019.84509308,     3683.73447018,\n",
       "           7281.59880926,     5602.80357718,    21340.52244156,\n",
       "          15853.31945143,    12599.01077174,     4841.19125745,\n",
       "          10071.43786144,     4470.99515297,     9906.8289673 ,\n",
       "          24339.53214623,    29609.05279359,     7551.18228077,\n",
       "          47063.72761023,     3592.58180325,     8243.21998545,\n",
       "          24404.82703278,    16668.0314092 ,     6027.57668587,\n",
       "          14263.10940118,    29181.37796757,     9411.22622028,\n",
       "           5907.69530309,    25026.58289471,    19984.14759204,\n",
       "          14352.69669275,     7801.79325452,     3487.89073579,\n",
       "          10484.78064078,     5065.40187178,    11533.91019461,\n",
       "          16364.21044011,    14669.20836213,     2116.53735405,\n",
       "           4014.28102653,     5953.99912517,     5547.93107052,\n",
       "           2483.59279438,     2069.73521979,     1591.2012584 ,\n",
       "          12142.3267512 ,    38837.22434363,     9627.46293627,\n",
       "          14166.89194404,    21480.00243022,     9938.14883427,\n",
       "           6452.90144583,     9007.88716905,     7498.60736342,\n",
       "          14102.46140694,    30589.95397492,    51552.52175575,\n",
       "          10532.82836352,    88428.72550149,     7089.55333901,\n",
       "          29517.93621717,     6386.98201513,    29315.38727943,\n",
       "           6573.76462336,     8762.50438926,    23107.90409171,\n",
       "           9947.58971487,    21326.56313312,    54821.39957721,\n",
       "          13871.63008097,     5687.11497955,    42414.77911319,\n",
       "          16989.77842262,    17812.3772292 ,    29522.19347183,\n",
       "          17051.83036505,    14697.70972958,    10619.22200382,\n",
       "           1256.29501661,     9917.69396715,     3482.01307572,\n",
       "           4346.83592404,    15247.95759634,    12096.65650539,\n",
       "          31125.02878639,     6686.18230235,    11606.48351192,\n",
       "          12660.06548801,    35062.57943735,    28557.9137772 ,\n",
       "           7122.87213593,    12056.63266544,    22687.91950174,\n",
       "           6298.42791424,    56288.37128607,     4335.04901962,\n",
       "           9442.43862381,    34087.98818961,     7887.78669181,\n",
       "          25112.77594039,     9991.08887898,     9256.14329299,\n",
       "           8282.75495664,    37124.0605252 ,    10547.15567966,\n",
       "           3501.95574478,     4579.85250506,    18446.8186401 ])"
      ]
     },
     "execution_count": 72,
     "metadata": {},
     "output_type": "execute_result"
    }
   ],
   "source": [
    "# here are the predicted 2016 annual totals, by store, according to our model\n",
    "\n",
    "predictions2016"
   ]
  },
  {
   "cell_type": "code",
   "execution_count": 73,
   "metadata": {
    "collapsed": false
   },
   "outputs": [
    {
     "name": "stdout",
     "output_type": "stream",
     "text": [
      "2015 State total (dollars):          31290903.9772\n",
      "2016 State total (projected dollars) 31236871.3024\n"
     ]
    }
   ],
   "source": [
    "print '2015 State total (dollars):          %s' %sum(predictions2016)\n",
    "print '2016 State total (projected dollars) %s' %sum(nicer_sales['total_2015'])"
   ]
  },
  {
   "cell_type": "code",
   "execution_count": 74,
   "metadata": {
    "collapsed": false
   },
   "outputs": [
    {
     "name": "stdout",
     "output_type": "stream",
     "text": [
      "Score: 0.993540056482\n"
     ]
    },
    {
     "data": {
      "image/png": "[encoded data removed]",
      "text/plain": [
       "<matplotlib.figure.Figure at 0x119cf4f90>"
      ]
     },
     "metadata": {},
     "output_type": "display_data"
    }
   ],
   "source": [
    "plt.figure(figsize=(12,8))\n",
    "plt.style.use('fivethirtyeight')\n",
    "plt.scatter(nicer_sales['total_2015'], predictions2016, color = 'purple', s = 10)\n",
    "plt.xlabel(\"2015 Sales by Store\")\n",
    "plt.ylabel(\"Predicted 2016 Sales by Store\")\n",
    "plt.xlim([-15000, 1350000])\n",
    "plt.ylim([-15000, 1350000])\n",
    "plt.title('Predicted 2016 Sales vs. 2015 Sales')\n",
    "plt.plot([my_y.min(), my_y.max()], [my_y.min(), my_y.max()], 'k--', lw=0.5, color = 'green')\n",
    "print \"Score:\", model.score(X_test, y_test) \n",
    "plt.show()"
   ]
  },
  {
   "cell_type": "markdown",
   "metadata": {
    "collapsed": false
   },
   "source": [
    "As we can see from the scatterplot, 2016 total sales by store are not expected to differ dramatically from 2015 total sales by store when taking into account first quarter sales, total sales through first quarter 2016, and volume of alcohol sold through first quarter 2016.  Any taxation adjustments should be made while keeping this in mind."
   ]
  },
  {
   "cell_type": "code",
   "execution_count": null,
   "metadata": {
    "collapsed": true
   },
   "outputs": [],
   "source": [
    "# do regularized (lasso - L1) regression\n",
    "\n",
    "lasso = linear_model.Lasso(alpha=1)\n",
    "lasso_model = lasso.fit(my_X, my_y)\n",
    "\n",
    "print 'REGULARIZED (LASSO - L1) REGRESSION'\n",
    "lasso_r2 =  r2_score(y_true=my_y, y_pred=lasso_model.predict(my_X))\n",
    "print 'Lasso r^2: %s' %lasso_r2\n",
    "print 'Lassoed betas: %s' %lasso_model.coef_\n",
    "mab_lasso = abs(lasso_model.coef_).mean()\n",
    "print 'Lassoed mean abs. val. of coeffs: %s' %mab_lasso"
   ]
  }
 ],
 "metadata": {
  "kernelspec": {
   "display_name": "Python 2",
   "language": "python",
   "name": "python2"
  },
  "language_info": {
   "codemirror_mode": {
    "name": "ipython",
    "version": 2
   },
   "file_extension": ".py",
   "mimetype": "text/x-python",
   "name": "python",
   "nbconvert_exporter": "python",
   "pygments_lexer": "ipython2",
   "version": "2.7.12"
  }
 },
 "nbformat": 4,
 "nbformat_minor": 0
}
