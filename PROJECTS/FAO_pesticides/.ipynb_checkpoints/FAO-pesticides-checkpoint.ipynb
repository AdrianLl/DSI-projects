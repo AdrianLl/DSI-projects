{
 "cells": [
  {
   "cell_type": "code",
   "execution_count": 57,
   "metadata": {
    "collapsed": true
   },
   "outputs": [],
   "source": [
    "import pandas as pd\n",
    "import numpy as np\n",
    "from matplotlib import pyplot as plt\n",
    "from matplotlib import cm\n",
    "%matplotlib inline\n",
    "import seaborn as sns"
   ]
  },
  {
   "cell_type": "code",
   "execution_count": 31,
   "metadata": {
    "collapsed": true
   },
   "outputs": [],
   "source": [
    "df = pd.read_csv('assets/FAOSTAT_data.csv')"
   ]
  },
  {
   "cell_type": "code",
   "execution_count": 32,
   "metadata": {
    "collapsed": false
   },
   "outputs": [
    {
     "data": {
      "text/html": [
       "<div>\n",
       "<table border=\"1\" class=\"dataframe\">\n",
       "  <thead>\n",
       "    <tr style=\"text-align: right;\">\n",
       "      <th></th>\n",
       "      <th>Domain Code</th>\n",
       "      <th>Domain</th>\n",
       "      <th>Area Code</th>\n",
       "      <th>Area</th>\n",
       "      <th>Element Code</th>\n",
       "      <th>Element</th>\n",
       "      <th>Item Code</th>\n",
       "      <th>Item</th>\n",
       "      <th>Year Code</th>\n",
       "      <th>Year</th>\n",
       "      <th>Unit</th>\n",
       "      <th>Value</th>\n",
       "      <th>Flag</th>\n",
       "      <th>Flag Description</th>\n",
       "    </tr>\n",
       "  </thead>\n",
       "  <tbody>\n",
       "    <tr>\n",
       "      <th>0</th>\n",
       "      <td>RT</td>\n",
       "      <td>Pesticides (trade)</td>\n",
       "      <td>2</td>\n",
       "      <td>Afghanistan</td>\n",
       "      <td>5622</td>\n",
       "      <td>Import Value</td>\n",
       "      <td>1357</td>\n",
       "      <td>Pesticides</td>\n",
       "      <td>1971</td>\n",
       "      <td>1971</td>\n",
       "      <td>1000 US$</td>\n",
       "      <td>6.0</td>\n",
       "      <td>F</td>\n",
       "      <td>FAO estimate</td>\n",
       "    </tr>\n",
       "    <tr>\n",
       "      <th>1</th>\n",
       "      <td>RT</td>\n",
       "      <td>Pesticides (trade)</td>\n",
       "      <td>2</td>\n",
       "      <td>Afghanistan</td>\n",
       "      <td>5622</td>\n",
       "      <td>Import Value</td>\n",
       "      <td>1357</td>\n",
       "      <td>Pesticides</td>\n",
       "      <td>1972</td>\n",
       "      <td>1972</td>\n",
       "      <td>1000 US$</td>\n",
       "      <td>6.0</td>\n",
       "      <td>F</td>\n",
       "      <td>FAO estimate</td>\n",
       "    </tr>\n",
       "  </tbody>\n",
       "</table>\n",
       "</div>"
      ],
      "text/plain": [
       "  Domain Code              Domain  Area Code         Area  Element Code  \\\n",
       "0          RT  Pesticides (trade)          2  Afghanistan          5622   \n",
       "1          RT  Pesticides (trade)          2  Afghanistan          5622   \n",
       "\n",
       "        Element  Item Code        Item  Year Code  Year      Unit  Value Flag  \\\n",
       "0  Import Value       1357  Pesticides       1971  1971  1000 US$    6.0    F   \n",
       "1  Import Value       1357  Pesticides       1972  1972  1000 US$    6.0    F   \n",
       "\n",
       "  Flag Description  \n",
       "0     FAO estimate  \n",
       "1     FAO estimate  "
      ]
     },
     "execution_count": 32,
     "metadata": {},
     "output_type": "execute_result"
    }
   ],
   "source": [
    "df.head(2)"
   ]
  },
  {
   "cell_type": "code",
   "execution_count": 33,
   "metadata": {
    "collapsed": false
   },
   "outputs": [
    {
     "data": {
      "text/plain": [
       "RT    35824\n",
       "Name: Domain Code, dtype: int64"
      ]
     },
     "execution_count": 33,
     "metadata": {},
     "output_type": "execute_result"
    }
   ],
   "source": [
    "df['Domain Code'].value_counts()"
   ]
  },
  {
   "cell_type": "code",
   "execution_count": 34,
   "metadata": {
    "collapsed": true
   },
   "outputs": [],
   "source": [
    "del df['Domain Code']"
   ]
  },
  {
   "cell_type": "code",
   "execution_count": 35,
   "metadata": {
    "collapsed": false
   },
   "outputs": [
    {
     "data": {
      "text/plain": [
       "Pesticides (trade)    35824\n",
       "Name: Domain, dtype: int64"
      ]
     },
     "execution_count": 35,
     "metadata": {},
     "output_type": "execute_result"
    }
   ],
   "source": [
    "df['Domain'].value_counts()"
   ]
  },
  {
   "cell_type": "code",
   "execution_count": 36,
   "metadata": {
    "collapsed": true
   },
   "outputs": [],
   "source": [
    "del df['Domain']"
   ]
  },
  {
   "cell_type": "code",
   "execution_count": 37,
   "metadata": {
    "collapsed": false
   },
   "outputs": [
    {
     "name": "stdout",
     "output_type": "stream",
     "text": [
      "5622    21455\n",
      "5922    14369\n",
      "Name: Element Code, dtype: int64\n",
      "Import Value    21455\n",
      "Export Value    14369\n",
      "Name: Element, dtype: int64\n"
     ]
    }
   ],
   "source": [
    "print df['Element Code'].value_counts()\n",
    "print df['Element'].value_counts()"
   ]
  },
  {
   "cell_type": "code",
   "execution_count": 38,
   "metadata": {
    "collapsed": true
   },
   "outputs": [],
   "source": [
    "del df['Element Code']"
   ]
  },
  {
   "cell_type": "code",
   "execution_count": 39,
   "metadata": {
    "collapsed": false
   },
   "outputs": [
    {
     "name": "stdout",
     "output_type": "stream",
     "text": [
      "1357    15582\n",
      "1416     5405\n",
      "1419     5296\n",
      "1418     4791\n",
      "1417     4750\n",
      "Name: Item Code, dtype: int64\n",
      "Pesticides           15582\n",
      "Insecticides          5405\n",
      "Disinfectants,etc     5296\n",
      "Herbicides            4791\n",
      "Fungicides            4750\n",
      "Name: Item, dtype: int64\n"
     ]
    }
   ],
   "source": [
    "print df['Item Code'].value_counts()\n",
    "print df['Item'].value_counts()"
   ]
  },
  {
   "cell_type": "code",
   "execution_count": 40,
   "metadata": {
    "collapsed": true
   },
   "outputs": [],
   "source": [
    "del df['Item Code']"
   ]
  },
  {
   "cell_type": "code",
   "execution_count": 41,
   "metadata": {
    "collapsed": false
   },
   "outputs": [],
   "source": [
    "del df['Year Code']"
   ]
  },
  {
   "cell_type": "code",
   "execution_count": 42,
   "metadata": {
    "collapsed": false
   },
   "outputs": [
    {
     "data": {
      "text/plain": [
       "1000 US$    35824\n",
       "Name: Unit, dtype: int64"
      ]
     },
     "execution_count": 42,
     "metadata": {},
     "output_type": "execute_result"
    }
   ],
   "source": [
    "df['Unit'].value_counts()"
   ]
  },
  {
   "cell_type": "code",
   "execution_count": 43,
   "metadata": {
    "collapsed": true
   },
   "outputs": [],
   "source": [
    "del df['Unit']"
   ]
  },
  {
   "cell_type": "code",
   "execution_count": 44,
   "metadata": {
    "collapsed": false
   },
   "outputs": [
    {
     "name": "stdout",
     "output_type": "stream",
     "text": [
      "W     32955\n",
      "F      2045\n",
      "Fm      777\n",
      "I        46\n",
      "w         1\n",
      "Name: Flag, dtype: int64\n",
      "Data reported on country official publications or web sites (Official) or trade country files                               32956\n",
      "FAO estimate                                                                                                                 2045\n",
      "Manual Estimation                                                                                                             777\n",
      "Country data reported by International Organizations where the country is a member (Semi-official) - WTO, EU, UNSD, etc.       46\n",
      "Name: Flag Description, dtype: int64\n"
     ]
    }
   ],
   "source": [
    "print df['Flag'].value_counts()\n",
    "print df['Flag Description'].value_counts()"
   ]
  },
  {
   "cell_type": "code",
   "execution_count": 45,
   "metadata": {
    "collapsed": true
   },
   "outputs": [],
   "source": [
    "del df['Flag']"
   ]
  },
  {
   "cell_type": "code",
   "execution_count": null,
   "metadata": {
    "collapsed": true
   },
   "outputs": [],
   "source": []
  },
  {
   "cell_type": "code",
   "execution_count": 46,
   "metadata": {
    "collapsed": false
   },
   "outputs": [
    {
     "data": {
      "text/html": [
       "<div>\n",
       "<table border=\"1\" class=\"dataframe\">\n",
       "  <thead>\n",
       "    <tr style=\"text-align: right;\">\n",
       "      <th></th>\n",
       "      <th>Area Code</th>\n",
       "      <th>Area</th>\n",
       "      <th>Element</th>\n",
       "      <th>Item</th>\n",
       "      <th>Year</th>\n",
       "      <th>Value</th>\n",
       "      <th>Flag Description</th>\n",
       "    </tr>\n",
       "  </thead>\n",
       "  <tbody>\n",
       "    <tr>\n",
       "      <th>0</th>\n",
       "      <td>2</td>\n",
       "      <td>Afghanistan</td>\n",
       "      <td>Import Value</td>\n",
       "      <td>Pesticides</td>\n",
       "      <td>1971</td>\n",
       "      <td>6.0</td>\n",
       "      <td>FAO estimate</td>\n",
       "    </tr>\n",
       "    <tr>\n",
       "      <th>1</th>\n",
       "      <td>2</td>\n",
       "      <td>Afghanistan</td>\n",
       "      <td>Import Value</td>\n",
       "      <td>Pesticides</td>\n",
       "      <td>1972</td>\n",
       "      <td>6.0</td>\n",
       "      <td>FAO estimate</td>\n",
       "    </tr>\n",
       "  </tbody>\n",
       "</table>\n",
       "</div>"
      ],
      "text/plain": [
       "   Area Code         Area       Element        Item  Year  Value  \\\n",
       "0          2  Afghanistan  Import Value  Pesticides  1971    6.0   \n",
       "1          2  Afghanistan  Import Value  Pesticides  1972    6.0   \n",
       "\n",
       "  Flag Description  \n",
       "0     FAO estimate  \n",
       "1     FAO estimate  "
      ]
     },
     "execution_count": 46,
     "metadata": {},
     "output_type": "execute_result"
    }
   ],
   "source": [
    "df.head(2)"
   ]
  },
  {
   "cell_type": "code",
   "execution_count": 86,
   "metadata": {
    "collapsed": true
   },
   "outputs": [],
   "source": [
    "df_pest = df[df['Item'] == 'Pesticides']"
   ]
  },
  {
   "cell_type": "code",
   "execution_count": null,
   "metadata": {
    "collapsed": true
   },
   "outputs": [],
   "source": [
    "imp_exp = []\n",
    "for country in set(df_pest['Area']):\n",
    "    for year in range(1961, 2015):\n",
    "        try:\n",
    "            imp = df_pest['Value'][(df_pest['Area'] == 'Area') & (df_pest['Element'] == \\\n",
    "                    \"Import Value\") & (df_pest['Year'] == year)]"
   ]
  },
  {
   "cell_type": "code",
   "execution_count": 48,
   "metadata": {
    "collapsed": false
   },
   "outputs": [],
   "source": [
    "imp = df[df['Element'] == 'Import Value']"
   ]
  },
  {
   "cell_type": "code",
   "execution_count": 52,
   "metadata": {
    "collapsed": true
   },
   "outputs": [],
   "source": [
    "imp_pest = imp[imp['Item'] == 'Pesticides']"
   ]
  },
  {
   "cell_type": "code",
   "execution_count": 61,
   "metadata": {
    "collapsed": true
   },
   "outputs": [],
   "source": [
    "def rand_jitter(arr):\n",
    "    stdev = .005*(max(arr)-min(arr))\n",
    "    return arr + np.random.randn(len(arr)) * stdev\n",
    "\n",
    "def jitter(x, y, s=30, marker='o', cmap=None, norm=None, vmin=None, vmax=None, alpha=None, \\\n",
    "           linewidths=None, verts=None, hold=None, **kwargs):\n",
    "    return plt.scatter(rand_jitter(x), rand_jitter(y), s=s, marker=marker, cmap=cmap, \\\n",
    "           norm=norm, vmin=vmin, vmax=vmax, alpha=0.5, linewidths=linewidths, verts=verts, \\\n",
    "           hold=hold, **kwargs)"
   ]
  },
  {
   "cell_type": "code",
   "execution_count": 85,
   "metadata": {
    "collapsed": false
   },
   "outputs": [
    {
     "name": "stderr",
     "output_type": "stream",
     "text": [
      "/Users/Rebecca/anaconda/lib/python2.7/site-packages/ipykernel/__main__.py:5: SettingWithCopyWarning: \n",
      "A value is trying to be set on a copy of a slice from a DataFrame.\n",
      "Try using .loc[row_indexer,col_indexer] = value instead\n",
      "\n",
      "See the caveats in the documentation: http://pandas.pydata.org/pandas-docs/stable/indexing.html#indexing-view-versus-copy\n"
     ]
    },
    {
     "data": {
      "image/png": "[encoded data removed]",
      "text/plain": [
       "<matplotlib.figure.Figure at 0x113ed3bd0>"
      ]
     },
     "metadata": {},
     "output_type": "display_data"
    }
   ],
   "source": [
    "year_color = []\n",
    "for i in imp_pest['Year']:\n",
    "    lil_color = cm.seismic((i-1961)*256/(2015-1961))\n",
    "    year_color.append(lil_color)   \n",
    "imp_pest['item_color'] = year_color\n",
    "del year_color\n",
    "\n",
    "plt.figure(figsize=(12,8))\n",
    "plt.style.use('fivethirtyeight')\n",
    "\n",
    "s = plt.scatter(rand_jitter(imp_pest['Year']), imp_pest['Value']/1000000, \\\n",
    "                color = imp_pest['item_color'], s = 35, alpha = 0.8)\n",
    "plt.axhline(0, color='black', alpha = 0.6, linewidth = 1)\n",
    "plt.title('FAO', fontsize = 24, y = 1.02)\n",
    "\n",
    "# y label\n",
    "plt.ylabel('Value (millions USD)', fontsize = 18)\n",
    "\n",
    "# x label\n",
    "plt.xlabel('Year', y = 0.1, fontsize = 18)\n",
    "plt.xticks(range(0, 2018, 5), fontsize = 12)\n",
    "\n",
    "plt.xlim([1959, 2017])\n",
    "plt.ylim([0, 4.0])\n",
    "\n",
    "\n",
    "img = plt.imshow(np.array([[1960,2015]]), cmap=\"seismic\", alpha = 0.85)\n",
    "img.set_visible(False)\n",
    "plt.colorbar()\n",
    "\n",
    "\n",
    "plt.show()"
   ]
  },
  {
   "cell_type": "code",
   "execution_count": null,
   "metadata": {
    "collapsed": true
   },
   "outputs": [],
   "source": []
  }
 ],
 "metadata": {
  "kernelspec": {
   "display_name": "Python 2",
   "language": "python",
   "name": "python2"
  },
  "language_info": {
   "codemirror_mode": {
    "name": "ipython",
    "version": 2
   },
   "file_extension": ".py",
   "mimetype": "text/x-python",
   "name": "python",
   "nbconvert_exporter": "python",
   "pygments_lexer": "ipython2",
   "version": "2.7.12"
  }
 },
 "nbformat": 4,
 "nbformat_minor": 0
}
